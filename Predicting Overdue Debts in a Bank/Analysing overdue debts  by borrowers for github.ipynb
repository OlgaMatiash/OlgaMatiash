{
 "cells": [
  {
   "cell_type": "markdown",
   "id": "372dfdad",
   "metadata": {},
   "source": [
    "# Borrowers Reliability Study"
   ]
  },
  {
   "cell_type": "markdown",
   "id": "f427b691",
   "metadata": {},
   "source": [
    "Evaluate the impact of various customer characteristics on loan repayment for the bank's credit department. Analyze client solvency data, address missing values, and handle duplicates. Use pivot tables to assess the relationship between loan repayment, marital status, and the number of children. This information will inform credit scoring models."
   ]
  },
  {
   "cell_type": "markdown",
   "id": "fd7b63f5",
   "metadata": {},
   "source": [
    "## Exploratory Data Analysis"
   ]
  },
  {
   "cell_type": "code",
   "execution_count": 1,
   "id": "cf168ac0",
   "metadata": {},
   "outputs": [],
   "source": [
    "import pandas as pd\n",
    "import matplotlib.pyplot as plt\n",
    "import seaborn as sns"
   ]
  },
  {
   "cell_type": "code",
   "execution_count": 2,
   "id": "738991b2",
   "metadata": {},
   "outputs": [],
   "source": [
    "data=pd.read_csv('/datasets/data.csv')"
   ]
  },
  {
   "cell_type": "code",
   "execution_count": 3,
   "id": "a910011b",
   "metadata": {},
   "outputs": [
    {
     "name": "stdout",
     "output_type": "stream",
     "text": [
      "<class 'pandas.core.frame.DataFrame'>\n",
      "RangeIndex: 21525 entries, 0 to 21524\n",
      "Data columns (total 12 columns):\n",
      " #   Column            Non-Null Count  Dtype  \n",
      "---  ------            --------------  -----  \n",
      " 0   children          21525 non-null  int64  \n",
      " 1   days_employed     19351 non-null  float64\n",
      " 2   dob_years         21525 non-null  int64  \n",
      " 3   education         21525 non-null  object \n",
      " 4   education_id      21525 non-null  int64  \n",
      " 5   family_status     21525 non-null  object \n",
      " 6   family_status_id  21525 non-null  int64  \n",
      " 7   gender            21525 non-null  object \n",
      " 8   income_type       21525 non-null  object \n",
      " 9   debt              21525 non-null  int64  \n",
      " 10  total_income      19351 non-null  float64\n",
      " 11  purpose           21525 non-null  object \n",
      "dtypes: float64(2), int64(5), object(5)\n",
      "memory usage: 2.0+ MB\n"
     ]
    },
    {
     "data": {
      "text/html": [
       "<div>\n",
       "<style scoped>\n",
       "    .dataframe tbody tr th:only-of-type {\n",
       "        vertical-align: middle;\n",
       "    }\n",
       "\n",
       "    .dataframe tbody tr th {\n",
       "        vertical-align: top;\n",
       "    }\n",
       "\n",
       "    .dataframe thead th {\n",
       "        text-align: right;\n",
       "    }\n",
       "</style>\n",
       "<table border=\"1\" class=\"dataframe\">\n",
       "  <thead>\n",
       "    <tr style=\"text-align: right;\">\n",
       "      <th></th>\n",
       "      <th>children</th>\n",
       "      <th>days_employed</th>\n",
       "      <th>dob_years</th>\n",
       "      <th>education</th>\n",
       "      <th>education_id</th>\n",
       "      <th>family_status</th>\n",
       "      <th>family_status_id</th>\n",
       "      <th>gender</th>\n",
       "      <th>income_type</th>\n",
       "      <th>debt</th>\n",
       "      <th>total_income</th>\n",
       "      <th>purpose</th>\n",
       "    </tr>\n",
       "  </thead>\n",
       "  <tbody>\n",
       "    <tr>\n",
       "      <th>0</th>\n",
       "      <td>1</td>\n",
       "      <td>-8437.673028</td>\n",
       "      <td>42</td>\n",
       "      <td>высшее</td>\n",
       "      <td>0</td>\n",
       "      <td>женат / замужем</td>\n",
       "      <td>0</td>\n",
       "      <td>F</td>\n",
       "      <td>сотрудник</td>\n",
       "      <td>0</td>\n",
       "      <td>253875.639453</td>\n",
       "      <td>покупка жилья</td>\n",
       "    </tr>\n",
       "    <tr>\n",
       "      <th>1</th>\n",
       "      <td>1</td>\n",
       "      <td>-4024.803754</td>\n",
       "      <td>36</td>\n",
       "      <td>среднее</td>\n",
       "      <td>1</td>\n",
       "      <td>женат / замужем</td>\n",
       "      <td>0</td>\n",
       "      <td>F</td>\n",
       "      <td>сотрудник</td>\n",
       "      <td>0</td>\n",
       "      <td>112080.014102</td>\n",
       "      <td>приобретение автомобиля</td>\n",
       "    </tr>\n",
       "    <tr>\n",
       "      <th>2</th>\n",
       "      <td>0</td>\n",
       "      <td>-5623.422610</td>\n",
       "      <td>33</td>\n",
       "      <td>Среднее</td>\n",
       "      <td>1</td>\n",
       "      <td>женат / замужем</td>\n",
       "      <td>0</td>\n",
       "      <td>M</td>\n",
       "      <td>сотрудник</td>\n",
       "      <td>0</td>\n",
       "      <td>145885.952297</td>\n",
       "      <td>покупка жилья</td>\n",
       "    </tr>\n",
       "    <tr>\n",
       "      <th>3</th>\n",
       "      <td>3</td>\n",
       "      <td>-4124.747207</td>\n",
       "      <td>32</td>\n",
       "      <td>среднее</td>\n",
       "      <td>1</td>\n",
       "      <td>женат / замужем</td>\n",
       "      <td>0</td>\n",
       "      <td>M</td>\n",
       "      <td>сотрудник</td>\n",
       "      <td>0</td>\n",
       "      <td>267628.550329</td>\n",
       "      <td>дополнительное образование</td>\n",
       "    </tr>\n",
       "    <tr>\n",
       "      <th>4</th>\n",
       "      <td>0</td>\n",
       "      <td>340266.072047</td>\n",
       "      <td>53</td>\n",
       "      <td>среднее</td>\n",
       "      <td>1</td>\n",
       "      <td>гражданский брак</td>\n",
       "      <td>1</td>\n",
       "      <td>F</td>\n",
       "      <td>пенсионер</td>\n",
       "      <td>0</td>\n",
       "      <td>158616.077870</td>\n",
       "      <td>сыграть свадьбу</td>\n",
       "    </tr>\n",
       "    <tr>\n",
       "      <th>5</th>\n",
       "      <td>0</td>\n",
       "      <td>-926.185831</td>\n",
       "      <td>27</td>\n",
       "      <td>высшее</td>\n",
       "      <td>0</td>\n",
       "      <td>гражданский брак</td>\n",
       "      <td>1</td>\n",
       "      <td>M</td>\n",
       "      <td>компаньон</td>\n",
       "      <td>0</td>\n",
       "      <td>255763.565419</td>\n",
       "      <td>покупка жилья</td>\n",
       "    </tr>\n",
       "    <tr>\n",
       "      <th>6</th>\n",
       "      <td>0</td>\n",
       "      <td>-2879.202052</td>\n",
       "      <td>43</td>\n",
       "      <td>высшее</td>\n",
       "      <td>0</td>\n",
       "      <td>женат / замужем</td>\n",
       "      <td>0</td>\n",
       "      <td>F</td>\n",
       "      <td>компаньон</td>\n",
       "      <td>0</td>\n",
       "      <td>240525.971920</td>\n",
       "      <td>операции с жильем</td>\n",
       "    </tr>\n",
       "    <tr>\n",
       "      <th>7</th>\n",
       "      <td>0</td>\n",
       "      <td>-152.779569</td>\n",
       "      <td>50</td>\n",
       "      <td>СРЕДНЕЕ</td>\n",
       "      <td>1</td>\n",
       "      <td>женат / замужем</td>\n",
       "      <td>0</td>\n",
       "      <td>M</td>\n",
       "      <td>сотрудник</td>\n",
       "      <td>0</td>\n",
       "      <td>135823.934197</td>\n",
       "      <td>образование</td>\n",
       "    </tr>\n",
       "    <tr>\n",
       "      <th>8</th>\n",
       "      <td>2</td>\n",
       "      <td>-6929.865299</td>\n",
       "      <td>35</td>\n",
       "      <td>ВЫСШЕЕ</td>\n",
       "      <td>0</td>\n",
       "      <td>гражданский брак</td>\n",
       "      <td>1</td>\n",
       "      <td>F</td>\n",
       "      <td>сотрудник</td>\n",
       "      <td>0</td>\n",
       "      <td>95856.832424</td>\n",
       "      <td>на проведение свадьбы</td>\n",
       "    </tr>\n",
       "    <tr>\n",
       "      <th>9</th>\n",
       "      <td>0</td>\n",
       "      <td>-2188.756445</td>\n",
       "      <td>41</td>\n",
       "      <td>среднее</td>\n",
       "      <td>1</td>\n",
       "      <td>женат / замужем</td>\n",
       "      <td>0</td>\n",
       "      <td>M</td>\n",
       "      <td>сотрудник</td>\n",
       "      <td>0</td>\n",
       "      <td>144425.938277</td>\n",
       "      <td>покупка жилья для семьи</td>\n",
       "    </tr>\n",
       "  </tbody>\n",
       "</table>\n",
       "</div>"
      ],
      "text/plain": [
       "   children  days_employed  dob_years education  education_id  \\\n",
       "0         1   -8437.673028         42    высшее             0   \n",
       "1         1   -4024.803754         36   среднее             1   \n",
       "2         0   -5623.422610         33   Среднее             1   \n",
       "3         3   -4124.747207         32   среднее             1   \n",
       "4         0  340266.072047         53   среднее             1   \n",
       "5         0    -926.185831         27    высшее             0   \n",
       "6         0   -2879.202052         43    высшее             0   \n",
       "7         0    -152.779569         50   СРЕДНЕЕ             1   \n",
       "8         2   -6929.865299         35    ВЫСШЕЕ             0   \n",
       "9         0   -2188.756445         41   среднее             1   \n",
       "\n",
       "      family_status  family_status_id gender income_type  debt   total_income  \\\n",
       "0   женат / замужем                 0      F   сотрудник     0  253875.639453   \n",
       "1   женат / замужем                 0      F   сотрудник     0  112080.014102   \n",
       "2   женат / замужем                 0      M   сотрудник     0  145885.952297   \n",
       "3   женат / замужем                 0      M   сотрудник     0  267628.550329   \n",
       "4  гражданский брак                 1      F   пенсионер     0  158616.077870   \n",
       "5  гражданский брак                 1      M   компаньон     0  255763.565419   \n",
       "6   женат / замужем                 0      F   компаньон     0  240525.971920   \n",
       "7   женат / замужем                 0      M   сотрудник     0  135823.934197   \n",
       "8  гражданский брак                 1      F   сотрудник     0   95856.832424   \n",
       "9   женат / замужем                 0      M   сотрудник     0  144425.938277   \n",
       "\n",
       "                      purpose  \n",
       "0               покупка жилья  \n",
       "1     приобретение автомобиля  \n",
       "2               покупка жилья  \n",
       "3  дополнительное образование  \n",
       "4             сыграть свадьбу  \n",
       "5               покупка жилья  \n",
       "6           операции с жильем  \n",
       "7                 образование  \n",
       "8       на проведение свадьбы  \n",
       "9     покупка жилья для семьи  "
      ]
     },
     "metadata": {},
     "output_type": "display_data"
    }
   ],
   "source": [
    "\n",
    "data.info()\n",
    "display (data.head(10))\n"
   ]
  },
  {
   "cell_type": "code",
   "execution_count": 46,
   "id": "2c11cf56",
   "metadata": {},
   "outputs": [
    {
     "data": {
      "text/plain": [
       "0    19670\n",
       "1     1732\n",
       "Name: debt, dtype: int64"
      ]
     },
     "execution_count": 46,
     "metadata": {},
     "output_type": "execute_result"
    }
   ],
   "source": [
    "data['debt'].value_counts()"
   ]
  },
  {
   "cell_type": "markdown",
   "id": "df1b7e7e",
   "metadata": {},
   "source": [
    "We can see that out of 21 525 clients in the dataset 1 732 are overdue debts which is around 8%"
   ]
  },
  {
   "cell_type": "markdown",
   "id": "6e8ed915",
   "metadata": {},
   "source": [
    "### Replacing outliers and missing values"
   ]
  },
  {
   "cell_type": "code",
   "execution_count": 4,
   "id": "6440381a",
   "metadata": {},
   "outputs": [
    {
     "data": {
      "text/plain": [
       "children            0.000000\n",
       "days_employed       0.100999\n",
       "dob_years           0.000000\n",
       "education           0.000000\n",
       "education_id        0.000000\n",
       "family_status       0.000000\n",
       "family_status_id    0.000000\n",
       "gender              0.000000\n",
       "income_type         0.000000\n",
       "debt                0.000000\n",
       "total_income        0.100999\n",
       "purpose             0.000000\n",
       "dtype: float64"
      ]
     },
     "execution_count": 4,
     "metadata": {},
     "output_type": "execute_result"
    }
   ],
   "source": [
    "data.isna().mean()"
   ]
  },
  {
   "cell_type": "markdown",
   "id": "5549eceb",
   "metadata": {},
   "source": [
    "There are missing values in collumns 'days_employed' and 'total_income'. Lets look closer at these collumns"
   ]
  },
  {
   "cell_type": "code",
   "execution_count": 5,
   "id": "018a7927",
   "metadata": {},
   "outputs": [
    {
     "data": {
      "text/plain": [
       "count     19351.000000\n",
       "mean      63046.497661\n",
       "std      140827.311974\n",
       "min      -18388.949901\n",
       "25%       -2747.423625\n",
       "50%       -1203.369529\n",
       "75%        -291.095954\n",
       "max      401755.400475\n",
       "Name: days_employed, dtype: float64"
      ]
     },
     "execution_count": 5,
     "metadata": {},
     "output_type": "execute_result"
    }
   ],
   "source": [
    "data['days_employed'].describe()"
   ]
  },
  {
   "cell_type": "markdown",
   "id": "6542bc00",
   "metadata": {},
   "source": [
    "It appears that the 'days_employed' column represents some measure of employment duration, but there are negative values (e.g., min and percentiles) which might need further investigation to ensure data accuracy. Additionally, the maximum value seems unusually large, indicating potential outliers. Further analysis and data cleansing may be necessary before using this data for any analysis or visualization."
   ]
  },
  {
   "cell_type": "code",
   "execution_count": 6,
   "id": "293ef2b2",
   "metadata": {},
   "outputs": [],
   "source": [
    "negative_days_employed_data = data[data['days_employed'] < 0]"
   ]
  },
  {
   "cell_type": "code",
   "execution_count": 7,
   "id": "14b28140",
   "metadata": {},
   "outputs": [
    {
     "data": {
      "text/plain": [
       "15906"
      ]
     },
     "execution_count": 7,
     "metadata": {},
     "output_type": "execute_result"
    }
   ],
   "source": [
    " negative_days_employed_data.shape[0]"
   ]
  },
  {
   "cell_type": "code",
   "execution_count": 8,
   "id": "53796c6c",
   "metadata": {},
   "outputs": [
    {
     "data": {
      "text/plain": [
       "0.7389547038327526"
      ]
     },
     "execution_count": 8,
     "metadata": {},
     "output_type": "execute_result"
    }
   ],
   "source": [
    "negative_days_employed_data.shape[0]/data.shape[0]"
   ]
  },
  {
   "cell_type": "markdown",
   "id": "03358f9f",
   "metadata": {},
   "source": [
    "Out of 19 351 lines of information with days emplyed 15 906 lines are negative, which is almost 74%. We can not remove all of them, beacuse its significant amount of data, so lets assume that it was an iput mistake and replace all negative with the same positive.    "
   ]
  },
  {
   "cell_type": "code",
   "execution_count": 9,
   "id": "2dd0b68b",
   "metadata": {},
   "outputs": [],
   "source": [
    "data['days_employed'] = data['days_employed'].abs()"
   ]
  },
  {
   "cell_type": "code",
   "execution_count": 10,
   "id": "7a566799",
   "metadata": {},
   "outputs": [
    {
     "data": {
      "text/plain": [
       "count     19351.000000\n",
       "mean      66914.728907\n",
       "std      139030.880527\n",
       "min          24.141633\n",
       "25%         927.009265\n",
       "50%        2194.220567\n",
       "75%        5537.882441\n",
       "max      401755.400475\n",
       "Name: days_employed, dtype: float64"
      ]
     },
     "execution_count": 10,
     "metadata": {},
     "output_type": "execute_result"
    }
   ],
   "source": [
    "data['days_employed'].describe()"
   ]
  },
  {
   "cell_type": "code",
   "execution_count": 11,
   "id": "5908a817",
   "metadata": {},
   "outputs": [
    {
     "data": {
      "image/png": "[encoded data removed]",
      "text/plain": [
       "<Figure size 432x288 with 1 Axes>"
      ]
     },
     "metadata": {
      "needs_background": "light"
     },
     "output_type": "display_data"
    }
   ],
   "source": [
    "import seaborn as sns\n",
    "import matplotlib.pyplot as plt\n",
    "\n",
    "# Assuming 'data' is your DataFrame\n",
    "sns.boxplot(x=data['days_employed'])\n",
    "plt.xlabel('Days Employed')\n",
    "plt.ylabel('Value')\n",
    "plt.title('Boxplot of Days Employed')\n",
    "plt.show()"
   ]
  },
  {
   "cell_type": "markdown",
   "id": "cea7b3e6",
   "metadata": {},
   "source": [
    "We can see that there are outliers. Days above 300000 are not reasonable. Lets see the share of outliers "
   ]
  },
  {
   "cell_type": "code",
   "execution_count": 13,
   "id": "beaa5926",
   "metadata": {},
   "outputs": [
    {
     "name": "stdout",
     "output_type": "stream",
     "text": [
      "2194.220566878695\n"
     ]
    }
   ],
   "source": [
    "days_employed_median_value=data['days_employed'].median()\n",
    "print(days_employed_median_value)"
   ]
  },
  {
   "cell_type": "markdown",
   "id": "758a0aec",
   "metadata": {},
   "source": [
    "Lets assume that outliers are all values above 30 000 days and replace them with meadian value"
   ]
  },
  {
   "cell_type": "code",
   "execution_count": 14,
   "id": "25514078",
   "metadata": {},
   "outputs": [],
   "source": [
    "outliers = data[data['days_employed'] > 30000]\n"
   ]
  },
  {
   "cell_type": "code",
   "execution_count": 15,
   "id": "d66bf45f",
   "metadata": {},
   "outputs": [],
   "source": [
    "data.loc[outliers.index, 'days_employed'] =days_employed_median_value"
   ]
  },
  {
   "cell_type": "code",
   "execution_count": 16,
   "id": "e9821462",
   "metadata": {},
   "outputs": [
    {
     "data": {
      "text/plain": [
       "count    19351.000000\n",
       "mean      2324.746073\n",
       "std       2089.961651\n",
       "min         24.141633\n",
       "25%        927.009265\n",
       "50%       2194.220567\n",
       "75%       2747.423625\n",
       "max      18388.949901\n",
       "Name: days_employed, dtype: float64"
      ]
     },
     "execution_count": 16,
     "metadata": {},
     "output_type": "execute_result"
    }
   ],
   "source": [
    "data['days_employed'].describe()"
   ]
  },
  {
   "cell_type": "code",
   "execution_count": 17,
   "id": "5446bd3f",
   "metadata": {},
   "outputs": [
    {
     "data": {
      "image/png": "[encoded data removed]",
      "text/plain": [
       "<Figure size 432x288 with 1 Axes>"
      ]
     },
     "metadata": {
      "needs_background": "light"
     },
     "output_type": "display_data"
    }
   ],
   "source": [
    "import seaborn as sns\n",
    "import matplotlib.pyplot as plt\n",
    "\n",
    "# Assuming 'data' is your DataFrame\n",
    "sns.boxplot(x=data['days_employed'])\n",
    "plt.xlabel('Days Employed')\n",
    "plt.ylabel('Value')\n",
    "plt.title('Boxplot of Days Employed')\n",
    "plt.show()"
   ]
  },
  {
   "cell_type": "code",
   "execution_count": 18,
   "id": "78a6c809",
   "metadata": {},
   "outputs": [
    {
     "data": {
      "image/png": "[encoded data removed]",
      "text/plain": [
       "<Figure size 432x288 with 1 Axes>"
      ]
     },
     "metadata": {
      "needs_background": "light"
     },
     "output_type": "display_data"
    }
   ],
   "source": [
    "data['days_employed'].hist(bins=30)  \n",
    "plt.xlabel('Days Employed')\n",
    "plt.ylabel('Frequency')\n",
    "plt.title('Distribution of Days Employed')\n",
    "plt.legend(['Days Employed'])\n",
    "plt.show()"
   ]
  },
  {
   "cell_type": "markdown",
   "id": "f00f884b",
   "metadata": {},
   "source": [
    "We can see that most clients have less than 2500 days employed."
   ]
  },
  {
   "cell_type": "markdown",
   "id": "c83f2c62",
   "metadata": {},
   "source": [
    "Lets replace missing values in days_employed and total_income with median"
   ]
  },
  {
   "cell_type": "code",
   "execution_count": 19,
   "id": "4b8cc3e7",
   "metadata": {},
   "outputs": [],
   "source": [
    "data['days_employed'].fillna(days_employed_median_value, inplace=True)"
   ]
  },
  {
   "cell_type": "code",
   "execution_count": 20,
   "id": "70c5f7ea",
   "metadata": {},
   "outputs": [
    {
     "name": "stdout",
     "output_type": "stream",
     "text": [
      "145017.93753253992\n"
     ]
    }
   ],
   "source": [
    "total_income_median_value=data['total_income'].median()\n",
    "print(total_income_median_value)"
   ]
  },
  {
   "cell_type": "code",
   "execution_count": 21,
   "id": "74c4543f",
   "metadata": {},
   "outputs": [],
   "source": [
    "data['total_income'].fillna(total_income_median_value, inplace=True)"
   ]
  },
  {
   "cell_type": "markdown",
   "id": "4727884a",
   "metadata": {},
   "source": [
    "Let's analyze anomalies in columns with categorical variables.\n",
    "Categorical columns include: children, education, education_id, family_status, family_status_id, gender, income_type, debt, purpose"
   ]
  },
  {
   "cell_type": "code",
   "execution_count": 22,
   "id": "01fff5bb",
   "metadata": {},
   "outputs": [
    {
     "name": "stdout",
     "output_type": "stream",
     "text": [
      "children [ 1  0  3  2 -1  4 20  5]\n"
     ]
    }
   ],
   "source": [
    "print('children', data['children'].unique())"
   ]
  },
  {
   "cell_type": "markdown",
   "id": "faacc2a7",
   "metadata": {},
   "source": [
    "Found anomalies: -1, 20"
   ]
  },
  {
   "cell_type": "markdown",
   "id": "1870fae5",
   "metadata": {},
   "source": [
    "Lets see how many rows correspond to these anomalies"
   ]
  },
  {
   "cell_type": "code",
   "execution_count": 23,
   "id": "e038118d",
   "metadata": {},
   "outputs": [
    {
     "name": "stdout",
     "output_type": "stream",
     "text": [
      " 0     14149\n",
      " 1      4818\n",
      " 2      2055\n",
      " 3       330\n",
      " 20       76\n",
      "-1        47\n",
      " 4        41\n",
      " 5         9\n",
      "Name: children, dtype: int64\n"
     ]
    }
   ],
   "source": [
    "child_counts = data['children'].value_counts()\n",
    "print(child_counts)"
   ]
  },
  {
   "cell_type": "markdown",
   "id": "582e86b3",
   "metadata": {},
   "source": [
    "As the amount of rows with anomalies is insignificant lets just remove them"
   ]
  },
  {
   "cell_type": "code",
   "execution_count": 24,
   "id": "4e8bfe2c",
   "metadata": {},
   "outputs": [],
   "source": [
    "data = data[(data['children'] != -1) & (data['children'] != 20)]"
   ]
  },
  {
   "cell_type": "code",
   "execution_count": 25,
   "id": "295ffb18",
   "metadata": {},
   "outputs": [
    {
     "name": "stdout",
     "output_type": "stream",
     "text": [
      "education ['высшее' 'среднее' 'Среднее' 'СРЕДНЕЕ' 'ВЫСШЕЕ' 'неоконченное высшее'\n",
      " 'начальное' 'Высшее' 'НЕОКОНЧЕННОЕ ВЫСШЕЕ' 'Неоконченное высшее'\n",
      " 'НАЧАЛЬНОЕ' 'Начальное' 'Ученая степень' 'УЧЕНАЯ СТЕПЕНЬ'\n",
      " 'ученая степень']\n"
     ]
    }
   ],
   "source": [
    "print('education', data['education'].unique())"
   ]
  },
  {
   "cell_type": "markdown",
   "id": "02b8af0a",
   "metadata": {},
   "source": [
    "There are values that are written differently - some in uppercase and some in lowercase. We will convert them to a consistent case."
   ]
  },
  {
   "cell_type": "code",
   "execution_count": 26,
   "id": "bddf59a1",
   "metadata": {},
   "outputs": [
    {
     "name": "stdout",
     "output_type": "stream",
     "text": [
      "education ['высшее' 'среднее' 'неоконченное высшее' 'начальное' 'ученая степень']\n"
     ]
    }
   ],
   "source": [
    "data['education']=data['education'].str.lower()\n",
    "print('education', data['education'].unique())"
   ]
  },
  {
   "cell_type": "code",
   "execution_count": 27,
   "id": "0752c267",
   "metadata": {},
   "outputs": [
    {
     "name": "stdout",
     "output_type": "stream",
     "text": [
      "education_id [0 1 2 3 4]\n"
     ]
    }
   ],
   "source": [
    "print('education_id', data['education_id'].unique())"
   ]
  },
  {
   "cell_type": "code",
   "execution_count": 28,
   "id": "cd07629e",
   "metadata": {},
   "outputs": [
    {
     "name": "stdout",
     "output_type": "stream",
     "text": [
      "family_status ['женат / замужем' 'гражданский брак' 'вдовец / вдова' 'в разводе'\n",
      " 'Не женат / не замужем']\n"
     ]
    }
   ],
   "source": [
    "print('family_status', data['family_status'].unique())"
   ]
  },
  {
   "cell_type": "code",
   "execution_count": 29,
   "id": "f77b1695",
   "metadata": {},
   "outputs": [
    {
     "name": "stdout",
     "output_type": "stream",
     "text": [
      "family_status_id [0 1 2 3 4]\n"
     ]
    }
   ],
   "source": [
    "print('family_status_id', data['family_status_id'].unique())"
   ]
  },
  {
   "cell_type": "code",
   "execution_count": 30,
   "id": "ef57a37b",
   "metadata": {},
   "outputs": [
    {
     "name": "stdout",
     "output_type": "stream",
     "text": [
      "gender ['F' 'M' 'XNA']\n"
     ]
    }
   ],
   "source": [
    "print('gender', data['gender'].unique())"
   ]
  },
  {
   "cell_type": "code",
   "execution_count": 31,
   "id": "5e2b5ccc",
   "metadata": {},
   "outputs": [
    {
     "name": "stdout",
     "output_type": "stream",
     "text": [
      "income_type ['сотрудник' 'пенсионер' 'компаньон' 'госслужащий' 'безработный'\n",
      " 'предприниматель' 'студент' 'в декрете']\n"
     ]
    }
   ],
   "source": [
    "print('income_type', data['income_type'].unique())"
   ]
  },
  {
   "cell_type": "code",
   "execution_count": 32,
   "id": "e3696931",
   "metadata": {},
   "outputs": [
    {
     "name": "stdout",
     "output_type": "stream",
     "text": [
      "debt [0 1]\n"
     ]
    }
   ],
   "source": [
    "print('debt', data['debt'].unique())"
   ]
  },
  {
   "cell_type": "code",
   "execution_count": 33,
   "id": "0279e62f",
   "metadata": {},
   "outputs": [
    {
     "name": "stdout",
     "output_type": "stream",
     "text": [
      "purpose ['автомобили' 'автомобиль' 'высшее образование'\n",
      " 'дополнительное образование' 'жилье' 'заняться высшим образованием'\n",
      " 'заняться образованием' 'на покупку автомобиля'\n",
      " 'на покупку подержанного автомобиля' 'на покупку своего автомобиля'\n",
      " 'на проведение свадьбы' 'недвижимость' 'образование' 'операции с жильем'\n",
      " 'операции с коммерческой недвижимостью' 'операции с недвижимостью'\n",
      " 'операции со своей недвижимостью' 'покупка жилой недвижимости'\n",
      " 'покупка жилья' 'покупка жилья для сдачи' 'покупка жилья для семьи'\n",
      " 'покупка коммерческой недвижимости' 'покупка недвижимости'\n",
      " 'покупка своего жилья' 'получение высшего образования'\n",
      " 'получение дополнительного образования' 'получение образования'\n",
      " 'приобретение автомобиля' 'профильное образование' 'ремонт жилью'\n",
      " 'свадьба' 'свой автомобиль' 'сделка с автомобилем'\n",
      " 'сделка с подержанным автомобилем' 'строительство жилой недвижимости'\n",
      " 'строительство недвижимости' 'строительство собственной недвижимости'\n",
      " 'сыграть свадьбу']\n"
     ]
    }
   ],
   "source": [
    "print('purpose', data['purpose'].sort_values().unique())"
   ]
  },
  {
   "cell_type": "markdown",
   "id": "0557ef81",
   "metadata": {},
   "source": [
    "In this column, there are implicit duplicates. We will remove them in step 1.3\n"
   ]
  },
  {
   "cell_type": "markdown",
   "id": "aa9e8bd6",
   "metadata": {},
   "source": [
    "### Changing Type of Data"
   ]
  },
  {
   "cell_type": "markdown",
   "id": "715ea45c",
   "metadata": {},
   "source": [
    "We will change the data type of the 'total_income' column from float to integer using the astype() method."
   ]
  },
  {
   "cell_type": "code",
   "execution_count": 34,
   "id": "81c70581",
   "metadata": {},
   "outputs": [
    {
     "data": {
      "text/plain": [
       "0        253875\n",
       "1        112080\n",
       "2        145885\n",
       "3        267628\n",
       "4        158616\n",
       "          ...  \n",
       "21520    224791\n",
       "21521    155999\n",
       "21522     89672\n",
       "21523    244093\n",
       "21524     82047\n",
       "Name: total_income, Length: 21402, dtype: int64"
      ]
     },
     "execution_count": 34,
     "metadata": {},
     "output_type": "execute_result"
    }
   ],
   "source": [
    "data['total_income'].astype(int)"
   ]
  },
  {
   "cell_type": "markdown",
   "id": "98e6efac",
   "metadata": {},
   "source": [
    "### Deletion of duplicates"
   ]
  },
  {
   "cell_type": "markdown",
   "id": "cdb713fc",
   "metadata": {},
   "source": [
    "Conclusion: In the 'purpose' column, there are implicit duplicates. For example, 'сыграть свадьбу' (to have a wedding) and 'на проведение свадьбы' (for a wedding ceremony) essentially mean the same thing. The reason for these duplicates could be the absence of specific fixed options in this field during client form filling. As a result, each client might have filled out this field in a free-form manner. We will replace the implicit duplicates with a single value using the replace method and check the unique values in the column after replacing the implicit duplicates.\n",
    "\n",
    "Since the task later requires creating a function to generate a new 'purpose_category' column based on the 'purpose' column data, I will comment out the duplicate replacement, although it worked correctly."
   ]
  },
  {
   "cell_type": "code",
   "execution_count": 35,
   "id": "93b06a92",
   "metadata": {},
   "outputs": [],
   "source": [
    "#data['purpose']=data['purpose'].replace(['сыграть свадьбу','на проведение свадьбы'], 'свадьба')\n",
    "#data['purpose']=data['purpose'].replace(['сделка с автомобилем','свой автомобиль','на покупку автомобиля','на покупку подержанного автомобиля','на покупку своего автомобиля','приобретение автомобиля','сделка с подержанным автомобилем'], 'автомобиль')\n",
    "#data['purpose']=data['purpose'].replace(['высшее образование','дополнительное образование','заняться высшим образованием','заняться образованием','получение высшего образования', 'получение дополнительного образования', 'получение образования', 'профильное образование'] , 'образование')\n",
    "#data['purpose']=data['purpose'].replace(['жилье','операции с жильем','операции с коммерческой недвижимостью','операции с недвижимостью','операции со своей недвижимостью','покупка жилой недвижимости','покупка жилья','покупка жилья для сдачи','покупка жилья для семьи', 'покупка коммерческой недвижимости','покупка недвижимости', 'покупка своего жилья', 'ремонт жилью','строительство жилой недвижимости', 'строительство недвижимости','строительство собственной недвижимости'], 'недвижимость')\n",
    "#print('purpose', data['purpose'].sort_values().unique())"
   ]
  },
  {
   "cell_type": "markdown",
   "id": "fc23a104",
   "metadata": {},
   "source": [
    "### Generating additional DataFrame dictionaries, decomposing the original DataFrame."
   ]
  },
  {
   "cell_type": "markdown",
   "id": "f4d9fe23",
   "metadata": {},
   "source": [
    "Let's create additional DataFrame \"dictionaries\" for the 'education' and 'family_status' columns."
   ]
  },
  {
   "cell_type": "code",
   "execution_count": 36,
   "id": "37086342",
   "metadata": {},
   "outputs": [
    {
     "data": {
      "text/html": [
       "<div>\n",
       "<style scoped>\n",
       "    .dataframe tbody tr th:only-of-type {\n",
       "        vertical-align: middle;\n",
       "    }\n",
       "\n",
       "    .dataframe tbody tr th {\n",
       "        vertical-align: top;\n",
       "    }\n",
       "\n",
       "    .dataframe thead th {\n",
       "        text-align: right;\n",
       "    }\n",
       "</style>\n",
       "<table border=\"1\" class=\"dataframe\">\n",
       "  <thead>\n",
       "    <tr style=\"text-align: right;\">\n",
       "      <th></th>\n",
       "      <th>education</th>\n",
       "      <th>education_id</th>\n",
       "    </tr>\n",
       "  </thead>\n",
       "  <tbody>\n",
       "    <tr>\n",
       "      <th>0</th>\n",
       "      <td>высшее</td>\n",
       "      <td>0</td>\n",
       "    </tr>\n",
       "    <tr>\n",
       "      <th>1</th>\n",
       "      <td>среднее</td>\n",
       "      <td>1</td>\n",
       "    </tr>\n",
       "    <tr>\n",
       "      <th>2</th>\n",
       "      <td>среднее</td>\n",
       "      <td>1</td>\n",
       "    </tr>\n",
       "    <tr>\n",
       "      <th>3</th>\n",
       "      <td>среднее</td>\n",
       "      <td>1</td>\n",
       "    </tr>\n",
       "    <tr>\n",
       "      <th>4</th>\n",
       "      <td>среднее</td>\n",
       "      <td>1</td>\n",
       "    </tr>\n",
       "  </tbody>\n",
       "</table>\n",
       "</div>"
      ],
      "text/plain": [
       "  education  education_id\n",
       "0    высшее             0\n",
       "1   среднее             1\n",
       "2   среднее             1\n",
       "3   среднее             1\n",
       "4   среднее             1"
      ]
     },
     "execution_count": 36,
     "metadata": {},
     "output_type": "execute_result"
    }
   ],
   "source": [
    "data_education=data[['education', 'education_id']]\n",
    "data_education.head()"
   ]
  },
  {
   "cell_type": "code",
   "execution_count": 37,
   "id": "8f9689b3",
   "metadata": {},
   "outputs": [
    {
     "data": {
      "text/html": [
       "<div>\n",
       "<style scoped>\n",
       "    .dataframe tbody tr th:only-of-type {\n",
       "        vertical-align: middle;\n",
       "    }\n",
       "\n",
       "    .dataframe tbody tr th {\n",
       "        vertical-align: top;\n",
       "    }\n",
       "\n",
       "    .dataframe thead th {\n",
       "        text-align: right;\n",
       "    }\n",
       "</style>\n",
       "<table border=\"1\" class=\"dataframe\">\n",
       "  <thead>\n",
       "    <tr style=\"text-align: right;\">\n",
       "      <th></th>\n",
       "      <th>family_status</th>\n",
       "      <th>family_status_id</th>\n",
       "    </tr>\n",
       "  </thead>\n",
       "  <tbody>\n",
       "    <tr>\n",
       "      <th>0</th>\n",
       "      <td>женат / замужем</td>\n",
       "      <td>0</td>\n",
       "    </tr>\n",
       "    <tr>\n",
       "      <th>1</th>\n",
       "      <td>женат / замужем</td>\n",
       "      <td>0</td>\n",
       "    </tr>\n",
       "    <tr>\n",
       "      <th>2</th>\n",
       "      <td>женат / замужем</td>\n",
       "      <td>0</td>\n",
       "    </tr>\n",
       "    <tr>\n",
       "      <th>3</th>\n",
       "      <td>женат / замужем</td>\n",
       "      <td>0</td>\n",
       "    </tr>\n",
       "    <tr>\n",
       "      <th>4</th>\n",
       "      <td>гражданский брак</td>\n",
       "      <td>1</td>\n",
       "    </tr>\n",
       "  </tbody>\n",
       "</table>\n",
       "</div>"
      ],
      "text/plain": [
       "      family_status  family_status_id\n",
       "0   женат / замужем                 0\n",
       "1   женат / замужем                 0\n",
       "2   женат / замужем                 0\n",
       "3   женат / замужем                 0\n",
       "4  гражданский брак                 1"
      ]
     },
     "execution_count": 37,
     "metadata": {},
     "output_type": "execute_result"
    }
   ],
   "source": [
    "data_family_status=data[['family_status', 'family_status_id']]\n",
    "data_family_status.head()"
   ]
  },
  {
   "cell_type": "markdown",
   "id": "c4597560",
   "metadata": {},
   "source": [
    "Let's remove the 'education' and 'family_status' columns from the original DataFrame."
   ]
  },
  {
   "cell_type": "code",
   "execution_count": 38,
   "id": "68838547",
   "metadata": {},
   "outputs": [],
   "source": [
    "data=data.drop(columns=['education','family_status'])\n"
   ]
  },
  {
   "cell_type": "markdown",
   "id": "0496d8dd",
   "metadata": {},
   "source": [
    "###  Income Categorization"
   ]
  },
  {
   "cell_type": "code",
   "execution_count": 48,
   "id": "6141f735",
   "metadata": {},
   "outputs": [],
   "source": [
    "def income_group (total_income):\n",
    "    if total_income<=30000:\n",
    "        return 'E'\n",
    "    if total_income<=50000:\n",
    "        return 'D'\n",
    "    if total_income<=200000:\n",
    "        return 'C'\n",
    "    if total_income<=1000000:\n",
    "        return 'B'\n",
    "    if total_income>1000000:\n",
    "        return 'A'\n"
   ]
  },
  {
   "cell_type": "code",
   "execution_count": 52,
   "id": "84c9e39d",
   "metadata": {
    "scrolled": true
   },
   "outputs": [
    {
     "data": {
      "text/html": [
       "<div>\n",
       "<style scoped>\n",
       "    .dataframe tbody tr th:only-of-type {\n",
       "        vertical-align: middle;\n",
       "    }\n",
       "\n",
       "    .dataframe tbody tr th {\n",
       "        vertical-align: top;\n",
       "    }\n",
       "\n",
       "    .dataframe thead th {\n",
       "        text-align: right;\n",
       "    }\n",
       "</style>\n",
       "<table border=\"1\" class=\"dataframe\">\n",
       "  <thead>\n",
       "    <tr style=\"text-align: right;\">\n",
       "      <th></th>\n",
       "      <th>children</th>\n",
       "      <th>days_employed</th>\n",
       "      <th>dob_years</th>\n",
       "      <th>education_id</th>\n",
       "      <th>family_status_id</th>\n",
       "      <th>gender</th>\n",
       "      <th>income_type</th>\n",
       "      <th>debt</th>\n",
       "      <th>total_income</th>\n",
       "      <th>purpose</th>\n",
       "      <th>total_income_category</th>\n",
       "      <th>purpose_category</th>\n",
       "    </tr>\n",
       "  </thead>\n",
       "  <tbody>\n",
       "    <tr>\n",
       "      <th>0</th>\n",
       "      <td>1</td>\n",
       "      <td>8437.673028</td>\n",
       "      <td>42</td>\n",
       "      <td>0</td>\n",
       "      <td>0</td>\n",
       "      <td>F</td>\n",
       "      <td>сотрудник</td>\n",
       "      <td>0</td>\n",
       "      <td>253875.639453</td>\n",
       "      <td>покупка жилья</td>\n",
       "      <td>B</td>\n",
       "      <td>операции с недвижимостью</td>\n",
       "    </tr>\n",
       "    <tr>\n",
       "      <th>1</th>\n",
       "      <td>1</td>\n",
       "      <td>4024.803754</td>\n",
       "      <td>36</td>\n",
       "      <td>1</td>\n",
       "      <td>0</td>\n",
       "      <td>F</td>\n",
       "      <td>сотрудник</td>\n",
       "      <td>0</td>\n",
       "      <td>112080.014102</td>\n",
       "      <td>приобретение автомобиля</td>\n",
       "      <td>C</td>\n",
       "      <td>операции с автомобилем</td>\n",
       "    </tr>\n",
       "    <tr>\n",
       "      <th>2</th>\n",
       "      <td>0</td>\n",
       "      <td>5623.422610</td>\n",
       "      <td>33</td>\n",
       "      <td>1</td>\n",
       "      <td>0</td>\n",
       "      <td>M</td>\n",
       "      <td>сотрудник</td>\n",
       "      <td>0</td>\n",
       "      <td>145885.952297</td>\n",
       "      <td>покупка жилья</td>\n",
       "      <td>C</td>\n",
       "      <td>операции с недвижимостью</td>\n",
       "    </tr>\n",
       "    <tr>\n",
       "      <th>3</th>\n",
       "      <td>3</td>\n",
       "      <td>4124.747207</td>\n",
       "      <td>32</td>\n",
       "      <td>1</td>\n",
       "      <td>0</td>\n",
       "      <td>M</td>\n",
       "      <td>сотрудник</td>\n",
       "      <td>0</td>\n",
       "      <td>267628.550329</td>\n",
       "      <td>дополнительное образование</td>\n",
       "      <td>B</td>\n",
       "      <td>получение образования</td>\n",
       "    </tr>\n",
       "    <tr>\n",
       "      <th>4</th>\n",
       "      <td>0</td>\n",
       "      <td>2194.220567</td>\n",
       "      <td>53</td>\n",
       "      <td>1</td>\n",
       "      <td>1</td>\n",
       "      <td>F</td>\n",
       "      <td>пенсионер</td>\n",
       "      <td>0</td>\n",
       "      <td>158616.077870</td>\n",
       "      <td>сыграть свадьбу</td>\n",
       "      <td>C</td>\n",
       "      <td>проведение свадьбы</td>\n",
       "    </tr>\n",
       "  </tbody>\n",
       "</table>\n",
       "</div>"
      ],
      "text/plain": [
       "   children  days_employed  dob_years  education_id  family_status_id gender  \\\n",
       "0         1    8437.673028         42             0                 0      F   \n",
       "1         1    4024.803754         36             1                 0      F   \n",
       "2         0    5623.422610         33             1                 0      M   \n",
       "3         3    4124.747207         32             1                 0      M   \n",
       "4         0    2194.220567         53             1                 1      F   \n",
       "\n",
       "  income_type  debt   total_income                     purpose  \\\n",
       "0   сотрудник     0  253875.639453               покупка жилья   \n",
       "1   сотрудник     0  112080.014102     приобретение автомобиля   \n",
       "2   сотрудник     0  145885.952297               покупка жилья   \n",
       "3   сотрудник     0  267628.550329  дополнительное образование   \n",
       "4   пенсионер     0  158616.077870             сыграть свадьбу   \n",
       "\n",
       "  total_income_category          purpose_category  \n",
       "0                     B  операции с недвижимостью  \n",
       "1                     C    операции с автомобилем  \n",
       "2                     C  операции с недвижимостью  \n",
       "3                     B     получение образования  \n",
       "4                     C        проведение свадьбы  "
      ]
     },
     "metadata": {},
     "output_type": "display_data"
    }
   ],
   "source": [
    "data['total_income_category'] = data['total_income'].apply(income_group)\n",
    "display (data.head())"
   ]
  },
  {
   "cell_type": "markdown",
   "id": "920672c8",
   "metadata": {},
   "source": [
    "### Loan Purpose Categorization."
   ]
  },
  {
   "cell_type": "code",
   "execution_count": 41,
   "id": "b1fe0de0",
   "metadata": {},
   "outputs": [
    {
     "name": "stdout",
     "output_type": "stream",
     "text": [
      "   children  days_employed  dob_years  education_id  family_status_id gender  \\\n",
      "0         1    8437.673028         42             0                 0      F   \n",
      "1         1    4024.803754         36             1                 0      F   \n",
      "2         0    5623.422610         33             1                 0      M   \n",
      "3         3    4124.747207         32             1                 0      M   \n",
      "4         0    2194.220567         53             1                 1      F   \n",
      "\n",
      "  income_type  debt   total_income                     purpose  \\\n",
      "0   сотрудник     0  253875.639453               покупка жилья   \n",
      "1   сотрудник     0  112080.014102     приобретение автомобиля   \n",
      "2   сотрудник     0  145885.952297               покупка жилья   \n",
      "3   сотрудник     0  267628.550329  дополнительное образование   \n",
      "4   пенсионер     0  158616.077870             сыграть свадьбу   \n",
      "\n",
      "  total_income_category          purpose_category  \n",
      "0                     B  операции с недвижимостью  \n",
      "1                     C    операции с автомобилем  \n",
      "2                     C  операции с недвижимостью  \n",
      "3                     B     получение образования  \n",
      "4                     C        проведение свадьбы  \n"
     ]
    }
   ],
   "source": [
    "def income__category(purpose):\n",
    "    if 'свадь' in purpose:\n",
    "        return 'проведение свадьбы'\n",
    "    if 'образ' in purpose:\n",
    "        return 'получение образования'\n",
    "    if 'недвиж' in purpose:\n",
    "        return 'операции с недвижимостью'\n",
    "    if 'жил' in purpose:\n",
    "        return 'операции с недвижимостью'\n",
    "    if 'авто' in purpose:\n",
    "        return 'операции с автомобилем'\n",
    "    \n",
    "data['purpose_category']=data['purpose'].apply(income__category)\n",
    "print(data.head())\n"
   ]
  },
  {
   "cell_type": "markdown",
   "id": "ddf67e7c",
   "metadata": {},
   "source": [
    "### Answers to the questions"
   ]
  },
  {
   "cell_type": "markdown",
   "id": "ebb4941a",
   "metadata": {},
   "source": [
    "**Is there a correlation between the number of children and timely loan repayment?**"
   ]
  },
  {
   "cell_type": "code",
   "execution_count": 42,
   "id": "69a69e9b",
   "metadata": {},
   "outputs": [
    {
     "data": {
      "text/html": [
       "<div>\n",
       "<style scoped>\n",
       "    .dataframe tbody tr th:only-of-type {\n",
       "        vertical-align: middle;\n",
       "    }\n",
       "\n",
       "    .dataframe tbody tr th {\n",
       "        vertical-align: top;\n",
       "    }\n",
       "\n",
       "    .dataframe thead th {\n",
       "        text-align: right;\n",
       "    }\n",
       "</style>\n",
       "<table border=\"1\" class=\"dataframe\">\n",
       "  <thead>\n",
       "    <tr style=\"text-align: right;\">\n",
       "      <th></th>\n",
       "      <th>days_employed</th>\n",
       "      <th>debt</th>\n",
       "      <th>dob_years</th>\n",
       "      <th>education_id</th>\n",
       "      <th>family_status_id</th>\n",
       "      <th>total_income</th>\n",
       "    </tr>\n",
       "    <tr>\n",
       "      <th>children</th>\n",
       "      <th></th>\n",
       "      <th></th>\n",
       "      <th></th>\n",
       "      <th></th>\n",
       "      <th></th>\n",
       "      <th></th>\n",
       "    </tr>\n",
       "  </thead>\n",
       "  <tbody>\n",
       "    <tr>\n",
       "      <th>0</th>\n",
       "      <td>2390.702148</td>\n",
       "      <td>0.075129</td>\n",
       "      <td>46.261432</td>\n",
       "      <td>0.831225</td>\n",
       "      <td>1.120927</td>\n",
       "      <td>163093.547160</td>\n",
       "    </tr>\n",
       "    <tr>\n",
       "      <th>1</th>\n",
       "      <td>2167.386796</td>\n",
       "      <td>0.092154</td>\n",
       "      <td>38.366127</td>\n",
       "      <td>0.786841</td>\n",
       "      <td>0.806144</td>\n",
       "      <td>168644.065066</td>\n",
       "    </tr>\n",
       "    <tr>\n",
       "      <th>2</th>\n",
       "      <td>2136.585987</td>\n",
       "      <td>0.094404</td>\n",
       "      <td>35.770316</td>\n",
       "      <td>0.788808</td>\n",
       "      <td>0.451095</td>\n",
       "      <td>169188.393965</td>\n",
       "    </tr>\n",
       "    <tr>\n",
       "      <th>3</th>\n",
       "      <td>2178.330682</td>\n",
       "      <td>0.081818</td>\n",
       "      <td>36.287879</td>\n",
       "      <td>0.824242</td>\n",
       "      <td>0.403030</td>\n",
       "      <td>179093.840493</td>\n",
       "    </tr>\n",
       "    <tr>\n",
       "      <th>4</th>\n",
       "      <td>2182.706646</td>\n",
       "      <td>0.097561</td>\n",
       "      <td>36.048780</td>\n",
       "      <td>0.780488</td>\n",
       "      <td>0.512195</td>\n",
       "      <td>166200.350178</td>\n",
       "    </tr>\n",
       "    <tr>\n",
       "      <th>5</th>\n",
       "      <td>1517.001042</td>\n",
       "      <td>0.000000</td>\n",
       "      <td>38.777778</td>\n",
       "      <td>1.222222</td>\n",
       "      <td>0.222222</td>\n",
       "      <td>167606.700227</td>\n",
       "    </tr>\n",
       "  </tbody>\n",
       "</table>\n",
       "</div>"
      ],
      "text/plain": [
       "          days_employed      debt  dob_years  education_id  family_status_id  \\\n",
       "children                                                                       \n",
       "0           2390.702148  0.075129  46.261432      0.831225          1.120927   \n",
       "1           2167.386796  0.092154  38.366127      0.786841          0.806144   \n",
       "2           2136.585987  0.094404  35.770316      0.788808          0.451095   \n",
       "3           2178.330682  0.081818  36.287879      0.824242          0.403030   \n",
       "4           2182.706646  0.097561  36.048780      0.780488          0.512195   \n",
       "5           1517.001042  0.000000  38.777778      1.222222          0.222222   \n",
       "\n",
       "           total_income  \n",
       "children                 \n",
       "0         163093.547160  \n",
       "1         168644.065066  \n",
       "2         169188.393965  \n",
       "3         179093.840493  \n",
       "4         166200.350178  \n",
       "5         167606.700227  "
      ]
     },
     "execution_count": 42,
     "metadata": {},
     "output_type": "execute_result"
    }
   ],
   "source": [
    "data_pivot = data.pivot_table(index=['children'])\n",
    "data_pivot.head(20)"
   ]
  },
  {
   "cell_type": "markdown",
   "id": "bc5c26cc",
   "metadata": {},
   "source": [
    "Conclusion: Among borrowers with 0 children, 7% default on loans; borrowers with 1 child - 9% default, borrowers with 2 children - 9% default, borrowers with 3 children - 8% default, borrowers with 4 children - 9% default, borrowers with 5 children - 0% default. It can be concluded that the number of children does not affect the timely repayment of loans."
   ]
  },
  {
   "cell_type": "markdown",
   "id": "b1aa10eb",
   "metadata": {},
   "source": [
    "**Is there a correlation between marital status and timely loan repayment?**"
   ]
  },
  {
   "cell_type": "code",
   "execution_count": 43,
   "id": "c83cdf15",
   "metadata": {},
   "outputs": [
    {
     "data": {
      "text/html": [
       "<div>\n",
       "<style scoped>\n",
       "    .dataframe tbody tr th:only-of-type {\n",
       "        vertical-align: middle;\n",
       "    }\n",
       "\n",
       "    .dataframe tbody tr th {\n",
       "        vertical-align: top;\n",
       "    }\n",
       "\n",
       "    .dataframe thead th {\n",
       "        text-align: right;\n",
       "    }\n",
       "</style>\n",
       "<table border=\"1\" class=\"dataframe\">\n",
       "  <thead>\n",
       "    <tr style=\"text-align: right;\">\n",
       "      <th></th>\n",
       "      <th>children</th>\n",
       "      <th>days_employed</th>\n",
       "      <th>debt</th>\n",
       "      <th>dob_years</th>\n",
       "      <th>education_id</th>\n",
       "      <th>total_income</th>\n",
       "    </tr>\n",
       "    <tr>\n",
       "      <th>family_status_id</th>\n",
       "      <th></th>\n",
       "      <th></th>\n",
       "      <th></th>\n",
       "      <th></th>\n",
       "      <th></th>\n",
       "      <th></th>\n",
       "    </tr>\n",
       "  </thead>\n",
       "  <tbody>\n",
       "    <tr>\n",
       "      <th>0</th>\n",
       "      <td>0.564949</td>\n",
       "      <td>2402.666979</td>\n",
       "      <td>0.075354</td>\n",
       "      <td>43.576166</td>\n",
       "      <td>0.805235</td>\n",
       "      <td>166570.331268</td>\n",
       "    </tr>\n",
       "    <tr>\n",
       "      <th>1</th>\n",
       "      <td>0.455769</td>\n",
       "      <td>2235.469026</td>\n",
       "      <td>0.092548</td>\n",
       "      <td>42.129087</td>\n",
       "      <td>0.837260</td>\n",
       "      <td>164544.231325</td>\n",
       "    </tr>\n",
       "    <tr>\n",
       "      <th>2</th>\n",
       "      <td>0.146008</td>\n",
       "      <td>2532.726103</td>\n",
       "      <td>0.066176</td>\n",
       "      <td>56.511555</td>\n",
       "      <td>0.938025</td>\n",
       "      <td>143738.017844</td>\n",
       "    </tr>\n",
       "    <tr>\n",
       "      <th>3</th>\n",
       "      <td>0.429773</td>\n",
       "      <td>2377.289889</td>\n",
       "      <td>0.070648</td>\n",
       "      <td>45.561817</td>\n",
       "      <td>0.797309</td>\n",
       "      <td>167848.301327</td>\n",
       "    </tr>\n",
       "    <tr>\n",
       "      <th>4</th>\n",
       "      <td>0.225438</td>\n",
       "      <td>1924.358104</td>\n",
       "      <td>0.097535</td>\n",
       "      <td>38.373705</td>\n",
       "      <td>0.806717</td>\n",
       "      <td>166195.446602</td>\n",
       "    </tr>\n",
       "  </tbody>\n",
       "</table>\n",
       "</div>"
      ],
      "text/plain": [
       "                  children  days_employed      debt  dob_years  education_id  \\\n",
       "family_status_id                                                               \n",
       "0                 0.564949    2402.666979  0.075354  43.576166      0.805235   \n",
       "1                 0.455769    2235.469026  0.092548  42.129087      0.837260   \n",
       "2                 0.146008    2532.726103  0.066176  56.511555      0.938025   \n",
       "3                 0.429773    2377.289889  0.070648  45.561817      0.797309   \n",
       "4                 0.225438    1924.358104  0.097535  38.373705      0.806717   \n",
       "\n",
       "                   total_income  \n",
       "family_status_id                 \n",
       "0                 166570.331268  \n",
       "1                 164544.231325  \n",
       "2                 143738.017844  \n",
       "3                 167848.301327  \n",
       "4                 166195.446602  "
      ]
     },
     "execution_count": 43,
     "metadata": {},
     "output_type": "execute_result"
    }
   ],
   "source": [
    "data_pivot = data.pivot_table(index=['family_status_id'])\n",
    "data_pivot.head(20)"
   ]
  },
  {
   "cell_type": "markdown",
   "id": "bc3026c0",
   "metadata": {},
   "source": [
    "Conclusion: Marital status also does not affect the repayment of loans, as the percentage of overdue debts is approximately the same across each group."
   ]
  },
  {
   "cell_type": "markdown",
   "id": "0432f732",
   "metadata": {},
   "source": [
    "**Is there a correlation between income level and timely loan repayment?**"
   ]
  },
  {
   "cell_type": "code",
   "execution_count": 44,
   "id": "790f7433",
   "metadata": {},
   "outputs": [
    {
     "data": {
      "text/html": [
       "<div>\n",
       "<style scoped>\n",
       "    .dataframe tbody tr th:only-of-type {\n",
       "        vertical-align: middle;\n",
       "    }\n",
       "\n",
       "    .dataframe tbody tr th {\n",
       "        vertical-align: top;\n",
       "    }\n",
       "\n",
       "    .dataframe thead th {\n",
       "        text-align: right;\n",
       "    }\n",
       "</style>\n",
       "<table border=\"1\" class=\"dataframe\">\n",
       "  <thead>\n",
       "    <tr style=\"text-align: right;\">\n",
       "      <th></th>\n",
       "      <th>children</th>\n",
       "      <th>days_employed</th>\n",
       "      <th>debt</th>\n",
       "      <th>dob_years</th>\n",
       "      <th>education_id</th>\n",
       "      <th>family_status_id</th>\n",
       "      <th>total_income</th>\n",
       "    </tr>\n",
       "    <tr>\n",
       "      <th>total_income_category</th>\n",
       "      <th></th>\n",
       "      <th></th>\n",
       "      <th></th>\n",
       "      <th></th>\n",
       "      <th></th>\n",
       "      <th></th>\n",
       "      <th></th>\n",
       "    </tr>\n",
       "  </thead>\n",
       "  <tbody>\n",
       "    <tr>\n",
       "      <th>A</th>\n",
       "      <td>0.720000</td>\n",
       "      <td>3358.516917</td>\n",
       "      <td>0.080000</td>\n",
       "      <td>45.280000</td>\n",
       "      <td>0.280000</td>\n",
       "      <td>0.920000</td>\n",
       "      <td>1.339118e+06</td>\n",
       "    </tr>\n",
       "    <tr>\n",
       "      <th>B</th>\n",
       "      <td>0.495312</td>\n",
       "      <td>2375.299762</td>\n",
       "      <td>0.070616</td>\n",
       "      <td>42.329144</td>\n",
       "      <td>0.691003</td>\n",
       "      <td>0.956513</td>\n",
       "      <td>2.866009e+05</td>\n",
       "    </tr>\n",
       "    <tr>\n",
       "      <th>C</th>\n",
       "      <td>0.466829</td>\n",
       "      <td>2291.707259</td>\n",
       "      <td>0.084600</td>\n",
       "      <td>43.455387</td>\n",
       "      <td>0.853123</td>\n",
       "      <td>0.984056</td>\n",
       "      <td>1.281491e+05</td>\n",
       "    </tr>\n",
       "    <tr>\n",
       "      <th>D</th>\n",
       "      <td>0.441261</td>\n",
       "      <td>2263.222178</td>\n",
       "      <td>0.060172</td>\n",
       "      <td>49.257880</td>\n",
       "      <td>1.000000</td>\n",
       "      <td>0.736390</td>\n",
       "      <td>4.292092e+04</td>\n",
       "    </tr>\n",
       "    <tr>\n",
       "      <th>E</th>\n",
       "      <td>0.272727</td>\n",
       "      <td>2214.192065</td>\n",
       "      <td>0.090909</td>\n",
       "      <td>55.000000</td>\n",
       "      <td>1.090909</td>\n",
       "      <td>0.636364</td>\n",
       "      <td>2.579539e+04</td>\n",
       "    </tr>\n",
       "  </tbody>\n",
       "</table>\n",
       "</div>"
      ],
      "text/plain": [
       "                       children  days_employed      debt  dob_years  \\\n",
       "total_income_category                                                 \n",
       "A                      0.720000    3358.516917  0.080000  45.280000   \n",
       "B                      0.495312    2375.299762  0.070616  42.329144   \n",
       "C                      0.466829    2291.707259  0.084600  43.455387   \n",
       "D                      0.441261    2263.222178  0.060172  49.257880   \n",
       "E                      0.272727    2214.192065  0.090909  55.000000   \n",
       "\n",
       "                       education_id  family_status_id  total_income  \n",
       "total_income_category                                                \n",
       "A                          0.280000          0.920000  1.339118e+06  \n",
       "B                          0.691003          0.956513  2.866009e+05  \n",
       "C                          0.853123          0.984056  1.281491e+05  \n",
       "D                          1.000000          0.736390  4.292092e+04  \n",
       "E                          1.090909          0.636364  2.579539e+04  "
      ]
     },
     "execution_count": 44,
     "metadata": {},
     "output_type": "execute_result"
    }
   ],
   "source": [
    "data_pivot = data.pivot_table(index=['total_income_category'])\n",
    "data_pivot.head(20)"
   ]
  },
  {
   "cell_type": "markdown",
   "id": "38b4c330",
   "metadata": {},
   "source": [
    "Conclusion: Income level also does not affect loan repayment, as the percentage of overdue debts is approximately the same across each group.\n"
   ]
  },
  {
   "cell_type": "markdown",
   "id": "65eaa36e",
   "metadata": {},
   "source": [
    "**How do different loan purposes affect their timely repayment?**"
   ]
  },
  {
   "cell_type": "code",
   "execution_count": 45,
   "id": "c075170e",
   "metadata": {},
   "outputs": [
    {
     "data": {
      "text/html": [
       "<div>\n",
       "<style scoped>\n",
       "    .dataframe tbody tr th:only-of-type {\n",
       "        vertical-align: middle;\n",
       "    }\n",
       "\n",
       "    .dataframe tbody tr th {\n",
       "        vertical-align: top;\n",
       "    }\n",
       "\n",
       "    .dataframe thead th {\n",
       "        text-align: right;\n",
       "    }\n",
       "</style>\n",
       "<table border=\"1\" class=\"dataframe\">\n",
       "  <thead>\n",
       "    <tr style=\"text-align: right;\">\n",
       "      <th></th>\n",
       "      <th>children</th>\n",
       "      <th>days_employed</th>\n",
       "      <th>debt</th>\n",
       "      <th>dob_years</th>\n",
       "      <th>education_id</th>\n",
       "      <th>family_status_id</th>\n",
       "      <th>total_income</th>\n",
       "    </tr>\n",
       "    <tr>\n",
       "      <th>purpose_category</th>\n",
       "      <th></th>\n",
       "      <th></th>\n",
       "      <th></th>\n",
       "      <th></th>\n",
       "      <th></th>\n",
       "      <th></th>\n",
       "      <th></th>\n",
       "    </tr>\n",
       "  </thead>\n",
       "  <tbody>\n",
       "    <tr>\n",
       "      <th>операции с автомобилем</th>\n",
       "      <td>0.464785</td>\n",
       "      <td>2294.907345</td>\n",
       "      <td>0.093284</td>\n",
       "      <td>43.507229</td>\n",
       "      <td>0.820196</td>\n",
       "      <td>0.990438</td>\n",
       "      <td>165106.391580</td>\n",
       "    </tr>\n",
       "    <tr>\n",
       "      <th>операции с недвижимостью</th>\n",
       "      <td>0.476809</td>\n",
       "      <td>2315.984200</td>\n",
       "      <td>0.072356</td>\n",
       "      <td>43.182004</td>\n",
       "      <td>0.815399</td>\n",
       "      <td>0.967161</td>\n",
       "      <td>166579.588031</td>\n",
       "    </tr>\n",
       "    <tr>\n",
       "      <th>получение образования</th>\n",
       "      <td>0.479109</td>\n",
       "      <td>2303.289775</td>\n",
       "      <td>0.092319</td>\n",
       "      <td>43.439329</td>\n",
       "      <td>0.828371</td>\n",
       "      <td>0.954966</td>\n",
       "      <td>162396.879474</td>\n",
       "    </tr>\n",
       "    <tr>\n",
       "      <th>проведение свадьбы</th>\n",
       "      <td>0.461703</td>\n",
       "      <td>2339.781767</td>\n",
       "      <td>0.078306</td>\n",
       "      <td>43.227642</td>\n",
       "      <td>0.800171</td>\n",
       "      <td>1.000000</td>\n",
       "      <td>163645.272808</td>\n",
       "    </tr>\n",
       "  </tbody>\n",
       "</table>\n",
       "</div>"
      ],
      "text/plain": [
       "                          children  days_employed      debt  dob_years  \\\n",
       "purpose_category                                                         \n",
       "операции с автомобилем    0.464785    2294.907345  0.093284  43.507229   \n",
       "операции с недвижимостью  0.476809    2315.984200  0.072356  43.182004   \n",
       "получение образования     0.479109    2303.289775  0.092319  43.439329   \n",
       "проведение свадьбы        0.461703    2339.781767  0.078306  43.227642   \n",
       "\n",
       "                          education_id  family_status_id   total_income  \n",
       "purpose_category                                                         \n",
       "операции с автомобилем        0.820196          0.990438  165106.391580  \n",
       "операции с недвижимостью      0.815399          0.967161  166579.588031  \n",
       "получение образования         0.828371          0.954966  162396.879474  \n",
       "проведение свадьбы            0.800171          1.000000  163645.272808  "
      ]
     },
     "execution_count": 45,
     "metadata": {},
     "output_type": "execute_result"
    }
   ],
   "source": [
    "data_pivot = data.pivot_table(index=['purpose_category'])\n",
    "data_pivot.head(20)"
   ]
  },
  {
   "cell_type": "markdown",
   "id": "3094216f",
   "metadata": {},
   "source": [
    "Conclusion: The loan purpose also does not affect loan repayment, as the percentage of overdue debts is approximately the same across each group."
   ]
  },
  {
   "cell_type": "markdown",
   "id": "58f68bd2",
   "metadata": {},
   "source": [
    "## Conclusion"
   ]
  },
  {
   "cell_type": "markdown",
   "id": "d5af737a",
   "metadata": {},
   "source": [
    "Marital status and the number of children do not affect the timely repayment of the loan."
   ]
  },
  {
   "cell_type": "markdown",
   "id": "e4da4bc8",
   "metadata": {},
   "source": [
    "We analyed the data on  21 525 clients of the bank. We founf out that total amount of overdue debts is 1732 or around 8%. We replaces missing values and replaced outliers in collumns 'days_employed', 'children'. We also replced implicit dublicated in collumn 'purpose'. \n",
    "Than we analysed % of overdued debts by categories:\n",
    "We found slight differences in percentage of overdue debts between differne categories\n"
   ]
  }
 ],
 "metadata": {
  "ExecuteTimeLog": [
   {
    "duration": 481,
    "start_time": "2022-05-13T09:50:57.883Z"
   },
   {
    "duration": 2049,
    "start_time": "2022-05-13T10:04:36.772Z"
   },
   {
    "duration": 6,
    "start_time": "2022-05-13T10:04:44.679Z"
   },
   {
    "duration": 6,
    "start_time": "2022-05-13T10:07:10.104Z"
   },
   {
    "duration": 10,
    "start_time": "2022-05-13T10:08:00.542Z"
   },
   {
    "duration": 7,
    "start_time": "2022-05-13T10:08:27.044Z"
   },
   {
    "duration": 4,
    "start_time": "2022-05-13T10:09:21.626Z"
   },
   {
    "duration": 4,
    "start_time": "2022-05-13T10:10:36.138Z"
   },
   {
    "duration": 146,
    "start_time": "2022-05-13T10:11:02.857Z"
   },
   {
    "duration": 4,
    "start_time": "2022-05-13T10:11:13.006Z"
   },
   {
    "duration": 4,
    "start_time": "2022-05-13T10:11:36.212Z"
   },
   {
    "duration": 5,
    "start_time": "2022-05-13T10:12:59.902Z"
   },
   {
    "duration": 5,
    "start_time": "2022-05-13T10:13:41.132Z"
   },
   {
    "duration": 5,
    "start_time": "2022-05-13T10:14:49.896Z"
   },
   {
    "duration": 5,
    "start_time": "2022-05-13T10:15:25.592Z"
   },
   {
    "duration": 485,
    "start_time": "2022-05-13T10:17:31.686Z"
   },
   {
    "duration": 7,
    "start_time": "2022-05-13T10:17:32.173Z"
   },
   {
    "duration": 5,
    "start_time": "2022-05-13T10:18:47.250Z"
   },
   {
    "duration": 488,
    "start_time": "2022-05-13T10:19:20.377Z"
   },
   {
    "duration": 4,
    "start_time": "2022-05-13T10:19:20.867Z"
   },
   {
    "duration": 5,
    "start_time": "2022-05-13T10:19:55.410Z"
   },
   {
    "duration": 5,
    "start_time": "2022-05-13T10:20:40.391Z"
   },
   {
    "duration": 4,
    "start_time": "2022-05-13T10:20:51.679Z"
   },
   {
    "duration": 9,
    "start_time": "2022-05-13T10:21:16.336Z"
   },
   {
    "duration": 8,
    "start_time": "2022-05-13T10:21:44.648Z"
   },
   {
    "duration": 8,
    "start_time": "2022-05-13T10:22:12.060Z"
   },
   {
    "duration": 5,
    "start_time": "2022-05-13T10:27:04.310Z"
   },
   {
    "duration": 4,
    "start_time": "2022-05-13T10:27:58.236Z"
   },
   {
    "duration": 5,
    "start_time": "2022-05-13T10:28:17.907Z"
   },
   {
    "duration": 15,
    "start_time": "2022-05-13T10:29:16.727Z"
   },
   {
    "duration": 9,
    "start_time": "2022-05-13T10:29:39.597Z"
   },
   {
    "duration": 10,
    "start_time": "2022-05-13T10:34:33.704Z"
   },
   {
    "duration": 9,
    "start_time": "2022-05-13T10:34:55.246Z"
   },
   {
    "duration": 69,
    "start_time": "2022-05-13T10:39:20.301Z"
   },
   {
    "duration": 12,
    "start_time": "2022-05-13T10:39:54.513Z"
   },
   {
    "duration": 60,
    "start_time": "2022-05-13T10:41:02.264Z"
   },
   {
    "duration": 17,
    "start_time": "2022-05-13T10:41:55.065Z"
   },
   {
    "duration": 4,
    "start_time": "2022-05-13T10:44:35.055Z"
   },
   {
    "duration": 6,
    "start_time": "2022-05-13T10:45:54.664Z"
   },
   {
    "duration": 63,
    "start_time": "2022-05-13T10:46:57.420Z"
   },
   {
    "duration": 4,
    "start_time": "2022-05-13T10:47:53.563Z"
   },
   {
    "duration": 5,
    "start_time": "2022-05-13T10:48:43.348Z"
   },
   {
    "duration": 5,
    "start_time": "2022-05-13T10:49:12.808Z"
   },
   {
    "duration": 111,
    "start_time": "2022-05-13T10:50:39.961Z"
   },
   {
    "duration": 6,
    "start_time": "2022-05-13T10:50:52.656Z"
   },
   {
    "duration": 6,
    "start_time": "2022-05-13T10:51:24.589Z"
   },
   {
    "duration": 7,
    "start_time": "2022-05-13T10:51:57.333Z"
   },
   {
    "duration": 17,
    "start_time": "2022-05-13T10:52:04.143Z"
   },
   {
    "duration": 7,
    "start_time": "2022-05-13T10:52:31.402Z"
   },
   {
    "duration": 5,
    "start_time": "2022-05-13T10:52:36.808Z"
   },
   {
    "duration": 505,
    "start_time": "2022-05-13T10:52:47.259Z"
   },
   {
    "duration": 5,
    "start_time": "2022-05-13T10:52:47.766Z"
   },
   {
    "duration": 60,
    "start_time": "2022-05-13T10:59:00.534Z"
   },
   {
    "duration": 2,
    "start_time": "2022-05-13T11:02:29.240Z"
   },
   {
    "duration": 63,
    "start_time": "2022-05-13T11:12:10.943Z"
   },
   {
    "duration": 66,
    "start_time": "2022-05-13T11:12:17.203Z"
   },
   {
    "duration": 77,
    "start_time": "2022-05-13T11:12:33.551Z"
   },
   {
    "duration": 86,
    "start_time": "2022-05-13T11:12:50.548Z"
   },
   {
    "duration": 66,
    "start_time": "2022-05-13T11:26:25.728Z"
   },
   {
    "duration": 165,
    "start_time": "2022-05-13T11:26:47.377Z"
   },
   {
    "duration": 2800,
    "start_time": "2022-05-13T11:27:04.490Z"
   },
   {
    "duration": 10,
    "start_time": "2022-05-13T11:28:02.349Z"
   },
   {
    "duration": 7,
    "start_time": "2022-05-13T11:28:15.208Z"
   },
   {
    "duration": 6,
    "start_time": "2022-05-13T11:28:39.221Z"
   },
   {
    "duration": 13,
    "start_time": "2022-05-13T11:29:46.613Z"
   },
   {
    "duration": 13,
    "start_time": "2022-05-13T11:29:58.212Z"
   },
   {
    "duration": 20,
    "start_time": "2022-05-13T11:31:01.344Z"
   },
   {
    "duration": 13,
    "start_time": "2022-05-13T11:31:10.186Z"
   },
   {
    "duration": 13,
    "start_time": "2022-05-13T11:31:31.621Z"
   },
   {
    "duration": 996,
    "start_time": "2022-05-13T11:32:28.266Z"
   },
   {
    "duration": 132,
    "start_time": "2022-05-13T11:32:34.840Z"
   },
   {
    "duration": 15,
    "start_time": "2022-05-13T11:32:46.643Z"
   },
   {
    "duration": 14,
    "start_time": "2022-05-13T11:32:55.065Z"
   },
   {
    "duration": 19,
    "start_time": "2022-05-13T11:33:11.546Z"
   },
   {
    "duration": 18,
    "start_time": "2022-05-13T11:36:10.082Z"
   },
   {
    "duration": 490,
    "start_time": "2022-05-13T12:05:07.989Z"
   },
   {
    "duration": 18,
    "start_time": "2022-05-13T12:05:08.481Z"
   },
   {
    "duration": 4,
    "start_time": "2022-05-13T12:06:14.562Z"
   },
   {
    "duration": 6,
    "start_time": "2022-05-13T12:07:06.679Z"
   },
   {
    "duration": 181,
    "start_time": "2022-05-13T12:07:32.721Z"
   },
   {
    "duration": 8,
    "start_time": "2022-05-13T12:07:57.454Z"
   },
   {
    "duration": 8,
    "start_time": "2022-05-13T12:08:58.152Z"
   },
   {
    "duration": 9,
    "start_time": "2022-05-13T12:09:08.268Z"
   },
   {
    "duration": 8,
    "start_time": "2022-05-13T12:11:14.029Z"
   },
   {
    "duration": 8,
    "start_time": "2022-05-13T12:11:21.168Z"
   },
   {
    "duration": 8,
    "start_time": "2022-05-13T12:12:12.642Z"
   },
   {
    "duration": 9,
    "start_time": "2022-05-13T12:13:26.484Z"
   },
   {
    "duration": 10,
    "start_time": "2022-05-13T12:13:35.372Z"
   },
   {
    "duration": 12,
    "start_time": "2022-05-13T12:14:44.548Z"
   },
   {
    "duration": 13,
    "start_time": "2022-05-13T12:15:33.718Z"
   },
   {
    "duration": 16,
    "start_time": "2022-05-13T12:17:07.185Z"
   },
   {
    "duration": 22,
    "start_time": "2022-05-13T12:19:32.585Z"
   },
   {
    "duration": 557,
    "start_time": "2022-05-13T12:21:50.719Z"
   },
   {
    "duration": 24,
    "start_time": "2022-05-13T12:22:11.861Z"
   },
   {
    "duration": 21,
    "start_time": "2022-05-13T12:23:22.271Z"
   },
   {
    "duration": 30,
    "start_time": "2022-05-13T12:23:39.899Z"
   },
   {
    "duration": 27,
    "start_time": "2022-05-13T12:24:57.361Z"
   },
   {
    "duration": 84,
    "start_time": "2022-05-13T12:35:33.899Z"
   },
   {
    "duration": 22,
    "start_time": "2022-05-13T13:02:23.827Z"
   },
   {
    "duration": 133,
    "start_time": "2022-05-13T13:02:37.609Z"
   },
   {
    "duration": 24,
    "start_time": "2022-05-13T13:02:56.181Z"
   },
   {
    "duration": 31,
    "start_time": "2022-05-13T13:04:01.693Z"
   },
   {
    "duration": 24,
    "start_time": "2022-05-13T13:04:25.486Z"
   },
   {
    "duration": 25,
    "start_time": "2022-05-13T13:04:33.388Z"
   },
   {
    "duration": 468,
    "start_time": "2022-05-13T13:04:41.911Z"
   },
   {
    "duration": 15,
    "start_time": "2022-05-13T13:04:42.381Z"
   },
   {
    "duration": 23,
    "start_time": "2022-05-13T13:04:42.397Z"
   },
   {
    "duration": 23,
    "start_time": "2022-05-13T13:05:12.784Z"
   },
   {
    "duration": 87,
    "start_time": "2022-05-13T13:06:35.021Z"
   },
   {
    "duration": 81,
    "start_time": "2022-05-13T13:06:48.877Z"
   },
   {
    "duration": 520,
    "start_time": "2022-05-18T10:09:20.961Z"
   },
   {
    "duration": 0,
    "start_time": "2022-05-18T10:09:21.484Z"
   },
   {
    "duration": 0,
    "start_time": "2022-05-18T10:09:21.484Z"
   },
   {
    "duration": 0,
    "start_time": "2022-05-18T10:09:21.485Z"
   },
   {
    "duration": 1,
    "start_time": "2022-05-18T10:09:21.486Z"
   },
   {
    "duration": 1,
    "start_time": "2022-05-18T10:09:21.487Z"
   },
   {
    "duration": 0,
    "start_time": "2022-05-18T10:09:21.488Z"
   },
   {
    "duration": 0,
    "start_time": "2022-05-18T10:09:21.490Z"
   },
   {
    "duration": 0,
    "start_time": "2022-05-18T10:09:21.490Z"
   },
   {
    "duration": 0,
    "start_time": "2022-05-18T10:09:21.491Z"
   },
   {
    "duration": 0,
    "start_time": "2022-05-18T10:09:21.492Z"
   },
   {
    "duration": 0,
    "start_time": "2022-05-18T10:09:21.493Z"
   },
   {
    "duration": 0,
    "start_time": "2022-05-18T10:09:21.494Z"
   },
   {
    "duration": 0,
    "start_time": "2022-05-18T10:09:21.495Z"
   },
   {
    "duration": 0,
    "start_time": "2022-05-18T10:09:21.496Z"
   },
   {
    "duration": 0,
    "start_time": "2022-05-18T10:09:21.497Z"
   },
   {
    "duration": 0,
    "start_time": "2022-05-18T10:09:21.498Z"
   },
   {
    "duration": 0,
    "start_time": "2022-05-18T10:09:21.500Z"
   },
   {
    "duration": 0,
    "start_time": "2022-05-18T10:09:21.500Z"
   },
   {
    "duration": 0,
    "start_time": "2022-05-18T10:09:21.501Z"
   },
   {
    "duration": 0,
    "start_time": "2022-05-18T10:09:21.502Z"
   },
   {
    "duration": 0,
    "start_time": "2022-05-18T10:09:21.503Z"
   },
   {
    "duration": 0,
    "start_time": "2022-05-18T10:09:21.504Z"
   },
   {
    "duration": 0,
    "start_time": "2022-05-18T10:09:21.505Z"
   },
   {
    "duration": 0,
    "start_time": "2022-05-18T10:09:21.506Z"
   },
   {
    "duration": 0,
    "start_time": "2022-05-18T10:09:21.507Z"
   },
   {
    "duration": 0,
    "start_time": "2022-05-18T10:09:21.508Z"
   },
   {
    "duration": 0,
    "start_time": "2022-05-18T10:09:21.509Z"
   },
   {
    "duration": 74,
    "start_time": "2022-05-18T10:12:24.218Z"
   },
   {
    "duration": 14,
    "start_time": "2022-05-18T10:12:24.294Z"
   },
   {
    "duration": 3,
    "start_time": "2022-05-18T10:12:24.310Z"
   },
   {
    "duration": 9,
    "start_time": "2022-05-18T10:12:24.315Z"
   },
   {
    "duration": 15,
    "start_time": "2022-05-18T10:12:24.326Z"
   },
   {
    "duration": 33,
    "start_time": "2022-05-18T10:12:24.342Z"
   },
   {
    "duration": 6,
    "start_time": "2022-05-18T10:12:24.376Z"
   },
   {
    "duration": 6,
    "start_time": "2022-05-18T10:12:24.383Z"
   },
   {
    "duration": 7,
    "start_time": "2022-05-18T10:12:24.390Z"
   },
   {
    "duration": 7,
    "start_time": "2022-05-18T10:12:24.399Z"
   },
   {
    "duration": 11,
    "start_time": "2022-05-18T10:12:24.408Z"
   },
   {
    "duration": 26,
    "start_time": "2022-05-18T10:12:24.421Z"
   },
   {
    "duration": 26,
    "start_time": "2022-05-18T10:12:24.448Z"
   },
   {
    "duration": 6,
    "start_time": "2022-05-18T10:12:24.478Z"
   },
   {
    "duration": 7,
    "start_time": "2022-05-18T10:12:24.486Z"
   },
   {
    "duration": 8,
    "start_time": "2022-05-18T10:12:24.495Z"
   },
   {
    "duration": 9,
    "start_time": "2022-05-18T10:12:24.504Z"
   },
   {
    "duration": 6,
    "start_time": "2022-05-18T10:12:24.515Z"
   },
   {
    "duration": 23,
    "start_time": "2022-05-18T10:12:24.522Z"
   },
   {
    "duration": 20,
    "start_time": "2022-05-18T10:12:24.546Z"
   },
   {
    "duration": 27,
    "start_time": "2022-05-18T10:12:24.567Z"
   },
   {
    "duration": 9,
    "start_time": "2022-05-18T10:12:24.596Z"
   },
   {
    "duration": 41,
    "start_time": "2022-05-18T10:12:24.607Z"
   },
   {
    "duration": 19,
    "start_time": "2022-05-18T10:12:24.649Z"
   },
   {
    "duration": 44,
    "start_time": "2022-05-18T10:12:24.670Z"
   },
   {
    "duration": 19,
    "start_time": "2022-05-18T10:12:24.715Z"
   },
   {
    "duration": 20,
    "start_time": "2022-05-18T10:12:24.735Z"
   },
   {
    "duration": 25,
    "start_time": "2022-05-18T10:12:24.759Z"
   },
   {
    "duration": 10,
    "start_time": "2022-05-19T15:58:32.299Z"
   },
   {
    "duration": 66,
    "start_time": "2022-05-19T16:03:01.628Z"
   },
   {
    "duration": 802,
    "start_time": "2022-05-19T16:30:24.829Z"
   },
   {
    "duration": 19,
    "start_time": "2022-05-19T16:30:25.633Z"
   },
   {
    "duration": 5,
    "start_time": "2022-05-19T16:30:25.654Z"
   },
   {
    "duration": 16,
    "start_time": "2022-05-19T16:30:25.661Z"
   },
   {
    "duration": 35,
    "start_time": "2022-05-19T16:30:25.678Z"
   },
   {
    "duration": 4,
    "start_time": "2022-05-19T16:30:25.715Z"
   },
   {
    "duration": 7,
    "start_time": "2022-05-19T16:30:25.721Z"
   },
   {
    "duration": 6,
    "start_time": "2022-05-19T16:30:25.729Z"
   },
   {
    "duration": 8,
    "start_time": "2022-05-19T16:30:25.737Z"
   },
   {
    "duration": 7,
    "start_time": "2022-05-19T16:30:25.748Z"
   },
   {
    "duration": 33,
    "start_time": "2022-05-19T16:30:25.756Z"
   },
   {
    "duration": 24,
    "start_time": "2022-05-19T16:30:25.790Z"
   },
   {
    "duration": 8,
    "start_time": "2022-05-19T16:30:25.816Z"
   },
   {
    "duration": 3,
    "start_time": "2022-05-19T16:30:25.825Z"
   },
   {
    "duration": 6,
    "start_time": "2022-05-19T16:30:25.830Z"
   },
   {
    "duration": 7,
    "start_time": "2022-05-19T16:30:25.838Z"
   },
   {
    "duration": 8,
    "start_time": "2022-05-19T16:30:25.846Z"
   },
   {
    "duration": 27,
    "start_time": "2022-05-19T16:30:25.855Z"
   },
   {
    "duration": 15,
    "start_time": "2022-05-19T16:30:25.889Z"
   },
   {
    "duration": 12,
    "start_time": "2022-05-19T16:30:25.905Z"
   },
   {
    "duration": 8,
    "start_time": "2022-05-19T16:30:25.918Z"
   },
   {
    "duration": 6,
    "start_time": "2022-05-19T16:30:25.928Z"
   },
   {
    "duration": 21,
    "start_time": "2022-05-19T16:30:25.935Z"
   },
   {
    "duration": 31,
    "start_time": "2022-05-19T16:30:25.957Z"
   },
   {
    "duration": 27,
    "start_time": "2022-05-19T16:30:25.990Z"
   },
   {
    "duration": 19,
    "start_time": "2022-05-19T16:30:26.018Z"
   },
   {
    "duration": 41,
    "start_time": "2022-05-19T16:30:26.039Z"
   },
   {
    "duration": 28,
    "start_time": "2022-05-19T16:30:26.082Z"
   },
   {
    "duration": 21,
    "start_time": "2022-05-19T16:33:58.697Z"
   },
   {
    "duration": 22,
    "start_time": "2022-05-19T16:34:16.590Z"
   },
   {
    "duration": 35,
    "start_time": "2022-05-19T16:34:32.752Z"
   },
   {
    "duration": 19,
    "start_time": "2022-05-19T16:34:40.544Z"
   },
   {
    "duration": 1148,
    "start_time": "2022-05-19T16:35:49.914Z"
   },
   {
    "duration": 916,
    "start_time": "2022-05-19T16:53:49.965Z"
   },
   {
    "duration": 11,
    "start_time": "2022-05-19T16:54:10.829Z"
   },
   {
    "duration": 7,
    "start_time": "2022-05-19T16:54:29.011Z"
   },
   {
    "duration": 8,
    "start_time": "2022-05-19T16:54:53.838Z"
   },
   {
    "duration": 6,
    "start_time": "2022-05-19T16:55:16.545Z"
   },
   {
    "duration": 5,
    "start_time": "2022-05-19T16:55:30.396Z"
   },
   {
    "duration": 3,
    "start_time": "2022-05-19T16:55:33.538Z"
   },
   {
    "duration": 9,
    "start_time": "2022-05-19T17:12:52.991Z"
   },
   {
    "duration": 10,
    "start_time": "2022-05-19T17:13:06.137Z"
   },
   {
    "duration": 9,
    "start_time": "2022-05-19T17:13:19.360Z"
   },
   {
    "duration": 8,
    "start_time": "2022-05-19T17:14:27.974Z"
   },
   {
    "duration": 18,
    "start_time": "2022-05-19T17:29:17.030Z"
   },
   {
    "duration": 39,
    "start_time": "2022-05-19T17:39:14.371Z"
   },
   {
    "duration": 34,
    "start_time": "2022-05-19T17:39:57.198Z"
   },
   {
    "duration": 416,
    "start_time": "2023-08-24T11:13:43.238Z"
   },
   {
    "duration": 320,
    "start_time": "2023-08-24T11:13:47.522Z"
   },
   {
    "duration": 71,
    "start_time": "2023-08-24T11:14:00.338Z"
   },
   {
    "duration": 24,
    "start_time": "2023-08-24T11:14:10.085Z"
   },
   {
    "duration": 9,
    "start_time": "2023-08-24T11:14:19.506Z"
   },
   {
    "duration": 3,
    "start_time": "2023-08-24T11:14:33.231Z"
   },
   {
    "duration": 68,
    "start_time": "2023-08-24T11:14:33.656Z"
   },
   {
    "duration": 25,
    "start_time": "2023-08-24T11:14:45.719Z"
   },
   {
    "duration": 9,
    "start_time": "2023-08-24T11:14:46.806Z"
   },
   {
    "duration": 9,
    "start_time": "2023-08-24T11:14:47.471Z"
   },
   {
    "duration": 16,
    "start_time": "2023-08-24T11:14:49.618Z"
   },
   {
    "duration": 5,
    "start_time": "2023-08-24T11:14:52.066Z"
   },
   {
    "duration": 6,
    "start_time": "2023-08-24T11:16:07.500Z"
   },
   {
    "duration": 5,
    "start_time": "2023-08-24T11:16:18.331Z"
   },
   {
    "duration": 60,
    "start_time": "2023-08-24T11:17:05.937Z"
   },
   {
    "duration": 16,
    "start_time": "2023-08-24T11:17:48.867Z"
   },
   {
    "duration": 11,
    "start_time": "2023-08-24T11:18:01.750Z"
   },
   {
    "duration": 16,
    "start_time": "2023-08-24T11:19:40.749Z"
   },
   {
    "duration": 12,
    "start_time": "2023-08-24T11:20:13.153Z"
   },
   {
    "duration": 4,
    "start_time": "2023-08-24T11:20:21.799Z"
   },
   {
    "duration": 12,
    "start_time": "2023-08-24T11:20:36.036Z"
   },
   {
    "duration": 13,
    "start_time": "2023-08-24T11:20:44.466Z"
   },
   {
    "duration": 9,
    "start_time": "2023-08-24T11:21:40.339Z"
   },
   {
    "duration": 494,
    "start_time": "2023-08-24T11:22:05.840Z"
   },
   {
    "duration": 3,
    "start_time": "2023-08-24T11:22:57.746Z"
   },
   {
    "duration": 68,
    "start_time": "2023-08-24T11:23:24.880Z"
   },
   {
    "duration": 7,
    "start_time": "2023-08-24T11:23:28.732Z"
   },
   {
    "duration": 164,
    "start_time": "2023-08-24T11:23:32.353Z"
   },
   {
    "duration": 5,
    "start_time": "2023-08-24T11:28:53.957Z"
   },
   {
    "duration": 10,
    "start_time": "2023-08-24T11:29:20.680Z"
   },
   {
    "duration": 13,
    "start_time": "2023-08-24T11:29:40.721Z"
   },
   {
    "duration": 7,
    "start_time": "2023-08-24T11:32:39.854Z"
   },
   {
    "duration": 4,
    "start_time": "2023-08-24T11:33:35.114Z"
   },
   {
    "duration": 3,
    "start_time": "2023-08-24T11:35:49.448Z"
   },
   {
    "duration": 73,
    "start_time": "2023-08-24T11:35:49.814Z"
   },
   {
    "duration": 25,
    "start_time": "2023-08-24T11:35:50.131Z"
   },
   {
    "duration": 12,
    "start_time": "2023-08-24T11:35:50.514Z"
   },
   {
    "duration": 10,
    "start_time": "2023-08-24T11:35:51.249Z"
   },
   {
    "duration": 11,
    "start_time": "2023-08-24T11:36:41.047Z"
   },
   {
    "duration": 53,
    "start_time": "2023-08-24T11:37:17.353Z"
   },
   {
    "duration": 4,
    "start_time": "2023-08-24T11:40:53.322Z"
   },
   {
    "duration": 3,
    "start_time": "2023-08-24T11:43:36.069Z"
   },
   {
    "duration": 187,
    "start_time": "2023-08-24T11:43:44.310Z"
   },
   {
    "duration": 9,
    "start_time": "2023-08-24T11:44:03.986Z"
   },
   {
    "duration": 9,
    "start_time": "2023-08-24T11:44:42.609Z"
   },
   {
    "duration": 90,
    "start_time": "2023-08-24T11:45:21.019Z"
   },
   {
    "duration": 3,
    "start_time": "2023-08-24T11:45:31.887Z"
   },
   {
    "duration": 73,
    "start_time": "2023-08-24T11:45:32.183Z"
   },
   {
    "duration": 28,
    "start_time": "2023-08-24T11:45:32.435Z"
   },
   {
    "duration": 10,
    "start_time": "2023-08-24T11:45:32.912Z"
   },
   {
    "duration": 8,
    "start_time": "2023-08-24T11:45:33.379Z"
   },
   {
    "duration": 5,
    "start_time": "2023-08-24T11:45:34.112Z"
   },
   {
    "duration": 3,
    "start_time": "2023-08-24T11:45:34.465Z"
   },
   {
    "duration": 5,
    "start_time": "2023-08-24T11:45:34.767Z"
   },
   {
    "duration": 3,
    "start_time": "2023-08-24T11:45:35.454Z"
   },
   {
    "duration": 9,
    "start_time": "2023-08-24T11:45:36.003Z"
   },
   {
    "duration": 144,
    "start_time": "2023-08-24T11:45:36.576Z"
   },
   {
    "duration": 176,
    "start_time": "2023-08-24T11:45:36.928Z"
   },
   {
    "duration": 3,
    "start_time": "2023-08-24T11:46:23.872Z"
   },
   {
    "duration": 423,
    "start_time": "2023-08-24T11:46:27.380Z"
   },
   {
    "duration": 112,
    "start_time": "2023-08-24T11:46:44.965Z"
   },
   {
    "duration": 87,
    "start_time": "2023-08-24T11:58:52.533Z"
   },
   {
    "duration": 5,
    "start_time": "2023-08-24T11:59:37.340Z"
   },
   {
    "duration": 5,
    "start_time": "2023-08-24T12:00:05.866Z"
   },
   {
    "duration": 5,
    "start_time": "2023-08-24T12:06:12.726Z"
   },
   {
    "duration": 3,
    "start_time": "2023-08-24T12:08:49.870Z"
   },
   {
    "duration": 5,
    "start_time": "2023-08-24T12:09:05.643Z"
   },
   {
    "duration": 35,
    "start_time": "2023-08-24T12:10:23.638Z"
   },
   {
    "duration": 2,
    "start_time": "2023-08-24T12:10:44.237Z"
   },
   {
    "duration": 6,
    "start_time": "2023-08-24T12:10:44.663Z"
   },
   {
    "duration": 5,
    "start_time": "2023-08-24T12:11:11.967Z"
   },
   {
    "duration": 4,
    "start_time": "2023-08-24T12:11:25.028Z"
   },
   {
    "duration": 5,
    "start_time": "2023-08-24T12:11:33.639Z"
   },
   {
    "duration": 4,
    "start_time": "2023-08-24T12:11:33.999Z"
   },
   {
    "duration": 4,
    "start_time": "2023-08-24T12:11:34.356Z"
   },
   {
    "duration": 4,
    "start_time": "2023-08-24T12:11:54.474Z"
   },
   {
    "duration": 9,
    "start_time": "2023-08-24T12:12:08.495Z"
   },
   {
    "duration": 4,
    "start_time": "2023-08-24T12:12:12.834Z"
   },
   {
    "duration": 10,
    "start_time": "2023-08-24T12:12:39.278Z"
   },
   {
    "duration": 3,
    "start_time": "2023-08-24T12:13:05.741Z"
   },
   {
    "duration": 10,
    "start_time": "2023-08-24T12:13:06.163Z"
   },
   {
    "duration": 1122,
    "start_time": "2023-08-24T12:14:32.716Z"
   },
   {
    "duration": 71,
    "start_time": "2023-08-24T12:14:33.839Z"
   },
   {
    "duration": 28,
    "start_time": "2023-08-24T12:14:33.911Z"
   },
   {
    "duration": 10,
    "start_time": "2023-08-24T12:14:33.941Z"
   },
   {
    "duration": 23,
    "start_time": "2023-08-24T12:14:33.953Z"
   },
   {
    "duration": 5,
    "start_time": "2023-08-24T12:14:33.977Z"
   },
   {
    "duration": 5,
    "start_time": "2023-08-24T12:14:33.984Z"
   },
   {
    "duration": 10,
    "start_time": "2023-08-24T12:14:33.990Z"
   },
   {
    "duration": 9,
    "start_time": "2023-08-24T12:14:34.002Z"
   },
   {
    "duration": 11,
    "start_time": "2023-08-24T12:14:34.012Z"
   },
   {
    "duration": 121,
    "start_time": "2023-08-24T12:14:34.025Z"
   },
   {
    "duration": 3,
    "start_time": "2023-08-24T12:14:34.151Z"
   },
   {
    "duration": 100,
    "start_time": "2023-08-24T12:14:34.156Z"
   },
   {
    "duration": 0,
    "start_time": "2023-08-24T12:14:34.259Z"
   },
   {
    "duration": 0,
    "start_time": "2023-08-24T12:14:34.261Z"
   },
   {
    "duration": 0,
    "start_time": "2023-08-24T12:14:34.262Z"
   },
   {
    "duration": 0,
    "start_time": "2023-08-24T12:14:34.264Z"
   },
   {
    "duration": 0,
    "start_time": "2023-08-24T12:14:34.265Z"
   },
   {
    "duration": 1,
    "start_time": "2023-08-24T12:14:34.266Z"
   },
   {
    "duration": 0,
    "start_time": "2023-08-24T12:14:34.268Z"
   },
   {
    "duration": 0,
    "start_time": "2023-08-24T12:14:34.269Z"
   },
   {
    "duration": 0,
    "start_time": "2023-08-24T12:14:34.271Z"
   },
   {
    "duration": 0,
    "start_time": "2023-08-24T12:14:34.272Z"
   },
   {
    "duration": 0,
    "start_time": "2023-08-24T12:14:34.273Z"
   },
   {
    "duration": 0,
    "start_time": "2023-08-24T12:14:34.274Z"
   },
   {
    "duration": 0,
    "start_time": "2023-08-24T12:14:34.276Z"
   },
   {
    "duration": 0,
    "start_time": "2023-08-24T12:14:34.277Z"
   },
   {
    "duration": 0,
    "start_time": "2023-08-24T12:14:34.279Z"
   },
   {
    "duration": 0,
    "start_time": "2023-08-24T12:14:34.280Z"
   },
   {
    "duration": 0,
    "start_time": "2023-08-24T12:14:34.281Z"
   },
   {
    "duration": 0,
    "start_time": "2023-08-24T12:14:34.282Z"
   },
   {
    "duration": 0,
    "start_time": "2023-08-24T12:14:34.283Z"
   },
   {
    "duration": 0,
    "start_time": "2023-08-24T12:14:34.284Z"
   },
   {
    "duration": 0,
    "start_time": "2023-08-24T12:14:34.285Z"
   },
   {
    "duration": 0,
    "start_time": "2023-08-24T12:14:34.286Z"
   },
   {
    "duration": 0,
    "start_time": "2023-08-24T12:14:34.287Z"
   },
   {
    "duration": 0,
    "start_time": "2023-08-24T12:14:34.288Z"
   },
   {
    "duration": 0,
    "start_time": "2023-08-24T12:14:34.289Z"
   },
   {
    "duration": 0,
    "start_time": "2023-08-24T12:14:34.290Z"
   },
   {
    "duration": 0,
    "start_time": "2023-08-24T12:14:34.291Z"
   },
   {
    "duration": 0,
    "start_time": "2023-08-24T12:14:34.292Z"
   },
   {
    "duration": 0,
    "start_time": "2023-08-24T12:14:34.293Z"
   },
   {
    "duration": 0,
    "start_time": "2023-08-24T12:14:34.294Z"
   },
   {
    "duration": 0,
    "start_time": "2023-08-24T12:14:34.353Z"
   },
   {
    "duration": 2,
    "start_time": "2023-08-24T12:31:58.075Z"
   },
   {
    "duration": 5,
    "start_time": "2023-08-24T12:31:58.439Z"
   },
   {
    "duration": 5,
    "start_time": "2023-08-24T12:32:03.675Z"
   },
   {
    "duration": 4,
    "start_time": "2023-08-24T12:32:05.066Z"
   },
   {
    "duration": 8,
    "start_time": "2023-08-24T12:32:06.128Z"
   },
   {
    "duration": 108,
    "start_time": "2023-08-24T12:32:30.184Z"
   },
   {
    "duration": 4,
    "start_time": "2023-08-24T12:34:12.817Z"
   },
   {
    "duration": 19,
    "start_time": "2023-08-24T12:34:14.985Z"
   },
   {
    "duration": 4,
    "start_time": "2023-08-24T12:34:49.025Z"
   },
   {
    "duration": 18,
    "start_time": "2023-08-24T12:35:10.215Z"
   },
   {
    "duration": 6,
    "start_time": "2023-08-24T12:37:07.849Z"
   },
   {
    "duration": 22,
    "start_time": "2023-08-24T12:37:08.748Z"
   },
   {
    "duration": 4,
    "start_time": "2023-08-24T12:38:07.622Z"
   },
   {
    "duration": 4,
    "start_time": "2023-08-24T12:40:16.633Z"
   },
   {
    "duration": 4,
    "start_time": "2023-08-24T12:40:17.526Z"
   },
   {
    "duration": 4,
    "start_time": "2023-08-24T12:40:18.209Z"
   },
   {
    "duration": 8,
    "start_time": "2023-08-24T12:40:27.701Z"
   },
   {
    "duration": 99,
    "start_time": "2023-08-24T12:40:32.640Z"
   },
   {
    "duration": 187,
    "start_time": "2023-08-24T12:40:42.865Z"
   },
   {
    "duration": 5,
    "start_time": "2023-08-24T12:52:33.701Z"
   },
   {
    "duration": 4,
    "start_time": "2023-08-24T12:52:36.923Z"
   },
   {
    "duration": 4,
    "start_time": "2023-08-24T12:52:37.329Z"
   },
   {
    "duration": 11,
    "start_time": "2023-08-24T12:52:37.736Z"
   },
   {
    "duration": 124,
    "start_time": "2023-08-24T12:52:38.307Z"
   },
   {
    "duration": 168,
    "start_time": "2023-08-24T12:52:39.934Z"
   },
   {
    "duration": 3,
    "start_time": "2023-08-24T12:53:09.297Z"
   },
   {
    "duration": 9,
    "start_time": "2023-08-24T12:53:10.034Z"
   },
   {
    "duration": 106,
    "start_time": "2023-08-24T12:53:13.926Z"
   },
   {
    "duration": 167,
    "start_time": "2023-08-24T12:53:17.545Z"
   },
   {
    "duration": 8,
    "start_time": "2023-08-24T12:53:33.667Z"
   },
   {
    "duration": 4,
    "start_time": "2023-08-24T12:55:10.805Z"
   },
   {
    "duration": 4,
    "start_time": "2023-08-24T12:56:08.677Z"
   },
   {
    "duration": 8,
    "start_time": "2023-08-24T12:56:09.670Z"
   },
   {
    "duration": 4,
    "start_time": "2023-08-24T12:56:45.269Z"
   },
   {
    "duration": 4,
    "start_time": "2023-08-24T12:57:03.256Z"
   },
   {
    "duration": 5,
    "start_time": "2023-08-24T12:57:08.425Z"
   },
   {
    "duration": 17,
    "start_time": "2023-08-24T12:57:12.316Z"
   },
   {
    "duration": 4,
    "start_time": "2023-08-24T12:57:14.270Z"
   },
   {
    "duration": 5,
    "start_time": "2023-08-24T12:57:14.695Z"
   },
   {
    "duration": 4,
    "start_time": "2023-08-24T12:57:15.269Z"
   },
   {
    "duration": 5,
    "start_time": "2023-08-24T12:57:15.967Z"
   },
   {
    "duration": 5,
    "start_time": "2023-08-24T12:57:16.372Z"
   },
   {
    "duration": 4,
    "start_time": "2023-08-24T12:57:17.520Z"
   },
   {
    "duration": 15,
    "start_time": "2023-08-24T12:57:17.948Z"
   },
   {
    "duration": 101,
    "start_time": "2023-08-24T12:59:52.087Z"
   },
   {
    "duration": 263,
    "start_time": "2023-08-24T13:01:11.020Z"
   },
   {
    "duration": 3,
    "start_time": "2023-08-24T13:03:12.498Z"
   },
   {
    "duration": 6,
    "start_time": "2023-08-24T13:14:03.395Z"
   },
   {
    "duration": 3,
    "start_time": "2023-08-24T13:14:11.521Z"
   },
   {
    "duration": 8,
    "start_time": "2023-08-24T13:14:15.115Z"
   },
   {
    "duration": 7,
    "start_time": "2023-08-24T13:14:15.576Z"
   },
   {
    "duration": 5,
    "start_time": "2023-08-24T13:14:16.672Z"
   },
   {
    "duration": 3,
    "start_time": "2023-08-24T13:14:18.410Z"
   },
   {
    "duration": 18,
    "start_time": "2023-08-24T13:14:19.214Z"
   },
   {
    "duration": 15,
    "start_time": "2023-08-24T13:14:21.886Z"
   },
   {
    "duration": 13,
    "start_time": "2023-08-24T13:15:19.584Z"
   },
   {
    "duration": 24,
    "start_time": "2023-08-24T13:17:10.576Z"
   },
   {
    "duration": 20,
    "start_time": "2023-08-24T13:18:32.175Z"
   },
   {
    "duration": 12,
    "start_time": "2023-08-24T13:23:13.868Z"
   },
   {
    "duration": 3,
    "start_time": "2023-08-24T13:23:37.842Z"
   },
   {
    "duration": 5,
    "start_time": "2023-08-24T13:23:55.521Z"
   },
   {
    "duration": 136,
    "start_time": "2023-08-24T13:24:25.801Z"
   },
   {
    "duration": 5,
    "start_time": "2023-08-24T13:25:29.628Z"
   },
   {
    "duration": 1802,
    "start_time": "2023-08-24T13:25:33.622Z"
   },
   {
    "duration": 0,
    "start_time": "2023-08-24T13:25:35.426Z"
   },
   {
    "duration": 0,
    "start_time": "2023-08-24T13:25:35.427Z"
   },
   {
    "duration": 0,
    "start_time": "2023-08-24T13:25:35.428Z"
   },
   {
    "duration": 0,
    "start_time": "2023-08-24T13:25:35.429Z"
   },
   {
    "duration": 1156,
    "start_time": "2023-08-24T13:25:48.001Z"
   },
   {
    "duration": 75,
    "start_time": "2023-08-24T13:25:49.159Z"
   },
   {
    "duration": 29,
    "start_time": "2023-08-24T13:25:49.236Z"
   },
   {
    "duration": 12,
    "start_time": "2023-08-24T13:25:49.268Z"
   },
   {
    "duration": 32,
    "start_time": "2023-08-24T13:25:49.282Z"
   },
   {
    "duration": 33,
    "start_time": "2023-08-24T13:25:49.316Z"
   },
   {
    "duration": 4,
    "start_time": "2023-08-24T13:25:49.351Z"
   },
   {
    "duration": 21,
    "start_time": "2023-08-24T13:25:49.356Z"
   },
   {
    "duration": 12,
    "start_time": "2023-08-24T13:25:49.379Z"
   },
   {
    "duration": 10,
    "start_time": "2023-08-24T13:25:49.394Z"
   },
   {
    "duration": 130,
    "start_time": "2023-08-24T13:25:49.405Z"
   },
   {
    "duration": 105,
    "start_time": "2023-08-24T13:25:49.537Z"
   },
   {
    "duration": 0,
    "start_time": "2023-08-24T13:25:49.644Z"
   },
   {
    "duration": 0,
    "start_time": "2023-08-24T13:25:49.645Z"
   },
   {
    "duration": 0,
    "start_time": "2023-08-24T13:25:49.652Z"
   },
   {
    "duration": 0,
    "start_time": "2023-08-24T13:25:49.653Z"
   },
   {
    "duration": 0,
    "start_time": "2023-08-24T13:25:49.655Z"
   },
   {
    "duration": 0,
    "start_time": "2023-08-24T13:25:49.656Z"
   },
   {
    "duration": 0,
    "start_time": "2023-08-24T13:25:49.657Z"
   },
   {
    "duration": 0,
    "start_time": "2023-08-24T13:25:49.658Z"
   },
   {
    "duration": 0,
    "start_time": "2023-08-24T13:25:49.659Z"
   },
   {
    "duration": 1,
    "start_time": "2023-08-24T13:25:49.659Z"
   },
   {
    "duration": 0,
    "start_time": "2023-08-24T13:25:49.661Z"
   },
   {
    "duration": 0,
    "start_time": "2023-08-24T13:25:49.661Z"
   },
   {
    "duration": 0,
    "start_time": "2023-08-24T13:25:49.662Z"
   },
   {
    "duration": 0,
    "start_time": "2023-08-24T13:25:49.663Z"
   },
   {
    "duration": 0,
    "start_time": "2023-08-24T13:25:49.664Z"
   },
   {
    "duration": 0,
    "start_time": "2023-08-24T13:25:49.665Z"
   },
   {
    "duration": 0,
    "start_time": "2023-08-24T13:25:49.666Z"
   },
   {
    "duration": 0,
    "start_time": "2023-08-24T13:25:49.667Z"
   },
   {
    "duration": 0,
    "start_time": "2023-08-24T13:25:49.668Z"
   },
   {
    "duration": 0,
    "start_time": "2023-08-24T13:25:49.669Z"
   },
   {
    "duration": 0,
    "start_time": "2023-08-24T13:25:49.669Z"
   },
   {
    "duration": 0,
    "start_time": "2023-08-24T13:25:49.676Z"
   },
   {
    "duration": 0,
    "start_time": "2023-08-24T13:25:49.677Z"
   },
   {
    "duration": 0,
    "start_time": "2023-08-24T13:25:49.678Z"
   },
   {
    "duration": 0,
    "start_time": "2023-08-24T13:25:49.679Z"
   },
   {
    "duration": 0,
    "start_time": "2023-08-24T13:25:49.681Z"
   },
   {
    "duration": 0,
    "start_time": "2023-08-24T13:25:49.682Z"
   },
   {
    "duration": 0,
    "start_time": "2023-08-24T13:25:49.683Z"
   },
   {
    "duration": 0,
    "start_time": "2023-08-24T13:25:49.686Z"
   },
   {
    "duration": 0,
    "start_time": "2023-08-24T13:25:49.687Z"
   },
   {
    "duration": 0,
    "start_time": "2023-08-24T13:25:49.688Z"
   },
   {
    "duration": 0,
    "start_time": "2023-08-24T13:25:49.690Z"
   },
   {
    "duration": 5,
    "start_time": "2023-08-24T13:26:22.404Z"
   },
   {
    "duration": 4,
    "start_time": "2023-08-24T13:26:26.019Z"
   },
   {
    "duration": 4,
    "start_time": "2023-08-24T13:26:27.065Z"
   },
   {
    "duration": 9,
    "start_time": "2023-08-24T13:26:29.190Z"
   },
   {
    "duration": 105,
    "start_time": "2023-08-24T13:26:30.002Z"
   },
   {
    "duration": 191,
    "start_time": "2023-08-24T13:26:30.685Z"
   },
   {
    "duration": 4,
    "start_time": "2023-08-24T13:26:31.798Z"
   },
   {
    "duration": 4,
    "start_time": "2023-08-24T13:26:32.122Z"
   },
   {
    "duration": 3,
    "start_time": "2023-08-24T13:26:32.374Z"
   },
   {
    "duration": 4,
    "start_time": "2023-08-24T13:26:32.868Z"
   },
   {
    "duration": 4,
    "start_time": "2023-08-24T13:26:33.632Z"
   },
   {
    "duration": 6,
    "start_time": "2023-08-24T13:26:34.182Z"
   },
   {
    "duration": 5,
    "start_time": "2023-08-24T13:26:34.431Z"
   },
   {
    "duration": 14,
    "start_time": "2023-08-24T13:26:34.911Z"
   },
   {
    "duration": 4,
    "start_time": "2023-08-24T13:26:35.148Z"
   },
   {
    "duration": 5,
    "start_time": "2023-08-24T13:26:35.375Z"
   },
   {
    "duration": 3,
    "start_time": "2023-08-24T13:26:35.596Z"
   },
   {
    "duration": 5,
    "start_time": "2023-08-24T13:26:35.841Z"
   },
   {
    "duration": 5,
    "start_time": "2023-08-24T13:26:36.076Z"
   },
   {
    "duration": 4,
    "start_time": "2023-08-24T13:26:36.316Z"
   },
   {
    "duration": 24,
    "start_time": "2023-08-24T13:26:36.564Z"
   },
   {
    "duration": 6,
    "start_time": "2023-08-24T13:26:37.528Z"
   },
   {
    "duration": 2,
    "start_time": "2023-08-24T13:26:38.676Z"
   },
   {
    "duration": 9,
    "start_time": "2023-08-24T13:26:39.501Z"
   },
   {
    "duration": 8,
    "start_time": "2023-08-24T13:26:39.769Z"
   },
   {
    "duration": 4,
    "start_time": "2023-08-24T13:26:40.269Z"
   },
   {
    "duration": 3,
    "start_time": "2023-08-24T13:26:40.808Z"
   },
   {
    "duration": 19,
    "start_time": "2023-08-24T13:26:41.137Z"
   },
   {
    "duration": 16,
    "start_time": "2023-08-24T13:26:41.682Z"
   },
   {
    "duration": 25,
    "start_time": "2023-08-24T13:26:42.999Z"
   },
   {
    "duration": 21,
    "start_time": "2023-08-24T13:26:44.425Z"
   },
   {
    "duration": 24,
    "start_time": "2023-08-24T13:26:45.346Z"
   },
   {
    "duration": 23,
    "start_time": "2023-08-24T13:28:31.304Z"
   },
   {
    "duration": 6,
    "start_time": "2023-08-24T13:33:49.179Z"
   },
   {
    "duration": 341,
    "start_time": "2023-08-24T13:42:03.189Z"
   },
   {
    "duration": 5,
    "start_time": "2023-08-24T13:46:21.581Z"
   },
   {
    "duration": 31,
    "start_time": "2023-08-24T13:46:22.070Z"
   },
   {
    "duration": 8,
    "start_time": "2023-08-24T13:47:24.351Z"
   },
   {
    "duration": 5,
    "start_time": "2023-08-24T13:47:46.941Z"
   },
   {
    "duration": 30,
    "start_time": "2023-08-24T13:47:57.167Z"
   },
   {
    "duration": 3,
    "start_time": "2023-08-24T13:47:57.509Z"
   },
   {
    "duration": 22,
    "start_time": "2023-08-24T13:49:13.736Z"
   }
  ],
  "kernelspec": {
   "display_name": "Python 3 (ipykernel)",
   "language": "python",
   "name": "python3"
  },
  "language_info": {
   "codemirror_mode": {
    "name": "ipython",
    "version": 3
   },
   "file_extension": ".py",
   "mimetype": "text/x-python",
   "name": "python",
   "nbconvert_exporter": "python",
   "pygments_lexer": "ipython3",
   "version": "3.9.12"
  },
  "toc": {
   "base_numbering": 1,
   "nav_menu": {},
   "number_sections": true,
   "sideBar": true,
   "skip_h1_title": true,
   "title_cell": "Table of Contents",
   "title_sidebar": "Contents",
   "toc_cell": false,
   "toc_position": {},
   "toc_section_display": true,
   "toc_window_display": false
  }
 },
 "nbformat": 4,
 "nbformat_minor": 5
}
