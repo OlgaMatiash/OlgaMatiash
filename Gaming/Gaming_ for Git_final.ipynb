{
 "cells": [
  {
   "cell_type": "markdown",
   "metadata": {},
   "source": [
    "# Computer Games Store"
   ]
  },
  {
   "cell_type": "markdown",
   "metadata": {},
   "source": [
    "## Project Description and Goals"
   ]
  },
  {
   "cell_type": "markdown",
   "metadata": {},
   "source": [
    "The project involves conducting a data analysis for the online store \"Streamchik,\" which sells computer games worldwide. Historical data on game sales, user and expert ratings, genres, and platforms (such as Xbox or PlayStation) are available from open sources. The main objective is to uncover patterns that determine the success of a game. This insight will enable the store to focus on potentially popular products and plan effective advertising campaigns.\n",
    "\n",
    "The provided dataset covers information up until the year 2016. Let's assume the current date is December 2016, and the store is planning campaigns for the year 2017.\n",
    "\n",
    "Within the dataset, there is an abbreviation \"ESRB\" (Entertainment Software Rating Board) – an association that assigns age ratings to computer games. ESRB evaluates game content and assigns appropriate age categories, such as \"Mature,\" \"Early Childhood,\" or \"Teen.\"\n",
    "\n",
    "In summary, the project's main goals include analyzing historical game sales data to identify trends, patterns, and factors that contribute to a game's success. This analysis will aid in strategic decision-making, such as focusing on potential hit products and optimizing marketing strategies.\n",
    "\n"
   ]
  },
  {
   "cell_type": "markdown",
   "metadata": {},
   "source": [
    "## Exploratory Data Analysis"
   ]
  },
  {
   "cell_type": "code",
   "execution_count": 1,
   "metadata": {},
   "outputs": [],
   "source": [
    "import pandas as pd"
   ]
  },
  {
   "cell_type": "code",
   "execution_count": 2,
   "metadata": {},
   "outputs": [],
   "source": [
    "import matplotlib.pyplot as plt"
   ]
  },
  {
   "cell_type": "code",
   "execution_count": 3,
   "metadata": {},
   "outputs": [],
   "source": [
    "import numpy as np"
   ]
  },
  {
   "cell_type": "code",
   "execution_count": 4,
   "metadata": {},
   "outputs": [],
   "source": [
    "import seaborn as sns"
   ]
  },
  {
   "cell_type": "code",
   "execution_count": 5,
   "metadata": {},
   "outputs": [],
   "source": [
    "from scipy import stats as st "
   ]
  },
  {
   "cell_type": "code",
   "execution_count": 6,
   "metadata": {},
   "outputs": [],
   "source": [
    "data=pd.read_csv('/datasets/games.csv')"
   ]
  },
  {
   "cell_type": "markdown",
   "metadata": {},
   "source": [
    "### Сonvert the column names to lowercase."
   ]
  },
  {
   "cell_type": "code",
   "execution_count": 7,
   "metadata": {},
   "outputs": [],
   "source": [
    "data.columns=data.columns.str.lower()"
   ]
  },
  {
   "cell_type": "markdown",
   "metadata": {},
   "source": [
    "### Transform the data into the required type."
   ]
  },
  {
   "cell_type": "code",
   "execution_count": 8,
   "metadata": {},
   "outputs": [
    {
     "name": "stdout",
     "output_type": "stream",
     "text": [
      "<class 'pandas.core.frame.DataFrame'>\n",
      "RangeIndex: 16715 entries, 0 to 16714\n",
      "Data columns (total 11 columns):\n",
      " #   Column           Non-Null Count  Dtype  \n",
      "---  ------           --------------  -----  \n",
      " 0   name             16713 non-null  object \n",
      " 1   platform         16715 non-null  object \n",
      " 2   year_of_release  16446 non-null  float64\n",
      " 3   genre            16713 non-null  object \n",
      " 4   na_sales         16715 non-null  float64\n",
      " 5   eu_sales         16715 non-null  float64\n",
      " 6   jp_sales         16715 non-null  float64\n",
      " 7   other_sales      16715 non-null  float64\n",
      " 8   critic_score     8137 non-null   float64\n",
      " 9   user_score       10014 non-null  object \n",
      " 10  rating           9949 non-null   object \n",
      "dtypes: float64(6), object(5)\n",
      "memory usage: 1.4+ MB\n"
     ]
    }
   ],
   "source": [
    "data.info()"
   ]
  },
  {
   "cell_type": "markdown",
   "metadata": {},
   "source": [
    " Convert the \"year_of_release\" column to the datetime type."
   ]
  },
  {
   "cell_type": "code",
   "execution_count": 9,
   "metadata": {},
   "outputs": [],
   "source": [
    "data['year_of_release']=data['year_of_release'].astype('Int64')"
   ]
  },
  {
   "cell_type": "markdown",
   "metadata": {},
   "source": [
    " convert the \"user_score\" column from object type to float"
   ]
  },
  {
   "cell_type": "markdown",
   "metadata": {},
   "source": [
    "Converting to float is not working; it's giving an error. Let's check the unique values in this column"
   ]
  },
  {
   "cell_type": "code",
   "execution_count": 10,
   "metadata": {},
   "outputs": [
    {
     "data": {
      "text/plain": [
       "array(['8', nan, '8.3', '8.5', '6.6', '8.4', '8.6', '7.7', '6.3', '7.4',\n",
       "       '8.2', '9', '7.9', '8.1', '8.7', '7.1', '3.4', '5.3', '4.8', '3.2',\n",
       "       '8.9', '6.4', '7.8', '7.5', '2.6', '7.2', '9.2', '7', '7.3', '4.3',\n",
       "       '7.6', '5.7', '5', '9.1', '6.5', 'tbd', '8.8', '6.9', '9.4', '6.8',\n",
       "       '6.1', '6.7', '5.4', '4', '4.9', '4.5', '9.3', '6.2', '4.2', '6',\n",
       "       '3.7', '4.1', '5.8', '5.6', '5.5', '4.4', '4.6', '5.9', '3.9',\n",
       "       '3.1', '2.9', '5.2', '3.3', '4.7', '5.1', '3.5', '2.5', '1.9', '3',\n",
       "       '2.7', '2.2', '2', '9.5', '2.1', '3.6', '2.8', '1.8', '3.8', '0',\n",
       "       '1.6', '9.6', '2.4', '1.7', '1.1', '0.3', '1.5', '0.7', '1.2',\n",
       "       '2.3', '0.5', '1.3', '0.2', '0.6', '1.4', '0.9', '1', '9.7'],\n",
       "      dtype=object)"
      ]
     },
     "execution_count": 10,
     "metadata": {},
     "output_type": "execute_result"
    }
   ],
   "source": [
    "data['user_score'].unique()"
   ]
  },
  {
   "cell_type": "markdown",
   "metadata": {},
   "source": [
    "We've discovered the value 'tbd,' which prevents us from converting the column to the float format, performing mathematical calculations, and creating graphs. 'tbd' stands for \"to be determined.\" Let's replace it with NaN (Not a Number)."
   ]
  },
  {
   "cell_type": "code",
   "execution_count": 11,
   "metadata": {},
   "outputs": [],
   "source": [
    "data.loc[data['user_score']=='tbd'] = np.NaN"
   ]
  },
  {
   "cell_type": "code",
   "execution_count": 12,
   "metadata": {},
   "outputs": [
    {
     "data": {
      "text/html": [
       "<div>\n",
       "<style scoped>\n",
       "    .dataframe tbody tr th:only-of-type {\n",
       "        vertical-align: middle;\n",
       "    }\n",
       "\n",
       "    .dataframe tbody tr th {\n",
       "        vertical-align: top;\n",
       "    }\n",
       "\n",
       "    .dataframe thead th {\n",
       "        text-align: right;\n",
       "    }\n",
       "</style>\n",
       "<table border=\"1\" class=\"dataframe\">\n",
       "  <thead>\n",
       "    <tr style=\"text-align: right;\">\n",
       "      <th></th>\n",
       "      <th>name</th>\n",
       "      <th>platform</th>\n",
       "      <th>year_of_release</th>\n",
       "      <th>genre</th>\n",
       "      <th>na_sales</th>\n",
       "      <th>eu_sales</th>\n",
       "      <th>jp_sales</th>\n",
       "      <th>other_sales</th>\n",
       "      <th>critic_score</th>\n",
       "      <th>user_score</th>\n",
       "      <th>rating</th>\n",
       "    </tr>\n",
       "  </thead>\n",
       "  <tbody>\n",
       "    <tr>\n",
       "      <th>0</th>\n",
       "      <td>Wii Sports</td>\n",
       "      <td>Wii</td>\n",
       "      <td>2006</td>\n",
       "      <td>Sports</td>\n",
       "      <td>41.36</td>\n",
       "      <td>28.96</td>\n",
       "      <td>3.77</td>\n",
       "      <td>8.45</td>\n",
       "      <td>76.0</td>\n",
       "      <td>8</td>\n",
       "      <td>E</td>\n",
       "    </tr>\n",
       "    <tr>\n",
       "      <th>1</th>\n",
       "      <td>Super Mario Bros.</td>\n",
       "      <td>NES</td>\n",
       "      <td>1985</td>\n",
       "      <td>Platform</td>\n",
       "      <td>29.08</td>\n",
       "      <td>3.58</td>\n",
       "      <td>6.81</td>\n",
       "      <td>0.77</td>\n",
       "      <td>NaN</td>\n",
       "      <td>NaN</td>\n",
       "      <td>NaN</td>\n",
       "    </tr>\n",
       "    <tr>\n",
       "      <th>2</th>\n",
       "      <td>Mario Kart Wii</td>\n",
       "      <td>Wii</td>\n",
       "      <td>2008</td>\n",
       "      <td>Racing</td>\n",
       "      <td>15.68</td>\n",
       "      <td>12.76</td>\n",
       "      <td>3.79</td>\n",
       "      <td>3.29</td>\n",
       "      <td>82.0</td>\n",
       "      <td>8.3</td>\n",
       "      <td>E</td>\n",
       "    </tr>\n",
       "    <tr>\n",
       "      <th>3</th>\n",
       "      <td>Wii Sports Resort</td>\n",
       "      <td>Wii</td>\n",
       "      <td>2009</td>\n",
       "      <td>Sports</td>\n",
       "      <td>15.61</td>\n",
       "      <td>10.93</td>\n",
       "      <td>3.28</td>\n",
       "      <td>2.95</td>\n",
       "      <td>80.0</td>\n",
       "      <td>8</td>\n",
       "      <td>E</td>\n",
       "    </tr>\n",
       "    <tr>\n",
       "      <th>4</th>\n",
       "      <td>Pokemon Red/Pokemon Blue</td>\n",
       "      <td>GB</td>\n",
       "      <td>1996</td>\n",
       "      <td>Role-Playing</td>\n",
       "      <td>11.27</td>\n",
       "      <td>8.89</td>\n",
       "      <td>10.22</td>\n",
       "      <td>1.00</td>\n",
       "      <td>NaN</td>\n",
       "      <td>NaN</td>\n",
       "      <td>NaN</td>\n",
       "    </tr>\n",
       "    <tr>\n",
       "      <th>...</th>\n",
       "      <td>...</td>\n",
       "      <td>...</td>\n",
       "      <td>...</td>\n",
       "      <td>...</td>\n",
       "      <td>...</td>\n",
       "      <td>...</td>\n",
       "      <td>...</td>\n",
       "      <td>...</td>\n",
       "      <td>...</td>\n",
       "      <td>...</td>\n",
       "      <td>...</td>\n",
       "    </tr>\n",
       "    <tr>\n",
       "      <th>16710</th>\n",
       "      <td>Samurai Warriors: Sanada Maru</td>\n",
       "      <td>PS3</td>\n",
       "      <td>2016</td>\n",
       "      <td>Action</td>\n",
       "      <td>0.00</td>\n",
       "      <td>0.00</td>\n",
       "      <td>0.01</td>\n",
       "      <td>0.00</td>\n",
       "      <td>NaN</td>\n",
       "      <td>NaN</td>\n",
       "      <td>NaN</td>\n",
       "    </tr>\n",
       "    <tr>\n",
       "      <th>16711</th>\n",
       "      <td>LMA Manager 2007</td>\n",
       "      <td>X360</td>\n",
       "      <td>2006</td>\n",
       "      <td>Sports</td>\n",
       "      <td>0.00</td>\n",
       "      <td>0.01</td>\n",
       "      <td>0.00</td>\n",
       "      <td>0.00</td>\n",
       "      <td>NaN</td>\n",
       "      <td>NaN</td>\n",
       "      <td>NaN</td>\n",
       "    </tr>\n",
       "    <tr>\n",
       "      <th>16712</th>\n",
       "      <td>Haitaka no Psychedelica</td>\n",
       "      <td>PSV</td>\n",
       "      <td>2016</td>\n",
       "      <td>Adventure</td>\n",
       "      <td>0.00</td>\n",
       "      <td>0.00</td>\n",
       "      <td>0.01</td>\n",
       "      <td>0.00</td>\n",
       "      <td>NaN</td>\n",
       "      <td>NaN</td>\n",
       "      <td>NaN</td>\n",
       "    </tr>\n",
       "    <tr>\n",
       "      <th>16713</th>\n",
       "      <td>Spirits &amp; Spells</td>\n",
       "      <td>GBA</td>\n",
       "      <td>2003</td>\n",
       "      <td>Platform</td>\n",
       "      <td>0.01</td>\n",
       "      <td>0.00</td>\n",
       "      <td>0.00</td>\n",
       "      <td>0.00</td>\n",
       "      <td>NaN</td>\n",
       "      <td>NaN</td>\n",
       "      <td>NaN</td>\n",
       "    </tr>\n",
       "    <tr>\n",
       "      <th>16714</th>\n",
       "      <td>Winning Post 8 2016</td>\n",
       "      <td>PSV</td>\n",
       "      <td>2016</td>\n",
       "      <td>Simulation</td>\n",
       "      <td>0.00</td>\n",
       "      <td>0.00</td>\n",
       "      <td>0.01</td>\n",
       "      <td>0.00</td>\n",
       "      <td>NaN</td>\n",
       "      <td>NaN</td>\n",
       "      <td>NaN</td>\n",
       "    </tr>\n",
       "  </tbody>\n",
       "</table>\n",
       "<p>16715 rows × 11 columns</p>\n",
       "</div>"
      ],
      "text/plain": [
       "                                name platform  year_of_release         genre  \\\n",
       "0                         Wii Sports      Wii             2006        Sports   \n",
       "1                  Super Mario Bros.      NES             1985      Platform   \n",
       "2                     Mario Kart Wii      Wii             2008        Racing   \n",
       "3                  Wii Sports Resort      Wii             2009        Sports   \n",
       "4           Pokemon Red/Pokemon Blue       GB             1996  Role-Playing   \n",
       "...                              ...      ...              ...           ...   \n",
       "16710  Samurai Warriors: Sanada Maru      PS3             2016        Action   \n",
       "16711               LMA Manager 2007     X360             2006        Sports   \n",
       "16712        Haitaka no Psychedelica      PSV             2016     Adventure   \n",
       "16713               Spirits & Spells      GBA             2003      Platform   \n",
       "16714            Winning Post 8 2016      PSV             2016    Simulation   \n",
       "\n",
       "       na_sales  eu_sales  jp_sales  other_sales  critic_score user_score  \\\n",
       "0         41.36     28.96      3.77         8.45          76.0          8   \n",
       "1         29.08      3.58      6.81         0.77           NaN        NaN   \n",
       "2         15.68     12.76      3.79         3.29          82.0        8.3   \n",
       "3         15.61     10.93      3.28         2.95          80.0          8   \n",
       "4         11.27      8.89     10.22         1.00           NaN        NaN   \n",
       "...         ...       ...       ...          ...           ...        ...   \n",
       "16710      0.00      0.00      0.01         0.00           NaN        NaN   \n",
       "16711      0.00      0.01      0.00         0.00           NaN        NaN   \n",
       "16712      0.00      0.00      0.01         0.00           NaN        NaN   \n",
       "16713      0.01      0.00      0.00         0.00           NaN        NaN   \n",
       "16714      0.00      0.00      0.01         0.00           NaN        NaN   \n",
       "\n",
       "      rating  \n",
       "0          E  \n",
       "1        NaN  \n",
       "2          E  \n",
       "3          E  \n",
       "4        NaN  \n",
       "...      ...  \n",
       "16710    NaN  \n",
       "16711    NaN  \n",
       "16712    NaN  \n",
       "16713    NaN  \n",
       "16714    NaN  \n",
       "\n",
       "[16715 rows x 11 columns]"
      ]
     },
     "metadata": {},
     "output_type": "display_data"
    }
   ],
   "source": [
    "display(data)"
   ]
  },
  {
   "cell_type": "code",
   "execution_count": 13,
   "metadata": {},
   "outputs": [],
   "source": [
    "data['user_score']= data['user_score'].astype(float)"
   ]
  },
  {
   "cell_type": "markdown",
   "metadata": {},
   "source": [
    "### Replace the missing values"
   ]
  },
  {
   "cell_type": "code",
   "execution_count": 14,
   "metadata": {},
   "outputs": [
    {
     "data": {
      "text/plain": [
       "name               0.145139\n",
       "platform           0.145019\n",
       "year_of_release    0.158241\n",
       "genre              0.145139\n",
       "na_sales           0.145019\n",
       "eu_sales           0.145019\n",
       "jp_sales           0.145019\n",
       "other_sales        0.145019\n",
       "critic_score       0.577924\n",
       "user_score         0.545917\n",
       "rating             0.546814\n",
       "dtype: float64"
      ]
     },
     "execution_count": 14,
     "metadata": {},
     "output_type": "execute_result"
    }
   ],
   "source": [
    "data.isna().mean()"
   ]
  },
  {
   "cell_type": "markdown",
   "metadata": {},
   "source": [
    "We will fill the missing ratings with the value 'not rated' to analyze the number of games without a rating."
   ]
  },
  {
   "cell_type": "code",
   "execution_count": 15,
   "metadata": {},
   "outputs": [],
   "source": [
    "data['rating'].fillna('not rated', inplace=True)"
   ]
  },
  {
   "cell_type": "code",
   "execution_count": 16,
   "metadata": {},
   "outputs": [
    {
     "data": {
      "text/plain": [
       "name               0.145139\n",
       "platform           0.145019\n",
       "year_of_release    0.158241\n",
       "genre              0.145139\n",
       "na_sales           0.145019\n",
       "eu_sales           0.145019\n",
       "jp_sales           0.145019\n",
       "other_sales        0.145019\n",
       "critic_score       0.577924\n",
       "user_score         0.545917\n",
       "rating             0.000000\n",
       "dtype: float64"
      ]
     },
     "execution_count": 16,
     "metadata": {},
     "output_type": "execute_result"
    }
   ],
   "source": [
    "data.isna().mean()"
   ]
  },
  {
   "cell_type": "markdown",
   "metadata": {},
   "source": [
    "We can observe that a significant proportion of missing values exists in the columns \"critic_score,\" \"user_score,\" and \"rating.\""
   ]
  },
  {
   "cell_type": "markdown",
   "metadata": {},
   "source": [
    "We have decided to fill the missing values in the \"rating\" column with \"not rated\" since it is crucial for us to analyze whether the absence of a rating impacts future sales. In the remaining columns, we have chosen not to fill in the missing values. This is because the nature of the values in the \"user_score\" and \"critic_score\" columns is random, and filling them with calculated values might significantly distort our analysis, leading to incorrect conclusions. The data might be missing because not all users had the chance to provide ratings."
   ]
  },
  {
   "cell_type": "markdown",
   "metadata": {},
   "source": [
    "## Identifying patterns which contribute to game's success"
   ]
  },
  {
   "cell_type": "markdown",
   "metadata": {},
   "source": [
    "### Calculate the total sales for all regions."
   ]
  },
  {
   "cell_type": "code",
   "execution_count": 17,
   "metadata": {},
   "outputs": [],
   "source": [
    "data['total_sales']=data['na_sales']+data['eu_sales']+data['jp_sales']+data['other_sales']"
   ]
  },
  {
   "cell_type": "code",
   "execution_count": 18,
   "metadata": {},
   "outputs": [
    {
     "data": {
      "text/html": [
       "<div>\n",
       "<style scoped>\n",
       "    .dataframe tbody tr th:only-of-type {\n",
       "        vertical-align: middle;\n",
       "    }\n",
       "\n",
       "    .dataframe tbody tr th {\n",
       "        vertical-align: top;\n",
       "    }\n",
       "\n",
       "    .dataframe thead th {\n",
       "        text-align: right;\n",
       "    }\n",
       "</style>\n",
       "<table border=\"1\" class=\"dataframe\">\n",
       "  <thead>\n",
       "    <tr style=\"text-align: right;\">\n",
       "      <th></th>\n",
       "      <th>name</th>\n",
       "      <th>platform</th>\n",
       "      <th>year_of_release</th>\n",
       "      <th>genre</th>\n",
       "      <th>na_sales</th>\n",
       "      <th>eu_sales</th>\n",
       "      <th>jp_sales</th>\n",
       "      <th>other_sales</th>\n",
       "      <th>critic_score</th>\n",
       "      <th>user_score</th>\n",
       "      <th>rating</th>\n",
       "      <th>total_sales</th>\n",
       "    </tr>\n",
       "  </thead>\n",
       "  <tbody>\n",
       "    <tr>\n",
       "      <th>0</th>\n",
       "      <td>Wii Sports</td>\n",
       "      <td>Wii</td>\n",
       "      <td>2006</td>\n",
       "      <td>Sports</td>\n",
       "      <td>41.36</td>\n",
       "      <td>28.96</td>\n",
       "      <td>3.77</td>\n",
       "      <td>8.45</td>\n",
       "      <td>76.0</td>\n",
       "      <td>8.0</td>\n",
       "      <td>E</td>\n",
       "      <td>82.54</td>\n",
       "    </tr>\n",
       "    <tr>\n",
       "      <th>1</th>\n",
       "      <td>Super Mario Bros.</td>\n",
       "      <td>NES</td>\n",
       "      <td>1985</td>\n",
       "      <td>Platform</td>\n",
       "      <td>29.08</td>\n",
       "      <td>3.58</td>\n",
       "      <td>6.81</td>\n",
       "      <td>0.77</td>\n",
       "      <td>NaN</td>\n",
       "      <td>NaN</td>\n",
       "      <td>not rated</td>\n",
       "      <td>40.24</td>\n",
       "    </tr>\n",
       "    <tr>\n",
       "      <th>2</th>\n",
       "      <td>Mario Kart Wii</td>\n",
       "      <td>Wii</td>\n",
       "      <td>2008</td>\n",
       "      <td>Racing</td>\n",
       "      <td>15.68</td>\n",
       "      <td>12.76</td>\n",
       "      <td>3.79</td>\n",
       "      <td>3.29</td>\n",
       "      <td>82.0</td>\n",
       "      <td>8.3</td>\n",
       "      <td>E</td>\n",
       "      <td>35.52</td>\n",
       "    </tr>\n",
       "    <tr>\n",
       "      <th>3</th>\n",
       "      <td>Wii Sports Resort</td>\n",
       "      <td>Wii</td>\n",
       "      <td>2009</td>\n",
       "      <td>Sports</td>\n",
       "      <td>15.61</td>\n",
       "      <td>10.93</td>\n",
       "      <td>3.28</td>\n",
       "      <td>2.95</td>\n",
       "      <td>80.0</td>\n",
       "      <td>8.0</td>\n",
       "      <td>E</td>\n",
       "      <td>32.77</td>\n",
       "    </tr>\n",
       "    <tr>\n",
       "      <th>4</th>\n",
       "      <td>Pokemon Red/Pokemon Blue</td>\n",
       "      <td>GB</td>\n",
       "      <td>1996</td>\n",
       "      <td>Role-Playing</td>\n",
       "      <td>11.27</td>\n",
       "      <td>8.89</td>\n",
       "      <td>10.22</td>\n",
       "      <td>1.00</td>\n",
       "      <td>NaN</td>\n",
       "      <td>NaN</td>\n",
       "      <td>not rated</td>\n",
       "      <td>31.38</td>\n",
       "    </tr>\n",
       "    <tr>\n",
       "      <th>5</th>\n",
       "      <td>Tetris</td>\n",
       "      <td>GB</td>\n",
       "      <td>1989</td>\n",
       "      <td>Puzzle</td>\n",
       "      <td>23.20</td>\n",
       "      <td>2.26</td>\n",
       "      <td>4.22</td>\n",
       "      <td>0.58</td>\n",
       "      <td>NaN</td>\n",
       "      <td>NaN</td>\n",
       "      <td>not rated</td>\n",
       "      <td>30.26</td>\n",
       "    </tr>\n",
       "    <tr>\n",
       "      <th>6</th>\n",
       "      <td>New Super Mario Bros.</td>\n",
       "      <td>DS</td>\n",
       "      <td>2006</td>\n",
       "      <td>Platform</td>\n",
       "      <td>11.28</td>\n",
       "      <td>9.14</td>\n",
       "      <td>6.50</td>\n",
       "      <td>2.88</td>\n",
       "      <td>89.0</td>\n",
       "      <td>8.5</td>\n",
       "      <td>E</td>\n",
       "      <td>29.80</td>\n",
       "    </tr>\n",
       "    <tr>\n",
       "      <th>7</th>\n",
       "      <td>Wii Play</td>\n",
       "      <td>Wii</td>\n",
       "      <td>2006</td>\n",
       "      <td>Misc</td>\n",
       "      <td>13.96</td>\n",
       "      <td>9.18</td>\n",
       "      <td>2.93</td>\n",
       "      <td>2.84</td>\n",
       "      <td>58.0</td>\n",
       "      <td>6.6</td>\n",
       "      <td>E</td>\n",
       "      <td>28.91</td>\n",
       "    </tr>\n",
       "    <tr>\n",
       "      <th>8</th>\n",
       "      <td>New Super Mario Bros. Wii</td>\n",
       "      <td>Wii</td>\n",
       "      <td>2009</td>\n",
       "      <td>Platform</td>\n",
       "      <td>14.44</td>\n",
       "      <td>6.94</td>\n",
       "      <td>4.70</td>\n",
       "      <td>2.24</td>\n",
       "      <td>87.0</td>\n",
       "      <td>8.4</td>\n",
       "      <td>E</td>\n",
       "      <td>28.32</td>\n",
       "    </tr>\n",
       "    <tr>\n",
       "      <th>9</th>\n",
       "      <td>Duck Hunt</td>\n",
       "      <td>NES</td>\n",
       "      <td>1984</td>\n",
       "      <td>Shooter</td>\n",
       "      <td>26.93</td>\n",
       "      <td>0.63</td>\n",
       "      <td>0.28</td>\n",
       "      <td>0.47</td>\n",
       "      <td>NaN</td>\n",
       "      <td>NaN</td>\n",
       "      <td>not rated</td>\n",
       "      <td>28.31</td>\n",
       "    </tr>\n",
       "    <tr>\n",
       "      <th>10</th>\n",
       "      <td>Nintendogs</td>\n",
       "      <td>DS</td>\n",
       "      <td>2005</td>\n",
       "      <td>Simulation</td>\n",
       "      <td>9.05</td>\n",
       "      <td>10.95</td>\n",
       "      <td>1.93</td>\n",
       "      <td>2.74</td>\n",
       "      <td>NaN</td>\n",
       "      <td>NaN</td>\n",
       "      <td>not rated</td>\n",
       "      <td>24.67</td>\n",
       "    </tr>\n",
       "    <tr>\n",
       "      <th>11</th>\n",
       "      <td>Mario Kart DS</td>\n",
       "      <td>DS</td>\n",
       "      <td>2005</td>\n",
       "      <td>Racing</td>\n",
       "      <td>9.71</td>\n",
       "      <td>7.47</td>\n",
       "      <td>4.13</td>\n",
       "      <td>1.90</td>\n",
       "      <td>91.0</td>\n",
       "      <td>8.6</td>\n",
       "      <td>E</td>\n",
       "      <td>23.21</td>\n",
       "    </tr>\n",
       "    <tr>\n",
       "      <th>12</th>\n",
       "      <td>Pokemon Gold/Pokemon Silver</td>\n",
       "      <td>GB</td>\n",
       "      <td>1999</td>\n",
       "      <td>Role-Playing</td>\n",
       "      <td>9.00</td>\n",
       "      <td>6.18</td>\n",
       "      <td>7.20</td>\n",
       "      <td>0.71</td>\n",
       "      <td>NaN</td>\n",
       "      <td>NaN</td>\n",
       "      <td>not rated</td>\n",
       "      <td>23.09</td>\n",
       "    </tr>\n",
       "    <tr>\n",
       "      <th>13</th>\n",
       "      <td>Wii Fit</td>\n",
       "      <td>Wii</td>\n",
       "      <td>2007</td>\n",
       "      <td>Sports</td>\n",
       "      <td>8.92</td>\n",
       "      <td>8.03</td>\n",
       "      <td>3.60</td>\n",
       "      <td>2.15</td>\n",
       "      <td>80.0</td>\n",
       "      <td>7.7</td>\n",
       "      <td>E</td>\n",
       "      <td>22.70</td>\n",
       "    </tr>\n",
       "    <tr>\n",
       "      <th>14</th>\n",
       "      <td>Kinect Adventures!</td>\n",
       "      <td>X360</td>\n",
       "      <td>2010</td>\n",
       "      <td>Misc</td>\n",
       "      <td>15.00</td>\n",
       "      <td>4.89</td>\n",
       "      <td>0.24</td>\n",
       "      <td>1.69</td>\n",
       "      <td>61.0</td>\n",
       "      <td>6.3</td>\n",
       "      <td>E</td>\n",
       "      <td>21.82</td>\n",
       "    </tr>\n",
       "    <tr>\n",
       "      <th>15</th>\n",
       "      <td>Wii Fit Plus</td>\n",
       "      <td>Wii</td>\n",
       "      <td>2009</td>\n",
       "      <td>Sports</td>\n",
       "      <td>9.01</td>\n",
       "      <td>8.49</td>\n",
       "      <td>2.53</td>\n",
       "      <td>1.77</td>\n",
       "      <td>80.0</td>\n",
       "      <td>7.4</td>\n",
       "      <td>E</td>\n",
       "      <td>21.80</td>\n",
       "    </tr>\n",
       "    <tr>\n",
       "      <th>16</th>\n",
       "      <td>Grand Theft Auto V</td>\n",
       "      <td>PS3</td>\n",
       "      <td>2013</td>\n",
       "      <td>Action</td>\n",
       "      <td>7.02</td>\n",
       "      <td>9.09</td>\n",
       "      <td>0.98</td>\n",
       "      <td>3.96</td>\n",
       "      <td>97.0</td>\n",
       "      <td>8.2</td>\n",
       "      <td>M</td>\n",
       "      <td>21.05</td>\n",
       "    </tr>\n",
       "    <tr>\n",
       "      <th>17</th>\n",
       "      <td>Grand Theft Auto: San Andreas</td>\n",
       "      <td>PS2</td>\n",
       "      <td>2004</td>\n",
       "      <td>Action</td>\n",
       "      <td>9.43</td>\n",
       "      <td>0.40</td>\n",
       "      <td>0.41</td>\n",
       "      <td>10.57</td>\n",
       "      <td>95.0</td>\n",
       "      <td>9.0</td>\n",
       "      <td>M</td>\n",
       "      <td>20.81</td>\n",
       "    </tr>\n",
       "    <tr>\n",
       "      <th>18</th>\n",
       "      <td>Super Mario World</td>\n",
       "      <td>SNES</td>\n",
       "      <td>1990</td>\n",
       "      <td>Platform</td>\n",
       "      <td>12.78</td>\n",
       "      <td>3.75</td>\n",
       "      <td>3.54</td>\n",
       "      <td>0.55</td>\n",
       "      <td>NaN</td>\n",
       "      <td>NaN</td>\n",
       "      <td>not rated</td>\n",
       "      <td>20.62</td>\n",
       "    </tr>\n",
       "    <tr>\n",
       "      <th>19</th>\n",
       "      <td>Brain Age: Train Your Brain in Minutes a Day</td>\n",
       "      <td>DS</td>\n",
       "      <td>2005</td>\n",
       "      <td>Misc</td>\n",
       "      <td>4.74</td>\n",
       "      <td>9.20</td>\n",
       "      <td>4.16</td>\n",
       "      <td>2.04</td>\n",
       "      <td>77.0</td>\n",
       "      <td>7.9</td>\n",
       "      <td>E</td>\n",
       "      <td>20.14</td>\n",
       "    </tr>\n",
       "  </tbody>\n",
       "</table>\n",
       "</div>"
      ],
      "text/plain": [
       "                                            name platform  year_of_release  \\\n",
       "0                                     Wii Sports      Wii             2006   \n",
       "1                              Super Mario Bros.      NES             1985   \n",
       "2                                 Mario Kart Wii      Wii             2008   \n",
       "3                              Wii Sports Resort      Wii             2009   \n",
       "4                       Pokemon Red/Pokemon Blue       GB             1996   \n",
       "5                                         Tetris       GB             1989   \n",
       "6                          New Super Mario Bros.       DS             2006   \n",
       "7                                       Wii Play      Wii             2006   \n",
       "8                      New Super Mario Bros. Wii      Wii             2009   \n",
       "9                                      Duck Hunt      NES             1984   \n",
       "10                                    Nintendogs       DS             2005   \n",
       "11                                 Mario Kart DS       DS             2005   \n",
       "12                   Pokemon Gold/Pokemon Silver       GB             1999   \n",
       "13                                       Wii Fit      Wii             2007   \n",
       "14                            Kinect Adventures!     X360             2010   \n",
       "15                                  Wii Fit Plus      Wii             2009   \n",
       "16                            Grand Theft Auto V      PS3             2013   \n",
       "17                 Grand Theft Auto: San Andreas      PS2             2004   \n",
       "18                             Super Mario World     SNES             1990   \n",
       "19  Brain Age: Train Your Brain in Minutes a Day       DS             2005   \n",
       "\n",
       "           genre  na_sales  eu_sales  jp_sales  other_sales  critic_score  \\\n",
       "0         Sports     41.36     28.96      3.77         8.45          76.0   \n",
       "1       Platform     29.08      3.58      6.81         0.77           NaN   \n",
       "2         Racing     15.68     12.76      3.79         3.29          82.0   \n",
       "3         Sports     15.61     10.93      3.28         2.95          80.0   \n",
       "4   Role-Playing     11.27      8.89     10.22         1.00           NaN   \n",
       "5         Puzzle     23.20      2.26      4.22         0.58           NaN   \n",
       "6       Platform     11.28      9.14      6.50         2.88          89.0   \n",
       "7           Misc     13.96      9.18      2.93         2.84          58.0   \n",
       "8       Platform     14.44      6.94      4.70         2.24          87.0   \n",
       "9        Shooter     26.93      0.63      0.28         0.47           NaN   \n",
       "10    Simulation      9.05     10.95      1.93         2.74           NaN   \n",
       "11        Racing      9.71      7.47      4.13         1.90          91.0   \n",
       "12  Role-Playing      9.00      6.18      7.20         0.71           NaN   \n",
       "13        Sports      8.92      8.03      3.60         2.15          80.0   \n",
       "14          Misc     15.00      4.89      0.24         1.69          61.0   \n",
       "15        Sports      9.01      8.49      2.53         1.77          80.0   \n",
       "16        Action      7.02      9.09      0.98         3.96          97.0   \n",
       "17        Action      9.43      0.40      0.41        10.57          95.0   \n",
       "18      Platform     12.78      3.75      3.54         0.55           NaN   \n",
       "19          Misc      4.74      9.20      4.16         2.04          77.0   \n",
       "\n",
       "    user_score     rating  total_sales  \n",
       "0          8.0          E        82.54  \n",
       "1          NaN  not rated        40.24  \n",
       "2          8.3          E        35.52  \n",
       "3          8.0          E        32.77  \n",
       "4          NaN  not rated        31.38  \n",
       "5          NaN  not rated        30.26  \n",
       "6          8.5          E        29.80  \n",
       "7          6.6          E        28.91  \n",
       "8          8.4          E        28.32  \n",
       "9          NaN  not rated        28.31  \n",
       "10         NaN  not rated        24.67  \n",
       "11         8.6          E        23.21  \n",
       "12         NaN  not rated        23.09  \n",
       "13         7.7          E        22.70  \n",
       "14         6.3          E        21.82  \n",
       "15         7.4          E        21.80  \n",
       "16         8.2          M        21.05  \n",
       "17         9.0          M        20.81  \n",
       "18         NaN  not rated        20.62  \n",
       "19         7.9          E        20.14  "
      ]
     },
     "metadata": {},
     "output_type": "display_data"
    }
   ],
   "source": [
    "display(data.head(20))"
   ]
  },
  {
   "cell_type": "markdown",
   "metadata": {},
   "source": [
    "### How many games were released in different years?"
   ]
  },
  {
   "cell_type": "code",
   "execution_count": 19,
   "metadata": {},
   "outputs": [],
   "source": [
    "games_each_year=data.pivot_table(index='year_of_release', values='name', aggfunc='count')"
   ]
  },
  {
   "cell_type": "code",
   "execution_count": 20,
   "metadata": {},
   "outputs": [
    {
     "data": {
      "text/html": [
       "<div>\n",
       "<style scoped>\n",
       "    .dataframe tbody tr th:only-of-type {\n",
       "        vertical-align: middle;\n",
       "    }\n",
       "\n",
       "    .dataframe tbody tr th {\n",
       "        vertical-align: top;\n",
       "    }\n",
       "\n",
       "    .dataframe thead th {\n",
       "        text-align: right;\n",
       "    }\n",
       "</style>\n",
       "<table border=\"1\" class=\"dataframe\">\n",
       "  <thead>\n",
       "    <tr style=\"text-align: right;\">\n",
       "      <th></th>\n",
       "      <th>name</th>\n",
       "    </tr>\n",
       "    <tr>\n",
       "      <th>year_of_release</th>\n",
       "      <th></th>\n",
       "    </tr>\n",
       "  </thead>\n",
       "  <tbody>\n",
       "    <tr>\n",
       "      <th>1980</th>\n",
       "      <td>9</td>\n",
       "    </tr>\n",
       "    <tr>\n",
       "      <th>1981</th>\n",
       "      <td>46</td>\n",
       "    </tr>\n",
       "    <tr>\n",
       "      <th>1982</th>\n",
       "      <td>36</td>\n",
       "    </tr>\n",
       "    <tr>\n",
       "      <th>1983</th>\n",
       "      <td>17</td>\n",
       "    </tr>\n",
       "    <tr>\n",
       "      <th>1984</th>\n",
       "      <td>14</td>\n",
       "    </tr>\n",
       "    <tr>\n",
       "      <th>1985</th>\n",
       "      <td>14</td>\n",
       "    </tr>\n",
       "    <tr>\n",
       "      <th>1986</th>\n",
       "      <td>21</td>\n",
       "    </tr>\n",
       "    <tr>\n",
       "      <th>1987</th>\n",
       "      <td>16</td>\n",
       "    </tr>\n",
       "    <tr>\n",
       "      <th>1988</th>\n",
       "      <td>15</td>\n",
       "    </tr>\n",
       "    <tr>\n",
       "      <th>1989</th>\n",
       "      <td>17</td>\n",
       "    </tr>\n",
       "    <tr>\n",
       "      <th>1990</th>\n",
       "      <td>16</td>\n",
       "    </tr>\n",
       "    <tr>\n",
       "      <th>1991</th>\n",
       "      <td>41</td>\n",
       "    </tr>\n",
       "    <tr>\n",
       "      <th>1992</th>\n",
       "      <td>43</td>\n",
       "    </tr>\n",
       "    <tr>\n",
       "      <th>1993</th>\n",
       "      <td>60</td>\n",
       "    </tr>\n",
       "    <tr>\n",
       "      <th>1994</th>\n",
       "      <td>121</td>\n",
       "    </tr>\n",
       "    <tr>\n",
       "      <th>1995</th>\n",
       "      <td>219</td>\n",
       "    </tr>\n",
       "    <tr>\n",
       "      <th>1996</th>\n",
       "      <td>263</td>\n",
       "    </tr>\n",
       "    <tr>\n",
       "      <th>1997</th>\n",
       "      <td>288</td>\n",
       "    </tr>\n",
       "    <tr>\n",
       "      <th>1998</th>\n",
       "      <td>379</td>\n",
       "    </tr>\n",
       "    <tr>\n",
       "      <th>1999</th>\n",
       "      <td>330</td>\n",
       "    </tr>\n",
       "    <tr>\n",
       "      <th>2000</th>\n",
       "      <td>307</td>\n",
       "    </tr>\n",
       "    <tr>\n",
       "      <th>2001</th>\n",
       "      <td>400</td>\n",
       "    </tr>\n",
       "    <tr>\n",
       "      <th>2002</th>\n",
       "      <td>637</td>\n",
       "    </tr>\n",
       "    <tr>\n",
       "      <th>2003</th>\n",
       "      <td>680</td>\n",
       "    </tr>\n",
       "    <tr>\n",
       "      <th>2004</th>\n",
       "      <td>655</td>\n",
       "    </tr>\n",
       "    <tr>\n",
       "      <th>2005</th>\n",
       "      <td>818</td>\n",
       "    </tr>\n",
       "    <tr>\n",
       "      <th>2006</th>\n",
       "      <td>882</td>\n",
       "    </tr>\n",
       "    <tr>\n",
       "      <th>2007</th>\n",
       "      <td>1005</td>\n",
       "    </tr>\n",
       "    <tr>\n",
       "      <th>2008</th>\n",
       "      <td>1101</td>\n",
       "    </tr>\n",
       "    <tr>\n",
       "      <th>2009</th>\n",
       "      <td>1021</td>\n",
       "    </tr>\n",
       "    <tr>\n",
       "      <th>2010</th>\n",
       "      <td>924</td>\n",
       "    </tr>\n",
       "    <tr>\n",
       "      <th>2011</th>\n",
       "      <td>919</td>\n",
       "    </tr>\n",
       "    <tr>\n",
       "      <th>2012</th>\n",
       "      <td>629</td>\n",
       "    </tr>\n",
       "    <tr>\n",
       "      <th>2013</th>\n",
       "      <td>529</td>\n",
       "    </tr>\n",
       "    <tr>\n",
       "      <th>2014</th>\n",
       "      <td>560</td>\n",
       "    </tr>\n",
       "    <tr>\n",
       "      <th>2015</th>\n",
       "      <td>568</td>\n",
       "    </tr>\n",
       "    <tr>\n",
       "      <th>2016</th>\n",
       "      <td>468</td>\n",
       "    </tr>\n",
       "  </tbody>\n",
       "</table>\n",
       "</div>"
      ],
      "text/plain": [
       "                 name\n",
       "year_of_release      \n",
       "1980                9\n",
       "1981               46\n",
       "1982               36\n",
       "1983               17\n",
       "1984               14\n",
       "1985               14\n",
       "1986               21\n",
       "1987               16\n",
       "1988               15\n",
       "1989               17\n",
       "1990               16\n",
       "1991               41\n",
       "1992               43\n",
       "1993               60\n",
       "1994              121\n",
       "1995              219\n",
       "1996              263\n",
       "1997              288\n",
       "1998              379\n",
       "1999              330\n",
       "2000              307\n",
       "2001              400\n",
       "2002              637\n",
       "2003              680\n",
       "2004              655\n",
       "2005              818\n",
       "2006              882\n",
       "2007             1005\n",
       "2008             1101\n",
       "2009             1021\n",
       "2010              924\n",
       "2011              919\n",
       "2012              629\n",
       "2013              529\n",
       "2014              560\n",
       "2015              568\n",
       "2016              468"
      ]
     },
     "metadata": {},
     "output_type": "display_data"
    }
   ],
   "source": [
    "display(games_each_year)"
   ]
  },
  {
   "cell_type": "code",
   "execution_count": 21,
   "metadata": {},
   "outputs": [
    {
     "data": {
      "text/plain": [
       "<AxesSubplot:xlabel='year_of_release'>"
      ]
     },
     "execution_count": 21,
     "metadata": {},
     "output_type": "execute_result"
    },
    {
     "data": {
      "image/png": "[encoded data removed]",
      "text/plain": [
       "<Figure size 432x288 with 1 Axes>"
      ]
     },
     "metadata": {
      "needs_background": "light"
     },
     "output_type": "display_data"
    }
   ],
   "source": [
    "games_each_year.plot()"
   ]
  },
  {
   "cell_type": "markdown",
   "metadata": {},
   "source": [
    "As seen from the graph, the highest number of games was released in the year 2009 - a total of 1426 games. Afterward, the number of new game releases started to decline, reaching 502 in the year 2015."
   ]
  },
  {
   "cell_type": "markdown",
   "metadata": {},
   "source": [
    "### How did sales change across different platforms?"
   ]
  },
  {
   "cell_type": "code",
   "execution_count": 22,
   "metadata": {},
   "outputs": [],
   "source": [
    "sales_by_platform=data.pivot_table(index='platform', columns='year_of_release', values='total_sales', aggfunc='sum')"
   ]
  },
  {
   "cell_type": "code",
   "execution_count": 23,
   "metadata": {},
   "outputs": [],
   "source": [
    "sales_by_platform['total']=sales_by_platform.sum(axis=1)"
   ]
  },
  {
   "cell_type": "code",
   "execution_count": 24,
   "metadata": {},
   "outputs": [
    {
     "data": {
      "text/html": [
       "<div>\n",
       "<style scoped>\n",
       "    .dataframe tbody tr th:only-of-type {\n",
       "        vertical-align: middle;\n",
       "    }\n",
       "\n",
       "    .dataframe tbody tr th {\n",
       "        vertical-align: top;\n",
       "    }\n",
       "\n",
       "    .dataframe thead th {\n",
       "        text-align: right;\n",
       "    }\n",
       "</style>\n",
       "<table border=\"1\" class=\"dataframe\">\n",
       "  <thead>\n",
       "    <tr style=\"text-align: right;\">\n",
       "      <th>year_of_release</th>\n",
       "      <th>1980</th>\n",
       "      <th>1981</th>\n",
       "      <th>1982</th>\n",
       "      <th>1983</th>\n",
       "      <th>1984</th>\n",
       "      <th>1985</th>\n",
       "      <th>1986</th>\n",
       "      <th>1987</th>\n",
       "      <th>1988</th>\n",
       "      <th>1989</th>\n",
       "      <th>...</th>\n",
       "      <th>2008</th>\n",
       "      <th>2009</th>\n",
       "      <th>2010</th>\n",
       "      <th>2011</th>\n",
       "      <th>2012</th>\n",
       "      <th>2013</th>\n",
       "      <th>2014</th>\n",
       "      <th>2015</th>\n",
       "      <th>2016</th>\n",
       "      <th>total</th>\n",
       "    </tr>\n",
       "    <tr>\n",
       "      <th>platform</th>\n",
       "      <th></th>\n",
       "      <th></th>\n",
       "      <th></th>\n",
       "      <th></th>\n",
       "      <th></th>\n",
       "      <th></th>\n",
       "      <th></th>\n",
       "      <th></th>\n",
       "      <th></th>\n",
       "      <th></th>\n",
       "      <th></th>\n",
       "      <th></th>\n",
       "      <th></th>\n",
       "      <th></th>\n",
       "      <th></th>\n",
       "      <th></th>\n",
       "      <th></th>\n",
       "      <th></th>\n",
       "      <th></th>\n",
       "      <th></th>\n",
       "      <th></th>\n",
       "    </tr>\n",
       "  </thead>\n",
       "  <tbody>\n",
       "    <tr>\n",
       "      <th>2600</th>\n",
       "      <td>11.38</td>\n",
       "      <td>35.68</td>\n",
       "      <td>28.88</td>\n",
       "      <td>5.84</td>\n",
       "      <td>0.27</td>\n",
       "      <td>0.45</td>\n",
       "      <td>0.67</td>\n",
       "      <td>1.94</td>\n",
       "      <td>0.74</td>\n",
       "      <td>0.63</td>\n",
       "      <td>...</td>\n",
       "      <td>NaN</td>\n",
       "      <td>NaN</td>\n",
       "      <td>NaN</td>\n",
       "      <td>NaN</td>\n",
       "      <td>NaN</td>\n",
       "      <td>NaN</td>\n",
       "      <td>NaN</td>\n",
       "      <td>NaN</td>\n",
       "      <td>NaN</td>\n",
       "      <td>86.48</td>\n",
       "    </tr>\n",
       "    <tr>\n",
       "      <th>3DO</th>\n",
       "      <td>NaN</td>\n",
       "      <td>NaN</td>\n",
       "      <td>NaN</td>\n",
       "      <td>NaN</td>\n",
       "      <td>NaN</td>\n",
       "      <td>NaN</td>\n",
       "      <td>NaN</td>\n",
       "      <td>NaN</td>\n",
       "      <td>NaN</td>\n",
       "      <td>NaN</td>\n",
       "      <td>...</td>\n",
       "      <td>NaN</td>\n",
       "      <td>NaN</td>\n",
       "      <td>NaN</td>\n",
       "      <td>NaN</td>\n",
       "      <td>NaN</td>\n",
       "      <td>NaN</td>\n",
       "      <td>NaN</td>\n",
       "      <td>NaN</td>\n",
       "      <td>NaN</td>\n",
       "      <td>0.10</td>\n",
       "    </tr>\n",
       "    <tr>\n",
       "      <th>3DS</th>\n",
       "      <td>NaN</td>\n",
       "      <td>NaN</td>\n",
       "      <td>NaN</td>\n",
       "      <td>NaN</td>\n",
       "      <td>NaN</td>\n",
       "      <td>NaN</td>\n",
       "      <td>NaN</td>\n",
       "      <td>NaN</td>\n",
       "      <td>NaN</td>\n",
       "      <td>NaN</td>\n",
       "      <td>...</td>\n",
       "      <td>NaN</td>\n",
       "      <td>NaN</td>\n",
       "      <td>NaN</td>\n",
       "      <td>60.53</td>\n",
       "      <td>51.01</td>\n",
       "      <td>56.32</td>\n",
       "      <td>43.07</td>\n",
       "      <td>27.21</td>\n",
       "      <td>15.10</td>\n",
       "      <td>253.24</td>\n",
       "    </tr>\n",
       "    <tr>\n",
       "      <th>DC</th>\n",
       "      <td>NaN</td>\n",
       "      <td>NaN</td>\n",
       "      <td>NaN</td>\n",
       "      <td>NaN</td>\n",
       "      <td>NaN</td>\n",
       "      <td>NaN</td>\n",
       "      <td>NaN</td>\n",
       "      <td>NaN</td>\n",
       "      <td>NaN</td>\n",
       "      <td>NaN</td>\n",
       "      <td>...</td>\n",
       "      <td>0.04</td>\n",
       "      <td>NaN</td>\n",
       "      <td>NaN</td>\n",
       "      <td>NaN</td>\n",
       "      <td>NaN</td>\n",
       "      <td>NaN</td>\n",
       "      <td>NaN</td>\n",
       "      <td>NaN</td>\n",
       "      <td>NaN</td>\n",
       "      <td>15.95</td>\n",
       "    </tr>\n",
       "    <tr>\n",
       "      <th>DS</th>\n",
       "      <td>NaN</td>\n",
       "      <td>NaN</td>\n",
       "      <td>NaN</td>\n",
       "      <td>NaN</td>\n",
       "      <td>NaN</td>\n",
       "      <td>0.02</td>\n",
       "      <td>NaN</td>\n",
       "      <td>NaN</td>\n",
       "      <td>NaN</td>\n",
       "      <td>NaN</td>\n",
       "      <td>...</td>\n",
       "      <td>102.44</td>\n",
       "      <td>84.54</td>\n",
       "      <td>61.56</td>\n",
       "      <td>13.48</td>\n",
       "      <td>10.28</td>\n",
       "      <td>0.97</td>\n",
       "      <td>NaN</td>\n",
       "      <td>NaN</td>\n",
       "      <td>NaN</td>\n",
       "      <td>655.36</td>\n",
       "    </tr>\n",
       "    <tr>\n",
       "      <th>GB</th>\n",
       "      <td>NaN</td>\n",
       "      <td>NaN</td>\n",
       "      <td>NaN</td>\n",
       "      <td>NaN</td>\n",
       "      <td>NaN</td>\n",
       "      <td>NaN</td>\n",
       "      <td>NaN</td>\n",
       "      <td>NaN</td>\n",
       "      <td>1.43</td>\n",
       "      <td>64.97</td>\n",
       "      <td>...</td>\n",
       "      <td>NaN</td>\n",
       "      <td>NaN</td>\n",
       "      <td>NaN</td>\n",
       "      <td>NaN</td>\n",
       "      <td>NaN</td>\n",
       "      <td>NaN</td>\n",
       "      <td>NaN</td>\n",
       "      <td>NaN</td>\n",
       "      <td>NaN</td>\n",
       "      <td>254.43</td>\n",
       "    </tr>\n",
       "    <tr>\n",
       "      <th>GBA</th>\n",
       "      <td>NaN</td>\n",
       "      <td>NaN</td>\n",
       "      <td>NaN</td>\n",
       "      <td>NaN</td>\n",
       "      <td>NaN</td>\n",
       "      <td>NaN</td>\n",
       "      <td>NaN</td>\n",
       "      <td>NaN</td>\n",
       "      <td>NaN</td>\n",
       "      <td>NaN</td>\n",
       "      <td>...</td>\n",
       "      <td>NaN</td>\n",
       "      <td>NaN</td>\n",
       "      <td>NaN</td>\n",
       "      <td>NaN</td>\n",
       "      <td>NaN</td>\n",
       "      <td>NaN</td>\n",
       "      <td>NaN</td>\n",
       "      <td>NaN</td>\n",
       "      <td>NaN</td>\n",
       "      <td>263.70</td>\n",
       "    </tr>\n",
       "    <tr>\n",
       "      <th>GC</th>\n",
       "      <td>NaN</td>\n",
       "      <td>NaN</td>\n",
       "      <td>NaN</td>\n",
       "      <td>NaN</td>\n",
       "      <td>NaN</td>\n",
       "      <td>NaN</td>\n",
       "      <td>NaN</td>\n",
       "      <td>NaN</td>\n",
       "      <td>NaN</td>\n",
       "      <td>NaN</td>\n",
       "      <td>...</td>\n",
       "      <td>NaN</td>\n",
       "      <td>NaN</td>\n",
       "      <td>NaN</td>\n",
       "      <td>NaN</td>\n",
       "      <td>NaN</td>\n",
       "      <td>NaN</td>\n",
       "      <td>NaN</td>\n",
       "      <td>NaN</td>\n",
       "      <td>NaN</td>\n",
       "      <td>185.68</td>\n",
       "    </tr>\n",
       "    <tr>\n",
       "      <th>GEN</th>\n",
       "      <td>NaN</td>\n",
       "      <td>NaN</td>\n",
       "      <td>NaN</td>\n",
       "      <td>NaN</td>\n",
       "      <td>NaN</td>\n",
       "      <td>NaN</td>\n",
       "      <td>NaN</td>\n",
       "      <td>NaN</td>\n",
       "      <td>NaN</td>\n",
       "      <td>NaN</td>\n",
       "      <td>...</td>\n",
       "      <td>NaN</td>\n",
       "      <td>NaN</td>\n",
       "      <td>NaN</td>\n",
       "      <td>NaN</td>\n",
       "      <td>NaN</td>\n",
       "      <td>NaN</td>\n",
       "      <td>NaN</td>\n",
       "      <td>NaN</td>\n",
       "      <td>NaN</td>\n",
       "      <td>30.77</td>\n",
       "    </tr>\n",
       "    <tr>\n",
       "      <th>GG</th>\n",
       "      <td>NaN</td>\n",
       "      <td>NaN</td>\n",
       "      <td>NaN</td>\n",
       "      <td>NaN</td>\n",
       "      <td>NaN</td>\n",
       "      <td>NaN</td>\n",
       "      <td>NaN</td>\n",
       "      <td>NaN</td>\n",
       "      <td>NaN</td>\n",
       "      <td>NaN</td>\n",
       "      <td>...</td>\n",
       "      <td>NaN</td>\n",
       "      <td>NaN</td>\n",
       "      <td>NaN</td>\n",
       "      <td>NaN</td>\n",
       "      <td>NaN</td>\n",
       "      <td>NaN</td>\n",
       "      <td>NaN</td>\n",
       "      <td>NaN</td>\n",
       "      <td>NaN</td>\n",
       "      <td>0.04</td>\n",
       "    </tr>\n",
       "    <tr>\n",
       "      <th>N64</th>\n",
       "      <td>NaN</td>\n",
       "      <td>NaN</td>\n",
       "      <td>NaN</td>\n",
       "      <td>NaN</td>\n",
       "      <td>NaN</td>\n",
       "      <td>NaN</td>\n",
       "      <td>NaN</td>\n",
       "      <td>NaN</td>\n",
       "      <td>NaN</td>\n",
       "      <td>NaN</td>\n",
       "      <td>...</td>\n",
       "      <td>NaN</td>\n",
       "      <td>NaN</td>\n",
       "      <td>NaN</td>\n",
       "      <td>NaN</td>\n",
       "      <td>NaN</td>\n",
       "      <td>NaN</td>\n",
       "      <td>NaN</td>\n",
       "      <td>NaN</td>\n",
       "      <td>NaN</td>\n",
       "      <td>218.01</td>\n",
       "    </tr>\n",
       "    <tr>\n",
       "      <th>NES</th>\n",
       "      <td>NaN</td>\n",
       "      <td>NaN</td>\n",
       "      <td>NaN</td>\n",
       "      <td>10.96</td>\n",
       "      <td>50.08</td>\n",
       "      <td>53.44</td>\n",
       "      <td>36.41</td>\n",
       "      <td>19.76</td>\n",
       "      <td>45.01</td>\n",
       "      <td>7.85</td>\n",
       "      <td>...</td>\n",
       "      <td>NaN</td>\n",
       "      <td>NaN</td>\n",
       "      <td>NaN</td>\n",
       "      <td>NaN</td>\n",
       "      <td>NaN</td>\n",
       "      <td>NaN</td>\n",
       "      <td>NaN</td>\n",
       "      <td>NaN</td>\n",
       "      <td>NaN</td>\n",
       "      <td>251.05</td>\n",
       "    </tr>\n",
       "    <tr>\n",
       "      <th>NG</th>\n",
       "      <td>NaN</td>\n",
       "      <td>NaN</td>\n",
       "      <td>NaN</td>\n",
       "      <td>NaN</td>\n",
       "      <td>NaN</td>\n",
       "      <td>NaN</td>\n",
       "      <td>NaN</td>\n",
       "      <td>NaN</td>\n",
       "      <td>NaN</td>\n",
       "      <td>NaN</td>\n",
       "      <td>...</td>\n",
       "      <td>NaN</td>\n",
       "      <td>NaN</td>\n",
       "      <td>NaN</td>\n",
       "      <td>NaN</td>\n",
       "      <td>NaN</td>\n",
       "      <td>NaN</td>\n",
       "      <td>NaN</td>\n",
       "      <td>NaN</td>\n",
       "      <td>NaN</td>\n",
       "      <td>1.44</td>\n",
       "    </tr>\n",
       "    <tr>\n",
       "      <th>PC</th>\n",
       "      <td>NaN</td>\n",
       "      <td>NaN</td>\n",
       "      <td>NaN</td>\n",
       "      <td>NaN</td>\n",
       "      <td>NaN</td>\n",
       "      <td>0.04</td>\n",
       "      <td>NaN</td>\n",
       "      <td>NaN</td>\n",
       "      <td>0.03</td>\n",
       "      <td>NaN</td>\n",
       "      <td>...</td>\n",
       "      <td>12.26</td>\n",
       "      <td>16.33</td>\n",
       "      <td>24.13</td>\n",
       "      <td>34.55</td>\n",
       "      <td>23.22</td>\n",
       "      <td>12.38</td>\n",
       "      <td>13.25</td>\n",
       "      <td>8.49</td>\n",
       "      <td>5.22</td>\n",
       "      <td>252.25</td>\n",
       "    </tr>\n",
       "    <tr>\n",
       "      <th>PCFX</th>\n",
       "      <td>NaN</td>\n",
       "      <td>NaN</td>\n",
       "      <td>NaN</td>\n",
       "      <td>NaN</td>\n",
       "      <td>NaN</td>\n",
       "      <td>NaN</td>\n",
       "      <td>NaN</td>\n",
       "      <td>NaN</td>\n",
       "      <td>NaN</td>\n",
       "      <td>NaN</td>\n",
       "      <td>...</td>\n",
       "      <td>NaN</td>\n",
       "      <td>NaN</td>\n",
       "      <td>NaN</td>\n",
       "      <td>NaN</td>\n",
       "      <td>NaN</td>\n",
       "      <td>NaN</td>\n",
       "      <td>NaN</td>\n",
       "      <td>NaN</td>\n",
       "      <td>NaN</td>\n",
       "      <td>0.03</td>\n",
       "    </tr>\n",
       "    <tr>\n",
       "      <th>PS</th>\n",
       "      <td>NaN</td>\n",
       "      <td>NaN</td>\n",
       "      <td>NaN</td>\n",
       "      <td>NaN</td>\n",
       "      <td>NaN</td>\n",
       "      <td>NaN</td>\n",
       "      <td>NaN</td>\n",
       "      <td>NaN</td>\n",
       "      <td>NaN</td>\n",
       "      <td>NaN</td>\n",
       "      <td>...</td>\n",
       "      <td>NaN</td>\n",
       "      <td>NaN</td>\n",
       "      <td>NaN</td>\n",
       "      <td>NaN</td>\n",
       "      <td>NaN</td>\n",
       "      <td>NaN</td>\n",
       "      <td>NaN</td>\n",
       "      <td>NaN</td>\n",
       "      <td>NaN</td>\n",
       "      <td>714.26</td>\n",
       "    </tr>\n",
       "    <tr>\n",
       "      <th>PS2</th>\n",
       "      <td>NaN</td>\n",
       "      <td>NaN</td>\n",
       "      <td>NaN</td>\n",
       "      <td>NaN</td>\n",
       "      <td>NaN</td>\n",
       "      <td>NaN</td>\n",
       "      <td>NaN</td>\n",
       "      <td>NaN</td>\n",
       "      <td>NaN</td>\n",
       "      <td>NaN</td>\n",
       "      <td>...</td>\n",
       "      <td>43.74</td>\n",
       "      <td>18.93</td>\n",
       "      <td>3.72</td>\n",
       "      <td>0.40</td>\n",
       "      <td>NaN</td>\n",
       "      <td>NaN</td>\n",
       "      <td>NaN</td>\n",
       "      <td>NaN</td>\n",
       "      <td>NaN</td>\n",
       "      <td>1171.19</td>\n",
       "    </tr>\n",
       "    <tr>\n",
       "      <th>PS3</th>\n",
       "      <td>NaN</td>\n",
       "      <td>NaN</td>\n",
       "      <td>NaN</td>\n",
       "      <td>NaN</td>\n",
       "      <td>NaN</td>\n",
       "      <td>NaN</td>\n",
       "      <td>NaN</td>\n",
       "      <td>NaN</td>\n",
       "      <td>NaN</td>\n",
       "      <td>NaN</td>\n",
       "      <td>...</td>\n",
       "      <td>117.01</td>\n",
       "      <td>128.92</td>\n",
       "      <td>140.18</td>\n",
       "      <td>154.14</td>\n",
       "      <td>107.29</td>\n",
       "      <td>113.24</td>\n",
       "      <td>47.40</td>\n",
       "      <td>16.30</td>\n",
       "      <td>3.16</td>\n",
       "      <td>921.09</td>\n",
       "    </tr>\n",
       "    <tr>\n",
       "      <th>PS4</th>\n",
       "      <td>NaN</td>\n",
       "      <td>NaN</td>\n",
       "      <td>NaN</td>\n",
       "      <td>NaN</td>\n",
       "      <td>NaN</td>\n",
       "      <td>NaN</td>\n",
       "      <td>NaN</td>\n",
       "      <td>NaN</td>\n",
       "      <td>NaN</td>\n",
       "      <td>NaN</td>\n",
       "      <td>...</td>\n",
       "      <td>NaN</td>\n",
       "      <td>NaN</td>\n",
       "      <td>NaN</td>\n",
       "      <td>NaN</td>\n",
       "      <td>NaN</td>\n",
       "      <td>25.99</td>\n",
       "      <td>100.00</td>\n",
       "      <td>118.86</td>\n",
       "      <td>69.15</td>\n",
       "      <td>314.00</td>\n",
       "    </tr>\n",
       "    <tr>\n",
       "      <th>PSP</th>\n",
       "      <td>NaN</td>\n",
       "      <td>NaN</td>\n",
       "      <td>NaN</td>\n",
       "      <td>NaN</td>\n",
       "      <td>NaN</td>\n",
       "      <td>NaN</td>\n",
       "      <td>NaN</td>\n",
       "      <td>NaN</td>\n",
       "      <td>NaN</td>\n",
       "      <td>NaN</td>\n",
       "      <td>...</td>\n",
       "      <td>32.48</td>\n",
       "      <td>33.31</td>\n",
       "      <td>32.08</td>\n",
       "      <td>16.72</td>\n",
       "      <td>7.32</td>\n",
       "      <td>3.14</td>\n",
       "      <td>0.24</td>\n",
       "      <td>0.12</td>\n",
       "      <td>NaN</td>\n",
       "      <td>273.11</td>\n",
       "    </tr>\n",
       "    <tr>\n",
       "      <th>PSV</th>\n",
       "      <td>NaN</td>\n",
       "      <td>NaN</td>\n",
       "      <td>NaN</td>\n",
       "      <td>NaN</td>\n",
       "      <td>NaN</td>\n",
       "      <td>NaN</td>\n",
       "      <td>NaN</td>\n",
       "      <td>NaN</td>\n",
       "      <td>NaN</td>\n",
       "      <td>NaN</td>\n",
       "      <td>...</td>\n",
       "      <td>NaN</td>\n",
       "      <td>NaN</td>\n",
       "      <td>NaN</td>\n",
       "      <td>4.63</td>\n",
       "      <td>16.19</td>\n",
       "      <td>10.59</td>\n",
       "      <td>11.90</td>\n",
       "      <td>5.95</td>\n",
       "      <td>4.24</td>\n",
       "      <td>53.50</td>\n",
       "    </tr>\n",
       "    <tr>\n",
       "      <th>SAT</th>\n",
       "      <td>NaN</td>\n",
       "      <td>NaN</td>\n",
       "      <td>NaN</td>\n",
       "      <td>NaN</td>\n",
       "      <td>NaN</td>\n",
       "      <td>NaN</td>\n",
       "      <td>NaN</td>\n",
       "      <td>NaN</td>\n",
       "      <td>NaN</td>\n",
       "      <td>NaN</td>\n",
       "      <td>...</td>\n",
       "      <td>NaN</td>\n",
       "      <td>NaN</td>\n",
       "      <td>NaN</td>\n",
       "      <td>NaN</td>\n",
       "      <td>NaN</td>\n",
       "      <td>NaN</td>\n",
       "      <td>NaN</td>\n",
       "      <td>NaN</td>\n",
       "      <td>NaN</td>\n",
       "      <td>33.59</td>\n",
       "    </tr>\n",
       "    <tr>\n",
       "      <th>SCD</th>\n",
       "      <td>NaN</td>\n",
       "      <td>NaN</td>\n",
       "      <td>NaN</td>\n",
       "      <td>NaN</td>\n",
       "      <td>NaN</td>\n",
       "      <td>NaN</td>\n",
       "      <td>NaN</td>\n",
       "      <td>NaN</td>\n",
       "      <td>NaN</td>\n",
       "      <td>NaN</td>\n",
       "      <td>...</td>\n",
       "      <td>NaN</td>\n",
       "      <td>NaN</td>\n",
       "      <td>NaN</td>\n",
       "      <td>NaN</td>\n",
       "      <td>NaN</td>\n",
       "      <td>NaN</td>\n",
       "      <td>NaN</td>\n",
       "      <td>NaN</td>\n",
       "      <td>NaN</td>\n",
       "      <td>1.86</td>\n",
       "    </tr>\n",
       "    <tr>\n",
       "      <th>SNES</th>\n",
       "      <td>NaN</td>\n",
       "      <td>NaN</td>\n",
       "      <td>NaN</td>\n",
       "      <td>NaN</td>\n",
       "      <td>NaN</td>\n",
       "      <td>NaN</td>\n",
       "      <td>NaN</td>\n",
       "      <td>NaN</td>\n",
       "      <td>NaN</td>\n",
       "      <td>NaN</td>\n",
       "      <td>...</td>\n",
       "      <td>NaN</td>\n",
       "      <td>NaN</td>\n",
       "      <td>NaN</td>\n",
       "      <td>NaN</td>\n",
       "      <td>NaN</td>\n",
       "      <td>NaN</td>\n",
       "      <td>NaN</td>\n",
       "      <td>NaN</td>\n",
       "      <td>NaN</td>\n",
       "      <td>200.04</td>\n",
       "    </tr>\n",
       "    <tr>\n",
       "      <th>TG16</th>\n",
       "      <td>NaN</td>\n",
       "      <td>NaN</td>\n",
       "      <td>NaN</td>\n",
       "      <td>NaN</td>\n",
       "      <td>NaN</td>\n",
       "      <td>NaN</td>\n",
       "      <td>NaN</td>\n",
       "      <td>NaN</td>\n",
       "      <td>NaN</td>\n",
       "      <td>NaN</td>\n",
       "      <td>...</td>\n",
       "      <td>NaN</td>\n",
       "      <td>NaN</td>\n",
       "      <td>NaN</td>\n",
       "      <td>NaN</td>\n",
       "      <td>NaN</td>\n",
       "      <td>NaN</td>\n",
       "      <td>NaN</td>\n",
       "      <td>NaN</td>\n",
       "      <td>NaN</td>\n",
       "      <td>0.16</td>\n",
       "    </tr>\n",
       "    <tr>\n",
       "      <th>WS</th>\n",
       "      <td>NaN</td>\n",
       "      <td>NaN</td>\n",
       "      <td>NaN</td>\n",
       "      <td>NaN</td>\n",
       "      <td>NaN</td>\n",
       "      <td>NaN</td>\n",
       "      <td>NaN</td>\n",
       "      <td>NaN</td>\n",
       "      <td>NaN</td>\n",
       "      <td>NaN</td>\n",
       "      <td>...</td>\n",
       "      <td>NaN</td>\n",
       "      <td>NaN</td>\n",
       "      <td>NaN</td>\n",
       "      <td>NaN</td>\n",
       "      <td>NaN</td>\n",
       "      <td>NaN</td>\n",
       "      <td>NaN</td>\n",
       "      <td>NaN</td>\n",
       "      <td>NaN</td>\n",
       "      <td>1.42</td>\n",
       "    </tr>\n",
       "    <tr>\n",
       "      <th>Wii</th>\n",
       "      <td>NaN</td>\n",
       "      <td>NaN</td>\n",
       "      <td>NaN</td>\n",
       "      <td>NaN</td>\n",
       "      <td>NaN</td>\n",
       "      <td>NaN</td>\n",
       "      <td>NaN</td>\n",
       "      <td>NaN</td>\n",
       "      <td>NaN</td>\n",
       "      <td>NaN</td>\n",
       "      <td>...</td>\n",
       "      <td>158.56</td>\n",
       "      <td>179.78</td>\n",
       "      <td>90.86</td>\n",
       "      <td>45.61</td>\n",
       "      <td>21.08</td>\n",
       "      <td>8.11</td>\n",
       "      <td>2.61</td>\n",
       "      <td>0.15</td>\n",
       "      <td>NaN</td>\n",
       "      <td>791.91</td>\n",
       "    </tr>\n",
       "    <tr>\n",
       "      <th>WiiU</th>\n",
       "      <td>NaN</td>\n",
       "      <td>NaN</td>\n",
       "      <td>NaN</td>\n",
       "      <td>NaN</td>\n",
       "      <td>NaN</td>\n",
       "      <td>NaN</td>\n",
       "      <td>NaN</td>\n",
       "      <td>NaN</td>\n",
       "      <td>NaN</td>\n",
       "      <td>NaN</td>\n",
       "      <td>...</td>\n",
       "      <td>NaN</td>\n",
       "      <td>NaN</td>\n",
       "      <td>NaN</td>\n",
       "      <td>NaN</td>\n",
       "      <td>17.56</td>\n",
       "      <td>21.65</td>\n",
       "      <td>22.01</td>\n",
       "      <td>16.27</td>\n",
       "      <td>4.30</td>\n",
       "      <td>81.79</td>\n",
       "    </tr>\n",
       "    <tr>\n",
       "      <th>X360</th>\n",
       "      <td>NaN</td>\n",
       "      <td>NaN</td>\n",
       "      <td>NaN</td>\n",
       "      <td>NaN</td>\n",
       "      <td>NaN</td>\n",
       "      <td>NaN</td>\n",
       "      <td>NaN</td>\n",
       "      <td>NaN</td>\n",
       "      <td>NaN</td>\n",
       "      <td>NaN</td>\n",
       "      <td>...</td>\n",
       "      <td>134.07</td>\n",
       "      <td>118.39</td>\n",
       "      <td>166.93</td>\n",
       "      <td>140.18</td>\n",
       "      <td>99.57</td>\n",
       "      <td>88.57</td>\n",
       "      <td>33.77</td>\n",
       "      <td>11.87</td>\n",
       "      <td>1.22</td>\n",
       "      <td>948.74</td>\n",
       "    </tr>\n",
       "    <tr>\n",
       "      <th>XB</th>\n",
       "      <td>NaN</td>\n",
       "      <td>NaN</td>\n",
       "      <td>NaN</td>\n",
       "      <td>NaN</td>\n",
       "      <td>NaN</td>\n",
       "      <td>NaN</td>\n",
       "      <td>NaN</td>\n",
       "      <td>NaN</td>\n",
       "      <td>NaN</td>\n",
       "      <td>NaN</td>\n",
       "      <td>...</td>\n",
       "      <td>0.18</td>\n",
       "      <td>NaN</td>\n",
       "      <td>NaN</td>\n",
       "      <td>NaN</td>\n",
       "      <td>NaN</td>\n",
       "      <td>NaN</td>\n",
       "      <td>NaN</td>\n",
       "      <td>NaN</td>\n",
       "      <td>NaN</td>\n",
       "      <td>236.38</td>\n",
       "    </tr>\n",
       "    <tr>\n",
       "      <th>XOne</th>\n",
       "      <td>NaN</td>\n",
       "      <td>NaN</td>\n",
       "      <td>NaN</td>\n",
       "      <td>NaN</td>\n",
       "      <td>NaN</td>\n",
       "      <td>NaN</td>\n",
       "      <td>NaN</td>\n",
       "      <td>NaN</td>\n",
       "      <td>NaN</td>\n",
       "      <td>NaN</td>\n",
       "      <td>...</td>\n",
       "      <td>NaN</td>\n",
       "      <td>NaN</td>\n",
       "      <td>NaN</td>\n",
       "      <td>NaN</td>\n",
       "      <td>NaN</td>\n",
       "      <td>18.96</td>\n",
       "      <td>54.07</td>\n",
       "      <td>59.92</td>\n",
       "      <td>25.82</td>\n",
       "      <td>158.77</td>\n",
       "    </tr>\n",
       "  </tbody>\n",
       "</table>\n",
       "<p>31 rows × 38 columns</p>\n",
       "</div>"
      ],
      "text/plain": [
       "year_of_release   1980   1981   1982   1983   1984   1985   1986   1987  \\\n",
       "platform                                                                  \n",
       "2600             11.38  35.68  28.88   5.84   0.27   0.45   0.67   1.94   \n",
       "3DO                NaN    NaN    NaN    NaN    NaN    NaN    NaN    NaN   \n",
       "3DS                NaN    NaN    NaN    NaN    NaN    NaN    NaN    NaN   \n",
       "DC                 NaN    NaN    NaN    NaN    NaN    NaN    NaN    NaN   \n",
       "DS                 NaN    NaN    NaN    NaN    NaN   0.02    NaN    NaN   \n",
       "GB                 NaN    NaN    NaN    NaN    NaN    NaN    NaN    NaN   \n",
       "GBA                NaN    NaN    NaN    NaN    NaN    NaN    NaN    NaN   \n",
       "GC                 NaN    NaN    NaN    NaN    NaN    NaN    NaN    NaN   \n",
       "GEN                NaN    NaN    NaN    NaN    NaN    NaN    NaN    NaN   \n",
       "GG                 NaN    NaN    NaN    NaN    NaN    NaN    NaN    NaN   \n",
       "N64                NaN    NaN    NaN    NaN    NaN    NaN    NaN    NaN   \n",
       "NES                NaN    NaN    NaN  10.96  50.08  53.44  36.41  19.76   \n",
       "NG                 NaN    NaN    NaN    NaN    NaN    NaN    NaN    NaN   \n",
       "PC                 NaN    NaN    NaN    NaN    NaN   0.04    NaN    NaN   \n",
       "PCFX               NaN    NaN    NaN    NaN    NaN    NaN    NaN    NaN   \n",
       "PS                 NaN    NaN    NaN    NaN    NaN    NaN    NaN    NaN   \n",
       "PS2                NaN    NaN    NaN    NaN    NaN    NaN    NaN    NaN   \n",
       "PS3                NaN    NaN    NaN    NaN    NaN    NaN    NaN    NaN   \n",
       "PS4                NaN    NaN    NaN    NaN    NaN    NaN    NaN    NaN   \n",
       "PSP                NaN    NaN    NaN    NaN    NaN    NaN    NaN    NaN   \n",
       "PSV                NaN    NaN    NaN    NaN    NaN    NaN    NaN    NaN   \n",
       "SAT                NaN    NaN    NaN    NaN    NaN    NaN    NaN    NaN   \n",
       "SCD                NaN    NaN    NaN    NaN    NaN    NaN    NaN    NaN   \n",
       "SNES               NaN    NaN    NaN    NaN    NaN    NaN    NaN    NaN   \n",
       "TG16               NaN    NaN    NaN    NaN    NaN    NaN    NaN    NaN   \n",
       "WS                 NaN    NaN    NaN    NaN    NaN    NaN    NaN    NaN   \n",
       "Wii                NaN    NaN    NaN    NaN    NaN    NaN    NaN    NaN   \n",
       "WiiU               NaN    NaN    NaN    NaN    NaN    NaN    NaN    NaN   \n",
       "X360               NaN    NaN    NaN    NaN    NaN    NaN    NaN    NaN   \n",
       "XB                 NaN    NaN    NaN    NaN    NaN    NaN    NaN    NaN   \n",
       "XOne               NaN    NaN    NaN    NaN    NaN    NaN    NaN    NaN   \n",
       "\n",
       "year_of_release   1988   1989  ...    2008    2009    2010    2011    2012  \\\n",
       "platform                       ...                                           \n",
       "2600              0.74   0.63  ...     NaN     NaN     NaN     NaN     NaN   \n",
       "3DO                NaN    NaN  ...     NaN     NaN     NaN     NaN     NaN   \n",
       "3DS                NaN    NaN  ...     NaN     NaN     NaN   60.53   51.01   \n",
       "DC                 NaN    NaN  ...    0.04     NaN     NaN     NaN     NaN   \n",
       "DS                 NaN    NaN  ...  102.44   84.54   61.56   13.48   10.28   \n",
       "GB                1.43  64.97  ...     NaN     NaN     NaN     NaN     NaN   \n",
       "GBA                NaN    NaN  ...     NaN     NaN     NaN     NaN     NaN   \n",
       "GC                 NaN    NaN  ...     NaN     NaN     NaN     NaN     NaN   \n",
       "GEN                NaN    NaN  ...     NaN     NaN     NaN     NaN     NaN   \n",
       "GG                 NaN    NaN  ...     NaN     NaN     NaN     NaN     NaN   \n",
       "N64                NaN    NaN  ...     NaN     NaN     NaN     NaN     NaN   \n",
       "NES              45.01   7.85  ...     NaN     NaN     NaN     NaN     NaN   \n",
       "NG                 NaN    NaN  ...     NaN     NaN     NaN     NaN     NaN   \n",
       "PC                0.03    NaN  ...   12.26   16.33   24.13   34.55   23.22   \n",
       "PCFX               NaN    NaN  ...     NaN     NaN     NaN     NaN     NaN   \n",
       "PS                 NaN    NaN  ...     NaN     NaN     NaN     NaN     NaN   \n",
       "PS2                NaN    NaN  ...   43.74   18.93    3.72    0.40     NaN   \n",
       "PS3                NaN    NaN  ...  117.01  128.92  140.18  154.14  107.29   \n",
       "PS4                NaN    NaN  ...     NaN     NaN     NaN     NaN     NaN   \n",
       "PSP                NaN    NaN  ...   32.48   33.31   32.08   16.72    7.32   \n",
       "PSV                NaN    NaN  ...     NaN     NaN     NaN    4.63   16.19   \n",
       "SAT                NaN    NaN  ...     NaN     NaN     NaN     NaN     NaN   \n",
       "SCD                NaN    NaN  ...     NaN     NaN     NaN     NaN     NaN   \n",
       "SNES               NaN    NaN  ...     NaN     NaN     NaN     NaN     NaN   \n",
       "TG16               NaN    NaN  ...     NaN     NaN     NaN     NaN     NaN   \n",
       "WS                 NaN    NaN  ...     NaN     NaN     NaN     NaN     NaN   \n",
       "Wii                NaN    NaN  ...  158.56  179.78   90.86   45.61   21.08   \n",
       "WiiU               NaN    NaN  ...     NaN     NaN     NaN     NaN   17.56   \n",
       "X360               NaN    NaN  ...  134.07  118.39  166.93  140.18   99.57   \n",
       "XB                 NaN    NaN  ...    0.18     NaN     NaN     NaN     NaN   \n",
       "XOne               NaN    NaN  ...     NaN     NaN     NaN     NaN     NaN   \n",
       "\n",
       "year_of_release    2013    2014    2015   2016    total  \n",
       "platform                                                 \n",
       "2600                NaN     NaN     NaN    NaN    86.48  \n",
       "3DO                 NaN     NaN     NaN    NaN     0.10  \n",
       "3DS               56.32   43.07   27.21  15.10   253.24  \n",
       "DC                  NaN     NaN     NaN    NaN    15.95  \n",
       "DS                 0.97     NaN     NaN    NaN   655.36  \n",
       "GB                  NaN     NaN     NaN    NaN   254.43  \n",
       "GBA                 NaN     NaN     NaN    NaN   263.70  \n",
       "GC                  NaN     NaN     NaN    NaN   185.68  \n",
       "GEN                 NaN     NaN     NaN    NaN    30.77  \n",
       "GG                  NaN     NaN     NaN    NaN     0.04  \n",
       "N64                 NaN     NaN     NaN    NaN   218.01  \n",
       "NES                 NaN     NaN     NaN    NaN   251.05  \n",
       "NG                  NaN     NaN     NaN    NaN     1.44  \n",
       "PC                12.38   13.25    8.49   5.22   252.25  \n",
       "PCFX                NaN     NaN     NaN    NaN     0.03  \n",
       "PS                  NaN     NaN     NaN    NaN   714.26  \n",
       "PS2                 NaN     NaN     NaN    NaN  1171.19  \n",
       "PS3              113.24   47.40   16.30   3.16   921.09  \n",
       "PS4               25.99  100.00  118.86  69.15   314.00  \n",
       "PSP                3.14    0.24    0.12    NaN   273.11  \n",
       "PSV               10.59   11.90    5.95   4.24    53.50  \n",
       "SAT                 NaN     NaN     NaN    NaN    33.59  \n",
       "SCD                 NaN     NaN     NaN    NaN     1.86  \n",
       "SNES                NaN     NaN     NaN    NaN   200.04  \n",
       "TG16                NaN     NaN     NaN    NaN     0.16  \n",
       "WS                  NaN     NaN     NaN    NaN     1.42  \n",
       "Wii                8.11    2.61    0.15    NaN   791.91  \n",
       "WiiU              21.65   22.01   16.27   4.30    81.79  \n",
       "X360              88.57   33.77   11.87   1.22   948.74  \n",
       "XB                  NaN     NaN     NaN    NaN   236.38  \n",
       "XOne              18.96   54.07   59.92  25.82   158.77  \n",
       "\n",
       "[31 rows x 38 columns]"
      ]
     },
     "metadata": {},
     "output_type": "display_data"
    }
   ],
   "source": [
    "display(sales_by_platform)"
   ]
  },
  {
   "cell_type": "code",
   "execution_count": 25,
   "metadata": {},
   "outputs": [],
   "source": [
    "sales_by_platform_leaders=sales_by_platform.sort_values(by='total', ascending=False)"
   ]
  },
  {
   "cell_type": "code",
   "execution_count": 26,
   "metadata": {},
   "outputs": [],
   "source": [
    "sales_by_platform_leaders=sales_by_platform_leaders.head(8)"
   ]
  },
  {
   "cell_type": "code",
   "execution_count": 27,
   "metadata": {},
   "outputs": [],
   "source": [
    "sales_by_platform_leaders=sales_by_platform_leaders.T"
   ]
  },
  {
   "cell_type": "code",
   "execution_count": 28,
   "metadata": {},
   "outputs": [
    {
     "data": {
      "text/html": [
       "<div>\n",
       "<style scoped>\n",
       "    .dataframe tbody tr th:only-of-type {\n",
       "        vertical-align: middle;\n",
       "    }\n",
       "\n",
       "    .dataframe tbody tr th {\n",
       "        vertical-align: top;\n",
       "    }\n",
       "\n",
       "    .dataframe thead th {\n",
       "        text-align: right;\n",
       "    }\n",
       "</style>\n",
       "<table border=\"1\" class=\"dataframe\">\n",
       "  <thead>\n",
       "    <tr style=\"text-align: right;\">\n",
       "      <th>platform</th>\n",
       "      <th>PS2</th>\n",
       "      <th>X360</th>\n",
       "      <th>PS3</th>\n",
       "      <th>Wii</th>\n",
       "      <th>PS</th>\n",
       "      <th>DS</th>\n",
       "      <th>PS4</th>\n",
       "      <th>PSP</th>\n",
       "    </tr>\n",
       "    <tr>\n",
       "      <th>year_of_release</th>\n",
       "      <th></th>\n",
       "      <th></th>\n",
       "      <th></th>\n",
       "      <th></th>\n",
       "      <th></th>\n",
       "      <th></th>\n",
       "      <th></th>\n",
       "      <th></th>\n",
       "    </tr>\n",
       "  </thead>\n",
       "  <tbody>\n",
       "    <tr>\n",
       "      <th>1980</th>\n",
       "      <td>NaN</td>\n",
       "      <td>NaN</td>\n",
       "      <td>NaN</td>\n",
       "      <td>NaN</td>\n",
       "      <td>NaN</td>\n",
       "      <td>NaN</td>\n",
       "      <td>NaN</td>\n",
       "      <td>NaN</td>\n",
       "    </tr>\n",
       "    <tr>\n",
       "      <th>1981</th>\n",
       "      <td>NaN</td>\n",
       "      <td>NaN</td>\n",
       "      <td>NaN</td>\n",
       "      <td>NaN</td>\n",
       "      <td>NaN</td>\n",
       "      <td>NaN</td>\n",
       "      <td>NaN</td>\n",
       "      <td>NaN</td>\n",
       "    </tr>\n",
       "    <tr>\n",
       "      <th>1982</th>\n",
       "      <td>NaN</td>\n",
       "      <td>NaN</td>\n",
       "      <td>NaN</td>\n",
       "      <td>NaN</td>\n",
       "      <td>NaN</td>\n",
       "      <td>NaN</td>\n",
       "      <td>NaN</td>\n",
       "      <td>NaN</td>\n",
       "    </tr>\n",
       "    <tr>\n",
       "      <th>1983</th>\n",
       "      <td>NaN</td>\n",
       "      <td>NaN</td>\n",
       "      <td>NaN</td>\n",
       "      <td>NaN</td>\n",
       "      <td>NaN</td>\n",
       "      <td>NaN</td>\n",
       "      <td>NaN</td>\n",
       "      <td>NaN</td>\n",
       "    </tr>\n",
       "    <tr>\n",
       "      <th>1984</th>\n",
       "      <td>NaN</td>\n",
       "      <td>NaN</td>\n",
       "      <td>NaN</td>\n",
       "      <td>NaN</td>\n",
       "      <td>NaN</td>\n",
       "      <td>NaN</td>\n",
       "      <td>NaN</td>\n",
       "      <td>NaN</td>\n",
       "    </tr>\n",
       "    <tr>\n",
       "      <th>1985</th>\n",
       "      <td>NaN</td>\n",
       "      <td>NaN</td>\n",
       "      <td>NaN</td>\n",
       "      <td>NaN</td>\n",
       "      <td>NaN</td>\n",
       "      <td>0.02</td>\n",
       "      <td>NaN</td>\n",
       "      <td>NaN</td>\n",
       "    </tr>\n",
       "    <tr>\n",
       "      <th>1986</th>\n",
       "      <td>NaN</td>\n",
       "      <td>NaN</td>\n",
       "      <td>NaN</td>\n",
       "      <td>NaN</td>\n",
       "      <td>NaN</td>\n",
       "      <td>NaN</td>\n",
       "      <td>NaN</td>\n",
       "      <td>NaN</td>\n",
       "    </tr>\n",
       "    <tr>\n",
       "      <th>1987</th>\n",
       "      <td>NaN</td>\n",
       "      <td>NaN</td>\n",
       "      <td>NaN</td>\n",
       "      <td>NaN</td>\n",
       "      <td>NaN</td>\n",
       "      <td>NaN</td>\n",
       "      <td>NaN</td>\n",
       "      <td>NaN</td>\n",
       "    </tr>\n",
       "    <tr>\n",
       "      <th>1988</th>\n",
       "      <td>NaN</td>\n",
       "      <td>NaN</td>\n",
       "      <td>NaN</td>\n",
       "      <td>NaN</td>\n",
       "      <td>NaN</td>\n",
       "      <td>NaN</td>\n",
       "      <td>NaN</td>\n",
       "      <td>NaN</td>\n",
       "    </tr>\n",
       "    <tr>\n",
       "      <th>1989</th>\n",
       "      <td>NaN</td>\n",
       "      <td>NaN</td>\n",
       "      <td>NaN</td>\n",
       "      <td>NaN</td>\n",
       "      <td>NaN</td>\n",
       "      <td>NaN</td>\n",
       "      <td>NaN</td>\n",
       "      <td>NaN</td>\n",
       "    </tr>\n",
       "    <tr>\n",
       "      <th>1990</th>\n",
       "      <td>NaN</td>\n",
       "      <td>NaN</td>\n",
       "      <td>NaN</td>\n",
       "      <td>NaN</td>\n",
       "      <td>NaN</td>\n",
       "      <td>NaN</td>\n",
       "      <td>NaN</td>\n",
       "      <td>NaN</td>\n",
       "    </tr>\n",
       "    <tr>\n",
       "      <th>1991</th>\n",
       "      <td>NaN</td>\n",
       "      <td>NaN</td>\n",
       "      <td>NaN</td>\n",
       "      <td>NaN</td>\n",
       "      <td>NaN</td>\n",
       "      <td>NaN</td>\n",
       "      <td>NaN</td>\n",
       "      <td>NaN</td>\n",
       "    </tr>\n",
       "    <tr>\n",
       "      <th>1992</th>\n",
       "      <td>NaN</td>\n",
       "      <td>NaN</td>\n",
       "      <td>NaN</td>\n",
       "      <td>NaN</td>\n",
       "      <td>NaN</td>\n",
       "      <td>NaN</td>\n",
       "      <td>NaN</td>\n",
       "      <td>NaN</td>\n",
       "    </tr>\n",
       "    <tr>\n",
       "      <th>1993</th>\n",
       "      <td>NaN</td>\n",
       "      <td>NaN</td>\n",
       "      <td>NaN</td>\n",
       "      <td>NaN</td>\n",
       "      <td>NaN</td>\n",
       "      <td>NaN</td>\n",
       "      <td>NaN</td>\n",
       "      <td>NaN</td>\n",
       "    </tr>\n",
       "    <tr>\n",
       "      <th>1994</th>\n",
       "      <td>NaN</td>\n",
       "      <td>NaN</td>\n",
       "      <td>NaN</td>\n",
       "      <td>NaN</td>\n",
       "      <td>6.03</td>\n",
       "      <td>NaN</td>\n",
       "      <td>NaN</td>\n",
       "      <td>NaN</td>\n",
       "    </tr>\n",
       "    <tr>\n",
       "      <th>1995</th>\n",
       "      <td>NaN</td>\n",
       "      <td>NaN</td>\n",
       "      <td>NaN</td>\n",
       "      <td>NaN</td>\n",
       "      <td>35.96</td>\n",
       "      <td>NaN</td>\n",
       "      <td>NaN</td>\n",
       "      <td>NaN</td>\n",
       "    </tr>\n",
       "    <tr>\n",
       "      <th>1996</th>\n",
       "      <td>NaN</td>\n",
       "      <td>NaN</td>\n",
       "      <td>NaN</td>\n",
       "      <td>NaN</td>\n",
       "      <td>94.70</td>\n",
       "      <td>NaN</td>\n",
       "      <td>NaN</td>\n",
       "      <td>NaN</td>\n",
       "    </tr>\n",
       "    <tr>\n",
       "      <th>1997</th>\n",
       "      <td>NaN</td>\n",
       "      <td>NaN</td>\n",
       "      <td>NaN</td>\n",
       "      <td>NaN</td>\n",
       "      <td>136.12</td>\n",
       "      <td>NaN</td>\n",
       "      <td>NaN</td>\n",
       "      <td>NaN</td>\n",
       "    </tr>\n",
       "    <tr>\n",
       "      <th>1998</th>\n",
       "      <td>NaN</td>\n",
       "      <td>NaN</td>\n",
       "      <td>NaN</td>\n",
       "      <td>NaN</td>\n",
       "      <td>169.49</td>\n",
       "      <td>NaN</td>\n",
       "      <td>NaN</td>\n",
       "      <td>NaN</td>\n",
       "    </tr>\n",
       "    <tr>\n",
       "      <th>1999</th>\n",
       "      <td>NaN</td>\n",
       "      <td>NaN</td>\n",
       "      <td>NaN</td>\n",
       "      <td>NaN</td>\n",
       "      <td>142.19</td>\n",
       "      <td>NaN</td>\n",
       "      <td>NaN</td>\n",
       "      <td>NaN</td>\n",
       "    </tr>\n",
       "    <tr>\n",
       "      <th>2000</th>\n",
       "      <td>34.91</td>\n",
       "      <td>NaN</td>\n",
       "      <td>NaN</td>\n",
       "      <td>NaN</td>\n",
       "      <td>86.71</td>\n",
       "      <td>NaN</td>\n",
       "      <td>NaN</td>\n",
       "      <td>NaN</td>\n",
       "    </tr>\n",
       "    <tr>\n",
       "      <th>2001</th>\n",
       "      <td>159.77</td>\n",
       "      <td>NaN</td>\n",
       "      <td>NaN</td>\n",
       "      <td>NaN</td>\n",
       "      <td>34.32</td>\n",
       "      <td>NaN</td>\n",
       "      <td>NaN</td>\n",
       "      <td>NaN</td>\n",
       "    </tr>\n",
       "    <tr>\n",
       "      <th>2002</th>\n",
       "      <td>198.07</td>\n",
       "      <td>NaN</td>\n",
       "      <td>NaN</td>\n",
       "      <td>NaN</td>\n",
       "      <td>6.67</td>\n",
       "      <td>NaN</td>\n",
       "      <td>NaN</td>\n",
       "      <td>NaN</td>\n",
       "    </tr>\n",
       "    <tr>\n",
       "      <th>2003</th>\n",
       "      <td>180.71</td>\n",
       "      <td>NaN</td>\n",
       "      <td>NaN</td>\n",
       "      <td>NaN</td>\n",
       "      <td>2.07</td>\n",
       "      <td>NaN</td>\n",
       "      <td>NaN</td>\n",
       "      <td>NaN</td>\n",
       "    </tr>\n",
       "    <tr>\n",
       "      <th>2004</th>\n",
       "      <td>209.10</td>\n",
       "      <td>NaN</td>\n",
       "      <td>NaN</td>\n",
       "      <td>NaN</td>\n",
       "      <td>NaN</td>\n",
       "      <td>17.23</td>\n",
       "      <td>NaN</td>\n",
       "      <td>7.03</td>\n",
       "    </tr>\n",
       "    <tr>\n",
       "      <th>2005</th>\n",
       "      <td>154.96</td>\n",
       "      <td>8.25</td>\n",
       "      <td>NaN</td>\n",
       "      <td>NaN</td>\n",
       "      <td>NaN</td>\n",
       "      <td>128.68</td>\n",
       "      <td>NaN</td>\n",
       "      <td>43.71</td>\n",
       "    </tr>\n",
       "    <tr>\n",
       "      <th>2006</th>\n",
       "      <td>100.49</td>\n",
       "      <td>51.55</td>\n",
       "      <td>20.46</td>\n",
       "      <td>136.07</td>\n",
       "      <td>NaN</td>\n",
       "      <td>114.93</td>\n",
       "      <td>NaN</td>\n",
       "      <td>52.48</td>\n",
       "    </tr>\n",
       "    <tr>\n",
       "      <th>2007</th>\n",
       "      <td>66.39</td>\n",
       "      <td>94.37</td>\n",
       "      <td>72.99</td>\n",
       "      <td>149.08</td>\n",
       "      <td>NaN</td>\n",
       "      <td>121.23</td>\n",
       "      <td>NaN</td>\n",
       "      <td>44.48</td>\n",
       "    </tr>\n",
       "    <tr>\n",
       "      <th>2008</th>\n",
       "      <td>43.74</td>\n",
       "      <td>134.07</td>\n",
       "      <td>117.01</td>\n",
       "      <td>158.56</td>\n",
       "      <td>NaN</td>\n",
       "      <td>102.44</td>\n",
       "      <td>NaN</td>\n",
       "      <td>32.48</td>\n",
       "    </tr>\n",
       "    <tr>\n",
       "      <th>2009</th>\n",
       "      <td>18.93</td>\n",
       "      <td>118.39</td>\n",
       "      <td>128.92</td>\n",
       "      <td>179.78</td>\n",
       "      <td>NaN</td>\n",
       "      <td>84.54</td>\n",
       "      <td>NaN</td>\n",
       "      <td>33.31</td>\n",
       "    </tr>\n",
       "    <tr>\n",
       "      <th>2010</th>\n",
       "      <td>3.72</td>\n",
       "      <td>166.93</td>\n",
       "      <td>140.18</td>\n",
       "      <td>90.86</td>\n",
       "      <td>NaN</td>\n",
       "      <td>61.56</td>\n",
       "      <td>NaN</td>\n",
       "      <td>32.08</td>\n",
       "    </tr>\n",
       "    <tr>\n",
       "      <th>2011</th>\n",
       "      <td>0.40</td>\n",
       "      <td>140.18</td>\n",
       "      <td>154.14</td>\n",
       "      <td>45.61</td>\n",
       "      <td>NaN</td>\n",
       "      <td>13.48</td>\n",
       "      <td>NaN</td>\n",
       "      <td>16.72</td>\n",
       "    </tr>\n",
       "    <tr>\n",
       "      <th>2012</th>\n",
       "      <td>NaN</td>\n",
       "      <td>99.57</td>\n",
       "      <td>107.29</td>\n",
       "      <td>21.08</td>\n",
       "      <td>NaN</td>\n",
       "      <td>10.28</td>\n",
       "      <td>NaN</td>\n",
       "      <td>7.32</td>\n",
       "    </tr>\n",
       "    <tr>\n",
       "      <th>2013</th>\n",
       "      <td>NaN</td>\n",
       "      <td>88.57</td>\n",
       "      <td>113.24</td>\n",
       "      <td>8.11</td>\n",
       "      <td>NaN</td>\n",
       "      <td>0.97</td>\n",
       "      <td>25.99</td>\n",
       "      <td>3.14</td>\n",
       "    </tr>\n",
       "    <tr>\n",
       "      <th>2014</th>\n",
       "      <td>NaN</td>\n",
       "      <td>33.77</td>\n",
       "      <td>47.40</td>\n",
       "      <td>2.61</td>\n",
       "      <td>NaN</td>\n",
       "      <td>NaN</td>\n",
       "      <td>100.00</td>\n",
       "      <td>0.24</td>\n",
       "    </tr>\n",
       "    <tr>\n",
       "      <th>2015</th>\n",
       "      <td>NaN</td>\n",
       "      <td>11.87</td>\n",
       "      <td>16.30</td>\n",
       "      <td>0.15</td>\n",
       "      <td>NaN</td>\n",
       "      <td>NaN</td>\n",
       "      <td>118.86</td>\n",
       "      <td>0.12</td>\n",
       "    </tr>\n",
       "    <tr>\n",
       "      <th>2016</th>\n",
       "      <td>NaN</td>\n",
       "      <td>1.22</td>\n",
       "      <td>3.16</td>\n",
       "      <td>NaN</td>\n",
       "      <td>NaN</td>\n",
       "      <td>NaN</td>\n",
       "      <td>69.15</td>\n",
       "      <td>NaN</td>\n",
       "    </tr>\n",
       "    <tr>\n",
       "      <th>total</th>\n",
       "      <td>1171.19</td>\n",
       "      <td>948.74</td>\n",
       "      <td>921.09</td>\n",
       "      <td>791.91</td>\n",
       "      <td>714.26</td>\n",
       "      <td>655.36</td>\n",
       "      <td>314.00</td>\n",
       "      <td>273.11</td>\n",
       "    </tr>\n",
       "  </tbody>\n",
       "</table>\n",
       "</div>"
      ],
      "text/plain": [
       "platform             PS2    X360     PS3     Wii      PS      DS     PS4  \\\n",
       "year_of_release                                                            \n",
       "1980                 NaN     NaN     NaN     NaN     NaN     NaN     NaN   \n",
       "1981                 NaN     NaN     NaN     NaN     NaN     NaN     NaN   \n",
       "1982                 NaN     NaN     NaN     NaN     NaN     NaN     NaN   \n",
       "1983                 NaN     NaN     NaN     NaN     NaN     NaN     NaN   \n",
       "1984                 NaN     NaN     NaN     NaN     NaN     NaN     NaN   \n",
       "1985                 NaN     NaN     NaN     NaN     NaN    0.02     NaN   \n",
       "1986                 NaN     NaN     NaN     NaN     NaN     NaN     NaN   \n",
       "1987                 NaN     NaN     NaN     NaN     NaN     NaN     NaN   \n",
       "1988                 NaN     NaN     NaN     NaN     NaN     NaN     NaN   \n",
       "1989                 NaN     NaN     NaN     NaN     NaN     NaN     NaN   \n",
       "1990                 NaN     NaN     NaN     NaN     NaN     NaN     NaN   \n",
       "1991                 NaN     NaN     NaN     NaN     NaN     NaN     NaN   \n",
       "1992                 NaN     NaN     NaN     NaN     NaN     NaN     NaN   \n",
       "1993                 NaN     NaN     NaN     NaN     NaN     NaN     NaN   \n",
       "1994                 NaN     NaN     NaN     NaN    6.03     NaN     NaN   \n",
       "1995                 NaN     NaN     NaN     NaN   35.96     NaN     NaN   \n",
       "1996                 NaN     NaN     NaN     NaN   94.70     NaN     NaN   \n",
       "1997                 NaN     NaN     NaN     NaN  136.12     NaN     NaN   \n",
       "1998                 NaN     NaN     NaN     NaN  169.49     NaN     NaN   \n",
       "1999                 NaN     NaN     NaN     NaN  142.19     NaN     NaN   \n",
       "2000               34.91     NaN     NaN     NaN   86.71     NaN     NaN   \n",
       "2001              159.77     NaN     NaN     NaN   34.32     NaN     NaN   \n",
       "2002              198.07     NaN     NaN     NaN    6.67     NaN     NaN   \n",
       "2003              180.71     NaN     NaN     NaN    2.07     NaN     NaN   \n",
       "2004              209.10     NaN     NaN     NaN     NaN   17.23     NaN   \n",
       "2005              154.96    8.25     NaN     NaN     NaN  128.68     NaN   \n",
       "2006              100.49   51.55   20.46  136.07     NaN  114.93     NaN   \n",
       "2007               66.39   94.37   72.99  149.08     NaN  121.23     NaN   \n",
       "2008               43.74  134.07  117.01  158.56     NaN  102.44     NaN   \n",
       "2009               18.93  118.39  128.92  179.78     NaN   84.54     NaN   \n",
       "2010                3.72  166.93  140.18   90.86     NaN   61.56     NaN   \n",
       "2011                0.40  140.18  154.14   45.61     NaN   13.48     NaN   \n",
       "2012                 NaN   99.57  107.29   21.08     NaN   10.28     NaN   \n",
       "2013                 NaN   88.57  113.24    8.11     NaN    0.97   25.99   \n",
       "2014                 NaN   33.77   47.40    2.61     NaN     NaN  100.00   \n",
       "2015                 NaN   11.87   16.30    0.15     NaN     NaN  118.86   \n",
       "2016                 NaN    1.22    3.16     NaN     NaN     NaN   69.15   \n",
       "total            1171.19  948.74  921.09  791.91  714.26  655.36  314.00   \n",
       "\n",
       "platform            PSP  \n",
       "year_of_release          \n",
       "1980                NaN  \n",
       "1981                NaN  \n",
       "1982                NaN  \n",
       "1983                NaN  \n",
       "1984                NaN  \n",
       "1985                NaN  \n",
       "1986                NaN  \n",
       "1987                NaN  \n",
       "1988                NaN  \n",
       "1989                NaN  \n",
       "1990                NaN  \n",
       "1991                NaN  \n",
       "1992                NaN  \n",
       "1993                NaN  \n",
       "1994                NaN  \n",
       "1995                NaN  \n",
       "1996                NaN  \n",
       "1997                NaN  \n",
       "1998                NaN  \n",
       "1999                NaN  \n",
       "2000                NaN  \n",
       "2001                NaN  \n",
       "2002                NaN  \n",
       "2003                NaN  \n",
       "2004               7.03  \n",
       "2005              43.71  \n",
       "2006              52.48  \n",
       "2007              44.48  \n",
       "2008              32.48  \n",
       "2009              33.31  \n",
       "2010              32.08  \n",
       "2011              16.72  \n",
       "2012               7.32  \n",
       "2013               3.14  \n",
       "2014               0.24  \n",
       "2015               0.12  \n",
       "2016                NaN  \n",
       "total            273.11  "
      ]
     },
     "metadata": {},
     "output_type": "display_data"
    }
   ],
   "source": [
    "display(sales_by_platform_leaders)"
   ]
  },
  {
   "cell_type": "markdown",
   "metadata": {},
   "source": [
    "Let's analyze the first 8 platforms with the highest total sales."
   ]
  },
  {
   "cell_type": "markdown",
   "metadata": {},
   "source": [
    "PS2, X360,PS3, PS3, Wii, DS, PS, PS4, GBA\t\t\t\t"
   ]
  },
  {
   "cell_type": "markdown",
   "metadata": {},
   "source": [
    "We will remove the years (1980-1993) during which sales were close to zero, as well as the row labeled \"total,\" in order to create the graph."
   ]
  },
  {
   "cell_type": "code",
   "execution_count": 29,
   "metadata": {},
   "outputs": [],
   "source": [
    "sales_by_platform_leaders=sales_by_platform_leaders.drop(labels = [1980, 1981, 1982, 1983, 1984, 1985, 1986, 1987, 1988, 1989, 1990, 1991, 1992, 1993],axis = 0)"
   ]
  },
  {
   "cell_type": "code",
   "execution_count": 30,
   "metadata": {},
   "outputs": [],
   "source": [
    "sales_by_platform_leaders=sales_by_platform_leaders.drop(labels =['total'],  axis = 0)"
   ]
  },
  {
   "cell_type": "code",
   "execution_count": 31,
   "metadata": {},
   "outputs": [
    {
     "data": {
      "text/plain": [
       "<AxesSubplot:xlabel='year_of_release'>"
      ]
     },
     "execution_count": 31,
     "metadata": {},
     "output_type": "execute_result"
    },
    {
     "data": {
      "image/png": "[encoded data removed]",
      "text/plain": [
       "<Figure size 432x288 with 1 Axes>"
      ]
     },
     "metadata": {
      "needs_background": "light"
     },
     "output_type": "display_data"
    }
   ],
   "source": [
    "sales_by_platform_leaders.plot()"
   ]
  },
  {
   "cell_type": "markdown",
   "metadata": {},
   "source": [
    "The graph illustrates that each platform follows a cycle that lasts approximately 10 years. No platform remains popular indefinitely. There is a period of growth, followed by a peak and eventual decline."
   ]
  },
  {
   "cell_type": "markdown",
   "metadata": {},
   "source": [
    "### Let's choose the relevant period."
   ]
  },
  {
   "cell_type": "markdown",
   "metadata": {},
   "source": [
    "Let's select the relevant period that can serve as the basis for making forecasts for the year 2017. Considering the information from the previous point, where all platforms have a lifecycle and become less relevant after a certain period, we will look at the platforms that were significant in the year 2016.\n"
   ]
  },
  {
   "cell_type": "code",
   "execution_count": 32,
   "metadata": {},
   "outputs": [],
   "source": [
    "sales_by_platform_2016=sales_by_platform.sort_values(by=2016, ascending=False)"
   ]
  },
  {
   "cell_type": "code",
   "execution_count": 33,
   "metadata": {},
   "outputs": [
    {
     "data": {
      "text/html": [
       "<div>\n",
       "<style scoped>\n",
       "    .dataframe tbody tr th:only-of-type {\n",
       "        vertical-align: middle;\n",
       "    }\n",
       "\n",
       "    .dataframe tbody tr th {\n",
       "        vertical-align: top;\n",
       "    }\n",
       "\n",
       "    .dataframe thead th {\n",
       "        text-align: right;\n",
       "    }\n",
       "</style>\n",
       "<table border=\"1\" class=\"dataframe\">\n",
       "  <thead>\n",
       "    <tr style=\"text-align: right;\">\n",
       "      <th>year_of_release</th>\n",
       "      <th>1980</th>\n",
       "      <th>1981</th>\n",
       "      <th>1982</th>\n",
       "      <th>1983</th>\n",
       "      <th>1984</th>\n",
       "      <th>1985</th>\n",
       "      <th>1986</th>\n",
       "      <th>1987</th>\n",
       "      <th>1988</th>\n",
       "      <th>1989</th>\n",
       "      <th>...</th>\n",
       "      <th>2008</th>\n",
       "      <th>2009</th>\n",
       "      <th>2010</th>\n",
       "      <th>2011</th>\n",
       "      <th>2012</th>\n",
       "      <th>2013</th>\n",
       "      <th>2014</th>\n",
       "      <th>2015</th>\n",
       "      <th>2016</th>\n",
       "      <th>total</th>\n",
       "    </tr>\n",
       "    <tr>\n",
       "      <th>platform</th>\n",
       "      <th></th>\n",
       "      <th></th>\n",
       "      <th></th>\n",
       "      <th></th>\n",
       "      <th></th>\n",
       "      <th></th>\n",
       "      <th></th>\n",
       "      <th></th>\n",
       "      <th></th>\n",
       "      <th></th>\n",
       "      <th></th>\n",
       "      <th></th>\n",
       "      <th></th>\n",
       "      <th></th>\n",
       "      <th></th>\n",
       "      <th></th>\n",
       "      <th></th>\n",
       "      <th></th>\n",
       "      <th></th>\n",
       "      <th></th>\n",
       "      <th></th>\n",
       "    </tr>\n",
       "  </thead>\n",
       "  <tbody>\n",
       "    <tr>\n",
       "      <th>PS4</th>\n",
       "      <td>NaN</td>\n",
       "      <td>NaN</td>\n",
       "      <td>NaN</td>\n",
       "      <td>NaN</td>\n",
       "      <td>NaN</td>\n",
       "      <td>NaN</td>\n",
       "      <td>NaN</td>\n",
       "      <td>NaN</td>\n",
       "      <td>NaN</td>\n",
       "      <td>NaN</td>\n",
       "      <td>...</td>\n",
       "      <td>NaN</td>\n",
       "      <td>NaN</td>\n",
       "      <td>NaN</td>\n",
       "      <td>NaN</td>\n",
       "      <td>NaN</td>\n",
       "      <td>25.99</td>\n",
       "      <td>100.00</td>\n",
       "      <td>118.86</td>\n",
       "      <td>69.15</td>\n",
       "      <td>314.00</td>\n",
       "    </tr>\n",
       "    <tr>\n",
       "      <th>XOne</th>\n",
       "      <td>NaN</td>\n",
       "      <td>NaN</td>\n",
       "      <td>NaN</td>\n",
       "      <td>NaN</td>\n",
       "      <td>NaN</td>\n",
       "      <td>NaN</td>\n",
       "      <td>NaN</td>\n",
       "      <td>NaN</td>\n",
       "      <td>NaN</td>\n",
       "      <td>NaN</td>\n",
       "      <td>...</td>\n",
       "      <td>NaN</td>\n",
       "      <td>NaN</td>\n",
       "      <td>NaN</td>\n",
       "      <td>NaN</td>\n",
       "      <td>NaN</td>\n",
       "      <td>18.96</td>\n",
       "      <td>54.07</td>\n",
       "      <td>59.92</td>\n",
       "      <td>25.82</td>\n",
       "      <td>158.77</td>\n",
       "    </tr>\n",
       "    <tr>\n",
       "      <th>3DS</th>\n",
       "      <td>NaN</td>\n",
       "      <td>NaN</td>\n",
       "      <td>NaN</td>\n",
       "      <td>NaN</td>\n",
       "      <td>NaN</td>\n",
       "      <td>NaN</td>\n",
       "      <td>NaN</td>\n",
       "      <td>NaN</td>\n",
       "      <td>NaN</td>\n",
       "      <td>NaN</td>\n",
       "      <td>...</td>\n",
       "      <td>NaN</td>\n",
       "      <td>NaN</td>\n",
       "      <td>NaN</td>\n",
       "      <td>60.53</td>\n",
       "      <td>51.01</td>\n",
       "      <td>56.32</td>\n",
       "      <td>43.07</td>\n",
       "      <td>27.21</td>\n",
       "      <td>15.10</td>\n",
       "      <td>253.24</td>\n",
       "    </tr>\n",
       "    <tr>\n",
       "      <th>PC</th>\n",
       "      <td>NaN</td>\n",
       "      <td>NaN</td>\n",
       "      <td>NaN</td>\n",
       "      <td>NaN</td>\n",
       "      <td>NaN</td>\n",
       "      <td>0.04</td>\n",
       "      <td>NaN</td>\n",
       "      <td>NaN</td>\n",
       "      <td>0.03</td>\n",
       "      <td>NaN</td>\n",
       "      <td>...</td>\n",
       "      <td>12.26</td>\n",
       "      <td>16.33</td>\n",
       "      <td>24.13</td>\n",
       "      <td>34.55</td>\n",
       "      <td>23.22</td>\n",
       "      <td>12.38</td>\n",
       "      <td>13.25</td>\n",
       "      <td>8.49</td>\n",
       "      <td>5.22</td>\n",
       "      <td>252.25</td>\n",
       "    </tr>\n",
       "    <tr>\n",
       "      <th>WiiU</th>\n",
       "      <td>NaN</td>\n",
       "      <td>NaN</td>\n",
       "      <td>NaN</td>\n",
       "      <td>NaN</td>\n",
       "      <td>NaN</td>\n",
       "      <td>NaN</td>\n",
       "      <td>NaN</td>\n",
       "      <td>NaN</td>\n",
       "      <td>NaN</td>\n",
       "      <td>NaN</td>\n",
       "      <td>...</td>\n",
       "      <td>NaN</td>\n",
       "      <td>NaN</td>\n",
       "      <td>NaN</td>\n",
       "      <td>NaN</td>\n",
       "      <td>17.56</td>\n",
       "      <td>21.65</td>\n",
       "      <td>22.01</td>\n",
       "      <td>16.27</td>\n",
       "      <td>4.30</td>\n",
       "      <td>81.79</td>\n",
       "    </tr>\n",
       "    <tr>\n",
       "      <th>PSV</th>\n",
       "      <td>NaN</td>\n",
       "      <td>NaN</td>\n",
       "      <td>NaN</td>\n",
       "      <td>NaN</td>\n",
       "      <td>NaN</td>\n",
       "      <td>NaN</td>\n",
       "      <td>NaN</td>\n",
       "      <td>NaN</td>\n",
       "      <td>NaN</td>\n",
       "      <td>NaN</td>\n",
       "      <td>...</td>\n",
       "      <td>NaN</td>\n",
       "      <td>NaN</td>\n",
       "      <td>NaN</td>\n",
       "      <td>4.63</td>\n",
       "      <td>16.19</td>\n",
       "      <td>10.59</td>\n",
       "      <td>11.90</td>\n",
       "      <td>5.95</td>\n",
       "      <td>4.24</td>\n",
       "      <td>53.50</td>\n",
       "    </tr>\n",
       "    <tr>\n",
       "      <th>PS3</th>\n",
       "      <td>NaN</td>\n",
       "      <td>NaN</td>\n",
       "      <td>NaN</td>\n",
       "      <td>NaN</td>\n",
       "      <td>NaN</td>\n",
       "      <td>NaN</td>\n",
       "      <td>NaN</td>\n",
       "      <td>NaN</td>\n",
       "      <td>NaN</td>\n",
       "      <td>NaN</td>\n",
       "      <td>...</td>\n",
       "      <td>117.01</td>\n",
       "      <td>128.92</td>\n",
       "      <td>140.18</td>\n",
       "      <td>154.14</td>\n",
       "      <td>107.29</td>\n",
       "      <td>113.24</td>\n",
       "      <td>47.40</td>\n",
       "      <td>16.30</td>\n",
       "      <td>3.16</td>\n",
       "      <td>921.09</td>\n",
       "    </tr>\n",
       "    <tr>\n",
       "      <th>X360</th>\n",
       "      <td>NaN</td>\n",
       "      <td>NaN</td>\n",
       "      <td>NaN</td>\n",
       "      <td>NaN</td>\n",
       "      <td>NaN</td>\n",
       "      <td>NaN</td>\n",
       "      <td>NaN</td>\n",
       "      <td>NaN</td>\n",
       "      <td>NaN</td>\n",
       "      <td>NaN</td>\n",
       "      <td>...</td>\n",
       "      <td>134.07</td>\n",
       "      <td>118.39</td>\n",
       "      <td>166.93</td>\n",
       "      <td>140.18</td>\n",
       "      <td>99.57</td>\n",
       "      <td>88.57</td>\n",
       "      <td>33.77</td>\n",
       "      <td>11.87</td>\n",
       "      <td>1.22</td>\n",
       "      <td>948.74</td>\n",
       "    </tr>\n",
       "    <tr>\n",
       "      <th>2600</th>\n",
       "      <td>11.38</td>\n",
       "      <td>35.68</td>\n",
       "      <td>28.88</td>\n",
       "      <td>5.84</td>\n",
       "      <td>0.27</td>\n",
       "      <td>0.45</td>\n",
       "      <td>0.67</td>\n",
       "      <td>1.94</td>\n",
       "      <td>0.74</td>\n",
       "      <td>0.63</td>\n",
       "      <td>...</td>\n",
       "      <td>NaN</td>\n",
       "      <td>NaN</td>\n",
       "      <td>NaN</td>\n",
       "      <td>NaN</td>\n",
       "      <td>NaN</td>\n",
       "      <td>NaN</td>\n",
       "      <td>NaN</td>\n",
       "      <td>NaN</td>\n",
       "      <td>NaN</td>\n",
       "      <td>86.48</td>\n",
       "    </tr>\n",
       "    <tr>\n",
       "      <th>3DO</th>\n",
       "      <td>NaN</td>\n",
       "      <td>NaN</td>\n",
       "      <td>NaN</td>\n",
       "      <td>NaN</td>\n",
       "      <td>NaN</td>\n",
       "      <td>NaN</td>\n",
       "      <td>NaN</td>\n",
       "      <td>NaN</td>\n",
       "      <td>NaN</td>\n",
       "      <td>NaN</td>\n",
       "      <td>...</td>\n",
       "      <td>NaN</td>\n",
       "      <td>NaN</td>\n",
       "      <td>NaN</td>\n",
       "      <td>NaN</td>\n",
       "      <td>NaN</td>\n",
       "      <td>NaN</td>\n",
       "      <td>NaN</td>\n",
       "      <td>NaN</td>\n",
       "      <td>NaN</td>\n",
       "      <td>0.10</td>\n",
       "    </tr>\n",
       "    <tr>\n",
       "      <th>DC</th>\n",
       "      <td>NaN</td>\n",
       "      <td>NaN</td>\n",
       "      <td>NaN</td>\n",
       "      <td>NaN</td>\n",
       "      <td>NaN</td>\n",
       "      <td>NaN</td>\n",
       "      <td>NaN</td>\n",
       "      <td>NaN</td>\n",
       "      <td>NaN</td>\n",
       "      <td>NaN</td>\n",
       "      <td>...</td>\n",
       "      <td>0.04</td>\n",
       "      <td>NaN</td>\n",
       "      <td>NaN</td>\n",
       "      <td>NaN</td>\n",
       "      <td>NaN</td>\n",
       "      <td>NaN</td>\n",
       "      <td>NaN</td>\n",
       "      <td>NaN</td>\n",
       "      <td>NaN</td>\n",
       "      <td>15.95</td>\n",
       "    </tr>\n",
       "    <tr>\n",
       "      <th>DS</th>\n",
       "      <td>NaN</td>\n",
       "      <td>NaN</td>\n",
       "      <td>NaN</td>\n",
       "      <td>NaN</td>\n",
       "      <td>NaN</td>\n",
       "      <td>0.02</td>\n",
       "      <td>NaN</td>\n",
       "      <td>NaN</td>\n",
       "      <td>NaN</td>\n",
       "      <td>NaN</td>\n",
       "      <td>...</td>\n",
       "      <td>102.44</td>\n",
       "      <td>84.54</td>\n",
       "      <td>61.56</td>\n",
       "      <td>13.48</td>\n",
       "      <td>10.28</td>\n",
       "      <td>0.97</td>\n",
       "      <td>NaN</td>\n",
       "      <td>NaN</td>\n",
       "      <td>NaN</td>\n",
       "      <td>655.36</td>\n",
       "    </tr>\n",
       "    <tr>\n",
       "      <th>GB</th>\n",
       "      <td>NaN</td>\n",
       "      <td>NaN</td>\n",
       "      <td>NaN</td>\n",
       "      <td>NaN</td>\n",
       "      <td>NaN</td>\n",
       "      <td>NaN</td>\n",
       "      <td>NaN</td>\n",
       "      <td>NaN</td>\n",
       "      <td>1.43</td>\n",
       "      <td>64.97</td>\n",
       "      <td>...</td>\n",
       "      <td>NaN</td>\n",
       "      <td>NaN</td>\n",
       "      <td>NaN</td>\n",
       "      <td>NaN</td>\n",
       "      <td>NaN</td>\n",
       "      <td>NaN</td>\n",
       "      <td>NaN</td>\n",
       "      <td>NaN</td>\n",
       "      <td>NaN</td>\n",
       "      <td>254.43</td>\n",
       "    </tr>\n",
       "    <tr>\n",
       "      <th>GBA</th>\n",
       "      <td>NaN</td>\n",
       "      <td>NaN</td>\n",
       "      <td>NaN</td>\n",
       "      <td>NaN</td>\n",
       "      <td>NaN</td>\n",
       "      <td>NaN</td>\n",
       "      <td>NaN</td>\n",
       "      <td>NaN</td>\n",
       "      <td>NaN</td>\n",
       "      <td>NaN</td>\n",
       "      <td>...</td>\n",
       "      <td>NaN</td>\n",
       "      <td>NaN</td>\n",
       "      <td>NaN</td>\n",
       "      <td>NaN</td>\n",
       "      <td>NaN</td>\n",
       "      <td>NaN</td>\n",
       "      <td>NaN</td>\n",
       "      <td>NaN</td>\n",
       "      <td>NaN</td>\n",
       "      <td>263.70</td>\n",
       "    </tr>\n",
       "    <tr>\n",
       "      <th>GC</th>\n",
       "      <td>NaN</td>\n",
       "      <td>NaN</td>\n",
       "      <td>NaN</td>\n",
       "      <td>NaN</td>\n",
       "      <td>NaN</td>\n",
       "      <td>NaN</td>\n",
       "      <td>NaN</td>\n",
       "      <td>NaN</td>\n",
       "      <td>NaN</td>\n",
       "      <td>NaN</td>\n",
       "      <td>...</td>\n",
       "      <td>NaN</td>\n",
       "      <td>NaN</td>\n",
       "      <td>NaN</td>\n",
       "      <td>NaN</td>\n",
       "      <td>NaN</td>\n",
       "      <td>NaN</td>\n",
       "      <td>NaN</td>\n",
       "      <td>NaN</td>\n",
       "      <td>NaN</td>\n",
       "      <td>185.68</td>\n",
       "    </tr>\n",
       "    <tr>\n",
       "      <th>GEN</th>\n",
       "      <td>NaN</td>\n",
       "      <td>NaN</td>\n",
       "      <td>NaN</td>\n",
       "      <td>NaN</td>\n",
       "      <td>NaN</td>\n",
       "      <td>NaN</td>\n",
       "      <td>NaN</td>\n",
       "      <td>NaN</td>\n",
       "      <td>NaN</td>\n",
       "      <td>NaN</td>\n",
       "      <td>...</td>\n",
       "      <td>NaN</td>\n",
       "      <td>NaN</td>\n",
       "      <td>NaN</td>\n",
       "      <td>NaN</td>\n",
       "      <td>NaN</td>\n",
       "      <td>NaN</td>\n",
       "      <td>NaN</td>\n",
       "      <td>NaN</td>\n",
       "      <td>NaN</td>\n",
       "      <td>30.77</td>\n",
       "    </tr>\n",
       "    <tr>\n",
       "      <th>GG</th>\n",
       "      <td>NaN</td>\n",
       "      <td>NaN</td>\n",
       "      <td>NaN</td>\n",
       "      <td>NaN</td>\n",
       "      <td>NaN</td>\n",
       "      <td>NaN</td>\n",
       "      <td>NaN</td>\n",
       "      <td>NaN</td>\n",
       "      <td>NaN</td>\n",
       "      <td>NaN</td>\n",
       "      <td>...</td>\n",
       "      <td>NaN</td>\n",
       "      <td>NaN</td>\n",
       "      <td>NaN</td>\n",
       "      <td>NaN</td>\n",
       "      <td>NaN</td>\n",
       "      <td>NaN</td>\n",
       "      <td>NaN</td>\n",
       "      <td>NaN</td>\n",
       "      <td>NaN</td>\n",
       "      <td>0.04</td>\n",
       "    </tr>\n",
       "    <tr>\n",
       "      <th>N64</th>\n",
       "      <td>NaN</td>\n",
       "      <td>NaN</td>\n",
       "      <td>NaN</td>\n",
       "      <td>NaN</td>\n",
       "      <td>NaN</td>\n",
       "      <td>NaN</td>\n",
       "      <td>NaN</td>\n",
       "      <td>NaN</td>\n",
       "      <td>NaN</td>\n",
       "      <td>NaN</td>\n",
       "      <td>...</td>\n",
       "      <td>NaN</td>\n",
       "      <td>NaN</td>\n",
       "      <td>NaN</td>\n",
       "      <td>NaN</td>\n",
       "      <td>NaN</td>\n",
       "      <td>NaN</td>\n",
       "      <td>NaN</td>\n",
       "      <td>NaN</td>\n",
       "      <td>NaN</td>\n",
       "      <td>218.01</td>\n",
       "    </tr>\n",
       "    <tr>\n",
       "      <th>NES</th>\n",
       "      <td>NaN</td>\n",
       "      <td>NaN</td>\n",
       "      <td>NaN</td>\n",
       "      <td>10.96</td>\n",
       "      <td>50.08</td>\n",
       "      <td>53.44</td>\n",
       "      <td>36.41</td>\n",
       "      <td>19.76</td>\n",
       "      <td>45.01</td>\n",
       "      <td>7.85</td>\n",
       "      <td>...</td>\n",
       "      <td>NaN</td>\n",
       "      <td>NaN</td>\n",
       "      <td>NaN</td>\n",
       "      <td>NaN</td>\n",
       "      <td>NaN</td>\n",
       "      <td>NaN</td>\n",
       "      <td>NaN</td>\n",
       "      <td>NaN</td>\n",
       "      <td>NaN</td>\n",
       "      <td>251.05</td>\n",
       "    </tr>\n",
       "    <tr>\n",
       "      <th>NG</th>\n",
       "      <td>NaN</td>\n",
       "      <td>NaN</td>\n",
       "      <td>NaN</td>\n",
       "      <td>NaN</td>\n",
       "      <td>NaN</td>\n",
       "      <td>NaN</td>\n",
       "      <td>NaN</td>\n",
       "      <td>NaN</td>\n",
       "      <td>NaN</td>\n",
       "      <td>NaN</td>\n",
       "      <td>...</td>\n",
       "      <td>NaN</td>\n",
       "      <td>NaN</td>\n",
       "      <td>NaN</td>\n",
       "      <td>NaN</td>\n",
       "      <td>NaN</td>\n",
       "      <td>NaN</td>\n",
       "      <td>NaN</td>\n",
       "      <td>NaN</td>\n",
       "      <td>NaN</td>\n",
       "      <td>1.44</td>\n",
       "    </tr>\n",
       "    <tr>\n",
       "      <th>PCFX</th>\n",
       "      <td>NaN</td>\n",
       "      <td>NaN</td>\n",
       "      <td>NaN</td>\n",
       "      <td>NaN</td>\n",
       "      <td>NaN</td>\n",
       "      <td>NaN</td>\n",
       "      <td>NaN</td>\n",
       "      <td>NaN</td>\n",
       "      <td>NaN</td>\n",
       "      <td>NaN</td>\n",
       "      <td>...</td>\n",
       "      <td>NaN</td>\n",
       "      <td>NaN</td>\n",
       "      <td>NaN</td>\n",
       "      <td>NaN</td>\n",
       "      <td>NaN</td>\n",
       "      <td>NaN</td>\n",
       "      <td>NaN</td>\n",
       "      <td>NaN</td>\n",
       "      <td>NaN</td>\n",
       "      <td>0.03</td>\n",
       "    </tr>\n",
       "    <tr>\n",
       "      <th>PS</th>\n",
       "      <td>NaN</td>\n",
       "      <td>NaN</td>\n",
       "      <td>NaN</td>\n",
       "      <td>NaN</td>\n",
       "      <td>NaN</td>\n",
       "      <td>NaN</td>\n",
       "      <td>NaN</td>\n",
       "      <td>NaN</td>\n",
       "      <td>NaN</td>\n",
       "      <td>NaN</td>\n",
       "      <td>...</td>\n",
       "      <td>NaN</td>\n",
       "      <td>NaN</td>\n",
       "      <td>NaN</td>\n",
       "      <td>NaN</td>\n",
       "      <td>NaN</td>\n",
       "      <td>NaN</td>\n",
       "      <td>NaN</td>\n",
       "      <td>NaN</td>\n",
       "      <td>NaN</td>\n",
       "      <td>714.26</td>\n",
       "    </tr>\n",
       "    <tr>\n",
       "      <th>PS2</th>\n",
       "      <td>NaN</td>\n",
       "      <td>NaN</td>\n",
       "      <td>NaN</td>\n",
       "      <td>NaN</td>\n",
       "      <td>NaN</td>\n",
       "      <td>NaN</td>\n",
       "      <td>NaN</td>\n",
       "      <td>NaN</td>\n",
       "      <td>NaN</td>\n",
       "      <td>NaN</td>\n",
       "      <td>...</td>\n",
       "      <td>43.74</td>\n",
       "      <td>18.93</td>\n",
       "      <td>3.72</td>\n",
       "      <td>0.40</td>\n",
       "      <td>NaN</td>\n",
       "      <td>NaN</td>\n",
       "      <td>NaN</td>\n",
       "      <td>NaN</td>\n",
       "      <td>NaN</td>\n",
       "      <td>1171.19</td>\n",
       "    </tr>\n",
       "    <tr>\n",
       "      <th>PSP</th>\n",
       "      <td>NaN</td>\n",
       "      <td>NaN</td>\n",
       "      <td>NaN</td>\n",
       "      <td>NaN</td>\n",
       "      <td>NaN</td>\n",
       "      <td>NaN</td>\n",
       "      <td>NaN</td>\n",
       "      <td>NaN</td>\n",
       "      <td>NaN</td>\n",
       "      <td>NaN</td>\n",
       "      <td>...</td>\n",
       "      <td>32.48</td>\n",
       "      <td>33.31</td>\n",
       "      <td>32.08</td>\n",
       "      <td>16.72</td>\n",
       "      <td>7.32</td>\n",
       "      <td>3.14</td>\n",
       "      <td>0.24</td>\n",
       "      <td>0.12</td>\n",
       "      <td>NaN</td>\n",
       "      <td>273.11</td>\n",
       "    </tr>\n",
       "    <tr>\n",
       "      <th>SAT</th>\n",
       "      <td>NaN</td>\n",
       "      <td>NaN</td>\n",
       "      <td>NaN</td>\n",
       "      <td>NaN</td>\n",
       "      <td>NaN</td>\n",
       "      <td>NaN</td>\n",
       "      <td>NaN</td>\n",
       "      <td>NaN</td>\n",
       "      <td>NaN</td>\n",
       "      <td>NaN</td>\n",
       "      <td>...</td>\n",
       "      <td>NaN</td>\n",
       "      <td>NaN</td>\n",
       "      <td>NaN</td>\n",
       "      <td>NaN</td>\n",
       "      <td>NaN</td>\n",
       "      <td>NaN</td>\n",
       "      <td>NaN</td>\n",
       "      <td>NaN</td>\n",
       "      <td>NaN</td>\n",
       "      <td>33.59</td>\n",
       "    </tr>\n",
       "    <tr>\n",
       "      <th>SCD</th>\n",
       "      <td>NaN</td>\n",
       "      <td>NaN</td>\n",
       "      <td>NaN</td>\n",
       "      <td>NaN</td>\n",
       "      <td>NaN</td>\n",
       "      <td>NaN</td>\n",
       "      <td>NaN</td>\n",
       "      <td>NaN</td>\n",
       "      <td>NaN</td>\n",
       "      <td>NaN</td>\n",
       "      <td>...</td>\n",
       "      <td>NaN</td>\n",
       "      <td>NaN</td>\n",
       "      <td>NaN</td>\n",
       "      <td>NaN</td>\n",
       "      <td>NaN</td>\n",
       "      <td>NaN</td>\n",
       "      <td>NaN</td>\n",
       "      <td>NaN</td>\n",
       "      <td>NaN</td>\n",
       "      <td>1.86</td>\n",
       "    </tr>\n",
       "    <tr>\n",
       "      <th>SNES</th>\n",
       "      <td>NaN</td>\n",
       "      <td>NaN</td>\n",
       "      <td>NaN</td>\n",
       "      <td>NaN</td>\n",
       "      <td>NaN</td>\n",
       "      <td>NaN</td>\n",
       "      <td>NaN</td>\n",
       "      <td>NaN</td>\n",
       "      <td>NaN</td>\n",
       "      <td>NaN</td>\n",
       "      <td>...</td>\n",
       "      <td>NaN</td>\n",
       "      <td>NaN</td>\n",
       "      <td>NaN</td>\n",
       "      <td>NaN</td>\n",
       "      <td>NaN</td>\n",
       "      <td>NaN</td>\n",
       "      <td>NaN</td>\n",
       "      <td>NaN</td>\n",
       "      <td>NaN</td>\n",
       "      <td>200.04</td>\n",
       "    </tr>\n",
       "    <tr>\n",
       "      <th>TG16</th>\n",
       "      <td>NaN</td>\n",
       "      <td>NaN</td>\n",
       "      <td>NaN</td>\n",
       "      <td>NaN</td>\n",
       "      <td>NaN</td>\n",
       "      <td>NaN</td>\n",
       "      <td>NaN</td>\n",
       "      <td>NaN</td>\n",
       "      <td>NaN</td>\n",
       "      <td>NaN</td>\n",
       "      <td>...</td>\n",
       "      <td>NaN</td>\n",
       "      <td>NaN</td>\n",
       "      <td>NaN</td>\n",
       "      <td>NaN</td>\n",
       "      <td>NaN</td>\n",
       "      <td>NaN</td>\n",
       "      <td>NaN</td>\n",
       "      <td>NaN</td>\n",
       "      <td>NaN</td>\n",
       "      <td>0.16</td>\n",
       "    </tr>\n",
       "    <tr>\n",
       "      <th>WS</th>\n",
       "      <td>NaN</td>\n",
       "      <td>NaN</td>\n",
       "      <td>NaN</td>\n",
       "      <td>NaN</td>\n",
       "      <td>NaN</td>\n",
       "      <td>NaN</td>\n",
       "      <td>NaN</td>\n",
       "      <td>NaN</td>\n",
       "      <td>NaN</td>\n",
       "      <td>NaN</td>\n",
       "      <td>...</td>\n",
       "      <td>NaN</td>\n",
       "      <td>NaN</td>\n",
       "      <td>NaN</td>\n",
       "      <td>NaN</td>\n",
       "      <td>NaN</td>\n",
       "      <td>NaN</td>\n",
       "      <td>NaN</td>\n",
       "      <td>NaN</td>\n",
       "      <td>NaN</td>\n",
       "      <td>1.42</td>\n",
       "    </tr>\n",
       "    <tr>\n",
       "      <th>Wii</th>\n",
       "      <td>NaN</td>\n",
       "      <td>NaN</td>\n",
       "      <td>NaN</td>\n",
       "      <td>NaN</td>\n",
       "      <td>NaN</td>\n",
       "      <td>NaN</td>\n",
       "      <td>NaN</td>\n",
       "      <td>NaN</td>\n",
       "      <td>NaN</td>\n",
       "      <td>NaN</td>\n",
       "      <td>...</td>\n",
       "      <td>158.56</td>\n",
       "      <td>179.78</td>\n",
       "      <td>90.86</td>\n",
       "      <td>45.61</td>\n",
       "      <td>21.08</td>\n",
       "      <td>8.11</td>\n",
       "      <td>2.61</td>\n",
       "      <td>0.15</td>\n",
       "      <td>NaN</td>\n",
       "      <td>791.91</td>\n",
       "    </tr>\n",
       "    <tr>\n",
       "      <th>XB</th>\n",
       "      <td>NaN</td>\n",
       "      <td>NaN</td>\n",
       "      <td>NaN</td>\n",
       "      <td>NaN</td>\n",
       "      <td>NaN</td>\n",
       "      <td>NaN</td>\n",
       "      <td>NaN</td>\n",
       "      <td>NaN</td>\n",
       "      <td>NaN</td>\n",
       "      <td>NaN</td>\n",
       "      <td>...</td>\n",
       "      <td>0.18</td>\n",
       "      <td>NaN</td>\n",
       "      <td>NaN</td>\n",
       "      <td>NaN</td>\n",
       "      <td>NaN</td>\n",
       "      <td>NaN</td>\n",
       "      <td>NaN</td>\n",
       "      <td>NaN</td>\n",
       "      <td>NaN</td>\n",
       "      <td>236.38</td>\n",
       "    </tr>\n",
       "  </tbody>\n",
       "</table>\n",
       "<p>31 rows × 38 columns</p>\n",
       "</div>"
      ],
      "text/plain": [
       "year_of_release   1980   1981   1982   1983   1984   1985   1986   1987  \\\n",
       "platform                                                                  \n",
       "PS4                NaN    NaN    NaN    NaN    NaN    NaN    NaN    NaN   \n",
       "XOne               NaN    NaN    NaN    NaN    NaN    NaN    NaN    NaN   \n",
       "3DS                NaN    NaN    NaN    NaN    NaN    NaN    NaN    NaN   \n",
       "PC                 NaN    NaN    NaN    NaN    NaN   0.04    NaN    NaN   \n",
       "WiiU               NaN    NaN    NaN    NaN    NaN    NaN    NaN    NaN   \n",
       "PSV                NaN    NaN    NaN    NaN    NaN    NaN    NaN    NaN   \n",
       "PS3                NaN    NaN    NaN    NaN    NaN    NaN    NaN    NaN   \n",
       "X360               NaN    NaN    NaN    NaN    NaN    NaN    NaN    NaN   \n",
       "2600             11.38  35.68  28.88   5.84   0.27   0.45   0.67   1.94   \n",
       "3DO                NaN    NaN    NaN    NaN    NaN    NaN    NaN    NaN   \n",
       "DC                 NaN    NaN    NaN    NaN    NaN    NaN    NaN    NaN   \n",
       "DS                 NaN    NaN    NaN    NaN    NaN   0.02    NaN    NaN   \n",
       "GB                 NaN    NaN    NaN    NaN    NaN    NaN    NaN    NaN   \n",
       "GBA                NaN    NaN    NaN    NaN    NaN    NaN    NaN    NaN   \n",
       "GC                 NaN    NaN    NaN    NaN    NaN    NaN    NaN    NaN   \n",
       "GEN                NaN    NaN    NaN    NaN    NaN    NaN    NaN    NaN   \n",
       "GG                 NaN    NaN    NaN    NaN    NaN    NaN    NaN    NaN   \n",
       "N64                NaN    NaN    NaN    NaN    NaN    NaN    NaN    NaN   \n",
       "NES                NaN    NaN    NaN  10.96  50.08  53.44  36.41  19.76   \n",
       "NG                 NaN    NaN    NaN    NaN    NaN    NaN    NaN    NaN   \n",
       "PCFX               NaN    NaN    NaN    NaN    NaN    NaN    NaN    NaN   \n",
       "PS                 NaN    NaN    NaN    NaN    NaN    NaN    NaN    NaN   \n",
       "PS2                NaN    NaN    NaN    NaN    NaN    NaN    NaN    NaN   \n",
       "PSP                NaN    NaN    NaN    NaN    NaN    NaN    NaN    NaN   \n",
       "SAT                NaN    NaN    NaN    NaN    NaN    NaN    NaN    NaN   \n",
       "SCD                NaN    NaN    NaN    NaN    NaN    NaN    NaN    NaN   \n",
       "SNES               NaN    NaN    NaN    NaN    NaN    NaN    NaN    NaN   \n",
       "TG16               NaN    NaN    NaN    NaN    NaN    NaN    NaN    NaN   \n",
       "WS                 NaN    NaN    NaN    NaN    NaN    NaN    NaN    NaN   \n",
       "Wii                NaN    NaN    NaN    NaN    NaN    NaN    NaN    NaN   \n",
       "XB                 NaN    NaN    NaN    NaN    NaN    NaN    NaN    NaN   \n",
       "\n",
       "year_of_release   1988   1989  ...    2008    2009    2010    2011    2012  \\\n",
       "platform                       ...                                           \n",
       "PS4                NaN    NaN  ...     NaN     NaN     NaN     NaN     NaN   \n",
       "XOne               NaN    NaN  ...     NaN     NaN     NaN     NaN     NaN   \n",
       "3DS                NaN    NaN  ...     NaN     NaN     NaN   60.53   51.01   \n",
       "PC                0.03    NaN  ...   12.26   16.33   24.13   34.55   23.22   \n",
       "WiiU               NaN    NaN  ...     NaN     NaN     NaN     NaN   17.56   \n",
       "PSV                NaN    NaN  ...     NaN     NaN     NaN    4.63   16.19   \n",
       "PS3                NaN    NaN  ...  117.01  128.92  140.18  154.14  107.29   \n",
       "X360               NaN    NaN  ...  134.07  118.39  166.93  140.18   99.57   \n",
       "2600              0.74   0.63  ...     NaN     NaN     NaN     NaN     NaN   \n",
       "3DO                NaN    NaN  ...     NaN     NaN     NaN     NaN     NaN   \n",
       "DC                 NaN    NaN  ...    0.04     NaN     NaN     NaN     NaN   \n",
       "DS                 NaN    NaN  ...  102.44   84.54   61.56   13.48   10.28   \n",
       "GB                1.43  64.97  ...     NaN     NaN     NaN     NaN     NaN   \n",
       "GBA                NaN    NaN  ...     NaN     NaN     NaN     NaN     NaN   \n",
       "GC                 NaN    NaN  ...     NaN     NaN     NaN     NaN     NaN   \n",
       "GEN                NaN    NaN  ...     NaN     NaN     NaN     NaN     NaN   \n",
       "GG                 NaN    NaN  ...     NaN     NaN     NaN     NaN     NaN   \n",
       "N64                NaN    NaN  ...     NaN     NaN     NaN     NaN     NaN   \n",
       "NES              45.01   7.85  ...     NaN     NaN     NaN     NaN     NaN   \n",
       "NG                 NaN    NaN  ...     NaN     NaN     NaN     NaN     NaN   \n",
       "PCFX               NaN    NaN  ...     NaN     NaN     NaN     NaN     NaN   \n",
       "PS                 NaN    NaN  ...     NaN     NaN     NaN     NaN     NaN   \n",
       "PS2                NaN    NaN  ...   43.74   18.93    3.72    0.40     NaN   \n",
       "PSP                NaN    NaN  ...   32.48   33.31   32.08   16.72    7.32   \n",
       "SAT                NaN    NaN  ...     NaN     NaN     NaN     NaN     NaN   \n",
       "SCD                NaN    NaN  ...     NaN     NaN     NaN     NaN     NaN   \n",
       "SNES               NaN    NaN  ...     NaN     NaN     NaN     NaN     NaN   \n",
       "TG16               NaN    NaN  ...     NaN     NaN     NaN     NaN     NaN   \n",
       "WS                 NaN    NaN  ...     NaN     NaN     NaN     NaN     NaN   \n",
       "Wii                NaN    NaN  ...  158.56  179.78   90.86   45.61   21.08   \n",
       "XB                 NaN    NaN  ...    0.18     NaN     NaN     NaN     NaN   \n",
       "\n",
       "year_of_release    2013    2014    2015   2016    total  \n",
       "platform                                                 \n",
       "PS4               25.99  100.00  118.86  69.15   314.00  \n",
       "XOne              18.96   54.07   59.92  25.82   158.77  \n",
       "3DS               56.32   43.07   27.21  15.10   253.24  \n",
       "PC                12.38   13.25    8.49   5.22   252.25  \n",
       "WiiU              21.65   22.01   16.27   4.30    81.79  \n",
       "PSV               10.59   11.90    5.95   4.24    53.50  \n",
       "PS3              113.24   47.40   16.30   3.16   921.09  \n",
       "X360              88.57   33.77   11.87   1.22   948.74  \n",
       "2600                NaN     NaN     NaN    NaN    86.48  \n",
       "3DO                 NaN     NaN     NaN    NaN     0.10  \n",
       "DC                  NaN     NaN     NaN    NaN    15.95  \n",
       "DS                 0.97     NaN     NaN    NaN   655.36  \n",
       "GB                  NaN     NaN     NaN    NaN   254.43  \n",
       "GBA                 NaN     NaN     NaN    NaN   263.70  \n",
       "GC                  NaN     NaN     NaN    NaN   185.68  \n",
       "GEN                 NaN     NaN     NaN    NaN    30.77  \n",
       "GG                  NaN     NaN     NaN    NaN     0.04  \n",
       "N64                 NaN     NaN     NaN    NaN   218.01  \n",
       "NES                 NaN     NaN     NaN    NaN   251.05  \n",
       "NG                  NaN     NaN     NaN    NaN     1.44  \n",
       "PCFX                NaN     NaN     NaN    NaN     0.03  \n",
       "PS                  NaN     NaN     NaN    NaN   714.26  \n",
       "PS2                 NaN     NaN     NaN    NaN  1171.19  \n",
       "PSP                3.14    0.24    0.12    NaN   273.11  \n",
       "SAT                 NaN     NaN     NaN    NaN    33.59  \n",
       "SCD                 NaN     NaN     NaN    NaN     1.86  \n",
       "SNES                NaN     NaN     NaN    NaN   200.04  \n",
       "TG16                NaN     NaN     NaN    NaN     0.16  \n",
       "WS                  NaN     NaN     NaN    NaN     1.42  \n",
       "Wii                8.11    2.61    0.15    NaN   791.91  \n",
       "XB                  NaN     NaN     NaN    NaN   236.38  \n",
       "\n",
       "[31 rows x 38 columns]"
      ]
     },
     "metadata": {},
     "output_type": "display_data"
    }
   ],
   "source": [
    "display(sales_by_platform_2016)"
   ]
  },
  {
   "cell_type": "markdown",
   "metadata": {},
   "source": [
    "From the table above, it's evident that the sales in 2016 were significant for the first three platforms in the list: PS4, XOne, and 3DS.\n",
    "Let's take a look at which stage of their lifecycle they are at on the graph."
   ]
  },
  {
   "cell_type": "markdown",
   "metadata": {},
   "source": [
    "Let's sort the top three platforms."
   ]
  },
  {
   "cell_type": "code",
   "execution_count": 34,
   "metadata": {},
   "outputs": [],
   "source": [
    "sales_by_platform_2016_leaders=sales_by_platform_2016.head(4)"
   ]
  },
  {
   "cell_type": "code",
   "execution_count": 35,
   "metadata": {},
   "outputs": [
    {
     "data": {
      "text/html": [
       "<div>\n",
       "<style scoped>\n",
       "    .dataframe tbody tr th:only-of-type {\n",
       "        vertical-align: middle;\n",
       "    }\n",
       "\n",
       "    .dataframe tbody tr th {\n",
       "        vertical-align: top;\n",
       "    }\n",
       "\n",
       "    .dataframe thead th {\n",
       "        text-align: right;\n",
       "    }\n",
       "</style>\n",
       "<table border=\"1\" class=\"dataframe\">\n",
       "  <thead>\n",
       "    <tr style=\"text-align: right;\">\n",
       "      <th>year_of_release</th>\n",
       "      <th>1980</th>\n",
       "      <th>1981</th>\n",
       "      <th>1982</th>\n",
       "      <th>1983</th>\n",
       "      <th>1984</th>\n",
       "      <th>1985</th>\n",
       "      <th>1986</th>\n",
       "      <th>1987</th>\n",
       "      <th>1988</th>\n",
       "      <th>1989</th>\n",
       "      <th>...</th>\n",
       "      <th>2008</th>\n",
       "      <th>2009</th>\n",
       "      <th>2010</th>\n",
       "      <th>2011</th>\n",
       "      <th>2012</th>\n",
       "      <th>2013</th>\n",
       "      <th>2014</th>\n",
       "      <th>2015</th>\n",
       "      <th>2016</th>\n",
       "      <th>total</th>\n",
       "    </tr>\n",
       "    <tr>\n",
       "      <th>platform</th>\n",
       "      <th></th>\n",
       "      <th></th>\n",
       "      <th></th>\n",
       "      <th></th>\n",
       "      <th></th>\n",
       "      <th></th>\n",
       "      <th></th>\n",
       "      <th></th>\n",
       "      <th></th>\n",
       "      <th></th>\n",
       "      <th></th>\n",
       "      <th></th>\n",
       "      <th></th>\n",
       "      <th></th>\n",
       "      <th></th>\n",
       "      <th></th>\n",
       "      <th></th>\n",
       "      <th></th>\n",
       "      <th></th>\n",
       "      <th></th>\n",
       "      <th></th>\n",
       "    </tr>\n",
       "  </thead>\n",
       "  <tbody>\n",
       "    <tr>\n",
       "      <th>PS4</th>\n",
       "      <td>NaN</td>\n",
       "      <td>NaN</td>\n",
       "      <td>NaN</td>\n",
       "      <td>NaN</td>\n",
       "      <td>NaN</td>\n",
       "      <td>NaN</td>\n",
       "      <td>NaN</td>\n",
       "      <td>NaN</td>\n",
       "      <td>NaN</td>\n",
       "      <td>NaN</td>\n",
       "      <td>...</td>\n",
       "      <td>NaN</td>\n",
       "      <td>NaN</td>\n",
       "      <td>NaN</td>\n",
       "      <td>NaN</td>\n",
       "      <td>NaN</td>\n",
       "      <td>25.99</td>\n",
       "      <td>100.00</td>\n",
       "      <td>118.86</td>\n",
       "      <td>69.15</td>\n",
       "      <td>314.00</td>\n",
       "    </tr>\n",
       "    <tr>\n",
       "      <th>XOne</th>\n",
       "      <td>NaN</td>\n",
       "      <td>NaN</td>\n",
       "      <td>NaN</td>\n",
       "      <td>NaN</td>\n",
       "      <td>NaN</td>\n",
       "      <td>NaN</td>\n",
       "      <td>NaN</td>\n",
       "      <td>NaN</td>\n",
       "      <td>NaN</td>\n",
       "      <td>NaN</td>\n",
       "      <td>...</td>\n",
       "      <td>NaN</td>\n",
       "      <td>NaN</td>\n",
       "      <td>NaN</td>\n",
       "      <td>NaN</td>\n",
       "      <td>NaN</td>\n",
       "      <td>18.96</td>\n",
       "      <td>54.07</td>\n",
       "      <td>59.92</td>\n",
       "      <td>25.82</td>\n",
       "      <td>158.77</td>\n",
       "    </tr>\n",
       "    <tr>\n",
       "      <th>3DS</th>\n",
       "      <td>NaN</td>\n",
       "      <td>NaN</td>\n",
       "      <td>NaN</td>\n",
       "      <td>NaN</td>\n",
       "      <td>NaN</td>\n",
       "      <td>NaN</td>\n",
       "      <td>NaN</td>\n",
       "      <td>NaN</td>\n",
       "      <td>NaN</td>\n",
       "      <td>NaN</td>\n",
       "      <td>...</td>\n",
       "      <td>NaN</td>\n",
       "      <td>NaN</td>\n",
       "      <td>NaN</td>\n",
       "      <td>60.53</td>\n",
       "      <td>51.01</td>\n",
       "      <td>56.32</td>\n",
       "      <td>43.07</td>\n",
       "      <td>27.21</td>\n",
       "      <td>15.10</td>\n",
       "      <td>253.24</td>\n",
       "    </tr>\n",
       "    <tr>\n",
       "      <th>PC</th>\n",
       "      <td>NaN</td>\n",
       "      <td>NaN</td>\n",
       "      <td>NaN</td>\n",
       "      <td>NaN</td>\n",
       "      <td>NaN</td>\n",
       "      <td>0.04</td>\n",
       "      <td>NaN</td>\n",
       "      <td>NaN</td>\n",
       "      <td>0.03</td>\n",
       "      <td>NaN</td>\n",
       "      <td>...</td>\n",
       "      <td>12.26</td>\n",
       "      <td>16.33</td>\n",
       "      <td>24.13</td>\n",
       "      <td>34.55</td>\n",
       "      <td>23.22</td>\n",
       "      <td>12.38</td>\n",
       "      <td>13.25</td>\n",
       "      <td>8.49</td>\n",
       "      <td>5.22</td>\n",
       "      <td>252.25</td>\n",
       "    </tr>\n",
       "  </tbody>\n",
       "</table>\n",
       "<p>4 rows × 38 columns</p>\n",
       "</div>"
      ],
      "text/plain": [
       "year_of_release  1980  1981  1982  1983  1984  1985  1986  1987  1988  1989  \\\n",
       "platform                                                                      \n",
       "PS4               NaN   NaN   NaN   NaN   NaN   NaN   NaN   NaN   NaN   NaN   \n",
       "XOne              NaN   NaN   NaN   NaN   NaN   NaN   NaN   NaN   NaN   NaN   \n",
       "3DS               NaN   NaN   NaN   NaN   NaN   NaN   NaN   NaN   NaN   NaN   \n",
       "PC                NaN   NaN   NaN   NaN   NaN  0.04   NaN   NaN  0.03   NaN   \n",
       "\n",
       "year_of_release  ...   2008   2009   2010   2011   2012   2013    2014  \\\n",
       "platform         ...                                                     \n",
       "PS4              ...    NaN    NaN    NaN    NaN    NaN  25.99  100.00   \n",
       "XOne             ...    NaN    NaN    NaN    NaN    NaN  18.96   54.07   \n",
       "3DS              ...    NaN    NaN    NaN  60.53  51.01  56.32   43.07   \n",
       "PC               ...  12.26  16.33  24.13  34.55  23.22  12.38   13.25   \n",
       "\n",
       "year_of_release    2015   2016   total  \n",
       "platform                                \n",
       "PS4              118.86  69.15  314.00  \n",
       "XOne              59.92  25.82  158.77  \n",
       "3DS               27.21  15.10  253.24  \n",
       "PC                 8.49   5.22  252.25  \n",
       "\n",
       "[4 rows x 38 columns]"
      ]
     },
     "metadata": {},
     "output_type": "display_data"
    }
   ],
   "source": [
    "display(sales_by_platform_2016_leaders)"
   ]
  },
  {
   "cell_type": "markdown",
   "metadata": {},
   "source": [
    "Let's transpose the table to later create a graph based on years.\n",
    "\n",
    "\n",
    "\n",
    "\n"
   ]
  },
  {
   "cell_type": "code",
   "execution_count": 36,
   "metadata": {},
   "outputs": [],
   "source": [
    "sales_by_platform_2016_leaders=sales_by_platform_2016_leaders.T"
   ]
  },
  {
   "cell_type": "markdown",
   "metadata": {},
   "source": [
    "Let's filter the last 7 years."
   ]
  },
  {
   "cell_type": "code",
   "execution_count": 37,
   "metadata": {},
   "outputs": [],
   "source": [
    "sales_by_platform_2016_leaders=sales_by_platform_2016_leaders.tail(7)"
   ]
  },
  {
   "cell_type": "code",
   "execution_count": 38,
   "metadata": {},
   "outputs": [
    {
     "name": "stdout",
     "output_type": "stream",
     "text": [
      "platform            PS4    XOne     3DS      PC\n",
      "year_of_release                                \n",
      "2011                NaN     NaN   60.53   34.55\n",
      "2012                NaN     NaN   51.01   23.22\n",
      "2013              25.99   18.96   56.32   12.38\n",
      "2014             100.00   54.07   43.07   13.25\n",
      "2015             118.86   59.92   27.21    8.49\n",
      "2016              69.15   25.82   15.10    5.22\n",
      "total            314.00  158.77  253.24  252.25\n"
     ]
    }
   ],
   "source": [
    "print(sales_by_platform_2016_leaders)"
   ]
  },
  {
   "cell_type": "markdown",
   "metadata": {},
   "source": [
    "Let's remove the \"total\" row to avoid distorting the graph."
   ]
  },
  {
   "cell_type": "code",
   "execution_count": 39,
   "metadata": {},
   "outputs": [],
   "source": [
    "sales_by_platform_2016_leaders=sales_by_platform_2016_leaders.drop(labels =['total'],  axis = 0)"
   ]
  },
  {
   "cell_type": "code",
   "execution_count": 40,
   "metadata": {},
   "outputs": [
    {
     "data": {
      "text/html": [
       "<div>\n",
       "<style scoped>\n",
       "    .dataframe tbody tr th:only-of-type {\n",
       "        vertical-align: middle;\n",
       "    }\n",
       "\n",
       "    .dataframe tbody tr th {\n",
       "        vertical-align: top;\n",
       "    }\n",
       "\n",
       "    .dataframe thead th {\n",
       "        text-align: right;\n",
       "    }\n",
       "</style>\n",
       "<table border=\"1\" class=\"dataframe\">\n",
       "  <thead>\n",
       "    <tr style=\"text-align: right;\">\n",
       "      <th>platform</th>\n",
       "      <th>PS4</th>\n",
       "      <th>XOne</th>\n",
       "      <th>3DS</th>\n",
       "      <th>PC</th>\n",
       "    </tr>\n",
       "    <tr>\n",
       "      <th>year_of_release</th>\n",
       "      <th></th>\n",
       "      <th></th>\n",
       "      <th></th>\n",
       "      <th></th>\n",
       "    </tr>\n",
       "  </thead>\n",
       "  <tbody>\n",
       "    <tr>\n",
       "      <th>2011</th>\n",
       "      <td>NaN</td>\n",
       "      <td>NaN</td>\n",
       "      <td>60.53</td>\n",
       "      <td>34.55</td>\n",
       "    </tr>\n",
       "    <tr>\n",
       "      <th>2012</th>\n",
       "      <td>NaN</td>\n",
       "      <td>NaN</td>\n",
       "      <td>51.01</td>\n",
       "      <td>23.22</td>\n",
       "    </tr>\n",
       "    <tr>\n",
       "      <th>2013</th>\n",
       "      <td>25.99</td>\n",
       "      <td>18.96</td>\n",
       "      <td>56.32</td>\n",
       "      <td>12.38</td>\n",
       "    </tr>\n",
       "    <tr>\n",
       "      <th>2014</th>\n",
       "      <td>100.00</td>\n",
       "      <td>54.07</td>\n",
       "      <td>43.07</td>\n",
       "      <td>13.25</td>\n",
       "    </tr>\n",
       "    <tr>\n",
       "      <th>2015</th>\n",
       "      <td>118.86</td>\n",
       "      <td>59.92</td>\n",
       "      <td>27.21</td>\n",
       "      <td>8.49</td>\n",
       "    </tr>\n",
       "    <tr>\n",
       "      <th>2016</th>\n",
       "      <td>69.15</td>\n",
       "      <td>25.82</td>\n",
       "      <td>15.10</td>\n",
       "      <td>5.22</td>\n",
       "    </tr>\n",
       "  </tbody>\n",
       "</table>\n",
       "</div>"
      ],
      "text/plain": [
       "platform            PS4   XOne    3DS     PC\n",
       "year_of_release                             \n",
       "2011                NaN    NaN  60.53  34.55\n",
       "2012                NaN    NaN  51.01  23.22\n",
       "2013              25.99  18.96  56.32  12.38\n",
       "2014             100.00  54.07  43.07  13.25\n",
       "2015             118.86  59.92  27.21   8.49\n",
       "2016              69.15  25.82  15.10   5.22"
      ]
     },
     "metadata": {},
     "output_type": "display_data"
    }
   ],
   "source": [
    "display(sales_by_platform_2016_leaders)"
   ]
  },
  {
   "cell_type": "code",
   "execution_count": 41,
   "metadata": {},
   "outputs": [
    {
     "data": {
      "text/plain": [
       "<AxesSubplot:xlabel='year_of_release'>"
      ]
     },
     "execution_count": 41,
     "metadata": {},
     "output_type": "execute_result"
    },
    {
     "data": {
      "image/png": "[encoded data removed]",
      "text/plain": [
       "<Figure size 432x288 with 1 Axes>"
      ]
     },
     "metadata": {
      "needs_background": "light"
     },
     "output_type": "display_data"
    }
   ],
   "source": [
    "sales_by_platform_2016_leaders.plot()"
   ]
  },
  {
   "cell_type": "markdown",
   "metadata": {},
   "source": [
    "From the graph above, we can observe that all three companies are in the declining phase of their lifecycle. The peak for 3DS was reached in 2011, while for XOne and PS4, it was in 2015, followed by a decline. The growth phase is not of interest to us as it has passed and might distort our forecast. Let's consider the period from 2015 and 2016 as our relevant timeframe, keeping in mind that data for 2016 is incomplete in many cases."
   ]
  },
  {
   "cell_type": "markdown",
   "metadata": {},
   "source": [
    "Let's remove all previous years from the table, keeping only 2016 and 2015, and continue working with this reduced dataset."
   ]
  },
  {
   "cell_type": "code",
   "execution_count": 42,
   "metadata": {},
   "outputs": [],
   "source": [
    "sales_2016_2015=data.query('year_of_release==[2016,2015]')"
   ]
  },
  {
   "cell_type": "markdown",
   "metadata": {},
   "source": [
    "### Let's select a few potentially profitable platforms."
   ]
  },
  {
   "cell_type": "markdown",
   "metadata": {},
   "source": [
    "Let's group the data by platform."
   ]
  },
  {
   "cell_type": "code",
   "execution_count": 43,
   "metadata": {},
   "outputs": [],
   "source": [
    "sales_2016_2015_platforms=sales_2016_2015.pivot_table(index='platform', values='total_sales', aggfunc='sum').reset_index()"
   ]
  },
  {
   "cell_type": "code",
   "execution_count": 44,
   "metadata": {},
   "outputs": [
    {
     "data": {
      "text/html": [
       "<div>\n",
       "<style scoped>\n",
       "    .dataframe tbody tr th:only-of-type {\n",
       "        vertical-align: middle;\n",
       "    }\n",
       "\n",
       "    .dataframe tbody tr th {\n",
       "        vertical-align: top;\n",
       "    }\n",
       "\n",
       "    .dataframe thead th {\n",
       "        text-align: right;\n",
       "    }\n",
       "</style>\n",
       "<table border=\"1\" class=\"dataframe\">\n",
       "  <thead>\n",
       "    <tr style=\"text-align: right;\">\n",
       "      <th></th>\n",
       "      <th>platform</th>\n",
       "      <th>total_sales</th>\n",
       "    </tr>\n",
       "  </thead>\n",
       "  <tbody>\n",
       "    <tr>\n",
       "      <th>0</th>\n",
       "      <td>3DS</td>\n",
       "      <td>42.31</td>\n",
       "    </tr>\n",
       "    <tr>\n",
       "      <th>1</th>\n",
       "      <td>PC</td>\n",
       "      <td>13.71</td>\n",
       "    </tr>\n",
       "    <tr>\n",
       "      <th>2</th>\n",
       "      <td>PS3</td>\n",
       "      <td>19.46</td>\n",
       "    </tr>\n",
       "    <tr>\n",
       "      <th>3</th>\n",
       "      <td>PS4</td>\n",
       "      <td>188.01</td>\n",
       "    </tr>\n",
       "    <tr>\n",
       "      <th>4</th>\n",
       "      <td>PSP</td>\n",
       "      <td>0.12</td>\n",
       "    </tr>\n",
       "    <tr>\n",
       "      <th>5</th>\n",
       "      <td>PSV</td>\n",
       "      <td>10.19</td>\n",
       "    </tr>\n",
       "    <tr>\n",
       "      <th>6</th>\n",
       "      <td>Wii</td>\n",
       "      <td>0.15</td>\n",
       "    </tr>\n",
       "    <tr>\n",
       "      <th>7</th>\n",
       "      <td>WiiU</td>\n",
       "      <td>20.57</td>\n",
       "    </tr>\n",
       "    <tr>\n",
       "      <th>8</th>\n",
       "      <td>X360</td>\n",
       "      <td>13.09</td>\n",
       "    </tr>\n",
       "    <tr>\n",
       "      <th>9</th>\n",
       "      <td>XOne</td>\n",
       "      <td>85.74</td>\n",
       "    </tr>\n",
       "  </tbody>\n",
       "</table>\n",
       "</div>"
      ],
      "text/plain": [
       "  platform  total_sales\n",
       "0      3DS        42.31\n",
       "1       PC        13.71\n",
       "2      PS3        19.46\n",
       "3      PS4       188.01\n",
       "4      PSP         0.12\n",
       "5      PSV        10.19\n",
       "6      Wii         0.15\n",
       "7     WiiU        20.57\n",
       "8     X360        13.09\n",
       "9     XOne        85.74"
      ]
     },
     "metadata": {},
     "output_type": "display_data"
    }
   ],
   "source": [
    "display(sales_2016_2015_platforms)"
   ]
  },
  {
   "cell_type": "markdown",
   "metadata": {},
   "source": [
    "As we found out from the analysis above, in 2016 and 2015, there are three sales leaders: PS4, XOne, and 3DS, and all of them are in a declining phase."
   ]
  },
  {
   "cell_type": "markdown",
   "metadata": {},
   "source": [
    "### Box plot for global sales"
   ]
  },
  {
   "cell_type": "markdown",
   "metadata": {},
   "source": [
    "Let's create a box plot for the top platforms from the relevant period"
   ]
  },
  {
   "cell_type": "code",
   "execution_count": 45,
   "metadata": {},
   "outputs": [],
   "source": [
    "top_3_sales_2016_2015=sales_2016_2015.query('platform==[\"XOne\",\"PS4\",\"3DS\"]')"
   ]
  },
  {
   "cell_type": "code",
   "execution_count": 46,
   "metadata": {},
   "outputs": [
    {
     "data": {
      "text/plain": [
       "count    571.000000\n",
       "mean       0.553520\n",
       "std        1.239996\n",
       "min        0.010000\n",
       "25%        0.040000\n",
       "50%        0.130000\n",
       "75%        0.445000\n",
       "max       14.630000\n",
       "Name: total_sales, dtype: float64"
      ]
     },
     "execution_count": 46,
     "metadata": {},
     "output_type": "execute_result"
    }
   ],
   "source": [
    "top_3_sales_2016_2015['total_sales'].describe()"
   ]
  },
  {
   "cell_type": "code",
   "execution_count": 47,
   "metadata": {},
   "outputs": [
    {
     "data": {
      "text/plain": [
       "<AxesSubplot:xlabel='platform', ylabel='total_sales'>"
      ]
     },
     "execution_count": 47,
     "metadata": {},
     "output_type": "execute_result"
    },
    {
     "data": {
      "image/png": "[encoded data removed]",
      "text/plain": [
       "<Figure size 432x288 with 1 Axes>"
      ]
     },
     "metadata": {
      "needs_background": "light"
     },
     "output_type": "display_data"
    }
   ],
   "source": [
    "\n",
    "\n",
    "sns.boxplot( x=top_3_sales_2016_2015['platform'], y=top_3_sales_2016_2015['total_sales'])\n"
   ]
  },
  {
   "cell_type": "markdown",
   "metadata": {},
   "source": [
    "Let's calibrate the Y-axis of the graph to see the main statistics of the box plot."
   ]
  },
  {
   "cell_type": "code",
   "execution_count": 48,
   "metadata": {},
   "outputs": [
    {
     "data": {
      "image/png": "[encoded data removed]",
      "text/plain": [
       "<Figure size 432x288 with 1 Axes>"
      ]
     },
     "metadata": {
      "needs_background": "light"
     },
     "output_type": "display_data"
    }
   ],
   "source": [
    "\n",
    "\n",
    "sns.boxplot( x=top_3_sales_2016_2015['platform'], y=top_3_sales_2016_2015['total_sales'])\n",
    "plt.title(f'Продажи по платформам из топ-3 за период с 2015 по 2016 гг')\n",
    "plt.ylim(0,4)\n",
    "plt.show()\n"
   ]
  },
  {
   "cell_type": "markdown",
   "metadata": {},
   "source": [
    "We constructed a box plot to assess the typical spread from the median across the top platforms. From the diagram, we observe that the median is approximately at 0.1 million copies sold, the first quartile is at 0.05 million copies sold, and the second quartile for PS4 and XOne is at 0.5 million copies sold, while for 3DS it's at 0.25 million copies sold.\n",
    "\n",
    "The left whisker is longer and ends at the minimum, which is 0 million copies sold. The right whisker extends to -1, 1.3, and 0.7 million copies sold for PS4, XOne, and 3DS respectively. Each platform has outliers, with PS4's outlier much further away than the other platforms, around 13 million for PS4 compared to 7-8 million for the other two.\n",
    "\n",
    "The interquartile range is from 0 to 0.5 million for PS4, 0 to 0.5 million for XOne, and 0 to 0.2 million for 3DS. This range captures 50% of the values, and within the range of the whiskers are the normal values. Beyond the whiskers lie the outliers.\n",
    "\n",
    "In conclusion, we can deduce that the market leader, PS4, significantly outperforms its competitors.\n",
    "\n",
    "\n",
    "\n",
    "\n",
    "\n"
   ]
  },
  {
   "cell_type": "markdown",
   "metadata": {},
   "source": [
    "### Correlation between sales and customer reviews."
   ]
  },
  {
   "cell_type": "markdown",
   "metadata": {},
   "source": [
    "Analyze the relationship between sales and customer and critic reviews using the example of the leading platform, PS4."
   ]
  },
  {
   "cell_type": "code",
   "execution_count": 49,
   "metadata": {},
   "outputs": [],
   "source": [
    "ps4_sales=sales_2016_2015.query('platform==\"PS4\"')"
   ]
  },
  {
   "cell_type": "code",
   "execution_count": 50,
   "metadata": {},
   "outputs": [
    {
     "data": {
      "text/html": [
       "<div>\n",
       "<style scoped>\n",
       "    .dataframe tbody tr th:only-of-type {\n",
       "        vertical-align: middle;\n",
       "    }\n",
       "\n",
       "    .dataframe tbody tr th {\n",
       "        vertical-align: top;\n",
       "    }\n",
       "\n",
       "    .dataframe thead th {\n",
       "        text-align: right;\n",
       "    }\n",
       "</style>\n",
       "<table border=\"1\" class=\"dataframe\">\n",
       "  <thead>\n",
       "    <tr style=\"text-align: right;\">\n",
       "      <th></th>\n",
       "      <th>name</th>\n",
       "      <th>platform</th>\n",
       "      <th>year_of_release</th>\n",
       "      <th>genre</th>\n",
       "      <th>na_sales</th>\n",
       "      <th>eu_sales</th>\n",
       "      <th>jp_sales</th>\n",
       "      <th>other_sales</th>\n",
       "      <th>critic_score</th>\n",
       "      <th>user_score</th>\n",
       "      <th>rating</th>\n",
       "      <th>total_sales</th>\n",
       "    </tr>\n",
       "  </thead>\n",
       "  <tbody>\n",
       "    <tr>\n",
       "      <th>31</th>\n",
       "      <td>Call of Duty: Black Ops 3</td>\n",
       "      <td>PS4</td>\n",
       "      <td>2015</td>\n",
       "      <td>Shooter</td>\n",
       "      <td>6.03</td>\n",
       "      <td>5.86</td>\n",
       "      <td>0.36</td>\n",
       "      <td>2.38</td>\n",
       "      <td>NaN</td>\n",
       "      <td>NaN</td>\n",
       "      <td>not rated</td>\n",
       "      <td>14.63</td>\n",
       "    </tr>\n",
       "    <tr>\n",
       "      <th>77</th>\n",
       "      <td>FIFA 16</td>\n",
       "      <td>PS4</td>\n",
       "      <td>2015</td>\n",
       "      <td>Sports</td>\n",
       "      <td>1.12</td>\n",
       "      <td>6.12</td>\n",
       "      <td>0.06</td>\n",
       "      <td>1.28</td>\n",
       "      <td>82.0</td>\n",
       "      <td>4.3</td>\n",
       "      <td>E</td>\n",
       "      <td>8.58</td>\n",
       "    </tr>\n",
       "    <tr>\n",
       "      <th>87</th>\n",
       "      <td>Star Wars Battlefront (2015)</td>\n",
       "      <td>PS4</td>\n",
       "      <td>2015</td>\n",
       "      <td>Shooter</td>\n",
       "      <td>2.99</td>\n",
       "      <td>3.49</td>\n",
       "      <td>0.22</td>\n",
       "      <td>1.28</td>\n",
       "      <td>NaN</td>\n",
       "      <td>NaN</td>\n",
       "      <td>not rated</td>\n",
       "      <td>7.98</td>\n",
       "    </tr>\n",
       "    <tr>\n",
       "      <th>94</th>\n",
       "      <td>FIFA 17</td>\n",
       "      <td>PS4</td>\n",
       "      <td>2016</td>\n",
       "      <td>Sports</td>\n",
       "      <td>0.66</td>\n",
       "      <td>5.75</td>\n",
       "      <td>0.08</td>\n",
       "      <td>1.11</td>\n",
       "      <td>85.0</td>\n",
       "      <td>5.0</td>\n",
       "      <td>E</td>\n",
       "      <td>7.60</td>\n",
       "    </tr>\n",
       "    <tr>\n",
       "      <th>105</th>\n",
       "      <td>Fallout 4</td>\n",
       "      <td>PS4</td>\n",
       "      <td>2015</td>\n",
       "      <td>Role-Playing</td>\n",
       "      <td>2.53</td>\n",
       "      <td>3.27</td>\n",
       "      <td>0.24</td>\n",
       "      <td>1.13</td>\n",
       "      <td>87.0</td>\n",
       "      <td>6.5</td>\n",
       "      <td>M</td>\n",
       "      <td>7.17</td>\n",
       "    </tr>\n",
       "    <tr>\n",
       "      <th>...</th>\n",
       "      <td>...</td>\n",
       "      <td>...</td>\n",
       "      <td>...</td>\n",
       "      <td>...</td>\n",
       "      <td>...</td>\n",
       "      <td>...</td>\n",
       "      <td>...</td>\n",
       "      <td>...</td>\n",
       "      <td>...</td>\n",
       "      <td>...</td>\n",
       "      <td>...</td>\n",
       "      <td>...</td>\n",
       "    </tr>\n",
       "    <tr>\n",
       "      <th>16500</th>\n",
       "      <td>Root Letter</td>\n",
       "      <td>PS4</td>\n",
       "      <td>2016</td>\n",
       "      <td>Adventure</td>\n",
       "      <td>0.00</td>\n",
       "      <td>0.00</td>\n",
       "      <td>0.01</td>\n",
       "      <td>0.00</td>\n",
       "      <td>69.0</td>\n",
       "      <td>7.5</td>\n",
       "      <td>not rated</td>\n",
       "      <td>0.01</td>\n",
       "    </tr>\n",
       "    <tr>\n",
       "      <th>16503</th>\n",
       "      <td>Shin Hayarigami 2</td>\n",
       "      <td>PS4</td>\n",
       "      <td>2016</td>\n",
       "      <td>Adventure</td>\n",
       "      <td>0.00</td>\n",
       "      <td>0.00</td>\n",
       "      <td>0.01</td>\n",
       "      <td>0.00</td>\n",
       "      <td>NaN</td>\n",
       "      <td>NaN</td>\n",
       "      <td>not rated</td>\n",
       "      <td>0.01</td>\n",
       "    </tr>\n",
       "    <tr>\n",
       "      <th>16526</th>\n",
       "      <td>Dungeons 2</td>\n",
       "      <td>PS4</td>\n",
       "      <td>2016</td>\n",
       "      <td>Role-Playing</td>\n",
       "      <td>0.01</td>\n",
       "      <td>0.00</td>\n",
       "      <td>0.00</td>\n",
       "      <td>0.00</td>\n",
       "      <td>61.0</td>\n",
       "      <td>7.9</td>\n",
       "      <td>T</td>\n",
       "      <td>0.01</td>\n",
       "    </tr>\n",
       "    <tr>\n",
       "      <th>16530</th>\n",
       "      <td>Carmageddon: Max Damage</td>\n",
       "      <td>PS4</td>\n",
       "      <td>2016</td>\n",
       "      <td>Action</td>\n",
       "      <td>0.01</td>\n",
       "      <td>0.00</td>\n",
       "      <td>0.00</td>\n",
       "      <td>0.00</td>\n",
       "      <td>51.0</td>\n",
       "      <td>5.5</td>\n",
       "      <td>M</td>\n",
       "      <td>0.01</td>\n",
       "    </tr>\n",
       "    <tr>\n",
       "      <th>16585</th>\n",
       "      <td>Farming 2017 - The Simulation</td>\n",
       "      <td>PS4</td>\n",
       "      <td>2016</td>\n",
       "      <td>Simulation</td>\n",
       "      <td>0.00</td>\n",
       "      <td>0.01</td>\n",
       "      <td>0.00</td>\n",
       "      <td>0.00</td>\n",
       "      <td>NaN</td>\n",
       "      <td>NaN</td>\n",
       "      <td>not rated</td>\n",
       "      <td>0.01</td>\n",
       "    </tr>\n",
       "  </tbody>\n",
       "</table>\n",
       "<p>295 rows × 12 columns</p>\n",
       "</div>"
      ],
      "text/plain": [
       "                                name platform  year_of_release         genre  \\\n",
       "31         Call of Duty: Black Ops 3      PS4             2015       Shooter   \n",
       "77                           FIFA 16      PS4             2015        Sports   \n",
       "87      Star Wars Battlefront (2015)      PS4             2015       Shooter   \n",
       "94                           FIFA 17      PS4             2016        Sports   \n",
       "105                        Fallout 4      PS4             2015  Role-Playing   \n",
       "...                              ...      ...              ...           ...   \n",
       "16500                    Root Letter      PS4             2016     Adventure   \n",
       "16503              Shin Hayarigami 2      PS4             2016     Adventure   \n",
       "16526                     Dungeons 2      PS4             2016  Role-Playing   \n",
       "16530        Carmageddon: Max Damage      PS4             2016        Action   \n",
       "16585  Farming 2017 - The Simulation      PS4             2016    Simulation   \n",
       "\n",
       "       na_sales  eu_sales  jp_sales  other_sales  critic_score  user_score  \\\n",
       "31         6.03      5.86      0.36         2.38           NaN         NaN   \n",
       "77         1.12      6.12      0.06         1.28          82.0         4.3   \n",
       "87         2.99      3.49      0.22         1.28           NaN         NaN   \n",
       "94         0.66      5.75      0.08         1.11          85.0         5.0   \n",
       "105        2.53      3.27      0.24         1.13          87.0         6.5   \n",
       "...         ...       ...       ...          ...           ...         ...   \n",
       "16500      0.00      0.00      0.01         0.00          69.0         7.5   \n",
       "16503      0.00      0.00      0.01         0.00           NaN         NaN   \n",
       "16526      0.01      0.00      0.00         0.00          61.0         7.9   \n",
       "16530      0.01      0.00      0.00         0.00          51.0         5.5   \n",
       "16585      0.00      0.01      0.00         0.00           NaN         NaN   \n",
       "\n",
       "          rating  total_sales  \n",
       "31     not rated        14.63  \n",
       "77             E         8.58  \n",
       "87     not rated         7.98  \n",
       "94             E         7.60  \n",
       "105            M         7.17  \n",
       "...          ...          ...  \n",
       "16500  not rated         0.01  \n",
       "16503  not rated         0.01  \n",
       "16526          T         0.01  \n",
       "16530          M         0.01  \n",
       "16585  not rated         0.01  \n",
       "\n",
       "[295 rows x 12 columns]"
      ]
     },
     "metadata": {},
     "output_type": "display_data"
    }
   ],
   "source": [
    "display (ps4_sales)"
   ]
  },
  {
   "cell_type": "code",
   "execution_count": 51,
   "metadata": {},
   "outputs": [
    {
     "data": {
      "text/plain": [
       "<AxesSubplot:xlabel='critic_score', ylabel='total_sales'>"
      ]
     },
     "execution_count": 51,
     "metadata": {},
     "output_type": "execute_result"
    },
    {
     "data": {
      "image/png": "[encoded data removed]",
      "text/plain": [
       "<Figure size 432x288 with 1 Axes>"
      ]
     },
     "metadata": {
      "needs_background": "light"
     },
     "output_type": "display_data"
    }
   ],
   "source": [
    "ps4_sales.plot(x='critic_score', y='total_sales', kind='scatter')"
   ]
  },
  {
   "cell_type": "code",
   "execution_count": 52,
   "metadata": {},
   "outputs": [
    {
     "data": {
      "text/plain": [
       "<AxesSubplot:xlabel='user_score', ylabel='total_sales'>"
      ]
     },
     "execution_count": 52,
     "metadata": {},
     "output_type": "execute_result"
    },
    {
     "data": {
      "image/png": "[encoded data removed]",
      "text/plain": [
       "<Figure size 432x288 with 1 Axes>"
      ]
     },
     "metadata": {
      "needs_background": "light"
     },
     "output_type": "display_data"
    }
   ],
   "source": [
    "ps4_sales.plot(x='user_score', y='total_sales', kind='scatter')"
   ]
  },
  {
   "cell_type": "code",
   "execution_count": 53,
   "metadata": {},
   "outputs": [
    {
     "data": {
      "text/plain": [
       "0.3927377369694067"
      ]
     },
     "execution_count": 53,
     "metadata": {},
     "output_type": "execute_result"
    }
   ],
   "source": [
    "ps4_sales['critic_score'].corr(ps4_sales['total_sales'])"
   ]
  },
  {
   "cell_type": "code",
   "execution_count": 54,
   "metadata": {},
   "outputs": [
    {
     "data": {
      "text/plain": [
       "-0.05973845712638215"
      ]
     },
     "execution_count": 54,
     "metadata": {},
     "output_type": "execute_result"
    }
   ],
   "source": [
    "ps4_sales['user_score'].corr(ps4_sales['total_sales'])"
   ]
  },
  {
   "cell_type": "markdown",
   "metadata": {},
   "source": [
    "The correlation between reviews and sales for PS4 is low."
   ]
  },
  {
   "cell_type": "markdown",
   "metadata": {},
   "source": [
    "### Comparative analysis with other platforms.\n",
    "\n",
    "\n",
    "\n",
    "\n"
   ]
  },
  {
   "cell_type": "markdown",
   "metadata": {},
   "source": [
    "Let's compare the relationship between sales and reviews in PS4 with the same relationship in the other top 5 significant platforms."
   ]
  },
  {
   "cell_type": "code",
   "execution_count": 55,
   "metadata": {},
   "outputs": [],
   "source": [
    "top_five_list=['3DS', 'XOne', 'PC', 'PSV', 'WiiU']"
   ]
  },
  {
   "cell_type": "code",
   "execution_count": 56,
   "metadata": {},
   "outputs": [],
   "source": [
    "top_five_data=sales_2016_2015[sales_2016_2015['platform'].isin(top_five_list)]"
   ]
  },
  {
   "cell_type": "code",
   "execution_count": 57,
   "metadata": {},
   "outputs": [
    {
     "data": {
      "image/png": "[encoded data removed]",
      "text/plain": [
       "<Figure size 432x288 with 1 Axes>"
      ]
     },
     "metadata": {
      "needs_background": "light"
     },
     "output_type": "display_data"
    },
    {
     "name": "stdout",
     "output_type": "stream",
     "text": [
      "0.4250680620879304\n"
     ]
    },
    {
     "data": {
      "image/png": "[encoded data removed]",
      "text/plain": [
       "<Figure size 432x288 with 1 Axes>"
      ]
     },
     "metadata": {
      "needs_background": "light"
     },
     "output_type": "display_data"
    },
    {
     "name": "stdout",
     "output_type": "stream",
     "text": [
      "-0.04146733387366271\n"
     ]
    }
   ],
   "source": [
    "def score_corr (sales, score):\n",
    "    sales.plot(x=score, y='total_sales', kind='scatter', color='g')\n",
    "    plt.show()\n",
    "    print(sales[score].corr(sales['total_sales']))\n",
    "score_corr(top_five_data.query('platform==\"XOne\"'),'critic_score') \n",
    "score_corr(top_five_data.query('platform==\"XOne\"'),'user_score') "
   ]
  },
  {
   "cell_type": "code",
   "execution_count": 58,
   "metadata": {},
   "outputs": [
    {
     "data": {
      "image/png": "[encoded data removed]",
      "text/plain": [
       "<Figure size 432x288 with 1 Axes>"
      ]
     },
     "metadata": {
      "needs_background": "light"
     },
     "output_type": "display_data"
    },
    {
     "name": "stdout",
     "output_type": "stream",
     "text": [
      "0.17757455046092874\n"
     ]
    },
    {
     "data": {
      "image/png": "[encoded data removed]",
      "text/plain": [
       "<Figure size 432x288 with 1 Axes>"
      ]
     },
     "metadata": {
      "needs_background": "light"
     },
     "output_type": "display_data"
    },
    {
     "name": "stdout",
     "output_type": "stream",
     "text": [
      "0.19879627008102982\n"
     ]
    }
   ],
   "source": [
    "def score_corr (sales, score):\n",
    "    sales.plot(x=score, y='total_sales', kind='scatter', color='g')\n",
    "    plt.show()\n",
    "    print(sales[score].corr(sales['total_sales']))\n",
    "score_corr(top_five_data.query('platform==\"3DS\"'),'critic_score') \n",
    "score_corr(top_five_data.query('platform==\"3DS\"'),'user_score') "
   ]
  },
  {
   "cell_type": "code",
   "execution_count": 59,
   "metadata": {},
   "outputs": [
    {
     "data": {
      "image/png": "[encoded data removed]",
      "text/plain": [
       "<Figure size 432x288 with 1 Axes>"
      ]
     },
     "metadata": {
      "needs_background": "light"
     },
     "output_type": "display_data"
    },
    {
     "name": "stdout",
     "output_type": "stream",
     "text": [
      "0.3773317477241351\n"
     ]
    },
    {
     "data": {
      "image/png": "[encoded data removed]",
      "text/plain": [
       "<Figure size 432x288 with 1 Axes>"
      ]
     },
     "metadata": {
      "needs_background": "light"
     },
     "output_type": "display_data"
    },
    {
     "name": "stdout",
     "output_type": "stream",
     "text": [
      "0.15038053045029076\n"
     ]
    }
   ],
   "source": [
    "def score_corr (sales, score):\n",
    "    sales.plot(x=score, y='total_sales', kind='scatter', color='g')\n",
    "    plt.show()\n",
    "    print(sales[score].corr(sales['total_sales']))\n",
    "score_corr(top_five_data.query('platform==\"PC\"'),'critic_score') \n",
    "score_corr(top_five_data.query('platform==\"PC\"'),'user_score') "
   ]
  },
  {
   "cell_type": "code",
   "execution_count": 60,
   "metadata": {},
   "outputs": [
    {
     "data": {
      "image/png": "[encoded data removed]",
      "text/plain": [
       "<Figure size 432x288 with 1 Axes>"
      ]
     },
     "metadata": {
      "needs_background": "light"
     },
     "output_type": "display_data"
    },
    {
     "name": "stdout",
     "output_type": "stream",
     "text": [
      "0.0027493304585274663\n"
     ]
    },
    {
     "data": {
      "image/png": "[encoded data removed]",
      "text/plain": [
       "<Figure size 432x288 with 1 Axes>"
      ]
     },
     "metadata": {
      "needs_background": "light"
     },
     "output_type": "display_data"
    },
    {
     "name": "stdout",
     "output_type": "stream",
     "text": [
      "0.07833473556248864\n"
     ]
    }
   ],
   "source": [
    "def score_corr (sales, score):\n",
    "    sales.plot(x=score, y='total_sales', kind='scatter', color='g')\n",
    "    plt.show()\n",
    "    print(sales[score].corr(sales['total_sales']))\n",
    "score_corr(top_five_data.query('platform==\"PSV\"'),'critic_score') \n",
    "score_corr(top_five_data.query('platform==\"PSV\"'),'user_score') "
   ]
  },
  {
   "cell_type": "code",
   "execution_count": 61,
   "metadata": {},
   "outputs": [
    {
     "data": {
      "image/png": "[encoded data removed]",
      "text/plain": [
       "<Figure size 432x288 with 1 Axes>"
      ]
     },
     "metadata": {
      "needs_background": "light"
     },
     "output_type": "display_data"
    },
    {
     "name": "stdout",
     "output_type": "stream",
     "text": [
      "0.32567420650305284\n"
     ]
    },
    {
     "data": {
      "image/png": "[encoded data removed]",
      "text/plain": [
       "<Figure size 432x288 with 1 Axes>"
      ]
     },
     "metadata": {
      "needs_background": "light"
     },
     "output_type": "display_data"
    },
    {
     "name": "stdout",
     "output_type": "stream",
     "text": [
      "0.3635185724809445\n"
     ]
    }
   ],
   "source": [
    "def score_corr (sales, score):\n",
    "    sales.plot(x=score, y='total_sales', kind='scatter', color='g')\n",
    "    plt.show()\n",
    "    print(sales[score].corr(sales['total_sales']))\n",
    "score_corr(top_five_data.query('platform==\"WiiU\"'),'critic_score') \n",
    "score_corr(top_five_data.query('platform==\"WiiU\"'),'user_score') "
   ]
  },
  {
   "cell_type": "markdown",
   "metadata": {},
   "source": [
    "We can conclude that the correlation between ratings and sales is weak across all platforms, except for the WiiU platform, where the correlation is around 50%. Additionally, a moderate correlation between sales and critic ratings is noticeable for the XOne platform."
   ]
  },
  {
   "cell_type": "markdown",
   "metadata": {},
   "source": [
    "### Genres with the highest and lowest sales, as well as the most profitable genres."
   ]
  },
  {
   "cell_type": "code",
   "execution_count": 62,
   "metadata": {},
   "outputs": [],
   "source": [
    "games_by_genre=sales_2016_2015.groupby('genre')['name'].count()"
   ]
  },
  {
   "cell_type": "code",
   "execution_count": 63,
   "metadata": {},
   "outputs": [
    {
     "data": {
      "text/plain": [
       "genre\n",
       "Action          400\n",
       "Adventure       106\n",
       "Fighting         35\n",
       "Misc             59\n",
       "Platform         24\n",
       "Puzzle            5\n",
       "Racing           41\n",
       "Role-Playing    132\n",
       "Shooter          77\n",
       "Simulation       30\n",
       "Sports           98\n",
       "Strategy         29\n",
       "Name: name, dtype: int64"
      ]
     },
     "metadata": {},
     "output_type": "display_data"
    }
   ],
   "source": [
    "display(games_by_genre)"
   ]
  },
  {
   "cell_type": "code",
   "execution_count": 64,
   "metadata": {},
   "outputs": [
    {
     "data": {
      "text/plain": [
       "<AxesSubplot:xlabel='genre'>"
      ]
     },
     "execution_count": 64,
     "metadata": {},
     "output_type": "execute_result"
    },
    {
     "data": {
      "image/png": "[encoded data removed]",
      "text/plain": [
       "<Figure size 432x288 with 1 Axes>"
      ]
     },
     "metadata": {
      "needs_background": "light"
     },
     "output_type": "display_data"
    }
   ],
   "source": [
    "games_by_genre.plot(kind='bar')"
   ]
  },
  {
   "cell_type": "code",
   "execution_count": 65,
   "metadata": {},
   "outputs": [],
   "source": [
    "sales_by_genre=sales_2016_2015.groupby('genre')['total_sales'].sum()"
   ]
  },
  {
   "cell_type": "code",
   "execution_count": 66,
   "metadata": {},
   "outputs": [
    {
     "data": {
      "text/plain": [
       "genre\n",
       "Action          100.56\n",
       "Adventure        11.88\n",
       "Fighting         12.29\n",
       "Misc             12.60\n",
       "Platform          8.85\n",
       "Puzzle            0.68\n",
       "Racing           10.81\n",
       "Role-Playing     55.82\n",
       "Shooter         105.53\n",
       "Simulation        7.40\n",
       "Sports           63.95\n",
       "Strategy          2.98\n",
       "Name: total_sales, dtype: float64"
      ]
     },
     "metadata": {},
     "output_type": "display_data"
    }
   ],
   "source": [
    "display(sales_by_genre)"
   ]
  },
  {
   "cell_type": "code",
   "execution_count": 67,
   "metadata": {},
   "outputs": [
    {
     "data": {
      "text/plain": [
       "<AxesSubplot:xlabel='genre'>"
      ]
     },
     "execution_count": 67,
     "metadata": {},
     "output_type": "execute_result"
    },
    {
     "data": {
      "image/png": "[encoded data removed]",
      "text/plain": [
       "<Figure size 432x288 with 1 Axes>"
      ]
     },
     "metadata": {
      "needs_background": "light"
     },
     "output_type": "display_data"
    }
   ],
   "source": [
    "sales_by_genre.plot(kind='bar')"
   ]
  },
  {
   "cell_type": "markdown",
   "metadata": {},
   "source": [
    "From the graphs above, it's evident that the highest number of games falls under the \"Action\" genre. However, the genre with the highest sales volume is \"Shooter.\" Therefore, the \"Shooter\" genre can be considered the most profitable."
   ]
  },
  {
   "cell_type": "markdown",
   "metadata": {},
   "source": [
    "Let's identify the genres with the lowest sales to avoid them when formulating the strategy for the year 2017."
   ]
  },
  {
   "cell_type": "code",
   "execution_count": 68,
   "metadata": {},
   "outputs": [
    {
     "name": "stdout",
     "output_type": "stream",
     "text": [
      "genre\n",
      "Racing        10.81\n",
      "Platform       8.85\n",
      "Simulation     7.40\n",
      "Strategy       2.98\n",
      "Puzzle         0.68\n",
      "Name: total_sales, dtype: float64\n"
     ]
    }
   ],
   "source": [
    "sales_by_genre=sales_by_genre.sort_values(ascending=False)\n",
    "print(sales_by_genre.tail())"
   ]
  },
  {
   "cell_type": "markdown",
   "metadata": {},
   "source": [
    "We have identified the least promising genres as \"Puzzle\" and \"Strategy.\""
   ]
  },
  {
   "cell_type": "markdown",
   "metadata": {},
   "source": [
    "##  User profile for each region"
   ]
  },
  {
   "cell_type": "markdown",
   "metadata": {},
   "source": [
    "### The most popular platforms (top 5)."
   ]
  },
  {
   "cell_type": "code",
   "execution_count": 69,
   "metadata": {},
   "outputs": [
    {
     "data": {
      "image/png": "[encoded data removed]",
      "text/plain": [
       "<Figure size 1080x360 with 3 Axes>"
      ]
     },
     "metadata": {},
     "output_type": "display_data"
    }
   ],
   "source": [
    "regions=['eu_sales', 'na_sales', 'jp_sales', 'other_sales']\n",
    "fig, axs = plt.subplots(1, 3, figsize=(15, 5)) \n",
    "fig.suptitle('User_profile')\n",
    "for i in range(3):\n",
    "  top5_by_region = (sales_2016_2015.groupby('platform')[regions[i]].sum().reset_index().            \n",
    "      sort_values(regions[i], ascending = False, ignore_index = True).head(5))              \n",
    "  top5_by_region=  top5_by_region.append({'platform': 'Other platforms', regions[i]: sales_2016_2015[regions[i]].sum()- top5_by_region[regions[i]].sum()}, ignore_index= True)    \n",
    "  axs[i].pie(top5_by_region[regions[i]], labels = top5_by_region['platform']) \n",
    "  axs[i].set_title(top5_by_region.columns[1].split('_')[0].upper()) \n",
    "plt.show()"
   ]
  },
  {
   "cell_type": "markdown",
   "metadata": {},
   "source": [
    "In Europe, the most popular platform is PS4 with a significant lead over XOne. In the United States, PS4 is also leading, followed by XOne, but the gap between them is not as pronounced as in Europe. In Japan, a different platform, 3DS, is the leader, followed by PS4, and XOne is not represented at all."
   ]
  },
  {
   "cell_type": "markdown",
   "metadata": {},
   "source": [
    "### The most popular genres (top 5)."
   ]
  },
  {
   "cell_type": "code",
   "execution_count": 70,
   "metadata": {},
   "outputs": [
    {
     "data": {
      "text/html": [
       "<div>\n",
       "<style scoped>\n",
       "    .dataframe tbody tr th:only-of-type {\n",
       "        vertical-align: middle;\n",
       "    }\n",
       "\n",
       "    .dataframe tbody tr th {\n",
       "        vertical-align: top;\n",
       "    }\n",
       "\n",
       "    .dataframe thead th {\n",
       "        text-align: right;\n",
       "    }\n",
       "</style>\n",
       "<table border=\"1\" class=\"dataframe\">\n",
       "  <thead>\n",
       "    <tr style=\"text-align: right;\">\n",
       "      <th></th>\n",
       "      <th>eu_sales</th>\n",
       "      <th>na_sales</th>\n",
       "      <th>jp_sales</th>\n",
       "      <th>other_sales</th>\n",
       "      <th>total_sales</th>\n",
       "    </tr>\n",
       "    <tr>\n",
       "      <th>genre</th>\n",
       "      <th></th>\n",
       "      <th></th>\n",
       "      <th></th>\n",
       "      <th></th>\n",
       "      <th></th>\n",
       "    </tr>\n",
       "  </thead>\n",
       "  <tbody>\n",
       "    <tr>\n",
       "      <th>Shooter</th>\n",
       "      <td>40.20</td>\n",
       "      <td>48.07</td>\n",
       "      <td>3.79</td>\n",
       "      <td>13.47</td>\n",
       "      <td>105.53</td>\n",
       "    </tr>\n",
       "    <tr>\n",
       "      <th>Action</th>\n",
       "      <td>34.14</td>\n",
       "      <td>33.30</td>\n",
       "      <td>22.67</td>\n",
       "      <td>10.45</td>\n",
       "      <td>100.56</td>\n",
       "    </tr>\n",
       "    <tr>\n",
       "      <th>Sports</th>\n",
       "      <td>27.58</td>\n",
       "      <td>26.21</td>\n",
       "      <td>1.65</td>\n",
       "      <td>8.51</td>\n",
       "      <td>63.95</td>\n",
       "    </tr>\n",
       "    <tr>\n",
       "      <th>Role-Playing</th>\n",
       "      <td>17.21</td>\n",
       "      <td>19.82</td>\n",
       "      <td>13.41</td>\n",
       "      <td>5.38</td>\n",
       "      <td>55.82</td>\n",
       "    </tr>\n",
       "    <tr>\n",
       "      <th>Misc</th>\n",
       "      <td>3.56</td>\n",
       "      <td>4.84</td>\n",
       "      <td>3.19</td>\n",
       "      <td>1.01</td>\n",
       "      <td>12.60</td>\n",
       "    </tr>\n",
       "  </tbody>\n",
       "</table>\n",
       "</div>"
      ],
      "text/plain": [
       "              eu_sales  na_sales  jp_sales  other_sales  total_sales\n",
       "genre                                                               \n",
       "Shooter          40.20     48.07      3.79        13.47       105.53\n",
       "Action           34.14     33.30     22.67        10.45       100.56\n",
       "Sports           27.58     26.21      1.65         8.51        63.95\n",
       "Role-Playing     17.21     19.82     13.41         5.38        55.82\n",
       "Misc              3.56      4.84      3.19         1.01        12.60"
      ]
     },
     "metadata": {},
     "output_type": "display_data"
    }
   ],
   "source": [
    "regions=['eu_sales', 'na_sales', 'jp_sales', 'other_sales', 'total_sales']\n",
    "\n",
    "sales_by_genre=sales_2016_2015.groupby('genre')[regions].sum()\n",
    "sales_by_genre_sorted=sales_by_genre.sort_values(by='total_sales', ascending=False)\n",
    "\n",
    "top5genres_by_region=sales_by_genre_sorted.head(5)\n",
    "top5genres_by_region=top5genres_by_region\n",
    "display(top5genres_by_region)\n",
    "\n"
   ]
  },
  {
   "cell_type": "code",
   "execution_count": 71,
   "metadata": {},
   "outputs": [],
   "source": [
    "top5genres_by_region_no_total=top5genres_by_region.drop(columns='total_sales')"
   ]
  },
  {
   "cell_type": "code",
   "execution_count": 72,
   "metadata": {},
   "outputs": [
    {
     "data": {
      "image/png": "[encoded data removed]",
      "text/plain": [
       "<Figure size 1440x1440 with 4 Axes>"
      ]
     },
     "metadata": {},
     "output_type": "display_data"
    }
   ],
   "source": [
    "\n",
    "plot = top5genres_by_region_no_total.plot.pie(subplots=True, figsize=(20, 20))"
   ]
  },
  {
   "cell_type": "markdown",
   "metadata": {},
   "source": [
    "Genre preferences are very similar between the United States and Europe (with Shooter being the most popular genre, and Action and Sports being approximately equally popular). However, in Japan, the Shooter genre ranks only third and significantly trails Action and Role-Playing genres."
   ]
  },
  {
   "cell_type": "markdown",
   "metadata": {},
   "source": [
    "### ESRB rating influence on sales in a particular region"
   ]
  },
  {
   "cell_type": "code",
   "execution_count": 73,
   "metadata": {},
   "outputs": [
    {
     "data": {
      "text/plain": [
       "array(['not rated', 'E', 'M', 'T', 'E10+'], dtype=object)"
      ]
     },
     "execution_count": 73,
     "metadata": {},
     "output_type": "execute_result"
    }
   ],
   "source": [
    "sales_2016_2015['rating'].unique()"
   ]
  },
  {
   "cell_type": "code",
   "execution_count": 74,
   "metadata": {},
   "outputs": [
    {
     "data": {
      "text/plain": [
       "0.0"
      ]
     },
     "execution_count": 74,
     "metadata": {},
     "output_type": "execute_result"
    }
   ],
   "source": [
    "sales_2016_2015['rating'].isna().mean()"
   ]
  },
  {
   "cell_type": "code",
   "execution_count": 75,
   "metadata": {},
   "outputs": [],
   "source": [
    "sales_by_rating=sales_2016_2015.groupby('rating')[regions].sum()"
   ]
  },
  {
   "cell_type": "code",
   "execution_count": 76,
   "metadata": {},
   "outputs": [
    {
     "data": {
      "text/html": [
       "<div>\n",
       "<style scoped>\n",
       "    .dataframe tbody tr th:only-of-type {\n",
       "        vertical-align: middle;\n",
       "    }\n",
       "\n",
       "    .dataframe tbody tr th {\n",
       "        vertical-align: top;\n",
       "    }\n",
       "\n",
       "    .dataframe thead th {\n",
       "        text-align: right;\n",
       "    }\n",
       "</style>\n",
       "<table border=\"1\" class=\"dataframe\">\n",
       "  <thead>\n",
       "    <tr style=\"text-align: right;\">\n",
       "      <th></th>\n",
       "      <th>eu_sales</th>\n",
       "      <th>na_sales</th>\n",
       "      <th>jp_sales</th>\n",
       "      <th>other_sales</th>\n",
       "      <th>total_sales</th>\n",
       "    </tr>\n",
       "    <tr>\n",
       "      <th>rating</th>\n",
       "      <th></th>\n",
       "      <th></th>\n",
       "      <th></th>\n",
       "      <th></th>\n",
       "      <th></th>\n",
       "    </tr>\n",
       "  </thead>\n",
       "  <tbody>\n",
       "    <tr>\n",
       "      <th>E</th>\n",
       "      <td>34.39</td>\n",
       "      <td>26.25</td>\n",
       "      <td>5.25</td>\n",
       "      <td>8.49</td>\n",
       "      <td>74.38</td>\n",
       "    </tr>\n",
       "    <tr>\n",
       "      <th>E10+</th>\n",
       "      <td>10.21</td>\n",
       "      <td>16.83</td>\n",
       "      <td>3.20</td>\n",
       "      <td>3.74</td>\n",
       "      <td>33.98</td>\n",
       "    </tr>\n",
       "    <tr>\n",
       "      <th>M</th>\n",
       "      <td>45.52</td>\n",
       "      <td>46.97</td>\n",
       "      <td>4.29</td>\n",
       "      <td>14.24</td>\n",
       "      <td>111.02</td>\n",
       "    </tr>\n",
       "    <tr>\n",
       "      <th>T</th>\n",
       "      <td>20.18</td>\n",
       "      <td>22.69</td>\n",
       "      <td>7.33</td>\n",
       "      <td>6.81</td>\n",
       "      <td>57.01</td>\n",
       "    </tr>\n",
       "    <tr>\n",
       "      <th>not rated</th>\n",
       "      <td>35.53</td>\n",
       "      <td>37.42</td>\n",
       "      <td>32.89</td>\n",
       "      <td>11.12</td>\n",
       "      <td>116.96</td>\n",
       "    </tr>\n",
       "  </tbody>\n",
       "</table>\n",
       "</div>"
      ],
      "text/plain": [
       "           eu_sales  na_sales  jp_sales  other_sales  total_sales\n",
       "rating                                                           \n",
       "E             34.39     26.25      5.25         8.49        74.38\n",
       "E10+          10.21     16.83      3.20         3.74        33.98\n",
       "M             45.52     46.97      4.29        14.24       111.02\n",
       "T             20.18     22.69      7.33         6.81        57.01\n",
       "not rated     35.53     37.42     32.89        11.12       116.96"
      ]
     },
     "metadata": {},
     "output_type": "display_data"
    }
   ],
   "source": [
    "display(sales_by_rating)"
   ]
  },
  {
   "cell_type": "code",
   "execution_count": 77,
   "metadata": {},
   "outputs": [
    {
     "data": {
      "text/plain": [
       "array([<AxesSubplot:ylabel='eu_sales'>, <AxesSubplot:ylabel='na_sales'>,\n",
       "       <AxesSubplot:ylabel='jp_sales'>,\n",
       "       <AxesSubplot:ylabel='other_sales'>,\n",
       "       <AxesSubplot:ylabel='total_sales'>], dtype=object)"
      ]
     },
     "execution_count": 77,
     "metadata": {},
     "output_type": "execute_result"
    },
    {
     "data": {
      "image/png": "[encoded data removed]",
      "text/plain": [
       "<Figure size 1440x1440 with 5 Axes>"
      ]
     },
     "metadata": {},
     "output_type": "display_data"
    }
   ],
   "source": [
    "sales_by_rating.plot.pie(subplots=True,figsize=(20, 20) )"
   ]
  },
  {
   "cell_type": "markdown",
   "metadata": {},
   "source": [
    "We can conclude that the ESRB rating does influence sales in Europe and the United States. The highest sales in the EU and NA regions are for games with an \"M\" (Mature) rating, around 45 million units, followed by unrated games at approximately 35 million units, and then games with \"E\" (Everyone) and \"T\" (Teen) ratings. In Japan, the situation is different. The majority of sales are for games without an age rating."
   ]
  },
  {
   "cell_type": "markdown",
   "metadata": {},
   "source": [
    "## Hypothesis testing"
   ]
  },
  {
   "cell_type": "markdown",
   "metadata": {},
   "source": [
    "### The average user ratings for the Xbox One and PC platforms are the same.\n"
   ]
  },
  {
   "cell_type": "markdown",
   "metadata": {},
   "source": [
    "We need to test the hypothesis about the equality of means of two populations. In this case, the null hypothesis is formulated as the means of the two populations being equal."
   ]
  },
  {
   "cell_type": "markdown",
   "metadata": {},
   "source": [
    "Ho: The average user ratings for the Xbox One and PC platforms are the same."
   ]
  },
  {
   "cell_type": "markdown",
   "metadata": {},
   "source": [
    "H1: The average user ratings for the Xbox One and PC platforms are different."
   ]
  },
  {
   "cell_type": "code",
   "execution_count": 78,
   "metadata": {},
   "outputs": [],
   "source": [
    "sample1_Xbox=sales_2016_2015.query('platform==\"XOne\" and user_score.notna()')"
   ]
  },
  {
   "cell_type": "code",
   "execution_count": 79,
   "metadata": {},
   "outputs": [],
   "source": [
    "sample1 = sample1_Xbox['user_score']"
   ]
  },
  {
   "cell_type": "code",
   "execution_count": 80,
   "metadata": {},
   "outputs": [],
   "source": [
    "sample2_PC=sales_2016_2015.query('platform==\"PC\" and user_score.notna()')"
   ]
  },
  {
   "cell_type": "code",
   "execution_count": 81,
   "metadata": {},
   "outputs": [],
   "source": [
    "sample2 = sample2_PC['user_score']"
   ]
  },
  {
   "cell_type": "markdown",
   "metadata": {},
   "source": [
    "To determine the value of the \"equal_var\" argument for the ttest_ind() function, you can calculate the variances of the samples. If the variances differ significantly, then pass the value False. If the variances are nearly the same, pass True."
   ]
  },
  {
   "cell_type": "code",
   "execution_count": 82,
   "metadata": {},
   "outputs": [
    {
     "data": {
      "text/plain": [
       "2.125792011019284"
      ]
     },
     "execution_count": 82,
     "metadata": {},
     "output_type": "execute_result"
    }
   ],
   "source": [
    "sample1.var()"
   ]
  },
  {
   "cell_type": "code",
   "execution_count": 83,
   "metadata": {},
   "outputs": [
    {
     "data": {
      "text/plain": [
       "3.110950946643718"
      ]
     },
     "execution_count": 83,
     "metadata": {},
     "output_type": "execute_result"
    }
   ],
   "source": [
    "sample2.var()"
   ]
  },
  {
   "cell_type": "markdown",
   "metadata": {},
   "source": [
    "If the variances differ by 1.5 times, then you should pass the value False to the \"equal_var\" argument."
   ]
  },
  {
   "cell_type": "code",
   "execution_count": 84,
   "metadata": {},
   "outputs": [],
   "source": [
    "alpha=0.05"
   ]
  },
  {
   "cell_type": "code",
   "execution_count": 85,
   "metadata": {},
   "outputs": [],
   "source": [
    "results_1=st.ttest_ind(sample1, sample2, equal_var=False)\n"
   ]
  },
  {
   "cell_type": "code",
   "execution_count": 86,
   "metadata": {},
   "outputs": [
    {
     "name": "stdout",
     "output_type": "stream",
     "text": [
      "p-value: 0.2946308864003345\n"
     ]
    }
   ],
   "source": [
    "print(\"p-value:\", results_1.pvalue)"
   ]
  },
  {
   "cell_type": "code",
   "execution_count": 100,
   "metadata": {},
   "outputs": [],
   "source": [
    "if results_1.pvalue<alpha:\n",
    "    print ('The hypothesis is rejected')"
   ]
  },
  {
   "cell_type": "code",
   "execution_count": 101,
   "metadata": {},
   "outputs": [
    {
     "name": "stdout",
     "output_type": "stream",
     "text": [
      "The hypothesis could not be rejected.\n"
     ]
    }
   ],
   "source": [
    "if results_1.pvalue>alpha:\n",
    "    print ('The hypothesis could not be rejected.')"
   ]
  },
  {
   "cell_type": "markdown",
   "metadata": {},
   "source": [
    "We conclude that the average user ratings for the Xbox One and PC platforms are the same"
   ]
  },
  {
   "cell_type": "markdown",
   "metadata": {},
   "source": [
    "### The average user ratings for the Action and Sports genres are different."
   ]
  },
  {
   "cell_type": "markdown",
   "metadata": {},
   "source": [
    "We need to test the hypothesis about the equality of means of two populations. In such a case, the Null hypothesis is always formulated as the means of the two populations are equal."
   ]
  },
  {
   "cell_type": "markdown",
   "metadata": {},
   "source": [
    "Ho: The average user ratings of the Action and Sports genres are the same."
   ]
  },
  {
   "cell_type": "markdown",
   "metadata": {},
   "source": [
    "H1: Average user ratings for Action and Sports are different"
   ]
  },
  {
   "cell_type": "code",
   "execution_count": 89,
   "metadata": {},
   "outputs": [],
   "source": [
    "sample_Action=sales_2016_2015.query('genre==\"Action\" and user_score.notna()')"
   ]
  },
  {
   "cell_type": "code",
   "execution_count": 90,
   "metadata": {},
   "outputs": [],
   "source": [
    "sample_1 = sample_Action['user_score']"
   ]
  },
  {
   "cell_type": "code",
   "execution_count": 91,
   "metadata": {},
   "outputs": [],
   "source": [
    "sample_Sports=sales_2016_2015.query('genre==\"Sports\"and user_score.notna()')"
   ]
  },
  {
   "cell_type": "code",
   "execution_count": 92,
   "metadata": {},
   "outputs": [],
   "source": [
    "sample_2 = sample_Sports['user_score']"
   ]
  },
  {
   "cell_type": "markdown",
   "metadata": {},
   "source": [
    "To determine the value of the equal_var argument of the ttest_ind() function, let's calculate the sample variances. If the variances differ greatly, then pass False.\n",
    "If the variances are nearly the same, pass True."
   ]
  },
  {
   "cell_type": "code",
   "execution_count": 93,
   "metadata": {},
   "outputs": [
    {
     "data": {
      "text/plain": [
       "1.81305591537133"
      ]
     },
     "execution_count": 93,
     "metadata": {},
     "output_type": "execute_result"
    }
   ],
   "source": [
    "sample_1.var()"
   ]
  },
  {
   "cell_type": "code",
   "execution_count": 94,
   "metadata": {},
   "outputs": [
    {
     "data": {
      "text/plain": [
       "3.8724676302318572"
      ]
     },
     "execution_count": 94,
     "metadata": {},
     "output_type": "execute_result"
    }
   ],
   "source": [
    "sample_2.var()"
   ]
  },
  {
   "cell_type": "markdown",
   "metadata": {},
   "source": [
    "The variances differ by a factor of 2, so let's set the equal_var argument to False"
   ]
  },
  {
   "cell_type": "code",
   "execution_count": 95,
   "metadata": {},
   "outputs": [],
   "source": [
    "alpha=0.05"
   ]
  },
  {
   "cell_type": "code",
   "execution_count": 96,
   "metadata": {},
   "outputs": [],
   "source": [
    "results=st.ttest_ind(sample_1, sample_2, equal_var=False)"
   ]
  },
  {
   "cell_type": "code",
   "execution_count": 97,
   "metadata": {},
   "outputs": [
    {
     "name": "stdout",
     "output_type": "stream",
     "text": [
      "pvalue: 5.97163549920592e-10\n"
     ]
    }
   ],
   "source": [
    "print('pvalue:',results.pvalue )"
   ]
  },
  {
   "cell_type": "code",
   "execution_count": 98,
   "metadata": {},
   "outputs": [
    {
     "name": "stdout",
     "output_type": "stream",
     "text": [
      "Отвергаем гипотезу\n"
     ]
    }
   ],
   "source": [
    "if results.pvalue<alpha:\n",
    "    print ('The hypothesis is rejected')"
   ]
  },
  {
   "cell_type": "code",
   "execution_count": 102,
   "metadata": {},
   "outputs": [],
   "source": [
    "if results.pvalue>alpha:\n",
    "    print ('The hypothesis could not be rejected')"
   ]
  },
  {
   "cell_type": "markdown",
   "metadata": {},
   "source": [
    "We conclude that the average user ratings of the Action and Sports genres are different"
   ]
  },
  {
   "cell_type": "markdown",
   "metadata": {},
   "source": [
    "## Conclusion"
   ]
  },
  {
   "cell_type": "markdown",
   "metadata": {},
   "source": [
    "We conducted an analysis of computer game sales for the period from 1980 to 2016. We grouped the data by platforms and came to the conclusion that sales for each platform follow a cycle of around 10 years. We sorted the platforms that had sales in 2016 and determined the stage of their cycle.\n",
    "\n",
    "By plotting a graph, we observed that all three leading companies in 2016 (PS4, XOne, and 3DS) are in the concluding phase of their cycles. The peak for 3DS was reached in 2011, while for XOne and PS4, it was in 2015, followed by a decline. We are not interested in the growth stage as it has passed and could distort our forecast. Thus, for the current period, we considered the time after the peak, which is 2016.\n",
    "\n",
    "We created a box plot for global game sales in 2016 and concluded that the PS4 platform outperforms its competitors by a significant margin. Their sales volume was around 70 million, while the median stands around 6 million, with a characteristic range spanning from 0.5 to 16 million.\n",
    "\n",
    "Furthermore, we analyzed the relationship between sales and reviews from critics and consumers. It turned out that the correlation between scores and sales is generally weak, except for the WiiU platform, where the correlation is about 50%. Additionally, a moderate correlation between sales and critic scores was noticed for the XOne platform.\n",
    "\n",
    "We also analyzed the distribution of games by genre. From the graphs, it became clear that the largest number of games falls under the Action genre, while the Shooter genre accounts for the highest sales volume. Therefore, the Shooter genre can be considered the most profitable.\n",
    "\n",
    "Next, we created user profiles for each region. It was revealed that European and American users prefer the Shooter genre, whereas in Japan, Action and Role-playing genres are dominant, with the Shooter genre being significantly less popular.\n",
    "\n",
    "In Europe, the most popular platform is the PS4, with a substantial lead over XOne. Similarly, in the USA, the PS4 leads, followed by XOne, but the gap between them is not as significant as in Europe. In Japan, an entirely different platform, 3DS, takes the lead, followed by the PS4, and the XOne platform is not represented at all.\n",
    "\n",
    "We also analyzed how the ESRB rating affects sales in each region. It can be concluded that the ESRB rating influences sales in Europe and the USA. The highest sales in EU and NA are associated with the \"Mature\" (M) rating, followed by \"Teen\" (T) and \"Everyone\" (E) ratings. In Japan, the situation is somewhat different, with the highest sales linked to the \"Teen\" (T) rating.\n",
    "\n",
    "Finally, we tested two hypotheses and concluded that:\n",
    "\n",
    "The average user ratings for the Xbox One and PC platforms are the same.\n",
    "\n",
    "The average user ratings for the Action and Sports genres are different.\n",
    "\n",
    "\n",
    "\n",
    "\n"
   ]
  }
 ],
 "metadata": {
  "ExecuteTimeLog": [
   {
    "duration": 418,
    "start_time": "2022-06-20T08:14:46.766Z"
   },
   {
    "duration": 187,
    "start_time": "2022-06-20T08:15:41.101Z"
   },
   {
    "duration": 24,
    "start_time": "2022-06-20T08:15:55.690Z"
   },
   {
    "duration": 3,
    "start_time": "2022-06-20T08:26:27.313Z"
   },
   {
    "duration": 3,
    "start_time": "2022-06-20T10:36:51.028Z"
   },
   {
    "duration": 58,
    "start_time": "2022-06-20T10:42:41.240Z"
   },
   {
    "duration": 7,
    "start_time": "2022-06-20T10:43:33.078Z"
   },
   {
    "duration": 402,
    "start_time": "2022-06-20T10:43:43.921Z"
   },
   {
    "duration": 93,
    "start_time": "2022-06-20T10:43:44.325Z"
   },
   {
    "duration": 26,
    "start_time": "2022-06-20T10:43:44.419Z"
   },
   {
    "duration": 3,
    "start_time": "2022-06-20T10:43:44.447Z"
   },
   {
    "duration": 16,
    "start_time": "2022-06-20T10:43:44.451Z"
   },
   {
    "duration": 3,
    "start_time": "2022-06-20T10:43:56.966Z"
   },
   {
    "duration": 13,
    "start_time": "2022-06-20T10:44:16.676Z"
   },
   {
    "duration": 7,
    "start_time": "2022-06-20T10:45:41.243Z"
   },
   {
    "duration": 5,
    "start_time": "2022-06-20T10:45:56.785Z"
   },
   {
    "duration": 16,
    "start_time": "2022-06-20T10:45:57.368Z"
   },
   {
    "duration": 18,
    "start_time": "2022-06-20T10:56:52.816Z"
   },
   {
    "duration": 64,
    "start_time": "2022-06-20T10:57:03.636Z"
   },
   {
    "duration": 10,
    "start_time": "2022-06-20T10:57:11.651Z"
   },
   {
    "duration": 19,
    "start_time": "2022-06-20T10:58:33.263Z"
   },
   {
    "duration": 3,
    "start_time": "2022-06-20T11:01:04.464Z"
   },
   {
    "duration": 5,
    "start_time": "2022-06-20T11:05:33.197Z"
   },
   {
    "duration": 402,
    "start_time": "2022-06-20T11:05:51.128Z"
   },
   {
    "duration": 54,
    "start_time": "2022-06-20T11:05:51.532Z"
   },
   {
    "duration": 27,
    "start_time": "2022-06-20T11:05:51.587Z"
   },
   {
    "duration": 3,
    "start_time": "2022-06-20T11:05:51.616Z"
   },
   {
    "duration": 22,
    "start_time": "2022-06-20T11:05:51.621Z"
   },
   {
    "duration": 5,
    "start_time": "2022-06-20T11:05:51.644Z"
   },
   {
    "duration": 11,
    "start_time": "2022-06-20T11:05:51.651Z"
   },
   {
    "duration": 5,
    "start_time": "2022-06-20T11:05:51.664Z"
   },
   {
    "duration": 18,
    "start_time": "2022-06-20T11:05:51.671Z"
   },
   {
    "duration": 28,
    "start_time": "2022-06-20T11:07:28.615Z"
   },
   {
    "duration": 9,
    "start_time": "2022-06-20T11:07:40.307Z"
   },
   {
    "duration": 7,
    "start_time": "2022-06-20T11:09:13.087Z"
   },
   {
    "duration": 14,
    "start_time": "2022-06-20T11:10:49.356Z"
   },
   {
    "duration": 12,
    "start_time": "2022-06-20T11:12:28.457Z"
   },
   {
    "duration": 7,
    "start_time": "2022-06-20T11:12:33.746Z"
   },
   {
    "duration": 11,
    "start_time": "2022-06-20T11:12:45.367Z"
   },
   {
    "duration": 16,
    "start_time": "2022-06-20T11:13:44.845Z"
   },
   {
    "duration": 8,
    "start_time": "2022-06-20T11:13:51.020Z"
   },
   {
    "duration": 416,
    "start_time": "2022-06-20T11:14:02.020Z"
   },
   {
    "duration": 53,
    "start_time": "2022-06-20T11:14:02.438Z"
   },
   {
    "duration": 27,
    "start_time": "2022-06-20T11:14:02.492Z"
   },
   {
    "duration": 3,
    "start_time": "2022-06-20T11:14:02.521Z"
   },
   {
    "duration": 18,
    "start_time": "2022-06-20T11:14:02.525Z"
   },
   {
    "duration": 61,
    "start_time": "2022-06-20T11:14:02.545Z"
   },
   {
    "duration": 0,
    "start_time": "2022-06-20T11:14:02.608Z"
   },
   {
    "duration": 0,
    "start_time": "2022-06-20T11:14:02.609Z"
   },
   {
    "duration": 0,
    "start_time": "2022-06-20T11:14:02.610Z"
   },
   {
    "duration": 8,
    "start_time": "2022-06-20T11:14:27.991Z"
   },
   {
    "duration": 4,
    "start_time": "2022-06-20T11:14:32.348Z"
   },
   {
    "duration": 20,
    "start_time": "2022-06-20T11:15:10.034Z"
   },
   {
    "duration": 18,
    "start_time": "2022-06-20T11:18:12.130Z"
   },
   {
    "duration": 13,
    "start_time": "2022-06-20T11:18:52.111Z"
   },
   {
    "duration": 7,
    "start_time": "2022-06-20T11:19:09.988Z"
   },
   {
    "duration": 503,
    "start_time": "2022-06-20T11:19:59.298Z"
   },
   {
    "duration": 139,
    "start_time": "2022-06-20T11:20:12.849Z"
   },
   {
    "duration": 14,
    "start_time": "2022-06-20T11:24:10.114Z"
   },
   {
    "duration": 5,
    "start_time": "2022-06-20T11:24:17.093Z"
   },
   {
    "duration": 14,
    "start_time": "2022-06-20T11:24:17.744Z"
   },
   {
    "duration": 96,
    "start_time": "2022-06-20T11:24:33.507Z"
   },
   {
    "duration": 12,
    "start_time": "2022-06-20T11:25:42.498Z"
   },
   {
    "duration": 12,
    "start_time": "2022-06-20T11:26:10.121Z"
   },
   {
    "duration": 23,
    "start_time": "2022-06-20T11:27:01.270Z"
   },
   {
    "duration": 12,
    "start_time": "2022-06-20T11:27:35.305Z"
   },
   {
    "duration": 12,
    "start_time": "2022-06-20T11:27:37.875Z"
   },
   {
    "duration": 11,
    "start_time": "2022-06-20T11:28:27.069Z"
   },
   {
    "duration": 12,
    "start_time": "2022-06-20T11:28:27.917Z"
   },
   {
    "duration": 14,
    "start_time": "2022-06-20T11:29:09.469Z"
   },
   {
    "duration": 43,
    "start_time": "2022-06-20T11:29:10.353Z"
   },
   {
    "duration": 579,
    "start_time": "2022-06-20T11:31:34.040Z"
   },
   {
    "duration": 72,
    "start_time": "2022-06-20T11:32:15.091Z"
   },
   {
    "duration": 42,
    "start_time": "2022-06-20T11:32:15.794Z"
   },
   {
    "duration": 636,
    "start_time": "2022-06-20T11:32:17.359Z"
   },
   {
    "duration": 14,
    "start_time": "2022-06-20T11:32:30.633Z"
   },
   {
    "duration": 47,
    "start_time": "2022-06-20T11:32:33.351Z"
   },
   {
    "duration": 467,
    "start_time": "2022-06-20T11:32:33.947Z"
   },
   {
    "duration": 32,
    "start_time": "2022-06-20T11:40:57.167Z"
   },
   {
    "duration": 7,
    "start_time": "2022-06-20T11:41:31.806Z"
   },
   {
    "duration": 4,
    "start_time": "2022-06-20T11:41:41.502Z"
   },
   {
    "duration": 49,
    "start_time": "2022-06-20T11:41:42.193Z"
   },
   {
    "duration": 399,
    "start_time": "2022-06-20T11:42:52.727Z"
   },
   {
    "duration": 52,
    "start_time": "2022-06-20T11:42:53.127Z"
   },
   {
    "duration": 3,
    "start_time": "2022-06-20T11:42:53.180Z"
   },
   {
    "duration": 22,
    "start_time": "2022-06-20T11:42:53.185Z"
   },
   {
    "duration": 5,
    "start_time": "2022-06-20T11:42:53.209Z"
   },
   {
    "duration": 29,
    "start_time": "2022-06-20T11:42:53.215Z"
   },
   {
    "duration": 14,
    "start_time": "2022-06-20T11:42:53.245Z"
   },
   {
    "duration": 13,
    "start_time": "2022-06-20T11:42:53.261Z"
   },
   {
    "duration": 25,
    "start_time": "2022-06-20T11:42:53.276Z"
   },
   {
    "duration": 15,
    "start_time": "2022-06-20T11:42:53.303Z"
   },
   {
    "duration": 12,
    "start_time": "2022-06-20T11:42:53.319Z"
   },
   {
    "duration": 375,
    "start_time": "2022-06-20T11:42:53.332Z"
   },
   {
    "duration": 20,
    "start_time": "2022-06-20T11:42:53.709Z"
   },
   {
    "duration": 7,
    "start_time": "2022-06-20T11:42:53.731Z"
   },
   {
    "duration": 52,
    "start_time": "2022-06-20T11:42:53.739Z"
   },
   {
    "duration": 93,
    "start_time": "2022-06-20T11:42:53.793Z"
   },
   {
    "duration": 15,
    "start_time": "2022-06-20T11:51:24.305Z"
   },
   {
    "duration": 6,
    "start_time": "2022-06-20T11:51:25.843Z"
   },
   {
    "duration": 43,
    "start_time": "2022-06-20T11:51:26.599Z"
   },
   {
    "duration": 4,
    "start_time": "2022-06-20T11:56:47.562Z"
   },
   {
    "duration": 41,
    "start_time": "2022-06-20T11:56:48.343Z"
   },
   {
    "duration": 13,
    "start_time": "2022-06-20T11:57:11.229Z"
   },
   {
    "duration": 4,
    "start_time": "2022-06-20T11:57:11.996Z"
   },
   {
    "duration": 45,
    "start_time": "2022-06-20T11:57:12.700Z"
   },
   {
    "duration": 4,
    "start_time": "2022-06-20T11:57:36.748Z"
   },
   {
    "duration": 44,
    "start_time": "2022-06-20T11:57:37.606Z"
   },
   {
    "duration": 44,
    "start_time": "2022-06-20T11:59:24.646Z"
   },
   {
    "duration": 42,
    "start_time": "2022-06-20T11:59:45.021Z"
   },
   {
    "duration": 408,
    "start_time": "2022-06-20T12:00:11.444Z"
   },
   {
    "duration": 53,
    "start_time": "2022-06-20T12:00:11.854Z"
   },
   {
    "duration": 3,
    "start_time": "2022-06-20T12:00:11.908Z"
   },
   {
    "duration": 18,
    "start_time": "2022-06-20T12:00:11.913Z"
   },
   {
    "duration": 4,
    "start_time": "2022-06-20T12:00:11.934Z"
   },
   {
    "duration": 33,
    "start_time": "2022-06-20T12:00:11.939Z"
   },
   {
    "duration": 10,
    "start_time": "2022-06-20T12:00:11.974Z"
   },
   {
    "duration": 6,
    "start_time": "2022-06-20T12:00:11.985Z"
   },
   {
    "duration": 39,
    "start_time": "2022-06-20T12:00:11.992Z"
   },
   {
    "duration": 15,
    "start_time": "2022-06-20T12:00:12.033Z"
   },
   {
    "duration": 7,
    "start_time": "2022-06-20T12:00:12.049Z"
   },
   {
    "duration": 365,
    "start_time": "2022-06-20T12:00:12.057Z"
   },
   {
    "duration": 14,
    "start_time": "2022-06-20T12:00:12.426Z"
   },
   {
    "duration": 4,
    "start_time": "2022-06-20T12:00:12.442Z"
   },
   {
    "duration": 53,
    "start_time": "2022-06-20T12:00:12.447Z"
   },
   {
    "duration": 53,
    "start_time": "2022-06-20T12:00:12.501Z"
   },
   {
    "duration": 80,
    "start_time": "2022-06-20T12:00:12.555Z"
   },
   {
    "duration": 51,
    "start_time": "2022-06-20T12:09:13.771Z"
   },
   {
    "duration": 56,
    "start_time": "2022-06-20T12:09:29.632Z"
   },
   {
    "duration": 31,
    "start_time": "2022-06-20T12:09:52.995Z"
   },
   {
    "duration": 25,
    "start_time": "2022-06-20T12:10:14.136Z"
   },
   {
    "duration": 24,
    "start_time": "2022-06-20T12:11:19.090Z"
   },
   {
    "duration": 27,
    "start_time": "2022-06-20T12:11:28.955Z"
   },
   {
    "duration": 4,
    "start_time": "2022-06-20T12:13:27.753Z"
   },
   {
    "duration": 8,
    "start_time": "2022-06-20T12:13:51.690Z"
   },
   {
    "duration": 9,
    "start_time": "2022-06-20T12:14:02.099Z"
   },
   {
    "duration": 430,
    "start_time": "2022-06-20T12:14:19.926Z"
   },
   {
    "duration": 54,
    "start_time": "2022-06-20T12:14:20.358Z"
   },
   {
    "duration": 4,
    "start_time": "2022-06-20T12:14:20.414Z"
   },
   {
    "duration": 19,
    "start_time": "2022-06-20T12:14:20.419Z"
   },
   {
    "duration": 4,
    "start_time": "2022-06-20T12:14:20.440Z"
   },
   {
    "duration": 30,
    "start_time": "2022-06-20T12:14:20.445Z"
   },
   {
    "duration": 10,
    "start_time": "2022-06-20T12:14:20.476Z"
   },
   {
    "duration": 13,
    "start_time": "2022-06-20T12:14:20.487Z"
   },
   {
    "duration": 36,
    "start_time": "2022-06-20T12:14:20.501Z"
   },
   {
    "duration": 11,
    "start_time": "2022-06-20T12:14:20.539Z"
   },
   {
    "duration": 7,
    "start_time": "2022-06-20T12:14:20.552Z"
   },
   {
    "duration": 375,
    "start_time": "2022-06-20T12:14:20.560Z"
   },
   {
    "duration": 14,
    "start_time": "2022-06-20T12:14:20.937Z"
   },
   {
    "duration": 3,
    "start_time": "2022-06-20T12:14:20.953Z"
   },
   {
    "duration": 48,
    "start_time": "2022-06-20T12:14:20.957Z"
   },
   {
    "duration": 22,
    "start_time": "2022-06-20T12:14:21.006Z"
   },
   {
    "duration": 3,
    "start_time": "2022-06-20T12:14:21.029Z"
   },
   {
    "duration": 70,
    "start_time": "2022-06-20T12:14:21.033Z"
   },
   {
    "duration": 606,
    "start_time": "2022-06-20T12:14:40.668Z"
   },
   {
    "duration": 7,
    "start_time": "2022-06-20T12:15:15.525Z"
   },
   {
    "duration": 23,
    "start_time": "2022-06-20T12:15:20.981Z"
   },
   {
    "duration": 7,
    "start_time": "2022-06-20T12:16:27.516Z"
   },
   {
    "duration": 21,
    "start_time": "2022-06-20T12:18:44.161Z"
   },
   {
    "duration": 3,
    "start_time": "2022-06-20T12:19:01.192Z"
   },
   {
    "duration": 27,
    "start_time": "2022-06-20T12:19:01.936Z"
   },
   {
    "duration": 4,
    "start_time": "2022-06-20T12:19:19.287Z"
   },
   {
    "duration": 21,
    "start_time": "2022-06-20T12:19:19.813Z"
   },
   {
    "duration": 22,
    "start_time": "2022-06-20T12:19:28.275Z"
   },
   {
    "duration": 425,
    "start_time": "2022-06-20T12:19:49.805Z"
   },
   {
    "duration": 56,
    "start_time": "2022-06-20T12:19:50.231Z"
   },
   {
    "duration": 3,
    "start_time": "2022-06-20T12:19:50.289Z"
   },
   {
    "duration": 16,
    "start_time": "2022-06-20T12:19:50.295Z"
   },
   {
    "duration": 4,
    "start_time": "2022-06-20T12:19:50.313Z"
   },
   {
    "duration": 28,
    "start_time": "2022-06-20T12:19:50.318Z"
   },
   {
    "duration": 10,
    "start_time": "2022-06-20T12:19:50.348Z"
   },
   {
    "duration": 13,
    "start_time": "2022-06-20T12:19:50.360Z"
   },
   {
    "duration": 27,
    "start_time": "2022-06-20T12:19:50.375Z"
   },
   {
    "duration": 14,
    "start_time": "2022-06-20T12:19:50.405Z"
   },
   {
    "duration": 11,
    "start_time": "2022-06-20T12:19:50.421Z"
   },
   {
    "duration": 362,
    "start_time": "2022-06-20T12:19:50.434Z"
   },
   {
    "duration": 14,
    "start_time": "2022-06-20T12:19:50.798Z"
   },
   {
    "duration": 14,
    "start_time": "2022-06-20T12:19:50.814Z"
   },
   {
    "duration": 58,
    "start_time": "2022-06-20T12:19:50.830Z"
   },
   {
    "duration": 7,
    "start_time": "2022-06-20T12:19:50.889Z"
   },
   {
    "duration": 26,
    "start_time": "2022-06-20T12:19:50.897Z"
   },
   {
    "duration": 25,
    "start_time": "2022-06-20T12:19:50.925Z"
   },
   {
    "duration": 33,
    "start_time": "2022-06-20T12:19:50.951Z"
   },
   {
    "duration": 738,
    "start_time": "2022-06-20T12:21:05.793Z"
   },
   {
    "duration": 756,
    "start_time": "2022-06-20T12:23:49.488Z"
   },
   {
    "duration": 761,
    "start_time": "2022-06-20T12:23:58.274Z"
   },
   {
    "duration": 770,
    "start_time": "2022-06-20T12:24:11.227Z"
   },
   {
    "duration": 3,
    "start_time": "2022-06-20T12:25:28.617Z"
   },
   {
    "duration": 22,
    "start_time": "2022-06-20T12:25:30.222Z"
   },
   {
    "duration": 719,
    "start_time": "2022-06-20T12:26:02.738Z"
   },
   {
    "duration": 203,
    "start_time": "2022-06-20T12:26:08.947Z"
   },
   {
    "duration": 39,
    "start_time": "2022-06-20T12:28:36.257Z"
   },
   {
    "duration": 21,
    "start_time": "2022-06-20T12:29:58.791Z"
   },
   {
    "duration": 4,
    "start_time": "2022-06-20T12:30:17.296Z"
   },
   {
    "duration": 191,
    "start_time": "2022-06-20T12:30:18.798Z"
   },
   {
    "duration": 9,
    "start_time": "2022-06-20T12:31:54.807Z"
   },
   {
    "duration": 15,
    "start_time": "2022-06-20T12:32:01.396Z"
   },
   {
    "duration": 239,
    "start_time": "2022-06-20T12:32:02.230Z"
   },
   {
    "duration": 13,
    "start_time": "2022-06-20T12:32:41.724Z"
   },
   {
    "duration": 426,
    "start_time": "2022-06-20T12:32:53.704Z"
   },
   {
    "duration": 52,
    "start_time": "2022-06-20T12:32:54.132Z"
   },
   {
    "duration": 3,
    "start_time": "2022-06-20T12:32:54.185Z"
   },
   {
    "duration": 16,
    "start_time": "2022-06-20T12:32:54.190Z"
   },
   {
    "duration": 3,
    "start_time": "2022-06-20T12:32:54.208Z"
   },
   {
    "duration": 24,
    "start_time": "2022-06-20T12:32:54.213Z"
   },
   {
    "duration": 21,
    "start_time": "2022-06-20T12:32:54.238Z"
   },
   {
    "duration": 11,
    "start_time": "2022-06-20T12:32:54.261Z"
   },
   {
    "duration": 21,
    "start_time": "2022-06-20T12:32:54.273Z"
   },
   {
    "duration": 12,
    "start_time": "2022-06-20T12:32:54.296Z"
   },
   {
    "duration": 6,
    "start_time": "2022-06-20T12:32:54.310Z"
   },
   {
    "duration": 405,
    "start_time": "2022-06-20T12:32:54.318Z"
   },
   {
    "duration": 14,
    "start_time": "2022-06-20T12:32:54.725Z"
   },
   {
    "duration": 4,
    "start_time": "2022-06-20T12:32:54.742Z"
   },
   {
    "duration": 51,
    "start_time": "2022-06-20T12:32:54.747Z"
   },
   {
    "duration": 6,
    "start_time": "2022-06-20T12:32:54.800Z"
   },
   {
    "duration": 6,
    "start_time": "2022-06-20T12:32:54.807Z"
   },
   {
    "duration": 4,
    "start_time": "2022-06-20T12:32:54.827Z"
   },
   {
    "duration": 29,
    "start_time": "2022-06-20T12:32:54.832Z"
   },
   {
    "duration": 7,
    "start_time": "2022-06-20T12:32:54.862Z"
   },
   {
    "duration": 214,
    "start_time": "2022-06-20T12:32:54.870Z"
   },
   {
    "duration": 78,
    "start_time": "2022-06-20T12:32:55.086Z"
   },
   {
    "duration": 7,
    "start_time": "2022-06-20T12:33:49.195Z"
   },
   {
    "duration": 3,
    "start_time": "2022-06-20T12:33:55.993Z"
   },
   {
    "duration": 192,
    "start_time": "2022-06-20T12:33:58.329Z"
   },
   {
    "duration": 17,
    "start_time": "2022-06-20T12:34:25.704Z"
   },
   {
    "duration": 13,
    "start_time": "2022-06-20T12:34:34.515Z"
   },
   {
    "duration": 12,
    "start_time": "2022-06-20T12:34:39.223Z"
   },
   {
    "duration": 335,
    "start_time": "2022-06-20T12:34:46.486Z"
   },
   {
    "duration": 51,
    "start_time": "2022-06-20T12:34:46.823Z"
   },
   {
    "duration": 3,
    "start_time": "2022-06-20T12:34:46.875Z"
   },
   {
    "duration": 16,
    "start_time": "2022-06-20T12:34:46.880Z"
   },
   {
    "duration": 4,
    "start_time": "2022-06-20T12:34:46.898Z"
   },
   {
    "duration": 28,
    "start_time": "2022-06-20T12:34:46.903Z"
   },
   {
    "duration": 10,
    "start_time": "2022-06-20T12:34:46.932Z"
   },
   {
    "duration": 6,
    "start_time": "2022-06-20T12:34:46.943Z"
   },
   {
    "duration": 20,
    "start_time": "2022-06-20T12:34:46.950Z"
   },
   {
    "duration": 12,
    "start_time": "2022-06-20T12:34:46.972Z"
   },
   {
    "duration": 6,
    "start_time": "2022-06-20T12:34:46.986Z"
   },
   {
    "duration": 378,
    "start_time": "2022-06-20T12:34:46.994Z"
   },
   {
    "duration": 15,
    "start_time": "2022-06-20T12:34:47.374Z"
   },
   {
    "duration": 4,
    "start_time": "2022-06-20T12:34:47.392Z"
   },
   {
    "duration": 59,
    "start_time": "2022-06-20T12:34:47.397Z"
   },
   {
    "duration": 5,
    "start_time": "2022-06-20T12:34:47.458Z"
   },
   {
    "duration": 6,
    "start_time": "2022-06-20T12:34:47.465Z"
   },
   {
    "duration": 6,
    "start_time": "2022-06-20T12:34:47.473Z"
   },
   {
    "duration": 24,
    "start_time": "2022-06-20T12:34:47.480Z"
   },
   {
    "duration": 7,
    "start_time": "2022-06-20T12:34:47.505Z"
   },
   {
    "duration": 14,
    "start_time": "2022-06-20T12:34:47.513Z"
   },
   {
    "duration": 203,
    "start_time": "2022-06-20T12:34:47.529Z"
   },
   {
    "duration": 66,
    "start_time": "2022-06-20T12:34:47.733Z"
   },
   {
    "duration": 14,
    "start_time": "2022-06-20T12:45:55.789Z"
   },
   {
    "duration": 4,
    "start_time": "2022-06-20T12:46:29.855Z"
   },
   {
    "duration": 42,
    "start_time": "2022-06-20T12:46:52.355Z"
   },
   {
    "duration": 14,
    "start_time": "2022-06-20T12:50:34.459Z"
   },
   {
    "duration": 3,
    "start_time": "2022-06-20T12:50:49.080Z"
   },
   {
    "duration": 16,
    "start_time": "2022-06-20T12:50:51.925Z"
   },
   {
    "duration": 19,
    "start_time": "2022-06-20T12:51:14.089Z"
   },
   {
    "duration": 3,
    "start_time": "2022-06-20T12:51:58.741Z"
   },
   {
    "duration": 12,
    "start_time": "2022-06-20T12:51:59.390Z"
   },
   {
    "duration": 3,
    "start_time": "2022-06-20T12:52:33.398Z"
   },
   {
    "duration": 9,
    "start_time": "2022-06-20T12:52:33.994Z"
   },
   {
    "duration": 3,
    "start_time": "2022-06-20T12:52:44.380Z"
   },
   {
    "duration": 8,
    "start_time": "2022-06-20T12:52:47.590Z"
   },
   {
    "duration": 3,
    "start_time": "2022-06-20T12:52:55.251Z"
   },
   {
    "duration": 9,
    "start_time": "2022-06-20T12:52:56.611Z"
   },
   {
    "duration": 4,
    "start_time": "2022-06-20T12:53:26.086Z"
   },
   {
    "duration": 12,
    "start_time": "2022-06-20T12:53:26.775Z"
   },
   {
    "duration": 416,
    "start_time": "2022-06-20T12:53:33.211Z"
   },
   {
    "duration": 52,
    "start_time": "2022-06-20T12:53:33.631Z"
   },
   {
    "duration": 5,
    "start_time": "2022-06-20T12:53:33.684Z"
   },
   {
    "duration": 19,
    "start_time": "2022-06-20T12:53:33.691Z"
   },
   {
    "duration": 7,
    "start_time": "2022-06-20T12:53:33.712Z"
   },
   {
    "duration": 31,
    "start_time": "2022-06-20T12:53:33.720Z"
   },
   {
    "duration": 17,
    "start_time": "2022-06-20T12:53:33.753Z"
   },
   {
    "duration": 5,
    "start_time": "2022-06-20T12:53:33.772Z"
   },
   {
    "duration": 34,
    "start_time": "2022-06-20T12:53:33.779Z"
   },
   {
    "duration": 17,
    "start_time": "2022-06-20T12:53:33.815Z"
   },
   {
    "duration": 8,
    "start_time": "2022-06-20T12:53:33.833Z"
   },
   {
    "duration": 366,
    "start_time": "2022-06-20T12:53:33.843Z"
   },
   {
    "duration": 27,
    "start_time": "2022-06-20T12:53:34.210Z"
   },
   {
    "duration": 6,
    "start_time": "2022-06-20T12:53:34.239Z"
   },
   {
    "duration": 46,
    "start_time": "2022-06-20T12:53:34.246Z"
   },
   {
    "duration": 9,
    "start_time": "2022-06-20T12:53:34.294Z"
   },
   {
    "duration": 8,
    "start_time": "2022-06-20T12:53:34.305Z"
   },
   {
    "duration": 5,
    "start_time": "2022-06-20T12:53:34.315Z"
   },
   {
    "duration": 26,
    "start_time": "2022-06-20T12:53:34.327Z"
   },
   {
    "duration": 6,
    "start_time": "2022-06-20T12:53:34.354Z"
   },
   {
    "duration": 7,
    "start_time": "2022-06-20T12:53:34.362Z"
   },
   {
    "duration": 212,
    "start_time": "2022-06-20T12:53:34.370Z"
   },
   {
    "duration": 4,
    "start_time": "2022-06-20T12:53:34.584Z"
   },
   {
    "duration": 55,
    "start_time": "2022-06-20T12:53:34.590Z"
   },
   {
    "duration": 6,
    "start_time": "2022-06-20T12:53:34.646Z"
   },
   {
    "duration": 10,
    "start_time": "2022-06-20T12:53:34.654Z"
   },
   {
    "duration": 5,
    "start_time": "2022-06-20T12:53:34.666Z"
   },
   {
    "duration": 6,
    "start_time": "2022-06-20T12:53:34.672Z"
   },
   {
    "duration": 12,
    "start_time": "2022-06-20T12:53:34.679Z"
   },
   {
    "duration": 3,
    "start_time": "2022-06-20T12:53:50.386Z"
   },
   {
    "duration": 75,
    "start_time": "2022-06-20T12:53:50.853Z"
   },
   {
    "duration": 9,
    "start_time": "2022-06-20T12:53:51.394Z"
   },
   {
    "duration": 405,
    "start_time": "2022-06-20T12:53:57.188Z"
   },
   {
    "duration": 53,
    "start_time": "2022-06-20T12:53:57.596Z"
   },
   {
    "duration": 3,
    "start_time": "2022-06-20T12:53:57.651Z"
   },
   {
    "duration": 20,
    "start_time": "2022-06-20T12:53:57.655Z"
   },
   {
    "duration": 4,
    "start_time": "2022-06-20T12:53:57.677Z"
   },
   {
    "duration": 28,
    "start_time": "2022-06-20T12:53:57.683Z"
   },
   {
    "duration": 14,
    "start_time": "2022-06-20T12:53:57.727Z"
   },
   {
    "duration": 6,
    "start_time": "2022-06-20T12:53:57.744Z"
   },
   {
    "duration": 23,
    "start_time": "2022-06-20T12:53:57.751Z"
   },
   {
    "duration": 13,
    "start_time": "2022-06-20T12:53:57.776Z"
   },
   {
    "duration": 6,
    "start_time": "2022-06-20T12:53:57.791Z"
   },
   {
    "duration": 365,
    "start_time": "2022-06-20T12:53:57.828Z"
   },
   {
    "duration": 14,
    "start_time": "2022-06-20T12:53:58.195Z"
   },
   {
    "duration": 17,
    "start_time": "2022-06-20T12:53:58.212Z"
   },
   {
    "duration": 49,
    "start_time": "2022-06-20T12:53:58.231Z"
   },
   {
    "duration": 7,
    "start_time": "2022-06-20T12:53:58.281Z"
   },
   {
    "duration": 8,
    "start_time": "2022-06-20T12:53:58.289Z"
   },
   {
    "duration": 8,
    "start_time": "2022-06-20T12:53:58.299Z"
   },
   {
    "duration": 45,
    "start_time": "2022-06-20T12:53:58.309Z"
   },
   {
    "duration": 4,
    "start_time": "2022-06-20T12:53:58.356Z"
   },
   {
    "duration": 7,
    "start_time": "2022-06-20T12:53:58.362Z"
   },
   {
    "duration": 222,
    "start_time": "2022-06-20T12:53:58.371Z"
   },
   {
    "duration": 3,
    "start_time": "2022-06-20T12:53:58.595Z"
   },
   {
    "duration": 56,
    "start_time": "2022-06-20T12:53:58.600Z"
   },
   {
    "duration": 7,
    "start_time": "2022-06-20T12:53:58.658Z"
   },
   {
    "duration": 9,
    "start_time": "2022-06-20T12:53:58.667Z"
   },
   {
    "duration": 5,
    "start_time": "2022-06-20T12:53:58.678Z"
   },
   {
    "duration": 6,
    "start_time": "2022-06-20T12:53:58.685Z"
   },
   {
    "duration": 12,
    "start_time": "2022-06-20T12:53:58.692Z"
   },
   {
    "duration": 415,
    "start_time": "2022-06-20T12:55:35.693Z"
   },
   {
    "duration": 54,
    "start_time": "2022-06-20T12:55:36.110Z"
   },
   {
    "duration": 3,
    "start_time": "2022-06-20T12:55:36.168Z"
   },
   {
    "duration": 46,
    "start_time": "2022-06-20T12:55:36.173Z"
   },
   {
    "duration": 11,
    "start_time": "2022-06-20T12:55:36.221Z"
   },
   {
    "duration": 39,
    "start_time": "2022-06-20T12:55:36.234Z"
   },
   {
    "duration": 13,
    "start_time": "2022-06-20T12:55:36.275Z"
   },
   {
    "duration": 15,
    "start_time": "2022-06-20T12:55:36.291Z"
   },
   {
    "duration": 35,
    "start_time": "2022-06-20T12:55:36.308Z"
   },
   {
    "duration": 17,
    "start_time": "2022-06-20T12:55:36.348Z"
   },
   {
    "duration": 10,
    "start_time": "2022-06-20T12:55:36.367Z"
   },
   {
    "duration": 420,
    "start_time": "2022-06-20T12:55:36.379Z"
   },
   {
    "duration": 14,
    "start_time": "2022-06-20T12:55:36.800Z"
   },
   {
    "duration": 13,
    "start_time": "2022-06-20T12:55:36.816Z"
   },
   {
    "duration": 43,
    "start_time": "2022-06-20T12:55:36.831Z"
   },
   {
    "duration": 12,
    "start_time": "2022-06-20T12:55:36.876Z"
   },
   {
    "duration": 6,
    "start_time": "2022-06-20T12:55:36.889Z"
   },
   {
    "duration": 8,
    "start_time": "2022-06-20T12:55:36.896Z"
   },
   {
    "duration": 32,
    "start_time": "2022-06-20T12:55:36.905Z"
   },
   {
    "duration": 7,
    "start_time": "2022-06-20T12:55:36.939Z"
   },
   {
    "duration": 8,
    "start_time": "2022-06-20T12:55:36.948Z"
   },
   {
    "duration": 208,
    "start_time": "2022-06-20T12:55:36.957Z"
   },
   {
    "duration": 3,
    "start_time": "2022-06-20T12:55:37.167Z"
   },
   {
    "duration": 59,
    "start_time": "2022-06-20T12:55:37.171Z"
   },
   {
    "duration": 5,
    "start_time": "2022-06-20T12:55:37.231Z"
   },
   {
    "duration": 6,
    "start_time": "2022-06-20T12:55:37.237Z"
   },
   {
    "duration": 5,
    "start_time": "2022-06-20T12:55:37.246Z"
   },
   {
    "duration": 5,
    "start_time": "2022-06-20T12:55:37.254Z"
   },
   {
    "duration": 13,
    "start_time": "2022-06-20T12:55:37.261Z"
   },
   {
    "duration": 177,
    "start_time": "2022-06-20T12:55:37.276Z"
   },
   {
    "duration": 2,
    "start_time": "2022-06-20T13:04:41.951Z"
   },
   {
    "duration": 3,
    "start_time": "2022-06-20T13:04:58.509Z"
   },
   {
    "duration": 3,
    "start_time": "2022-06-20T13:05:10.039Z"
   },
   {
    "duration": 89,
    "start_time": "2022-06-20T13:05:21.680Z"
   },
   {
    "duration": 9,
    "start_time": "2022-06-20T13:05:28.400Z"
   },
   {
    "duration": 133,
    "start_time": "2022-06-20T13:05:37.669Z"
   },
   {
    "duration": 383,
    "start_time": "2022-06-20T13:05:51.892Z"
   },
   {
    "duration": 52,
    "start_time": "2022-06-20T13:05:52.277Z"
   },
   {
    "duration": 3,
    "start_time": "2022-06-20T13:05:52.331Z"
   },
   {
    "duration": 17,
    "start_time": "2022-06-20T13:05:52.335Z"
   },
   {
    "duration": 4,
    "start_time": "2022-06-20T13:05:52.354Z"
   },
   {
    "duration": 26,
    "start_time": "2022-06-20T13:05:52.360Z"
   },
   {
    "duration": 9,
    "start_time": "2022-06-20T13:05:52.387Z"
   },
   {
    "duration": 5,
    "start_time": "2022-06-20T13:05:52.398Z"
   },
   {
    "duration": 21,
    "start_time": "2022-06-20T13:05:52.428Z"
   },
   {
    "duration": 12,
    "start_time": "2022-06-20T13:05:52.451Z"
   },
   {
    "duration": 7,
    "start_time": "2022-06-20T13:05:52.465Z"
   },
   {
    "duration": 384,
    "start_time": "2022-06-20T13:05:52.474Z"
   },
   {
    "duration": 14,
    "start_time": "2022-06-20T13:05:52.860Z"
   },
   {
    "duration": 3,
    "start_time": "2022-06-20T13:05:52.877Z"
   },
   {
    "duration": 64,
    "start_time": "2022-06-20T13:05:52.882Z"
   },
   {
    "duration": 6,
    "start_time": "2022-06-20T13:05:52.947Z"
   },
   {
    "duration": 5,
    "start_time": "2022-06-20T13:05:52.955Z"
   },
   {
    "duration": 11,
    "start_time": "2022-06-20T13:05:52.961Z"
   },
   {
    "duration": 25,
    "start_time": "2022-06-20T13:05:52.974Z"
   },
   {
    "duration": 5,
    "start_time": "2022-06-20T13:05:53.000Z"
   },
   {
    "duration": 9,
    "start_time": "2022-06-20T13:05:53.007Z"
   },
   {
    "duration": 201,
    "start_time": "2022-06-20T13:05:53.017Z"
   },
   {
    "duration": 7,
    "start_time": "2022-06-20T13:05:53.220Z"
   },
   {
    "duration": 52,
    "start_time": "2022-06-20T13:05:53.228Z"
   },
   {
    "duration": 8,
    "start_time": "2022-06-20T13:05:53.282Z"
   },
   {
    "duration": 10,
    "start_time": "2022-06-20T13:05:53.291Z"
   },
   {
    "duration": 5,
    "start_time": "2022-06-20T13:05:53.302Z"
   },
   {
    "duration": 18,
    "start_time": "2022-06-20T13:05:53.309Z"
   },
   {
    "duration": 8,
    "start_time": "2022-06-20T13:05:53.328Z"
   },
   {
    "duration": 158,
    "start_time": "2022-06-20T13:05:53.337Z"
   },
   {
    "duration": 10,
    "start_time": "2022-06-20T13:07:04.205Z"
   },
   {
    "duration": 55,
    "start_time": "2022-06-20T13:07:59.274Z"
   },
   {
    "duration": 3,
    "start_time": "2022-06-20T13:08:09.813Z"
   },
   {
    "duration": 49,
    "start_time": "2022-06-20T13:08:36.749Z"
   },
   {
    "duration": 42,
    "start_time": "2022-06-20T13:09:35.879Z"
   },
   {
    "duration": 107,
    "start_time": "2022-06-20T13:11:07.974Z"
   },
   {
    "duration": 44,
    "start_time": "2022-06-20T13:11:23.371Z"
   },
   {
    "duration": 3,
    "start_time": "2022-06-20T13:11:35.810Z"
   },
   {
    "duration": 62,
    "start_time": "2022-06-20T13:11:53.817Z"
   },
   {
    "duration": 40,
    "start_time": "2022-06-20T13:12:29.592Z"
   },
   {
    "duration": 684,
    "start_time": "2022-06-20T13:12:59.191Z"
   },
   {
    "duration": 3,
    "start_time": "2022-06-20T13:13:08.452Z"
   },
   {
    "duration": 6,
    "start_time": "2022-06-20T13:13:20.332Z"
   },
   {
    "duration": 395,
    "start_time": "2022-06-20T13:13:48.996Z"
   },
   {
    "duration": 55,
    "start_time": "2022-06-20T13:13:49.393Z"
   },
   {
    "duration": 3,
    "start_time": "2022-06-20T13:13:49.450Z"
   },
   {
    "duration": 25,
    "start_time": "2022-06-20T13:13:49.454Z"
   },
   {
    "duration": 27,
    "start_time": "2022-06-20T13:13:49.481Z"
   },
   {
    "duration": 40,
    "start_time": "2022-06-20T13:13:49.510Z"
   },
   {
    "duration": 17,
    "start_time": "2022-06-20T13:13:49.552Z"
   },
   {
    "duration": 27,
    "start_time": "2022-06-20T13:13:49.570Z"
   },
   {
    "duration": 42,
    "start_time": "2022-06-20T13:13:49.598Z"
   },
   {
    "duration": 37,
    "start_time": "2022-06-20T13:13:49.641Z"
   },
   {
    "duration": 19,
    "start_time": "2022-06-20T13:13:49.679Z"
   },
   {
    "duration": 368,
    "start_time": "2022-06-20T13:13:49.699Z"
   },
   {
    "duration": 13,
    "start_time": "2022-06-20T13:13:50.069Z"
   },
   {
    "duration": 24,
    "start_time": "2022-06-20T13:13:50.085Z"
   },
   {
    "duration": 68,
    "start_time": "2022-06-20T13:13:50.110Z"
   },
   {
    "duration": 15,
    "start_time": "2022-06-20T13:13:50.180Z"
   },
   {
    "duration": 28,
    "start_time": "2022-06-20T13:13:50.196Z"
   },
   {
    "duration": 18,
    "start_time": "2022-06-20T13:13:50.225Z"
   },
   {
    "duration": 43,
    "start_time": "2022-06-20T13:13:50.244Z"
   },
   {
    "duration": 22,
    "start_time": "2022-06-20T13:13:50.288Z"
   },
   {
    "duration": 27,
    "start_time": "2022-06-20T13:13:50.311Z"
   },
   {
    "duration": 209,
    "start_time": "2022-06-20T13:13:50.340Z"
   },
   {
    "duration": 4,
    "start_time": "2022-06-20T13:13:50.551Z"
   },
   {
    "duration": 58,
    "start_time": "2022-06-20T13:13:50.557Z"
   },
   {
    "duration": 14,
    "start_time": "2022-06-20T13:13:50.617Z"
   },
   {
    "duration": 55,
    "start_time": "2022-06-20T13:13:50.633Z"
   },
   {
    "duration": 17,
    "start_time": "2022-06-20T13:13:50.689Z"
   },
   {
    "duration": 25,
    "start_time": "2022-06-20T13:13:50.707Z"
   },
   {
    "duration": 21,
    "start_time": "2022-06-20T13:13:50.733Z"
   },
   {
    "duration": 37,
    "start_time": "2022-06-20T13:13:50.755Z"
   },
   {
    "duration": 160,
    "start_time": "2022-06-20T13:13:50.795Z"
   },
   {
    "duration": 3,
    "start_time": "2022-06-20T13:13:50.957Z"
   },
   {
    "duration": 26,
    "start_time": "2022-06-20T13:13:50.962Z"
   },
   {
    "duration": 58,
    "start_time": "2022-06-20T13:13:50.990Z"
   },
   {
    "duration": 41,
    "start_time": "2022-06-20T13:14:03.598Z"
   },
   {
    "duration": 70,
    "start_time": "2022-06-20T13:16:07.583Z"
   },
   {
    "duration": 8,
    "start_time": "2022-06-20T13:16:19.260Z"
   },
   {
    "duration": 22,
    "start_time": "2022-06-20T13:16:24.827Z"
   },
   {
    "duration": 5,
    "start_time": "2022-06-20T13:21:24.056Z"
   },
   {
    "duration": 5,
    "start_time": "2022-06-20T13:21:35.453Z"
   },
   {
    "duration": 3,
    "start_time": "2022-06-20T13:22:06.590Z"
   },
   {
    "duration": 3,
    "start_time": "2022-06-20T13:22:20.928Z"
   },
   {
    "duration": 3,
    "start_time": "2022-06-20T13:22:30.512Z"
   },
   {
    "duration": 3,
    "start_time": "2022-06-20T13:22:33.614Z"
   },
   {
    "duration": 370,
    "start_time": "2022-06-20T13:22:49.363Z"
   },
   {
    "duration": 53,
    "start_time": "2022-06-20T13:22:49.735Z"
   },
   {
    "duration": 3,
    "start_time": "2022-06-20T13:22:49.790Z"
   },
   {
    "duration": 17,
    "start_time": "2022-06-20T13:22:49.794Z"
   },
   {
    "duration": 4,
    "start_time": "2022-06-20T13:22:49.813Z"
   },
   {
    "duration": 30,
    "start_time": "2022-06-20T13:22:49.819Z"
   },
   {
    "duration": 11,
    "start_time": "2022-06-20T13:22:49.850Z"
   },
   {
    "duration": 9,
    "start_time": "2022-06-20T13:22:49.862Z"
   },
   {
    "duration": 24,
    "start_time": "2022-06-20T13:22:49.872Z"
   },
   {
    "duration": 15,
    "start_time": "2022-06-20T13:22:49.898Z"
   },
   {
    "duration": 16,
    "start_time": "2022-06-20T13:22:49.915Z"
   },
   {
    "duration": 360,
    "start_time": "2022-06-20T13:22:49.933Z"
   },
   {
    "duration": 15,
    "start_time": "2022-06-20T13:22:50.295Z"
   },
   {
    "duration": 15,
    "start_time": "2022-06-20T13:22:50.314Z"
   },
   {
    "duration": 46,
    "start_time": "2022-06-20T13:22:50.330Z"
   },
   {
    "duration": 6,
    "start_time": "2022-06-20T13:22:50.378Z"
   },
   {
    "duration": 7,
    "start_time": "2022-06-20T13:22:50.386Z"
   },
   {
    "duration": 6,
    "start_time": "2022-06-20T13:22:50.395Z"
   },
   {
    "duration": 31,
    "start_time": "2022-06-20T13:22:50.403Z"
   },
   {
    "duration": 6,
    "start_time": "2022-06-20T13:22:50.437Z"
   },
   {
    "duration": 5,
    "start_time": "2022-06-20T13:22:50.445Z"
   },
   {
    "duration": 199,
    "start_time": "2022-06-20T13:22:50.451Z"
   },
   {
    "duration": 3,
    "start_time": "2022-06-20T13:22:50.652Z"
   },
   {
    "duration": 44,
    "start_time": "2022-06-20T13:22:50.657Z"
   },
   {
    "duration": 5,
    "start_time": "2022-06-20T13:22:50.703Z"
   },
   {
    "duration": 36,
    "start_time": "2022-06-20T13:22:50.710Z"
   },
   {
    "duration": 8,
    "start_time": "2022-06-20T13:22:50.747Z"
   },
   {
    "duration": 6,
    "start_time": "2022-06-20T13:22:50.756Z"
   },
   {
    "duration": 10,
    "start_time": "2022-06-20T13:22:50.764Z"
   },
   {
    "duration": 14,
    "start_time": "2022-06-20T13:22:50.776Z"
   },
   {
    "duration": 150,
    "start_time": "2022-06-20T13:22:50.792Z"
   },
   {
    "duration": 7,
    "start_time": "2022-06-20T13:22:50.944Z"
   },
   {
    "duration": 17,
    "start_time": "2022-06-20T13:22:50.953Z"
   },
   {
    "duration": 12,
    "start_time": "2022-06-20T13:22:50.971Z"
   },
   {
    "duration": 3,
    "start_time": "2022-06-20T13:25:50.728Z"
   },
   {
    "duration": 3,
    "start_time": "2022-06-20T13:25:51.259Z"
   },
   {
    "duration": 4,
    "start_time": "2022-06-20T13:26:56.396Z"
   },
   {
    "duration": 3,
    "start_time": "2022-06-20T13:27:05.864Z"
   },
   {
    "duration": 23,
    "start_time": "2022-06-20T13:27:32.054Z"
   },
   {
    "duration": 4,
    "start_time": "2022-06-20T13:27:53.848Z"
   },
   {
    "duration": 12,
    "start_time": "2022-06-20T13:29:12.512Z"
   },
   {
    "duration": 47,
    "start_time": "2022-06-20T13:29:41.010Z"
   },
   {
    "duration": 6,
    "start_time": "2022-06-20T13:29:49.170Z"
   },
   {
    "duration": 17,
    "start_time": "2022-06-20T13:30:13.645Z"
   },
   {
    "duration": 7,
    "start_time": "2022-06-20T13:30:47.952Z"
   },
   {
    "duration": 4,
    "start_time": "2022-06-20T13:30:49.225Z"
   },
   {
    "duration": 8,
    "start_time": "2022-06-20T13:30:57.918Z"
   },
   {
    "duration": 13,
    "start_time": "2022-06-20T13:31:04.224Z"
   },
   {
    "duration": 4,
    "start_time": "2022-06-20T13:33:40.637Z"
   },
   {
    "duration": 5,
    "start_time": "2022-06-20T13:33:48.134Z"
   },
   {
    "duration": 5,
    "start_time": "2022-06-20T13:34:03.407Z"
   },
   {
    "duration": 14,
    "start_time": "2022-06-20T13:34:05.213Z"
   },
   {
    "duration": 67,
    "start_time": "2022-06-20T13:39:54.556Z"
   },
   {
    "duration": 12,
    "start_time": "2022-06-20T13:39:54.942Z"
   },
   {
    "duration": 7,
    "start_time": "2022-06-20T13:40:05.802Z"
   },
   {
    "duration": 7,
    "start_time": "2022-06-20T13:40:06.618Z"
   },
   {
    "duration": 96,
    "start_time": "2022-06-20T13:41:13.373Z"
   },
   {
    "duration": 431,
    "start_time": "2022-06-20T13:42:20.315Z"
   },
   {
    "duration": 212,
    "start_time": "2022-06-20T13:42:20.748Z"
   },
   {
    "duration": 53,
    "start_time": "2022-06-20T13:42:20.961Z"
   },
   {
    "duration": 4,
    "start_time": "2022-06-20T13:42:21.016Z"
   },
   {
    "duration": 18,
    "start_time": "2022-06-20T13:42:21.022Z"
   },
   {
    "duration": 5,
    "start_time": "2022-06-20T13:42:21.042Z"
   },
   {
    "duration": 28,
    "start_time": "2022-06-20T13:42:21.048Z"
   },
   {
    "duration": 11,
    "start_time": "2022-06-20T13:42:21.077Z"
   },
   {
    "duration": 19,
    "start_time": "2022-06-20T13:42:21.089Z"
   },
   {
    "duration": 39,
    "start_time": "2022-06-20T13:42:21.110Z"
   },
   {
    "duration": 34,
    "start_time": "2022-06-20T13:42:21.150Z"
   },
   {
    "duration": 31,
    "start_time": "2022-06-20T13:42:21.186Z"
   },
   {
    "duration": 185,
    "start_time": "2022-06-20T13:42:21.218Z"
   },
   {
    "duration": 13,
    "start_time": "2022-06-20T13:42:21.406Z"
   },
   {
    "duration": 25,
    "start_time": "2022-06-20T13:42:21.420Z"
   },
   {
    "duration": 51,
    "start_time": "2022-06-20T13:42:21.447Z"
   },
   {
    "duration": 21,
    "start_time": "2022-06-20T13:42:21.500Z"
   },
   {
    "duration": 17,
    "start_time": "2022-06-20T13:42:21.523Z"
   },
   {
    "duration": 21,
    "start_time": "2022-06-20T13:42:21.542Z"
   },
   {
    "duration": 45,
    "start_time": "2022-06-20T13:42:21.564Z"
   },
   {
    "duration": 45,
    "start_time": "2022-06-20T13:42:21.610Z"
   },
   {
    "duration": 43,
    "start_time": "2022-06-20T13:42:21.656Z"
   },
   {
    "duration": 229,
    "start_time": "2022-06-20T13:42:21.701Z"
   },
   {
    "duration": 3,
    "start_time": "2022-06-20T13:42:21.931Z"
   },
   {
    "duration": 77,
    "start_time": "2022-06-20T13:42:21.936Z"
   },
   {
    "duration": 44,
    "start_time": "2022-06-20T13:42:22.015Z"
   },
   {
    "duration": 49,
    "start_time": "2022-06-20T13:42:22.060Z"
   },
   {
    "duration": 34,
    "start_time": "2022-06-20T13:42:22.111Z"
   },
   {
    "duration": 18,
    "start_time": "2022-06-20T13:42:22.146Z"
   },
   {
    "duration": 31,
    "start_time": "2022-06-20T13:42:22.166Z"
   },
   {
    "duration": 31,
    "start_time": "2022-06-20T13:42:22.199Z"
   },
   {
    "duration": 173,
    "start_time": "2022-06-20T13:42:22.231Z"
   },
   {
    "duration": 7,
    "start_time": "2022-06-20T13:42:22.405Z"
   },
   {
    "duration": 23,
    "start_time": "2022-06-20T13:42:22.413Z"
   },
   {
    "duration": 31,
    "start_time": "2022-06-20T13:42:22.438Z"
   },
   {
    "duration": 130,
    "start_time": "2022-06-20T13:42:22.471Z"
   },
   {
    "duration": 3,
    "start_time": "2022-06-20T13:42:22.602Z"
   },
   {
    "duration": 50,
    "start_time": "2022-06-20T13:45:54.998Z"
   },
   {
    "duration": 13,
    "start_time": "2022-06-20T13:45:59.257Z"
   },
   {
    "duration": 8,
    "start_time": "2022-06-20T13:46:00.010Z"
   },
   {
    "duration": 152,
    "start_time": "2022-06-20T13:46:05.008Z"
   },
   {
    "duration": 107,
    "start_time": "2022-06-20T13:46:53.660Z"
   },
   {
    "duration": 3,
    "start_time": "2022-06-20T13:46:58.449Z"
   },
   {
    "duration": 45,
    "start_time": "2022-06-21T06:39:32.810Z"
   },
   {
    "duration": 6,
    "start_time": "2022-06-21T06:39:55.545Z"
   },
   {
    "duration": 360,
    "start_time": "2022-06-21T06:40:16.478Z"
   },
   {
    "duration": 375,
    "start_time": "2022-06-21T06:40:16.840Z"
   },
   {
    "duration": 98,
    "start_time": "2022-06-21T06:40:17.217Z"
   },
   {
    "duration": 3,
    "start_time": "2022-06-21T06:40:17.317Z"
   },
   {
    "duration": 19,
    "start_time": "2022-06-21T06:40:17.322Z"
   },
   {
    "duration": 4,
    "start_time": "2022-06-21T06:40:17.342Z"
   },
   {
    "duration": 34,
    "start_time": "2022-06-21T06:40:17.348Z"
   },
   {
    "duration": 9,
    "start_time": "2022-06-21T06:40:17.383Z"
   },
   {
    "duration": 8,
    "start_time": "2022-06-21T06:40:17.394Z"
   },
   {
    "duration": 33,
    "start_time": "2022-06-21T06:40:17.403Z"
   },
   {
    "duration": 15,
    "start_time": "2022-06-21T06:40:17.437Z"
   },
   {
    "duration": 8,
    "start_time": "2022-06-21T06:40:17.453Z"
   },
   {
    "duration": 170,
    "start_time": "2022-06-21T06:40:17.462Z"
   },
   {
    "duration": 15,
    "start_time": "2022-06-21T06:40:17.634Z"
   },
   {
    "duration": 4,
    "start_time": "2022-06-21T06:40:17.650Z"
   },
   {
    "duration": 43,
    "start_time": "2022-06-21T06:40:17.656Z"
   },
   {
    "duration": 27,
    "start_time": "2022-06-21T06:40:17.700Z"
   },
   {
    "duration": 3,
    "start_time": "2022-06-21T06:40:17.728Z"
   },
   {
    "duration": 26,
    "start_time": "2022-06-21T06:40:17.733Z"
   },
   {
    "duration": 40,
    "start_time": "2022-06-21T06:40:17.761Z"
   },
   {
    "duration": 5,
    "start_time": "2022-06-21T06:40:17.803Z"
   },
   {
    "duration": 6,
    "start_time": "2022-06-21T06:40:17.810Z"
   },
   {
    "duration": 212,
    "start_time": "2022-06-21T06:40:17.818Z"
   },
   {
    "duration": 3,
    "start_time": "2022-06-21T06:40:18.032Z"
   },
   {
    "duration": 56,
    "start_time": "2022-06-21T06:40:18.036Z"
   },
   {
    "duration": 4,
    "start_time": "2022-06-21T06:40:18.094Z"
   },
   {
    "duration": 27,
    "start_time": "2022-06-21T06:40:18.100Z"
   },
   {
    "duration": 5,
    "start_time": "2022-06-21T06:40:18.129Z"
   },
   {
    "duration": 5,
    "start_time": "2022-06-21T06:40:18.135Z"
   },
   {
    "duration": 8,
    "start_time": "2022-06-21T06:40:18.142Z"
   },
   {
    "duration": 10,
    "start_time": "2022-06-21T06:40:18.151Z"
   },
   {
    "duration": 168,
    "start_time": "2022-06-21T06:40:18.162Z"
   },
   {
    "duration": 6,
    "start_time": "2022-06-21T06:40:18.331Z"
   },
   {
    "duration": 10,
    "start_time": "2022-06-21T06:40:18.338Z"
   },
   {
    "duration": 14,
    "start_time": "2022-06-21T06:40:18.349Z"
   },
   {
    "duration": 125,
    "start_time": "2022-06-21T06:40:18.365Z"
   },
   {
    "duration": 2,
    "start_time": "2022-06-21T06:40:18.492Z"
   },
   {
    "duration": 9,
    "start_time": "2022-06-21T06:40:18.496Z"
   },
   {
    "duration": 22,
    "start_time": "2022-06-21T06:45:50.372Z"
   },
   {
    "duration": 101,
    "start_time": "2022-06-21T06:47:25.940Z"
   },
   {
    "duration": 5,
    "start_time": "2022-06-21T06:47:58.244Z"
   },
   {
    "duration": 72,
    "start_time": "2022-06-21T06:48:10.722Z"
   },
   {
    "duration": 141,
    "start_time": "2022-06-21T06:51:39.278Z"
   },
   {
    "duration": 122,
    "start_time": "2022-06-21T06:51:58.639Z"
   },
   {
    "duration": 11,
    "start_time": "2022-06-21T06:55:27.262Z"
   },
   {
    "duration": 7,
    "start_time": "2022-06-21T07:09:34.918Z"
   },
   {
    "duration": 21,
    "start_time": "2022-06-21T07:09:42.021Z"
   },
   {
    "duration": 150,
    "start_time": "2022-06-21T07:10:01.587Z"
   },
   {
    "duration": 116,
    "start_time": "2022-06-21T07:58:57.048Z"
   },
   {
    "duration": 169,
    "start_time": "2022-06-21T07:59:31.382Z"
   },
   {
    "duration": 17,
    "start_time": "2022-06-21T08:00:15.607Z"
   },
   {
    "duration": 373,
    "start_time": "2022-06-21T08:02:54.769Z"
   },
   {
    "duration": 220,
    "start_time": "2022-06-21T08:02:55.145Z"
   },
   {
    "duration": 54,
    "start_time": "2022-06-21T08:02:55.366Z"
   },
   {
    "duration": 4,
    "start_time": "2022-06-21T08:02:55.421Z"
   },
   {
    "duration": 35,
    "start_time": "2022-06-21T08:02:55.427Z"
   },
   {
    "duration": 5,
    "start_time": "2022-06-21T08:02:55.464Z"
   },
   {
    "duration": 34,
    "start_time": "2022-06-21T08:02:55.471Z"
   },
   {
    "duration": 10,
    "start_time": "2022-06-21T08:02:55.507Z"
   },
   {
    "duration": 5,
    "start_time": "2022-06-21T08:02:55.519Z"
   },
   {
    "duration": 41,
    "start_time": "2022-06-21T08:02:55.526Z"
   },
   {
    "duration": 12,
    "start_time": "2022-06-21T08:02:55.569Z"
   },
   {
    "duration": 7,
    "start_time": "2022-06-21T08:02:55.582Z"
   },
   {
    "duration": 182,
    "start_time": "2022-06-21T08:02:55.591Z"
   },
   {
    "duration": 16,
    "start_time": "2022-06-21T08:02:55.777Z"
   },
   {
    "duration": 5,
    "start_time": "2022-06-21T08:02:55.795Z"
   },
   {
    "duration": 71,
    "start_time": "2022-06-21T08:02:55.801Z"
   },
   {
    "duration": 4,
    "start_time": "2022-06-21T08:02:55.873Z"
   },
   {
    "duration": 13,
    "start_time": "2022-06-21T08:02:55.878Z"
   },
   {
    "duration": 10,
    "start_time": "2022-06-21T08:02:55.893Z"
   },
   {
    "duration": 38,
    "start_time": "2022-06-21T08:02:55.904Z"
   },
   {
    "duration": 11,
    "start_time": "2022-06-21T08:02:55.944Z"
   },
   {
    "duration": 9,
    "start_time": "2022-06-21T08:02:55.957Z"
   },
   {
    "duration": 213,
    "start_time": "2022-06-21T08:02:55.968Z"
   },
   {
    "duration": 4,
    "start_time": "2022-06-21T08:02:56.183Z"
   },
   {
    "duration": 65,
    "start_time": "2022-06-21T08:02:56.189Z"
   },
   {
    "duration": 3,
    "start_time": "2022-06-21T08:02:56.256Z"
   },
   {
    "duration": 24,
    "start_time": "2022-06-21T08:02:56.260Z"
   },
   {
    "duration": 13,
    "start_time": "2022-06-21T08:02:56.285Z"
   },
   {
    "duration": 10,
    "start_time": "2022-06-21T08:02:56.299Z"
   },
   {
    "duration": 13,
    "start_time": "2022-06-21T08:02:56.310Z"
   },
   {
    "duration": 27,
    "start_time": "2022-06-21T08:02:56.325Z"
   },
   {
    "duration": 164,
    "start_time": "2022-06-21T08:02:56.354Z"
   },
   {
    "duration": 21,
    "start_time": "2022-06-21T08:02:56.520Z"
   },
   {
    "duration": 21,
    "start_time": "2022-06-21T08:02:56.543Z"
   },
   {
    "duration": 12,
    "start_time": "2022-06-21T08:02:56.565Z"
   },
   {
    "duration": 121,
    "start_time": "2022-06-21T08:02:56.579Z"
   },
   {
    "duration": 4,
    "start_time": "2022-06-21T08:02:56.702Z"
   },
   {
    "duration": 23,
    "start_time": "2022-06-21T08:02:56.707Z"
   },
   {
    "duration": 17,
    "start_time": "2022-06-21T08:02:56.731Z"
   },
   {
    "duration": 27,
    "start_time": "2022-06-21T08:02:56.750Z"
   },
   {
    "duration": 192,
    "start_time": "2022-06-21T08:02:56.782Z"
   },
   {
    "duration": 205,
    "start_time": "2022-06-21T08:02:56.976Z"
   },
   {
    "duration": 152,
    "start_time": "2022-06-21T08:05:54.341Z"
   },
   {
    "duration": 14,
    "start_time": "2022-06-21T08:06:30.795Z"
   },
   {
    "duration": 119,
    "start_time": "2022-06-21T08:06:39.738Z"
   },
   {
    "duration": 23,
    "start_time": "2022-06-21T08:10:54.609Z"
   },
   {
    "duration": 436,
    "start_time": "2022-06-21T08:11:10.970Z"
   },
   {
    "duration": 318,
    "start_time": "2022-06-21T08:11:11.409Z"
   },
   {
    "duration": 66,
    "start_time": "2022-06-21T08:11:11.729Z"
   },
   {
    "duration": 4,
    "start_time": "2022-06-21T08:11:11.797Z"
   },
   {
    "duration": 42,
    "start_time": "2022-06-21T08:11:11.802Z"
   },
   {
    "duration": 26,
    "start_time": "2022-06-21T08:11:11.846Z"
   },
   {
    "duration": 36,
    "start_time": "2022-06-21T08:11:11.874Z"
   },
   {
    "duration": 18,
    "start_time": "2022-06-21T08:11:11.911Z"
   },
   {
    "duration": 58,
    "start_time": "2022-06-21T08:11:11.931Z"
   },
   {
    "duration": 33,
    "start_time": "2022-06-21T08:11:11.992Z"
   },
   {
    "duration": 50,
    "start_time": "2022-06-21T08:11:12.027Z"
   },
   {
    "duration": 7,
    "start_time": "2022-06-21T08:11:12.079Z"
   },
   {
    "duration": 196,
    "start_time": "2022-06-21T08:11:12.088Z"
   },
   {
    "duration": 13,
    "start_time": "2022-06-21T08:11:12.286Z"
   },
   {
    "duration": 14,
    "start_time": "2022-06-21T08:11:12.301Z"
   },
   {
    "duration": 85,
    "start_time": "2022-06-21T08:11:12.317Z"
   },
   {
    "duration": 6,
    "start_time": "2022-06-21T08:11:12.404Z"
   },
   {
    "duration": 49,
    "start_time": "2022-06-21T08:11:12.412Z"
   },
   {
    "duration": 17,
    "start_time": "2022-06-21T08:11:12.462Z"
   },
   {
    "duration": 35,
    "start_time": "2022-06-21T08:11:12.480Z"
   },
   {
    "duration": 13,
    "start_time": "2022-06-21T08:11:12.516Z"
   },
   {
    "duration": 40,
    "start_time": "2022-06-21T08:11:12.532Z"
   },
   {
    "duration": 270,
    "start_time": "2022-06-21T08:11:12.574Z"
   },
   {
    "duration": 5,
    "start_time": "2022-06-21T08:11:12.846Z"
   },
   {
    "duration": 56,
    "start_time": "2022-06-21T08:11:12.852Z"
   },
   {
    "duration": 7,
    "start_time": "2022-06-21T08:11:12.910Z"
   },
   {
    "duration": 30,
    "start_time": "2022-06-21T08:11:12.919Z"
   },
   {
    "duration": 14,
    "start_time": "2022-06-21T08:11:12.953Z"
   },
   {
    "duration": 5,
    "start_time": "2022-06-21T08:11:12.969Z"
   },
   {
    "duration": 6,
    "start_time": "2022-06-21T08:11:12.976Z"
   },
   {
    "duration": 14,
    "start_time": "2022-06-21T08:11:12.983Z"
   },
   {
    "duration": 190,
    "start_time": "2022-06-21T08:11:12.999Z"
   },
   {
    "duration": 6,
    "start_time": "2022-06-21T08:11:13.191Z"
   },
   {
    "duration": 13,
    "start_time": "2022-06-21T08:11:13.198Z"
   },
   {
    "duration": 21,
    "start_time": "2022-06-21T08:11:13.213Z"
   },
   {
    "duration": 147,
    "start_time": "2022-06-21T08:11:13.235Z"
   },
   {
    "duration": 3,
    "start_time": "2022-06-21T08:11:13.383Z"
   },
   {
    "duration": 12,
    "start_time": "2022-06-21T08:11:13.388Z"
   },
   {
    "duration": 8,
    "start_time": "2022-06-21T08:11:13.402Z"
   },
   {
    "duration": 38,
    "start_time": "2022-06-21T08:11:13.412Z"
   },
   {
    "duration": 260,
    "start_time": "2022-06-21T08:11:13.452Z"
   },
   {
    "duration": 233,
    "start_time": "2022-06-21T08:11:13.714Z"
   },
   {
    "duration": 320,
    "start_time": "2022-06-21T08:11:55.657Z"
   },
   {
    "duration": 14,
    "start_time": "2022-06-21T08:13:31.880Z"
   },
   {
    "duration": 5,
    "start_time": "2022-06-21T08:14:27.873Z"
   },
   {
    "duration": 9,
    "start_time": "2022-06-21T08:23:31.681Z"
   },
   {
    "duration": 8,
    "start_time": "2022-06-21T08:25:48.340Z"
   },
   {
    "duration": 0,
    "start_time": "2022-06-21T08:25:48.349Z"
   },
   {
    "duration": 3,
    "start_time": "2022-06-21T08:26:32.938Z"
   },
   {
    "duration": 9,
    "start_time": "2022-06-21T08:26:37.512Z"
   },
   {
    "duration": 5,
    "start_time": "2022-06-21T08:26:46.644Z"
   },
   {
    "duration": 118,
    "start_time": "2022-06-21T08:27:01.044Z"
   },
   {
    "duration": 11,
    "start_time": "2022-06-21T08:27:27.812Z"
   },
   {
    "duration": 3,
    "start_time": "2022-06-21T08:27:40.982Z"
   },
   {
    "duration": 434,
    "start_time": "2022-06-21T08:30:22.538Z"
   },
   {
    "duration": 230,
    "start_time": "2022-06-21T08:30:22.974Z"
   },
   {
    "duration": 2,
    "start_time": "2022-06-21T08:30:23.206Z"
   },
   {
    "duration": 69,
    "start_time": "2022-06-21T08:30:23.210Z"
   },
   {
    "duration": 4,
    "start_time": "2022-06-21T08:30:23.282Z"
   },
   {
    "duration": 19,
    "start_time": "2022-06-21T08:30:23.287Z"
   },
   {
    "duration": 5,
    "start_time": "2022-06-21T08:30:23.308Z"
   },
   {
    "duration": 21,
    "start_time": "2022-06-21T08:30:23.314Z"
   },
   {
    "duration": 14,
    "start_time": "2022-06-21T08:30:23.337Z"
   },
   {
    "duration": 18,
    "start_time": "2022-06-21T08:30:23.353Z"
   },
   {
    "duration": 4,
    "start_time": "2022-06-21T08:30:23.373Z"
   },
   {
    "duration": 15,
    "start_time": "2022-06-21T08:30:23.379Z"
   },
   {
    "duration": 23,
    "start_time": "2022-06-21T08:30:23.396Z"
   },
   {
    "duration": 52,
    "start_time": "2022-06-21T08:30:23.422Z"
   },
   {
    "duration": 19,
    "start_time": "2022-06-21T08:30:23.475Z"
   },
   {
    "duration": 7,
    "start_time": "2022-06-21T08:30:23.495Z"
   },
   {
    "duration": 195,
    "start_time": "2022-06-21T08:30:23.504Z"
   },
   {
    "duration": 30,
    "start_time": "2022-06-21T08:30:23.701Z"
   },
   {
    "duration": 8,
    "start_time": "2022-06-21T08:30:23.737Z"
   },
   {
    "duration": 55,
    "start_time": "2022-06-21T08:30:23.747Z"
   },
   {
    "duration": 6,
    "start_time": "2022-06-21T08:30:23.804Z"
   },
   {
    "duration": 6,
    "start_time": "2022-06-21T08:30:23.811Z"
   },
   {
    "duration": 6,
    "start_time": "2022-06-21T08:30:23.818Z"
   },
   {
    "duration": 46,
    "start_time": "2022-06-21T08:30:23.826Z"
   },
   {
    "duration": 5,
    "start_time": "2022-06-21T08:30:23.874Z"
   },
   {
    "duration": 7,
    "start_time": "2022-06-21T08:30:23.881Z"
   },
   {
    "duration": 210,
    "start_time": "2022-06-21T08:30:23.889Z"
   },
   {
    "duration": 3,
    "start_time": "2022-06-21T08:30:24.101Z"
   },
   {
    "duration": 62,
    "start_time": "2022-06-21T08:30:24.106Z"
   },
   {
    "duration": 3,
    "start_time": "2022-06-21T08:30:24.169Z"
   },
   {
    "duration": 22,
    "start_time": "2022-06-21T08:30:24.173Z"
   },
   {
    "duration": 6,
    "start_time": "2022-06-21T08:30:24.197Z"
   },
   {
    "duration": 29,
    "start_time": "2022-06-21T08:30:24.204Z"
   },
   {
    "duration": 10,
    "start_time": "2022-06-21T08:30:24.239Z"
   },
   {
    "duration": 16,
    "start_time": "2022-06-21T08:30:24.251Z"
   },
   {
    "duration": 155,
    "start_time": "2022-06-21T08:30:24.268Z"
   },
   {
    "duration": 14,
    "start_time": "2022-06-21T08:30:24.426Z"
   },
   {
    "duration": 37,
    "start_time": "2022-06-21T08:30:24.443Z"
   },
   {
    "duration": 15,
    "start_time": "2022-06-21T08:30:24.482Z"
   },
   {
    "duration": 117,
    "start_time": "2022-06-21T08:30:24.499Z"
   },
   {
    "duration": 8,
    "start_time": "2022-06-21T08:30:24.620Z"
   },
   {
    "duration": 44,
    "start_time": "2022-06-21T08:30:24.635Z"
   },
   {
    "duration": 17,
    "start_time": "2022-06-21T08:30:24.680Z"
   },
   {
    "duration": 31,
    "start_time": "2022-06-21T08:30:24.699Z"
   },
   {
    "duration": 213,
    "start_time": "2022-06-21T08:30:24.735Z"
   },
   {
    "duration": 163,
    "start_time": "2022-06-21T08:30:24.950Z"
   },
   {
    "duration": 5,
    "start_time": "2022-06-21T08:50:00.256Z"
   },
   {
    "duration": 5,
    "start_time": "2022-06-21T08:50:16.538Z"
   },
   {
    "duration": 4,
    "start_time": "2022-06-21T08:58:22.785Z"
   },
   {
    "duration": 4,
    "start_time": "2022-06-21T08:58:38.495Z"
   },
   {
    "duration": 2,
    "start_time": "2022-06-21T08:58:40.756Z"
   },
   {
    "duration": 2,
    "start_time": "2022-06-21T08:58:45.365Z"
   },
   {
    "duration": 23,
    "start_time": "2022-06-21T08:58:59.153Z"
   },
   {
    "duration": 4,
    "start_time": "2022-06-21T09:05:45.206Z"
   },
   {
    "duration": 4,
    "start_time": "2022-06-21T09:06:22.005Z"
   },
   {
    "duration": 72,
    "start_time": "2022-06-21T09:06:37.489Z"
   },
   {
    "duration": 3,
    "start_time": "2022-06-21T09:07:55.938Z"
   },
   {
    "duration": 4,
    "start_time": "2022-06-21T09:08:11.506Z"
   },
   {
    "duration": 420,
    "start_time": "2022-06-21T09:08:42.442Z"
   },
   {
    "duration": 220,
    "start_time": "2022-06-21T09:08:42.864Z"
   },
   {
    "duration": 2,
    "start_time": "2022-06-21T09:08:43.085Z"
   },
   {
    "duration": 80,
    "start_time": "2022-06-21T09:08:43.089Z"
   },
   {
    "duration": 3,
    "start_time": "2022-06-21T09:08:43.171Z"
   },
   {
    "duration": 44,
    "start_time": "2022-06-21T09:08:43.176Z"
   },
   {
    "duration": 23,
    "start_time": "2022-06-21T09:08:43.222Z"
   },
   {
    "duration": 51,
    "start_time": "2022-06-21T09:08:43.247Z"
   },
   {
    "duration": 25,
    "start_time": "2022-06-21T09:08:43.300Z"
   },
   {
    "duration": 42,
    "start_time": "2022-06-21T09:08:43.326Z"
   },
   {
    "duration": 19,
    "start_time": "2022-06-21T09:08:43.370Z"
   },
   {
    "duration": 26,
    "start_time": "2022-06-21T09:08:43.391Z"
   },
   {
    "duration": 47,
    "start_time": "2022-06-21T09:08:43.419Z"
   },
   {
    "duration": 42,
    "start_time": "2022-06-21T09:08:43.469Z"
   },
   {
    "duration": 32,
    "start_time": "2022-06-21T09:08:43.513Z"
   },
   {
    "duration": 7,
    "start_time": "2022-06-21T09:08:43.547Z"
   },
   {
    "duration": 153,
    "start_time": "2022-06-21T09:08:43.556Z"
   },
   {
    "duration": 27,
    "start_time": "2022-06-21T09:08:43.710Z"
   },
   {
    "duration": 5,
    "start_time": "2022-06-21T09:08:43.739Z"
   },
   {
    "duration": 50,
    "start_time": "2022-06-21T09:08:43.746Z"
   },
   {
    "duration": 12,
    "start_time": "2022-06-21T09:08:43.798Z"
   },
   {
    "duration": 29,
    "start_time": "2022-06-21T09:08:43.811Z"
   },
   {
    "duration": 14,
    "start_time": "2022-06-21T09:08:43.841Z"
   },
   {
    "duration": 28,
    "start_time": "2022-06-21T09:08:43.856Z"
   },
   {
    "duration": 9,
    "start_time": "2022-06-21T09:08:43.885Z"
   },
   {
    "duration": 8,
    "start_time": "2022-06-21T09:08:43.895Z"
   },
   {
    "duration": 213,
    "start_time": "2022-06-21T09:08:43.904Z"
   },
   {
    "duration": 3,
    "start_time": "2022-06-21T09:08:44.119Z"
   },
   {
    "duration": 52,
    "start_time": "2022-06-21T09:08:44.132Z"
   },
   {
    "duration": 3,
    "start_time": "2022-06-21T09:08:44.192Z"
   },
   {
    "duration": 25,
    "start_time": "2022-06-21T09:08:44.196Z"
   },
   {
    "duration": 15,
    "start_time": "2022-06-21T09:08:44.222Z"
   },
   {
    "duration": 9,
    "start_time": "2022-06-21T09:08:44.239Z"
   },
   {
    "duration": 6,
    "start_time": "2022-06-21T09:08:44.249Z"
   },
   {
    "duration": 19,
    "start_time": "2022-06-21T09:08:44.256Z"
   },
   {
    "duration": 167,
    "start_time": "2022-06-21T09:08:44.277Z"
   },
   {
    "duration": 8,
    "start_time": "2022-06-21T09:08:44.446Z"
   },
   {
    "duration": 11,
    "start_time": "2022-06-21T09:08:44.456Z"
   },
   {
    "duration": 11,
    "start_time": "2022-06-21T09:08:44.469Z"
   },
   {
    "duration": 124,
    "start_time": "2022-06-21T09:08:44.482Z"
   },
   {
    "duration": 3,
    "start_time": "2022-06-21T09:08:44.610Z"
   },
   {
    "duration": 28,
    "start_time": "2022-06-21T09:08:44.614Z"
   },
   {
    "duration": 14,
    "start_time": "2022-06-21T09:08:44.644Z"
   },
   {
    "duration": 23,
    "start_time": "2022-06-21T09:08:44.660Z"
   },
   {
    "duration": 195,
    "start_time": "2022-06-21T09:08:44.685Z"
   },
   {
    "duration": 163,
    "start_time": "2022-06-21T09:08:44.881Z"
   },
   {
    "duration": 6,
    "start_time": "2022-06-21T09:08:45.046Z"
   },
   {
    "duration": 10,
    "start_time": "2022-06-21T09:08:45.054Z"
   },
   {
    "duration": 10,
    "start_time": "2022-06-21T09:08:45.066Z"
   },
   {
    "duration": 10,
    "start_time": "2022-06-21T09:08:45.078Z"
   },
   {
    "duration": 10,
    "start_time": "2022-06-21T09:08:45.090Z"
   },
   {
    "duration": 8,
    "start_time": "2022-06-21T09:08:45.101Z"
   },
   {
    "duration": 3,
    "start_time": "2022-06-21T09:11:56.211Z"
   },
   {
    "duration": 3,
    "start_time": "2022-06-21T09:14:14.705Z"
   },
   {
    "duration": 5,
    "start_time": "2022-06-21T09:14:25.819Z"
   },
   {
    "duration": 918,
    "start_time": "2022-06-21T18:55:14.970Z"
   },
   {
    "duration": 5,
    "start_time": "2022-06-21T18:55:44.706Z"
   },
   {
    "duration": 962,
    "start_time": "2022-06-21T18:55:59.713Z"
   },
   {
    "duration": 153,
    "start_time": "2022-06-21T18:58:41.008Z"
   },
   {
    "duration": 293,
    "start_time": "2022-06-21T19:08:32.709Z"
   },
   {
    "duration": 278,
    "start_time": "2022-06-21T19:09:46.729Z"
   },
   {
    "duration": 60,
    "start_time": "2022-06-21T19:11:05.983Z"
   },
   {
    "duration": 275,
    "start_time": "2022-06-21T19:11:17.719Z"
   },
   {
    "duration": 268,
    "start_time": "2022-06-21T19:12:05.293Z"
   },
   {
    "duration": 239,
    "start_time": "2022-06-21T19:12:19.793Z"
   },
   {
    "duration": 136,
    "start_time": "2022-06-21T19:12:40.068Z"
   },
   {
    "duration": 246,
    "start_time": "2022-06-21T19:13:10.743Z"
   },
   {
    "duration": 301,
    "start_time": "2022-06-21T19:13:40.566Z"
   },
   {
    "duration": 333,
    "start_time": "2022-06-21T19:14:12.821Z"
   },
   {
    "duration": 291,
    "start_time": "2022-06-21T19:15:17.882Z"
   },
   {
    "duration": 445,
    "start_time": "2022-06-21T19:21:14.200Z"
   },
   {
    "duration": 260,
    "start_time": "2022-06-21T19:21:14.647Z"
   },
   {
    "duration": 3,
    "start_time": "2022-06-21T19:21:14.909Z"
   },
   {
    "duration": 60,
    "start_time": "2022-06-21T19:21:14.913Z"
   },
   {
    "duration": 3,
    "start_time": "2022-06-21T19:21:14.976Z"
   },
   {
    "duration": 18,
    "start_time": "2022-06-21T19:21:14.980Z"
   },
   {
    "duration": 6,
    "start_time": "2022-06-21T19:21:14.999Z"
   },
   {
    "duration": 30,
    "start_time": "2022-06-21T19:21:15.007Z"
   },
   {
    "duration": 32,
    "start_time": "2022-06-21T19:21:15.039Z"
   },
   {
    "duration": 59,
    "start_time": "2022-06-21T19:21:15.073Z"
   },
   {
    "duration": 14,
    "start_time": "2022-06-21T19:21:15.135Z"
   },
   {
    "duration": 23,
    "start_time": "2022-06-21T19:21:15.150Z"
   },
   {
    "duration": 6,
    "start_time": "2022-06-21T19:21:15.175Z"
   },
   {
    "duration": 30,
    "start_time": "2022-06-21T19:21:15.184Z"
   },
   {
    "duration": 18,
    "start_time": "2022-06-21T19:21:15.216Z"
   },
   {
    "duration": 10,
    "start_time": "2022-06-21T19:21:15.237Z"
   },
   {
    "duration": 164,
    "start_time": "2022-06-21T19:21:15.249Z"
   },
   {
    "duration": 31,
    "start_time": "2022-06-21T19:21:15.415Z"
   },
   {
    "duration": 8,
    "start_time": "2022-06-21T19:21:15.448Z"
   },
   {
    "duration": 70,
    "start_time": "2022-06-21T19:21:15.457Z"
   },
   {
    "duration": 6,
    "start_time": "2022-06-21T19:21:15.532Z"
   },
   {
    "duration": 13,
    "start_time": "2022-06-21T19:21:15.540Z"
   },
   {
    "duration": 8,
    "start_time": "2022-06-21T19:21:15.555Z"
   },
   {
    "duration": 27,
    "start_time": "2022-06-21T19:21:15.565Z"
   },
   {
    "duration": 8,
    "start_time": "2022-06-21T19:21:15.594Z"
   },
   {
    "duration": 5,
    "start_time": "2022-06-21T19:21:15.604Z"
   },
   {
    "duration": 253,
    "start_time": "2022-06-21T19:21:15.611Z"
   },
   {
    "duration": 4,
    "start_time": "2022-06-21T19:21:15.866Z"
   },
   {
    "duration": 58,
    "start_time": "2022-06-21T19:21:15.872Z"
   },
   {
    "duration": 18,
    "start_time": "2022-06-21T19:21:15.933Z"
   },
   {
    "duration": 20,
    "start_time": "2022-06-21T19:21:15.953Z"
   },
   {
    "duration": 16,
    "start_time": "2022-06-21T19:21:15.975Z"
   },
   {
    "duration": 7,
    "start_time": "2022-06-21T19:21:15.992Z"
   },
   {
    "duration": 5,
    "start_time": "2022-06-21T19:21:16.001Z"
   },
   {
    "duration": 11,
    "start_time": "2022-06-21T19:21:16.008Z"
   },
   {
    "duration": 176,
    "start_time": "2022-06-21T19:21:16.021Z"
   },
   {
    "duration": 6,
    "start_time": "2022-06-21T19:21:16.199Z"
   },
   {
    "duration": 22,
    "start_time": "2022-06-21T19:21:16.207Z"
   },
   {
    "duration": 11,
    "start_time": "2022-06-21T19:21:16.232Z"
   },
   {
    "duration": 122,
    "start_time": "2022-06-21T19:21:16.245Z"
   },
   {
    "duration": 3,
    "start_time": "2022-06-21T19:21:16.370Z"
   },
   {
    "duration": 11,
    "start_time": "2022-06-21T19:21:16.374Z"
   },
   {
    "duration": 12,
    "start_time": "2022-06-21T19:21:16.387Z"
   },
   {
    "duration": 42,
    "start_time": "2022-06-21T19:21:16.401Z"
   },
   {
    "duration": 218,
    "start_time": "2022-06-21T19:21:16.445Z"
   },
   {
    "duration": 163,
    "start_time": "2022-06-21T19:21:16.664Z"
   },
   {
    "duration": 7,
    "start_time": "2022-06-21T19:21:16.830Z"
   },
   {
    "duration": 27,
    "start_time": "2022-06-21T19:21:16.839Z"
   },
   {
    "duration": 12,
    "start_time": "2022-06-21T19:21:16.868Z"
   },
   {
    "duration": 22,
    "start_time": "2022-06-21T19:21:16.882Z"
   },
   {
    "duration": 276,
    "start_time": "2022-06-21T19:21:16.906Z"
   },
   {
    "duration": 278,
    "start_time": "2022-06-21T19:21:17.184Z"
   },
   {
    "duration": 288,
    "start_time": "2022-06-21T19:21:17.463Z"
   },
   {
    "duration": 305,
    "start_time": "2022-06-21T19:21:17.753Z"
   },
   {
    "duration": 350,
    "start_time": "2022-06-21T19:21:18.060Z"
   },
   {
    "duration": 1174,
    "start_time": "2022-06-21T19:25:36.510Z"
   },
   {
    "duration": 278,
    "start_time": "2022-06-21T19:25:55.541Z"
   },
   {
    "duration": 295,
    "start_time": "2022-06-21T19:29:50.115Z"
   },
   {
    "duration": 277,
    "start_time": "2022-06-21T19:29:59.707Z"
   },
   {
    "duration": 286,
    "start_time": "2022-06-21T19:36:01.676Z"
   },
   {
    "duration": 280,
    "start_time": "2022-06-21T19:36:13.963Z"
   },
   {
    "duration": 366,
    "start_time": "2022-06-21T19:36:27.365Z"
   },
   {
    "duration": 274,
    "start_time": "2022-06-21T19:36:42.644Z"
   },
   {
    "duration": 169,
    "start_time": "2022-06-21T19:41:14.119Z"
   },
   {
    "duration": 7,
    "start_time": "2022-06-21T19:42:43.842Z"
   },
   {
    "duration": 319,
    "start_time": "2022-06-21T19:42:51.491Z"
   },
   {
    "duration": 14,
    "start_time": "2022-06-21T19:43:37.017Z"
   },
   {
    "duration": 163,
    "start_time": "2022-06-21T19:43:50.510Z"
   },
   {
    "duration": 215,
    "start_time": "2022-06-21T19:44:01.410Z"
   },
   {
    "duration": 174,
    "start_time": "2022-06-21T19:44:08.813Z"
   },
   {
    "duration": 11,
    "start_time": "2022-06-21T19:45:23.961Z"
   },
   {
    "duration": 8,
    "start_time": "2022-06-21T19:46:31.100Z"
   },
   {
    "duration": 13,
    "start_time": "2022-06-21T19:46:35.690Z"
   },
   {
    "duration": 19,
    "start_time": "2022-06-21T19:46:57.327Z"
   },
   {
    "duration": 184,
    "start_time": "2022-06-21T19:47:07.525Z"
   },
   {
    "duration": 20,
    "start_time": "2022-06-21T19:50:10.514Z"
   },
   {
    "duration": 4,
    "start_time": "2022-06-21T19:50:19.643Z"
   },
   {
    "duration": 11,
    "start_time": "2022-06-21T19:50:33.143Z"
   },
   {
    "duration": 9,
    "start_time": "2022-06-21T19:50:39.409Z"
   },
   {
    "duration": 5,
    "start_time": "2022-06-21T19:50:44.697Z"
   },
   {
    "duration": 19,
    "start_time": "2022-06-21T19:52:07.616Z"
   },
   {
    "duration": 13,
    "start_time": "2022-06-21T19:52:40.497Z"
   },
   {
    "duration": 166,
    "start_time": "2022-06-21T19:53:44.491Z"
   },
   {
    "duration": 9,
    "start_time": "2022-06-21T19:56:21.999Z"
   },
   {
    "duration": 10,
    "start_time": "2022-06-21T19:56:35.940Z"
   },
   {
    "duration": 8,
    "start_time": "2022-06-21T19:58:47.141Z"
   },
   {
    "duration": 13,
    "start_time": "2022-06-21T19:58:58.192Z"
   },
   {
    "duration": 61,
    "start_time": "2022-06-21T19:59:30.262Z"
   },
   {
    "duration": 8,
    "start_time": "2022-06-21T19:59:39.262Z"
   },
   {
    "duration": 9,
    "start_time": "2022-06-21T19:59:50.760Z"
   },
   {
    "duration": 12,
    "start_time": "2022-06-21T20:00:00.206Z"
   },
   {
    "duration": 7,
    "start_time": "2022-06-21T20:00:41.496Z"
   },
   {
    "duration": 7,
    "start_time": "2022-06-21T20:01:23.508Z"
   },
   {
    "duration": 4,
    "start_time": "2022-06-21T20:02:05.001Z"
   },
   {
    "duration": 7,
    "start_time": "2022-06-21T20:02:21.562Z"
   },
   {
    "duration": 4,
    "start_time": "2022-06-21T20:02:50.006Z"
   },
   {
    "duration": 144,
    "start_time": "2022-06-21T20:03:13.608Z"
   },
   {
    "duration": 280,
    "start_time": "2022-06-21T20:03:26.717Z"
   },
   {
    "duration": 5,
    "start_time": "2022-06-21T20:03:50.114Z"
   },
   {
    "duration": 161,
    "start_time": "2022-06-21T20:04:26.460Z"
   },
   {
    "duration": 53,
    "start_time": "2022-06-22T08:59:31.539Z"
   },
   {
    "duration": 48,
    "start_time": "2022-06-22T09:06:19.489Z"
   },
   {
    "duration": 83,
    "start_time": "2022-06-22T09:07:10.863Z"
   },
   {
    "duration": 71,
    "start_time": "2022-06-22T09:09:07.134Z"
   },
   {
    "duration": 67,
    "start_time": "2022-06-22T09:10:02.678Z"
   },
   {
    "duration": 12,
    "start_time": "2022-06-22T09:10:22.420Z"
   },
   {
    "duration": 386,
    "start_time": "2022-06-22T09:12:05.950Z"
   },
   {
    "duration": 363,
    "start_time": "2022-06-22T09:12:06.338Z"
   },
   {
    "duration": 3,
    "start_time": "2022-06-22T09:12:06.702Z"
   },
   {
    "duration": 101,
    "start_time": "2022-06-22T09:12:06.707Z"
   },
   {
    "duration": 4,
    "start_time": "2022-06-22T09:12:06.810Z"
   },
   {
    "duration": 21,
    "start_time": "2022-06-22T09:12:06.816Z"
   },
   {
    "duration": 5,
    "start_time": "2022-06-22T09:12:06.838Z"
   },
   {
    "duration": 8,
    "start_time": "2022-06-22T09:12:06.844Z"
   },
   {
    "duration": 10,
    "start_time": "2022-06-22T09:12:06.853Z"
   },
   {
    "duration": 24,
    "start_time": "2022-06-22T09:12:06.864Z"
   },
   {
    "duration": 4,
    "start_time": "2022-06-22T09:12:06.889Z"
   },
   {
    "duration": 36,
    "start_time": "2022-06-22T09:12:06.895Z"
   },
   {
    "duration": 8,
    "start_time": "2022-06-22T09:12:06.933Z"
   },
   {
    "duration": 38,
    "start_time": "2022-06-22T09:12:06.945Z"
   },
   {
    "duration": 14,
    "start_time": "2022-06-22T09:12:06.985Z"
   },
   {
    "duration": 19,
    "start_time": "2022-06-22T09:12:07.001Z"
   },
   {
    "duration": 156,
    "start_time": "2022-06-22T09:12:07.022Z"
   },
   {
    "duration": 14,
    "start_time": "2022-06-22T09:12:07.180Z"
   },
   {
    "duration": 13,
    "start_time": "2022-06-22T09:12:07.195Z"
   },
   {
    "duration": 67,
    "start_time": "2022-06-22T09:12:07.210Z"
   },
   {
    "duration": 7,
    "start_time": "2022-06-22T09:12:07.279Z"
   },
   {
    "duration": 14,
    "start_time": "2022-06-22T09:12:07.287Z"
   },
   {
    "duration": 8,
    "start_time": "2022-06-22T09:12:07.303Z"
   },
   {
    "duration": 35,
    "start_time": "2022-06-22T09:12:07.313Z"
   },
   {
    "duration": 5,
    "start_time": "2022-06-22T09:12:07.349Z"
   },
   {
    "duration": 7,
    "start_time": "2022-06-22T09:12:07.356Z"
   },
   {
    "duration": 240,
    "start_time": "2022-06-22T09:12:07.364Z"
   },
   {
    "duration": 6,
    "start_time": "2022-06-22T09:12:07.606Z"
   },
   {
    "duration": 66,
    "start_time": "2022-06-22T09:12:07.614Z"
   },
   {
    "duration": 10,
    "start_time": "2022-06-22T09:12:07.683Z"
   },
   {
    "duration": 21,
    "start_time": "2022-06-22T09:12:07.695Z"
   },
   {
    "duration": 12,
    "start_time": "2022-06-22T09:12:07.718Z"
   },
   {
    "duration": 12,
    "start_time": "2022-06-22T09:12:07.731Z"
   },
   {
    "duration": 7,
    "start_time": "2022-06-22T09:12:07.744Z"
   },
   {
    "duration": 12,
    "start_time": "2022-06-22T09:12:07.752Z"
   },
   {
    "duration": 155,
    "start_time": "2022-06-22T09:12:07.766Z"
   },
   {
    "duration": 8,
    "start_time": "2022-06-22T09:12:07.922Z"
   },
   {
    "duration": 10,
    "start_time": "2022-06-22T09:12:07.931Z"
   },
   {
    "duration": 11,
    "start_time": "2022-06-22T09:12:07.943Z"
   },
   {
    "duration": 121,
    "start_time": "2022-06-22T09:12:07.956Z"
   },
   {
    "duration": 2,
    "start_time": "2022-06-22T09:12:08.081Z"
   },
   {
    "duration": 16,
    "start_time": "2022-06-22T09:12:08.085Z"
   },
   {
    "duration": 11,
    "start_time": "2022-06-22T09:12:08.103Z"
   },
   {
    "duration": 32,
    "start_time": "2022-06-22T09:12:08.115Z"
   },
   {
    "duration": 188,
    "start_time": "2022-06-22T09:12:08.149Z"
   },
   {
    "duration": 157,
    "start_time": "2022-06-22T09:12:08.339Z"
   },
   {
    "duration": 5,
    "start_time": "2022-06-22T09:12:08.498Z"
   },
   {
    "duration": 21,
    "start_time": "2022-06-22T09:12:08.505Z"
   },
   {
    "duration": 3,
    "start_time": "2022-06-22T09:12:08.528Z"
   },
   {
    "duration": 6,
    "start_time": "2022-06-22T09:12:08.533Z"
   },
   {
    "duration": 268,
    "start_time": "2022-06-22T09:12:08.540Z"
   },
   {
    "duration": 264,
    "start_time": "2022-06-22T09:12:08.810Z"
   },
   {
    "duration": 263,
    "start_time": "2022-06-22T09:12:09.075Z"
   },
   {
    "duration": 299,
    "start_time": "2022-06-22T09:12:09.340Z"
   },
   {
    "duration": 332,
    "start_time": "2022-06-22T09:12:09.640Z"
   },
   {
    "duration": 4,
    "start_time": "2022-06-22T09:12:09.974Z"
   },
   {
    "duration": 8,
    "start_time": "2022-06-22T09:12:09.980Z"
   },
   {
    "duration": 180,
    "start_time": "2022-06-22T09:12:09.990Z"
   },
   {
    "duration": 4,
    "start_time": "2022-06-22T09:12:10.172Z"
   },
   {
    "duration": 14,
    "start_time": "2022-06-22T09:12:10.177Z"
   },
   {
    "duration": 167,
    "start_time": "2022-06-22T09:12:10.193Z"
   },
   {
    "duration": 322,
    "start_time": "2022-06-22T09:12:10.362Z"
   },
   {
    "duration": 258,
    "start_time": "2022-06-22T09:13:31.830Z"
   },
   {
    "duration": 271,
    "start_time": "2022-06-22T09:14:18.213Z"
   },
   {
    "duration": 273,
    "start_time": "2022-06-22T09:14:32.448Z"
   },
   {
    "duration": 329,
    "start_time": "2022-06-22T09:16:04.490Z"
   },
   {
    "duration": 256,
    "start_time": "2022-06-22T09:23:52.235Z"
   },
   {
    "duration": 245,
    "start_time": "2022-06-22T09:23:58.247Z"
   },
   {
    "duration": 246,
    "start_time": "2022-06-22T09:24:06.857Z"
   },
   {
    "duration": 264,
    "start_time": "2022-06-22T09:24:13.118Z"
   },
   {
    "duration": 268,
    "start_time": "2022-06-22T09:24:22.422Z"
   },
   {
    "duration": 363,
    "start_time": "2022-06-22T09:26:04.586Z"
   },
   {
    "duration": 256,
    "start_time": "2022-06-22T09:26:13.002Z"
   },
   {
    "duration": 8,
    "start_time": "2022-06-22T09:26:54.294Z"
   },
   {
    "duration": 423,
    "start_time": "2022-06-22T09:30:35.441Z"
   },
   {
    "duration": 234,
    "start_time": "2022-06-22T09:30:35.866Z"
   },
   {
    "duration": 3,
    "start_time": "2022-06-22T09:30:36.101Z"
   },
   {
    "duration": 67,
    "start_time": "2022-06-22T09:30:36.105Z"
   },
   {
    "duration": 4,
    "start_time": "2022-06-22T09:30:36.174Z"
   },
   {
    "duration": 21,
    "start_time": "2022-06-22T09:30:36.179Z"
   },
   {
    "duration": 5,
    "start_time": "2022-06-22T09:30:36.201Z"
   },
   {
    "duration": 13,
    "start_time": "2022-06-22T09:30:36.207Z"
   },
   {
    "duration": 18,
    "start_time": "2022-06-22T09:30:36.222Z"
   },
   {
    "duration": 24,
    "start_time": "2022-06-22T09:30:36.242Z"
   },
   {
    "duration": 5,
    "start_time": "2022-06-22T09:30:36.268Z"
   },
   {
    "duration": 19,
    "start_time": "2022-06-22T09:30:36.274Z"
   },
   {
    "duration": 15,
    "start_time": "2022-06-22T09:30:36.294Z"
   },
   {
    "duration": 27,
    "start_time": "2022-06-22T09:30:36.312Z"
   },
   {
    "duration": 17,
    "start_time": "2022-06-22T09:30:36.341Z"
   },
   {
    "duration": 7,
    "start_time": "2022-06-22T09:30:36.359Z"
   },
   {
    "duration": 174,
    "start_time": "2022-06-22T09:30:36.368Z"
   },
   {
    "duration": 15,
    "start_time": "2022-06-22T09:30:36.544Z"
   },
   {
    "duration": 4,
    "start_time": "2022-06-22T09:30:36.561Z"
   },
   {
    "duration": 62,
    "start_time": "2022-06-22T09:30:36.566Z"
   },
   {
    "duration": 21,
    "start_time": "2022-06-22T09:30:36.632Z"
   },
   {
    "duration": 7,
    "start_time": "2022-06-22T09:30:36.655Z"
   },
   {
    "duration": 5,
    "start_time": "2022-06-22T09:30:36.664Z"
   },
   {
    "duration": 25,
    "start_time": "2022-06-22T09:30:36.671Z"
   },
   {
    "duration": 6,
    "start_time": "2022-06-22T09:30:36.699Z"
   },
   {
    "duration": 7,
    "start_time": "2022-06-22T09:30:36.707Z"
   },
   {
    "duration": 237,
    "start_time": "2022-06-22T09:30:36.716Z"
   },
   {
    "duration": 4,
    "start_time": "2022-06-22T09:30:36.955Z"
   },
   {
    "duration": 46,
    "start_time": "2022-06-22T09:30:36.960Z"
   },
   {
    "duration": 28,
    "start_time": "2022-06-22T09:30:37.008Z"
   },
   {
    "duration": 21,
    "start_time": "2022-06-22T09:30:37.039Z"
   },
   {
    "duration": 6,
    "start_time": "2022-06-22T09:30:37.061Z"
   },
   {
    "duration": 10,
    "start_time": "2022-06-22T09:30:37.069Z"
   },
   {
    "duration": 9,
    "start_time": "2022-06-22T09:30:37.081Z"
   },
   {
    "duration": 11,
    "start_time": "2022-06-22T09:30:37.091Z"
   },
   {
    "duration": 168,
    "start_time": "2022-06-22T09:30:37.104Z"
   },
   {
    "duration": 6,
    "start_time": "2022-06-22T09:30:37.274Z"
   },
   {
    "duration": 13,
    "start_time": "2022-06-22T09:30:37.281Z"
   },
   {
    "duration": 7,
    "start_time": "2022-06-22T09:30:37.295Z"
   },
   {
    "duration": 133,
    "start_time": "2022-06-22T09:30:37.303Z"
   },
   {
    "duration": 2,
    "start_time": "2022-06-22T09:30:37.442Z"
   },
   {
    "duration": 13,
    "start_time": "2022-06-22T09:30:37.446Z"
   },
   {
    "duration": 10,
    "start_time": "2022-06-22T09:30:37.461Z"
   },
   {
    "duration": 48,
    "start_time": "2022-06-22T09:30:37.475Z"
   },
   {
    "duration": 213,
    "start_time": "2022-06-22T09:30:37.525Z"
   },
   {
    "duration": 149,
    "start_time": "2022-06-22T09:30:37.740Z"
   },
   {
    "duration": 5,
    "start_time": "2022-06-22T09:30:37.890Z"
   },
   {
    "duration": 22,
    "start_time": "2022-06-22T09:30:37.897Z"
   },
   {
    "duration": 21,
    "start_time": "2022-06-22T09:30:37.920Z"
   },
   {
    "duration": 27,
    "start_time": "2022-06-22T09:30:37.943Z"
   },
   {
    "duration": 298,
    "start_time": "2022-06-22T09:30:37.972Z"
   },
   {
    "duration": 269,
    "start_time": "2022-06-22T09:30:38.272Z"
   },
   {
    "duration": 279,
    "start_time": "2022-06-22T09:30:38.543Z"
   },
   {
    "duration": 294,
    "start_time": "2022-06-22T09:30:38.833Z"
   },
   {
    "duration": 336,
    "start_time": "2022-06-22T09:30:39.128Z"
   },
   {
    "duration": 4,
    "start_time": "2022-06-22T09:30:39.466Z"
   },
   {
    "duration": 60,
    "start_time": "2022-06-22T09:30:39.472Z"
   },
   {
    "duration": 169,
    "start_time": "2022-06-22T09:30:39.534Z"
   },
   {
    "duration": 5,
    "start_time": "2022-06-22T09:30:39.705Z"
   },
   {
    "duration": 39,
    "start_time": "2022-06-22T09:30:39.711Z"
   },
   {
    "duration": 193,
    "start_time": "2022-06-22T09:30:39.752Z"
   },
   {
    "duration": 266,
    "start_time": "2022-06-22T09:30:39.947Z"
   },
   {
    "duration": 16,
    "start_time": "2022-06-22T09:30:40.215Z"
   },
   {
    "duration": 28,
    "start_time": "2022-06-22T09:30:40.232Z"
   },
   {
    "duration": 70,
    "start_time": "2022-06-22T09:41:09.244Z"
   },
   {
    "duration": 76,
    "start_time": "2022-06-22T09:41:13.578Z"
   },
   {
    "duration": 10,
    "start_time": "2022-06-22T09:41:36.967Z"
   },
   {
    "duration": 9,
    "start_time": "2022-06-22T09:41:59.426Z"
   },
   {
    "duration": 4,
    "start_time": "2022-06-22T09:42:06.310Z"
   },
   {
    "duration": 5,
    "start_time": "2022-06-22T09:42:20.207Z"
   },
   {
    "duration": 6,
    "start_time": "2022-06-22T09:42:43.252Z"
   },
   {
    "duration": 6,
    "start_time": "2022-06-22T09:43:15.602Z"
   },
   {
    "duration": 9,
    "start_time": "2022-06-22T09:45:30.503Z"
   },
   {
    "duration": 51,
    "start_time": "2022-06-22T09:45:57.015Z"
   },
   {
    "duration": 58,
    "start_time": "2022-06-22T09:46:17.862Z"
   },
   {
    "duration": 50,
    "start_time": "2022-06-22T09:46:26.882Z"
   },
   {
    "duration": 46,
    "start_time": "2022-06-22T09:46:37.086Z"
   },
   {
    "duration": 49,
    "start_time": "2022-06-22T09:46:50.496Z"
   },
   {
    "duration": 8,
    "start_time": "2022-06-22T09:46:54.098Z"
   },
   {
    "duration": 8,
    "start_time": "2022-06-22T09:48:51.651Z"
   },
   {
    "duration": 8,
    "start_time": "2022-06-22T09:48:59.102Z"
   },
   {
    "duration": 17,
    "start_time": "2022-06-22T09:49:05.064Z"
   },
   {
    "duration": 39,
    "start_time": "2022-06-22T09:49:29.590Z"
   },
   {
    "duration": 9,
    "start_time": "2022-06-22T09:50:00.350Z"
   },
   {
    "duration": 8,
    "start_time": "2022-06-22T09:50:01.810Z"
   },
   {
    "duration": 4,
    "start_time": "2022-06-22T09:51:09.490Z"
   },
   {
    "duration": 8,
    "start_time": "2022-06-22T09:51:35.423Z"
   },
   {
    "duration": 12,
    "start_time": "2022-06-22T09:51:42.433Z"
   },
   {
    "duration": 9,
    "start_time": "2022-06-22T09:52:30.520Z"
   },
   {
    "duration": 7,
    "start_time": "2022-06-22T09:52:36.351Z"
   },
   {
    "duration": 9,
    "start_time": "2022-06-22T09:53:01.703Z"
   },
   {
    "duration": 12,
    "start_time": "2022-06-22T09:53:29.240Z"
   },
   {
    "duration": 14,
    "start_time": "2022-06-22T09:54:13.906Z"
   },
   {
    "duration": 17,
    "start_time": "2022-06-22T09:54:38.613Z"
   },
   {
    "duration": 18,
    "start_time": "2022-06-22T09:55:40.106Z"
   },
   {
    "duration": 11,
    "start_time": "2022-06-22T09:56:53.536Z"
   },
   {
    "duration": 11,
    "start_time": "2022-06-22T09:57:07.794Z"
   },
   {
    "duration": 11,
    "start_time": "2022-06-22T09:57:58.020Z"
   },
   {
    "duration": 12,
    "start_time": "2022-06-22T09:59:13.310Z"
   },
   {
    "duration": 12,
    "start_time": "2022-06-22T09:59:18.306Z"
   },
   {
    "duration": 8,
    "start_time": "2022-06-22T09:59:28.403Z"
   },
   {
    "duration": 18,
    "start_time": "2022-06-22T09:59:39.983Z"
   },
   {
    "duration": 368,
    "start_time": "2022-06-22T10:00:20.580Z"
   },
   {
    "duration": 222,
    "start_time": "2022-06-22T10:00:20.950Z"
   },
   {
    "duration": 3,
    "start_time": "2022-06-22T10:00:21.174Z"
   },
   {
    "duration": 64,
    "start_time": "2022-06-22T10:00:21.178Z"
   },
   {
    "duration": 4,
    "start_time": "2022-06-22T10:00:21.244Z"
   },
   {
    "duration": 28,
    "start_time": "2022-06-22T10:00:21.249Z"
   },
   {
    "duration": 9,
    "start_time": "2022-06-22T10:00:21.279Z"
   },
   {
    "duration": 13,
    "start_time": "2022-06-22T10:00:21.290Z"
   },
   {
    "duration": 13,
    "start_time": "2022-06-22T10:00:21.304Z"
   },
   {
    "duration": 29,
    "start_time": "2022-06-22T10:00:21.318Z"
   },
   {
    "duration": 13,
    "start_time": "2022-06-22T10:00:21.349Z"
   },
   {
    "duration": 39,
    "start_time": "2022-06-22T10:00:21.363Z"
   },
   {
    "duration": 12,
    "start_time": "2022-06-22T10:00:21.404Z"
   },
   {
    "duration": 39,
    "start_time": "2022-06-22T10:00:21.420Z"
   },
   {
    "duration": 32,
    "start_time": "2022-06-22T10:00:21.462Z"
   },
   {
    "duration": 17,
    "start_time": "2022-06-22T10:00:21.497Z"
   },
   {
    "duration": 192,
    "start_time": "2022-06-22T10:00:21.516Z"
   },
   {
    "duration": 21,
    "start_time": "2022-06-22T10:00:21.709Z"
   },
   {
    "duration": 3,
    "start_time": "2022-06-22T10:00:21.732Z"
   },
   {
    "duration": 53,
    "start_time": "2022-06-22T10:00:21.737Z"
   },
   {
    "duration": 4,
    "start_time": "2022-06-22T10:00:21.792Z"
   },
   {
    "duration": 6,
    "start_time": "2022-06-22T10:00:21.797Z"
   },
   {
    "duration": 22,
    "start_time": "2022-06-22T10:00:21.804Z"
   },
   {
    "duration": 22,
    "start_time": "2022-06-22T10:00:21.828Z"
   },
   {
    "duration": 6,
    "start_time": "2022-06-22T10:00:21.852Z"
   },
   {
    "duration": 10,
    "start_time": "2022-06-22T10:00:21.860Z"
   },
   {
    "duration": 221,
    "start_time": "2022-06-22T10:00:21.871Z"
   },
   {
    "duration": 3,
    "start_time": "2022-06-22T10:00:22.094Z"
   },
   {
    "duration": 51,
    "start_time": "2022-06-22T10:00:22.099Z"
   },
   {
    "duration": 8,
    "start_time": "2022-06-22T10:00:22.152Z"
   },
   {
    "duration": 20,
    "start_time": "2022-06-22T10:00:22.162Z"
   },
   {
    "duration": 7,
    "start_time": "2022-06-22T10:00:22.184Z"
   },
   {
    "duration": 7,
    "start_time": "2022-06-22T10:00:22.193Z"
   },
   {
    "duration": 7,
    "start_time": "2022-06-22T10:00:22.201Z"
   },
   {
    "duration": 26,
    "start_time": "2022-06-22T10:00:22.209Z"
   },
   {
    "duration": 161,
    "start_time": "2022-06-22T10:00:22.236Z"
   },
   {
    "duration": 6,
    "start_time": "2022-06-22T10:00:22.398Z"
   },
   {
    "duration": 20,
    "start_time": "2022-06-22T10:00:22.406Z"
   },
   {
    "duration": 15,
    "start_time": "2022-06-22T10:00:22.428Z"
   },
   {
    "duration": 105,
    "start_time": "2022-06-22T10:00:22.444Z"
   },
   {
    "duration": 2,
    "start_time": "2022-06-22T10:00:22.553Z"
   },
   {
    "duration": 16,
    "start_time": "2022-06-22T10:00:22.557Z"
   },
   {
    "duration": 8,
    "start_time": "2022-06-22T10:00:22.575Z"
   },
   {
    "duration": 39,
    "start_time": "2022-06-22T10:00:22.584Z"
   },
   {
    "duration": 194,
    "start_time": "2022-06-22T10:00:22.625Z"
   },
   {
    "duration": 150,
    "start_time": "2022-06-22T10:00:22.826Z"
   },
   {
    "duration": 4,
    "start_time": "2022-06-22T10:00:22.978Z"
   },
   {
    "duration": 11,
    "start_time": "2022-06-22T10:00:22.984Z"
   },
   {
    "duration": 16,
    "start_time": "2022-06-22T10:00:22.996Z"
   },
   {
    "duration": 18,
    "start_time": "2022-06-22T10:00:23.014Z"
   },
   {
    "duration": 257,
    "start_time": "2022-06-22T10:00:23.033Z"
   },
   {
    "duration": 251,
    "start_time": "2022-06-22T10:00:23.293Z"
   },
   {
    "duration": 268,
    "start_time": "2022-06-22T10:00:23.545Z"
   },
   {
    "duration": 301,
    "start_time": "2022-06-22T10:00:23.815Z"
   },
   {
    "duration": 339,
    "start_time": "2022-06-22T10:00:24.126Z"
   },
   {
    "duration": 3,
    "start_time": "2022-06-22T10:00:24.467Z"
   },
   {
    "duration": 10,
    "start_time": "2022-06-22T10:00:24.473Z"
   },
   {
    "duration": 175,
    "start_time": "2022-06-22T10:00:24.485Z"
   },
   {
    "duration": 5,
    "start_time": "2022-06-22T10:00:24.662Z"
   },
   {
    "duration": 16,
    "start_time": "2022-06-22T10:00:24.673Z"
   },
   {
    "duration": 159,
    "start_time": "2022-06-22T10:00:24.691Z"
   },
   {
    "duration": 254,
    "start_time": "2022-06-22T10:00:24.852Z"
   },
   {
    "duration": 24,
    "start_time": "2022-06-22T10:00:25.108Z"
   },
   {
    "duration": 12,
    "start_time": "2022-06-22T10:00:25.133Z"
   },
   {
    "duration": 9,
    "start_time": "2022-06-22T10:00:25.147Z"
   },
   {
    "duration": 11,
    "start_time": "2022-06-22T10:00:25.158Z"
   },
   {
    "duration": 366,
    "start_time": "2022-06-22T10:01:34.569Z"
   },
   {
    "duration": 215,
    "start_time": "2022-06-22T10:01:34.937Z"
   },
   {
    "duration": 3,
    "start_time": "2022-06-22T10:01:35.153Z"
   },
   {
    "duration": 55,
    "start_time": "2022-06-22T10:01:35.157Z"
   },
   {
    "duration": 3,
    "start_time": "2022-06-22T10:01:35.214Z"
   },
   {
    "duration": 19,
    "start_time": "2022-06-22T10:01:35.218Z"
   },
   {
    "duration": 10,
    "start_time": "2022-06-22T10:01:35.239Z"
   },
   {
    "duration": 18,
    "start_time": "2022-06-22T10:01:35.250Z"
   },
   {
    "duration": 17,
    "start_time": "2022-06-22T10:01:35.269Z"
   },
   {
    "duration": 39,
    "start_time": "2022-06-22T10:01:35.288Z"
   },
   {
    "duration": 15,
    "start_time": "2022-06-22T10:01:35.328Z"
   },
   {
    "duration": 22,
    "start_time": "2022-06-22T10:01:35.345Z"
   },
   {
    "duration": 20,
    "start_time": "2022-06-22T10:01:35.368Z"
   },
   {
    "duration": 31,
    "start_time": "2022-06-22T10:01:35.392Z"
   },
   {
    "duration": 25,
    "start_time": "2022-06-22T10:01:35.425Z"
   },
   {
    "duration": 10,
    "start_time": "2022-06-22T10:01:35.452Z"
   },
   {
    "duration": 145,
    "start_time": "2022-06-22T10:01:35.464Z"
   },
   {
    "duration": 20,
    "start_time": "2022-06-22T10:01:35.611Z"
   },
   {
    "duration": 5,
    "start_time": "2022-06-22T10:01:35.633Z"
   },
   {
    "duration": 53,
    "start_time": "2022-06-22T10:01:35.640Z"
   },
   {
    "duration": 6,
    "start_time": "2022-06-22T10:01:35.695Z"
   },
   {
    "duration": 30,
    "start_time": "2022-06-22T10:01:35.703Z"
   },
   {
    "duration": 6,
    "start_time": "2022-06-22T10:01:35.734Z"
   },
   {
    "duration": 23,
    "start_time": "2022-06-22T10:01:35.742Z"
   },
   {
    "duration": 6,
    "start_time": "2022-06-22T10:01:35.766Z"
   },
   {
    "duration": 11,
    "start_time": "2022-06-22T10:01:35.773Z"
   },
   {
    "duration": 197,
    "start_time": "2022-06-22T10:01:35.786Z"
   },
   {
    "duration": 4,
    "start_time": "2022-06-22T10:01:35.984Z"
   },
   {
    "duration": 57,
    "start_time": "2022-06-22T10:01:35.990Z"
   },
   {
    "duration": 3,
    "start_time": "2022-06-22T10:01:36.048Z"
   },
   {
    "duration": 22,
    "start_time": "2022-06-22T10:01:36.053Z"
   },
   {
    "duration": 18,
    "start_time": "2022-06-22T10:01:36.077Z"
   },
   {
    "duration": 8,
    "start_time": "2022-06-22T10:01:36.097Z"
   },
   {
    "duration": 21,
    "start_time": "2022-06-22T10:01:36.106Z"
   },
   {
    "duration": 25,
    "start_time": "2022-06-22T10:01:36.128Z"
   },
   {
    "duration": 154,
    "start_time": "2022-06-22T10:01:36.154Z"
   },
   {
    "duration": 6,
    "start_time": "2022-06-22T10:01:36.310Z"
   },
   {
    "duration": 18,
    "start_time": "2022-06-22T10:01:36.326Z"
   },
   {
    "duration": 16,
    "start_time": "2022-06-22T10:01:36.346Z"
   },
   {
    "duration": 137,
    "start_time": "2022-06-22T10:01:36.363Z"
   },
   {
    "duration": 3,
    "start_time": "2022-06-22T10:01:36.503Z"
   },
   {
    "duration": 22,
    "start_time": "2022-06-22T10:01:36.508Z"
   },
   {
    "duration": 12,
    "start_time": "2022-06-22T10:01:36.531Z"
   },
   {
    "duration": 34,
    "start_time": "2022-06-22T10:01:36.545Z"
   },
   {
    "duration": 197,
    "start_time": "2022-06-22T10:01:36.581Z"
   },
   {
    "duration": 141,
    "start_time": "2022-06-22T10:01:36.780Z"
   },
   {
    "duration": 5,
    "start_time": "2022-06-22T10:01:36.926Z"
   },
   {
    "duration": 12,
    "start_time": "2022-06-22T10:01:36.932Z"
   },
   {
    "duration": 29,
    "start_time": "2022-06-22T10:01:36.946Z"
   },
   {
    "duration": 22,
    "start_time": "2022-06-22T10:01:36.977Z"
   },
   {
    "duration": 289,
    "start_time": "2022-06-22T10:01:37.001Z"
   },
   {
    "duration": 282,
    "start_time": "2022-06-22T10:01:37.292Z"
   },
   {
    "duration": 260,
    "start_time": "2022-06-22T10:01:37.576Z"
   },
   {
    "duration": 300,
    "start_time": "2022-06-22T10:01:37.837Z"
   },
   {
    "duration": 323,
    "start_time": "2022-06-22T10:01:38.138Z"
   },
   {
    "duration": 3,
    "start_time": "2022-06-22T10:01:38.463Z"
   },
   {
    "duration": 10,
    "start_time": "2022-06-22T10:01:38.468Z"
   },
   {
    "duration": 157,
    "start_time": "2022-06-22T10:01:38.480Z"
   },
   {
    "duration": 4,
    "start_time": "2022-06-22T10:01:38.638Z"
   },
   {
    "duration": 10,
    "start_time": "2022-06-22T10:01:38.644Z"
   },
   {
    "duration": 152,
    "start_time": "2022-06-22T10:01:38.655Z"
   },
   {
    "duration": 260,
    "start_time": "2022-06-22T10:01:38.809Z"
   },
   {
    "duration": 16,
    "start_time": "2022-06-22T10:01:39.070Z"
   },
   {
    "duration": 21,
    "start_time": "2022-06-22T10:04:55.307Z"
   },
   {
    "duration": 21,
    "start_time": "2022-06-22T10:07:33.673Z"
   },
   {
    "duration": 16,
    "start_time": "2022-06-22T10:09:09.811Z"
   },
   {
    "duration": 21,
    "start_time": "2022-06-22T10:15:58.838Z"
   },
   {
    "duration": 100,
    "start_time": "2022-06-22T10:17:18.378Z"
   },
   {
    "duration": 20,
    "start_time": "2022-06-22T10:20:29.673Z"
   },
   {
    "duration": 20,
    "start_time": "2022-06-22T10:20:43.080Z"
   },
   {
    "duration": 28,
    "start_time": "2022-06-22T10:21:04.122Z"
   },
   {
    "duration": 26,
    "start_time": "2022-06-22T10:23:19.049Z"
   },
   {
    "duration": 39,
    "start_time": "2022-06-22T10:23:49.981Z"
   },
   {
    "duration": 35,
    "start_time": "2022-06-22T10:24:16.085Z"
   },
   {
    "duration": 40,
    "start_time": "2022-06-22T10:26:09.744Z"
   },
   {
    "duration": 38,
    "start_time": "2022-06-22T10:26:27.516Z"
   },
   {
    "duration": 38,
    "start_time": "2022-06-22T10:26:54.577Z"
   },
   {
    "duration": 999,
    "start_time": "2022-06-22T10:27:16.991Z"
   },
   {
    "duration": 38,
    "start_time": "2022-06-22T10:27:30.274Z"
   },
   {
    "duration": 45,
    "start_time": "2022-06-22T10:28:25.122Z"
   },
   {
    "duration": 33,
    "start_time": "2022-06-22T10:28:41.345Z"
   },
   {
    "duration": 8,
    "start_time": "2022-06-22T10:30:16.384Z"
   },
   {
    "duration": 17,
    "start_time": "2022-06-22T10:30:30.548Z"
   },
   {
    "duration": 9,
    "start_time": "2022-06-22T10:30:54.295Z"
   },
   {
    "duration": 49,
    "start_time": "2022-06-22T10:31:40.291Z"
   },
   {
    "duration": 819,
    "start_time": "2022-06-22T10:31:46.272Z"
   },
   {
    "duration": 225,
    "start_time": "2022-06-22T10:31:59.482Z"
   },
   {
    "duration": 188,
    "start_time": "2022-06-22T10:32:17.384Z"
   },
   {
    "duration": 16,
    "start_time": "2022-06-22T10:33:24.223Z"
   },
   {
    "duration": 18,
    "start_time": "2022-06-22T10:33:58.350Z"
   },
   {
    "duration": 10,
    "start_time": "2022-06-22T10:35:02.433Z"
   },
   {
    "duration": 7,
    "start_time": "2022-06-22T10:36:33.553Z"
   },
   {
    "duration": 4,
    "start_time": "2022-06-22T10:36:49.289Z"
   },
   {
    "duration": 202,
    "start_time": "2022-06-22T10:36:52.544Z"
   },
   {
    "duration": 176,
    "start_time": "2022-06-22T10:37:00.670Z"
   },
   {
    "duration": 7,
    "start_time": "2022-06-22T10:37:43.807Z"
   },
   {
    "duration": 4,
    "start_time": "2022-06-22T10:37:46.050Z"
   },
   {
    "duration": 174,
    "start_time": "2022-06-22T10:37:46.840Z"
   },
   {
    "duration": 936,
    "start_time": "2022-06-22T10:38:00.014Z"
   },
   {
    "duration": 435,
    "start_time": "2022-06-22T10:38:07.304Z"
   },
   {
    "duration": 220,
    "start_time": "2022-06-22T10:38:07.741Z"
   },
   {
    "duration": 3,
    "start_time": "2022-06-22T10:38:07.962Z"
   },
   {
    "duration": 53,
    "start_time": "2022-06-22T10:38:07.968Z"
   },
   {
    "duration": 4,
    "start_time": "2022-06-22T10:38:08.023Z"
   },
   {
    "duration": 26,
    "start_time": "2022-06-22T10:38:08.028Z"
   },
   {
    "duration": 15,
    "start_time": "2022-06-22T10:38:08.056Z"
   },
   {
    "duration": 34,
    "start_time": "2022-06-22T10:38:08.072Z"
   },
   {
    "duration": 32,
    "start_time": "2022-06-22T10:38:08.107Z"
   },
   {
    "duration": 32,
    "start_time": "2022-06-22T10:38:08.141Z"
   },
   {
    "duration": 8,
    "start_time": "2022-06-22T10:38:08.175Z"
   },
   {
    "duration": 26,
    "start_time": "2022-06-22T10:38:08.185Z"
   },
   {
    "duration": 27,
    "start_time": "2022-06-22T10:38:08.213Z"
   },
   {
    "duration": 37,
    "start_time": "2022-06-22T10:38:08.241Z"
   },
   {
    "duration": 27,
    "start_time": "2022-06-22T10:38:08.280Z"
   },
   {
    "duration": 16,
    "start_time": "2022-06-22T10:38:08.309Z"
   },
   {
    "duration": 166,
    "start_time": "2022-06-22T10:38:08.326Z"
   },
   {
    "duration": 14,
    "start_time": "2022-06-22T10:38:08.494Z"
   },
   {
    "duration": 15,
    "start_time": "2022-06-22T10:38:08.509Z"
   },
   {
    "duration": 61,
    "start_time": "2022-06-22T10:38:08.526Z"
   },
   {
    "duration": 15,
    "start_time": "2022-06-22T10:38:08.589Z"
   },
   {
    "duration": 21,
    "start_time": "2022-06-22T10:38:08.605Z"
   },
   {
    "duration": 24,
    "start_time": "2022-06-22T10:38:08.628Z"
   },
   {
    "duration": 37,
    "start_time": "2022-06-22T10:38:08.654Z"
   },
   {
    "duration": 20,
    "start_time": "2022-06-22T10:38:08.692Z"
   },
   {
    "duration": 27,
    "start_time": "2022-06-22T10:38:08.713Z"
   },
   {
    "duration": 208,
    "start_time": "2022-06-22T10:38:08.741Z"
   },
   {
    "duration": 4,
    "start_time": "2022-06-22T10:38:08.953Z"
   },
   {
    "duration": 69,
    "start_time": "2022-06-22T10:38:08.958Z"
   },
   {
    "duration": 20,
    "start_time": "2022-06-22T10:38:09.029Z"
   },
   {
    "duration": 44,
    "start_time": "2022-06-22T10:38:09.051Z"
   },
   {
    "duration": 17,
    "start_time": "2022-06-22T10:38:09.097Z"
   },
   {
    "duration": 21,
    "start_time": "2022-06-22T10:38:09.115Z"
   },
   {
    "duration": 34,
    "start_time": "2022-06-22T10:38:09.138Z"
   },
   {
    "duration": 44,
    "start_time": "2022-06-22T10:38:09.173Z"
   },
   {
    "duration": 159,
    "start_time": "2022-06-22T10:38:09.218Z"
   },
   {
    "duration": 7,
    "start_time": "2022-06-22T10:38:09.379Z"
   },
   {
    "duration": 10,
    "start_time": "2022-06-22T10:38:09.387Z"
   },
   {
    "duration": 11,
    "start_time": "2022-06-22T10:38:09.399Z"
   },
   {
    "duration": 123,
    "start_time": "2022-06-22T10:38:09.411Z"
   },
   {
    "duration": 2,
    "start_time": "2022-06-22T10:38:09.536Z"
   },
   {
    "duration": 16,
    "start_time": "2022-06-22T10:38:09.540Z"
   },
   {
    "duration": 7,
    "start_time": "2022-06-22T10:38:09.558Z"
   },
   {
    "duration": 22,
    "start_time": "2022-06-22T10:38:09.566Z"
   },
   {
    "duration": 203,
    "start_time": "2022-06-22T10:38:09.590Z"
   },
   {
    "duration": 142,
    "start_time": "2022-06-22T10:38:09.794Z"
   },
   {
    "duration": 5,
    "start_time": "2022-06-22T10:38:09.938Z"
   },
   {
    "duration": 8,
    "start_time": "2022-06-22T10:38:09.945Z"
   },
   {
    "duration": 6,
    "start_time": "2022-06-22T10:38:09.955Z"
   },
   {
    "duration": 8,
    "start_time": "2022-06-22T10:38:09.962Z"
   },
   {
    "duration": 266,
    "start_time": "2022-06-22T10:38:09.971Z"
   },
   {
    "duration": 241,
    "start_time": "2022-06-22T10:38:10.239Z"
   },
   {
    "duration": 267,
    "start_time": "2022-06-22T10:38:10.482Z"
   },
   {
    "duration": 294,
    "start_time": "2022-06-22T10:38:10.750Z"
   },
   {
    "duration": 325,
    "start_time": "2022-06-22T10:38:11.046Z"
   },
   {
    "duration": 4,
    "start_time": "2022-06-22T10:38:11.372Z"
   },
   {
    "duration": 13,
    "start_time": "2022-06-22T10:38:11.377Z"
   },
   {
    "duration": 196,
    "start_time": "2022-06-22T10:38:11.391Z"
   },
   {
    "duration": 5,
    "start_time": "2022-06-22T10:38:11.590Z"
   },
   {
    "duration": 14,
    "start_time": "2022-06-22T10:38:11.598Z"
   },
   {
    "duration": 166,
    "start_time": "2022-06-22T10:38:11.626Z"
   },
   {
    "duration": 266,
    "start_time": "2022-06-22T10:38:11.794Z"
   },
   {
    "duration": 893,
    "start_time": "2022-06-22T10:38:12.062Z"
   },
   {
    "duration": 0,
    "start_time": "2022-06-22T10:38:12.957Z"
   },
   {
    "duration": 0,
    "start_time": "2022-06-22T10:38:12.958Z"
   },
   {
    "duration": 6,
    "start_time": "2022-06-22T10:39:01.153Z"
   },
   {
    "duration": 7,
    "start_time": "2022-06-22T10:39:19.475Z"
   },
   {
    "duration": 779,
    "start_time": "2022-06-22T10:39:26.503Z"
   },
   {
    "duration": 9,
    "start_time": "2022-06-22T10:40:39.330Z"
   },
   {
    "duration": 20,
    "start_time": "2022-06-22T10:40:44.561Z"
   },
   {
    "duration": 15,
    "start_time": "2022-06-22T10:40:52.419Z"
   },
   {
    "duration": 4,
    "start_time": "2022-06-22T10:40:56.573Z"
   },
   {
    "duration": 193,
    "start_time": "2022-06-22T10:40:57.577Z"
   },
   {
    "duration": 730,
    "start_time": "2022-06-22T10:41:42.622Z"
   },
   {
    "duration": 188,
    "start_time": "2022-06-22T10:42:07.798Z"
   },
   {
    "duration": 3,
    "start_time": "2022-06-22T10:43:21.102Z"
   },
   {
    "duration": 207,
    "start_time": "2022-06-22T10:43:21.108Z"
   },
   {
    "duration": 9,
    "start_time": "2022-06-22T10:43:52.753Z"
   },
   {
    "duration": 617,
    "start_time": "2022-06-22T10:44:12.876Z"
   },
   {
    "duration": 24,
    "start_time": "2022-06-22T10:44:51.286Z"
   },
   {
    "duration": 21,
    "start_time": "2022-06-22T10:45:07.499Z"
   },
   {
    "duration": 18,
    "start_time": "2022-06-22T10:45:13.614Z"
   },
   {
    "duration": 693,
    "start_time": "2022-06-22T10:45:18.236Z"
   },
   {
    "duration": 599,
    "start_time": "2022-06-22T10:45:40.805Z"
   },
   {
    "duration": 622,
    "start_time": "2022-06-22T10:45:49.710Z"
   },
   {
    "duration": 581,
    "start_time": "2022-06-22T10:47:05.042Z"
   },
   {
    "duration": 697,
    "start_time": "2022-06-22T10:48:35.125Z"
   },
   {
    "duration": 690,
    "start_time": "2022-06-22T10:48:51.412Z"
   },
   {
    "duration": 775,
    "start_time": "2022-06-22T10:49:02.709Z"
   },
   {
    "duration": 631,
    "start_time": "2022-06-22T10:50:13.241Z"
   },
   {
    "duration": 699,
    "start_time": "2022-06-22T10:51:49.379Z"
   },
   {
    "duration": 625,
    "start_time": "2022-06-22T10:54:28.147Z"
   },
   {
    "duration": 14,
    "start_time": "2022-06-22T10:55:18.181Z"
   },
   {
    "duration": 44,
    "start_time": "2022-06-22T10:57:57.034Z"
   },
   {
    "duration": 944,
    "start_time": "2022-06-22T10:58:11.746Z"
   },
   {
    "duration": 15,
    "start_time": "2022-06-22T10:58:34.198Z"
   },
   {
    "duration": 4,
    "start_time": "2022-06-22T10:58:34.890Z"
   },
   {
    "duration": 1070,
    "start_time": "2022-06-22T10:58:35.642Z"
   },
   {
    "duration": 1046,
    "start_time": "2022-06-22T10:58:40.012Z"
   },
   {
    "duration": 16,
    "start_time": "2022-06-22T10:59:47.803Z"
   },
   {
    "duration": 4,
    "start_time": "2022-06-22T10:59:52.108Z"
   },
   {
    "duration": 371,
    "start_time": "2022-06-22T10:59:53.647Z"
   },
   {
    "duration": 817,
    "start_time": "2022-06-22T11:01:11.298Z"
   },
   {
    "duration": 256,
    "start_time": "2022-06-22T11:01:44.603Z"
   },
   {
    "duration": 216,
    "start_time": "2022-06-22T11:04:54.461Z"
   },
   {
    "duration": 15,
    "start_time": "2022-06-22T11:05:15.824Z"
   },
   {
    "duration": 265,
    "start_time": "2022-06-22T11:05:25.057Z"
   },
   {
    "duration": 16,
    "start_time": "2022-06-22T11:05:43.162Z"
   },
   {
    "duration": 22,
    "start_time": "2022-06-22T11:05:44.294Z"
   },
   {
    "duration": 8,
    "start_time": "2022-06-22T11:06:03.241Z"
   },
   {
    "duration": 4,
    "start_time": "2022-06-22T11:06:59.951Z"
   },
   {
    "duration": 636,
    "start_time": "2022-06-22T11:07:05.855Z"
   },
   {
    "duration": 630,
    "start_time": "2022-06-22T11:07:14.705Z"
   },
   {
    "duration": 742,
    "start_time": "2022-06-22T11:07:21.679Z"
   },
   {
    "duration": 644,
    "start_time": "2022-06-22T11:07:31.946Z"
   },
   {
    "duration": 20,
    "start_time": "2022-06-22T11:08:21.504Z"
   },
   {
    "duration": 12,
    "start_time": "2022-06-22T11:08:22.292Z"
   },
   {
    "duration": 643,
    "start_time": "2022-06-22T11:08:24.287Z"
   },
   {
    "duration": 4,
    "start_time": "2022-06-22T11:08:44.624Z"
   },
   {
    "duration": 632,
    "start_time": "2022-06-22T11:08:47.742Z"
   },
   {
    "duration": 591,
    "start_time": "2022-06-22T11:09:05.856Z"
   },
   {
    "duration": 705,
    "start_time": "2022-06-22T11:09:14.585Z"
   },
   {
    "duration": 641,
    "start_time": "2022-06-22T11:09:27.408Z"
   },
   {
    "duration": 56,
    "start_time": "2022-06-22T11:10:01.631Z"
   },
   {
    "duration": 659,
    "start_time": "2022-06-22T11:10:08.320Z"
   },
   {
    "duration": 669,
    "start_time": "2022-06-22T11:10:20.505Z"
   },
   {
    "duration": 693,
    "start_time": "2022-06-22T11:10:33.057Z"
   },
   {
    "duration": 711,
    "start_time": "2022-06-22T11:10:46.481Z"
   },
   {
    "duration": 4,
    "start_time": "2022-06-22T11:12:15.983Z"
   },
   {
    "duration": 9,
    "start_time": "2022-06-22T11:17:14.976Z"
   },
   {
    "duration": 4,
    "start_time": "2022-06-22T11:17:28.649Z"
   },
   {
    "duration": 5,
    "start_time": "2022-06-22T11:17:48.078Z"
   },
   {
    "duration": 5,
    "start_time": "2022-06-22T11:18:30.424Z"
   },
   {
    "duration": 10,
    "start_time": "2022-06-22T11:18:31.711Z"
   },
   {
    "duration": 5,
    "start_time": "2022-06-22T11:19:32.829Z"
   },
   {
    "duration": 5,
    "start_time": "2022-06-22T11:19:37.821Z"
   },
   {
    "duration": 6,
    "start_time": "2022-06-22T11:21:59.582Z"
   },
   {
    "duration": 6,
    "start_time": "2022-06-22T11:22:20.891Z"
   },
   {
    "duration": 6,
    "start_time": "2022-06-22T11:22:32.949Z"
   },
   {
    "duration": 7,
    "start_time": "2022-06-22T11:22:51.252Z"
   },
   {
    "duration": 5,
    "start_time": "2022-06-22T11:22:56.213Z"
   },
   {
    "duration": 440,
    "start_time": "2022-06-22T11:23:11.127Z"
   },
   {
    "duration": 233,
    "start_time": "2022-06-22T11:23:11.570Z"
   },
   {
    "duration": 4,
    "start_time": "2022-06-22T11:23:11.805Z"
   },
   {
    "duration": 61,
    "start_time": "2022-06-22T11:23:11.810Z"
   },
   {
    "duration": 3,
    "start_time": "2022-06-22T11:23:11.873Z"
   },
   {
    "duration": 22,
    "start_time": "2022-06-22T11:23:11.878Z"
   },
   {
    "duration": 6,
    "start_time": "2022-06-22T11:23:11.901Z"
   },
   {
    "duration": 17,
    "start_time": "2022-06-22T11:23:11.908Z"
   },
   {
    "duration": 18,
    "start_time": "2022-06-22T11:23:11.928Z"
   },
   {
    "duration": 30,
    "start_time": "2022-06-22T11:23:11.950Z"
   },
   {
    "duration": 5,
    "start_time": "2022-06-22T11:23:11.982Z"
   },
   {
    "duration": 14,
    "start_time": "2022-06-22T11:23:11.988Z"
   },
   {
    "duration": 23,
    "start_time": "2022-06-22T11:23:12.004Z"
   },
   {
    "duration": 27,
    "start_time": "2022-06-22T11:23:12.029Z"
   },
   {
    "duration": 16,
    "start_time": "2022-06-22T11:23:12.057Z"
   },
   {
    "duration": 12,
    "start_time": "2022-06-22T11:23:12.075Z"
   },
   {
    "duration": 163,
    "start_time": "2022-06-22T11:23:12.088Z"
   },
   {
    "duration": 15,
    "start_time": "2022-06-22T11:23:12.252Z"
   },
   {
    "duration": 4,
    "start_time": "2022-06-22T11:23:12.269Z"
   },
   {
    "duration": 68,
    "start_time": "2022-06-22T11:23:12.275Z"
   },
   {
    "duration": 7,
    "start_time": "2022-06-22T11:23:12.345Z"
   },
   {
    "duration": 13,
    "start_time": "2022-06-22T11:23:12.354Z"
   },
   {
    "duration": 7,
    "start_time": "2022-06-22T11:23:12.368Z"
   },
   {
    "duration": 36,
    "start_time": "2022-06-22T11:23:12.376Z"
   },
   {
    "duration": 9,
    "start_time": "2022-06-22T11:23:12.414Z"
   },
   {
    "duration": 4,
    "start_time": "2022-06-22T11:23:12.427Z"
   },
   {
    "duration": 243,
    "start_time": "2022-06-22T11:23:12.433Z"
   },
   {
    "duration": 3,
    "start_time": "2022-06-22T11:23:12.681Z"
   },
   {
    "duration": 60,
    "start_time": "2022-06-22T11:23:12.686Z"
   },
   {
    "duration": 10,
    "start_time": "2022-06-22T11:23:12.748Z"
   },
   {
    "duration": 26,
    "start_time": "2022-06-22T11:23:12.760Z"
   },
   {
    "duration": 16,
    "start_time": "2022-06-22T11:23:12.788Z"
   },
   {
    "duration": 6,
    "start_time": "2022-06-22T11:23:12.806Z"
   },
   {
    "duration": 16,
    "start_time": "2022-06-22T11:23:12.814Z"
   },
   {
    "duration": 18,
    "start_time": "2022-06-22T11:23:12.832Z"
   },
   {
    "duration": 190,
    "start_time": "2022-06-22T11:23:12.852Z"
   },
   {
    "duration": 7,
    "start_time": "2022-06-22T11:23:13.044Z"
   },
   {
    "duration": 16,
    "start_time": "2022-06-22T11:23:13.053Z"
   },
   {
    "duration": 12,
    "start_time": "2022-06-22T11:23:13.070Z"
   },
   {
    "duration": 154,
    "start_time": "2022-06-22T11:23:13.084Z"
   },
   {
    "duration": 3,
    "start_time": "2022-06-22T11:23:13.240Z"
   },
   {
    "duration": 23,
    "start_time": "2022-06-22T11:23:13.245Z"
   },
   {
    "duration": 23,
    "start_time": "2022-06-22T11:23:13.270Z"
   },
   {
    "duration": 41,
    "start_time": "2022-06-22T11:23:13.296Z"
   },
   {
    "duration": 258,
    "start_time": "2022-06-22T11:23:13.339Z"
   },
   {
    "duration": 188,
    "start_time": "2022-06-22T11:23:13.600Z"
   },
   {
    "duration": 5,
    "start_time": "2022-06-22T11:23:13.790Z"
   },
   {
    "duration": 17,
    "start_time": "2022-06-22T11:23:13.797Z"
   },
   {
    "duration": 18,
    "start_time": "2022-06-22T11:23:13.816Z"
   },
   {
    "duration": 13,
    "start_time": "2022-06-22T11:23:13.835Z"
   },
   {
    "duration": 343,
    "start_time": "2022-06-22T11:23:13.849Z"
   },
   {
    "duration": 293,
    "start_time": "2022-06-22T11:23:14.194Z"
   },
   {
    "duration": 351,
    "start_time": "2022-06-22T11:23:14.489Z"
   },
   {
    "duration": 344,
    "start_time": "2022-06-22T11:23:14.842Z"
   },
   {
    "duration": 396,
    "start_time": "2022-06-22T11:23:15.188Z"
   },
   {
    "duration": 5,
    "start_time": "2022-06-22T11:23:15.586Z"
   },
   {
    "duration": 14,
    "start_time": "2022-06-22T11:23:15.593Z"
   },
   {
    "duration": 238,
    "start_time": "2022-06-22T11:23:15.609Z"
   },
   {
    "duration": 5,
    "start_time": "2022-06-22T11:23:15.849Z"
   },
   {
    "duration": 15,
    "start_time": "2022-06-22T11:23:15.856Z"
   },
   {
    "duration": 189,
    "start_time": "2022-06-22T11:23:15.873Z"
   },
   {
    "duration": 273,
    "start_time": "2022-06-22T11:23:16.063Z"
   },
   {
    "duration": 16,
    "start_time": "2022-06-22T11:23:16.338Z"
   },
   {
    "duration": 29,
    "start_time": "2022-06-22T11:23:16.355Z"
   },
   {
    "duration": 637,
    "start_time": "2022-06-22T11:23:16.386Z"
   },
   {
    "duration": 4,
    "start_time": "2022-06-22T11:23:17.026Z"
   },
   {
    "duration": 14,
    "start_time": "2022-06-22T11:23:17.032Z"
   },
   {
    "duration": 9,
    "start_time": "2022-06-22T11:23:17.047Z"
   },
   {
    "duration": 21,
    "start_time": "2022-06-22T11:23:17.057Z"
   },
   {
    "duration": 16,
    "start_time": "2022-06-22T11:23:17.080Z"
   },
   {
    "duration": 5,
    "start_time": "2022-06-22T11:23:29.592Z"
   },
   {
    "duration": 6,
    "start_time": "2022-06-22T11:24:57.237Z"
   },
   {
    "duration": 6,
    "start_time": "2022-06-22T11:24:59.123Z"
   },
   {
    "duration": 5,
    "start_time": "2022-06-22T11:25:02.209Z"
   },
   {
    "duration": 6,
    "start_time": "2022-06-22T11:25:14.824Z"
   },
   {
    "duration": 10,
    "start_time": "2022-06-22T11:25:15.443Z"
   },
   {
    "duration": 79,
    "start_time": "2022-06-22T11:26:08.148Z"
   },
   {
    "duration": 16,
    "start_time": "2022-06-22T11:26:16.641Z"
   },
   {
    "duration": 6,
    "start_time": "2022-06-22T11:26:19.463Z"
   },
   {
    "duration": 8,
    "start_time": "2022-06-22T11:26:24.515Z"
   },
   {
    "duration": 9,
    "start_time": "2022-06-22T11:26:25.224Z"
   },
   {
    "duration": 6,
    "start_time": "2022-06-22T11:26:37.289Z"
   },
   {
    "duration": 5,
    "start_time": "2022-06-22T11:26:40.346Z"
   },
   {
    "duration": 9,
    "start_time": "2022-06-22T11:26:40.876Z"
   },
   {
    "duration": 650,
    "start_time": "2022-06-22T11:31:16.784Z"
   },
   {
    "duration": 126,
    "start_time": "2022-06-22T12:33:09.225Z"
   },
   {
    "duration": 466,
    "start_time": "2022-06-22T12:36:16.755Z"
   },
   {
    "duration": 3,
    "start_time": "2022-06-22T12:38:15.058Z"
   },
   {
    "duration": 32,
    "start_time": "2022-06-22T12:40:13.852Z"
   },
   {
    "duration": 7,
    "start_time": "2022-06-22T12:40:32.596Z"
   },
   {
    "duration": 10,
    "start_time": "2022-06-22T12:40:33.342Z"
   },
   {
    "duration": 440,
    "start_time": "2022-06-22T12:44:43.827Z"
   },
   {
    "duration": 230,
    "start_time": "2022-06-22T12:44:44.269Z"
   },
   {
    "duration": 2,
    "start_time": "2022-06-22T12:44:44.501Z"
   },
   {
    "duration": 467,
    "start_time": "2022-06-22T12:44:44.505Z"
   },
   {
    "duration": 57,
    "start_time": "2022-06-22T12:44:44.975Z"
   },
   {
    "duration": 6,
    "start_time": "2022-06-22T12:44:45.033Z"
   },
   {
    "duration": 32,
    "start_time": "2022-06-22T12:44:45.041Z"
   },
   {
    "duration": 9,
    "start_time": "2022-06-22T12:44:45.074Z"
   },
   {
    "duration": 14,
    "start_time": "2022-06-22T12:44:45.084Z"
   },
   {
    "duration": 10,
    "start_time": "2022-06-22T12:44:45.100Z"
   },
   {
    "duration": 29,
    "start_time": "2022-06-22T12:44:45.112Z"
   },
   {
    "duration": 17,
    "start_time": "2022-06-22T12:44:45.148Z"
   },
   {
    "duration": 24,
    "start_time": "2022-06-22T12:44:45.167Z"
   },
   {
    "duration": 22,
    "start_time": "2022-06-22T12:44:45.194Z"
   },
   {
    "duration": 57,
    "start_time": "2022-06-22T12:44:45.218Z"
   },
   {
    "duration": 29,
    "start_time": "2022-06-22T12:44:45.276Z"
   },
   {
    "duration": 11,
    "start_time": "2022-06-22T12:44:45.307Z"
   },
   {
    "duration": 202,
    "start_time": "2022-06-22T12:44:45.319Z"
   },
   {
    "duration": 33,
    "start_time": "2022-06-22T12:44:45.522Z"
   },
   {
    "duration": 12,
    "start_time": "2022-06-22T12:44:45.557Z"
   },
   {
    "duration": 55,
    "start_time": "2022-06-22T12:44:45.570Z"
   },
   {
    "duration": 30,
    "start_time": "2022-06-22T12:44:45.627Z"
   },
   {
    "duration": 11,
    "start_time": "2022-06-22T12:44:45.659Z"
   },
   {
    "duration": 9,
    "start_time": "2022-06-22T12:44:45.672Z"
   },
   {
    "duration": 37,
    "start_time": "2022-06-22T12:44:45.683Z"
   },
   {
    "duration": 34,
    "start_time": "2022-06-22T12:44:45.722Z"
   },
   {
    "duration": 10,
    "start_time": "2022-06-22T12:44:45.758Z"
   },
   {
    "duration": 220,
    "start_time": "2022-06-22T12:44:45.769Z"
   },
   {
    "duration": 3,
    "start_time": "2022-06-22T12:44:45.992Z"
   },
   {
    "duration": 67,
    "start_time": "2022-06-22T12:44:45.997Z"
   },
   {
    "duration": 10,
    "start_time": "2022-06-22T12:44:46.066Z"
   },
   {
    "duration": 21,
    "start_time": "2022-06-22T12:44:46.078Z"
   },
   {
    "duration": 7,
    "start_time": "2022-06-22T12:44:46.101Z"
   },
   {
    "duration": 8,
    "start_time": "2022-06-22T12:44:46.109Z"
   },
   {
    "duration": 13,
    "start_time": "2022-06-22T12:44:46.119Z"
   },
   {
    "duration": 30,
    "start_time": "2022-06-22T12:44:46.133Z"
   },
   {
    "duration": 151,
    "start_time": "2022-06-22T12:44:46.165Z"
   },
   {
    "duration": 16,
    "start_time": "2022-06-22T12:44:46.318Z"
   },
   {
    "duration": 24,
    "start_time": "2022-06-22T12:44:46.337Z"
   },
   {
    "duration": 10,
    "start_time": "2022-06-22T12:44:46.362Z"
   },
   {
    "duration": 107,
    "start_time": "2022-06-22T12:44:46.377Z"
   },
   {
    "duration": 3,
    "start_time": "2022-06-22T12:44:46.486Z"
   },
   {
    "duration": 21,
    "start_time": "2022-06-22T12:44:46.490Z"
   },
   {
    "duration": 9,
    "start_time": "2022-06-22T12:44:46.513Z"
   },
   {
    "duration": 48,
    "start_time": "2022-06-22T12:44:46.532Z"
   },
   {
    "duration": 169,
    "start_time": "2022-06-22T12:44:46.582Z"
   },
   {
    "duration": 152,
    "start_time": "2022-06-22T12:44:46.757Z"
   },
   {
    "duration": 5,
    "start_time": "2022-06-22T12:44:46.910Z"
   },
   {
    "duration": 21,
    "start_time": "2022-06-22T12:44:46.917Z"
   },
   {
    "duration": 20,
    "start_time": "2022-06-22T12:44:46.941Z"
   },
   {
    "duration": 7,
    "start_time": "2022-06-22T12:44:46.963Z"
   },
   {
    "duration": 272,
    "start_time": "2022-06-22T12:44:46.971Z"
   },
   {
    "duration": 338,
    "start_time": "2022-06-22T12:44:47.249Z"
   },
   {
    "duration": 284,
    "start_time": "2022-06-22T12:44:47.589Z"
   },
   {
    "duration": 320,
    "start_time": "2022-06-22T12:44:47.875Z"
   },
   {
    "duration": 307,
    "start_time": "2022-06-22T12:44:48.197Z"
   },
   {
    "duration": 4,
    "start_time": "2022-06-22T12:44:48.507Z"
   },
   {
    "duration": 29,
    "start_time": "2022-06-22T12:44:48.513Z"
   },
   {
    "duration": 172,
    "start_time": "2022-06-22T12:44:48.543Z"
   },
   {
    "duration": 4,
    "start_time": "2022-06-22T12:44:48.717Z"
   },
   {
    "duration": 32,
    "start_time": "2022-06-22T12:44:48.722Z"
   },
   {
    "duration": 169,
    "start_time": "2022-06-22T12:44:48.756Z"
   },
   {
    "duration": 279,
    "start_time": "2022-06-22T12:44:48.935Z"
   },
   {
    "duration": 26,
    "start_time": "2022-06-22T12:44:49.216Z"
   },
   {
    "duration": 15,
    "start_time": "2022-06-22T12:44:49.244Z"
   },
   {
    "duration": 724,
    "start_time": "2022-06-22T12:44:49.260Z"
   },
   {
    "duration": 4,
    "start_time": "2022-06-22T12:44:49.986Z"
   },
   {
    "duration": 11,
    "start_time": "2022-06-22T12:44:49.991Z"
   },
   {
    "duration": 8,
    "start_time": "2022-06-22T12:44:50.004Z"
   },
   {
    "duration": 18,
    "start_time": "2022-06-22T12:44:50.013Z"
   },
   {
    "duration": 39,
    "start_time": "2022-06-22T12:44:50.033Z"
   },
   {
    "duration": 640,
    "start_time": "2022-06-22T12:44:50.074Z"
   },
   {
    "duration": 11,
    "start_time": "2022-06-22T12:44:50.715Z"
   },
   {
    "duration": 28,
    "start_time": "2022-06-22T12:44:50.727Z"
   },
   {
    "duration": 9,
    "start_time": "2022-06-22T12:44:50.756Z"
   },
   {
    "duration": 6,
    "start_time": "2022-06-22T12:44:50.767Z"
   },
   {
    "duration": 2,
    "start_time": "2022-06-22T12:45:18.663Z"
   },
   {
    "duration": 55,
    "start_time": "2022-06-22T12:46:46.938Z"
   },
   {
    "duration": 52,
    "start_time": "2022-06-22T12:47:38.343Z"
   },
   {
    "duration": 6,
    "start_time": "2022-06-22T12:47:47.250Z"
   },
   {
    "duration": 117,
    "start_time": "2022-06-22T12:48:59.460Z"
   },
   {
    "duration": 4,
    "start_time": "2022-06-22T12:50:54.172Z"
   },
   {
    "duration": 4,
    "start_time": "2022-06-22T12:51:42.950Z"
   },
   {
    "duration": 5,
    "start_time": "2022-06-22T12:52:06.049Z"
   },
   {
    "duration": 3,
    "start_time": "2022-06-22T12:52:21.890Z"
   },
   {
    "duration": 2,
    "start_time": "2022-06-22T12:52:47.161Z"
   },
   {
    "duration": 13,
    "start_time": "2022-06-22T12:53:12.435Z"
   },
   {
    "duration": 3,
    "start_time": "2022-06-22T12:53:25.378Z"
   },
   {
    "duration": 3,
    "start_time": "2022-06-22T12:53:50.260Z"
   },
   {
    "duration": 49,
    "start_time": "2022-06-22T12:54:39.150Z"
   },
   {
    "duration": 218,
    "start_time": "2022-06-22T12:55:01.775Z"
   },
   {
    "duration": 85,
    "start_time": "2022-06-22T12:55:13.205Z"
   },
   {
    "duration": 2,
    "start_time": "2022-06-22T12:55:19.098Z"
   },
   {
    "duration": 7,
    "start_time": "2022-06-22T12:55:23.926Z"
   },
   {
    "duration": 9,
    "start_time": "2022-06-22T12:57:16.071Z"
   },
   {
    "duration": 3,
    "start_time": "2022-06-22T12:57:18.764Z"
   },
   {
    "duration": 6,
    "start_time": "2022-06-22T12:57:29.405Z"
   },
   {
    "duration": 3,
    "start_time": "2022-06-22T12:57:31.112Z"
   },
   {
    "duration": 429,
    "start_time": "2022-06-22T12:58:17.123Z"
   },
   {
    "duration": 255,
    "start_time": "2022-06-22T12:58:17.557Z"
   },
   {
    "duration": 3,
    "start_time": "2022-06-22T12:58:17.813Z"
   },
   {
    "duration": 460,
    "start_time": "2022-06-22T12:58:17.818Z"
   },
   {
    "duration": 55,
    "start_time": "2022-06-22T12:58:18.279Z"
   },
   {
    "duration": 4,
    "start_time": "2022-06-22T12:58:18.336Z"
   },
   {
    "duration": 30,
    "start_time": "2022-06-22T12:58:18.341Z"
   },
   {
    "duration": 3,
    "start_time": "2022-06-22T12:58:18.373Z"
   },
   {
    "duration": 7,
    "start_time": "2022-06-22T12:58:18.378Z"
   },
   {
    "duration": 9,
    "start_time": "2022-06-22T12:58:18.387Z"
   },
   {
    "duration": 19,
    "start_time": "2022-06-22T12:58:18.398Z"
   },
   {
    "duration": 13,
    "start_time": "2022-06-22T12:58:18.418Z"
   },
   {
    "duration": 32,
    "start_time": "2022-06-22T12:58:18.435Z"
   },
   {
    "duration": 5,
    "start_time": "2022-06-22T12:58:18.469Z"
   },
   {
    "duration": 22,
    "start_time": "2022-06-22T12:58:18.476Z"
   },
   {
    "duration": 13,
    "start_time": "2022-06-22T12:58:18.500Z"
   },
   {
    "duration": 6,
    "start_time": "2022-06-22T12:58:18.515Z"
   },
   {
    "duration": 189,
    "start_time": "2022-06-22T12:58:18.523Z"
   },
   {
    "duration": 24,
    "start_time": "2022-06-22T12:58:18.714Z"
   },
   {
    "duration": 17,
    "start_time": "2022-06-22T12:58:18.746Z"
   },
   {
    "duration": 48,
    "start_time": "2022-06-22T12:58:18.764Z"
   },
   {
    "duration": 19,
    "start_time": "2022-06-22T12:58:18.813Z"
   },
   {
    "duration": 41,
    "start_time": "2022-06-22T12:58:18.836Z"
   },
   {
    "duration": 7,
    "start_time": "2022-06-22T12:58:18.879Z"
   },
   {
    "duration": 24,
    "start_time": "2022-06-22T12:58:18.887Z"
   },
   {
    "duration": 25,
    "start_time": "2022-06-22T12:58:18.913Z"
   },
   {
    "duration": 31,
    "start_time": "2022-06-22T12:58:18.940Z"
   },
   {
    "duration": 212,
    "start_time": "2022-06-22T12:58:18.975Z"
   },
   {
    "duration": 3,
    "start_time": "2022-06-22T12:58:19.189Z"
   },
   {
    "duration": 62,
    "start_time": "2022-06-22T12:58:19.194Z"
   },
   {
    "duration": 2,
    "start_time": "2022-06-22T12:58:19.258Z"
   },
   {
    "duration": 19,
    "start_time": "2022-06-22T12:58:19.262Z"
   },
   {
    "duration": 10,
    "start_time": "2022-06-22T12:58:19.282Z"
   },
   {
    "duration": 6,
    "start_time": "2022-06-22T12:58:19.293Z"
   },
   {
    "duration": 7,
    "start_time": "2022-06-22T12:58:19.301Z"
   },
   {
    "duration": 19,
    "start_time": "2022-06-22T12:58:19.310Z"
   },
   {
    "duration": 170,
    "start_time": "2022-06-22T12:58:19.331Z"
   },
   {
    "duration": 7,
    "start_time": "2022-06-22T12:58:19.503Z"
   },
   {
    "duration": 25,
    "start_time": "2022-06-22T12:58:19.527Z"
   },
   {
    "duration": 14,
    "start_time": "2022-06-22T12:58:19.559Z"
   },
   {
    "duration": 110,
    "start_time": "2022-06-22T12:58:19.575Z"
   },
   {
    "duration": 3,
    "start_time": "2022-06-22T12:58:19.687Z"
   },
   {
    "duration": 12,
    "start_time": "2022-06-22T12:58:19.692Z"
   },
   {
    "duration": 6,
    "start_time": "2022-06-22T12:58:19.706Z"
   },
   {
    "duration": 47,
    "start_time": "2022-06-22T12:58:19.713Z"
   },
   {
    "duration": 143,
    "start_time": "2022-06-22T12:58:19.762Z"
   },
   {
    "duration": 163,
    "start_time": "2022-06-22T12:58:19.907Z"
   },
   {
    "duration": 5,
    "start_time": "2022-06-22T12:58:20.072Z"
   },
   {
    "duration": 6,
    "start_time": "2022-06-22T12:58:20.079Z"
   },
   {
    "duration": 10,
    "start_time": "2022-06-22T12:58:20.087Z"
   },
   {
    "duration": 11,
    "start_time": "2022-06-22T12:58:20.099Z"
   },
   {
    "duration": 282,
    "start_time": "2022-06-22T12:58:20.111Z"
   },
   {
    "duration": 343,
    "start_time": "2022-06-22T12:58:20.394Z"
   },
   {
    "duration": 276,
    "start_time": "2022-06-22T12:58:20.741Z"
   },
   {
    "duration": 333,
    "start_time": "2022-06-22T12:58:21.019Z"
   },
   {
    "duration": 369,
    "start_time": "2022-06-22T12:58:21.356Z"
   },
   {
    "duration": 6,
    "start_time": "2022-06-22T12:58:21.731Z"
   },
   {
    "duration": 39,
    "start_time": "2022-06-22T12:58:21.739Z"
   },
   {
    "duration": 178,
    "start_time": "2022-06-22T12:58:21.781Z"
   },
   {
    "duration": 3,
    "start_time": "2022-06-22T12:58:21.961Z"
   },
   {
    "duration": 14,
    "start_time": "2022-06-22T12:58:21.966Z"
   },
   {
    "duration": 174,
    "start_time": "2022-06-22T12:58:21.982Z"
   },
   {
    "duration": 265,
    "start_time": "2022-06-22T12:58:22.158Z"
   },
   {
    "duration": 28,
    "start_time": "2022-06-22T12:58:22.426Z"
   },
   {
    "duration": 8,
    "start_time": "2022-06-22T12:58:22.458Z"
   },
   {
    "duration": 697,
    "start_time": "2022-06-22T12:58:22.467Z"
   },
   {
    "duration": 4,
    "start_time": "2022-06-22T12:58:23.167Z"
   },
   {
    "duration": 9,
    "start_time": "2022-06-22T12:58:23.173Z"
   },
   {
    "duration": 9,
    "start_time": "2022-06-22T12:58:23.184Z"
   },
   {
    "duration": 6,
    "start_time": "2022-06-22T12:58:23.195Z"
   },
   {
    "duration": 46,
    "start_time": "2022-06-22T12:58:23.203Z"
   },
   {
    "duration": 625,
    "start_time": "2022-06-22T12:58:23.252Z"
   },
   {
    "duration": 7,
    "start_time": "2022-06-22T12:58:23.878Z"
   },
   {
    "duration": 7,
    "start_time": "2022-06-22T12:58:23.886Z"
   },
   {
    "duration": 9,
    "start_time": "2022-06-22T12:58:23.895Z"
   },
   {
    "duration": 8,
    "start_time": "2022-06-22T12:58:23.906Z"
   },
   {
    "duration": 12,
    "start_time": "2022-06-22T12:58:23.915Z"
   },
   {
    "duration": 32,
    "start_time": "2022-06-22T12:58:23.933Z"
   },
   {
    "duration": 7,
    "start_time": "2022-06-22T12:58:23.967Z"
   },
   {
    "duration": 7,
    "start_time": "2022-06-22T12:58:23.976Z"
   },
   {
    "duration": 13,
    "start_time": "2022-06-22T12:58:23.984Z"
   },
   {
    "duration": 7,
    "start_time": "2022-06-22T12:58:24.002Z"
   },
   {
    "duration": 10,
    "start_time": "2022-06-22T12:58:24.011Z"
   },
   {
    "duration": 35,
    "start_time": "2022-06-22T12:58:24.022Z"
   },
   {
    "duration": 12,
    "start_time": "2022-06-22T12:58:24.058Z"
   },
   {
    "duration": 12,
    "start_time": "2022-06-22T12:58:24.072Z"
   },
   {
    "duration": 9,
    "start_time": "2022-06-22T12:58:24.086Z"
   },
   {
    "duration": 21,
    "start_time": "2022-06-22T12:58:24.097Z"
   },
   {
    "duration": 12,
    "start_time": "2022-06-22T12:58:24.119Z"
   },
   {
    "duration": 2,
    "start_time": "2022-06-22T12:59:04.761Z"
   },
   {
    "duration": 3,
    "start_time": "2022-06-22T12:59:18.602Z"
   },
   {
    "duration": 3,
    "start_time": "2022-06-22T12:59:43.767Z"
   },
   {
    "duration": 4,
    "start_time": "2022-06-22T13:00:17.153Z"
   },
   {
    "duration": 4,
    "start_time": "2022-06-22T13:00:18.245Z"
   },
   {
    "duration": 3,
    "start_time": "2022-06-22T13:00:20.050Z"
   },
   {
    "duration": 3,
    "start_time": "2022-06-22T13:00:21.007Z"
   },
   {
    "duration": 3,
    "start_time": "2022-06-22T13:00:38.373Z"
   },
   {
    "duration": 3,
    "start_time": "2022-06-22T13:00:39.314Z"
   },
   {
    "duration": 457,
    "start_time": "2022-06-22T13:00:44.515Z"
   },
   {
    "duration": 286,
    "start_time": "2022-06-22T13:00:44.974Z"
   },
   {
    "duration": 2,
    "start_time": "2022-06-22T13:00:45.262Z"
   },
   {
    "duration": 444,
    "start_time": "2022-06-22T13:00:45.266Z"
   },
   {
    "duration": 67,
    "start_time": "2022-06-22T13:00:45.712Z"
   },
   {
    "duration": 2,
    "start_time": "2022-06-22T13:00:45.781Z"
   },
   {
    "duration": 23,
    "start_time": "2022-06-22T13:00:45.785Z"
   },
   {
    "duration": 6,
    "start_time": "2022-06-22T13:00:45.809Z"
   },
   {
    "duration": 31,
    "start_time": "2022-06-22T13:00:45.816Z"
   },
   {
    "duration": 11,
    "start_time": "2022-06-22T13:00:45.855Z"
   },
   {
    "duration": 27,
    "start_time": "2022-06-22T13:00:45.868Z"
   },
   {
    "duration": 5,
    "start_time": "2022-06-22T13:00:45.896Z"
   },
   {
    "duration": 16,
    "start_time": "2022-06-22T13:00:45.902Z"
   },
   {
    "duration": 36,
    "start_time": "2022-06-22T13:00:45.919Z"
   },
   {
    "duration": 52,
    "start_time": "2022-06-22T13:00:45.957Z"
   },
   {
    "duration": 59,
    "start_time": "2022-06-22T13:00:46.011Z"
   },
   {
    "duration": 41,
    "start_time": "2022-06-22T13:00:46.072Z"
   },
   {
    "duration": 207,
    "start_time": "2022-06-22T13:00:46.115Z"
   },
   {
    "duration": 33,
    "start_time": "2022-06-22T13:00:46.326Z"
   },
   {
    "duration": 17,
    "start_time": "2022-06-22T13:00:46.361Z"
   },
   {
    "duration": 79,
    "start_time": "2022-06-22T13:00:46.379Z"
   },
   {
    "duration": 16,
    "start_time": "2022-06-22T13:00:46.460Z"
   },
   {
    "duration": 21,
    "start_time": "2022-06-22T13:00:46.477Z"
   },
   {
    "duration": 20,
    "start_time": "2022-06-22T13:00:46.500Z"
   },
   {
    "duration": 59,
    "start_time": "2022-06-22T13:00:46.522Z"
   },
   {
    "duration": 29,
    "start_time": "2022-06-22T13:00:46.582Z"
   },
   {
    "duration": 40,
    "start_time": "2022-06-22T13:00:46.613Z"
   },
   {
    "duration": 235,
    "start_time": "2022-06-22T13:00:46.657Z"
   },
   {
    "duration": 4,
    "start_time": "2022-06-22T13:00:46.893Z"
   },
   {
    "duration": 76,
    "start_time": "2022-06-22T13:00:46.898Z"
   },
   {
    "duration": 26,
    "start_time": "2022-06-22T13:00:46.976Z"
   },
   {
    "duration": 45,
    "start_time": "2022-06-22T13:00:47.004Z"
   },
   {
    "duration": 36,
    "start_time": "2022-06-22T13:00:47.051Z"
   },
   {
    "duration": 12,
    "start_time": "2022-06-22T13:00:47.089Z"
   },
   {
    "duration": 49,
    "start_time": "2022-06-22T13:00:47.103Z"
   },
   {
    "duration": 38,
    "start_time": "2022-06-22T13:00:47.154Z"
   },
   {
    "duration": 196,
    "start_time": "2022-06-22T13:00:47.193Z"
   },
   {
    "duration": 6,
    "start_time": "2022-06-22T13:00:47.390Z"
   },
   {
    "duration": 26,
    "start_time": "2022-06-22T13:00:47.398Z"
   },
   {
    "duration": 36,
    "start_time": "2022-06-22T13:00:47.425Z"
   },
   {
    "duration": 139,
    "start_time": "2022-06-22T13:00:47.463Z"
   },
   {
    "duration": 2,
    "start_time": "2022-06-22T13:00:47.604Z"
   },
   {
    "duration": 41,
    "start_time": "2022-06-22T13:00:47.608Z"
   },
   {
    "duration": 21,
    "start_time": "2022-06-22T13:00:47.653Z"
   },
   {
    "duration": 36,
    "start_time": "2022-06-22T13:00:47.676Z"
   },
   {
    "duration": 179,
    "start_time": "2022-06-22T13:00:47.714Z"
   },
   {
    "duration": 162,
    "start_time": "2022-06-22T13:00:47.894Z"
   },
   {
    "duration": 5,
    "start_time": "2022-06-22T13:00:48.058Z"
   },
   {
    "duration": 33,
    "start_time": "2022-06-22T13:00:48.064Z"
   },
   {
    "duration": 19,
    "start_time": "2022-06-22T13:00:48.099Z"
   },
   {
    "duration": 46,
    "start_time": "2022-06-22T13:00:48.120Z"
   },
   {
    "duration": 302,
    "start_time": "2022-06-22T13:00:48.168Z"
   },
   {
    "duration": 347,
    "start_time": "2022-06-22T13:00:48.472Z"
   },
   {
    "duration": 279,
    "start_time": "2022-06-22T13:00:48.826Z"
   },
   {
    "duration": 323,
    "start_time": "2022-06-22T13:00:49.107Z"
   },
   {
    "duration": 320,
    "start_time": "2022-06-22T13:00:49.439Z"
   },
   {
    "duration": 6,
    "start_time": "2022-06-22T13:00:49.761Z"
   },
   {
    "duration": 13,
    "start_time": "2022-06-22T13:00:49.768Z"
   },
   {
    "duration": 195,
    "start_time": "2022-06-22T13:00:49.783Z"
   },
   {
    "duration": 4,
    "start_time": "2022-06-22T13:00:49.980Z"
   },
   {
    "duration": 8,
    "start_time": "2022-06-22T13:00:49.985Z"
   },
   {
    "duration": 197,
    "start_time": "2022-06-22T13:00:49.995Z"
   },
   {
    "duration": 298,
    "start_time": "2022-06-22T13:00:50.194Z"
   },
   {
    "duration": 14,
    "start_time": "2022-06-22T13:00:50.494Z"
   },
   {
    "duration": 36,
    "start_time": "2022-06-22T13:00:50.510Z"
   },
   {
    "duration": 748,
    "start_time": "2022-06-22T13:00:50.555Z"
   },
   {
    "duration": 5,
    "start_time": "2022-06-22T13:00:51.304Z"
   },
   {
    "duration": 27,
    "start_time": "2022-06-22T13:00:51.310Z"
   },
   {
    "duration": 26,
    "start_time": "2022-06-22T13:00:51.338Z"
   },
   {
    "duration": 6,
    "start_time": "2022-06-22T13:00:51.365Z"
   },
   {
    "duration": 15,
    "start_time": "2022-06-22T13:00:51.372Z"
   },
   {
    "duration": 747,
    "start_time": "2022-06-22T13:00:51.389Z"
   },
   {
    "duration": 12,
    "start_time": "2022-06-22T13:00:52.144Z"
   },
   {
    "duration": 3,
    "start_time": "2022-06-22T13:00:52.160Z"
   },
   {
    "duration": 11,
    "start_time": "2022-06-22T13:00:52.165Z"
   },
   {
    "duration": 6,
    "start_time": "2022-06-22T13:00:52.177Z"
   },
   {
    "duration": 5,
    "start_time": "2022-06-22T13:00:52.184Z"
   },
   {
    "duration": 5,
    "start_time": "2022-06-22T13:00:52.190Z"
   },
   {
    "duration": 10,
    "start_time": "2022-06-22T13:00:52.197Z"
   },
   {
    "duration": 8,
    "start_time": "2022-06-22T13:00:52.209Z"
   },
   {
    "duration": 9,
    "start_time": "2022-06-22T13:00:52.219Z"
   },
   {
    "duration": 23,
    "start_time": "2022-06-22T13:00:52.241Z"
   },
   {
    "duration": 8,
    "start_time": "2022-06-22T13:00:52.266Z"
   },
   {
    "duration": 10,
    "start_time": "2022-06-22T13:00:52.275Z"
   },
   {
    "duration": 7,
    "start_time": "2022-06-22T13:00:52.286Z"
   },
   {
    "duration": 5,
    "start_time": "2022-06-22T13:00:52.295Z"
   },
   {
    "duration": 10,
    "start_time": "2022-06-22T13:00:52.301Z"
   },
   {
    "duration": 6,
    "start_time": "2022-06-22T13:00:52.312Z"
   },
   {
    "duration": 38,
    "start_time": "2022-06-22T13:00:52.320Z"
   },
   {
    "duration": 8,
    "start_time": "2022-06-22T13:00:52.360Z"
   },
   {
    "duration": 3,
    "start_time": "2022-06-22T13:02:08.693Z"
   },
   {
    "duration": 3,
    "start_time": "2022-06-22T13:02:09.100Z"
   },
   {
    "duration": 3,
    "start_time": "2022-06-22T13:02:22.214Z"
   },
   {
    "duration": 3,
    "start_time": "2022-06-22T13:02:33.465Z"
   },
   {
    "duration": 403,
    "start_time": "2022-06-23T07:16:18.394Z"
   },
   {
    "duration": 388,
    "start_time": "2022-06-23T07:16:18.799Z"
   },
   {
    "duration": 3,
    "start_time": "2022-06-23T07:16:19.189Z"
   },
   {
    "duration": 472,
    "start_time": "2022-06-23T07:16:19.193Z"
   },
   {
    "duration": 104,
    "start_time": "2022-06-23T07:16:19.666Z"
   },
   {
    "duration": 5,
    "start_time": "2022-06-23T07:16:19.772Z"
   },
   {
    "duration": 20,
    "start_time": "2022-06-23T07:16:19.778Z"
   },
   {
    "duration": 4,
    "start_time": "2022-06-23T07:16:19.800Z"
   },
   {
    "duration": 10,
    "start_time": "2022-06-23T07:16:19.805Z"
   },
   {
    "duration": 16,
    "start_time": "2022-06-23T07:16:19.817Z"
   },
   {
    "duration": 19,
    "start_time": "2022-06-23T07:16:19.835Z"
   },
   {
    "duration": 4,
    "start_time": "2022-06-23T07:16:19.859Z"
   },
   {
    "duration": 12,
    "start_time": "2022-06-23T07:16:19.864Z"
   },
   {
    "duration": 6,
    "start_time": "2022-06-23T07:16:19.877Z"
   },
   {
    "duration": 21,
    "start_time": "2022-06-23T07:16:19.885Z"
   },
   {
    "duration": 15,
    "start_time": "2022-06-23T07:16:19.908Z"
   },
   {
    "duration": 12,
    "start_time": "2022-06-23T07:16:19.925Z"
   },
   {
    "duration": 162,
    "start_time": "2022-06-23T07:16:19.939Z"
   },
   {
    "duration": 14,
    "start_time": "2022-06-23T07:16:20.103Z"
   },
   {
    "duration": 4,
    "start_time": "2022-06-23T07:16:20.118Z"
   },
   {
    "duration": 55,
    "start_time": "2022-06-23T07:16:20.123Z"
   },
   {
    "duration": 9,
    "start_time": "2022-06-23T07:16:20.180Z"
   },
   {
    "duration": 5,
    "start_time": "2022-06-23T07:16:20.190Z"
   },
   {
    "duration": 7,
    "start_time": "2022-06-23T07:16:20.197Z"
   },
   {
    "duration": 24,
    "start_time": "2022-06-23T07:16:20.205Z"
   },
   {
    "duration": 6,
    "start_time": "2022-06-23T07:16:20.230Z"
   },
   {
    "duration": 10,
    "start_time": "2022-06-23T07:16:20.238Z"
   },
   {
    "duration": 189,
    "start_time": "2022-06-23T07:16:20.258Z"
   },
   {
    "duration": 4,
    "start_time": "2022-06-23T07:16:20.449Z"
   },
   {
    "duration": 39,
    "start_time": "2022-06-23T07:16:20.459Z"
   },
   {
    "duration": 8,
    "start_time": "2022-06-23T07:16:20.500Z"
   },
   {
    "duration": 21,
    "start_time": "2022-06-23T07:16:20.509Z"
   },
   {
    "duration": 5,
    "start_time": "2022-06-23T07:16:20.532Z"
   },
   {
    "duration": 6,
    "start_time": "2022-06-23T07:16:20.538Z"
   },
   {
    "duration": 15,
    "start_time": "2022-06-23T07:16:20.546Z"
   },
   {
    "duration": 15,
    "start_time": "2022-06-23T07:16:20.562Z"
   },
   {
    "duration": 146,
    "start_time": "2022-06-23T07:16:20.578Z"
   },
   {
    "duration": 7,
    "start_time": "2022-06-23T07:16:20.726Z"
   },
   {
    "duration": 10,
    "start_time": "2022-06-23T07:16:20.735Z"
   },
   {
    "duration": 20,
    "start_time": "2022-06-23T07:16:20.747Z"
   },
   {
    "duration": 100,
    "start_time": "2022-06-23T07:16:20.768Z"
   },
   {
    "duration": 2,
    "start_time": "2022-06-23T07:16:20.870Z"
   },
   {
    "duration": 10,
    "start_time": "2022-06-23T07:16:20.874Z"
   },
   {
    "duration": 6,
    "start_time": "2022-06-23T07:16:20.886Z"
   },
   {
    "duration": 23,
    "start_time": "2022-06-23T07:16:20.893Z"
   },
   {
    "duration": 153,
    "start_time": "2022-06-23T07:16:20.917Z"
   },
   {
    "duration": 142,
    "start_time": "2022-06-23T07:16:21.072Z"
   },
   {
    "duration": 5,
    "start_time": "2022-06-23T07:16:21.216Z"
   },
   {
    "duration": 7,
    "start_time": "2022-06-23T07:16:21.222Z"
   },
   {
    "duration": 7,
    "start_time": "2022-06-23T07:16:21.231Z"
   },
   {
    "duration": 8,
    "start_time": "2022-06-23T07:16:21.239Z"
   },
   {
    "duration": 255,
    "start_time": "2022-06-23T07:16:21.248Z"
   },
   {
    "duration": 317,
    "start_time": "2022-06-23T07:16:21.505Z"
   },
   {
    "duration": 244,
    "start_time": "2022-06-23T07:16:21.823Z"
   },
   {
    "duration": 265,
    "start_time": "2022-06-23T07:16:22.068Z"
   },
   {
    "duration": 259,
    "start_time": "2022-06-23T07:16:22.334Z"
   },
   {
    "duration": 5,
    "start_time": "2022-06-23T07:16:22.595Z"
   },
   {
    "duration": 9,
    "start_time": "2022-06-23T07:16:22.601Z"
   },
   {
    "duration": 158,
    "start_time": "2022-06-23T07:16:22.611Z"
   },
   {
    "duration": 4,
    "start_time": "2022-06-23T07:16:22.771Z"
   },
   {
    "duration": 8,
    "start_time": "2022-06-23T07:16:22.776Z"
   },
   {
    "duration": 159,
    "start_time": "2022-06-23T07:16:22.785Z"
   },
   {
    "duration": 259,
    "start_time": "2022-06-23T07:16:22.947Z"
   },
   {
    "duration": 13,
    "start_time": "2022-06-23T07:16:23.208Z"
   },
   {
    "duration": 5,
    "start_time": "2022-06-23T07:16:23.222Z"
   },
   {
    "duration": 637,
    "start_time": "2022-06-23T07:16:23.228Z"
   },
   {
    "duration": 4,
    "start_time": "2022-06-23T07:16:23.867Z"
   },
   {
    "duration": 7,
    "start_time": "2022-06-23T07:16:23.872Z"
   },
   {
    "duration": 7,
    "start_time": "2022-06-23T07:16:23.881Z"
   },
   {
    "duration": 6,
    "start_time": "2022-06-23T07:16:23.889Z"
   },
   {
    "duration": 11,
    "start_time": "2022-06-23T07:16:23.897Z"
   },
   {
    "duration": 593,
    "start_time": "2022-06-23T07:16:23.909Z"
   },
   {
    "duration": 6,
    "start_time": "2022-06-23T07:16:24.504Z"
   },
   {
    "duration": 9,
    "start_time": "2022-06-23T07:16:24.512Z"
   },
   {
    "duration": 10,
    "start_time": "2022-06-23T07:16:24.522Z"
   },
   {
    "duration": 11,
    "start_time": "2022-06-23T07:16:24.533Z"
   },
   {
    "duration": 6,
    "start_time": "2022-06-23T07:16:24.545Z"
   },
   {
    "duration": 4,
    "start_time": "2022-06-23T07:16:24.558Z"
   },
   {
    "duration": 15,
    "start_time": "2022-06-23T07:16:24.568Z"
   },
   {
    "duration": 7,
    "start_time": "2022-06-23T07:16:24.585Z"
   },
   {
    "duration": 7,
    "start_time": "2022-06-23T07:16:24.594Z"
   },
   {
    "duration": 16,
    "start_time": "2022-06-23T07:16:24.607Z"
   },
   {
    "duration": 11,
    "start_time": "2022-06-23T07:16:24.625Z"
   },
   {
    "duration": 12,
    "start_time": "2022-06-23T07:16:24.637Z"
   },
   {
    "duration": 7,
    "start_time": "2022-06-23T07:16:24.651Z"
   },
   {
    "duration": 5,
    "start_time": "2022-06-23T07:16:24.660Z"
   },
   {
    "duration": 6,
    "start_time": "2022-06-23T07:16:24.666Z"
   },
   {
    "duration": 6,
    "start_time": "2022-06-23T07:16:24.674Z"
   },
   {
    "duration": 6,
    "start_time": "2022-06-23T07:16:24.681Z"
   },
   {
    "duration": 4,
    "start_time": "2022-06-23T07:16:24.689Z"
   },
   {
    "duration": 6,
    "start_time": "2022-06-27T10:58:02.688Z"
   },
   {
    "duration": 6,
    "start_time": "2022-06-27T10:58:59.794Z"
   },
   {
    "duration": 414,
    "start_time": "2022-06-27T10:59:06.942Z"
   },
   {
    "duration": 399,
    "start_time": "2022-06-27T10:59:07.358Z"
   },
   {
    "duration": 3,
    "start_time": "2022-06-27T10:59:07.759Z"
   },
   {
    "duration": 436,
    "start_time": "2022-06-27T10:59:07.764Z"
   },
   {
    "duration": 77,
    "start_time": "2022-06-27T10:59:08.202Z"
   },
   {
    "duration": 4,
    "start_time": "2022-06-27T10:59:08.280Z"
   },
   {
    "duration": 19,
    "start_time": "2022-06-27T10:59:08.285Z"
   },
   {
    "duration": 4,
    "start_time": "2022-06-27T10:59:08.307Z"
   },
   {
    "duration": 7,
    "start_time": "2022-06-27T10:59:08.313Z"
   },
   {
    "duration": 12,
    "start_time": "2022-06-27T10:59:08.322Z"
   },
   {
    "duration": 21,
    "start_time": "2022-06-27T10:59:08.335Z"
   },
   {
    "duration": 5,
    "start_time": "2022-06-27T10:59:08.357Z"
   },
   {
    "duration": 16,
    "start_time": "2022-06-27T10:59:08.364Z"
   },
   {
    "duration": 6,
    "start_time": "2022-06-27T10:59:08.383Z"
   },
   {
    "duration": 41,
    "start_time": "2022-06-27T10:59:08.390Z"
   },
   {
    "duration": 14,
    "start_time": "2022-06-27T10:59:08.432Z"
   },
   {
    "duration": 7,
    "start_time": "2022-06-27T10:59:08.448Z"
   },
   {
    "duration": 163,
    "start_time": "2022-06-27T10:59:08.456Z"
   },
   {
    "duration": 15,
    "start_time": "2022-06-27T10:59:08.626Z"
   },
   {
    "duration": 3,
    "start_time": "2022-06-27T10:59:08.643Z"
   },
   {
    "duration": 45,
    "start_time": "2022-06-27T10:59:08.648Z"
   },
   {
    "duration": 6,
    "start_time": "2022-06-27T10:59:08.695Z"
   },
   {
    "duration": 24,
    "start_time": "2022-06-27T10:59:08.703Z"
   },
   {
    "duration": 3,
    "start_time": "2022-06-27T10:59:08.729Z"
   },
   {
    "duration": 37,
    "start_time": "2022-06-27T10:59:08.734Z"
   },
   {
    "duration": 10,
    "start_time": "2022-06-27T10:59:08.773Z"
   },
   {
    "duration": 6,
    "start_time": "2022-06-27T10:59:08.785Z"
   },
   {
    "duration": 206,
    "start_time": "2022-06-27T10:59:08.793Z"
   },
   {
    "duration": 4,
    "start_time": "2022-06-27T10:59:09.001Z"
   },
   {
    "duration": 48,
    "start_time": "2022-06-27T10:59:09.006Z"
   },
   {
    "duration": 4,
    "start_time": "2022-06-27T10:59:09.056Z"
   },
   {
    "duration": 21,
    "start_time": "2022-06-27T10:59:09.061Z"
   },
   {
    "duration": 11,
    "start_time": "2022-06-27T10:59:09.083Z"
   },
   {
    "duration": 5,
    "start_time": "2022-06-27T10:59:09.096Z"
   },
   {
    "duration": 10,
    "start_time": "2022-06-27T10:59:09.102Z"
   },
   {
    "duration": 16,
    "start_time": "2022-06-27T10:59:09.114Z"
   },
   {
    "duration": 168,
    "start_time": "2022-06-27T10:59:09.131Z"
   },
   {
    "duration": 110,
    "start_time": "2022-06-27T10:59:09.301Z"
   },
   {
    "duration": 0,
    "start_time": "2022-06-27T10:59:09.414Z"
   },
   {
    "duration": 0,
    "start_time": "2022-06-27T10:59:09.415Z"
   },
   {
    "duration": 0,
    "start_time": "2022-06-27T10:59:09.416Z"
   },
   {
    "duration": 0,
    "start_time": "2022-06-27T10:59:09.417Z"
   },
   {
    "duration": 0,
    "start_time": "2022-06-27T10:59:09.427Z"
   },
   {
    "duration": 0,
    "start_time": "2022-06-27T10:59:09.429Z"
   },
   {
    "duration": 0,
    "start_time": "2022-06-27T10:59:09.430Z"
   },
   {
    "duration": 0,
    "start_time": "2022-06-27T10:59:09.432Z"
   },
   {
    "duration": 0,
    "start_time": "2022-06-27T10:59:09.433Z"
   },
   {
    "duration": 0,
    "start_time": "2022-06-27T10:59:09.435Z"
   },
   {
    "duration": 0,
    "start_time": "2022-06-27T10:59:09.436Z"
   },
   {
    "duration": 0,
    "start_time": "2022-06-27T10:59:09.437Z"
   },
   {
    "duration": 0,
    "start_time": "2022-06-27T10:59:09.439Z"
   },
   {
    "duration": 0,
    "start_time": "2022-06-27T10:59:09.440Z"
   },
   {
    "duration": 0,
    "start_time": "2022-06-27T10:59:09.442Z"
   },
   {
    "duration": 0,
    "start_time": "2022-06-27T10:59:09.443Z"
   },
   {
    "duration": 0,
    "start_time": "2022-06-27T10:59:09.444Z"
   },
   {
    "duration": 0,
    "start_time": "2022-06-27T10:59:09.446Z"
   },
   {
    "duration": 0,
    "start_time": "2022-06-27T10:59:09.447Z"
   },
   {
    "duration": 0,
    "start_time": "2022-06-27T10:59:09.449Z"
   },
   {
    "duration": 0,
    "start_time": "2022-06-27T10:59:09.451Z"
   },
   {
    "duration": 0,
    "start_time": "2022-06-27T10:59:09.452Z"
   },
   {
    "duration": 0,
    "start_time": "2022-06-27T10:59:09.453Z"
   },
   {
    "duration": 0,
    "start_time": "2022-06-27T10:59:09.456Z"
   },
   {
    "duration": 0,
    "start_time": "2022-06-27T10:59:09.457Z"
   },
   {
    "duration": 0,
    "start_time": "2022-06-27T10:59:09.459Z"
   },
   {
    "duration": 0,
    "start_time": "2022-06-27T10:59:09.460Z"
   },
   {
    "duration": 0,
    "start_time": "2022-06-27T10:59:09.462Z"
   },
   {
    "duration": 0,
    "start_time": "2022-06-27T10:59:09.463Z"
   },
   {
    "duration": 0,
    "start_time": "2022-06-27T10:59:09.465Z"
   },
   {
    "duration": 0,
    "start_time": "2022-06-27T10:59:09.527Z"
   },
   {
    "duration": 0,
    "start_time": "2022-06-27T10:59:09.529Z"
   },
   {
    "duration": 0,
    "start_time": "2022-06-27T10:59:09.531Z"
   },
   {
    "duration": 0,
    "start_time": "2022-06-27T10:59:09.532Z"
   },
   {
    "duration": 0,
    "start_time": "2022-06-27T10:59:09.533Z"
   },
   {
    "duration": 0,
    "start_time": "2022-06-27T10:59:09.534Z"
   },
   {
    "duration": 0,
    "start_time": "2022-06-27T10:59:09.536Z"
   },
   {
    "duration": 0,
    "start_time": "2022-06-27T10:59:09.538Z"
   },
   {
    "duration": 0,
    "start_time": "2022-06-27T10:59:09.539Z"
   },
   {
    "duration": 0,
    "start_time": "2022-06-27T10:59:09.540Z"
   },
   {
    "duration": 0,
    "start_time": "2022-06-27T10:59:09.540Z"
   },
   {
    "duration": 0,
    "start_time": "2022-06-27T10:59:09.542Z"
   },
   {
    "duration": 0,
    "start_time": "2022-06-27T10:59:09.543Z"
   },
   {
    "duration": 0,
    "start_time": "2022-06-27T10:59:09.544Z"
   },
   {
    "duration": 0,
    "start_time": "2022-06-27T10:59:09.544Z"
   },
   {
    "duration": 0,
    "start_time": "2022-06-27T10:59:09.545Z"
   },
   {
    "duration": 0,
    "start_time": "2022-06-27T10:59:09.546Z"
   },
   {
    "duration": 0,
    "start_time": "2022-06-27T10:59:09.547Z"
   },
   {
    "duration": 0,
    "start_time": "2022-06-27T10:59:09.548Z"
   },
   {
    "duration": 0,
    "start_time": "2022-06-27T10:59:09.550Z"
   },
   {
    "duration": 0,
    "start_time": "2022-06-27T10:59:09.551Z"
   },
   {
    "duration": 0,
    "start_time": "2022-06-27T10:59:09.552Z"
   },
   {
    "duration": 7,
    "start_time": "2022-06-27T11:02:16.813Z"
   },
   {
    "duration": 6,
    "start_time": "2022-06-27T11:02:43.655Z"
   },
   {
    "duration": 4,
    "start_time": "2022-06-27T11:03:06.980Z"
   },
   {
    "duration": 42,
    "start_time": "2022-06-27T11:03:34.153Z"
   },
   {
    "duration": 16,
    "start_time": "2022-06-27T11:03:37.905Z"
   },
   {
    "duration": 425,
    "start_time": "2022-06-27T11:03:48.239Z"
   },
   {
    "duration": 251,
    "start_time": "2022-06-27T11:03:48.666Z"
   },
   {
    "duration": 3,
    "start_time": "2022-06-27T11:03:48.919Z"
   },
   {
    "duration": 448,
    "start_time": "2022-06-27T11:03:48.926Z"
   },
   {
    "duration": 45,
    "start_time": "2022-06-27T11:03:49.376Z"
   },
   {
    "duration": 3,
    "start_time": "2022-06-27T11:03:49.423Z"
   },
   {
    "duration": 21,
    "start_time": "2022-06-27T11:03:49.427Z"
   },
   {
    "duration": 5,
    "start_time": "2022-06-27T11:03:49.450Z"
   },
   {
    "duration": 8,
    "start_time": "2022-06-27T11:03:49.457Z"
   },
   {
    "duration": 9,
    "start_time": "2022-06-27T11:03:49.467Z"
   },
   {
    "duration": 21,
    "start_time": "2022-06-27T11:03:49.478Z"
   },
   {
    "duration": 5,
    "start_time": "2022-06-27T11:03:49.500Z"
   },
   {
    "duration": 11,
    "start_time": "2022-06-27T11:03:49.527Z"
   },
   {
    "duration": 12,
    "start_time": "2022-06-27T11:03:49.539Z"
   },
   {
    "duration": 25,
    "start_time": "2022-06-27T11:03:49.553Z"
   },
   {
    "duration": 14,
    "start_time": "2022-06-27T11:03:49.580Z"
   },
   {
    "duration": 7,
    "start_time": "2022-06-27T11:03:49.595Z"
   },
   {
    "duration": 186,
    "start_time": "2022-06-27T11:03:49.604Z"
   },
   {
    "duration": 16,
    "start_time": "2022-06-27T11:03:49.791Z"
   },
   {
    "duration": 3,
    "start_time": "2022-06-27T11:03:49.810Z"
   },
   {
    "duration": 48,
    "start_time": "2022-06-27T11:03:49.827Z"
   },
   {
    "duration": 4,
    "start_time": "2022-06-27T11:03:49.877Z"
   },
   {
    "duration": 10,
    "start_time": "2022-06-27T11:03:49.882Z"
   },
   {
    "duration": 5,
    "start_time": "2022-06-27T11:03:49.894Z"
   },
   {
    "duration": 44,
    "start_time": "2022-06-27T11:03:49.900Z"
   },
   {
    "duration": 5,
    "start_time": "2022-06-27T11:03:49.946Z"
   },
   {
    "duration": 7,
    "start_time": "2022-06-27T11:03:49.952Z"
   },
   {
    "duration": 225,
    "start_time": "2022-06-27T11:03:49.963Z"
   },
   {
    "duration": 3,
    "start_time": "2022-06-27T11:03:50.190Z"
   },
   {
    "duration": 52,
    "start_time": "2022-06-27T11:03:50.195Z"
   },
   {
    "duration": 5,
    "start_time": "2022-06-27T11:03:50.248Z"
   },
   {
    "duration": 21,
    "start_time": "2022-06-27T11:03:50.254Z"
   },
   {
    "duration": 5,
    "start_time": "2022-06-27T11:03:50.277Z"
   },
   {
    "duration": 6,
    "start_time": "2022-06-27T11:03:50.283Z"
   },
   {
    "duration": 14,
    "start_time": "2022-06-27T11:03:50.290Z"
   },
   {
    "duration": 23,
    "start_time": "2022-06-27T11:03:50.305Z"
   },
   {
    "duration": 165,
    "start_time": "2022-06-27T11:03:50.329Z"
   },
   {
    "duration": 8,
    "start_time": "2022-06-27T11:03:50.495Z"
   },
   {
    "duration": 10,
    "start_time": "2022-06-27T11:03:50.504Z"
   },
   {
    "duration": 97,
    "start_time": "2022-06-27T11:03:50.515Z"
   },
   {
    "duration": 0,
    "start_time": "2022-06-27T11:03:50.614Z"
   },
   {
    "duration": 0,
    "start_time": "2022-06-27T11:03:50.616Z"
   },
   {
    "duration": 0,
    "start_time": "2022-06-27T11:03:50.617Z"
   },
   {
    "duration": 0,
    "start_time": "2022-06-27T11:03:50.627Z"
   },
   {
    "duration": 0,
    "start_time": "2022-06-27T11:03:50.628Z"
   },
   {
    "duration": 0,
    "start_time": "2022-06-27T11:03:50.630Z"
   },
   {
    "duration": 0,
    "start_time": "2022-06-27T11:03:50.631Z"
   },
   {
    "duration": 0,
    "start_time": "2022-06-27T11:03:50.632Z"
   },
   {
    "duration": 0,
    "start_time": "2022-06-27T11:03:50.632Z"
   },
   {
    "duration": 0,
    "start_time": "2022-06-27T11:03:50.634Z"
   },
   {
    "duration": 0,
    "start_time": "2022-06-27T11:03:50.635Z"
   },
   {
    "duration": 0,
    "start_time": "2022-06-27T11:03:50.635Z"
   },
   {
    "duration": 0,
    "start_time": "2022-06-27T11:03:50.637Z"
   },
   {
    "duration": 0,
    "start_time": "2022-06-27T11:03:50.638Z"
   },
   {
    "duration": 0,
    "start_time": "2022-06-27T11:03:50.639Z"
   },
   {
    "duration": 0,
    "start_time": "2022-06-27T11:03:50.640Z"
   },
   {
    "duration": 0,
    "start_time": "2022-06-27T11:03:50.641Z"
   },
   {
    "duration": 0,
    "start_time": "2022-06-27T11:03:50.642Z"
   },
   {
    "duration": 0,
    "start_time": "2022-06-27T11:03:50.643Z"
   },
   {
    "duration": 0,
    "start_time": "2022-06-27T11:03:50.644Z"
   },
   {
    "duration": 0,
    "start_time": "2022-06-27T11:03:50.645Z"
   },
   {
    "duration": 0,
    "start_time": "2022-06-27T11:03:50.646Z"
   },
   {
    "duration": 0,
    "start_time": "2022-06-27T11:03:50.647Z"
   },
   {
    "duration": 0,
    "start_time": "2022-06-27T11:03:50.648Z"
   },
   {
    "duration": 0,
    "start_time": "2022-06-27T11:03:50.649Z"
   },
   {
    "duration": 0,
    "start_time": "2022-06-27T11:03:50.650Z"
   },
   {
    "duration": 0,
    "start_time": "2022-06-27T11:03:50.651Z"
   },
   {
    "duration": 0,
    "start_time": "2022-06-27T11:03:50.652Z"
   },
   {
    "duration": 0,
    "start_time": "2022-06-27T11:03:50.653Z"
   },
   {
    "duration": 0,
    "start_time": "2022-06-27T11:03:50.654Z"
   },
   {
    "duration": 0,
    "start_time": "2022-06-27T11:03:50.655Z"
   },
   {
    "duration": 0,
    "start_time": "2022-06-27T11:03:50.657Z"
   },
   {
    "duration": 0,
    "start_time": "2022-06-27T11:03:50.657Z"
   },
   {
    "duration": 0,
    "start_time": "2022-06-27T11:03:50.659Z"
   },
   {
    "duration": 0,
    "start_time": "2022-06-27T11:03:50.660Z"
   },
   {
    "duration": 0,
    "start_time": "2022-06-27T11:03:50.661Z"
   },
   {
    "duration": 0,
    "start_time": "2022-06-27T11:03:50.662Z"
   },
   {
    "duration": 0,
    "start_time": "2022-06-27T11:03:50.663Z"
   },
   {
    "duration": 0,
    "start_time": "2022-06-27T11:03:50.664Z"
   },
   {
    "duration": 0,
    "start_time": "2022-06-27T11:03:50.665Z"
   },
   {
    "duration": 0,
    "start_time": "2022-06-27T11:03:50.728Z"
   },
   {
    "duration": 0,
    "start_time": "2022-06-27T11:03:50.729Z"
   },
   {
    "duration": 0,
    "start_time": "2022-06-27T11:03:50.731Z"
   },
   {
    "duration": 0,
    "start_time": "2022-06-27T11:03:50.732Z"
   },
   {
    "duration": 0,
    "start_time": "2022-06-27T11:03:50.733Z"
   },
   {
    "duration": 0,
    "start_time": "2022-06-27T11:03:50.734Z"
   },
   {
    "duration": 0,
    "start_time": "2022-06-27T11:03:50.735Z"
   },
   {
    "duration": 0,
    "start_time": "2022-06-27T11:03:50.736Z"
   },
   {
    "duration": 0,
    "start_time": "2022-06-27T11:03:50.737Z"
   },
   {
    "duration": 0,
    "start_time": "2022-06-27T11:03:50.738Z"
   },
   {
    "duration": 0,
    "start_time": "2022-06-27T11:03:50.739Z"
   },
   {
    "duration": 5,
    "start_time": "2022-06-27T11:04:02.859Z"
   },
   {
    "duration": 6,
    "start_time": "2022-06-27T11:04:19.424Z"
   },
   {
    "duration": 12,
    "start_time": "2022-06-27T11:04:20.160Z"
   },
   {
    "duration": 6,
    "start_time": "2022-06-27T11:05:02.503Z"
   },
   {
    "duration": 15,
    "start_time": "2022-06-27T11:05:03.290Z"
   },
   {
    "duration": 11,
    "start_time": "2022-06-27T11:05:46.310Z"
   },
   {
    "duration": 8,
    "start_time": "2022-06-27T11:05:52.239Z"
   },
   {
    "duration": 96,
    "start_time": "2022-06-27T11:05:57.374Z"
   },
   {
    "duration": 10,
    "start_time": "2022-06-27T11:06:07.859Z"
   },
   {
    "duration": 6,
    "start_time": "2022-06-27T11:06:13.926Z"
   },
   {
    "duration": 23,
    "start_time": "2022-06-27T11:06:15.820Z"
   },
   {
    "duration": 135,
    "start_time": "2022-06-27T11:06:26.710Z"
   },
   {
    "duration": 168,
    "start_time": "2022-06-27T11:06:46.338Z"
   },
   {
    "duration": 5,
    "start_time": "2022-06-27T11:06:49.038Z"
   },
   {
    "duration": 6,
    "start_time": "2022-06-27T11:06:51.062Z"
   },
   {
    "duration": 2,
    "start_time": "2022-06-27T11:06:58.275Z"
   },
   {
    "duration": 9,
    "start_time": "2022-06-27T11:06:59.083Z"
   },
   {
    "duration": 9,
    "start_time": "2022-06-27T11:07:05.483Z"
   },
   {
    "duration": 4,
    "start_time": "2022-06-27T11:07:15.223Z"
   },
   {
    "duration": 255,
    "start_time": "2022-06-27T11:07:21.588Z"
   },
   {
    "duration": 313,
    "start_time": "2022-06-27T11:07:25.219Z"
   },
   {
    "duration": 248,
    "start_time": "2022-06-27T11:07:31.431Z"
   },
   {
    "duration": 276,
    "start_time": "2022-06-27T11:07:34.303Z"
   },
   {
    "duration": 260,
    "start_time": "2022-06-27T11:07:38.279Z"
   },
   {
    "duration": 4,
    "start_time": "2022-06-27T11:07:46.004Z"
   },
   {
    "duration": 5,
    "start_time": "2022-06-27T11:07:49.822Z"
   },
   {
    "duration": 148,
    "start_time": "2022-06-27T11:07:52.638Z"
   },
   {
    "duration": 5,
    "start_time": "2022-06-27T11:07:58.005Z"
   },
   {
    "duration": 5,
    "start_time": "2022-06-27T11:08:01.020Z"
   },
   {
    "duration": 169,
    "start_time": "2022-06-27T11:08:03.787Z"
   },
   {
    "duration": 263,
    "start_time": "2022-06-27T11:08:12.382Z"
   },
   {
    "duration": 258,
    "start_time": "2022-06-27T11:08:29.993Z"
   },
   {
    "duration": 4,
    "start_time": "2022-06-27T11:09:01.531Z"
   },
   {
    "duration": 5,
    "start_time": "2022-06-27T11:09:05.970Z"
   },
   {
    "duration": 6,
    "start_time": "2022-06-27T11:09:12.055Z"
   },
   {
    "duration": 6,
    "start_time": "2022-06-27T11:09:16.966Z"
   },
   {
    "duration": 9,
    "start_time": "2022-06-27T11:09:19.098Z"
   },
   {
    "duration": 8,
    "start_time": "2022-06-27T11:09:29.294Z"
   },
   {
    "duration": 7,
    "start_time": "2022-06-27T11:09:32.907Z"
   },
   {
    "duration": 7,
    "start_time": "2022-06-27T11:09:41.317Z"
   },
   {
    "duration": 9,
    "start_time": "2022-06-27T11:09:46.309Z"
   },
   {
    "duration": 6,
    "start_time": "2022-06-27T11:55:19.494Z"
   },
   {
    "duration": 3,
    "start_time": "2022-06-27T11:55:38.276Z"
   },
   {
    "duration": 25,
    "start_time": "2022-06-27T11:58:18.997Z"
   },
   {
    "duration": 5,
    "start_time": "2022-06-27T11:58:19.721Z"
   },
   {
    "duration": 6,
    "start_time": "2022-06-27T11:59:07.944Z"
   },
   {
    "duration": 5,
    "start_time": "2022-06-27T11:59:09.547Z"
   },
   {
    "duration": 649,
    "start_time": "2022-06-27T11:59:29.920Z"
   },
   {
    "duration": 4,
    "start_time": "2022-06-27T11:59:31.735Z"
   },
   {
    "duration": 10,
    "start_time": "2022-06-27T12:00:04.475Z"
   },
   {
    "duration": 12,
    "start_time": "2022-06-27T12:00:05.728Z"
   },
   {
    "duration": 22,
    "start_time": "2022-06-27T12:00:28.231Z"
   },
   {
    "duration": 101,
    "start_time": "2022-06-27T12:06:30.483Z"
   },
   {
    "duration": 8,
    "start_time": "2022-06-27T12:06:30.979Z"
   },
   {
    "duration": 12,
    "start_time": "2022-06-27T12:07:17.000Z"
   },
   {
    "duration": 3,
    "start_time": "2022-06-27T12:07:38.357Z"
   },
   {
    "duration": 18,
    "start_time": "2022-06-27T12:07:38.968Z"
   },
   {
    "duration": 3,
    "start_time": "2022-06-27T12:07:41.165Z"
   },
   {
    "duration": 2,
    "start_time": "2022-06-27T12:07:43.562Z"
   },
   {
    "duration": 17,
    "start_time": "2022-06-27T12:07:45.387Z"
   },
   {
    "duration": 14,
    "start_time": "2022-06-27T12:07:51.498Z"
   },
   {
    "duration": 3,
    "start_time": "2022-06-27T12:08:03.287Z"
   },
   {
    "duration": 12,
    "start_time": "2022-06-27T12:08:04.686Z"
   },
   {
    "duration": 8,
    "start_time": "2022-06-27T12:22:26.153Z"
   },
   {
    "duration": 3,
    "start_time": "2022-06-27T12:22:55.687Z"
   },
   {
    "duration": 3,
    "start_time": "2022-06-27T12:22:57.053Z"
   },
   {
    "duration": 6,
    "start_time": "2022-06-27T12:22:58.051Z"
   },
   {
    "duration": 3,
    "start_time": "2022-06-27T12:23:10.366Z"
   },
   {
    "duration": 3,
    "start_time": "2022-06-27T12:23:11.377Z"
   },
   {
    "duration": 5,
    "start_time": "2022-06-27T12:23:12.053Z"
   },
   {
    "duration": 3,
    "start_time": "2022-06-27T12:23:32.507Z"
   },
   {
    "duration": 18,
    "start_time": "2022-06-27T12:23:32.961Z"
   },
   {
    "duration": 3,
    "start_time": "2022-06-27T12:23:42.173Z"
   },
   {
    "duration": 22,
    "start_time": "2022-06-27T12:23:42.621Z"
   },
   {
    "duration": 3,
    "start_time": "2022-06-27T12:23:58.421Z"
   },
   {
    "duration": 22,
    "start_time": "2022-06-27T12:23:59.137Z"
   },
   {
    "duration": 3,
    "start_time": "2022-06-27T12:24:22.123Z"
   },
   {
    "duration": 20,
    "start_time": "2022-06-27T12:24:22.634Z"
   },
   {
    "duration": 4,
    "start_time": "2022-06-27T12:24:30.092Z"
   },
   {
    "duration": 23,
    "start_time": "2022-06-27T12:24:30.647Z"
   },
   {
    "duration": 2,
    "start_time": "2022-06-27T12:24:37.892Z"
   },
   {
    "duration": 22,
    "start_time": "2022-06-27T12:24:38.387Z"
   },
   {
    "duration": 3,
    "start_time": "2022-06-27T12:24:42.293Z"
   },
   {
    "duration": 3,
    "start_time": "2022-06-27T12:24:43.294Z"
   },
   {
    "duration": 7,
    "start_time": "2022-06-27T12:24:43.778Z"
   },
   {
    "duration": 3,
    "start_time": "2022-06-27T12:24:49.189Z"
   },
   {
    "duration": 9,
    "start_time": "2022-06-27T12:24:52.339Z"
   },
   {
    "duration": 9,
    "start_time": "2022-06-27T12:25:12.823Z"
   },
   {
    "duration": 167,
    "start_time": "2022-06-27T12:25:15.986Z"
   },
   {
    "duration": 161,
    "start_time": "2022-06-27T12:25:20.438Z"
   },
   {
    "duration": 7,
    "start_time": "2022-06-27T12:26:52.053Z"
   },
   {
    "duration": 54,
    "start_time": "2022-06-27T12:28:56.685Z"
   },
   {
    "duration": 107,
    "start_time": "2022-06-27T12:29:09.780Z"
   },
   {
    "duration": 9,
    "start_time": "2022-06-27T12:30:25.994Z"
   },
   {
    "duration": 3,
    "start_time": "2022-06-27T12:30:27.569Z"
   },
   {
    "duration": 42,
    "start_time": "2022-06-27T12:30:28.440Z"
   },
   {
    "duration": 4,
    "start_time": "2022-06-27T12:30:51.540Z"
   },
   {
    "duration": 45,
    "start_time": "2022-06-27T12:30:55.166Z"
   },
   {
    "duration": 2,
    "start_time": "2022-06-27T12:31:15.544Z"
   },
   {
    "duration": 21,
    "start_time": "2022-06-27T12:31:21.338Z"
   },
   {
    "duration": 3,
    "start_time": "2022-06-27T12:31:29.500Z"
   },
   {
    "duration": 3,
    "start_time": "2022-06-27T12:31:37.095Z"
   },
   {
    "duration": 6,
    "start_time": "2022-06-27T12:31:42.553Z"
   },
   {
    "duration": 3,
    "start_time": "2022-06-27T12:31:53.682Z"
   },
   {
    "duration": 11,
    "start_time": "2022-06-27T12:31:59.023Z"
   },
   {
    "duration": 174,
    "start_time": "2022-06-27T12:32:00.122Z"
   },
   {
    "duration": 171,
    "start_time": "2022-06-27T12:32:08.511Z"
   },
   {
    "duration": 12,
    "start_time": "2022-06-27T12:35:07.466Z"
   },
   {
    "duration": 12,
    "start_time": "2022-06-27T12:35:41.887Z"
   },
   {
    "duration": 67,
    "start_time": "2022-06-27T12:36:13.517Z"
   },
   {
    "duration": 20,
    "start_time": "2022-06-27T12:36:49.440Z"
   },
   {
    "duration": 3,
    "start_time": "2022-06-27T12:37:48.730Z"
   },
   {
    "duration": 5,
    "start_time": "2022-06-27T12:37:50.214Z"
   },
   {
    "duration": 439,
    "start_time": "2022-06-27T12:40:51.765Z"
   },
   {
    "duration": 225,
    "start_time": "2022-06-27T12:40:52.205Z"
   },
   {
    "duration": 2,
    "start_time": "2022-06-27T12:40:52.432Z"
   },
   {
    "duration": 540,
    "start_time": "2022-06-27T12:40:52.437Z"
   },
   {
    "duration": 3,
    "start_time": "2022-06-27T12:40:52.979Z"
   },
   {
    "duration": 52,
    "start_time": "2022-06-27T12:40:52.983Z"
   },
   {
    "duration": 4,
    "start_time": "2022-06-27T12:40:53.036Z"
   },
   {
    "duration": 18,
    "start_time": "2022-06-27T12:40:53.041Z"
   },
   {
    "duration": 5,
    "start_time": "2022-06-27T12:40:53.060Z"
   },
   {
    "duration": 10,
    "start_time": "2022-06-27T12:40:53.067Z"
   },
   {
    "duration": 17,
    "start_time": "2022-06-27T12:40:53.078Z"
   },
   {
    "duration": 36,
    "start_time": "2022-06-27T12:40:53.097Z"
   },
   {
    "duration": 4,
    "start_time": "2022-06-27T12:40:53.135Z"
   },
   {
    "duration": 13,
    "start_time": "2022-06-27T12:40:53.141Z"
   },
   {
    "duration": 8,
    "start_time": "2022-06-27T12:40:53.156Z"
   },
   {
    "duration": 23,
    "start_time": "2022-06-27T12:40:53.165Z"
   },
   {
    "duration": 37,
    "start_time": "2022-06-27T12:40:53.191Z"
   },
   {
    "duration": 9,
    "start_time": "2022-06-27T12:40:53.230Z"
   },
   {
    "duration": 216,
    "start_time": "2022-06-27T12:40:53.241Z"
   },
   {
    "duration": 16,
    "start_time": "2022-06-27T12:40:53.459Z"
   },
   {
    "duration": 4,
    "start_time": "2022-06-27T12:40:53.477Z"
   },
   {
    "duration": 89,
    "start_time": "2022-06-27T12:40:53.483Z"
   },
   {
    "duration": 10,
    "start_time": "2022-06-27T12:40:53.574Z"
   },
   {
    "duration": 8,
    "start_time": "2022-06-27T12:40:53.585Z"
   },
   {
    "duration": 9,
    "start_time": "2022-06-27T12:40:53.595Z"
   },
   {
    "duration": 45,
    "start_time": "2022-06-27T12:40:53.607Z"
   },
   {
    "duration": 8,
    "start_time": "2022-06-27T12:40:53.654Z"
   },
   {
    "duration": 4,
    "start_time": "2022-06-27T12:40:53.667Z"
   },
   {
    "duration": 246,
    "start_time": "2022-06-27T12:40:53.673Z"
   },
   {
    "duration": 9,
    "start_time": "2022-06-27T12:40:53.921Z"
   },
   {
    "duration": 59,
    "start_time": "2022-06-27T12:40:53.932Z"
   },
   {
    "duration": 5,
    "start_time": "2022-06-27T12:40:53.993Z"
   },
   {
    "duration": 41,
    "start_time": "2022-06-27T12:40:54.000Z"
   },
   {
    "duration": 3,
    "start_time": "2022-06-27T12:40:54.043Z"
   },
   {
    "duration": 7,
    "start_time": "2022-06-27T12:40:54.047Z"
   },
   {
    "duration": 11,
    "start_time": "2022-06-27T12:40:54.055Z"
   },
   {
    "duration": 6,
    "start_time": "2022-06-27T12:40:54.068Z"
   },
   {
    "duration": 12,
    "start_time": "2022-06-27T12:40:54.075Z"
   },
   {
    "duration": 196,
    "start_time": "2022-06-27T12:40:54.089Z"
   },
   {
    "duration": 11,
    "start_time": "2022-06-27T12:40:54.287Z"
   },
   {
    "duration": 11,
    "start_time": "2022-06-27T12:40:54.300Z"
   },
   {
    "duration": 20,
    "start_time": "2022-06-27T12:40:54.312Z"
   },
   {
    "duration": 116,
    "start_time": "2022-06-27T12:40:54.334Z"
   },
   {
    "duration": 0,
    "start_time": "2022-06-27T12:40:54.452Z"
   },
   {
    "duration": 0,
    "start_time": "2022-06-27T12:40:54.453Z"
   },
   {
    "duration": 0,
    "start_time": "2022-06-27T12:40:54.455Z"
   },
   {
    "duration": 0,
    "start_time": "2022-06-27T12:40:54.456Z"
   },
   {
    "duration": 0,
    "start_time": "2022-06-27T12:40:54.458Z"
   },
   {
    "duration": 0,
    "start_time": "2022-06-27T12:40:54.459Z"
   },
   {
    "duration": 0,
    "start_time": "2022-06-27T12:40:54.461Z"
   },
   {
    "duration": 0,
    "start_time": "2022-06-27T12:40:54.462Z"
   },
   {
    "duration": 0,
    "start_time": "2022-06-27T12:40:54.463Z"
   },
   {
    "duration": 0,
    "start_time": "2022-06-27T12:40:54.465Z"
   },
   {
    "duration": 0,
    "start_time": "2022-06-27T12:40:54.466Z"
   },
   {
    "duration": 1,
    "start_time": "2022-06-27T12:40:54.467Z"
   },
   {
    "duration": 0,
    "start_time": "2022-06-27T12:40:54.469Z"
   },
   {
    "duration": 0,
    "start_time": "2022-06-27T12:40:54.470Z"
   },
   {
    "duration": 0,
    "start_time": "2022-06-27T12:40:54.472Z"
   },
   {
    "duration": 0,
    "start_time": "2022-06-27T12:40:54.473Z"
   },
   {
    "duration": 0,
    "start_time": "2022-06-27T12:40:54.475Z"
   },
   {
    "duration": 0,
    "start_time": "2022-06-27T12:40:54.476Z"
   },
   {
    "duration": 1,
    "start_time": "2022-06-27T12:40:54.477Z"
   },
   {
    "duration": 0,
    "start_time": "2022-06-27T12:40:54.479Z"
   },
   {
    "duration": 0,
    "start_time": "2022-06-27T12:40:54.480Z"
   },
   {
    "duration": 0,
    "start_time": "2022-06-27T12:40:54.528Z"
   },
   {
    "duration": 0,
    "start_time": "2022-06-27T12:40:54.529Z"
   },
   {
    "duration": 0,
    "start_time": "2022-06-27T12:40:54.531Z"
   },
   {
    "duration": 0,
    "start_time": "2022-06-27T12:40:54.532Z"
   },
   {
    "duration": 0,
    "start_time": "2022-06-27T12:40:54.534Z"
   },
   {
    "duration": 0,
    "start_time": "2022-06-27T12:40:54.535Z"
   },
   {
    "duration": 0,
    "start_time": "2022-06-27T12:40:54.536Z"
   },
   {
    "duration": 0,
    "start_time": "2022-06-27T12:40:54.538Z"
   },
   {
    "duration": 0,
    "start_time": "2022-06-27T12:40:54.539Z"
   },
   {
    "duration": 0,
    "start_time": "2022-06-27T12:40:54.540Z"
   },
   {
    "duration": 0,
    "start_time": "2022-06-27T12:40:54.542Z"
   },
   {
    "duration": 0,
    "start_time": "2022-06-27T12:40:54.543Z"
   },
   {
    "duration": 0,
    "start_time": "2022-06-27T12:40:54.544Z"
   },
   {
    "duration": 0,
    "start_time": "2022-06-27T12:40:54.545Z"
   },
   {
    "duration": 0,
    "start_time": "2022-06-27T12:40:54.547Z"
   },
   {
    "duration": 0,
    "start_time": "2022-06-27T12:40:54.548Z"
   },
   {
    "duration": 0,
    "start_time": "2022-06-27T12:40:54.550Z"
   },
   {
    "duration": 0,
    "start_time": "2022-06-27T12:40:54.551Z"
   },
   {
    "duration": 0,
    "start_time": "2022-06-27T12:40:54.552Z"
   },
   {
    "duration": 0,
    "start_time": "2022-06-27T12:40:54.553Z"
   },
   {
    "duration": 0,
    "start_time": "2022-06-27T12:40:54.554Z"
   },
   {
    "duration": 0,
    "start_time": "2022-06-27T12:40:54.556Z"
   },
   {
    "duration": 0,
    "start_time": "2022-06-27T12:40:54.557Z"
   },
   {
    "duration": 0,
    "start_time": "2022-06-27T12:40:54.558Z"
   },
   {
    "duration": 0,
    "start_time": "2022-06-27T12:40:54.559Z"
   },
   {
    "duration": 0,
    "start_time": "2022-06-27T12:40:54.560Z"
   },
   {
    "duration": 0,
    "start_time": "2022-06-27T12:40:54.561Z"
   },
   {
    "duration": 0,
    "start_time": "2022-06-27T12:40:54.562Z"
   },
   {
    "duration": 7,
    "start_time": "2022-06-27T12:41:25.487Z"
   },
   {
    "duration": 12,
    "start_time": "2022-06-27T12:41:37.996Z"
   },
   {
    "duration": 12,
    "start_time": "2022-06-27T12:42:08.664Z"
   },
   {
    "duration": 105,
    "start_time": "2022-06-27T12:42:40.988Z"
   },
   {
    "duration": 212,
    "start_time": "2022-06-27T12:43:09.006Z"
   },
   {
    "duration": 30,
    "start_time": "2022-06-27T12:45:21.787Z"
   },
   {
    "duration": 28,
    "start_time": "2022-06-27T12:45:30.280Z"
   },
   {
    "duration": 5,
    "start_time": "2022-06-27T12:45:53.767Z"
   },
   {
    "duration": 234,
    "start_time": "2022-06-27T12:45:56.370Z"
   },
   {
    "duration": 214,
    "start_time": "2022-06-27T12:46:09.031Z"
   },
   {
    "duration": 103,
    "start_time": "2022-06-27T12:46:46.663Z"
   },
   {
    "duration": 148,
    "start_time": "2022-06-27T12:47:19.203Z"
   },
   {
    "duration": 141,
    "start_time": "2022-06-27T12:47:22.471Z"
   },
   {
    "duration": 183,
    "start_time": "2022-06-27T12:47:36.203Z"
   },
   {
    "duration": 106,
    "start_time": "2022-06-27T12:48:04.009Z"
   },
   {
    "duration": 177,
    "start_time": "2022-06-27T12:48:16.254Z"
   },
   {
    "duration": 136,
    "start_time": "2022-06-27T12:51:44.844Z"
   },
   {
    "duration": 134,
    "start_time": "2022-06-27T12:52:00.064Z"
   },
   {
    "duration": 136,
    "start_time": "2022-06-27T12:52:09.245Z"
   },
   {
    "duration": 6,
    "start_time": "2022-06-27T12:53:18.502Z"
   },
   {
    "duration": 142,
    "start_time": "2022-06-27T12:53:34.765Z"
   },
   {
    "duration": 735,
    "start_time": "2022-06-27T12:58:12.491Z"
   },
   {
    "duration": 15,
    "start_time": "2022-06-27T12:58:46.501Z"
   },
   {
    "duration": 10,
    "start_time": "2022-06-27T12:58:47.330Z"
   },
   {
    "duration": 5,
    "start_time": "2022-06-27T12:58:54.881Z"
   },
   {
    "duration": 7,
    "start_time": "2022-06-27T12:58:55.633Z"
   },
   {
    "duration": 251,
    "start_time": "2022-06-27T12:59:06.339Z"
   },
   {
    "duration": 11,
    "start_time": "2022-06-27T13:00:16.802Z"
   },
   {
    "duration": 18,
    "start_time": "2022-06-27T13:00:17.580Z"
   },
   {
    "duration": 10,
    "start_time": "2022-06-27T13:01:17.918Z"
   },
   {
    "duration": 8,
    "start_time": "2022-06-27T13:01:18.958Z"
   },
   {
    "duration": 5,
    "start_time": "2022-06-27T13:01:25.087Z"
   },
   {
    "duration": 7,
    "start_time": "2022-06-27T13:01:25.518Z"
   },
   {
    "duration": 215,
    "start_time": "2022-06-27T13:01:56.743Z"
   },
   {
    "duration": 422,
    "start_time": "2022-06-27T13:03:49.343Z"
   },
   {
    "duration": 222,
    "start_time": "2022-06-27T13:03:49.767Z"
   },
   {
    "duration": 2,
    "start_time": "2022-06-27T13:03:49.991Z"
   },
   {
    "duration": 526,
    "start_time": "2022-06-27T13:03:49.995Z"
   },
   {
    "duration": 4,
    "start_time": "2022-06-27T13:03:50.523Z"
   },
   {
    "duration": 57,
    "start_time": "2022-06-27T13:03:50.529Z"
   },
   {
    "duration": 3,
    "start_time": "2022-06-27T13:03:50.588Z"
   },
   {
    "duration": 20,
    "start_time": "2022-06-27T13:03:50.593Z"
   },
   {
    "duration": 4,
    "start_time": "2022-06-27T13:03:50.615Z"
   },
   {
    "duration": 10,
    "start_time": "2022-06-27T13:03:50.622Z"
   },
   {
    "duration": 10,
    "start_time": "2022-06-27T13:03:50.634Z"
   },
   {
    "duration": 22,
    "start_time": "2022-06-27T13:03:50.646Z"
   },
   {
    "duration": 5,
    "start_time": "2022-06-27T13:03:50.669Z"
   },
   {
    "duration": 17,
    "start_time": "2022-06-27T13:03:50.676Z"
   },
   {
    "duration": 36,
    "start_time": "2022-06-27T13:03:50.695Z"
   },
   {
    "duration": 25,
    "start_time": "2022-06-27T13:03:50.732Z"
   },
   {
    "duration": 13,
    "start_time": "2022-06-27T13:03:50.759Z"
   },
   {
    "duration": 7,
    "start_time": "2022-06-27T13:03:50.775Z"
   },
   {
    "duration": 182,
    "start_time": "2022-06-27T13:03:50.784Z"
   },
   {
    "duration": 16,
    "start_time": "2022-06-27T13:03:50.967Z"
   },
   {
    "duration": 4,
    "start_time": "2022-06-27T13:03:50.984Z"
   },
   {
    "duration": 61,
    "start_time": "2022-06-27T13:03:50.990Z"
   },
   {
    "duration": 7,
    "start_time": "2022-06-27T13:03:51.053Z"
   },
   {
    "duration": 6,
    "start_time": "2022-06-27T13:03:51.062Z"
   },
   {
    "duration": 5,
    "start_time": "2022-06-27T13:03:51.070Z"
   },
   {
    "duration": 33,
    "start_time": "2022-06-27T13:03:51.077Z"
   },
   {
    "duration": 4,
    "start_time": "2022-06-27T13:03:51.128Z"
   },
   {
    "duration": 6,
    "start_time": "2022-06-27T13:03:51.137Z"
   },
   {
    "duration": 213,
    "start_time": "2022-06-27T13:03:51.144Z"
   },
   {
    "duration": 4,
    "start_time": "2022-06-27T13:03:51.360Z"
   },
   {
    "duration": 46,
    "start_time": "2022-06-27T13:03:51.366Z"
   },
   {
    "duration": 16,
    "start_time": "2022-06-27T13:03:51.413Z"
   },
   {
    "duration": 25,
    "start_time": "2022-06-27T13:03:51.430Z"
   },
   {
    "duration": 4,
    "start_time": "2022-06-27T13:03:51.457Z"
   },
   {
    "duration": 6,
    "start_time": "2022-06-27T13:03:51.462Z"
   },
   {
    "duration": 12,
    "start_time": "2022-06-27T13:03:51.469Z"
   },
   {
    "duration": 6,
    "start_time": "2022-06-27T13:03:51.482Z"
   },
   {
    "duration": 38,
    "start_time": "2022-06-27T13:03:51.489Z"
   },
   {
    "duration": 175,
    "start_time": "2022-06-27T13:03:51.529Z"
   },
   {
    "duration": 12,
    "start_time": "2022-06-27T13:03:51.705Z"
   },
   {
    "duration": 9,
    "start_time": "2022-06-27T13:03:51.728Z"
   },
   {
    "duration": 14,
    "start_time": "2022-06-27T13:03:51.738Z"
   },
   {
    "duration": 7,
    "start_time": "2022-06-27T13:03:51.754Z"
   },
   {
    "duration": 120,
    "start_time": "2022-06-27T13:03:51.762Z"
   },
   {
    "duration": 0,
    "start_time": "2022-06-27T13:03:51.884Z"
   },
   {
    "duration": 0,
    "start_time": "2022-06-27T13:03:51.886Z"
   },
   {
    "duration": 0,
    "start_time": "2022-06-27T13:03:51.887Z"
   },
   {
    "duration": 0,
    "start_time": "2022-06-27T13:03:51.888Z"
   },
   {
    "duration": 0,
    "start_time": "2022-06-27T13:03:51.890Z"
   },
   {
    "duration": 0,
    "start_time": "2022-06-27T13:03:51.891Z"
   },
   {
    "duration": 0,
    "start_time": "2022-06-27T13:03:51.893Z"
   },
   {
    "duration": 0,
    "start_time": "2022-06-27T13:03:51.894Z"
   },
   {
    "duration": 0,
    "start_time": "2022-06-27T13:03:51.896Z"
   },
   {
    "duration": 0,
    "start_time": "2022-06-27T13:03:51.897Z"
   },
   {
    "duration": 0,
    "start_time": "2022-06-27T13:03:51.898Z"
   },
   {
    "duration": 0,
    "start_time": "2022-06-27T13:03:51.900Z"
   },
   {
    "duration": 0,
    "start_time": "2022-06-27T13:03:51.901Z"
   },
   {
    "duration": 0,
    "start_time": "2022-06-27T13:03:51.927Z"
   },
   {
    "duration": 0,
    "start_time": "2022-06-27T13:03:51.929Z"
   },
   {
    "duration": 0,
    "start_time": "2022-06-27T13:03:51.930Z"
   },
   {
    "duration": 0,
    "start_time": "2022-06-27T13:03:51.932Z"
   },
   {
    "duration": 0,
    "start_time": "2022-06-27T13:03:51.933Z"
   },
   {
    "duration": 0,
    "start_time": "2022-06-27T13:03:51.934Z"
   },
   {
    "duration": 0,
    "start_time": "2022-06-27T13:03:51.935Z"
   },
   {
    "duration": 0,
    "start_time": "2022-06-27T13:03:51.936Z"
   },
   {
    "duration": 0,
    "start_time": "2022-06-27T13:03:51.937Z"
   },
   {
    "duration": 0,
    "start_time": "2022-06-27T13:03:51.938Z"
   },
   {
    "duration": 0,
    "start_time": "2022-06-27T13:03:51.939Z"
   },
   {
    "duration": 0,
    "start_time": "2022-06-27T13:03:51.940Z"
   },
   {
    "duration": 0,
    "start_time": "2022-06-27T13:03:51.941Z"
   },
   {
    "duration": 0,
    "start_time": "2022-06-27T13:03:51.942Z"
   },
   {
    "duration": 0,
    "start_time": "2022-06-27T13:03:51.943Z"
   },
   {
    "duration": 0,
    "start_time": "2022-06-27T13:03:51.944Z"
   },
   {
    "duration": 0,
    "start_time": "2022-06-27T13:03:51.945Z"
   },
   {
    "duration": 0,
    "start_time": "2022-06-27T13:03:51.946Z"
   },
   {
    "duration": 0,
    "start_time": "2022-06-27T13:03:51.947Z"
   },
   {
    "duration": 0,
    "start_time": "2022-06-27T13:03:51.948Z"
   },
   {
    "duration": 0,
    "start_time": "2022-06-27T13:03:51.949Z"
   },
   {
    "duration": 0,
    "start_time": "2022-06-27T13:03:51.950Z"
   },
   {
    "duration": 0,
    "start_time": "2022-06-27T13:03:51.951Z"
   },
   {
    "duration": 0,
    "start_time": "2022-06-27T13:03:51.952Z"
   },
   {
    "duration": 0,
    "start_time": "2022-06-27T13:03:51.953Z"
   },
   {
    "duration": 0,
    "start_time": "2022-06-27T13:03:51.954Z"
   },
   {
    "duration": 0,
    "start_time": "2022-06-27T13:03:51.955Z"
   },
   {
    "duration": 0,
    "start_time": "2022-06-27T13:03:51.956Z"
   },
   {
    "duration": 0,
    "start_time": "2022-06-27T13:03:51.957Z"
   },
   {
    "duration": 0,
    "start_time": "2022-06-27T13:03:51.958Z"
   },
   {
    "duration": 0,
    "start_time": "2022-06-27T13:03:51.959Z"
   },
   {
    "duration": 0,
    "start_time": "2022-06-27T13:03:51.960Z"
   },
   {
    "duration": 0,
    "start_time": "2022-06-27T13:03:51.961Z"
   },
   {
    "duration": 0,
    "start_time": "2022-06-27T13:03:51.962Z"
   },
   {
    "duration": 0,
    "start_time": "2022-06-27T13:03:51.963Z"
   },
   {
    "duration": 0,
    "start_time": "2022-06-27T13:03:52.027Z"
   },
   {
    "duration": 0,
    "start_time": "2022-06-27T13:03:52.029Z"
   },
   {
    "duration": 0,
    "start_time": "2022-06-27T13:03:52.030Z"
   },
   {
    "duration": 23,
    "start_time": "2022-06-27T13:04:22.177Z"
   },
   {
    "duration": 216,
    "start_time": "2022-06-27T13:04:28.559Z"
   },
   {
    "duration": 219,
    "start_time": "2022-06-27T13:04:32.589Z"
   },
   {
    "duration": 297,
    "start_time": "2022-06-27T13:04:54.143Z"
   },
   {
    "duration": 422,
    "start_time": "2022-06-27T13:05:04.551Z"
   },
   {
    "duration": 234,
    "start_time": "2022-06-27T13:05:04.975Z"
   },
   {
    "duration": 3,
    "start_time": "2022-06-27T13:05:05.211Z"
   },
   {
    "duration": 525,
    "start_time": "2022-06-27T13:05:05.216Z"
   },
   {
    "duration": 3,
    "start_time": "2022-06-27T13:05:05.743Z"
   },
   {
    "duration": 47,
    "start_time": "2022-06-27T13:05:05.748Z"
   },
   {
    "duration": 4,
    "start_time": "2022-06-27T13:05:05.797Z"
   },
   {
    "duration": 27,
    "start_time": "2022-06-27T13:05:05.803Z"
   },
   {
    "duration": 14,
    "start_time": "2022-06-27T13:05:05.832Z"
   },
   {
    "duration": 20,
    "start_time": "2022-06-27T13:05:05.850Z"
   },
   {
    "duration": 15,
    "start_time": "2022-06-27T13:05:05.872Z"
   },
   {
    "duration": 26,
    "start_time": "2022-06-27T13:05:05.888Z"
   },
   {
    "duration": 11,
    "start_time": "2022-06-27T13:05:05.916Z"
   },
   {
    "duration": 20,
    "start_time": "2022-06-27T13:05:05.930Z"
   },
   {
    "duration": 9,
    "start_time": "2022-06-27T13:05:05.952Z"
   },
   {
    "duration": 28,
    "start_time": "2022-06-27T13:05:05.963Z"
   },
   {
    "duration": 17,
    "start_time": "2022-06-27T13:05:05.993Z"
   },
   {
    "duration": 18,
    "start_time": "2022-06-27T13:05:06.012Z"
   },
   {
    "duration": 191,
    "start_time": "2022-06-27T13:05:06.033Z"
   },
   {
    "duration": 19,
    "start_time": "2022-06-27T13:05:06.226Z"
   },
   {
    "duration": 4,
    "start_time": "2022-06-27T13:05:06.247Z"
   },
   {
    "duration": 88,
    "start_time": "2022-06-27T13:05:06.253Z"
   },
   {
    "duration": 10,
    "start_time": "2022-06-27T13:05:06.344Z"
   },
   {
    "duration": 12,
    "start_time": "2022-06-27T13:05:06.356Z"
   },
   {
    "duration": 16,
    "start_time": "2022-06-27T13:05:06.370Z"
   },
   {
    "duration": 43,
    "start_time": "2022-06-27T13:05:06.388Z"
   },
   {
    "duration": 14,
    "start_time": "2022-06-27T13:05:06.433Z"
   },
   {
    "duration": 7,
    "start_time": "2022-06-27T13:05:06.453Z"
   },
   {
    "duration": 230,
    "start_time": "2022-06-27T13:05:06.463Z"
   },
   {
    "duration": 3,
    "start_time": "2022-06-27T13:05:06.695Z"
   },
   {
    "duration": 74,
    "start_time": "2022-06-27T13:05:06.701Z"
   },
   {
    "duration": 6,
    "start_time": "2022-06-27T13:05:06.777Z"
   },
   {
    "duration": 22,
    "start_time": "2022-06-27T13:05:06.784Z"
   },
   {
    "duration": 19,
    "start_time": "2022-06-27T13:05:06.808Z"
   },
   {
    "duration": 2,
    "start_time": "2022-06-27T13:05:06.829Z"
   },
   {
    "duration": 9,
    "start_time": "2022-06-27T13:05:06.833Z"
   },
   {
    "duration": 6,
    "start_time": "2022-06-27T13:05:06.843Z"
   },
   {
    "duration": 12,
    "start_time": "2022-06-27T13:05:06.850Z"
   },
   {
    "duration": 188,
    "start_time": "2022-06-27T13:05:06.863Z"
   },
   {
    "duration": 11,
    "start_time": "2022-06-27T13:05:07.053Z"
   },
   {
    "duration": 14,
    "start_time": "2022-06-27T13:05:07.065Z"
   },
   {
    "duration": 11,
    "start_time": "2022-06-27T13:05:07.081Z"
   },
   {
    "duration": 8,
    "start_time": "2022-06-27T13:05:07.094Z"
   },
   {
    "duration": 41,
    "start_time": "2022-06-27T13:05:07.103Z"
   },
   {
    "duration": 234,
    "start_time": "2022-06-27T13:05:07.146Z"
   },
   {
    "duration": 265,
    "start_time": "2022-06-27T13:05:07.382Z"
   },
   {
    "duration": 3,
    "start_time": "2022-06-27T13:05:07.649Z"
   },
   {
    "duration": 113,
    "start_time": "2022-06-27T13:05:07.655Z"
   },
   {
    "duration": 0,
    "start_time": "2022-06-27T13:05:07.771Z"
   },
   {
    "duration": 0,
    "start_time": "2022-06-27T13:05:07.772Z"
   },
   {
    "duration": 0,
    "start_time": "2022-06-27T13:05:07.773Z"
   },
   {
    "duration": 0,
    "start_time": "2022-06-27T13:05:07.775Z"
   },
   {
    "duration": 0,
    "start_time": "2022-06-27T13:05:07.776Z"
   },
   {
    "duration": 0,
    "start_time": "2022-06-27T13:05:07.777Z"
   },
   {
    "duration": 0,
    "start_time": "2022-06-27T13:05:07.779Z"
   },
   {
    "duration": 0,
    "start_time": "2022-06-27T13:05:07.780Z"
   },
   {
    "duration": 0,
    "start_time": "2022-06-27T13:05:07.781Z"
   },
   {
    "duration": 0,
    "start_time": "2022-06-27T13:05:07.782Z"
   },
   {
    "duration": 0,
    "start_time": "2022-06-27T13:05:07.783Z"
   },
   {
    "duration": 0,
    "start_time": "2022-06-27T13:05:07.785Z"
   },
   {
    "duration": 0,
    "start_time": "2022-06-27T13:05:07.786Z"
   },
   {
    "duration": 0,
    "start_time": "2022-06-27T13:05:07.787Z"
   },
   {
    "duration": 0,
    "start_time": "2022-06-27T13:05:07.788Z"
   },
   {
    "duration": 1,
    "start_time": "2022-06-27T13:05:07.789Z"
   },
   {
    "duration": 0,
    "start_time": "2022-06-27T13:05:07.827Z"
   },
   {
    "duration": 0,
    "start_time": "2022-06-27T13:05:07.829Z"
   },
   {
    "duration": 0,
    "start_time": "2022-06-27T13:05:07.831Z"
   },
   {
    "duration": 0,
    "start_time": "2022-06-27T13:05:07.834Z"
   },
   {
    "duration": 0,
    "start_time": "2022-06-27T13:05:07.834Z"
   },
   {
    "duration": 0,
    "start_time": "2022-06-27T13:05:07.835Z"
   },
   {
    "duration": 0,
    "start_time": "2022-06-27T13:05:07.836Z"
   },
   {
    "duration": 0,
    "start_time": "2022-06-27T13:05:07.837Z"
   },
   {
    "duration": 0,
    "start_time": "2022-06-27T13:05:07.838Z"
   },
   {
    "duration": 0,
    "start_time": "2022-06-27T13:05:07.839Z"
   },
   {
    "duration": 0,
    "start_time": "2022-06-27T13:05:07.840Z"
   },
   {
    "duration": 0,
    "start_time": "2022-06-27T13:05:07.841Z"
   },
   {
    "duration": 0,
    "start_time": "2022-06-27T13:05:07.842Z"
   },
   {
    "duration": 0,
    "start_time": "2022-06-27T13:05:07.843Z"
   },
   {
    "duration": 0,
    "start_time": "2022-06-27T13:05:07.843Z"
   },
   {
    "duration": 0,
    "start_time": "2022-06-27T13:05:07.844Z"
   },
   {
    "duration": 0,
    "start_time": "2022-06-27T13:05:07.846Z"
   },
   {
    "duration": 0,
    "start_time": "2022-06-27T13:05:07.847Z"
   },
   {
    "duration": 0,
    "start_time": "2022-06-27T13:05:07.847Z"
   },
   {
    "duration": 0,
    "start_time": "2022-06-27T13:05:07.848Z"
   },
   {
    "duration": 0,
    "start_time": "2022-06-27T13:05:07.850Z"
   },
   {
    "duration": 0,
    "start_time": "2022-06-27T13:05:07.851Z"
   },
   {
    "duration": 0,
    "start_time": "2022-06-27T13:05:07.852Z"
   },
   {
    "duration": 0,
    "start_time": "2022-06-27T13:05:07.853Z"
   },
   {
    "duration": 0,
    "start_time": "2022-06-27T13:05:07.854Z"
   },
   {
    "duration": 0,
    "start_time": "2022-06-27T13:05:07.855Z"
   },
   {
    "duration": 0,
    "start_time": "2022-06-27T13:05:07.856Z"
   },
   {
    "duration": 0,
    "start_time": "2022-06-27T13:05:07.857Z"
   },
   {
    "duration": 0,
    "start_time": "2022-06-27T13:05:07.858Z"
   },
   {
    "duration": 0,
    "start_time": "2022-06-27T13:05:07.859Z"
   },
   {
    "duration": 0,
    "start_time": "2022-06-27T13:05:07.860Z"
   },
   {
    "duration": 288,
    "start_time": "2022-06-27T13:05:30.951Z"
   },
   {
    "duration": 230,
    "start_time": "2022-06-27T13:06:22.052Z"
   },
   {
    "duration": 437,
    "start_time": "2022-06-27T13:07:18.230Z"
   },
   {
    "duration": 225,
    "start_time": "2022-06-27T13:07:18.670Z"
   },
   {
    "duration": 3,
    "start_time": "2022-06-27T13:07:18.896Z"
   },
   {
    "duration": 527,
    "start_time": "2022-06-27T13:07:18.901Z"
   },
   {
    "duration": 3,
    "start_time": "2022-06-27T13:07:19.430Z"
   },
   {
    "duration": 72,
    "start_time": "2022-06-27T13:07:19.434Z"
   },
   {
    "duration": 3,
    "start_time": "2022-06-27T13:07:19.508Z"
   },
   {
    "duration": 36,
    "start_time": "2022-06-27T13:07:19.514Z"
   },
   {
    "duration": 19,
    "start_time": "2022-06-27T13:07:19.552Z"
   },
   {
    "duration": 18,
    "start_time": "2022-06-27T13:07:19.573Z"
   },
   {
    "duration": 37,
    "start_time": "2022-06-27T13:07:19.592Z"
   },
   {
    "duration": 32,
    "start_time": "2022-06-27T13:07:19.631Z"
   },
   {
    "duration": 11,
    "start_time": "2022-06-27T13:07:19.665Z"
   },
   {
    "duration": 34,
    "start_time": "2022-06-27T13:07:19.678Z"
   },
   {
    "duration": 13,
    "start_time": "2022-06-27T13:07:19.714Z"
   },
   {
    "duration": 47,
    "start_time": "2022-06-27T13:07:19.729Z"
   },
   {
    "duration": 24,
    "start_time": "2022-06-27T13:07:19.778Z"
   },
   {
    "duration": 28,
    "start_time": "2022-06-27T13:07:19.804Z"
   },
   {
    "duration": 161,
    "start_time": "2022-06-27T13:07:19.833Z"
   },
   {
    "duration": 17,
    "start_time": "2022-06-27T13:07:19.996Z"
   },
   {
    "duration": 30,
    "start_time": "2022-06-27T13:07:20.015Z"
   },
   {
    "duration": 57,
    "start_time": "2022-06-27T13:07:20.047Z"
   },
   {
    "duration": 35,
    "start_time": "2022-06-27T13:07:20.106Z"
   },
   {
    "duration": 32,
    "start_time": "2022-06-27T13:07:20.143Z"
   },
   {
    "duration": 12,
    "start_time": "2022-06-27T13:07:20.176Z"
   },
   {
    "duration": 29,
    "start_time": "2022-06-27T13:07:20.189Z"
   },
   {
    "duration": 7,
    "start_time": "2022-06-27T13:07:20.220Z"
   },
   {
    "duration": 10,
    "start_time": "2022-06-27T13:07:20.232Z"
   },
   {
    "duration": 207,
    "start_time": "2022-06-27T13:07:20.244Z"
   },
   {
    "duration": 4,
    "start_time": "2022-06-27T13:07:20.453Z"
   },
   {
    "duration": 44,
    "start_time": "2022-06-27T13:07:20.459Z"
   },
   {
    "duration": 5,
    "start_time": "2022-06-27T13:07:20.505Z"
   },
   {
    "duration": 21,
    "start_time": "2022-06-27T13:07:20.527Z"
   },
   {
    "duration": 7,
    "start_time": "2022-06-27T13:07:20.549Z"
   },
   {
    "duration": 9,
    "start_time": "2022-06-27T13:07:20.557Z"
   },
   {
    "duration": 12,
    "start_time": "2022-06-27T13:07:20.568Z"
   },
   {
    "duration": 6,
    "start_time": "2022-06-27T13:07:20.582Z"
   },
   {
    "duration": 15,
    "start_time": "2022-06-27T13:07:20.590Z"
   },
   {
    "duration": 205,
    "start_time": "2022-06-27T13:07:20.607Z"
   },
   {
    "duration": 16,
    "start_time": "2022-06-27T13:07:20.814Z"
   },
   {
    "duration": 22,
    "start_time": "2022-06-27T13:07:20.831Z"
   },
   {
    "duration": 12,
    "start_time": "2022-06-27T13:07:20.856Z"
   },
   {
    "duration": 8,
    "start_time": "2022-06-27T13:07:20.869Z"
   },
   {
    "duration": 25,
    "start_time": "2022-06-27T13:07:20.878Z"
   },
   {
    "duration": 245,
    "start_time": "2022-06-27T13:07:20.904Z"
   },
   {
    "duration": 231,
    "start_time": "2022-06-27T13:07:21.151Z"
   },
   {
    "duration": 3,
    "start_time": "2022-06-27T13:07:21.383Z"
   },
   {
    "duration": 111,
    "start_time": "2022-06-27T13:07:21.388Z"
   },
   {
    "duration": 0,
    "start_time": "2022-06-27T13:07:21.501Z"
   },
   {
    "duration": 0,
    "start_time": "2022-06-27T13:07:21.502Z"
   },
   {
    "duration": 0,
    "start_time": "2022-06-27T13:07:21.503Z"
   },
   {
    "duration": 0,
    "start_time": "2022-06-27T13:07:21.504Z"
   },
   {
    "duration": 0,
    "start_time": "2022-06-27T13:07:21.505Z"
   },
   {
    "duration": 0,
    "start_time": "2022-06-27T13:07:21.506Z"
   },
   {
    "duration": 0,
    "start_time": "2022-06-27T13:07:21.507Z"
   },
   {
    "duration": 0,
    "start_time": "2022-06-27T13:07:21.508Z"
   },
   {
    "duration": 0,
    "start_time": "2022-06-27T13:07:21.510Z"
   },
   {
    "duration": 0,
    "start_time": "2022-06-27T13:07:21.511Z"
   },
   {
    "duration": 0,
    "start_time": "2022-06-27T13:07:21.511Z"
   },
   {
    "duration": 0,
    "start_time": "2022-06-27T13:07:21.513Z"
   },
   {
    "duration": 0,
    "start_time": "2022-06-27T13:07:21.527Z"
   },
   {
    "duration": 0,
    "start_time": "2022-06-27T13:07:21.528Z"
   },
   {
    "duration": 0,
    "start_time": "2022-06-27T13:07:21.529Z"
   },
   {
    "duration": 0,
    "start_time": "2022-06-27T13:07:21.530Z"
   },
   {
    "duration": 0,
    "start_time": "2022-06-27T13:07:21.532Z"
   },
   {
    "duration": 0,
    "start_time": "2022-06-27T13:07:21.533Z"
   },
   {
    "duration": 0,
    "start_time": "2022-06-27T13:07:21.533Z"
   },
   {
    "duration": 0,
    "start_time": "2022-06-27T13:07:21.534Z"
   },
   {
    "duration": 0,
    "start_time": "2022-06-27T13:07:21.535Z"
   },
   {
    "duration": 0,
    "start_time": "2022-06-27T13:07:21.536Z"
   },
   {
    "duration": 0,
    "start_time": "2022-06-27T13:07:21.537Z"
   },
   {
    "duration": 0,
    "start_time": "2022-06-27T13:07:21.538Z"
   },
   {
    "duration": 0,
    "start_time": "2022-06-27T13:07:21.539Z"
   },
   {
    "duration": 0,
    "start_time": "2022-06-27T13:07:21.540Z"
   },
   {
    "duration": 0,
    "start_time": "2022-06-27T13:07:21.541Z"
   },
   {
    "duration": 0,
    "start_time": "2022-06-27T13:07:21.542Z"
   },
   {
    "duration": 0,
    "start_time": "2022-06-27T13:07:21.543Z"
   },
   {
    "duration": 0,
    "start_time": "2022-06-27T13:07:21.544Z"
   },
   {
    "duration": 0,
    "start_time": "2022-06-27T13:07:21.545Z"
   },
   {
    "duration": 0,
    "start_time": "2022-06-27T13:07:21.546Z"
   },
   {
    "duration": 0,
    "start_time": "2022-06-27T13:07:21.547Z"
   },
   {
    "duration": 0,
    "start_time": "2022-06-27T13:07:21.548Z"
   },
   {
    "duration": 0,
    "start_time": "2022-06-27T13:07:21.550Z"
   },
   {
    "duration": 0,
    "start_time": "2022-06-27T13:07:21.550Z"
   },
   {
    "duration": 0,
    "start_time": "2022-06-27T13:07:21.552Z"
   },
   {
    "duration": 0,
    "start_time": "2022-06-27T13:07:21.553Z"
   },
   {
    "duration": 0,
    "start_time": "2022-06-27T13:07:21.554Z"
   },
   {
    "duration": 0,
    "start_time": "2022-06-27T13:07:21.555Z"
   },
   {
    "duration": 0,
    "start_time": "2022-06-27T13:07:21.556Z"
   },
   {
    "duration": 0,
    "start_time": "2022-06-27T13:07:21.557Z"
   },
   {
    "duration": 0,
    "start_time": "2022-06-27T13:07:21.558Z"
   },
   {
    "duration": 0,
    "start_time": "2022-06-27T13:07:21.559Z"
   },
   {
    "duration": 0,
    "start_time": "2022-06-27T13:07:21.560Z"
   },
   {
    "duration": 0,
    "start_time": "2022-06-27T13:07:21.561Z"
   },
   {
    "duration": 0,
    "start_time": "2022-06-27T13:07:21.562Z"
   },
   {
    "duration": 300,
    "start_time": "2022-06-27T13:07:58.734Z"
   },
   {
    "duration": 11,
    "start_time": "2022-06-27T13:09:03.269Z"
   },
   {
    "duration": 705,
    "start_time": "2022-06-27T13:09:18.146Z"
   },
   {
    "duration": 699,
    "start_time": "2022-06-27T13:11:13.671Z"
   },
   {
    "duration": 306,
    "start_time": "2022-06-27T13:11:32.332Z"
   },
   {
    "duration": 350,
    "start_time": "2022-06-27T13:11:46.098Z"
   },
   {
    "duration": 325,
    "start_time": "2022-06-27T13:12:59.135Z"
   },
   {
    "duration": 130,
    "start_time": "2022-06-27T13:14:17.167Z"
   },
   {
    "duration": 145,
    "start_time": "2022-06-27T13:15:07.480Z"
   },
   {
    "duration": 137,
    "start_time": "2022-06-27T13:15:33.062Z"
   },
   {
    "duration": 122,
    "start_time": "2022-06-27T13:16:55.694Z"
   },
   {
    "duration": 151,
    "start_time": "2022-06-27T13:17:02.873Z"
   },
   {
    "duration": 127,
    "start_time": "2022-06-27T13:17:11.753Z"
   },
   {
    "duration": 435,
    "start_time": "2022-06-27T13:17:28.703Z"
   },
   {
    "duration": 221,
    "start_time": "2022-06-27T13:17:29.140Z"
   },
   {
    "duration": 3,
    "start_time": "2022-06-27T13:17:29.362Z"
   },
   {
    "duration": 561,
    "start_time": "2022-06-27T13:17:29.366Z"
   },
   {
    "duration": 3,
    "start_time": "2022-06-27T13:17:29.929Z"
   },
   {
    "duration": 48,
    "start_time": "2022-06-27T13:17:29.933Z"
   },
   {
    "duration": 3,
    "start_time": "2022-06-27T13:17:29.983Z"
   },
   {
    "duration": 23,
    "start_time": "2022-06-27T13:17:29.988Z"
   },
   {
    "duration": 6,
    "start_time": "2022-06-27T13:17:30.012Z"
   },
   {
    "duration": 19,
    "start_time": "2022-06-27T13:17:30.020Z"
   },
   {
    "duration": 17,
    "start_time": "2022-06-27T13:17:30.040Z"
   },
   {
    "duration": 34,
    "start_time": "2022-06-27T13:17:30.059Z"
   },
   {
    "duration": 10,
    "start_time": "2022-06-27T13:17:30.095Z"
   },
   {
    "duration": 17,
    "start_time": "2022-06-27T13:17:30.108Z"
   },
   {
    "duration": 27,
    "start_time": "2022-06-27T13:17:30.127Z"
   },
   {
    "duration": 28,
    "start_time": "2022-06-27T13:17:30.156Z"
   },
   {
    "duration": 27,
    "start_time": "2022-06-27T13:17:30.185Z"
   },
   {
    "duration": 21,
    "start_time": "2022-06-27T13:17:30.214Z"
   },
   {
    "duration": 184,
    "start_time": "2022-06-27T13:17:30.237Z"
   },
   {
    "duration": 16,
    "start_time": "2022-06-27T13:17:30.423Z"
   },
   {
    "duration": 16,
    "start_time": "2022-06-27T13:17:30.440Z"
   },
   {
    "duration": 83,
    "start_time": "2022-06-27T13:17:30.457Z"
   },
   {
    "duration": 35,
    "start_time": "2022-06-27T13:17:30.542Z"
   },
   {
    "duration": 15,
    "start_time": "2022-06-27T13:17:30.579Z"
   },
   {
    "duration": 39,
    "start_time": "2022-06-27T13:17:30.596Z"
   },
   {
    "duration": 51,
    "start_time": "2022-06-27T13:17:30.637Z"
   },
   {
    "duration": 34,
    "start_time": "2022-06-27T13:17:30.689Z"
   },
   {
    "duration": 20,
    "start_time": "2022-06-27T13:17:30.725Z"
   },
   {
    "duration": 211,
    "start_time": "2022-06-27T13:17:30.746Z"
   },
   {
    "duration": 3,
    "start_time": "2022-06-27T13:17:30.959Z"
   },
   {
    "duration": 49,
    "start_time": "2022-06-27T13:17:30.964Z"
   },
   {
    "duration": 7,
    "start_time": "2022-06-27T13:17:31.015Z"
   },
   {
    "duration": 74,
    "start_time": "2022-06-27T13:17:31.027Z"
   },
   {
    "duration": 45,
    "start_time": "2022-06-27T13:17:31.103Z"
   },
   {
    "duration": 30,
    "start_time": "2022-06-27T13:17:31.150Z"
   },
   {
    "duration": 11,
    "start_time": "2022-06-27T13:17:31.182Z"
   },
   {
    "duration": 23,
    "start_time": "2022-06-27T13:17:31.195Z"
   },
   {
    "duration": 18,
    "start_time": "2022-06-27T13:17:31.220Z"
   },
   {
    "duration": 191,
    "start_time": "2022-06-27T13:17:31.239Z"
   },
   {
    "duration": 11,
    "start_time": "2022-06-27T13:17:31.432Z"
   },
   {
    "duration": 60,
    "start_time": "2022-06-27T13:17:31.447Z"
   },
   {
    "duration": 17,
    "start_time": "2022-06-27T13:17:31.508Z"
   },
   {
    "duration": 11,
    "start_time": "2022-06-27T13:17:31.527Z"
   },
   {
    "duration": 32,
    "start_time": "2022-06-27T13:17:31.539Z"
   },
   {
    "duration": 136,
    "start_time": "2022-06-27T13:17:31.573Z"
   },
   {
    "duration": 139,
    "start_time": "2022-06-27T13:17:31.711Z"
   },
   {
    "duration": 3,
    "start_time": "2022-06-27T13:17:31.852Z"
   },
   {
    "duration": 113,
    "start_time": "2022-06-27T13:17:31.856Z"
   },
   {
    "duration": 0,
    "start_time": "2022-06-27T13:17:31.971Z"
   },
   {
    "duration": 0,
    "start_time": "2022-06-27T13:17:31.971Z"
   },
   {
    "duration": 0,
    "start_time": "2022-06-27T13:17:31.972Z"
   },
   {
    "duration": 0,
    "start_time": "2022-06-27T13:17:31.973Z"
   },
   {
    "duration": 0,
    "start_time": "2022-06-27T13:17:31.974Z"
   },
   {
    "duration": 0,
    "start_time": "2022-06-27T13:17:31.975Z"
   },
   {
    "duration": 0,
    "start_time": "2022-06-27T13:17:31.976Z"
   },
   {
    "duration": 0,
    "start_time": "2022-06-27T13:17:31.977Z"
   },
   {
    "duration": 0,
    "start_time": "2022-06-27T13:17:31.978Z"
   },
   {
    "duration": 0,
    "start_time": "2022-06-27T13:17:31.979Z"
   },
   {
    "duration": 0,
    "start_time": "2022-06-27T13:17:31.980Z"
   },
   {
    "duration": 0,
    "start_time": "2022-06-27T13:17:31.981Z"
   },
   {
    "duration": 0,
    "start_time": "2022-06-27T13:17:31.982Z"
   },
   {
    "duration": 0,
    "start_time": "2022-06-27T13:17:31.983Z"
   },
   {
    "duration": 0,
    "start_time": "2022-06-27T13:17:31.984Z"
   },
   {
    "duration": 0,
    "start_time": "2022-06-27T13:17:31.985Z"
   },
   {
    "duration": 0,
    "start_time": "2022-06-27T13:17:31.986Z"
   },
   {
    "duration": 0,
    "start_time": "2022-06-27T13:17:31.987Z"
   },
   {
    "duration": 0,
    "start_time": "2022-06-27T13:17:31.988Z"
   },
   {
    "duration": 0,
    "start_time": "2022-06-27T13:17:31.989Z"
   },
   {
    "duration": 0,
    "start_time": "2022-06-27T13:17:31.990Z"
   },
   {
    "duration": 0,
    "start_time": "2022-06-27T13:17:31.990Z"
   },
   {
    "duration": 0,
    "start_time": "2022-06-27T13:17:31.991Z"
   },
   {
    "duration": 0,
    "start_time": "2022-06-27T13:17:31.992Z"
   },
   {
    "duration": 0,
    "start_time": "2022-06-27T13:17:32.027Z"
   },
   {
    "duration": 0,
    "start_time": "2022-06-27T13:17:32.029Z"
   },
   {
    "duration": 0,
    "start_time": "2022-06-27T13:17:32.030Z"
   },
   {
    "duration": 0,
    "start_time": "2022-06-27T13:17:32.031Z"
   },
   {
    "duration": 0,
    "start_time": "2022-06-27T13:17:32.032Z"
   },
   {
    "duration": 0,
    "start_time": "2022-06-27T13:17:32.033Z"
   },
   {
    "duration": 0,
    "start_time": "2022-06-27T13:17:32.034Z"
   },
   {
    "duration": 0,
    "start_time": "2022-06-27T13:17:32.035Z"
   },
   {
    "duration": 0,
    "start_time": "2022-06-27T13:17:32.036Z"
   },
   {
    "duration": 0,
    "start_time": "2022-06-27T13:17:32.037Z"
   },
   {
    "duration": 0,
    "start_time": "2022-06-27T13:17:32.038Z"
   },
   {
    "duration": 0,
    "start_time": "2022-06-27T13:17:32.039Z"
   },
   {
    "duration": 0,
    "start_time": "2022-06-27T13:17:32.040Z"
   },
   {
    "duration": 0,
    "start_time": "2022-06-27T13:17:32.041Z"
   },
   {
    "duration": 0,
    "start_time": "2022-06-27T13:17:32.042Z"
   },
   {
    "duration": 0,
    "start_time": "2022-06-27T13:17:32.043Z"
   },
   {
    "duration": 0,
    "start_time": "2022-06-27T13:17:32.045Z"
   },
   {
    "duration": 0,
    "start_time": "2022-06-27T13:17:32.045Z"
   },
   {
    "duration": 0,
    "start_time": "2022-06-27T13:17:32.046Z"
   },
   {
    "duration": 0,
    "start_time": "2022-06-27T13:17:32.047Z"
   },
   {
    "duration": 0,
    "start_time": "2022-06-27T13:17:32.048Z"
   },
   {
    "duration": 0,
    "start_time": "2022-06-27T13:17:32.049Z"
   },
   {
    "duration": 0,
    "start_time": "2022-06-27T13:17:32.051Z"
   },
   {
    "duration": 141,
    "start_time": "2022-06-27T13:18:05.070Z"
   },
   {
    "duration": 136,
    "start_time": "2022-06-27T13:18:17.720Z"
   },
   {
    "duration": 447,
    "start_time": "2022-06-27T13:18:32.298Z"
   },
   {
    "duration": 239,
    "start_time": "2022-06-27T13:18:32.747Z"
   },
   {
    "duration": 2,
    "start_time": "2022-06-27T13:18:32.988Z"
   },
   {
    "duration": 539,
    "start_time": "2022-06-27T13:18:32.993Z"
   },
   {
    "duration": 4,
    "start_time": "2022-06-27T13:18:33.534Z"
   },
   {
    "duration": 47,
    "start_time": "2022-06-27T13:18:33.540Z"
   },
   {
    "duration": 3,
    "start_time": "2022-06-27T13:18:33.589Z"
   },
   {
    "duration": 19,
    "start_time": "2022-06-27T13:18:33.594Z"
   },
   {
    "duration": 4,
    "start_time": "2022-06-27T13:18:33.615Z"
   },
   {
    "duration": 7,
    "start_time": "2022-06-27T13:18:33.626Z"
   },
   {
    "duration": 10,
    "start_time": "2022-06-27T13:18:33.634Z"
   },
   {
    "duration": 21,
    "start_time": "2022-06-27T13:18:33.645Z"
   },
   {
    "duration": 4,
    "start_time": "2022-06-27T13:18:33.668Z"
   },
   {
    "duration": 10,
    "start_time": "2022-06-27T13:18:33.674Z"
   },
   {
    "duration": 5,
    "start_time": "2022-06-27T13:18:33.686Z"
   },
   {
    "duration": 46,
    "start_time": "2022-06-27T13:18:33.693Z"
   },
   {
    "duration": 13,
    "start_time": "2022-06-27T13:18:33.740Z"
   },
   {
    "duration": 7,
    "start_time": "2022-06-27T13:18:33.754Z"
   },
   {
    "duration": 175,
    "start_time": "2022-06-27T13:18:33.762Z"
   },
   {
    "duration": 16,
    "start_time": "2022-06-27T13:18:33.939Z"
   },
   {
    "duration": 4,
    "start_time": "2022-06-27T13:18:33.956Z"
   },
   {
    "duration": 65,
    "start_time": "2022-06-27T13:18:33.962Z"
   },
   {
    "duration": 3,
    "start_time": "2022-06-27T13:18:34.029Z"
   },
   {
    "duration": 6,
    "start_time": "2022-06-27T13:18:34.034Z"
   },
   {
    "duration": 8,
    "start_time": "2022-06-27T13:18:34.041Z"
   },
   {
    "duration": 26,
    "start_time": "2022-06-27T13:18:34.050Z"
   },
   {
    "duration": 6,
    "start_time": "2022-06-27T13:18:34.079Z"
   },
   {
    "duration": 3,
    "start_time": "2022-06-27T13:18:34.089Z"
   },
   {
    "duration": 221,
    "start_time": "2022-06-27T13:18:34.094Z"
   },
   {
    "duration": 11,
    "start_time": "2022-06-27T13:18:34.317Z"
   },
   {
    "duration": 43,
    "start_time": "2022-06-27T13:18:34.330Z"
   },
   {
    "duration": 5,
    "start_time": "2022-06-27T13:18:34.374Z"
   },
   {
    "duration": 20,
    "start_time": "2022-06-27T13:18:34.380Z"
   },
   {
    "duration": 4,
    "start_time": "2022-06-27T13:18:34.402Z"
   },
   {
    "duration": 3,
    "start_time": "2022-06-27T13:18:34.427Z"
   },
   {
    "duration": 9,
    "start_time": "2022-06-27T13:18:34.432Z"
   },
   {
    "duration": 7,
    "start_time": "2022-06-27T13:18:34.442Z"
   },
   {
    "duration": 13,
    "start_time": "2022-06-27T13:18:34.450Z"
   },
   {
    "duration": 186,
    "start_time": "2022-06-27T13:18:34.465Z"
   },
   {
    "duration": 12,
    "start_time": "2022-06-27T13:18:34.652Z"
   },
   {
    "duration": 10,
    "start_time": "2022-06-27T13:18:34.665Z"
   },
   {
    "duration": 10,
    "start_time": "2022-06-27T13:18:34.676Z"
   },
   {
    "duration": 8,
    "start_time": "2022-06-27T13:18:34.688Z"
   },
   {
    "duration": 46,
    "start_time": "2022-06-27T13:18:34.697Z"
   },
   {
    "duration": 152,
    "start_time": "2022-06-27T13:18:34.745Z"
   },
   {
    "duration": 148,
    "start_time": "2022-06-27T13:18:34.899Z"
   },
   {
    "duration": 3,
    "start_time": "2022-06-27T13:18:35.049Z"
   },
   {
    "duration": 103,
    "start_time": "2022-06-27T13:18:35.053Z"
   },
   {
    "duration": 0,
    "start_time": "2022-06-27T13:18:35.158Z"
   },
   {
    "duration": 0,
    "start_time": "2022-06-27T13:18:35.159Z"
   },
   {
    "duration": 0,
    "start_time": "2022-06-27T13:18:35.160Z"
   },
   {
    "duration": 0,
    "start_time": "2022-06-27T13:18:35.161Z"
   },
   {
    "duration": 0,
    "start_time": "2022-06-27T13:18:35.162Z"
   },
   {
    "duration": 0,
    "start_time": "2022-06-27T13:18:35.163Z"
   },
   {
    "duration": 0,
    "start_time": "2022-06-27T13:18:35.164Z"
   },
   {
    "duration": 0,
    "start_time": "2022-06-27T13:18:35.165Z"
   },
   {
    "duration": 0,
    "start_time": "2022-06-27T13:18:35.168Z"
   },
   {
    "duration": 0,
    "start_time": "2022-06-27T13:18:35.169Z"
   },
   {
    "duration": 0,
    "start_time": "2022-06-27T13:18:35.170Z"
   },
   {
    "duration": 0,
    "start_time": "2022-06-27T13:18:35.171Z"
   },
   {
    "duration": 0,
    "start_time": "2022-06-27T13:18:35.172Z"
   },
   {
    "duration": 0,
    "start_time": "2022-06-27T13:18:35.173Z"
   },
   {
    "duration": 0,
    "start_time": "2022-06-27T13:18:35.174Z"
   },
   {
    "duration": 0,
    "start_time": "2022-06-27T13:18:35.175Z"
   },
   {
    "duration": 0,
    "start_time": "2022-06-27T13:18:35.175Z"
   },
   {
    "duration": 0,
    "start_time": "2022-06-27T13:18:35.176Z"
   },
   {
    "duration": 0,
    "start_time": "2022-06-27T13:18:35.177Z"
   },
   {
    "duration": 0,
    "start_time": "2022-06-27T13:18:35.178Z"
   },
   {
    "duration": 0,
    "start_time": "2022-06-27T13:18:35.180Z"
   },
   {
    "duration": 0,
    "start_time": "2022-06-27T13:18:35.181Z"
   },
   {
    "duration": 0,
    "start_time": "2022-06-27T13:18:35.181Z"
   },
   {
    "duration": 0,
    "start_time": "2022-06-27T13:18:35.183Z"
   },
   {
    "duration": 0,
    "start_time": "2022-06-27T13:18:35.184Z"
   },
   {
    "duration": 0,
    "start_time": "2022-06-27T13:18:35.226Z"
   },
   {
    "duration": 0,
    "start_time": "2022-06-27T13:18:35.228Z"
   },
   {
    "duration": 0,
    "start_time": "2022-06-27T13:18:35.229Z"
   },
   {
    "duration": 0,
    "start_time": "2022-06-27T13:18:35.230Z"
   },
   {
    "duration": 0,
    "start_time": "2022-06-27T13:18:35.231Z"
   },
   {
    "duration": 0,
    "start_time": "2022-06-27T13:18:35.232Z"
   },
   {
    "duration": 0,
    "start_time": "2022-06-27T13:18:35.234Z"
   },
   {
    "duration": 0,
    "start_time": "2022-06-27T13:18:35.235Z"
   },
   {
    "duration": 0,
    "start_time": "2022-06-27T13:18:35.236Z"
   },
   {
    "duration": 0,
    "start_time": "2022-06-27T13:18:35.237Z"
   },
   {
    "duration": 0,
    "start_time": "2022-06-27T13:18:35.238Z"
   },
   {
    "duration": 0,
    "start_time": "2022-06-27T13:18:35.240Z"
   },
   {
    "duration": 0,
    "start_time": "2022-06-27T13:18:35.241Z"
   },
   {
    "duration": 0,
    "start_time": "2022-06-27T13:18:35.243Z"
   },
   {
    "duration": 0,
    "start_time": "2022-06-27T13:18:35.244Z"
   },
   {
    "duration": 0,
    "start_time": "2022-06-27T13:18:35.246Z"
   },
   {
    "duration": 0,
    "start_time": "2022-06-27T13:18:35.247Z"
   },
   {
    "duration": 0,
    "start_time": "2022-06-27T13:18:35.249Z"
   },
   {
    "duration": 0,
    "start_time": "2022-06-27T13:18:35.250Z"
   },
   {
    "duration": 0,
    "start_time": "2022-06-27T13:18:35.252Z"
   },
   {
    "duration": 0,
    "start_time": "2022-06-27T13:18:35.253Z"
   },
   {
    "duration": 0,
    "start_time": "2022-06-27T13:18:35.255Z"
   },
   {
    "duration": 146,
    "start_time": "2022-06-27T13:19:13.455Z"
   },
   {
    "duration": 10,
    "start_time": "2022-06-27T13:19:46.213Z"
   },
   {
    "duration": 11,
    "start_time": "2022-06-27T13:20:00.244Z"
   },
   {
    "duration": 147,
    "start_time": "2022-06-27T13:20:27.030Z"
   },
   {
    "duration": 137,
    "start_time": "2022-06-27T13:20:48.498Z"
   },
   {
    "duration": 402,
    "start_time": "2022-06-27T13:23:43.946Z"
   },
   {
    "duration": 220,
    "start_time": "2022-06-27T13:23:44.350Z"
   },
   {
    "duration": 2,
    "start_time": "2022-06-27T13:23:44.572Z"
   },
   {
    "duration": 556,
    "start_time": "2022-06-27T13:23:44.576Z"
   },
   {
    "duration": 3,
    "start_time": "2022-06-27T13:23:45.133Z"
   },
   {
    "duration": 48,
    "start_time": "2022-06-27T13:23:45.137Z"
   },
   {
    "duration": 3,
    "start_time": "2022-06-27T13:23:45.186Z"
   },
   {
    "duration": 18,
    "start_time": "2022-06-27T13:23:45.191Z"
   },
   {
    "duration": 4,
    "start_time": "2022-06-27T13:23:45.210Z"
   },
   {
    "duration": 12,
    "start_time": "2022-06-27T13:23:45.216Z"
   },
   {
    "duration": 8,
    "start_time": "2022-06-27T13:23:45.229Z"
   },
   {
    "duration": 34,
    "start_time": "2022-06-27T13:23:45.238Z"
   },
   {
    "duration": 5,
    "start_time": "2022-06-27T13:23:45.273Z"
   },
   {
    "duration": 13,
    "start_time": "2022-06-27T13:23:45.279Z"
   },
   {
    "duration": 5,
    "start_time": "2022-06-27T13:23:45.294Z"
   },
   {
    "duration": 37,
    "start_time": "2022-06-27T13:23:45.301Z"
   },
   {
    "duration": 12,
    "start_time": "2022-06-27T13:23:45.340Z"
   },
   {
    "duration": 6,
    "start_time": "2022-06-27T13:23:45.354Z"
   },
   {
    "duration": 167,
    "start_time": "2022-06-27T13:23:45.362Z"
   },
   {
    "duration": 15,
    "start_time": "2022-06-27T13:23:45.531Z"
   },
   {
    "duration": 4,
    "start_time": "2022-06-27T13:23:45.547Z"
   },
   {
    "duration": 43,
    "start_time": "2022-06-27T13:23:45.552Z"
   },
   {
    "duration": 6,
    "start_time": "2022-06-27T13:23:45.597Z"
   },
   {
    "duration": 3,
    "start_time": "2022-06-27T13:23:45.626Z"
   },
   {
    "duration": 5,
    "start_time": "2022-06-27T13:23:45.631Z"
   },
   {
    "duration": 24,
    "start_time": "2022-06-27T13:23:45.638Z"
   },
   {
    "duration": 12,
    "start_time": "2022-06-27T13:23:45.663Z"
   },
   {
    "duration": 15,
    "start_time": "2022-06-27T13:23:45.680Z"
   },
   {
    "duration": 209,
    "start_time": "2022-06-27T13:23:45.697Z"
   },
   {
    "duration": 4,
    "start_time": "2022-06-27T13:23:45.909Z"
   },
   {
    "duration": 54,
    "start_time": "2022-06-27T13:23:45.914Z"
   },
   {
    "duration": 4,
    "start_time": "2022-06-27T13:23:45.969Z"
   },
   {
    "duration": 22,
    "start_time": "2022-06-27T13:23:45.974Z"
   },
   {
    "duration": 4,
    "start_time": "2022-06-27T13:23:45.998Z"
   },
   {
    "duration": 6,
    "start_time": "2022-06-27T13:23:46.003Z"
   },
   {
    "duration": 6,
    "start_time": "2022-06-27T13:23:46.026Z"
   },
   {
    "duration": 6,
    "start_time": "2022-06-27T13:23:46.034Z"
   },
   {
    "duration": 12,
    "start_time": "2022-06-27T13:23:46.041Z"
   },
   {
    "duration": 193,
    "start_time": "2022-06-27T13:23:46.054Z"
   },
   {
    "duration": 12,
    "start_time": "2022-06-27T13:23:46.248Z"
   },
   {
    "duration": 16,
    "start_time": "2022-06-27T13:23:46.262Z"
   },
   {
    "duration": 17,
    "start_time": "2022-06-27T13:23:46.280Z"
   },
   {
    "duration": 15,
    "start_time": "2022-06-27T13:23:46.299Z"
   },
   {
    "duration": 23,
    "start_time": "2022-06-27T13:23:46.316Z"
   },
   {
    "duration": 191,
    "start_time": "2022-06-27T13:23:46.341Z"
   },
   {
    "duration": 156,
    "start_time": "2022-06-27T13:23:46.534Z"
   },
   {
    "duration": 5,
    "start_time": "2022-06-27T13:23:46.692Z"
   },
   {
    "duration": 38,
    "start_time": "2022-06-27T13:23:46.698Z"
   },
   {
    "duration": 134,
    "start_time": "2022-06-27T13:23:46.738Z"
   },
   {
    "duration": 130,
    "start_time": "2022-06-27T13:23:46.874Z"
   },
   {
    "duration": 5,
    "start_time": "2022-06-27T13:23:47.006Z"
   },
   {
    "duration": 18,
    "start_time": "2022-06-27T13:23:47.012Z"
   },
   {
    "duration": 10,
    "start_time": "2022-06-27T13:23:47.031Z"
   },
   {
    "duration": 12,
    "start_time": "2022-06-27T13:23:47.042Z"
   },
   {
    "duration": 343,
    "start_time": "2022-06-27T13:23:47.056Z"
   },
   {
    "duration": 279,
    "start_time": "2022-06-27T13:23:47.400Z"
   },
   {
    "duration": 283,
    "start_time": "2022-06-27T13:23:47.681Z"
   },
   {
    "duration": 271,
    "start_time": "2022-06-27T13:23:47.965Z"
   },
   {
    "duration": 235,
    "start_time": "2022-06-27T13:23:48.238Z"
   },
   {
    "duration": 4,
    "start_time": "2022-06-27T13:23:48.475Z"
   },
   {
    "duration": 9,
    "start_time": "2022-06-27T13:23:48.480Z"
   },
   {
    "duration": 175,
    "start_time": "2022-06-27T13:23:48.491Z"
   },
   {
    "duration": 5,
    "start_time": "2022-06-27T13:23:48.667Z"
   },
   {
    "duration": 9,
    "start_time": "2022-06-27T13:23:48.673Z"
   },
   {
    "duration": 154,
    "start_time": "2022-06-27T13:23:48.683Z"
   },
   {
    "duration": 250,
    "start_time": "2022-06-27T13:23:48.839Z"
   },
   {
    "duration": 106,
    "start_time": "2022-06-27T13:23:49.091Z"
   },
   {
    "duration": 0,
    "start_time": "2022-06-27T13:23:49.199Z"
   },
   {
    "duration": 0,
    "start_time": "2022-06-27T13:23:49.200Z"
   },
   {
    "duration": 0,
    "start_time": "2022-06-27T13:23:49.201Z"
   },
   {
    "duration": 0,
    "start_time": "2022-06-27T13:23:49.202Z"
   },
   {
    "duration": 0,
    "start_time": "2022-06-27T13:23:49.203Z"
   },
   {
    "duration": 0,
    "start_time": "2022-06-27T13:23:49.204Z"
   },
   {
    "duration": 0,
    "start_time": "2022-06-27T13:23:49.205Z"
   },
   {
    "duration": 0,
    "start_time": "2022-06-27T13:23:49.206Z"
   },
   {
    "duration": 0,
    "start_time": "2022-06-27T13:23:49.207Z"
   },
   {
    "duration": 0,
    "start_time": "2022-06-27T13:23:49.207Z"
   },
   {
    "duration": 0,
    "start_time": "2022-06-27T13:23:49.208Z"
   },
   {
    "duration": 0,
    "start_time": "2022-06-27T13:23:49.227Z"
   },
   {
    "duration": 0,
    "start_time": "2022-06-27T13:23:49.228Z"
   },
   {
    "duration": 0,
    "start_time": "2022-06-27T13:23:49.338Z"
   },
   {
    "duration": 0,
    "start_time": "2022-06-27T13:23:49.339Z"
   },
   {
    "duration": 0,
    "start_time": "2022-06-27T13:23:49.340Z"
   },
   {
    "duration": 0,
    "start_time": "2022-06-27T13:23:49.341Z"
   },
   {
    "duration": 0,
    "start_time": "2022-06-27T13:23:49.342Z"
   },
   {
    "duration": 0,
    "start_time": "2022-06-27T13:23:49.344Z"
   },
   {
    "duration": 0,
    "start_time": "2022-06-27T13:23:49.345Z"
   },
   {
    "duration": 0,
    "start_time": "2022-06-27T13:23:49.347Z"
   },
   {
    "duration": 0,
    "start_time": "2022-06-27T13:23:49.348Z"
   },
   {
    "duration": 0,
    "start_time": "2022-06-27T13:23:49.350Z"
   },
   {
    "duration": 0,
    "start_time": "2022-06-27T13:23:49.351Z"
   },
   {
    "duration": 0,
    "start_time": "2022-06-27T13:23:49.352Z"
   },
   {
    "duration": 0,
    "start_time": "2022-06-27T13:23:49.353Z"
   },
   {
    "duration": 15,
    "start_time": "2022-06-27T13:24:50.336Z"
   },
   {
    "duration": 5,
    "start_time": "2022-06-27T13:24:56.407Z"
   },
   {
    "duration": 586,
    "start_time": "2022-06-27T13:24:58.332Z"
   },
   {
    "duration": 446,
    "start_time": "2022-06-27T13:25:11.006Z"
   },
   {
    "duration": 223,
    "start_time": "2022-06-27T13:25:11.454Z"
   },
   {
    "duration": 3,
    "start_time": "2022-06-27T13:25:11.678Z"
   },
   {
    "duration": 538,
    "start_time": "2022-06-27T13:25:11.683Z"
   },
   {
    "duration": 2,
    "start_time": "2022-06-27T13:34:54.495Z"
   },
   {
    "duration": 39,
    "start_time": "2022-06-27T13:34:55.856Z"
   },
   {
    "duration": 460,
    "start_time": "2022-06-27T13:35:03.412Z"
   },
   {
    "duration": 234,
    "start_time": "2022-06-27T13:35:03.874Z"
   },
   {
    "duration": 3,
    "start_time": "2022-06-27T13:35:04.110Z"
   },
   {
    "duration": 514,
    "start_time": "2022-06-27T13:35:04.115Z"
   },
   {
    "duration": 2,
    "start_time": "2022-06-27T13:35:04.632Z"
   },
   {
    "duration": 49,
    "start_time": "2022-06-27T13:35:04.636Z"
   },
   {
    "duration": 4,
    "start_time": "2022-06-27T13:35:04.687Z"
   },
   {
    "duration": 19,
    "start_time": "2022-06-27T13:35:04.693Z"
   },
   {
    "duration": 5,
    "start_time": "2022-06-27T13:35:04.714Z"
   },
   {
    "duration": 6,
    "start_time": "2022-06-27T13:35:04.727Z"
   },
   {
    "duration": 10,
    "start_time": "2022-06-27T13:35:04.735Z"
   },
   {
    "duration": 20,
    "start_time": "2022-06-27T13:35:04.747Z"
   },
   {
    "duration": 5,
    "start_time": "2022-06-27T13:35:04.769Z"
   },
   {
    "duration": 15,
    "start_time": "2022-06-27T13:35:04.779Z"
   },
   {
    "duration": 31,
    "start_time": "2022-06-27T13:35:04.796Z"
   },
   {
    "duration": 22,
    "start_time": "2022-06-27T13:35:04.829Z"
   },
   {
    "duration": 15,
    "start_time": "2022-06-27T13:35:04.853Z"
   },
   {
    "duration": 8,
    "start_time": "2022-06-27T13:35:04.870Z"
   },
   {
    "duration": 180,
    "start_time": "2022-06-27T13:35:04.880Z"
   },
   {
    "duration": 14,
    "start_time": "2022-06-27T13:35:05.062Z"
   },
   {
    "duration": 11,
    "start_time": "2022-06-27T13:35:05.077Z"
   },
   {
    "duration": 55,
    "start_time": "2022-06-27T13:35:05.089Z"
   },
   {
    "duration": 12,
    "start_time": "2022-06-27T13:35:05.146Z"
   },
   {
    "duration": 8,
    "start_time": "2022-06-27T13:35:05.159Z"
   },
   {
    "duration": 9,
    "start_time": "2022-06-27T13:35:05.168Z"
   },
   {
    "duration": 27,
    "start_time": "2022-06-27T13:35:05.179Z"
   },
   {
    "duration": 9,
    "start_time": "2022-06-27T13:35:05.208Z"
   },
   {
    "duration": 10,
    "start_time": "2022-06-27T13:35:05.218Z"
   },
   {
    "duration": 222,
    "start_time": "2022-06-27T13:35:05.230Z"
   },
   {
    "duration": 3,
    "start_time": "2022-06-27T13:35:05.454Z"
   },
   {
    "duration": 47,
    "start_time": "2022-06-27T13:35:05.459Z"
   },
   {
    "duration": 20,
    "start_time": "2022-06-27T13:35:05.507Z"
   },
   {
    "duration": 20,
    "start_time": "2022-06-27T13:35:05.529Z"
   },
   {
    "duration": 6,
    "start_time": "2022-06-27T13:35:05.551Z"
   },
   {
    "duration": 10,
    "start_time": "2022-06-27T13:35:05.559Z"
   },
   {
    "duration": 11,
    "start_time": "2022-06-27T13:35:05.570Z"
   },
   {
    "duration": 7,
    "start_time": "2022-06-27T13:35:05.583Z"
   },
   {
    "duration": 13,
    "start_time": "2022-06-27T13:35:05.592Z"
   },
   {
    "duration": 195,
    "start_time": "2022-06-27T13:35:05.607Z"
   },
   {
    "duration": 12,
    "start_time": "2022-06-27T13:35:05.803Z"
   },
   {
    "duration": 11,
    "start_time": "2022-06-27T13:35:05.830Z"
   },
   {
    "duration": 12,
    "start_time": "2022-06-27T13:35:05.842Z"
   },
   {
    "duration": 9,
    "start_time": "2022-06-27T13:35:05.855Z"
   },
   {
    "duration": 15,
    "start_time": "2022-06-27T13:35:05.865Z"
   },
   {
    "duration": 154,
    "start_time": "2022-06-27T13:35:05.882Z"
   },
   {
    "duration": 157,
    "start_time": "2022-06-27T13:35:06.037Z"
   },
   {
    "duration": 6,
    "start_time": "2022-06-27T13:35:06.197Z"
   },
   {
    "duration": 41,
    "start_time": "2022-06-27T13:35:06.204Z"
   },
   {
    "duration": 197,
    "start_time": "2022-06-27T13:35:06.247Z"
   },
   {
    "duration": 148,
    "start_time": "2022-06-27T13:35:06.446Z"
   },
   {
    "duration": 5,
    "start_time": "2022-06-27T13:35:06.596Z"
   },
   {
    "duration": 7,
    "start_time": "2022-06-27T13:35:06.603Z"
   },
   {
    "duration": 3,
    "start_time": "2022-06-27T13:35:06.627Z"
   },
   {
    "duration": 7,
    "start_time": "2022-06-27T13:35:06.632Z"
   },
   {
    "duration": 337,
    "start_time": "2022-06-27T13:35:06.640Z"
   },
   {
    "duration": 291,
    "start_time": "2022-06-27T13:35:06.979Z"
   },
   {
    "duration": 310,
    "start_time": "2022-06-27T13:35:07.272Z"
   },
   {
    "duration": 288,
    "start_time": "2022-06-27T13:35:07.584Z"
   },
   {
    "duration": 269,
    "start_time": "2022-06-27T13:35:07.874Z"
   },
   {
    "duration": 4,
    "start_time": "2022-06-27T13:35:08.145Z"
   },
   {
    "duration": 9,
    "start_time": "2022-06-27T13:35:08.150Z"
   },
   {
    "duration": 189,
    "start_time": "2022-06-27T13:35:08.160Z"
   },
   {
    "duration": 4,
    "start_time": "2022-06-27T13:35:08.351Z"
   },
   {
    "duration": 12,
    "start_time": "2022-06-27T13:35:08.357Z"
   },
   {
    "duration": 173,
    "start_time": "2022-06-27T13:35:08.371Z"
   },
   {
    "duration": 271,
    "start_time": "2022-06-27T13:35:08.546Z"
   },
   {
    "duration": 18,
    "start_time": "2022-06-27T13:35:08.819Z"
   },
   {
    "duration": 4,
    "start_time": "2022-06-27T13:35:08.838Z"
   },
   {
    "duration": 738,
    "start_time": "2022-06-27T13:35:08.843Z"
   },
   {
    "duration": 5,
    "start_time": "2022-06-27T13:35:09.582Z"
   },
   {
    "duration": 8,
    "start_time": "2022-06-27T13:35:09.588Z"
   },
   {
    "duration": 10,
    "start_time": "2022-06-27T13:35:09.598Z"
   },
   {
    "duration": 18,
    "start_time": "2022-06-27T13:35:09.610Z"
   },
   {
    "duration": 12,
    "start_time": "2022-06-27T13:35:09.629Z"
   },
   {
    "duration": 628,
    "start_time": "2022-06-27T13:35:09.642Z"
   },
   {
    "duration": 9,
    "start_time": "2022-06-27T13:35:10.272Z"
   },
   {
    "duration": 6,
    "start_time": "2022-06-27T13:35:10.282Z"
   },
   {
    "duration": 10,
    "start_time": "2022-06-27T13:35:10.289Z"
   },
   {
    "duration": 5,
    "start_time": "2022-06-27T13:35:10.301Z"
   },
   {
    "duration": 6,
    "start_time": "2022-06-27T13:35:10.307Z"
   },
   {
    "duration": 3,
    "start_time": "2022-06-27T13:35:10.328Z"
   },
   {
    "duration": 11,
    "start_time": "2022-06-27T13:35:10.333Z"
   },
   {
    "duration": 7,
    "start_time": "2022-06-27T13:35:10.345Z"
   },
   {
    "duration": 7,
    "start_time": "2022-06-27T13:35:10.354Z"
   },
   {
    "duration": 12,
    "start_time": "2022-06-27T13:35:10.362Z"
   },
   {
    "duration": 8,
    "start_time": "2022-06-27T13:35:10.376Z"
   },
   {
    "duration": 10,
    "start_time": "2022-06-27T13:35:10.385Z"
   },
   {
    "duration": 10,
    "start_time": "2022-06-27T13:35:10.397Z"
   },
   {
    "duration": 5,
    "start_time": "2022-06-27T13:35:10.409Z"
   },
   {
    "duration": 11,
    "start_time": "2022-06-27T13:35:10.416Z"
   },
   {
    "duration": 10,
    "start_time": "2022-06-27T13:35:10.429Z"
   },
   {
    "duration": 7,
    "start_time": "2022-06-27T13:35:10.441Z"
   },
   {
    "duration": 5,
    "start_time": "2022-06-27T13:35:10.450Z"
   },
   {
    "duration": 7,
    "start_time": "2022-06-27T13:41:41.406Z"
   },
   {
    "duration": 123,
    "start_time": "2022-06-27T13:42:10.561Z"
   },
   {
    "duration": 49,
    "start_time": "2022-06-27T13:42:13.991Z"
   },
   {
    "duration": 12,
    "start_time": "2022-06-27T13:42:16.200Z"
   },
   {
    "duration": 9,
    "start_time": "2022-06-27T13:42:35.996Z"
   },
   {
    "duration": 3,
    "start_time": "2022-06-27T13:42:54.954Z"
   },
   {
    "duration": 10,
    "start_time": "2022-06-27T13:43:15.125Z"
   },
   {
    "duration": 8,
    "start_time": "2022-06-27T13:43:34.428Z"
   },
   {
    "duration": 4,
    "start_time": "2022-06-27T13:53:28.376Z"
   },
   {
    "duration": 5,
    "start_time": "2022-06-27T13:53:44.346Z"
   },
   {
    "duration": 4,
    "start_time": "2022-06-27T13:55:58.572Z"
   },
   {
    "duration": 10,
    "start_time": "2022-06-27T13:56:04.227Z"
   },
   {
    "duration": 46,
    "start_time": "2022-06-28T07:10:04.924Z"
   },
   {
    "duration": 442,
    "start_time": "2022-06-28T07:10:30.698Z"
   },
   {
    "duration": 363,
    "start_time": "2022-06-28T07:10:31.142Z"
   },
   {
    "duration": 3,
    "start_time": "2022-06-28T07:10:31.507Z"
   },
   {
    "duration": 506,
    "start_time": "2022-06-28T07:10:31.511Z"
   },
   {
    "duration": 2,
    "start_time": "2022-06-28T07:10:32.020Z"
   },
   {
    "duration": 70,
    "start_time": "2022-06-28T07:10:32.026Z"
   },
   {
    "duration": 3,
    "start_time": "2022-06-28T07:10:32.098Z"
   },
   {
    "duration": 16,
    "start_time": "2022-06-28T07:10:32.103Z"
   },
   {
    "duration": 3,
    "start_time": "2022-06-28T07:10:32.121Z"
   },
   {
    "duration": 7,
    "start_time": "2022-06-28T07:10:32.126Z"
   },
   {
    "duration": 10,
    "start_time": "2022-06-28T07:10:32.135Z"
   },
   {
    "duration": 21,
    "start_time": "2022-06-28T07:10:32.147Z"
   },
   {
    "duration": 5,
    "start_time": "2022-06-28T07:10:32.169Z"
   },
   {
    "duration": 9,
    "start_time": "2022-06-28T07:10:32.177Z"
   },
   {
    "duration": 5,
    "start_time": "2022-06-28T07:10:32.188Z"
   },
   {
    "duration": 49,
    "start_time": "2022-06-28T07:10:32.195Z"
   },
   {
    "duration": 13,
    "start_time": "2022-06-28T07:10:32.246Z"
   },
   {
    "duration": 6,
    "start_time": "2022-06-28T07:10:32.261Z"
   },
   {
    "duration": 167,
    "start_time": "2022-06-28T07:10:32.269Z"
   },
   {
    "duration": 15,
    "start_time": "2022-06-28T07:10:32.438Z"
   },
   {
    "duration": 4,
    "start_time": "2022-06-28T07:10:32.454Z"
   },
   {
    "duration": 46,
    "start_time": "2022-06-28T07:10:32.460Z"
   },
   {
    "duration": 20,
    "start_time": "2022-06-28T07:10:32.508Z"
   },
   {
    "duration": 4,
    "start_time": "2022-06-28T07:10:32.529Z"
   },
   {
    "duration": 8,
    "start_time": "2022-06-28T07:10:32.534Z"
   },
   {
    "duration": 23,
    "start_time": "2022-06-28T07:10:32.544Z"
   },
   {
    "duration": 5,
    "start_time": "2022-06-28T07:10:32.569Z"
   },
   {
    "duration": 6,
    "start_time": "2022-06-28T07:10:32.576Z"
   },
   {
    "duration": 219,
    "start_time": "2022-06-28T07:10:32.583Z"
   },
   {
    "duration": 3,
    "start_time": "2022-06-28T07:10:32.804Z"
   },
   {
    "duration": 50,
    "start_time": "2022-06-28T07:10:32.809Z"
   },
   {
    "duration": 5,
    "start_time": "2022-06-28T07:10:32.861Z"
   },
   {
    "duration": 21,
    "start_time": "2022-06-28T07:10:32.868Z"
   },
   {
    "duration": 5,
    "start_time": "2022-06-28T07:10:32.891Z"
   },
   {
    "duration": 7,
    "start_time": "2022-06-28T07:10:32.897Z"
   },
   {
    "duration": 9,
    "start_time": "2022-06-28T07:10:32.906Z"
   },
   {
    "duration": 3,
    "start_time": "2022-06-28T07:10:32.929Z"
   },
   {
    "duration": 11,
    "start_time": "2022-06-28T07:10:32.934Z"
   },
   {
    "duration": 171,
    "start_time": "2022-06-28T07:10:32.946Z"
   },
   {
    "duration": 11,
    "start_time": "2022-06-28T07:10:33.119Z"
   },
   {
    "duration": 9,
    "start_time": "2022-06-28T07:10:33.135Z"
   },
   {
    "duration": 10,
    "start_time": "2022-06-28T07:10:33.145Z"
   },
   {
    "duration": 9,
    "start_time": "2022-06-28T07:10:33.157Z"
   },
   {
    "duration": 11,
    "start_time": "2022-06-28T07:10:33.168Z"
   },
   {
    "duration": 168,
    "start_time": "2022-06-28T07:10:33.181Z"
   },
   {
    "duration": 151,
    "start_time": "2022-06-28T07:10:33.350Z"
   },
   {
    "duration": 5,
    "start_time": "2022-06-28T07:10:33.503Z"
   },
   {
    "duration": 34,
    "start_time": "2022-06-28T07:10:33.509Z"
   },
   {
    "duration": 131,
    "start_time": "2022-06-28T07:10:33.545Z"
   },
   {
    "duration": 131,
    "start_time": "2022-06-28T07:10:33.677Z"
   },
   {
    "duration": 5,
    "start_time": "2022-06-28T07:10:33.810Z"
   },
   {
    "duration": 14,
    "start_time": "2022-06-28T07:10:33.817Z"
   },
   {
    "duration": 9,
    "start_time": "2022-06-28T07:10:33.833Z"
   },
   {
    "duration": 8,
    "start_time": "2022-06-28T07:10:33.843Z"
   },
   {
    "duration": 367,
    "start_time": "2022-06-28T07:10:33.853Z"
   },
   {
    "duration": 282,
    "start_time": "2022-06-28T07:10:34.226Z"
   },
   {
    "duration": 282,
    "start_time": "2022-06-28T07:10:34.510Z"
   },
   {
    "duration": 296,
    "start_time": "2022-06-28T07:10:34.794Z"
   },
   {
    "duration": 266,
    "start_time": "2022-06-28T07:10:35.092Z"
   },
   {
    "duration": 5,
    "start_time": "2022-06-28T07:10:35.359Z"
   },
   {
    "duration": 15,
    "start_time": "2022-06-28T07:10:35.365Z"
   },
   {
    "duration": 181,
    "start_time": "2022-06-28T07:10:35.382Z"
   },
   {
    "duration": 4,
    "start_time": "2022-06-28T07:10:35.565Z"
   },
   {
    "duration": 16,
    "start_time": "2022-06-28T07:10:35.570Z"
   },
   {
    "duration": 153,
    "start_time": "2022-06-28T07:10:35.588Z"
   },
   {
    "duration": 106,
    "start_time": "2022-06-28T07:10:35.742Z"
   },
   {
    "duration": 0,
    "start_time": "2022-06-28T07:10:35.850Z"
   },
   {
    "duration": 0,
    "start_time": "2022-06-28T07:10:35.850Z"
   },
   {
    "duration": 0,
    "start_time": "2022-06-28T07:10:35.852Z"
   },
   {
    "duration": 0,
    "start_time": "2022-06-28T07:10:35.853Z"
   },
   {
    "duration": 0,
    "start_time": "2022-06-28T07:10:35.854Z"
   },
   {
    "duration": 0,
    "start_time": "2022-06-28T07:10:35.855Z"
   },
   {
    "duration": 0,
    "start_time": "2022-06-28T07:10:35.856Z"
   },
   {
    "duration": 0,
    "start_time": "2022-06-28T07:10:35.857Z"
   },
   {
    "duration": 0,
    "start_time": "2022-06-28T07:10:35.858Z"
   },
   {
    "duration": 0,
    "start_time": "2022-06-28T07:10:35.859Z"
   },
   {
    "duration": 0,
    "start_time": "2022-06-28T07:10:35.860Z"
   },
   {
    "duration": 0,
    "start_time": "2022-06-28T07:10:35.862Z"
   },
   {
    "duration": 0,
    "start_time": "2022-06-28T07:10:35.863Z"
   },
   {
    "duration": 0,
    "start_time": "2022-06-28T07:10:35.864Z"
   },
   {
    "duration": 0,
    "start_time": "2022-06-28T07:10:35.865Z"
   },
   {
    "duration": 0,
    "start_time": "2022-06-28T07:10:35.867Z"
   },
   {
    "duration": 0,
    "start_time": "2022-06-28T07:10:35.868Z"
   },
   {
    "duration": 0,
    "start_time": "2022-06-28T07:10:35.869Z"
   },
   {
    "duration": 0,
    "start_time": "2022-06-28T07:10:35.871Z"
   },
   {
    "duration": 0,
    "start_time": "2022-06-28T07:10:35.872Z"
   },
   {
    "duration": 0,
    "start_time": "2022-06-28T07:10:35.873Z"
   },
   {
    "duration": 0,
    "start_time": "2022-06-28T07:10:35.876Z"
   },
   {
    "duration": 0,
    "start_time": "2022-06-28T07:10:35.877Z"
   },
   {
    "duration": 0,
    "start_time": "2022-06-28T07:10:35.927Z"
   },
   {
    "duration": 0,
    "start_time": "2022-06-28T07:10:35.928Z"
   },
   {
    "duration": 0,
    "start_time": "2022-06-28T07:10:35.930Z"
   },
   {
    "duration": 0,
    "start_time": "2022-06-28T07:10:35.931Z"
   },
   {
    "duration": 0,
    "start_time": "2022-06-28T07:10:35.932Z"
   },
   {
    "duration": 0,
    "start_time": "2022-06-28T07:10:35.933Z"
   },
   {
    "duration": 0,
    "start_time": "2022-06-28T07:10:35.937Z"
   },
   {
    "duration": 0,
    "start_time": "2022-06-28T07:10:35.938Z"
   },
   {
    "duration": 0,
    "start_time": "2022-06-28T07:10:35.939Z"
   },
   {
    "duration": 30,
    "start_time": "2022-06-28T07:13:57.949Z"
   },
   {
    "duration": 8,
    "start_time": "2022-06-28T07:14:30.493Z"
   },
   {
    "duration": 8,
    "start_time": "2022-06-28T07:14:47.214Z"
   },
   {
    "duration": 5,
    "start_time": "2022-06-28T07:27:41.641Z"
   },
   {
    "duration": 8,
    "start_time": "2022-06-28T07:28:07.637Z"
   },
   {
    "duration": 461,
    "start_time": "2022-06-28T07:28:19.443Z"
   },
   {
    "duration": 293,
    "start_time": "2022-06-28T07:28:19.906Z"
   },
   {
    "duration": 3,
    "start_time": "2022-06-28T07:28:20.201Z"
   },
   {
    "duration": 511,
    "start_time": "2022-06-28T07:28:20.206Z"
   },
   {
    "duration": 3,
    "start_time": "2022-06-28T07:28:20.719Z"
   },
   {
    "duration": 51,
    "start_time": "2022-06-28T07:28:20.726Z"
   },
   {
    "duration": 4,
    "start_time": "2022-06-28T07:28:20.779Z"
   },
   {
    "duration": 21,
    "start_time": "2022-06-28T07:28:20.784Z"
   },
   {
    "duration": 4,
    "start_time": "2022-06-28T07:28:20.807Z"
   },
   {
    "duration": 14,
    "start_time": "2022-06-28T07:28:20.813Z"
   },
   {
    "duration": 8,
    "start_time": "2022-06-28T07:28:20.829Z"
   },
   {
    "duration": 22,
    "start_time": "2022-06-28T07:28:20.839Z"
   },
   {
    "duration": 5,
    "start_time": "2022-06-28T07:28:20.863Z"
   },
   {
    "duration": 16,
    "start_time": "2022-06-28T07:28:20.869Z"
   },
   {
    "duration": 5,
    "start_time": "2022-06-28T07:28:20.887Z"
   },
   {
    "duration": 46,
    "start_time": "2022-06-28T07:28:20.894Z"
   },
   {
    "duration": 13,
    "start_time": "2022-06-28T07:28:20.941Z"
   },
   {
    "duration": 7,
    "start_time": "2022-06-28T07:28:20.955Z"
   },
   {
    "duration": 164,
    "start_time": "2022-06-28T07:28:20.964Z"
   },
   {
    "duration": 16,
    "start_time": "2022-06-28T07:28:21.130Z"
   },
   {
    "duration": 8,
    "start_time": "2022-06-28T07:28:21.147Z"
   },
   {
    "duration": 51,
    "start_time": "2022-06-28T07:28:21.156Z"
   },
   {
    "duration": 19,
    "start_time": "2022-06-28T07:28:21.208Z"
   },
   {
    "duration": 12,
    "start_time": "2022-06-28T07:28:21.229Z"
   },
   {
    "duration": 10,
    "start_time": "2022-06-28T07:28:21.242Z"
   },
   {
    "duration": 28,
    "start_time": "2022-06-28T07:28:21.253Z"
   },
   {
    "duration": 20,
    "start_time": "2022-06-28T07:28:21.283Z"
   },
   {
    "duration": 8,
    "start_time": "2022-06-28T07:28:21.307Z"
   },
   {
    "duration": 214,
    "start_time": "2022-06-28T07:28:21.317Z"
   },
   {
    "duration": 3,
    "start_time": "2022-06-28T07:28:21.533Z"
   },
   {
    "duration": 48,
    "start_time": "2022-06-28T07:28:21.538Z"
   },
   {
    "duration": 5,
    "start_time": "2022-06-28T07:28:21.587Z"
   },
   {
    "duration": 42,
    "start_time": "2022-06-28T07:28:21.593Z"
   },
   {
    "duration": 9,
    "start_time": "2022-06-28T07:28:21.636Z"
   },
   {
    "duration": 13,
    "start_time": "2022-06-28T07:28:21.646Z"
   },
   {
    "duration": 11,
    "start_time": "2022-06-28T07:28:21.661Z"
   },
   {
    "duration": 22,
    "start_time": "2022-06-28T07:28:21.673Z"
   },
   {
    "duration": 12,
    "start_time": "2022-06-28T07:28:21.697Z"
   },
   {
    "duration": 168,
    "start_time": "2022-06-28T07:28:21.710Z"
   },
   {
    "duration": 10,
    "start_time": "2022-06-28T07:28:21.880Z"
   },
   {
    "duration": 9,
    "start_time": "2022-06-28T07:28:21.892Z"
   },
   {
    "duration": 7,
    "start_time": "2022-06-28T07:28:21.903Z"
   },
   {
    "duration": 21,
    "start_time": "2022-06-28T07:28:21.911Z"
   },
   {
    "duration": 9,
    "start_time": "2022-06-28T07:28:21.933Z"
   },
   {
    "duration": 141,
    "start_time": "2022-06-28T07:28:21.944Z"
   },
   {
    "duration": 155,
    "start_time": "2022-06-28T07:28:22.087Z"
   },
   {
    "duration": 5,
    "start_time": "2022-06-28T07:28:22.243Z"
   },
   {
    "duration": 22,
    "start_time": "2022-06-28T07:28:22.250Z"
   },
   {
    "duration": 155,
    "start_time": "2022-06-28T07:28:22.273Z"
   },
   {
    "duration": 132,
    "start_time": "2022-06-28T07:28:22.430Z"
   },
   {
    "duration": 5,
    "start_time": "2022-06-28T07:28:22.564Z"
   },
   {
    "duration": 7,
    "start_time": "2022-06-28T07:28:22.571Z"
   },
   {
    "duration": 4,
    "start_time": "2022-06-28T07:28:22.579Z"
   },
   {
    "duration": 6,
    "start_time": "2022-06-28T07:28:22.585Z"
   },
   {
    "duration": 362,
    "start_time": "2022-06-28T07:28:22.592Z"
   },
   {
    "duration": 276,
    "start_time": "2022-06-28T07:28:22.955Z"
   },
   {
    "duration": 280,
    "start_time": "2022-06-28T07:28:23.232Z"
   },
   {
    "duration": 280,
    "start_time": "2022-06-28T07:28:23.514Z"
   },
   {
    "duration": 267,
    "start_time": "2022-06-28T07:28:23.796Z"
   },
   {
    "duration": 4,
    "start_time": "2022-06-28T07:28:24.064Z"
   },
   {
    "duration": 7,
    "start_time": "2022-06-28T07:28:24.070Z"
   },
   {
    "duration": 175,
    "start_time": "2022-06-28T07:28:24.078Z"
   },
   {
    "duration": 4,
    "start_time": "2022-06-28T07:28:24.255Z"
   },
   {
    "duration": 13,
    "start_time": "2022-06-28T07:28:24.261Z"
   },
   {
    "duration": 157,
    "start_time": "2022-06-28T07:28:24.276Z"
   },
   {
    "duration": 106,
    "start_time": "2022-06-28T07:28:24.435Z"
   },
   {
    "duration": 0,
    "start_time": "2022-06-28T07:28:24.542Z"
   },
   {
    "duration": 0,
    "start_time": "2022-06-28T07:28:24.544Z"
   },
   {
    "duration": 0,
    "start_time": "2022-06-28T07:28:24.545Z"
   },
   {
    "duration": 0,
    "start_time": "2022-06-28T07:28:24.546Z"
   },
   {
    "duration": 0,
    "start_time": "2022-06-28T07:28:24.547Z"
   },
   {
    "duration": 0,
    "start_time": "2022-06-28T07:28:24.547Z"
   },
   {
    "duration": 0,
    "start_time": "2022-06-28T07:28:24.549Z"
   },
   {
    "duration": 0,
    "start_time": "2022-06-28T07:28:24.550Z"
   },
   {
    "duration": 0,
    "start_time": "2022-06-28T07:28:24.550Z"
   },
   {
    "duration": 0,
    "start_time": "2022-06-28T07:28:24.551Z"
   },
   {
    "duration": 0,
    "start_time": "2022-06-28T07:28:24.552Z"
   },
   {
    "duration": 0,
    "start_time": "2022-06-28T07:28:24.553Z"
   },
   {
    "duration": 0,
    "start_time": "2022-06-28T07:28:24.555Z"
   },
   {
    "duration": 0,
    "start_time": "2022-06-28T07:28:24.556Z"
   },
   {
    "duration": 0,
    "start_time": "2022-06-28T07:28:24.557Z"
   },
   {
    "duration": 0,
    "start_time": "2022-06-28T07:28:24.558Z"
   },
   {
    "duration": 0,
    "start_time": "2022-06-28T07:28:24.559Z"
   },
   {
    "duration": 0,
    "start_time": "2022-06-28T07:28:24.560Z"
   },
   {
    "duration": 0,
    "start_time": "2022-06-28T07:28:24.561Z"
   },
   {
    "duration": 0,
    "start_time": "2022-06-28T07:28:24.562Z"
   },
   {
    "duration": 0,
    "start_time": "2022-06-28T07:28:24.563Z"
   },
   {
    "duration": 0,
    "start_time": "2022-06-28T07:28:24.564Z"
   },
   {
    "duration": 0,
    "start_time": "2022-06-28T07:28:24.565Z"
   },
   {
    "duration": 0,
    "start_time": "2022-06-28T07:28:24.567Z"
   },
   {
    "duration": 0,
    "start_time": "2022-06-28T07:28:24.567Z"
   },
   {
    "duration": 0,
    "start_time": "2022-06-28T07:28:24.568Z"
   },
   {
    "duration": 0,
    "start_time": "2022-06-28T07:28:24.569Z"
   },
   {
    "duration": 0,
    "start_time": "2022-06-28T07:28:24.570Z"
   },
   {
    "duration": 0,
    "start_time": "2022-06-28T07:28:24.571Z"
   },
   {
    "duration": 0,
    "start_time": "2022-06-28T07:28:24.572Z"
   },
   {
    "duration": 0,
    "start_time": "2022-06-28T07:28:24.573Z"
   },
   {
    "duration": 0,
    "start_time": "2022-06-28T07:28:24.627Z"
   },
   {
    "duration": 5,
    "start_time": "2022-06-28T07:31:55.452Z"
   },
   {
    "duration": 435,
    "start_time": "2022-06-28T07:32:38.815Z"
   },
   {
    "duration": 220,
    "start_time": "2022-06-28T07:32:39.252Z"
   },
   {
    "duration": 3,
    "start_time": "2022-06-28T07:32:39.473Z"
   },
   {
    "duration": 540,
    "start_time": "2022-06-28T07:32:39.477Z"
   },
   {
    "duration": 3,
    "start_time": "2022-06-28T07:32:40.019Z"
   },
   {
    "duration": 50,
    "start_time": "2022-06-28T07:32:40.026Z"
   },
   {
    "duration": 2,
    "start_time": "2022-06-28T07:32:40.078Z"
   },
   {
    "duration": 40,
    "start_time": "2022-06-28T07:32:40.082Z"
   },
   {
    "duration": 6,
    "start_time": "2022-06-28T07:32:40.123Z"
   },
   {
    "duration": 12,
    "start_time": "2022-06-28T07:32:40.131Z"
   },
   {
    "duration": 14,
    "start_time": "2022-06-28T07:32:40.144Z"
   },
   {
    "duration": 24,
    "start_time": "2022-06-28T07:32:40.160Z"
   },
   {
    "duration": 4,
    "start_time": "2022-06-28T07:32:40.186Z"
   },
   {
    "duration": 13,
    "start_time": "2022-06-28T07:32:40.193Z"
   },
   {
    "duration": 6,
    "start_time": "2022-06-28T07:32:40.208Z"
   },
   {
    "duration": 31,
    "start_time": "2022-06-28T07:32:40.215Z"
   },
   {
    "duration": 13,
    "start_time": "2022-06-28T07:32:40.247Z"
   },
   {
    "duration": 6,
    "start_time": "2022-06-28T07:32:40.262Z"
   },
   {
    "duration": 161,
    "start_time": "2022-06-28T07:32:40.270Z"
   },
   {
    "duration": 14,
    "start_time": "2022-06-28T07:32:40.432Z"
   },
   {
    "duration": 4,
    "start_time": "2022-06-28T07:32:40.448Z"
   },
   {
    "duration": 42,
    "start_time": "2022-06-28T07:32:40.453Z"
   },
   {
    "duration": 8,
    "start_time": "2022-06-28T07:32:40.497Z"
   },
   {
    "duration": 2,
    "start_time": "2022-06-28T07:32:40.527Z"
   },
   {
    "duration": 5,
    "start_time": "2022-06-28T07:32:40.531Z"
   },
   {
    "duration": 24,
    "start_time": "2022-06-28T07:32:40.538Z"
   },
   {
    "duration": 7,
    "start_time": "2022-06-28T07:32:40.563Z"
   },
   {
    "duration": 7,
    "start_time": "2022-06-28T07:32:40.571Z"
   },
   {
    "duration": 217,
    "start_time": "2022-06-28T07:32:40.579Z"
   },
   {
    "duration": 4,
    "start_time": "2022-06-28T07:32:40.798Z"
   },
   {
    "duration": 53,
    "start_time": "2022-06-28T07:32:40.803Z"
   },
   {
    "duration": 5,
    "start_time": "2022-06-28T07:32:40.858Z"
   },
   {
    "duration": 21,
    "start_time": "2022-06-28T07:32:40.865Z"
   },
   {
    "duration": 5,
    "start_time": "2022-06-28T07:32:40.887Z"
   },
   {
    "duration": 6,
    "start_time": "2022-06-28T07:32:40.894Z"
   },
   {
    "duration": 11,
    "start_time": "2022-06-28T07:32:40.901Z"
   },
   {
    "duration": 6,
    "start_time": "2022-06-28T07:32:40.926Z"
   },
   {
    "duration": 12,
    "start_time": "2022-06-28T07:32:40.933Z"
   },
   {
    "duration": 176,
    "start_time": "2022-06-28T07:32:40.946Z"
   },
   {
    "duration": 13,
    "start_time": "2022-06-28T07:32:41.123Z"
   },
   {
    "duration": 13,
    "start_time": "2022-06-28T07:32:41.143Z"
   },
   {
    "duration": 14,
    "start_time": "2022-06-28T07:32:41.157Z"
   },
   {
    "duration": 8,
    "start_time": "2022-06-28T07:32:41.173Z"
   },
   {
    "duration": 17,
    "start_time": "2022-06-28T07:32:41.183Z"
   },
   {
    "duration": 166,
    "start_time": "2022-06-28T07:32:41.202Z"
   },
   {
    "duration": 151,
    "start_time": "2022-06-28T07:32:41.370Z"
   },
   {
    "duration": 7,
    "start_time": "2022-06-28T07:32:41.522Z"
   },
   {
    "duration": 40,
    "start_time": "2022-06-28T07:32:41.530Z"
   },
   {
    "duration": 137,
    "start_time": "2022-06-28T07:32:41.571Z"
   },
   {
    "duration": 151,
    "start_time": "2022-06-28T07:32:41.710Z"
   },
   {
    "duration": 6,
    "start_time": "2022-06-28T07:32:41.862Z"
   },
   {
    "duration": 25,
    "start_time": "2022-06-28T07:32:41.869Z"
   },
   {
    "duration": 27,
    "start_time": "2022-06-28T07:32:41.895Z"
   },
   {
    "duration": 28,
    "start_time": "2022-06-28T07:32:41.924Z"
   },
   {
    "duration": 326,
    "start_time": "2022-06-28T07:32:41.954Z"
   },
   {
    "duration": 287,
    "start_time": "2022-06-28T07:32:42.282Z"
   },
   {
    "duration": 278,
    "start_time": "2022-06-28T07:32:42.570Z"
   },
   {
    "duration": 267,
    "start_time": "2022-06-28T07:32:42.849Z"
   },
   {
    "duration": 266,
    "start_time": "2022-06-28T07:32:43.118Z"
   },
   {
    "duration": 5,
    "start_time": "2022-06-28T07:32:43.385Z"
   },
   {
    "duration": 27,
    "start_time": "2022-06-28T07:32:43.391Z"
   },
   {
    "duration": 175,
    "start_time": "2022-06-28T07:32:43.419Z"
   },
   {
    "duration": 5,
    "start_time": "2022-06-28T07:32:43.595Z"
   },
   {
    "duration": 30,
    "start_time": "2022-06-28T07:32:43.601Z"
   },
   {
    "duration": 156,
    "start_time": "2022-06-28T07:32:43.632Z"
   },
   {
    "duration": 5,
    "start_time": "2022-06-28T07:32:43.789Z"
   },
   {
    "duration": 286,
    "start_time": "2022-06-28T07:32:43.796Z"
   },
   {
    "duration": 13,
    "start_time": "2022-06-28T07:32:44.083Z"
   },
   {
    "duration": 3,
    "start_time": "2022-06-28T07:32:44.098Z"
   },
   {
    "duration": 679,
    "start_time": "2022-06-28T07:32:44.102Z"
   },
   {
    "duration": 6,
    "start_time": "2022-06-28T07:32:44.783Z"
   },
   {
    "duration": 15,
    "start_time": "2022-06-28T07:32:44.791Z"
   },
   {
    "duration": 10,
    "start_time": "2022-06-28T07:32:44.808Z"
   },
   {
    "duration": 22,
    "start_time": "2022-06-28T07:32:44.819Z"
   },
   {
    "duration": 15,
    "start_time": "2022-06-28T07:32:44.842Z"
   },
   {
    "duration": 683,
    "start_time": "2022-06-28T07:32:44.859Z"
   },
   {
    "duration": 7,
    "start_time": "2022-06-28T07:32:45.544Z"
   },
   {
    "duration": 6,
    "start_time": "2022-06-28T07:32:45.553Z"
   },
   {
    "duration": 12,
    "start_time": "2022-06-28T07:32:45.560Z"
   },
   {
    "duration": 10,
    "start_time": "2022-06-28T07:32:45.573Z"
   },
   {
    "duration": 8,
    "start_time": "2022-06-28T07:32:45.584Z"
   },
   {
    "duration": 7,
    "start_time": "2022-06-28T07:32:45.593Z"
   },
   {
    "duration": 9,
    "start_time": "2022-06-28T07:32:45.601Z"
   },
   {
    "duration": 6,
    "start_time": "2022-06-28T07:32:45.611Z"
   },
   {
    "duration": 10,
    "start_time": "2022-06-28T07:32:45.618Z"
   },
   {
    "duration": 3,
    "start_time": "2022-06-28T07:32:45.629Z"
   },
   {
    "duration": 5,
    "start_time": "2022-06-28T07:32:45.633Z"
   },
   {
    "duration": 12,
    "start_time": "2022-06-28T07:32:45.640Z"
   },
   {
    "duration": 8,
    "start_time": "2022-06-28T07:32:45.653Z"
   },
   {
    "duration": 9,
    "start_time": "2022-06-28T07:32:45.662Z"
   },
   {
    "duration": 5,
    "start_time": "2022-06-28T07:32:45.673Z"
   },
   {
    "duration": 16,
    "start_time": "2022-06-28T07:32:45.679Z"
   },
   {
    "duration": 6,
    "start_time": "2022-06-28T07:32:45.696Z"
   },
   {
    "duration": 6,
    "start_time": "2022-06-28T07:32:45.704Z"
   },
   {
    "duration": 7,
    "start_time": "2022-06-28T07:32:45.711Z"
   },
   {
    "duration": 9,
    "start_time": "2022-06-28T07:32:45.719Z"
   },
   {
    "duration": 5,
    "start_time": "2022-06-28T07:32:45.730Z"
   },
   {
    "duration": 5,
    "start_time": "2022-06-28T07:32:45.737Z"
   },
   {
    "duration": 5,
    "start_time": "2022-06-28T07:35:00.331Z"
   },
   {
    "duration": 724,
    "start_time": "2022-06-28T07:35:44.370Z"
   },
   {
    "duration": 6,
    "start_time": "2022-06-28T07:37:15.321Z"
   },
   {
    "duration": 6,
    "start_time": "2022-06-28T07:37:20.190Z"
   },
   {
    "duration": 10,
    "start_time": "2022-06-28T07:37:20.837Z"
   },
   {
    "duration": 706,
    "start_time": "2022-06-28T07:37:27.624Z"
   },
   {
    "duration": 100,
    "start_time": "2022-06-28T07:43:50.057Z"
   },
   {
    "duration": 9,
    "start_time": "2022-06-28T07:44:30.191Z"
   },
   {
    "duration": 4,
    "start_time": "2022-06-28T07:44:48.908Z"
   },
   {
    "duration": 4,
    "start_time": "2022-06-28T07:46:20.318Z"
   },
   {
    "duration": 429,
    "start_time": "2022-06-28T07:46:36.512Z"
   },
   {
    "duration": 229,
    "start_time": "2022-06-28T07:46:36.943Z"
   },
   {
    "duration": 3,
    "start_time": "2022-06-28T07:46:37.174Z"
   },
   {
    "duration": 548,
    "start_time": "2022-06-28T07:46:37.179Z"
   },
   {
    "duration": 3,
    "start_time": "2022-06-28T07:46:37.729Z"
   },
   {
    "duration": 85,
    "start_time": "2022-06-28T07:46:37.733Z"
   },
   {
    "duration": 3,
    "start_time": "2022-06-28T07:46:37.820Z"
   },
   {
    "duration": 19,
    "start_time": "2022-06-28T07:46:37.825Z"
   },
   {
    "duration": 4,
    "start_time": "2022-06-28T07:46:37.845Z"
   },
   {
    "duration": 8,
    "start_time": "2022-06-28T07:46:37.851Z"
   },
   {
    "duration": 9,
    "start_time": "2022-06-28T07:46:37.860Z"
   },
   {
    "duration": 20,
    "start_time": "2022-06-28T07:46:37.871Z"
   },
   {
    "duration": 4,
    "start_time": "2022-06-28T07:46:37.893Z"
   },
   {
    "duration": 11,
    "start_time": "2022-06-28T07:46:37.898Z"
   },
   {
    "duration": 4,
    "start_time": "2022-06-28T07:46:37.927Z"
   },
   {
    "duration": 11,
    "start_time": "2022-06-28T07:46:37.932Z"
   },
   {
    "duration": 20,
    "start_time": "2022-06-28T07:46:37.944Z"
   },
   {
    "duration": 12,
    "start_time": "2022-06-28T07:46:37.966Z"
   },
   {
    "duration": 8,
    "start_time": "2022-06-28T07:46:37.979Z"
   },
   {
    "duration": 161,
    "start_time": "2022-06-28T07:46:37.989Z"
   },
   {
    "duration": 14,
    "start_time": "2022-06-28T07:46:38.152Z"
   },
   {
    "duration": 4,
    "start_time": "2022-06-28T07:46:38.168Z"
   },
   {
    "duration": 55,
    "start_time": "2022-06-28T07:46:38.174Z"
   },
   {
    "duration": 6,
    "start_time": "2022-06-28T07:46:38.230Z"
   },
   {
    "duration": 5,
    "start_time": "2022-06-28T07:46:38.237Z"
   },
   {
    "duration": 6,
    "start_time": "2022-06-28T07:46:38.243Z"
   },
   {
    "duration": 23,
    "start_time": "2022-06-28T07:46:38.250Z"
   },
   {
    "duration": 6,
    "start_time": "2022-06-28T07:46:38.277Z"
   },
   {
    "duration": 7,
    "start_time": "2022-06-28T07:46:38.284Z"
   },
   {
    "duration": 204,
    "start_time": "2022-06-28T07:46:38.292Z"
   },
   {
    "duration": 4,
    "start_time": "2022-06-28T07:46:38.498Z"
   },
   {
    "duration": 47,
    "start_time": "2022-06-28T07:46:38.503Z"
   },
   {
    "duration": 7,
    "start_time": "2022-06-28T07:46:38.552Z"
   },
   {
    "duration": 23,
    "start_time": "2022-06-28T07:46:38.561Z"
   },
   {
    "duration": 7,
    "start_time": "2022-06-28T07:46:38.586Z"
   },
   {
    "duration": 6,
    "start_time": "2022-06-28T07:46:38.594Z"
   },
   {
    "duration": 10,
    "start_time": "2022-06-28T07:46:38.601Z"
   },
   {
    "duration": 19,
    "start_time": "2022-06-28T07:46:38.613Z"
   },
   {
    "duration": 13,
    "start_time": "2022-06-28T07:46:38.634Z"
   },
   {
    "duration": 163,
    "start_time": "2022-06-28T07:46:38.648Z"
   },
   {
    "duration": 16,
    "start_time": "2022-06-28T07:46:38.813Z"
   },
   {
    "duration": 21,
    "start_time": "2022-06-28T07:46:38.830Z"
   },
   {
    "duration": 22,
    "start_time": "2022-06-28T07:46:38.853Z"
   },
   {
    "duration": 14,
    "start_time": "2022-06-28T07:46:38.876Z"
   },
   {
    "duration": 13,
    "start_time": "2022-06-28T07:46:38.891Z"
   },
   {
    "duration": 123,
    "start_time": "2022-06-28T07:46:38.906Z"
   },
   {
    "duration": 143,
    "start_time": "2022-06-28T07:46:39.030Z"
   },
   {
    "duration": 5,
    "start_time": "2022-06-28T07:46:39.174Z"
   },
   {
    "duration": 38,
    "start_time": "2022-06-28T07:46:39.180Z"
   },
   {
    "duration": 132,
    "start_time": "2022-06-28T07:46:39.220Z"
   },
   {
    "duration": 129,
    "start_time": "2022-06-28T07:46:39.353Z"
   },
   {
    "duration": 5,
    "start_time": "2022-06-28T07:46:39.483Z"
   },
   {
    "duration": 9,
    "start_time": "2022-06-28T07:46:39.490Z"
   },
   {
    "duration": 12,
    "start_time": "2022-06-28T07:46:39.500Z"
   },
   {
    "duration": 22,
    "start_time": "2022-06-28T07:46:39.514Z"
   },
   {
    "duration": 301,
    "start_time": "2022-06-28T07:46:39.537Z"
   },
   {
    "duration": 260,
    "start_time": "2022-06-28T07:46:39.839Z"
   },
   {
    "duration": 267,
    "start_time": "2022-06-28T07:46:40.101Z"
   },
   {
    "duration": 264,
    "start_time": "2022-06-28T07:46:40.370Z"
   },
   {
    "duration": 248,
    "start_time": "2022-06-28T07:46:40.636Z"
   },
   {
    "duration": 4,
    "start_time": "2022-06-28T07:46:40.886Z"
   },
   {
    "duration": 8,
    "start_time": "2022-06-28T07:46:40.891Z"
   },
   {
    "duration": 181,
    "start_time": "2022-06-28T07:46:40.900Z"
   },
   {
    "duration": 4,
    "start_time": "2022-06-28T07:46:41.082Z"
   },
   {
    "duration": 8,
    "start_time": "2022-06-28T07:46:41.088Z"
   },
   {
    "duration": 164,
    "start_time": "2022-06-28T07:46:41.098Z"
   },
   {
    "duration": 4,
    "start_time": "2022-06-28T07:46:41.264Z"
   },
   {
    "duration": 270,
    "start_time": "2022-06-28T07:46:41.270Z"
   },
   {
    "duration": 15,
    "start_time": "2022-06-28T07:46:41.542Z"
   },
   {
    "duration": 11,
    "start_time": "2022-06-28T07:46:41.559Z"
   },
   {
    "duration": 694,
    "start_time": "2022-06-28T07:46:41.571Z"
   },
   {
    "duration": 5,
    "start_time": "2022-06-28T07:46:42.267Z"
   },
   {
    "duration": 9,
    "start_time": "2022-06-28T07:46:42.274Z"
   },
   {
    "duration": 6,
    "start_time": "2022-06-28T07:46:42.284Z"
   },
   {
    "duration": 9,
    "start_time": "2022-06-28T07:46:42.291Z"
   },
   {
    "duration": 27,
    "start_time": "2022-06-28T07:46:42.301Z"
   },
   {
    "duration": 675,
    "start_time": "2022-06-28T07:46:42.329Z"
   },
   {
    "duration": 7,
    "start_time": "2022-06-28T07:46:43.006Z"
   },
   {
    "duration": 13,
    "start_time": "2022-06-28T07:46:43.014Z"
   },
   {
    "duration": 10,
    "start_time": "2022-06-28T07:46:43.028Z"
   },
   {
    "duration": 6,
    "start_time": "2022-06-28T07:46:43.039Z"
   },
   {
    "duration": 7,
    "start_time": "2022-06-28T07:46:43.050Z"
   },
   {
    "duration": 7,
    "start_time": "2022-06-28T07:46:43.059Z"
   },
   {
    "duration": 8,
    "start_time": "2022-06-28T07:46:43.067Z"
   },
   {
    "duration": 6,
    "start_time": "2022-06-28T07:46:43.076Z"
   },
   {
    "duration": 6,
    "start_time": "2022-06-28T07:46:43.084Z"
   },
   {
    "duration": 4,
    "start_time": "2022-06-28T07:46:43.091Z"
   },
   {
    "duration": 7,
    "start_time": "2022-06-28T07:46:43.097Z"
   },
   {
    "duration": 23,
    "start_time": "2022-06-28T07:46:43.105Z"
   },
   {
    "duration": 3,
    "start_time": "2022-06-28T07:46:43.129Z"
   },
   {
    "duration": 9,
    "start_time": "2022-06-28T07:46:43.134Z"
   },
   {
    "duration": 6,
    "start_time": "2022-06-28T07:46:43.144Z"
   },
   {
    "duration": 7,
    "start_time": "2022-06-28T07:46:43.151Z"
   },
   {
    "duration": 6,
    "start_time": "2022-06-28T07:46:43.159Z"
   },
   {
    "duration": 5,
    "start_time": "2022-06-28T07:46:43.166Z"
   },
   {
    "duration": 5,
    "start_time": "2022-06-28T07:46:43.172Z"
   },
   {
    "duration": 7,
    "start_time": "2022-06-28T07:46:43.179Z"
   },
   {
    "duration": 5,
    "start_time": "2022-06-28T07:46:43.188Z"
   },
   {
    "duration": 5,
    "start_time": "2022-06-28T07:46:43.195Z"
   },
   {
    "duration": 12,
    "start_time": "2022-06-28T07:47:34.787Z"
   },
   {
    "duration": 9,
    "start_time": "2022-06-28T07:48:10.236Z"
   },
   {
    "duration": 662,
    "start_time": "2022-06-28T07:58:50.186Z"
   },
   {
    "duration": 398,
    "start_time": "2022-06-28T07:59:11.242Z"
   },
   {
    "duration": 226,
    "start_time": "2022-06-28T07:59:11.642Z"
   },
   {
    "duration": 2,
    "start_time": "2022-06-28T07:59:11.870Z"
   },
   {
    "duration": 537,
    "start_time": "2022-06-28T07:59:11.874Z"
   },
   {
    "duration": 3,
    "start_time": "2022-06-28T07:59:12.414Z"
   },
   {
    "duration": 50,
    "start_time": "2022-06-28T07:59:12.419Z"
   },
   {
    "duration": 3,
    "start_time": "2022-06-28T07:59:12.471Z"
   },
   {
    "duration": 20,
    "start_time": "2022-06-28T07:59:12.475Z"
   },
   {
    "duration": 4,
    "start_time": "2022-06-28T07:59:12.496Z"
   },
   {
    "duration": 10,
    "start_time": "2022-06-28T07:59:12.502Z"
   },
   {
    "duration": 13,
    "start_time": "2022-06-28T07:59:12.514Z"
   },
   {
    "duration": 22,
    "start_time": "2022-06-28T07:59:12.528Z"
   },
   {
    "duration": 5,
    "start_time": "2022-06-28T07:59:12.551Z"
   },
   {
    "duration": 10,
    "start_time": "2022-06-28T07:59:12.559Z"
   },
   {
    "duration": 5,
    "start_time": "2022-06-28T07:59:12.570Z"
   },
   {
    "duration": 11,
    "start_time": "2022-06-28T07:59:12.576Z"
   },
   {
    "duration": 38,
    "start_time": "2022-06-28T07:59:12.589Z"
   },
   {
    "duration": 21,
    "start_time": "2022-06-28T07:59:12.629Z"
   },
   {
    "duration": 13,
    "start_time": "2022-06-28T07:59:12.651Z"
   },
   {
    "duration": 6,
    "start_time": "2022-06-28T07:59:12.666Z"
   },
   {
    "duration": 171,
    "start_time": "2022-06-28T07:59:12.674Z"
   },
   {
    "duration": 14,
    "start_time": "2022-06-28T07:59:12.847Z"
   },
   {
    "duration": 4,
    "start_time": "2022-06-28T07:59:12.862Z"
   },
   {
    "duration": 62,
    "start_time": "2022-06-28T07:59:12.867Z"
   },
   {
    "duration": 4,
    "start_time": "2022-06-28T07:59:12.930Z"
   },
   {
    "duration": 7,
    "start_time": "2022-06-28T07:59:12.936Z"
   },
   {
    "duration": 8,
    "start_time": "2022-06-28T07:59:12.944Z"
   },
   {
    "duration": 25,
    "start_time": "2022-06-28T07:59:12.954Z"
   },
   {
    "duration": 5,
    "start_time": "2022-06-28T07:59:12.981Z"
   },
   {
    "duration": 6,
    "start_time": "2022-06-28T07:59:12.987Z"
   },
   {
    "duration": 221,
    "start_time": "2022-06-28T07:59:12.994Z"
   },
   {
    "duration": 10,
    "start_time": "2022-06-28T07:59:13.217Z"
   },
   {
    "duration": 50,
    "start_time": "2022-06-28T07:59:13.228Z"
   },
   {
    "duration": 7,
    "start_time": "2022-06-28T07:59:13.279Z"
   },
   {
    "duration": 44,
    "start_time": "2022-06-28T07:59:13.288Z"
   },
   {
    "duration": 9,
    "start_time": "2022-06-28T07:59:13.334Z"
   },
   {
    "duration": 4,
    "start_time": "2022-06-28T07:59:13.345Z"
   },
   {
    "duration": 11,
    "start_time": "2022-06-28T07:59:13.351Z"
   },
   {
    "duration": 5,
    "start_time": "2022-06-28T07:59:13.363Z"
   },
   {
    "duration": 13,
    "start_time": "2022-06-28T07:59:13.370Z"
   },
   {
    "duration": 173,
    "start_time": "2022-06-28T07:59:13.388Z"
   },
   {
    "duration": 11,
    "start_time": "2022-06-28T07:59:13.563Z"
   },
   {
    "duration": 9,
    "start_time": "2022-06-28T07:59:13.575Z"
   },
   {
    "duration": 10,
    "start_time": "2022-06-28T07:59:13.586Z"
   },
   {
    "duration": 8,
    "start_time": "2022-06-28T07:59:13.597Z"
   },
   {
    "duration": 9,
    "start_time": "2022-06-28T07:59:13.626Z"
   },
   {
    "duration": 139,
    "start_time": "2022-06-28T07:59:13.637Z"
   },
   {
    "duration": 162,
    "start_time": "2022-06-28T07:59:13.778Z"
   },
   {
    "duration": 5,
    "start_time": "2022-06-28T07:59:13.941Z"
   },
   {
    "duration": 24,
    "start_time": "2022-06-28T07:59:13.947Z"
   },
   {
    "duration": 137,
    "start_time": "2022-06-28T07:59:13.972Z"
   },
   {
    "duration": 130,
    "start_time": "2022-06-28T07:59:14.110Z"
   },
   {
    "duration": 4,
    "start_time": "2022-06-28T07:59:14.242Z"
   },
   {
    "duration": 8,
    "start_time": "2022-06-28T07:59:14.248Z"
   },
   {
    "duration": 4,
    "start_time": "2022-06-28T07:59:14.257Z"
   },
   {
    "duration": 5,
    "start_time": "2022-06-28T07:59:14.263Z"
   },
   {
    "duration": 326,
    "start_time": "2022-06-28T07:59:14.270Z"
   },
   {
    "duration": 280,
    "start_time": "2022-06-28T07:59:14.597Z"
   },
   {
    "duration": 273,
    "start_time": "2022-06-28T07:59:14.879Z"
   },
   {
    "duration": 277,
    "start_time": "2022-06-28T07:59:15.153Z"
   },
   {
    "duration": 244,
    "start_time": "2022-06-28T07:59:15.432Z"
   },
   {
    "duration": 4,
    "start_time": "2022-06-28T07:59:15.678Z"
   },
   {
    "duration": 8,
    "start_time": "2022-06-28T07:59:15.684Z"
   },
   {
    "duration": 179,
    "start_time": "2022-06-28T07:59:15.694Z"
   },
   {
    "duration": 4,
    "start_time": "2022-06-28T07:59:15.875Z"
   },
   {
    "duration": 9,
    "start_time": "2022-06-28T07:59:15.881Z"
   },
   {
    "duration": 162,
    "start_time": "2022-06-28T07:59:15.892Z"
   },
   {
    "duration": 4,
    "start_time": "2022-06-28T07:59:16.056Z"
   },
   {
    "duration": 290,
    "start_time": "2022-06-28T07:59:16.062Z"
   },
   {
    "duration": 18,
    "start_time": "2022-06-28T07:59:16.354Z"
   },
   {
    "duration": 11,
    "start_time": "2022-06-28T07:59:16.374Z"
   },
   {
    "duration": 703,
    "start_time": "2022-06-28T07:59:16.387Z"
   },
   {
    "duration": 4,
    "start_time": "2022-06-28T07:59:17.092Z"
   },
   {
    "duration": 6,
    "start_time": "2022-06-28T07:59:17.097Z"
   },
   {
    "duration": 22,
    "start_time": "2022-06-28T07:59:17.105Z"
   },
   {
    "duration": 10,
    "start_time": "2022-06-28T07:59:17.129Z"
   },
   {
    "duration": 688,
    "start_time": "2022-06-28T07:59:17.140Z"
   },
   {
    "duration": 7,
    "start_time": "2022-06-28T07:59:17.830Z"
   },
   {
    "duration": 10,
    "start_time": "2022-06-28T07:59:17.838Z"
   },
   {
    "duration": 9,
    "start_time": "2022-06-28T07:59:17.850Z"
   },
   {
    "duration": 5,
    "start_time": "2022-06-28T07:59:17.861Z"
   },
   {
    "duration": 6,
    "start_time": "2022-06-28T07:59:17.867Z"
   },
   {
    "duration": 6,
    "start_time": "2022-06-28T07:59:17.874Z"
   },
   {
    "duration": 5,
    "start_time": "2022-06-28T07:59:17.881Z"
   },
   {
    "duration": 6,
    "start_time": "2022-06-28T07:59:17.887Z"
   },
   {
    "duration": 9,
    "start_time": "2022-06-28T07:59:17.894Z"
   },
   {
    "duration": 23,
    "start_time": "2022-06-28T07:59:17.904Z"
   },
   {
    "duration": 3,
    "start_time": "2022-06-28T07:59:17.929Z"
   },
   {
    "duration": 17,
    "start_time": "2022-06-28T07:59:17.934Z"
   },
   {
    "duration": 6,
    "start_time": "2022-06-28T07:59:17.952Z"
   },
   {
    "duration": 9,
    "start_time": "2022-06-28T07:59:17.959Z"
   },
   {
    "duration": 5,
    "start_time": "2022-06-28T07:59:17.969Z"
   },
   {
    "duration": 12,
    "start_time": "2022-06-28T07:59:17.976Z"
   },
   {
    "duration": 11,
    "start_time": "2022-06-28T07:59:17.989Z"
   },
   {
    "duration": 6,
    "start_time": "2022-06-28T07:59:18.002Z"
   },
   {
    "duration": 8,
    "start_time": "2022-06-28T07:59:18.010Z"
   },
   {
    "duration": 9,
    "start_time": "2022-06-28T07:59:18.019Z"
   },
   {
    "duration": 3,
    "start_time": "2022-06-28T07:59:18.029Z"
   },
   {
    "duration": 4,
    "start_time": "2022-06-28T07:59:18.034Z"
   },
   {
    "duration": 3,
    "start_time": "2022-06-28T07:59:46.511Z"
   },
   {
    "duration": 410,
    "start_time": "2022-06-28T07:59:51.554Z"
   },
   {
    "duration": 250,
    "start_time": "2022-06-28T07:59:51.966Z"
   },
   {
    "duration": 2,
    "start_time": "2022-06-28T07:59:52.218Z"
   },
   {
    "duration": 545,
    "start_time": "2022-06-28T07:59:52.222Z"
   },
   {
    "duration": 3,
    "start_time": "2022-06-28T07:59:52.769Z"
   },
   {
    "duration": 51,
    "start_time": "2022-06-28T07:59:52.774Z"
   },
   {
    "duration": 3,
    "start_time": "2022-06-28T07:59:52.827Z"
   },
   {
    "duration": 23,
    "start_time": "2022-06-28T07:59:52.832Z"
   },
   {
    "duration": 5,
    "start_time": "2022-06-28T07:59:52.858Z"
   },
   {
    "duration": 22,
    "start_time": "2022-06-28T07:59:52.866Z"
   },
   {
    "duration": 10,
    "start_time": "2022-06-28T07:59:52.890Z"
   },
   {
    "duration": 37,
    "start_time": "2022-06-28T07:59:52.901Z"
   },
   {
    "duration": 7,
    "start_time": "2022-06-28T07:59:52.940Z"
   },
   {
    "duration": 23,
    "start_time": "2022-06-28T07:59:52.949Z"
   },
   {
    "duration": 6,
    "start_time": "2022-06-28T07:59:52.974Z"
   },
   {
    "duration": 20,
    "start_time": "2022-06-28T07:59:52.982Z"
   },
   {
    "duration": 7,
    "start_time": "2022-06-28T07:59:53.004Z"
   },
   {
    "duration": 34,
    "start_time": "2022-06-28T07:59:53.013Z"
   },
   {
    "duration": 13,
    "start_time": "2022-06-28T07:59:53.049Z"
   },
   {
    "duration": 7,
    "start_time": "2022-06-28T07:59:53.063Z"
   },
   {
    "duration": 195,
    "start_time": "2022-06-28T07:59:53.071Z"
   },
   {
    "duration": 18,
    "start_time": "2022-06-28T07:59:53.269Z"
   },
   {
    "duration": 18,
    "start_time": "2022-06-28T07:59:53.289Z"
   },
   {
    "duration": 77,
    "start_time": "2022-06-28T07:59:53.309Z"
   },
   {
    "duration": 11,
    "start_time": "2022-06-28T07:59:53.389Z"
   },
   {
    "duration": 12,
    "start_time": "2022-06-28T07:59:53.401Z"
   },
   {
    "duration": 9,
    "start_time": "2022-06-28T07:59:53.414Z"
   },
   {
    "duration": 38,
    "start_time": "2022-06-28T07:59:53.428Z"
   },
   {
    "duration": 18,
    "start_time": "2022-06-28T07:59:53.469Z"
   },
   {
    "duration": 18,
    "start_time": "2022-06-28T07:59:53.489Z"
   },
   {
    "duration": 228,
    "start_time": "2022-06-28T07:59:53.509Z"
   },
   {
    "duration": 4,
    "start_time": "2022-06-28T07:59:53.740Z"
   },
   {
    "duration": 54,
    "start_time": "2022-06-28T07:59:53.745Z"
   },
   {
    "duration": 22,
    "start_time": "2022-06-28T07:59:53.801Z"
   },
   {
    "duration": 35,
    "start_time": "2022-06-28T07:59:53.826Z"
   },
   {
    "duration": 11,
    "start_time": "2022-06-28T07:59:53.862Z"
   },
   {
    "duration": 11,
    "start_time": "2022-06-28T07:59:53.875Z"
   },
   {
    "duration": 13,
    "start_time": "2022-06-28T07:59:53.888Z"
   },
   {
    "duration": 15,
    "start_time": "2022-06-28T07:59:53.903Z"
   },
   {
    "duration": 17,
    "start_time": "2022-06-28T07:59:53.919Z"
   },
   {
    "duration": 203,
    "start_time": "2022-06-28T07:59:53.938Z"
   },
   {
    "duration": 13,
    "start_time": "2022-06-28T07:59:54.143Z"
   },
   {
    "duration": 12,
    "start_time": "2022-06-28T07:59:54.158Z"
   },
   {
    "duration": 11,
    "start_time": "2022-06-28T07:59:54.172Z"
   },
   {
    "duration": 8,
    "start_time": "2022-06-28T07:59:54.184Z"
   },
   {
    "duration": 14,
    "start_time": "2022-06-28T07:59:54.194Z"
   },
   {
    "duration": 161,
    "start_time": "2022-06-28T07:59:54.209Z"
   },
   {
    "duration": 154,
    "start_time": "2022-06-28T07:59:54.371Z"
   },
   {
    "duration": 7,
    "start_time": "2022-06-28T07:59:54.528Z"
   },
   {
    "duration": 30,
    "start_time": "2022-06-28T07:59:54.537Z"
   },
   {
    "duration": 162,
    "start_time": "2022-06-28T07:59:54.568Z"
   },
   {
    "duration": 156,
    "start_time": "2022-06-28T07:59:54.731Z"
   },
   {
    "duration": 6,
    "start_time": "2022-06-28T07:59:54.889Z"
   },
   {
    "duration": 15,
    "start_time": "2022-06-28T07:59:54.896Z"
   },
   {
    "duration": 15,
    "start_time": "2022-06-28T07:59:54.913Z"
   },
   {
    "duration": 15,
    "start_time": "2022-06-28T07:59:54.930Z"
   },
   {
    "duration": 318,
    "start_time": "2022-06-28T07:59:54.946Z"
   },
   {
    "duration": 313,
    "start_time": "2022-06-28T07:59:55.266Z"
   },
   {
    "duration": 278,
    "start_time": "2022-06-28T07:59:55.580Z"
   },
   {
    "duration": 283,
    "start_time": "2022-06-28T07:59:55.860Z"
   },
   {
    "duration": 297,
    "start_time": "2022-06-28T07:59:56.145Z"
   },
   {
    "duration": 6,
    "start_time": "2022-06-28T07:59:56.445Z"
   },
   {
    "duration": 22,
    "start_time": "2022-06-28T07:59:56.453Z"
   },
   {
    "duration": 168,
    "start_time": "2022-06-28T07:59:56.477Z"
   },
   {
    "duration": 4,
    "start_time": "2022-06-28T07:59:56.646Z"
   },
   {
    "duration": 9,
    "start_time": "2022-06-28T07:59:56.651Z"
   },
   {
    "duration": 172,
    "start_time": "2022-06-28T07:59:56.661Z"
   },
   {
    "duration": 6,
    "start_time": "2022-06-28T07:59:56.834Z"
   },
   {
    "duration": 255,
    "start_time": "2022-06-28T07:59:56.841Z"
   },
   {
    "duration": 14,
    "start_time": "2022-06-28T07:59:57.097Z"
   },
   {
    "duration": 14,
    "start_time": "2022-06-28T07:59:57.113Z"
   },
   {
    "duration": 702,
    "start_time": "2022-06-28T07:59:57.129Z"
   },
   {
    "duration": 5,
    "start_time": "2022-06-28T07:59:57.833Z"
   },
   {
    "duration": 6,
    "start_time": "2022-06-28T07:59:57.840Z"
   },
   {
    "duration": 6,
    "start_time": "2022-06-28T07:59:57.848Z"
   },
   {
    "duration": 10,
    "start_time": "2022-06-28T07:59:57.855Z"
   },
   {
    "duration": 596,
    "start_time": "2022-06-28T07:59:57.867Z"
   },
   {
    "duration": 7,
    "start_time": "2022-06-28T07:59:58.464Z"
   },
   {
    "duration": 10,
    "start_time": "2022-06-28T07:59:58.472Z"
   },
   {
    "duration": 8,
    "start_time": "2022-06-28T07:59:58.483Z"
   },
   {
    "duration": 4,
    "start_time": "2022-06-28T07:59:58.493Z"
   },
   {
    "duration": 4,
    "start_time": "2022-06-28T07:59:58.502Z"
   },
   {
    "duration": 21,
    "start_time": "2022-06-28T07:59:58.507Z"
   },
   {
    "duration": 3,
    "start_time": "2022-06-28T07:59:58.529Z"
   },
   {
    "duration": 5,
    "start_time": "2022-06-28T07:59:58.533Z"
   },
   {
    "duration": 8,
    "start_time": "2022-06-28T07:59:58.539Z"
   },
   {
    "duration": 7,
    "start_time": "2022-06-28T07:59:58.548Z"
   },
   {
    "duration": 5,
    "start_time": "2022-06-28T07:59:58.556Z"
   },
   {
    "duration": 12,
    "start_time": "2022-06-28T07:59:58.563Z"
   },
   {
    "duration": 5,
    "start_time": "2022-06-28T07:59:58.577Z"
   },
   {
    "duration": 9,
    "start_time": "2022-06-28T07:59:58.583Z"
   },
   {
    "duration": 4,
    "start_time": "2022-06-28T07:59:58.594Z"
   },
   {
    "duration": 5,
    "start_time": "2022-06-28T07:59:58.600Z"
   },
   {
    "duration": 22,
    "start_time": "2022-06-28T07:59:58.606Z"
   },
   {
    "duration": 4,
    "start_time": "2022-06-28T07:59:58.630Z"
   },
   {
    "duration": 5,
    "start_time": "2022-06-28T07:59:58.635Z"
   },
   {
    "duration": 6,
    "start_time": "2022-06-28T07:59:58.642Z"
   },
   {
    "duration": 5,
    "start_time": "2022-06-28T07:59:58.649Z"
   },
   {
    "duration": 5,
    "start_time": "2022-06-28T07:59:58.655Z"
   },
   {
    "duration": 10,
    "start_time": "2022-06-28T08:03:13.432Z"
   },
   {
    "duration": 396,
    "start_time": "2022-06-28T08:03:23.886Z"
   },
   {
    "duration": 210,
    "start_time": "2022-06-28T08:03:24.284Z"
   },
   {
    "duration": 2,
    "start_time": "2022-06-28T08:03:24.496Z"
   },
   {
    "duration": 527,
    "start_time": "2022-06-28T08:03:24.500Z"
   },
   {
    "duration": 2,
    "start_time": "2022-06-28T08:03:25.029Z"
   },
   {
    "duration": 46,
    "start_time": "2022-06-28T08:03:25.033Z"
   },
   {
    "duration": 2,
    "start_time": "2022-06-28T08:03:25.081Z"
   },
   {
    "duration": 17,
    "start_time": "2022-06-28T08:03:25.085Z"
   },
   {
    "duration": 5,
    "start_time": "2022-06-28T08:03:25.103Z"
   },
   {
    "duration": 19,
    "start_time": "2022-06-28T08:03:25.110Z"
   },
   {
    "duration": 9,
    "start_time": "2022-06-28T08:03:25.130Z"
   },
   {
    "duration": 21,
    "start_time": "2022-06-28T08:03:25.141Z"
   },
   {
    "duration": 4,
    "start_time": "2022-06-28T08:03:25.164Z"
   },
   {
    "duration": 14,
    "start_time": "2022-06-28T08:03:25.169Z"
   },
   {
    "duration": 5,
    "start_time": "2022-06-28T08:03:25.184Z"
   },
   {
    "duration": 12,
    "start_time": "2022-06-28T08:03:25.190Z"
   },
   {
    "duration": 26,
    "start_time": "2022-06-28T08:03:25.203Z"
   },
   {
    "duration": 21,
    "start_time": "2022-06-28T08:03:25.230Z"
   },
   {
    "duration": 12,
    "start_time": "2022-06-28T08:03:25.253Z"
   },
   {
    "duration": 8,
    "start_time": "2022-06-28T08:03:25.266Z"
   },
   {
    "duration": 173,
    "start_time": "2022-06-28T08:03:25.276Z"
   },
   {
    "duration": 15,
    "start_time": "2022-06-28T08:03:25.451Z"
   },
   {
    "duration": 4,
    "start_time": "2022-06-28T08:03:25.467Z"
   },
   {
    "duration": 63,
    "start_time": "2022-06-28T08:03:25.472Z"
   },
   {
    "duration": 6,
    "start_time": "2022-06-28T08:03:25.536Z"
   },
   {
    "duration": 5,
    "start_time": "2022-06-28T08:03:25.544Z"
   },
   {
    "duration": 6,
    "start_time": "2022-06-28T08:03:25.550Z"
   },
   {
    "duration": 25,
    "start_time": "2022-06-28T08:03:25.560Z"
   },
   {
    "duration": 8,
    "start_time": "2022-06-28T08:03:25.587Z"
   },
   {
    "duration": 4,
    "start_time": "2022-06-28T08:03:25.597Z"
   },
   {
    "duration": 220,
    "start_time": "2022-06-28T08:03:25.603Z"
   },
   {
    "duration": 4,
    "start_time": "2022-06-28T08:03:25.825Z"
   },
   {
    "duration": 46,
    "start_time": "2022-06-28T08:03:25.831Z"
   },
   {
    "duration": 5,
    "start_time": "2022-06-28T08:03:25.879Z"
   },
   {
    "duration": 41,
    "start_time": "2022-06-28T08:03:25.886Z"
   },
   {
    "duration": 3,
    "start_time": "2022-06-28T08:03:25.929Z"
   },
   {
    "duration": 10,
    "start_time": "2022-06-28T08:03:25.934Z"
   },
   {
    "duration": 10,
    "start_time": "2022-06-28T08:03:25.945Z"
   },
   {
    "duration": 6,
    "start_time": "2022-06-28T08:03:25.956Z"
   },
   {
    "duration": 13,
    "start_time": "2022-06-28T08:03:25.963Z"
   },
   {
    "duration": 172,
    "start_time": "2022-06-28T08:03:25.978Z"
   },
   {
    "duration": 10,
    "start_time": "2022-06-28T08:03:26.152Z"
   },
   {
    "duration": 14,
    "start_time": "2022-06-28T08:03:26.164Z"
   },
   {
    "duration": 12,
    "start_time": "2022-06-28T08:03:26.179Z"
   },
   {
    "duration": 15,
    "start_time": "2022-06-28T08:03:26.193Z"
   },
   {
    "duration": 22,
    "start_time": "2022-06-28T08:03:26.210Z"
   },
   {
    "duration": 176,
    "start_time": "2022-06-28T08:03:26.233Z"
   },
   {
    "duration": 156,
    "start_time": "2022-06-28T08:03:26.411Z"
   },
   {
    "duration": 5,
    "start_time": "2022-06-28T08:03:26.569Z"
   },
   {
    "duration": 24,
    "start_time": "2022-06-28T08:03:26.576Z"
   },
   {
    "duration": 139,
    "start_time": "2022-06-28T08:03:26.602Z"
   },
   {
    "duration": 130,
    "start_time": "2022-06-28T08:03:26.742Z"
   },
   {
    "duration": 4,
    "start_time": "2022-06-28T08:03:26.874Z"
   },
   {
    "duration": 8,
    "start_time": "2022-06-28T08:03:26.880Z"
   },
   {
    "duration": 9,
    "start_time": "2022-06-28T08:03:26.889Z"
   },
   {
    "duration": 9,
    "start_time": "2022-06-28T08:03:26.899Z"
   },
   {
    "duration": 329,
    "start_time": "2022-06-28T08:03:26.909Z"
   },
   {
    "duration": 271,
    "start_time": "2022-06-28T08:03:27.239Z"
   },
   {
    "duration": 280,
    "start_time": "2022-06-28T08:03:27.512Z"
   },
   {
    "duration": 282,
    "start_time": "2022-06-28T08:03:27.793Z"
   },
   {
    "duration": 244,
    "start_time": "2022-06-28T08:03:28.077Z"
   },
   {
    "duration": 5,
    "start_time": "2022-06-28T08:03:28.328Z"
   },
   {
    "duration": 9,
    "start_time": "2022-06-28T08:03:28.334Z"
   },
   {
    "duration": 176,
    "start_time": "2022-06-28T08:03:28.345Z"
   },
   {
    "duration": 5,
    "start_time": "2022-06-28T08:03:28.523Z"
   },
   {
    "duration": 8,
    "start_time": "2022-06-28T08:03:28.530Z"
   },
   {
    "duration": 160,
    "start_time": "2022-06-28T08:03:28.540Z"
   },
   {
    "duration": 5,
    "start_time": "2022-06-28T08:03:28.701Z"
   },
   {
    "duration": 255,
    "start_time": "2022-06-28T08:03:28.708Z"
   },
   {
    "duration": 15,
    "start_time": "2022-06-28T08:03:28.964Z"
   },
   {
    "duration": 6,
    "start_time": "2022-06-28T08:03:28.981Z"
   },
   {
    "duration": 723,
    "start_time": "2022-06-28T08:03:28.988Z"
   },
   {
    "duration": 5,
    "start_time": "2022-06-28T08:03:29.713Z"
   },
   {
    "duration": 14,
    "start_time": "2022-06-28T08:03:29.719Z"
   },
   {
    "duration": 8,
    "start_time": "2022-06-28T08:03:29.734Z"
   },
   {
    "duration": 14,
    "start_time": "2022-06-28T08:03:29.743Z"
   },
   {
    "duration": 719,
    "start_time": "2022-06-28T08:03:29.759Z"
   },
   {
    "duration": 8,
    "start_time": "2022-06-28T08:03:30.480Z"
   },
   {
    "duration": 23,
    "start_time": "2022-06-28T08:03:30.490Z"
   },
   {
    "duration": 33,
    "start_time": "2022-06-28T08:03:30.515Z"
   },
   {
    "duration": 12,
    "start_time": "2022-06-28T08:03:30.550Z"
   },
   {
    "duration": 20,
    "start_time": "2022-06-28T08:03:30.568Z"
   },
   {
    "duration": 17,
    "start_time": "2022-06-28T08:03:30.590Z"
   },
   {
    "duration": 14,
    "start_time": "2022-06-28T08:03:30.609Z"
   },
   {
    "duration": 18,
    "start_time": "2022-06-28T08:03:30.625Z"
   },
   {
    "duration": 22,
    "start_time": "2022-06-28T08:03:30.646Z"
   },
   {
    "duration": 20,
    "start_time": "2022-06-28T08:03:30.670Z"
   },
   {
    "duration": 23,
    "start_time": "2022-06-28T08:03:30.692Z"
   },
   {
    "duration": 36,
    "start_time": "2022-06-28T08:03:30.716Z"
   },
   {
    "duration": 17,
    "start_time": "2022-06-28T08:03:30.754Z"
   },
   {
    "duration": 15,
    "start_time": "2022-06-28T08:03:30.773Z"
   },
   {
    "duration": 19,
    "start_time": "2022-06-28T08:03:30.790Z"
   },
   {
    "duration": 21,
    "start_time": "2022-06-28T08:03:30.811Z"
   },
   {
    "duration": 21,
    "start_time": "2022-06-28T08:03:30.834Z"
   },
   {
    "duration": 6,
    "start_time": "2022-06-28T08:03:30.857Z"
   },
   {
    "duration": 10,
    "start_time": "2022-06-28T08:03:30.864Z"
   },
   {
    "duration": 9,
    "start_time": "2022-06-28T08:03:30.876Z"
   },
   {
    "duration": 6,
    "start_time": "2022-06-28T08:03:30.887Z"
   },
   {
    "duration": 8,
    "start_time": "2022-06-28T08:03:30.894Z"
   },
   {
    "duration": 5,
    "start_time": "2022-06-28T08:17:58.787Z"
   },
   {
    "duration": 11,
    "start_time": "2022-06-28T08:17:59.403Z"
   },
   {
    "duration": 428,
    "start_time": "2022-06-28T08:24:48.316Z"
   },
   {
    "duration": 222,
    "start_time": "2022-06-28T08:24:48.746Z"
   },
   {
    "duration": 2,
    "start_time": "2022-06-28T08:24:48.970Z"
   },
   {
    "duration": 528,
    "start_time": "2022-06-28T08:24:48.974Z"
   },
   {
    "duration": 3,
    "start_time": "2022-06-28T08:24:49.504Z"
   },
   {
    "duration": 62,
    "start_time": "2022-06-28T08:24:49.509Z"
   },
   {
    "duration": 3,
    "start_time": "2022-06-28T08:24:49.573Z"
   },
   {
    "duration": 36,
    "start_time": "2022-06-28T08:24:49.577Z"
   },
   {
    "duration": 11,
    "start_time": "2022-06-28T08:24:49.615Z"
   },
   {
    "duration": 20,
    "start_time": "2022-06-28T08:24:49.629Z"
   },
   {
    "duration": 30,
    "start_time": "2022-06-28T08:24:49.651Z"
   },
   {
    "duration": 30,
    "start_time": "2022-06-28T08:24:49.683Z"
   },
   {
    "duration": 14,
    "start_time": "2022-06-28T08:24:49.715Z"
   },
   {
    "duration": 26,
    "start_time": "2022-06-28T08:24:49.731Z"
   },
   {
    "duration": 23,
    "start_time": "2022-06-28T08:24:49.759Z"
   },
   {
    "duration": 31,
    "start_time": "2022-06-28T08:24:49.784Z"
   },
   {
    "duration": 27,
    "start_time": "2022-06-28T08:24:49.817Z"
   },
   {
    "duration": 40,
    "start_time": "2022-06-28T08:24:49.846Z"
   },
   {
    "duration": 12,
    "start_time": "2022-06-28T08:24:49.888Z"
   },
   {
    "duration": 6,
    "start_time": "2022-06-28T08:24:49.902Z"
   },
   {
    "duration": 156,
    "start_time": "2022-06-28T08:24:49.910Z"
   },
   {
    "duration": 14,
    "start_time": "2022-06-28T08:24:50.068Z"
   },
   {
    "duration": 4,
    "start_time": "2022-06-28T08:24:50.083Z"
   },
   {
    "duration": 59,
    "start_time": "2022-06-28T08:24:50.088Z"
   },
   {
    "duration": 8,
    "start_time": "2022-06-28T08:24:50.149Z"
   },
   {
    "duration": 9,
    "start_time": "2022-06-28T08:24:50.158Z"
   },
   {
    "duration": 12,
    "start_time": "2022-06-28T08:24:50.168Z"
   },
   {
    "duration": 25,
    "start_time": "2022-06-28T08:24:50.185Z"
   },
   {
    "duration": 18,
    "start_time": "2022-06-28T08:24:50.211Z"
   },
   {
    "duration": 7,
    "start_time": "2022-06-28T08:24:50.231Z"
   },
   {
    "duration": 222,
    "start_time": "2022-06-28T08:24:50.239Z"
   },
   {
    "duration": 3,
    "start_time": "2022-06-28T08:24:50.463Z"
   },
   {
    "duration": 59,
    "start_time": "2022-06-28T08:24:50.468Z"
   },
   {
    "duration": 3,
    "start_time": "2022-06-28T08:24:50.529Z"
   },
   {
    "duration": 40,
    "start_time": "2022-06-28T08:24:50.534Z"
   },
   {
    "duration": 9,
    "start_time": "2022-06-28T08:24:50.576Z"
   },
   {
    "duration": 8,
    "start_time": "2022-06-28T08:24:50.587Z"
   },
   {
    "duration": 11,
    "start_time": "2022-06-28T08:24:50.598Z"
   },
   {
    "duration": 16,
    "start_time": "2022-06-28T08:24:50.611Z"
   },
   {
    "duration": 18,
    "start_time": "2022-06-28T08:24:50.629Z"
   },
   {
    "duration": 194,
    "start_time": "2022-06-28T08:24:50.649Z"
   },
   {
    "duration": 10,
    "start_time": "2022-06-28T08:24:50.845Z"
   },
   {
    "duration": 14,
    "start_time": "2022-06-28T08:24:50.857Z"
   },
   {
    "duration": 20,
    "start_time": "2022-06-28T08:24:50.873Z"
   },
   {
    "duration": 30,
    "start_time": "2022-06-28T08:24:50.895Z"
   },
   {
    "duration": 28,
    "start_time": "2022-06-28T08:24:50.927Z"
   },
   {
    "duration": 152,
    "start_time": "2022-06-28T08:24:50.956Z"
   },
   {
    "duration": 156,
    "start_time": "2022-06-28T08:24:51.109Z"
   },
   {
    "duration": 5,
    "start_time": "2022-06-28T08:24:51.267Z"
   },
   {
    "duration": 46,
    "start_time": "2022-06-28T08:24:51.274Z"
   },
   {
    "duration": 148,
    "start_time": "2022-06-28T08:24:51.322Z"
   },
   {
    "duration": 141,
    "start_time": "2022-06-28T08:24:51.472Z"
   },
   {
    "duration": 14,
    "start_time": "2022-06-28T08:24:51.616Z"
   },
   {
    "duration": 28,
    "start_time": "2022-06-28T08:24:51.632Z"
   },
   {
    "duration": 16,
    "start_time": "2022-06-28T08:24:51.662Z"
   },
   {
    "duration": 29,
    "start_time": "2022-06-28T08:24:51.679Z"
   },
   {
    "duration": 362,
    "start_time": "2022-06-28T08:24:51.710Z"
   },
   {
    "duration": 293,
    "start_time": "2022-06-28T08:24:52.074Z"
   },
   {
    "duration": 289,
    "start_time": "2022-06-28T08:24:52.368Z"
   },
   {
    "duration": 307,
    "start_time": "2022-06-28T08:24:52.659Z"
   },
   {
    "duration": 263,
    "start_time": "2022-06-28T08:24:52.969Z"
   },
   {
    "duration": 5,
    "start_time": "2022-06-28T08:24:53.235Z"
   },
   {
    "duration": 38,
    "start_time": "2022-06-28T08:24:53.244Z"
   },
   {
    "duration": 205,
    "start_time": "2022-06-28T08:24:53.284Z"
   },
   {
    "duration": 5,
    "start_time": "2022-06-28T08:24:53.490Z"
   },
   {
    "duration": 47,
    "start_time": "2022-06-28T08:24:53.496Z"
   },
   {
    "duration": 252,
    "start_time": "2022-06-28T08:24:53.545Z"
   },
   {
    "duration": 7,
    "start_time": "2022-06-28T08:24:53.799Z"
   },
   {
    "duration": 320,
    "start_time": "2022-06-28T08:24:53.807Z"
   },
   {
    "duration": 16,
    "start_time": "2022-06-28T08:24:54.128Z"
   },
   {
    "duration": 13,
    "start_time": "2022-06-28T08:24:54.146Z"
   },
   {
    "duration": 773,
    "start_time": "2022-06-28T08:24:54.161Z"
   },
   {
    "duration": 5,
    "start_time": "2022-06-28T08:24:54.936Z"
   },
   {
    "duration": 31,
    "start_time": "2022-06-28T08:24:54.942Z"
   },
   {
    "duration": 13,
    "start_time": "2022-06-28T08:24:54.975Z"
   },
   {
    "duration": 32,
    "start_time": "2022-06-28T08:24:54.990Z"
   },
   {
    "duration": 778,
    "start_time": "2022-06-28T08:24:55.024Z"
   },
   {
    "duration": 7,
    "start_time": "2022-06-28T08:24:55.804Z"
   },
   {
    "duration": 32,
    "start_time": "2022-06-28T08:24:55.812Z"
   },
   {
    "duration": 30,
    "start_time": "2022-06-28T08:24:55.846Z"
   },
   {
    "duration": 26,
    "start_time": "2022-06-28T08:24:55.878Z"
   },
   {
    "duration": 22,
    "start_time": "2022-06-28T08:24:55.910Z"
   },
   {
    "duration": 29,
    "start_time": "2022-06-28T08:24:55.934Z"
   },
   {
    "duration": 16,
    "start_time": "2022-06-28T08:24:55.965Z"
   },
   {
    "duration": 20,
    "start_time": "2022-06-28T08:24:55.983Z"
   },
   {
    "duration": 36,
    "start_time": "2022-06-28T08:24:56.005Z"
   },
   {
    "duration": 18,
    "start_time": "2022-06-28T08:24:56.043Z"
   },
   {
    "duration": 26,
    "start_time": "2022-06-28T08:24:56.063Z"
   },
   {
    "duration": 26,
    "start_time": "2022-06-28T08:24:56.090Z"
   },
   {
    "duration": 32,
    "start_time": "2022-06-28T08:24:56.118Z"
   },
   {
    "duration": 49,
    "start_time": "2022-06-28T08:24:56.152Z"
   },
   {
    "duration": 58,
    "start_time": "2022-06-28T08:24:56.203Z"
   },
   {
    "duration": 25,
    "start_time": "2022-06-28T08:24:56.263Z"
   },
   {
    "duration": 31,
    "start_time": "2022-06-28T08:24:56.290Z"
   },
   {
    "duration": 31,
    "start_time": "2022-06-28T08:24:56.323Z"
   },
   {
    "duration": 25,
    "start_time": "2022-06-28T08:24:56.357Z"
   },
   {
    "duration": 35,
    "start_time": "2022-06-28T08:24:56.384Z"
   },
   {
    "duration": 18,
    "start_time": "2022-06-28T08:24:56.421Z"
   },
   {
    "duration": 26,
    "start_time": "2022-06-28T08:24:56.441Z"
   },
   {
    "duration": 3,
    "start_time": "2022-06-28T08:26:59.875Z"
   },
   {
    "duration": 3,
    "start_time": "2022-06-28T08:27:25.669Z"
   },
   {
    "duration": 3,
    "start_time": "2022-06-28T08:27:27.727Z"
   },
   {
    "duration": 3,
    "start_time": "2022-06-28T08:27:28.983Z"
   },
   {
    "duration": 4,
    "start_time": "2022-06-28T08:27:30.519Z"
   },
   {
    "duration": 454,
    "start_time": "2022-06-29T07:23:02.618Z"
   },
   {
    "duration": 420,
    "start_time": "2022-06-29T07:23:03.074Z"
   },
   {
    "duration": 3,
    "start_time": "2022-06-29T07:23:03.495Z"
   },
   {
    "duration": 538,
    "start_time": "2022-06-29T07:23:03.501Z"
   },
   {
    "duration": 3,
    "start_time": "2022-06-29T07:23:04.042Z"
   },
   {
    "duration": 76,
    "start_time": "2022-06-29T07:23:04.051Z"
   },
   {
    "duration": 5,
    "start_time": "2022-06-29T07:23:04.129Z"
   },
   {
    "duration": 33,
    "start_time": "2022-06-29T07:23:04.136Z"
   },
   {
    "duration": 10,
    "start_time": "2022-06-29T07:23:04.171Z"
   },
   {
    "duration": 10,
    "start_time": "2022-06-29T07:23:04.184Z"
   },
   {
    "duration": 15,
    "start_time": "2022-06-29T07:23:04.196Z"
   },
   {
    "duration": 30,
    "start_time": "2022-06-29T07:23:04.212Z"
   },
   {
    "duration": 12,
    "start_time": "2022-06-29T07:23:04.251Z"
   },
   {
    "duration": 14,
    "start_time": "2022-06-29T07:23:04.265Z"
   },
   {
    "duration": 5,
    "start_time": "2022-06-29T07:23:04.281Z"
   },
   {
    "duration": 22,
    "start_time": "2022-06-29T07:23:04.288Z"
   },
   {
    "duration": 6,
    "start_time": "2022-06-29T07:23:04.312Z"
   },
   {
    "duration": 35,
    "start_time": "2022-06-29T07:23:04.320Z"
   },
   {
    "duration": 14,
    "start_time": "2022-06-29T07:23:04.357Z"
   },
   {
    "duration": 8,
    "start_time": "2022-06-29T07:23:04.373Z"
   },
   {
    "duration": 181,
    "start_time": "2022-06-29T07:23:04.383Z"
   },
   {
    "duration": 16,
    "start_time": "2022-06-29T07:23:04.567Z"
   },
   {
    "duration": 6,
    "start_time": "2022-06-29T07:23:04.584Z"
   },
   {
    "duration": 64,
    "start_time": "2022-06-29T07:23:04.591Z"
   },
   {
    "duration": 16,
    "start_time": "2022-06-29T07:23:04.657Z"
   },
   {
    "duration": 7,
    "start_time": "2022-06-29T07:23:04.674Z"
   },
   {
    "duration": 18,
    "start_time": "2022-06-29T07:23:04.683Z"
   },
   {
    "duration": 29,
    "start_time": "2022-06-29T07:23:04.706Z"
   },
   {
    "duration": 9,
    "start_time": "2022-06-29T07:23:04.737Z"
   },
   {
    "duration": 6,
    "start_time": "2022-06-29T07:23:04.748Z"
   },
   {
    "duration": 225,
    "start_time": "2022-06-29T07:23:04.756Z"
   },
   {
    "duration": 4,
    "start_time": "2022-06-29T07:23:04.984Z"
   },
   {
    "duration": 78,
    "start_time": "2022-06-29T07:23:04.989Z"
   },
   {
    "duration": 22,
    "start_time": "2022-06-29T07:23:05.070Z"
   },
   {
    "duration": 36,
    "start_time": "2022-06-29T07:23:05.094Z"
   },
   {
    "duration": 4,
    "start_time": "2022-06-29T07:23:05.132Z"
   },
   {
    "duration": 8,
    "start_time": "2022-06-29T07:23:05.138Z"
   },
   {
    "duration": 37,
    "start_time": "2022-06-29T07:23:05.148Z"
   },
   {
    "duration": 45,
    "start_time": "2022-06-29T07:23:05.187Z"
   },
   {
    "duration": 21,
    "start_time": "2022-06-29T07:23:05.235Z"
   },
   {
    "duration": 232,
    "start_time": "2022-06-29T07:23:05.258Z"
   },
   {
    "duration": 16,
    "start_time": "2022-06-29T07:23:05.492Z"
   },
   {
    "duration": 24,
    "start_time": "2022-06-29T07:23:05.511Z"
   },
   {
    "duration": 25,
    "start_time": "2022-06-29T07:23:05.537Z"
   },
   {
    "duration": 12,
    "start_time": "2022-06-29T07:23:05.564Z"
   },
   {
    "duration": 12,
    "start_time": "2022-06-29T07:23:05.578Z"
   },
   {
    "duration": 142,
    "start_time": "2022-06-29T07:23:05.592Z"
   },
   {
    "duration": 175,
    "start_time": "2022-06-29T07:23:05.736Z"
   },
   {
    "duration": 6,
    "start_time": "2022-06-29T07:23:05.913Z"
   },
   {
    "duration": 42,
    "start_time": "2022-06-29T07:23:05.921Z"
   },
   {
    "duration": 194,
    "start_time": "2022-06-29T07:23:05.965Z"
   },
   {
    "duration": 148,
    "start_time": "2022-06-29T07:23:06.161Z"
   },
   {
    "duration": 6,
    "start_time": "2022-06-29T07:23:06.312Z"
   },
   {
    "duration": 11,
    "start_time": "2022-06-29T07:23:06.320Z"
   },
   {
    "duration": 6,
    "start_time": "2022-06-29T07:23:06.333Z"
   },
   {
    "duration": 4,
    "start_time": "2022-06-29T07:23:06.351Z"
   },
   {
    "duration": 345,
    "start_time": "2022-06-29T07:23:06.357Z"
   },
   {
    "duration": 282,
    "start_time": "2022-06-29T07:23:06.704Z"
   },
   {
    "duration": 305,
    "start_time": "2022-06-29T07:23:06.989Z"
   },
   {
    "duration": 330,
    "start_time": "2022-06-29T07:23:07.296Z"
   },
   {
    "duration": 260,
    "start_time": "2022-06-29T07:23:07.628Z"
   },
   {
    "duration": 5,
    "start_time": "2022-06-29T07:23:07.890Z"
   },
   {
    "duration": 11,
    "start_time": "2022-06-29T07:23:07.897Z"
   },
   {
    "duration": 185,
    "start_time": "2022-06-29T07:23:07.910Z"
   },
   {
    "duration": 4,
    "start_time": "2022-06-29T07:23:08.097Z"
   },
   {
    "duration": 18,
    "start_time": "2022-06-29T07:23:08.103Z"
   },
   {
    "duration": 191,
    "start_time": "2022-06-29T07:23:08.123Z"
   },
   {
    "duration": 7,
    "start_time": "2022-06-29T07:23:08.316Z"
   },
   {
    "duration": 287,
    "start_time": "2022-06-29T07:23:08.325Z"
   },
   {
    "duration": 16,
    "start_time": "2022-06-29T07:23:08.614Z"
   },
   {
    "duration": 20,
    "start_time": "2022-06-29T07:23:08.632Z"
   },
   {
    "duration": 734,
    "start_time": "2022-06-29T07:23:08.654Z"
   },
   {
    "duration": 6,
    "start_time": "2022-06-29T07:23:09.390Z"
   },
   {
    "duration": 8,
    "start_time": "2022-06-29T07:23:09.398Z"
   },
   {
    "duration": 12,
    "start_time": "2022-06-29T07:23:09.407Z"
   },
   {
    "duration": 13,
    "start_time": "2022-06-29T07:23:09.421Z"
   },
   {
    "duration": 779,
    "start_time": "2022-06-29T07:23:09.451Z"
   },
   {
    "duration": 9,
    "start_time": "2022-06-29T07:23:10.232Z"
   },
   {
    "duration": 8,
    "start_time": "2022-06-29T07:23:10.251Z"
   },
   {
    "duration": 39,
    "start_time": "2022-06-29T07:23:10.261Z"
   },
   {
    "duration": 20,
    "start_time": "2022-06-29T07:23:10.302Z"
   },
   {
    "duration": 18,
    "start_time": "2022-06-29T07:23:10.331Z"
   },
   {
    "duration": 16,
    "start_time": "2022-06-29T07:23:10.351Z"
   },
   {
    "duration": 9,
    "start_time": "2022-06-29T07:23:10.369Z"
   },
   {
    "duration": 12,
    "start_time": "2022-06-29T07:23:10.379Z"
   },
   {
    "duration": 15,
    "start_time": "2022-06-29T07:23:10.392Z"
   },
   {
    "duration": 23,
    "start_time": "2022-06-29T07:23:10.409Z"
   },
   {
    "duration": 30,
    "start_time": "2022-06-29T07:23:10.434Z"
   },
   {
    "duration": 16,
    "start_time": "2022-06-29T07:23:10.466Z"
   },
   {
    "duration": 13,
    "start_time": "2022-06-29T07:23:10.483Z"
   },
   {
    "duration": 17,
    "start_time": "2022-06-29T07:23:10.498Z"
   },
   {
    "duration": 21,
    "start_time": "2022-06-29T07:23:10.517Z"
   },
   {
    "duration": 15,
    "start_time": "2022-06-29T07:23:10.540Z"
   },
   {
    "duration": 17,
    "start_time": "2022-06-29T07:23:10.557Z"
   },
   {
    "duration": 11,
    "start_time": "2022-06-29T07:23:10.576Z"
   },
   {
    "duration": 29,
    "start_time": "2022-06-29T07:23:10.588Z"
   },
   {
    "duration": 10,
    "start_time": "2022-06-29T07:23:10.618Z"
   },
   {
    "duration": 12,
    "start_time": "2022-06-29T07:23:10.630Z"
   },
   {
    "duration": 11,
    "start_time": "2022-06-29T07:23:10.644Z"
   },
   {
    "duration": 63,
    "start_time": "2023-08-24T17:42:43.536Z"
   },
   {
    "duration": 412,
    "start_time": "2023-08-24T17:42:47.803Z"
   },
   {
    "duration": 507,
    "start_time": "2023-08-24T17:42:48.220Z"
   },
   {
    "duration": 3,
    "start_time": "2023-08-24T17:42:50.810Z"
   },
   {
    "duration": 575,
    "start_time": "2023-08-24T17:42:51.266Z"
   },
   {
    "duration": 4,
    "start_time": "2023-08-24T17:42:51.842Z"
   },
   {
    "duration": 239,
    "start_time": "2023-08-24T17:42:52.111Z"
   },
   {
    "duration": 4,
    "start_time": "2023-08-24T17:42:55.442Z"
   },
   {
    "duration": 16,
    "start_time": "2023-08-24T17:42:57.432Z"
   },
   {
    "duration": 5,
    "start_time": "2023-08-24T17:43:00.546Z"
   },
   {
    "duration": 11,
    "start_time": "2023-08-24T17:43:02.824Z"
   },
   {
    "duration": 11,
    "start_time": "2023-08-24T17:43:05.841Z"
   },
   {
    "duration": 21,
    "start_time": "2023-08-24T17:43:09.317Z"
   },
   {
    "duration": 6,
    "start_time": "2023-08-24T17:43:11.906Z"
   },
   {
    "duration": 81,
    "start_time": "2023-08-24T17:50:16.020Z"
   },
   {
    "duration": 11,
    "start_time": "2023-08-24T17:50:16.598Z"
   },
   {
    "duration": 12,
    "start_time": "2023-08-24T17:50:34.613Z"
   },
   {
    "duration": 8,
    "start_time": "2023-08-24T17:50:42.496Z"
   },
   {
    "duration": 28,
    "start_time": "2023-08-24T17:50:43.227Z"
   },
   {
    "duration": 13,
    "start_time": "2023-08-24T17:50:44.109Z"
   },
   {
    "duration": 8,
    "start_time": "2023-08-24T17:50:44.508Z"
   },
   {
    "duration": 189,
    "start_time": "2023-08-24T17:50:44.807Z"
   },
   {
    "duration": 17,
    "start_time": "2023-08-24T17:50:46.204Z"
   },
   {
    "duration": 5,
    "start_time": "2023-08-24T17:50:47.152Z"
   },
   {
    "duration": 56,
    "start_time": "2023-08-24T17:50:47.509Z"
   },
   {
    "duration": 5,
    "start_time": "2023-08-24T17:50:47.824Z"
   },
   {
    "duration": 3,
    "start_time": "2023-08-24T17:50:48.132Z"
   },
   {
    "duration": 3,
    "start_time": "2023-08-24T17:50:48.409Z"
   },
   {
    "duration": 57,
    "start_time": "2023-08-24T17:50:48.654Z"
   },
   {
    "duration": 5,
    "start_time": "2023-08-24T17:50:50.330Z"
   },
   {
    "duration": 4,
    "start_time": "2023-08-24T17:50:51.150Z"
   },
   {
    "duration": 242,
    "start_time": "2023-08-24T17:50:51.615Z"
   },
   {
    "duration": 4,
    "start_time": "2023-08-24T17:52:56.607Z"
   },
   {
    "duration": 59,
    "start_time": "2023-08-24T17:52:56.940Z"
   },
   {
    "duration": 3,
    "start_time": "2023-08-24T17:53:39.106Z"
   },
   {
    "duration": 22,
    "start_time": "2023-08-24T17:53:39.703Z"
   },
   {
    "duration": 3,
    "start_time": "2023-08-24T17:54:04.613Z"
   },
   {
    "duration": 3,
    "start_time": "2023-08-24T17:55:58.597Z"
   },
   {
    "duration": 8,
    "start_time": "2023-08-24T17:55:59.426Z"
   },
   {
    "duration": 4,
    "start_time": "2023-08-24T17:56:27.271Z"
   },
   {
    "duration": 11,
    "start_time": "2023-08-24T17:56:28.142Z"
   },
   {
    "duration": 191,
    "start_time": "2023-08-24T17:56:33.485Z"
   },
   {
    "duration": 18,
    "start_time": "2023-08-24T18:00:01.060Z"
   },
   {
    "duration": 8,
    "start_time": "2023-08-24T18:00:01.741Z"
   },
   {
    "duration": 17,
    "start_time": "2023-08-24T18:00:05.660Z"
   },
   {
    "duration": 22,
    "start_time": "2023-08-24T18:00:10.676Z"
   },
   {
    "duration": 20,
    "start_time": "2023-08-24T18:00:12.375Z"
   },
   {
    "duration": 8,
    "start_time": "2023-08-24T18:00:13.705Z"
   },
   {
    "duration": 8,
    "start_time": "2023-08-24T18:00:15.460Z"
   },
   {
    "duration": 11,
    "start_time": "2023-08-24T18:00:15.867Z"
   },
   {
    "duration": 160,
    "start_time": "2023-08-24T18:00:16.250Z"
   },
   {
    "duration": 2,
    "start_time": "2023-08-24T18:11:48.096Z"
   },
   {
    "duration": 7,
    "start_time": "2023-08-24T18:11:48.990Z"
   },
   {
    "duration": 287,
    "start_time": "2023-08-24T18:11:49.638Z"
   },
   {
    "duration": 289,
    "start_time": "2023-08-24T18:11:50.297Z"
   },
   {
    "duration": 435,
    "start_time": "2023-08-24T18:12:49.202Z"
   },
   {
    "duration": 290,
    "start_time": "2023-08-24T18:12:49.639Z"
   },
   {
    "duration": 3,
    "start_time": "2023-08-24T18:12:49.931Z"
   },
   {
    "duration": 588,
    "start_time": "2023-08-24T18:12:49.936Z"
   },
   {
    "duration": 3,
    "start_time": "2023-08-24T18:12:50.526Z"
   },
   {
    "duration": 94,
    "start_time": "2023-08-24T18:12:50.531Z"
   },
   {
    "duration": 3,
    "start_time": "2023-08-24T18:12:50.627Z"
   },
   {
    "duration": 90,
    "start_time": "2023-08-24T18:12:50.632Z"
   },
   {
    "duration": 15,
    "start_time": "2023-08-24T18:12:50.724Z"
   },
   {
    "duration": 9,
    "start_time": "2023-08-24T18:12:50.742Z"
   },
   {
    "duration": 32,
    "start_time": "2023-08-24T18:12:50.753Z"
   },
   {
    "duration": 26,
    "start_time": "2023-08-24T18:12:50.789Z"
   },
   {
    "duration": 12,
    "start_time": "2023-08-24T18:12:50.816Z"
   },
   {
    "duration": 31,
    "start_time": "2023-08-24T18:12:50.831Z"
   },
   {
    "duration": 90,
    "start_time": "2023-08-24T18:12:50.864Z"
   },
   {
    "duration": 57,
    "start_time": "2023-08-24T18:12:50.955Z"
   },
   {
    "duration": 19,
    "start_time": "2023-08-24T18:12:51.014Z"
   },
   {
    "duration": 50,
    "start_time": "2023-08-24T18:12:51.034Z"
   },
   {
    "duration": 24,
    "start_time": "2023-08-24T18:12:51.087Z"
   },
   {
    "duration": 7,
    "start_time": "2023-08-24T18:12:51.112Z"
   },
   {
    "duration": 191,
    "start_time": "2023-08-24T18:12:51.121Z"
   },
   {
    "duration": 21,
    "start_time": "2023-08-24T18:12:51.314Z"
   },
   {
    "duration": 9,
    "start_time": "2023-08-24T18:12:51.337Z"
   },
   {
    "duration": 73,
    "start_time": "2023-08-24T18:12:51.348Z"
   },
   {
    "duration": 21,
    "start_time": "2023-08-24T18:12:51.423Z"
   },
   {
    "duration": 18,
    "start_time": "2023-08-24T18:12:51.446Z"
   },
   {
    "duration": 17,
    "start_time": "2023-08-24T18:12:51.466Z"
   },
   {
    "duration": 33,
    "start_time": "2023-08-24T18:12:51.491Z"
   },
   {
    "duration": 10,
    "start_time": "2023-08-24T18:12:51.526Z"
   },
   {
    "duration": 13,
    "start_time": "2023-08-24T18:12:51.538Z"
   },
   {
    "duration": 266,
    "start_time": "2023-08-24T18:12:51.553Z"
   },
   {
    "duration": 4,
    "start_time": "2023-08-24T18:12:51.821Z"
   },
   {
    "duration": 88,
    "start_time": "2023-08-24T18:12:51.826Z"
   },
   {
    "duration": 3,
    "start_time": "2023-08-24T18:12:51.916Z"
   },
   {
    "duration": 27,
    "start_time": "2023-08-24T18:12:51.920Z"
   },
   {
    "duration": 13,
    "start_time": "2023-08-24T18:12:51.948Z"
   },
   {
    "duration": 17,
    "start_time": "2023-08-24T18:12:51.963Z"
   },
   {
    "duration": 13,
    "start_time": "2023-08-24T18:12:51.982Z"
   },
   {
    "duration": 3,
    "start_time": "2023-08-24T18:12:51.998Z"
   },
   {
    "duration": 15,
    "start_time": "2023-08-24T18:12:52.003Z"
   },
   {
    "duration": 196,
    "start_time": "2023-08-24T18:12:52.019Z"
   },
   {
    "duration": 11,
    "start_time": "2023-08-24T18:12:52.217Z"
   },
   {
    "duration": 15,
    "start_time": "2023-08-24T18:12:52.229Z"
   },
   {
    "duration": 15,
    "start_time": "2023-08-24T18:12:52.245Z"
   },
   {
    "duration": 36,
    "start_time": "2023-08-24T18:12:52.261Z"
   },
   {
    "duration": 15,
    "start_time": "2023-08-24T18:12:52.299Z"
   },
   {
    "duration": 183,
    "start_time": "2023-08-24T18:12:52.315Z"
   },
   {
    "duration": 162,
    "start_time": "2023-08-24T18:12:52.500Z"
   },
   {
    "duration": 12,
    "start_time": "2023-08-24T18:12:52.675Z"
   },
   {
    "duration": 25,
    "start_time": "2023-08-24T18:12:52.695Z"
   },
   {
    "duration": 168,
    "start_time": "2023-08-24T18:12:52.722Z"
   },
   {
    "duration": 152,
    "start_time": "2023-08-24T18:12:52.897Z"
   },
   {
    "duration": 6,
    "start_time": "2023-08-24T18:12:53.051Z"
   },
   {
    "duration": 35,
    "start_time": "2023-08-24T18:12:53.058Z"
   },
   {
    "duration": 3,
    "start_time": "2023-08-24T18:12:53.096Z"
   },
   {
    "duration": 20,
    "start_time": "2023-08-24T18:12:53.100Z"
   },
   {
    "duration": 409,
    "start_time": "2023-08-24T18:12:53.122Z"
   },
   {
    "duration": 318,
    "start_time": "2023-08-24T18:12:53.533Z"
   },
   {
    "duration": 374,
    "start_time": "2023-08-24T18:12:53.852Z"
   },
   {
    "duration": 321,
    "start_time": "2023-08-24T18:12:54.228Z"
   },
   {
    "duration": 289,
    "start_time": "2023-08-24T18:12:54.551Z"
   },
   {
    "duration": 5,
    "start_time": "2023-08-24T18:12:54.842Z"
   },
   {
    "duration": 34,
    "start_time": "2023-08-24T18:12:54.849Z"
   },
   {
    "duration": 212,
    "start_time": "2023-08-24T18:12:54.891Z"
   },
   {
    "duration": 5,
    "start_time": "2023-08-24T18:12:55.106Z"
   },
   {
    "duration": 23,
    "start_time": "2023-08-24T18:12:55.112Z"
   },
   {
    "duration": 211,
    "start_time": "2023-08-24T18:12:55.137Z"
   },
   {
    "duration": 4,
    "start_time": "2023-08-24T18:12:55.350Z"
   },
   {
    "duration": 358,
    "start_time": "2023-08-24T18:12:55.356Z"
   },
   {
    "duration": 15,
    "start_time": "2023-08-24T18:12:55.716Z"
   },
   {
    "duration": 24,
    "start_time": "2023-08-24T18:12:55.734Z"
   },
   {
    "duration": 842,
    "start_time": "2023-08-24T18:12:55.760Z"
   },
   {
    "duration": 6,
    "start_time": "2023-08-24T18:12:56.604Z"
   },
   {
    "duration": 6,
    "start_time": "2023-08-24T18:12:56.612Z"
   },
   {
    "duration": 26,
    "start_time": "2023-08-24T18:12:56.620Z"
   },
   {
    "duration": 13,
    "start_time": "2023-08-24T18:12:56.648Z"
   },
   {
    "duration": 830,
    "start_time": "2023-08-24T18:12:56.663Z"
   },
   {
    "duration": 10,
    "start_time": "2023-08-24T18:12:57.495Z"
   },
   {
    "duration": 6,
    "start_time": "2023-08-24T18:12:57.507Z"
   },
   {
    "duration": 12,
    "start_time": "2023-08-24T18:12:57.514Z"
   },
   {
    "duration": 6,
    "start_time": "2023-08-24T18:12:57.527Z"
   },
   {
    "duration": 9,
    "start_time": "2023-08-24T18:12:57.538Z"
   },
   {
    "duration": 37,
    "start_time": "2023-08-24T18:12:57.549Z"
   },
   {
    "duration": 6,
    "start_time": "2023-08-24T18:12:57.588Z"
   },
   {
    "duration": 7,
    "start_time": "2023-08-24T18:12:57.595Z"
   },
   {
    "duration": 7,
    "start_time": "2023-08-24T18:12:57.604Z"
   },
   {
    "duration": 12,
    "start_time": "2023-08-24T18:12:57.613Z"
   },
   {
    "duration": 10,
    "start_time": "2023-08-24T18:12:57.627Z"
   },
   {
    "duration": 8,
    "start_time": "2023-08-24T18:12:57.638Z"
   },
   {
    "duration": 8,
    "start_time": "2023-08-24T18:12:57.648Z"
   },
   {
    "duration": 31,
    "start_time": "2023-08-24T18:12:57.658Z"
   },
   {
    "duration": 5,
    "start_time": "2023-08-24T18:12:57.691Z"
   },
   {
    "duration": 12,
    "start_time": "2023-08-24T18:12:57.698Z"
   },
   {
    "duration": 13,
    "start_time": "2023-08-24T18:12:57.712Z"
   },
   {
    "duration": 14,
    "start_time": "2023-08-24T18:12:57.726Z"
   },
   {
    "duration": 23,
    "start_time": "2023-08-24T18:12:57.741Z"
   },
   {
    "duration": 22,
    "start_time": "2023-08-24T18:12:57.767Z"
   },
   {
    "duration": 9,
    "start_time": "2023-08-24T18:12:57.791Z"
   },
   {
    "duration": 7,
    "start_time": "2023-08-24T18:12:57.802Z"
   },
   {
    "duration": 3,
    "start_time": "2023-08-24T18:25:08.245Z"
   },
   {
    "duration": 8,
    "start_time": "2023-08-24T18:25:08.869Z"
   },
   {
    "duration": 3,
    "start_time": "2023-08-24T18:28:40.253Z"
   },
   {
    "duration": 106,
    "start_time": "2023-08-24T18:40:18.021Z"
   }
  ],
  "kernelspec": {
   "display_name": "Python 3 (ipykernel)",
   "language": "python",
   "name": "python3"
  },
  "language_info": {
   "codemirror_mode": {
    "name": "ipython",
    "version": 3
   },
   "file_extension": ".py",
   "mimetype": "text/x-python",
   "name": "python",
   "nbconvert_exporter": "python",
   "pygments_lexer": "ipython3",
   "version": "3.9.5"
  },
  "toc": {
   "base_numbering": 1,
   "nav_menu": {},
   "number_sections": true,
   "sideBar": true,
   "skip_h1_title": true,
   "title_cell": "Table of Contents",
   "title_sidebar": "Contents",
   "toc_cell": false,
   "toc_position": {},
   "toc_section_display": true,
   "toc_window_display": false
  }
 },
 "nbformat": 4,
 "nbformat_minor": 2
}
