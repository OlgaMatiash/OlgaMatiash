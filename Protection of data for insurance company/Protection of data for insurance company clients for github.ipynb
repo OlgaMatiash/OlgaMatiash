{
 "cells": [
  {
   "cell_type": "markdown",
   "metadata": {},
   "source": [
    "# Protection of Customer Personal Data"
   ]
  },
  {
   "cell_type": "markdown",
   "metadata": {},
   "source": [
    "You need to protect the data of the customers of the insurance company. Develop a data transformation method that makes it difficult to recover personal information from them. Justify the correctness of its operation.\n",
    "\n",
    "It is necessary to protect the data in such a way that the quality of machine learning models does not deteriorate after the transformation. It is not necessary to select the best model."
   ]
  },
  {
   "cell_type": "markdown",
   "metadata": {},
   "source": [
    "## Exploratory Data Analysis"
   ]
  },
  {
   "cell_type": "code",
   "execution_count": 3,
   "metadata": {},
   "outputs": [],
   "source": [
    "import pandas as pd\n",
    "import numpy as np\n",
    "from sklearn.linear_model import LinearRegression\n",
    "from sklearn.model_selection import train_test_split\n",
    "from sklearn.metrics import r2_score"
   ]
  },
  {
   "cell_type": "code",
   "execution_count": 4,
   "metadata": {},
   "outputs": [],
   "source": [
    "data=pd.read_csv('/datasets/insurance.csv')"
   ]
  },
  {
   "cell_type": "code",
   "execution_count": 5,
   "metadata": {},
   "outputs": [
    {
     "name": "stdout",
     "output_type": "stream",
     "text": [
      "<class 'pandas.core.frame.DataFrame'>\n",
      "RangeIndex: 5000 entries, 0 to 4999\n",
      "Data columns (total 5 columns):\n",
      " #   Column             Non-Null Count  Dtype  \n",
      "---  ------             --------------  -----  \n",
      " 0   Пол                5000 non-null   int64  \n",
      " 1   Возраст            5000 non-null   float64\n",
      " 2   Зарплата           5000 non-null   float64\n",
      " 3   Члены семьи        5000 non-null   int64  \n",
      " 4   Страховые выплаты  5000 non-null   int64  \n",
      "dtypes: float64(2), int64(3)\n",
      "memory usage: 195.4 KB\n"
     ]
    }
   ],
   "source": [
    "data.info()"
   ]
  },
  {
   "cell_type": "code",
   "execution_count": 6,
   "metadata": {},
   "outputs": [
    {
     "data": {
      "text/html": [
       "<div>\n",
       "<style scoped>\n",
       "    .dataframe tbody tr th:only-of-type {\n",
       "        vertical-align: middle;\n",
       "    }\n",
       "\n",
       "    .dataframe tbody tr th {\n",
       "        vertical-align: top;\n",
       "    }\n",
       "\n",
       "    .dataframe thead th {\n",
       "        text-align: right;\n",
       "    }\n",
       "</style>\n",
       "<table border=\"1\" class=\"dataframe\">\n",
       "  <thead>\n",
       "    <tr style=\"text-align: right;\">\n",
       "      <th></th>\n",
       "      <th>Пол</th>\n",
       "      <th>Возраст</th>\n",
       "      <th>Зарплата</th>\n",
       "      <th>Члены семьи</th>\n",
       "      <th>Страховые выплаты</th>\n",
       "    </tr>\n",
       "  </thead>\n",
       "  <tbody>\n",
       "    <tr>\n",
       "      <th>0</th>\n",
       "      <td>1</td>\n",
       "      <td>41.0</td>\n",
       "      <td>49600.0</td>\n",
       "      <td>1</td>\n",
       "      <td>0</td>\n",
       "    </tr>\n",
       "    <tr>\n",
       "      <th>1</th>\n",
       "      <td>0</td>\n",
       "      <td>46.0</td>\n",
       "      <td>38000.0</td>\n",
       "      <td>1</td>\n",
       "      <td>1</td>\n",
       "    </tr>\n",
       "    <tr>\n",
       "      <th>2</th>\n",
       "      <td>0</td>\n",
       "      <td>29.0</td>\n",
       "      <td>21000.0</td>\n",
       "      <td>0</td>\n",
       "      <td>0</td>\n",
       "    </tr>\n",
       "    <tr>\n",
       "      <th>3</th>\n",
       "      <td>0</td>\n",
       "      <td>21.0</td>\n",
       "      <td>41700.0</td>\n",
       "      <td>2</td>\n",
       "      <td>0</td>\n",
       "    </tr>\n",
       "    <tr>\n",
       "      <th>4</th>\n",
       "      <td>1</td>\n",
       "      <td>28.0</td>\n",
       "      <td>26100.0</td>\n",
       "      <td>0</td>\n",
       "      <td>0</td>\n",
       "    </tr>\n",
       "  </tbody>\n",
       "</table>\n",
       "</div>"
      ],
      "text/plain": [
       "   Пол  Возраст  Зарплата  Члены семьи  Страховые выплаты\n",
       "0    1     41.0   49600.0            1                  0\n",
       "1    0     46.0   38000.0            1                  1\n",
       "2    0     29.0   21000.0            0                  0\n",
       "3    0     21.0   41700.0            2                  0\n",
       "4    1     28.0   26100.0            0                  0"
      ]
     },
     "metadata": {},
     "output_type": "display_data"
    }
   ],
   "source": [
    "display (data.head())"
   ]
  },
  {
   "cell_type": "markdown",
   "metadata": {},
   "source": [
    "Let's convert the age and salary to the int data type."
   ]
  },
  {
   "cell_type": "code",
   "execution_count": 8,
   "metadata": {},
   "outputs": [
    {
     "data": {
      "text/plain": [
       "Пол                  int64\n",
       "Возраст              int64\n",
       "Зарплата             int64\n",
       "Члены семьи          int64\n",
       "Страховые выплаты    int64\n",
       "dtype: object"
      ]
     },
     "execution_count": 8,
     "metadata": {},
     "output_type": "execute_result"
    }
   ],
   "source": [
    "data['Возраст'] = data['Возраст'].astype(int)\n",
    "data['Зарплата'] = data['Зарплата'].astype(int)\n",
    "data.dtypes"
   ]
  },
  {
   "cell_type": "markdown",
   "metadata": {},
   "source": [
    "Let's check for the presence of missing data."
   ]
  },
  {
   "cell_type": "code",
   "execution_count": 11,
   "metadata": {},
   "outputs": [
    {
     "data": {
      "text/plain": [
       "Пол                  0.0\n",
       "Возраст              0.0\n",
       "Зарплата             0.0\n",
       "Члены семьи          0.0\n",
       "Страховые выплаты    0.0\n",
       "dtype: float64"
      ]
     },
     "execution_count": 11,
     "metadata": {},
     "output_type": "execute_result"
    }
   ],
   "source": [
    "\n",
    "data.isna().mean()"
   ]
  },
  {
   "cell_type": "markdown",
   "metadata": {},
   "source": [
    "### Conclusion"
   ]
  },
  {
   "cell_type": "markdown",
   "metadata": {},
   "source": [
    "The customer data consists of 4 distinct features: Gender, Age, Salary, Family Members, and 1 target feature - Insurance Claims."
   ]
  },
  {
   "cell_type": "markdown",
   "metadata": {},
   "source": [
    "\n",
    "To assess the degree of correlation between a pair of quantitative features, we will compute the Pearson correlation coefficient, which measures the linear relationship between them."
   ]
  },
  {
   "cell_type": "code",
   "execution_count": 21,
   "metadata": {},
   "outputs": [
    {
     "name": "stdout",
     "output_type": "stream",
     "text": [
      "                        Пол   Возраст  Зарплата  Члены семьи  \\\n",
      "Пол                1.000000  0.002074  0.014910    -0.008991   \n",
      "Возраст            0.002074  1.000000 -0.019093    -0.006692   \n",
      "Зарплата           0.014910 -0.019093  1.000000    -0.030296   \n",
      "Члены семьи       -0.008991 -0.006692 -0.030296     1.000000   \n",
      "Страховые выплаты  0.010140  0.651030 -0.014963    -0.036290   \n",
      "\n",
      "                   Страховые выплаты  \n",
      "Пол                         0.010140  \n",
      "Возраст                     0.651030  \n",
      "Зарплата                   -0.014963  \n",
      "Члены семьи                -0.036290  \n",
      "Страховые выплаты           1.000000  \n"
     ]
    }
   ],
   "source": [
    "cor_matrix=data.corr()\n",
    "print(cor_matrix)"
   ]
  },
  {
   "cell_type": "markdown",
   "metadata": {},
   "source": [
    "If the absolute value of the coefficient exceeds a certain threshold, it can indicate a strong correlation between features. In practice, the threshold value depends on the task and typically ranges from 0.6 to 1.0.\n",
    "We can observe that insurance claims are strongly correlated with age."
   ]
  },
  {
   "cell_type": "markdown",
   "metadata": {},
   "source": [
    "## Matrix Multiplication"
   ]
  },
  {
   "cell_type": "markdown",
   "metadata": {},
   "source": [
    "Notations:\n",
    "\n",
    "$X$ — feature matrix (the zero column consists of ones)\n",
    "\n",
    "$y$ — target feature vector\n",
    "\n",
    "$P$ — matrix by which features are multiplied\n",
    "\n",
    "$w$ — linear regression weights vector (the zero element corresponds to the intercept)"
   ]
  },
  {
   "cell_type": "markdown",
   "metadata": {},
   "source": [
    "The formula for finding the parameters looks as follows:\n",
    "$$\n",
    "w=(X^TX)^{-1}X^Ty\n",
    "$$"
   ]
  },
  {
   "cell_type": "markdown",
   "metadata": {},
   "source": [
    "\n",
    "Let's add multiplication by the invertible matrix $P$ to the formula for finding the parameters:\n",
    "\n",
    "$$\n",
    "w1 = ((XP)^T) XP)^{-1} (XP)^T y\n",
    "$$"
   ]
  },
  {
   "cell_type": "markdown",
   "metadata": {},
   "source": [
    "Let's expand the brackets:\n",
    "$$\n",
    "w1=(P^TX^TXP)^{-1}P^TX^Ty\n",
    "$$"
   ]
  },
  {
   "cell_type": "markdown",
   "metadata": {},
   "source": [
    "Let's combine $X^T$ and $X$ into a single set of brackets:\n",
    "$$\n",
    "w1= (P^T(X^TX)P)^{-1}P^TX^Ty\n",
    "$$"
   ]
  },
  {
   "cell_type": "markdown",
   "metadata": {},
   "source": [
    "Let's expand the brackets:\n",
    "$$\n",
    "w1= P^{-1}(X^TX)^{-1}(P^T)^{-1}P^TX^Ty\n",
    "$$"
   ]
  },
  {
   "cell_type": "markdown",
   "metadata": {},
   "source": [
    "\n",
    "since according to the conditions, $P$ is an invertible matrix, then\n",
    "$$\n",
    "P^T^{-1}*P^T=E\n",
    "$$\n",
    "$$\n",
    "w1= P^{-1}(X^TX)^{-1}EX^Ty\n",
    "$$"
   ]
  },
  {
   "cell_type": "markdown",
   "metadata": {},
   "source": [
    "We remove E:\n",
    "\n",
    "\n",
    "$$\n",
    "w1= P^{-1}(X^TX)^{-1}X^Ty\n",
    "$$"
   ]
  },
  {
   "cell_type": "markdown",
   "metadata": {},
   "source": [
    "On the right side of the equation, there is a formula w:\n",
    "    $$\n",
    "    w1= P^{-1}w\n",
    "    $$     \n",
    "    "
   ]
  },
  {
   "cell_type": "markdown",
   "metadata": {},
   "source": [
    "Let's substitute the new formula for weights (w1=P^{-1}w) and X (X1=XP) into the prediction calculation\n",
    "\n",
    "Prediction:\n",
    "\n",
    "$$\n",
    "a = Xw\n",
    "$$\n",
    "New prediction:\n",
    "\n",
    "$$\n",
    "a1 = XPP^{-1}w\n",
    "$$"
   ]
  },
  {
   "cell_type": "markdown",
   "metadata": {},
   "source": [
    "Since  P - is invertible, then PP^-1=E, i.e.\n",
    "$$\n",
    "a1=XEw=Xw=a\n",
    "$$"
   ]
  },
  {
   "cell_type": "markdown",
   "metadata": {},
   "source": [
    "### Conclusion"
   ]
  },
  {
   "cell_type": "markdown",
   "metadata": {},
   "source": [
    "We have proven that the predictions а1 for features multiplied by an invertible matrix are equal to the predictions for the original features. Therefore, the quality of the regression will not change."
   ]
  },
  {
   "cell_type": "markdown",
   "metadata": {},
   "source": [
    "## Transformation Algorithm"
   ]
  },
  {
   "cell_type": "markdown",
   "metadata": {},
   "source": [
    "To protect customer data, you need to multiply all features by a randomly generated invertible matrix. Despite this transformation, the data can be easily recovered by multiplying the obtained matrix by the inverse of the generated invertible matrix. Importantly, the quality of the linear regression model won't change. We've shown that the predictions from linear regression using features multiplied by an invertible matrix are equal to predictions from the original features."
   ]
  },
  {
   "cell_type": "markdown",
   "metadata": {},
   "source": [
    "\n",
    "<div class=\"alert alert-success\">\n",
    "<font size=\"5\"><b>Комментарий ревьюера</b></font>\n",
    "\n",
    "Успех 👍:\n",
    "\n",
    "\n",
    "Все верно.\n",
    "\n",
    "\n",
    "\n",
    "\n",
    "</div>\n"
   ]
  },
  {
   "cell_type": "code",
   "execution_count": 7,
   "metadata": {},
   "outputs": [],
   "source": [
    "features=data.drop('Страховые выплаты', axis=1)\n",
    "target=data['Страховые выплаты']"
   ]
  },
  {
   "cell_type": "markdown",
   "metadata": {},
   "source": [
    "Let's transform the features into a matrix and take a look at how our features appear."
   ]
  },
  {
   "cell_type": "code",
   "execution_count": 8,
   "metadata": {},
   "outputs": [
    {
     "name": "stdout",
     "output_type": "stream",
     "text": [
      "[[    1    41 49600     1]\n",
      " [    0    46 38000     1]\n",
      " [    0    29 21000     0]\n",
      " ...\n",
      " [    0    20 33900     2]\n",
      " [    1    22 32700     3]\n",
      " [    1    28 40600     1]]\n"
     ]
    }
   ],
   "source": [
    "\n",
    "X=np.array(features)\n",
    "print (X)"
   ]
  },
  {
   "cell_type": "markdown",
   "metadata": {},
   "source": [
    "Let's generate a random square matrix with a size equal to the number of features (excluding the target feature)."
   ]
  },
  {
   "cell_type": "code",
   "execution_count": 9,
   "metadata": {},
   "outputs": [
    {
     "name": "stdout",
     "output_type": "stream",
     "text": [
      "[[ 0.85611076 -2.89730574  1.38309474  2.74027142]\n",
      " [-0.30072361 -0.09563498 -1.38042554 -2.44621158]\n",
      " [ 0.54975212  0.63538208 -0.87752311  0.05166445]\n",
      " [ 0.65307087  1.37059703  1.23594953  0.22903134]]\n"
     ]
    }
   ],
   "source": [
    "\n",
    "P=np.random.normal(size = (features.shape[1],features.shape[1]))\n",
    "print(P)"
   ]
  },
  {
   "cell_type": "markdown",
   "metadata": {},
   "source": [
    "Let's check its invertibility by attempting to compute its inverse matrix:"
   ]
  },
  {
   "cell_type": "code",
   "execution_count": 10,
   "metadata": {},
   "outputs": [
    {
     "name": "stdout",
     "output_type": "stream",
     "text": [
      "[[ 0.4341737   0.56044884  0.6959967   0.63425545]\n",
      " [-0.26200062 -0.28226582  0.15179086  0.08570311]\n",
      " [ 0.07719282  0.11542316 -0.5797607   0.43999749]\n",
      " [-0.08669275 -0.53179324  0.23566944 -0.32961808]]\n"
     ]
    }
   ],
   "source": [
    "\n",
    "P_inv=np.linalg.inv(P)\n",
    "print (P_inv)"
   ]
  },
  {
   "cell_type": "markdown",
   "metadata": {},
   "source": [
    "Since the inverse matrix was successfully computed without errors, it indicates that the randomly generated matrix is invertible."
   ]
  },
  {
   "cell_type": "markdown",
   "metadata": {},
   "source": [
    "Let's multiply our features by the obtained invertible matrix:"
   ]
  },
  {
   "cell_type": "code",
   "execution_count": 11,
   "metadata": {
    "scrolled": true
   },
   "outputs": [
    {
     "name": "stdout",
     "output_type": "stream",
     "text": [
      "[[ 27256.88474525  31509.50340853 -43579.12450003   2465.23157015]\n",
      " [ 20877.40040587  24141.49041529 -33408.14168367   1850.95256884]\n",
      " [ 11536.07356907  13340.25025859 -18468.01758345   1014.01340822]\n",
      " ...\n",
      " [ 18631.88859193  21540.28099511 -29773.16993216   1702.95883794]\n",
      " [ 17973.09378042  20776.10452085 -28720.28401081   1639.03837217]\n",
      " [ 22313.02505771  25792.30794627 -35663.47100682   2032.05223039]]\n"
     ]
    }
   ],
   "source": [
    "\n",
    "features_new=X@P\n",
    "print(features_new)\n",
    "\n"
   ]
  },
  {
   "cell_type": "markdown",
   "metadata": {},
   "source": [
    "To return to the original features, we can multiply the new features by the inverse of the invertible matrix raised to the power of -1:"
   ]
  },
  {
   "cell_type": "code",
   "execution_count": 12,
   "metadata": {},
   "outputs": [
    {
     "name": "stdout",
     "output_type": "stream",
     "text": [
      "[[-148436.58173855 -405673.05403146   48537.3538939  -835673.4681786 ]\n",
      " [-113826.90620532 -310868.62801641   37174.80871782 -640805.41974108]\n",
      " [ -62926.1934034  -171799.15623913   20542.95323149 -354277.01056248]\n",
      " ...\n",
      " [-101414.58632813 -277281.2963477    33173.57065174 -570850.37400037]\n",
      " [ -97825.65676448 -267452.906184     31999.27554985 -550678.17514842]\n",
      " [-121464.61887797 -332043.21360034   39733.54780727 -683819.05200058]]\n"
     ]
    }
   ],
   "source": [
    "\n",
    "features_restored=features_new@(P**(-1))\n",
    "print(features_restored)\n",
    "\n",
    "\n"
   ]
  },
  {
   "cell_type": "markdown",
   "metadata": {},
   "source": [
    "## Algorithm Validation"
   ]
  },
  {
   "cell_type": "markdown",
   "metadata": {},
   "source": [
    "### Quality of linear regression before feature multiplication by invertible matrix"
   ]
  },
  {
   "cell_type": "code",
   "execution_count": 13,
   "metadata": {},
   "outputs": [],
   "source": [
    "features_train, features_test, target_train, target_test=train_test_split(features, target, test_size=0.25, random_state=12345)"
   ]
  },
  {
   "cell_type": "code",
   "execution_count": 14,
   "metadata": {},
   "outputs": [
    {
     "data": {
      "text/plain": [
       "LinearRegression()"
      ]
     },
     "execution_count": 14,
     "metadata": {},
     "output_type": "execute_result"
    }
   ],
   "source": [
    "model=LinearRegression()\n",
    "model.fit(features_train, target_train)"
   ]
  },
  {
   "cell_type": "code",
   "execution_count": 15,
   "metadata": {},
   "outputs": [
    {
     "name": "stdout",
     "output_type": "stream",
     "text": [
      "0.4352275684083322\n"
     ]
    }
   ],
   "source": [
    "predictions=model.predict(features_test)\n",
    "print(r2_score(target_test, predictions))"
   ]
  },
  {
   "cell_type": "markdown",
   "metadata": {},
   "source": [
    "### Quality of linear regression after feature multiplication by invertible matrix"
   ]
  },
  {
   "cell_type": "code",
   "execution_count": 16,
   "metadata": {},
   "outputs": [],
   "source": [
    "features_train_new, features_test_new, target_train_new, target_test_new=train_test_split(features_new, target, test_size=0.25, random_state=12345)"
   ]
  },
  {
   "cell_type": "code",
   "execution_count": 17,
   "metadata": {},
   "outputs": [
    {
     "data": {
      "text/plain": [
       "LinearRegression()"
      ]
     },
     "execution_count": 17,
     "metadata": {},
     "output_type": "execute_result"
    }
   ],
   "source": [
    "model=LinearRegression()\n",
    "model.fit(features_train_new, target_train_new)"
   ]
  },
  {
   "cell_type": "code",
   "execution_count": 18,
   "metadata": {},
   "outputs": [
    {
     "name": "stdout",
     "output_type": "stream",
     "text": [
      "0.4352275684082225\n"
     ]
    }
   ],
   "source": [
    "predictions_new=model.predict(features_test_new)\n",
    "print(r2_score(target_test_new, predictions_new))"
   ]
  },
  {
   "cell_type": "markdown",
   "metadata": {},
   "source": [
    "R2_score After multiplying the features by the invertible random matrix, the quality of the linear regression has not changed. The quality of the linear regression remains the same."
   ]
  },
  {
   "cell_type": "markdown",
   "metadata": {},
   "source": [
    "### Conclusion"
   ]
  },
  {
   "cell_type": "markdown",
   "metadata": {},
   "source": [
    "We addressed the task of protecting the personal data of customers from an insurance company. The dataset contained information about 5000 clients, including age, gender, family size, and the number of insurance claims over the last 5 years. Among the mentioned features, the number of insurance claims is the target variable. Our goal was to propose a data protection algorithm that effectively encrypts the data while maintaining the quality of machine learning models.\n",
    "\n",
    "We proposed a data protection algorithm that involves multiplying the features by an invertible matrix. Initially, we verified our assumption using formulas, particularly the formula for linear regression parameter estimation. $$\n",
    "w=(X^TX)^{-1}X^Ty\n",
    "$$\n",
    "\n",
    "By substituting the multiplication by the invertible matrix into the formula, we verified that the predictions using the original features are equal to the predictions using the features multiplied by the invertible matrix.\n",
    "\n",
    "Next, we tested our hypothesis in practice. Firstly, we generated a random square matrix with a size equal to the number of features (excluding the target feature) using the numpy.random.normal() method. After that, we checked its invertibility by attempting to compute its inverse using the np.linalg.inv method. Since the code didn't generate an error, the matrix was indeed invertible. Then, we multiplied the features by the obtained invertible matrix. Subsequently, we trained a linear regression model on both the original and encrypted data. The quality of regression (R2 score) was 0.4352 in both cases, indicating no change.\n",
    "\n",
    "In summary, we devised a data encryption algorithm for customer data without altering the quality of the machine learning model. Customer data can still be easily recovered by multiplying it with the inverse matrix.\n",
    "\n",
    "\n",
    "\n",
    "\n",
    "\n"
   ]
  }
 ],
 "metadata": {
  "ExecuteTimeLog": [
   {
    "duration": 48,
    "start_time": "2022-09-14T07:44:10.152Z"
   },
   {
    "duration": 415,
    "start_time": "2022-09-14T07:44:16.522Z"
   },
   {
    "duration": 96,
    "start_time": "2022-09-14T07:44:16.939Z"
   },
   {
    "duration": 11,
    "start_time": "2022-09-14T07:44:27.662Z"
   },
   {
    "duration": 16,
    "start_time": "2022-09-14T07:44:45.985Z"
   },
   {
    "duration": 30,
    "start_time": "2022-09-14T09:25:46.562Z"
   },
   {
    "duration": 3,
    "start_time": "2022-09-14T09:26:57.828Z"
   },
   {
    "duration": 8,
    "start_time": "2022-09-14T09:27:01.268Z"
   },
   {
    "duration": 12,
    "start_time": "2022-09-14T09:35:19.136Z"
   },
   {
    "duration": 3,
    "start_time": "2022-09-14T09:35:26.649Z"
   },
   {
    "duration": 371,
    "start_time": "2022-09-14T09:35:34.576Z"
   },
   {
    "duration": 30,
    "start_time": "2022-09-14T09:35:34.949Z"
   },
   {
    "duration": 17,
    "start_time": "2022-09-14T09:35:34.981Z"
   },
   {
    "duration": 34,
    "start_time": "2022-09-14T09:35:35.001Z"
   },
   {
    "duration": 81,
    "start_time": "2022-09-14T09:35:35.038Z"
   },
   {
    "duration": 3,
    "start_time": "2022-09-14T09:36:43.165Z"
   },
   {
    "duration": 5,
    "start_time": "2022-09-14T09:36:52.923Z"
   },
   {
    "duration": 5,
    "start_time": "2022-09-14T09:37:06.075Z"
   },
   {
    "duration": 5,
    "start_time": "2022-09-14T09:37:41.642Z"
   },
   {
    "duration": 4,
    "start_time": "2022-09-14T09:40:02.927Z"
   },
   {
    "duration": 6,
    "start_time": "2022-09-14T09:42:03.309Z"
   },
   {
    "duration": 5,
    "start_time": "2022-09-14T09:42:19.322Z"
   },
   {
    "duration": 772,
    "start_time": "2022-09-14T09:50:06.302Z"
   },
   {
    "duration": 4,
    "start_time": "2022-09-14T09:52:02.881Z"
   },
   {
    "duration": 46,
    "start_time": "2022-09-14T10:01:46.581Z"
   },
   {
    "duration": 30,
    "start_time": "2022-09-14T10:05:07.377Z"
   },
   {
    "duration": 14,
    "start_time": "2022-09-14T10:05:11.402Z"
   },
   {
    "duration": 10,
    "start_time": "2022-09-14T10:05:17.654Z"
   },
   {
    "duration": 4,
    "start_time": "2022-09-14T10:07:29.739Z"
   },
   {
    "duration": 32,
    "start_time": "2022-09-14T10:07:41.395Z"
   },
   {
    "duration": 15,
    "start_time": "2022-09-14T10:07:45.083Z"
   },
   {
    "duration": 12,
    "start_time": "2022-09-14T10:07:49.194Z"
   },
   {
    "duration": 6,
    "start_time": "2022-09-14T10:09:15.478Z"
   },
   {
    "duration": 11,
    "start_time": "2022-09-14T10:10:18.434Z"
   },
   {
    "duration": 4,
    "start_time": "2022-09-14T10:10:20.526Z"
   },
   {
    "duration": 5,
    "start_time": "2022-09-14T10:10:21.382Z"
   },
   {
    "duration": 11,
    "start_time": "2022-09-14T10:11:22.563Z"
   },
   {
    "duration": 5,
    "start_time": "2022-09-14T10:11:36.872Z"
   },
   {
    "duration": 4,
    "start_time": "2022-09-14T10:11:37.499Z"
   },
   {
    "duration": 9,
    "start_time": "2022-09-14T10:11:40.402Z"
   },
   {
    "duration": 6,
    "start_time": "2022-09-14T10:12:05.348Z"
   },
   {
    "duration": 102,
    "start_time": "2022-09-14T10:12:07.739Z"
   },
   {
    "duration": 5,
    "start_time": "2022-09-14T10:12:19.393Z"
   },
   {
    "duration": 5,
    "start_time": "2022-09-14T10:12:20.895Z"
   },
   {
    "duration": 5,
    "start_time": "2022-09-14T10:27:44.341Z"
   },
   {
    "duration": 4,
    "start_time": "2022-09-14T10:28:02.970Z"
   },
   {
    "duration": 12,
    "start_time": "2022-09-14T10:28:07.230Z"
   },
   {
    "duration": 36,
    "start_time": "2022-09-14T10:40:16.528Z"
   },
   {
    "duration": 3,
    "start_time": "2022-09-14T10:43:21.447Z"
   },
   {
    "duration": 7,
    "start_time": "2022-09-14T10:45:31.340Z"
   },
   {
    "duration": 3,
    "start_time": "2022-09-14T10:46:16.096Z"
   },
   {
    "duration": 12,
    "start_time": "2022-09-14T10:47:14.977Z"
   },
   {
    "duration": 6,
    "start_time": "2022-09-14T10:48:14.117Z"
   },
   {
    "duration": 14,
    "start_time": "2022-09-14T10:48:52.256Z"
   },
   {
    "duration": 8,
    "start_time": "2022-09-14T10:49:09.068Z"
   },
   {
    "duration": 438,
    "start_time": "2022-09-14T10:55:53.123Z"
   },
   {
    "duration": 9,
    "start_time": "2022-09-14T10:56:09.541Z"
   },
   {
    "duration": 3,
    "start_time": "2022-09-14T11:02:07.520Z"
   },
   {
    "duration": 1214,
    "start_time": "2022-09-14T11:04:43.295Z"
   },
   {
    "duration": 31,
    "start_time": "2022-09-14T11:04:44.511Z"
   },
   {
    "duration": 13,
    "start_time": "2022-09-14T11:04:44.544Z"
   },
   {
    "duration": 48,
    "start_time": "2022-09-14T11:04:44.559Z"
   },
   {
    "duration": 19,
    "start_time": "2022-09-14T11:04:44.610Z"
   },
   {
    "duration": 127,
    "start_time": "2022-09-14T11:04:44.632Z"
   },
   {
    "duration": 0,
    "start_time": "2022-09-14T11:04:44.760Z"
   },
   {
    "duration": 0,
    "start_time": "2022-09-14T11:04:44.761Z"
   },
   {
    "duration": 0,
    "start_time": "2022-09-14T11:04:44.763Z"
   },
   {
    "duration": 0,
    "start_time": "2022-09-14T11:04:44.764Z"
   },
   {
    "duration": 0,
    "start_time": "2022-09-14T11:04:44.766Z"
   },
   {
    "duration": 0,
    "start_time": "2022-09-14T11:04:44.766Z"
   },
   {
    "duration": 12,
    "start_time": "2022-09-14T11:05:13.540Z"
   },
   {
    "duration": 13,
    "start_time": "2022-09-14T11:05:19.339Z"
   },
   {
    "duration": 9,
    "start_time": "2022-09-14T11:05:20.103Z"
   },
   {
    "duration": 12,
    "start_time": "2022-09-14T11:05:39.102Z"
   },
   {
    "duration": 5,
    "start_time": "2022-09-14T11:05:58.866Z"
   },
   {
    "duration": 12,
    "start_time": "2022-09-14T11:06:03.477Z"
   },
   {
    "duration": 3,
    "start_time": "2022-09-14T11:06:09.755Z"
   },
   {
    "duration": 5,
    "start_time": "2022-09-14T11:06:22.234Z"
   },
   {
    "duration": 8,
    "start_time": "2022-09-14T11:06:25.025Z"
   },
   {
    "duration": 9,
    "start_time": "2022-09-14T11:06:50.570Z"
   },
   {
    "duration": 5,
    "start_time": "2022-09-14T11:07:02.531Z"
   },
   {
    "duration": 7,
    "start_time": "2022-09-14T11:07:13.081Z"
   },
   {
    "duration": 10,
    "start_time": "2022-09-14T11:07:13.825Z"
   },
   {
    "duration": 6,
    "start_time": "2022-09-14T11:07:14.867Z"
   },
   {
    "duration": 20,
    "start_time": "2022-09-14T11:07:51.848Z"
   },
   {
    "duration": 12,
    "start_time": "2022-09-14T11:08:26.795Z"
   },
   {
    "duration": 10,
    "start_time": "2022-09-14T11:08:56.780Z"
   },
   {
    "duration": 16,
    "start_time": "2022-09-14T11:12:04.081Z"
   },
   {
    "duration": 5,
    "start_time": "2022-09-14T11:12:27.594Z"
   },
   {
    "duration": 1144,
    "start_time": "2022-09-14T11:12:51.349Z"
   },
   {
    "duration": 31,
    "start_time": "2022-09-14T11:12:52.495Z"
   },
   {
    "duration": 16,
    "start_time": "2022-09-14T11:12:52.528Z"
   },
   {
    "duration": 53,
    "start_time": "2022-09-14T11:12:52.546Z"
   },
   {
    "duration": 45,
    "start_time": "2022-09-14T11:12:52.602Z"
   },
   {
    "duration": 28,
    "start_time": "2022-09-14T11:12:52.650Z"
   },
   {
    "duration": 242,
    "start_time": "2022-09-14T11:12:52.680Z"
   },
   {
    "duration": 0,
    "start_time": "2022-09-14T11:12:52.923Z"
   },
   {
    "duration": 0,
    "start_time": "2022-09-14T11:12:52.924Z"
   },
   {
    "duration": 0,
    "start_time": "2022-09-14T11:12:52.926Z"
   },
   {
    "duration": 0,
    "start_time": "2022-09-14T11:12:52.927Z"
   },
   {
    "duration": 0,
    "start_time": "2022-09-14T11:12:52.928Z"
   },
   {
    "duration": 0,
    "start_time": "2022-09-14T11:12:52.929Z"
   },
   {
    "duration": 0,
    "start_time": "2022-09-14T11:12:52.930Z"
   },
   {
    "duration": 6,
    "start_time": "2022-09-14T11:16:19.835Z"
   },
   {
    "duration": 1054,
    "start_time": "2022-09-14T11:16:26.865Z"
   },
   {
    "duration": 30,
    "start_time": "2022-09-14T11:16:27.921Z"
   },
   {
    "duration": 18,
    "start_time": "2022-09-14T11:16:27.954Z"
   },
   {
    "duration": 18,
    "start_time": "2022-09-14T11:16:27.975Z"
   },
   {
    "duration": 6,
    "start_time": "2022-09-14T11:16:27.995Z"
   },
   {
    "duration": 18,
    "start_time": "2022-09-14T11:16:28.003Z"
   },
   {
    "duration": 16,
    "start_time": "2022-09-14T11:16:28.023Z"
   },
   {
    "duration": 6,
    "start_time": "2022-09-14T11:16:28.042Z"
   },
   {
    "duration": 75,
    "start_time": "2022-09-14T11:16:28.050Z"
   },
   {
    "duration": 15,
    "start_time": "2022-09-14T11:16:28.127Z"
   },
   {
    "duration": 12,
    "start_time": "2022-09-14T11:16:28.221Z"
   },
   {
    "duration": 90,
    "start_time": "2022-09-14T11:16:28.237Z"
   },
   {
    "duration": 105,
    "start_time": "2022-09-14T11:16:28.330Z"
   },
   {
    "duration": 18,
    "start_time": "2022-09-14T11:16:28.437Z"
   },
   {
    "duration": 5,
    "start_time": "2022-09-14T11:21:43.379Z"
   },
   {
    "duration": 109,
    "start_time": "2022-09-14T11:22:23.231Z"
   },
   {
    "duration": 14,
    "start_time": "2022-09-14T11:22:41.681Z"
   },
   {
    "duration": 5,
    "start_time": "2022-09-14T11:22:55.587Z"
   },
   {
    "duration": 14,
    "start_time": "2022-09-14T11:24:49.143Z"
   },
   {
    "duration": 9,
    "start_time": "2022-09-14T11:25:01.871Z"
   },
   {
    "duration": 9,
    "start_time": "2022-09-14T11:25:55.588Z"
   },
   {
    "duration": 10,
    "start_time": "2022-09-14T11:26:11.176Z"
   },
   {
    "duration": 9,
    "start_time": "2022-09-14T11:26:50.217Z"
   },
   {
    "duration": 10,
    "start_time": "2022-09-14T11:27:14.178Z"
   },
   {
    "duration": 5,
    "start_time": "2022-09-14T11:28:36.394Z"
   },
   {
    "duration": 10,
    "start_time": "2022-09-14T11:28:58.248Z"
   },
   {
    "duration": 3,
    "start_time": "2022-09-14T11:30:13.493Z"
   },
   {
    "duration": 5,
    "start_time": "2022-09-14T11:30:29.483Z"
   },
   {
    "duration": 4,
    "start_time": "2022-09-14T11:31:05.909Z"
   },
   {
    "duration": 11,
    "start_time": "2022-09-14T11:31:41.223Z"
   },
   {
    "duration": 4,
    "start_time": "2022-09-14T11:31:56.214Z"
   },
   {
    "duration": 4,
    "start_time": "2022-09-14T11:32:01.708Z"
   },
   {
    "duration": 5,
    "start_time": "2022-09-14T11:32:07.831Z"
   },
   {
    "duration": 14,
    "start_time": "2022-09-14T11:32:37.330Z"
   },
   {
    "duration": 6,
    "start_time": "2022-09-14T11:33:04.042Z"
   },
   {
    "duration": 5,
    "start_time": "2022-09-14T11:33:31.898Z"
   },
   {
    "duration": 10,
    "start_time": "2022-09-14T11:33:49.985Z"
   },
   {
    "duration": 4,
    "start_time": "2022-09-14T11:34:11.827Z"
   },
   {
    "duration": 6,
    "start_time": "2022-09-14T11:34:31.095Z"
   },
   {
    "duration": 12,
    "start_time": "2022-09-14T12:41:23.898Z"
   },
   {
    "duration": 7,
    "start_time": "2022-09-14T12:41:28.336Z"
   },
   {
    "duration": 9,
    "start_time": "2022-09-14T12:42:22.850Z"
   },
   {
    "duration": 57,
    "start_time": "2022-09-14T13:03:15.243Z"
   },
   {
    "duration": 1206,
    "start_time": "2022-09-14T13:26:43.940Z"
   },
   {
    "duration": 34,
    "start_time": "2022-09-14T13:26:45.148Z"
   },
   {
    "duration": 13,
    "start_time": "2022-09-14T13:26:45.186Z"
   },
   {
    "duration": 22,
    "start_time": "2022-09-14T13:26:45.201Z"
   },
   {
    "duration": 9,
    "start_time": "2022-09-14T13:26:45.225Z"
   },
   {
    "duration": 15,
    "start_time": "2022-09-14T13:26:45.236Z"
   },
   {
    "duration": 13,
    "start_time": "2022-09-14T13:26:45.253Z"
   },
   {
    "duration": 12,
    "start_time": "2022-09-14T13:26:45.268Z"
   },
   {
    "duration": 8,
    "start_time": "2022-09-14T13:26:45.283Z"
   },
   {
    "duration": 27,
    "start_time": "2022-09-14T13:26:45.295Z"
   },
   {
    "duration": 8,
    "start_time": "2022-09-14T13:26:45.325Z"
   },
   {
    "duration": 89,
    "start_time": "2022-09-14T13:26:45.335Z"
   },
   {
    "duration": 23,
    "start_time": "2022-09-14T13:26:45.426Z"
   },
   {
    "duration": 20,
    "start_time": "2022-09-14T13:26:45.452Z"
   },
   {
    "duration": 55,
    "start_time": "2022-09-14T13:26:45.475Z"
   },
   {
    "duration": 94,
    "start_time": "2022-09-14T13:26:45.532Z"
   },
   {
    "duration": 7,
    "start_time": "2022-09-14T13:26:45.628Z"
   },
   {
    "duration": 7,
    "start_time": "2022-09-14T13:26:45.638Z"
   },
   {
    "duration": 45,
    "start_time": "2022-09-15T07:51:33.775Z"
   },
   {
    "duration": 7,
    "start_time": "2022-09-15T07:51:37.743Z"
   },
   {
    "duration": 1074,
    "start_time": "2022-09-15T07:51:44.465Z"
   },
   {
    "duration": 90,
    "start_time": "2022-09-15T07:51:45.541Z"
   },
   {
    "duration": 11,
    "start_time": "2022-09-15T07:51:45.632Z"
   },
   {
    "duration": 15,
    "start_time": "2022-09-15T07:51:45.645Z"
   },
   {
    "duration": 6,
    "start_time": "2022-09-15T07:51:45.661Z"
   },
   {
    "duration": 5,
    "start_time": "2022-09-15T07:51:45.669Z"
   },
   {
    "duration": 5,
    "start_time": "2022-09-15T07:51:45.675Z"
   },
   {
    "duration": 4,
    "start_time": "2022-09-15T07:51:45.681Z"
   },
   {
    "duration": 5,
    "start_time": "2022-09-15T07:51:45.687Z"
   },
   {
    "duration": 6,
    "start_time": "2022-09-15T07:51:45.693Z"
   },
   {
    "duration": 8,
    "start_time": "2022-09-15T07:51:45.701Z"
   },
   {
    "duration": 67,
    "start_time": "2022-09-15T07:51:45.711Z"
   },
   {
    "duration": 7,
    "start_time": "2022-09-15T07:51:45.780Z"
   },
   {
    "duration": 92,
    "start_time": "2022-09-15T07:51:45.789Z"
   },
   {
    "duration": 5,
    "start_time": "2022-09-15T07:51:45.883Z"
   },
   {
    "duration": 7,
    "start_time": "2022-09-15T07:51:45.889Z"
   },
   {
    "duration": 7,
    "start_time": "2022-09-15T07:51:45.897Z"
   },
   {
    "duration": 4,
    "start_time": "2022-09-15T07:51:45.905Z"
   },
   {
    "duration": 97,
    "start_time": "2022-09-15T08:36:12.360Z"
   },
   {
    "duration": 4,
    "start_time": "2022-09-15T08:39:43.782Z"
   },
   {
    "duration": 7,
    "start_time": "2022-09-15T08:39:56.762Z"
   },
   {
    "duration": 93,
    "start_time": "2023-08-20T18:13:28.217Z"
   },
   {
    "duration": 84,
    "start_time": "2023-08-20T18:19:06.849Z"
   },
   {
    "duration": 2202,
    "start_time": "2023-08-20T18:19:12.128Z"
   },
   {
    "duration": 99,
    "start_time": "2023-08-20T18:19:14.382Z"
   },
   {
    "duration": 26,
    "start_time": "2023-08-20T18:19:14.484Z"
   },
   {
    "duration": 33,
    "start_time": "2023-08-20T18:19:15.662Z"
   },
   {
    "duration": 25,
    "start_time": "2023-08-20T18:19:17.272Z"
   },
   {
    "duration": 6,
    "start_time": "2023-08-20T18:19:24.465Z"
   },
   {
    "duration": 4,
    "start_time": "2023-08-20T18:20:07.707Z"
   },
   {
    "duration": 157,
    "start_time": "2023-08-20T18:20:11.107Z"
   },
   {
    "duration": 7,
    "start_time": "2023-08-20T18:20:45.136Z"
   },
   {
    "duration": 2,
    "start_time": "2023-08-20T19:17:25.354Z"
   },
   {
    "duration": 88,
    "start_time": "2023-08-20T19:17:30.016Z"
   },
   {
    "duration": 70,
    "start_time": "2023-08-20T19:18:09.164Z"
   },
   {
    "duration": 61,
    "start_time": "2023-08-20T19:19:25.958Z"
   },
   {
    "duration": 94,
    "start_time": "2023-08-20T19:20:27.160Z"
   },
   {
    "duration": 56,
    "start_time": "2023-08-20T19:21:04.421Z"
   }
  ],
  "kernelspec": {
   "display_name": "Python 3 (ipykernel)",
   "language": "python",
   "name": "python3"
  },
  "language_info": {
   "codemirror_mode": {
    "name": "ipython",
    "version": 3
   },
   "file_extension": ".py",
   "mimetype": "text/x-python",
   "name": "python",
   "nbconvert_exporter": "python",
   "pygments_lexer": "ipython3",
   "version": "3.9.5"
  },
  "toc": {
   "base_numbering": 1,
   "nav_menu": {},
   "number_sections": true,
   "sideBar": true,
   "skip_h1_title": true,
   "title_cell": "Содержание",
   "title_sidebar": "Contents",
   "toc_cell": true,
   "toc_position": {},
   "toc_section_display": true,
   "toc_window_display": false
  }
 },
 "nbformat": 4,
 "nbformat_minor": 2
}
