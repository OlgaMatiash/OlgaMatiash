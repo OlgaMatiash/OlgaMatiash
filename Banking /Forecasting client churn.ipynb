{
 "cells": [
  {
   "cell_type": "markdown",
   "metadata": {},
   "source": [
    "# Client churn"
   ]
  },
  {
   "cell_type": "markdown",
   "metadata": {},
   "source": [
    "Customers are starting to leave \"Beta Bank.\" Every month. It's not a lot, but it's noticeable. Bank marketers have calculated that retaining existing customers is cheaper than acquiring new ones.\n",
    "\n",
    "The task is to predict whether a customer will leave the bank in the near future. You have been provided with historical data on customer behavior and contract terminations with the bank.\n",
    "\n",
    "Build a model with a significantly high F1 score.  Evaluate the F1 score on the test dataset independently.\n",
    "\n",
    "Additionally, measure the AUC-ROC and compare its value with the F1 score.\n",
    "\n",
    "Data source: https://www.kaggle.com/barelydedicated/bank-customer-churn-modeling\n"
   ]
  },
  {
   "cell_type": "markdown",
   "metadata": {
    "toc": true
   },
   "source": [
    "<h1> Table of Contents <span class=\"tocSkip\"></span></h1>\n",
    "<div class=\"toc\"><ul class=\"toc-item\"><li><span><a href=\"#Подготовка-данных\" data-toc-modified-id=\"Подготовка-данных-1\"><span class=\"toc-item-num\">1&nbsp;&nbsp;</span>Data preparation</a></span></li><li><span><a href=\"#Исследование-задачи\" data-toc-modified-id=\"Исследование-задачи-2\"><span class=\"toc-item-num\">2&nbsp;&nbsp;</span>Research of the task</a></span><ul class=\"toc-item\"><li><span><a href=\"#DecisionTreeClassifier\" data-toc-modified-id=\"DecisionTreeClassifier-2.1\"><span class=\"toc-item-num\">2.1&nbsp;&nbsp;</span>DecisionTreeClassifier</a></span></li><li><span><a href=\"#RandomForestClassifier\" data-toc-modified-id=\"RandomForestClassifier-2.2\"><span class=\"toc-item-num\">2.2&nbsp;&nbsp;</span>RandomForestClassifier</a></span></li><li><span><a href=\"#LogisticRegression\" data-toc-modified-id=\"LogisticRegression-2.3\"><span class=\"toc-item-num\">2.3&nbsp;&nbsp;</span>LogisticRegression</a></span></li></ul></li><li><span><a href=\"#Борьба-с-дисбалансом\" data-toc-modified-id=\"Борьба-с-дисбалансом-3\"><span class=\"toc-item-num\">3&nbsp;&nbsp;</span>Tactics To Combat Imbalanced Training Data</a></span><ul class=\"toc-item\"><li><span><a href=\"#DecisionTreeClassifier-увеличение-выборки\" data-toc-modified-id=\"DecisionTreeClassifier-увеличение-выборки-3.1\"><span class=\"toc-item-num\">3.1&nbsp;&nbsp;</span>DecisionTreeClassifier Upsampling</a></span></li><li><span><a href=\"#DecisionTreeClassifier-уменьшение-выборки\" data-toc-modified-id=\"DecisionTreeClassifier-уменьшение-выборки-3.2\"><span class=\"toc-item-num\">3.2&nbsp;&nbsp;</span>DecisionTreeClassifier Downsampling</a></span></li><li><span><a href=\"#RandomForestClassifier-увеличение-выборки\" data-toc-modified-id=\"RandomForestClassifier-увеличение-выборки-3.3\"><span class=\"toc-item-num\">3.3&nbsp;&nbsp;</span>RandomForestClassifier Upsampling</a></span></li><li><span><a href=\"#RandomForestClassifier-уменьшение-выборки\" data-toc-modified-id=\"RandomForestClassifier-уменьшение-выборки-3.4\"><span class=\"toc-item-num\">3.4&nbsp;&nbsp;</span>RandomForestClassifier Downsampling</a></span></li><li><span><a href=\"#LogisticRegression-увеличение-выборки\" data-toc-modified-id=\"LogisticRegression-увеличение-выборки-3.5\"><span class=\"toc-item-num\">3.5&nbsp;&nbsp;</span>LogisticRegression Upsampling</a></span></li><li><span><a href=\"#LogisticRegression-уменьшение-выборки\" data-toc-modified-id=\"LogisticRegression-уменьшение-выборки-3.6\"><span class=\"toc-item-num\">3.6&nbsp;&nbsp;</span>LogisticRegression Downsampling</a></span></li></ul></li><li><span><a href=\"#Тестирование-модели\" data-toc-modified-id=\"Тестирование-модели-4\"><span class=\"toc-item-num\">4&nbsp;&nbsp;</span> Model testing</a></span><ul class=\"toc-item\"><li><span><a href=\"#ROC-кривая\" data-toc-modified-id=\"ROC-кривая-4.1\"><span class=\"toc-item-num\">4.1&nbsp;&nbsp;</span>ROC curve"
   ]
  },
  {
   "cell_type": "markdown",
   "metadata": {},
   "source": [
    "## Data preparation"
   ]
  },
  {
   "cell_type": "markdown",
   "metadata": {},
   "source": [
    "Prepare the libraries, data, and features."
   ]
  },
  {
   "cell_type": "code",
   "execution_count": 283,
   "metadata": {},
   "outputs": [],
   "source": [
    "import pandas as pd\n",
    "import matplotlib.pyplot as plt\n",
    "from sklearn.model_selection import train_test_split\n",
    "from sklearn.linear_model import LogisticRegression\n",
    "from sklearn.tree import DecisionTreeClassifier\n",
    "from sklearn.ensemble import RandomForestClassifier\n",
    "from sklearn.preprocessing import StandardScaler\n",
    "from sklearn.metrics import confusion_matrix\n",
    "from sklearn.metrics import accuracy_score\n",
    "from sklearn.metrics import f1_score\n",
    "from sklearn.utils import shuffle\n",
    "from sklearn.metrics import roc_auc_score\n",
    "from sklearn.metrics import roc_curve\n",
    "import os\n",
    "\n"
   ]
  },
  {
   "cell_type": "code",
   "execution_count": 284,
   "metadata": {},
   "outputs": [],
   "source": [
    "pth1 = '/datasets/Churn.csv'\n",
    "pth2 = 'C:/Users/n.kirpichnikov/Desktop/Оля Учеба/Проекты/Отток клиентов/Churn.csv'\n",
    "\n",
    "if os.path.exists(pth1):\n",
    "    data = pd.read_csv(pth1)\n",
    "elif os.path.exists(pth2):\n",
    "    data = pd.read_csv(pth2)\n",
    "else:\n",
    "    print('Something is wrong')"
   ]
  },
  {
   "cell_type": "code",
   "execution_count": 285,
   "metadata": {},
   "outputs": [
    {
     "name": "stdout",
     "output_type": "stream",
     "text": [
      "<class 'pandas.core.frame.DataFrame'>\n",
      "RangeIndex: 10000 entries, 0 to 9999\n",
      "Data columns (total 14 columns):\n",
      " #   Column           Non-Null Count  Dtype  \n",
      "---  ------           --------------  -----  \n",
      " 0   RowNumber        10000 non-null  int64  \n",
      " 1   CustomerId       10000 non-null  int64  \n",
      " 2   Surname          10000 non-null  object \n",
      " 3   CreditScore      10000 non-null  int64  \n",
      " 4   Geography        10000 non-null  object \n",
      " 5   Gender           10000 non-null  object \n",
      " 6   Age              10000 non-null  int64  \n",
      " 7   Tenure           9091 non-null   float64\n",
      " 8   Balance          10000 non-null  float64\n",
      " 9   NumOfProducts    10000 non-null  int64  \n",
      " 10  HasCrCard        10000 non-null  int64  \n",
      " 11  IsActiveMember   10000 non-null  int64  \n",
      " 12  EstimatedSalary  10000 non-null  float64\n",
      " 13  Exited           10000 non-null  int64  \n",
      "dtypes: float64(3), int64(8), object(3)\n",
      "memory usage: 1.1+ MB\n"
     ]
    }
   ],
   "source": [
    "data.info()"
   ]
  },
  {
   "cell_type": "code",
   "execution_count": 286,
   "metadata": {},
   "outputs": [
    {
     "data": {
      "text/html": [
       "<div>\n",
       "<style scoped>\n",
       "    .dataframe tbody tr th:only-of-type {\n",
       "        vertical-align: middle;\n",
       "    }\n",
       "\n",
       "    .dataframe tbody tr th {\n",
       "        vertical-align: top;\n",
       "    }\n",
       "\n",
       "    .dataframe thead th {\n",
       "        text-align: right;\n",
       "    }\n",
       "</style>\n",
       "<table border=\"1\" class=\"dataframe\">\n",
       "  <thead>\n",
       "    <tr style=\"text-align: right;\">\n",
       "      <th></th>\n",
       "      <th>RowNumber</th>\n",
       "      <th>CustomerId</th>\n",
       "      <th>Surname</th>\n",
       "      <th>CreditScore</th>\n",
       "      <th>Geography</th>\n",
       "      <th>Gender</th>\n",
       "      <th>Age</th>\n",
       "      <th>Tenure</th>\n",
       "      <th>Balance</th>\n",
       "      <th>NumOfProducts</th>\n",
       "      <th>HasCrCard</th>\n",
       "      <th>IsActiveMember</th>\n",
       "      <th>EstimatedSalary</th>\n",
       "      <th>Exited</th>\n",
       "    </tr>\n",
       "  </thead>\n",
       "  <tbody>\n",
       "    <tr>\n",
       "      <th>0</th>\n",
       "      <td>1</td>\n",
       "      <td>15634602</td>\n",
       "      <td>Hargrave</td>\n",
       "      <td>619</td>\n",
       "      <td>France</td>\n",
       "      <td>Female</td>\n",
       "      <td>42</td>\n",
       "      <td>2.0</td>\n",
       "      <td>0.00</td>\n",
       "      <td>1</td>\n",
       "      <td>1</td>\n",
       "      <td>1</td>\n",
       "      <td>101348.88</td>\n",
       "      <td>1</td>\n",
       "    </tr>\n",
       "    <tr>\n",
       "      <th>1</th>\n",
       "      <td>2</td>\n",
       "      <td>15647311</td>\n",
       "      <td>Hill</td>\n",
       "      <td>608</td>\n",
       "      <td>Spain</td>\n",
       "      <td>Female</td>\n",
       "      <td>41</td>\n",
       "      <td>1.0</td>\n",
       "      <td>83807.86</td>\n",
       "      <td>1</td>\n",
       "      <td>0</td>\n",
       "      <td>1</td>\n",
       "      <td>112542.58</td>\n",
       "      <td>0</td>\n",
       "    </tr>\n",
       "    <tr>\n",
       "      <th>2</th>\n",
       "      <td>3</td>\n",
       "      <td>15619304</td>\n",
       "      <td>Onio</td>\n",
       "      <td>502</td>\n",
       "      <td>France</td>\n",
       "      <td>Female</td>\n",
       "      <td>42</td>\n",
       "      <td>8.0</td>\n",
       "      <td>159660.80</td>\n",
       "      <td>3</td>\n",
       "      <td>1</td>\n",
       "      <td>0</td>\n",
       "      <td>113931.57</td>\n",
       "      <td>1</td>\n",
       "    </tr>\n",
       "    <tr>\n",
       "      <th>3</th>\n",
       "      <td>4</td>\n",
       "      <td>15701354</td>\n",
       "      <td>Boni</td>\n",
       "      <td>699</td>\n",
       "      <td>France</td>\n",
       "      <td>Female</td>\n",
       "      <td>39</td>\n",
       "      <td>1.0</td>\n",
       "      <td>0.00</td>\n",
       "      <td>2</td>\n",
       "      <td>0</td>\n",
       "      <td>0</td>\n",
       "      <td>93826.63</td>\n",
       "      <td>0</td>\n",
       "    </tr>\n",
       "    <tr>\n",
       "      <th>4</th>\n",
       "      <td>5</td>\n",
       "      <td>15737888</td>\n",
       "      <td>Mitchell</td>\n",
       "      <td>850</td>\n",
       "      <td>Spain</td>\n",
       "      <td>Female</td>\n",
       "      <td>43</td>\n",
       "      <td>2.0</td>\n",
       "      <td>125510.82</td>\n",
       "      <td>1</td>\n",
       "      <td>1</td>\n",
       "      <td>1</td>\n",
       "      <td>79084.10</td>\n",
       "      <td>0</td>\n",
       "    </tr>\n",
       "  </tbody>\n",
       "</table>\n",
       "</div>"
      ],
      "text/plain": [
       "   RowNumber  CustomerId   Surname  CreditScore Geography  Gender  Age  \\\n",
       "0          1    15634602  Hargrave          619    France  Female   42   \n",
       "1          2    15647311      Hill          608     Spain  Female   41   \n",
       "2          3    15619304      Onio          502    France  Female   42   \n",
       "3          4    15701354      Boni          699    France  Female   39   \n",
       "4          5    15737888  Mitchell          850     Spain  Female   43   \n",
       "\n",
       "   Tenure    Balance  NumOfProducts  HasCrCard  IsActiveMember  \\\n",
       "0     2.0       0.00              1          1               1   \n",
       "1     1.0   83807.86              1          0               1   \n",
       "2     8.0  159660.80              3          1               0   \n",
       "3     1.0       0.00              2          0               0   \n",
       "4     2.0  125510.82              1          1               1   \n",
       "\n",
       "   EstimatedSalary  Exited  \n",
       "0        101348.88       1  \n",
       "1        112542.58       0  \n",
       "2        113931.57       1  \n",
       "3         93826.63       0  \n",
       "4         79084.10       0  "
      ]
     },
     "metadata": {},
     "output_type": "display_data"
    }
   ],
   "source": [
    "display(data.head())"
   ]
  },
  {
   "cell_type": "code",
   "execution_count": 287,
   "metadata": {},
   "outputs": [
    {
     "data": {
      "text/html": [
       "<div>\n",
       "<style scoped>\n",
       "    .dataframe tbody tr th:only-of-type {\n",
       "        vertical-align: middle;\n",
       "    }\n",
       "\n",
       "    .dataframe tbody tr th {\n",
       "        vertical-align: top;\n",
       "    }\n",
       "\n",
       "    .dataframe thead th {\n",
       "        text-align: right;\n",
       "    }\n",
       "</style>\n",
       "<table border=\"1\" class=\"dataframe\">\n",
       "  <thead>\n",
       "    <tr style=\"text-align: right;\">\n",
       "      <th></th>\n",
       "      <th>RowNumber</th>\n",
       "      <th>CustomerId</th>\n",
       "      <th>Surname</th>\n",
       "      <th>CreditScore</th>\n",
       "      <th>Geography</th>\n",
       "      <th>Gender</th>\n",
       "      <th>Age</th>\n",
       "      <th>Tenure</th>\n",
       "      <th>Balance</th>\n",
       "      <th>NumOfProducts</th>\n",
       "      <th>HasCrCard</th>\n",
       "      <th>IsActiveMember</th>\n",
       "      <th>EstimatedSalary</th>\n",
       "      <th>Exited</th>\n",
       "    </tr>\n",
       "  </thead>\n",
       "  <tbody>\n",
       "    <tr>\n",
       "      <th>9995</th>\n",
       "      <td>9996</td>\n",
       "      <td>15606229</td>\n",
       "      <td>Obijiaku</td>\n",
       "      <td>771</td>\n",
       "      <td>France</td>\n",
       "      <td>Male</td>\n",
       "      <td>39</td>\n",
       "      <td>5.0</td>\n",
       "      <td>0.00</td>\n",
       "      <td>2</td>\n",
       "      <td>1</td>\n",
       "      <td>0</td>\n",
       "      <td>96270.64</td>\n",
       "      <td>0</td>\n",
       "    </tr>\n",
       "    <tr>\n",
       "      <th>9996</th>\n",
       "      <td>9997</td>\n",
       "      <td>15569892</td>\n",
       "      <td>Johnstone</td>\n",
       "      <td>516</td>\n",
       "      <td>France</td>\n",
       "      <td>Male</td>\n",
       "      <td>35</td>\n",
       "      <td>10.0</td>\n",
       "      <td>57369.61</td>\n",
       "      <td>1</td>\n",
       "      <td>1</td>\n",
       "      <td>1</td>\n",
       "      <td>101699.77</td>\n",
       "      <td>0</td>\n",
       "    </tr>\n",
       "    <tr>\n",
       "      <th>9997</th>\n",
       "      <td>9998</td>\n",
       "      <td>15584532</td>\n",
       "      <td>Liu</td>\n",
       "      <td>709</td>\n",
       "      <td>France</td>\n",
       "      <td>Female</td>\n",
       "      <td>36</td>\n",
       "      <td>7.0</td>\n",
       "      <td>0.00</td>\n",
       "      <td>1</td>\n",
       "      <td>0</td>\n",
       "      <td>1</td>\n",
       "      <td>42085.58</td>\n",
       "      <td>1</td>\n",
       "    </tr>\n",
       "    <tr>\n",
       "      <th>9998</th>\n",
       "      <td>9999</td>\n",
       "      <td>15682355</td>\n",
       "      <td>Sabbatini</td>\n",
       "      <td>772</td>\n",
       "      <td>Germany</td>\n",
       "      <td>Male</td>\n",
       "      <td>42</td>\n",
       "      <td>3.0</td>\n",
       "      <td>75075.31</td>\n",
       "      <td>2</td>\n",
       "      <td>1</td>\n",
       "      <td>0</td>\n",
       "      <td>92888.52</td>\n",
       "      <td>1</td>\n",
       "    </tr>\n",
       "    <tr>\n",
       "      <th>9999</th>\n",
       "      <td>10000</td>\n",
       "      <td>15628319</td>\n",
       "      <td>Walker</td>\n",
       "      <td>792</td>\n",
       "      <td>France</td>\n",
       "      <td>Female</td>\n",
       "      <td>28</td>\n",
       "      <td>NaN</td>\n",
       "      <td>130142.79</td>\n",
       "      <td>1</td>\n",
       "      <td>1</td>\n",
       "      <td>0</td>\n",
       "      <td>38190.78</td>\n",
       "      <td>0</td>\n",
       "    </tr>\n",
       "  </tbody>\n",
       "</table>\n",
       "</div>"
      ],
      "text/plain": [
       "      RowNumber  CustomerId    Surname  CreditScore Geography  Gender  Age  \\\n",
       "9995       9996    15606229   Obijiaku          771    France    Male   39   \n",
       "9996       9997    15569892  Johnstone          516    France    Male   35   \n",
       "9997       9998    15584532        Liu          709    France  Female   36   \n",
       "9998       9999    15682355  Sabbatini          772   Germany    Male   42   \n",
       "9999      10000    15628319     Walker          792    France  Female   28   \n",
       "\n",
       "      Tenure    Balance  NumOfProducts  HasCrCard  IsActiveMember  \\\n",
       "9995     5.0       0.00              2          1               0   \n",
       "9996    10.0   57369.61              1          1               1   \n",
       "9997     7.0       0.00              1          0               1   \n",
       "9998     3.0   75075.31              2          1               0   \n",
       "9999     NaN  130142.79              1          1               0   \n",
       "\n",
       "      EstimatedSalary  Exited  \n",
       "9995         96270.64       0  \n",
       "9996        101699.77       0  \n",
       "9997         42085.58       1  \n",
       "9998         92888.52       1  \n",
       "9999         38190.78       0  "
      ]
     },
     "metadata": {},
     "output_type": "display_data"
    }
   ],
   "source": [
    "display(data.tail())"
   ]
  },
  {
   "cell_type": "code",
   "execution_count": 288,
   "metadata": {},
   "outputs": [
    {
     "data": {
      "text/plain": [
       "RowNumber            0\n",
       "CustomerId           0\n",
       "Surname              0\n",
       "CreditScore          0\n",
       "Geography            0\n",
       "Gender               0\n",
       "Age                  0\n",
       "Tenure             909\n",
       "Balance              0\n",
       "NumOfProducts        0\n",
       "HasCrCard            0\n",
       "IsActiveMember       0\n",
       "EstimatedSalary      0\n",
       "Exited               0\n",
       "dtype: int64"
      ]
     },
     "execution_count": 288,
     "metadata": {},
     "output_type": "execute_result"
    }
   ],
   "source": [
    "#Do we have any missing values?\n",
    "data.isnull().sum()"
   ]
  },
  {
   "cell_type": "code",
   "execution_count": 289,
   "metadata": {},
   "outputs": [
    {
     "data": {
      "text/plain": [
       "count    9091.000000\n",
       "mean        4.997690\n",
       "std         2.894723\n",
       "min         0.000000\n",
       "25%         2.000000\n",
       "50%         5.000000\n",
       "75%         7.000000\n",
       "max        10.000000\n",
       "Name: Tenure, dtype: float64"
      ]
     },
     "execution_count": 289,
     "metadata": {},
     "output_type": "execute_result"
    }
   ],
   "source": [
    "data['Tenure'].describe()"
   ]
  },
  {
   "cell_type": "code",
   "execution_count": 290,
   "metadata": {},
   "outputs": [
    {
     "data": {
      "text/plain": [
       "<AxesSubplot:>"
      ]
     },
     "execution_count": 290,
     "metadata": {},
     "output_type": "execute_result"
    },
    {
     "data": {
      "image/png": "[encoded data removed]",
      "text/plain": [
       "<Figure size 432x288 with 1 Axes>"
      ]
     },
     "metadata": {
      "needs_background": "light"
     },
     "output_type": "display_data"
    }
   ],
   "source": [
    "data['Tenure'].hist()"
   ]
  },
  {
   "cell_type": "code",
   "execution_count": 291,
   "metadata": {},
   "outputs": [],
   "source": [
    "data = data.fillna(data['Tenure'].median())"
   ]
  },
  {
   "cell_type": "markdown",
   "metadata": {},
   "source": [
    "Tenure represents the number of years a person has been a customer of the bank. The maximum tenure is 10 years. On average, customers are served by the bank for approximately 5 years. Our dataset consists of 10,000 values. If we remove the missing values (909), we will lose 9% of our population, which seems quite significant. We would lose a substantial amount of information. I suggest replacing the missing values with the median. "
   ]
  },
  {
   "cell_type": "code",
   "execution_count": 292,
   "metadata": {},
   "outputs": [
    {
     "data": {
      "text/plain": [
       "<AxesSubplot:>"
      ]
     },
     "execution_count": 292,
     "metadata": {},
     "output_type": "execute_result"
    },
    {
     "data": {
      "image/png": "[encoded data removed]",
      "text/plain": [
       "<Figure size 432x288 with 1 Axes>"
      ]
     },
     "metadata": {
      "needs_background": "light"
     },
     "output_type": "display_data"
    }
   ],
   "source": [
    "data['Tenure'].hist()"
   ]
  },
  {
   "cell_type": "markdown",
   "metadata": {},
   "source": [
    "After replacing the missing values distribution characteristics did not  change significantly"
   ]
  },
  {
   "cell_type": "code",
   "execution_count": 293,
   "metadata": {},
   "outputs": [
    {
     "data": {
      "text/plain": [
       "0"
      ]
     },
     "execution_count": 293,
     "metadata": {},
     "output_type": "execute_result"
    }
   ],
   "source": [
    "#Do we have any duplicates?\n",
    "data.duplicated().sum()"
   ]
  },
  {
   "cell_type": "code",
   "execution_count": 294,
   "metadata": {},
   "outputs": [
    {
     "data": {
      "text/plain": [
       "0    7963\n",
       "1    2037\n",
       "Name: Exited, dtype: int64"
      ]
     },
     "execution_count": 294,
     "metadata": {},
     "output_type": "execute_result"
    }
   ],
   "source": [
    "#How many customers among them have left? 0 - customer stayed, 1 - customer left.\n",
    "data['Exited'].value_counts()"
   ]
  },
  {
   "cell_type": "code",
   "execution_count": 295,
   "metadata": {},
   "outputs": [
    {
     "data": {
      "text/plain": [
       "<AxesSubplot:>"
      ]
     },
     "execution_count": 295,
     "metadata": {},
     "output_type": "execute_result"
    },
    {
     "data": {
      "image/png": "[encoded data removed]",
      "text/plain": [
       "<Figure size 432x288 with 1 Axes>"
      ]
     },
     "metadata": {
      "needs_background": "light"
     },
     "output_type": "display_data"
    }
   ],
   "source": [
    "data['Exited'].hist()"
   ]
  },
  {
   "cell_type": "markdown",
   "metadata": {},
   "source": [
    "It is evident that our data is imbalanced. The number of customers who stayed is significantly higher than those who churned, which is expected. This fact should be taken into account when further training the model."
   ]
  },
  {
   "cell_type": "code",
   "execution_count": 296,
   "metadata": {},
   "outputs": [
    {
     "data": {
      "text/plain": [
       "Male      5457\n",
       "Female    4543\n",
       "Name: Gender, dtype: int64"
      ]
     },
     "execution_count": 296,
     "metadata": {},
     "output_type": "execute_result"
    }
   ],
   "source": [
    "#How many clients are male and female?\n",
    "data['Gender'].value_counts()"
   ]
  },
  {
   "cell_type": "code",
   "execution_count": 297,
   "metadata": {},
   "outputs": [
    {
     "data": {
      "text/plain": [
       "France     5014\n",
       "Germany    2509\n",
       "Spain      2477\n",
       "Name: Geography, dtype: int64"
      ]
     },
     "execution_count": 297,
     "metadata": {},
     "output_type": "execute_result"
    }
   ],
   "source": [
    "#Which countries are represented among the clients?\n",
    "data['Geography'].value_counts()"
   ]
  },
  {
   "cell_type": "code",
   "execution_count": 298,
   "metadata": {},
   "outputs": [],
   "source": [
    "#Let's remove the columns that we won't need in the future. These features do not have an impact on the target variable.\n",
    "data=data.drop(['RowNumber', 'CustomerId', 'Surname'], axis=1)"
   ]
  },
  {
   "cell_type": "code",
   "execution_count": 299,
   "metadata": {},
   "outputs": [
    {
     "name": "stdout",
     "output_type": "stream",
     "text": [
      "CreditScore          int64\n",
      "Geography           object\n",
      "Gender              object\n",
      "Age                  int64\n",
      "Tenure             float64\n",
      "Balance            float64\n",
      "NumOfProducts        int64\n",
      "HasCrCard            int64\n",
      "IsActiveMember       int64\n",
      "EstimatedSalary    float64\n",
      "Exited               int64\n",
      "dtype: object\n"
     ]
    }
   ],
   "source": [
    "print(data.dtypes)"
   ]
  },
  {
   "cell_type": "markdown",
   "metadata": {},
   "source": [
    "The columns Surname, Geography, and Gender contain categorical data. We will convert these categorical features into numerical using the One-Hot Encoding (OHE) technique to avoid the dummy variable trap.\n"
   ]
  },
  {
   "cell_type": "code",
   "execution_count": 300,
   "metadata": {},
   "outputs": [],
   "source": [
    "data_ohe=pd.get_dummies(data, drop_first=True)"
   ]
  },
  {
   "cell_type": "code",
   "execution_count": 301,
   "metadata": {},
   "outputs": [],
   "source": [
    "target=data_ohe['Exited']\n",
    "features=data_ohe.drop(['Exited'], axis=1)\n"
   ]
  },
  {
   "cell_type": "markdown",
   "metadata": {},
   "source": [
    "We will split the data into training, validation, and test sets in a ratio of 3:1:1. The training set will contain 60% of the data, the validation set will contain 20%, and the test set will contain 20%."
   ]
  },
  {
   "cell_type": "markdown",
   "metadata": {},
   "source": [
    "Split the data into training and validation sets"
   ]
  },
  {
   "cell_type": "markdown",
   "metadata": {},
   "source": [
    "Let's assign the value of the random state to a constant variable."
   ]
  },
  {
   "cell_type": "code",
   "execution_count": 302,
   "metadata": {},
   "outputs": [],
   "source": [
    "RANDOM_STATE = 12345"
   ]
  },
  {
   "cell_type": "code",
   "execution_count": 303,
   "metadata": {},
   "outputs": [],
   "source": [
    "features_train, features_valid, target_train, target_valid=train_test_split(features, target, test_size=0.4, random_state=RANDOM_STATE, stratify=target)"
   ]
  },
  {
   "cell_type": "markdown",
   "metadata": {},
   "source": [
    " Split the validation set further into validation and testing sets"
   ]
  },
  {
   "cell_type": "code",
   "execution_count": 304,
   "metadata": {},
   "outputs": [],
   "source": [
    "features_valid, features_test, target_valid, target_test=train_test_split (features_valid, target_valid, test_size=0.5, random_state=RANDOM_STATE, stratify=target_valid)"
   ]
  },
  {
   "cell_type": "code",
   "execution_count": 305,
   "metadata": {},
   "outputs": [
    {
     "name": "stdout",
     "output_type": "stream",
     "text": [
      "(6000, 11)\n",
      "(2000, 11)\n",
      "(2000, 11)\n"
     ]
    }
   ],
   "source": [
    "print(features_train.shape)\n",
    "print(features_valid.shape)\n",
    "print(features_test.shape)"
   ]
  },
  {
   "cell_type": "markdown",
   "metadata": {},
   "source": [
    "Let's scale the numerical features to the same scale, ecept for binary features to maintain their original values and interpretation."
   ]
  },
  {
   "cell_type": "code",
   "execution_count": 306,
   "metadata": {},
   "outputs": [],
   "source": [
    "numeric=['CreditScore','Age', 'Tenure','Balance','NumOfProducts', 'EstimatedSalary']"
   ]
  },
  {
   "cell_type": "code",
   "execution_count": 307,
   "metadata": {},
   "outputs": [
    {
     "name": "stdout",
     "output_type": "stream",
     "text": [
      "(6000, 11)\n",
      "(2000, 11)\n",
      "(2000, 11)\n"
     ]
    }
   ],
   "source": [
    "pd.options.mode.chained_assignment = None\n",
    "scaler = StandardScaler()\n",
    "scaler.fit(features_train[numeric])\n",
    "features_train[numeric]=scaler.transform(features_train[numeric])\n",
    "features_valid[numeric]=scaler.transform(features_valid[numeric])\n",
    "features_test[numeric]=scaler.transform(features_test[numeric])\n",
    "\n",
    "print(features_train.shape)\n",
    "print(features_valid.shape)\n",
    "print(features_test.shape)"
   ]
  },
  {
   "cell_type": "markdown",
   "metadata": {},
   "source": [
    "## Research of the task"
   ]
  },
  {
   "cell_type": "markdown",
   "metadata": {},
   "source": [
    "Our target feature is categorical with two categories: 1 (customer churned) and 0 (customer stayed). This means we are dealing with a binary classification problem, and three suitable models for this task are DecisionTreeClassifier, RandomForestClassifier, and LogisticRegression. To calculate the class frequencies, we can use the value_counts function. "
   ]
  },
  {
   "cell_type": "code",
   "execution_count": 308,
   "metadata": {},
   "outputs": [
    {
     "data": {
      "text/html": [
       "<div>\n",
       "<style scoped>\n",
       "    .dataframe tbody tr th:only-of-type {\n",
       "        vertical-align: middle;\n",
       "    }\n",
       "\n",
       "    .dataframe tbody tr th {\n",
       "        vertical-align: top;\n",
       "    }\n",
       "\n",
       "    .dataframe thead th {\n",
       "        text-align: right;\n",
       "    }\n",
       "</style>\n",
       "<table border=\"1\" class=\"dataframe\">\n",
       "  <thead>\n",
       "    <tr style=\"text-align: right;\">\n",
       "      <th></th>\n",
       "      <th>Model</th>\n",
       "      <th>Balancing Method</th>\n",
       "      <th>Hyperparameters</th>\n",
       "      <th>F1 Score</th>\n",
       "      <th>ROC-AUC</th>\n",
       "    </tr>\n",
       "  </thead>\n",
       "  <tbody>\n",
       "  </tbody>\n",
       "</table>\n",
       "</div>"
      ],
      "text/plain": [
       "Empty DataFrame\n",
       "Columns: [Model, Balancing Method, Hyperparameters, F1 Score, ROC-AUC]\n",
       "Index: []"
      ]
     },
     "execution_count": 308,
     "metadata": {},
     "output_type": "execute_result"
    }
   ],
   "source": [
    "results = pd.DataFrame(columns=['Model', 'Balancing Method', 'Hyperparameters', 'F1 Score', 'ROC-AUC'])\n",
    "\n",
    "def add_result(model, balancing_method, hyperparameters, f1_score, roc_auc):\n",
    "    global results\n",
    "    model_name = type(model).__name__\n",
    "    hyperparams = model.get_params()\n",
    "    result = pd.DataFrame([[model_name, balancing_method, hyperparameters, f1_score, roc_auc]],\n",
    "                          columns=['Model', 'Balancing Method', 'Hyperparameters', 'F1 Score', 'ROC-AUC'])\n",
    "    results = pd.concat([results, result], ignore_index=True)\n",
    "results.head()"
   ]
  },
  {
   "cell_type": "code",
   "execution_count": 309,
   "metadata": {},
   "outputs": [],
   "source": [
    "hyperparameters = {}\n",
    "if 'max_depth' in model.get_params():\n",
    "    hyperparameters['max_depth'] = model.get_params()['max_depth']\n",
    "if 'n_estimators' in model.get_params():\n",
    "    hyperparameters['n_estimators'] = model.get_params()['n_estimators']"
   ]
  },
  {
   "cell_type": "markdown",
   "metadata": {},
   "source": [
    "### DecisionTreeClassifier"
   ]
  },
  {
   "cell_type": "code",
   "execution_count": 310,
   "metadata": {},
   "outputs": [
    {
     "name": "stdout",
     "output_type": "stream",
     "text": [
      "Accuracy= 0.793\n",
      "F1 score= 0.5035971223021583\n",
      "Confusion matrix:\n",
      "[[1376  216]\n",
      " [ 198  210]]\n",
      "Class frequency:\n",
      "0    0.787\n",
      "1    0.213\n",
      "dtype: float64\n"
     ]
    },
    {
     "data": {
      "text/plain": [
       "<AxesSubplot:>"
      ]
     },
     "execution_count": 310,
     "metadata": {},
     "output_type": "execute_result"
    },
    {
     "data": {
      "image/png": "[encoded data removed]",
      "text/plain": [
       "<Figure size 432x288 with 1 Axes>"
      ]
     },
     "metadata": {
      "needs_background": "light"
     },
     "output_type": "display_data"
    }
   ],
   "source": [
    "model=DecisionTreeClassifier(random_state=RANDOM_STATE)\n",
    "model.fit(features_train, target_train)\n",
    "predicted_valid=pd.Series(model.predict(features_valid))\n",
    "accuracy_valid=accuracy_score(predicted_valid, target_valid)\n",
    "class_frequency=predicted_valid.value_counts(normalize=True)\n",
    "\n",
    "print('Accuracy=',accuracy_valid)\n",
    "print('F1 score=',f1_score(predicted_valid, target_valid) )\n",
    "print('Confusion matrix:')\n",
    "print(confusion_matrix(target_valid, predicted_valid))\n",
    "print('Class frequency:')\n",
    "print(class_frequency)\n",
    "class_frequency.plot(kind='bar')"
   ]
  },
  {
   "cell_type": "markdown",
   "metadata": {},
   "source": [
    "Let's explore the model with different hyperparameters"
   ]
  },
  {
   "cell_type": "code",
   "execution_count": 311,
   "metadata": {},
   "outputs": [
    {
     "name": "stdout",
     "output_type": "stream",
     "text": [
      "max_depth= 1 :F1 score= 0.0\n",
      "max_depth= 2 :F1 score= 0.52\n",
      "max_depth= 3 :F1 score= 0.54\n",
      "max_depth= 4 :F1 score= 0.52\n",
      "max_depth= 5 :F1 score= 0.55\n",
      "max_depth= 6 :F1 score= 0.58\n",
      "max_depth= 7 :F1 score= 0.59\n",
      "max_depth= 8 :F1 score= 0.56\n",
      "max_depth= 9 :F1 score= 0.55\n",
      "max_depth= 10 :F1 score= 0.54\n",
      "max_depth= 11 :F1 score= 0.54\n",
      "max_depth= 12 :F1 score= 0.55\n",
      "max_depth= 13 :F1 score= 0.54\n",
      "max_depth= 14 :F1 score= 0.5\n"
     ]
    }
   ],
   "source": [
    "for depth in range (1,15):\n",
    "    model=DecisionTreeClassifier(random_state=RANDOM_STATE, max_depth=depth)\n",
    "    model.fit(features_train, target_train)\n",
    "    predictions_valid=model.predict(features_valid)\n",
    "    print ('max_depth=', depth, ':', end='')\n",
    "    print('F1 score=',round(f1_score(target_valid, predictions_valid),2))"
   ]
  },
  {
   "cell_type": "markdown",
   "metadata": {},
   "source": [
    "The highest F1 score and accuracy are observed when the tree depth is 9 (F1=0.56)."
   ]
  },
  {
   "cell_type": "code",
   "execution_count": 312,
   "metadata": {},
   "outputs": [
    {
     "name": "stdout",
     "output_type": "stream",
     "text": [
      "F1 score= 0.55 AUC_ROC= 0.7977656357769239\n"
     ]
    }
   ],
   "source": [
    "model=DecisionTreeClassifier(random_state=RANDOM_STATE, max_depth=9)\n",
    "model.fit(features_train, target_train)\n",
    "predictions_valid=model.predict(features_valid)\n",
    "probabilities_valid=model.predict_proba(features_valid)\n",
    "probabilities_one_valid=probabilities_valid[:,1]\n",
    "fpr, tpr, thresholds=roc_curve(target_valid, probabilities_one_valid)\n",
    "auc_roc=roc_auc_score(target_valid, probabilities_one_valid)\n",
    "f1=round(f1_score(target_valid, predictions_valid),2)\n",
    "print('F1 score=',round(f1_score(target_valid, predictions_valid),2), 'AUC_ROC=', auc_roc)"
   ]
  },
  {
   "cell_type": "markdown",
   "metadata": {},
   "source": [
    "after hyperparameter tuning and before addressing the class imbalance, the DecisionTreeClassifier model achieves an F1 score of 0.56 and an AUC-ROC score of 0.78."
   ]
  },
  {
   "cell_type": "code",
   "execution_count": 313,
   "metadata": {},
   "outputs": [],
   "source": [
    "hyperparameters = {}\n",
    "if 'max_depth' in model.get_params():\n",
    "    hyperparameters['max_depth'] = model.get_params()['max_depth']\n",
    "if 'n_estimators' in model.get_params():\n",
    "    hyperparameters['n_estimators'] = model.get_params()['n_estimators']"
   ]
  },
  {
   "cell_type": "code",
   "execution_count": 314,
   "metadata": {},
   "outputs": [],
   "source": [
    "add_result(model, 'None', hyperparameters=hyperparameters, f1_score=f1, roc_auc=auc_roc)"
   ]
  },
  {
   "cell_type": "markdown",
   "metadata": {},
   "source": [
    "### RandomForestClassifier"
   ]
  },
  {
   "cell_type": "code",
   "execution_count": 315,
   "metadata": {},
   "outputs": [
    {
     "name": "stdout",
     "output_type": "stream",
     "text": [
      "Accuracy= 0.793\n",
      "F1 score= 0.6126656848306332\n",
      "Confusion matrix:\n",
      "[[1529   63]\n",
      " [ 200  208]]\n",
      "Class frequency:\n",
      "0    0.8645\n",
      "1    0.1355\n",
      "dtype: float64\n"
     ]
    },
    {
     "data": {
      "text/plain": [
       "<AxesSubplot:>"
      ]
     },
     "execution_count": 315,
     "metadata": {},
     "output_type": "execute_result"
    },
    {
     "data": {
      "image/png": "[encoded data removed]",
      "text/plain": [
       "<Figure size 432x288 with 1 Axes>"
      ]
     },
     "metadata": {
      "needs_background": "light"
     },
     "output_type": "display_data"
    }
   ],
   "source": [
    "model=RandomForestClassifier(random_state=12345)\n",
    "model.fit(features_train, target_train)\n",
    "predicted_valid=pd.Series(model.predict(features_valid))\n",
    "class_frequency=predicted_valid.value_counts(normalize=True)\n",
    "print('Accuracy=',accuracy_valid)\n",
    "print('F1 score=',f1_score(predicted_valid, target_valid) )\n",
    "print('Confusion matrix:')\n",
    "print(confusion_matrix(target_valid, predicted_valid))\n",
    "print('Class frequency:')\n",
    "print(class_frequency)\n",
    "class_frequency.plot(kind='bar')"
   ]
  },
  {
   "cell_type": "markdown",
   "metadata": {},
   "source": [
    "Let's explore the model with different hyperparameters."
   ]
  },
  {
   "cell_type": "code",
   "execution_count": 316,
   "metadata": {},
   "outputs": [
    {
     "name": "stdout",
     "output_type": "stream",
     "text": [
      "The F1 score of the best model on the validation dataset: 0.4999999999999999\n",
      "The F1 score of the best model on the validation dataset: 0.5865921787709497\n",
      "The F1 score of the best model on the validation dataset: 0.6078147612156295\n",
      "The F1 score of the best model on the validation dataset: 0.6078147612156295\n",
      "The F1 score of the best model on the validation dataset: 0.6078147612156295\n"
     ]
    }
   ],
   "source": [
    "best_model=None\n",
    "best_result=0\n",
    "for est in range(1,50,10):\n",
    "    model=RandomForestClassifier (random_state=RANDOM_STATE, n_estimators=est)\n",
    "    model.fit(features_train, target_train)\n",
    "    predictions_valid=model.predict(features_valid)\n",
    "    result=f1_score(predictions_valid, target_valid)\n",
    "    if result>best_result:\n",
    "        best_model=model\n",
    "        best_result=result\n",
    "    print('The F1 score of the best model on the validation dataset:', best_result)    "
   ]
  },
  {
   "cell_type": "markdown",
   "metadata": {},
   "source": [
    "The highest F1 score is achieved when the number of trees is 30."
   ]
  },
  {
   "cell_type": "code",
   "execution_count": 317,
   "metadata": {},
   "outputs": [
    {
     "name": "stdout",
     "output_type": "stream",
     "text": [
      "F1 score= 0.61 AUC_ROC= 0.8526109407330771\n"
     ]
    }
   ],
   "source": [
    "model=RandomForestClassifier(random_state=RANDOM_STATE, n_estimators=30)\n",
    "model.fit(features_train, target_train)\n",
    "predictions_valid=model.predict(features_valid)\n",
    "probabilities_valid=model.predict_proba(features_valid)\n",
    "probabilities_one_valid=probabilities_valid[:,1]\n",
    "fpr, tpr, thresholds=roc_curve(target_valid, probabilities_one_valid)\n",
    "auc_roc=roc_auc_score(target_valid, probabilities_one_valid)\n",
    "f1=round(f1_score(target_valid, predictions_valid),2)\n",
    "print('F1 score=',round(f1_score(target_valid, predictions_valid),2), 'AUC_ROC=', auc_roc)"
   ]
  },
  {
   "cell_type": "markdown",
   "metadata": {},
   "source": [
    "After hyperparameter tuning and before addressing the class imbalance, the RandomForestClassifier model achieves an F1 score of 0.57 and an AUC-ROC score of 0.83."
   ]
  },
  {
   "cell_type": "code",
   "execution_count": 318,
   "metadata": {},
   "outputs": [],
   "source": [
    "hyperparameters = {}\n",
    "if 'max_depth' in model.get_params():\n",
    "    hyperparameters['max_depth'] = best_model.get_params()['max_depth']\n",
    "if 'n_estimators' in model.get_params():\n",
    "    hyperparameters['n_estimators'] = best_model.get_params()['n_estimators']"
   ]
  },
  {
   "cell_type": "code",
   "execution_count": 319,
   "metadata": {},
   "outputs": [],
   "source": [
    "add_result(model, 'None', hyperparameters=hyperparameters, f1_score=f1, roc_auc=auc_roc)"
   ]
  },
  {
   "cell_type": "markdown",
   "metadata": {},
   "source": [
    "### LogisticRegression"
   ]
  },
  {
   "cell_type": "code",
   "execution_count": 320,
   "metadata": {},
   "outputs": [
    {
     "name": "stdout",
     "output_type": "stream",
     "text": [
      "Accuracy= 0.811\n",
      "F1 score= 0.3076923076923077\n",
      "Confusion matrix:\n",
      "[[1538   54]\n",
      " [ 324   84]]\n",
      "Class frequency:\n",
      "0    0.931\n",
      "1    0.069\n",
      "dtype: float64\n"
     ]
    },
    {
     "data": {
      "text/plain": [
       "<AxesSubplot:>"
      ]
     },
     "execution_count": 320,
     "metadata": {},
     "output_type": "execute_result"
    },
    {
     "data": {
      "image/png": "[encoded data removed]",
      "text/plain": [
       "<Figure size 432x288 with 1 Axes>"
      ]
     },
     "metadata": {
      "needs_background": "light"
     },
     "output_type": "display_data"
    }
   ],
   "source": [
    "model=LogisticRegression(solver='liblinear', random_state=12345)\n",
    "model.fit(features_train, target_train)\n",
    "predicted_valid=pd.Series(model.predict(features_valid))\n",
    "accuracy_valid=accuracy_score(predicted_valid, target_valid)\n",
    "class_frequency=predicted_valid.value_counts(normalize=True)\n",
    "\n",
    "print('Accuracy=',accuracy_valid)\n",
    "print('F1 score=',f1_score(predicted_valid, target_valid) )\n",
    "print('Confusion matrix:')\n",
    "print(confusion_matrix(target_valid, predicted_valid))\n",
    "print('Class frequency:')\n",
    "print(class_frequency)\n",
    "class_frequency.plot(kind='bar')"
   ]
  },
  {
   "cell_type": "code",
   "execution_count": 321,
   "metadata": {},
   "outputs": [
    {
     "name": "stdout",
     "output_type": "stream",
     "text": [
      "F1 score= 0.31 AUC_ROC= 0.7875052345058627\n"
     ]
    }
   ],
   "source": [
    "model=LogisticRegression(solver='liblinear', random_state=12345)\n",
    "model.fit(features_train, target_train)\n",
    "predictions_valid=model.predict(features_valid)\n",
    "probabilities_valid=model.predict_proba(features_valid)\n",
    "probabilities_one_valid=probabilities_valid[:,1]\n",
    "fpr, tpr, thresholds=roc_curve(target_valid, probabilities_one_valid)\n",
    "auc_roc=roc_auc_score(target_valid, probabilities_one_valid)\n",
    "print('F1 score=',round(f1_score(target_valid, predictions_valid),2), 'AUC_ROC=', auc_roc)"
   ]
  },
  {
   "cell_type": "code",
   "execution_count": 322,
   "metadata": {},
   "outputs": [],
   "source": [
    "hyperparameters = {}\n",
    "if 'max_depth' in model.get_params():\n",
    "    hyperparameters['max_depth'] = model.get_params()['max_depth']\n",
    "if 'n_estimators' in model.get_params():\n",
    "    hyperparameters['n_estimators'] = model.get_params()['n_estimators']"
   ]
  },
  {
   "cell_type": "code",
   "execution_count": 323,
   "metadata": {},
   "outputs": [],
   "source": [
    "add_result(model, 'None', hyperparameters=hyperparameters, f1_score=f1, roc_auc=auc_roc)"
   ]
  },
  {
   "cell_type": "markdown",
   "metadata": {},
   "source": [
    "The best result in terms of F1 score and AUC-ROC before addressing the class imbalance is obtained by the RandomForestClassifier model."
   ]
  },
  {
   "cell_type": "markdown",
   "metadata": {},
   "source": [
    "We can observe class imbalance on the graphs, which is logical since the number of churned customers is smaller compared to the number of customers who stayed. Let's work on addressing the class imbalance to improve our metrics."
   ]
  },
  {
   "cell_type": "markdown",
   "metadata": {},
   "source": [
    "## Tactics to Combat Imbalanced Training Data"
   ]
  },
  {
   "cell_type": "markdown",
   "metadata": {},
   "source": [
    "We will address the class imbalance using methods such as class weighting in logistic regression, upsampling, downsampling, and adjusting the classification threshold."
   ]
  },
  {
   "cell_type": "markdown",
   "metadata": {},
   "source": [
    "### DecisionTreeClassifier Upsampling"
   ]
  },
  {
   "cell_type": "code",
   "execution_count": 324,
   "metadata": {},
   "outputs": [
    {
     "name": "stdout",
     "output_type": "stream",
     "text": [
      "1    0.50569\n",
      "0    0.49431\n",
      "dtype: float64\n",
      "F1 score= 0.53 AUC_ROC= 0.701639324071337\n"
     ]
    },
    {
     "data": {
      "image/png": "[encoded data removed]",
      "text/plain": [
       "<Figure size 432x288 with 1 Axes>"
      ]
     },
     "metadata": {
      "needs_background": "light"
     },
     "output_type": "display_data"
    }
   ],
   "source": [
    "def upsample (features, target, repeat):\n",
    "    features_zeros=features[target==0]\n",
    "    features_ones=features[target==1]\n",
    "    target_zeros=target[target==0]\n",
    "    target_ones=target[target==1]\n",
    "    \n",
    "    features_upsampled=pd.concat([features_zeros]+[features_ones]*repeat)\n",
    "    target_upsampled=pd.concat([target_zeros]+[target_ones]*repeat)\n",
    "    \n",
    "    features_upsampled, target_upsampled=shuffle(features_upsampled, target_upsampled, random_state=12345)\n",
    "    \n",
    "    return features_upsampled, target_upsampled\n",
    "\n",
    "features_upsampled, target_upsampled = upsample(features_train, target_train, 4)\n",
    "\n",
    "model=DecisionTreeClassifier(random_state=12345)\n",
    "model.fit(features_upsampled, target_upsampled)\n",
    "\n",
    "predicted_upsampled=pd.Series(model.predict(features_upsampled))\n",
    "class_frequency_upsampled=predicted_upsampled.value_counts(normalize=True)\n",
    "print(class_frequency_upsampled)\n",
    "class_frequency_upsampled.plot(kind='bar')\n",
    "\n",
    "probabilities_valid=model.predict_proba(features_valid)\n",
    "probabilities_one_valid=probabilities_valid[:,1]\n",
    "fpr, tpr, thresholds=roc_curve(target_valid, probabilities_one_valid)\n",
    "\n",
    "auc_roc=roc_auc_score(target_valid, probabilities_one_valid)\n",
    "predicted_valid=model.predict(features_valid)\n",
    "print('F1 score=',round(f1_score(target_valid, predicted_valid),2), 'AUC_ROC=', auc_roc)\n",
    "\n"
   ]
  },
  {
   "cell_type": "code",
   "execution_count": 325,
   "metadata": {},
   "outputs": [
    {
     "name": "stdout",
     "output_type": "stream",
     "text": [
      "max_depth= 1 :F1 score= 0.48\n",
      "max_depth= 2 :F1 score= 0.5\n",
      "max_depth= 3 :F1 score= 0.5\n",
      "max_depth= 4 :F1 score= 0.56\n",
      "max_depth= 5 :F1 score= 0.55\n",
      "max_depth= 6 :F1 score= 0.58\n",
      "max_depth= 7 :F1 score= 0.57\n",
      "max_depth= 8 :F1 score= 0.55\n",
      "max_depth= 9 :F1 score= 0.54\n",
      "max_depth= 10 :F1 score= 0.54\n",
      "max_depth= 11 :F1 score= 0.53\n",
      "max_depth= 12 :F1 score= 0.51\n",
      "max_depth= 13 :F1 score= 0.52\n",
      "max_depth= 14 :F1 score= 0.53\n"
     ]
    }
   ],
   "source": [
    "for depth in range (1,15):\n",
    "    model=DecisionTreeClassifier(random_state=12345, max_depth=depth)\n",
    "    model.fit(features_upsampled, target_upsampled)\n",
    "    predictions_valid=model.predict(features_valid)\n",
    "    print ('max_depth=', depth, ':', end='')\n",
    "    print('F1 score=',round(f1_score(target_valid, predictions_valid),2))"
   ]
  },
  {
   "cell_type": "code",
   "execution_count": 326,
   "metadata": {},
   "outputs": [
    {
     "name": "stdout",
     "output_type": "stream",
     "text": [
      "F1 score= 0.58\n"
     ]
    }
   ],
   "source": [
    "model=DecisionTreeClassifier(random_state=12345, max_depth=6)\n",
    "model.fit(features_upsampled, target_upsampled)\n",
    "predictions_valid=model.predict(features_valid)\n",
    "print('F1 score=',round(f1_score(target_valid, predictions_valid),2))"
   ]
  },
  {
   "cell_type": "code",
   "execution_count": 327,
   "metadata": {},
   "outputs": [],
   "source": [
    "hyperparameters = {}\n",
    "if 'max_depth' in model.get_params():\n",
    "    hyperparameters['max_depth'] = model.get_params()['max_depth']\n",
    "if 'n_estimators' in model.get_params():\n",
    "    hyperparameters['n_estimators'] = model.get_params()['n_estimators']"
   ]
  },
  {
   "cell_type": "code",
   "execution_count": 328,
   "metadata": {},
   "outputs": [],
   "source": [
    "add_result(model, 'Upsampled', hyperparameters=hyperparameters, f1_score=f1, roc_auc=auc_roc)"
   ]
  },
  {
   "cell_type": "markdown",
   "metadata": {},
   "source": [
    "### DecisionTreeClassifier Downsampling"
   ]
  },
  {
   "cell_type": "code",
   "execution_count": 329,
   "metadata": {},
   "outputs": [
    {
     "name": "stdout",
     "output_type": "stream",
     "text": [
      "1    0.505795\n",
      "0    0.494205\n",
      "dtype: float64\n",
      "F1 score= 0.53 AUC_ROC= 0.7048600847374126\n"
     ]
    },
    {
     "data": {
      "image/png": "[encoded data removed]",
      "text/plain": [
       "<Figure size 432x288 with 1 Axes>"
      ]
     },
     "metadata": {
      "needs_background": "light"
     },
     "output_type": "display_data"
    }
   ],
   "source": [
    "def downsample (features, target, fraction):\n",
    "    features_zeros=features[target==0]\n",
    "    features_ones=features[target==1]\n",
    "    target_zeros=target[target==0]\n",
    "    target_ones=target[target==1]\n",
    "    \n",
    "    features_downsampled=pd.concat([features_zeros.sample(frac=fraction, random_state=12345)]+[features_ones])\n",
    "    target_downsampled=pd.concat([target_zeros.sample(frac=fraction, random_state=12345)]+[target_ones])\n",
    "    \n",
    "    features_downsampled, target_downsampled=shuffle(features_downsampled, target_downsampled, random_state=12345)\n",
    "    \n",
    "    return features_downsampled, target_downsampled\n",
    "\n",
    "features_downsampled, target_downsampled = downsample(features_train, target_train, 0.25)\n",
    "\n",
    "\n",
    "model=DecisionTreeClassifier(random_state=12345, max_depth=30)\n",
    "model.fit(features_downsampled, target_downsampled)\n",
    "predicted_downsampled=pd.Series(model.predict(features_downsampled))\n",
    "class_frequency=predicted_downsampled.value_counts(normalize=True)\n",
    "print(class_frequency)\n",
    "class_frequency.plot(kind='bar')\n",
    "\n",
    "probabilities_valid=model.predict_proba(features_valid)\n",
    "probabilities_one_valid=probabilities_valid[:,1]\n",
    "fpr, tpr, thresholds=roc_curve(target_valid, probabilities_one_valid)\n",
    "auc_roc=roc_auc_score(target_valid, probabilities_one_valid)\n",
    "predictions_valid=model.predict(features_valid)\n",
    "print('F1 score=',round(f1_score(target_valid, predicted_valid),2), 'AUC_ROC=', auc_roc)\n",
    "\n",
    "\n"
   ]
  },
  {
   "cell_type": "code",
   "execution_count": 330,
   "metadata": {},
   "outputs": [
    {
     "name": "stdout",
     "output_type": "stream",
     "text": [
      "max_depth= 1 :F1 score= 0.48\n",
      "max_depth= 2 :F1 score= 0.5\n",
      "max_depth= 3 :F1 score= 0.5\n",
      "max_depth= 4 :F1 score= 0.56\n",
      "max_depth= 5 :F1 score= 0.56\n",
      "max_depth= 6 :F1 score= 0.59\n",
      "max_depth= 7 :F1 score= 0.58\n",
      "max_depth= 8 :F1 score= 0.57\n",
      "max_depth= 9 :F1 score= 0.58\n",
      "max_depth= 10 :F1 score= 0.57\n",
      "max_depth= 11 :F1 score= 0.54\n",
      "max_depth= 12 :F1 score= 0.54\n",
      "max_depth= 13 :F1 score= 0.53\n",
      "max_depth= 14 :F1 score= 0.52\n"
     ]
    }
   ],
   "source": [
    "for depth in range (1,15):\n",
    "    model=DecisionTreeClassifier(random_state=12345, max_depth=depth)\n",
    "    model.fit(features_downsampled, target_downsampled)\n",
    "    predictions_valid=model.predict(features_valid)\n",
    "    print ('max_depth=', depth, ':', end='')\n",
    "    print('F1 score=',round(f1_score(target_valid, predictions_valid),2))"
   ]
  },
  {
   "cell_type": "code",
   "execution_count": 331,
   "metadata": {},
   "outputs": [
    {
     "name": "stdout",
     "output_type": "stream",
     "text": [
      "F1 score= 0.56\n"
     ]
    }
   ],
   "source": [
    "model=DecisionTreeClassifier(random_state=12345, max_depth=5)\n",
    "model.fit(features_downsampled, target_downsampled)\n",
    "predictions_valid=model.predict(features_valid)\n",
    "f1=round(f1_score(target_valid, predictions_valid),2)\n",
    "print('F1 score=',round(f1_score(target_valid, predictions_valid),2))"
   ]
  },
  {
   "cell_type": "code",
   "execution_count": 332,
   "metadata": {},
   "outputs": [],
   "source": [
    "hyperparameters = {}\n",
    "if 'max_depth' in model.get_params():\n",
    "    hyperparameters['max_depth'] = model.get_params()['max_depth']\n",
    "if 'n_estimators' in model.get_params():\n",
    "    hyperparameters['n_estimators'] = model.get_params()['n_estimators']"
   ]
  },
  {
   "cell_type": "code",
   "execution_count": 333,
   "metadata": {},
   "outputs": [],
   "source": [
    "add_result(model, 'Downsampled', hyperparameters=hyperparameters, f1_score=f1, roc_auc=auc_roc)"
   ]
  },
  {
   "cell_type": "markdown",
   "metadata": {},
   "source": [
    "### RandomForestClassifier Upsampling"
   ]
  },
  {
   "cell_type": "code",
   "execution_count": 334,
   "metadata": {},
   "outputs": [
    {
     "name": "stdout",
     "output_type": "stream",
     "text": [
      "F1 score= 0.62 AUC_ROC= 0.8520813319046212\n"
     ]
    }
   ],
   "source": [
    "\n",
    "model=RandomForestClassifier(random_state=12345, n_estimators=20)\n",
    "model.fit(features_upsampled, target_upsampled)\n",
    "predicted_valid=model.predict(features_valid)\n",
    "\n",
    "probabilities_valid=model.predict_proba(features_valid)\n",
    "probabilities_one_valid=probabilities_valid[:,1]\n",
    "fpr, tpr, thresholds=roc_curve(target_valid, probabilities_one_valid)\n",
    "auc_roc=roc_auc_score(target_valid, probabilities_one_valid)\n",
    "print('F1 score=',round(f1_score(target_valid, predicted_valid),2), 'AUC_ROC=', auc_roc)\n",
    "\n"
   ]
  },
  {
   "cell_type": "markdown",
   "metadata": {},
   "source": [
    "Let's try to find the best parameters for the balanced model"
   ]
  },
  {
   "cell_type": "code",
   "execution_count": 335,
   "metadata": {},
   "outputs": [
    {
     "name": "stdout",
     "output_type": "stream",
     "text": [
      "The F1 score of the best model on the validation dataset: 0.5085106382978722\n",
      "The F1 score of the best model on the validation dataset: 0.6218274111675127\n",
      "The F1 score of the best model on the validation dataset: 0.6218274111675127\n",
      "The F1 score of the best model on the validation dataset: 0.6292428198433421\n",
      "The F1 score of the best model on the validation dataset: 0.6292428198433421\n",
      "The F1 score of the best model on the validation dataset: 0.6292428198433421\n"
     ]
    }
   ],
   "source": [
    "best_model=None\n",
    "best_result=0\n",
    "for est in range(1,60,10):\n",
    "    model=RandomForestClassifier (random_state=12345, n_estimators=est)\n",
    "    model.fit(features_upsampled, target_upsampled)\n",
    "    predictions_valid=model.predict(features_valid)\n",
    "    result=f1_score(predictions_valid, target_valid)\n",
    "    if result>best_result:\n",
    "        best_model=model\n",
    "        best_result=result\n",
    "    print('The F1 score of the best model on the validation dataset:', best_result)    "
   ]
  },
  {
   "cell_type": "code",
   "execution_count": 336,
   "metadata": {},
   "outputs": [],
   "source": [
    "hyperparameters = {}\n",
    "if 'max_depth' in model.get_params():\n",
    "    hyperparameters['max_depth'] = best_model.get_params()['max_depth']\n",
    "if 'n_estimators' in model.get_params():\n",
    "    hyperparameters['n_estimators'] = best_model.get_params()['n_estimators']"
   ]
  },
  {
   "cell_type": "code",
   "execution_count": 337,
   "metadata": {},
   "outputs": [],
   "source": [
    "add_result(model, 'Upsampled', hyperparameters=hyperparameters, f1_score=best_result, roc_auc=auc_roc)"
   ]
  },
  {
   "cell_type": "code",
   "execution_count": null,
   "metadata": {},
   "outputs": [],
   "source": []
  },
  {
   "cell_type": "markdown",
   "metadata": {},
   "source": [
    "### RandomForestClassifier Downsampling"
   ]
  },
  {
   "cell_type": "code",
   "execution_count": 338,
   "metadata": {},
   "outputs": [
    {
     "name": "stdout",
     "output_type": "stream",
     "text": [
      "F1 score= 0.6 AUC_ROC= 0.8459315572962853\n"
     ]
    }
   ],
   "source": [
    "\n",
    "model=RandomForestClassifier(random_state=12345, n_estimators=20)\n",
    "model.fit(features_downsampled, target_downsampled)\n",
    "predicted_valid=model.predict(features_valid)\n",
    "\n",
    "probabilities_valid=model.predict_proba(features_valid)\n",
    "probabilities_one_valid=probabilities_valid[:,1]\n",
    "fpr, tpr, thresholds=roc_curve(target_valid, probabilities_one_valid)\n",
    "auc_roc=roc_auc_score(target_valid, probabilities_one_valid)\n",
    "print('F1 score=',round(f1_score(target_valid, predicted_valid),2), 'AUC_ROC=', auc_roc)\n",
    "\n",
    "\n"
   ]
  },
  {
   "cell_type": "code",
   "execution_count": 339,
   "metadata": {},
   "outputs": [
    {
     "name": "stdout",
     "output_type": "stream",
     "text": [
      "The F1 score of the best model on the validation dataset: 0.4739413680781759\n",
      "The F1 score of the best model on the validation dataset: 0.567219152854512\n",
      "The F1 score of the best model on the validation dataset: 0.5926622765757291\n",
      "The F1 score of the best model on the validation dataset: 0.5926622765757291\n",
      "The F1 score of the best model on the validation dataset: 0.5949485500467726\n",
      "The F1 score of the best model on the validation dataset: 0.5949485500467726\n"
     ]
    }
   ],
   "source": [
    "best_model=None\n",
    "best_result=0\n",
    "for est in range(1,60,10):\n",
    "    model=RandomForestClassifier (random_state=12345, n_estimators=est)\n",
    "    model.fit(features_downsampled, target_downsampled)\n",
    "    predictions_valid=model.predict(features_valid)\n",
    "    result=f1_score(predictions_valid, target_valid)\n",
    "    if result>best_result:\n",
    "        best_model=model\n",
    "        best_result=result\n",
    "    print('The F1 score of the best model on the validation dataset:', best_result)    "
   ]
  },
  {
   "cell_type": "code",
   "execution_count": 340,
   "metadata": {},
   "outputs": [],
   "source": [
    "hyperparameters = {}\n",
    "if 'max_depth' in model.get_params():\n",
    "    hyperparameters['max_depth'] = best_model.get_params()['max_depth']\n",
    "if 'n_estimators' in model.get_params():\n",
    "    hyperparameters['n_estimators'] = best_model.get_params()['n_estimators']"
   ]
  },
  {
   "cell_type": "code",
   "execution_count": 341,
   "metadata": {},
   "outputs": [],
   "source": [
    "add_result(model, 'Downsampled', hyperparameters=hyperparameters, f1_score=best_result, roc_auc=auc_roc)"
   ]
  },
  {
   "cell_type": "markdown",
   "metadata": {},
   "source": [
    "### LogisticRegression Upsampling"
   ]
  },
  {
   "cell_type": "code",
   "execution_count": 342,
   "metadata": {},
   "outputs": [
    {
     "name": "stdout",
     "output_type": "stream",
     "text": [
      "F1 score= 0.53 AUC_ROC= 0.7936865701054292\n"
     ]
    }
   ],
   "source": [
    "\n",
    "\n",
    "model=LogisticRegression(solver='liblinear', random_state=12345, class_weight='balanced')\n",
    "model.fit(features_upsampled, target_upsampled)\n",
    "predicted_valid=model.predict(features_valid)\n",
    "probabilities_valid=model.predict_proba(features_valid)\n",
    "probabilities_one_valid=probabilities_valid[:,1]\n",
    "fpr, tpr, thresholds=roc_curve(target_valid, probabilities_one_valid)\n",
    "auc_roc=roc_auc_score(target_valid, probabilities_one_valid)\n",
    "f1=round(f1_score(target_valid, predicted_valid),2)\n",
    "print('F1 score=',round(f1_score(target_valid, predicted_valid),2), 'AUC_ROC=', auc_roc)\n",
    "\n",
    "\n",
    "\n"
   ]
  },
  {
   "cell_type": "code",
   "execution_count": 343,
   "metadata": {},
   "outputs": [],
   "source": [
    "hyperparameters = {}\n",
    "if 'max_depth' in model.get_params():\n",
    "    hyperparameters['max_depth'] = model.get_params()['max_depth']\n",
    "if 'n_estimators' in model.get_params():\n",
    "    hyperparameters['n_estimators'] = model.get_params()['n_estimators']"
   ]
  },
  {
   "cell_type": "code",
   "execution_count": 344,
   "metadata": {},
   "outputs": [],
   "source": [
    "add_result(model, 'Upsampled', hyperparameters=hyperparameters, f1_score=f1, roc_auc=auc_roc)"
   ]
  },
  {
   "cell_type": "markdown",
   "metadata": {},
   "source": [
    "### LogisticRegression Downsampling"
   ]
  },
  {
   "cell_type": "code",
   "execution_count": 345,
   "metadata": {},
   "outputs": [
    {
     "name": "stdout",
     "output_type": "stream",
     "text": [
      "F1 score= 0.53 AUC_ROC= 0.7925626909055079\n"
     ]
    }
   ],
   "source": [
    "\n",
    "model=LogisticRegression(solver='liblinear', random_state=12345, class_weight='balanced')\n",
    "model.fit(features_downsampled, target_downsampled)\n",
    "predicted_valid=model.predict(features_valid)\n",
    "\n",
    "probabilities_valid=model.predict_proba(features_valid)\n",
    "probabilities_one_valid=probabilities_valid[:,1]\n",
    "fpr, tpr, thresholds=roc_curve(target_valid, probabilities_one_valid)\n",
    "auc_roc=roc_auc_score(target_valid, probabilities_one_valid)\n",
    "f1=round(f1_score(target_valid, predicted_valid),2)\n",
    "print('F1 score=',round(f1_score(target_valid, predicted_valid),2), 'AUC_ROC=', auc_roc)\n",
    "\n"
   ]
  },
  {
   "cell_type": "code",
   "execution_count": 346,
   "metadata": {},
   "outputs": [],
   "source": [
    "hyperparameters = {}\n",
    "if 'max_depth' in model.get_params():\n",
    "    hyperparameters['max_depth'] = model.get_params()['max_depth']\n",
    "if 'n_estimators' in model.get_params():\n",
    "    hyperparameters['n_estimators'] = model.get_params()['n_estimators']"
   ]
  },
  {
   "cell_type": "code",
   "execution_count": 347,
   "metadata": {},
   "outputs": [],
   "source": [
    "add_result(model, 'Downsampled', hyperparameters=hyperparameters, f1_score=f1, roc_auc=auc_roc)"
   ]
  },
  {
   "cell_type": "code",
   "execution_count": 348,
   "metadata": {},
   "outputs": [
    {
     "data": {
      "text/html": [
       "<div>\n",
       "<style scoped>\n",
       "    .dataframe tbody tr th:only-of-type {\n",
       "        vertical-align: middle;\n",
       "    }\n",
       "\n",
       "    .dataframe tbody tr th {\n",
       "        vertical-align: top;\n",
       "    }\n",
       "\n",
       "    .dataframe thead th {\n",
       "        text-align: right;\n",
       "    }\n",
       "</style>\n",
       "<table border=\"1\" class=\"dataframe\">\n",
       "  <thead>\n",
       "    <tr style=\"text-align: right;\">\n",
       "      <th></th>\n",
       "      <th>Model</th>\n",
       "      <th>Balancing Method</th>\n",
       "      <th>Hyperparameters</th>\n",
       "      <th>F1 Score</th>\n",
       "      <th>ROC-AUC</th>\n",
       "    </tr>\n",
       "  </thead>\n",
       "  <tbody>\n",
       "    <tr>\n",
       "      <th>0</th>\n",
       "      <td>DecisionTreeClassifier</td>\n",
       "      <td>None</td>\n",
       "      <td>{'max_depth': 9}</td>\n",
       "      <td>0.55</td>\n",
       "      <td>0.797766</td>\n",
       "    </tr>\n",
       "    <tr>\n",
       "      <th>1</th>\n",
       "      <td>RandomForestClassifier</td>\n",
       "      <td>None</td>\n",
       "      <td>{'max_depth': None, 'n_estimators': 21}</td>\n",
       "      <td>0.61</td>\n",
       "      <td>0.852611</td>\n",
       "    </tr>\n",
       "    <tr>\n",
       "      <th>2</th>\n",
       "      <td>LogisticRegression</td>\n",
       "      <td>None</td>\n",
       "      <td>{}</td>\n",
       "      <td>0.61</td>\n",
       "      <td>0.787505</td>\n",
       "    </tr>\n",
       "    <tr>\n",
       "      <th>3</th>\n",
       "      <td>DecisionTreeClassifier</td>\n",
       "      <td>Upsampled</td>\n",
       "      <td>{'max_depth': 6}</td>\n",
       "      <td>0.61</td>\n",
       "      <td>0.701639</td>\n",
       "    </tr>\n",
       "    <tr>\n",
       "      <th>4</th>\n",
       "      <td>DecisionTreeClassifier</td>\n",
       "      <td>Downsampled</td>\n",
       "      <td>{'max_depth': 5}</td>\n",
       "      <td>0.56</td>\n",
       "      <td>0.70486</td>\n",
       "    </tr>\n",
       "    <tr>\n",
       "      <th>5</th>\n",
       "      <td>RandomForestClassifier</td>\n",
       "      <td>Upsampled</td>\n",
       "      <td>{'max_depth': None, 'n_estimators': 31}</td>\n",
       "      <td>0.629243</td>\n",
       "      <td>0.852081</td>\n",
       "    </tr>\n",
       "    <tr>\n",
       "      <th>6</th>\n",
       "      <td>RandomForestClassifier</td>\n",
       "      <td>Downsampled</td>\n",
       "      <td>{'max_depth': None, 'n_estimators': 41}</td>\n",
       "      <td>0.594949</td>\n",
       "      <td>0.845932</td>\n",
       "    </tr>\n",
       "    <tr>\n",
       "      <th>7</th>\n",
       "      <td>LogisticRegression</td>\n",
       "      <td>Upsampled</td>\n",
       "      <td>{}</td>\n",
       "      <td>0.53</td>\n",
       "      <td>0.793687</td>\n",
       "    </tr>\n",
       "    <tr>\n",
       "      <th>8</th>\n",
       "      <td>LogisticRegression</td>\n",
       "      <td>Downsampled</td>\n",
       "      <td>{}</td>\n",
       "      <td>0.53</td>\n",
       "      <td>0.792563</td>\n",
       "    </tr>\n",
       "  </tbody>\n",
       "</table>\n",
       "</div>"
      ],
      "text/plain": [
       "                    Model Balancing Method  \\\n",
       "0  DecisionTreeClassifier             None   \n",
       "1  RandomForestClassifier             None   \n",
       "2      LogisticRegression             None   \n",
       "3  DecisionTreeClassifier        Upsampled   \n",
       "4  DecisionTreeClassifier      Downsampled   \n",
       "5  RandomForestClassifier        Upsampled   \n",
       "6  RandomForestClassifier      Downsampled   \n",
       "7      LogisticRegression        Upsampled   \n",
       "8      LogisticRegression      Downsampled   \n",
       "\n",
       "                           Hyperparameters  F1 Score   ROC-AUC  \n",
       "0                         {'max_depth': 9}      0.55  0.797766  \n",
       "1  {'max_depth': None, 'n_estimators': 21}      0.61  0.852611  \n",
       "2                                       {}      0.61  0.787505  \n",
       "3                         {'max_depth': 6}      0.61  0.701639  \n",
       "4                         {'max_depth': 5}      0.56   0.70486  \n",
       "5  {'max_depth': None, 'n_estimators': 31}  0.629243  0.852081  \n",
       "6  {'max_depth': None, 'n_estimators': 41}  0.594949  0.845932  \n",
       "7                                       {}      0.53  0.793687  \n",
       "8                                       {}      0.53  0.792563  "
      ]
     },
     "execution_count": 348,
     "metadata": {},
     "output_type": "execute_result"
    }
   ],
   "source": [
    "results.head(20)"
   ]
  },
  {
   "cell_type": "markdown",
   "metadata": {},
   "source": [
    "The best result after balancing the classes is achieved by the RandomForestClassifier model with the consideration of upsampling (F1=0.629). "
   ]
  },
  {
   "cell_type": "markdown",
   "metadata": {},
   "source": [
    "## Model Testing"
   ]
  },
  {
   "cell_type": "markdown",
   "metadata": {},
   "source": [
    "Let's perform the final testing"
   ]
  },
  {
   "cell_type": "code",
   "execution_count": 351,
   "metadata": {},
   "outputs": [
    {
     "name": "stdout",
     "output_type": "stream",
     "text": [
      "Accuracy= 0.5552560646900269\n",
      "F1= 0.5552560646900269\n"
     ]
    }
   ],
   "source": [
    "model=RandomForestClassifier(random_state=RANDOM_STATE, n_estimators=31)\n",
    "model.fit(features_upsampled, target_upsampled)\n",
    "predicted_test=model.predict(features_test)\n",
    "accuracy_test=accuracy_score(predicted_test, target_test)\n",
    "print('Accuracy=', f1_score(predicted_test, target_test))\n",
    "print('F1=', f1_score(predicted_test, target_test))"
   ]
  },
  {
   "cell_type": "markdown",
   "metadata": {},
   "source": [
    "### ROC curve"
   ]
  },
  {
   "cell_type": "code",
   "execution_count": 350,
   "metadata": {},
   "outputs": [
    {
     "name": "stdout",
     "output_type": "stream",
     "text": [
      "0.8386977115790676\n"
     ]
    },
    {
     "data": {
      "image/png": "[encoded data removed]",
      "text/plain": [
       "<Figure size 432x288 with 1 Axes>"
      ]
     },
     "metadata": {
      "needs_background": "light"
     },
     "output_type": "display_data"
    }
   ],
   "source": [
    "probabilities_test=model.predict_proba(features_test)\n",
    "probabilities_one_test=probabilities_test[:,1]\n",
    "fpr, tpr, thresholds=roc_curve(target_test, probabilities_one_test)\n",
    "auc_roc=roc_auc_score(target_test, probabilities_one_test)\n",
    "print(auc_roc)\n",
    "plt.figure()\n",
    "plt.plot(fpr,tpr)\n",
    "plt.plot([0,1], [0,1], linestyle='--')\n",
    "plt.xlim([0.0, 1.0])\n",
    "plt.ylim([0.0, 1.0])\n",
    "plt.xlabel('False Positive Rate')\n",
    "plt.ylabel('True Positive Rate')\n",
    "plt.title('ROC-кривая')\n",
    "plt.show()"
   ]
  },
  {
   "cell_type": "markdown",
   "metadata": {},
   "source": [
    "The quantitative interpretation of the ROC curve is given by the AUC (Area Under Curve) - the area bounded by the ROC curve and the false positive rate axis. The higher the AUC value, the better the classifier, with a value of 0.5 indicating the classifier performs no better than random guessing. A value less than 0.5 indicates the classifier performs inversely, i.e., it would perform better if positive and negative labels were swapped. In our case, the AUC value is 0.8, significantly higher than 0.5, indicating a reasonably high quality of our model."
   ]
  },
  {
   "cell_type": "code",
   "execution_count": null,
   "metadata": {},
   "outputs": [],
   "source": []
  }
 ],
 "metadata": {
  "ExecuteTimeLog": [
   {
    "duration": 337,
    "start_time": "2022-08-01T19:30:52.259Z"
   },
   {
    "duration": 3,
    "start_time": "2022-08-01T19:31:08.514Z"
   },
   {
    "duration": 79,
    "start_time": "2022-08-01T19:31:43.825Z"
   },
   {
    "duration": 10,
    "start_time": "2022-08-01T19:32:37.087Z"
   },
   {
    "duration": 60,
    "start_time": "2022-08-01T19:33:05.816Z"
   },
   {
    "duration": 7,
    "start_time": "2022-08-01T19:33:19.377Z"
   },
   {
    "duration": 4,
    "start_time": "2022-08-01T19:33:37.856Z"
   },
   {
    "duration": 705,
    "start_time": "2022-08-01T19:54:57.306Z"
   },
   {
    "duration": 10,
    "start_time": "2022-08-01T19:55:09.376Z"
   },
   {
    "duration": 7,
    "start_time": "2022-08-01T19:56:38.664Z"
   },
   {
    "duration": 57,
    "start_time": "2022-08-01T19:57:44.573Z"
   },
   {
    "duration": 8,
    "start_time": "2022-08-01T19:58:14.507Z"
   },
   {
    "duration": 198,
    "start_time": "2022-08-01T19:59:57.261Z"
   },
   {
    "duration": 123,
    "start_time": "2022-08-01T20:01:11.133Z"
   },
   {
    "duration": 2,
    "start_time": "2022-08-01T20:05:02.340Z"
   },
   {
    "duration": 10,
    "start_time": "2022-08-01T20:05:35.454Z"
   },
   {
    "duration": 3,
    "start_time": "2022-08-01T20:06:17.504Z"
   },
   {
    "duration": 3,
    "start_time": "2022-08-01T20:06:21.540Z"
   },
   {
    "duration": 50,
    "start_time": "2022-08-01T20:08:38.311Z"
   },
   {
    "duration": 35,
    "start_time": "2022-08-01T20:08:55.293Z"
   },
   {
    "duration": 30,
    "start_time": "2022-08-01T20:09:11.457Z"
   },
   {
    "duration": 1041,
    "start_time": "2022-08-01T20:09:25.662Z"
   },
   {
    "duration": 38,
    "start_time": "2022-08-01T20:09:26.705Z"
   },
   {
    "duration": 8,
    "start_time": "2022-08-01T20:09:26.744Z"
   },
   {
    "duration": 6,
    "start_time": "2022-08-01T20:09:26.754Z"
   },
   {
    "duration": 193,
    "start_time": "2022-08-01T20:09:26.762Z"
   },
   {
    "duration": 122,
    "start_time": "2022-08-01T20:09:26.957Z"
   },
   {
    "duration": 2,
    "start_time": "2022-08-01T20:09:27.081Z"
   },
   {
    "duration": 38,
    "start_time": "2022-08-01T20:09:27.084Z"
   },
   {
    "duration": 42,
    "start_time": "2022-08-01T20:10:46.007Z"
   },
   {
    "duration": 91,
    "start_time": "2022-08-01T20:30:28.333Z"
   },
   {
    "duration": 63,
    "start_time": "2022-08-01T20:48:08.121Z"
   },
   {
    "duration": 64,
    "start_time": "2022-08-01T20:49:44.521Z"
   },
   {
    "duration": 42,
    "start_time": "2022-08-01T20:52:59.355Z"
   },
   {
    "duration": 3,
    "start_time": "2022-08-01T20:58:50.321Z"
   },
   {
    "duration": 49,
    "start_time": "2022-08-01T20:58:55.517Z"
   },
   {
    "duration": 1018,
    "start_time": "2022-08-01T20:59:12.083Z"
   },
   {
    "duration": 38,
    "start_time": "2022-08-01T20:59:13.103Z"
   },
   {
    "duration": 10,
    "start_time": "2022-08-01T20:59:13.145Z"
   },
   {
    "duration": 11,
    "start_time": "2022-08-01T20:59:13.157Z"
   },
   {
    "duration": 198,
    "start_time": "2022-08-01T20:59:13.169Z"
   },
   {
    "duration": 71,
    "start_time": "2022-08-01T20:59:13.369Z"
   },
   {
    "duration": 64,
    "start_time": "2022-08-01T20:59:13.441Z"
   },
   {
    "duration": 49,
    "start_time": "2022-08-01T20:59:13.506Z"
   },
   {
    "duration": 3,
    "start_time": "2022-08-01T20:59:13.557Z"
   },
   {
    "duration": 44,
    "start_time": "2022-08-01T20:59:13.562Z"
   },
   {
    "duration": 137,
    "start_time": "2022-08-01T20:59:13.608Z"
   },
   {
    "duration": 53,
    "start_time": "2022-08-01T21:00:12.483Z"
   },
   {
    "duration": 1047,
    "start_time": "2022-08-01T21:00:58.396Z"
   },
   {
    "duration": 43,
    "start_time": "2022-08-01T21:00:59.446Z"
   },
   {
    "duration": 10,
    "start_time": "2022-08-01T21:00:59.490Z"
   },
   {
    "duration": 7,
    "start_time": "2022-08-01T21:00:59.502Z"
   },
   {
    "duration": 207,
    "start_time": "2022-08-01T21:00:59.510Z"
   },
   {
    "duration": 67,
    "start_time": "2022-08-01T21:00:59.718Z"
   },
   {
    "duration": 68,
    "start_time": "2022-08-01T21:00:59.786Z"
   },
   {
    "duration": 59,
    "start_time": "2022-08-01T21:00:59.855Z"
   },
   {
    "duration": 137,
    "start_time": "2022-08-01T21:00:59.915Z"
   },
   {
    "duration": 195,
    "start_time": "2022-08-01T21:02:14.836Z"
   },
   {
    "duration": 1066,
    "start_time": "2022-08-01T21:02:19.852Z"
   },
   {
    "duration": 39,
    "start_time": "2022-08-01T21:02:20.920Z"
   },
   {
    "duration": 11,
    "start_time": "2022-08-01T21:02:20.961Z"
   },
   {
    "duration": 11,
    "start_time": "2022-08-01T21:02:20.974Z"
   },
   {
    "duration": 213,
    "start_time": "2022-08-01T21:02:20.987Z"
   },
   {
    "duration": 67,
    "start_time": "2022-08-01T21:02:21.201Z"
   },
   {
    "duration": 68,
    "start_time": "2022-08-01T21:02:21.270Z"
   },
   {
    "duration": 61,
    "start_time": "2022-08-01T21:02:21.340Z"
   },
   {
    "duration": 148,
    "start_time": "2022-08-01T21:02:21.403Z"
   },
   {
    "duration": 191,
    "start_time": "2022-08-01T21:02:53.105Z"
   },
   {
    "duration": 995,
    "start_time": "2022-08-01T21:02:58.379Z"
   },
   {
    "duration": 38,
    "start_time": "2022-08-01T21:02:59.376Z"
   },
   {
    "duration": 10,
    "start_time": "2022-08-01T21:02:59.416Z"
   },
   {
    "duration": 11,
    "start_time": "2022-08-01T21:02:59.427Z"
   },
   {
    "duration": 207,
    "start_time": "2022-08-01T21:02:59.440Z"
   },
   {
    "duration": 69,
    "start_time": "2022-08-01T21:02:59.649Z"
   },
   {
    "duration": 55,
    "start_time": "2022-08-01T21:02:59.720Z"
   },
   {
    "duration": 60,
    "start_time": "2022-08-01T21:02:59.777Z"
   },
   {
    "duration": 138,
    "start_time": "2022-08-01T21:02:59.839Z"
   },
   {
    "duration": 3,
    "start_time": "2022-08-01T21:04:38.657Z"
   },
   {
    "duration": 1095,
    "start_time": "2022-08-01T21:04:43.582Z"
   },
   {
    "duration": 39,
    "start_time": "2022-08-01T21:04:44.678Z"
   },
   {
    "duration": 10,
    "start_time": "2022-08-01T21:04:44.719Z"
   },
   {
    "duration": 10,
    "start_time": "2022-08-01T21:04:44.731Z"
   },
   {
    "duration": 7,
    "start_time": "2022-08-01T21:04:44.742Z"
   },
   {
    "duration": 191,
    "start_time": "2022-08-01T21:04:44.751Z"
   },
   {
    "duration": 73,
    "start_time": "2022-08-01T21:04:44.944Z"
   },
   {
    "duration": 58,
    "start_time": "2022-08-01T21:04:45.019Z"
   },
   {
    "duration": 66,
    "start_time": "2022-08-01T21:04:45.079Z"
   },
   {
    "duration": 154,
    "start_time": "2022-08-01T21:04:45.147Z"
   },
   {
    "duration": 6,
    "start_time": "2022-08-01T21:06:01.468Z"
   },
   {
    "duration": 1065,
    "start_time": "2022-08-01T21:06:09.677Z"
   },
   {
    "duration": 38,
    "start_time": "2022-08-01T21:06:10.744Z"
   },
   {
    "duration": 10,
    "start_time": "2022-08-01T21:06:10.783Z"
   },
   {
    "duration": 6,
    "start_time": "2022-08-01T21:06:10.795Z"
   },
   {
    "duration": 6,
    "start_time": "2022-08-01T21:06:10.802Z"
   },
   {
    "duration": 8,
    "start_time": "2022-08-01T21:06:10.809Z"
   },
   {
    "duration": 5,
    "start_time": "2022-08-01T21:06:10.818Z"
   },
   {
    "duration": 114,
    "start_time": "2022-08-01T21:06:10.825Z"
   },
   {
    "duration": 1104,
    "start_time": "2022-08-01T21:07:39.981Z"
   },
   {
    "duration": 38,
    "start_time": "2022-08-01T21:07:41.086Z"
   },
   {
    "duration": 9,
    "start_time": "2022-08-01T21:07:41.126Z"
   },
   {
    "duration": 9,
    "start_time": "2022-08-01T21:07:41.137Z"
   },
   {
    "duration": 191,
    "start_time": "2022-08-01T21:07:41.148Z"
   },
   {
    "duration": 70,
    "start_time": "2022-08-01T21:07:41.341Z"
   },
   {
    "duration": 58,
    "start_time": "2022-08-01T21:07:41.413Z"
   },
   {
    "duration": 63,
    "start_time": "2022-08-01T21:07:41.472Z"
   },
   {
    "duration": 3,
    "start_time": "2022-08-01T21:07:41.537Z"
   },
   {
    "duration": 139,
    "start_time": "2022-08-01T21:07:41.541Z"
   },
   {
    "duration": 3,
    "start_time": "2022-08-01T21:08:01.896Z"
   },
   {
    "duration": 10,
    "start_time": "2022-08-01T21:09:23.863Z"
   },
   {
    "duration": 3,
    "start_time": "2022-08-01T21:09:32.639Z"
   },
   {
    "duration": 4,
    "start_time": "2022-08-01T21:09:46.382Z"
   },
   {
    "duration": 4,
    "start_time": "2022-08-01T21:09:57.336Z"
   },
   {
    "duration": 60,
    "start_time": "2022-08-01T21:10:32.957Z"
   },
   {
    "duration": 3,
    "start_time": "2022-08-01T21:10:33.697Z"
   },
   {
    "duration": 55,
    "start_time": "2022-08-01T21:11:43.495Z"
   },
   {
    "duration": 3,
    "start_time": "2022-08-01T21:11:44.527Z"
   },
   {
    "duration": 44,
    "start_time": "2022-08-01T21:11:56.099Z"
   },
   {
    "duration": 3,
    "start_time": "2022-08-01T21:11:56.754Z"
   },
   {
    "duration": 1037,
    "start_time": "2022-08-01T21:12:12.066Z"
   },
   {
    "duration": 38,
    "start_time": "2022-08-01T21:12:13.105Z"
   },
   {
    "duration": 10,
    "start_time": "2022-08-01T21:12:13.144Z"
   },
   {
    "duration": 8,
    "start_time": "2022-08-01T21:12:13.155Z"
   },
   {
    "duration": 200,
    "start_time": "2022-08-01T21:12:13.165Z"
   },
   {
    "duration": 71,
    "start_time": "2022-08-01T21:12:13.366Z"
   },
   {
    "duration": 64,
    "start_time": "2022-08-01T21:12:13.439Z"
   },
   {
    "duration": 49,
    "start_time": "2022-08-01T21:12:13.504Z"
   },
   {
    "duration": 3,
    "start_time": "2022-08-01T21:12:13.554Z"
   },
   {
    "duration": 5,
    "start_time": "2022-08-01T21:12:13.559Z"
   },
   {
    "duration": 105,
    "start_time": "2022-08-01T21:12:13.565Z"
   },
   {
    "duration": 125,
    "start_time": "2022-08-01T21:12:36.854Z"
   },
   {
    "duration": 37,
    "start_time": "2022-08-01T21:15:35.617Z"
   },
   {
    "duration": 1002,
    "start_time": "2022-08-01T21:15:48.682Z"
   },
   {
    "duration": 41,
    "start_time": "2022-08-01T21:15:49.686Z"
   },
   {
    "duration": 9,
    "start_time": "2022-08-01T21:15:49.729Z"
   },
   {
    "duration": 19,
    "start_time": "2022-08-01T21:15:49.739Z"
   },
   {
    "duration": 48,
    "start_time": "2022-08-01T21:15:49.761Z"
   },
   {
    "duration": 191,
    "start_time": "2022-08-01T21:15:49.810Z"
   },
   {
    "duration": 66,
    "start_time": "2022-08-01T21:15:50.003Z"
   },
   {
    "duration": 71,
    "start_time": "2022-08-01T21:15:50.070Z"
   },
   {
    "duration": 58,
    "start_time": "2022-08-01T21:15:50.143Z"
   },
   {
    "duration": 4,
    "start_time": "2022-08-01T21:15:50.203Z"
   },
   {
    "duration": 25,
    "start_time": "2022-08-01T21:15:50.208Z"
   },
   {
    "duration": 804,
    "start_time": "2022-08-01T21:15:50.235Z"
   },
   {
    "duration": 6394,
    "start_time": "2022-08-01T21:18:44.968Z"
   },
   {
    "duration": 368,
    "start_time": "2022-08-01T21:19:48.916Z"
   },
   {
    "duration": 30,
    "start_time": "2022-08-01T21:20:30.641Z"
   },
   {
    "duration": 1015,
    "start_time": "2022-08-01T21:20:48.257Z"
   },
   {
    "duration": 38,
    "start_time": "2022-08-01T21:20:49.274Z"
   },
   {
    "duration": 10,
    "start_time": "2022-08-01T21:20:49.314Z"
   },
   {
    "duration": 8,
    "start_time": "2022-08-01T21:20:49.325Z"
   },
   {
    "duration": 39,
    "start_time": "2022-08-01T21:20:49.335Z"
   },
   {
    "duration": 204,
    "start_time": "2022-08-01T21:20:49.375Z"
   },
   {
    "duration": 71,
    "start_time": "2022-08-01T21:20:49.581Z"
   },
   {
    "duration": 66,
    "start_time": "2022-08-01T21:20:49.654Z"
   },
   {
    "duration": 47,
    "start_time": "2022-08-01T21:20:49.722Z"
   },
   {
    "duration": 3,
    "start_time": "2022-08-01T21:20:49.771Z"
   },
   {
    "duration": 6,
    "start_time": "2022-08-01T21:20:49.776Z"
   },
   {
    "duration": 43,
    "start_time": "2022-08-01T21:20:49.783Z"
   },
   {
    "duration": 814,
    "start_time": "2022-08-01T21:20:49.827Z"
   },
   {
    "duration": 6504,
    "start_time": "2022-08-01T21:20:50.643Z"
   },
   {
    "duration": 406,
    "start_time": "2022-08-01T21:20:57.149Z"
   },
   {
    "duration": 34,
    "start_time": "2022-08-01T21:21:25.071Z"
   },
   {
    "duration": 32,
    "start_time": "2022-08-01T21:21:33.420Z"
   },
   {
    "duration": 812,
    "start_time": "2022-08-01T21:23:41.912Z"
   },
   {
    "duration": 923,
    "start_time": "2022-08-01T21:24:12.165Z"
   },
   {
    "duration": 3,
    "start_time": "2022-08-01T21:24:51.613Z"
   },
   {
    "duration": 836,
    "start_time": "2022-08-01T21:24:57.503Z"
   },
   {
    "duration": 794,
    "start_time": "2022-08-01T21:34:59.739Z"
   },
   {
    "duration": 3,
    "start_time": "2022-08-01T21:35:56.680Z"
   },
   {
    "duration": 801,
    "start_time": "2022-08-01T21:36:05.533Z"
   },
   {
    "duration": 835,
    "start_time": "2022-08-01T21:39:30.183Z"
   },
   {
    "duration": 1286,
    "start_time": "2022-08-01T21:40:46.757Z"
   },
   {
    "duration": 6527,
    "start_time": "2022-08-01T21:41:10.799Z"
   },
   {
    "duration": 645,
    "start_time": "2022-08-01T21:41:24.529Z"
   },
   {
    "duration": 45,
    "start_time": "2022-08-02T07:33:48.772Z"
   },
   {
    "duration": 7,
    "start_time": "2022-08-02T07:34:35.088Z"
   },
   {
    "duration": 1130,
    "start_time": "2022-08-02T07:34:47.020Z"
   },
   {
    "duration": 75,
    "start_time": "2022-08-02T07:34:48.151Z"
   },
   {
    "duration": 12,
    "start_time": "2022-08-02T07:34:48.227Z"
   },
   {
    "duration": 7,
    "start_time": "2022-08-02T07:34:48.240Z"
   },
   {
    "duration": 40,
    "start_time": "2022-08-02T07:34:48.249Z"
   },
   {
    "duration": 212,
    "start_time": "2022-08-02T07:34:48.291Z"
   },
   {
    "duration": 71,
    "start_time": "2022-08-02T07:34:48.505Z"
   },
   {
    "duration": 72,
    "start_time": "2022-08-02T07:34:48.578Z"
   },
   {
    "duration": 100,
    "start_time": "2022-08-02T07:34:48.655Z"
   },
   {
    "duration": 0,
    "start_time": "2022-08-02T07:34:48.756Z"
   },
   {
    "duration": 0,
    "start_time": "2022-08-02T07:34:48.758Z"
   },
   {
    "duration": 0,
    "start_time": "2022-08-02T07:34:48.759Z"
   },
   {
    "duration": 0,
    "start_time": "2022-08-02T07:34:48.760Z"
   },
   {
    "duration": 0,
    "start_time": "2022-08-02T07:34:48.760Z"
   },
   {
    "duration": 0,
    "start_time": "2022-08-02T07:34:48.761Z"
   },
   {
    "duration": 63,
    "start_time": "2022-08-02T07:36:07.644Z"
   },
   {
    "duration": 8,
    "start_time": "2022-08-02T07:36:08.136Z"
   },
   {
    "duration": 68,
    "start_time": "2022-08-02T07:36:22.267Z"
   },
   {
    "duration": 10,
    "start_time": "2022-08-02T07:36:22.858Z"
   },
   {
    "duration": 54,
    "start_time": "2022-08-02T07:37:07.065Z"
   },
   {
    "duration": 10,
    "start_time": "2022-08-02T07:37:08.886Z"
   },
   {
    "duration": 52,
    "start_time": "2022-08-02T07:37:48.068Z"
   },
   {
    "duration": 9,
    "start_time": "2022-08-02T07:37:49.219Z"
   },
   {
    "duration": 54,
    "start_time": "2022-08-02T07:38:34.035Z"
   },
   {
    "duration": 9,
    "start_time": "2022-08-02T07:38:34.520Z"
   },
   {
    "duration": 25,
    "start_time": "2022-08-02T07:40:27.433Z"
   },
   {
    "duration": 3,
    "start_time": "2022-08-02T07:40:30.438Z"
   },
   {
    "duration": 8,
    "start_time": "2022-08-02T07:40:45.572Z"
   },
   {
    "duration": 3,
    "start_time": "2022-08-02T07:40:46.427Z"
   },
   {
    "duration": 54,
    "start_time": "2022-08-02T07:41:52.131Z"
   },
   {
    "duration": 25,
    "start_time": "2022-08-02T07:41:53.015Z"
   },
   {
    "duration": 3,
    "start_time": "2022-08-02T07:41:53.823Z"
   },
   {
    "duration": 58,
    "start_time": "2022-08-02T07:42:36.661Z"
   },
   {
    "duration": 25,
    "start_time": "2022-08-02T07:42:37.064Z"
   },
   {
    "duration": 3,
    "start_time": "2022-08-02T07:42:37.433Z"
   },
   {
    "duration": 122,
    "start_time": "2022-08-02T07:42:54.936Z"
   },
   {
    "duration": 38,
    "start_time": "2022-08-02T07:42:55.474Z"
   },
   {
    "duration": 3,
    "start_time": "2022-08-02T07:42:55.929Z"
   },
   {
    "duration": 66,
    "start_time": "2022-08-02T07:42:58.727Z"
   },
   {
    "duration": 25,
    "start_time": "2022-08-02T07:42:59.063Z"
   },
   {
    "duration": 3,
    "start_time": "2022-08-02T07:42:59.427Z"
   },
   {
    "duration": 58,
    "start_time": "2022-08-02T07:43:08.134Z"
   },
   {
    "duration": 29,
    "start_time": "2022-08-02T07:43:08.619Z"
   },
   {
    "duration": 3,
    "start_time": "2022-08-02T07:43:09.050Z"
   },
   {
    "duration": 15,
    "start_time": "2022-08-02T07:44:33.135Z"
   },
   {
    "duration": 4,
    "start_time": "2022-08-02T07:44:33.596Z"
   },
   {
    "duration": 55,
    "start_time": "2022-08-02T07:44:57.269Z"
   },
   {
    "duration": 36,
    "start_time": "2022-08-02T07:44:57.979Z"
   },
   {
    "duration": 4,
    "start_time": "2022-08-02T07:44:58.485Z"
   },
   {
    "duration": 2913,
    "start_time": "2022-08-02T07:45:28.345Z"
   },
   {
    "duration": 45,
    "start_time": "2022-08-02T07:45:31.261Z"
   },
   {
    "duration": 13,
    "start_time": "2022-08-02T07:45:31.308Z"
   },
   {
    "duration": 13,
    "start_time": "2022-08-02T07:45:31.322Z"
   },
   {
    "duration": 47,
    "start_time": "2022-08-02T07:45:31.337Z"
   },
   {
    "duration": 201,
    "start_time": "2022-08-02T07:45:31.386Z"
   },
   {
    "duration": 88,
    "start_time": "2022-08-02T07:45:31.589Z"
   },
   {
    "duration": 76,
    "start_time": "2022-08-02T07:45:31.680Z"
   },
   {
    "duration": 27,
    "start_time": "2022-08-02T07:45:31.758Z"
   },
   {
    "duration": 4,
    "start_time": "2022-08-02T07:45:31.787Z"
   },
   {
    "duration": 5,
    "start_time": "2022-08-02T07:45:31.792Z"
   },
   {
    "duration": 54,
    "start_time": "2022-08-02T07:45:31.799Z"
   },
   {
    "duration": 1439,
    "start_time": "2022-08-02T07:45:31.854Z"
   },
   {
    "duration": 7033,
    "start_time": "2022-08-02T07:45:33.294Z"
   },
   {
    "duration": 780,
    "start_time": "2022-08-02T07:45:40.329Z"
   },
   {
    "duration": 874,
    "start_time": "2022-08-02T07:47:30.838Z"
   },
   {
    "duration": 872,
    "start_time": "2022-08-02T07:48:40.070Z"
   },
   {
    "duration": 772,
    "start_time": "2022-08-02T07:48:53.276Z"
   },
   {
    "duration": 897,
    "start_time": "2022-08-02T07:49:02.797Z"
   },
   {
    "duration": 948,
    "start_time": "2022-08-02T07:49:23.050Z"
   },
   {
    "duration": 890,
    "start_time": "2022-08-02T07:49:45.898Z"
   },
   {
    "duration": 914,
    "start_time": "2022-08-02T07:50:08.248Z"
   },
   {
    "duration": 883,
    "start_time": "2022-08-02T07:50:23.564Z"
   },
   {
    "duration": 913,
    "start_time": "2022-08-02T07:50:44.040Z"
   },
   {
    "duration": 85,
    "start_time": "2022-08-02T07:51:08.848Z"
   },
   {
    "duration": 916,
    "start_time": "2022-08-02T07:51:16.267Z"
   },
   {
    "duration": 894,
    "start_time": "2022-08-02T07:51:35.440Z"
   },
   {
    "duration": 895,
    "start_time": "2022-08-02T07:51:56.790Z"
   },
   {
    "duration": 883,
    "start_time": "2022-08-02T07:52:17.283Z"
   },
   {
    "duration": 831,
    "start_time": "2022-08-02T07:53:52.094Z"
   },
   {
    "duration": 3,
    "start_time": "2022-08-02T07:54:30.266Z"
   },
   {
    "duration": 36,
    "start_time": "2022-08-02T07:54:30.996Z"
   },
   {
    "duration": 12,
    "start_time": "2022-08-02T07:54:31.685Z"
   },
   {
    "duration": 4,
    "start_time": "2022-08-02T07:54:32.196Z"
   },
   {
    "duration": 40,
    "start_time": "2022-08-02T07:54:33.234Z"
   },
   {
    "duration": 205,
    "start_time": "2022-08-02T07:54:34.149Z"
   },
   {
    "duration": 43,
    "start_time": "2022-08-02T07:54:34.836Z"
   },
   {
    "duration": 63,
    "start_time": "2022-08-02T07:54:35.669Z"
   },
   {
    "duration": 27,
    "start_time": "2022-08-02T07:54:36.064Z"
   },
   {
    "duration": 4,
    "start_time": "2022-08-02T07:54:36.585Z"
   },
   {
    "duration": 3,
    "start_time": "2022-08-02T07:54:38.525Z"
   },
   {
    "duration": 39,
    "start_time": "2022-08-02T07:54:41.544Z"
   },
   {
    "duration": 892,
    "start_time": "2022-08-02T07:54:47.257Z"
   },
   {
    "duration": 7293,
    "start_time": "2022-08-02T07:59:50.559Z"
   },
   {
    "duration": 647,
    "start_time": "2022-08-02T08:00:00.469Z"
   },
   {
    "duration": 78,
    "start_time": "2022-08-02T08:16:20.355Z"
   },
   {
    "duration": 739,
    "start_time": "2022-08-02T08:21:10.828Z"
   },
   {
    "duration": 782,
    "start_time": "2022-08-02T08:21:24.448Z"
   },
   {
    "duration": 7666,
    "start_time": "2022-08-02T08:22:02.469Z"
   },
   {
    "duration": 735,
    "start_time": "2022-08-02T08:26:58.335Z"
   },
   {
    "duration": 958,
    "start_time": "2022-08-02T08:27:51.296Z"
   },
   {
    "duration": 7342,
    "start_time": "2022-08-02T08:28:01.780Z"
   },
   {
    "duration": 773,
    "start_time": "2022-08-02T08:33:20.693Z"
   },
   {
    "duration": 1204,
    "start_time": "2022-08-02T08:33:43.166Z"
   },
   {
    "duration": 756,
    "start_time": "2022-08-02T08:33:49.903Z"
   },
   {
    "duration": 8267,
    "start_time": "2022-08-02T08:33:54.153Z"
   },
   {
    "duration": 1037,
    "start_time": "2022-08-02T08:34:02.422Z"
   },
   {
    "duration": 1142,
    "start_time": "2022-08-02T08:34:15.933Z"
   },
   {
    "duration": 370,
    "start_time": "2022-08-02T08:43:39.206Z"
   },
   {
    "duration": 3,
    "start_time": "2022-08-02T08:44:22.834Z"
   },
   {
    "duration": 1413,
    "start_time": "2022-08-02T08:44:29.271Z"
   },
   {
    "duration": 44,
    "start_time": "2022-08-02T08:44:30.689Z"
   },
   {
    "duration": 76,
    "start_time": "2022-08-02T08:44:30.735Z"
   },
   {
    "duration": 97,
    "start_time": "2022-08-02T08:44:30.812Z"
   },
   {
    "duration": 173,
    "start_time": "2022-08-02T08:44:30.912Z"
   },
   {
    "duration": 261,
    "start_time": "2022-08-02T08:44:31.087Z"
   },
   {
    "duration": 73,
    "start_time": "2022-08-02T08:44:31.353Z"
   },
   {
    "duration": 80,
    "start_time": "2022-08-02T08:44:31.428Z"
   },
   {
    "duration": 40,
    "start_time": "2022-08-02T08:44:31.509Z"
   },
   {
    "duration": 34,
    "start_time": "2022-08-02T08:44:31.553Z"
   },
   {
    "duration": 20,
    "start_time": "2022-08-02T08:44:31.590Z"
   },
   {
    "duration": 105,
    "start_time": "2022-08-02T08:44:31.612Z"
   },
   {
    "duration": 1584,
    "start_time": "2022-08-02T08:44:31.719Z"
   },
   {
    "duration": 9129,
    "start_time": "2022-08-02T08:44:33.307Z"
   },
   {
    "duration": 874,
    "start_time": "2022-08-02T08:44:42.438Z"
   },
   {
    "duration": 1243,
    "start_time": "2022-08-02T08:44:43.316Z"
   },
   {
    "duration": 8335,
    "start_time": "2022-08-02T08:44:44.561Z"
   },
   {
    "duration": 3114,
    "start_time": "2022-08-02T08:44:52.898Z"
   },
   {
    "duration": 3504,
    "start_time": "2022-08-02T08:47:23.866Z"
   },
   {
    "duration": 2106,
    "start_time": "2022-08-02T08:48:45.261Z"
   },
   {
    "duration": 1486,
    "start_time": "2022-08-02T08:49:20.693Z"
   },
   {
    "duration": 266,
    "start_time": "2022-08-02T08:56:40.681Z"
   },
   {
    "duration": 1721,
    "start_time": "2022-08-02T09:12:31.266Z"
   },
   {
    "duration": 289,
    "start_time": "2022-08-02T09:13:41.006Z"
   },
   {
    "duration": 24106,
    "start_time": "2022-08-02T09:14:34.992Z"
   },
   {
    "duration": 1925,
    "start_time": "2022-08-02T09:15:35.040Z"
   },
   {
    "duration": 51,
    "start_time": "2022-08-02T09:17:36.180Z"
   },
   {
    "duration": 1894,
    "start_time": "2022-08-02T09:29:54.826Z"
   },
   {
    "duration": 1892,
    "start_time": "2022-08-02T09:31:19.383Z"
   },
   {
    "duration": 3113,
    "start_time": "2022-08-02T09:31:41.236Z"
   },
   {
    "duration": 5753,
    "start_time": "2022-08-02T09:32:03.258Z"
   },
   {
    "duration": 192,
    "start_time": "2022-08-02T09:40:03.181Z"
   },
   {
    "duration": 545,
    "start_time": "2022-08-02T09:40:13.756Z"
   },
   {
    "duration": 6985,
    "start_time": "2022-08-02T09:40:29.464Z"
   },
   {
    "duration": 7064,
    "start_time": "2022-08-02T09:40:42.396Z"
   },
   {
    "duration": 19902,
    "start_time": "2022-08-02T09:41:20.628Z"
   },
   {
    "duration": 120042,
    "start_time": "2022-08-02T09:42:51.628Z"
   },
   {
    "duration": 39,
    "start_time": "2022-08-02T09:59:54.934Z"
   },
   {
    "duration": 38,
    "start_time": "2022-08-02T10:00:20.039Z"
   },
   {
    "duration": 3032,
    "start_time": "2022-08-02T10:02:04.785Z"
   },
   {
    "duration": 256,
    "start_time": "2022-08-02T10:03:12.352Z"
   },
   {
    "duration": 4485,
    "start_time": "2022-08-02T10:03:17.539Z"
   },
   {
    "duration": 1758,
    "start_time": "2022-08-02T10:07:33.630Z"
   },
   {
    "duration": 1469,
    "start_time": "2022-08-02T10:09:42.946Z"
   },
   {
    "duration": 65,
    "start_time": "2022-08-02T10:09:44.416Z"
   },
   {
    "duration": 12,
    "start_time": "2022-08-02T10:09:44.485Z"
   },
   {
    "duration": 6,
    "start_time": "2022-08-02T10:09:44.499Z"
   },
   {
    "duration": 55,
    "start_time": "2022-08-02T10:09:44.507Z"
   },
   {
    "duration": 212,
    "start_time": "2022-08-02T10:09:44.567Z"
   },
   {
    "duration": 67,
    "start_time": "2022-08-02T10:09:44.786Z"
   },
   {
    "duration": 67,
    "start_time": "2022-08-02T10:09:44.855Z"
   },
   {
    "duration": 49,
    "start_time": "2022-08-02T10:09:44.924Z"
   },
   {
    "duration": 5,
    "start_time": "2022-08-02T10:09:44.980Z"
   },
   {
    "duration": 4,
    "start_time": "2022-08-02T10:09:44.987Z"
   },
   {
    "duration": 38,
    "start_time": "2022-08-02T10:09:44.993Z"
   },
   {
    "duration": 1419,
    "start_time": "2022-08-02T10:09:45.038Z"
   },
   {
    "duration": 5788,
    "start_time": "2022-08-02T10:09:46.461Z"
   },
   {
    "duration": 7964,
    "start_time": "2022-08-02T10:09:52.260Z"
   },
   {
    "duration": 37444,
    "start_time": "2022-08-02T10:10:00.227Z"
   },
   {
    "duration": 748,
    "start_time": "2022-08-02T10:10:37.676Z"
   },
   {
    "duration": 1607,
    "start_time": "2022-08-02T10:10:38.425Z"
   },
   {
    "duration": 256,
    "start_time": "2022-08-02T10:10:40.034Z"
   },
   {
    "duration": 22600,
    "start_time": "2022-08-02T10:10:40.295Z"
   },
   {
    "duration": 1852,
    "start_time": "2022-08-02T10:11:02.897Z"
   },
   {
    "duration": 1496,
    "start_time": "2022-08-02T10:11:04.751Z"
   },
   {
    "duration": 388,
    "start_time": "2022-08-02T10:11:06.254Z"
   },
   {
    "duration": 12229,
    "start_time": "2022-08-02T10:11:47.782Z"
   },
   {
    "duration": 24713,
    "start_time": "2022-08-02T10:12:14.727Z"
   },
   {
    "duration": 40077,
    "start_time": "2022-08-02T10:12:54.404Z"
   },
   {
    "duration": 24188,
    "start_time": "2022-08-02T10:14:13.383Z"
   },
   {
    "duration": 3531,
    "start_time": "2022-08-02T10:18:00.483Z"
   },
   {
    "duration": 2028,
    "start_time": "2022-08-02T10:18:26.392Z"
   },
   {
    "duration": 65,
    "start_time": "2022-08-02T10:19:27.260Z"
   },
   {
    "duration": 14186,
    "start_time": "2022-08-02T10:19:53.453Z"
   },
   {
    "duration": 1930,
    "start_time": "2022-08-02T10:20:37.174Z"
   },
   {
    "duration": 936,
    "start_time": "2022-08-02T10:20:46.536Z"
   },
   {
    "duration": 2207,
    "start_time": "2022-08-02T10:20:55.292Z"
   },
   {
    "duration": 12397,
    "start_time": "2022-08-02T10:21:23.185Z"
   },
   {
    "duration": 24211,
    "start_time": "2022-08-02T10:21:54.595Z"
   },
   {
    "duration": 710,
    "start_time": "2022-08-02T10:23:03.091Z"
   },
   {
    "duration": 25182,
    "start_time": "2022-08-02T10:24:39.173Z"
   },
   {
    "duration": 1300,
    "start_time": "2022-08-02T10:27:01.568Z"
   },
   {
    "duration": 1630,
    "start_time": "2022-08-02T10:27:13.489Z"
   },
   {
    "duration": 14503,
    "start_time": "2022-08-02T10:29:55.731Z"
   },
   {
    "duration": 24,
    "start_time": "2022-08-02T10:42:28.435Z"
   },
   {
    "duration": 445,
    "start_time": "2022-08-02T10:42:46.733Z"
   },
   {
    "duration": 430,
    "start_time": "2022-08-02T10:43:59.284Z"
   },
   {
    "duration": 675,
    "start_time": "2022-08-02T10:50:42.729Z"
   },
   {
    "duration": 502,
    "start_time": "2022-08-02T10:52:11.024Z"
   },
   {
    "duration": 666,
    "start_time": "2022-08-02T10:52:40.632Z"
   },
   {
    "duration": 71,
    "start_time": "2022-08-02T10:56:49.024Z"
   },
   {
    "duration": 63,
    "start_time": "2022-08-02T10:56:59.188Z"
   },
   {
    "duration": 4,
    "start_time": "2022-08-02T10:58:01.132Z"
   },
   {
    "duration": 50,
    "start_time": "2022-08-02T10:58:07.357Z"
   },
   {
    "duration": 4,
    "start_time": "2022-08-02T10:58:48.509Z"
   },
   {
    "duration": 64,
    "start_time": "2022-08-02T10:58:54.139Z"
   },
   {
    "duration": 51,
    "start_time": "2022-08-02T11:00:22.685Z"
   },
   {
    "duration": 56,
    "start_time": "2022-08-02T11:15:27.820Z"
   },
   {
    "duration": 57,
    "start_time": "2022-08-02T11:19:28.325Z"
   },
   {
    "duration": 49,
    "start_time": "2022-08-02T11:20:27.970Z"
   },
   {
    "duration": 4,
    "start_time": "2022-08-02T11:20:35.379Z"
   },
   {
    "duration": 165,
    "start_time": "2022-08-02T11:20:39.719Z"
   },
   {
    "duration": 111,
    "start_time": "2022-08-02T11:33:40.250Z"
   },
   {
    "duration": 16,
    "start_time": "2022-08-02T11:37:56.358Z"
   },
   {
    "duration": 13,
    "start_time": "2022-08-02T11:38:12.452Z"
   },
   {
    "duration": 9,
    "start_time": "2022-08-02T11:40:32.222Z"
   },
   {
    "duration": 7,
    "start_time": "2022-08-02T11:40:37.966Z"
   },
   {
    "duration": 11,
    "start_time": "2022-08-02T11:41:22.519Z"
   },
   {
    "duration": 11,
    "start_time": "2022-08-02T11:41:28.764Z"
   },
   {
    "duration": 21,
    "start_time": "2022-08-02T11:41:51.457Z"
   },
   {
    "duration": 10,
    "start_time": "2022-08-02T11:43:37.319Z"
   },
   {
    "duration": 6,
    "start_time": "2022-08-02T11:43:46.811Z"
   },
   {
    "duration": 11,
    "start_time": "2022-08-02T11:44:30.954Z"
   },
   {
    "duration": 6,
    "start_time": "2022-08-02T11:46:00.974Z"
   },
   {
    "duration": 7,
    "start_time": "2022-08-02T11:47:49.121Z"
   },
   {
    "duration": 6,
    "start_time": "2022-08-02T11:48:04.381Z"
   },
   {
    "duration": 8,
    "start_time": "2022-08-02T11:49:04.953Z"
   },
   {
    "duration": 19,
    "start_time": "2022-08-02T11:50:23.268Z"
   },
   {
    "duration": 20,
    "start_time": "2022-08-02T11:50:45.450Z"
   },
   {
    "duration": 19,
    "start_time": "2022-08-02T11:51:16.522Z"
   },
   {
    "duration": 3,
    "start_time": "2022-08-02T11:51:19.640Z"
   },
   {
    "duration": 3,
    "start_time": "2022-08-02T11:51:57.995Z"
   },
   {
    "duration": 27,
    "start_time": "2022-08-02T11:51:59.768Z"
   },
   {
    "duration": 1261,
    "start_time": "2022-08-02T11:52:06.718Z"
   },
   {
    "duration": 38,
    "start_time": "2022-08-02T11:52:07.981Z"
   },
   {
    "duration": 16,
    "start_time": "2022-08-02T11:52:08.021Z"
   },
   {
    "duration": 12,
    "start_time": "2022-08-02T11:52:08.038Z"
   },
   {
    "duration": 7,
    "start_time": "2022-08-02T11:52:08.052Z"
   },
   {
    "duration": 11,
    "start_time": "2022-08-02T11:52:08.061Z"
   },
   {
    "duration": 5,
    "start_time": "2022-08-02T11:52:08.073Z"
   },
   {
    "duration": 7,
    "start_time": "2022-08-02T11:52:08.080Z"
   },
   {
    "duration": 10,
    "start_time": "2022-08-02T11:52:08.088Z"
   },
   {
    "duration": 43,
    "start_time": "2022-08-02T11:52:08.100Z"
   },
   {
    "duration": 4,
    "start_time": "2022-08-02T11:52:08.145Z"
   },
   {
    "duration": 40,
    "start_time": "2022-08-02T11:52:08.150Z"
   },
   {
    "duration": 216,
    "start_time": "2022-08-02T11:52:08.192Z"
   },
   {
    "duration": 71,
    "start_time": "2022-08-02T11:52:08.411Z"
   },
   {
    "duration": 62,
    "start_time": "2022-08-02T11:52:08.484Z"
   },
   {
    "duration": 26,
    "start_time": "2022-08-02T11:52:08.548Z"
   },
   {
    "duration": 3,
    "start_time": "2022-08-02T11:52:08.576Z"
   },
   {
    "duration": 6,
    "start_time": "2022-08-02T11:52:08.580Z"
   },
   {
    "duration": 33,
    "start_time": "2022-08-02T11:52:08.587Z"
   },
   {
    "duration": 953,
    "start_time": "2022-08-02T11:52:08.638Z"
   },
   {
    "duration": 5017,
    "start_time": "2022-08-02T11:52:09.593Z"
   },
   {
    "duration": 6978,
    "start_time": "2022-08-02T11:52:14.612Z"
   },
   {
    "duration": 20759,
    "start_time": "2022-08-02T11:52:21.592Z"
   },
   {
    "duration": 657,
    "start_time": "2022-08-02T11:52:42.353Z"
   },
   {
    "duration": 1363,
    "start_time": "2022-08-02T11:52:43.012Z"
   },
   {
    "duration": 182,
    "start_time": "2022-08-02T11:52:44.377Z"
   },
   {
    "duration": 19517,
    "start_time": "2022-08-02T11:52:44.561Z"
   },
   {
    "duration": 1408,
    "start_time": "2022-08-02T11:53:04.079Z"
   },
   {
    "duration": 1953,
    "start_time": "2022-08-02T11:53:05.489Z"
   },
   {
    "duration": 295,
    "start_time": "2022-08-02T11:53:07.444Z"
   },
   {
    "duration": 487,
    "start_time": "2022-08-02T11:53:07.742Z"
   },
   {
    "duration": 587,
    "start_time": "2022-08-02T11:53:08.231Z"
   },
   {
    "duration": 215,
    "start_time": "2022-08-02T11:53:08.823Z"
   },
   {
    "duration": 652,
    "start_time": "2022-08-02T11:55:14.612Z"
   },
   {
    "duration": 716,
    "start_time": "2022-08-02T11:55:37.076Z"
   },
   {
    "duration": 629,
    "start_time": "2022-08-02T11:58:42.521Z"
   },
   {
    "duration": 693,
    "start_time": "2022-08-02T11:59:08.722Z"
   },
   {
    "duration": 1317,
    "start_time": "2022-08-02T11:59:22.023Z"
   },
   {
    "duration": 1339,
    "start_time": "2022-08-02T11:59:31.960Z"
   },
   {
    "duration": 41,
    "start_time": "2022-08-02T11:59:33.301Z"
   },
   {
    "duration": 17,
    "start_time": "2022-08-02T11:59:33.343Z"
   },
   {
    "duration": 12,
    "start_time": "2022-08-02T11:59:33.362Z"
   },
   {
    "duration": 16,
    "start_time": "2022-08-02T11:59:33.376Z"
   },
   {
    "duration": 14,
    "start_time": "2022-08-02T11:59:33.394Z"
   },
   {
    "duration": 5,
    "start_time": "2022-08-02T11:59:33.409Z"
   },
   {
    "duration": 24,
    "start_time": "2022-08-02T11:59:33.415Z"
   },
   {
    "duration": 8,
    "start_time": "2022-08-02T11:59:33.441Z"
   },
   {
    "duration": 25,
    "start_time": "2022-08-02T11:59:33.451Z"
   },
   {
    "duration": 8,
    "start_time": "2022-08-02T11:59:33.477Z"
   },
   {
    "duration": 58,
    "start_time": "2022-08-02T11:59:33.486Z"
   },
   {
    "duration": 207,
    "start_time": "2022-08-02T11:59:33.546Z"
   },
   {
    "duration": 66,
    "start_time": "2022-08-02T11:59:33.755Z"
   },
   {
    "duration": 74,
    "start_time": "2022-08-02T11:59:33.822Z"
   },
   {
    "duration": 27,
    "start_time": "2022-08-02T11:59:33.898Z"
   },
   {
    "duration": 13,
    "start_time": "2022-08-02T11:59:33.926Z"
   },
   {
    "duration": 6,
    "start_time": "2022-08-02T11:59:33.940Z"
   },
   {
    "duration": 33,
    "start_time": "2022-08-02T11:59:33.948Z"
   },
   {
    "duration": 958,
    "start_time": "2022-08-02T11:59:33.982Z"
   },
   {
    "duration": 5128,
    "start_time": "2022-08-02T11:59:34.941Z"
   },
   {
    "duration": 6983,
    "start_time": "2022-08-02T11:59:40.070Z"
   },
   {
    "duration": 20723,
    "start_time": "2022-08-02T11:59:47.055Z"
   },
   {
    "duration": 625,
    "start_time": "2022-08-02T12:00:07.780Z"
   },
   {
    "duration": 1386,
    "start_time": "2022-08-02T12:00:08.407Z"
   },
   {
    "duration": 183,
    "start_time": "2022-08-02T12:00:09.795Z"
   },
   {
    "duration": 19446,
    "start_time": "2022-08-02T12:00:09.979Z"
   },
   {
    "duration": 1483,
    "start_time": "2022-08-02T12:00:29.428Z"
   },
   {
    "duration": 1330,
    "start_time": "2022-08-02T12:00:30.912Z"
   },
   {
    "duration": 400,
    "start_time": "2022-08-02T12:00:32.244Z"
   },
   {
    "duration": 463,
    "start_time": "2022-08-02T12:00:32.646Z"
   },
   {
    "duration": 567,
    "start_time": "2022-08-02T12:00:33.110Z"
   },
   {
    "duration": 162,
    "start_time": "2022-08-02T12:00:33.678Z"
   },
   {
    "duration": 669,
    "start_time": "2022-08-02T12:02:16.574Z"
   },
   {
    "duration": 41,
    "start_time": "2022-08-02T12:03:23.983Z"
   },
   {
    "duration": 8,
    "start_time": "2022-08-02T12:03:40.167Z"
   },
   {
    "duration": 1299,
    "start_time": "2022-08-02T12:04:07.424Z"
   },
   {
    "duration": 42,
    "start_time": "2022-08-02T12:04:08.725Z"
   },
   {
    "duration": 16,
    "start_time": "2022-08-02T12:04:08.769Z"
   },
   {
    "duration": 13,
    "start_time": "2022-08-02T12:04:08.787Z"
   },
   {
    "duration": 8,
    "start_time": "2022-08-02T12:04:08.802Z"
   },
   {
    "duration": 7,
    "start_time": "2022-08-02T12:04:08.811Z"
   },
   {
    "duration": 31,
    "start_time": "2022-08-02T12:04:08.820Z"
   },
   {
    "duration": 8,
    "start_time": "2022-08-02T12:04:08.853Z"
   },
   {
    "duration": 16,
    "start_time": "2022-08-02T12:04:08.862Z"
   },
   {
    "duration": 29,
    "start_time": "2022-08-02T12:04:08.880Z"
   },
   {
    "duration": 31,
    "start_time": "2022-08-02T12:04:08.911Z"
   },
   {
    "duration": 5,
    "start_time": "2022-08-02T12:04:08.946Z"
   },
   {
    "duration": 238,
    "start_time": "2022-08-02T12:04:08.953Z"
   },
   {
    "duration": 70,
    "start_time": "2022-08-02T12:04:09.194Z"
   },
   {
    "duration": 56,
    "start_time": "2022-08-02T12:04:09.266Z"
   },
   {
    "duration": 35,
    "start_time": "2022-08-02T12:04:09.324Z"
   },
   {
    "duration": 3,
    "start_time": "2022-08-02T12:04:09.361Z"
   },
   {
    "duration": 6,
    "start_time": "2022-08-02T12:04:09.366Z"
   },
   {
    "duration": 38,
    "start_time": "2022-08-02T12:04:09.374Z"
   },
   {
    "duration": 893,
    "start_time": "2022-08-02T12:04:09.414Z"
   },
   {
    "duration": 4988,
    "start_time": "2022-08-02T12:04:10.308Z"
   },
   {
    "duration": 7112,
    "start_time": "2022-08-02T12:04:15.298Z"
   },
   {
    "duration": 20900,
    "start_time": "2022-08-02T12:04:22.412Z"
   },
   {
    "duration": 604,
    "start_time": "2022-08-02T12:04:43.314Z"
   },
   {
    "duration": 1367,
    "start_time": "2022-08-02T12:04:43.919Z"
   },
   {
    "duration": 200,
    "start_time": "2022-08-02T12:04:45.288Z"
   },
   {
    "duration": 19291,
    "start_time": "2022-08-02T12:04:45.490Z"
   },
   {
    "duration": 1510,
    "start_time": "2022-08-02T12:05:04.783Z"
   },
   {
    "duration": 1342,
    "start_time": "2022-08-02T12:05:06.295Z"
   },
   {
    "duration": 297,
    "start_time": "2022-08-02T12:05:07.642Z"
   },
   {
    "duration": 584,
    "start_time": "2022-08-02T12:05:07.942Z"
   },
   {
    "duration": 635,
    "start_time": "2022-08-02T12:05:08.528Z"
   },
   {
    "duration": 167,
    "start_time": "2022-08-02T12:05:09.166Z"
   },
   {
    "duration": 275,
    "start_time": "2022-08-02T12:07:59.862Z"
   },
   {
    "duration": 19603,
    "start_time": "2022-08-02T12:08:21.555Z"
   },
   {
    "duration": 11,
    "start_time": "2022-08-02T12:09:00.024Z"
   },
   {
    "duration": 7150,
    "start_time": "2022-08-02T12:09:28.020Z"
   },
   {
    "duration": 20747,
    "start_time": "2022-08-02T12:09:55.735Z"
   },
   {
    "duration": 1491,
    "start_time": "2022-08-02T12:10:33.923Z"
   },
   {
    "duration": 1540,
    "start_time": "2022-08-02T17:37:40.063Z"
   },
   {
    "duration": 77,
    "start_time": "2022-08-02T17:37:41.605Z"
   },
   {
    "duration": 14,
    "start_time": "2022-08-02T17:37:41.684Z"
   },
   {
    "duration": 11,
    "start_time": "2022-08-02T17:37:41.700Z"
   },
   {
    "duration": 8,
    "start_time": "2022-08-02T17:37:41.713Z"
   },
   {
    "duration": 7,
    "start_time": "2022-08-02T17:37:41.722Z"
   },
   {
    "duration": 12,
    "start_time": "2022-08-02T17:37:41.730Z"
   },
   {
    "duration": 4,
    "start_time": "2022-08-02T17:37:41.744Z"
   },
   {
    "duration": 7,
    "start_time": "2022-08-02T17:37:41.749Z"
   },
   {
    "duration": 6,
    "start_time": "2022-08-02T17:37:41.758Z"
   },
   {
    "duration": 46,
    "start_time": "2022-08-02T17:37:41.765Z"
   },
   {
    "duration": 3,
    "start_time": "2022-08-02T17:37:41.813Z"
   },
   {
    "duration": 193,
    "start_time": "2022-08-02T17:37:41.818Z"
   },
   {
    "duration": 68,
    "start_time": "2022-08-02T17:37:42.013Z"
   },
   {
    "duration": 70,
    "start_time": "2022-08-02T17:37:42.083Z"
   },
   {
    "duration": 27,
    "start_time": "2022-08-02T17:37:42.155Z"
   },
   {
    "duration": 17,
    "start_time": "2022-08-02T17:37:42.184Z"
   },
   {
    "duration": 5,
    "start_time": "2022-08-02T17:37:42.203Z"
   },
   {
    "duration": 36,
    "start_time": "2022-08-02T17:37:42.210Z"
   },
   {
    "duration": 909,
    "start_time": "2022-08-02T17:37:42.247Z"
   },
   {
    "duration": 4913,
    "start_time": "2022-08-02T17:37:43.158Z"
   },
   {
    "duration": 7259,
    "start_time": "2022-08-02T17:37:48.073Z"
   },
   {
    "duration": 22331,
    "start_time": "2022-08-02T17:37:55.334Z"
   },
   {
    "duration": 699,
    "start_time": "2022-08-02T17:38:17.667Z"
   },
   {
    "duration": 1582,
    "start_time": "2022-08-02T17:38:18.368Z"
   },
   {
    "duration": 194,
    "start_time": "2022-08-02T17:38:19.953Z"
   },
   {
    "duration": 21539,
    "start_time": "2022-08-02T17:38:20.149Z"
   },
   {
    "duration": 1516,
    "start_time": "2022-08-02T17:38:41.691Z"
   },
   {
    "duration": 1296,
    "start_time": "2022-08-02T17:38:43.208Z"
   },
   {
    "duration": 396,
    "start_time": "2022-08-02T17:38:44.505Z"
   },
   {
    "duration": 505,
    "start_time": "2022-08-02T17:38:44.905Z"
   },
   {
    "duration": 588,
    "start_time": "2022-08-02T17:38:45.412Z"
   },
   {
    "duration": 147,
    "start_time": "2022-08-02T17:38:46.001Z"
   },
   {
    "duration": 49,
    "start_time": "2022-08-03T17:30:19.498Z"
   },
   {
    "duration": 1452,
    "start_time": "2022-08-03T17:30:29.729Z"
   },
   {
    "duration": 80,
    "start_time": "2022-08-03T17:30:31.183Z"
   },
   {
    "duration": 17,
    "start_time": "2022-08-03T17:30:31.264Z"
   },
   {
    "duration": 24,
    "start_time": "2022-08-03T17:30:31.282Z"
   },
   {
    "duration": 50,
    "start_time": "2022-08-03T17:30:31.307Z"
   },
   {
    "duration": 59,
    "start_time": "2022-08-03T17:30:31.358Z"
   },
   {
    "duration": 24,
    "start_time": "2022-08-03T17:30:31.419Z"
   },
   {
    "duration": 6,
    "start_time": "2022-08-03T17:30:31.445Z"
   },
   {
    "duration": 41,
    "start_time": "2022-08-03T17:30:31.452Z"
   },
   {
    "duration": 13,
    "start_time": "2022-08-03T17:30:31.496Z"
   },
   {
    "duration": 22,
    "start_time": "2022-08-03T17:30:31.510Z"
   },
   {
    "duration": 10,
    "start_time": "2022-08-03T17:30:31.534Z"
   },
   {
    "duration": 26,
    "start_time": "2022-08-03T17:30:31.545Z"
   },
   {
    "duration": 9,
    "start_time": "2022-08-03T17:30:31.573Z"
   },
   {
    "duration": 14,
    "start_time": "2022-08-03T17:30:31.583Z"
   },
   {
    "duration": 7,
    "start_time": "2022-08-03T17:30:31.599Z"
   },
   {
    "duration": 8,
    "start_time": "2022-08-03T17:30:31.608Z"
   },
   {
    "duration": 7,
    "start_time": "2022-08-03T17:30:31.618Z"
   },
   {
    "duration": 39,
    "start_time": "2022-08-03T17:30:31.627Z"
   },
   {
    "duration": 162,
    "start_time": "2022-08-03T17:30:31.668Z"
   },
   {
    "duration": 352,
    "start_time": "2022-08-03T17:30:31.831Z"
   },
   {
    "duration": 868,
    "start_time": "2022-08-03T17:30:32.185Z"
   },
   {
    "duration": 2220,
    "start_time": "2022-08-03T17:30:33.054Z"
   },
   {
    "duration": 296,
    "start_time": "2022-08-03T17:30:35.276Z"
   },
   {
    "duration": 77,
    "start_time": "2022-08-03T17:30:35.574Z"
   },
   {
    "duration": 21,
    "start_time": "2022-08-03T17:30:35.653Z"
   },
   {
    "duration": 1326,
    "start_time": "2022-08-03T17:30:35.676Z"
   },
   {
    "duration": 284,
    "start_time": "2022-08-03T17:30:37.005Z"
   },
   {
    "duration": 45,
    "start_time": "2022-08-03T17:30:37.291Z"
   },
   {
    "duration": 181,
    "start_time": "2022-08-03T17:30:37.338Z"
   },
   {
    "duration": 208,
    "start_time": "2022-08-03T17:30:37.521Z"
   },
   {
    "duration": 39,
    "start_time": "2022-08-03T17:30:37.731Z"
   },
   {
    "duration": 131,
    "start_time": "2022-08-03T17:30:37.772Z"
   },
   {
    "duration": 50,
    "start_time": "2022-08-03T17:31:35.708Z"
   },
   {
    "duration": 26,
    "start_time": "2022-08-03T17:32:47.958Z"
   },
   {
    "duration": 25,
    "start_time": "2022-08-03T17:32:54.393Z"
   },
   {
    "duration": 166,
    "start_time": "2022-08-03T17:34:43.606Z"
   },
   {
    "duration": 152,
    "start_time": "2022-08-03T17:35:18.788Z"
   },
   {
    "duration": 309,
    "start_time": "2022-08-03T17:35:28.132Z"
   },
   {
    "duration": 149,
    "start_time": "2022-08-03T17:35:34.660Z"
   },
   {
    "duration": 173,
    "start_time": "2022-08-03T17:35:43.007Z"
   },
   {
    "duration": 438,
    "start_time": "2022-08-03T17:35:52.603Z"
   },
   {
    "duration": 152,
    "start_time": "2022-08-03T17:36:02.914Z"
   },
   {
    "duration": 101,
    "start_time": "2022-08-03T17:37:25.306Z"
   },
   {
    "duration": 112,
    "start_time": "2022-08-03T17:37:39.783Z"
   },
   {
    "duration": 101,
    "start_time": "2022-08-03T17:37:47.958Z"
   },
   {
    "duration": 106,
    "start_time": "2022-08-03T17:37:52.106Z"
   },
   {
    "duration": 106,
    "start_time": "2022-08-03T17:38:00.014Z"
   },
   {
    "duration": 104,
    "start_time": "2022-08-03T17:38:03.490Z"
   },
   {
    "duration": 105,
    "start_time": "2022-08-03T17:38:08.608Z"
   },
   {
    "duration": 109,
    "start_time": "2022-08-03T17:38:13.611Z"
   },
   {
    "duration": 103,
    "start_time": "2022-08-03T17:38:18.309Z"
   },
   {
    "duration": 273,
    "start_time": "2022-08-03T17:39:17.021Z"
   },
   {
    "duration": 64,
    "start_time": "2022-08-03T17:40:19.749Z"
   },
   {
    "duration": 12,
    "start_time": "2022-08-03T17:40:29.849Z"
   },
   {
    "duration": 1263,
    "start_time": "2022-08-03T17:41:02.803Z"
   },
   {
    "duration": 39,
    "start_time": "2022-08-03T17:41:04.069Z"
   },
   {
    "duration": 14,
    "start_time": "2022-08-03T17:41:04.112Z"
   },
   {
    "duration": 11,
    "start_time": "2022-08-03T17:41:04.128Z"
   },
   {
    "duration": 10,
    "start_time": "2022-08-03T17:41:04.140Z"
   },
   {
    "duration": 6,
    "start_time": "2022-08-03T17:41:04.152Z"
   },
   {
    "duration": 16,
    "start_time": "2022-08-03T17:41:04.160Z"
   },
   {
    "duration": 12,
    "start_time": "2022-08-03T17:41:04.177Z"
   },
   {
    "duration": 14,
    "start_time": "2022-08-03T17:41:04.210Z"
   },
   {
    "duration": 8,
    "start_time": "2022-08-03T17:41:04.226Z"
   },
   {
    "duration": 6,
    "start_time": "2022-08-03T17:41:04.235Z"
   },
   {
    "duration": 5,
    "start_time": "2022-08-03T17:41:04.243Z"
   },
   {
    "duration": 12,
    "start_time": "2022-08-03T17:41:04.250Z"
   },
   {
    "duration": 5,
    "start_time": "2022-08-03T17:41:04.264Z"
   },
   {
    "duration": 7,
    "start_time": "2022-08-03T17:41:04.270Z"
   },
   {
    "duration": 5,
    "start_time": "2022-08-03T17:41:04.278Z"
   },
   {
    "duration": 27,
    "start_time": "2022-08-03T17:41:04.285Z"
   },
   {
    "duration": 14,
    "start_time": "2022-08-03T17:41:04.314Z"
   },
   {
    "duration": 34,
    "start_time": "2022-08-03T17:41:04.329Z"
   },
   {
    "duration": 155,
    "start_time": "2022-08-03T17:41:04.365Z"
   },
   {
    "duration": 339,
    "start_time": "2022-08-03T17:41:04.522Z"
   },
   {
    "duration": 820,
    "start_time": "2022-08-03T17:41:04.863Z"
   },
   {
    "duration": 2154,
    "start_time": "2022-08-03T17:41:05.684Z"
   },
   {
    "duration": 237,
    "start_time": "2022-08-03T17:41:07.840Z"
   },
   {
    "duration": 171,
    "start_time": "2022-08-03T17:41:08.078Z"
   },
   {
    "duration": 114,
    "start_time": "2022-08-03T17:41:08.251Z"
   },
   {
    "duration": 1404,
    "start_time": "2022-08-03T17:41:08.369Z"
   },
   {
    "duration": 279,
    "start_time": "2022-08-03T17:41:09.774Z"
   },
   {
    "duration": 59,
    "start_time": "2022-08-03T17:41:10.054Z"
   },
   {
    "duration": 105,
    "start_time": "2022-08-03T17:41:10.115Z"
   },
   {
    "duration": 119,
    "start_time": "2022-08-03T17:41:10.313Z"
   },
   {
    "duration": 40,
    "start_time": "2022-08-03T17:41:10.434Z"
   },
   {
    "duration": 128,
    "start_time": "2022-08-03T17:41:10.476Z"
   },
   {
    "duration": 31069,
    "start_time": "2022-08-03T17:42:35.174Z"
   },
   {
    "duration": 115,
    "start_time": "2022-08-03T17:43:33.941Z"
   },
   {
    "duration": 1384,
    "start_time": "2022-08-03T17:46:10.603Z"
   },
   {
    "duration": 44,
    "start_time": "2022-08-03T17:46:11.988Z"
   },
   {
    "duration": 15,
    "start_time": "2022-08-03T17:46:12.033Z"
   },
   {
    "duration": 13,
    "start_time": "2022-08-03T17:46:12.050Z"
   },
   {
    "duration": 13,
    "start_time": "2022-08-03T17:46:12.064Z"
   },
   {
    "duration": 8,
    "start_time": "2022-08-03T17:46:12.078Z"
   },
   {
    "duration": 12,
    "start_time": "2022-08-03T17:46:12.087Z"
   },
   {
    "duration": 10,
    "start_time": "2022-08-03T17:46:12.101Z"
   },
   {
    "duration": 144,
    "start_time": "2022-08-03T17:46:12.112Z"
   },
   {
    "duration": 5,
    "start_time": "2022-08-03T17:46:12.259Z"
   },
   {
    "duration": 17,
    "start_time": "2022-08-03T17:46:12.265Z"
   },
   {
    "duration": 21,
    "start_time": "2022-08-03T17:46:12.284Z"
   },
   {
    "duration": 9,
    "start_time": "2022-08-03T17:46:12.307Z"
   },
   {
    "duration": 27,
    "start_time": "2022-08-03T17:46:12.317Z"
   },
   {
    "duration": 28,
    "start_time": "2022-08-03T17:46:12.346Z"
   },
   {
    "duration": 16,
    "start_time": "2022-08-03T17:46:12.376Z"
   },
   {
    "duration": 28,
    "start_time": "2022-08-03T17:46:12.394Z"
   },
   {
    "duration": 18,
    "start_time": "2022-08-03T17:46:12.424Z"
   },
   {
    "duration": 27,
    "start_time": "2022-08-03T17:46:12.443Z"
   },
   {
    "duration": 56,
    "start_time": "2022-08-03T17:46:12.472Z"
   },
   {
    "duration": 174,
    "start_time": "2022-08-03T17:46:12.530Z"
   },
   {
    "duration": 341,
    "start_time": "2022-08-03T17:46:12.712Z"
   },
   {
    "duration": 795,
    "start_time": "2022-08-03T17:46:13.054Z"
   },
   {
    "duration": 2137,
    "start_time": "2022-08-03T17:46:13.851Z"
   },
   {
    "duration": 286,
    "start_time": "2022-08-03T17:46:15.990Z"
   },
   {
    "duration": 167,
    "start_time": "2022-08-03T17:46:16.278Z"
   },
   {
    "duration": 177,
    "start_time": "2022-08-03T17:46:16.447Z"
   },
   {
    "duration": 1316,
    "start_time": "2022-08-03T17:46:16.627Z"
   },
   {
    "duration": 280,
    "start_time": "2022-08-03T17:46:17.944Z"
   },
   {
    "duration": 33,
    "start_time": "2022-08-03T17:46:18.226Z"
   },
   {
    "duration": 105,
    "start_time": "2022-08-03T17:46:18.311Z"
   },
   {
    "duration": 210,
    "start_time": "2022-08-03T17:46:18.417Z"
   },
   {
    "duration": 39,
    "start_time": "2022-08-03T17:46:18.628Z"
   },
   {
    "duration": 128,
    "start_time": "2022-08-03T17:46:18.668Z"
   },
   {
    "duration": 12,
    "start_time": "2022-08-03T17:47:08.926Z"
   },
   {
    "duration": 10,
    "start_time": "2022-08-03T17:48:53.851Z"
   },
   {
    "duration": 8,
    "start_time": "2022-08-03T17:49:13.035Z"
   },
   {
    "duration": 4,
    "start_time": "2022-08-03T17:51:38.993Z"
   },
   {
    "duration": 114,
    "start_time": "2022-08-03T17:57:49.533Z"
   },
   {
    "duration": 311,
    "start_time": "2022-08-03T18:01:16.353Z"
   },
   {
    "duration": 32,
    "start_time": "2022-08-03T18:04:35.292Z"
   },
   {
    "duration": 42,
    "start_time": "2022-08-03T18:05:23.597Z"
   },
   {
    "duration": 33,
    "start_time": "2022-08-03T18:07:11.659Z"
   },
   {
    "duration": 756,
    "start_time": "2022-08-03T18:10:12.672Z"
   },
   {
    "duration": 13449,
    "start_time": "2022-08-03T18:10:26.481Z"
   },
   {
    "duration": 7568,
    "start_time": "2022-08-03T18:11:08.259Z"
   },
   {
    "duration": 775,
    "start_time": "2022-08-03T18:11:24.881Z"
   },
   {
    "duration": 254,
    "start_time": "2022-08-03T18:11:43.620Z"
   },
   {
    "duration": 3287,
    "start_time": "2022-08-03T18:11:50.950Z"
   },
   {
    "duration": 1465,
    "start_time": "2022-08-03T18:12:10.746Z"
   },
   {
    "duration": 832,
    "start_time": "2022-08-03T18:12:19.153Z"
   },
   {
    "duration": 1488,
    "start_time": "2022-08-03T18:12:26.694Z"
   },
   {
    "duration": 166,
    "start_time": "2022-08-03T18:12:50.761Z"
   },
   {
    "duration": 188,
    "start_time": "2022-08-03T18:13:22.428Z"
   },
   {
    "duration": 26,
    "start_time": "2022-08-03T18:15:01.601Z"
   },
   {
    "duration": 152,
    "start_time": "2022-08-03T18:16:50.176Z"
   },
   {
    "duration": 175,
    "start_time": "2022-08-03T18:16:58.190Z"
   },
   {
    "duration": 154,
    "start_time": "2022-08-03T18:17:07.931Z"
   },
   {
    "duration": 391,
    "start_time": "2022-08-03T18:17:14.077Z"
   },
   {
    "duration": 138,
    "start_time": "2022-08-03T18:17:22.991Z"
   },
   {
    "duration": 151,
    "start_time": "2022-08-03T18:17:27.242Z"
   },
   {
    "duration": 1459,
    "start_time": "2022-08-03T18:20:52.299Z"
   },
   {
    "duration": 40,
    "start_time": "2022-08-03T18:20:53.760Z"
   },
   {
    "duration": 12,
    "start_time": "2022-08-03T18:20:53.801Z"
   },
   {
    "duration": 18,
    "start_time": "2022-08-03T18:20:53.815Z"
   },
   {
    "duration": 11,
    "start_time": "2022-08-03T18:20:53.834Z"
   },
   {
    "duration": 8,
    "start_time": "2022-08-03T18:20:53.846Z"
   },
   {
    "duration": 7,
    "start_time": "2022-08-03T18:20:53.855Z"
   },
   {
    "duration": 154,
    "start_time": "2022-08-03T18:20:53.863Z"
   },
   {
    "duration": 8,
    "start_time": "2022-08-03T18:20:54.018Z"
   },
   {
    "duration": 11,
    "start_time": "2022-08-03T18:20:54.028Z"
   },
   {
    "duration": 4,
    "start_time": "2022-08-03T18:20:54.040Z"
   },
   {
    "duration": 151,
    "start_time": "2022-08-03T18:20:54.045Z"
   },
   {
    "duration": 5,
    "start_time": "2022-08-03T18:20:54.198Z"
   },
   {
    "duration": 13,
    "start_time": "2022-08-03T18:20:54.204Z"
   },
   {
    "duration": 20,
    "start_time": "2022-08-03T18:20:54.219Z"
   },
   {
    "duration": 6,
    "start_time": "2022-08-03T18:20:54.240Z"
   },
   {
    "duration": 11,
    "start_time": "2022-08-03T18:20:54.247Z"
   },
   {
    "duration": 5,
    "start_time": "2022-08-03T18:20:54.259Z"
   },
   {
    "duration": 7,
    "start_time": "2022-08-03T18:20:54.266Z"
   },
   {
    "duration": 6,
    "start_time": "2022-08-03T18:20:54.274Z"
   },
   {
    "duration": 7,
    "start_time": "2022-08-03T18:20:54.281Z"
   },
   {
    "duration": 5,
    "start_time": "2022-08-03T18:20:54.289Z"
   },
   {
    "duration": 35,
    "start_time": "2022-08-03T18:20:54.311Z"
   },
   {
    "duration": 158,
    "start_time": "2022-08-03T18:20:54.348Z"
   },
   {
    "duration": 343,
    "start_time": "2022-08-03T18:20:54.507Z"
   },
   {
    "duration": 32,
    "start_time": "2022-08-03T18:20:54.852Z"
   },
   {
    "duration": 862,
    "start_time": "2022-08-03T18:20:54.885Z"
   },
   {
    "duration": 1566,
    "start_time": "2022-08-03T18:20:55.751Z"
   },
   {
    "duration": 171,
    "start_time": "2022-08-03T18:20:57.321Z"
   },
   {
    "duration": 275,
    "start_time": "2022-08-03T18:20:57.494Z"
   },
   {
    "duration": 48,
    "start_time": "2022-08-03T18:20:57.770Z"
   },
   {
    "duration": 378,
    "start_time": "2022-08-03T18:20:57.820Z"
   },
   {
    "duration": 136,
    "start_time": "2022-08-03T18:20:58.200Z"
   },
   {
    "duration": 1448,
    "start_time": "2022-08-03T18:20:58.338Z"
   },
   {
    "duration": 321,
    "start_time": "2022-08-03T18:20:59.788Z"
   },
   {
    "duration": 45,
    "start_time": "2022-08-03T18:21:00.110Z"
   },
   {
    "duration": 155,
    "start_time": "2022-08-03T18:21:00.157Z"
   },
   {
    "duration": 131,
    "start_time": "2022-08-03T18:21:00.314Z"
   },
   {
    "duration": 46,
    "start_time": "2022-08-03T18:21:00.446Z"
   },
   {
    "duration": 137,
    "start_time": "2022-08-03T18:21:00.494Z"
   },
   {
    "duration": 1312,
    "start_time": "2022-08-03T18:22:15.649Z"
   },
   {
    "duration": 95,
    "start_time": "2022-08-03T18:22:40.760Z"
   },
   {
    "duration": 191,
    "start_time": "2022-08-03T18:24:22.655Z"
   },
   {
    "duration": 100,
    "start_time": "2022-08-03T18:25:04.553Z"
   },
   {
    "duration": 1071,
    "start_time": "2022-08-03T18:25:13.557Z"
   },
   {
    "duration": 310,
    "start_time": "2022-08-03T18:25:41.426Z"
   },
   {
    "duration": 84,
    "start_time": "2022-08-03T18:25:51.330Z"
   },
   {
    "duration": 18,
    "start_time": "2022-08-03T18:25:57.324Z"
   },
   {
    "duration": 223,
    "start_time": "2022-08-03T18:27:07.437Z"
   },
   {
    "duration": 75,
    "start_time": "2022-08-03T18:27:17.825Z"
   },
   {
    "duration": 152,
    "start_time": "2022-08-03T18:27:34.330Z"
   },
   {
    "duration": 215,
    "start_time": "2022-08-03T18:28:10.827Z"
   },
   {
    "duration": 198,
    "start_time": "2022-08-03T18:28:44.869Z"
   },
   {
    "duration": 151,
    "start_time": "2022-08-03T18:30:34.326Z"
   },
   {
    "duration": 120,
    "start_time": "2022-08-03T18:35:44.063Z"
   },
   {
    "duration": 106,
    "start_time": "2022-08-03T18:36:15.566Z"
   },
   {
    "duration": 107,
    "start_time": "2022-08-03T18:36:25.833Z"
   },
   {
    "duration": 105,
    "start_time": "2022-08-03T18:36:29.734Z"
   },
   {
    "duration": 21,
    "start_time": "2022-08-03T18:36:35.250Z"
   },
   {
    "duration": 134,
    "start_time": "2022-08-03T18:36:42.125Z"
   },
   {
    "duration": 101,
    "start_time": "2022-08-03T18:36:47.558Z"
   },
   {
    "duration": 113,
    "start_time": "2022-08-03T18:36:51.826Z"
   },
   {
    "duration": 127,
    "start_time": "2022-08-03T18:36:57.730Z"
   },
   {
    "duration": 210,
    "start_time": "2022-08-03T18:37:02.632Z"
   },
   {
    "duration": 124,
    "start_time": "2022-08-03T18:37:09.471Z"
   },
   {
    "duration": 107,
    "start_time": "2022-08-03T18:37:14.180Z"
   },
   {
    "duration": 109,
    "start_time": "2022-08-03T18:37:19.124Z"
   },
   {
    "duration": 109,
    "start_time": "2022-08-03T18:37:21.935Z"
   },
   {
    "duration": 136,
    "start_time": "2022-08-03T18:37:42.524Z"
   },
   {
    "duration": 178,
    "start_time": "2022-08-03T18:39:32.618Z"
   },
   {
    "duration": 155,
    "start_time": "2022-08-03T18:39:38.648Z"
   },
   {
    "duration": 136,
    "start_time": "2022-08-03T18:39:45.838Z"
   },
   {
    "duration": 179,
    "start_time": "2022-08-03T18:40:15.629Z"
   },
   {
    "duration": 184,
    "start_time": "2022-08-03T18:54:14.554Z"
   },
   {
    "duration": 146,
    "start_time": "2022-08-03T18:54:19.923Z"
   },
   {
    "duration": 229,
    "start_time": "2022-08-03T18:54:25.363Z"
   },
   {
    "duration": 247,
    "start_time": "2022-08-03T18:54:33.654Z"
   },
   {
    "duration": 232,
    "start_time": "2022-08-03T18:54:39.336Z"
   },
   {
    "duration": 301,
    "start_time": "2022-08-03T18:54:45.160Z"
   },
   {
    "duration": 197,
    "start_time": "2022-08-03T18:54:49.431Z"
   },
   {
    "duration": 181,
    "start_time": "2022-08-03T18:54:54.285Z"
   },
   {
    "duration": 173,
    "start_time": "2022-08-03T18:54:58.631Z"
   },
   {
    "duration": 167,
    "start_time": "2022-08-03T18:55:03.097Z"
   },
   {
    "duration": 159,
    "start_time": "2022-08-03T18:55:07.223Z"
   },
   {
    "duration": 1372,
    "start_time": "2022-08-03T18:55:17.295Z"
   },
   {
    "duration": 39,
    "start_time": "2022-08-03T18:55:18.670Z"
   },
   {
    "duration": 15,
    "start_time": "2022-08-03T18:55:18.711Z"
   },
   {
    "duration": 15,
    "start_time": "2022-08-03T18:55:18.729Z"
   },
   {
    "duration": 11,
    "start_time": "2022-08-03T18:55:18.745Z"
   },
   {
    "duration": 14,
    "start_time": "2022-08-03T18:55:18.757Z"
   },
   {
    "duration": 8,
    "start_time": "2022-08-03T18:55:18.772Z"
   },
   {
    "duration": 154,
    "start_time": "2022-08-03T18:55:18.781Z"
   },
   {
    "duration": 5,
    "start_time": "2022-08-03T18:55:18.937Z"
   },
   {
    "duration": 15,
    "start_time": "2022-08-03T18:55:18.944Z"
   },
   {
    "duration": 5,
    "start_time": "2022-08-03T18:55:18.961Z"
   },
   {
    "duration": 146,
    "start_time": "2022-08-03T18:55:18.968Z"
   },
   {
    "duration": 7,
    "start_time": "2022-08-03T18:55:19.116Z"
   },
   {
    "duration": 17,
    "start_time": "2022-08-03T18:55:19.125Z"
   },
   {
    "duration": 5,
    "start_time": "2022-08-03T18:55:19.144Z"
   },
   {
    "duration": 5,
    "start_time": "2022-08-03T18:55:19.150Z"
   },
   {
    "duration": 12,
    "start_time": "2022-08-03T18:55:19.156Z"
   },
   {
    "duration": 5,
    "start_time": "2022-08-03T18:55:19.170Z"
   },
   {
    "duration": 7,
    "start_time": "2022-08-03T18:55:19.176Z"
   },
   {
    "duration": 6,
    "start_time": "2022-08-03T18:55:19.184Z"
   },
   {
    "duration": 22,
    "start_time": "2022-08-03T18:55:19.191Z"
   },
   {
    "duration": 8,
    "start_time": "2022-08-03T18:55:19.215Z"
   },
   {
    "duration": 34,
    "start_time": "2022-08-03T18:55:19.226Z"
   },
   {
    "duration": 162,
    "start_time": "2022-08-03T18:55:19.261Z"
   },
   {
    "duration": 338,
    "start_time": "2022-08-03T18:55:19.424Z"
   },
   {
    "duration": 33,
    "start_time": "2022-08-03T18:55:19.764Z"
   },
   {
    "duration": 827,
    "start_time": "2022-08-03T18:55:19.811Z"
   },
   {
    "duration": 1537,
    "start_time": "2022-08-03T18:55:20.641Z"
   },
   {
    "duration": 175,
    "start_time": "2022-08-03T18:55:22.180Z"
   },
   {
    "duration": 221,
    "start_time": "2022-08-03T18:55:22.357Z"
   },
   {
    "duration": 132,
    "start_time": "2022-08-03T18:55:22.580Z"
   },
   {
    "duration": 344,
    "start_time": "2022-08-03T18:55:22.714Z"
   },
   {
    "duration": 126,
    "start_time": "2022-08-03T18:55:23.059Z"
   },
   {
    "duration": 309,
    "start_time": "2022-08-03T18:55:23.186Z"
   },
   {
    "duration": 85,
    "start_time": "2022-08-03T18:55:23.497Z"
   },
   {
    "duration": 53,
    "start_time": "2022-08-03T18:55:23.584Z"
   },
   {
    "duration": 102,
    "start_time": "2022-08-03T18:55:23.711Z"
   },
   {
    "duration": 385,
    "start_time": "2022-08-03T18:55:23.815Z"
   },
   {
    "duration": 212,
    "start_time": "2022-08-03T18:55:24.201Z"
   },
   {
    "duration": 136,
    "start_time": "2022-08-03T18:55:24.415Z"
   },
   {
    "duration": 171,
    "start_time": "2022-08-03T18:57:25.124Z"
   },
   {
    "duration": 1356,
    "start_time": "2022-08-03T18:57:32.494Z"
   },
   {
    "duration": 40,
    "start_time": "2022-08-03T18:57:33.854Z"
   },
   {
    "duration": 12,
    "start_time": "2022-08-03T18:57:33.895Z"
   },
   {
    "duration": 30,
    "start_time": "2022-08-03T18:57:33.908Z"
   },
   {
    "duration": 12,
    "start_time": "2022-08-03T18:57:33.940Z"
   },
   {
    "duration": 8,
    "start_time": "2022-08-03T18:57:33.953Z"
   },
   {
    "duration": 7,
    "start_time": "2022-08-03T18:57:33.963Z"
   },
   {
    "duration": 131,
    "start_time": "2022-08-03T18:57:33.972Z"
   },
   {
    "duration": 10,
    "start_time": "2022-08-03T18:57:34.113Z"
   },
   {
    "duration": 14,
    "start_time": "2022-08-03T18:57:34.124Z"
   },
   {
    "duration": 6,
    "start_time": "2022-08-03T18:57:34.139Z"
   },
   {
    "duration": 136,
    "start_time": "2022-08-03T18:57:34.147Z"
   },
   {
    "duration": 5,
    "start_time": "2022-08-03T18:57:34.285Z"
   },
   {
    "duration": 28,
    "start_time": "2022-08-03T18:57:34.293Z"
   },
   {
    "duration": 6,
    "start_time": "2022-08-03T18:57:34.323Z"
   },
   {
    "duration": 7,
    "start_time": "2022-08-03T18:57:34.330Z"
   },
   {
    "duration": 12,
    "start_time": "2022-08-03T18:57:34.338Z"
   },
   {
    "duration": 5,
    "start_time": "2022-08-03T18:57:34.352Z"
   },
   {
    "duration": 5,
    "start_time": "2022-08-03T18:57:34.359Z"
   },
   {
    "duration": 4,
    "start_time": "2022-08-03T18:57:34.366Z"
   },
   {
    "duration": 3,
    "start_time": "2022-08-03T18:57:34.372Z"
   },
   {
    "duration": 5,
    "start_time": "2022-08-03T18:57:34.377Z"
   },
   {
    "duration": 59,
    "start_time": "2022-08-03T18:57:34.384Z"
   },
   {
    "duration": 147,
    "start_time": "2022-08-03T18:57:34.444Z"
   },
   {
    "duration": 330,
    "start_time": "2022-08-03T18:57:34.593Z"
   },
   {
    "duration": 34,
    "start_time": "2022-08-03T18:57:34.925Z"
   },
   {
    "duration": 857,
    "start_time": "2022-08-03T18:57:34.960Z"
   },
   {
    "duration": 1530,
    "start_time": "2022-08-03T18:57:35.819Z"
   },
   {
    "duration": 179,
    "start_time": "2022-08-03T18:57:37.351Z"
   },
   {
    "duration": 242,
    "start_time": "2022-08-03T18:57:37.532Z"
   },
   {
    "duration": 46,
    "start_time": "2022-08-03T18:57:37.776Z"
   },
   {
    "duration": 415,
    "start_time": "2022-08-03T18:57:37.824Z"
   },
   {
    "duration": 119,
    "start_time": "2022-08-03T18:57:38.240Z"
   },
   {
    "duration": 365,
    "start_time": "2022-08-03T18:57:38.361Z"
   },
   {
    "duration": 81,
    "start_time": "2022-08-03T18:57:38.728Z"
   },
   {
    "duration": 119,
    "start_time": "2022-08-03T18:57:38.811Z"
   },
   {
    "duration": 186,
    "start_time": "2022-08-03T18:57:38.932Z"
   },
   {
    "duration": 445,
    "start_time": "2022-08-03T18:57:39.122Z"
   },
   {
    "duration": 211,
    "start_time": "2022-08-03T18:57:39.568Z"
   },
   {
    "duration": 132,
    "start_time": "2022-08-03T18:57:39.781Z"
   },
   {
    "duration": 166,
    "start_time": "2022-08-03T18:57:54.925Z"
   },
   {
    "duration": 175,
    "start_time": "2022-08-03T18:58:00.375Z"
   },
   {
    "duration": 163,
    "start_time": "2022-08-03T18:58:05.446Z"
   },
   {
    "duration": 165,
    "start_time": "2022-08-03T18:58:09.538Z"
   },
   {
    "duration": 163,
    "start_time": "2022-08-03T18:58:12.844Z"
   },
   {
    "duration": 163,
    "start_time": "2022-08-03T18:58:15.944Z"
   },
   {
    "duration": 193,
    "start_time": "2022-08-03T18:58:20.626Z"
   },
   {
    "duration": 272,
    "start_time": "2022-08-03T18:58:25.163Z"
   },
   {
    "duration": 417,
    "start_time": "2022-08-03T18:58:30.024Z"
   },
   {
    "duration": 599,
    "start_time": "2022-08-03T18:58:34.629Z"
   },
   {
    "duration": 795,
    "start_time": "2022-08-03T18:58:41.025Z"
   },
   {
    "duration": 963,
    "start_time": "2022-08-03T18:58:47.080Z"
   },
   {
    "duration": 153,
    "start_time": "2022-08-03T18:58:51.972Z"
   },
   {
    "duration": 145,
    "start_time": "2022-08-03T18:58:56.257Z"
   },
   {
    "duration": 158,
    "start_time": "2022-08-03T18:59:00.896Z"
   },
   {
    "duration": 144,
    "start_time": "2022-08-03T18:59:04.953Z"
   },
   {
    "duration": 160,
    "start_time": "2022-08-03T18:59:08.724Z"
   },
   {
    "duration": 176,
    "start_time": "2022-08-03T18:59:12.766Z"
   },
   {
    "duration": 158,
    "start_time": "2022-08-03T18:59:15.324Z"
   },
   {
    "duration": 1256,
    "start_time": "2022-08-03T18:59:24.975Z"
   },
   {
    "duration": 41,
    "start_time": "2022-08-03T18:59:26.233Z"
   },
   {
    "duration": 13,
    "start_time": "2022-08-03T18:59:26.275Z"
   },
   {
    "duration": 14,
    "start_time": "2022-08-03T18:59:26.290Z"
   },
   {
    "duration": 18,
    "start_time": "2022-08-03T18:59:26.306Z"
   },
   {
    "duration": 10,
    "start_time": "2022-08-03T18:59:26.325Z"
   },
   {
    "duration": 8,
    "start_time": "2022-08-03T18:59:26.336Z"
   },
   {
    "duration": 143,
    "start_time": "2022-08-03T18:59:26.346Z"
   },
   {
    "duration": 5,
    "start_time": "2022-08-03T18:59:26.491Z"
   },
   {
    "duration": 26,
    "start_time": "2022-08-03T18:59:26.498Z"
   },
   {
    "duration": 4,
    "start_time": "2022-08-03T18:59:26.525Z"
   },
   {
    "duration": 134,
    "start_time": "2022-08-03T18:59:26.531Z"
   },
   {
    "duration": 6,
    "start_time": "2022-08-03T18:59:26.666Z"
   },
   {
    "duration": 13,
    "start_time": "2022-08-03T18:59:26.673Z"
   },
   {
    "duration": 6,
    "start_time": "2022-08-03T18:59:26.687Z"
   },
   {
    "duration": 18,
    "start_time": "2022-08-03T18:59:26.694Z"
   },
   {
    "duration": 13,
    "start_time": "2022-08-03T18:59:26.713Z"
   },
   {
    "duration": 8,
    "start_time": "2022-08-03T18:59:26.727Z"
   },
   {
    "duration": 7,
    "start_time": "2022-08-03T18:59:26.736Z"
   },
   {
    "duration": 8,
    "start_time": "2022-08-03T18:59:26.744Z"
   },
   {
    "duration": 8,
    "start_time": "2022-08-03T18:59:26.753Z"
   },
   {
    "duration": 4,
    "start_time": "2022-08-03T18:59:26.762Z"
   },
   {
    "duration": 57,
    "start_time": "2022-08-03T18:59:26.767Z"
   },
   {
    "duration": 153,
    "start_time": "2022-08-03T18:59:26.825Z"
   },
   {
    "duration": 347,
    "start_time": "2022-08-03T18:59:26.979Z"
   },
   {
    "duration": 34,
    "start_time": "2022-08-03T18:59:27.328Z"
   },
   {
    "duration": 833,
    "start_time": "2022-08-03T18:59:27.363Z"
   },
   {
    "duration": 1527,
    "start_time": "2022-08-03T18:59:28.199Z"
   },
   {
    "duration": 194,
    "start_time": "2022-08-03T18:59:29.728Z"
   },
   {
    "duration": 253,
    "start_time": "2022-08-03T18:59:29.924Z"
   },
   {
    "duration": 49,
    "start_time": "2022-08-03T18:59:30.178Z"
   },
   {
    "duration": 517,
    "start_time": "2022-08-03T18:59:30.229Z"
   },
   {
    "duration": 126,
    "start_time": "2022-08-03T18:59:30.747Z"
   },
   {
    "duration": 270,
    "start_time": "2022-08-03T18:59:30.875Z"
   },
   {
    "duration": 86,
    "start_time": "2022-08-03T18:59:31.147Z"
   },
   {
    "duration": 88,
    "start_time": "2022-08-03T18:59:31.234Z"
   },
   {
    "duration": 112,
    "start_time": "2022-08-03T18:59:31.323Z"
   },
   {
    "duration": 422,
    "start_time": "2022-08-03T18:59:31.436Z"
   },
   {
    "duration": 208,
    "start_time": "2022-08-03T18:59:31.859Z"
   },
   {
    "duration": 130,
    "start_time": "2022-08-03T18:59:32.068Z"
   },
   {
    "duration": 185,
    "start_time": "2022-08-03T18:59:51.149Z"
   },
   {
    "duration": 158,
    "start_time": "2022-08-03T18:59:55.830Z"
   },
   {
    "duration": 1458,
    "start_time": "2022-08-03T19:00:01.764Z"
   },
   {
    "duration": 41,
    "start_time": "2022-08-03T19:00:03.224Z"
   },
   {
    "duration": 12,
    "start_time": "2022-08-03T19:00:03.266Z"
   },
   {
    "duration": 19,
    "start_time": "2022-08-03T19:00:03.279Z"
   },
   {
    "duration": 22,
    "start_time": "2022-08-03T19:00:03.300Z"
   },
   {
    "duration": 13,
    "start_time": "2022-08-03T19:00:03.324Z"
   },
   {
    "duration": 8,
    "start_time": "2022-08-03T19:00:03.339Z"
   },
   {
    "duration": 128,
    "start_time": "2022-08-03T19:00:03.349Z"
   },
   {
    "duration": 4,
    "start_time": "2022-08-03T19:00:03.479Z"
   },
   {
    "duration": 14,
    "start_time": "2022-08-03T19:00:03.484Z"
   },
   {
    "duration": 5,
    "start_time": "2022-08-03T19:00:03.499Z"
   },
   {
    "duration": 147,
    "start_time": "2022-08-03T19:00:03.514Z"
   },
   {
    "duration": 5,
    "start_time": "2022-08-03T19:00:03.663Z"
   },
   {
    "duration": 9,
    "start_time": "2022-08-03T19:00:03.671Z"
   },
   {
    "duration": 15,
    "start_time": "2022-08-03T19:00:03.681Z"
   },
   {
    "duration": 8,
    "start_time": "2022-08-03T19:00:03.698Z"
   },
   {
    "duration": 28,
    "start_time": "2022-08-03T19:00:03.708Z"
   },
   {
    "duration": 5,
    "start_time": "2022-08-03T19:00:03.738Z"
   },
   {
    "duration": 10,
    "start_time": "2022-08-03T19:00:03.744Z"
   },
   {
    "duration": 5,
    "start_time": "2022-08-03T19:00:03.756Z"
   },
   {
    "duration": 4,
    "start_time": "2022-08-03T19:00:03.762Z"
   },
   {
    "duration": 5,
    "start_time": "2022-08-03T19:00:03.768Z"
   },
   {
    "duration": 34,
    "start_time": "2022-08-03T19:00:03.774Z"
   },
   {
    "duration": 144,
    "start_time": "2022-08-03T19:00:03.810Z"
   },
   {
    "duration": 336,
    "start_time": "2022-08-03T19:00:03.955Z"
   },
   {
    "duration": 45,
    "start_time": "2022-08-03T19:00:04.293Z"
   },
   {
    "duration": 842,
    "start_time": "2022-08-03T19:00:04.340Z"
   },
   {
    "duration": 1576,
    "start_time": "2022-08-03T19:00:05.184Z"
   },
   {
    "duration": 172,
    "start_time": "2022-08-03T19:00:06.761Z"
   },
   {
    "duration": 233,
    "start_time": "2022-08-03T19:00:06.935Z"
   },
   {
    "duration": 53,
    "start_time": "2022-08-03T19:00:07.169Z"
   },
   {
    "duration": 397,
    "start_time": "2022-08-03T19:00:07.224Z"
   },
   {
    "duration": 122,
    "start_time": "2022-08-03T19:00:07.623Z"
   },
   {
    "duration": 289,
    "start_time": "2022-08-03T19:00:07.746Z"
   },
   {
    "duration": 91,
    "start_time": "2022-08-03T19:00:08.036Z"
   },
   {
    "duration": 95,
    "start_time": "2022-08-03T19:00:08.128Z"
   },
   {
    "duration": 187,
    "start_time": "2022-08-03T19:00:08.228Z"
   },
   {
    "duration": 365,
    "start_time": "2022-08-03T19:00:08.417Z"
   },
   {
    "duration": 207,
    "start_time": "2022-08-03T19:00:08.784Z"
   },
   {
    "duration": 133,
    "start_time": "2022-08-03T19:00:08.992Z"
   },
   {
    "duration": 121,
    "start_time": "2022-08-03T19:00:43.822Z"
   },
   {
    "duration": 13,
    "start_time": "2022-08-03T19:00:51.151Z"
   },
   {
    "duration": 2,
    "start_time": "2022-08-03T19:01:05.035Z"
   },
   {
    "duration": 1260,
    "start_time": "2022-08-03T19:01:13.694Z"
   },
   {
    "duration": 40,
    "start_time": "2022-08-03T19:01:14.956Z"
   },
   {
    "duration": 12,
    "start_time": "2022-08-03T19:01:14.998Z"
   },
   {
    "duration": 23,
    "start_time": "2022-08-03T19:01:15.014Z"
   },
   {
    "duration": 11,
    "start_time": "2022-08-03T19:01:15.039Z"
   },
   {
    "duration": 8,
    "start_time": "2022-08-03T19:01:15.052Z"
   },
   {
    "duration": 11,
    "start_time": "2022-08-03T19:01:15.062Z"
   },
   {
    "duration": 149,
    "start_time": "2022-08-03T19:01:15.075Z"
   },
   {
    "duration": 3,
    "start_time": "2022-08-03T19:01:15.226Z"
   },
   {
    "duration": 7,
    "start_time": "2022-08-03T19:01:15.230Z"
   },
   {
    "duration": 858,
    "start_time": "2022-08-03T19:01:15.239Z"
   },
   {
    "duration": 0,
    "start_time": "2022-08-03T19:01:16.099Z"
   },
   {
    "duration": 0,
    "start_time": "2022-08-03T19:01:16.100Z"
   },
   {
    "duration": 0,
    "start_time": "2022-08-03T19:01:16.102Z"
   },
   {
    "duration": 0,
    "start_time": "2022-08-03T19:01:16.103Z"
   },
   {
    "duration": 0,
    "start_time": "2022-08-03T19:01:16.104Z"
   },
   {
    "duration": 0,
    "start_time": "2022-08-03T19:01:16.105Z"
   },
   {
    "duration": 0,
    "start_time": "2022-08-03T19:01:16.106Z"
   },
   {
    "duration": 0,
    "start_time": "2022-08-03T19:01:16.107Z"
   },
   {
    "duration": 0,
    "start_time": "2022-08-03T19:01:16.108Z"
   },
   {
    "duration": 0,
    "start_time": "2022-08-03T19:01:16.109Z"
   },
   {
    "duration": 0,
    "start_time": "2022-08-03T19:01:16.109Z"
   },
   {
    "duration": 0,
    "start_time": "2022-08-03T19:01:16.111Z"
   },
   {
    "duration": 0,
    "start_time": "2022-08-03T19:01:16.111Z"
   },
   {
    "duration": 0,
    "start_time": "2022-08-03T19:01:16.112Z"
   },
   {
    "duration": 0,
    "start_time": "2022-08-03T19:01:16.112Z"
   },
   {
    "duration": 0,
    "start_time": "2022-08-03T19:01:16.113Z"
   },
   {
    "duration": 0,
    "start_time": "2022-08-03T19:01:16.117Z"
   },
   {
    "duration": 0,
    "start_time": "2022-08-03T19:01:16.119Z"
   },
   {
    "duration": 0,
    "start_time": "2022-08-03T19:01:16.119Z"
   },
   {
    "duration": 0,
    "start_time": "2022-08-03T19:01:16.120Z"
   },
   {
    "duration": 0,
    "start_time": "2022-08-03T19:01:16.121Z"
   },
   {
    "duration": 0,
    "start_time": "2022-08-03T19:01:16.122Z"
   },
   {
    "duration": 0,
    "start_time": "2022-08-03T19:01:16.125Z"
   },
   {
    "duration": 0,
    "start_time": "2022-08-03T19:01:16.126Z"
   },
   {
    "duration": 0,
    "start_time": "2022-08-03T19:01:16.127Z"
   },
   {
    "duration": 0,
    "start_time": "2022-08-03T19:01:16.128Z"
   },
   {
    "duration": 0,
    "start_time": "2022-08-03T19:01:16.130Z"
   },
   {
    "duration": 0,
    "start_time": "2022-08-03T19:01:16.130Z"
   },
   {
    "duration": 0,
    "start_time": "2022-08-03T19:01:16.131Z"
   },
   {
    "duration": 1329,
    "start_time": "2022-08-03T19:02:20.681Z"
   },
   {
    "duration": 47,
    "start_time": "2022-08-03T19:02:22.012Z"
   },
   {
    "duration": 11,
    "start_time": "2022-08-03T19:02:22.061Z"
   },
   {
    "duration": 14,
    "start_time": "2022-08-03T19:02:22.074Z"
   },
   {
    "duration": 10,
    "start_time": "2022-08-03T19:02:22.090Z"
   },
   {
    "duration": 8,
    "start_time": "2022-08-03T19:02:22.102Z"
   },
   {
    "duration": 13,
    "start_time": "2022-08-03T19:02:22.121Z"
   },
   {
    "duration": 121,
    "start_time": "2022-08-03T19:02:22.136Z"
   },
   {
    "duration": 6,
    "start_time": "2022-08-03T19:02:22.258Z"
   },
   {
    "duration": 15,
    "start_time": "2022-08-03T19:02:22.265Z"
   },
   {
    "duration": 6,
    "start_time": "2022-08-03T19:02:22.281Z"
   },
   {
    "duration": 145,
    "start_time": "2022-08-03T19:02:22.288Z"
   },
   {
    "duration": 6,
    "start_time": "2022-08-03T19:02:22.434Z"
   },
   {
    "duration": 10,
    "start_time": "2022-08-03T19:02:22.443Z"
   },
   {
    "duration": 7,
    "start_time": "2022-08-03T19:02:22.455Z"
   },
   {
    "duration": 5,
    "start_time": "2022-08-03T19:02:22.463Z"
   },
   {
    "duration": 13,
    "start_time": "2022-08-03T19:02:22.470Z"
   },
   {
    "duration": 11,
    "start_time": "2022-08-03T19:02:22.484Z"
   },
   {
    "duration": 19,
    "start_time": "2022-08-03T19:02:22.517Z"
   },
   {
    "duration": 7,
    "start_time": "2022-08-03T19:02:22.538Z"
   },
   {
    "duration": 10,
    "start_time": "2022-08-03T19:02:22.547Z"
   },
   {
    "duration": 6,
    "start_time": "2022-08-03T19:02:22.559Z"
   },
   {
    "duration": 51,
    "start_time": "2022-08-03T19:02:22.567Z"
   },
   {
    "duration": 167,
    "start_time": "2022-08-03T19:02:22.625Z"
   },
   {
    "duration": 346,
    "start_time": "2022-08-03T19:02:22.797Z"
   },
   {
    "duration": 33,
    "start_time": "2022-08-03T19:02:23.144Z"
   },
   {
    "duration": 821,
    "start_time": "2022-08-03T19:02:23.179Z"
   },
   {
    "duration": 1547,
    "start_time": "2022-08-03T19:02:24.002Z"
   },
   {
    "duration": 172,
    "start_time": "2022-08-03T19:02:25.550Z"
   },
   {
    "duration": 257,
    "start_time": "2022-08-03T19:02:25.724Z"
   },
   {
    "duration": 143,
    "start_time": "2022-08-03T19:02:25.982Z"
   },
   {
    "duration": 306,
    "start_time": "2022-08-03T19:02:26.127Z"
   },
   {
    "duration": 118,
    "start_time": "2022-08-03T19:02:26.434Z"
   },
   {
    "duration": 284,
    "start_time": "2022-08-03T19:02:26.554Z"
   },
   {
    "duration": 90,
    "start_time": "2022-08-03T19:02:26.840Z"
   },
   {
    "duration": 85,
    "start_time": "2022-08-03T19:02:26.932Z"
   },
   {
    "duration": 106,
    "start_time": "2022-08-03T19:02:27.019Z"
   },
   {
    "duration": 364,
    "start_time": "2022-08-03T19:02:27.127Z"
   },
   {
    "duration": 205,
    "start_time": "2022-08-03T19:02:27.492Z"
   },
   {
    "duration": 126,
    "start_time": "2022-08-03T19:02:27.699Z"
   },
   {
    "duration": 5,
    "start_time": "2022-08-03T19:03:29.962Z"
   },
   {
    "duration": 1264,
    "start_time": "2022-08-03T19:03:38.773Z"
   },
   {
    "duration": 40,
    "start_time": "2022-08-03T19:03:40.038Z"
   },
   {
    "duration": 13,
    "start_time": "2022-08-03T19:03:40.079Z"
   },
   {
    "duration": 30,
    "start_time": "2022-08-03T19:03:40.094Z"
   },
   {
    "duration": 30,
    "start_time": "2022-08-03T19:03:40.125Z"
   },
   {
    "duration": 10,
    "start_time": "2022-08-03T19:03:40.157Z"
   },
   {
    "duration": 12,
    "start_time": "2022-08-03T19:03:40.169Z"
   },
   {
    "duration": 147,
    "start_time": "2022-08-03T19:03:40.183Z"
   },
   {
    "duration": 6,
    "start_time": "2022-08-03T19:03:40.331Z"
   },
   {
    "duration": 12,
    "start_time": "2022-08-03T19:03:40.340Z"
   },
   {
    "duration": 9,
    "start_time": "2022-08-03T19:03:40.354Z"
   },
   {
    "duration": 154,
    "start_time": "2022-08-03T19:03:40.365Z"
   },
   {
    "duration": 6,
    "start_time": "2022-08-03T19:03:40.521Z"
   },
   {
    "duration": 17,
    "start_time": "2022-08-03T19:03:40.529Z"
   },
   {
    "duration": 20,
    "start_time": "2022-08-03T19:03:40.547Z"
   },
   {
    "duration": 10,
    "start_time": "2022-08-03T19:03:40.568Z"
   },
   {
    "duration": 22,
    "start_time": "2022-08-03T19:03:40.580Z"
   },
   {
    "duration": 23,
    "start_time": "2022-08-03T19:03:40.604Z"
   },
   {
    "duration": 15,
    "start_time": "2022-08-03T19:03:40.628Z"
   },
   {
    "duration": 26,
    "start_time": "2022-08-03T19:03:40.644Z"
   },
   {
    "duration": 27,
    "start_time": "2022-08-03T19:03:40.671Z"
   },
   {
    "duration": 38,
    "start_time": "2022-08-03T19:03:40.700Z"
   },
   {
    "duration": 51,
    "start_time": "2022-08-03T19:03:40.740Z"
   },
   {
    "duration": 140,
    "start_time": "2022-08-03T19:03:40.792Z"
   },
   {
    "duration": 335,
    "start_time": "2022-08-03T19:03:40.934Z"
   },
   {
    "duration": 52,
    "start_time": "2022-08-03T19:03:41.271Z"
   },
   {
    "duration": 823,
    "start_time": "2022-08-03T19:03:41.325Z"
   },
   {
    "duration": 1589,
    "start_time": "2022-08-03T19:03:42.152Z"
   },
   {
    "duration": 180,
    "start_time": "2022-08-03T19:03:43.743Z"
   },
   {
    "duration": 249,
    "start_time": "2022-08-03T19:03:43.925Z"
   },
   {
    "duration": 50,
    "start_time": "2022-08-03T19:03:44.175Z"
   },
   {
    "duration": 395,
    "start_time": "2022-08-03T19:03:44.229Z"
   },
   {
    "duration": 124,
    "start_time": "2022-08-03T19:03:44.626Z"
   },
   {
    "duration": 272,
    "start_time": "2022-08-03T19:03:44.751Z"
   },
   {
    "duration": 96,
    "start_time": "2022-08-03T19:03:45.025Z"
   },
   {
    "duration": 98,
    "start_time": "2022-08-03T19:03:45.124Z"
   },
   {
    "duration": 109,
    "start_time": "2022-08-03T19:03:45.224Z"
   },
   {
    "duration": 353,
    "start_time": "2022-08-03T19:03:45.414Z"
   },
   {
    "duration": 124,
    "start_time": "2022-08-03T19:03:45.769Z"
   },
   {
    "duration": 7,
    "start_time": "2022-08-03T19:04:59.943Z"
   },
   {
    "duration": 1263,
    "start_time": "2022-08-03T19:05:07.172Z"
   },
   {
    "duration": 39,
    "start_time": "2022-08-03T19:05:08.437Z"
   },
   {
    "duration": 11,
    "start_time": "2022-08-03T19:05:08.478Z"
   },
   {
    "duration": 17,
    "start_time": "2022-08-03T19:05:08.491Z"
   },
   {
    "duration": 17,
    "start_time": "2022-08-03T19:05:08.509Z"
   },
   {
    "duration": 7,
    "start_time": "2022-08-03T19:05:08.527Z"
   },
   {
    "duration": 8,
    "start_time": "2022-08-03T19:05:08.535Z"
   },
   {
    "duration": 139,
    "start_time": "2022-08-03T19:05:08.544Z"
   },
   {
    "duration": 8,
    "start_time": "2022-08-03T19:05:08.684Z"
   },
   {
    "duration": 29,
    "start_time": "2022-08-03T19:05:08.694Z"
   },
   {
    "duration": 5,
    "start_time": "2022-08-03T19:05:08.725Z"
   },
   {
    "duration": 123,
    "start_time": "2022-08-03T19:05:08.732Z"
   },
   {
    "duration": 6,
    "start_time": "2022-08-03T19:05:08.857Z"
   },
   {
    "duration": 23,
    "start_time": "2022-08-03T19:05:08.864Z"
   },
   {
    "duration": 39,
    "start_time": "2022-08-03T19:05:08.888Z"
   },
   {
    "duration": 25,
    "start_time": "2022-08-03T19:05:08.928Z"
   },
   {
    "duration": 35,
    "start_time": "2022-08-03T19:05:08.955Z"
   },
   {
    "duration": 18,
    "start_time": "2022-08-03T19:05:08.992Z"
   },
   {
    "duration": 21,
    "start_time": "2022-08-03T19:05:09.018Z"
   },
   {
    "duration": 19,
    "start_time": "2022-08-03T19:05:09.041Z"
   },
   {
    "duration": 33,
    "start_time": "2022-08-03T19:05:09.061Z"
   },
   {
    "duration": 28,
    "start_time": "2022-08-03T19:05:09.096Z"
   },
   {
    "duration": 44,
    "start_time": "2022-08-03T19:05:09.127Z"
   },
   {
    "duration": 130,
    "start_time": "2022-08-03T19:05:09.173Z"
   },
   {
    "duration": 325,
    "start_time": "2022-08-03T19:05:09.305Z"
   },
   {
    "duration": 32,
    "start_time": "2022-08-03T19:05:09.632Z"
   },
   {
    "duration": 813,
    "start_time": "2022-08-03T19:05:09.665Z"
   },
   {
    "duration": 1408,
    "start_time": "2022-08-03T19:05:10.482Z"
   },
   {
    "duration": 171,
    "start_time": "2022-08-03T19:05:11.891Z"
   },
   {
    "duration": 213,
    "start_time": "2022-08-03T19:05:12.064Z"
   },
   {
    "duration": 54,
    "start_time": "2022-08-03T19:05:12.279Z"
   },
   {
    "duration": 343,
    "start_time": "2022-08-03T19:05:12.421Z"
   },
   {
    "duration": 135,
    "start_time": "2022-08-03T19:05:12.766Z"
   },
   {
    "duration": 271,
    "start_time": "2022-08-03T19:05:12.902Z"
   },
   {
    "duration": 83,
    "start_time": "2022-08-03T19:05:13.174Z"
   },
   {
    "duration": 65,
    "start_time": "2022-08-03T19:05:13.258Z"
   },
   {
    "duration": 212,
    "start_time": "2022-08-03T19:05:13.325Z"
   },
   {
    "duration": 336,
    "start_time": "2022-08-03T19:05:13.611Z"
   },
   {
    "duration": 121,
    "start_time": "2022-08-03T19:05:13.949Z"
   },
   {
    "duration": 1259,
    "start_time": "2022-08-03T19:06:07.737Z"
   },
   {
    "duration": 45,
    "start_time": "2022-08-03T19:06:08.998Z"
   },
   {
    "duration": 12,
    "start_time": "2022-08-03T19:06:09.044Z"
   },
   {
    "duration": 21,
    "start_time": "2022-08-03T19:06:09.057Z"
   },
   {
    "duration": 11,
    "start_time": "2022-08-03T19:06:09.080Z"
   },
   {
    "duration": 10,
    "start_time": "2022-08-03T19:06:09.092Z"
   },
   {
    "duration": 13,
    "start_time": "2022-08-03T19:06:09.104Z"
   },
   {
    "duration": 138,
    "start_time": "2022-08-03T19:06:09.119Z"
   },
   {
    "duration": 6,
    "start_time": "2022-08-03T19:06:09.258Z"
   },
   {
    "duration": 13,
    "start_time": "2022-08-03T19:06:09.266Z"
   },
   {
    "duration": 5,
    "start_time": "2022-08-03T19:06:09.280Z"
   },
   {
    "duration": 142,
    "start_time": "2022-08-03T19:06:09.287Z"
   },
   {
    "duration": 10,
    "start_time": "2022-08-03T19:06:09.431Z"
   },
   {
    "duration": 7,
    "start_time": "2022-08-03T19:06:09.444Z"
   },
   {
    "duration": 30,
    "start_time": "2022-08-03T19:06:09.452Z"
   },
   {
    "duration": 13,
    "start_time": "2022-08-03T19:06:09.484Z"
   },
   {
    "duration": 13,
    "start_time": "2022-08-03T19:06:09.498Z"
   },
   {
    "duration": 17,
    "start_time": "2022-08-03T19:06:09.512Z"
   },
   {
    "duration": 6,
    "start_time": "2022-08-03T19:06:09.530Z"
   },
   {
    "duration": 7,
    "start_time": "2022-08-03T19:06:09.537Z"
   },
   {
    "duration": 4,
    "start_time": "2022-08-03T19:06:09.545Z"
   },
   {
    "duration": 7,
    "start_time": "2022-08-03T19:06:09.551Z"
   },
   {
    "duration": 35,
    "start_time": "2022-08-03T19:06:09.559Z"
   },
   {
    "duration": 164,
    "start_time": "2022-08-03T19:06:09.595Z"
   },
   {
    "duration": 334,
    "start_time": "2022-08-03T19:06:09.760Z"
   },
   {
    "duration": 50,
    "start_time": "2022-08-03T19:06:10.096Z"
   },
   {
    "duration": 844,
    "start_time": "2022-08-03T19:06:10.148Z"
   },
   {
    "duration": 1593,
    "start_time": "2022-08-03T19:06:10.994Z"
   },
   {
    "duration": 207,
    "start_time": "2022-08-03T19:06:12.589Z"
   },
   {
    "duration": 270,
    "start_time": "2022-08-03T19:06:12.798Z"
   },
   {
    "duration": 148,
    "start_time": "2022-08-03T19:06:13.069Z"
   },
   {
    "duration": 314,
    "start_time": "2022-08-03T19:06:13.219Z"
   },
   {
    "duration": 116,
    "start_time": "2022-08-03T19:06:13.534Z"
   },
   {
    "duration": 284,
    "start_time": "2022-08-03T19:06:13.652Z"
   },
   {
    "duration": 91,
    "start_time": "2022-08-03T19:06:13.937Z"
   },
   {
    "duration": 86,
    "start_time": "2022-08-03T19:06:14.029Z"
   },
   {
    "duration": 113,
    "start_time": "2022-08-03T19:06:14.117Z"
   },
   {
    "duration": 463,
    "start_time": "2022-08-03T19:06:14.232Z"
   },
   {
    "duration": 124,
    "start_time": "2022-08-03T19:06:14.697Z"
   },
   {
    "duration": 5,
    "start_time": "2022-08-03T19:06:33.484Z"
   },
   {
    "duration": 1275,
    "start_time": "2022-08-03T19:06:39.876Z"
   },
   {
    "duration": 40,
    "start_time": "2022-08-03T19:06:41.153Z"
   },
   {
    "duration": 13,
    "start_time": "2022-08-03T19:06:41.195Z"
   },
   {
    "duration": 18,
    "start_time": "2022-08-03T19:06:41.209Z"
   },
   {
    "duration": 12,
    "start_time": "2022-08-03T19:06:41.229Z"
   },
   {
    "duration": 9,
    "start_time": "2022-08-03T19:06:41.243Z"
   },
   {
    "duration": 9,
    "start_time": "2022-08-03T19:06:41.253Z"
   },
   {
    "duration": 153,
    "start_time": "2022-08-03T19:06:41.264Z"
   },
   {
    "duration": 6,
    "start_time": "2022-08-03T19:06:41.423Z"
   },
   {
    "duration": 16,
    "start_time": "2022-08-03T19:06:41.430Z"
   },
   {
    "duration": 5,
    "start_time": "2022-08-03T19:06:41.448Z"
   },
   {
    "duration": 130,
    "start_time": "2022-08-03T19:06:41.455Z"
   },
   {
    "duration": 6,
    "start_time": "2022-08-03T19:06:41.586Z"
   },
   {
    "duration": 30,
    "start_time": "2022-08-03T19:06:41.595Z"
   },
   {
    "duration": 6,
    "start_time": "2022-08-03T19:06:41.626Z"
   },
   {
    "duration": 6,
    "start_time": "2022-08-03T19:06:41.634Z"
   },
   {
    "duration": 11,
    "start_time": "2022-08-03T19:06:41.641Z"
   },
   {
    "duration": 5,
    "start_time": "2022-08-03T19:06:41.654Z"
   },
   {
    "duration": 5,
    "start_time": "2022-08-03T19:06:41.660Z"
   },
   {
    "duration": 4,
    "start_time": "2022-08-03T19:06:41.666Z"
   },
   {
    "duration": 4,
    "start_time": "2022-08-03T19:06:41.672Z"
   },
   {
    "duration": 5,
    "start_time": "2022-08-03T19:06:41.678Z"
   },
   {
    "duration": 57,
    "start_time": "2022-08-03T19:06:41.684Z"
   },
   {
    "duration": 146,
    "start_time": "2022-08-03T19:06:41.742Z"
   },
   {
    "duration": 338,
    "start_time": "2022-08-03T19:06:41.890Z"
   },
   {
    "duration": 32,
    "start_time": "2022-08-03T19:06:42.230Z"
   },
   {
    "duration": 880,
    "start_time": "2022-08-03T19:06:42.263Z"
   },
   {
    "duration": 1539,
    "start_time": "2022-08-03T19:06:43.144Z"
   },
   {
    "duration": 174,
    "start_time": "2022-08-03T19:06:44.684Z"
   },
   {
    "duration": 293,
    "start_time": "2022-08-03T19:06:44.860Z"
   },
   {
    "duration": 72,
    "start_time": "2022-08-03T19:06:45.154Z"
   },
   {
    "duration": 341,
    "start_time": "2022-08-03T19:06:45.228Z"
   },
   {
    "duration": 123,
    "start_time": "2022-08-03T19:06:45.571Z"
   },
   {
    "duration": 289,
    "start_time": "2022-08-03T19:06:45.695Z"
   },
   {
    "duration": 85,
    "start_time": "2022-08-03T19:06:45.985Z"
   },
   {
    "duration": 64,
    "start_time": "2022-08-03T19:06:46.072Z"
   },
   {
    "duration": 190,
    "start_time": "2022-08-03T19:06:46.138Z"
   },
   {
    "duration": 353,
    "start_time": "2022-08-03T19:06:46.329Z"
   },
   {
    "duration": 129,
    "start_time": "2022-08-03T19:06:46.684Z"
   },
   {
    "duration": 205,
    "start_time": "2022-08-03T19:12:17.342Z"
   },
   {
    "duration": 1347,
    "start_time": "2022-08-03T19:12:30.460Z"
   },
   {
    "duration": 53,
    "start_time": "2022-08-03T19:12:31.809Z"
   },
   {
    "duration": 13,
    "start_time": "2022-08-03T19:12:31.864Z"
   },
   {
    "duration": 21,
    "start_time": "2022-08-03T19:12:31.879Z"
   },
   {
    "duration": 35,
    "start_time": "2022-08-03T19:12:31.902Z"
   },
   {
    "duration": 13,
    "start_time": "2022-08-03T19:12:31.939Z"
   },
   {
    "duration": 7,
    "start_time": "2022-08-03T19:12:31.954Z"
   },
   {
    "duration": 132,
    "start_time": "2022-08-03T19:12:31.963Z"
   },
   {
    "duration": 5,
    "start_time": "2022-08-03T19:12:32.097Z"
   },
   {
    "duration": 21,
    "start_time": "2022-08-03T19:12:32.104Z"
   },
   {
    "duration": 13,
    "start_time": "2022-08-03T19:12:32.128Z"
   },
   {
    "duration": 139,
    "start_time": "2022-08-03T19:12:32.142Z"
   },
   {
    "duration": 6,
    "start_time": "2022-08-03T19:12:32.283Z"
   },
   {
    "duration": 10,
    "start_time": "2022-08-03T19:12:32.290Z"
   },
   {
    "duration": 11,
    "start_time": "2022-08-03T19:12:32.315Z"
   },
   {
    "duration": 10,
    "start_time": "2022-08-03T19:12:32.328Z"
   },
   {
    "duration": 19,
    "start_time": "2022-08-03T19:12:32.340Z"
   },
   {
    "duration": 7,
    "start_time": "2022-08-03T19:12:32.361Z"
   },
   {
    "duration": 7,
    "start_time": "2022-08-03T19:12:32.370Z"
   },
   {
    "duration": 5,
    "start_time": "2022-08-03T19:12:32.378Z"
   },
   {
    "duration": 21,
    "start_time": "2022-08-03T19:12:32.384Z"
   },
   {
    "duration": 32,
    "start_time": "2022-08-03T19:12:32.407Z"
   },
   {
    "duration": 33,
    "start_time": "2022-08-03T19:12:32.442Z"
   },
   {
    "duration": 174,
    "start_time": "2022-08-03T19:12:32.477Z"
   },
   {
    "duration": 393,
    "start_time": "2022-08-03T19:12:32.653Z"
   },
   {
    "duration": 35,
    "start_time": "2022-08-03T19:12:33.047Z"
   },
   {
    "duration": 897,
    "start_time": "2022-08-03T19:12:33.083Z"
   },
   {
    "duration": 1601,
    "start_time": "2022-08-03T19:12:33.984Z"
   },
   {
    "duration": 179,
    "start_time": "2022-08-03T19:12:35.587Z"
   },
   {
    "duration": 205,
    "start_time": "2022-08-03T19:12:35.768Z"
   },
   {
    "duration": 52,
    "start_time": "2022-08-03T19:12:35.975Z"
   },
   {
    "duration": 439,
    "start_time": "2022-08-03T19:12:36.029Z"
   },
   {
    "duration": 121,
    "start_time": "2022-08-03T19:12:36.469Z"
   },
   {
    "duration": 443,
    "start_time": "2022-08-03T19:12:36.592Z"
   },
   {
    "duration": 101,
    "start_time": "2022-08-03T19:12:37.037Z"
   },
   {
    "duration": 85,
    "start_time": "2022-08-03T19:12:37.140Z"
   },
   {
    "duration": 185,
    "start_time": "2022-08-03T19:12:37.227Z"
   },
   {
    "duration": 520,
    "start_time": "2022-08-03T19:12:37.413Z"
   },
   {
    "duration": 129,
    "start_time": "2022-08-03T19:12:37.935Z"
   },
   {
    "duration": 159,
    "start_time": "2022-08-03T19:13:10.687Z"
   },
   {
    "duration": 1299,
    "start_time": "2022-08-03T19:13:15.925Z"
   },
   {
    "duration": 41,
    "start_time": "2022-08-03T19:13:17.226Z"
   },
   {
    "duration": 11,
    "start_time": "2022-08-03T19:13:17.270Z"
   },
   {
    "duration": 14,
    "start_time": "2022-08-03T19:13:17.282Z"
   },
   {
    "duration": 11,
    "start_time": "2022-08-03T19:13:17.298Z"
   },
   {
    "duration": 25,
    "start_time": "2022-08-03T19:13:17.310Z"
   },
   {
    "duration": 9,
    "start_time": "2022-08-03T19:13:17.336Z"
   },
   {
    "duration": 133,
    "start_time": "2022-08-03T19:13:17.347Z"
   },
   {
    "duration": 7,
    "start_time": "2022-08-03T19:13:17.481Z"
   },
   {
    "duration": 31,
    "start_time": "2022-08-03T19:13:17.490Z"
   },
   {
    "duration": 7,
    "start_time": "2022-08-03T19:13:17.522Z"
   },
   {
    "duration": 138,
    "start_time": "2022-08-03T19:13:17.530Z"
   },
   {
    "duration": 6,
    "start_time": "2022-08-03T19:13:17.670Z"
   },
   {
    "duration": 6,
    "start_time": "2022-08-03T19:13:17.678Z"
   },
   {
    "duration": 10,
    "start_time": "2022-08-03T19:13:17.685Z"
   },
   {
    "duration": 7,
    "start_time": "2022-08-03T19:13:17.714Z"
   },
   {
    "duration": 14,
    "start_time": "2022-08-03T19:13:17.724Z"
   },
   {
    "duration": 5,
    "start_time": "2022-08-03T19:13:17.740Z"
   },
   {
    "duration": 5,
    "start_time": "2022-08-03T19:13:17.747Z"
   },
   {
    "duration": 5,
    "start_time": "2022-08-03T19:13:17.754Z"
   },
   {
    "duration": 3,
    "start_time": "2022-08-03T19:13:17.760Z"
   },
   {
    "duration": 6,
    "start_time": "2022-08-03T19:13:17.765Z"
   },
   {
    "duration": 55,
    "start_time": "2022-08-03T19:13:17.772Z"
   },
   {
    "duration": 147,
    "start_time": "2022-08-03T19:13:17.829Z"
   },
   {
    "duration": 345,
    "start_time": "2022-08-03T19:13:17.977Z"
   },
   {
    "duration": 35,
    "start_time": "2022-08-03T19:13:18.324Z"
   },
   {
    "duration": 826,
    "start_time": "2022-08-03T19:13:18.361Z"
   },
   {
    "duration": 1557,
    "start_time": "2022-08-03T19:13:19.189Z"
   },
   {
    "duration": 179,
    "start_time": "2022-08-03T19:13:20.748Z"
   },
   {
    "duration": 255,
    "start_time": "2022-08-03T19:13:20.928Z"
   },
   {
    "duration": 51,
    "start_time": "2022-08-03T19:13:21.185Z"
   },
   {
    "duration": 316,
    "start_time": "2022-08-03T19:13:21.316Z"
   },
   {
    "duration": 127,
    "start_time": "2022-08-03T19:13:21.634Z"
   },
   {
    "duration": 300,
    "start_time": "2022-08-03T19:13:21.762Z"
   },
   {
    "duration": 89,
    "start_time": "2022-08-03T19:13:22.063Z"
   },
   {
    "duration": 64,
    "start_time": "2022-08-03T19:13:22.154Z"
   },
   {
    "duration": 193,
    "start_time": "2022-08-03T19:13:22.220Z"
   },
   {
    "duration": 411,
    "start_time": "2022-08-03T19:13:22.418Z"
   },
   {
    "duration": 141,
    "start_time": "2022-08-03T19:13:22.830Z"
   },
   {
    "duration": 288,
    "start_time": "2022-08-03T19:14:28.355Z"
   },
   {
    "duration": 284,
    "start_time": "2022-08-03T19:14:35.641Z"
   },
   {
    "duration": 1575,
    "start_time": "2022-08-04T00:22:56.429Z"
   },
   {
    "duration": 81,
    "start_time": "2022-08-04T00:22:58.007Z"
   },
   {
    "duration": 14,
    "start_time": "2022-08-04T00:22:58.090Z"
   },
   {
    "duration": 16,
    "start_time": "2022-08-04T00:22:58.105Z"
   },
   {
    "duration": 11,
    "start_time": "2022-08-04T00:22:58.124Z"
   },
   {
    "duration": 9,
    "start_time": "2022-08-04T00:22:58.137Z"
   },
   {
    "duration": 22,
    "start_time": "2022-08-04T00:22:58.147Z"
   },
   {
    "duration": 150,
    "start_time": "2022-08-04T00:22:58.172Z"
   },
   {
    "duration": 7,
    "start_time": "2022-08-04T00:22:58.324Z"
   },
   {
    "duration": 21,
    "start_time": "2022-08-04T00:22:58.333Z"
   },
   {
    "duration": 5,
    "start_time": "2022-08-04T00:22:58.356Z"
   },
   {
    "duration": 150,
    "start_time": "2022-08-04T00:22:58.363Z"
   },
   {
    "duration": 6,
    "start_time": "2022-08-04T00:22:58.515Z"
   },
   {
    "duration": 7,
    "start_time": "2022-08-04T00:22:58.523Z"
   },
   {
    "duration": 7,
    "start_time": "2022-08-04T00:22:58.531Z"
   },
   {
    "duration": 4,
    "start_time": "2022-08-04T00:22:58.539Z"
   },
   {
    "duration": 12,
    "start_time": "2022-08-04T00:22:58.545Z"
   },
   {
    "duration": 5,
    "start_time": "2022-08-04T00:22:58.558Z"
   },
   {
    "duration": 5,
    "start_time": "2022-08-04T00:22:58.564Z"
   },
   {
    "duration": 7,
    "start_time": "2022-08-04T00:22:58.601Z"
   },
   {
    "duration": 11,
    "start_time": "2022-08-04T00:22:58.610Z"
   },
   {
    "duration": 7,
    "start_time": "2022-08-04T00:22:58.623Z"
   },
   {
    "duration": 34,
    "start_time": "2022-08-04T00:22:58.631Z"
   },
   {
    "duration": 162,
    "start_time": "2022-08-04T00:22:58.667Z"
   },
   {
    "duration": 319,
    "start_time": "2022-08-04T00:22:58.831Z"
   },
   {
    "duration": 30,
    "start_time": "2022-08-04T00:22:59.152Z"
   },
   {
    "duration": 767,
    "start_time": "2022-08-04T00:22:59.183Z"
   },
   {
    "duration": 1373,
    "start_time": "2022-08-04T00:22:59.951Z"
   },
   {
    "duration": 159,
    "start_time": "2022-08-04T00:23:01.326Z"
   },
   {
    "duration": 284,
    "start_time": "2022-08-04T00:23:01.487Z"
   },
   {
    "duration": 127,
    "start_time": "2022-08-04T00:23:01.773Z"
   },
   {
    "duration": 335,
    "start_time": "2022-08-04T00:23:01.904Z"
   },
   {
    "duration": 123,
    "start_time": "2022-08-04T00:23:02.241Z"
   },
   {
    "duration": 248,
    "start_time": "2022-08-04T00:23:02.366Z"
   },
   {
    "duration": 72,
    "start_time": "2022-08-04T00:23:02.616Z"
   },
   {
    "duration": 111,
    "start_time": "2022-08-04T00:23:02.690Z"
   },
   {
    "duration": 195,
    "start_time": "2022-08-04T00:23:02.806Z"
   },
   {
    "duration": 333,
    "start_time": "2022-08-04T00:23:03.003Z"
   },
   {
    "duration": 121,
    "start_time": "2022-08-04T00:23:03.337Z"
   },
   {
    "duration": 63,
    "start_time": "2022-08-04T14:21:09.526Z"
   },
   {
    "duration": 1839,
    "start_time": "2022-08-04T14:21:18.737Z"
   },
   {
    "duration": 157,
    "start_time": "2022-08-04T14:21:20.579Z"
   },
   {
    "duration": 17,
    "start_time": "2022-08-04T14:21:20.738Z"
   },
   {
    "duration": 22,
    "start_time": "2022-08-04T14:21:20.758Z"
   },
   {
    "duration": 17,
    "start_time": "2022-08-04T14:21:20.782Z"
   },
   {
    "duration": 30,
    "start_time": "2022-08-04T14:21:20.800Z"
   },
   {
    "duration": 13,
    "start_time": "2022-08-04T14:21:20.832Z"
   },
   {
    "duration": 177,
    "start_time": "2022-08-04T14:21:20.847Z"
   },
   {
    "duration": 7,
    "start_time": "2022-08-04T14:21:21.025Z"
   },
   {
    "duration": 15,
    "start_time": "2022-08-04T14:21:21.036Z"
   },
   {
    "duration": 17,
    "start_time": "2022-08-04T14:21:21.053Z"
   },
   {
    "duration": 189,
    "start_time": "2022-08-04T14:21:21.072Z"
   },
   {
    "duration": 8,
    "start_time": "2022-08-04T14:21:21.263Z"
   },
   {
    "duration": 24,
    "start_time": "2022-08-04T14:21:21.273Z"
   },
   {
    "duration": 8,
    "start_time": "2022-08-04T14:21:21.299Z"
   },
   {
    "duration": 8,
    "start_time": "2022-08-04T14:21:21.309Z"
   },
   {
    "duration": 20,
    "start_time": "2022-08-04T14:21:21.319Z"
   },
   {
    "duration": 10,
    "start_time": "2022-08-04T14:21:21.341Z"
   },
   {
    "duration": 10,
    "start_time": "2022-08-04T14:21:21.353Z"
   },
   {
    "duration": 32,
    "start_time": "2022-08-04T14:21:21.365Z"
   },
   {
    "duration": 24,
    "start_time": "2022-08-04T14:21:21.399Z"
   },
   {
    "duration": 25,
    "start_time": "2022-08-04T14:21:21.426Z"
   },
   {
    "duration": 55,
    "start_time": "2022-08-04T14:21:21.453Z"
   },
   {
    "duration": 191,
    "start_time": "2022-08-04T14:21:21.510Z"
   },
   {
    "duration": 409,
    "start_time": "2022-08-04T14:21:21.703Z"
   },
   {
    "duration": 38,
    "start_time": "2022-08-04T14:21:22.114Z"
   },
   {
    "duration": 910,
    "start_time": "2022-08-04T14:21:22.154Z"
   },
   {
    "duration": 1676,
    "start_time": "2022-08-04T14:21:23.068Z"
   },
   {
    "duration": 189,
    "start_time": "2022-08-04T14:21:24.745Z"
   },
   {
    "duration": 263,
    "start_time": "2022-08-04T14:21:24.935Z"
   },
   {
    "duration": 96,
    "start_time": "2022-08-04T14:21:25.200Z"
   },
   {
    "duration": 358,
    "start_time": "2022-08-04T14:21:25.299Z"
   },
   {
    "duration": 157,
    "start_time": "2022-08-04T14:21:25.659Z"
   },
   {
    "duration": 319,
    "start_time": "2022-08-04T14:21:25.819Z"
   },
   {
    "duration": 116,
    "start_time": "2022-08-04T14:21:26.139Z"
   },
   {
    "duration": 143,
    "start_time": "2022-08-04T14:21:26.257Z"
   },
   {
    "duration": 289,
    "start_time": "2022-08-04T14:21:26.403Z"
   },
   {
    "duration": 386,
    "start_time": "2022-08-04T14:21:26.695Z"
   },
   {
    "duration": 166,
    "start_time": "2022-08-04T14:21:27.084Z"
   },
   {
    "duration": 431,
    "start_time": "2022-08-04T14:21:40.440Z"
   },
   {
    "duration": 2131,
    "start_time": "2022-08-04T14:22:09.444Z"
   },
   {
    "duration": 53,
    "start_time": "2022-08-06T16:13:14.290Z"
   },
   {
    "duration": 12,
    "start_time": "2022-08-06T16:13:27.856Z"
   },
   {
    "duration": 1408,
    "start_time": "2022-08-06T16:13:42.496Z"
   },
   {
    "duration": 87,
    "start_time": "2022-08-06T16:13:43.906Z"
   },
   {
    "duration": 13,
    "start_time": "2022-08-06T16:13:43.995Z"
   },
   {
    "duration": 14,
    "start_time": "2022-08-06T16:13:44.009Z"
   },
   {
    "duration": 11,
    "start_time": "2022-08-06T16:13:44.026Z"
   },
   {
    "duration": 10,
    "start_time": "2022-08-06T16:13:44.038Z"
   },
   {
    "duration": 7,
    "start_time": "2022-08-06T16:13:44.049Z"
   },
   {
    "duration": 142,
    "start_time": "2022-08-06T16:13:44.057Z"
   },
   {
    "duration": 5,
    "start_time": "2022-08-06T16:13:44.201Z"
   },
   {
    "duration": 17,
    "start_time": "2022-08-06T16:13:44.208Z"
   },
   {
    "duration": 15,
    "start_time": "2022-08-06T16:13:44.227Z"
   },
   {
    "duration": 1323,
    "start_time": "2022-08-06T16:15:09.125Z"
   },
   {
    "duration": 40,
    "start_time": "2022-08-06T16:15:10.449Z"
   },
   {
    "duration": 13,
    "start_time": "2022-08-06T16:15:10.491Z"
   },
   {
    "duration": 15,
    "start_time": "2022-08-06T16:15:10.506Z"
   },
   {
    "duration": 13,
    "start_time": "2022-08-06T16:15:10.522Z"
   },
   {
    "duration": 9,
    "start_time": "2022-08-06T16:15:10.536Z"
   },
   {
    "duration": 8,
    "start_time": "2022-08-06T16:15:10.547Z"
   },
   {
    "duration": 154,
    "start_time": "2022-08-06T16:15:10.557Z"
   },
   {
    "duration": 6,
    "start_time": "2022-08-06T16:15:10.712Z"
   },
   {
    "duration": 23,
    "start_time": "2022-08-06T16:15:10.721Z"
   },
   {
    "duration": 5,
    "start_time": "2022-08-06T16:15:10.745Z"
   },
   {
    "duration": 7,
    "start_time": "2022-08-06T16:15:10.751Z"
   },
   {
    "duration": 7,
    "start_time": "2022-08-06T16:15:10.759Z"
   },
   {
    "duration": 11,
    "start_time": "2022-08-06T16:15:10.768Z"
   },
   {
    "duration": 9,
    "start_time": "2022-08-06T16:15:10.780Z"
   },
   {
    "duration": 12,
    "start_time": "2022-08-06T16:15:10.791Z"
   },
   {
    "duration": 4,
    "start_time": "2022-08-06T16:15:10.805Z"
   },
   {
    "duration": 28,
    "start_time": "2022-08-06T16:15:10.810Z"
   },
   {
    "duration": 6,
    "start_time": "2022-08-06T16:15:10.840Z"
   },
   {
    "duration": 6,
    "start_time": "2022-08-06T16:15:10.848Z"
   },
   {
    "duration": 4,
    "start_time": "2022-08-06T16:15:10.855Z"
   },
   {
    "duration": 36,
    "start_time": "2022-08-06T16:15:10.861Z"
   },
   {
    "duration": 166,
    "start_time": "2022-08-06T16:15:10.899Z"
   },
   {
    "duration": 309,
    "start_time": "2022-08-06T16:15:11.066Z"
   },
   {
    "duration": 32,
    "start_time": "2022-08-06T16:15:11.376Z"
   },
   {
    "duration": 817,
    "start_time": "2022-08-06T16:15:11.410Z"
   },
   {
    "duration": 1460,
    "start_time": "2022-08-06T16:15:12.229Z"
   },
   {
    "duration": 167,
    "start_time": "2022-08-06T16:15:13.692Z"
   },
   {
    "duration": 256,
    "start_time": "2022-08-06T16:15:13.861Z"
   },
   {
    "duration": 124,
    "start_time": "2022-08-06T16:15:14.118Z"
   },
   {
    "duration": 244,
    "start_time": "2022-08-06T16:15:14.244Z"
   },
   {
    "duration": 203,
    "start_time": "2022-08-06T16:15:14.490Z"
   },
   {
    "duration": 214,
    "start_time": "2022-08-06T16:15:14.695Z"
   },
   {
    "duration": 86,
    "start_time": "2022-08-06T16:15:14.911Z"
   },
   {
    "duration": 141,
    "start_time": "2022-08-06T16:15:14.999Z"
   },
   {
    "duration": 197,
    "start_time": "2022-08-06T16:15:15.142Z"
   },
   {
    "duration": 286,
    "start_time": "2022-08-06T16:15:15.341Z"
   },
   {
    "duration": 141,
    "start_time": "2022-08-06T16:15:15.629Z"
   },
   {
    "duration": 122,
    "start_time": "2022-08-06T16:19:56.122Z"
   },
   {
    "duration": 111,
    "start_time": "2022-08-06T16:20:15.215Z"
   },
   {
    "duration": 1460,
    "start_time": "2022-08-06T16:23:58.952Z"
   },
   {
    "duration": 1254,
    "start_time": "2022-08-06T16:24:24.879Z"
   },
   {
    "duration": 41,
    "start_time": "2022-08-06T16:24:26.136Z"
   },
   {
    "duration": 14,
    "start_time": "2022-08-06T16:24:26.179Z"
   },
   {
    "duration": 16,
    "start_time": "2022-08-06T16:24:26.195Z"
   },
   {
    "duration": 11,
    "start_time": "2022-08-06T16:24:26.213Z"
   },
   {
    "duration": 13,
    "start_time": "2022-08-06T16:24:26.226Z"
   },
   {
    "duration": 9,
    "start_time": "2022-08-06T16:24:26.240Z"
   },
   {
    "duration": 146,
    "start_time": "2022-08-06T16:24:26.251Z"
   },
   {
    "duration": 7,
    "start_time": "2022-08-06T16:24:26.399Z"
   },
   {
    "duration": 13,
    "start_time": "2022-08-06T16:24:26.410Z"
   },
   {
    "duration": 6,
    "start_time": "2022-08-06T16:24:26.438Z"
   },
   {
    "duration": 7,
    "start_time": "2022-08-06T16:24:26.446Z"
   },
   {
    "duration": 6,
    "start_time": "2022-08-06T16:24:26.455Z"
   },
   {
    "duration": 6,
    "start_time": "2022-08-06T16:24:26.463Z"
   },
   {
    "duration": 5,
    "start_time": "2022-08-06T16:24:26.470Z"
   },
   {
    "duration": 11,
    "start_time": "2022-08-06T16:24:26.476Z"
   },
   {
    "duration": 7,
    "start_time": "2022-08-06T16:24:26.489Z"
   },
   {
    "duration": 41,
    "start_time": "2022-08-06T16:24:26.497Z"
   },
   {
    "duration": 5,
    "start_time": "2022-08-06T16:24:26.540Z"
   },
   {
    "duration": 6,
    "start_time": "2022-08-06T16:24:26.546Z"
   },
   {
    "duration": 7,
    "start_time": "2022-08-06T16:24:26.553Z"
   },
   {
    "duration": 33,
    "start_time": "2022-08-06T16:24:26.561Z"
   },
   {
    "duration": 157,
    "start_time": "2022-08-06T16:24:26.596Z"
   },
   {
    "duration": 295,
    "start_time": "2022-08-06T16:24:26.754Z"
   },
   {
    "duration": 36,
    "start_time": "2022-08-06T16:24:27.050Z"
   },
   {
    "duration": 780,
    "start_time": "2022-08-06T16:24:27.088Z"
   },
   {
    "duration": 1420,
    "start_time": "2022-08-06T16:24:27.869Z"
   },
   {
    "duration": 161,
    "start_time": "2022-08-06T16:24:29.292Z"
   },
   {
    "duration": 258,
    "start_time": "2022-08-06T16:24:29.454Z"
   },
   {
    "duration": 125,
    "start_time": "2022-08-06T16:24:29.713Z"
   },
   {
    "duration": 237,
    "start_time": "2022-08-06T16:24:29.841Z"
   },
   {
    "duration": 205,
    "start_time": "2022-08-06T16:24:30.080Z"
   },
   {
    "duration": 212,
    "start_time": "2022-08-06T16:24:30.286Z"
   },
   {
    "duration": 1401,
    "start_time": "2022-08-06T16:24:30.500Z"
   },
   {
    "duration": 97,
    "start_time": "2022-08-06T16:24:31.903Z"
   },
   {
    "duration": 135,
    "start_time": "2022-08-06T16:24:32.002Z"
   },
   {
    "duration": 201,
    "start_time": "2022-08-06T16:24:32.141Z"
   },
   {
    "duration": 294,
    "start_time": "2022-08-06T16:24:32.347Z"
   },
   {
    "duration": 142,
    "start_time": "2022-08-06T16:24:32.643Z"
   },
   {
    "duration": 1843,
    "start_time": "2022-08-06T16:25:31.839Z"
   },
   {
    "duration": 602,
    "start_time": "2022-08-06T16:25:48.581Z"
   },
   {
    "duration": 975,
    "start_time": "2022-08-06T16:25:59.065Z"
   },
   {
    "duration": 333,
    "start_time": "2022-08-06T16:26:18.618Z"
   },
   {
    "duration": 4010,
    "start_time": "2022-08-06T16:26:24.533Z"
   },
   {
    "duration": 1790,
    "start_time": "2022-08-06T16:26:52.504Z"
   },
   {
    "duration": 1846,
    "start_time": "2022-08-06T16:27:31.592Z"
   },
   {
    "duration": 760,
    "start_time": "2022-08-06T16:27:45.279Z"
   },
   {
    "duration": 358,
    "start_time": "2022-08-06T16:28:47.493Z"
   },
   {
    "duration": 153,
    "start_time": "2022-08-06T16:29:27.756Z"
   },
   {
    "duration": 191,
    "start_time": "2022-08-06T16:30:05.286Z"
   },
   {
    "duration": 45,
    "start_time": "2022-08-06T16:35:24.693Z"
   },
   {
    "duration": 43,
    "start_time": "2022-08-06T16:35:37.795Z"
   },
   {
    "duration": 48,
    "start_time": "2022-08-06T16:38:06.897Z"
   },
   {
    "duration": 93,
    "start_time": "2022-08-06T16:38:26.199Z"
   },
   {
    "duration": 55,
    "start_time": "2022-08-06T16:39:01.724Z"
   },
   {
    "duration": 48,
    "start_time": "2022-08-06T16:39:24.626Z"
   },
   {
    "duration": 56,
    "start_time": "2022-08-06T16:39:39.498Z"
   },
   {
    "duration": 45,
    "start_time": "2022-08-06T16:43:26.546Z"
   },
   {
    "duration": 1276,
    "start_time": "2022-08-06T16:44:19.514Z"
   },
   {
    "duration": 41,
    "start_time": "2022-08-06T16:44:20.792Z"
   },
   {
    "duration": 13,
    "start_time": "2022-08-06T16:44:20.835Z"
   },
   {
    "duration": 17,
    "start_time": "2022-08-06T16:44:20.850Z"
   },
   {
    "duration": 17,
    "start_time": "2022-08-06T16:44:20.868Z"
   },
   {
    "duration": 19,
    "start_time": "2022-08-06T16:44:20.887Z"
   },
   {
    "duration": 19,
    "start_time": "2022-08-06T16:44:20.908Z"
   },
   {
    "duration": 145,
    "start_time": "2022-08-06T16:44:20.929Z"
   },
   {
    "duration": 5,
    "start_time": "2022-08-06T16:44:21.076Z"
   },
   {
    "duration": 13,
    "start_time": "2022-08-06T16:44:21.084Z"
   },
   {
    "duration": 5,
    "start_time": "2022-08-06T16:44:21.099Z"
   },
   {
    "duration": 7,
    "start_time": "2022-08-06T16:44:21.105Z"
   },
   {
    "duration": 25,
    "start_time": "2022-08-06T16:44:21.114Z"
   },
   {
    "duration": 5,
    "start_time": "2022-08-06T16:44:21.141Z"
   },
   {
    "duration": 11,
    "start_time": "2022-08-06T16:44:21.148Z"
   },
   {
    "duration": 14,
    "start_time": "2022-08-06T16:44:21.161Z"
   },
   {
    "duration": 10,
    "start_time": "2022-08-06T16:44:21.176Z"
   },
   {
    "duration": 5,
    "start_time": "2022-08-06T16:44:21.188Z"
   },
   {
    "duration": 5,
    "start_time": "2022-08-06T16:44:21.195Z"
   },
   {
    "duration": 7,
    "start_time": "2022-08-06T16:44:21.201Z"
   },
   {
    "duration": 8,
    "start_time": "2022-08-06T16:44:21.209Z"
   },
   {
    "duration": 52,
    "start_time": "2022-08-06T16:44:21.218Z"
   },
   {
    "duration": 151,
    "start_time": "2022-08-06T16:44:21.271Z"
   },
   {
    "duration": 293,
    "start_time": "2022-08-06T16:44:21.424Z"
   },
   {
    "duration": 41,
    "start_time": "2022-08-06T16:44:21.719Z"
   },
   {
    "duration": 756,
    "start_time": "2022-08-06T16:44:21.761Z"
   },
   {
    "duration": 1436,
    "start_time": "2022-08-06T16:44:22.518Z"
   },
   {
    "duration": 168,
    "start_time": "2022-08-06T16:44:23.958Z"
   },
   {
    "duration": 287,
    "start_time": "2022-08-06T16:44:24.129Z"
   },
   {
    "duration": 121,
    "start_time": "2022-08-06T16:44:24.417Z"
   },
   {
    "duration": 233,
    "start_time": "2022-08-06T16:44:24.541Z"
   },
   {
    "duration": 363,
    "start_time": "2022-08-06T16:44:24.775Z"
   },
   {
    "duration": 185,
    "start_time": "2022-08-06T16:44:25.140Z"
   },
   {
    "duration": 179,
    "start_time": "2022-08-06T16:44:25.326Z"
   },
   {
    "duration": 239,
    "start_time": "2022-08-06T16:44:25.507Z"
   },
   {
    "duration": 1845,
    "start_time": "2022-08-06T16:44:25.748Z"
   },
   {
    "duration": 97,
    "start_time": "2022-08-06T16:44:27.595Z"
   },
   {
    "duration": 782,
    "start_time": "2022-08-06T16:44:27.694Z"
   },
   {
    "duration": 68,
    "start_time": "2022-08-06T16:44:28.478Z"
   },
   {
    "duration": 194,
    "start_time": "2022-08-06T16:44:28.548Z"
   },
   {
    "duration": 348,
    "start_time": "2022-08-06T16:44:28.744Z"
   },
   {
    "duration": 138,
    "start_time": "2022-08-06T16:44:29.093Z"
   },
   {
    "duration": 382,
    "start_time": "2022-08-06T16:44:55.760Z"
   },
   {
    "duration": 563,
    "start_time": "2022-08-06T16:45:00.931Z"
   },
   {
    "duration": 729,
    "start_time": "2022-08-06T16:45:06.157Z"
   },
   {
    "duration": 899,
    "start_time": "2022-08-06T16:45:12.091Z"
   },
   {
    "duration": 375,
    "start_time": "2022-08-06T16:45:18.504Z"
   },
   {
    "duration": 192,
    "start_time": "2022-08-06T16:45:23.885Z"
   },
   {
    "duration": 280,
    "start_time": "2022-08-06T16:45:28.594Z"
   },
   {
    "duration": 448,
    "start_time": "2022-08-06T16:45:32.691Z"
   },
   {
    "duration": 376,
    "start_time": "2022-08-06T16:45:38.438Z"
   },
   {
    "duration": 454,
    "start_time": "2022-08-06T16:45:43.505Z"
   },
   {
    "duration": 535,
    "start_time": "2022-08-06T16:45:47.861Z"
   },
   {
    "duration": 627,
    "start_time": "2022-08-06T16:45:54.996Z"
   },
   {
    "duration": 568,
    "start_time": "2022-08-06T16:46:00.936Z"
   },
   {
    "duration": 564,
    "start_time": "2022-08-06T16:46:44.713Z"
   },
   {
    "duration": 400,
    "start_time": "2022-08-06T16:47:08.435Z"
   },
   {
    "duration": 1432,
    "start_time": "2022-08-06T16:47:43.535Z"
   },
   {
    "duration": 1311,
    "start_time": "2022-08-06T16:47:58.309Z"
   },
   {
    "duration": 42,
    "start_time": "2022-08-06T16:47:59.622Z"
   },
   {
    "duration": 16,
    "start_time": "2022-08-06T16:47:59.665Z"
   },
   {
    "duration": 18,
    "start_time": "2022-08-06T16:47:59.684Z"
   },
   {
    "duration": 14,
    "start_time": "2022-08-06T16:47:59.704Z"
   },
   {
    "duration": 19,
    "start_time": "2022-08-06T16:47:59.720Z"
   },
   {
    "duration": 8,
    "start_time": "2022-08-06T16:47:59.740Z"
   },
   {
    "duration": 142,
    "start_time": "2022-08-06T16:47:59.749Z"
   },
   {
    "duration": 5,
    "start_time": "2022-08-06T16:47:59.893Z"
   },
   {
    "duration": 12,
    "start_time": "2022-08-06T16:47:59.901Z"
   },
   {
    "duration": 4,
    "start_time": "2022-08-06T16:47:59.915Z"
   },
   {
    "duration": 6,
    "start_time": "2022-08-06T16:47:59.939Z"
   },
   {
    "duration": 8,
    "start_time": "2022-08-06T16:47:59.946Z"
   },
   {
    "duration": 9,
    "start_time": "2022-08-06T16:47:59.955Z"
   },
   {
    "duration": 5,
    "start_time": "2022-08-06T16:47:59.966Z"
   },
   {
    "duration": 12,
    "start_time": "2022-08-06T16:47:59.973Z"
   },
   {
    "duration": 4,
    "start_time": "2022-08-06T16:47:59.986Z"
   },
   {
    "duration": 6,
    "start_time": "2022-08-06T16:47:59.991Z"
   },
   {
    "duration": 10,
    "start_time": "2022-08-06T16:47:59.998Z"
   },
   {
    "duration": 6,
    "start_time": "2022-08-06T16:48:00.009Z"
   },
   {
    "duration": 32,
    "start_time": "2022-08-06T16:48:00.016Z"
   },
   {
    "duration": 34,
    "start_time": "2022-08-06T16:48:00.050Z"
   },
   {
    "duration": 152,
    "start_time": "2022-08-06T16:48:00.086Z"
   },
   {
    "duration": 306,
    "start_time": "2022-08-06T16:48:00.240Z"
   },
   {
    "duration": 30,
    "start_time": "2022-08-06T16:48:00.548Z"
   },
   {
    "duration": 793,
    "start_time": "2022-08-06T16:48:00.580Z"
   },
   {
    "duration": 1439,
    "start_time": "2022-08-06T16:48:01.375Z"
   },
   {
    "duration": 161,
    "start_time": "2022-08-06T16:48:02.817Z"
   },
   {
    "duration": 228,
    "start_time": "2022-08-06T16:48:02.980Z"
   },
   {
    "duration": 129,
    "start_time": "2022-08-06T16:48:03.210Z"
   },
   {
    "duration": 234,
    "start_time": "2022-08-06T16:48:03.341Z"
   },
   {
    "duration": 372,
    "start_time": "2022-08-06T16:48:03.576Z"
   },
   {
    "duration": 193,
    "start_time": "2022-08-06T16:48:03.949Z"
   },
   {
    "duration": 170,
    "start_time": "2022-08-06T16:48:04.144Z"
   },
   {
    "duration": 220,
    "start_time": "2022-08-06T16:48:04.315Z"
   },
   {
    "duration": 1442,
    "start_time": "2022-08-06T16:48:04.536Z"
   },
   {
    "duration": 97,
    "start_time": "2022-08-06T16:48:05.980Z"
   },
   {
    "duration": 603,
    "start_time": "2022-08-06T16:48:06.079Z"
   },
   {
    "duration": 153,
    "start_time": "2022-08-06T16:48:06.684Z"
   },
   {
    "duration": 108,
    "start_time": "2022-08-06T16:48:06.839Z"
   },
   {
    "duration": 371,
    "start_time": "2022-08-06T16:48:07.039Z"
   },
   {
    "duration": 152,
    "start_time": "2022-08-06T16:48:07.412Z"
   },
   {
    "duration": 4,
    "start_time": "2022-08-06T16:49:39.294Z"
   },
   {
    "duration": 1277,
    "start_time": "2022-08-06T16:49:46.004Z"
   },
   {
    "duration": 39,
    "start_time": "2022-08-06T16:49:47.284Z"
   },
   {
    "duration": 12,
    "start_time": "2022-08-06T16:49:47.325Z"
   },
   {
    "duration": 15,
    "start_time": "2022-08-06T16:49:47.339Z"
   },
   {
    "duration": 12,
    "start_time": "2022-08-06T16:49:47.355Z"
   },
   {
    "duration": 9,
    "start_time": "2022-08-06T16:49:47.368Z"
   },
   {
    "duration": 13,
    "start_time": "2022-08-06T16:49:47.378Z"
   },
   {
    "duration": 161,
    "start_time": "2022-08-06T16:49:47.392Z"
   },
   {
    "duration": 3,
    "start_time": "2022-08-06T16:49:47.555Z"
   },
   {
    "duration": 18,
    "start_time": "2022-08-06T16:49:47.560Z"
   },
   {
    "duration": 702,
    "start_time": "2022-08-06T16:49:47.580Z"
   },
   {
    "duration": 0,
    "start_time": "2022-08-06T16:49:48.285Z"
   },
   {
    "duration": 0,
    "start_time": "2022-08-06T16:49:48.286Z"
   },
   {
    "duration": 0,
    "start_time": "2022-08-06T16:49:48.287Z"
   },
   {
    "duration": 0,
    "start_time": "2022-08-06T16:49:48.288Z"
   },
   {
    "duration": 0,
    "start_time": "2022-08-06T16:49:48.289Z"
   },
   {
    "duration": 0,
    "start_time": "2022-08-06T16:49:48.290Z"
   },
   {
    "duration": 0,
    "start_time": "2022-08-06T16:49:48.291Z"
   },
   {
    "duration": 0,
    "start_time": "2022-08-06T16:49:48.292Z"
   },
   {
    "duration": 0,
    "start_time": "2022-08-06T16:49:48.293Z"
   },
   {
    "duration": 0,
    "start_time": "2022-08-06T16:49:48.294Z"
   },
   {
    "duration": 0,
    "start_time": "2022-08-06T16:49:48.294Z"
   },
   {
    "duration": 0,
    "start_time": "2022-08-06T16:49:48.295Z"
   },
   {
    "duration": 0,
    "start_time": "2022-08-06T16:49:48.296Z"
   },
   {
    "duration": 0,
    "start_time": "2022-08-06T16:49:48.297Z"
   },
   {
    "duration": 0,
    "start_time": "2022-08-06T16:49:48.298Z"
   },
   {
    "duration": 0,
    "start_time": "2022-08-06T16:49:48.299Z"
   },
   {
    "duration": 0,
    "start_time": "2022-08-06T16:49:48.300Z"
   },
   {
    "duration": 0,
    "start_time": "2022-08-06T16:49:48.301Z"
   },
   {
    "duration": 0,
    "start_time": "2022-08-06T16:49:48.302Z"
   },
   {
    "duration": 0,
    "start_time": "2022-08-06T16:49:48.303Z"
   },
   {
    "duration": 0,
    "start_time": "2022-08-06T16:49:48.304Z"
   },
   {
    "duration": 0,
    "start_time": "2022-08-06T16:49:48.306Z"
   },
   {
    "duration": 0,
    "start_time": "2022-08-06T16:49:48.307Z"
   },
   {
    "duration": 0,
    "start_time": "2022-08-06T16:49:48.308Z"
   },
   {
    "duration": 0,
    "start_time": "2022-08-06T16:49:48.309Z"
   },
   {
    "duration": 0,
    "start_time": "2022-08-06T16:49:48.310Z"
   },
   {
    "duration": 0,
    "start_time": "2022-08-06T16:49:48.311Z"
   },
   {
    "duration": 0,
    "start_time": "2022-08-06T16:49:48.312Z"
   },
   {
    "duration": 0,
    "start_time": "2022-08-06T16:49:48.313Z"
   },
   {
    "duration": 0,
    "start_time": "2022-08-06T16:49:48.314Z"
   },
   {
    "duration": 0,
    "start_time": "2022-08-06T16:49:48.315Z"
   },
   {
    "duration": 1319,
    "start_time": "2022-08-06T16:50:40.731Z"
   },
   {
    "duration": 45,
    "start_time": "2022-08-06T16:50:42.052Z"
   },
   {
    "duration": 13,
    "start_time": "2022-08-06T16:50:42.099Z"
   },
   {
    "duration": 15,
    "start_time": "2022-08-06T16:50:42.114Z"
   },
   {
    "duration": 12,
    "start_time": "2022-08-06T16:50:42.130Z"
   },
   {
    "duration": 18,
    "start_time": "2022-08-06T16:50:42.144Z"
   },
   {
    "duration": 11,
    "start_time": "2022-08-06T16:50:42.164Z"
   },
   {
    "duration": 131,
    "start_time": "2022-08-06T16:50:42.176Z"
   },
   {
    "duration": 4,
    "start_time": "2022-08-06T16:50:42.308Z"
   },
   {
    "duration": 8,
    "start_time": "2022-08-06T16:50:42.314Z"
   },
   {
    "duration": 637,
    "start_time": "2022-08-06T16:50:42.324Z"
   },
   {
    "duration": 0,
    "start_time": "2022-08-06T16:50:42.964Z"
   },
   {
    "duration": 0,
    "start_time": "2022-08-06T16:50:42.965Z"
   },
   {
    "duration": 0,
    "start_time": "2022-08-06T16:50:42.966Z"
   },
   {
    "duration": 0,
    "start_time": "2022-08-06T16:50:42.967Z"
   },
   {
    "duration": 0,
    "start_time": "2022-08-06T16:50:42.968Z"
   },
   {
    "duration": 0,
    "start_time": "2022-08-06T16:50:42.969Z"
   },
   {
    "duration": 0,
    "start_time": "2022-08-06T16:50:42.970Z"
   },
   {
    "duration": 0,
    "start_time": "2022-08-06T16:50:42.971Z"
   },
   {
    "duration": 0,
    "start_time": "2022-08-06T16:50:42.972Z"
   },
   {
    "duration": 0,
    "start_time": "2022-08-06T16:50:42.973Z"
   },
   {
    "duration": 0,
    "start_time": "2022-08-06T16:50:42.974Z"
   },
   {
    "duration": 0,
    "start_time": "2022-08-06T16:50:42.974Z"
   },
   {
    "duration": 0,
    "start_time": "2022-08-06T16:50:42.975Z"
   },
   {
    "duration": 0,
    "start_time": "2022-08-06T16:50:42.976Z"
   },
   {
    "duration": 0,
    "start_time": "2022-08-06T16:50:42.977Z"
   },
   {
    "duration": 0,
    "start_time": "2022-08-06T16:50:42.977Z"
   },
   {
    "duration": 0,
    "start_time": "2022-08-06T16:50:42.979Z"
   },
   {
    "duration": 0,
    "start_time": "2022-08-06T16:50:42.980Z"
   },
   {
    "duration": 0,
    "start_time": "2022-08-06T16:50:42.981Z"
   },
   {
    "duration": 0,
    "start_time": "2022-08-06T16:50:42.982Z"
   },
   {
    "duration": 0,
    "start_time": "2022-08-06T16:50:42.983Z"
   },
   {
    "duration": 0,
    "start_time": "2022-08-06T16:50:42.984Z"
   },
   {
    "duration": 0,
    "start_time": "2022-08-06T16:50:42.985Z"
   },
   {
    "duration": 0,
    "start_time": "2022-08-06T16:50:42.986Z"
   },
   {
    "duration": 0,
    "start_time": "2022-08-06T16:50:42.987Z"
   },
   {
    "duration": 0,
    "start_time": "2022-08-06T16:50:42.988Z"
   },
   {
    "duration": 0,
    "start_time": "2022-08-06T16:50:42.988Z"
   },
   {
    "duration": 0,
    "start_time": "2022-08-06T16:50:42.990Z"
   },
   {
    "duration": 0,
    "start_time": "2022-08-06T16:50:42.990Z"
   },
   {
    "duration": 0,
    "start_time": "2022-08-06T16:50:42.992Z"
   },
   {
    "duration": 1217,
    "start_time": "2022-08-06T16:51:24.881Z"
   },
   {
    "duration": 44,
    "start_time": "2022-08-06T16:51:26.100Z"
   },
   {
    "duration": 13,
    "start_time": "2022-08-06T16:51:26.146Z"
   },
   {
    "duration": 19,
    "start_time": "2022-08-06T16:51:26.162Z"
   },
   {
    "duration": 16,
    "start_time": "2022-08-06T16:51:26.183Z"
   },
   {
    "duration": 40,
    "start_time": "2022-08-06T16:51:26.201Z"
   },
   {
    "duration": 9,
    "start_time": "2022-08-06T16:51:26.242Z"
   },
   {
    "duration": 156,
    "start_time": "2022-08-06T16:51:26.252Z"
   },
   {
    "duration": 4,
    "start_time": "2022-08-06T16:51:26.409Z"
   },
   {
    "duration": 11,
    "start_time": "2022-08-06T16:51:26.415Z"
   },
   {
    "duration": 112,
    "start_time": "2022-08-06T16:51:26.427Z"
   },
   {
    "duration": 0,
    "start_time": "2022-08-06T16:51:26.541Z"
   },
   {
    "duration": 0,
    "start_time": "2022-08-06T16:51:26.542Z"
   },
   {
    "duration": 0,
    "start_time": "2022-08-06T16:51:26.544Z"
   },
   {
    "duration": 0,
    "start_time": "2022-08-06T16:51:26.545Z"
   },
   {
    "duration": 0,
    "start_time": "2022-08-06T16:51:26.546Z"
   },
   {
    "duration": 0,
    "start_time": "2022-08-06T16:51:26.547Z"
   },
   {
    "duration": 0,
    "start_time": "2022-08-06T16:51:26.548Z"
   },
   {
    "duration": 0,
    "start_time": "2022-08-06T16:51:26.549Z"
   },
   {
    "duration": 0,
    "start_time": "2022-08-06T16:51:26.550Z"
   },
   {
    "duration": 0,
    "start_time": "2022-08-06T16:51:26.551Z"
   },
   {
    "duration": 0,
    "start_time": "2022-08-06T16:51:26.552Z"
   },
   {
    "duration": 0,
    "start_time": "2022-08-06T16:51:26.553Z"
   },
   {
    "duration": 0,
    "start_time": "2022-08-06T16:51:26.554Z"
   },
   {
    "duration": 0,
    "start_time": "2022-08-06T16:51:26.554Z"
   },
   {
    "duration": 0,
    "start_time": "2022-08-06T16:51:26.556Z"
   },
   {
    "duration": 0,
    "start_time": "2022-08-06T16:51:26.556Z"
   },
   {
    "duration": 0,
    "start_time": "2022-08-06T16:51:26.557Z"
   },
   {
    "duration": 0,
    "start_time": "2022-08-06T16:51:26.559Z"
   },
   {
    "duration": 0,
    "start_time": "2022-08-06T16:51:26.560Z"
   },
   {
    "duration": 0,
    "start_time": "2022-08-06T16:51:26.561Z"
   },
   {
    "duration": 0,
    "start_time": "2022-08-06T16:51:26.561Z"
   },
   {
    "duration": 0,
    "start_time": "2022-08-06T16:51:26.562Z"
   },
   {
    "duration": 0,
    "start_time": "2022-08-06T16:51:26.564Z"
   },
   {
    "duration": 1,
    "start_time": "2022-08-06T16:51:26.564Z"
   },
   {
    "duration": 0,
    "start_time": "2022-08-06T16:51:26.566Z"
   },
   {
    "duration": 0,
    "start_time": "2022-08-06T16:51:26.567Z"
   },
   {
    "duration": 0,
    "start_time": "2022-08-06T16:51:26.568Z"
   },
   {
    "duration": 0,
    "start_time": "2022-08-06T16:51:26.569Z"
   },
   {
    "duration": 1309,
    "start_time": "2022-08-06T16:52:08.674Z"
   },
   {
    "duration": 41,
    "start_time": "2022-08-06T16:52:09.985Z"
   },
   {
    "duration": 15,
    "start_time": "2022-08-06T16:52:10.027Z"
   },
   {
    "duration": 17,
    "start_time": "2022-08-06T16:52:10.044Z"
   },
   {
    "duration": 12,
    "start_time": "2022-08-06T16:52:10.063Z"
   },
   {
    "duration": 10,
    "start_time": "2022-08-06T16:52:10.076Z"
   },
   {
    "duration": 13,
    "start_time": "2022-08-06T16:52:10.088Z"
   },
   {
    "duration": 185,
    "start_time": "2022-08-06T16:52:10.103Z"
   },
   {
    "duration": 6,
    "start_time": "2022-08-06T16:52:10.290Z"
   },
   {
    "duration": 15,
    "start_time": "2022-08-06T16:52:10.298Z"
   },
   {
    "duration": 23,
    "start_time": "2022-08-06T16:52:10.315Z"
   },
   {
    "duration": 7,
    "start_time": "2022-08-06T16:52:10.340Z"
   },
   {
    "duration": 8,
    "start_time": "2022-08-06T16:52:10.348Z"
   },
   {
    "duration": 9,
    "start_time": "2022-08-06T16:52:10.357Z"
   },
   {
    "duration": 12,
    "start_time": "2022-08-06T16:52:10.368Z"
   },
   {
    "duration": 7,
    "start_time": "2022-08-06T16:52:10.382Z"
   },
   {
    "duration": 10,
    "start_time": "2022-08-06T16:52:10.391Z"
   },
   {
    "duration": 12,
    "start_time": "2022-08-06T16:52:10.402Z"
   },
   {
    "duration": 23,
    "start_time": "2022-08-06T16:52:10.416Z"
   },
   {
    "duration": 19,
    "start_time": "2022-08-06T16:52:10.441Z"
   },
   {
    "duration": 40,
    "start_time": "2022-08-06T16:52:10.462Z"
   },
   {
    "duration": 168,
    "start_time": "2022-08-06T16:52:10.504Z"
   },
   {
    "duration": 297,
    "start_time": "2022-08-06T16:52:10.674Z"
   },
   {
    "duration": 34,
    "start_time": "2022-08-06T16:52:10.973Z"
   },
   {
    "duration": 780,
    "start_time": "2022-08-06T16:52:11.008Z"
   },
   {
    "duration": 1401,
    "start_time": "2022-08-06T16:52:11.789Z"
   },
   {
    "duration": 162,
    "start_time": "2022-08-06T16:52:13.191Z"
   },
   {
    "duration": 256,
    "start_time": "2022-08-06T16:52:13.356Z"
   },
   {
    "duration": 127,
    "start_time": "2022-08-06T16:52:13.614Z"
   },
   {
    "duration": 236,
    "start_time": "2022-08-06T16:52:13.747Z"
   },
   {
    "duration": 377,
    "start_time": "2022-08-06T16:52:13.985Z"
   },
   {
    "duration": 193,
    "start_time": "2022-08-06T16:52:14.364Z"
   },
   {
    "duration": 164,
    "start_time": "2022-08-06T16:52:14.559Z"
   },
   {
    "duration": 208,
    "start_time": "2022-08-06T16:52:14.725Z"
   },
   {
    "duration": 1427,
    "start_time": "2022-08-06T16:52:14.937Z"
   },
   {
    "duration": 97,
    "start_time": "2022-08-06T16:52:16.366Z"
   },
   {
    "duration": 579,
    "start_time": "2022-08-06T16:52:16.465Z"
   },
   {
    "duration": 102,
    "start_time": "2022-08-06T16:52:17.046Z"
   },
   {
    "duration": 199,
    "start_time": "2022-08-06T16:52:17.239Z"
   },
   {
    "duration": 468,
    "start_time": "2022-08-06T16:52:17.441Z"
   },
   {
    "duration": 144,
    "start_time": "2022-08-06T16:52:17.911Z"
   },
   {
    "duration": 92,
    "start_time": "2022-08-06T16:54:15.748Z"
   },
   {
    "duration": 42,
    "start_time": "2022-08-06T16:55:09.526Z"
   },
   {
    "duration": 41,
    "start_time": "2022-08-06T16:55:15.611Z"
   },
   {
    "duration": 42,
    "start_time": "2022-08-06T16:55:21.561Z"
   },
   {
    "duration": 116,
    "start_time": "2022-08-06T16:57:46.574Z"
   },
   {
    "duration": 117,
    "start_time": "2022-08-06T16:57:59.252Z"
   },
   {
    "duration": 141,
    "start_time": "2022-08-06T17:02:49.224Z"
   },
   {
    "duration": 140,
    "start_time": "2022-08-06T17:03:43.767Z"
   },
   {
    "duration": 342,
    "start_time": "2022-08-06T17:03:55.578Z"
   },
   {
    "duration": 22,
    "start_time": "2022-08-06T17:04:17.505Z"
   },
   {
    "duration": 27,
    "start_time": "2022-08-06T17:04:27.779Z"
   },
   {
    "duration": 24,
    "start_time": "2022-08-06T17:05:06.631Z"
   },
   {
    "duration": 120,
    "start_time": "2022-08-06T17:05:36.287Z"
   },
   {
    "duration": 163,
    "start_time": "2022-08-06T17:05:40.275Z"
   },
   {
    "duration": 16,
    "start_time": "2022-08-06T17:06:18.882Z"
   },
   {
    "duration": 199,
    "start_time": "2022-08-06T17:06:37.965Z"
   },
   {
    "duration": 1449,
    "start_time": "2022-08-06T17:06:46.434Z"
   },
   {
    "duration": 103,
    "start_time": "2022-08-06T17:07:01.650Z"
   },
   {
    "duration": 589,
    "start_time": "2022-08-06T17:07:04.125Z"
   },
   {
    "duration": 105,
    "start_time": "2022-08-06T17:07:11.134Z"
   },
   {
    "duration": 22,
    "start_time": "2022-08-06T17:07:13.221Z"
   },
   {
    "duration": 30,
    "start_time": "2022-08-06T17:07:46.844Z"
   },
   {
    "duration": 31,
    "start_time": "2022-08-06T17:07:55.536Z"
   },
   {
    "duration": 34,
    "start_time": "2022-08-06T17:07:59.315Z"
   },
   {
    "duration": 31,
    "start_time": "2022-08-06T17:08:02.270Z"
   },
   {
    "duration": 26,
    "start_time": "2022-08-06T17:08:07.053Z"
   },
   {
    "duration": 24,
    "start_time": "2022-08-06T17:08:11.441Z"
   },
   {
    "duration": 26,
    "start_time": "2022-08-06T17:08:15.138Z"
   },
   {
    "duration": 28,
    "start_time": "2022-08-06T17:09:22.963Z"
   },
   {
    "duration": 27,
    "start_time": "2022-08-06T17:09:31.481Z"
   },
   {
    "duration": 166,
    "start_time": "2022-08-06T17:10:04.261Z"
   },
   {
    "duration": 359,
    "start_time": "2022-08-06T17:10:20.286Z"
   },
   {
    "duration": 26,
    "start_time": "2022-08-06T17:10:30.667Z"
   },
   {
    "duration": 6,
    "start_time": "2022-08-06T17:11:27.159Z"
   },
   {
    "duration": 1286,
    "start_time": "2022-08-06T17:11:32.300Z"
   },
   {
    "duration": 42,
    "start_time": "2022-08-06T17:11:33.588Z"
   },
   {
    "duration": 13,
    "start_time": "2022-08-06T17:11:33.632Z"
   },
   {
    "duration": 19,
    "start_time": "2022-08-06T17:11:33.647Z"
   },
   {
    "duration": 12,
    "start_time": "2022-08-06T17:11:33.667Z"
   },
   {
    "duration": 11,
    "start_time": "2022-08-06T17:11:33.681Z"
   },
   {
    "duration": 10,
    "start_time": "2022-08-06T17:11:33.693Z"
   },
   {
    "duration": 153,
    "start_time": "2022-08-06T17:11:33.705Z"
   },
   {
    "duration": 5,
    "start_time": "2022-08-06T17:11:33.860Z"
   },
   {
    "duration": 11,
    "start_time": "2022-08-06T17:11:33.868Z"
   },
   {
    "duration": 6,
    "start_time": "2022-08-06T17:11:33.880Z"
   },
   {
    "duration": 7,
    "start_time": "2022-08-06T17:11:33.888Z"
   },
   {
    "duration": 6,
    "start_time": "2022-08-06T17:11:33.897Z"
   },
   {
    "duration": 34,
    "start_time": "2022-08-06T17:11:33.904Z"
   },
   {
    "duration": 11,
    "start_time": "2022-08-06T17:11:33.940Z"
   },
   {
    "duration": 5,
    "start_time": "2022-08-06T17:11:33.953Z"
   },
   {
    "duration": 5,
    "start_time": "2022-08-06T17:11:33.960Z"
   },
   {
    "duration": 5,
    "start_time": "2022-08-06T17:11:33.967Z"
   },
   {
    "duration": 5,
    "start_time": "2022-08-06T17:11:33.973Z"
   },
   {
    "duration": 4,
    "start_time": "2022-08-06T17:11:33.979Z"
   },
   {
    "duration": 75,
    "start_time": "2022-08-06T17:11:33.985Z"
   },
   {
    "duration": 162,
    "start_time": "2022-08-06T17:11:34.062Z"
   },
   {
    "duration": 327,
    "start_time": "2022-08-06T17:11:34.227Z"
   },
   {
    "duration": 32,
    "start_time": "2022-08-06T17:11:34.556Z"
   },
   {
    "duration": 793,
    "start_time": "2022-08-06T17:11:34.590Z"
   },
   {
    "duration": 1498,
    "start_time": "2022-08-06T17:11:35.385Z"
   },
   {
    "duration": 162,
    "start_time": "2022-08-06T17:11:36.884Z"
   },
   {
    "duration": 260,
    "start_time": "2022-08-06T17:11:37.049Z"
   },
   {
    "duration": 128,
    "start_time": "2022-08-06T17:11:37.311Z"
   },
   {
    "duration": 249,
    "start_time": "2022-08-06T17:11:37.442Z"
   },
   {
    "duration": 371,
    "start_time": "2022-08-06T17:11:37.693Z"
   },
   {
    "duration": 23,
    "start_time": "2022-08-06T17:11:38.066Z"
   },
   {
    "duration": 194,
    "start_time": "2022-08-06T17:11:38.091Z"
   },
   {
    "duration": 171,
    "start_time": "2022-08-06T17:11:38.287Z"
   },
   {
    "duration": 13,
    "start_time": "2022-08-06T17:11:38.460Z"
   },
   {
    "duration": 231,
    "start_time": "2022-08-06T17:11:38.474Z"
   },
   {
    "duration": 1486,
    "start_time": "2022-08-06T17:11:38.706Z"
   },
   {
    "duration": 105,
    "start_time": "2022-08-06T17:11:40.194Z"
   },
   {
    "duration": 603,
    "start_time": "2022-08-06T17:11:40.300Z"
   },
   {
    "duration": 134,
    "start_time": "2022-08-06T17:11:40.905Z"
   },
   {
    "duration": 199,
    "start_time": "2022-08-06T17:11:41.041Z"
   },
   {
    "duration": 502,
    "start_time": "2022-08-06T17:11:41.243Z"
   },
   {
    "duration": 26,
    "start_time": "2022-08-06T17:11:41.747Z"
   },
   {
    "duration": 126,
    "start_time": "2022-08-06T17:11:41.775Z"
   },
   {
    "duration": 31,
    "start_time": "2022-08-06T17:15:12.935Z"
   },
   {
    "duration": 243,
    "start_time": "2022-08-06T17:15:56.622Z"
   },
   {
    "duration": 466,
    "start_time": "2022-08-06T17:16:04.000Z"
   },
   {
    "duration": 727,
    "start_time": "2022-08-06T17:16:13.790Z"
   },
   {
    "duration": 231,
    "start_time": "2022-08-06T17:16:30.910Z"
   },
   {
    "duration": 161,
    "start_time": "2022-08-06T17:16:38.212Z"
   },
   {
    "duration": 226,
    "start_time": "2022-08-06T17:16:45.640Z"
   },
   {
    "duration": 139,
    "start_time": "2022-08-06T17:17:19.786Z"
   },
   {
    "duration": 25,
    "start_time": "2022-08-06T17:17:25.166Z"
   },
   {
    "duration": 120,
    "start_time": "2022-08-06T17:17:38.734Z"
   },
   {
    "duration": 153,
    "start_time": "2022-08-06T17:17:43.457Z"
   },
   {
    "duration": 14,
    "start_time": "2022-08-06T17:17:49.652Z"
   },
   {
    "duration": 238,
    "start_time": "2022-08-06T17:17:58.890Z"
   },
   {
    "duration": 1441,
    "start_time": "2022-08-06T17:18:04.986Z"
   },
   {
    "duration": 94,
    "start_time": "2022-08-06T17:18:32.653Z"
   },
   {
    "duration": 576,
    "start_time": "2022-08-06T17:18:36.376Z"
   },
   {
    "duration": 42,
    "start_time": "2022-08-06T17:19:02.299Z"
   },
   {
    "duration": 21,
    "start_time": "2022-08-06T17:19:04.918Z"
   },
   {
    "duration": 364,
    "start_time": "2022-08-06T17:19:16.660Z"
   },
   {
    "duration": 3,
    "start_time": "2022-08-06T17:21:57.587Z"
   },
   {
    "duration": 3,
    "start_time": "2022-08-06T17:23:10.704Z"
   },
   {
    "duration": 4,
    "start_time": "2022-08-06T17:23:21.617Z"
   },
   {
    "duration": 120,
    "start_time": "2022-08-06T17:24:13.576Z"
   },
   {
    "duration": 13,
    "start_time": "2022-08-06T17:28:02.107Z"
   },
   {
    "duration": 13,
    "start_time": "2022-08-06T17:28:53.756Z"
   },
   {
    "duration": 13,
    "start_time": "2022-08-06T17:29:15.947Z"
   },
   {
    "duration": 1393,
    "start_time": "2022-08-06T20:37:32.973Z"
   },
   {
    "duration": 39,
    "start_time": "2022-08-06T20:37:34.368Z"
   },
   {
    "duration": 13,
    "start_time": "2022-08-06T20:37:34.408Z"
   },
   {
    "duration": 15,
    "start_time": "2022-08-06T20:37:34.423Z"
   },
   {
    "duration": 11,
    "start_time": "2022-08-06T20:37:34.439Z"
   },
   {
    "duration": 11,
    "start_time": "2022-08-06T20:37:34.452Z"
   },
   {
    "duration": 29,
    "start_time": "2022-08-06T20:37:34.464Z"
   },
   {
    "duration": 142,
    "start_time": "2022-08-06T20:37:34.495Z"
   },
   {
    "duration": 8,
    "start_time": "2022-08-06T20:37:34.639Z"
   },
   {
    "duration": 19,
    "start_time": "2022-08-06T20:37:34.650Z"
   },
   {
    "duration": 21,
    "start_time": "2022-08-06T20:37:34.671Z"
   },
   {
    "duration": 12,
    "start_time": "2022-08-06T20:37:34.694Z"
   },
   {
    "duration": 12,
    "start_time": "2022-08-06T20:37:34.708Z"
   },
   {
    "duration": 7,
    "start_time": "2022-08-06T20:37:34.722Z"
   },
   {
    "duration": 14,
    "start_time": "2022-08-06T20:37:34.730Z"
   },
   {
    "duration": 11,
    "start_time": "2022-08-06T20:37:34.746Z"
   },
   {
    "duration": 12,
    "start_time": "2022-08-06T20:37:34.759Z"
   },
   {
    "duration": 20,
    "start_time": "2022-08-06T20:37:34.773Z"
   },
   {
    "duration": 5,
    "start_time": "2022-08-06T20:37:34.796Z"
   },
   {
    "duration": 7,
    "start_time": "2022-08-06T20:37:34.803Z"
   },
   {
    "duration": 39,
    "start_time": "2022-08-06T20:37:34.811Z"
   },
   {
    "duration": 171,
    "start_time": "2022-08-06T20:37:34.851Z"
   },
   {
    "duration": 311,
    "start_time": "2022-08-06T20:37:35.023Z"
   },
   {
    "duration": 59,
    "start_time": "2022-08-06T20:37:35.335Z"
   },
   {
    "duration": 877,
    "start_time": "2022-08-06T20:37:35.396Z"
   },
   {
    "duration": 1006,
    "start_time": "2022-08-06T20:37:36.275Z"
   },
   {
    "duration": 282,
    "start_time": "2022-08-06T20:37:37.292Z"
   },
   {
    "duration": 292,
    "start_time": "2022-08-06T20:37:37.579Z"
   },
   {
    "duration": 128,
    "start_time": "2022-08-06T20:37:37.873Z"
   },
   {
    "duration": 251,
    "start_time": "2022-08-06T20:37:38.086Z"
   },
   {
    "duration": 385,
    "start_time": "2022-08-06T20:37:38.339Z"
   },
   {
    "duration": 25,
    "start_time": "2022-08-06T20:37:38.725Z"
   },
   {
    "duration": 198,
    "start_time": "2022-08-06T20:37:38.752Z"
   },
   {
    "duration": 178,
    "start_time": "2022-08-06T20:37:38.951Z"
   },
   {
    "duration": 12,
    "start_time": "2022-08-06T20:37:39.131Z"
   },
   {
    "duration": 232,
    "start_time": "2022-08-06T20:37:39.145Z"
   },
   {
    "duration": 1437,
    "start_time": "2022-08-06T20:37:39.379Z"
   },
   {
    "duration": 95,
    "start_time": "2022-08-06T20:37:40.817Z"
   },
   {
    "duration": 575,
    "start_time": "2022-08-06T20:37:40.913Z"
   },
   {
    "duration": 298,
    "start_time": "2022-08-06T20:37:41.489Z"
   },
   {
    "duration": 104,
    "start_time": "2022-08-06T20:37:41.789Z"
   },
   {
    "duration": 91,
    "start_time": "2022-08-06T20:37:41.897Z"
   },
   {
    "duration": 408,
    "start_time": "2022-08-06T20:37:41.990Z"
   },
   {
    "duration": 150,
    "start_time": "2022-08-06T20:37:42.400Z"
   },
   {
    "duration": 1682,
    "start_time": "2022-08-06T22:13:57.339Z"
   },
   {
    "duration": 40,
    "start_time": "2022-08-06T22:13:59.023Z"
   },
   {
    "duration": 12,
    "start_time": "2022-08-06T22:13:59.065Z"
   },
   {
    "duration": 20,
    "start_time": "2022-08-06T22:13:59.079Z"
   },
   {
    "duration": 12,
    "start_time": "2022-08-06T22:13:59.100Z"
   },
   {
    "duration": 9,
    "start_time": "2022-08-06T22:13:59.113Z"
   },
   {
    "duration": 8,
    "start_time": "2022-08-06T22:13:59.124Z"
   },
   {
    "duration": 141,
    "start_time": "2022-08-06T22:13:59.134Z"
   },
   {
    "duration": 14,
    "start_time": "2022-08-06T22:13:59.277Z"
   },
   {
    "duration": 11,
    "start_time": "2022-08-06T22:13:59.293Z"
   },
   {
    "duration": 6,
    "start_time": "2022-08-06T22:13:59.305Z"
   },
   {
    "duration": 7,
    "start_time": "2022-08-06T22:13:59.312Z"
   },
   {
    "duration": 6,
    "start_time": "2022-08-06T22:13:59.321Z"
   },
   {
    "duration": 7,
    "start_time": "2022-08-06T22:13:59.328Z"
   },
   {
    "duration": 11,
    "start_time": "2022-08-06T22:13:59.337Z"
   },
   {
    "duration": 4,
    "start_time": "2022-08-06T22:13:59.350Z"
   },
   {
    "duration": 35,
    "start_time": "2022-08-06T22:13:59.355Z"
   },
   {
    "duration": 9,
    "start_time": "2022-08-06T22:13:59.391Z"
   },
   {
    "duration": 6,
    "start_time": "2022-08-06T22:13:59.402Z"
   },
   {
    "duration": 4,
    "start_time": "2022-08-06T22:13:59.410Z"
   },
   {
    "duration": 36,
    "start_time": "2022-08-06T22:13:59.416Z"
   },
   {
    "duration": 156,
    "start_time": "2022-08-06T22:13:59.453Z"
   },
   {
    "duration": 288,
    "start_time": "2022-08-06T22:13:59.611Z"
   },
   {
    "duration": 31,
    "start_time": "2022-08-06T22:13:59.901Z"
   },
   {
    "duration": 766,
    "start_time": "2022-08-06T22:13:59.933Z"
   },
   {
    "duration": 751,
    "start_time": "2022-08-06T22:14:00.701Z"
   },
   {
    "duration": 246,
    "start_time": "2022-08-06T22:14:01.453Z"
   },
   {
    "duration": 258,
    "start_time": "2022-08-06T22:14:01.702Z"
   },
   {
    "duration": 47,
    "start_time": "2022-08-06T22:14:01.961Z"
   },
   {
    "duration": 233,
    "start_time": "2022-08-06T22:14:02.089Z"
   },
   {
    "duration": 345,
    "start_time": "2022-08-06T22:14:02.324Z"
   },
   {
    "duration": 35,
    "start_time": "2022-08-06T22:14:02.671Z"
   },
   {
    "duration": 201,
    "start_time": "2022-08-06T22:14:02.708Z"
   },
   {
    "duration": 168,
    "start_time": "2022-08-06T22:14:02.911Z"
   },
   {
    "duration": 19,
    "start_time": "2022-08-06T22:14:03.080Z"
   },
   {
    "duration": 215,
    "start_time": "2022-08-06T22:14:03.101Z"
   },
   {
    "duration": 1437,
    "start_time": "2022-08-06T22:14:03.317Z"
   },
   {
    "duration": 98,
    "start_time": "2022-08-06T22:14:04.756Z"
   },
   {
    "duration": 601,
    "start_time": "2022-08-06T22:14:04.856Z"
   },
   {
    "duration": 38,
    "start_time": "2022-08-06T22:14:05.459Z"
   },
   {
    "duration": 115,
    "start_time": "2022-08-06T22:14:05.587Z"
   },
   {
    "duration": 99,
    "start_time": "2022-08-06T22:14:05.788Z"
   },
   {
    "duration": 406,
    "start_time": "2022-08-06T22:14:05.889Z"
   },
   {
    "duration": 156,
    "start_time": "2022-08-06T22:14:06.297Z"
   }
  ],
  "kernelspec": {
   "display_name": "Python 3 (ipykernel)",
   "language": "python",
   "name": "python3"
  },
  "language_info": {
   "codemirror_mode": {
    "name": "ipython",
    "version": 3
   },
   "file_extension": ".py",
   "mimetype": "text/x-python",
   "name": "python",
   "nbconvert_exporter": "python",
   "pygments_lexer": "ipython3",
   "version": "3.9.12"
  },
  "toc": {
   "base_numbering": 1,
   "nav_menu": {},
   "number_sections": true,
   "sideBar": true,
   "skip_h1_title": true,
   "title_cell": "Содержание",
   "title_sidebar": "Contents",
   "toc_cell": true,
   "toc_position": {
    "height": "calc(100% - 180px)",
    "left": "10px",
    "top": "150px",
    "width": "302.331px"
   },
   "toc_section_display": true,
   "toc_window_display": true
  }
 },
 "nbformat": 4,
 "nbformat_minor": 2
}
