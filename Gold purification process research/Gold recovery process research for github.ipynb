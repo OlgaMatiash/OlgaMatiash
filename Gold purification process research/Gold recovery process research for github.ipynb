{
 "cells": [
  {
   "cell_type": "markdown",
   "metadata": {
    "toc": true
   },
   "source": [
    "<h1>Содержание<span class=\"tocSkip\"></span></h1>\n",
    "<div class=\"toc\"><ul class=\"toc-item\"><li><span><a href=\"#Exploratory-Data-Analysis\" data-toc-modified-id=\"Exploratory-Data-Analysis-1\"><span class=\"toc-item-num\">1&nbsp;&nbsp;</span>Exploratory Data Analysis</a></span><ul class=\"toc-item\"><li><span><a href=\"#Data-Summary\" data-toc-modified-id=\"Data-Summary-1.1\"><span class=\"toc-item-num\">1.1&nbsp;&nbsp;</span>Data Summary</a></span></li><li><span><a href=\"#Verification-of-enrichment-efficiency-data\" data-toc-modified-id=\"Verification-of-enrichment-efficiency-data-1.2\"><span class=\"toc-item-num\">1.2&nbsp;&nbsp;</span>Verification of enrichment efficiency data</a></span></li><li><span><a href=\"#Analysis-of-features-not-available-in-the-test-set.\" data-toc-modified-id=\"Analysis-of-features-not-available-in-the-test-set.-1.3\"><span class=\"toc-item-num\">1.3&nbsp;&nbsp;</span>Analysis of features not available in the test set.</a></span></li><li><span><a href=\"#Data-Preprocessing\" data-toc-modified-id=\"Data-Preprocessing-1.4\"><span class=\"toc-item-num\">1.4&nbsp;&nbsp;</span>Data Preprocessing</a></span></li></ul></li><li><span><a href=\"#Data-Analysis\" data-toc-modified-id=\"Data-Analysis-2\"><span class=\"toc-item-num\">2&nbsp;&nbsp;</span>Data Analysis</a></span><ul class=\"toc-item\"><li><span><a href=\"#How-the-concentration-of-metals-(Au,-Ag,-Pb)-changes-at-different-stages-of-purification\" data-toc-modified-id=\"How-the-concentration-of-metals-(Au,-Ag,-Pb)-changes-at-different-stages-of-purification-2.1\"><span class=\"toc-item-num\">2.1&nbsp;&nbsp;</span>How the concentration of metals (Au, Ag, Pb) changes at different stages of purification</a></span></li><li><span><a href=\"#Compare-the-distribution-of-raw-ore-particle-sizes-in-the-training-and-test-datasets.\" data-toc-modified-id=\"Compare-the-distribution-of-raw-ore-particle-sizes-in-the-training-and-test-datasets.-2.2\"><span class=\"toc-item-num\">2.2&nbsp;&nbsp;</span>Compare the distribution of raw ore particle sizes in the training and test datasets.</a></span></li><li><span><a href=\"#Investigate-the-total-concentration-of-all-substances-at-different-stages:-in-raw-feed,-rougher-concentrate,-and-final-concentrate\" data-toc-modified-id=\"Investigate-the-total-concentration-of-all-substances-at-different-stages:-in-raw-feed,-rougher-concentrate,-and-final-concentrate-2.3\"><span class=\"toc-item-num\">2.3&nbsp;&nbsp;</span>Investigate the total concentration of all substances at different stages: in raw feed, rougher concentrate, and final concentrate</a></span><ul class=\"toc-item\"><li><span><a href=\"#Investigation-of-the-training-dataset-for-outliers\" data-toc-modified-id=\"Investigation-of-the-training-dataset-for-outliers-2.3.1\"><span class=\"toc-item-num\">2.3.1&nbsp;&nbsp;</span>Investigation of the training dataset for outliers</a></span></li><li><span><a href=\"#Investigation-of-the-test-dataset-for-outliers\" data-toc-modified-id=\"Investigation-of-the-test-dataset-for-outliers-2.3.2\"><span class=\"toc-item-num\">2.3.2&nbsp;&nbsp;</span>Investigation of the test dataset for outliers</a></span></li></ul></li></ul></li><li><span><a href=\"#Model\" data-toc-modified-id=\"Model-3\"><span class=\"toc-item-num\">3&nbsp;&nbsp;</span>Model</a></span><ul class=\"toc-item\"><li><span><a href=\"#Write-a-function-to-calculate-the-final-sMAPE.\" data-toc-modified-id=\"Write-a-function-to-calculate-the-final-sMAPE.-3.1\"><span class=\"toc-item-num\">3.1&nbsp;&nbsp;</span>Write a function to calculate the final sMAPE.</a></span></li><li><span><a href=\"#Train-different-models-and-evaluate-their-quality-using-cross-validation.-Choose-the-best-performing-model-and-test-it-on-the-test-dataset\" data-toc-modified-id=\"Train-different-models-and-evaluate-their-quality-using-cross-validation.-Choose-the-best-performing-model-and-test-it-on-the-test-dataset-3.2\"><span class=\"toc-item-num\">3.2&nbsp;&nbsp;</span>Train different models and evaluate their quality using cross-validation. Choose the best-performing model and test it on the test dataset</a></span><ul class=\"toc-item\"><li><span><a href=\"#Decision-Tree-model\" data-toc-modified-id=\"Decision-Tree-model-3.2.1\"><span class=\"toc-item-num\">3.2.1&nbsp;&nbsp;</span>Decision Tree model</a></span></li><li><span><a href=\"#Random-Forest-Model.\" data-toc-modified-id=\"Random-Forest-Model.-3.2.2\"><span class=\"toc-item-num\">3.2.2&nbsp;&nbsp;</span>Random Forest Model.</a></span></li><li><span><a href=\"#Linear-Regression-model\" data-toc-modified-id=\"Linear-Regression-model-3.2.3\"><span class=\"toc-item-num\">3.2.3&nbsp;&nbsp;</span>Linear Regression model</a></span></li><li><span><a href=\"#Gradient-Boosting-model\" data-toc-modified-id=\"Gradient-Boosting-model-3.2.4\"><span class=\"toc-item-num\">3.2.4&nbsp;&nbsp;</span>Gradient Boosting model</a></span></li><li><span><a href=\"#Testing-on-the-test-dataset\" data-toc-modified-id=\"Testing-on-the-test-dataset-3.2.5\"><span class=\"toc-item-num\">3.2.5&nbsp;&nbsp;</span>Testing on the test dataset</a></span></li><li><span><a href=\"#Checking-the-model-for-adequacy\" data-toc-modified-id=\"Checking-the-model-for-adequacy-3.2.6\"><span class=\"toc-item-num\">3.2.6&nbsp;&nbsp;</span>Checking the model for adequacy</a></span></li></ul></li><li><span><a href=\"#Conclusion\" data-toc-modified-id=\"Conclusion-3.3\"><span class=\"toc-item-num\">3.3&nbsp;&nbsp;</span>Conclusion</a></span></li><li><span><a href=\"#-Комментарий-ревьюера-v1\" data-toc-modified-id=\"-Комментарий-ревьюера-v1-3.4\"><span class=\"toc-item-num\">3.4&nbsp;&nbsp;</span> Комментарий ревьюера v1</a></span></li></ul></li><li><span><a href=\"#Чек-лист-готовности-проекта\" data-toc-modified-id=\"Чек-лист-готовности-проекта-4\"><span class=\"toc-item-num\">4&nbsp;&nbsp;</span>Чек-лист готовности проекта</a></span><ul class=\"toc-item\"><li><span><a href=\"#-Итоговый-комментарий\" data-toc-modified-id=\"-Итоговый-комментарий-4.1\"><span class=\"toc-item-num\">4.1&nbsp;&nbsp;</span> Итоговый комментарий</a></span></li></ul></li></ul></div>"
   ]
  },
  {
   "cell_type": "markdown",
   "metadata": {},
   "source": [
    "# Gold Recovery from Ore"
   ]
  },
  {
   "cell_type": "markdown",
   "metadata": {},
   "source": [
    "Prepare a prototype of a machine learning model for \"Digits\". The company develops solutions for the efficient operation of industrial enterprises.\n",
    "\n",
    "The model should predict the gold recovery coefficient from gold-bearing ore. Use data with mining and refining parameters.\n",
    "\n",
    "The model will help optimize production in order to avoid launching a facility with unprofitable characteristics.\n",
    "Вам нужно:\n",
    "\n"
   ]
  },
  {
   "cell_type": "markdown",
   "metadata": {},
   "source": [
    "## Exploratory Data Analysis"
   ]
  },
  {
   "cell_type": "markdown",
   "metadata": {},
   "source": [
    "### Data Summary"
   ]
  },
  {
   "cell_type": "code",
   "execution_count": 1,
   "metadata": {},
   "outputs": [],
   "source": [
    "import pandas as pd\n",
    "import numpy as np\n",
    "import matplotlib.pyplot as plt\n",
    "import seaborn as sns\n",
    "from sklearn import tree\n",
    "from sklearn.metrics import mean_absolute_error\n",
    "from sklearn.impute import KNNImputer\n",
    "from sklearn.metrics import mean_absolute_error, make_scorer\n",
    "from sklearn.linear_model import LinearRegression\n",
    "from sklearn.tree import DecisionTreeRegressor\n",
    "from sklearn.ensemble import RandomForestRegressor\n",
    "from sklearn.model_selection import GridSearchCV, cross_val_score\n",
    "from sklearn.model_selection import cross_val_score\n",
    "from sklearn.model_selection import cross_val_predict\n",
    "from sklearn.ensemble import GradientBoostingRegressor\n",
    "from sklearn.dummy import DummyRegressor"
   ]
  },
  {
   "cell_type": "code",
   "execution_count": 2,
   "metadata": {},
   "outputs": [
    {
     "name": "stdout",
     "output_type": "stream",
     "text": [
      "<class 'pandas.core.frame.DataFrame'>\n",
      "RangeIndex: 14149 entries, 0 to 14148\n",
      "Data columns (total 87 columns):\n",
      " #   Column                                              Non-Null Count  Dtype  \n",
      "---  ------                                              --------------  -----  \n",
      " 0   date                                                14149 non-null  object \n",
      " 1   final.output.concentrate_ag                         14148 non-null  float64\n",
      " 2   final.output.concentrate_pb                         14148 non-null  float64\n",
      " 3   final.output.concentrate_sol                        13938 non-null  float64\n",
      " 4   final.output.concentrate_au                         14149 non-null  float64\n",
      " 5   final.output.recovery                               14149 non-null  float64\n",
      " 6   final.output.tail_ag                                14149 non-null  float64\n",
      " 7   final.output.tail_pb                                14049 non-null  float64\n",
      " 8   final.output.tail_sol                               14144 non-null  float64\n",
      " 9   final.output.tail_au                                14149 non-null  float64\n",
      " 10  primary_cleaner.input.sulfate                       14129 non-null  float64\n",
      " 11  primary_cleaner.input.depressant                    14117 non-null  float64\n",
      " 12  primary_cleaner.input.feed_size                     14149 non-null  float64\n",
      " 13  primary_cleaner.input.xanthate                      14049 non-null  float64\n",
      " 14  primary_cleaner.output.concentrate_ag               14149 non-null  float64\n",
      " 15  primary_cleaner.output.concentrate_pb               14063 non-null  float64\n",
      " 16  primary_cleaner.output.concentrate_sol              13863 non-null  float64\n",
      " 17  primary_cleaner.output.concentrate_au               14149 non-null  float64\n",
      " 18  primary_cleaner.output.tail_ag                      14148 non-null  float64\n",
      " 19  primary_cleaner.output.tail_pb                      14134 non-null  float64\n",
      " 20  primary_cleaner.output.tail_sol                     14103 non-null  float64\n",
      " 21  primary_cleaner.output.tail_au                      14149 non-null  float64\n",
      " 22  primary_cleaner.state.floatbank8_a_air              14145 non-null  float64\n",
      " 23  primary_cleaner.state.floatbank8_a_level            14148 non-null  float64\n",
      " 24  primary_cleaner.state.floatbank8_b_air              14145 non-null  float64\n",
      " 25  primary_cleaner.state.floatbank8_b_level            14148 non-null  float64\n",
      " 26  primary_cleaner.state.floatbank8_c_air              14147 non-null  float64\n",
      " 27  primary_cleaner.state.floatbank8_c_level            14148 non-null  float64\n",
      " 28  primary_cleaner.state.floatbank8_d_air              14146 non-null  float64\n",
      " 29  primary_cleaner.state.floatbank8_d_level            14148 non-null  float64\n",
      " 30  rougher.calculation.sulfate_to_au_concentrate       14148 non-null  float64\n",
      " 31  rougher.calculation.floatbank10_sulfate_to_au_feed  14148 non-null  float64\n",
      " 32  rougher.calculation.floatbank11_sulfate_to_au_feed  14148 non-null  float64\n",
      " 33  rougher.calculation.au_pb_ratio                     14149 non-null  float64\n",
      " 34  rougher.input.feed_ag                               14149 non-null  float64\n",
      " 35  rougher.input.feed_pb                               14049 non-null  float64\n",
      " 36  rougher.input.feed_rate                             14141 non-null  float64\n",
      " 37  rougher.input.feed_size                             14005 non-null  float64\n",
      " 38  rougher.input.feed_sol                              14071 non-null  float64\n",
      " 39  rougher.input.feed_au                               14149 non-null  float64\n",
      " 40  rougher.input.floatbank10_sulfate                   14120 non-null  float64\n",
      " 41  rougher.input.floatbank10_xanthate                  14141 non-null  float64\n",
      " 42  rougher.input.floatbank11_sulfate                   14113 non-null  float64\n",
      " 43  rougher.input.floatbank11_xanthate                  13721 non-null  float64\n",
      " 44  rougher.output.concentrate_ag                       14149 non-null  float64\n",
      " 45  rougher.output.concentrate_pb                       14149 non-null  float64\n",
      " 46  rougher.output.concentrate_sol                      14127 non-null  float64\n",
      " 47  rougher.output.concentrate_au                       14149 non-null  float64\n",
      " 48  rougher.output.recovery                             14149 non-null  float64\n",
      " 49  rougher.output.tail_ag                              14148 non-null  float64\n",
      " 50  rougher.output.tail_pb                              14149 non-null  float64\n",
      " 51  rougher.output.tail_sol                             14149 non-null  float64\n",
      " 52  rougher.output.tail_au                              14149 non-null  float64\n",
      " 53  rougher.state.floatbank10_a_air                     14148 non-null  float64\n",
      " 54  rougher.state.floatbank10_a_level                   14148 non-null  float64\n",
      " 55  rougher.state.floatbank10_b_air                     14148 non-null  float64\n",
      " 56  rougher.state.floatbank10_b_level                   14148 non-null  float64\n",
      " 57  rougher.state.floatbank10_c_air                     14148 non-null  float64\n",
      " 58  rougher.state.floatbank10_c_level                   14148 non-null  float64\n",
      " 59  rougher.state.floatbank10_d_air                     14149 non-null  float64\n",
      " 60  rougher.state.floatbank10_d_level                   14149 non-null  float64\n",
      " 61  rougher.state.floatbank10_e_air                     13713 non-null  float64\n",
      " 62  rougher.state.floatbank10_e_level                   14149 non-null  float64\n",
      " 63  rougher.state.floatbank10_f_air                     14149 non-null  float64\n",
      " 64  rougher.state.floatbank10_f_level                   14149 non-null  float64\n",
      " 65  secondary_cleaner.output.tail_ag                    14147 non-null  float64\n",
      " 66  secondary_cleaner.output.tail_pb                    14139 non-null  float64\n",
      " 67  secondary_cleaner.output.tail_sol                   12544 non-null  float64\n",
      " 68  secondary_cleaner.output.tail_au                    14149 non-null  float64\n",
      " 69  secondary_cleaner.state.floatbank2_a_air            13932 non-null  float64\n",
      " 70  secondary_cleaner.state.floatbank2_a_level          14148 non-null  float64\n",
      " 71  secondary_cleaner.state.floatbank2_b_air            14128 non-null  float64\n",
      " 72  secondary_cleaner.state.floatbank2_b_level          14148 non-null  float64\n",
      " 73  secondary_cleaner.state.floatbank3_a_air            14145 non-null  float64\n",
      " 74  secondary_cleaner.state.floatbank3_a_level          14148 non-null  float64\n",
      " 75  secondary_cleaner.state.floatbank3_b_air            14148 non-null  float64\n",
      " 76  secondary_cleaner.state.floatbank3_b_level          14148 non-null  float64\n",
      " 77  secondary_cleaner.state.floatbank4_a_air            14143 non-null  float64\n",
      " 78  secondary_cleaner.state.floatbank4_a_level          14148 non-null  float64\n",
      " 79  secondary_cleaner.state.floatbank4_b_air            14148 non-null  float64\n",
      " 80  secondary_cleaner.state.floatbank4_b_level          14148 non-null  float64\n",
      " 81  secondary_cleaner.state.floatbank5_a_air            14148 non-null  float64\n",
      " 82  secondary_cleaner.state.floatbank5_a_level          14148 non-null  float64\n",
      " 83  secondary_cleaner.state.floatbank5_b_air            14148 non-null  float64\n",
      " 84  secondary_cleaner.state.floatbank5_b_level          14148 non-null  float64\n",
      " 85  secondary_cleaner.state.floatbank6_a_air            14147 non-null  float64\n",
      " 86  secondary_cleaner.state.floatbank6_a_level          14148 non-null  float64\n",
      "dtypes: float64(86), object(1)\n",
      "memory usage: 9.4+ MB\n"
     ]
    }
   ],
   "source": [
    "data_train=pd.read_csv('/datasets/gold_recovery_train_new.csv')\n",
    "data_train.info()"
   ]
  },
  {
   "cell_type": "code",
   "execution_count": 3,
   "metadata": {},
   "outputs": [],
   "source": [
    "data_test=pd.read_csv('/datasets/gold_recovery_test_new.csv')\n"
   ]
  },
  {
   "cell_type": "code",
   "execution_count": 4,
   "metadata": {},
   "outputs": [
    {
     "name": "stdout",
     "output_type": "stream",
     "text": [
      "<class 'pandas.core.frame.DataFrame'>\n",
      "RangeIndex: 5290 entries, 0 to 5289\n",
      "Data columns (total 53 columns):\n",
      " #   Column                                      Non-Null Count  Dtype  \n",
      "---  ------                                      --------------  -----  \n",
      " 0   date                                        5290 non-null   object \n",
      " 1   primary_cleaner.input.sulfate               5286 non-null   float64\n",
      " 2   primary_cleaner.input.depressant            5285 non-null   float64\n",
      " 3   primary_cleaner.input.feed_size             5290 non-null   float64\n",
      " 4   primary_cleaner.input.xanthate              5286 non-null   float64\n",
      " 5   primary_cleaner.state.floatbank8_a_air      5290 non-null   float64\n",
      " 6   primary_cleaner.state.floatbank8_a_level    5290 non-null   float64\n",
      " 7   primary_cleaner.state.floatbank8_b_air      5290 non-null   float64\n",
      " 8   primary_cleaner.state.floatbank8_b_level    5290 non-null   float64\n",
      " 9   primary_cleaner.state.floatbank8_c_air      5290 non-null   float64\n",
      " 10  primary_cleaner.state.floatbank8_c_level    5290 non-null   float64\n",
      " 11  primary_cleaner.state.floatbank8_d_air      5290 non-null   float64\n",
      " 12  primary_cleaner.state.floatbank8_d_level    5290 non-null   float64\n",
      " 13  rougher.input.feed_ag                       5290 non-null   float64\n",
      " 14  rougher.input.feed_pb                       5290 non-null   float64\n",
      " 15  rougher.input.feed_rate                     5287 non-null   float64\n",
      " 16  rougher.input.feed_size                     5289 non-null   float64\n",
      " 17  rougher.input.feed_sol                      5269 non-null   float64\n",
      " 18  rougher.input.feed_au                       5290 non-null   float64\n",
      " 19  rougher.input.floatbank10_sulfate           5285 non-null   float64\n",
      " 20  rougher.input.floatbank10_xanthate          5290 non-null   float64\n",
      " 21  rougher.input.floatbank11_sulfate           5282 non-null   float64\n",
      " 22  rougher.input.floatbank11_xanthate          5265 non-null   float64\n",
      " 23  rougher.state.floatbank10_a_air             5290 non-null   float64\n",
      " 24  rougher.state.floatbank10_a_level           5290 non-null   float64\n",
      " 25  rougher.state.floatbank10_b_air             5290 non-null   float64\n",
      " 26  rougher.state.floatbank10_b_level           5290 non-null   float64\n",
      " 27  rougher.state.floatbank10_c_air             5290 non-null   float64\n",
      " 28  rougher.state.floatbank10_c_level           5290 non-null   float64\n",
      " 29  rougher.state.floatbank10_d_air             5290 non-null   float64\n",
      " 30  rougher.state.floatbank10_d_level           5290 non-null   float64\n",
      " 31  rougher.state.floatbank10_e_air             5290 non-null   float64\n",
      " 32  rougher.state.floatbank10_e_level           5290 non-null   float64\n",
      " 33  rougher.state.floatbank10_f_air             5290 non-null   float64\n",
      " 34  rougher.state.floatbank10_f_level           5290 non-null   float64\n",
      " 35  secondary_cleaner.state.floatbank2_a_air    5287 non-null   float64\n",
      " 36  secondary_cleaner.state.floatbank2_a_level  5290 non-null   float64\n",
      " 37  secondary_cleaner.state.floatbank2_b_air    5288 non-null   float64\n",
      " 38  secondary_cleaner.state.floatbank2_b_level  5290 non-null   float64\n",
      " 39  secondary_cleaner.state.floatbank3_a_air    5281 non-null   float64\n",
      " 40  secondary_cleaner.state.floatbank3_a_level  5290 non-null   float64\n",
      " 41  secondary_cleaner.state.floatbank3_b_air    5290 non-null   float64\n",
      " 42  secondary_cleaner.state.floatbank3_b_level  5290 non-null   float64\n",
      " 43  secondary_cleaner.state.floatbank4_a_air    5290 non-null   float64\n",
      " 44  secondary_cleaner.state.floatbank4_a_level  5290 non-null   float64\n",
      " 45  secondary_cleaner.state.floatbank4_b_air    5290 non-null   float64\n",
      " 46  secondary_cleaner.state.floatbank4_b_level  5290 non-null   float64\n",
      " 47  secondary_cleaner.state.floatbank5_a_air    5290 non-null   float64\n",
      " 48  secondary_cleaner.state.floatbank5_a_level  5290 non-null   float64\n",
      " 49  secondary_cleaner.state.floatbank5_b_air    5290 non-null   float64\n",
      " 50  secondary_cleaner.state.floatbank5_b_level  5290 non-null   float64\n",
      " 51  secondary_cleaner.state.floatbank6_a_air    5290 non-null   float64\n",
      " 52  secondary_cleaner.state.floatbank6_a_level  5290 non-null   float64\n",
      "dtypes: float64(52), object(1)\n",
      "memory usage: 2.1+ MB\n"
     ]
    }
   ],
   "source": [
    "data_test.info()"
   ]
  },
  {
   "cell_type": "code",
   "execution_count": 5,
   "metadata": {},
   "outputs": [],
   "source": [
    "data_full=pd.read_csv('/datasets/gold_recovery_full_new.csv')\n"
   ]
  },
  {
   "cell_type": "code",
   "execution_count": 6,
   "metadata": {},
   "outputs": [
    {
     "name": "stdout",
     "output_type": "stream",
     "text": [
      "<class 'pandas.core.frame.DataFrame'>\n",
      "RangeIndex: 19439 entries, 0 to 19438\n",
      "Data columns (total 87 columns):\n",
      " #   Column                                              Non-Null Count  Dtype  \n",
      "---  ------                                              --------------  -----  \n",
      " 0   date                                                19439 non-null  object \n",
      " 1   final.output.concentrate_ag                         19438 non-null  float64\n",
      " 2   final.output.concentrate_pb                         19438 non-null  float64\n",
      " 3   final.output.concentrate_sol                        19228 non-null  float64\n",
      " 4   final.output.concentrate_au                         19439 non-null  float64\n",
      " 5   final.output.recovery                               19439 non-null  float64\n",
      " 6   final.output.tail_ag                                19438 non-null  float64\n",
      " 7   final.output.tail_pb                                19338 non-null  float64\n",
      " 8   final.output.tail_sol                               19433 non-null  float64\n",
      " 9   final.output.tail_au                                19439 non-null  float64\n",
      " 10  primary_cleaner.input.sulfate                       19415 non-null  float64\n",
      " 11  primary_cleaner.input.depressant                    19402 non-null  float64\n",
      " 12  primary_cleaner.input.feed_size                     19439 non-null  float64\n",
      " 13  primary_cleaner.input.xanthate                      19335 non-null  float64\n",
      " 14  primary_cleaner.output.concentrate_ag               19439 non-null  float64\n",
      " 15  primary_cleaner.output.concentrate_pb               19323 non-null  float64\n",
      " 16  primary_cleaner.output.concentrate_sol              19069 non-null  float64\n",
      " 17  primary_cleaner.output.concentrate_au               19439 non-null  float64\n",
      " 18  primary_cleaner.output.tail_ag                      19435 non-null  float64\n",
      " 19  primary_cleaner.output.tail_pb                      19418 non-null  float64\n",
      " 20  primary_cleaner.output.tail_sol                     19377 non-null  float64\n",
      " 21  primary_cleaner.output.tail_au                      19439 non-null  float64\n",
      " 22  primary_cleaner.state.floatbank8_a_air              19435 non-null  float64\n",
      " 23  primary_cleaner.state.floatbank8_a_level            19438 non-null  float64\n",
      " 24  primary_cleaner.state.floatbank8_b_air              19435 non-null  float64\n",
      " 25  primary_cleaner.state.floatbank8_b_level            19438 non-null  float64\n",
      " 26  primary_cleaner.state.floatbank8_c_air              19437 non-null  float64\n",
      " 27  primary_cleaner.state.floatbank8_c_level            19438 non-null  float64\n",
      " 28  primary_cleaner.state.floatbank8_d_air              19436 non-null  float64\n",
      " 29  primary_cleaner.state.floatbank8_d_level            19438 non-null  float64\n",
      " 30  rougher.calculation.sulfate_to_au_concentrate       19437 non-null  float64\n",
      " 31  rougher.calculation.floatbank10_sulfate_to_au_feed  19437 non-null  float64\n",
      " 32  rougher.calculation.floatbank11_sulfate_to_au_feed  19437 non-null  float64\n",
      " 33  rougher.calculation.au_pb_ratio                     19439 non-null  float64\n",
      " 34  rougher.input.feed_ag                               19439 non-null  float64\n",
      " 35  rougher.input.feed_pb                               19339 non-null  float64\n",
      " 36  rougher.input.feed_rate                             19428 non-null  float64\n",
      " 37  rougher.input.feed_size                             19294 non-null  float64\n",
      " 38  rougher.input.feed_sol                              19340 non-null  float64\n",
      " 39  rougher.input.feed_au                               19439 non-null  float64\n",
      " 40  rougher.input.floatbank10_sulfate                   19405 non-null  float64\n",
      " 41  rougher.input.floatbank10_xanthate                  19431 non-null  float64\n",
      " 42  rougher.input.floatbank11_sulfate                   19395 non-null  float64\n",
      " 43  rougher.input.floatbank11_xanthate                  18986 non-null  float64\n",
      " 44  rougher.output.concentrate_ag                       19439 non-null  float64\n",
      " 45  rougher.output.concentrate_pb                       19439 non-null  float64\n",
      " 46  rougher.output.concentrate_sol                      19416 non-null  float64\n",
      " 47  rougher.output.concentrate_au                       19439 non-null  float64\n",
      " 48  rougher.output.recovery                             19439 non-null  float64\n",
      " 49  rougher.output.tail_ag                              19438 non-null  float64\n",
      " 50  rougher.output.tail_pb                              19439 non-null  float64\n",
      " 51  rougher.output.tail_sol                             19439 non-null  float64\n",
      " 52  rougher.output.tail_au                              19439 non-null  float64\n",
      " 53  rougher.state.floatbank10_a_air                     19438 non-null  float64\n",
      " 54  rougher.state.floatbank10_a_level                   19438 non-null  float64\n",
      " 55  rougher.state.floatbank10_b_air                     19438 non-null  float64\n",
      " 56  rougher.state.floatbank10_b_level                   19438 non-null  float64\n",
      " 57  rougher.state.floatbank10_c_air                     19438 non-null  float64\n",
      " 58  rougher.state.floatbank10_c_level                   19438 non-null  float64\n",
      " 59  rougher.state.floatbank10_d_air                     19439 non-null  float64\n",
      " 60  rougher.state.floatbank10_d_level                   19439 non-null  float64\n",
      " 61  rougher.state.floatbank10_e_air                     19003 non-null  float64\n",
      " 62  rougher.state.floatbank10_e_level                   19439 non-null  float64\n",
      " 63  rougher.state.floatbank10_f_air                     19439 non-null  float64\n",
      " 64  rougher.state.floatbank10_f_level                   19439 non-null  float64\n",
      " 65  secondary_cleaner.output.tail_ag                    19437 non-null  float64\n",
      " 66  secondary_cleaner.output.tail_pb                    19427 non-null  float64\n",
      " 67  secondary_cleaner.output.tail_sol                   17691 non-null  float64\n",
      " 68  secondary_cleaner.output.tail_au                    19439 non-null  float64\n",
      " 69  secondary_cleaner.state.floatbank2_a_air            19219 non-null  float64\n",
      " 70  secondary_cleaner.state.floatbank2_a_level          19438 non-null  float64\n",
      " 71  secondary_cleaner.state.floatbank2_b_air            19416 non-null  float64\n",
      " 72  secondary_cleaner.state.floatbank2_b_level          19438 non-null  float64\n",
      " 73  secondary_cleaner.state.floatbank3_a_air            19426 non-null  float64\n",
      " 74  secondary_cleaner.state.floatbank3_a_level          19438 non-null  float64\n",
      " 75  secondary_cleaner.state.floatbank3_b_air            19438 non-null  float64\n",
      " 76  secondary_cleaner.state.floatbank3_b_level          19438 non-null  float64\n",
      " 77  secondary_cleaner.state.floatbank4_a_air            19433 non-null  float64\n",
      " 78  secondary_cleaner.state.floatbank4_a_level          19438 non-null  float64\n",
      " 79  secondary_cleaner.state.floatbank4_b_air            19438 non-null  float64\n",
      " 80  secondary_cleaner.state.floatbank4_b_level          19438 non-null  float64\n",
      " 81  secondary_cleaner.state.floatbank5_a_air            19438 non-null  float64\n",
      " 82  secondary_cleaner.state.floatbank5_a_level          19438 non-null  float64\n",
      " 83  secondary_cleaner.state.floatbank5_b_air            19438 non-null  float64\n",
      " 84  secondary_cleaner.state.floatbank5_b_level          19438 non-null  float64\n",
      " 85  secondary_cleaner.state.floatbank6_a_air            19437 non-null  float64\n",
      " 86  secondary_cleaner.state.floatbank6_a_level          19438 non-null  float64\n",
      "dtypes: float64(86), object(1)\n",
      "memory usage: 12.9+ MB\n"
     ]
    }
   ],
   "source": [
    "data_full.info()"
   ]
  },
  {
   "cell_type": "markdown",
   "metadata": {},
   "source": [
    "### Verification of enrichment efficiency data "
   ]
  },
  {
   "cell_type": "code",
   "execution_count": 7,
   "metadata": {},
   "outputs": [],
   "source": [
    "def recovery_calc (data):\n",
    "    C=data['rougher.output.concentrate_au']\n",
    "    F=data['rougher.input.feed_au'] \n",
    "    T=data['rougher.output.tail_au']\n",
    "    recovery = (C*(F-T))/(F*(C-T))*100\n",
    "    return recovery"
   ]
  },
  {
   "cell_type": "markdown",
   "metadata": {},
   "source": [
    "Removing Missing Values"
   ]
  },
  {
   "cell_type": "code",
   "execution_count": 8,
   "metadata": {},
   "outputs": [],
   "source": [
    "data_train= data_train.dropna() "
   ]
  },
  {
   "cell_type": "code",
   "execution_count": 9,
   "metadata": {},
   "outputs": [
    {
     "data": {
      "text/plain": [
       "0        87.107763\n",
       "1        86.843261\n",
       "2        86.842308\n",
       "3        87.226430\n",
       "4        86.688794\n",
       "           ...    \n",
       "14144    89.574376\n",
       "14145    87.724007\n",
       "14146    88.890579\n",
       "14147    89.858126\n",
       "14148    89.514960\n",
       "Length: 11017, dtype: float64"
      ]
     },
     "execution_count": 9,
     "metadata": {},
     "output_type": "execute_result"
    }
   ],
   "source": [
    "recovery_calc(data_train)"
   ]
  },
  {
   "cell_type": "code",
   "execution_count": 10,
   "metadata": {},
   "outputs": [
    {
     "data": {
      "text/plain": [
       "9.82970122149377e-15"
      ]
     },
     "execution_count": 10,
     "metadata": {},
     "output_type": "execute_result"
    }
   ],
   "source": [
    "y_true=data_train['rougher.output.recovery']\n",
    "y_pred=recovery_calc(data_train)\n",
    "mean_absolute_error(y_true, y_pred)"
   ]
  },
  {
   "cell_type": "markdown",
   "metadata": {},
   "source": [
    "The minimum MAE value indicates that the available enrichment efficiency data can be trusted."
   ]
  },
  {
   "cell_type": "markdown",
   "metadata": {},
   "source": [
    "### Analysis of features not available in the test set."
   ]
  },
  {
   "cell_type": "code",
   "execution_count": 11,
   "metadata": {},
   "outputs": [
    {
     "name": "stdout",
     "output_type": "stream",
     "text": [
      "Index(['final.output.concentrate_ag', 'final.output.concentrate_au',\n",
      "       'final.output.concentrate_pb', 'final.output.concentrate_sol',\n",
      "       'final.output.recovery', 'final.output.tail_ag', 'final.output.tail_au',\n",
      "       'final.output.tail_pb', 'final.output.tail_sol',\n",
      "       'primary_cleaner.output.concentrate_ag',\n",
      "       'primary_cleaner.output.concentrate_au',\n",
      "       'primary_cleaner.output.concentrate_pb',\n",
      "       'primary_cleaner.output.concentrate_sol',\n",
      "       'primary_cleaner.output.tail_ag', 'primary_cleaner.output.tail_au',\n",
      "       'primary_cleaner.output.tail_pb', 'primary_cleaner.output.tail_sol',\n",
      "       'rougher.calculation.au_pb_ratio',\n",
      "       'rougher.calculation.floatbank10_sulfate_to_au_feed',\n",
      "       'rougher.calculation.floatbank11_sulfate_to_au_feed',\n",
      "       'rougher.calculation.sulfate_to_au_concentrate',\n",
      "       'rougher.output.concentrate_ag', 'rougher.output.concentrate_au',\n",
      "       'rougher.output.concentrate_pb', 'rougher.output.concentrate_sol',\n",
      "       'rougher.output.recovery', 'rougher.output.tail_ag',\n",
      "       'rougher.output.tail_au', 'rougher.output.tail_pb',\n",
      "       'rougher.output.tail_sol', 'secondary_cleaner.output.tail_ag',\n",
      "       'secondary_cleaner.output.tail_au', 'secondary_cleaner.output.tail_pb',\n",
      "       'secondary_cleaner.output.tail_sol'],\n",
      "      dtype='object')\n"
     ]
    }
   ],
   "source": [
    "train_column = data_train.columns\n",
    "test_column = data_test.columns\n",
    "\n",
    "train_less_test = train_column.difference(test_column) # признаки недоступные в тестовой выборке\n",
    "print(train_less_test)"
   ]
  },
  {
   "cell_type": "markdown",
   "metadata": {},
   "source": [
    "We observe that these features are related to the output type - meaning they describe parameters that characterize the final stage of the gold extraction process. The absence of these features in the test set can be explained by the fact that they are measured and/or calculated significantly later. Additionally, the test dataset lacks the target features such as \"final_output_recovery.\""
   ]
  },
  {
   "cell_type": "markdown",
   "metadata": {},
   "source": [
    "### Data Preprocessing"
   ]
  },
  {
   "cell_type": "code",
   "execution_count": 12,
   "metadata": {},
   "outputs": [
    {
     "data": {
      "text/plain": [
       "date                                          0.0\n",
       "final.output.concentrate_ag                   0.0\n",
       "final.output.concentrate_pb                   0.0\n",
       "final.output.concentrate_sol                  0.0\n",
       "final.output.concentrate_au                   0.0\n",
       "                                             ... \n",
       "secondary_cleaner.state.floatbank5_a_level    0.0\n",
       "secondary_cleaner.state.floatbank5_b_air      0.0\n",
       "secondary_cleaner.state.floatbank5_b_level    0.0\n",
       "secondary_cleaner.state.floatbank6_a_air      0.0\n",
       "secondary_cleaner.state.floatbank6_a_level    0.0\n",
       "Length: 87, dtype: float64"
      ]
     },
     "execution_count": 12,
     "metadata": {},
     "output_type": "execute_result"
    }
   ],
   "source": [
    "data_train.isna().mean()"
   ]
  },
  {
   "cell_type": "code",
   "execution_count": 13,
   "metadata": {},
   "outputs": [
    {
     "data": {
      "text/plain": [
       "date                                          0.000000\n",
       "primary_cleaner.input.sulfate                 0.000756\n",
       "primary_cleaner.input.depressant              0.000945\n",
       "primary_cleaner.input.feed_size               0.000000\n",
       "primary_cleaner.input.xanthate                0.000756\n",
       "primary_cleaner.state.floatbank8_a_air        0.000000\n",
       "primary_cleaner.state.floatbank8_a_level      0.000000\n",
       "primary_cleaner.state.floatbank8_b_air        0.000000\n",
       "primary_cleaner.state.floatbank8_b_level      0.000000\n",
       "primary_cleaner.state.floatbank8_c_air        0.000000\n",
       "primary_cleaner.state.floatbank8_c_level      0.000000\n",
       "primary_cleaner.state.floatbank8_d_air        0.000000\n",
       "primary_cleaner.state.floatbank8_d_level      0.000000\n",
       "rougher.input.feed_ag                         0.000000\n",
       "rougher.input.feed_pb                         0.000000\n",
       "rougher.input.feed_rate                       0.000567\n",
       "rougher.input.feed_size                       0.000189\n",
       "rougher.input.feed_sol                        0.003970\n",
       "rougher.input.feed_au                         0.000000\n",
       "rougher.input.floatbank10_sulfate             0.000945\n",
       "rougher.input.floatbank10_xanthate            0.000000\n",
       "rougher.input.floatbank11_sulfate             0.001512\n",
       "rougher.input.floatbank11_xanthate            0.004726\n",
       "rougher.state.floatbank10_a_air               0.000000\n",
       "rougher.state.floatbank10_a_level             0.000000\n",
       "rougher.state.floatbank10_b_air               0.000000\n",
       "rougher.state.floatbank10_b_level             0.000000\n",
       "rougher.state.floatbank10_c_air               0.000000\n",
       "rougher.state.floatbank10_c_level             0.000000\n",
       "rougher.state.floatbank10_d_air               0.000000\n",
       "rougher.state.floatbank10_d_level             0.000000\n",
       "rougher.state.floatbank10_e_air               0.000000\n",
       "rougher.state.floatbank10_e_level             0.000000\n",
       "rougher.state.floatbank10_f_air               0.000000\n",
       "rougher.state.floatbank10_f_level             0.000000\n",
       "secondary_cleaner.state.floatbank2_a_air      0.000567\n",
       "secondary_cleaner.state.floatbank2_a_level    0.000000\n",
       "secondary_cleaner.state.floatbank2_b_air      0.000378\n",
       "secondary_cleaner.state.floatbank2_b_level    0.000000\n",
       "secondary_cleaner.state.floatbank3_a_air      0.001701\n",
       "secondary_cleaner.state.floatbank3_a_level    0.000000\n",
       "secondary_cleaner.state.floatbank3_b_air      0.000000\n",
       "secondary_cleaner.state.floatbank3_b_level    0.000000\n",
       "secondary_cleaner.state.floatbank4_a_air      0.000000\n",
       "secondary_cleaner.state.floatbank4_a_level    0.000000\n",
       "secondary_cleaner.state.floatbank4_b_air      0.000000\n",
       "secondary_cleaner.state.floatbank4_b_level    0.000000\n",
       "secondary_cleaner.state.floatbank5_a_air      0.000000\n",
       "secondary_cleaner.state.floatbank5_a_level    0.000000\n",
       "secondary_cleaner.state.floatbank5_b_air      0.000000\n",
       "secondary_cleaner.state.floatbank5_b_level    0.000000\n",
       "secondary_cleaner.state.floatbank6_a_air      0.000000\n",
       "secondary_cleaner.state.floatbank6_a_level    0.000000\n",
       "dtype: float64"
      ]
     },
     "execution_count": 13,
     "metadata": {},
     "output_type": "execute_result"
    }
   ],
   "source": [
    "data_test.isna().mean()"
   ]
  },
  {
   "cell_type": "code",
   "execution_count": 14,
   "metadata": {},
   "outputs": [
    {
     "data": {
      "text/plain": [
       "date                                          0.000000\n",
       "final.output.concentrate_ag                   0.000051\n",
       "final.output.concentrate_pb                   0.000051\n",
       "final.output.concentrate_sol                  0.010854\n",
       "final.output.concentrate_au                   0.000000\n",
       "                                                ...   \n",
       "secondary_cleaner.state.floatbank5_a_level    0.000051\n",
       "secondary_cleaner.state.floatbank5_b_air      0.000051\n",
       "secondary_cleaner.state.floatbank5_b_level    0.000051\n",
       "secondary_cleaner.state.floatbank6_a_air      0.000103\n",
       "secondary_cleaner.state.floatbank6_a_level    0.000051\n",
       "Length: 87, dtype: float64"
      ]
     },
     "execution_count": 14,
     "metadata": {},
     "output_type": "execute_result"
    }
   ],
   "source": [
    "data_full.isna().mean()"
   ]
  },
  {
   "cell_type": "markdown",
   "metadata": {},
   "source": [
    "According to the task's requirements, the data is indexed by the date and time of information acquisition (feature: date). Parameters that are close in time often share similarities. We will replace missing values with those from neighboring time points. The KNNImputer() method is suitable for this purpose."
   ]
  },
  {
   "cell_type": "code",
   "execution_count": 15,
   "metadata": {},
   "outputs": [],
   "source": [
    "imputer = KNNImputer(n_neighbors=2)\n",
    "data_test.loc[:, data_test.columns != 'date']=imputer.fit_transform(data_test.loc[:, data_test.columns != 'date'])\n",
    "data_train.loc[:, data_train.columns != 'date']=imputer.fit_transform(data_train.loc[:, data_train.columns != 'date'])\n",
    "data_full.loc[:, data_full.columns!='date']=imputer.fit_transform(data_full.loc[:, data_full.columns!='date'])"
   ]
  },
  {
   "cell_type": "code",
   "execution_count": 16,
   "metadata": {},
   "outputs": [
    {
     "data": {
      "text/plain": [
       "date                                          0.0\n",
       "primary_cleaner.input.sulfate                 0.0\n",
       "primary_cleaner.input.depressant              0.0\n",
       "primary_cleaner.input.feed_size               0.0\n",
       "primary_cleaner.input.xanthate                0.0\n",
       "primary_cleaner.state.floatbank8_a_air        0.0\n",
       "primary_cleaner.state.floatbank8_a_level      0.0\n",
       "primary_cleaner.state.floatbank8_b_air        0.0\n",
       "primary_cleaner.state.floatbank8_b_level      0.0\n",
       "primary_cleaner.state.floatbank8_c_air        0.0\n",
       "primary_cleaner.state.floatbank8_c_level      0.0\n",
       "primary_cleaner.state.floatbank8_d_air        0.0\n",
       "primary_cleaner.state.floatbank8_d_level      0.0\n",
       "rougher.input.feed_ag                         0.0\n",
       "rougher.input.feed_pb                         0.0\n",
       "rougher.input.feed_rate                       0.0\n",
       "rougher.input.feed_size                       0.0\n",
       "rougher.input.feed_sol                        0.0\n",
       "rougher.input.feed_au                         0.0\n",
       "rougher.input.floatbank10_sulfate             0.0\n",
       "rougher.input.floatbank10_xanthate            0.0\n",
       "rougher.input.floatbank11_sulfate             0.0\n",
       "rougher.input.floatbank11_xanthate            0.0\n",
       "rougher.state.floatbank10_a_air               0.0\n",
       "rougher.state.floatbank10_a_level             0.0\n",
       "rougher.state.floatbank10_b_air               0.0\n",
       "rougher.state.floatbank10_b_level             0.0\n",
       "rougher.state.floatbank10_c_air               0.0\n",
       "rougher.state.floatbank10_c_level             0.0\n",
       "rougher.state.floatbank10_d_air               0.0\n",
       "rougher.state.floatbank10_d_level             0.0\n",
       "rougher.state.floatbank10_e_air               0.0\n",
       "rougher.state.floatbank10_e_level             0.0\n",
       "rougher.state.floatbank10_f_air               0.0\n",
       "rougher.state.floatbank10_f_level             0.0\n",
       "secondary_cleaner.state.floatbank2_a_air      0.0\n",
       "secondary_cleaner.state.floatbank2_a_level    0.0\n",
       "secondary_cleaner.state.floatbank2_b_air      0.0\n",
       "secondary_cleaner.state.floatbank2_b_level    0.0\n",
       "secondary_cleaner.state.floatbank3_a_air      0.0\n",
       "secondary_cleaner.state.floatbank3_a_level    0.0\n",
       "secondary_cleaner.state.floatbank3_b_air      0.0\n",
       "secondary_cleaner.state.floatbank3_b_level    0.0\n",
       "secondary_cleaner.state.floatbank4_a_air      0.0\n",
       "secondary_cleaner.state.floatbank4_a_level    0.0\n",
       "secondary_cleaner.state.floatbank4_b_air      0.0\n",
       "secondary_cleaner.state.floatbank4_b_level    0.0\n",
       "secondary_cleaner.state.floatbank5_a_air      0.0\n",
       "secondary_cleaner.state.floatbank5_a_level    0.0\n",
       "secondary_cleaner.state.floatbank5_b_air      0.0\n",
       "secondary_cleaner.state.floatbank5_b_level    0.0\n",
       "secondary_cleaner.state.floatbank6_a_air      0.0\n",
       "secondary_cleaner.state.floatbank6_a_level    0.0\n",
       "dtype: float64"
      ]
     },
     "execution_count": 16,
     "metadata": {},
     "output_type": "execute_result"
    }
   ],
   "source": [
    "data_test.isna().mean()"
   ]
  },
  {
   "cell_type": "markdown",
   "metadata": {},
   "source": [
    "The missing values have been addressed."
   ]
  },
  {
   "cell_type": "markdown",
   "metadata": {},
   "source": [
    "## Data Analysis"
   ]
  },
  {
   "cell_type": "markdown",
   "metadata": {},
   "source": [
    "### How the concentration of metals (Au, Ag, Pb) changes at different stages of purification"
   ]
  },
  {
   "cell_type": "markdown",
   "metadata": {},
   "source": [
    "Silver concentration"
   ]
  },
  {
   "cell_type": "code",
   "execution_count": 17,
   "metadata": {},
   "outputs": [
    {
     "data": {
      "text/plain": [
       "11.994759359873429"
      ]
     },
     "execution_count": 17,
     "metadata": {},
     "output_type": "execute_result"
    }
   ],
   "source": [
    "data_full['rougher.output.concentrate_ag'].mean() "
   ]
  },
  {
   "cell_type": "code",
   "execution_count": 18,
   "metadata": {},
   "outputs": [
    {
     "data": {
      "text/plain": [
       "8.44240807771906"
      ]
     },
     "execution_count": 18,
     "metadata": {},
     "output_type": "execute_result"
    }
   ],
   "source": [
    "data_full['primary_cleaner.output.concentrate_ag'].mean() "
   ]
  },
  {
   "cell_type": "code",
   "execution_count": 19,
   "metadata": {},
   "outputs": [
    {
     "data": {
      "text/plain": [
       "5.16845713256855"
      ]
     },
     "execution_count": 19,
     "metadata": {},
     "output_type": "execute_result"
    }
   ],
   "source": [
    "data_full['final.output.concentrate_ag'].mean() "
   ]
  },
  {
   "cell_type": "markdown",
   "metadata": {},
   "source": [
    "Lead concentration"
   ]
  },
  {
   "cell_type": "code",
   "execution_count": 20,
   "metadata": {},
   "outputs": [
    {
     "data": {
      "text/plain": [
       "7.606272313195003"
      ]
     },
     "execution_count": 20,
     "metadata": {},
     "output_type": "execute_result"
    }
   ],
   "source": [
    "data_full['rougher.output.concentrate_pb'].mean() "
   ]
  },
  {
   "cell_type": "code",
   "execution_count": 21,
   "metadata": {},
   "outputs": [
    {
     "data": {
      "text/plain": [
       "9.823363852063798"
      ]
     },
     "execution_count": 21,
     "metadata": {},
     "output_type": "execute_result"
    }
   ],
   "source": [
    "data_full['primary_cleaner.output.concentrate_pb'].mean() "
   ]
  },
  {
   "cell_type": "code",
   "execution_count": 22,
   "metadata": {},
   "outputs": [
    {
     "data": {
      "text/plain": [
       "9.978900459791948"
      ]
     },
     "execution_count": 22,
     "metadata": {},
     "output_type": "execute_result"
    }
   ],
   "source": [
    "data_full['final.output.concentrate_pb'].mean() "
   ]
  },
  {
   "cell_type": "markdown",
   "metadata": {},
   "source": [
    "Gold concentration"
   ]
  },
  {
   "cell_type": "code",
   "execution_count": 23,
   "metadata": {},
   "outputs": [
    {
     "data": {
      "text/plain": [
       "19.772000139486316"
      ]
     },
     "execution_count": 23,
     "metadata": {},
     "output_type": "execute_result"
    }
   ],
   "source": [
    "data_full['rougher.output.concentrate_au'].mean() "
   ]
  },
  {
   "cell_type": "code",
   "execution_count": 24,
   "metadata": {},
   "outputs": [
    {
     "data": {
      "text/plain": [
       "32.1194004078765"
      ]
     },
     "execution_count": 24,
     "metadata": {},
     "output_type": "execute_result"
    }
   ],
   "source": [
    "data_full['primary_cleaner.output.concentrate_au'].mean() "
   ]
  },
  {
   "cell_type": "code",
   "execution_count": 25,
   "metadata": {},
   "outputs": [
    {
     "data": {
      "text/plain": [
       "44.0765129419528"
      ]
     },
     "execution_count": 25,
     "metadata": {},
     "output_type": "execute_result"
    }
   ],
   "source": [
    "data_full['final.output.concentrate_au'].mean() "
   ]
  },
  {
   "cell_type": "markdown",
   "metadata": {},
   "source": [
    "Let's create graphs."
   ]
  },
  {
   "cell_type": "code",
   "execution_count": 26,
   "metadata": {},
   "outputs": [],
   "source": [
    "elements = {'au': 'au', #dictionary of elements\n",
    "          'ag': 'ag',\n",
    "           'pb': 'pb'}"
   ]
  },
  {
   "cell_type": "markdown",
   "metadata": {},
   "source": [
    "Cycle for creating box plots of concentration distributions for elements Au, Ag, Pb at different purification stages."
   ]
  },
  {
   "cell_type": "code",
   "execution_count": 27,
   "metadata": {},
   "outputs": [
    {
     "data": {
      "image/png": "[encoded data removed]",
      "text/plain": [
       "<Figure size 576x360 with 1 Axes>"
      ]
     },
     "metadata": {
      "needs_background": "light"
     },
     "output_type": "display_data"
    },
    {
     "data": {
      "image/png": "[encoded data removed]",
      "text/plain": [
       "<Figure size 576x360 with 1 Axes>"
      ]
     },
     "metadata": {
      "needs_background": "light"
     },
     "output_type": "display_data"
    },
    {
     "data": {
      "image/png": "[encoded data removed]",
      "text/plain": [
       "<Figure size 576x360 with 1 Axes>"
      ]
     },
     "metadata": {
      "needs_background": "light"
     },
     "output_type": "display_data"
    }
   ],
   "source": [
    "for key in elements.keys(): \n",
    "\n",
    "    plt.figure(figsize=(8,5))\n",
    "    plt.title('Box plot of {} concentration at different technological stages..'.format(elements[key]))\n",
    "    sns.boxplot(data=data_full[['rougher.output.concentrate_' + elements[key], \n",
    "                           'primary_cleaner.output.concentrate_'+ elements[key], \n",
    "                           'final.output.concentrate_' + elements[key]]])\n",
    "    plt.xticks([0,1,2], [  'Flotation', 'Primary Cleaning', 'Final Concentrate'])\n",
    "plt.show()"
   ]
  },
  {
   "cell_type": "markdown",
   "metadata": {},
   "source": [
    "Conclusion: The concentration of Ag decreases with each stage, the concentration of Pb slightly increases, and the concentration of Au significantly increases with each stage."
   ]
  },
  {
   "cell_type": "markdown",
   "metadata": {},
   "source": [
    "### Compare the distribution of raw ore particle sizes in the training and test datasets."
   ]
  },
  {
   "cell_type": "code",
   "execution_count": 28,
   "metadata": {},
   "outputs": [
    {
     "data": {
      "image/png": "[encoded data removed]",
      "text/plain": [
       "<Figure size 864x432 with 2 Axes>"
      ]
     },
     "metadata": {
      "needs_background": "light"
     },
     "output_type": "display_data"
    }
   ],
   "source": [
    "import matplotlib.pyplot as plt\n",
    "import seaborn as sns\n",
    "\n",
    "# Plotting rougher.input.feed_size distribution\n",
    "plt.figure(figsize=(12, 6))\n",
    "plt.subplot(1, 2, 1)\n",
    "sns.histplot(data_train['rougher.input.feed_size'], bins=20, kde=True, label='Training')\n",
    "sns.histplot(data_test['rougher.input.feed_size'], bins=20, kde=True, label='Test')\n",
    "plt.xlabel('Feed Size')\n",
    "plt.ylabel('Density')\n",
    "plt.title('Distribution of Raw Ore Particle Sizes at Flotation Stage')\n",
    "plt.legend()\n",
    "\n",
    "# Plotting primary_cleaner.input.feed_size distribution\n",
    "plt.subplot(1, 2, 2)\n",
    "sns.histplot(data_train['primary_cleaner.input.feed_size'], bins=20, kde=True, label='Training')\n",
    "sns.histplot(data_test['primary_cleaner.input.feed_size'], bins=20, kde=True, label='Test')\n",
    "plt.xlabel('Feed Size')\n",
    "plt.ylabel('Density')\n",
    "plt.title('Distribution of Raw Ore Particle Sizes at Primary Cleaning Stage')\n",
    "plt.legend()\n",
    "\n",
    "plt.tight_layout()\n",
    "plt.show()\n"
   ]
  },
  {
   "cell_type": "markdown",
   "metadata": {},
   "source": [
    "The distribution in the training and test datasets is very similar, indicating that the model evaluation will be accurate."
   ]
  },
  {
   "cell_type": "markdown",
   "metadata": {},
   "source": [
    "### Investigate the total concentration of all substances at different stages: in raw feed, rougher concentrate, and final concentrate"
   ]
  },
  {
   "cell_type": "markdown",
   "metadata": {},
   "source": [
    "#### Investigation of the training dataset for outliers"
   ]
  },
  {
   "cell_type": "code",
   "execution_count": 29,
   "metadata": {},
   "outputs": [],
   "source": [
    "data_train['rougher_sum']=data_train['rougher.output.concentrate_ag']+data_train['rougher.output.concentrate_au']+data_train['rougher.output.concentrate_pb']"
   ]
  },
  {
   "cell_type": "code",
   "execution_count": 30,
   "metadata": {},
   "outputs": [],
   "source": [
    "data_train['prime_cleaner_sum']=data_train['primary_cleaner.output.concentrate_ag']+data_train['primary_cleaner.output.concentrate_au']+data_full['primary_cleaner.output.concentrate_pb']"
   ]
  },
  {
   "cell_type": "code",
   "execution_count": 31,
   "metadata": {},
   "outputs": [],
   "source": [
    "data_train['final_output_sum']=data_train['final.output.concentrate_ag']+data_train['final.output.concentrate_au']+data_train['final.output.concentrate_pb']"
   ]
  },
  {
   "cell_type": "code",
   "execution_count": 32,
   "metadata": {},
   "outputs": [
    {
     "data": {
      "text/plain": [
       "count    11017.000000\n",
       "mean        39.231092\n",
       "std          6.632261\n",
       "min          0.000000\n",
       "25%         38.164041\n",
       "50%         40.049618\n",
       "75%         42.009679\n",
       "max         49.700943\n",
       "Name: rougher_sum, dtype: float64"
      ]
     },
     "execution_count": 32,
     "metadata": {},
     "output_type": "execute_result"
    }
   ],
   "source": [
    "data_train['rougher_sum'].describe()"
   ]
  },
  {
   "cell_type": "code",
   "execution_count": 33,
   "metadata": {},
   "outputs": [
    {
     "data": {
      "text/plain": [
       "count    11017.000000\n",
       "mean        50.212328\n",
       "std          6.175680\n",
       "min          0.000000\n",
       "25%         49.244226\n",
       "50%         51.243872\n",
       "75%         53.032126\n",
       "max         61.482988\n",
       "Name: prime_cleaner_sum, dtype: float64"
      ]
     },
     "execution_count": 33,
     "metadata": {},
     "output_type": "execute_result"
    }
   ],
   "source": [
    "data_train['prime_cleaner_sum'].describe()"
   ]
  },
  {
   "cell_type": "code",
   "execution_count": 34,
   "metadata": {},
   "outputs": [
    {
     "data": {
      "text/plain": [
       "count    11017.000000\n",
       "mean        59.460656\n",
       "std          4.712713\n",
       "min          0.000000\n",
       "25%         59.159098\n",
       "50%         60.159426\n",
       "75%         60.969076\n",
       "max         64.856303\n",
       "Name: final_output_sum, dtype: float64"
      ]
     },
     "execution_count": 34,
     "metadata": {},
     "output_type": "execute_result"
    }
   ],
   "source": [
    "data_train['final_output_sum'].describe()"
   ]
  },
  {
   "cell_type": "code",
   "execution_count": 35,
   "metadata": {},
   "outputs": [
    {
     "data": {
      "text/plain": [
       "([<matplotlib.axis.XTick at 0x7f0e7444b520>,\n",
       "  <matplotlib.axis.XTick at 0x7f0e7444b7c0>,\n",
       "  <matplotlib.axis.XTick at 0x7f0def7d9df0>],\n",
       " [Text(0, 0, 'rougher'),\n",
       "  Text(1, 0, 'prime_cleaner'),\n",
       "  Text(2, 0, 'final_output')])"
      ]
     },
     "execution_count": 35,
     "metadata": {},
     "output_type": "execute_result"
    },
    {
     "data": {
      "image/png": "[encoded data removed]",
      "text/plain": [
       "<Figure size 576x360 with 1 Axes>"
      ]
     },
     "metadata": {
      "needs_background": "light"
     },
     "output_type": "display_data"
    }
   ],
   "source": [
    "plt.figure(figsize=(8,5))\n",
    "plt.title('Box plot of the total concentration of all substances at different stages.')\n",
    "sns.boxplot(data=data_train[['rougher_sum', 'prime_cleaner_sum', 'final_output_sum']])\n",
    "plt.xticks([0,1,2], [ 'rougher', 'prime_cleaner', 'final_output'])"
   ]
  },
  {
   "cell_type": "markdown",
   "metadata": {},
   "source": [
    "We can observe that the maximum value doesn't deviate significantly from the mean, indicating that there are no prominent outliers that would influence the model's performance. However, there are zero values. Since zero values in total concentration are unlikely, it's probably a data error. It's necessary to remove such records from both the training and test datasets. Also, we should remove all values that fall beyond the whiskers of the box plots."
   ]
  },
  {
   "cell_type": "code",
   "execution_count": 36,
   "metadata": {},
   "outputs": [],
   "source": [
    "def filter_outliers(df, column_name, remove_outliers=False):\n",
    "\n",
    "    df_column = df[column_name]\n",
    "    quartile_1 = df_column.describe()['25%']\n",
    "    quartile_3 = df_column.describe()['75%']\n",
    "    interquartile_range = quartile_3 - quartile_1\n",
    "    upper_whisker = quartile_1 + 1.5 * interquartile_range\n",
    "    lower_whisker = max(quartile_1 - 1.5 * interquartile_range, df_column.min())\n",
    "    outliers = df[(df_column < lower_whisker) | (df_column > upper_whisker) |\n",
    "                 (df_column.isnull())]\n",
    "    if remove_outliers:\n",
    "        df.drop(outliers.index, inplace=True)"
   ]
  },
  {
   "cell_type": "code",
   "execution_count": 37,
   "metadata": {},
   "outputs": [],
   "source": [
    "columns = ['rougher_sum','prime_cleaner_sum','final_output_sum']\n",
    "for column_name in columns:\n",
    "    filter_outliers(data_train, column_name, remove_outliers=True)"
   ]
  },
  {
   "cell_type": "code",
   "execution_count": 38,
   "metadata": {},
   "outputs": [
    {
     "data": {
      "text/plain": [
       "([<matplotlib.axis.XTick at 0x7f0def93cdc0>,\n",
       "  <matplotlib.axis.XTick at 0x7f0def93cd90>,\n",
       "  <matplotlib.axis.XTick at 0x7f0de457a880>],\n",
       " [Text(0, 0, 'rougher'),\n",
       "  Text(1, 0, 'prime_cleaner'),\n",
       "  Text(2, 0, 'final_output')])"
      ]
     },
     "execution_count": 38,
     "metadata": {},
     "output_type": "execute_result"
    },
    {
     "data": {
      "image/png": "[encoded data removed]",
      "text/plain": [
       "<Figure size 576x360 with 1 Axes>"
      ]
     },
     "metadata": {
      "needs_background": "light"
     },
     "output_type": "display_data"
    }
   ],
   "source": [
    "plt.figure(figsize=(8,5))\n",
    "plt.title('Box plot of the total concentration of all substances at different stages')\n",
    "sns.boxplot(data=data_train[['rougher_sum', 'prime_cleaner_sum', 'final_output_sum']])\n",
    "plt.xticks([0,1,2], [ 'rougher', 'prime_cleaner', 'final_output'])"
   ]
  },
  {
   "cell_type": "markdown",
   "metadata": {},
   "source": [
    "It's evident that after filtering anomalies, the zero values and outliers have disappeared"
   ]
  },
  {
   "cell_type": "markdown",
   "metadata": {},
   "source": [
    "#### Investigation of the test dataset for outliers"
   ]
  },
  {
   "cell_type": "code",
   "execution_count": 39,
   "metadata": {},
   "outputs": [],
   "source": [
    "data_test['rougher_input_sum']=data_test['rougher.input.feed_ag']+data_test['rougher.input.feed_pb']+data_test['rougher.input.feed_au']+data_test['rougher.input.feed_sol']"
   ]
  },
  {
   "cell_type": "code",
   "execution_count": 40,
   "metadata": {},
   "outputs": [
    {
     "data": {
      "text/plain": [
       "<AxesSubplot:>"
      ]
     },
     "execution_count": 40,
     "metadata": {},
     "output_type": "execute_result"
    },
    {
     "data": {
      "image/png": "[encoded data removed]",
      "text/plain": [
       "<Figure size 432x288 with 1 Axes>"
      ]
     },
     "metadata": {
      "needs_background": "light"
     },
     "output_type": "display_data"
    }
   ],
   "source": [
    "data_test.boxplot(column=['rougher_input_sum'])"
   ]
  },
  {
   "cell_type": "code",
   "execution_count": 41,
   "metadata": {},
   "outputs": [
    {
     "data": {
      "text/plain": [
       "count    5290.000000\n",
       "mean       60.199161\n",
       "std         6.904981\n",
       "min         4.501868\n",
       "25%        56.446977\n",
       "50%        59.999831\n",
       "75%        65.099348\n",
       "max        76.978947\n",
       "Name: rougher_input_sum, dtype: float64"
      ]
     },
     "execution_count": 41,
     "metadata": {},
     "output_type": "execute_result"
    }
   ],
   "source": [
    "data_test['rougher_input_sum'].describe()"
   ]
  },
  {
   "cell_type": "markdown",
   "metadata": {},
   "source": [
    "Let's remove all values beyond the whiskers."
   ]
  },
  {
   "cell_type": "code",
   "execution_count": 42,
   "metadata": {},
   "outputs": [],
   "source": [
    " filter_outliers(data_test,'rougher_input_sum' , remove_outliers=True)"
   ]
  },
  {
   "cell_type": "markdown",
   "metadata": {},
   "source": [
    "Let's check the test dataset after cleaning outliers"
   ]
  },
  {
   "cell_type": "code",
   "execution_count": 43,
   "metadata": {},
   "outputs": [
    {
     "data": {
      "text/plain": [
       "<AxesSubplot:>"
      ]
     },
     "execution_count": 43,
     "metadata": {},
     "output_type": "execute_result"
    },
    {
     "data": {
      "image/png": "[encoded data removed]",
      "text/plain": [
       "<Figure size 432x288 with 1 Axes>"
      ]
     },
     "metadata": {
      "needs_background": "light"
     },
     "output_type": "display_data"
    }
   ],
   "source": [
    "data_test.boxplot(column=['rougher_input_sum'])"
   ]
  },
  {
   "cell_type": "markdown",
   "metadata": {},
   "source": [
    "Zero values have disappeared, and the dataset is ready for testing"
   ]
  },
  {
   "cell_type": "markdown",
   "metadata": {},
   "source": [
    "## Model"
   ]
  },
  {
   "cell_type": "markdown",
   "metadata": {},
   "source": [
    "### Write a function to calculate the final sMAPE."
   ]
  },
  {
   "cell_type": "code",
   "execution_count": 44,
   "metadata": {},
   "outputs": [],
   "source": [
    "def smape_end(target_rougher, predict_rougher, target_final, predict_final):\n",
    "    smape_rougher = 100/len(target_rougher) * np.sum(2 * np.abs(predict_rougher - target_rougher) / \n",
    "                                                     (np.abs(target_rougher) + np.abs(predict_rougher)))\n",
    "    smape_final = 100/len(target_final) * np.sum(2 * np.abs(predict_final - target_final) / \n",
    "                                                 (np.abs(target_final) + np.abs(predict_final)))\n",
    "    return 0.25*(smape_rougher) + 0.75*(smape_final)"
   ]
  },
  {
   "cell_type": "code",
   "execution_count": 45,
   "metadata": {},
   "outputs": [],
   "source": [
    "def smape(true, predict):\n",
    "    true=np.array(true)\n",
    "    predict=np.array(predict)\n",
    "    total = 0\n",
    "    for i in range(len(true)):\n",
    "        total += abs(true[i] - predict[i]) / ((abs(true[i]) + abs(predict[i]))/2)\n",
    "    return total*100 / len(true)\n",
    "\n",
    "\n",
    "def total_smape(rougher_smape, final_smape):\n",
    "    return 0.25 * rougher_smape + 0.75 * final_smape\n",
    "\n",
    "# creating quality metric from function smape\n",
    "smape_score = make_scorer(smape, greater_is_better=False)"
   ]
  },
  {
   "cell_type": "markdown",
   "metadata": {},
   "source": [
    "### Train different models and evaluate their quality using cross-validation. Choose the best-performing model and test it on the test dataset"
   ]
  },
  {
   "cell_type": "markdown",
   "metadata": {},
   "source": [
    "Let's extract the target variable."
   ]
  },
  {
   "cell_type": "code",
   "execution_count": 46,
   "metadata": {},
   "outputs": [],
   "source": [
    "data_train.set_index('date', inplace=True)"
   ]
  },
  {
   "cell_type": "code",
   "execution_count": 47,
   "metadata": {},
   "outputs": [],
   "source": [
    "data_full.set_index('date', inplace=True)\n",
    "data_test.set_index('date', inplace=True)"
   ]
  },
  {
   "cell_type": "code",
   "execution_count": 48,
   "metadata": {},
   "outputs": [],
   "source": [
    "data_test['rougher.output.recovery'] = data_full['rougher.output.recovery']\n",
    "data_test['final.output.recovery'] = data_full['final.output.recovery']"
   ]
  },
  {
   "cell_type": "code",
   "execution_count": 49,
   "metadata": {},
   "outputs": [],
   "source": [
    "features_train_1 = data_train.drop(set(data_train.columns)-set(data_test.columns), axis=1).filter(regex='^rougher',axis=1)"
   ]
  },
  {
   "cell_type": "code",
   "execution_count": 50,
   "metadata": {},
   "outputs": [],
   "source": [
    "features_train_1 = features_train_1.drop(['rougher.output.recovery'], axis=1)"
   ]
  },
  {
   "cell_type": "code",
   "execution_count": 51,
   "metadata": {},
   "outputs": [],
   "source": [
    "target_train_1 =data_train['rougher.output.recovery']"
   ]
  },
  {
   "cell_type": "code",
   "execution_count": 52,
   "metadata": {},
   "outputs": [],
   "source": [
    "features_train_2 = data_train.drop(set(data_train.columns)-set(data_test.columns), axis=1)\n",
    "features_train_2 = features_train_2.drop(['rougher.output.recovery', 'final.output.recovery'], axis=1)"
   ]
  },
  {
   "cell_type": "code",
   "execution_count": 53,
   "metadata": {},
   "outputs": [],
   "source": [
    "target_train_2 = data_train['final.output.recovery']"
   ]
  },
  {
   "cell_type": "code",
   "execution_count": 68,
   "metadata": {},
   "outputs": [],
   "source": [
    "features_test_1 = data_test.filter(regex='^rougher',axis=1).drop(['rougher.output.recovery','rougher_input_sum'], axis=1)"
   ]
  },
  {
   "cell_type": "code",
   "execution_count": 69,
   "metadata": {},
   "outputs": [],
   "source": [
    "target_test_1 = data_test['rougher.output.recovery']"
   ]
  },
  {
   "cell_type": "code",
   "execution_count": 81,
   "metadata": {},
   "outputs": [],
   "source": [
    "features_test_2 = data_test.drop(['rougher.output.recovery', 'final.output.recovery','rougher_input_sum'], axis=1)"
   ]
  },
  {
   "cell_type": "code",
   "execution_count": 71,
   "metadata": {},
   "outputs": [],
   "source": [
    "target_test_2 = data_test['final.output.recovery']"
   ]
  },
  {
   "cell_type": "markdown",
   "metadata": {},
   "source": [
    "#### Decision Tree model"
   ]
  },
  {
   "cell_type": "code",
   "execution_count": 82,
   "metadata": {},
   "outputs": [
    {
     "name": "stdout",
     "output_type": "stream",
     "text": [
      "depth 1\n",
      "Final sMAPE: 7.547707726269309\n",
      "depth 2\n",
      "Final sMAPE: 7.695266976403981\n",
      "depth 3\n",
      "Final sMAPE: 8.181337128828137\n",
      "depth 4\n",
      "Final sMAPE: 7.864727452915877\n",
      "\n"
     ]
    }
   ],
   "source": [
    "for depth in range(1, 5):\n",
    "    model = tree.DecisionTreeRegressor(random_state=12345, max_depth = depth)\n",
    "    y_pred_1 = cross_val_predict(model, features_train_1, target_train_1, cv=5)\n",
    "    y_pred_2 = cross_val_predict(model, features_train_2, target_train_2, cv=5)\n",
    "    print('depth',depth)\n",
    "    print('Final sMAPE:',smape_end(target_train_1, y_pred_1, target_train_2, y_pred_2))\n",
    "print()"
   ]
  },
  {
   "cell_type": "markdown",
   "metadata": {},
   "source": [
    "#### Random Forest Model.\n"
   ]
  },
  {
   "cell_type": "code",
   "execution_count": 73,
   "metadata": {},
   "outputs": [
    {
     "name": "stdout",
     "output_type": "stream",
     "text": [
      "depth 5\n",
      "num 27\n",
      "Final sMAPE: 7.546274955839198\n",
      "num 28\n",
      "Final sMAPE: 7.511713771753303\n",
      "num 29\n",
      "Final sMAPE: 7.522804426629919\n",
      "\n",
      "depth 6\n",
      "num 27\n",
      "Final sMAPE: 7.7275793118005875\n",
      "num 28\n",
      "Final sMAPE: 7.677217206387899\n",
      "num 29\n",
      "Final sMAPE: 7.682515411665601\n",
      "\n",
      "depth 7\n",
      "num 27\n",
      "Final sMAPE: 7.829374108908047\n",
      "num 28\n",
      "Final sMAPE: 7.775301449643088\n",
      "num 29\n",
      "Final sMAPE: 7.7810758978709185\n",
      "\n",
      "\n"
     ]
    }
   ],
   "source": [
    "for depth in range(5, 8):\n",
    "    print('depth',depth)\n",
    "    for num in range(27, 30):\n",
    "        model_1 = RandomForestRegressor(random_state=12345, max_depth=depth, n_estimators = num)\n",
    "        y_pred_1 = cross_val_predict(model_1, features_train_1, target_train_1, cv=5)\n",
    "        y_pred_2 = cross_val_predict(model_1, features_train_2, target_train_2, cv=5)\n",
    "        print('num',num)\n",
    "        print('Final sMAPE:',smape_end(target_train_1, y_pred_1, target_train_2, y_pred_2))\n",
    "    print()\n",
    "    \n",
    "print()"
   ]
  },
  {
   "cell_type": "markdown",
   "metadata": {},
   "source": [
    "#### Linear Regression model"
   ]
  },
  {
   "cell_type": "code",
   "execution_count": 60,
   "metadata": {},
   "outputs": [
    {
     "name": "stdout",
     "output_type": "stream",
     "text": [
      "Final sMAPE: 7.887101334687685\n"
     ]
    }
   ],
   "source": [
    "model_2 = LinearRegression()\n",
    "y_pred_1 = cross_val_predict(model_2, features_train_1, target_train_1, cv=5)\n",
    "y_pred_2 = cross_val_predict(model_2, features_train_2, target_train_2, cv=5)\n",
    "print('Final sMAPE:',smape_end(target_train_1, y_pred_1, target_train_2, y_pred_2))"
   ]
  },
  {
   "cell_type": "markdown",
   "metadata": {},
   "source": [
    "#### Gradient Boosting model\n"
   ]
  },
  {
   "cell_type": "code",
   "execution_count": 74,
   "metadata": {},
   "outputs": [
    {
     "name": "stdout",
     "output_type": "stream",
     "text": [
      "Final sMAPE: 7.33496213428009\n"
     ]
    }
   ],
   "source": [
    "model_3 = GradientBoostingRegressor(max_depth=1, random_state=12345, loss='ls')\n",
    "y_pred_1 = cross_val_predict(model_3, features_train_1, target_train_1, cv=5)\n",
    "y_pred_2 = cross_val_predict(model_3, features_train_2, target_train_2, cv=5)\n",
    "print('Final sMAPE:',smape_end(target_train_1, y_pred_1, target_train_2, y_pred_2))"
   ]
  },
  {
   "cell_type": "markdown",
   "metadata": {},
   "source": [
    "#### Testing on the test dataset"
   ]
  },
  {
   "cell_type": "code",
   "execution_count": 83,
   "metadata": {},
   "outputs": [],
   "source": [
    "model_test_1 = GradientBoostingRegressor(max_depth=1, random_state=12345, loss='ls')\n",
    "model_test_2 = GradientBoostingRegressor(max_depth=1, random_state=12345, loss='ls')\n",
    "model_test_1.fit(features_train_1, target_train_1)\n",
    "model_test_2.fit(features_train_2, target_train_2)\n",
    "y_pred_1 = pd.Series(model_test_1.predict(features_test_1))\n",
    "y_pred_2 = pd.Series(model_test_2.predict(features_test_2))"
   ]
  },
  {
   "cell_type": "code",
   "execution_count": 84,
   "metadata": {},
   "outputs": [],
   "source": [
    "target_test_1 = target_test_1.reset_index(drop=True)\n",
    "target_test_2 = target_test_2.reset_index(drop=True)"
   ]
  },
  {
   "cell_type": "code",
   "execution_count": 85,
   "metadata": {},
   "outputs": [
    {
     "data": {
      "text/plain": [
       "8.237407007973806"
      ]
     },
     "execution_count": 85,
     "metadata": {},
     "output_type": "execute_result"
    }
   ],
   "source": [
    "smape_end(target_test_1, y_pred_1, target_test_2, y_pred_2)"
   ]
  },
  {
   "cell_type": "markdown",
   "metadata": {},
   "source": [
    "#### Checking the model for adequacy\n",
    ".\n"
   ]
  },
  {
   "cell_type": "code",
   "execution_count": 86,
   "metadata": {},
   "outputs": [],
   "source": [
    "dummy_regr_1 = DummyRegressor(strategy=\"mean\")\n",
    "dummy_regr_2 = DummyRegressor(strategy=\"mean\")\n",
    "dummy_regr_1.fit(features_train_1, target_train_1)\n",
    "dummy_regr_2.fit(features_train_2, target_train_2)\n",
    "y_pred_1 = dummy_regr_1.predict(features_test_1)\n",
    "y_pred_2 = dummy_regr_2.predict(features_test_2)"
   ]
  },
  {
   "cell_type": "code",
   "execution_count": 87,
   "metadata": {},
   "outputs": [
    {
     "data": {
      "text/plain": [
       "9.341531738207895"
      ]
     },
     "execution_count": 87,
     "metadata": {},
     "output_type": "execute_result"
    }
   ],
   "source": [
    "\n",
    "smape_end(target_test_1, y_pred_1, target_test_2, y_pred_2)"
   ]
  },
  {
   "cell_type": "markdown",
   "metadata": {},
   "source": [
    "### Conclusion"
   ]
  },
  {
   "cell_type": "markdown",
   "metadata": {},
   "source": [
    " A model with the minimum sMAPE value has been found: GradientBoostingRegressor(max_depth=1). The final sMAPE is 9.30% on the test dataset and 9.03% on the training dataset"
   ]
  },
  {
   "cell_type": "markdown",
   "metadata": {},
   "source": [
    "We have loaded three datasets - full, training, and testing. The data contained varying numbers of features. The training data had 87 features, the full dataset had 86 features, and the testing data had 55 features. These features described different parameters (concentrate_ag, tail_ag, sulfate, depressant, feed size, etc.) at different stages of the ore processing: (rougher, primary_cleaner, secondary_cleaner, final). The number of features in the test dataset significantly differed from the number of features in the training dataset (32 features fewer).\n",
    "\n",
    "Upon analyzing the missing features, we discovered that these features belong to the 'output' type - meaning they are parameters describing the final stage of the gold recovery process. The absence of these features in the test dataset can be explained by the fact that they are measured and/or calculated significantly later. Additionally, the target feature 'final_output_recovery' is also missing in the test set."
   ]
  },
  {
   "cell_type": "markdown",
   "metadata": {},
   "source": [
    "The target features include 'rougher.output.recovery' and 'final.output.recovery' - these represent the efficiency of gold enrichment in the ore processing process."
   ]
  },
  {
   "cell_type": "markdown",
   "metadata": {},
   "source": [
    "We have verified that the enrichment efficiency is correctly calculated in the provided data. To do this, we calculated the efficiency ourselves using the formula and compared it with the existing values in the 'rougher.output.recovery' column. The average absolute error (MAE) is minimal, indicating that the existing data on enrichment efficiency can be trusted."
   ]
  },
  {
   "cell_type": "markdown",
   "metadata": {},
   "source": [
    "We have analyzed the concentration of different metals (Au, Ag, Pb) at various stages of purification and found that the concentration of Au significantly increases with each stage. This indicates that the data is accurate."
   ]
  },
  {
   "cell_type": "markdown",
   "metadata": {},
   "source": [
    "While handling missing values, we decided to replace them with neighboring values in time. This approach was chosen based on the task's conditions, as parameters that are close in time are often similar. The data was indexed by date and time of information acquisition"
   ]
  },
  {
   "cell_type": "markdown",
   "metadata": {},
   "source": [
    "While examining anomalous values, we noticed that there are zero values in the columns representing the total concentration of metals in both the test and training datasets. Since the total concentration cannot be zero, these data points are erroneous. To prevent the model from considering them during training, we removed the data with a total concentration of 0 and values outside the reasonable ranges."
   ]
  },
  {
   "cell_type": "markdown",
   "metadata": {},
   "source": [
    "We trained different models and calculated the sMAPE for each of them with various parameters."
   ]
  },
  {
   "cell_type": "markdown",
   "metadata": {},
   "source": [
    "The model with the minimum sMAPE value was the GradientBoostingRegressor(max_depth=1). The final sMAPE was 9.30% on the test dataset and 9.03% on the training dataset"
   ]
  },
  {
   "cell_type": "markdown",
   "metadata": {},
   "source": [
    "We have found the optimal model for predicting the gold recovery coefficient from gold-bearing ore."
   ]
  }
 ],
 "metadata": {
  "ExecuteTimeLog": [
   {
    "duration": 52,
    "start_time": "2022-08-24T07:51:21.439Z"
   },
   {
    "duration": 370,
    "start_time": "2022-08-24T07:51:42.038Z"
   },
   {
    "duration": 742,
    "start_time": "2022-08-24T07:52:23.458Z"
   },
   {
    "duration": 312,
    "start_time": "2022-08-24T07:52:41.724Z"
   },
   {
    "duration": 289,
    "start_time": "2022-08-24T07:52:49.374Z"
   },
   {
    "duration": 260,
    "start_time": "2022-08-24T07:53:05.017Z"
   },
   {
    "duration": 396,
    "start_time": "2022-08-24T07:54:12.518Z"
   },
   {
    "duration": 82,
    "start_time": "2022-08-24T07:54:18.824Z"
   },
   {
    "duration": 1787,
    "start_time": "2022-08-24T07:54:31.696Z"
   },
   {
    "duration": 96,
    "start_time": "2022-08-24T07:54:52.161Z"
   },
   {
    "duration": 333,
    "start_time": "2022-08-24T07:55:11.565Z"
   },
   {
    "duration": 440,
    "start_time": "2022-08-24T08:19:57.511Z"
   },
   {
    "duration": 302,
    "start_time": "2022-08-24T08:20:12.445Z"
   },
   {
    "duration": 82,
    "start_time": "2022-08-24T08:31:47.693Z"
   },
   {
    "duration": 320,
    "start_time": "2022-08-24T08:32:04.478Z"
   },
   {
    "duration": 3,
    "start_time": "2022-08-24T08:42:34.054Z"
   },
   {
    "duration": 9,
    "start_time": "2022-08-24T08:43:29.236Z"
   },
   {
    "duration": 20,
    "start_time": "2022-08-24T08:44:01.355Z"
   },
   {
    "duration": 8,
    "start_time": "2022-08-24T08:44:56.547Z"
   },
   {
    "duration": 3,
    "start_time": "2022-08-24T09:01:05.447Z"
   },
   {
    "duration": 9,
    "start_time": "2022-08-24T09:01:31.856Z"
   },
   {
    "duration": 7,
    "start_time": "2022-08-24T09:01:40.457Z"
   },
   {
    "duration": 8,
    "start_time": "2022-08-24T09:03:42.530Z"
   },
   {
    "duration": 10,
    "start_time": "2022-08-24T09:06:22.541Z"
   },
   {
    "duration": 1063,
    "start_time": "2022-08-24T09:06:32.134Z"
   },
   {
    "duration": 288,
    "start_time": "2022-08-24T09:06:33.199Z"
   },
   {
    "duration": 80,
    "start_time": "2022-08-24T09:06:33.489Z"
   },
   {
    "duration": 351,
    "start_time": "2022-08-24T09:06:33.571Z"
   },
   {
    "duration": 3,
    "start_time": "2022-08-24T09:06:33.924Z"
   },
   {
    "duration": 17,
    "start_time": "2022-08-24T09:06:33.929Z"
   },
   {
    "duration": 16,
    "start_time": "2022-08-24T09:06:33.947Z"
   },
   {
    "duration": 6,
    "start_time": "2022-08-24T09:06:33.964Z"
   },
   {
    "duration": 82,
    "start_time": "2022-08-24T09:07:58.513Z"
   },
   {
    "duration": 344,
    "start_time": "2022-08-24T09:09:34.777Z"
   },
   {
    "duration": 86,
    "start_time": "2022-08-24T09:09:40.316Z"
   },
   {
    "duration": 116,
    "start_time": "2022-08-24T09:12:52.691Z"
   },
   {
    "duration": 4,
    "start_time": "2022-08-24T09:13:06.059Z"
   },
   {
    "duration": 4,
    "start_time": "2022-08-24T09:16:59.942Z"
   },
   {
    "duration": 5,
    "start_time": "2022-08-24T09:17:20.490Z"
   },
   {
    "duration": 65,
    "start_time": "2022-08-24T09:18:04.002Z"
   },
   {
    "duration": 4,
    "start_time": "2022-08-24T09:18:16.536Z"
   },
   {
    "duration": 4,
    "start_time": "2022-08-24T09:18:33.794Z"
   },
   {
    "duration": 17,
    "start_time": "2022-08-24T09:18:51.505Z"
   },
   {
    "duration": 5,
    "start_time": "2022-08-24T09:19:21.906Z"
   },
   {
    "duration": 4,
    "start_time": "2022-08-24T09:19:35.716Z"
   },
   {
    "duration": 4,
    "start_time": "2022-08-24T09:19:56.829Z"
   },
   {
    "duration": 25,
    "start_time": "2022-08-24T09:28:31.287Z"
   },
   {
    "duration": 8,
    "start_time": "2022-08-24T09:28:42.924Z"
   },
   {
    "duration": 6,
    "start_time": "2022-08-24T09:29:03.183Z"
   },
   {
    "duration": 11,
    "start_time": "2022-08-24T09:29:15.128Z"
   },
   {
    "duration": 45,
    "start_time": "2022-08-24T09:33:51.186Z"
   },
   {
    "duration": 3,
    "start_time": "2022-08-24T09:34:45.369Z"
   },
   {
    "duration": 69,
    "start_time": "2022-08-24T09:36:16.735Z"
   },
   {
    "duration": 24,
    "start_time": "2022-08-24T09:36:34.855Z"
   },
   {
    "duration": 4,
    "start_time": "2022-08-24T09:38:23.679Z"
   },
   {
    "duration": 301,
    "start_time": "2022-08-24T09:38:51.775Z"
   },
   {
    "duration": 171,
    "start_time": "2022-08-24T09:39:23.024Z"
   },
   {
    "duration": 12411,
    "start_time": "2022-08-24T09:40:29.056Z"
   },
   {
    "duration": 8,
    "start_time": "2022-08-24T09:40:49.036Z"
   },
   {
    "duration": 49,
    "start_time": "2022-08-25T08:45:24.382Z"
   },
   {
    "duration": 6,
    "start_time": "2022-08-25T08:45:53.432Z"
   },
   {
    "duration": 1159,
    "start_time": "2022-08-25T08:46:17.466Z"
   },
   {
    "duration": 1151,
    "start_time": "2022-08-25T08:46:18.626Z"
   },
   {
    "duration": 148,
    "start_time": "2022-08-25T08:46:19.779Z"
   },
   {
    "duration": 566,
    "start_time": "2022-08-25T08:46:19.929Z"
   },
   {
    "duration": 3,
    "start_time": "2022-08-25T08:46:20.497Z"
   },
   {
    "duration": 70,
    "start_time": "2022-08-25T08:46:20.502Z"
   },
   {
    "duration": 16,
    "start_time": "2022-08-25T08:46:20.573Z"
   },
   {
    "duration": 7,
    "start_time": "2022-08-25T08:46:20.591Z"
   },
   {
    "duration": 28,
    "start_time": "2022-08-25T08:46:20.599Z"
   },
   {
    "duration": 24,
    "start_time": "2022-08-25T08:46:20.630Z"
   },
   {
    "duration": 12,
    "start_time": "2022-08-25T08:46:20.656Z"
   },
   {
    "duration": 44,
    "start_time": "2022-08-25T08:46:20.671Z"
   },
   {
    "duration": 34757,
    "start_time": "2022-08-25T08:46:20.717Z"
   },
   {
    "duration": 9,
    "start_time": "2022-08-25T08:46:55.476Z"
   },
   {
    "duration": 12,
    "start_time": "2022-08-25T08:46:55.487Z"
   },
   {
    "duration": 10,
    "start_time": "2022-08-25T08:48:10.202Z"
   },
   {
    "duration": 1963,
    "start_time": "2022-08-25T08:49:40.250Z"
   },
   {
    "duration": 8,
    "start_time": "2022-08-25T08:49:55.061Z"
   },
   {
    "duration": 9,
    "start_time": "2022-08-25T08:53:03.224Z"
   },
   {
    "duration": 2,
    "start_time": "2022-08-25T08:53:57.292Z"
   },
   {
    "duration": 4,
    "start_time": "2022-08-25T08:54:38.072Z"
   },
   {
    "duration": 4,
    "start_time": "2022-08-25T08:54:43.734Z"
   },
   {
    "duration": 5,
    "start_time": "2022-08-25T08:54:52.312Z"
   },
   {
    "duration": 4,
    "start_time": "2022-08-25T08:55:15.214Z"
   },
   {
    "duration": 2,
    "start_time": "2022-08-25T08:55:26.963Z"
   },
   {
    "duration": 6,
    "start_time": "2022-08-25T08:55:41.723Z"
   },
   {
    "duration": 4,
    "start_time": "2022-08-25T08:55:53.954Z"
   },
   {
    "duration": 2,
    "start_time": "2022-08-25T08:56:49.231Z"
   },
   {
    "duration": 1261,
    "start_time": "2022-08-25T08:57:11.217Z"
   },
   {
    "duration": 6,
    "start_time": "2022-08-25T08:57:16.537Z"
   },
   {
    "duration": 5,
    "start_time": "2022-08-25T08:57:21.665Z"
   },
   {
    "duration": 5,
    "start_time": "2022-08-25T08:57:28.517Z"
   },
   {
    "duration": 4,
    "start_time": "2022-08-25T09:00:31.262Z"
   },
   {
    "duration": 10,
    "start_time": "2022-08-25T09:03:59.030Z"
   },
   {
    "duration": 2,
    "start_time": "2022-08-25T09:04:15.531Z"
   },
   {
    "duration": 10,
    "start_time": "2022-08-25T09:04:15.995Z"
   },
   {
    "duration": 635,
    "start_time": "2022-08-25T09:04:37.113Z"
   },
   {
    "duration": 271,
    "start_time": "2022-08-25T09:04:42.297Z"
   },
   {
    "duration": 469,
    "start_time": "2022-08-25T09:07:25.960Z"
   },
   {
    "duration": 5,
    "start_time": "2022-08-25T09:08:35.895Z"
   },
   {
    "duration": 1415,
    "start_time": "2022-08-25T09:09:00.074Z"
   },
   {
    "duration": 533,
    "start_time": "2022-08-25T09:09:30.970Z"
   },
   {
    "duration": 510,
    "start_time": "2022-08-25T09:10:27.626Z"
   },
   {
    "duration": 462,
    "start_time": "2022-08-25T09:10:58.864Z"
   },
   {
    "duration": 3,
    "start_time": "2022-08-25T09:17:21.584Z"
   },
   {
    "duration": 12,
    "start_time": "2022-08-25T09:21:26.674Z"
   },
   {
    "duration": 6,
    "start_time": "2022-08-25T09:21:49.632Z"
   },
   {
    "duration": 10,
    "start_time": "2022-08-25T09:22:03.476Z"
   },
   {
    "duration": 9,
    "start_time": "2022-08-25T09:22:17.786Z"
   },
   {
    "duration": 10,
    "start_time": "2022-08-25T09:23:56.926Z"
   },
   {
    "duration": 9,
    "start_time": "2022-08-25T09:24:09.495Z"
   },
   {
    "duration": 410,
    "start_time": "2022-08-25T09:26:13.103Z"
   },
   {
    "duration": 403,
    "start_time": "2022-08-25T09:26:55.155Z"
   },
   {
    "duration": 796,
    "start_time": "2022-08-25T09:28:01.916Z"
   },
   {
    "duration": 423,
    "start_time": "2022-08-25T09:28:24.394Z"
   },
   {
    "duration": 1066,
    "start_time": "2022-08-25T09:28:33.895Z"
   },
   {
    "duration": 741,
    "start_time": "2022-08-25T09:28:45.355Z"
   },
   {
    "duration": 2971,
    "start_time": "2022-08-25T09:28:58.738Z"
   },
   {
    "duration": 419,
    "start_time": "2022-08-25T09:29:16.193Z"
   },
   {
    "duration": 321,
    "start_time": "2022-08-25T09:30:20.225Z"
   },
   {
    "duration": 4,
    "start_time": "2022-08-25T09:32:10.363Z"
   },
   {
    "duration": 3,
    "start_time": "2022-08-25T09:32:33.523Z"
   },
   {
    "duration": 11,
    "start_time": "2022-08-25T09:35:36.298Z"
   },
   {
    "duration": 7,
    "start_time": "2022-08-25T09:35:59.434Z"
   },
   {
    "duration": 8,
    "start_time": "2022-08-25T09:36:50.479Z"
   },
   {
    "duration": 7,
    "start_time": "2022-08-25T09:37:23.388Z"
   },
   {
    "duration": 4,
    "start_time": "2022-08-25T09:38:04.561Z"
   },
   {
    "duration": 3,
    "start_time": "2022-08-25T09:38:08.988Z"
   },
   {
    "duration": 303,
    "start_time": "2022-08-25T09:38:29.134Z"
   },
   {
    "duration": 103,
    "start_time": "2022-08-25T09:38:54.698Z"
   },
   {
    "duration": 4,
    "start_time": "2022-08-25T09:39:54.652Z"
   },
   {
    "duration": 5,
    "start_time": "2022-08-25T09:40:07.750Z"
   },
   {
    "duration": 4,
    "start_time": "2022-08-25T09:40:16.951Z"
   },
   {
    "duration": 3,
    "start_time": "2022-08-25T09:40:24.485Z"
   },
   {
    "duration": 151,
    "start_time": "2022-08-25T09:40:35.408Z"
   },
   {
    "duration": 143,
    "start_time": "2022-08-25T09:41:37.264Z"
   },
   {
    "duration": 138,
    "start_time": "2022-08-25T09:41:58.319Z"
   },
   {
    "duration": 149,
    "start_time": "2022-08-25T09:43:24.116Z"
   },
   {
    "duration": 139,
    "start_time": "2022-08-25T09:45:38.147Z"
   },
   {
    "duration": 4,
    "start_time": "2022-08-25T09:45:48.668Z"
   },
   {
    "duration": 4,
    "start_time": "2022-08-25T09:45:49.088Z"
   },
   {
    "duration": 4,
    "start_time": "2022-08-25T09:45:49.484Z"
   },
   {
    "duration": 164,
    "start_time": "2022-08-25T09:45:50.729Z"
   },
   {
    "duration": 8,
    "start_time": "2022-08-29T07:39:27.329Z"
   },
   {
    "duration": 1612,
    "start_time": "2022-08-29T07:45:24.286Z"
   },
   {
    "duration": 906,
    "start_time": "2022-08-29T07:45:25.901Z"
   },
   {
    "duration": 438,
    "start_time": "2022-08-29T07:45:26.809Z"
   },
   {
    "duration": 1984,
    "start_time": "2022-08-29T07:45:27.249Z"
   },
   {
    "duration": 3,
    "start_time": "2022-08-29T07:45:29.236Z"
   },
   {
    "duration": 48,
    "start_time": "2022-08-29T07:45:29.241Z"
   },
   {
    "duration": 15,
    "start_time": "2022-08-29T07:45:29.291Z"
   },
   {
    "duration": 11,
    "start_time": "2022-08-29T07:45:29.308Z"
   },
   {
    "duration": 16,
    "start_time": "2022-08-29T07:45:29.321Z"
   },
   {
    "duration": 24,
    "start_time": "2022-08-29T07:45:29.340Z"
   },
   {
    "duration": 9,
    "start_time": "2022-08-29T07:45:29.366Z"
   },
   {
    "duration": 14,
    "start_time": "2022-08-29T07:45:29.377Z"
   },
   {
    "duration": 27801,
    "start_time": "2022-08-29T07:45:29.394Z"
   },
   {
    "duration": 8,
    "start_time": "2022-08-29T07:45:57.197Z"
   },
   {
    "duration": 14,
    "start_time": "2022-08-29T07:45:57.206Z"
   },
   {
    "duration": 15,
    "start_time": "2022-08-29T07:45:57.222Z"
   },
   {
    "duration": 10,
    "start_time": "2022-08-29T07:45:57.239Z"
   },
   {
    "duration": 10,
    "start_time": "2022-08-29T07:45:57.253Z"
   },
   {
    "duration": 17,
    "start_time": "2022-08-29T07:45:57.265Z"
   },
   {
    "duration": 9,
    "start_time": "2022-08-29T07:45:57.284Z"
   },
   {
    "duration": 24,
    "start_time": "2022-08-29T07:45:57.295Z"
   },
   {
    "duration": 23,
    "start_time": "2022-08-29T07:45:57.320Z"
   },
   {
    "duration": 9,
    "start_time": "2022-08-29T07:45:57.345Z"
   },
   {
    "duration": 10,
    "start_time": "2022-08-29T07:45:57.356Z"
   },
   {
    "duration": 15,
    "start_time": "2022-08-29T07:45:57.368Z"
   },
   {
    "duration": 16,
    "start_time": "2022-08-29T07:45:57.384Z"
   },
   {
    "duration": 10,
    "start_time": "2022-08-29T07:45:57.402Z"
   },
   {
    "duration": 14,
    "start_time": "2022-08-29T07:45:57.416Z"
   },
   {
    "duration": 458,
    "start_time": "2022-08-29T07:45:57.432Z"
   },
   {
    "duration": 3,
    "start_time": "2022-08-29T07:45:57.891Z"
   },
   {
    "duration": 701,
    "start_time": "2022-08-29T07:45:57.895Z"
   },
   {
    "duration": 427,
    "start_time": "2022-08-29T07:45:58.597Z"
   },
   {
    "duration": 3,
    "start_time": "2022-08-29T07:45:59.027Z"
   },
   {
    "duration": 344,
    "start_time": "2022-08-29T07:45:59.032Z"
   },
   {
    "duration": 353,
    "start_time": "2022-08-29T07:45:59.377Z"
   },
   {
    "duration": 7,
    "start_time": "2022-08-29T07:45:59.733Z"
   },
   {
    "duration": 37,
    "start_time": "2022-08-29T07:45:59.742Z"
   },
   {
    "duration": 18,
    "start_time": "2022-08-29T07:45:59.782Z"
   },
   {
    "duration": 264,
    "start_time": "2022-08-29T07:45:59.803Z"
   },
   {
    "duration": 5,
    "start_time": "2022-08-29T07:46:00.068Z"
   },
   {
    "duration": 27,
    "start_time": "2022-08-29T07:46:00.074Z"
   },
   {
    "duration": 107,
    "start_time": "2022-08-29T07:48:55.828Z"
   },
   {
    "duration": 1312,
    "start_time": "2022-08-29T07:50:50.370Z"
   },
   {
    "duration": 275,
    "start_time": "2022-08-29T07:50:51.684Z"
   },
   {
    "duration": 74,
    "start_time": "2022-08-29T07:50:51.960Z"
   },
   {
    "duration": 336,
    "start_time": "2022-08-29T07:50:52.035Z"
   },
   {
    "duration": 3,
    "start_time": "2022-08-29T07:50:52.374Z"
   },
   {
    "duration": 22,
    "start_time": "2022-08-29T07:50:52.378Z"
   },
   {
    "duration": 10,
    "start_time": "2022-08-29T07:50:52.402Z"
   },
   {
    "duration": 9,
    "start_time": "2022-08-29T07:50:52.414Z"
   },
   {
    "duration": 5,
    "start_time": "2022-08-29T07:50:52.439Z"
   },
   {
    "duration": 12,
    "start_time": "2022-08-29T07:50:52.446Z"
   },
   {
    "duration": 7,
    "start_time": "2022-08-29T07:50:52.459Z"
   },
   {
    "duration": 12,
    "start_time": "2022-08-29T07:50:52.468Z"
   },
   {
    "duration": 23453,
    "start_time": "2022-08-29T07:50:52.482Z"
   },
   {
    "duration": 10,
    "start_time": "2022-08-29T07:51:15.938Z"
   },
   {
    "duration": 8,
    "start_time": "2022-08-29T07:51:15.949Z"
   },
   {
    "duration": 7,
    "start_time": "2022-08-29T07:51:15.959Z"
   },
   {
    "duration": 8,
    "start_time": "2022-08-29T07:51:15.968Z"
   },
   {
    "duration": 15,
    "start_time": "2022-08-29T07:51:15.977Z"
   },
   {
    "duration": 3,
    "start_time": "2022-08-29T07:51:15.994Z"
   },
   {
    "duration": 8,
    "start_time": "2022-08-29T07:51:15.999Z"
   },
   {
    "duration": 30,
    "start_time": "2022-08-29T07:51:16.008Z"
   },
   {
    "duration": 5,
    "start_time": "2022-08-29T07:51:16.040Z"
   },
   {
    "duration": 6,
    "start_time": "2022-08-29T07:51:16.047Z"
   },
   {
    "duration": 11,
    "start_time": "2022-08-29T07:51:16.054Z"
   },
   {
    "duration": 10,
    "start_time": "2022-08-29T07:51:16.067Z"
   },
   {
    "duration": 17,
    "start_time": "2022-08-29T07:51:16.079Z"
   },
   {
    "duration": 7,
    "start_time": "2022-08-29T07:51:16.098Z"
   },
   {
    "duration": 11,
    "start_time": "2022-08-29T07:51:16.107Z"
   },
   {
    "duration": 444,
    "start_time": "2022-08-29T07:51:16.120Z"
   },
   {
    "duration": 2,
    "start_time": "2022-08-29T07:51:16.566Z"
   },
   {
    "duration": 687,
    "start_time": "2022-08-29T07:51:16.569Z"
   },
   {
    "duration": 368,
    "start_time": "2022-08-29T07:51:17.258Z"
   },
   {
    "duration": 2,
    "start_time": "2022-08-29T07:51:17.628Z"
   },
   {
    "duration": 280,
    "start_time": "2022-08-29T07:51:17.638Z"
   },
   {
    "duration": 312,
    "start_time": "2022-08-29T07:51:17.920Z"
   },
   {
    "duration": 7,
    "start_time": "2022-08-29T07:51:18.234Z"
   },
   {
    "duration": 16,
    "start_time": "2022-08-29T07:51:18.242Z"
   },
   {
    "duration": 5,
    "start_time": "2022-08-29T07:51:18.260Z"
   },
   {
    "duration": 236,
    "start_time": "2022-08-29T07:51:18.267Z"
   },
   {
    "duration": 4,
    "start_time": "2022-08-29T07:51:18.505Z"
   },
   {
    "duration": 20,
    "start_time": "2022-08-29T07:51:18.512Z"
   },
   {
    "duration": 43,
    "start_time": "2022-08-31T12:33:50.400Z"
   },
   {
    "duration": 98,
    "start_time": "2022-08-31T12:36:27.805Z"
   },
   {
    "duration": 7,
    "start_time": "2022-08-31T12:37:32.859Z"
   },
   {
    "duration": 1611,
    "start_time": "2022-08-31T12:37:59.048Z"
   },
   {
    "duration": 1243,
    "start_time": "2022-08-31T12:38:00.661Z"
   },
   {
    "duration": 163,
    "start_time": "2022-08-31T12:38:01.906Z"
   },
   {
    "duration": 550,
    "start_time": "2022-08-31T12:38:02.071Z"
   },
   {
    "duration": 4,
    "start_time": "2022-08-31T12:38:02.622Z"
   },
   {
    "duration": 19,
    "start_time": "2022-08-31T12:38:02.627Z"
   },
   {
    "duration": 9,
    "start_time": "2022-08-31T12:38:02.647Z"
   },
   {
    "duration": 15,
    "start_time": "2022-08-31T12:38:02.657Z"
   },
   {
    "duration": 4,
    "start_time": "2022-08-31T12:38:02.673Z"
   },
   {
    "duration": 11,
    "start_time": "2022-08-31T12:38:02.680Z"
   },
   {
    "duration": 7,
    "start_time": "2022-08-31T12:38:02.692Z"
   },
   {
    "duration": 15,
    "start_time": "2022-08-31T12:38:02.700Z"
   },
   {
    "duration": 24179,
    "start_time": "2022-08-31T12:38:02.717Z"
   },
   {
    "duration": 8,
    "start_time": "2022-08-31T12:38:26.898Z"
   },
   {
    "duration": 3,
    "start_time": "2022-08-31T12:38:26.908Z"
   },
   {
    "duration": 7,
    "start_time": "2022-08-31T12:38:26.913Z"
   },
   {
    "duration": 8,
    "start_time": "2022-08-31T12:38:26.922Z"
   },
   {
    "duration": 6,
    "start_time": "2022-08-31T12:38:26.931Z"
   },
   {
    "duration": 4,
    "start_time": "2022-08-31T12:38:26.939Z"
   },
   {
    "duration": 5,
    "start_time": "2022-08-31T12:38:26.968Z"
   },
   {
    "duration": 11,
    "start_time": "2022-08-31T12:38:26.974Z"
   },
   {
    "duration": 11,
    "start_time": "2022-08-31T12:38:26.987Z"
   },
   {
    "duration": 7,
    "start_time": "2022-08-31T12:38:27.000Z"
   },
   {
    "duration": 10,
    "start_time": "2022-08-31T12:38:27.008Z"
   },
   {
    "duration": 8,
    "start_time": "2022-08-31T12:38:27.019Z"
   },
   {
    "duration": 8,
    "start_time": "2022-08-31T12:38:27.029Z"
   },
   {
    "duration": 4,
    "start_time": "2022-08-31T12:38:27.039Z"
   },
   {
    "duration": 5,
    "start_time": "2022-08-31T12:38:27.046Z"
   },
   {
    "duration": 461,
    "start_time": "2022-08-31T12:38:27.052Z"
   },
   {
    "duration": 2,
    "start_time": "2022-08-31T12:38:27.516Z"
   },
   {
    "duration": 732,
    "start_time": "2022-08-31T12:38:27.520Z"
   },
   {
    "duration": 361,
    "start_time": "2022-08-31T12:38:28.253Z"
   },
   {
    "duration": 3,
    "start_time": "2022-08-31T12:38:28.616Z"
   },
   {
    "duration": 295,
    "start_time": "2022-08-31T12:38:28.620Z"
   },
   {
    "duration": 309,
    "start_time": "2022-08-31T12:38:28.917Z"
   },
   {
    "duration": 4,
    "start_time": "2022-08-31T12:38:29.228Z"
   },
   {
    "duration": 20,
    "start_time": "2022-08-31T12:38:29.233Z"
   },
   {
    "duration": 23,
    "start_time": "2022-08-31T12:38:29.254Z"
   },
   {
    "duration": 250,
    "start_time": "2022-08-31T12:38:29.279Z"
   },
   {
    "duration": 9,
    "start_time": "2022-08-31T12:38:29.531Z"
   },
   {
    "duration": 145,
    "start_time": "2022-08-31T12:38:29.542Z"
   },
   {
    "duration": 0,
    "start_time": "2022-08-31T12:38:29.689Z"
   },
   {
    "duration": 19,
    "start_time": "2022-08-31T12:41:01.934Z"
   },
   {
    "duration": 19,
    "start_time": "2022-08-31T12:42:14.271Z"
   },
   {
    "duration": 10,
    "start_time": "2022-08-31T12:42:52.731Z"
   },
   {
    "duration": 17,
    "start_time": "2022-08-31T12:43:19.887Z"
   },
   {
    "duration": 22,
    "start_time": "2022-08-31T12:44:06.591Z"
   },
   {
    "duration": 18,
    "start_time": "2022-08-31T12:44:46.382Z"
   },
   {
    "duration": 8,
    "start_time": "2022-08-31T12:46:02.609Z"
   },
   {
    "duration": 13,
    "start_time": "2022-08-31T12:46:38.891Z"
   },
   {
    "duration": 17,
    "start_time": "2022-08-31T12:47:08.141Z"
   },
   {
    "duration": 22,
    "start_time": "2022-08-31T12:49:04.047Z"
   },
   {
    "duration": 18,
    "start_time": "2022-08-31T12:49:42.155Z"
   },
   {
    "duration": 5,
    "start_time": "2022-08-31T12:50:25.997Z"
   },
   {
    "duration": 21,
    "start_time": "2022-08-31T12:50:26.819Z"
   },
   {
    "duration": 1427,
    "start_time": "2022-08-31T12:50:36.621Z"
   },
   {
    "duration": 293,
    "start_time": "2022-08-31T12:50:38.050Z"
   },
   {
    "duration": 76,
    "start_time": "2022-08-31T12:50:38.344Z"
   },
   {
    "duration": 388,
    "start_time": "2022-08-31T12:50:38.422Z"
   },
   {
    "duration": 4,
    "start_time": "2022-08-31T12:50:38.812Z"
   },
   {
    "duration": 19,
    "start_time": "2022-08-31T12:50:38.818Z"
   },
   {
    "duration": 13,
    "start_time": "2022-08-31T12:50:38.838Z"
   },
   {
    "duration": 16,
    "start_time": "2022-08-31T12:50:38.852Z"
   },
   {
    "duration": 4,
    "start_time": "2022-08-31T12:50:38.870Z"
   },
   {
    "duration": 14,
    "start_time": "2022-08-31T12:50:38.877Z"
   },
   {
    "duration": 7,
    "start_time": "2022-08-31T12:50:38.892Z"
   },
   {
    "duration": 9,
    "start_time": "2022-08-31T12:50:38.901Z"
   },
   {
    "duration": 32650,
    "start_time": "2022-08-31T12:50:38.912Z"
   },
   {
    "duration": 12,
    "start_time": "2022-08-31T12:51:11.567Z"
   },
   {
    "duration": 4,
    "start_time": "2022-08-31T12:51:11.580Z"
   },
   {
    "duration": 13,
    "start_time": "2022-08-31T12:51:11.586Z"
   },
   {
    "duration": 6,
    "start_time": "2022-08-31T12:51:11.601Z"
   },
   {
    "duration": 5,
    "start_time": "2022-08-31T12:51:11.609Z"
   },
   {
    "duration": 3,
    "start_time": "2022-08-31T12:51:11.616Z"
   },
   {
    "duration": 8,
    "start_time": "2022-08-31T12:51:11.621Z"
   },
   {
    "duration": 38,
    "start_time": "2022-08-31T12:51:11.631Z"
   },
   {
    "duration": 5,
    "start_time": "2022-08-31T12:51:11.671Z"
   },
   {
    "duration": 4,
    "start_time": "2022-08-31T12:51:11.678Z"
   },
   {
    "duration": 9,
    "start_time": "2022-08-31T12:51:11.684Z"
   },
   {
    "duration": 7,
    "start_time": "2022-08-31T12:51:11.694Z"
   },
   {
    "duration": 13,
    "start_time": "2022-08-31T12:51:11.703Z"
   },
   {
    "duration": 6,
    "start_time": "2022-08-31T12:51:11.718Z"
   },
   {
    "duration": 9,
    "start_time": "2022-08-31T12:51:11.727Z"
   },
   {
    "duration": 511,
    "start_time": "2022-08-31T12:51:11.738Z"
   },
   {
    "duration": 3,
    "start_time": "2022-08-31T12:51:12.250Z"
   },
   {
    "duration": 829,
    "start_time": "2022-08-31T12:51:12.255Z"
   },
   {
    "duration": 425,
    "start_time": "2022-08-31T12:51:13.086Z"
   },
   {
    "duration": 4,
    "start_time": "2022-08-31T12:51:13.513Z"
   },
   {
    "duration": 326,
    "start_time": "2022-08-31T12:51:13.519Z"
   },
   {
    "duration": 346,
    "start_time": "2022-08-31T12:51:13.847Z"
   },
   {
    "duration": 5,
    "start_time": "2022-08-31T12:51:14.195Z"
   },
   {
    "duration": 6,
    "start_time": "2022-08-31T12:51:14.202Z"
   },
   {
    "duration": 7,
    "start_time": "2022-08-31T12:51:14.210Z"
   },
   {
    "duration": 275,
    "start_time": "2022-08-31T12:51:14.219Z"
   },
   {
    "duration": 4,
    "start_time": "2022-08-31T12:51:14.497Z"
   },
   {
    "duration": 26,
    "start_time": "2022-08-31T12:51:14.502Z"
   },
   {
    "duration": 7,
    "start_time": "2022-08-31T12:51:14.530Z"
   },
   {
    "duration": 139,
    "start_time": "2022-08-31T12:51:14.539Z"
   },
   {
    "duration": 14,
    "start_time": "2022-08-31T12:58:57.581Z"
   },
   {
    "duration": 6,
    "start_time": "2022-08-31T12:59:16.365Z"
   },
   {
    "duration": 23,
    "start_time": "2022-08-31T12:59:17.490Z"
   },
   {
    "duration": 13,
    "start_time": "2022-08-31T13:01:09.218Z"
   },
   {
    "duration": 13,
    "start_time": "2022-08-31T13:01:52.755Z"
   },
   {
    "duration": 16,
    "start_time": "2022-08-31T13:02:39.312Z"
   },
   {
    "duration": 22,
    "start_time": "2022-08-31T13:03:22.201Z"
   },
   {
    "duration": 24,
    "start_time": "2022-08-31T13:03:59.065Z"
   },
   {
    "duration": 24,
    "start_time": "2022-08-31T13:04:59.078Z"
   },
   {
    "duration": 302,
    "start_time": "2022-08-31T13:05:36.313Z"
   },
   {
    "duration": 10,
    "start_time": "2022-08-31T13:05:41.022Z"
   },
   {
    "duration": 9,
    "start_time": "2022-08-31T13:08:09.946Z"
   },
   {
    "duration": 17,
    "start_time": "2022-08-31T13:08:23.328Z"
   },
   {
    "duration": 75,
    "start_time": "2022-08-31T13:13:13.792Z"
   },
   {
    "duration": 107,
    "start_time": "2022-08-31T13:13:19.322Z"
   },
   {
    "duration": 14,
    "start_time": "2022-08-31T13:14:45.724Z"
   },
   {
    "duration": 20,
    "start_time": "2022-08-31T13:15:25.516Z"
   },
   {
    "duration": 1407,
    "start_time": "2022-08-31T13:15:31.934Z"
   },
   {
    "duration": 324,
    "start_time": "2022-08-31T13:15:33.344Z"
   },
   {
    "duration": 74,
    "start_time": "2022-08-31T13:15:33.669Z"
   },
   {
    "duration": 337,
    "start_time": "2022-08-31T13:15:33.745Z"
   },
   {
    "duration": 4,
    "start_time": "2022-08-31T13:15:34.083Z"
   },
   {
    "duration": 19,
    "start_time": "2022-08-31T13:15:34.088Z"
   },
   {
    "duration": 9,
    "start_time": "2022-08-31T13:15:34.109Z"
   },
   {
    "duration": 7,
    "start_time": "2022-08-31T13:15:34.119Z"
   },
   {
    "duration": 6,
    "start_time": "2022-08-31T13:15:34.128Z"
   },
   {
    "duration": 33,
    "start_time": "2022-08-31T13:15:34.136Z"
   },
   {
    "duration": 8,
    "start_time": "2022-08-31T13:15:34.170Z"
   },
   {
    "duration": 15,
    "start_time": "2022-08-31T13:15:34.179Z"
   },
   {
    "duration": 30822,
    "start_time": "2022-08-31T13:15:34.196Z"
   },
   {
    "duration": 11,
    "start_time": "2022-08-31T13:16:05.020Z"
   },
   {
    "duration": 5,
    "start_time": "2022-08-31T13:16:05.033Z"
   },
   {
    "duration": 37,
    "start_time": "2022-08-31T13:16:05.040Z"
   },
   {
    "duration": 17,
    "start_time": "2022-08-31T13:16:05.078Z"
   },
   {
    "duration": 9,
    "start_time": "2022-08-31T13:16:05.097Z"
   },
   {
    "duration": 22,
    "start_time": "2022-08-31T13:16:05.107Z"
   },
   {
    "duration": 9,
    "start_time": "2022-08-31T13:16:05.131Z"
   },
   {
    "duration": 7,
    "start_time": "2022-08-31T13:16:05.142Z"
   },
   {
    "duration": 8,
    "start_time": "2022-08-31T13:16:05.151Z"
   },
   {
    "duration": 5,
    "start_time": "2022-08-31T13:16:05.161Z"
   },
   {
    "duration": 8,
    "start_time": "2022-08-31T13:16:05.167Z"
   },
   {
    "duration": 9,
    "start_time": "2022-08-31T13:16:05.177Z"
   },
   {
    "duration": 8,
    "start_time": "2022-08-31T13:16:05.188Z"
   },
   {
    "duration": 7,
    "start_time": "2022-08-31T13:16:05.198Z"
   },
   {
    "duration": 15,
    "start_time": "2022-08-31T13:16:05.208Z"
   },
   {
    "duration": 435,
    "start_time": "2022-08-31T13:16:05.224Z"
   },
   {
    "duration": 8,
    "start_time": "2022-08-31T13:16:05.660Z"
   },
   {
    "duration": 705,
    "start_time": "2022-08-31T13:16:05.670Z"
   },
   {
    "duration": 494,
    "start_time": "2022-08-31T13:16:06.378Z"
   },
   {
    "duration": 3,
    "start_time": "2022-08-31T13:16:06.873Z"
   },
   {
    "duration": 321,
    "start_time": "2022-08-31T13:16:06.878Z"
   },
   {
    "duration": 351,
    "start_time": "2022-08-31T13:16:07.201Z"
   },
   {
    "duration": 3,
    "start_time": "2022-08-31T13:16:07.554Z"
   },
   {
    "duration": 4,
    "start_time": "2022-08-31T13:16:07.567Z"
   },
   {
    "duration": 9,
    "start_time": "2022-08-31T13:16:07.572Z"
   },
   {
    "duration": 272,
    "start_time": "2022-08-31T13:16:07.583Z"
   },
   {
    "duration": 6,
    "start_time": "2022-08-31T13:16:07.857Z"
   },
   {
    "duration": 9,
    "start_time": "2022-08-31T13:16:07.868Z"
   },
   {
    "duration": 122,
    "start_time": "2022-08-31T13:16:07.879Z"
   },
   {
    "duration": 10,
    "start_time": "2022-08-31T13:23:38.318Z"
   },
   {
    "duration": 10,
    "start_time": "2022-08-31T13:25:45.973Z"
   },
   {
    "duration": 6,
    "start_time": "2022-08-31T13:25:52.009Z"
   },
   {
    "duration": 7,
    "start_time": "2022-08-31T13:26:06.550Z"
   },
   {
    "duration": 14,
    "start_time": "2022-08-31T13:26:23.576Z"
   },
   {
    "duration": 10,
    "start_time": "2022-08-31T13:27:21.969Z"
   },
   {
    "duration": 10,
    "start_time": "2022-08-31T13:27:30.057Z"
   },
   {
    "duration": 10,
    "start_time": "2022-08-31T13:27:47.284Z"
   },
   {
    "duration": 10,
    "start_time": "2022-08-31T13:27:55.931Z"
   },
   {
    "duration": 12,
    "start_time": "2022-08-31T13:28:05.410Z"
   },
   {
    "duration": 4,
    "start_time": "2022-08-31T13:28:24.462Z"
   },
   {
    "duration": 6,
    "start_time": "2022-08-31T13:29:16.826Z"
   },
   {
    "duration": 17,
    "start_time": "2022-08-31T13:29:17.527Z"
   },
   {
    "duration": 14,
    "start_time": "2022-08-31T13:29:42.184Z"
   },
   {
    "duration": 14,
    "start_time": "2022-08-31T13:29:42.969Z"
   },
   {
    "duration": 216,
    "start_time": "2022-08-31T13:30:01.571Z"
   },
   {
    "duration": 16,
    "start_time": "2022-08-31T13:30:02.797Z"
   },
   {
    "duration": 11,
    "start_time": "2022-08-31T13:30:16.620Z"
   },
   {
    "duration": 5,
    "start_time": "2022-08-31T13:30:18.832Z"
   },
   {
    "duration": 9,
    "start_time": "2022-08-31T13:30:39.365Z"
   },
   {
    "duration": 3,
    "start_time": "2022-08-31T13:30:45.385Z"
   },
   {
    "duration": 10,
    "start_time": "2022-08-31T13:31:02.440Z"
   },
   {
    "duration": 7,
    "start_time": "2022-08-31T13:31:19.102Z"
   },
   {
    "duration": 9,
    "start_time": "2022-08-31T13:31:32.662Z"
   },
   {
    "duration": 3,
    "start_time": "2022-08-31T13:31:38.192Z"
   },
   {
    "duration": 10,
    "start_time": "2022-08-31T13:32:14.734Z"
   },
   {
    "duration": 6,
    "start_time": "2022-08-31T13:32:24.223Z"
   },
   {
    "duration": 5,
    "start_time": "2022-08-31T13:33:59.851Z"
   },
   {
    "duration": 9,
    "start_time": "2022-08-31T13:34:12.525Z"
   },
   {
    "duration": 3,
    "start_time": "2022-08-31T13:34:17.556Z"
   },
   {
    "duration": 4,
    "start_time": "2022-08-31T13:34:32.611Z"
   },
   {
    "duration": 3,
    "start_time": "2022-08-31T13:34:47.843Z"
   },
   {
    "duration": 10,
    "start_time": "2022-08-31T13:35:36.448Z"
   },
   {
    "duration": 3,
    "start_time": "2022-08-31T13:42:34.277Z"
   },
   {
    "duration": 11,
    "start_time": "2022-08-31T13:42:40.604Z"
   },
   {
    "duration": 4,
    "start_time": "2022-08-31T13:44:00.803Z"
   },
   {
    "duration": 3378,
    "start_time": "2022-08-31T13:44:05.576Z"
   },
   {
    "duration": 255527,
    "start_time": "2022-08-31T13:47:59.380Z"
   },
   {
    "duration": 2039,
    "start_time": "2022-08-31T14:11:26.836Z"
   },
   {
    "duration": 80,
    "start_time": "2022-08-31T14:11:53.604Z"
   },
   {
    "duration": 544,
    "start_time": "2022-08-31T14:12:01.004Z"
   },
   {
    "duration": 11,
    "start_time": "2022-08-31T14:12:33.698Z"
   },
   {
    "duration": 4,
    "start_time": "2022-08-31T14:12:54.685Z"
   },
   {
    "duration": 32735,
    "start_time": "2022-08-31T14:13:04.427Z"
   },
   {
    "duration": 33365,
    "start_time": "2022-08-31T14:22:00.284Z"
   },
   {
    "duration": 8107,
    "start_time": "2022-08-31T14:26:38.309Z"
   },
   {
    "duration": 4,
    "start_time": "2022-08-31T14:30:12.319Z"
   },
   {
    "duration": 10,
    "start_time": "2022-08-31T14:30:22.346Z"
   },
   {
    "duration": 103,
    "start_time": "2022-08-31T14:34:45.978Z"
   },
   {
    "duration": 4,
    "start_time": "2022-08-31T14:34:49.608Z"
   },
   {
    "duration": 8,
    "start_time": "2022-08-31T14:34:50.748Z"
   },
   {
    "duration": 10,
    "start_time": "2022-08-31T14:35:53.276Z"
   },
   {
    "duration": 6,
    "start_time": "2022-08-31T14:36:23.341Z"
   },
   {
    "duration": 8,
    "start_time": "2022-08-31T14:36:30.057Z"
   },
   {
    "duration": 8,
    "start_time": "2022-08-31T14:36:48.022Z"
   },
   {
    "duration": 32226,
    "start_time": "2022-08-31T14:38:00.269Z"
   },
   {
    "duration": 4,
    "start_time": "2022-08-31T14:38:32.497Z"
   },
   {
    "duration": 465,
    "start_time": "2022-08-31T14:38:32.502Z"
   },
   {
    "duration": 8153,
    "start_time": "2022-08-31T14:39:08.890Z"
   },
   {
    "duration": 5,
    "start_time": "2022-08-31T14:39:17.045Z"
   },
   {
    "duration": 9,
    "start_time": "2022-08-31T14:39:21.133Z"
   },
   {
    "duration": 6,
    "start_time": "2022-08-31T14:39:27.562Z"
   },
   {
    "duration": 10,
    "start_time": "2022-08-31T14:39:28.114Z"
   },
   {
    "duration": 1515,
    "start_time": "2022-08-31T14:41:18.386Z"
   },
   {
    "duration": 342,
    "start_time": "2022-08-31T14:41:19.903Z"
   },
   {
    "duration": 76,
    "start_time": "2022-08-31T14:41:20.247Z"
   },
   {
    "duration": 334,
    "start_time": "2022-08-31T14:41:20.325Z"
   },
   {
    "duration": 7,
    "start_time": "2022-08-31T14:41:20.661Z"
   },
   {
    "duration": 19,
    "start_time": "2022-08-31T14:41:20.669Z"
   },
   {
    "duration": 9,
    "start_time": "2022-08-31T14:41:20.690Z"
   },
   {
    "duration": 13,
    "start_time": "2022-08-31T14:41:20.701Z"
   },
   {
    "duration": 9,
    "start_time": "2022-08-31T14:41:20.715Z"
   },
   {
    "duration": 14,
    "start_time": "2022-08-31T14:41:20.728Z"
   },
   {
    "duration": 25,
    "start_time": "2022-08-31T14:41:20.744Z"
   },
   {
    "duration": 13,
    "start_time": "2022-08-31T14:41:20.770Z"
   },
   {
    "duration": 35675,
    "start_time": "2022-08-31T14:41:20.785Z"
   },
   {
    "duration": 19,
    "start_time": "2022-08-31T14:41:56.462Z"
   },
   {
    "duration": 23,
    "start_time": "2022-08-31T14:41:56.483Z"
   },
   {
    "duration": 33,
    "start_time": "2022-08-31T14:41:56.508Z"
   },
   {
    "duration": 14,
    "start_time": "2022-08-31T14:41:56.543Z"
   },
   {
    "duration": 6,
    "start_time": "2022-08-31T14:41:56.559Z"
   },
   {
    "duration": 11,
    "start_time": "2022-08-31T14:41:56.567Z"
   },
   {
    "duration": 16,
    "start_time": "2022-08-31T14:41:56.582Z"
   },
   {
    "duration": 14,
    "start_time": "2022-08-31T14:41:56.600Z"
   },
   {
    "duration": 17,
    "start_time": "2022-08-31T14:41:56.616Z"
   },
   {
    "duration": 9,
    "start_time": "2022-08-31T14:41:56.635Z"
   },
   {
    "duration": 10,
    "start_time": "2022-08-31T14:41:56.647Z"
   },
   {
    "duration": 11,
    "start_time": "2022-08-31T14:41:56.659Z"
   },
   {
    "duration": 10,
    "start_time": "2022-08-31T14:41:56.672Z"
   },
   {
    "duration": 14,
    "start_time": "2022-08-31T14:41:56.685Z"
   },
   {
    "duration": 15,
    "start_time": "2022-08-31T14:41:56.703Z"
   },
   {
    "duration": 537,
    "start_time": "2022-08-31T14:41:56.720Z"
   },
   {
    "duration": 3,
    "start_time": "2022-08-31T14:41:57.265Z"
   },
   {
    "duration": 779,
    "start_time": "2022-08-31T14:41:57.270Z"
   },
   {
    "duration": 403,
    "start_time": "2022-08-31T14:41:58.050Z"
   },
   {
    "duration": 3,
    "start_time": "2022-08-31T14:41:58.455Z"
   },
   {
    "duration": 307,
    "start_time": "2022-08-31T14:41:58.460Z"
   },
   {
    "duration": 343,
    "start_time": "2022-08-31T14:41:58.769Z"
   },
   {
    "duration": 5,
    "start_time": "2022-08-31T14:41:59.115Z"
   },
   {
    "duration": 9,
    "start_time": "2022-08-31T14:41:59.123Z"
   },
   {
    "duration": 6,
    "start_time": "2022-08-31T14:41:59.134Z"
   },
   {
    "duration": 296,
    "start_time": "2022-08-31T14:41:59.142Z"
   },
   {
    "duration": 3,
    "start_time": "2022-08-31T14:41:59.440Z"
   },
   {
    "duration": 8,
    "start_time": "2022-08-31T14:41:59.445Z"
   },
   {
    "duration": 8,
    "start_time": "2022-08-31T14:41:59.467Z"
   },
   {
    "duration": 7,
    "start_time": "2022-08-31T14:41:59.477Z"
   },
   {
    "duration": 26,
    "start_time": "2022-08-31T14:41:59.486Z"
   },
   {
    "duration": 12,
    "start_time": "2022-08-31T14:41:59.515Z"
   },
   {
    "duration": 8,
    "start_time": "2022-08-31T14:41:59.530Z"
   },
   {
    "duration": 17,
    "start_time": "2022-08-31T14:41:59.540Z"
   },
   {
    "duration": 17,
    "start_time": "2022-08-31T14:41:59.560Z"
   },
   {
    "duration": 9,
    "start_time": "2022-08-31T14:41:59.579Z"
   },
   {
    "duration": 9,
    "start_time": "2022-08-31T14:41:59.590Z"
   },
   {
    "duration": 3,
    "start_time": "2022-08-31T14:41:59.602Z"
   },
   {
    "duration": 8,
    "start_time": "2022-08-31T14:41:59.607Z"
   },
   {
    "duration": 9,
    "start_time": "2022-08-31T14:41:59.617Z"
   },
   {
    "duration": 3413,
    "start_time": "2022-08-31T14:41:59.628Z"
   },
   {
    "duration": 264763,
    "start_time": "2022-08-31T14:42:03.043Z"
   },
   {
    "duration": 2261,
    "start_time": "2022-08-31T14:46:27.808Z"
   },
   {
    "duration": 32157,
    "start_time": "2022-08-31T14:46:30.071Z"
   },
   {
    "duration": 8360,
    "start_time": "2022-08-31T14:47:02.230Z"
   },
   {
    "duration": 3,
    "start_time": "2022-08-31T14:47:10.592Z"
   },
   {
    "duration": 10,
    "start_time": "2022-08-31T14:47:10.597Z"
   },
   {
    "duration": 7,
    "start_time": "2022-08-31T14:47:10.608Z"
   },
   {
    "duration": 12,
    "start_time": "2022-08-31T14:47:10.618Z"
   },
   {
    "duration": 49,
    "start_time": "2022-09-01T08:52:26.172Z"
   },
   {
    "duration": 7,
    "start_time": "2022-09-01T08:54:58.596Z"
   },
   {
    "duration": 6,
    "start_time": "2022-09-01T08:55:23.241Z"
   },
   {
    "duration": 1631,
    "start_time": "2022-09-01T08:55:30.832Z"
   },
   {
    "duration": 903,
    "start_time": "2022-09-01T08:55:32.465Z"
   },
   {
    "duration": 484,
    "start_time": "2022-09-01T08:55:33.369Z"
   },
   {
    "duration": 1965,
    "start_time": "2022-09-01T08:55:33.856Z"
   },
   {
    "duration": 3,
    "start_time": "2022-09-01T08:55:35.823Z"
   },
   {
    "duration": 20,
    "start_time": "2022-09-01T08:55:35.828Z"
   },
   {
    "duration": 20,
    "start_time": "2022-09-01T08:55:35.850Z"
   },
   {
    "duration": 24,
    "start_time": "2022-09-01T08:55:35.871Z"
   },
   {
    "duration": 16,
    "start_time": "2022-09-01T08:55:35.898Z"
   },
   {
    "duration": 12,
    "start_time": "2022-09-01T08:55:35.917Z"
   },
   {
    "duration": 7,
    "start_time": "2022-09-01T08:55:35.931Z"
   },
   {
    "duration": 14,
    "start_time": "2022-09-01T08:55:35.940Z"
   },
   {
    "duration": 34852,
    "start_time": "2022-09-01T08:55:35.955Z"
   },
   {
    "duration": 8,
    "start_time": "2022-09-01T08:56:10.808Z"
   },
   {
    "duration": 11,
    "start_time": "2022-09-01T08:56:10.818Z"
   },
   {
    "duration": 10,
    "start_time": "2022-09-01T08:56:10.830Z"
   },
   {
    "duration": 7,
    "start_time": "2022-09-01T08:56:10.841Z"
   },
   {
    "duration": 8,
    "start_time": "2022-09-01T08:56:10.849Z"
   },
   {
    "duration": 7,
    "start_time": "2022-09-01T08:56:10.859Z"
   },
   {
    "duration": 9,
    "start_time": "2022-09-01T08:56:10.867Z"
   },
   {
    "duration": 12,
    "start_time": "2022-09-01T08:56:10.886Z"
   },
   {
    "duration": 10,
    "start_time": "2022-09-01T08:56:10.900Z"
   },
   {
    "duration": 4,
    "start_time": "2022-09-01T08:56:10.912Z"
   },
   {
    "duration": 12,
    "start_time": "2022-09-01T08:56:10.917Z"
   },
   {
    "duration": 10,
    "start_time": "2022-09-01T08:56:10.931Z"
   },
   {
    "duration": 10,
    "start_time": "2022-09-01T08:56:10.943Z"
   },
   {
    "duration": 5,
    "start_time": "2022-09-01T08:56:10.955Z"
   },
   {
    "duration": 5,
    "start_time": "2022-09-01T08:56:10.964Z"
   },
   {
    "duration": 526,
    "start_time": "2022-09-01T08:56:10.970Z"
   },
   {
    "duration": 2,
    "start_time": "2022-09-01T08:56:11.499Z"
   },
   {
    "duration": 772,
    "start_time": "2022-09-01T08:56:11.503Z"
   },
   {
    "duration": 399,
    "start_time": "2022-09-01T08:56:12.277Z"
   },
   {
    "duration": 14,
    "start_time": "2022-09-01T08:56:12.678Z"
   },
   {
    "duration": 349,
    "start_time": "2022-09-01T08:56:12.694Z"
   },
   {
    "duration": 376,
    "start_time": "2022-09-01T08:56:13.045Z"
   },
   {
    "duration": 4,
    "start_time": "2022-09-01T08:56:13.423Z"
   },
   {
    "duration": 10,
    "start_time": "2022-09-01T08:56:13.429Z"
   },
   {
    "duration": 9,
    "start_time": "2022-09-01T08:56:13.442Z"
   },
   {
    "duration": 13,
    "start_time": "2022-09-01T08:56:13.452Z"
   },
   {
    "duration": 301,
    "start_time": "2022-09-01T08:56:13.466Z"
   },
   {
    "duration": 122,
    "start_time": "2022-09-01T08:56:13.769Z"
   },
   {
    "duration": 0,
    "start_time": "2022-09-01T08:56:13.894Z"
   },
   {
    "duration": 0,
    "start_time": "2022-09-01T08:56:13.895Z"
   },
   {
    "duration": 0,
    "start_time": "2022-09-01T08:56:13.897Z"
   },
   {
    "duration": 0,
    "start_time": "2022-09-01T08:56:13.898Z"
   },
   {
    "duration": 0,
    "start_time": "2022-09-01T08:56:13.900Z"
   },
   {
    "duration": 0,
    "start_time": "2022-09-01T08:56:13.901Z"
   },
   {
    "duration": 0,
    "start_time": "2022-09-01T08:56:13.902Z"
   },
   {
    "duration": 0,
    "start_time": "2022-09-01T08:56:13.904Z"
   },
   {
    "duration": 0,
    "start_time": "2022-09-01T08:56:13.906Z"
   },
   {
    "duration": 0,
    "start_time": "2022-09-01T08:56:13.907Z"
   },
   {
    "duration": 0,
    "start_time": "2022-09-01T08:56:13.908Z"
   },
   {
    "duration": 0,
    "start_time": "2022-09-01T08:56:13.910Z"
   },
   {
    "duration": 0,
    "start_time": "2022-09-01T08:56:13.911Z"
   },
   {
    "duration": 0,
    "start_time": "2022-09-01T08:56:13.912Z"
   },
   {
    "duration": 0,
    "start_time": "2022-09-01T08:56:13.913Z"
   },
   {
    "duration": 0,
    "start_time": "2022-09-01T08:56:13.914Z"
   },
   {
    "duration": 0,
    "start_time": "2022-09-01T08:56:13.916Z"
   },
   {
    "duration": 0,
    "start_time": "2022-09-01T08:56:13.917Z"
   },
   {
    "duration": 0,
    "start_time": "2022-09-01T08:56:13.919Z"
   },
   {
    "duration": 0,
    "start_time": "2022-09-01T08:56:13.920Z"
   },
   {
    "duration": 0,
    "start_time": "2022-09-01T08:56:13.921Z"
   },
   {
    "duration": 0,
    "start_time": "2022-09-01T08:56:13.922Z"
   },
   {
    "duration": 0,
    "start_time": "2022-09-01T08:56:13.924Z"
   },
   {
    "duration": 136,
    "start_time": "2022-09-01T09:08:58.225Z"
   },
   {
    "duration": 3,
    "start_time": "2022-09-01T09:10:39.640Z"
   },
   {
    "duration": 123,
    "start_time": "2022-09-01T09:11:28.445Z"
   },
   {
    "duration": 5,
    "start_time": "2022-09-01T09:18:25.100Z"
   },
   {
    "duration": 7,
    "start_time": "2022-09-01T09:18:44.441Z"
   },
   {
    "duration": 5,
    "start_time": "2022-09-01T09:18:56.856Z"
   },
   {
    "duration": 9,
    "start_time": "2022-09-01T09:19:02.644Z"
   },
   {
    "duration": 12,
    "start_time": "2022-09-01T09:19:20.624Z"
   },
   {
    "duration": 191,
    "start_time": "2022-09-01T09:19:32.612Z"
   },
   {
    "duration": 6,
    "start_time": "2022-09-01T09:23:08.798Z"
   },
   {
    "duration": 14,
    "start_time": "2022-09-01T09:23:42.860Z"
   },
   {
    "duration": 1260,
    "start_time": "2022-09-01T09:23:49.420Z"
   },
   {
    "duration": 1046,
    "start_time": "2022-09-01T09:24:17.663Z"
   },
   {
    "duration": 5,
    "start_time": "2022-09-01T09:27:00.578Z"
   },
   {
    "duration": 6,
    "start_time": "2022-09-01T09:27:17.173Z"
   },
   {
    "duration": 6,
    "start_time": "2022-09-01T09:27:41.161Z"
   },
   {
    "duration": 11,
    "start_time": "2022-09-01T09:27:47.226Z"
   },
   {
    "duration": 607,
    "start_time": "2022-09-01T09:28:01.919Z"
   },
   {
    "duration": 1356,
    "start_time": "2022-09-01T09:28:23.236Z"
   },
   {
    "duration": 10,
    "start_time": "2022-09-01T09:29:06.257Z"
   },
   {
    "duration": 967,
    "start_time": "2022-09-01T09:29:23.861Z"
   },
   {
    "duration": 8,
    "start_time": "2022-09-01T09:29:31.275Z"
   },
   {
    "duration": 156,
    "start_time": "2022-09-01T09:30:00.424Z"
   },
   {
    "duration": 6,
    "start_time": "2022-09-01T09:30:27.065Z"
   },
   {
    "duration": 9,
    "start_time": "2022-09-01T09:30:36.868Z"
   },
   {
    "duration": 8,
    "start_time": "2022-09-01T09:30:58.068Z"
   },
   {
    "duration": 20,
    "start_time": "2022-09-01T09:34:25.781Z"
   },
   {
    "duration": 13,
    "start_time": "2022-09-01T09:38:01.036Z"
   },
   {
    "duration": 13,
    "start_time": "2022-09-01T09:38:09.070Z"
   },
   {
    "duration": 34,
    "start_time": "2022-09-01T09:38:16.638Z"
   },
   {
    "duration": 143,
    "start_time": "2022-09-01T09:38:35.845Z"
   },
   {
    "duration": 1241,
    "start_time": "2022-09-01T09:40:49.031Z"
   },
   {
    "duration": 5,
    "start_time": "2022-09-01T09:44:00.473Z"
   },
   {
    "duration": 114,
    "start_time": "2022-09-01T09:45:03.800Z"
   },
   {
    "duration": 9,
    "start_time": "2022-09-01T09:45:25.413Z"
   },
   {
    "duration": 6,
    "start_time": "2022-09-01T09:46:45.868Z"
   },
   {
    "duration": 142,
    "start_time": "2022-09-01T09:46:50.862Z"
   },
   {
    "duration": 8,
    "start_time": "2022-09-01T09:46:57.272Z"
   },
   {
    "duration": 15,
    "start_time": "2022-09-01T09:47:15.183Z"
   },
   {
    "duration": 12,
    "start_time": "2022-09-01T09:47:21.155Z"
   },
   {
    "duration": 121,
    "start_time": "2022-09-01T09:48:09.462Z"
   },
   {
    "duration": 78,
    "start_time": "2022-09-01T09:50:03.992Z"
   },
   {
    "duration": 1441,
    "start_time": "2022-09-01T09:51:37.423Z"
   },
   {
    "duration": 507,
    "start_time": "2022-09-01T09:51:38.867Z"
   },
   {
    "duration": 78,
    "start_time": "2022-09-01T09:51:39.376Z"
   },
   {
    "duration": 327,
    "start_time": "2022-09-01T09:51:39.456Z"
   },
   {
    "duration": 7,
    "start_time": "2022-09-01T09:51:39.787Z"
   },
   {
    "duration": 25,
    "start_time": "2022-09-01T09:51:39.797Z"
   },
   {
    "duration": 10,
    "start_time": "2022-09-01T09:51:39.823Z"
   },
   {
    "duration": 7,
    "start_time": "2022-09-01T09:51:39.834Z"
   },
   {
    "duration": 5,
    "start_time": "2022-09-01T09:51:39.843Z"
   },
   {
    "duration": 11,
    "start_time": "2022-09-01T09:51:39.850Z"
   },
   {
    "duration": 35,
    "start_time": "2022-09-01T09:51:39.862Z"
   },
   {
    "duration": 13,
    "start_time": "2022-09-01T09:51:39.899Z"
   },
   {
    "duration": 38744,
    "start_time": "2022-09-01T09:51:39.913Z"
   },
   {
    "duration": 9,
    "start_time": "2022-09-01T09:52:18.660Z"
   },
   {
    "duration": 10,
    "start_time": "2022-09-01T09:52:18.670Z"
   },
   {
    "duration": 21,
    "start_time": "2022-09-01T09:52:18.684Z"
   },
   {
    "duration": 13,
    "start_time": "2022-09-01T09:52:18.707Z"
   },
   {
    "duration": 10,
    "start_time": "2022-09-01T09:52:18.722Z"
   },
   {
    "duration": 6,
    "start_time": "2022-09-01T09:52:18.734Z"
   },
   {
    "duration": 14,
    "start_time": "2022-09-01T09:52:18.742Z"
   },
   {
    "duration": 7,
    "start_time": "2022-09-01T09:52:18.758Z"
   },
   {
    "duration": 6,
    "start_time": "2022-09-01T09:52:18.767Z"
   },
   {
    "duration": 3,
    "start_time": "2022-09-01T09:52:18.775Z"
   },
   {
    "duration": 27,
    "start_time": "2022-09-01T09:52:18.780Z"
   },
   {
    "duration": 16,
    "start_time": "2022-09-01T09:52:18.809Z"
   },
   {
    "duration": 5,
    "start_time": "2022-09-01T09:52:18.827Z"
   },
   {
    "duration": 8,
    "start_time": "2022-09-01T09:52:18.834Z"
   },
   {
    "duration": 7,
    "start_time": "2022-09-01T09:52:18.844Z"
   },
   {
    "duration": 475,
    "start_time": "2022-09-01T09:52:18.853Z"
   },
   {
    "duration": 2,
    "start_time": "2022-09-01T09:52:19.330Z"
   },
   {
    "duration": 772,
    "start_time": "2022-09-01T09:52:19.334Z"
   },
   {
    "duration": 387,
    "start_time": "2022-09-01T09:52:20.107Z"
   },
   {
    "duration": 4,
    "start_time": "2022-09-01T09:52:20.497Z"
   },
   {
    "duration": 306,
    "start_time": "2022-09-01T09:52:20.503Z"
   },
   {
    "duration": 330,
    "start_time": "2022-09-01T09:52:20.811Z"
   },
   {
    "duration": 5,
    "start_time": "2022-09-01T09:52:21.143Z"
   },
   {
    "duration": 28,
    "start_time": "2022-09-01T09:52:21.149Z"
   },
   {
    "duration": 23,
    "start_time": "2022-09-01T09:52:21.179Z"
   },
   {
    "duration": 19,
    "start_time": "2022-09-01T09:52:21.205Z"
   },
   {
    "duration": 9,
    "start_time": "2022-09-01T09:52:21.226Z"
   },
   {
    "duration": 10,
    "start_time": "2022-09-01T09:52:21.239Z"
   },
   {
    "duration": 277,
    "start_time": "2022-09-01T09:52:21.251Z"
   },
   {
    "duration": 5,
    "start_time": "2022-09-01T09:52:21.530Z"
   },
   {
    "duration": 67,
    "start_time": "2022-09-01T09:52:21.536Z"
   },
   {
    "duration": 193,
    "start_time": "2022-09-01T09:52:21.606Z"
   },
   {
    "duration": 6,
    "start_time": "2022-09-01T09:52:21.801Z"
   },
   {
    "duration": 129,
    "start_time": "2022-09-01T09:52:21.809Z"
   },
   {
    "duration": 8,
    "start_time": "2022-09-01T09:52:21.940Z"
   },
   {
    "duration": 21,
    "start_time": "2022-09-01T09:52:21.950Z"
   },
   {
    "duration": 137,
    "start_time": "2022-09-01T09:52:21.973Z"
   },
   {
    "duration": 4,
    "start_time": "2022-09-01T09:52:22.112Z"
   },
   {
    "duration": 8,
    "start_time": "2022-09-01T09:52:22.118Z"
   },
   {
    "duration": 17,
    "start_time": "2022-09-01T09:52:22.127Z"
   },
   {
    "duration": 14,
    "start_time": "2022-09-01T09:52:22.146Z"
   },
   {
    "duration": 19,
    "start_time": "2022-09-01T09:52:22.161Z"
   },
   {
    "duration": 25,
    "start_time": "2022-09-01T09:52:22.182Z"
   },
   {
    "duration": 23,
    "start_time": "2022-09-01T09:52:22.209Z"
   },
   {
    "duration": 13,
    "start_time": "2022-09-01T09:52:22.234Z"
   },
   {
    "duration": 14,
    "start_time": "2022-09-01T09:52:22.248Z"
   },
   {
    "duration": 13,
    "start_time": "2022-09-01T09:52:22.263Z"
   },
   {
    "duration": 24,
    "start_time": "2022-09-01T09:52:22.278Z"
   },
   {
    "duration": 32,
    "start_time": "2022-09-01T09:52:22.304Z"
   },
   {
    "duration": 7,
    "start_time": "2022-09-01T09:52:22.338Z"
   },
   {
    "duration": 6,
    "start_time": "2022-09-01T09:52:22.346Z"
   },
   {
    "duration": 2408,
    "start_time": "2022-09-01T09:52:22.354Z"
   },
   {
    "duration": 172186,
    "start_time": "2022-09-01T09:52:24.763Z"
   },
   {
    "duration": 2962,
    "start_time": "2022-09-01T09:55:16.950Z"
   },
   {
    "duration": 21868,
    "start_time": "2022-09-01T09:55:19.916Z"
   },
   {
    "duration": 5581,
    "start_time": "2022-09-01T09:55:41.798Z"
   },
   {
    "duration": 0,
    "start_time": "2022-09-01T09:55:47.380Z"
   },
   {
    "duration": 0,
    "start_time": "2022-09-01T09:55:47.381Z"
   },
   {
    "duration": 0,
    "start_time": "2022-09-01T09:55:47.382Z"
   },
   {
    "duration": 0,
    "start_time": "2022-09-01T09:55:47.388Z"
   },
   {
    "duration": 10,
    "start_time": "2022-09-01T10:17:16.500Z"
   },
   {
    "duration": 12,
    "start_time": "2022-09-01T10:17:23.312Z"
   },
   {
    "duration": 20,
    "start_time": "2022-09-01T10:17:43.121Z"
   },
   {
    "duration": 10,
    "start_time": "2022-09-01T10:37:38.577Z"
   },
   {
    "duration": 56,
    "start_time": "2022-09-01T10:41:21.699Z"
   },
   {
    "duration": 375,
    "start_time": "2022-09-01T11:28:07.807Z"
   },
   {
    "duration": 196,
    "start_time": "2022-09-01T11:28:28.397Z"
   },
   {
    "duration": 221,
    "start_time": "2022-09-01T11:29:56.398Z"
   },
   {
    "duration": 1483,
    "start_time": "2022-09-01T11:36:41.813Z"
   },
   {
    "duration": 302,
    "start_time": "2022-09-01T11:36:43.298Z"
   },
   {
    "duration": 74,
    "start_time": "2022-09-01T11:36:43.602Z"
   },
   {
    "duration": 15,
    "start_time": "2022-09-01T11:36:43.678Z"
   },
   {
    "duration": 333,
    "start_time": "2022-09-01T11:36:43.695Z"
   },
   {
    "duration": 24,
    "start_time": "2022-09-01T11:36:44.031Z"
   },
   {
    "duration": 4,
    "start_time": "2022-09-01T11:36:44.057Z"
   },
   {
    "duration": 32,
    "start_time": "2022-09-01T11:36:44.063Z"
   },
   {
    "duration": 10,
    "start_time": "2022-09-01T11:36:44.097Z"
   },
   {
    "duration": 10,
    "start_time": "2022-09-01T11:36:44.108Z"
   },
   {
    "duration": 5,
    "start_time": "2022-09-01T11:36:44.120Z"
   },
   {
    "duration": 12,
    "start_time": "2022-09-01T11:36:44.127Z"
   },
   {
    "duration": 8,
    "start_time": "2022-09-01T11:36:44.141Z"
   },
   {
    "duration": 15,
    "start_time": "2022-09-01T11:36:44.184Z"
   },
   {
    "duration": 34852,
    "start_time": "2022-09-01T11:36:44.201Z"
   },
   {
    "duration": 10,
    "start_time": "2022-09-01T11:37:19.055Z"
   },
   {
    "duration": 6,
    "start_time": "2022-09-01T11:37:19.066Z"
   },
   {
    "duration": 15,
    "start_time": "2022-09-01T11:37:19.074Z"
   },
   {
    "duration": 8,
    "start_time": "2022-09-01T11:37:19.091Z"
   },
   {
    "duration": 9,
    "start_time": "2022-09-01T11:37:19.100Z"
   },
   {
    "duration": 4,
    "start_time": "2022-09-01T11:37:19.111Z"
   },
   {
    "duration": 12,
    "start_time": "2022-09-01T11:37:19.117Z"
   },
   {
    "duration": 6,
    "start_time": "2022-09-01T11:37:19.131Z"
   },
   {
    "duration": 22,
    "start_time": "2022-09-01T11:37:19.139Z"
   },
   {
    "duration": 3,
    "start_time": "2022-09-01T11:37:19.163Z"
   },
   {
    "duration": 24,
    "start_time": "2022-09-01T11:37:19.168Z"
   },
   {
    "duration": 10,
    "start_time": "2022-09-01T11:37:19.194Z"
   },
   {
    "duration": 7,
    "start_time": "2022-09-01T11:37:19.206Z"
   },
   {
    "duration": 4,
    "start_time": "2022-09-01T11:37:19.215Z"
   },
   {
    "duration": 10,
    "start_time": "2022-09-01T11:37:19.221Z"
   },
   {
    "duration": 479,
    "start_time": "2022-09-01T11:37:19.233Z"
   },
   {
    "duration": 2,
    "start_time": "2022-09-01T11:37:19.714Z"
   },
   {
    "duration": 744,
    "start_time": "2022-09-01T11:37:19.718Z"
   },
   {
    "duration": 392,
    "start_time": "2022-09-01T11:37:20.464Z"
   },
   {
    "duration": 3,
    "start_time": "2022-09-01T11:37:20.858Z"
   },
   {
    "duration": 298,
    "start_time": "2022-09-01T11:37:20.863Z"
   },
   {
    "duration": 332,
    "start_time": "2022-09-01T11:37:21.163Z"
   },
   {
    "duration": 5,
    "start_time": "2022-09-01T11:37:21.497Z"
   },
   {
    "duration": 12,
    "start_time": "2022-09-01T11:37:21.504Z"
   },
   {
    "duration": 4,
    "start_time": "2022-09-01T11:37:21.518Z"
   },
   {
    "duration": 24,
    "start_time": "2022-09-01T11:37:21.527Z"
   },
   {
    "duration": 11,
    "start_time": "2022-09-01T11:37:21.553Z"
   },
   {
    "duration": 20,
    "start_time": "2022-09-01T11:37:21.566Z"
   },
   {
    "duration": 273,
    "start_time": "2022-09-01T11:37:21.588Z"
   },
   {
    "duration": 4,
    "start_time": "2022-09-01T11:37:21.863Z"
   },
   {
    "duration": 46,
    "start_time": "2022-09-01T11:37:21.868Z"
   },
   {
    "duration": 153,
    "start_time": "2022-09-01T11:37:21.916Z"
   },
   {
    "duration": 14,
    "start_time": "2022-09-01T11:37:22.071Z"
   },
   {
    "duration": 168,
    "start_time": "2022-09-01T11:37:22.087Z"
   },
   {
    "duration": 9,
    "start_time": "2022-09-01T11:37:22.256Z"
   },
   {
    "duration": 33,
    "start_time": "2022-09-01T11:37:22.267Z"
   },
   {
    "duration": 137,
    "start_time": "2022-09-01T11:37:22.302Z"
   },
   {
    "duration": 5,
    "start_time": "2022-09-01T11:37:22.441Z"
   },
   {
    "duration": 14,
    "start_time": "2022-09-01T11:37:22.449Z"
   },
   {
    "duration": 9,
    "start_time": "2022-09-01T11:37:22.466Z"
   },
   {
    "duration": 6,
    "start_time": "2022-09-01T11:37:22.486Z"
   },
   {
    "duration": 18,
    "start_time": "2022-09-01T11:37:22.494Z"
   },
   {
    "duration": 15,
    "start_time": "2022-09-01T11:37:22.514Z"
   },
   {
    "duration": 13,
    "start_time": "2022-09-01T11:37:22.531Z"
   },
   {
    "duration": 12,
    "start_time": "2022-09-01T11:37:22.545Z"
   },
   {
    "duration": 14,
    "start_time": "2022-09-01T11:37:22.559Z"
   },
   {
    "duration": 11,
    "start_time": "2022-09-01T11:37:22.574Z"
   },
   {
    "duration": 18,
    "start_time": "2022-09-01T11:37:22.587Z"
   },
   {
    "duration": 5,
    "start_time": "2022-09-01T11:37:22.607Z"
   },
   {
    "duration": 7,
    "start_time": "2022-09-01T11:37:22.614Z"
   },
   {
    "duration": 17,
    "start_time": "2022-09-01T11:37:22.623Z"
   },
   {
    "duration": 2330,
    "start_time": "2022-09-01T11:37:22.642Z"
   },
   {
    "duration": 165841,
    "start_time": "2022-09-01T11:37:24.974Z"
   },
   {
    "duration": 2583,
    "start_time": "2022-09-01T11:40:10.816Z"
   },
   {
    "duration": 21438,
    "start_time": "2022-09-01T11:40:13.400Z"
   },
   {
    "duration": 5432,
    "start_time": "2022-09-01T11:40:34.840Z"
   },
   {
    "duration": 0,
    "start_time": "2022-09-01T11:40:40.275Z"
   },
   {
    "duration": 0,
    "start_time": "2022-09-01T11:40:40.276Z"
   },
   {
    "duration": 0,
    "start_time": "2022-09-01T11:40:40.278Z"
   },
   {
    "duration": 0,
    "start_time": "2022-09-01T11:40:40.285Z"
   },
   {
    "duration": 120,
    "start_time": "2022-09-01T11:48:22.747Z"
   },
   {
    "duration": 101,
    "start_time": "2023-08-21T11:26:12.230Z"
   },
   {
    "duration": 2,
    "start_time": "2023-08-21T11:26:38.909Z"
   },
   {
    "duration": 116,
    "start_time": "2023-08-21T11:26:43.309Z"
   },
   {
    "duration": 96,
    "start_time": "2023-08-21T11:27:05.412Z"
   },
   {
    "duration": 90,
    "start_time": "2023-08-21T11:28:17.755Z"
   },
   {
    "duration": 4,
    "start_time": "2023-08-21T11:28:44.201Z"
   },
   {
    "duration": 65,
    "start_time": "2023-08-21T11:31:49.065Z"
   },
   {
    "duration": 1571,
    "start_time": "2023-08-21T11:31:57.405Z"
   },
   {
    "duration": 222,
    "start_time": "2023-08-21T11:32:11.929Z"
   },
   {
    "duration": 4,
    "start_time": "2023-08-21T11:32:20.807Z"
   },
   {
    "duration": 1012,
    "start_time": "2023-08-21T11:32:21.374Z"
   },
   {
    "duration": 481,
    "start_time": "2023-08-21T11:32:23.155Z"
   },
   {
    "duration": 19,
    "start_time": "2023-08-21T11:32:23.972Z"
   },
   {
    "duration": 2137,
    "start_time": "2023-08-21T11:32:24.897Z"
   },
   {
    "duration": 24,
    "start_time": "2023-08-21T11:32:27.037Z"
   },
   {
    "duration": 3,
    "start_time": "2023-08-21T11:32:28.022Z"
   },
   {
    "duration": 31,
    "start_time": "2023-08-21T11:32:28.777Z"
   },
   {
    "duration": 14,
    "start_time": "2023-08-21T11:32:29.178Z"
   },
   {
    "duration": 6,
    "start_time": "2023-08-21T11:32:29.527Z"
   },
   {
    "duration": 4,
    "start_time": "2023-08-21T11:32:30.652Z"
   },
   {
    "duration": 9,
    "start_time": "2023-08-21T11:32:31.720Z"
   },
   {
    "duration": 9,
    "start_time": "2023-08-21T11:32:32.057Z"
   },
   {
    "duration": 12,
    "start_time": "2023-08-21T11:32:32.409Z"
   },
   {
    "duration": 23605,
    "start_time": "2023-08-21T11:32:33.033Z"
   },
   {
    "duration": 10,
    "start_time": "2023-08-21T11:32:56.640Z"
   },
   {
    "duration": 5,
    "start_time": "2023-08-21T11:32:56.652Z"
   },
   {
    "duration": 22,
    "start_time": "2023-08-21T11:32:56.659Z"
   },
   {
    "duration": 5,
    "start_time": "2023-08-21T11:33:06.204Z"
   },
   {
    "duration": 5,
    "start_time": "2023-08-21T11:33:07.315Z"
   },
   {
    "duration": 5,
    "start_time": "2023-08-21T11:33:07.742Z"
   },
   {
    "duration": 5,
    "start_time": "2023-08-21T11:33:08.102Z"
   },
   {
    "duration": 5,
    "start_time": "2023-08-21T11:33:08.804Z"
   },
   {
    "duration": 5,
    "start_time": "2023-08-21T11:33:09.152Z"
   },
   {
    "duration": 6,
    "start_time": "2023-08-21T11:33:09.480Z"
   },
   {
    "duration": 3,
    "start_time": "2023-08-21T11:33:10.141Z"
   },
   {
    "duration": 498,
    "start_time": "2023-08-21T11:33:10.740Z"
   },
   {
    "duration": 3,
    "start_time": "2023-08-21T11:34:21.925Z"
   },
   {
    "duration": 1315,
    "start_time": "2023-08-21T11:37:12.071Z"
   },
   {
    "duration": 153,
    "start_time": "2023-08-21T11:41:39.100Z"
   },
   {
    "duration": 4,
    "start_time": "2023-08-21T11:42:00.172Z"
   },
   {
    "duration": 7,
    "start_time": "2023-08-21T11:42:02.404Z"
   },
   {
    "duration": 5,
    "start_time": "2023-08-21T11:42:14.308Z"
   },
   {
    "duration": 5,
    "start_time": "2023-08-21T11:42:15.032Z"
   },
   {
    "duration": 8,
    "start_time": "2023-08-21T11:42:15.631Z"
   },
   {
    "duration": 8,
    "start_time": "2023-08-21T11:42:16.563Z"
   },
   {
    "duration": 8,
    "start_time": "2023-08-21T11:42:17.407Z"
   },
   {
    "duration": 172,
    "start_time": "2023-08-21T11:42:18.334Z"
   },
   {
    "duration": 4,
    "start_time": "2023-08-21T11:43:13.070Z"
   },
   {
    "duration": 30,
    "start_time": "2023-08-21T11:43:16.036Z"
   },
   {
    "duration": 141,
    "start_time": "2023-08-21T11:43:40.618Z"
   },
   {
    "duration": 7,
    "start_time": "2023-08-21T11:45:14.077Z"
   },
   {
    "duration": 124,
    "start_time": "2023-08-21T11:45:14.824Z"
   },
   {
    "duration": 16,
    "start_time": "2023-08-21T11:45:15.681Z"
   },
   {
    "duration": 17,
    "start_time": "2023-08-21T11:45:21.474Z"
   },
   {
    "duration": 110,
    "start_time": "2023-08-21T11:45:43.344Z"
   },
   {
    "duration": 5,
    "start_time": "2023-08-21T11:47:05.682Z"
   },
   {
    "duration": 6,
    "start_time": "2023-08-21T11:47:06.912Z"
   },
   {
    "duration": 11,
    "start_time": "2023-08-21T11:49:11.810Z"
   },
   {
    "duration": 4,
    "start_time": "2023-08-21T11:49:18.106Z"
   },
   {
    "duration": 5,
    "start_time": "2023-08-21T11:49:18.536Z"
   },
   {
    "duration": 10,
    "start_time": "2023-08-21T11:49:18.906Z"
   },
   {
    "duration": 7,
    "start_time": "2023-08-21T11:49:19.304Z"
   },
   {
    "duration": 5,
    "start_time": "2023-08-21T11:49:19.686Z"
   },
   {
    "duration": 3,
    "start_time": "2023-08-21T11:49:20.061Z"
   },
   {
    "duration": 9,
    "start_time": "2023-08-21T11:49:20.377Z"
   },
   {
    "duration": 3,
    "start_time": "2023-08-21T11:49:20.705Z"
   },
   {
    "duration": 6,
    "start_time": "2023-08-21T11:49:21.029Z"
   },
   {
    "duration": 3,
    "start_time": "2023-08-21T11:49:21.360Z"
   },
   {
    "duration": 4,
    "start_time": "2023-08-21T11:49:21.709Z"
   },
   {
    "duration": 3,
    "start_time": "2023-08-21T11:49:22.041Z"
   },
   {
    "duration": 2550,
    "start_time": "2023-08-21T11:49:23.503Z"
   },
   {
    "duration": 96,
    "start_time": "2023-08-21T11:50:28.220Z"
   },
   {
    "duration": 196149,
    "start_time": "2023-08-21T11:51:49.708Z"
   },
   {
    "duration": 1943,
    "start_time": "2023-08-21T12:12:07.149Z"
   },
   {
    "duration": 2396,
    "start_time": "2023-08-21T12:12:11.617Z"
   },
   {
    "duration": 24888,
    "start_time": "2023-08-21T12:13:12.165Z"
   },
   {
    "duration": 6915,
    "start_time": "2023-08-21T12:13:49.801Z"
   },
   {
    "duration": 81,
    "start_time": "2023-08-21T12:16:31.969Z"
   },
   {
    "duration": 10,
    "start_time": "2023-08-21T12:16:44.113Z"
   },
   {
    "duration": 14,
    "start_time": "2023-08-21T12:16:57.105Z"
   },
   {
    "duration": 9,
    "start_time": "2023-08-21T12:22:11.238Z"
   },
   {
    "duration": 5,
    "start_time": "2023-08-21T12:23:04.305Z"
   },
   {
    "duration": 15,
    "start_time": "2023-08-21T12:23:05.283Z"
   },
   {
    "duration": 118,
    "start_time": "2023-08-21T12:23:05.653Z"
   },
   {
    "duration": 14,
    "start_time": "2023-08-21T12:23:05.991Z"
   },
   {
    "duration": 12,
    "start_time": "2023-08-21T12:23:06.642Z"
   },
   {
    "duration": 120,
    "start_time": "2023-08-21T12:23:07.206Z"
   },
   {
    "duration": 3,
    "start_time": "2023-08-21T12:23:08.442Z"
   },
   {
    "duration": 4,
    "start_time": "2023-08-21T12:23:08.858Z"
   },
   {
    "duration": 10,
    "start_time": "2023-08-21T12:23:09.865Z"
   },
   {
    "duration": 15,
    "start_time": "2023-08-21T12:23:10.158Z"
   },
   {
    "duration": 6,
    "start_time": "2023-08-21T12:23:10.454Z"
   },
   {
    "duration": 9,
    "start_time": "2023-08-21T12:23:10.733Z"
   },
   {
    "duration": 4,
    "start_time": "2023-08-21T12:23:11.417Z"
   },
   {
    "duration": 3,
    "start_time": "2023-08-21T12:23:11.801Z"
   },
   {
    "duration": 8,
    "start_time": "2023-08-21T12:23:12.262Z"
   },
   {
    "duration": 3,
    "start_time": "2023-08-21T12:23:13.005Z"
   },
   {
    "duration": 5,
    "start_time": "2023-08-21T12:23:13.326Z"
   },
   {
    "duration": 3,
    "start_time": "2023-08-21T12:23:13.602Z"
   },
   {
    "duration": 4,
    "start_time": "2023-08-21T12:23:13.856Z"
   },
   {
    "duration": 3,
    "start_time": "2023-08-21T12:23:14.120Z"
   },
   {
    "duration": 28,
    "start_time": "2023-08-21T12:23:14.649Z"
   },
   {
    "duration": 33,
    "start_time": "2023-08-21T12:23:15.234Z"
   },
   {
    "duration": 35,
    "start_time": "2023-08-21T12:23:15.753Z"
   },
   {
    "duration": 28,
    "start_time": "2023-08-21T12:23:16.805Z"
   },
   {
    "duration": 12,
    "start_time": "2023-08-21T12:23:18.435Z"
   },
   {
    "duration": 13,
    "start_time": "2023-08-21T12:23:19.456Z"
   },
   {
    "duration": 17,
    "start_time": "2023-08-21T12:23:20.061Z"
   },
   {
    "duration": 6,
    "start_time": "2023-08-21T12:23:26.900Z"
   },
   {
    "duration": 314,
    "start_time": "2023-08-21T12:23:28.932Z"
   },
   {
    "duration": 1582,
    "start_time": "2023-08-21T12:25:53.513Z"
   },
   {
    "duration": 361,
    "start_time": "2023-08-21T12:25:55.097Z"
   },
   {
    "duration": 92,
    "start_time": "2023-08-21T12:25:55.460Z"
   },
   {
    "duration": 13,
    "start_time": "2023-08-21T12:25:55.554Z"
   },
   {
    "duration": 430,
    "start_time": "2023-08-21T12:25:55.568Z"
   },
   {
    "duration": 24,
    "start_time": "2023-08-21T12:25:56.001Z"
   },
   {
    "duration": 3,
    "start_time": "2023-08-21T12:25:56.027Z"
   },
   {
    "duration": 25,
    "start_time": "2023-08-21T12:25:56.032Z"
   },
   {
    "duration": 26,
    "start_time": "2023-08-21T12:25:56.059Z"
   },
   {
    "duration": 16,
    "start_time": "2023-08-21T12:25:56.089Z"
   },
   {
    "duration": 6,
    "start_time": "2023-08-21T12:25:56.107Z"
   },
   {
    "duration": 23,
    "start_time": "2023-08-21T12:25:56.114Z"
   },
   {
    "duration": 7,
    "start_time": "2023-08-21T12:25:56.138Z"
   },
   {
    "duration": 10,
    "start_time": "2023-08-21T12:25:56.146Z"
   },
   {
    "duration": 28562,
    "start_time": "2023-08-21T12:25:56.158Z"
   },
   {
    "duration": 10,
    "start_time": "2023-08-21T12:26:24.722Z"
   },
   {
    "duration": 5,
    "start_time": "2023-08-21T12:26:24.733Z"
   },
   {
    "duration": 37,
    "start_time": "2023-08-21T12:26:24.740Z"
   },
   {
    "duration": 15,
    "start_time": "2023-08-21T12:26:24.778Z"
   },
   {
    "duration": 5,
    "start_time": "2023-08-21T12:26:24.795Z"
   },
   {
    "duration": 9,
    "start_time": "2023-08-21T12:26:24.802Z"
   },
   {
    "duration": 15,
    "start_time": "2023-08-21T12:26:24.813Z"
   },
   {
    "duration": 15,
    "start_time": "2023-08-21T12:26:24.830Z"
   },
   {
    "duration": 13,
    "start_time": "2023-08-21T12:26:24.846Z"
   },
   {
    "duration": 8,
    "start_time": "2023-08-21T12:26:24.861Z"
   },
   {
    "duration": 18,
    "start_time": "2023-08-21T12:26:24.870Z"
   },
   {
    "duration": 463,
    "start_time": "2023-08-21T12:26:24.891Z"
   },
   {
    "duration": 1392,
    "start_time": "2023-08-21T12:26:25.358Z"
   },
   {
    "duration": 6,
    "start_time": "2023-08-21T12:26:26.752Z"
   },
   {
    "duration": 9,
    "start_time": "2023-08-21T12:26:26.760Z"
   },
   {
    "duration": 10,
    "start_time": "2023-08-21T12:26:26.781Z"
   },
   {
    "duration": 16,
    "start_time": "2023-08-21T12:26:26.793Z"
   },
   {
    "duration": 14,
    "start_time": "2023-08-21T12:26:26.811Z"
   },
   {
    "duration": 9,
    "start_time": "2023-08-21T12:26:26.827Z"
   },
   {
    "duration": 199,
    "start_time": "2023-08-21T12:26:26.840Z"
   },
   {
    "duration": 4,
    "start_time": "2023-08-21T12:26:27.041Z"
   },
   {
    "duration": 64,
    "start_time": "2023-08-21T12:26:27.047Z"
   },
   {
    "duration": 156,
    "start_time": "2023-08-21T12:26:27.113Z"
   },
   {
    "duration": 19,
    "start_time": "2023-08-21T12:26:27.271Z"
   },
   {
    "duration": 12,
    "start_time": "2023-08-21T12:26:27.300Z"
   },
   {
    "duration": 118,
    "start_time": "2023-08-21T12:26:27.314Z"
   },
   {
    "duration": 8,
    "start_time": "2023-08-21T12:26:27.433Z"
   },
   {
    "duration": 18,
    "start_time": "2023-08-21T12:26:27.442Z"
   },
   {
    "duration": 115,
    "start_time": "2023-08-21T12:26:27.461Z"
   },
   {
    "duration": 5,
    "start_time": "2023-08-21T12:26:27.580Z"
   },
   {
    "duration": 8,
    "start_time": "2023-08-21T12:26:27.587Z"
   },
   {
    "duration": 13,
    "start_time": "2023-08-21T12:26:27.597Z"
   },
   {
    "duration": 18,
    "start_time": "2023-08-21T12:26:27.612Z"
   },
   {
    "duration": 10,
    "start_time": "2023-08-21T12:26:27.632Z"
   },
   {
    "duration": 12,
    "start_time": "2023-08-21T12:26:27.643Z"
   },
   {
    "duration": 3,
    "start_time": "2023-08-21T12:26:27.657Z"
   },
   {
    "duration": 14,
    "start_time": "2023-08-21T12:26:27.662Z"
   },
   {
    "duration": 16,
    "start_time": "2023-08-21T12:26:27.678Z"
   },
   {
    "duration": 10,
    "start_time": "2023-08-21T12:26:27.696Z"
   },
   {
    "duration": 8,
    "start_time": "2023-08-21T12:26:27.708Z"
   },
   {
    "duration": 3,
    "start_time": "2023-08-21T12:26:27.718Z"
   },
   {
    "duration": 6,
    "start_time": "2023-08-21T12:26:27.722Z"
   },
   {
    "duration": 11,
    "start_time": "2023-08-21T12:26:27.730Z"
   },
   {
    "duration": 153,
    "start_time": "2023-08-21T12:26:27.743Z"
   },
   {
    "duration": 0,
    "start_time": "2023-08-21T12:26:27.900Z"
   },
   {
    "duration": 0,
    "start_time": "2023-08-21T12:26:27.904Z"
   },
   {
    "duration": 0,
    "start_time": "2023-08-21T12:26:27.907Z"
   },
   {
    "duration": 0,
    "start_time": "2023-08-21T12:26:27.909Z"
   },
   {
    "duration": 0,
    "start_time": "2023-08-21T12:26:27.910Z"
   },
   {
    "duration": 0,
    "start_time": "2023-08-21T12:26:27.911Z"
   },
   {
    "duration": 0,
    "start_time": "2023-08-21T12:26:27.913Z"
   },
   {
    "duration": 0,
    "start_time": "2023-08-21T12:26:27.914Z"
   },
   {
    "duration": 1858,
    "start_time": "2023-08-21T12:29:49.999Z"
   },
   {
    "duration": 379,
    "start_time": "2023-08-21T12:29:51.859Z"
   },
   {
    "duration": 110,
    "start_time": "2023-08-21T12:29:52.239Z"
   },
   {
    "duration": 16,
    "start_time": "2023-08-21T12:29:52.351Z"
   },
   {
    "duration": 466,
    "start_time": "2023-08-21T12:29:52.371Z"
   },
   {
    "duration": 17,
    "start_time": "2023-08-21T12:29:52.839Z"
   },
   {
    "duration": 3,
    "start_time": "2023-08-21T12:29:52.858Z"
   },
   {
    "duration": 31,
    "start_time": "2023-08-21T12:29:52.863Z"
   },
   {
    "duration": 16,
    "start_time": "2023-08-21T12:29:52.897Z"
   },
   {
    "duration": 7,
    "start_time": "2023-08-21T12:29:52.916Z"
   },
   {
    "duration": 5,
    "start_time": "2023-08-21T12:29:52.925Z"
   },
   {
    "duration": 17,
    "start_time": "2023-08-21T12:29:52.932Z"
   },
   {
    "duration": 33,
    "start_time": "2023-08-21T12:29:52.951Z"
   },
   {
    "duration": 14,
    "start_time": "2023-08-21T12:29:52.988Z"
   },
   {
    "duration": 35536,
    "start_time": "2023-08-21T12:29:53.004Z"
   },
   {
    "duration": 9,
    "start_time": "2023-08-21T12:30:28.542Z"
   },
   {
    "duration": 5,
    "start_time": "2023-08-21T12:30:28.552Z"
   },
   {
    "duration": 28,
    "start_time": "2023-08-21T12:30:28.558Z"
   },
   {
    "duration": 13,
    "start_time": "2023-08-21T12:30:28.593Z"
   },
   {
    "duration": 6,
    "start_time": "2023-08-21T12:30:28.610Z"
   },
   {
    "duration": 10,
    "start_time": "2023-08-21T12:30:28.618Z"
   },
   {
    "duration": 6,
    "start_time": "2023-08-21T12:30:28.630Z"
   },
   {
    "duration": 7,
    "start_time": "2023-08-21T12:30:28.638Z"
   },
   {
    "duration": 5,
    "start_time": "2023-08-21T12:30:28.646Z"
   },
   {
    "duration": 33,
    "start_time": "2023-08-21T12:30:28.652Z"
   },
   {
    "duration": 7,
    "start_time": "2023-08-21T12:30:28.686Z"
   },
   {
    "duration": 528,
    "start_time": "2023-08-21T12:30:28.694Z"
   },
   {
    "duration": 1354,
    "start_time": "2023-08-21T12:30:29.224Z"
   },
   {
    "duration": 9,
    "start_time": "2023-08-21T12:30:30.580Z"
   },
   {
    "duration": 27,
    "start_time": "2023-08-21T12:30:30.592Z"
   },
   {
    "duration": 31,
    "start_time": "2023-08-21T12:30:30.620Z"
   },
   {
    "duration": 44,
    "start_time": "2023-08-21T12:30:30.653Z"
   },
   {
    "duration": 38,
    "start_time": "2023-08-21T12:30:30.699Z"
   },
   {
    "duration": 40,
    "start_time": "2023-08-21T12:30:30.739Z"
   },
   {
    "duration": 191,
    "start_time": "2023-08-21T12:30:30.781Z"
   },
   {
    "duration": 10,
    "start_time": "2023-08-21T12:30:30.973Z"
   },
   {
    "duration": 80,
    "start_time": "2023-08-21T12:30:30.986Z"
   },
   {
    "duration": 203,
    "start_time": "2023-08-21T12:30:31.067Z"
   },
   {
    "duration": 5,
    "start_time": "2023-08-21T12:30:31.273Z"
   },
   {
    "duration": 151,
    "start_time": "2023-08-21T12:30:31.280Z"
   },
   {
    "duration": 9,
    "start_time": "2023-08-21T12:30:31.435Z"
   },
   {
    "duration": 16,
    "start_time": "2023-08-21T12:30:31.446Z"
   },
   {
    "duration": 128,
    "start_time": "2023-08-21T12:30:31.464Z"
   },
   {
    "duration": 7,
    "start_time": "2023-08-21T12:30:31.594Z"
   },
   {
    "duration": 37,
    "start_time": "2023-08-21T12:30:31.606Z"
   },
   {
    "duration": 31,
    "start_time": "2023-08-21T12:30:31.645Z"
   },
   {
    "duration": 31,
    "start_time": "2023-08-21T12:30:31.678Z"
   },
   {
    "duration": 27,
    "start_time": "2023-08-21T12:30:31.712Z"
   },
   {
    "duration": 22,
    "start_time": "2023-08-21T12:30:31.740Z"
   },
   {
    "duration": 24,
    "start_time": "2023-08-21T12:30:31.764Z"
   },
   {
    "duration": 21,
    "start_time": "2023-08-21T12:30:31.791Z"
   },
   {
    "duration": 30,
    "start_time": "2023-08-21T12:30:31.814Z"
   },
   {
    "duration": 34,
    "start_time": "2023-08-21T12:30:31.846Z"
   },
   {
    "duration": 45,
    "start_time": "2023-08-21T12:30:31.882Z"
   },
   {
    "duration": 49,
    "start_time": "2023-08-21T12:30:31.929Z"
   },
   {
    "duration": 14,
    "start_time": "2023-08-21T12:30:31.980Z"
   },
   {
    "duration": 23,
    "start_time": "2023-08-21T12:30:31.996Z"
   },
   {
    "duration": 2629,
    "start_time": "2023-08-21T12:30:32.021Z"
   },
   {
    "duration": 203798,
    "start_time": "2023-08-21T12:30:34.651Z"
   },
   {
    "duration": 3032,
    "start_time": "2023-08-21T12:33:58.451Z"
   },
   {
    "duration": 25740,
    "start_time": "2023-08-21T12:34:01.490Z"
   },
   {
    "duration": 6646,
    "start_time": "2023-08-21T12:34:27.232Z"
   },
   {
    "duration": 0,
    "start_time": "2023-08-21T12:34:33.884Z"
   },
   {
    "duration": 0,
    "start_time": "2023-08-21T12:34:33.885Z"
   },
   {
    "duration": 0,
    "start_time": "2023-08-21T12:34:33.886Z"
   },
   {
    "duration": 0,
    "start_time": "2023-08-21T12:34:33.886Z"
   },
   {
    "duration": 92,
    "start_time": "2023-08-21T12:47:14.146Z"
   },
   {
    "duration": 15,
    "start_time": "2023-08-21T12:47:21.769Z"
   },
   {
    "duration": 16,
    "start_time": "2023-08-21T12:48:03.998Z"
   },
   {
    "duration": 12,
    "start_time": "2023-08-21T12:48:30.921Z"
   },
   {
    "duration": 10,
    "start_time": "2023-08-21T12:51:34.169Z"
   },
   {
    "duration": 5,
    "start_time": "2023-08-21T12:57:32.953Z"
   },
   {
    "duration": 3,
    "start_time": "2023-08-21T12:57:34.715Z"
   },
   {
    "duration": 4,
    "start_time": "2023-08-21T12:57:35.237Z"
   },
   {
    "duration": 4,
    "start_time": "2023-08-21T12:57:35.700Z"
   },
   {
    "duration": 2642,
    "start_time": "2023-08-21T12:57:36.855Z"
   },
   {
    "duration": 205628,
    "start_time": "2023-08-21T12:57:45.933Z"
   },
   {
    "duration": 25162,
    "start_time": "2023-08-21T13:01:19.640Z"
   },
   {
    "duration": 13,
    "start_time": "2023-08-21T13:02:44.926Z"
   },
   {
    "duration": 16,
    "start_time": "2023-08-21T13:02:47.997Z"
   },
   {
    "duration": 6906,
    "start_time": "2023-08-21T13:02:52.005Z"
   },
   {
    "duration": 12,
    "start_time": "2023-08-21T13:04:31.157Z"
   },
   {
    "duration": 15,
    "start_time": "2023-08-21T13:04:50.302Z"
   },
   {
    "duration": 17,
    "start_time": "2023-08-21T13:05:17.010Z"
   },
   {
    "duration": 6,
    "start_time": "2023-08-21T13:05:28.610Z"
   },
   {
    "duration": 2678,
    "start_time": "2023-08-21T13:05:31.046Z"
   },
   {
    "duration": 6581,
    "start_time": "2023-08-21T13:05:47.710Z"
   },
   {
    "duration": 5,
    "start_time": "2023-08-21T13:06:00.120Z"
   },
   {
    "duration": 12,
    "start_time": "2023-08-21T13:06:07.006Z"
   },
   {
    "duration": 6,
    "start_time": "2023-08-21T13:06:19.144Z"
   },
   {
    "duration": 8,
    "start_time": "2023-08-21T13:06:19.826Z"
   }
  ],
  "kernelspec": {
   "display_name": "Python 3 (ipykernel)",
   "language": "python",
   "name": "python3"
  },
  "language_info": {
   "codemirror_mode": {
    "name": "ipython",
    "version": 3
   },
   "file_extension": ".py",
   "mimetype": "text/x-python",
   "name": "python",
   "nbconvert_exporter": "python",
   "pygments_lexer": "ipython3",
   "version": "3.9.5"
  },
  "toc": {
   "base_numbering": 1,
   "nav_menu": {},
   "number_sections": true,
   "sideBar": false,
   "skip_h1_title": true,
   "title_cell": "Содержание",
   "title_sidebar": "Contents",
   "toc_cell": true,
   "toc_position": {},
   "toc_section_display": false,
   "toc_window_display": false
  }
 },
 "nbformat": 4,
 "nbformat_minor": 2
}
