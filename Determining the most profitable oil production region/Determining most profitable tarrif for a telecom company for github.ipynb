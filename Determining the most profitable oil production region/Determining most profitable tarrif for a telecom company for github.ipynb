{
 "cells": [
  {
   "cell_type": "markdown",
   "metadata": {},
   "source": [
    "# Determining most Profitable Tariff for a Telecom Company"
   ]
  },
  {
   "cell_type": "markdown",
   "metadata": {},
   "source": [
    "## Project Description"
   ]
  },
  {
   "cell_type": "markdown",
   "metadata": {},
   "source": [
    "We are tasked with analyzing two cellular tariff plans, \"Smart\" and \"Ultra,\" for the \"Megaline\" operator. Our goal is to determine which plan generates more revenue to optimize the advertising budget. We have a dataset of 500 customers, including their plan, usage data (calls, messages, internet), and location. The analysis involves:\n",
    "\n",
    "Exploring and understanding the datasets.\n",
    "\n",
    "Data preparation, including data type conversion and error correction.\n",
    "\n",
    "Data analysis and visualization.\n",
    "\n",
    "Hypothesis testing for:\n",
    "\n",
    "a. Difference in average revenue between \"Ultra\" and \"Smart\" users.\n",
    "\n",
    "b. Difference in average revenue between Moscow and other regions.\n",
    "\n",
    "\n",
    "The outcome will provide insights into the more profitable tariff plan.\n",
    "\n",
    "\n",
    "\n",
    "\n"
   ]
  },
  {
   "cell_type": "markdown",
   "metadata": {},
   "source": [
    "##  Exploratory Data Analysis"
   ]
  },
  {
   "cell_type": "code",
   "execution_count": 1,
   "metadata": {},
   "outputs": [],
   "source": [
    "import pandas as pd"
   ]
  },
  {
   "cell_type": "code",
   "execution_count": 2,
   "metadata": {},
   "outputs": [],
   "source": [
    "import matplotlib.pyplot as plt\n"
   ]
  },
  {
   "cell_type": "code",
   "execution_count": 3,
   "metadata": {},
   "outputs": [],
   "source": [
    "calls=pd.read_csv('/datasets/calls.csv')"
   ]
  },
  {
   "cell_type": "code",
   "execution_count": 4,
   "metadata": {},
   "outputs": [],
   "source": [
    "internet=pd.read_csv('/datasets/internet.csv')"
   ]
  },
  {
   "cell_type": "code",
   "execution_count": 5,
   "metadata": {},
   "outputs": [],
   "source": [
    "messages=pd.read_csv('/datasets/messages.csv')"
   ]
  },
  {
   "cell_type": "code",
   "execution_count": 6,
   "metadata": {},
   "outputs": [],
   "source": [
    "tariffs=pd.read_csv('/datasets/tariffs.csv')"
   ]
  },
  {
   "cell_type": "code",
   "execution_count": 7,
   "metadata": {},
   "outputs": [],
   "source": [
    "users=pd.read_csv('/datasets/users.csv')"
   ]
  },
  {
   "cell_type": "code",
   "execution_count": 8,
   "metadata": {},
   "outputs": [
    {
     "data": {
      "text/html": [
       "<div>\n",
       "<style scoped>\n",
       "    .dataframe tbody tr th:only-of-type {\n",
       "        vertical-align: middle;\n",
       "    }\n",
       "\n",
       "    .dataframe tbody tr th {\n",
       "        vertical-align: top;\n",
       "    }\n",
       "\n",
       "    .dataframe thead th {\n",
       "        text-align: right;\n",
       "    }\n",
       "</style>\n",
       "<table border=\"1\" class=\"dataframe\">\n",
       "  <thead>\n",
       "    <tr style=\"text-align: right;\">\n",
       "      <th></th>\n",
       "      <th>id</th>\n",
       "      <th>call_date</th>\n",
       "      <th>duration</th>\n",
       "      <th>user_id</th>\n",
       "    </tr>\n",
       "  </thead>\n",
       "  <tbody>\n",
       "    <tr>\n",
       "      <th>0</th>\n",
       "      <td>1000_0</td>\n",
       "      <td>2018-07-25</td>\n",
       "      <td>0.00</td>\n",
       "      <td>1000</td>\n",
       "    </tr>\n",
       "    <tr>\n",
       "      <th>1</th>\n",
       "      <td>1000_1</td>\n",
       "      <td>2018-08-17</td>\n",
       "      <td>0.00</td>\n",
       "      <td>1000</td>\n",
       "    </tr>\n",
       "    <tr>\n",
       "      <th>2</th>\n",
       "      <td>1000_2</td>\n",
       "      <td>2018-06-11</td>\n",
       "      <td>2.85</td>\n",
       "      <td>1000</td>\n",
       "    </tr>\n",
       "    <tr>\n",
       "      <th>3</th>\n",
       "      <td>1000_3</td>\n",
       "      <td>2018-09-21</td>\n",
       "      <td>13.80</td>\n",
       "      <td>1000</td>\n",
       "    </tr>\n",
       "    <tr>\n",
       "      <th>4</th>\n",
       "      <td>1000_4</td>\n",
       "      <td>2018-12-15</td>\n",
       "      <td>5.18</td>\n",
       "      <td>1000</td>\n",
       "    </tr>\n",
       "  </tbody>\n",
       "</table>\n",
       "</div>"
      ],
      "text/plain": [
       "       id   call_date  duration  user_id\n",
       "0  1000_0  2018-07-25      0.00     1000\n",
       "1  1000_1  2018-08-17      0.00     1000\n",
       "2  1000_2  2018-06-11      2.85     1000\n",
       "3  1000_3  2018-09-21     13.80     1000\n",
       "4  1000_4  2018-12-15      5.18     1000"
      ]
     },
     "metadata": {},
     "output_type": "display_data"
    }
   ],
   "source": [
    "display(calls.head())"
   ]
  },
  {
   "cell_type": "code",
   "execution_count": 9,
   "metadata": {},
   "outputs": [
    {
     "name": "stdout",
     "output_type": "stream",
     "text": [
      "<class 'pandas.core.frame.DataFrame'>\n",
      "RangeIndex: 202607 entries, 0 to 202606\n",
      "Data columns (total 4 columns):\n",
      " #   Column     Non-Null Count   Dtype  \n",
      "---  ------     --------------   -----  \n",
      " 0   id         202607 non-null  object \n",
      " 1   call_date  202607 non-null  object \n",
      " 2   duration   202607 non-null  float64\n",
      " 3   user_id    202607 non-null  int64  \n",
      "dtypes: float64(1), int64(1), object(2)\n",
      "memory usage: 6.2+ MB\n"
     ]
    },
    {
     "data": {
      "text/plain": [
       "None"
      ]
     },
     "metadata": {},
     "output_type": "display_data"
    }
   ],
   "source": [
    "display(calls.info())"
   ]
  },
  {
   "cell_type": "markdown",
   "metadata": {},
   "source": [
    "The \"calls\" table contains information about the duration of calls in minutes for each user, including the user's identifier, call date, number of minutes, and a unique call number."
   ]
  },
  {
   "cell_type": "code",
   "execution_count": 10,
   "metadata": {},
   "outputs": [
    {
     "data": {
      "text/html": [
       "<div>\n",
       "<style scoped>\n",
       "    .dataframe tbody tr th:only-of-type {\n",
       "        vertical-align: middle;\n",
       "    }\n",
       "\n",
       "    .dataframe tbody tr th {\n",
       "        vertical-align: top;\n",
       "    }\n",
       "\n",
       "    .dataframe thead th {\n",
       "        text-align: right;\n",
       "    }\n",
       "</style>\n",
       "<table border=\"1\" class=\"dataframe\">\n",
       "  <thead>\n",
       "    <tr style=\"text-align: right;\">\n",
       "      <th></th>\n",
       "      <th>Unnamed: 0</th>\n",
       "      <th>id</th>\n",
       "      <th>mb_used</th>\n",
       "      <th>session_date</th>\n",
       "      <th>user_id</th>\n",
       "    </tr>\n",
       "  </thead>\n",
       "  <tbody>\n",
       "    <tr>\n",
       "      <th>0</th>\n",
       "      <td>0</td>\n",
       "      <td>1000_0</td>\n",
       "      <td>112.95</td>\n",
       "      <td>2018-11-25</td>\n",
       "      <td>1000</td>\n",
       "    </tr>\n",
       "    <tr>\n",
       "      <th>1</th>\n",
       "      <td>1</td>\n",
       "      <td>1000_1</td>\n",
       "      <td>1052.81</td>\n",
       "      <td>2018-09-07</td>\n",
       "      <td>1000</td>\n",
       "    </tr>\n",
       "    <tr>\n",
       "      <th>2</th>\n",
       "      <td>2</td>\n",
       "      <td>1000_2</td>\n",
       "      <td>1197.26</td>\n",
       "      <td>2018-06-25</td>\n",
       "      <td>1000</td>\n",
       "    </tr>\n",
       "    <tr>\n",
       "      <th>3</th>\n",
       "      <td>3</td>\n",
       "      <td>1000_3</td>\n",
       "      <td>550.27</td>\n",
       "      <td>2018-08-22</td>\n",
       "      <td>1000</td>\n",
       "    </tr>\n",
       "    <tr>\n",
       "      <th>4</th>\n",
       "      <td>4</td>\n",
       "      <td>1000_4</td>\n",
       "      <td>302.56</td>\n",
       "      <td>2018-09-24</td>\n",
       "      <td>1000</td>\n",
       "    </tr>\n",
       "  </tbody>\n",
       "</table>\n",
       "</div>"
      ],
      "text/plain": [
       "   Unnamed: 0      id  mb_used session_date  user_id\n",
       "0           0  1000_0   112.95   2018-11-25     1000\n",
       "1           1  1000_1  1052.81   2018-09-07     1000\n",
       "2           2  1000_2  1197.26   2018-06-25     1000\n",
       "3           3  1000_3   550.27   2018-08-22     1000\n",
       "4           4  1000_4   302.56   2018-09-24     1000"
      ]
     },
     "metadata": {},
     "output_type": "display_data"
    }
   ],
   "source": [
    "display(internet.head())"
   ]
  },
  {
   "cell_type": "code",
   "execution_count": 11,
   "metadata": {},
   "outputs": [
    {
     "name": "stdout",
     "output_type": "stream",
     "text": [
      "<class 'pandas.core.frame.DataFrame'>\n",
      "RangeIndex: 149396 entries, 0 to 149395\n",
      "Data columns (total 5 columns):\n",
      " #   Column        Non-Null Count   Dtype  \n",
      "---  ------        --------------   -----  \n",
      " 0   Unnamed: 0    149396 non-null  int64  \n",
      " 1   id            149396 non-null  object \n",
      " 2   mb_used       149396 non-null  float64\n",
      " 3   session_date  149396 non-null  object \n",
      " 4   user_id       149396 non-null  int64  \n",
      "dtypes: float64(1), int64(2), object(2)\n",
      "memory usage: 5.7+ MB\n"
     ]
    },
    {
     "data": {
      "text/plain": [
       "None"
      ]
     },
     "metadata": {},
     "output_type": "display_data"
    }
   ],
   "source": [
    "display(internet.info())"
   ]
  },
  {
   "cell_type": "markdown",
   "metadata": {},
   "source": [
    "The \"Internet\" table contains information about the amount of internet traffic used by each user, including the user's identifier, internet session date, volume of data consumed in megabytes per session, and a unique session number."
   ]
  },
  {
   "cell_type": "code",
   "execution_count": 12,
   "metadata": {},
   "outputs": [
    {
     "data": {
      "text/html": [
       "<div>\n",
       "<style scoped>\n",
       "    .dataframe tbody tr th:only-of-type {\n",
       "        vertical-align: middle;\n",
       "    }\n",
       "\n",
       "    .dataframe tbody tr th {\n",
       "        vertical-align: top;\n",
       "    }\n",
       "\n",
       "    .dataframe thead th {\n",
       "        text-align: right;\n",
       "    }\n",
       "</style>\n",
       "<table border=\"1\" class=\"dataframe\">\n",
       "  <thead>\n",
       "    <tr style=\"text-align: right;\">\n",
       "      <th></th>\n",
       "      <th>id</th>\n",
       "      <th>message_date</th>\n",
       "      <th>user_id</th>\n",
       "    </tr>\n",
       "  </thead>\n",
       "  <tbody>\n",
       "    <tr>\n",
       "      <th>0</th>\n",
       "      <td>1000_0</td>\n",
       "      <td>2018-06-27</td>\n",
       "      <td>1000</td>\n",
       "    </tr>\n",
       "    <tr>\n",
       "      <th>1</th>\n",
       "      <td>1000_1</td>\n",
       "      <td>2018-10-08</td>\n",
       "      <td>1000</td>\n",
       "    </tr>\n",
       "    <tr>\n",
       "      <th>2</th>\n",
       "      <td>1000_2</td>\n",
       "      <td>2018-08-04</td>\n",
       "      <td>1000</td>\n",
       "    </tr>\n",
       "    <tr>\n",
       "      <th>3</th>\n",
       "      <td>1000_3</td>\n",
       "      <td>2018-06-16</td>\n",
       "      <td>1000</td>\n",
       "    </tr>\n",
       "    <tr>\n",
       "      <th>4</th>\n",
       "      <td>1000_4</td>\n",
       "      <td>2018-12-05</td>\n",
       "      <td>1000</td>\n",
       "    </tr>\n",
       "  </tbody>\n",
       "</table>\n",
       "</div>"
      ],
      "text/plain": [
       "       id message_date  user_id\n",
       "0  1000_0   2018-06-27     1000\n",
       "1  1000_1   2018-10-08     1000\n",
       "2  1000_2   2018-08-04     1000\n",
       "3  1000_3   2018-06-16     1000\n",
       "4  1000_4   2018-12-05     1000"
      ]
     },
     "metadata": {},
     "output_type": "display_data"
    }
   ],
   "source": [
    "display(messages.head())"
   ]
  },
  {
   "cell_type": "code",
   "execution_count": 13,
   "metadata": {},
   "outputs": [
    {
     "name": "stdout",
     "output_type": "stream",
     "text": [
      "<class 'pandas.core.frame.DataFrame'>\n",
      "RangeIndex: 123036 entries, 0 to 123035\n",
      "Data columns (total 3 columns):\n",
      " #   Column        Non-Null Count   Dtype \n",
      "---  ------        --------------   ----- \n",
      " 0   id            123036 non-null  object\n",
      " 1   message_date  123036 non-null  object\n",
      " 2   user_id       123036 non-null  int64 \n",
      "dtypes: int64(1), object(2)\n",
      "memory usage: 2.8+ MB\n"
     ]
    },
    {
     "data": {
      "text/plain": [
       "None"
      ]
     },
     "metadata": {},
     "output_type": "display_data"
    }
   ],
   "source": [
    "display(messages.info())"
   ]
  },
  {
   "cell_type": "markdown",
   "metadata": {},
   "source": [
    "The \"messages\" table contains information about the number of messages sent by each user, including the message date, user identifier, and a unique message number."
   ]
  },
  {
   "cell_type": "code",
   "execution_count": 14,
   "metadata": {},
   "outputs": [
    {
     "data": {
      "text/html": [
       "<div>\n",
       "<style scoped>\n",
       "    .dataframe tbody tr th:only-of-type {\n",
       "        vertical-align: middle;\n",
       "    }\n",
       "\n",
       "    .dataframe tbody tr th {\n",
       "        vertical-align: top;\n",
       "    }\n",
       "\n",
       "    .dataframe thead th {\n",
       "        text-align: right;\n",
       "    }\n",
       "</style>\n",
       "<table border=\"1\" class=\"dataframe\">\n",
       "  <thead>\n",
       "    <tr style=\"text-align: right;\">\n",
       "      <th></th>\n",
       "      <th>messages_included</th>\n",
       "      <th>mb_per_month_included</th>\n",
       "      <th>minutes_included</th>\n",
       "      <th>rub_monthly_fee</th>\n",
       "      <th>rub_per_gb</th>\n",
       "      <th>rub_per_message</th>\n",
       "      <th>rub_per_minute</th>\n",
       "      <th>tariff_name</th>\n",
       "    </tr>\n",
       "  </thead>\n",
       "  <tbody>\n",
       "    <tr>\n",
       "      <th>0</th>\n",
       "      <td>50</td>\n",
       "      <td>15360</td>\n",
       "      <td>500</td>\n",
       "      <td>550</td>\n",
       "      <td>200</td>\n",
       "      <td>3</td>\n",
       "      <td>3</td>\n",
       "      <td>smart</td>\n",
       "    </tr>\n",
       "    <tr>\n",
       "      <th>1</th>\n",
       "      <td>1000</td>\n",
       "      <td>30720</td>\n",
       "      <td>3000</td>\n",
       "      <td>1950</td>\n",
       "      <td>150</td>\n",
       "      <td>1</td>\n",
       "      <td>1</td>\n",
       "      <td>ultra</td>\n",
       "    </tr>\n",
       "  </tbody>\n",
       "</table>\n",
       "</div>"
      ],
      "text/plain": [
       "   messages_included  mb_per_month_included  minutes_included  \\\n",
       "0                 50                  15360               500   \n",
       "1               1000                  30720              3000   \n",
       "\n",
       "   rub_monthly_fee  rub_per_gb  rub_per_message  rub_per_minute tariff_name  \n",
       "0              550         200                3               3       smart  \n",
       "1             1950         150                1               1       ultra  "
      ]
     },
     "metadata": {},
     "output_type": "display_data"
    }
   ],
   "source": [
    "display(tariffs.head())"
   ]
  },
  {
   "cell_type": "code",
   "execution_count": 15,
   "metadata": {},
   "outputs": [
    {
     "name": "stdout",
     "output_type": "stream",
     "text": [
      "<class 'pandas.core.frame.DataFrame'>\n",
      "RangeIndex: 2 entries, 0 to 1\n",
      "Data columns (total 8 columns):\n",
      " #   Column                 Non-Null Count  Dtype \n",
      "---  ------                 --------------  ----- \n",
      " 0   messages_included      2 non-null      int64 \n",
      " 1   mb_per_month_included  2 non-null      int64 \n",
      " 2   minutes_included       2 non-null      int64 \n",
      " 3   rub_monthly_fee        2 non-null      int64 \n",
      " 4   rub_per_gb             2 non-null      int64 \n",
      " 5   rub_per_message        2 non-null      int64 \n",
      " 6   rub_per_minute         2 non-null      int64 \n",
      " 7   tariff_name            2 non-null      object\n",
      "dtypes: int64(7), object(1)\n",
      "memory usage: 256.0+ bytes\n"
     ]
    },
    {
     "data": {
      "text/plain": [
       "None"
      ]
     },
     "metadata": {},
     "output_type": "display_data"
    }
   ],
   "source": [
    "display(tariffs.info())"
   ]
  },
  {
   "cell_type": "markdown",
   "metadata": {},
   "source": [
    "From the information provided, we can see that there are two tariffs: \"Smart\" and \"Ultra,\" which differ in terms of price, the number of messages, internet traffic volume, and the number of minutes per month. The \"Ultra\" tariff is more expensive but offers more minutes, data traffic, and messages."
   ]
  },
  {
   "cell_type": "code",
   "execution_count": 16,
   "metadata": {},
   "outputs": [
    {
     "data": {
      "text/html": [
       "<div>\n",
       "<style scoped>\n",
       "    .dataframe tbody tr th:only-of-type {\n",
       "        vertical-align: middle;\n",
       "    }\n",
       "\n",
       "    .dataframe tbody tr th {\n",
       "        vertical-align: top;\n",
       "    }\n",
       "\n",
       "    .dataframe thead th {\n",
       "        text-align: right;\n",
       "    }\n",
       "</style>\n",
       "<table border=\"1\" class=\"dataframe\">\n",
       "  <thead>\n",
       "    <tr style=\"text-align: right;\">\n",
       "      <th></th>\n",
       "      <th>user_id</th>\n",
       "      <th>age</th>\n",
       "      <th>churn_date</th>\n",
       "      <th>city</th>\n",
       "      <th>first_name</th>\n",
       "      <th>last_name</th>\n",
       "      <th>reg_date</th>\n",
       "      <th>tariff</th>\n",
       "    </tr>\n",
       "  </thead>\n",
       "  <tbody>\n",
       "    <tr>\n",
       "      <th>0</th>\n",
       "      <td>1000</td>\n",
       "      <td>52</td>\n",
       "      <td>NaN</td>\n",
       "      <td>Краснодар</td>\n",
       "      <td>Рафаил</td>\n",
       "      <td>Верещагин</td>\n",
       "      <td>2018-05-25</td>\n",
       "      <td>ultra</td>\n",
       "    </tr>\n",
       "    <tr>\n",
       "      <th>1</th>\n",
       "      <td>1001</td>\n",
       "      <td>41</td>\n",
       "      <td>NaN</td>\n",
       "      <td>Москва</td>\n",
       "      <td>Иван</td>\n",
       "      <td>Ежов</td>\n",
       "      <td>2018-11-01</td>\n",
       "      <td>smart</td>\n",
       "    </tr>\n",
       "    <tr>\n",
       "      <th>2</th>\n",
       "      <td>1002</td>\n",
       "      <td>59</td>\n",
       "      <td>NaN</td>\n",
       "      <td>Стерлитамак</td>\n",
       "      <td>Евгений</td>\n",
       "      <td>Абрамович</td>\n",
       "      <td>2018-06-17</td>\n",
       "      <td>smart</td>\n",
       "    </tr>\n",
       "    <tr>\n",
       "      <th>3</th>\n",
       "      <td>1003</td>\n",
       "      <td>23</td>\n",
       "      <td>NaN</td>\n",
       "      <td>Москва</td>\n",
       "      <td>Белла</td>\n",
       "      <td>Белякова</td>\n",
       "      <td>2018-08-17</td>\n",
       "      <td>ultra</td>\n",
       "    </tr>\n",
       "    <tr>\n",
       "      <th>4</th>\n",
       "      <td>1004</td>\n",
       "      <td>68</td>\n",
       "      <td>NaN</td>\n",
       "      <td>Новокузнецк</td>\n",
       "      <td>Татьяна</td>\n",
       "      <td>Авдеенко</td>\n",
       "      <td>2018-05-14</td>\n",
       "      <td>ultra</td>\n",
       "    </tr>\n",
       "  </tbody>\n",
       "</table>\n",
       "</div>"
      ],
      "text/plain": [
       "   user_id  age churn_date         city first_name  last_name    reg_date  \\\n",
       "0     1000   52        NaN    Краснодар     Рафаил  Верещагин  2018-05-25   \n",
       "1     1001   41        NaN       Москва       Иван       Ежов  2018-11-01   \n",
       "2     1002   59        NaN  Стерлитамак    Евгений  Абрамович  2018-06-17   \n",
       "3     1003   23        NaN       Москва      Белла   Белякова  2018-08-17   \n",
       "4     1004   68        NaN  Новокузнецк    Татьяна   Авдеенко  2018-05-14   \n",
       "\n",
       "  tariff  \n",
       "0  ultra  \n",
       "1  smart  \n",
       "2  smart  \n",
       "3  ultra  \n",
       "4  ultra  "
      ]
     },
     "metadata": {},
     "output_type": "display_data"
    }
   ],
   "source": [
    "display(users.head())"
   ]
  },
  {
   "cell_type": "code",
   "execution_count": 17,
   "metadata": {},
   "outputs": [
    {
     "name": "stdout",
     "output_type": "stream",
     "text": [
      "<class 'pandas.core.frame.DataFrame'>\n",
      "RangeIndex: 500 entries, 0 to 499\n",
      "Data columns (total 8 columns):\n",
      " #   Column      Non-Null Count  Dtype \n",
      "---  ------      --------------  ----- \n",
      " 0   user_id     500 non-null    int64 \n",
      " 1   age         500 non-null    int64 \n",
      " 2   churn_date  38 non-null     object\n",
      " 3   city        500 non-null    object\n",
      " 4   first_name  500 non-null    object\n",
      " 5   last_name   500 non-null    object\n",
      " 6   reg_date    500 non-null    object\n",
      " 7   tariff      500 non-null    object\n",
      "dtypes: int64(2), object(6)\n",
      "memory usage: 31.4+ KB\n"
     ]
    },
    {
     "data": {
      "text/plain": [
       "None"
      ]
     },
     "metadata": {},
     "output_type": "display_data"
    }
   ],
   "source": [
    "display(users.info())"
   ]
  },
  {
   "cell_type": "markdown",
   "metadata": {},
   "source": [
    "The \"users\" table contains information about users, including their first name and last name, unique identifier, the name of the tariff plan, date of tariff activation, date of tariff discontinuation (if omitted, it means the tariff was active at the time of data extraction), age, and city of residence."
   ]
  },
  {
   "cell_type": "markdown",
   "metadata": {},
   "source": [
    "## Data Preparation"
   ]
  },
  {
   "cell_type": "markdown",
   "metadata": {},
   "source": [
    "#### The number of calls and used minutes of conversation per month"
   ]
  },
  {
   "cell_type": "markdown",
   "metadata": {},
   "source": [
    "We will change the data type in the \"call_date\" column in the \"calls\" table."
   ]
  },
  {
   "cell_type": "code",
   "execution_count": 18,
   "metadata": {},
   "outputs": [],
   "source": [
    "calls['call_date']=pd.to_datetime(calls['call_date'], format='%Y.%m.%d')"
   ]
  },
  {
   "cell_type": "markdown",
   "metadata": {},
   "source": [
    "We will add a column with the name of the month in order to calculate the number of minutes per month."
   ]
  },
  {
   "cell_type": "code",
   "execution_count": 19,
   "metadata": {},
   "outputs": [],
   "source": [
    "calls['month']=pd.DatetimeIndex(calls['call_date']).month"
   ]
  },
  {
   "cell_type": "markdown",
   "metadata": {},
   "source": [
    "We will do the same with the \"session_date\" column in the \"Internet\" table and the \"message_date\" column in the \"messages\" table, respectively."
   ]
  },
  {
   "cell_type": "code",
   "execution_count": 20,
   "metadata": {},
   "outputs": [],
   "source": [
    "messages['message_date']=pd.to_datetime(messages['message_date'], format='%Y.%m.%d')"
   ]
  },
  {
   "cell_type": "code",
   "execution_count": 21,
   "metadata": {},
   "outputs": [],
   "source": [
    "messages['month']=pd.DatetimeIndex(messages['message_date']).month"
   ]
  },
  {
   "cell_type": "code",
   "execution_count": 22,
   "metadata": {},
   "outputs": [],
   "source": [
    "internet['session_date']=pd.to_datetime(internet['session_date'], format='%Y.%m.%d')"
   ]
  },
  {
   "cell_type": "code",
   "execution_count": 23,
   "metadata": {},
   "outputs": [],
   "source": [
    "internet['month']=pd.DatetimeIndex(internet['session_date']).month"
   ]
  },
  {
   "cell_type": "markdown",
   "metadata": {},
   "source": [
    "As per the given information, \"Megaline\" always rounds seconds up to minutes and megabytes up to gigabytes. Each call is rounded individually: even if it lasted only 1 second, it will be counted as 1 minute.\n",
    "\n",
    "Therefore, before calculating monthly call statistics for each subscriber, let's round the call durations up to minutes."
   ]
  },
  {
   "cell_type": "markdown",
   "metadata": {},
   "source": [
    "Since the round() method rounds down, and we need to round up, we will use the ceil() method from the Numpy library."
   ]
  },
  {
   "cell_type": "code",
   "execution_count": 24,
   "metadata": {},
   "outputs": [],
   "source": [
    "import numpy as np"
   ]
  },
  {
   "cell_type": "code",
   "execution_count": 25,
   "metadata": {},
   "outputs": [],
   "source": [
    "calls['duration']=np.ceil(calls['duration'])"
   ]
  },
  {
   "cell_type": "markdown",
   "metadata": {},
   "source": [
    "We will group the table by each user and month. We will use the groupby method instead of pivot_table to ensure that these tables can be merged into one in the future based on the user_id column."
   ]
  },
  {
   "cell_type": "code",
   "execution_count": 26,
   "metadata": {},
   "outputs": [],
   "source": [
    "calls_duration_by_user= calls.groupby(['user_id','month'])['duration'].sum().reset_index()"
   ]
  },
  {
   "cell_type": "code",
   "execution_count": 27,
   "metadata": {},
   "outputs": [
    {
     "data": {
      "text/html": [
       "<div>\n",
       "<style scoped>\n",
       "    .dataframe tbody tr th:only-of-type {\n",
       "        vertical-align: middle;\n",
       "    }\n",
       "\n",
       "    .dataframe tbody tr th {\n",
       "        vertical-align: top;\n",
       "    }\n",
       "\n",
       "    .dataframe thead th {\n",
       "        text-align: right;\n",
       "    }\n",
       "</style>\n",
       "<table border=\"1\" class=\"dataframe\">\n",
       "  <thead>\n",
       "    <tr style=\"text-align: right;\">\n",
       "      <th></th>\n",
       "      <th>user_id</th>\n",
       "      <th>month</th>\n",
       "      <th>duration</th>\n",
       "    </tr>\n",
       "  </thead>\n",
       "  <tbody>\n",
       "    <tr>\n",
       "      <th>0</th>\n",
       "      <td>1000</td>\n",
       "      <td>5</td>\n",
       "      <td>159.0</td>\n",
       "    </tr>\n",
       "    <tr>\n",
       "      <th>1</th>\n",
       "      <td>1000</td>\n",
       "      <td>6</td>\n",
       "      <td>172.0</td>\n",
       "    </tr>\n",
       "    <tr>\n",
       "      <th>2</th>\n",
       "      <td>1000</td>\n",
       "      <td>7</td>\n",
       "      <td>340.0</td>\n",
       "    </tr>\n",
       "    <tr>\n",
       "      <th>3</th>\n",
       "      <td>1000</td>\n",
       "      <td>8</td>\n",
       "      <td>408.0</td>\n",
       "    </tr>\n",
       "    <tr>\n",
       "      <th>4</th>\n",
       "      <td>1000</td>\n",
       "      <td>9</td>\n",
       "      <td>466.0</td>\n",
       "    </tr>\n",
       "    <tr>\n",
       "      <th>...</th>\n",
       "      <td>...</td>\n",
       "      <td>...</td>\n",
       "      <td>...</td>\n",
       "    </tr>\n",
       "    <tr>\n",
       "      <th>3169</th>\n",
       "      <td>1498</td>\n",
       "      <td>10</td>\n",
       "      <td>247.0</td>\n",
       "    </tr>\n",
       "    <tr>\n",
       "      <th>3170</th>\n",
       "      <td>1499</td>\n",
       "      <td>9</td>\n",
       "      <td>70.0</td>\n",
       "    </tr>\n",
       "    <tr>\n",
       "      <th>3171</th>\n",
       "      <td>1499</td>\n",
       "      <td>10</td>\n",
       "      <td>449.0</td>\n",
       "    </tr>\n",
       "    <tr>\n",
       "      <th>3172</th>\n",
       "      <td>1499</td>\n",
       "      <td>11</td>\n",
       "      <td>612.0</td>\n",
       "    </tr>\n",
       "    <tr>\n",
       "      <th>3173</th>\n",
       "      <td>1499</td>\n",
       "      <td>12</td>\n",
       "      <td>492.0</td>\n",
       "    </tr>\n",
       "  </tbody>\n",
       "</table>\n",
       "<p>3174 rows × 3 columns</p>\n",
       "</div>"
      ],
      "text/plain": [
       "      user_id  month  duration\n",
       "0        1000      5     159.0\n",
       "1        1000      6     172.0\n",
       "2        1000      7     340.0\n",
       "3        1000      8     408.0\n",
       "4        1000      9     466.0\n",
       "...       ...    ...       ...\n",
       "3169     1498     10     247.0\n",
       "3170     1499      9      70.0\n",
       "3171     1499     10     449.0\n",
       "3172     1499     11     612.0\n",
       "3173     1499     12     492.0\n",
       "\n",
       "[3174 rows x 3 columns]"
      ]
     },
     "metadata": {},
     "output_type": "display_data"
    }
   ],
   "source": [
    "display(calls_duration_by_user)"
   ]
  },
  {
   "cell_type": "markdown",
   "metadata": {},
   "source": [
    "We will calculate the number of calls per month for each subscriber."
   ]
  },
  {
   "cell_type": "code",
   "execution_count": 28,
   "metadata": {},
   "outputs": [],
   "source": [
    "calls_count_by_user= calls.groupby(['user_id','month']).agg(['count', 'sum']).reset_index()"
   ]
  },
  {
   "cell_type": "code",
   "execution_count": 29,
   "metadata": {},
   "outputs": [
    {
     "data": {
      "text/html": [
       "<div>\n",
       "<style scoped>\n",
       "    .dataframe tbody tr th:only-of-type {\n",
       "        vertical-align: middle;\n",
       "    }\n",
       "\n",
       "    .dataframe tbody tr th {\n",
       "        vertical-align: top;\n",
       "    }\n",
       "\n",
       "    .dataframe thead tr th {\n",
       "        text-align: left;\n",
       "    }\n",
       "</style>\n",
       "<table border=\"1\" class=\"dataframe\">\n",
       "  <thead>\n",
       "    <tr>\n",
       "      <th></th>\n",
       "      <th>user_id</th>\n",
       "      <th>month</th>\n",
       "      <th colspan=\"2\" halign=\"left\">id</th>\n",
       "      <th colspan=\"2\" halign=\"left\">duration</th>\n",
       "    </tr>\n",
       "    <tr>\n",
       "      <th></th>\n",
       "      <th></th>\n",
       "      <th></th>\n",
       "      <th>count</th>\n",
       "      <th>sum</th>\n",
       "      <th>count</th>\n",
       "      <th>sum</th>\n",
       "    </tr>\n",
       "  </thead>\n",
       "  <tbody>\n",
       "    <tr>\n",
       "      <th>0</th>\n",
       "      <td>1000</td>\n",
       "      <td>5</td>\n",
       "      <td>22</td>\n",
       "      <td>1000_111000_381000_561000_781000_1131000_12410...</td>\n",
       "      <td>22</td>\n",
       "      <td>159.0</td>\n",
       "    </tr>\n",
       "    <tr>\n",
       "      <th>1</th>\n",
       "      <td>1000</td>\n",
       "      <td>6</td>\n",
       "      <td>43</td>\n",
       "      <td>1000_21000_181000_391000_441000_461000_511000_...</td>\n",
       "      <td>43</td>\n",
       "      <td>172.0</td>\n",
       "    </tr>\n",
       "    <tr>\n",
       "      <th>2</th>\n",
       "      <td>1000</td>\n",
       "      <td>7</td>\n",
       "      <td>47</td>\n",
       "      <td>1000_01000_121000_151000_251000_291000_421000_...</td>\n",
       "      <td>47</td>\n",
       "      <td>340.0</td>\n",
       "    </tr>\n",
       "    <tr>\n",
       "      <th>3</th>\n",
       "      <td>1000</td>\n",
       "      <td>8</td>\n",
       "      <td>52</td>\n",
       "      <td>1000_11000_71000_91000_101000_161000_171000_23...</td>\n",
       "      <td>52</td>\n",
       "      <td>408.0</td>\n",
       "    </tr>\n",
       "    <tr>\n",
       "      <th>4</th>\n",
       "      <td>1000</td>\n",
       "      <td>9</td>\n",
       "      <td>58</td>\n",
       "      <td>1000_31000_81000_131000_211000_241000_351000_4...</td>\n",
       "      <td>58</td>\n",
       "      <td>466.0</td>\n",
       "    </tr>\n",
       "    <tr>\n",
       "      <th>...</th>\n",
       "      <td>...</td>\n",
       "      <td>...</td>\n",
       "      <td>...</td>\n",
       "      <td>...</td>\n",
       "      <td>...</td>\n",
       "      <td>...</td>\n",
       "    </tr>\n",
       "    <tr>\n",
       "      <th>3169</th>\n",
       "      <td>1498</td>\n",
       "      <td>10</td>\n",
       "      <td>41</td>\n",
       "      <td>1498_01498_11498_51498_101498_121498_181498_25...</td>\n",
       "      <td>41</td>\n",
       "      <td>247.0</td>\n",
       "    </tr>\n",
       "    <tr>\n",
       "      <th>3170</th>\n",
       "      <td>1499</td>\n",
       "      <td>9</td>\n",
       "      <td>9</td>\n",
       "      <td>1499_521499_881499_1261499_1401499_1421499_147...</td>\n",
       "      <td>9</td>\n",
       "      <td>70.0</td>\n",
       "    </tr>\n",
       "    <tr>\n",
       "      <th>3171</th>\n",
       "      <td>1499</td>\n",
       "      <td>10</td>\n",
       "      <td>68</td>\n",
       "      <td>1499_11499_91499_121499_131499_221499_271499_3...</td>\n",
       "      <td>68</td>\n",
       "      <td>449.0</td>\n",
       "    </tr>\n",
       "    <tr>\n",
       "      <th>3172</th>\n",
       "      <td>1499</td>\n",
       "      <td>11</td>\n",
       "      <td>74</td>\n",
       "      <td>1499_21499_31499_41499_61499_81499_101499_1514...</td>\n",
       "      <td>74</td>\n",
       "      <td>612.0</td>\n",
       "    </tr>\n",
       "    <tr>\n",
       "      <th>3173</th>\n",
       "      <td>1499</td>\n",
       "      <td>12</td>\n",
       "      <td>69</td>\n",
       "      <td>1499_01499_51499_71499_111499_141499_161499_18...</td>\n",
       "      <td>69</td>\n",
       "      <td>492.0</td>\n",
       "    </tr>\n",
       "  </tbody>\n",
       "</table>\n",
       "<p>3174 rows × 6 columns</p>\n",
       "</div>"
      ],
      "text/plain": [
       "     user_id month    id                                                     \\\n",
       "                   count                                                sum   \n",
       "0       1000     5    22  1000_111000_381000_561000_781000_1131000_12410...   \n",
       "1       1000     6    43  1000_21000_181000_391000_441000_461000_511000_...   \n",
       "2       1000     7    47  1000_01000_121000_151000_251000_291000_421000_...   \n",
       "3       1000     8    52  1000_11000_71000_91000_101000_161000_171000_23...   \n",
       "4       1000     9    58  1000_31000_81000_131000_211000_241000_351000_4...   \n",
       "...      ...   ...   ...                                                ...   \n",
       "3169    1498    10    41  1498_01498_11498_51498_101498_121498_181498_25...   \n",
       "3170    1499     9     9  1499_521499_881499_1261499_1401499_1421499_147...   \n",
       "3171    1499    10    68  1499_11499_91499_121499_131499_221499_271499_3...   \n",
       "3172    1499    11    74  1499_21499_31499_41499_61499_81499_101499_1514...   \n",
       "3173    1499    12    69  1499_01499_51499_71499_111499_141499_161499_18...   \n",
       "\n",
       "     duration         \n",
       "        count    sum  \n",
       "0          22  159.0  \n",
       "1          43  172.0  \n",
       "2          47  340.0  \n",
       "3          52  408.0  \n",
       "4          58  466.0  \n",
       "...       ...    ...  \n",
       "3169       41  247.0  \n",
       "3170        9   70.0  \n",
       "3171       68  449.0  \n",
       "3172       74  612.0  \n",
       "3173       69  492.0  \n",
       "\n",
       "[3174 rows x 6 columns]"
      ]
     },
     "metadata": {},
     "output_type": "display_data"
    }
   ],
   "source": [
    "display(calls_count_by_user)"
   ]
  },
  {
   "cell_type": "markdown",
   "metadata": {},
   "source": [
    "#### We will calculate the number of sent messages per month."
   ]
  },
  {
   "cell_type": "markdown",
   "metadata": {},
   "source": [
    "In the same way, we will calculate the number of sent messages per month for each user."
   ]
  },
  {
   "cell_type": "code",
   "execution_count": 30,
   "metadata": {},
   "outputs": [],
   "source": [
    "messages_by_user=messages.groupby(['user_id', 'month'])['id'].count().reset_index()"
   ]
  },
  {
   "cell_type": "code",
   "execution_count": 31,
   "metadata": {},
   "outputs": [
    {
     "data": {
      "text/html": [
       "<div>\n",
       "<style scoped>\n",
       "    .dataframe tbody tr th:only-of-type {\n",
       "        vertical-align: middle;\n",
       "    }\n",
       "\n",
       "    .dataframe tbody tr th {\n",
       "        vertical-align: top;\n",
       "    }\n",
       "\n",
       "    .dataframe thead th {\n",
       "        text-align: right;\n",
       "    }\n",
       "</style>\n",
       "<table border=\"1\" class=\"dataframe\">\n",
       "  <thead>\n",
       "    <tr style=\"text-align: right;\">\n",
       "      <th></th>\n",
       "      <th>user_id</th>\n",
       "      <th>month</th>\n",
       "      <th>id</th>\n",
       "    </tr>\n",
       "  </thead>\n",
       "  <tbody>\n",
       "    <tr>\n",
       "      <th>0</th>\n",
       "      <td>1000</td>\n",
       "      <td>5</td>\n",
       "      <td>22</td>\n",
       "    </tr>\n",
       "    <tr>\n",
       "      <th>1</th>\n",
       "      <td>1000</td>\n",
       "      <td>6</td>\n",
       "      <td>60</td>\n",
       "    </tr>\n",
       "    <tr>\n",
       "      <th>2</th>\n",
       "      <td>1000</td>\n",
       "      <td>7</td>\n",
       "      <td>75</td>\n",
       "    </tr>\n",
       "    <tr>\n",
       "      <th>3</th>\n",
       "      <td>1000</td>\n",
       "      <td>8</td>\n",
       "      <td>81</td>\n",
       "    </tr>\n",
       "    <tr>\n",
       "      <th>4</th>\n",
       "      <td>1000</td>\n",
       "      <td>9</td>\n",
       "      <td>57</td>\n",
       "    </tr>\n",
       "    <tr>\n",
       "      <th>...</th>\n",
       "      <td>...</td>\n",
       "      <td>...</td>\n",
       "      <td>...</td>\n",
       "    </tr>\n",
       "    <tr>\n",
       "      <th>2712</th>\n",
       "      <td>1498</td>\n",
       "      <td>10</td>\n",
       "      <td>42</td>\n",
       "    </tr>\n",
       "    <tr>\n",
       "      <th>2713</th>\n",
       "      <td>1499</td>\n",
       "      <td>9</td>\n",
       "      <td>11</td>\n",
       "    </tr>\n",
       "    <tr>\n",
       "      <th>2714</th>\n",
       "      <td>1499</td>\n",
       "      <td>10</td>\n",
       "      <td>48</td>\n",
       "    </tr>\n",
       "    <tr>\n",
       "      <th>2715</th>\n",
       "      <td>1499</td>\n",
       "      <td>11</td>\n",
       "      <td>59</td>\n",
       "    </tr>\n",
       "    <tr>\n",
       "      <th>2716</th>\n",
       "      <td>1499</td>\n",
       "      <td>12</td>\n",
       "      <td>66</td>\n",
       "    </tr>\n",
       "  </tbody>\n",
       "</table>\n",
       "<p>2717 rows × 3 columns</p>\n",
       "</div>"
      ],
      "text/plain": [
       "      user_id  month  id\n",
       "0        1000      5  22\n",
       "1        1000      6  60\n",
       "2        1000      7  75\n",
       "3        1000      8  81\n",
       "4        1000      9  57\n",
       "...       ...    ...  ..\n",
       "2712     1498     10  42\n",
       "2713     1499      9  11\n",
       "2714     1499     10  48\n",
       "2715     1499     11  59\n",
       "2716     1499     12  66\n",
       "\n",
       "[2717 rows x 3 columns]"
      ]
     },
     "metadata": {},
     "output_type": "display_data"
    }
   ],
   "source": [
    "display(messages_by_user)"
   ]
  },
  {
   "cell_type": "markdown",
   "metadata": {},
   "source": [
    "#### We will calculate the volume of used internet traffic per month.\n"
   ]
  },
  {
   "cell_type": "markdown",
   "metadata": {},
   "source": [
    "Let's calculate the total number of megabytes used per month for each user in the same manner."
   ]
  },
  {
   "cell_type": "code",
   "execution_count": 32,
   "metadata": {},
   "outputs": [],
   "source": [
    "internet_by_user=internet.groupby(['user_id','month'])['mb_used'].sum().reset_index()"
   ]
  },
  {
   "cell_type": "markdown",
   "metadata": {},
   "source": [
    "We will convert megabytes to gigabytes since the customer is charged for gigabytes."
   ]
  },
  {
   "cell_type": "code",
   "execution_count": 33,
   "metadata": {},
   "outputs": [],
   "source": [
    "internet_by_user['mb_used']=internet_by_user['mb_used']/1024"
   ]
  },
  {
   "cell_type": "code",
   "execution_count": 34,
   "metadata": {},
   "outputs": [],
   "source": [
    "internet_by_user=internet_by_user.rename(columns={'mb_used':'Gb_used'})"
   ]
  },
  {
   "cell_type": "markdown",
   "metadata": {},
   "source": [
    "According to the provided information, the total monthly traffic amount is rounded up. Let's round the traffic for each user per month accordingly."
   ]
  },
  {
   "cell_type": "code",
   "execution_count": 35,
   "metadata": {},
   "outputs": [],
   "source": [
    "internet_by_user['Gb_used']=np.ceil(internet_by_user['Gb_used'])"
   ]
  },
  {
   "cell_type": "code",
   "execution_count": 36,
   "metadata": {},
   "outputs": [
    {
     "data": {
      "text/html": [
       "<div>\n",
       "<style scoped>\n",
       "    .dataframe tbody tr th:only-of-type {\n",
       "        vertical-align: middle;\n",
       "    }\n",
       "\n",
       "    .dataframe tbody tr th {\n",
       "        vertical-align: top;\n",
       "    }\n",
       "\n",
       "    .dataframe thead th {\n",
       "        text-align: right;\n",
       "    }\n",
       "</style>\n",
       "<table border=\"1\" class=\"dataframe\">\n",
       "  <thead>\n",
       "    <tr style=\"text-align: right;\">\n",
       "      <th></th>\n",
       "      <th>user_id</th>\n",
       "      <th>month</th>\n",
       "      <th>Gb_used</th>\n",
       "    </tr>\n",
       "  </thead>\n",
       "  <tbody>\n",
       "    <tr>\n",
       "      <th>0</th>\n",
       "      <td>1000</td>\n",
       "      <td>5</td>\n",
       "      <td>3.0</td>\n",
       "    </tr>\n",
       "    <tr>\n",
       "      <th>1</th>\n",
       "      <td>1000</td>\n",
       "      <td>6</td>\n",
       "      <td>23.0</td>\n",
       "    </tr>\n",
       "    <tr>\n",
       "      <th>2</th>\n",
       "      <td>1000</td>\n",
       "      <td>7</td>\n",
       "      <td>14.0</td>\n",
       "    </tr>\n",
       "    <tr>\n",
       "      <th>3</th>\n",
       "      <td>1000</td>\n",
       "      <td>8</td>\n",
       "      <td>14.0</td>\n",
       "    </tr>\n",
       "    <tr>\n",
       "      <th>4</th>\n",
       "      <td>1000</td>\n",
       "      <td>9</td>\n",
       "      <td>15.0</td>\n",
       "    </tr>\n",
       "    <tr>\n",
       "      <th>...</th>\n",
       "      <td>...</td>\n",
       "      <td>...</td>\n",
       "      <td>...</td>\n",
       "    </tr>\n",
       "    <tr>\n",
       "      <th>3198</th>\n",
       "      <td>1498</td>\n",
       "      <td>10</td>\n",
       "      <td>21.0</td>\n",
       "    </tr>\n",
       "    <tr>\n",
       "      <th>3199</th>\n",
       "      <td>1499</td>\n",
       "      <td>9</td>\n",
       "      <td>2.0</td>\n",
       "    </tr>\n",
       "    <tr>\n",
       "      <th>3200</th>\n",
       "      <td>1499</td>\n",
       "      <td>10</td>\n",
       "      <td>18.0</td>\n",
       "    </tr>\n",
       "    <tr>\n",
       "      <th>3201</th>\n",
       "      <td>1499</td>\n",
       "      <td>11</td>\n",
       "      <td>18.0</td>\n",
       "    </tr>\n",
       "    <tr>\n",
       "      <th>3202</th>\n",
       "      <td>1499</td>\n",
       "      <td>12</td>\n",
       "      <td>13.0</td>\n",
       "    </tr>\n",
       "  </tbody>\n",
       "</table>\n",
       "<p>3203 rows × 3 columns</p>\n",
       "</div>"
      ],
      "text/plain": [
       "      user_id  month  Gb_used\n",
       "0        1000      5      3.0\n",
       "1        1000      6     23.0\n",
       "2        1000      7     14.0\n",
       "3        1000      8     14.0\n",
       "4        1000      9     15.0\n",
       "...       ...    ...      ...\n",
       "3198     1498     10     21.0\n",
       "3199     1499      9      2.0\n",
       "3200     1499     10     18.0\n",
       "3201     1499     11     18.0\n",
       "3202     1499     12     13.0\n",
       "\n",
       "[3203 rows x 3 columns]"
      ]
     },
     "metadata": {},
     "output_type": "display_data"
    }
   ],
   "source": [
    "display(internet_by_user)"
   ]
  },
  {
   "cell_type": "code",
   "execution_count": 37,
   "metadata": {},
   "outputs": [
    {
     "data": {
      "text/html": [
       "<div>\n",
       "<style scoped>\n",
       "    .dataframe tbody tr th:only-of-type {\n",
       "        vertical-align: middle;\n",
       "    }\n",
       "\n",
       "    .dataframe tbody tr th {\n",
       "        vertical-align: top;\n",
       "    }\n",
       "\n",
       "    .dataframe thead th {\n",
       "        text-align: right;\n",
       "    }\n",
       "</style>\n",
       "<table border=\"1\" class=\"dataframe\">\n",
       "  <thead>\n",
       "    <tr style=\"text-align: right;\">\n",
       "      <th></th>\n",
       "      <th>user_id</th>\n",
       "      <th>month</th>\n",
       "      <th>Gb_used</th>\n",
       "    </tr>\n",
       "  </thead>\n",
       "  <tbody>\n",
       "    <tr>\n",
       "      <th>0</th>\n",
       "      <td>1000</td>\n",
       "      <td>5</td>\n",
       "      <td>3.0</td>\n",
       "    </tr>\n",
       "    <tr>\n",
       "      <th>1</th>\n",
       "      <td>1000</td>\n",
       "      <td>6</td>\n",
       "      <td>23.0</td>\n",
       "    </tr>\n",
       "    <tr>\n",
       "      <th>2</th>\n",
       "      <td>1000</td>\n",
       "      <td>7</td>\n",
       "      <td>14.0</td>\n",
       "    </tr>\n",
       "    <tr>\n",
       "      <th>3</th>\n",
       "      <td>1000</td>\n",
       "      <td>8</td>\n",
       "      <td>14.0</td>\n",
       "    </tr>\n",
       "    <tr>\n",
       "      <th>4</th>\n",
       "      <td>1000</td>\n",
       "      <td>9</td>\n",
       "      <td>15.0</td>\n",
       "    </tr>\n",
       "    <tr>\n",
       "      <th>...</th>\n",
       "      <td>...</td>\n",
       "      <td>...</td>\n",
       "      <td>...</td>\n",
       "    </tr>\n",
       "    <tr>\n",
       "      <th>3198</th>\n",
       "      <td>1498</td>\n",
       "      <td>10</td>\n",
       "      <td>21.0</td>\n",
       "    </tr>\n",
       "    <tr>\n",
       "      <th>3199</th>\n",
       "      <td>1499</td>\n",
       "      <td>9</td>\n",
       "      <td>2.0</td>\n",
       "    </tr>\n",
       "    <tr>\n",
       "      <th>3200</th>\n",
       "      <td>1499</td>\n",
       "      <td>10</td>\n",
       "      <td>18.0</td>\n",
       "    </tr>\n",
       "    <tr>\n",
       "      <th>3201</th>\n",
       "      <td>1499</td>\n",
       "      <td>11</td>\n",
       "      <td>18.0</td>\n",
       "    </tr>\n",
       "    <tr>\n",
       "      <th>3202</th>\n",
       "      <td>1499</td>\n",
       "      <td>12</td>\n",
       "      <td>13.0</td>\n",
       "    </tr>\n",
       "  </tbody>\n",
       "</table>\n",
       "<p>3203 rows × 3 columns</p>\n",
       "</div>"
      ],
      "text/plain": [
       "      user_id  month  Gb_used\n",
       "0        1000      5      3.0\n",
       "1        1000      6     23.0\n",
       "2        1000      7     14.0\n",
       "3        1000      8     14.0\n",
       "4        1000      9     15.0\n",
       "...       ...    ...      ...\n",
       "3198     1498     10     21.0\n",
       "3199     1499      9      2.0\n",
       "3200     1499     10     18.0\n",
       "3201     1499     11     18.0\n",
       "3202     1499     12     13.0\n",
       "\n",
       "[3203 rows x 3 columns]"
      ]
     },
     "metadata": {},
     "output_type": "display_data"
    }
   ],
   "source": [
    "display(internet_by_user)"
   ]
  },
  {
   "cell_type": "markdown",
   "metadata": {},
   "source": [
    "#### The revenue from each user per month."
   ]
  },
  {
   "cell_type": "markdown",
   "metadata": {},
   "source": [
    "We will calculate revenue using the formula: Total sum of call durations, messages, and internet traffic per month minus the free limit; then multiply the remainder by the tariff plan's rates and add the subscription fee. To do this, we will gradually merge the tables."
   ]
  },
  {
   "cell_type": "code",
   "execution_count": 38,
   "metadata": {},
   "outputs": [],
   "source": [
    "calls_messages=calls_duration_by_user.merge(messages_by_user, on=['user_id', 'month'], how='outer')"
   ]
  },
  {
   "cell_type": "code",
   "execution_count": 39,
   "metadata": {},
   "outputs": [],
   "source": [
    "calls_messages.rename(columns={'duration':'call_duration', 'id':'messages'}, inplace=True)"
   ]
  },
  {
   "cell_type": "code",
   "execution_count": 40,
   "metadata": {},
   "outputs": [],
   "source": [
    "calls_messages_internet=calls_messages.merge(internet_by_user, on =['user_id', 'month'], how='outer')"
   ]
  },
  {
   "cell_type": "code",
   "execution_count": 41,
   "metadata": {},
   "outputs": [],
   "source": [
    "calls_messages_internet_users =calls_messages_internet.merge(users, on ='user_id', how='outer')"
   ]
  },
  {
   "cell_type": "code",
   "execution_count": 42,
   "metadata": {},
   "outputs": [],
   "source": [
    "calls_messages_internet_users=calls_messages_internet_users.drop(columns=['age', 'churn_date', 'first_name', 'last_name', 'reg_date'])"
   ]
  },
  {
   "cell_type": "code",
   "execution_count": 43,
   "metadata": {},
   "outputs": [],
   "source": [
    "tariffs=tariffs.rename(columns={'tariff_name':'tariff'})"
   ]
  },
  {
   "cell_type": "code",
   "execution_count": 44,
   "metadata": {},
   "outputs": [],
   "source": [
    "tariffs['mb_per_month_included']=tariffs['mb_per_month_included']/1024"
   ]
  },
  {
   "cell_type": "code",
   "execution_count": 45,
   "metadata": {},
   "outputs": [
    {
     "data": {
      "text/html": [
       "<div>\n",
       "<style scoped>\n",
       "    .dataframe tbody tr th:only-of-type {\n",
       "        vertical-align: middle;\n",
       "    }\n",
       "\n",
       "    .dataframe tbody tr th {\n",
       "        vertical-align: top;\n",
       "    }\n",
       "\n",
       "    .dataframe thead th {\n",
       "        text-align: right;\n",
       "    }\n",
       "</style>\n",
       "<table border=\"1\" class=\"dataframe\">\n",
       "  <thead>\n",
       "    <tr style=\"text-align: right;\">\n",
       "      <th></th>\n",
       "      <th>messages_included</th>\n",
       "      <th>Gb_per_month_included</th>\n",
       "      <th>minutes_included</th>\n",
       "      <th>rub_monthly_fee</th>\n",
       "      <th>rub_per_gb</th>\n",
       "      <th>rub_per_message</th>\n",
       "      <th>rub_per_minute</th>\n",
       "      <th>tariff</th>\n",
       "    </tr>\n",
       "  </thead>\n",
       "  <tbody>\n",
       "    <tr>\n",
       "      <th>0</th>\n",
       "      <td>50</td>\n",
       "      <td>15.0</td>\n",
       "      <td>500</td>\n",
       "      <td>550</td>\n",
       "      <td>200</td>\n",
       "      <td>3</td>\n",
       "      <td>3</td>\n",
       "      <td>smart</td>\n",
       "    </tr>\n",
       "    <tr>\n",
       "      <th>1</th>\n",
       "      <td>1000</td>\n",
       "      <td>30.0</td>\n",
       "      <td>3000</td>\n",
       "      <td>1950</td>\n",
       "      <td>150</td>\n",
       "      <td>1</td>\n",
       "      <td>1</td>\n",
       "      <td>ultra</td>\n",
       "    </tr>\n",
       "  </tbody>\n",
       "</table>\n",
       "</div>"
      ],
      "text/plain": [
       "   messages_included  Gb_per_month_included  minutes_included  \\\n",
       "0                 50                   15.0               500   \n",
       "1               1000                   30.0              3000   \n",
       "\n",
       "   rub_monthly_fee  rub_per_gb  rub_per_message  rub_per_minute tariff  \n",
       "0              550         200                3               3  smart  \n",
       "1             1950         150                1               1  ultra  "
      ]
     },
     "execution_count": 45,
     "metadata": {},
     "output_type": "execute_result"
    }
   ],
   "source": [
    "tariffs.rename(columns={'mb_per_month_included':'Gb_per_month_included'})"
   ]
  },
  {
   "cell_type": "code",
   "execution_count": 46,
   "metadata": {},
   "outputs": [],
   "source": [
    "calls_messages_internet_users=calls_messages_internet_users.merge(tariffs, on='tariff', how='right' )"
   ]
  },
  {
   "cell_type": "markdown",
   "metadata": {},
   "source": [
    "Let's add columns to calculate the difference between the used minutes, messages, gigabytes, and the included amounts in the tariff."
   ]
  },
  {
   "cell_type": "code",
   "execution_count": 47,
   "metadata": {},
   "outputs": [],
   "source": [
    "calls_messages_internet_users['minutes_surplus']=calls_messages_internet_users['call_duration']-calls_messages_internet_users['minutes_included']"
   ]
  },
  {
   "cell_type": "code",
   "execution_count": 48,
   "metadata": {},
   "outputs": [],
   "source": [
    "calls_messages_internet_users['Gb_surplus']=calls_messages_internet_users['Gb_used']-calls_messages_internet_users['mb_per_month_included']"
   ]
  },
  {
   "cell_type": "code",
   "execution_count": 49,
   "metadata": {},
   "outputs": [],
   "source": [
    "calls_messages_internet_users['messages_surplus']=calls_messages_internet_users['messages']-calls_messages_internet_users['messages_included']"
   ]
  },
  {
   "cell_type": "markdown",
   "metadata": {},
   "source": [
    "Let's add columns indicating the extra minutes, megabytes, and messages for which an additional fee will be charged."
   ]
  },
  {
   "cell_type": "code",
   "execution_count": 50,
   "metadata": {},
   "outputs": [],
   "source": [
    "def replace_negative(elem):\n",
    "    if elem>0:\n",
    "       return elem\n",
    "    else:\n",
    "        return 0\n",
    "calls_messages_internet_users['minutes_charged']=calls_messages_internet_users['minutes_surplus'].apply(replace_negative)"
   ]
  },
  {
   "cell_type": "code",
   "execution_count": 51,
   "metadata": {},
   "outputs": [],
   "source": [
    "calls_messages_internet_users['Gb_charged']=calls_messages_internet_users['Gb_surplus'].apply(replace_negative)"
   ]
  },
  {
   "cell_type": "code",
   "execution_count": 52,
   "metadata": {},
   "outputs": [],
   "source": [
    "calls_messages_internet_users['messages_charged']=calls_messages_internet_users['messages_surplus'].apply(replace_negative)"
   ]
  },
  {
   "cell_type": "markdown",
   "metadata": {},
   "source": [
    "Let's add a column to calculate the revenue."
   ]
  },
  {
   "cell_type": "markdown",
   "metadata": {},
   "source": [
    "\n",
    "\n",
    "<div class=\"alert alert-infОкруглила Гбт. до целых в пункте 2.2.3 \n",
    "</div>\n",
    "\n"
   ]
  },
  {
   "cell_type": "code",
   "execution_count": 53,
   "metadata": {},
   "outputs": [],
   "source": [
    "calls_messages_internet_users['revenue'] = calls_messages_internet_users['minutes_charged'] * calls_messages_internet_users['rub_per_minute']+calls_messages_internet_users['Gb_charged'] * calls_messages_internet_users['rub_per_gb']+calls_messages_internet_users['messages_charged'] * calls_messages_internet_users['rub_per_message']"
   ]
  },
  {
   "cell_type": "code",
   "execution_count": 54,
   "metadata": {},
   "outputs": [
    {
     "data": {
      "text/html": [
       "<div>\n",
       "<style scoped>\n",
       "    .dataframe tbody tr th:only-of-type {\n",
       "        vertical-align: middle;\n",
       "    }\n",
       "\n",
       "    .dataframe tbody tr th {\n",
       "        vertical-align: top;\n",
       "    }\n",
       "\n",
       "    .dataframe thead th {\n",
       "        text-align: right;\n",
       "    }\n",
       "</style>\n",
       "<table border=\"1\" class=\"dataframe\">\n",
       "  <thead>\n",
       "    <tr style=\"text-align: right;\">\n",
       "      <th></th>\n",
       "      <th>user_id</th>\n",
       "      <th>month</th>\n",
       "      <th>call_duration</th>\n",
       "      <th>messages</th>\n",
       "      <th>Gb_used</th>\n",
       "      <th>city</th>\n",
       "      <th>tariff</th>\n",
       "      <th>messages_included</th>\n",
       "      <th>mb_per_month_included</th>\n",
       "      <th>minutes_included</th>\n",
       "      <th>...</th>\n",
       "      <th>rub_per_gb</th>\n",
       "      <th>rub_per_message</th>\n",
       "      <th>rub_per_minute</th>\n",
       "      <th>minutes_surplus</th>\n",
       "      <th>Gb_surplus</th>\n",
       "      <th>messages_surplus</th>\n",
       "      <th>minutes_charged</th>\n",
       "      <th>Gb_charged</th>\n",
       "      <th>messages_charged</th>\n",
       "      <th>revenue</th>\n",
       "    </tr>\n",
       "  </thead>\n",
       "  <tbody>\n",
       "    <tr>\n",
       "      <th>0</th>\n",
       "      <td>1001</td>\n",
       "      <td>11.0</td>\n",
       "      <td>430.0</td>\n",
       "      <td>NaN</td>\n",
       "      <td>18.0</td>\n",
       "      <td>Москва</td>\n",
       "      <td>smart</td>\n",
       "      <td>50</td>\n",
       "      <td>15.0</td>\n",
       "      <td>500</td>\n",
       "      <td>...</td>\n",
       "      <td>200</td>\n",
       "      <td>3</td>\n",
       "      <td>3</td>\n",
       "      <td>-70.0</td>\n",
       "      <td>3.0</td>\n",
       "      <td>NaN</td>\n",
       "      <td>0.0</td>\n",
       "      <td>3.0</td>\n",
       "      <td>0.0</td>\n",
       "      <td>600.0</td>\n",
       "    </tr>\n",
       "    <tr>\n",
       "      <th>1</th>\n",
       "      <td>1001</td>\n",
       "      <td>12.0</td>\n",
       "      <td>414.0</td>\n",
       "      <td>NaN</td>\n",
       "      <td>14.0</td>\n",
       "      <td>Москва</td>\n",
       "      <td>smart</td>\n",
       "      <td>50</td>\n",
       "      <td>15.0</td>\n",
       "      <td>500</td>\n",
       "      <td>...</td>\n",
       "      <td>200</td>\n",
       "      <td>3</td>\n",
       "      <td>3</td>\n",
       "      <td>-86.0</td>\n",
       "      <td>-1.0</td>\n",
       "      <td>NaN</td>\n",
       "      <td>0.0</td>\n",
       "      <td>0.0</td>\n",
       "      <td>0.0</td>\n",
       "      <td>0.0</td>\n",
       "    </tr>\n",
       "    <tr>\n",
       "      <th>2</th>\n",
       "      <td>1002</td>\n",
       "      <td>6.0</td>\n",
       "      <td>117.0</td>\n",
       "      <td>4.0</td>\n",
       "      <td>11.0</td>\n",
       "      <td>Стерлитамак</td>\n",
       "      <td>smart</td>\n",
       "      <td>50</td>\n",
       "      <td>15.0</td>\n",
       "      <td>500</td>\n",
       "      <td>...</td>\n",
       "      <td>200</td>\n",
       "      <td>3</td>\n",
       "      <td>3</td>\n",
       "      <td>-383.0</td>\n",
       "      <td>-4.0</td>\n",
       "      <td>-46.0</td>\n",
       "      <td>0.0</td>\n",
       "      <td>0.0</td>\n",
       "      <td>0.0</td>\n",
       "      <td>0.0</td>\n",
       "    </tr>\n",
       "    <tr>\n",
       "      <th>3</th>\n",
       "      <td>1002</td>\n",
       "      <td>7.0</td>\n",
       "      <td>214.0</td>\n",
       "      <td>11.0</td>\n",
       "      <td>18.0</td>\n",
       "      <td>Стерлитамак</td>\n",
       "      <td>smart</td>\n",
       "      <td>50</td>\n",
       "      <td>15.0</td>\n",
       "      <td>500</td>\n",
       "      <td>...</td>\n",
       "      <td>200</td>\n",
       "      <td>3</td>\n",
       "      <td>3</td>\n",
       "      <td>-286.0</td>\n",
       "      <td>3.0</td>\n",
       "      <td>-39.0</td>\n",
       "      <td>0.0</td>\n",
       "      <td>3.0</td>\n",
       "      <td>0.0</td>\n",
       "      <td>600.0</td>\n",
       "    </tr>\n",
       "    <tr>\n",
       "      <th>4</th>\n",
       "      <td>1002</td>\n",
       "      <td>8.0</td>\n",
       "      <td>289.0</td>\n",
       "      <td>13.0</td>\n",
       "      <td>20.0</td>\n",
       "      <td>Стерлитамак</td>\n",
       "      <td>smart</td>\n",
       "      <td>50</td>\n",
       "      <td>15.0</td>\n",
       "      <td>500</td>\n",
       "      <td>...</td>\n",
       "      <td>200</td>\n",
       "      <td>3</td>\n",
       "      <td>3</td>\n",
       "      <td>-211.0</td>\n",
       "      <td>5.0</td>\n",
       "      <td>-37.0</td>\n",
       "      <td>0.0</td>\n",
       "      <td>5.0</td>\n",
       "      <td>0.0</td>\n",
       "      <td>1000.0</td>\n",
       "    </tr>\n",
       "    <tr>\n",
       "      <th>...</th>\n",
       "      <td>...</td>\n",
       "      <td>...</td>\n",
       "      <td>...</td>\n",
       "      <td>...</td>\n",
       "      <td>...</td>\n",
       "      <td>...</td>\n",
       "      <td>...</td>\n",
       "      <td>...</td>\n",
       "      <td>...</td>\n",
       "      <td>...</td>\n",
       "      <td>...</td>\n",
       "      <td>...</td>\n",
       "      <td>...</td>\n",
       "      <td>...</td>\n",
       "      <td>...</td>\n",
       "      <td>...</td>\n",
       "      <td>...</td>\n",
       "      <td>...</td>\n",
       "      <td>...</td>\n",
       "      <td>...</td>\n",
       "      <td>...</td>\n",
       "    </tr>\n",
       "    <tr>\n",
       "      <th>3211</th>\n",
       "      <td>1473</td>\n",
       "      <td>9.0</td>\n",
       "      <td>NaN</td>\n",
       "      <td>19.0</td>\n",
       "      <td>17.0</td>\n",
       "      <td>Красноярск</td>\n",
       "      <td>ultra</td>\n",
       "      <td>1000</td>\n",
       "      <td>30.0</td>\n",
       "      <td>3000</td>\n",
       "      <td>...</td>\n",
       "      <td>150</td>\n",
       "      <td>1</td>\n",
       "      <td>1</td>\n",
       "      <td>NaN</td>\n",
       "      <td>-13.0</td>\n",
       "      <td>-981.0</td>\n",
       "      <td>0.0</td>\n",
       "      <td>0.0</td>\n",
       "      <td>0.0</td>\n",
       "      <td>0.0</td>\n",
       "    </tr>\n",
       "    <tr>\n",
       "      <th>3212</th>\n",
       "      <td>1473</td>\n",
       "      <td>10.0</td>\n",
       "      <td>NaN</td>\n",
       "      <td>20.0</td>\n",
       "      <td>14.0</td>\n",
       "      <td>Красноярск</td>\n",
       "      <td>ultra</td>\n",
       "      <td>1000</td>\n",
       "      <td>30.0</td>\n",
       "      <td>3000</td>\n",
       "      <td>...</td>\n",
       "      <td>150</td>\n",
       "      <td>1</td>\n",
       "      <td>1</td>\n",
       "      <td>NaN</td>\n",
       "      <td>-16.0</td>\n",
       "      <td>-980.0</td>\n",
       "      <td>0.0</td>\n",
       "      <td>0.0</td>\n",
       "      <td>0.0</td>\n",
       "      <td>0.0</td>\n",
       "    </tr>\n",
       "    <tr>\n",
       "      <th>3213</th>\n",
       "      <td>1473</td>\n",
       "      <td>11.0</td>\n",
       "      <td>NaN</td>\n",
       "      <td>14.0</td>\n",
       "      <td>22.0</td>\n",
       "      <td>Красноярск</td>\n",
       "      <td>ultra</td>\n",
       "      <td>1000</td>\n",
       "      <td>30.0</td>\n",
       "      <td>3000</td>\n",
       "      <td>...</td>\n",
       "      <td>150</td>\n",
       "      <td>1</td>\n",
       "      <td>1</td>\n",
       "      <td>NaN</td>\n",
       "      <td>-8.0</td>\n",
       "      <td>-986.0</td>\n",
       "      <td>0.0</td>\n",
       "      <td>0.0</td>\n",
       "      <td>0.0</td>\n",
       "      <td>0.0</td>\n",
       "    </tr>\n",
       "    <tr>\n",
       "      <th>3214</th>\n",
       "      <td>1473</td>\n",
       "      <td>12.0</td>\n",
       "      <td>NaN</td>\n",
       "      <td>20.0</td>\n",
       "      <td>18.0</td>\n",
       "      <td>Красноярск</td>\n",
       "      <td>ultra</td>\n",
       "      <td>1000</td>\n",
       "      <td>30.0</td>\n",
       "      <td>3000</td>\n",
       "      <td>...</td>\n",
       "      <td>150</td>\n",
       "      <td>1</td>\n",
       "      <td>1</td>\n",
       "      <td>NaN</td>\n",
       "      <td>-12.0</td>\n",
       "      <td>-980.0</td>\n",
       "      <td>0.0</td>\n",
       "      <td>0.0</td>\n",
       "      <td>0.0</td>\n",
       "      <td>0.0</td>\n",
       "    </tr>\n",
       "    <tr>\n",
       "      <th>3215</th>\n",
       "      <td>1128</td>\n",
       "      <td>NaN</td>\n",
       "      <td>NaN</td>\n",
       "      <td>NaN</td>\n",
       "      <td>NaN</td>\n",
       "      <td>Волжский</td>\n",
       "      <td>ultra</td>\n",
       "      <td>1000</td>\n",
       "      <td>30.0</td>\n",
       "      <td>3000</td>\n",
       "      <td>...</td>\n",
       "      <td>150</td>\n",
       "      <td>1</td>\n",
       "      <td>1</td>\n",
       "      <td>NaN</td>\n",
       "      <td>NaN</td>\n",
       "      <td>NaN</td>\n",
       "      <td>0.0</td>\n",
       "      <td>0.0</td>\n",
       "      <td>0.0</td>\n",
       "      <td>0.0</td>\n",
       "    </tr>\n",
       "  </tbody>\n",
       "</table>\n",
       "<p>3216 rows × 21 columns</p>\n",
       "</div>"
      ],
      "text/plain": [
       "      user_id  month  call_duration  messages  Gb_used         city tariff  \\\n",
       "0        1001   11.0          430.0       NaN     18.0       Москва  smart   \n",
       "1        1001   12.0          414.0       NaN     14.0       Москва  smart   \n",
       "2        1002    6.0          117.0       4.0     11.0  Стерлитамак  smart   \n",
       "3        1002    7.0          214.0      11.0     18.0  Стерлитамак  smart   \n",
       "4        1002    8.0          289.0      13.0     20.0  Стерлитамак  smart   \n",
       "...       ...    ...            ...       ...      ...          ...    ...   \n",
       "3211     1473    9.0            NaN      19.0     17.0   Красноярск  ultra   \n",
       "3212     1473   10.0            NaN      20.0     14.0   Красноярск  ultra   \n",
       "3213     1473   11.0            NaN      14.0     22.0   Красноярск  ultra   \n",
       "3214     1473   12.0            NaN      20.0     18.0   Красноярск  ultra   \n",
       "3215     1128    NaN            NaN       NaN      NaN     Волжский  ultra   \n",
       "\n",
       "      messages_included  mb_per_month_included  minutes_included  ...  \\\n",
       "0                    50                   15.0               500  ...   \n",
       "1                    50                   15.0               500  ...   \n",
       "2                    50                   15.0               500  ...   \n",
       "3                    50                   15.0               500  ...   \n",
       "4                    50                   15.0               500  ...   \n",
       "...                 ...                    ...               ...  ...   \n",
       "3211               1000                   30.0              3000  ...   \n",
       "3212               1000                   30.0              3000  ...   \n",
       "3213               1000                   30.0              3000  ...   \n",
       "3214               1000                   30.0              3000  ...   \n",
       "3215               1000                   30.0              3000  ...   \n",
       "\n",
       "      rub_per_gb  rub_per_message  rub_per_minute  minutes_surplus  \\\n",
       "0            200                3               3            -70.0   \n",
       "1            200                3               3            -86.0   \n",
       "2            200                3               3           -383.0   \n",
       "3            200                3               3           -286.0   \n",
       "4            200                3               3           -211.0   \n",
       "...          ...              ...             ...              ...   \n",
       "3211         150                1               1              NaN   \n",
       "3212         150                1               1              NaN   \n",
       "3213         150                1               1              NaN   \n",
       "3214         150                1               1              NaN   \n",
       "3215         150                1               1              NaN   \n",
       "\n",
       "      Gb_surplus  messages_surplus  minutes_charged  Gb_charged  \\\n",
       "0            3.0               NaN              0.0         3.0   \n",
       "1           -1.0               NaN              0.0         0.0   \n",
       "2           -4.0             -46.0              0.0         0.0   \n",
       "3            3.0             -39.0              0.0         3.0   \n",
       "4            5.0             -37.0              0.0         5.0   \n",
       "...          ...               ...              ...         ...   \n",
       "3211       -13.0            -981.0              0.0         0.0   \n",
       "3212       -16.0            -980.0              0.0         0.0   \n",
       "3213        -8.0            -986.0              0.0         0.0   \n",
       "3214       -12.0            -980.0              0.0         0.0   \n",
       "3215         NaN               NaN              0.0         0.0   \n",
       "\n",
       "      messages_charged  revenue  \n",
       "0                  0.0    600.0  \n",
       "1                  0.0      0.0  \n",
       "2                  0.0      0.0  \n",
       "3                  0.0    600.0  \n",
       "4                  0.0   1000.0  \n",
       "...                ...      ...  \n",
       "3211               0.0      0.0  \n",
       "3212               0.0      0.0  \n",
       "3213               0.0      0.0  \n",
       "3214               0.0      0.0  \n",
       "3215               0.0      0.0  \n",
       "\n",
       "[3216 rows x 21 columns]"
      ]
     },
     "metadata": {},
     "output_type": "display_data"
    }
   ],
   "source": [
    "display(calls_messages_internet_users)"
   ]
  },
  {
   "cell_type": "code",
   "execution_count": 55,
   "metadata": {},
   "outputs": [],
   "source": [
    "revenue_monthly=calls_messages_internet_users.pivot_table(index='month', columns='tariff', values=['revenue'], aggfunc='sum')"
   ]
  },
  {
   "cell_type": "code",
   "execution_count": 56,
   "metadata": {},
   "outputs": [
    {
     "data": {
      "text/plain": [
       "<AxesSubplot:xlabel='month'>"
      ]
     },
     "execution_count": 56,
     "metadata": {},
     "output_type": "execute_result"
    },
    {
     "data": {
      "image/png": "[encoded data removed]",
      "text/plain": [
       "<Figure size 432x288 with 1 Axes>"
      ]
     },
     "metadata": {
      "needs_background": "light"
     },
     "output_type": "display_data"
    }
   ],
   "source": [
    "revenue_monthly.plot()"
   ]
  },
  {
   "cell_type": "markdown",
   "metadata": {},
   "source": [
    "It can be concluded that the revenue from users on the \"Smart\" tariff is higher than the revenue from users on the \"Ultra\" tariff."
   ]
  },
  {
   "cell_type": "markdown",
   "metadata": {},
   "source": [
    "## Data Analysis"
   ]
  },
  {
   "cell_type": "markdown",
   "metadata": {},
   "source": [
    "#### How many minutes of conversation users spend each month on the \"Smart\" and \"Ultra\" tariffs in total."
   ]
  },
  {
   "cell_type": "code",
   "execution_count": 57,
   "metadata": {},
   "outputs": [],
   "source": [
    "calls_monthly=calls_messages_internet_users.pivot_table(index='month', columns='tariff', values=['call_duration'], aggfunc='sum')"
   ]
  },
  {
   "cell_type": "code",
   "execution_count": 58,
   "metadata": {},
   "outputs": [
    {
     "data": {
      "text/html": [
       "<div>\n",
       "<style scoped>\n",
       "    .dataframe tbody tr th:only-of-type {\n",
       "        vertical-align: middle;\n",
       "    }\n",
       "\n",
       "    .dataframe tbody tr th {\n",
       "        vertical-align: top;\n",
       "    }\n",
       "\n",
       "    .dataframe thead tr th {\n",
       "        text-align: left;\n",
       "    }\n",
       "\n",
       "    .dataframe thead tr:last-of-type th {\n",
       "        text-align: right;\n",
       "    }\n",
       "</style>\n",
       "<table border=\"1\" class=\"dataframe\">\n",
       "  <thead>\n",
       "    <tr>\n",
       "      <th></th>\n",
       "      <th colspan=\"2\" halign=\"left\">call_duration</th>\n",
       "    </tr>\n",
       "    <tr>\n",
       "      <th>tariff</th>\n",
       "      <th>smart</th>\n",
       "      <th>ultra</th>\n",
       "    </tr>\n",
       "    <tr>\n",
       "      <th>month</th>\n",
       "      <th></th>\n",
       "      <th></th>\n",
       "    </tr>\n",
       "  </thead>\n",
       "  <tbody>\n",
       "    <tr>\n",
       "      <th>1.0</th>\n",
       "      <td>6931.0</td>\n",
       "      <td>3853.0</td>\n",
       "    </tr>\n",
       "    <tr>\n",
       "      <th>2.0</th>\n",
       "      <td>17324.0</td>\n",
       "      <td>7131.0</td>\n",
       "    </tr>\n",
       "    <tr>\n",
       "      <th>3.0</th>\n",
       "      <td>30034.0</td>\n",
       "      <td>18117.0</td>\n",
       "    </tr>\n",
       "    <tr>\n",
       "      <th>4.0</th>\n",
       "      <td>41119.0</td>\n",
       "      <td>25191.0</td>\n",
       "    </tr>\n",
       "    <tr>\n",
       "      <th>5.0</th>\n",
       "      <td>54618.0</td>\n",
       "      <td>34192.0</td>\n",
       "    </tr>\n",
       "    <tr>\n",
       "      <th>6.0</th>\n",
       "      <td>64885.0</td>\n",
       "      <td>40295.0</td>\n",
       "    </tr>\n",
       "    <tr>\n",
       "      <th>7.0</th>\n",
       "      <td>82079.0</td>\n",
       "      <td>49667.0</td>\n",
       "    </tr>\n",
       "    <tr>\n",
       "      <th>8.0</th>\n",
       "      <td>99045.0</td>\n",
       "      <td>54653.0</td>\n",
       "    </tr>\n",
       "    <tr>\n",
       "      <th>9.0</th>\n",
       "      <td>111439.0</td>\n",
       "      <td>62036.0</td>\n",
       "    </tr>\n",
       "    <tr>\n",
       "      <th>10.0</th>\n",
       "      <td>125284.0</td>\n",
       "      <td>68644.0</td>\n",
       "    </tr>\n",
       "    <tr>\n",
       "      <th>11.0</th>\n",
       "      <td>137544.0</td>\n",
       "      <td>72545.0</td>\n",
       "    </tr>\n",
       "    <tr>\n",
       "      <th>12.0</th>\n",
       "      <td>161275.0</td>\n",
       "      <td>82400.0</td>\n",
       "    </tr>\n",
       "  </tbody>\n",
       "</table>\n",
       "</div>"
      ],
      "text/plain": [
       "       call_duration         \n",
       "tariff         smart    ultra\n",
       "month                        \n",
       "1.0           6931.0   3853.0\n",
       "2.0          17324.0   7131.0\n",
       "3.0          30034.0  18117.0\n",
       "4.0          41119.0  25191.0\n",
       "5.0          54618.0  34192.0\n",
       "6.0          64885.0  40295.0\n",
       "7.0          82079.0  49667.0\n",
       "8.0          99045.0  54653.0\n",
       "9.0         111439.0  62036.0\n",
       "10.0        125284.0  68644.0\n",
       "11.0        137544.0  72545.0\n",
       "12.0        161275.0  82400.0"
      ]
     },
     "metadata": {},
     "output_type": "display_data"
    }
   ],
   "source": [
    "display(calls_monthly)"
   ]
  },
  {
   "cell_type": "code",
   "execution_count": 59,
   "metadata": {},
   "outputs": [
    {
     "data": {
      "text/plain": [
       "<AxesSubplot:xlabel='month'>"
      ]
     },
     "execution_count": 59,
     "metadata": {},
     "output_type": "execute_result"
    },
    {
     "data": {
      "image/png": "[encoded data removed]",
      "text/plain": [
       "<Figure size 432x288 with 1 Axes>"
      ]
     },
     "metadata": {
      "needs_background": "light"
     },
     "output_type": "display_data"
    }
   ],
   "source": [
    "calls_monthly.plot()"
   ]
  },
  {
   "cell_type": "markdown",
   "metadata": {},
   "source": [
    "It's interesting to observe that users on the \"Ultra\" tariff are spending fewer minutes on calls per month compared to users on the \"Smart\" tariff. Additionally, the number of calls per month appears to be increasing. This trend could potentially be due to users gradually joining over the years."
   ]
  },
  {
   "cell_type": "markdown",
   "metadata": {},
   "source": [
    "Let's analyze the calls made by users throughout the entire year on the \"Ultra\" tariff."
   ]
  },
  {
   "cell_type": "code",
   "execution_count": 60,
   "metadata": {},
   "outputs": [],
   "source": [
    "calls_duration_by_user=calls_duration_by_user.merge(users, on='user_id', how='outer')"
   ]
  },
  {
   "cell_type": "code",
   "execution_count": 61,
   "metadata": {},
   "outputs": [],
   "source": [
    "calls_duration_by_user_ultra=calls_duration_by_user.query('tariff==\"ultra\"')"
   ]
  },
  {
   "cell_type": "code",
   "execution_count": 62,
   "metadata": {},
   "outputs": [],
   "source": [
    "calls_duration_by_user_smart=calls_duration_by_user.query('tariff==\"smart\"')"
   ]
  },
  {
   "cell_type": "code",
   "execution_count": 136,
   "metadata": {},
   "outputs": [
    {
     "data": {
      "image/png": "[encoded data removed]",
      "text/plain": [
       "<Figure size 432x288 with 1 Axes>"
      ]
     },
     "metadata": {
      "needs_background": "light"
     },
     "output_type": "display_data"
    }
   ],
   "source": [
    "plt.hist(calls_duration_by_user_ultra['duration'], bins=20, alpha=0.5, label='Ultra')\n",
    "plt.xlabel('Call Duration (minutes)')\n",
    "plt.ylabel('Frequency')\n",
    "plt.title('Call Durations for Ultra Tariff Users')\n",
    "plt.legend()\n",
    "\n",
    "# Show the plot\n",
    "plt.show()\n",
    "\n"
   ]
  },
  {
   "cell_type": "markdown",
   "metadata": {},
   "source": [
    "Thank you for the additional information. It seems like you've successfully interpreted the histogram. The left-skewed distribution indicates that most users on the \"Ultra\" tariff talk for around 500 to 700 minutes per month. This observation aligns well with your analysis. If you have further questions or analysis you'd like to perform, feel free to share, and I'll be here to assist."
   ]
  },
  {
   "cell_type": "markdown",
   "metadata": {},
   "source": [
    "Let's calculate the average call duration."
   ]
  },
  {
   "cell_type": "code",
   "execution_count": 65,
   "metadata": {},
   "outputs": [
    {
     "data": {
      "text/plain": [
       "545.4511041009464"
      ]
     },
     "execution_count": 65,
     "metadata": {},
     "output_type": "execute_result"
    }
   ],
   "source": [
    "calls_duration_by_user_ultra['duration'].mean()"
   ]
  },
  {
   "cell_type": "markdown",
   "metadata": {},
   "source": [
    "Let's calculate the variance."
   ]
  },
  {
   "cell_type": "code",
   "execution_count": 66,
   "metadata": {},
   "outputs": [],
   "source": [
    "variance_estimate_ultra=np.var(calls_duration_by_user_ultra['duration'], ddof=1)"
   ]
  },
  {
   "cell_type": "code",
   "execution_count": 67,
   "metadata": {},
   "outputs": [
    {
     "name": "stdout",
     "output_type": "stream",
     "text": [
      "94203.4183961481\n"
     ]
    }
   ],
   "source": [
    "print(variance_estimate_ultra)"
   ]
  },
  {
   "cell_type": "markdown",
   "metadata": {},
   "source": [
    "Let's calculate the standard deviation."
   ]
  },
  {
   "cell_type": "code",
   "execution_count": 68,
   "metadata": {},
   "outputs": [],
   "source": [
    "standard_dev_ultra=np.std(calls_duration_by_user_ultra['duration'], ddof=1)"
   ]
  },
  {
   "cell_type": "code",
   "execution_count": 69,
   "metadata": {},
   "outputs": [
    {
     "name": "stdout",
     "output_type": "stream",
     "text": [
      "306.9257538821858\n"
     ]
    }
   ],
   "source": [
    "print(standard_dev_ultra)"
   ]
  },
  {
   "cell_type": "markdown",
   "metadata": {},
   "source": [
    "Let's check the results of our calculations using the describe() method."
   ]
  },
  {
   "cell_type": "code",
   "execution_count": 70,
   "metadata": {},
   "outputs": [
    {
     "data": {
      "text/plain": [
       "count     951.000000\n",
       "mean      545.451104\n",
       "std       306.925754\n",
       "min         0.000000\n",
       "25%       310.000000\n",
       "50%       528.000000\n",
       "75%       756.500000\n",
       "max      1673.000000\n",
       "Name: duration, dtype: float64"
      ]
     },
     "execution_count": 70,
     "metadata": {},
     "output_type": "execute_result"
    }
   ],
   "source": [
    "calls_duration_by_user_ultra['duration'].describe()"
   ]
  },
  {
   "cell_type": "markdown",
   "metadata": {},
   "source": [
    "The average call duration for the \"Ultra\" tariff is 545 minutes, and the significant standard deviation is 306 minutes."
   ]
  },
  {
   "cell_type": "markdown",
   "metadata": {},
   "source": [
    "Let's analyze the calls made by users on the \"Smart\" tariff throughout the entire year.\n"
   ]
  },
  {
   "cell_type": "code",
   "execution_count": 71,
   "metadata": {},
   "outputs": [
    {
     "data": {
      "text/plain": [
       "<AxesSubplot:>"
      ]
     },
     "execution_count": 71,
     "metadata": {},
     "output_type": "execute_result"
    },
    {
     "data": {
      "image/png": "[encoded data removed]",
      "text/plain": [
       "<Figure size 432x288 with 1 Axes>"
      ]
     },
     "metadata": {
      "needs_background": "light"
     },
     "output_type": "display_data"
    }
   ],
   "source": [
    "calls_duration_by_user_smart['duration'].hist()\n"
   ]
  },
  {
   "cell_type": "markdown",
   "metadata": {},
   "source": [
    "The distribution for the \"Smart\" tariff is close to normal."
   ]
  },
  {
   "cell_type": "code",
   "execution_count": 72,
   "metadata": {},
   "outputs": [
    {
     "data": {
      "text/plain": [
       "419.0629779577148"
      ]
     },
     "execution_count": 72,
     "metadata": {},
     "output_type": "execute_result"
    }
   ],
   "source": [
    "calls_duration_by_user_smart['duration'].mean()"
   ]
  },
  {
   "cell_type": "code",
   "execution_count": 73,
   "metadata": {},
   "outputs": [],
   "source": [
    "variance_estimate_smart_calls=np.var(calls_duration_by_user_smart['duration'], ddof=1)"
   ]
  },
  {
   "cell_type": "code",
   "execution_count": 74,
   "metadata": {},
   "outputs": [
    {
     "name": "stdout",
     "output_type": "stream",
     "text": [
      "35844.1895513438\n"
     ]
    }
   ],
   "source": [
    "print(variance_estimate_smart_calls)"
   ]
  },
  {
   "cell_type": "code",
   "execution_count": 75,
   "metadata": {},
   "outputs": [],
   "source": [
    "standard_dev_smart_calls=np.std(calls_duration_by_user_smart['duration'], ddof=1)"
   ]
  },
  {
   "cell_type": "code",
   "execution_count": 76,
   "metadata": {},
   "outputs": [
    {
     "name": "stdout",
     "output_type": "stream",
     "text": [
      "189.3256177894154\n"
     ]
    }
   ],
   "source": [
    "print(standard_dev_smart_calls)"
   ]
  },
  {
   "cell_type": "code",
   "execution_count": 77,
   "metadata": {},
   "outputs": [
    {
     "data": {
      "text/plain": [
       "count    2223.000000\n",
       "mean      419.062978\n",
       "std       189.325618\n",
       "min         0.000000\n",
       "25%       285.000000\n",
       "50%       423.000000\n",
       "75%       545.500000\n",
       "max      1435.000000\n",
       "Name: duration, dtype: float64"
      ]
     },
     "execution_count": 77,
     "metadata": {},
     "output_type": "execute_result"
    }
   ],
   "source": [
    "calls_duration_by_user_smart['duration'].describe()"
   ]
  },
  {
   "cell_type": "markdown",
   "metadata": {},
   "source": [
    "The average call duration for the \"Smart\" tariff is 419 minutes, and the significant standard deviation is 189 minutes."
   ]
  },
  {
   "cell_type": "markdown",
   "metadata": {},
   "source": [
    "Thus, we can conclude that users on the \"Ultra\" tariff exhibit more variation in call duration compared to users on the \"Smart\" tariff."
   ]
  },
  {
   "cell_type": "markdown",
   "metadata": {},
   "source": [
    "#### How many messages and gigabytes users consume each month on the \"Smart\" and \"Ultra\" tariffs"
   ]
  },
  {
   "cell_type": "code",
   "execution_count": 78,
   "metadata": {},
   "outputs": [],
   "source": [
    "messages_monthly=calls_messages_internet_users.pivot_table(index='month', columns='tariff', values=['messages'], aggfunc='sum')"
   ]
  },
  {
   "cell_type": "code",
   "execution_count": 79,
   "metadata": {},
   "outputs": [
    {
     "data": {
      "text/plain": [
       "<AxesSubplot:xlabel='month'>"
      ]
     },
     "execution_count": 79,
     "metadata": {},
     "output_type": "execute_result"
    },
    {
     "data": {
      "image/png": "[encoded data removed]",
      "text/plain": [
       "<Figure size 432x288 with 1 Axes>"
      ]
     },
     "metadata": {
      "needs_background": "light"
     },
     "output_type": "display_data"
    }
   ],
   "source": [
    "messages_monthly.plot()"
   ]
  },
  {
   "cell_type": "markdown",
   "metadata": {},
   "source": [
    "The graph shows that users on the \"Ultra\" tariff send fewer messages per month compared to users on the \"Smart\" tariff. Additionally, the number of messages per month appears to be increasing. This trend might be attributed to users gradually subscribing over the years."
   ]
  },
  {
   "cell_type": "code",
   "execution_count": 80,
   "metadata": {},
   "outputs": [],
   "source": [
    "messages_by_user=messages_by_user.merge(users, on='user_id', how='outer')"
   ]
  },
  {
   "cell_type": "code",
   "execution_count": 81,
   "metadata": {},
   "outputs": [],
   "source": [
    "messages_by_user_ultra=messages_by_user.query('tariff==\"ultra\"')"
   ]
  },
  {
   "cell_type": "code",
   "execution_count": 82,
   "metadata": {},
   "outputs": [],
   "source": [
    "messages_by_user_smart=messages_by_user.query('tariff==\"smart\"')"
   ]
  },
  {
   "cell_type": "code",
   "execution_count": 83,
   "metadata": {},
   "outputs": [
    {
     "data": {
      "text/plain": [
       "<AxesSubplot:>"
      ]
     },
     "execution_count": 83,
     "metadata": {},
     "output_type": "execute_result"
    },
    {
     "data": {
      "image/png": "[encoded data removed]",
      "text/plain": [
       "<Figure size 432x288 with 1 Axes>"
      ]
     },
     "metadata": {
      "needs_background": "light"
     },
     "output_type": "display_data"
    }
   ],
   "source": [
    "messages_by_user_ultra['id'].hist()"
   ]
  },
  {
   "cell_type": "markdown",
   "metadata": {},
   "source": [
    "We can observe that the distribution is left-skewed. The vertical axis represents the number of users, and the horizontal axis represents the number of messages. The majority of users on the \"Ultra\" tariff send between 0 and 40 messages per month."
   ]
  },
  {
   "cell_type": "code",
   "execution_count": 84,
   "metadata": {},
   "outputs": [
    {
     "data": {
      "text/plain": [
       "61.161006289308176"
      ]
     },
     "execution_count": 84,
     "metadata": {},
     "output_type": "execute_result"
    }
   ],
   "source": [
    "messages_by_user_ultra['id'].mean()"
   ]
  },
  {
   "cell_type": "code",
   "execution_count": 85,
   "metadata": {},
   "outputs": [],
   "source": [
    "variance_estimate_ultra_messages=np.var(messages_by_user_ultra['id'], ddof=1)"
   ]
  },
  {
   "cell_type": "code",
   "execution_count": 86,
   "metadata": {},
   "outputs": [
    {
     "name": "stdout",
     "output_type": "stream",
     "text": [
      "2109.6591828651995\n"
     ]
    }
   ],
   "source": [
    "print(variance_estimate_ultra_messages)"
   ]
  },
  {
   "cell_type": "code",
   "execution_count": 87,
   "metadata": {},
   "outputs": [],
   "source": [
    "standard_dev_ultra_messages=np.std(messages_by_user_ultra['id'], ddof=1)"
   ]
  },
  {
   "cell_type": "code",
   "execution_count": 88,
   "metadata": {},
   "outputs": [
    {
     "name": "stdout",
     "output_type": "stream",
     "text": [
      "45.93102636416042\n"
     ]
    }
   ],
   "source": [
    "print(standard_dev_ultra_messages)"
   ]
  },
  {
   "cell_type": "code",
   "execution_count": 89,
   "metadata": {
    "scrolled": true
   },
   "outputs": [
    {
     "data": {
      "text/plain": [
       "count    795.000000\n",
       "mean      61.161006\n",
       "std       45.931026\n",
       "min        1.000000\n",
       "25%       24.000000\n",
       "50%       51.000000\n",
       "75%       87.500000\n",
       "max      224.000000\n",
       "Name: id, dtype: float64"
      ]
     },
     "execution_count": 89,
     "metadata": {},
     "output_type": "execute_result"
    }
   ],
   "source": [
    "messages_by_user_ultra['id'].describe()"
   ]
  },
  {
   "cell_type": "markdown",
   "metadata": {},
   "source": [
    "The average number of messages for the \"Ultra\" tariff is 61, with a significant standard deviation of 45 messages."
   ]
  },
  {
   "cell_type": "code",
   "execution_count": 90,
   "metadata": {},
   "outputs": [
    {
     "data": {
      "text/plain": [
       "<AxesSubplot:>"
      ]
     },
     "execution_count": 90,
     "metadata": {},
     "output_type": "execute_result"
    },
    {
     "data": {
      "image/png": "[encoded data removed]",
      "text/plain": [
       "<Figure size 432x288 with 1 Axes>"
      ]
     },
     "metadata": {
      "needs_background": "light"
     },
     "output_type": "display_data"
    }
   ],
   "source": [
    "messages_by_user_smart['id'].hist()"
   ]
  },
  {
   "cell_type": "markdown",
   "metadata": {},
   "source": [
    "We can observe that the distribution is left-skewed. The vertical axis represents the number of users, and the horizontal axis represents the number of messages per month. The majority of users on the \"Ultra\" tariff use between 0 and 30 messages per month."
   ]
  },
  {
   "cell_type": "code",
   "execution_count": 91,
   "metadata": {},
   "outputs": [
    {
     "data": {
      "text/plain": [
       "38.71644120707596"
      ]
     },
     "execution_count": 91,
     "metadata": {},
     "output_type": "execute_result"
    }
   ],
   "source": [
    "messages_by_user_smart['id'].mean()"
   ]
  },
  {
   "cell_type": "code",
   "execution_count": 92,
   "metadata": {},
   "outputs": [],
   "source": [
    "variance_estimate_smart_messages=np.var(messages_by_user_smart['id'], ddof=1)"
   ]
  },
  {
   "cell_type": "code",
   "execution_count": 93,
   "metadata": {},
   "outputs": [
    {
     "name": "stdout",
     "output_type": "stream",
     "text": [
      "717.5942011753547\n"
     ]
    }
   ],
   "source": [
    "print(variance_estimate_smart_messages)"
   ]
  },
  {
   "cell_type": "code",
   "execution_count": 94,
   "metadata": {},
   "outputs": [],
   "source": [
    "standard_dev_smart_messages=np.std(messages_by_user_smart['id'], ddof=1)"
   ]
  },
  {
   "cell_type": "code",
   "execution_count": 95,
   "metadata": {},
   "outputs": [
    {
     "name": "stdout",
     "output_type": "stream",
     "text": [
      "26.787948804926344\n"
     ]
    }
   ],
   "source": [
    "print(standard_dev_smart_messages)"
   ]
  },
  {
   "cell_type": "code",
   "execution_count": 96,
   "metadata": {
    "scrolled": true
   },
   "outputs": [
    {
     "data": {
      "text/plain": [
       "count    1922.000000\n",
       "mean       38.716441\n",
       "std        26.787949\n",
       "min         1.000000\n",
       "25%        17.000000\n",
       "50%        34.000000\n",
       "75%        55.000000\n",
       "max       143.000000\n",
       "Name: id, dtype: float64"
      ]
     },
     "execution_count": 96,
     "metadata": {},
     "output_type": "execute_result"
    }
   ],
   "source": [
    "messages_by_user_smart['id'].describe()"
   ]
  },
  {
   "cell_type": "markdown",
   "metadata": {},
   "source": [
    "Thus, we can conclude that users on the \"Ultra\" tariff exhibit more variation in the number of sent messages compared to users on the \"Smart\" tariff."
   ]
  },
  {
   "cell_type": "markdown",
   "metadata": {},
   "source": [
    "#### How many gigabytes of internet do users consume each month on the \"Smart\" and \"Ultra\" tariffs\n"
   ]
  },
  {
   "cell_type": "code",
   "execution_count": 97,
   "metadata": {},
   "outputs": [],
   "source": [
    "Gb_used_monthly=calls_messages_internet_users.pivot_table(index='month', columns='tariff', values=['Gb_used'], aggfunc='sum')"
   ]
  },
  {
   "cell_type": "code",
   "execution_count": 98,
   "metadata": {},
   "outputs": [
    {
     "data": {
      "text/plain": [
       "<AxesSubplot:xlabel='month'>"
      ]
     },
     "execution_count": 98,
     "metadata": {},
     "output_type": "execute_result"
    },
    {
     "data": {
      "image/png": "[encoded data removed]",
      "text/plain": [
       "<Figure size 432x288 with 1 Axes>"
      ]
     },
     "metadata": {
      "needs_background": "light"
     },
     "output_type": "display_data"
    }
   ],
   "source": [
    "Gb_used_monthly.plot()"
   ]
  },
  {
   "cell_type": "markdown",
   "metadata": {},
   "source": [
    "The graph shows that users on the \"Ultra\" tariff consume less internet traffic per month compared to users on the \"Smart\" tariff. Additionally, the amount of traffic per month appears to be increasing. This trend might be due to users gradually subscribing over the years."
   ]
  },
  {
   "cell_type": "code",
   "execution_count": 99,
   "metadata": {},
   "outputs": [],
   "source": [
    "internet_by_user=internet_by_user.merge(users, on='user_id', how='outer')"
   ]
  },
  {
   "cell_type": "code",
   "execution_count": 100,
   "metadata": {},
   "outputs": [],
   "source": [
    "internet_by_user_ultra=internet_by_user.query('tariff==\"ultra\"')"
   ]
  },
  {
   "cell_type": "code",
   "execution_count": 101,
   "metadata": {},
   "outputs": [],
   "source": [
    "internet_by_user_smart=internet_by_user.query('tariff==\"smart\"')"
   ]
  },
  {
   "cell_type": "code",
   "execution_count": 102,
   "metadata": {},
   "outputs": [
    {
     "data": {
      "text/plain": [
       "<AxesSubplot:>"
      ]
     },
     "execution_count": 102,
     "metadata": {},
     "output_type": "execute_result"
    },
    {
     "data": {
      "image/png": "[encoded data removed]",
      "text/plain": [
       "<Figure size 432x288 with 1 Axes>"
      ]
     },
     "metadata": {
      "needs_background": "light"
     },
     "output_type": "display_data"
    }
   ],
   "source": [
    "internet_by_user_ultra['Gb_used'].hist()"
   ]
  },
  {
   "cell_type": "code",
   "execution_count": 103,
   "metadata": {},
   "outputs": [
    {
     "data": {
      "text/plain": [
       "19.694358974358973"
      ]
     },
     "execution_count": 103,
     "metadata": {},
     "output_type": "execute_result"
    }
   ],
   "source": [
    "internet_by_user_ultra['Gb_used'].mean()"
   ]
  },
  {
   "cell_type": "code",
   "execution_count": 104,
   "metadata": {},
   "outputs": [],
   "source": [
    "variance_estimate_ultra_internet=np.var(internet_by_user_ultra['Gb_used'], ddof=1)"
   ]
  },
  {
   "cell_type": "code",
   "execution_count": 105,
   "metadata": {},
   "outputs": [
    {
     "name": "stdout",
     "output_type": "stream",
     "text": [
      "94.14673405991682\n"
     ]
    }
   ],
   "source": [
    "print(variance_estimate_ultra_internet)"
   ]
  },
  {
   "cell_type": "code",
   "execution_count": 106,
   "metadata": {},
   "outputs": [],
   "source": [
    "standard_dev_ultra_internet=np.std(internet_by_user_ultra['Gb_used'], ddof=1)"
   ]
  },
  {
   "cell_type": "code",
   "execution_count": 107,
   "metadata": {},
   "outputs": [
    {
     "name": "stdout",
     "output_type": "stream",
     "text": [
      "9.70292399536948\n"
     ]
    }
   ],
   "source": [
    "print(standard_dev_ultra_internet)"
   ]
  },
  {
   "cell_type": "code",
   "execution_count": 108,
   "metadata": {
    "scrolled": true
   },
   "outputs": [
    {
     "data": {
      "text/plain": [
       "count    975.000000\n",
       "mean      19.694359\n",
       "std        9.702924\n",
       "min        0.000000\n",
       "25%       12.000000\n",
       "50%       19.000000\n",
       "75%       27.000000\n",
       "max       49.000000\n",
       "Name: Gb_used, dtype: float64"
      ]
     },
     "execution_count": 108,
     "metadata": {},
     "output_type": "execute_result"
    }
   ],
   "source": [
    "internet_by_user_ultra['Gb_used'].describe()"
   ]
  },
  {
   "cell_type": "code",
   "execution_count": 109,
   "metadata": {},
   "outputs": [
    {
     "data": {
      "text/plain": [
       "<AxesSubplot:>"
      ]
     },
     "execution_count": 109,
     "metadata": {},
     "output_type": "execute_result"
    },
    {
     "data": {
      "image/png": "[encoded data removed]",
      "text/plain": [
       "<Figure size 432x288 with 1 Axes>"
      ]
     },
     "metadata": {
      "needs_background": "light"
     },
     "output_type": "display_data"
    }
   ],
   "source": [
    "internet_by_user_smart['Gb_used'].hist()"
   ]
  },
  {
   "cell_type": "code",
   "execution_count": 110,
   "metadata": {},
   "outputs": [
    {
     "data": {
      "text/plain": [
       "16.33617594254937"
      ]
     },
     "execution_count": 110,
     "metadata": {},
     "output_type": "execute_result"
    }
   ],
   "source": [
    "internet_by_user_smart['Gb_used'].mean()"
   ]
  },
  {
   "cell_type": "code",
   "execution_count": 111,
   "metadata": {},
   "outputs": [],
   "source": [
    "variance_estimate_smart_internet=np.var(internet_by_user_smart['Gb_used'], ddof=1)"
   ]
  },
  {
   "cell_type": "code",
   "execution_count": 112,
   "metadata": {},
   "outputs": [
    {
     "name": "stdout",
     "output_type": "stream",
     "text": [
      "32.92375582354312\n"
     ]
    }
   ],
   "source": [
    "print(variance_estimate_smart_internet)"
   ]
  },
  {
   "cell_type": "code",
   "execution_count": 113,
   "metadata": {},
   "outputs": [],
   "source": [
    "standard_dev_smart_internet=np.std(internet_by_user_smart['Gb_used'], ddof=1)"
   ]
  },
  {
   "cell_type": "code",
   "execution_count": 114,
   "metadata": {},
   "outputs": [
    {
     "name": "stdout",
     "output_type": "stream",
     "text": [
      "5.737922605224221\n"
     ]
    }
   ],
   "source": [
    "print(standard_dev_smart_internet)"
   ]
  },
  {
   "cell_type": "code",
   "execution_count": 115,
   "metadata": {},
   "outputs": [
    {
     "data": {
      "text/plain": [
       "count    2228.000000\n",
       "mean       16.336176\n",
       "std         5.737923\n",
       "min         0.000000\n",
       "25%        13.000000\n",
       "50%        17.000000\n",
       "75%        20.000000\n",
       "max        38.000000\n",
       "Name: Gb_used, dtype: float64"
      ]
     },
     "execution_count": 115,
     "metadata": {},
     "output_type": "execute_result"
    }
   ],
   "source": [
    "internet_by_user_smart['Gb_used'].describe()"
   ]
  },
  {
   "cell_type": "markdown",
   "metadata": {},
   "source": [
    "The average monthly usage in gigabytes and the standard deviation for each user on the \"Smart\" tariff are 15 and 5, respectively. For the \"Ultra\" tariff, the average usage is 19.9. Thus, we can conclude that users on the \"Ultra\" tariff exhibit more variation in their internet usage compared to users on the \"Smart\" tariff."
   ]
  },
  {
   "cell_type": "markdown",
   "metadata": {},
   "source": [
    "## Hypothesis testing"
   ]
  },
  {
   "cell_type": "markdown",
   "metadata": {},
   "source": [
    "#### The average revenue of users on the \"Ultra\" and \"Smart\" tariffs differs."
   ]
  },
  {
   "cell_type": "markdown",
   "metadata": {},
   "source": [
    "The null hypothesis (Ho) is always formulated to use the equality sign."
   ]
  },
  {
   "cell_type": "markdown",
   "metadata": {},
   "source": [
    "Ho: The average revenue of users on the \"Ultra\" tariff is equal to the average revenue of users on the \"Smart\" tariff."
   ]
  },
  {
   "cell_type": "markdown",
   "metadata": {},
   "source": [
    "H1: The average revenue of users on the \"Ultra\" tariff is not equal to the average revenue of users on the \"Smart\" tariff."
   ]
  },
  {
   "cell_type": "markdown",
   "metadata": {},
   "source": [
    "We need to compare the means of two populations."
   ]
  },
  {
   "cell_type": "code",
   "execution_count": 116,
   "metadata": {},
   "outputs": [],
   "source": [
    "from scipy import stats as st "
   ]
  },
  {
   "cell_type": "code",
   "execution_count": 117,
   "metadata": {},
   "outputs": [],
   "source": [
    "alpha=0.05"
   ]
  },
  {
   "cell_type": "markdown",
   "metadata": {},
   "source": [
    "alpha = 0.05 is the critical level of statistical significance. If the p-value is smaller than alpha, we will reject the hypothesis."
   ]
  },
  {
   "cell_type": "code",
   "execution_count": 118,
   "metadata": {},
   "outputs": [],
   "source": [
    "calls_messages_internet_users_smart=calls_messages_internet_users.query('tariff==\"smart\"')"
   ]
  },
  {
   "cell_type": "code",
   "execution_count": 119,
   "metadata": {},
   "outputs": [],
   "source": [
    "sample_smart=calls_messages_internet_users_smart['revenue']"
   ]
  },
  {
   "cell_type": "code",
   "execution_count": 120,
   "metadata": {},
   "outputs": [],
   "source": [
    "calls_messages_internet_users_ultra=calls_messages_internet_users.query('tariff==\"ultra\"')"
   ]
  },
  {
   "cell_type": "code",
   "execution_count": 121,
   "metadata": {},
   "outputs": [],
   "source": [
    "sample_ultra=calls_messages_internet_users_ultra['revenue']"
   ]
  },
  {
   "cell_type": "code",
   "execution_count": 122,
   "metadata": {},
   "outputs": [],
   "source": [
    "results1=st.ttest_ind(sample_smart, sample_ultra)"
   ]
  },
  {
   "cell_type": "code",
   "execution_count": 138,
   "metadata": {},
   "outputs": [
    {
     "name": "stdout",
     "output_type": "stream",
     "text": [
      "p-value: 3.12960566802007e-106\n"
     ]
    }
   ],
   "source": [
    "print('p-value:', results1.pvalue)"
   ]
  },
  {
   "cell_type": "code",
   "execution_count": 139,
   "metadata": {},
   "outputs": [
    {
     "name": "stdout",
     "output_type": "stream",
     "text": [
      "We reject the null hypothesis\n"
     ]
    }
   ],
   "source": [
    "if results1.pvalue <alpha:\n",
    "    print ('We reject the null hypothesis')\n",
    "else:\n",
    "    print(\"We fail to reject the null hypothesis\")"
   ]
  },
  {
   "cell_type": "markdown",
   "metadata": {},
   "source": [
    "Since the p-value is lower than the critical level of statistical significance, we reject the null hypothesis. The average revenue of the \"Ultra\" tariff is not equal to the average revenue of the \"Smart\" tariff"
   ]
  },
  {
   "cell_type": "markdown",
   "metadata": {},
   "source": [
    "## Conclusion"
   ]
  },
  {
   "cell_type": "markdown",
   "metadata": {},
   "source": [
    "As a result of the conducted analysis, the following key conclusions can be drawn:\n"
   ]
  },
  {
   "cell_type": "markdown",
   "metadata": {},
   "source": [
    "The average revenue of the \"Ultra\" tariff is not equal to the average revenue of the \"Smart\" tariff."
   ]
  },
  {
   "cell_type": "markdown",
   "metadata": {},
   "source": [
    "In total, the revenue from users on the \"Smart\" tariff is higher than the revenue from the \"Ultra\" tariff due to the larger number of users."
   ]
  },
  {
   "cell_type": "markdown",
   "metadata": {},
   "source": [
    "The average revenue from residents of Moscow is higher than the average revenue from users in other regions"
   ]
  },
  {
   "cell_type": "markdown",
   "metadata": {},
   "source": [
    "The behavior of \"Ultra\" tariff users exhibits more variation among themselves compared to the behavior of \"Smart\" tariff users"
   ]
  },
  {
   "cell_type": "markdown",
   "metadata": {},
   "source": [
    "Since the average revenue between the two groups of users is different and the Smart tariff brings more revenue, it can be recommended to allocate the marketing budget in favor of the Smart tariff. "
   ]
  }
 ],
 "metadata": {
  "ExecuteTimeLog": [
   {
    "duration": 321,
    "start_time": "2022-06-08T09:41:02.348Z"
   },
   {
    "duration": 69,
    "start_time": "2022-06-08T09:41:26.751Z"
   },
   {
    "duration": 30,
    "start_time": "2022-06-08T09:42:15.157Z"
   },
   {
    "duration": 499,
    "start_time": "2022-06-08T09:42:23.672Z"
   },
   {
    "duration": 375,
    "start_time": "2022-06-08T09:42:52.043Z"
   },
   {
    "duration": 132,
    "start_time": "2022-06-08T09:43:07.986Z"
   },
   {
    "duration": 60,
    "start_time": "2022-06-08T09:43:28.315Z"
   },
   {
    "duration": 82,
    "start_time": "2022-06-08T09:43:42.258Z"
   },
   {
    "duration": 13,
    "start_time": "2022-06-08T09:43:59.643Z"
   },
   {
    "duration": 24,
    "start_time": "2022-06-08T09:44:39.950Z"
   },
   {
    "duration": 7,
    "start_time": "2022-06-08T09:44:54.997Z"
   },
   {
    "duration": 17,
    "start_time": "2022-06-08T09:45:09.090Z"
   },
   {
    "duration": 16,
    "start_time": "2022-06-08T09:45:23.695Z"
   },
   {
    "duration": 10,
    "start_time": "2022-06-08T09:45:33.022Z"
   },
   {
    "duration": 11,
    "start_time": "2022-06-08T09:45:45.856Z"
   },
   {
    "duration": 7,
    "start_time": "2022-06-08T09:46:15.560Z"
   },
   {
    "duration": 9,
    "start_time": "2022-06-08T09:46:30.172Z"
   },
   {
    "duration": 6,
    "start_time": "2022-06-08T09:46:46.147Z"
   },
   {
    "duration": 29,
    "start_time": "2022-06-08T10:30:08.351Z"
   },
   {
    "duration": 16,
    "start_time": "2022-06-08T10:30:32.905Z"
   },
   {
    "duration": 7,
    "start_time": "2022-06-08T10:30:43.626Z"
   },
   {
    "duration": 24,
    "start_time": "2022-06-08T10:32:51.212Z"
   },
   {
    "duration": 5,
    "start_time": "2022-06-08T10:33:07.635Z"
   },
   {
    "duration": 16,
    "start_time": "2022-06-08T10:33:27.828Z"
   },
   {
    "duration": 433,
    "start_time": "2022-06-08T10:33:33.256Z"
   },
   {
    "duration": 17,
    "start_time": "2022-06-08T10:33:41.413Z"
   },
   {
    "duration": 4,
    "start_time": "2022-06-08T10:33:43.982Z"
   },
   {
    "duration": 9,
    "start_time": "2022-06-08T10:33:58.520Z"
   },
   {
    "duration": 6,
    "start_time": "2022-06-08T10:34:16.811Z"
   },
   {
    "duration": 17,
    "start_time": "2022-06-08T10:34:17.901Z"
   },
   {
    "duration": 8,
    "start_time": "2022-06-08T10:34:18.351Z"
   },
   {
    "duration": 2,
    "start_time": "2022-06-08T10:34:44.858Z"
   },
   {
    "duration": 8,
    "start_time": "2022-06-08T10:34:45.363Z"
   },
   {
    "duration": 7,
    "start_time": "2022-06-08T10:34:49.183Z"
   },
   {
    "duration": 20,
    "start_time": "2022-06-08T10:34:52.045Z"
   },
   {
    "duration": 2,
    "start_time": "2022-06-08T10:34:53.126Z"
   },
   {
    "duration": 7,
    "start_time": "2022-06-08T10:34:53.555Z"
   },
   {
    "duration": 17,
    "start_time": "2022-06-08T10:34:59.105Z"
   },
   {
    "duration": 8,
    "start_time": "2022-06-08T10:34:59.704Z"
   },
   {
    "duration": 365,
    "start_time": "2022-06-08T10:35:05.304Z"
   },
   {
    "duration": 132,
    "start_time": "2022-06-08T10:35:05.670Z"
   },
   {
    "duration": 103,
    "start_time": "2022-06-08T10:35:05.804Z"
   },
   {
    "duration": 78,
    "start_time": "2022-06-08T10:35:05.909Z"
   },
   {
    "duration": 15,
    "start_time": "2022-06-08T10:35:05.989Z"
   },
   {
    "duration": 35,
    "start_time": "2022-06-08T10:35:06.005Z"
   },
   {
    "duration": 14,
    "start_time": "2022-06-08T10:35:06.041Z"
   },
   {
    "duration": 25,
    "start_time": "2022-06-08T10:35:06.056Z"
   },
   {
    "duration": 7,
    "start_time": "2022-06-08T10:35:06.082Z"
   },
   {
    "duration": 22,
    "start_time": "2022-06-08T10:35:06.091Z"
   },
   {
    "duration": 7,
    "start_time": "2022-06-08T10:35:06.114Z"
   },
   {
    "duration": 45,
    "start_time": "2022-06-08T10:35:06.122Z"
   },
   {
    "duration": 21,
    "start_time": "2022-06-08T10:35:06.168Z"
   },
   {
    "duration": 17,
    "start_time": "2022-06-08T10:35:06.192Z"
   },
   {
    "duration": 23,
    "start_time": "2022-06-08T10:35:06.211Z"
   },
   {
    "duration": 29,
    "start_time": "2022-06-08T10:35:06.236Z"
   },
   {
    "duration": 63,
    "start_time": "2022-06-08T10:35:06.267Z"
   },
   {
    "duration": 19,
    "start_time": "2022-06-08T10:35:06.332Z"
   },
   {
    "duration": 15,
    "start_time": "2022-06-08T10:35:06.352Z"
   },
   {
    "duration": 38,
    "start_time": "2022-06-08T10:37:09.302Z"
   },
   {
    "duration": 6,
    "start_time": "2022-06-08T10:37:23.841Z"
   },
   {
    "duration": 7,
    "start_time": "2022-06-08T10:37:42.090Z"
   },
   {
    "duration": 4,
    "start_time": "2022-06-08T10:46:55.355Z"
   },
   {
    "duration": 8,
    "start_time": "2022-06-08T10:47:24.045Z"
   },
   {
    "duration": 2,
    "start_time": "2022-06-08T10:55:25.369Z"
   },
   {
    "duration": 4,
    "start_time": "2022-06-08T10:56:10.574Z"
   },
   {
    "duration": 8,
    "start_time": "2022-06-08T10:56:17.274Z"
   },
   {
    "duration": 360,
    "start_time": "2022-06-08T10:56:27.512Z"
   },
   {
    "duration": 135,
    "start_time": "2022-06-08T10:56:27.873Z"
   },
   {
    "duration": 106,
    "start_time": "2022-06-08T10:56:28.010Z"
   },
   {
    "duration": 75,
    "start_time": "2022-06-08T10:56:28.118Z"
   },
   {
    "duration": 16,
    "start_time": "2022-06-08T10:56:28.195Z"
   },
   {
    "duration": 28,
    "start_time": "2022-06-08T10:56:28.213Z"
   },
   {
    "duration": 16,
    "start_time": "2022-06-08T10:56:28.242Z"
   },
   {
    "duration": 20,
    "start_time": "2022-06-08T10:56:28.260Z"
   },
   {
    "duration": 7,
    "start_time": "2022-06-08T10:56:28.281Z"
   },
   {
    "duration": 18,
    "start_time": "2022-06-08T10:56:28.289Z"
   },
   {
    "duration": 6,
    "start_time": "2022-06-08T10:56:28.308Z"
   },
   {
    "duration": 16,
    "start_time": "2022-06-08T10:56:28.315Z"
   },
   {
    "duration": 7,
    "start_time": "2022-06-08T10:56:28.332Z"
   },
   {
    "duration": 10,
    "start_time": "2022-06-08T10:56:28.341Z"
   },
   {
    "duration": 8,
    "start_time": "2022-06-08T10:56:28.352Z"
   },
   {
    "duration": 34,
    "start_time": "2022-06-08T10:56:28.361Z"
   },
   {
    "duration": 32,
    "start_time": "2022-06-08T10:56:28.396Z"
   },
   {
    "duration": 21,
    "start_time": "2022-06-08T10:56:28.429Z"
   },
   {
    "duration": 2,
    "start_time": "2022-06-08T10:56:28.451Z"
   },
   {
    "duration": 7,
    "start_time": "2022-06-08T10:56:28.454Z"
   },
   {
    "duration": 34,
    "start_time": "2022-06-08T10:56:28.462Z"
   },
   {
    "duration": 15,
    "start_time": "2022-06-08T10:56:28.497Z"
   },
   {
    "duration": 6,
    "start_time": "2022-06-08T10:56:28.513Z"
   },
   {
    "duration": 34,
    "start_time": "2022-06-08T11:01:03.749Z"
   },
   {
    "duration": 6,
    "start_time": "2022-06-08T11:01:09.275Z"
   },
   {
    "duration": 20,
    "start_time": "2022-06-08T11:01:23.397Z"
   },
   {
    "duration": 7,
    "start_time": "2022-06-08T11:01:25.866Z"
   },
   {
    "duration": 22,
    "start_time": "2022-06-08T11:01:50.583Z"
   },
   {
    "duration": 7,
    "start_time": "2022-06-08T11:01:52.916Z"
   },
   {
    "duration": 68,
    "start_time": "2022-06-08T11:03:14.408Z"
   },
   {
    "duration": 23,
    "start_time": "2022-06-08T11:04:06.304Z"
   },
   {
    "duration": 26,
    "start_time": "2022-06-08T11:04:50.831Z"
   },
   {
    "duration": 20,
    "start_time": "2022-06-08T11:04:52.558Z"
   },
   {
    "duration": 34,
    "start_time": "2022-06-08T11:06:54.014Z"
   },
   {
    "duration": 26,
    "start_time": "2022-06-08T11:06:55.051Z"
   },
   {
    "duration": 391,
    "start_time": "2022-06-08T11:07:12.267Z"
   },
   {
    "duration": 137,
    "start_time": "2022-06-08T11:07:12.660Z"
   },
   {
    "duration": 115,
    "start_time": "2022-06-08T11:07:12.798Z"
   },
   {
    "duration": 72,
    "start_time": "2022-06-08T11:07:12.915Z"
   },
   {
    "duration": 16,
    "start_time": "2022-06-08T11:07:12.988Z"
   },
   {
    "duration": 26,
    "start_time": "2022-06-08T11:07:13.006Z"
   },
   {
    "duration": 14,
    "start_time": "2022-06-08T11:07:13.033Z"
   },
   {
    "duration": 19,
    "start_time": "2022-06-08T11:07:13.048Z"
   },
   {
    "duration": 10,
    "start_time": "2022-06-08T11:07:13.068Z"
   },
   {
    "duration": 18,
    "start_time": "2022-06-08T11:07:13.080Z"
   },
   {
    "duration": 6,
    "start_time": "2022-06-08T11:07:13.100Z"
   },
   {
    "duration": 15,
    "start_time": "2022-06-08T11:07:13.108Z"
   },
   {
    "duration": 7,
    "start_time": "2022-06-08T11:07:13.124Z"
   },
   {
    "duration": 10,
    "start_time": "2022-06-08T11:07:13.132Z"
   },
   {
    "duration": 9,
    "start_time": "2022-06-08T11:07:13.144Z"
   },
   {
    "duration": 43,
    "start_time": "2022-06-08T11:07:13.154Z"
   },
   {
    "duration": 30,
    "start_time": "2022-06-08T11:07:13.199Z"
   },
   {
    "duration": 20,
    "start_time": "2022-06-08T11:07:13.231Z"
   },
   {
    "duration": 2,
    "start_time": "2022-06-08T11:07:13.252Z"
   },
   {
    "duration": 9,
    "start_time": "2022-06-08T11:07:13.255Z"
   },
   {
    "duration": 26,
    "start_time": "2022-06-08T11:07:13.265Z"
   },
   {
    "duration": 35,
    "start_time": "2022-06-08T11:07:13.292Z"
   },
   {
    "duration": 24,
    "start_time": "2022-06-08T11:07:13.328Z"
   },
   {
    "duration": 26,
    "start_time": "2022-06-08T11:07:44.206Z"
   },
   {
    "duration": 19,
    "start_time": "2022-06-08T11:07:45.283Z"
   },
   {
    "duration": 28,
    "start_time": "2022-06-08T11:11:25.055Z"
   },
   {
    "duration": 15,
    "start_time": "2022-06-08T11:11:45.301Z"
   },
   {
    "duration": 74,
    "start_time": "2022-06-08T11:12:00.821Z"
   },
   {
    "duration": 28,
    "start_time": "2022-06-08T11:12:15.107Z"
   },
   {
    "duration": 19,
    "start_time": "2022-06-08T11:12:21.494Z"
   },
   {
    "duration": 39,
    "start_time": "2022-06-08T11:13:12.029Z"
   },
   {
    "duration": 8,
    "start_time": "2022-06-08T11:15:25.480Z"
   },
   {
    "duration": 6,
    "start_time": "2022-06-08T11:15:59.972Z"
   },
   {
    "duration": 23,
    "start_time": "2022-06-08T11:18:21.444Z"
   },
   {
    "duration": 7,
    "start_time": "2022-06-08T11:19:15.623Z"
   },
   {
    "duration": 17,
    "start_time": "2022-06-08T11:19:36.053Z"
   },
   {
    "duration": 2,
    "start_time": "2022-06-08T11:25:30.646Z"
   },
   {
    "duration": 21,
    "start_time": "2022-06-08T11:25:49.437Z"
   },
   {
    "duration": 34,
    "start_time": "2022-06-08T12:51:40.082Z"
   },
   {
    "duration": 29,
    "start_time": "2022-06-08T12:52:07.384Z"
   },
   {
    "duration": 7,
    "start_time": "2022-06-08T12:53:04.569Z"
   },
   {
    "duration": 52,
    "start_time": "2022-06-08T12:53:27.325Z"
   },
   {
    "duration": 27,
    "start_time": "2022-06-08T12:53:31.025Z"
   },
   {
    "duration": 32,
    "start_time": "2022-06-08T12:53:44.481Z"
   },
   {
    "duration": 21,
    "start_time": "2022-06-08T12:53:49.869Z"
   },
   {
    "duration": 26,
    "start_time": "2022-06-08T12:53:50.598Z"
   },
   {
    "duration": 58,
    "start_time": "2022-06-08T12:55:35.009Z"
   },
   {
    "duration": 27,
    "start_time": "2022-06-08T12:55:51.380Z"
   },
   {
    "duration": 17,
    "start_time": "2022-06-08T12:55:59.164Z"
   },
   {
    "duration": 61,
    "start_time": "2022-06-08T12:56:52.142Z"
   },
   {
    "duration": 18,
    "start_time": "2022-06-08T12:56:53.040Z"
   },
   {
    "duration": 19,
    "start_time": "2022-06-08T13:16:26.612Z"
   },
   {
    "duration": 5,
    "start_time": "2022-06-08T13:16:31.460Z"
   },
   {
    "duration": 4,
    "start_time": "2022-06-08T13:16:44.990Z"
   },
   {
    "duration": 363,
    "start_time": "2022-06-13T11:49:54.900Z"
   },
   {
    "duration": 466,
    "start_time": "2022-06-13T11:49:55.265Z"
   },
   {
    "duration": 366,
    "start_time": "2022-06-13T11:49:55.733Z"
   },
   {
    "duration": 122,
    "start_time": "2022-06-13T11:49:56.101Z"
   },
   {
    "duration": 47,
    "start_time": "2022-06-13T11:49:56.225Z"
   },
   {
    "duration": 53,
    "start_time": "2022-06-13T11:49:56.274Z"
   },
   {
    "duration": 12,
    "start_time": "2022-06-13T11:49:56.329Z"
   },
   {
    "duration": 21,
    "start_time": "2022-06-13T11:49:56.343Z"
   },
   {
    "duration": 7,
    "start_time": "2022-06-13T11:49:56.365Z"
   },
   {
    "duration": 17,
    "start_time": "2022-06-13T11:49:56.374Z"
   },
   {
    "duration": 6,
    "start_time": "2022-06-13T11:49:56.392Z"
   },
   {
    "duration": 20,
    "start_time": "2022-06-13T11:49:56.399Z"
   },
   {
    "duration": 8,
    "start_time": "2022-06-13T11:49:56.420Z"
   },
   {
    "duration": 11,
    "start_time": "2022-06-13T11:49:56.429Z"
   },
   {
    "duration": 9,
    "start_time": "2022-06-13T11:49:56.441Z"
   },
   {
    "duration": 12,
    "start_time": "2022-06-13T11:49:56.452Z"
   },
   {
    "duration": 53,
    "start_time": "2022-06-13T11:49:56.465Z"
   },
   {
    "duration": 19,
    "start_time": "2022-06-13T11:49:56.520Z"
   },
   {
    "duration": 2,
    "start_time": "2022-06-13T11:49:56.541Z"
   },
   {
    "duration": 7,
    "start_time": "2022-06-13T11:49:56.544Z"
   },
   {
    "duration": 8,
    "start_time": "2022-06-13T11:49:56.552Z"
   },
   {
    "duration": 48,
    "start_time": "2022-06-13T11:49:56.561Z"
   },
   {
    "duration": 25,
    "start_time": "2022-06-13T11:49:56.610Z"
   },
   {
    "duration": 76,
    "start_time": "2022-06-13T11:49:56.636Z"
   },
   {
    "duration": 17,
    "start_time": "2022-06-13T11:49:56.713Z"
   },
   {
    "duration": 65,
    "start_time": "2022-06-13T11:49:56.731Z"
   },
   {
    "duration": 0,
    "start_time": "2022-06-13T11:49:56.797Z"
   },
   {
    "duration": 17,
    "start_time": "2022-06-13T11:58:32.605Z"
   },
   {
    "duration": 13,
    "start_time": "2022-06-13T11:59:56.678Z"
   },
   {
    "duration": 21,
    "start_time": "2022-06-13T12:01:50.902Z"
   },
   {
    "duration": 15,
    "start_time": "2022-06-13T12:02:42.817Z"
   },
   {
    "duration": 2,
    "start_time": "2022-06-13T12:03:15.846Z"
   },
   {
    "duration": 4,
    "start_time": "2022-06-13T12:03:16.325Z"
   },
   {
    "duration": 8,
    "start_time": "2022-06-13T12:03:17.268Z"
   },
   {
    "duration": 15,
    "start_time": "2022-06-13T12:06:18.767Z"
   },
   {
    "duration": 23,
    "start_time": "2022-06-13T12:06:58.434Z"
   },
   {
    "duration": 6,
    "start_time": "2022-06-13T12:07:31.094Z"
   },
   {
    "duration": 40,
    "start_time": "2022-06-13T12:08:19.382Z"
   },
   {
    "duration": 17,
    "start_time": "2022-06-13T12:08:20.458Z"
   },
   {
    "duration": 59,
    "start_time": "2022-06-13T12:10:05.811Z"
   },
   {
    "duration": 18,
    "start_time": "2022-06-13T12:12:16.586Z"
   },
   {
    "duration": 11,
    "start_time": "2022-06-13T12:12:54.769Z"
   },
   {
    "duration": 23,
    "start_time": "2022-06-13T12:13:25.131Z"
   },
   {
    "duration": 24,
    "start_time": "2022-06-13T12:14:26.823Z"
   },
   {
    "duration": 21,
    "start_time": "2022-06-13T12:14:36.119Z"
   },
   {
    "duration": 3,
    "start_time": "2022-06-13T12:30:22.826Z"
   },
   {
    "duration": 23,
    "start_time": "2022-06-13T12:30:26.837Z"
   },
   {
    "duration": 32,
    "start_time": "2022-06-13T12:35:15.417Z"
   },
   {
    "duration": 4,
    "start_time": "2022-06-13T12:38:40.984Z"
   },
   {
    "duration": 18,
    "start_time": "2022-06-13T12:38:59.448Z"
   },
   {
    "duration": 3,
    "start_time": "2022-06-13T12:40:01.764Z"
   },
   {
    "duration": 18,
    "start_time": "2022-06-13T12:40:02.648Z"
   },
   {
    "duration": 28,
    "start_time": "2022-06-13T12:40:12.779Z"
   },
   {
    "duration": 29,
    "start_time": "2022-06-13T12:55:47.245Z"
   },
   {
    "duration": 28,
    "start_time": "2022-06-13T12:55:57.777Z"
   },
   {
    "duration": 29,
    "start_time": "2022-06-13T13:27:06.234Z"
   },
   {
    "duration": 2,
    "start_time": "2022-06-13T13:27:08.329Z"
   },
   {
    "duration": 17,
    "start_time": "2022-06-13T13:27:12.125Z"
   },
   {
    "duration": 24,
    "start_time": "2022-06-13T13:29:44.168Z"
   },
   {
    "duration": 23,
    "start_time": "2022-06-13T13:29:54.894Z"
   },
   {
    "duration": 6,
    "start_time": "2022-06-13T13:30:10.621Z"
   },
   {
    "duration": 37,
    "start_time": "2022-06-13T13:30:20.298Z"
   },
   {
    "duration": 33,
    "start_time": "2022-06-13T13:30:46.951Z"
   },
   {
    "duration": 3,
    "start_time": "2022-06-13T13:30:49.474Z"
   },
   {
    "duration": 28,
    "start_time": "2022-06-13T13:31:06.895Z"
   },
   {
    "duration": 56,
    "start_time": "2022-06-13T13:34:51.551Z"
   },
   {
    "duration": 102,
    "start_time": "2022-06-13T13:35:01.873Z"
   },
   {
    "duration": 33,
    "start_time": "2022-06-13T13:38:05.424Z"
   },
   {
    "duration": 26,
    "start_time": "2022-06-13T13:38:17.555Z"
   },
   {
    "duration": 24,
    "start_time": "2022-06-13T13:39:45.428Z"
   },
   {
    "duration": 10,
    "start_time": "2022-06-13T13:44:07.150Z"
   },
   {
    "duration": 19,
    "start_time": "2022-06-13T13:45:09.399Z"
   },
   {
    "duration": 14,
    "start_time": "2022-06-13T13:45:22.225Z"
   },
   {
    "duration": 15,
    "start_time": "2022-06-13T13:45:26.647Z"
   },
   {
    "duration": 31,
    "start_time": "2022-06-13T13:45:41.749Z"
   },
   {
    "duration": 65,
    "start_time": "2022-06-13T13:45:47.337Z"
   },
   {
    "duration": 47,
    "start_time": "2022-06-13T13:45:53.416Z"
   },
   {
    "duration": 19,
    "start_time": "2022-06-13T13:46:01.164Z"
   },
   {
    "duration": 12,
    "start_time": "2022-06-13T13:46:12.630Z"
   },
   {
    "duration": 16,
    "start_time": "2022-06-13T13:46:28.604Z"
   },
   {
    "duration": 3,
    "start_time": "2022-06-13T13:46:30.393Z"
   },
   {
    "duration": 18,
    "start_time": "2022-06-13T13:46:31.152Z"
   },
   {
    "duration": 37,
    "start_time": "2022-06-13T13:46:52.601Z"
   },
   {
    "duration": 18,
    "start_time": "2022-06-13T13:46:54.242Z"
   },
   {
    "duration": 49,
    "start_time": "2022-06-13T13:47:15.861Z"
   },
   {
    "duration": 16,
    "start_time": "2022-06-13T13:47:17.209Z"
   },
   {
    "duration": 383,
    "start_time": "2022-06-13T13:48:07.989Z"
   },
   {
    "duration": 141,
    "start_time": "2022-06-13T13:48:08.375Z"
   },
   {
    "duration": 108,
    "start_time": "2022-06-13T13:48:08.519Z"
   },
   {
    "duration": 74,
    "start_time": "2022-06-13T13:48:08.629Z"
   },
   {
    "duration": 15,
    "start_time": "2022-06-13T13:48:08.705Z"
   },
   {
    "duration": 36,
    "start_time": "2022-06-13T13:48:08.721Z"
   },
   {
    "duration": 24,
    "start_time": "2022-06-13T13:48:08.758Z"
   },
   {
    "duration": 62,
    "start_time": "2022-06-13T13:48:08.784Z"
   },
   {
    "duration": 8,
    "start_time": "2022-06-13T13:48:08.848Z"
   },
   {
    "duration": 20,
    "start_time": "2022-06-13T13:48:08.857Z"
   },
   {
    "duration": 6,
    "start_time": "2022-06-13T13:48:08.879Z"
   },
   {
    "duration": 26,
    "start_time": "2022-06-13T13:48:08.887Z"
   },
   {
    "duration": 9,
    "start_time": "2022-06-13T13:48:08.915Z"
   },
   {
    "duration": 14,
    "start_time": "2022-06-13T13:48:08.927Z"
   },
   {
    "duration": 17,
    "start_time": "2022-06-13T13:48:08.943Z"
   },
   {
    "duration": 13,
    "start_time": "2022-06-13T13:48:08.961Z"
   },
   {
    "duration": 40,
    "start_time": "2022-06-13T13:48:08.975Z"
   },
   {
    "duration": 21,
    "start_time": "2022-06-13T13:48:10.294Z"
   },
   {
    "duration": 18,
    "start_time": "2022-06-13T13:48:10.317Z"
   },
   {
    "duration": 13,
    "start_time": "2022-06-13T13:48:10.336Z"
   },
   {
    "duration": 45,
    "start_time": "2022-06-13T13:48:10.351Z"
   },
   {
    "duration": 18,
    "start_time": "2022-06-13T13:48:10.398Z"
   },
   {
    "duration": 3,
    "start_time": "2022-06-13T13:48:10.418Z"
   },
   {
    "duration": 16,
    "start_time": "2022-06-13T13:48:10.425Z"
   },
   {
    "duration": 11,
    "start_time": "2022-06-13T13:48:10.443Z"
   },
   {
    "duration": 44,
    "start_time": "2022-06-13T13:48:10.456Z"
   },
   {
    "duration": 17,
    "start_time": "2022-06-13T13:48:10.502Z"
   },
   {
    "duration": 55,
    "start_time": "2022-06-13T13:48:10.521Z"
   },
   {
    "duration": 25,
    "start_time": "2022-06-13T13:48:10.578Z"
   },
   {
    "duration": 43,
    "start_time": "2022-06-13T13:48:10.605Z"
   },
   {
    "duration": 15,
    "start_time": "2022-06-13T13:48:10.650Z"
   },
   {
    "duration": 40,
    "start_time": "2022-06-13T13:48:10.667Z"
   },
   {
    "duration": 3,
    "start_time": "2022-06-13T13:48:10.708Z"
   },
   {
    "duration": 21,
    "start_time": "2022-06-13T13:48:10.713Z"
   },
   {
    "duration": 75,
    "start_time": "2022-06-13T13:48:10.736Z"
   },
   {
    "duration": 0,
    "start_time": "2022-06-13T13:48:10.813Z"
   },
   {
    "duration": 0,
    "start_time": "2022-06-13T13:48:10.814Z"
   },
   {
    "duration": 0,
    "start_time": "2022-06-13T13:48:10.816Z"
   },
   {
    "duration": 0,
    "start_time": "2022-06-13T13:48:10.817Z"
   },
   {
    "duration": 11,
    "start_time": "2022-06-13T13:48:39.098Z"
   },
   {
    "duration": 11,
    "start_time": "2022-06-13T13:48:51.922Z"
   },
   {
    "duration": 50,
    "start_time": "2022-06-13T17:00:26.436Z"
   },
   {
    "duration": 58,
    "start_time": "2022-06-13T17:01:27.105Z"
   },
   {
    "duration": 35,
    "start_time": "2022-06-13T17:01:32.772Z"
   },
   {
    "duration": 31,
    "start_time": "2022-06-13T17:01:35.712Z"
   },
   {
    "duration": 22,
    "start_time": "2022-06-13T17:01:53.834Z"
   },
   {
    "duration": 21,
    "start_time": "2022-06-13T17:03:07.309Z"
   },
   {
    "duration": 18,
    "start_time": "2022-06-13T17:17:03.949Z"
   },
   {
    "duration": 23,
    "start_time": "2022-06-13T17:17:06.089Z"
   },
   {
    "duration": 34,
    "start_time": "2022-06-13T17:17:35.002Z"
   },
   {
    "duration": 32,
    "start_time": "2022-06-13T17:17:36.111Z"
   },
   {
    "duration": 37,
    "start_time": "2022-06-13T17:19:36.601Z"
   },
   {
    "duration": 56,
    "start_time": "2022-06-13T17:19:43.059Z"
   },
   {
    "duration": 4,
    "start_time": "2022-06-13T17:22:17.041Z"
   },
   {
    "duration": 5,
    "start_time": "2022-06-13T17:22:35.462Z"
   },
   {
    "duration": 4,
    "start_time": "2022-06-13T17:24:23.155Z"
   },
   {
    "duration": 3,
    "start_time": "2022-06-13T17:24:25.208Z"
   },
   {
    "duration": 3,
    "start_time": "2022-06-13T17:25:02.269Z"
   },
   {
    "duration": 3,
    "start_time": "2022-06-13T17:25:06.160Z"
   },
   {
    "duration": 350,
    "start_time": "2022-06-13T17:25:21.639Z"
   },
   {
    "duration": 398,
    "start_time": "2022-06-13T17:25:21.991Z"
   },
   {
    "duration": 157,
    "start_time": "2022-06-13T17:25:22.391Z"
   },
   {
    "duration": 86,
    "start_time": "2022-06-13T17:25:22.550Z"
   },
   {
    "duration": 16,
    "start_time": "2022-06-13T17:25:22.638Z"
   },
   {
    "duration": 22,
    "start_time": "2022-06-13T17:25:22.655Z"
   },
   {
    "duration": 29,
    "start_time": "2022-06-13T17:25:22.678Z"
   },
   {
    "duration": 42,
    "start_time": "2022-06-13T17:25:22.709Z"
   },
   {
    "duration": 11,
    "start_time": "2022-06-13T17:25:22.753Z"
   },
   {
    "duration": 48,
    "start_time": "2022-06-13T17:25:22.768Z"
   },
   {
    "duration": 9,
    "start_time": "2022-06-13T17:25:22.821Z"
   },
   {
    "duration": 43,
    "start_time": "2022-06-13T17:25:22.831Z"
   },
   {
    "duration": 11,
    "start_time": "2022-06-13T17:25:22.876Z"
   },
   {
    "duration": 40,
    "start_time": "2022-06-13T17:25:22.894Z"
   },
   {
    "duration": 16,
    "start_time": "2022-06-13T17:25:22.936Z"
   },
   {
    "duration": 13,
    "start_time": "2022-06-13T17:25:22.954Z"
   },
   {
    "duration": 45,
    "start_time": "2022-06-13T17:25:22.969Z"
   },
   {
    "duration": 29,
    "start_time": "2022-06-13T17:25:23.017Z"
   },
   {
    "duration": 45,
    "start_time": "2022-06-13T17:25:23.048Z"
   },
   {
    "duration": 18,
    "start_time": "2022-06-13T17:25:23.096Z"
   },
   {
    "duration": 40,
    "start_time": "2022-06-13T17:25:23.116Z"
   },
   {
    "duration": 43,
    "start_time": "2022-06-13T17:25:23.158Z"
   },
   {
    "duration": 4,
    "start_time": "2022-06-13T17:25:23.205Z"
   },
   {
    "duration": 5,
    "start_time": "2022-06-13T17:25:23.212Z"
   },
   {
    "duration": 12,
    "start_time": "2022-06-13T17:25:23.220Z"
   },
   {
    "duration": 4,
    "start_time": "2022-06-13T17:25:23.234Z"
   },
   {
    "duration": 6,
    "start_time": "2022-06-13T17:25:23.240Z"
   },
   {
    "duration": 84,
    "start_time": "2022-06-13T17:25:23.250Z"
   },
   {
    "duration": 43,
    "start_time": "2022-06-13T17:25:23.335Z"
   },
   {
    "duration": 77,
    "start_time": "2022-06-13T17:25:23.379Z"
   },
   {
    "duration": 17,
    "start_time": "2022-06-13T17:25:23.457Z"
   },
   {
    "duration": 38,
    "start_time": "2022-06-13T17:25:23.475Z"
   },
   {
    "duration": 9,
    "start_time": "2022-06-13T17:25:23.515Z"
   },
   {
    "duration": 38,
    "start_time": "2022-06-13T17:25:23.525Z"
   },
   {
    "duration": 60,
    "start_time": "2022-06-13T17:25:23.565Z"
   },
   {
    "duration": 29,
    "start_time": "2022-06-13T17:25:23.627Z"
   },
   {
    "duration": 21,
    "start_time": "2022-06-13T17:25:23.658Z"
   },
   {
    "duration": 69,
    "start_time": "2022-06-13T17:25:23.681Z"
   },
   {
    "duration": 85,
    "start_time": "2022-06-13T17:25:23.751Z"
   },
   {
    "duration": 0,
    "start_time": "2022-06-13T17:25:23.838Z"
   },
   {
    "duration": 4,
    "start_time": "2022-06-13T17:27:30.686Z"
   },
   {
    "duration": 5,
    "start_time": "2022-06-13T17:27:42.397Z"
   },
   {
    "duration": 3,
    "start_time": "2022-06-13T17:28:36.712Z"
   },
   {
    "duration": 375,
    "start_time": "2022-06-13T17:29:24.556Z"
   },
   {
    "duration": 144,
    "start_time": "2022-06-13T17:29:24.933Z"
   },
   {
    "duration": 121,
    "start_time": "2022-06-13T17:29:25.078Z"
   },
   {
    "duration": 83,
    "start_time": "2022-06-13T17:29:25.205Z"
   },
   {
    "duration": 21,
    "start_time": "2022-06-13T17:29:25.292Z"
   },
   {
    "duration": 27,
    "start_time": "2022-06-13T17:29:25.315Z"
   },
   {
    "duration": 16,
    "start_time": "2022-06-13T17:29:25.344Z"
   },
   {
    "duration": 22,
    "start_time": "2022-06-13T17:29:25.362Z"
   },
   {
    "duration": 15,
    "start_time": "2022-06-13T17:29:25.385Z"
   },
   {
    "duration": 36,
    "start_time": "2022-06-13T17:29:25.401Z"
   },
   {
    "duration": 11,
    "start_time": "2022-06-13T17:29:25.440Z"
   },
   {
    "duration": 19,
    "start_time": "2022-06-13T17:29:25.453Z"
   },
   {
    "duration": 7,
    "start_time": "2022-06-13T17:29:25.474Z"
   },
   {
    "duration": 21,
    "start_time": "2022-06-13T17:29:25.495Z"
   },
   {
    "duration": 19,
    "start_time": "2022-06-13T17:29:25.520Z"
   },
   {
    "duration": 13,
    "start_time": "2022-06-13T17:29:25.540Z"
   },
   {
    "duration": 40,
    "start_time": "2022-06-13T17:29:25.555Z"
   },
   {
    "duration": 22,
    "start_time": "2022-06-13T17:29:25.601Z"
   },
   {
    "duration": 19,
    "start_time": "2022-06-13T17:29:25.625Z"
   },
   {
    "duration": 13,
    "start_time": "2022-06-13T17:29:25.646Z"
   },
   {
    "duration": 36,
    "start_time": "2022-06-13T17:29:25.660Z"
   },
   {
    "duration": 19,
    "start_time": "2022-06-13T17:29:25.698Z"
   },
   {
    "duration": 3,
    "start_time": "2022-06-13T17:29:25.719Z"
   },
   {
    "duration": 7,
    "start_time": "2022-06-13T17:29:25.723Z"
   },
   {
    "duration": 9,
    "start_time": "2022-06-13T17:29:25.731Z"
   },
   {
    "duration": 7,
    "start_time": "2022-06-13T17:29:25.741Z"
   },
   {
    "duration": 68,
    "start_time": "2022-06-13T17:29:25.750Z"
   },
   {
    "duration": 36,
    "start_time": "2022-06-13T17:29:25.820Z"
   },
   {
    "duration": 62,
    "start_time": "2022-06-13T17:29:25.857Z"
   },
   {
    "duration": 15,
    "start_time": "2022-06-13T17:29:25.921Z"
   },
   {
    "duration": 29,
    "start_time": "2022-06-13T17:29:25.937Z"
   },
   {
    "duration": 3,
    "start_time": "2022-06-13T17:29:25.967Z"
   },
   {
    "duration": 40,
    "start_time": "2022-06-13T17:29:25.971Z"
   },
   {
    "duration": 36,
    "start_time": "2022-06-13T17:29:26.013Z"
   },
   {
    "duration": 23,
    "start_time": "2022-06-13T17:29:26.051Z"
   },
   {
    "duration": 23,
    "start_time": "2022-06-13T17:29:26.076Z"
   },
   {
    "duration": 35,
    "start_time": "2022-06-13T17:29:26.111Z"
   },
   {
    "duration": 65,
    "start_time": "2022-06-13T17:29:26.148Z"
   },
   {
    "duration": 0,
    "start_time": "2022-06-13T17:29:26.216Z"
   },
   {
    "duration": 3,
    "start_time": "2022-06-13T17:31:13.352Z"
   },
   {
    "duration": 3,
    "start_time": "2022-06-13T17:31:26.340Z"
   },
   {
    "duration": 6,
    "start_time": "2022-06-13T17:31:33.005Z"
   },
   {
    "duration": 3,
    "start_time": "2022-06-13T17:33:00.096Z"
   },
   {
    "duration": 3,
    "start_time": "2022-06-13T17:33:17.347Z"
   },
   {
    "duration": 4,
    "start_time": "2022-06-13T17:37:16.960Z"
   },
   {
    "duration": 3,
    "start_time": "2022-06-13T17:37:27.683Z"
   },
   {
    "duration": 21,
    "start_time": "2022-06-13T17:38:37.990Z"
   },
   {
    "duration": 6,
    "start_time": "2022-06-13T17:38:40.282Z"
   },
   {
    "duration": 14,
    "start_time": "2022-06-13T17:39:24.524Z"
   },
   {
    "duration": 20,
    "start_time": "2022-06-13T17:39:34.204Z"
   },
   {
    "duration": 13,
    "start_time": "2022-06-13T17:39:37.110Z"
   },
   {
    "duration": 9,
    "start_time": "2022-06-13T17:40:01.213Z"
   },
   {
    "duration": 5,
    "start_time": "2022-06-13T17:40:03.241Z"
   },
   {
    "duration": 7,
    "start_time": "2022-06-13T17:40:09.861Z"
   },
   {
    "duration": 5,
    "start_time": "2022-06-13T17:40:31.555Z"
   },
   {
    "duration": 5,
    "start_time": "2022-06-13T17:40:34.222Z"
   },
   {
    "duration": 18,
    "start_time": "2022-06-13T17:40:36.189Z"
   },
   {
    "duration": 5,
    "start_time": "2022-06-13T17:40:36.722Z"
   },
   {
    "duration": 16,
    "start_time": "2022-06-13T17:40:48.693Z"
   },
   {
    "duration": 9,
    "start_time": "2022-06-13T17:40:49.472Z"
   },
   {
    "duration": 10,
    "start_time": "2022-06-13T17:41:11.404Z"
   },
   {
    "duration": 20,
    "start_time": "2022-06-13T17:41:21.111Z"
   },
   {
    "duration": 506,
    "start_time": "2022-06-13T17:46:51.971Z"
   },
   {
    "duration": 13,
    "start_time": "2022-06-13T17:47:01.673Z"
   },
   {
    "duration": 14,
    "start_time": "2022-06-13T17:48:26.547Z"
   },
   {
    "duration": 14,
    "start_time": "2022-06-13T17:48:27.151Z"
   },
   {
    "duration": 7,
    "start_time": "2022-06-13T18:06:36.020Z"
   },
   {
    "duration": 15,
    "start_time": "2022-06-13T18:06:37.092Z"
   },
   {
    "duration": 7,
    "start_time": "2022-06-13T18:12:05.062Z"
   },
   {
    "duration": 192,
    "start_time": "2022-06-13T18:12:12.958Z"
   },
   {
    "duration": 11,
    "start_time": "2022-06-13T18:12:14.068Z"
   },
   {
    "duration": 8,
    "start_time": "2022-06-13T18:13:00.981Z"
   },
   {
    "duration": 7,
    "start_time": "2022-06-13T18:15:46.690Z"
   },
   {
    "duration": 9,
    "start_time": "2022-06-13T18:16:06.456Z"
   },
   {
    "duration": 11,
    "start_time": "2022-06-13T18:16:11.343Z"
   },
   {
    "duration": 4,
    "start_time": "2022-06-13T18:16:16.136Z"
   },
   {
    "duration": 11,
    "start_time": "2022-06-13T18:17:01.278Z"
   },
   {
    "duration": 8,
    "start_time": "2022-06-13T18:17:02.159Z"
   },
   {
    "duration": 404,
    "start_time": "2022-06-13T18:17:13.670Z"
   },
   {
    "duration": 179,
    "start_time": "2022-06-13T18:17:14.076Z"
   },
   {
    "duration": 125,
    "start_time": "2022-06-13T18:17:14.257Z"
   },
   {
    "duration": 92,
    "start_time": "2022-06-13T18:17:14.383Z"
   },
   {
    "duration": 20,
    "start_time": "2022-06-13T18:17:14.477Z"
   },
   {
    "duration": 29,
    "start_time": "2022-06-13T18:17:14.502Z"
   },
   {
    "duration": 18,
    "start_time": "2022-06-13T18:17:14.533Z"
   },
   {
    "duration": 34,
    "start_time": "2022-06-13T18:17:14.553Z"
   },
   {
    "duration": 15,
    "start_time": "2022-06-13T18:17:14.589Z"
   },
   {
    "duration": 29,
    "start_time": "2022-06-13T18:17:14.608Z"
   },
   {
    "duration": 6,
    "start_time": "2022-06-13T18:17:14.639Z"
   },
   {
    "duration": 18,
    "start_time": "2022-06-13T18:17:14.647Z"
   },
   {
    "duration": 9,
    "start_time": "2022-06-13T18:17:14.667Z"
   },
   {
    "duration": 17,
    "start_time": "2022-06-13T18:17:14.693Z"
   },
   {
    "duration": 11,
    "start_time": "2022-06-13T18:17:14.712Z"
   },
   {
    "duration": 12,
    "start_time": "2022-06-13T18:17:14.725Z"
   },
   {
    "duration": 35,
    "start_time": "2022-06-13T18:17:14.739Z"
   },
   {
    "duration": 34,
    "start_time": "2022-06-13T18:17:14.776Z"
   },
   {
    "duration": 20,
    "start_time": "2022-06-13T18:17:14.812Z"
   },
   {
    "duration": 15,
    "start_time": "2022-06-13T18:17:14.834Z"
   },
   {
    "duration": 48,
    "start_time": "2022-06-13T18:17:14.851Z"
   },
   {
    "duration": 20,
    "start_time": "2022-06-13T18:17:14.903Z"
   },
   {
    "duration": 3,
    "start_time": "2022-06-13T18:17:14.925Z"
   },
   {
    "duration": 7,
    "start_time": "2022-06-13T18:17:14.929Z"
   },
   {
    "duration": 11,
    "start_time": "2022-06-13T18:17:14.937Z"
   },
   {
    "duration": 18,
    "start_time": "2022-06-13T18:17:14.949Z"
   },
   {
    "duration": 8,
    "start_time": "2022-06-13T18:17:14.991Z"
   },
   {
    "duration": 70,
    "start_time": "2022-06-13T18:17:15.003Z"
   },
   {
    "duration": 38,
    "start_time": "2022-06-13T18:17:15.075Z"
   },
   {
    "duration": 58,
    "start_time": "2022-06-13T18:17:15.115Z"
   },
   {
    "duration": 0,
    "start_time": "2022-06-13T18:17:15.174Z"
   },
   {
    "duration": 0,
    "start_time": "2022-06-13T18:17:15.175Z"
   },
   {
    "duration": 0,
    "start_time": "2022-06-13T18:17:15.192Z"
   },
   {
    "duration": 0,
    "start_time": "2022-06-13T18:17:15.193Z"
   },
   {
    "duration": 0,
    "start_time": "2022-06-13T18:17:15.194Z"
   },
   {
    "duration": 0,
    "start_time": "2022-06-13T18:17:15.195Z"
   },
   {
    "duration": 0,
    "start_time": "2022-06-13T18:17:15.200Z"
   },
   {
    "duration": 0,
    "start_time": "2022-06-13T18:17:15.200Z"
   },
   {
    "duration": 0,
    "start_time": "2022-06-13T18:17:15.201Z"
   },
   {
    "duration": 0,
    "start_time": "2022-06-13T18:17:15.201Z"
   },
   {
    "duration": 0,
    "start_time": "2022-06-13T18:17:15.202Z"
   },
   {
    "duration": 0,
    "start_time": "2022-06-13T18:17:15.203Z"
   },
   {
    "duration": 26,
    "start_time": "2022-06-13T18:17:54.181Z"
   },
   {
    "duration": 10,
    "start_time": "2022-06-13T18:17:55.137Z"
   },
   {
    "duration": 10,
    "start_time": "2022-06-13T18:18:18.953Z"
   },
   {
    "duration": 11,
    "start_time": "2022-06-13T18:20:27.421Z"
   },
   {
    "duration": 7,
    "start_time": "2022-06-13T18:20:58.690Z"
   },
   {
    "duration": 16,
    "start_time": "2022-06-13T18:21:10.489Z"
   },
   {
    "duration": 8,
    "start_time": "2022-06-13T18:21:11.174Z"
   },
   {
    "duration": 17,
    "start_time": "2022-06-13T18:24:48.190Z"
   },
   {
    "duration": 5,
    "start_time": "2022-06-13T18:24:48.835Z"
   },
   {
    "duration": 17,
    "start_time": "2022-06-13T18:25:09.529Z"
   },
   {
    "duration": 9,
    "start_time": "2022-06-13T18:25:10.221Z"
   },
   {
    "duration": 46,
    "start_time": "2022-06-13T18:35:39.002Z"
   },
   {
    "duration": 15,
    "start_time": "2022-06-13T18:36:03.860Z"
   },
   {
    "duration": 14,
    "start_time": "2022-06-13T18:36:17.029Z"
   },
   {
    "duration": 12,
    "start_time": "2022-06-13T18:36:59.753Z"
   },
   {
    "duration": 6,
    "start_time": "2022-06-13T18:37:46.588Z"
   },
   {
    "duration": 6,
    "start_time": "2022-06-13T18:37:51.229Z"
   },
   {
    "duration": 8,
    "start_time": "2022-06-13T18:37:58.164Z"
   },
   {
    "duration": 13,
    "start_time": "2022-06-13T18:39:13.425Z"
   },
   {
    "duration": 8,
    "start_time": "2022-06-13T18:39:14.412Z"
   },
   {
    "duration": 13,
    "start_time": "2022-06-13T18:40:34.381Z"
   },
   {
    "duration": 9,
    "start_time": "2022-06-13T18:40:38.125Z"
   },
   {
    "duration": 12,
    "start_time": "2022-06-13T18:41:06.990Z"
   },
   {
    "duration": 14,
    "start_time": "2022-06-13T18:41:09.686Z"
   },
   {
    "duration": 23,
    "start_time": "2022-06-13T18:41:10.649Z"
   },
   {
    "duration": 9,
    "start_time": "2022-06-13T18:41:31.008Z"
   },
   {
    "duration": 9,
    "start_time": "2022-06-13T18:42:48.609Z"
   },
   {
    "duration": 7,
    "start_time": "2022-06-13T18:43:04.830Z"
   },
   {
    "duration": 4,
    "start_time": "2022-06-13T18:43:46.244Z"
   },
   {
    "duration": 13,
    "start_time": "2022-06-13T18:43:59.627Z"
   },
   {
    "duration": 9,
    "start_time": "2022-06-13T18:45:19.930Z"
   },
   {
    "duration": 35,
    "start_time": "2022-06-13T18:45:35.614Z"
   },
   {
    "duration": 17,
    "start_time": "2022-06-13T18:45:42.609Z"
   },
   {
    "duration": 18,
    "start_time": "2022-06-13T18:46:02.240Z"
   },
   {
    "duration": 12,
    "start_time": "2022-06-13T18:46:43.910Z"
   },
   {
    "duration": 7,
    "start_time": "2022-06-13T18:49:47.984Z"
   },
   {
    "duration": 13,
    "start_time": "2022-06-13T18:49:48.726Z"
   },
   {
    "duration": 10,
    "start_time": "2022-06-13T18:50:01.229Z"
   },
   {
    "duration": 406,
    "start_time": "2022-06-13T18:50:39.338Z"
   },
   {
    "duration": 11,
    "start_time": "2022-06-13T18:51:20.965Z"
   },
   {
    "duration": 12,
    "start_time": "2022-06-13T18:54:04.454Z"
   },
   {
    "duration": 44,
    "start_time": "2022-06-14T10:10:44.190Z"
   },
   {
    "duration": 6,
    "start_time": "2022-06-14T10:11:13.228Z"
   },
   {
    "duration": 7,
    "start_time": "2022-06-14T10:11:17.723Z"
   },
   {
    "duration": 467,
    "start_time": "2022-06-14T10:11:46.941Z"
   },
   {
    "duration": 228,
    "start_time": "2022-06-14T10:11:47.411Z"
   },
   {
    "duration": 477,
    "start_time": "2022-06-14T10:11:47.640Z"
   },
   {
    "duration": 613,
    "start_time": "2022-06-14T10:11:48.119Z"
   },
   {
    "duration": 66,
    "start_time": "2022-06-14T10:11:48.734Z"
   },
   {
    "duration": 51,
    "start_time": "2022-06-14T10:11:48.801Z"
   },
   {
    "duration": 15,
    "start_time": "2022-06-14T10:11:48.854Z"
   },
   {
    "duration": 25,
    "start_time": "2022-06-14T10:11:48.871Z"
   },
   {
    "duration": 9,
    "start_time": "2022-06-14T10:11:48.897Z"
   },
   {
    "duration": 32,
    "start_time": "2022-06-14T10:11:48.908Z"
   },
   {
    "duration": 9,
    "start_time": "2022-06-14T10:11:48.960Z"
   },
   {
    "duration": 31,
    "start_time": "2022-06-14T10:11:48.971Z"
   },
   {
    "duration": 10,
    "start_time": "2022-06-14T10:11:49.004Z"
   },
   {
    "duration": 14,
    "start_time": "2022-06-14T10:11:49.019Z"
   },
   {
    "duration": 13,
    "start_time": "2022-06-14T10:11:49.058Z"
   },
   {
    "duration": 15,
    "start_time": "2022-06-14T10:11:49.073Z"
   },
   {
    "duration": 38,
    "start_time": "2022-06-14T10:11:49.089Z"
   },
   {
    "duration": 41,
    "start_time": "2022-06-14T10:11:49.129Z"
   },
   {
    "duration": 21,
    "start_time": "2022-06-14T10:11:49.172Z"
   },
   {
    "duration": 13,
    "start_time": "2022-06-14T10:11:49.195Z"
   },
   {
    "duration": 24,
    "start_time": "2022-06-14T10:11:49.210Z"
   },
   {
    "duration": 38,
    "start_time": "2022-06-14T10:11:49.236Z"
   },
   {
    "duration": 2,
    "start_time": "2022-06-14T10:11:49.276Z"
   },
   {
    "duration": 29,
    "start_time": "2022-06-14T10:11:49.280Z"
   },
   {
    "duration": 15,
    "start_time": "2022-06-14T10:11:49.311Z"
   },
   {
    "duration": 31,
    "start_time": "2022-06-14T10:11:49.328Z"
   },
   {
    "duration": 14,
    "start_time": "2022-06-14T10:11:49.361Z"
   },
   {
    "duration": 82,
    "start_time": "2022-06-14T10:11:49.377Z"
   },
   {
    "duration": 0,
    "start_time": "2022-06-14T10:11:49.462Z"
   },
   {
    "duration": 0,
    "start_time": "2022-06-14T10:11:49.463Z"
   },
   {
    "duration": 0,
    "start_time": "2022-06-14T10:11:49.464Z"
   },
   {
    "duration": 0,
    "start_time": "2022-06-14T10:11:49.466Z"
   },
   {
    "duration": 0,
    "start_time": "2022-06-14T10:11:49.466Z"
   },
   {
    "duration": 0,
    "start_time": "2022-06-14T10:11:49.468Z"
   },
   {
    "duration": 0,
    "start_time": "2022-06-14T10:11:49.469Z"
   },
   {
    "duration": 0,
    "start_time": "2022-06-14T10:11:49.471Z"
   },
   {
    "duration": 0,
    "start_time": "2022-06-14T10:11:49.472Z"
   },
   {
    "duration": 0,
    "start_time": "2022-06-14T10:11:49.474Z"
   },
   {
    "duration": 0,
    "start_time": "2022-06-14T10:11:49.475Z"
   },
   {
    "duration": 0,
    "start_time": "2022-06-14T10:11:49.476Z"
   },
   {
    "duration": 0,
    "start_time": "2022-06-14T10:11:49.478Z"
   },
   {
    "duration": 0,
    "start_time": "2022-06-14T10:11:49.479Z"
   },
   {
    "duration": 0,
    "start_time": "2022-06-14T10:11:49.480Z"
   },
   {
    "duration": 17,
    "start_time": "2022-06-14T10:13:25.737Z"
   },
   {
    "duration": 9,
    "start_time": "2022-06-14T10:13:28.145Z"
   },
   {
    "duration": 14,
    "start_time": "2022-06-14T10:13:32.597Z"
   },
   {
    "duration": 10,
    "start_time": "2022-06-14T10:13:34.192Z"
   },
   {
    "duration": 3,
    "start_time": "2022-06-14T10:13:44.308Z"
   },
   {
    "duration": 10,
    "start_time": "2022-06-14T10:13:44.941Z"
   },
   {
    "duration": 8,
    "start_time": "2022-06-14T10:13:48.033Z"
   },
   {
    "duration": 11,
    "start_time": "2022-06-14T10:13:48.677Z"
   },
   {
    "duration": 4,
    "start_time": "2022-06-14T10:13:53.678Z"
   },
   {
    "duration": 12,
    "start_time": "2022-06-14T10:14:04.117Z"
   },
   {
    "duration": 3,
    "start_time": "2022-06-14T10:14:33.271Z"
   },
   {
    "duration": 12,
    "start_time": "2022-06-14T10:14:34.020Z"
   },
   {
    "duration": 12,
    "start_time": "2022-06-14T10:14:44.419Z"
   },
   {
    "duration": 4,
    "start_time": "2022-06-14T10:14:47.092Z"
   },
   {
    "duration": 12,
    "start_time": "2022-06-14T10:14:48.089Z"
   },
   {
    "duration": 3,
    "start_time": "2022-06-14T10:15:08.772Z"
   },
   {
    "duration": 51,
    "start_time": "2022-06-14T10:17:48.264Z"
   },
   {
    "duration": 17,
    "start_time": "2022-06-14T10:18:06.143Z"
   },
   {
    "duration": 3,
    "start_time": "2022-06-14T10:18:46.628Z"
   },
   {
    "duration": 11,
    "start_time": "2022-06-14T10:18:47.160Z"
   },
   {
    "duration": 11,
    "start_time": "2022-06-14T10:19:11.339Z"
   },
   {
    "duration": 13,
    "start_time": "2022-06-14T10:19:12.027Z"
   },
   {
    "duration": 460,
    "start_time": "2022-06-14T10:19:27.045Z"
   },
   {
    "duration": 178,
    "start_time": "2022-06-14T10:19:27.507Z"
   },
   {
    "duration": 123,
    "start_time": "2022-06-14T10:19:27.686Z"
   },
   {
    "duration": 89,
    "start_time": "2022-06-14T10:19:27.811Z"
   },
   {
    "duration": 14,
    "start_time": "2022-06-14T10:19:27.902Z"
   },
   {
    "duration": 29,
    "start_time": "2022-06-14T10:19:27.918Z"
   },
   {
    "duration": 15,
    "start_time": "2022-06-14T10:19:27.949Z"
   },
   {
    "duration": 29,
    "start_time": "2022-06-14T10:19:27.966Z"
   },
   {
    "duration": 8,
    "start_time": "2022-06-14T10:19:27.996Z"
   },
   {
    "duration": 27,
    "start_time": "2022-06-14T10:19:28.005Z"
   },
   {
    "duration": 7,
    "start_time": "2022-06-14T10:19:28.034Z"
   },
   {
    "duration": 20,
    "start_time": "2022-06-14T10:19:28.063Z"
   },
   {
    "duration": 12,
    "start_time": "2022-06-14T10:19:28.084Z"
   },
   {
    "duration": 13,
    "start_time": "2022-06-14T10:19:28.099Z"
   },
   {
    "duration": 12,
    "start_time": "2022-06-14T10:19:28.113Z"
   },
   {
    "duration": 35,
    "start_time": "2022-06-14T10:19:28.126Z"
   },
   {
    "duration": 38,
    "start_time": "2022-06-14T10:19:28.162Z"
   },
   {
    "duration": 21,
    "start_time": "2022-06-14T10:19:28.202Z"
   },
   {
    "duration": 35,
    "start_time": "2022-06-14T10:19:28.225Z"
   },
   {
    "duration": 14,
    "start_time": "2022-06-14T10:19:28.262Z"
   },
   {
    "duration": 25,
    "start_time": "2022-06-14T10:19:28.277Z"
   },
   {
    "duration": 17,
    "start_time": "2022-06-14T10:19:28.303Z"
   },
   {
    "duration": 3,
    "start_time": "2022-06-14T10:19:28.321Z"
   },
   {
    "duration": 34,
    "start_time": "2022-06-14T10:19:28.325Z"
   },
   {
    "duration": 8,
    "start_time": "2022-06-14T10:19:28.361Z"
   },
   {
    "duration": 30,
    "start_time": "2022-06-14T10:19:28.371Z"
   },
   {
    "duration": 11,
    "start_time": "2022-06-14T10:19:28.402Z"
   },
   {
    "duration": 18,
    "start_time": "2022-06-14T10:19:28.414Z"
   },
   {
    "duration": 32,
    "start_time": "2022-06-14T10:19:28.434Z"
   },
   {
    "duration": 26,
    "start_time": "2022-06-14T10:19:28.468Z"
   },
   {
    "duration": 11,
    "start_time": "2022-06-14T10:19:28.496Z"
   },
   {
    "duration": 6,
    "start_time": "2022-06-14T10:19:28.509Z"
   },
   {
    "duration": 24,
    "start_time": "2022-06-14T10:19:28.517Z"
   },
   {
    "duration": 10,
    "start_time": "2022-06-14T10:19:28.542Z"
   },
   {
    "duration": 4,
    "start_time": "2022-06-14T10:19:28.558Z"
   },
   {
    "duration": 20,
    "start_time": "2022-06-14T10:19:28.564Z"
   },
   {
    "duration": 12,
    "start_time": "2022-06-14T10:19:28.587Z"
   },
   {
    "duration": 13,
    "start_time": "2022-06-14T10:19:28.600Z"
   },
   {
    "duration": 86,
    "start_time": "2022-06-14T10:19:28.614Z"
   },
   {
    "duration": 0,
    "start_time": "2022-06-14T10:19:28.701Z"
   },
   {
    "duration": 6,
    "start_time": "2022-06-14T10:22:41.289Z"
   },
   {
    "duration": 6,
    "start_time": "2022-06-14T10:22:49.692Z"
   },
   {
    "duration": 7,
    "start_time": "2022-06-14T10:23:10.781Z"
   },
   {
    "duration": 20,
    "start_time": "2022-06-14T10:23:11.223Z"
   },
   {
    "duration": 15,
    "start_time": "2022-06-14T10:26:10.751Z"
   },
   {
    "duration": 27,
    "start_time": "2022-06-14T10:26:26.272Z"
   },
   {
    "duration": 22,
    "start_time": "2022-06-14T10:26:36.207Z"
   },
   {
    "duration": 32,
    "start_time": "2022-06-14T10:27:04.998Z"
   },
   {
    "duration": 4,
    "start_time": "2022-06-14T10:27:38.920Z"
   },
   {
    "duration": 21,
    "start_time": "2022-06-14T10:27:52.250Z"
   },
   {
    "duration": 41,
    "start_time": "2022-06-14T10:36:24.861Z"
   },
   {
    "duration": 3,
    "start_time": "2022-06-14T10:36:35.621Z"
   },
   {
    "duration": 4,
    "start_time": "2022-06-14T10:37:44.499Z"
   },
   {
    "duration": 10,
    "start_time": "2022-06-14T10:37:46.200Z"
   },
   {
    "duration": 396,
    "start_time": "2022-06-14T10:38:08.199Z"
   },
   {
    "duration": 179,
    "start_time": "2022-06-14T10:38:08.601Z"
   },
   {
    "duration": 146,
    "start_time": "2022-06-14T10:38:08.782Z"
   },
   {
    "duration": 90,
    "start_time": "2022-06-14T10:38:08.930Z"
   },
   {
    "duration": 15,
    "start_time": "2022-06-14T10:38:09.022Z"
   },
   {
    "duration": 47,
    "start_time": "2022-06-14T10:38:09.038Z"
   },
   {
    "duration": 25,
    "start_time": "2022-06-14T10:38:09.087Z"
   },
   {
    "duration": 38,
    "start_time": "2022-06-14T10:38:09.113Z"
   },
   {
    "duration": 25,
    "start_time": "2022-06-14T10:38:09.153Z"
   },
   {
    "duration": 37,
    "start_time": "2022-06-14T10:38:09.181Z"
   },
   {
    "duration": 15,
    "start_time": "2022-06-14T10:38:09.219Z"
   },
   {
    "duration": 36,
    "start_time": "2022-06-14T10:38:09.235Z"
   },
   {
    "duration": 35,
    "start_time": "2022-06-14T10:38:09.275Z"
   },
   {
    "duration": 24,
    "start_time": "2022-06-14T10:38:09.312Z"
   },
   {
    "duration": 26,
    "start_time": "2022-06-14T10:38:09.338Z"
   },
   {
    "duration": 19,
    "start_time": "2022-06-14T10:38:09.366Z"
   },
   {
    "duration": 69,
    "start_time": "2022-06-14T10:38:09.386Z"
   },
   {
    "duration": 33,
    "start_time": "2022-06-14T10:38:09.456Z"
   },
   {
    "duration": 26,
    "start_time": "2022-06-14T10:38:09.499Z"
   },
   {
    "duration": 17,
    "start_time": "2022-06-14T10:38:09.527Z"
   },
   {
    "duration": 57,
    "start_time": "2022-06-14T10:38:09.545Z"
   },
   {
    "duration": 36,
    "start_time": "2022-06-14T10:38:09.606Z"
   },
   {
    "duration": 3,
    "start_time": "2022-06-14T10:38:09.643Z"
   },
   {
    "duration": 53,
    "start_time": "2022-06-14T10:38:09.647Z"
   },
   {
    "duration": 24,
    "start_time": "2022-06-14T10:38:09.702Z"
   },
   {
    "duration": 37,
    "start_time": "2022-06-14T10:38:09.728Z"
   },
   {
    "duration": 25,
    "start_time": "2022-06-14T10:38:09.783Z"
   },
   {
    "duration": 38,
    "start_time": "2022-06-14T10:38:09.812Z"
   },
   {
    "duration": 30,
    "start_time": "2022-06-14T10:38:09.852Z"
   },
   {
    "duration": 34,
    "start_time": "2022-06-14T10:38:09.884Z"
   },
   {
    "duration": 13,
    "start_time": "2022-06-14T10:38:09.920Z"
   },
   {
    "duration": 50,
    "start_time": "2022-06-14T10:38:09.934Z"
   },
   {
    "duration": 35,
    "start_time": "2022-06-14T10:38:09.988Z"
   },
   {
    "duration": 66,
    "start_time": "2022-06-14T10:38:10.025Z"
   },
   {
    "duration": 24,
    "start_time": "2022-06-14T10:38:10.100Z"
   },
   {
    "duration": 21,
    "start_time": "2022-06-14T10:38:10.125Z"
   },
   {
    "duration": 55,
    "start_time": "2022-06-14T10:38:10.148Z"
   },
   {
    "duration": 36,
    "start_time": "2022-06-14T10:38:10.205Z"
   },
   {
    "duration": 23,
    "start_time": "2022-06-14T10:38:10.243Z"
   },
   {
    "duration": 59,
    "start_time": "2022-06-14T10:38:10.267Z"
   },
   {
    "duration": 19,
    "start_time": "2022-06-14T10:38:10.327Z"
   },
   {
    "duration": 100,
    "start_time": "2022-06-14T10:38:10.348Z"
   },
   {
    "duration": 51,
    "start_time": "2022-06-14T10:38:10.450Z"
   },
   {
    "duration": 1,
    "start_time": "2022-06-14T10:38:10.502Z"
   },
   {
    "duration": 0,
    "start_time": "2022-06-14T10:38:10.504Z"
   },
   {
    "duration": 47,
    "start_time": "2022-06-14T10:44:25.138Z"
   },
   {
    "duration": 23,
    "start_time": "2022-06-14T10:45:55.717Z"
   },
   {
    "duration": 17,
    "start_time": "2022-06-14T10:46:03.122Z"
   },
   {
    "duration": 23,
    "start_time": "2022-06-14T10:46:20.909Z"
   },
   {
    "duration": 64,
    "start_time": "2022-06-14T10:46:33.378Z"
   },
   {
    "duration": 323,
    "start_time": "2022-06-14T10:48:29.091Z"
   },
   {
    "duration": 3,
    "start_time": "2022-06-14T10:48:40.507Z"
   },
   {
    "duration": 382,
    "start_time": "2022-06-14T10:48:53.830Z"
   },
   {
    "duration": 167,
    "start_time": "2022-06-14T10:48:54.214Z"
   },
   {
    "duration": 129,
    "start_time": "2022-06-14T10:48:54.383Z"
   },
   {
    "duration": 86,
    "start_time": "2022-06-14T10:48:54.514Z"
   },
   {
    "duration": 15,
    "start_time": "2022-06-14T10:48:54.602Z"
   },
   {
    "duration": 25,
    "start_time": "2022-06-14T10:48:54.619Z"
   },
   {
    "duration": 27,
    "start_time": "2022-06-14T10:48:54.646Z"
   },
   {
    "duration": 28,
    "start_time": "2022-06-14T10:48:54.675Z"
   },
   {
    "duration": 9,
    "start_time": "2022-06-14T10:48:54.705Z"
   },
   {
    "duration": 26,
    "start_time": "2022-06-14T10:48:54.717Z"
   },
   {
    "duration": 32,
    "start_time": "2022-06-14T10:48:54.745Z"
   },
   {
    "duration": 22,
    "start_time": "2022-06-14T10:48:54.779Z"
   },
   {
    "duration": 8,
    "start_time": "2022-06-14T10:48:54.803Z"
   },
   {
    "duration": 16,
    "start_time": "2022-06-14T10:48:54.812Z"
   },
   {
    "duration": 12,
    "start_time": "2022-06-14T10:48:54.830Z"
   },
   {
    "duration": 36,
    "start_time": "2022-06-14T10:48:54.844Z"
   },
   {
    "duration": 42,
    "start_time": "2022-06-14T10:48:54.881Z"
   },
   {
    "duration": 22,
    "start_time": "2022-06-14T10:48:54.925Z"
   },
   {
    "duration": 40,
    "start_time": "2022-06-14T10:48:54.948Z"
   },
   {
    "duration": 14,
    "start_time": "2022-06-14T10:48:54.990Z"
   },
   {
    "duration": 26,
    "start_time": "2022-06-14T10:48:55.006Z"
   },
   {
    "duration": 34,
    "start_time": "2022-06-14T10:48:55.034Z"
   },
   {
    "duration": 3,
    "start_time": "2022-06-14T10:48:55.069Z"
   },
   {
    "duration": 10,
    "start_time": "2022-06-14T10:48:55.075Z"
   },
   {
    "duration": 9,
    "start_time": "2022-06-14T10:48:55.087Z"
   },
   {
    "duration": 22,
    "start_time": "2022-06-14T10:48:55.097Z"
   },
   {
    "duration": 10,
    "start_time": "2022-06-14T10:48:55.121Z"
   },
   {
    "duration": 47,
    "start_time": "2022-06-14T10:48:55.134Z"
   },
   {
    "duration": 9,
    "start_time": "2022-06-14T10:48:55.183Z"
   },
   {
    "duration": 16,
    "start_time": "2022-06-14T10:48:55.194Z"
   },
   {
    "duration": 11,
    "start_time": "2022-06-14T10:48:55.211Z"
   },
   {
    "duration": 5,
    "start_time": "2022-06-14T10:48:55.223Z"
   },
   {
    "duration": 10,
    "start_time": "2022-06-14T10:48:55.230Z"
   },
   {
    "duration": 20,
    "start_time": "2022-06-14T10:48:55.241Z"
   },
   {
    "duration": 14,
    "start_time": "2022-06-14T10:48:55.262Z"
   },
   {
    "duration": 13,
    "start_time": "2022-06-14T10:48:55.278Z"
   },
   {
    "duration": 3,
    "start_time": "2022-06-14T10:48:55.293Z"
   },
   {
    "duration": 15,
    "start_time": "2022-06-14T10:48:55.297Z"
   },
   {
    "duration": 10,
    "start_time": "2022-06-14T10:48:55.313Z"
   },
   {
    "duration": 6,
    "start_time": "2022-06-14T10:48:55.324Z"
   },
   {
    "duration": 31,
    "start_time": "2022-06-14T10:48:55.332Z"
   },
   {
    "duration": 19,
    "start_time": "2022-06-14T10:48:55.365Z"
   },
   {
    "duration": 68,
    "start_time": "2022-06-14T10:48:55.386Z"
   },
   {
    "duration": 0,
    "start_time": "2022-06-14T10:48:55.459Z"
   },
   {
    "duration": 0,
    "start_time": "2022-06-14T10:48:55.460Z"
   },
   {
    "duration": 56,
    "start_time": "2022-06-14T11:00:40.877Z"
   },
   {
    "duration": 24,
    "start_time": "2022-06-14T11:01:26.919Z"
   },
   {
    "duration": 49,
    "start_time": "2022-06-14T11:01:45.223Z"
   },
   {
    "duration": 16,
    "start_time": "2022-06-14T11:02:24.286Z"
   },
   {
    "duration": 22,
    "start_time": "2022-06-14T11:02:35.751Z"
   },
   {
    "duration": 31,
    "start_time": "2022-06-14T11:04:52.677Z"
   },
   {
    "duration": 31,
    "start_time": "2022-06-14T11:05:05.649Z"
   },
   {
    "duration": 13,
    "start_time": "2022-06-14T11:05:11.141Z"
   },
   {
    "duration": 35,
    "start_time": "2022-06-14T11:06:24.705Z"
   },
   {
    "duration": 48,
    "start_time": "2022-06-14T11:06:56.396Z"
   },
   {
    "duration": 15,
    "start_time": "2022-06-14T11:07:00.863Z"
   },
   {
    "duration": 16,
    "start_time": "2022-06-14T11:07:07.454Z"
   },
   {
    "duration": 14,
    "start_time": "2022-06-14T11:07:19.076Z"
   },
   {
    "duration": 28,
    "start_time": "2022-06-14T11:22:29.603Z"
   },
   {
    "duration": 16,
    "start_time": "2022-06-14T11:22:53.421Z"
   },
   {
    "duration": 15,
    "start_time": "2022-06-14T11:38:13.826Z"
   },
   {
    "duration": 17,
    "start_time": "2022-06-14T11:41:16.210Z"
   },
   {
    "duration": 16,
    "start_time": "2022-06-14T11:42:11.727Z"
   },
   {
    "duration": 23,
    "start_time": "2022-06-14T11:43:09.943Z"
   },
   {
    "duration": 25,
    "start_time": "2022-06-14T11:48:05.340Z"
   },
   {
    "duration": 17,
    "start_time": "2022-06-14T11:56:00.473Z"
   },
   {
    "duration": 45,
    "start_time": "2022-06-15T10:26:16.442Z"
   },
   {
    "duration": 6,
    "start_time": "2022-06-15T10:28:52.541Z"
   },
   {
    "duration": 7,
    "start_time": "2022-06-15T10:30:03.441Z"
   },
   {
    "duration": 355,
    "start_time": "2022-06-15T10:30:14.303Z"
   },
   {
    "duration": 230,
    "start_time": "2022-06-15T10:30:14.660Z"
   },
   {
    "duration": 335,
    "start_time": "2022-06-15T10:30:14.891Z"
   },
   {
    "duration": 612,
    "start_time": "2022-06-15T10:30:15.228Z"
   },
   {
    "duration": 69,
    "start_time": "2022-06-15T10:30:15.842Z"
   },
   {
    "duration": 53,
    "start_time": "2022-06-15T10:30:15.913Z"
   },
   {
    "duration": 17,
    "start_time": "2022-06-15T10:30:15.967Z"
   },
   {
    "duration": 25,
    "start_time": "2022-06-15T10:30:15.986Z"
   },
   {
    "duration": 10,
    "start_time": "2022-06-15T10:30:16.013Z"
   },
   {
    "duration": 40,
    "start_time": "2022-06-15T10:30:16.025Z"
   },
   {
    "duration": 6,
    "start_time": "2022-06-15T10:30:16.067Z"
   },
   {
    "duration": 36,
    "start_time": "2022-06-15T10:30:16.075Z"
   },
   {
    "duration": 7,
    "start_time": "2022-06-15T10:30:16.112Z"
   },
   {
    "duration": 11,
    "start_time": "2022-06-15T10:30:16.123Z"
   },
   {
    "duration": 10,
    "start_time": "2022-06-15T10:30:16.135Z"
   },
   {
    "duration": 10,
    "start_time": "2022-06-15T10:30:16.159Z"
   },
   {
    "duration": 40,
    "start_time": "2022-06-15T10:30:16.170Z"
   },
   {
    "duration": 22,
    "start_time": "2022-06-15T10:30:16.212Z"
   },
   {
    "duration": 31,
    "start_time": "2022-06-15T10:30:16.235Z"
   },
   {
    "duration": 14,
    "start_time": "2022-06-15T10:30:16.267Z"
   },
   {
    "duration": 24,
    "start_time": "2022-06-15T10:30:16.282Z"
   },
   {
    "duration": 16,
    "start_time": "2022-06-15T10:30:16.308Z"
   },
   {
    "duration": 3,
    "start_time": "2022-06-15T10:30:16.325Z"
   },
   {
    "duration": 31,
    "start_time": "2022-06-15T10:30:16.329Z"
   },
   {
    "duration": 8,
    "start_time": "2022-06-15T10:30:16.361Z"
   },
   {
    "duration": 21,
    "start_time": "2022-06-15T10:30:16.371Z"
   },
   {
    "duration": 10,
    "start_time": "2022-06-15T10:30:16.394Z"
   },
   {
    "duration": 18,
    "start_time": "2022-06-15T10:30:16.406Z"
   },
   {
    "duration": 39,
    "start_time": "2022-06-15T10:30:16.426Z"
   },
   {
    "duration": 17,
    "start_time": "2022-06-15T10:30:16.467Z"
   },
   {
    "duration": 9,
    "start_time": "2022-06-15T10:30:16.485Z"
   },
   {
    "duration": 4,
    "start_time": "2022-06-15T10:30:16.496Z"
   },
   {
    "duration": 9,
    "start_time": "2022-06-15T10:30:16.501Z"
   },
   {
    "duration": 13,
    "start_time": "2022-06-15T10:30:16.512Z"
   },
   {
    "duration": 19,
    "start_time": "2022-06-15T10:30:16.526Z"
   },
   {
    "duration": 15,
    "start_time": "2022-06-15T10:30:16.547Z"
   },
   {
    "duration": 3,
    "start_time": "2022-06-15T10:30:16.563Z"
   },
   {
    "duration": 16,
    "start_time": "2022-06-15T10:30:16.568Z"
   },
   {
    "duration": 13,
    "start_time": "2022-06-15T10:30:16.585Z"
   },
   {
    "duration": 10,
    "start_time": "2022-06-15T10:30:16.599Z"
   },
   {
    "duration": 4,
    "start_time": "2022-06-15T10:30:16.612Z"
   },
   {
    "duration": 17,
    "start_time": "2022-06-15T10:30:16.617Z"
   },
   {
    "duration": 23,
    "start_time": "2022-06-15T10:30:16.635Z"
   },
   {
    "duration": 4,
    "start_time": "2022-06-15T10:30:16.660Z"
   },
   {
    "duration": 67,
    "start_time": "2022-06-15T10:30:16.665Z"
   },
   {
    "duration": 0,
    "start_time": "2022-06-15T10:30:16.733Z"
   },
   {
    "duration": 4,
    "start_time": "2022-06-15T10:30:39.900Z"
   },
   {
    "duration": 6,
    "start_time": "2022-06-15T10:31:09.172Z"
   },
   {
    "duration": 7,
    "start_time": "2022-06-15T10:31:10.012Z"
   },
   {
    "duration": 2,
    "start_time": "2022-06-15T10:34:10.258Z"
   },
   {
    "duration": 8,
    "start_time": "2022-06-15T10:37:48.264Z"
   },
   {
    "duration": 13,
    "start_time": "2022-06-15T10:37:57.996Z"
   },
   {
    "duration": 12,
    "start_time": "2022-06-15T10:38:01.757Z"
   },
   {
    "duration": 13,
    "start_time": "2022-06-15T10:38:23.592Z"
   },
   {
    "duration": 14,
    "start_time": "2022-06-15T10:38:25.087Z"
   },
   {
    "duration": 13,
    "start_time": "2022-06-15T10:38:56.263Z"
   },
   {
    "duration": 15,
    "start_time": "2022-06-15T10:38:57.149Z"
   },
   {
    "duration": 3,
    "start_time": "2022-06-15T10:53:08.755Z"
   },
   {
    "duration": 98,
    "start_time": "2022-06-15T10:53:19.552Z"
   },
   {
    "duration": 29,
    "start_time": "2022-06-15T10:54:35.391Z"
   },
   {
    "duration": 428,
    "start_time": "2022-06-15T10:55:52.727Z"
   },
   {
    "duration": 169,
    "start_time": "2022-06-15T10:55:53.157Z"
   },
   {
    "duration": 134,
    "start_time": "2022-06-15T10:55:53.328Z"
   },
   {
    "duration": 88,
    "start_time": "2022-06-15T10:55:53.464Z"
   },
   {
    "duration": 14,
    "start_time": "2022-06-15T10:55:53.555Z"
   },
   {
    "duration": 25,
    "start_time": "2022-06-15T10:55:53.571Z"
   },
   {
    "duration": 14,
    "start_time": "2022-06-15T10:55:53.598Z"
   },
   {
    "duration": 43,
    "start_time": "2022-06-15T10:55:53.613Z"
   },
   {
    "duration": 7,
    "start_time": "2022-06-15T10:55:53.658Z"
   },
   {
    "duration": 43,
    "start_time": "2022-06-15T10:55:53.667Z"
   },
   {
    "duration": 7,
    "start_time": "2022-06-15T10:55:53.712Z"
   },
   {
    "duration": 29,
    "start_time": "2022-06-15T10:55:53.721Z"
   },
   {
    "duration": 22,
    "start_time": "2022-06-15T10:55:53.752Z"
   },
   {
    "duration": 18,
    "start_time": "2022-06-15T10:55:53.779Z"
   },
   {
    "duration": 26,
    "start_time": "2022-06-15T10:55:53.798Z"
   },
   {
    "duration": 17,
    "start_time": "2022-06-15T10:55:53.826Z"
   },
   {
    "duration": 39,
    "start_time": "2022-06-15T10:55:53.844Z"
   },
   {
    "duration": 21,
    "start_time": "2022-06-15T10:55:53.885Z"
   },
   {
    "duration": 20,
    "start_time": "2022-06-15T10:55:53.907Z"
   },
   {
    "duration": 30,
    "start_time": "2022-06-15T10:55:53.929Z"
   },
   {
    "duration": 25,
    "start_time": "2022-06-15T10:55:53.960Z"
   },
   {
    "duration": 17,
    "start_time": "2022-06-15T10:55:53.987Z"
   },
   {
    "duration": 3,
    "start_time": "2022-06-15T10:55:54.006Z"
   },
   {
    "duration": 10,
    "start_time": "2022-06-15T10:55:54.010Z"
   },
   {
    "duration": 12,
    "start_time": "2022-06-15T10:55:54.021Z"
   },
   {
    "duration": 37,
    "start_time": "2022-06-15T10:55:54.035Z"
   },
   {
    "duration": 11,
    "start_time": "2022-06-15T10:55:54.074Z"
   },
   {
    "duration": 16,
    "start_time": "2022-06-15T10:55:54.087Z"
   },
   {
    "duration": 8,
    "start_time": "2022-06-15T10:55:54.105Z"
   },
   {
    "duration": 19,
    "start_time": "2022-06-15T10:55:54.115Z"
   },
   {
    "duration": 32,
    "start_time": "2022-06-15T10:55:54.135Z"
   },
   {
    "duration": 6,
    "start_time": "2022-06-15T10:55:54.169Z"
   },
   {
    "duration": 9,
    "start_time": "2022-06-15T10:55:54.176Z"
   },
   {
    "duration": 6,
    "start_time": "2022-06-15T10:55:54.186Z"
   },
   {
    "duration": 12,
    "start_time": "2022-06-15T10:55:54.193Z"
   },
   {
    "duration": 10,
    "start_time": "2022-06-15T10:55:54.206Z"
   },
   {
    "duration": 13,
    "start_time": "2022-06-15T10:55:54.218Z"
   },
   {
    "duration": 13,
    "start_time": "2022-06-15T10:55:54.232Z"
   },
   {
    "duration": 16,
    "start_time": "2022-06-15T10:55:54.247Z"
   },
   {
    "duration": 7,
    "start_time": "2022-06-15T10:55:54.264Z"
   },
   {
    "duration": 4,
    "start_time": "2022-06-15T10:55:54.274Z"
   },
   {
    "duration": 16,
    "start_time": "2022-06-15T10:55:54.279Z"
   },
   {
    "duration": 14,
    "start_time": "2022-06-15T10:55:54.296Z"
   },
   {
    "duration": 14,
    "start_time": "2022-06-15T10:55:54.311Z"
   },
   {
    "duration": 43,
    "start_time": "2022-06-15T10:55:54.326Z"
   },
   {
    "duration": 10,
    "start_time": "2022-06-15T10:55:54.370Z"
   },
   {
    "duration": 0,
    "start_time": "2022-06-15T10:55:54.381Z"
   },
   {
    "duration": 0,
    "start_time": "2022-06-15T10:55:54.383Z"
   },
   {
    "duration": 3,
    "start_time": "2022-06-15T10:56:24.222Z"
   },
   {
    "duration": 13,
    "start_time": "2022-06-15T10:56:50.096Z"
   },
   {
    "duration": 2,
    "start_time": "2022-06-15T10:57:04.165Z"
   },
   {
    "duration": 13,
    "start_time": "2022-06-15T10:57:06.693Z"
   },
   {
    "duration": 3,
    "start_time": "2022-06-15T10:57:28.002Z"
   },
   {
    "duration": 14,
    "start_time": "2022-06-15T10:57:28.692Z"
   },
   {
    "duration": 844,
    "start_time": "2022-06-15T11:01:44.163Z"
   },
   {
    "duration": 15,
    "start_time": "2022-06-15T11:02:19.676Z"
   },
   {
    "duration": 14,
    "start_time": "2022-06-15T11:02:31.450Z"
   },
   {
    "duration": 10,
    "start_time": "2022-06-15T11:02:32.085Z"
   },
   {
    "duration": 10,
    "start_time": "2022-06-15T11:02:53.417Z"
   },
   {
    "duration": 235,
    "start_time": "2022-06-15T11:03:08.001Z"
   },
   {
    "duration": 200,
    "start_time": "2022-06-15T11:10:16.245Z"
   },
   {
    "duration": 11,
    "start_time": "2022-06-15T11:14:09.820Z"
   },
   {
    "duration": 143,
    "start_time": "2022-06-15T11:14:24.595Z"
   },
   {
    "duration": 13,
    "start_time": "2022-06-15T11:15:09.103Z"
   },
   {
    "duration": 11,
    "start_time": "2022-06-15T11:15:34.595Z"
   },
   {
    "duration": 143,
    "start_time": "2022-06-15T11:15:46.827Z"
   },
   {
    "duration": 11,
    "start_time": "2022-06-15T11:16:23.979Z"
   },
   {
    "duration": 9,
    "start_time": "2022-06-15T11:18:41.332Z"
   },
   {
    "duration": 13,
    "start_time": "2022-06-15T11:21:07.632Z"
   },
   {
    "duration": 15,
    "start_time": "2022-06-15T11:21:32.339Z"
   },
   {
    "duration": 12,
    "start_time": "2022-06-15T11:22:10.175Z"
   },
   {
    "duration": 15,
    "start_time": "2022-06-15T11:22:14.836Z"
   },
   {
    "duration": 7,
    "start_time": "2022-06-15T11:22:31.006Z"
   },
   {
    "duration": 12,
    "start_time": "2022-06-15T11:22:33.105Z"
   },
   {
    "duration": 144,
    "start_time": "2022-06-15T11:22:34.037Z"
   },
   {
    "duration": 13,
    "start_time": "2022-06-15T11:22:43.737Z"
   },
   {
    "duration": 161,
    "start_time": "2022-06-15T11:22:50.743Z"
   },
   {
    "duration": 7,
    "start_time": "2022-06-15T11:23:01.391Z"
   },
   {
    "duration": 12,
    "start_time": "2022-06-15T11:23:08.444Z"
   },
   {
    "duration": 10,
    "start_time": "2022-06-15T11:23:12.505Z"
   },
   {
    "duration": 161,
    "start_time": "2022-06-15T11:23:15.049Z"
   },
   {
    "duration": 16,
    "start_time": "2022-06-15T11:25:31.584Z"
   },
   {
    "duration": 3,
    "start_time": "2022-06-15T11:26:18.095Z"
   },
   {
    "duration": 13,
    "start_time": "2022-06-15T11:26:32.039Z"
   },
   {
    "duration": 134,
    "start_time": "2022-06-15T11:27:02.179Z"
   },
   {
    "duration": 2,
    "start_time": "2022-06-15T11:30:05.297Z"
   },
   {
    "duration": 14,
    "start_time": "2022-06-15T11:30:07.302Z"
   },
   {
    "duration": 3,
    "start_time": "2022-06-15T11:30:08.420Z"
   },
   {
    "duration": 8,
    "start_time": "2022-06-15T11:30:08.947Z"
   },
   {
    "duration": 295,
    "start_time": "2022-06-15T11:31:08.867Z"
   },
   {
    "duration": 17,
    "start_time": "2022-06-15T12:10:01.753Z"
   },
   {
    "duration": 3,
    "start_time": "2022-06-15T12:10:03.592Z"
   },
   {
    "duration": 9,
    "start_time": "2022-06-15T12:10:04.029Z"
   },
   {
    "duration": 279,
    "start_time": "2022-06-15T12:14:25.529Z"
   },
   {
    "duration": 386,
    "start_time": "2022-06-15T12:14:48.607Z"
   },
   {
    "duration": 190,
    "start_time": "2022-06-15T12:15:21.286Z"
   },
   {
    "duration": 7,
    "start_time": "2022-06-15T12:18:27.016Z"
   },
   {
    "duration": 353,
    "start_time": "2022-06-15T12:18:33.109Z"
   },
   {
    "duration": 158,
    "start_time": "2022-06-15T12:18:33.463Z"
   },
   {
    "duration": 127,
    "start_time": "2022-06-15T12:18:33.623Z"
   },
   {
    "duration": 93,
    "start_time": "2022-06-15T12:18:33.752Z"
   },
   {
    "duration": 15,
    "start_time": "2022-06-15T12:18:33.848Z"
   },
   {
    "duration": 50,
    "start_time": "2022-06-15T12:18:33.865Z"
   },
   {
    "duration": 25,
    "start_time": "2022-06-15T12:18:33.917Z"
   },
   {
    "duration": 46,
    "start_time": "2022-06-15T12:18:33.943Z"
   },
   {
    "duration": 9,
    "start_time": "2022-06-15T12:18:33.991Z"
   },
   {
    "duration": 37,
    "start_time": "2022-06-15T12:18:34.002Z"
   },
   {
    "duration": 18,
    "start_time": "2022-06-15T12:18:34.041Z"
   },
   {
    "duration": 27,
    "start_time": "2022-06-15T12:18:34.061Z"
   },
   {
    "duration": 19,
    "start_time": "2022-06-15T12:18:34.089Z"
   },
   {
    "duration": 18,
    "start_time": "2022-06-15T12:18:34.112Z"
   },
   {
    "duration": 35,
    "start_time": "2022-06-15T12:18:34.132Z"
   },
   {
    "duration": 16,
    "start_time": "2022-06-15T12:18:34.169Z"
   },
   {
    "duration": 38,
    "start_time": "2022-06-15T12:18:34.186Z"
   },
   {
    "duration": 22,
    "start_time": "2022-06-15T12:18:34.225Z"
   },
   {
    "duration": 27,
    "start_time": "2022-06-15T12:18:34.248Z"
   },
   {
    "duration": 17,
    "start_time": "2022-06-15T12:18:34.276Z"
   },
   {
    "duration": 36,
    "start_time": "2022-06-15T12:18:34.294Z"
   },
   {
    "duration": 16,
    "start_time": "2022-06-15T12:18:34.331Z"
   },
   {
    "duration": 17,
    "start_time": "2022-06-15T12:18:34.349Z"
   },
   {
    "duration": 15,
    "start_time": "2022-06-15T12:18:34.367Z"
   },
   {
    "duration": 18,
    "start_time": "2022-06-15T12:18:34.384Z"
   },
   {
    "duration": 35,
    "start_time": "2022-06-15T12:18:34.403Z"
   },
   {
    "duration": 9,
    "start_time": "2022-06-15T12:18:34.440Z"
   },
   {
    "duration": 43,
    "start_time": "2022-06-15T12:18:34.451Z"
   },
   {
    "duration": 8,
    "start_time": "2022-06-15T12:18:34.496Z"
   },
   {
    "duration": 33,
    "start_time": "2022-06-15T12:18:34.505Z"
   },
   {
    "duration": 9,
    "start_time": "2022-06-15T12:18:34.540Z"
   },
   {
    "duration": 19,
    "start_time": "2022-06-15T12:18:34.551Z"
   },
   {
    "duration": 18,
    "start_time": "2022-06-15T12:18:34.572Z"
   },
   {
    "duration": 13,
    "start_time": "2022-06-15T12:18:34.592Z"
   },
   {
    "duration": 33,
    "start_time": "2022-06-15T12:18:34.607Z"
   },
   {
    "duration": 26,
    "start_time": "2022-06-15T12:18:34.641Z"
   },
   {
    "duration": 13,
    "start_time": "2022-06-15T12:18:34.668Z"
   },
   {
    "duration": 28,
    "start_time": "2022-06-15T12:18:34.682Z"
   },
   {
    "duration": 30,
    "start_time": "2022-06-15T12:18:34.711Z"
   },
   {
    "duration": 15,
    "start_time": "2022-06-15T12:18:34.743Z"
   },
   {
    "duration": 19,
    "start_time": "2022-06-15T12:18:34.762Z"
   },
   {
    "duration": 38,
    "start_time": "2022-06-15T12:18:34.782Z"
   },
   {
    "duration": 18,
    "start_time": "2022-06-15T12:18:34.822Z"
   },
   {
    "duration": 32,
    "start_time": "2022-06-15T12:18:34.842Z"
   },
   {
    "duration": 26,
    "start_time": "2022-06-15T12:18:34.876Z"
   },
   {
    "duration": 358,
    "start_time": "2022-06-15T12:18:34.904Z"
   },
   {
    "duration": 66,
    "start_time": "2022-06-15T12:18:35.264Z"
   },
   {
    "duration": 0,
    "start_time": "2022-06-15T12:18:35.331Z"
   },
   {
    "duration": 0,
    "start_time": "2022-06-15T12:18:35.333Z"
   },
   {
    "duration": 0,
    "start_time": "2022-06-15T12:18:35.334Z"
   },
   {
    "duration": 0,
    "start_time": "2022-06-15T12:18:35.335Z"
   },
   {
    "duration": 0,
    "start_time": "2022-06-15T12:18:35.337Z"
   },
   {
    "duration": 0,
    "start_time": "2022-06-15T12:18:35.359Z"
   },
   {
    "duration": 0,
    "start_time": "2022-06-15T12:18:35.361Z"
   },
   {
    "duration": 116,
    "start_time": "2022-06-15T12:19:13.945Z"
   },
   {
    "duration": 7,
    "start_time": "2022-06-15T12:21:38.446Z"
   },
   {
    "duration": 139,
    "start_time": "2022-06-15T12:21:39.152Z"
   },
   {
    "duration": 397,
    "start_time": "2022-06-15T12:22:28.464Z"
   },
   {
    "duration": 156,
    "start_time": "2022-06-15T12:22:28.863Z"
   },
   {
    "duration": 131,
    "start_time": "2022-06-15T12:22:29.021Z"
   },
   {
    "duration": 83,
    "start_time": "2022-06-15T12:22:29.154Z"
   },
   {
    "duration": 15,
    "start_time": "2022-06-15T12:22:29.239Z"
   },
   {
    "duration": 26,
    "start_time": "2022-06-15T12:22:29.255Z"
   },
   {
    "duration": 14,
    "start_time": "2022-06-15T12:22:29.283Z"
   },
   {
    "duration": 28,
    "start_time": "2022-06-15T12:22:29.298Z"
   },
   {
    "duration": 9,
    "start_time": "2022-06-15T12:22:29.328Z"
   },
   {
    "duration": 27,
    "start_time": "2022-06-15T12:22:29.338Z"
   },
   {
    "duration": 6,
    "start_time": "2022-06-15T12:22:29.367Z"
   },
   {
    "duration": 25,
    "start_time": "2022-06-15T12:22:29.374Z"
   },
   {
    "duration": 8,
    "start_time": "2022-06-15T12:22:29.400Z"
   },
   {
    "duration": 11,
    "start_time": "2022-06-15T12:22:29.411Z"
   },
   {
    "duration": 12,
    "start_time": "2022-06-15T12:22:29.423Z"
   },
   {
    "duration": 32,
    "start_time": "2022-06-15T12:22:29.436Z"
   },
   {
    "duration": 46,
    "start_time": "2022-06-15T12:22:29.470Z"
   },
   {
    "duration": 21,
    "start_time": "2022-06-15T12:22:29.518Z"
   },
   {
    "duration": 28,
    "start_time": "2022-06-15T12:22:29.541Z"
   },
   {
    "duration": 17,
    "start_time": "2022-06-15T12:22:29.571Z"
   },
   {
    "duration": 24,
    "start_time": "2022-06-15T12:22:29.589Z"
   },
   {
    "duration": 16,
    "start_time": "2022-06-15T12:22:29.615Z"
   },
   {
    "duration": 26,
    "start_time": "2022-06-15T12:22:29.633Z"
   },
   {
    "duration": 8,
    "start_time": "2022-06-15T12:22:29.661Z"
   },
   {
    "duration": 9,
    "start_time": "2022-06-15T12:22:29.670Z"
   },
   {
    "duration": 20,
    "start_time": "2022-06-15T12:22:29.681Z"
   },
   {
    "duration": 10,
    "start_time": "2022-06-15T12:22:29.702Z"
   },
   {
    "duration": 9,
    "start_time": "2022-06-15T12:22:29.713Z"
   },
   {
    "duration": 42,
    "start_time": "2022-06-15T12:22:29.723Z"
   },
   {
    "duration": 8,
    "start_time": "2022-06-15T12:22:29.767Z"
   },
   {
    "duration": 16,
    "start_time": "2022-06-15T12:22:29.776Z"
   },
   {
    "duration": 9,
    "start_time": "2022-06-15T12:22:29.793Z"
   },
   {
    "duration": 2,
    "start_time": "2022-06-15T12:22:29.804Z"
   },
   {
    "duration": 6,
    "start_time": "2022-06-15T12:22:29.808Z"
   },
   {
    "duration": 5,
    "start_time": "2022-06-15T12:22:29.815Z"
   },
   {
    "duration": 11,
    "start_time": "2022-06-15T12:22:29.821Z"
   },
   {
    "duration": 31,
    "start_time": "2022-06-15T12:22:29.833Z"
   },
   {
    "duration": 3,
    "start_time": "2022-06-15T12:22:29.866Z"
   },
   {
    "duration": 13,
    "start_time": "2022-06-15T12:22:29.870Z"
   },
   {
    "duration": 9,
    "start_time": "2022-06-15T12:22:29.884Z"
   },
   {
    "duration": 7,
    "start_time": "2022-06-15T12:22:29.896Z"
   },
   {
    "duration": 7,
    "start_time": "2022-06-15T12:22:29.904Z"
   },
   {
    "duration": 15,
    "start_time": "2022-06-15T12:22:29.912Z"
   },
   {
    "duration": 37,
    "start_time": "2022-06-15T12:22:29.929Z"
   },
   {
    "duration": 14,
    "start_time": "2022-06-15T12:22:29.967Z"
   },
   {
    "duration": 9,
    "start_time": "2022-06-15T12:22:29.983Z"
   },
   {
    "duration": 368,
    "start_time": "2022-06-15T12:22:29.993Z"
   },
   {
    "duration": 8,
    "start_time": "2022-06-15T12:22:30.362Z"
   },
   {
    "duration": 48,
    "start_time": "2022-06-15T12:22:30.372Z"
   },
   {
    "duration": 189,
    "start_time": "2022-06-15T12:22:30.422Z"
   },
   {
    "duration": 47,
    "start_time": "2022-06-15T12:22:30.612Z"
   },
   {
    "duration": 160,
    "start_time": "2022-06-15T12:22:30.661Z"
   },
   {
    "duration": 12,
    "start_time": "2022-06-15T12:22:30.823Z"
   },
   {
    "duration": 174,
    "start_time": "2022-06-15T12:22:30.836Z"
   },
   {
    "duration": 9,
    "start_time": "2022-06-15T12:22:31.012Z"
   },
   {
    "duration": 9,
    "start_time": "2022-06-15T12:22:31.023Z"
   },
   {
    "duration": 29,
    "start_time": "2022-06-15T12:22:31.033Z"
   },
   {
    "duration": 78,
    "start_time": "2022-06-15T12:23:27.748Z"
   },
   {
    "duration": 7,
    "start_time": "2022-06-15T12:23:38.322Z"
   },
   {
    "duration": 14,
    "start_time": "2022-06-15T12:23:54.737Z"
   },
   {
    "duration": 13,
    "start_time": "2022-06-15T12:24:40.741Z"
   },
   {
    "duration": 421,
    "start_time": "2022-06-15T12:25:03.616Z"
   },
   {
    "duration": 190,
    "start_time": "2022-06-15T12:25:04.040Z"
   },
   {
    "duration": 138,
    "start_time": "2022-06-15T12:25:04.233Z"
   },
   {
    "duration": 114,
    "start_time": "2022-06-15T12:25:04.373Z"
   },
   {
    "duration": 17,
    "start_time": "2022-06-15T12:25:04.489Z"
   },
   {
    "duration": 51,
    "start_time": "2022-06-15T12:25:04.508Z"
   },
   {
    "duration": 16,
    "start_time": "2022-06-15T12:25:04.561Z"
   },
   {
    "duration": 51,
    "start_time": "2022-06-15T12:25:04.579Z"
   },
   {
    "duration": 13,
    "start_time": "2022-06-15T12:25:04.632Z"
   },
   {
    "duration": 47,
    "start_time": "2022-06-15T12:25:04.648Z"
   },
   {
    "duration": 8,
    "start_time": "2022-06-15T12:25:04.697Z"
   },
   {
    "duration": 43,
    "start_time": "2022-06-15T12:25:04.706Z"
   },
   {
    "duration": 16,
    "start_time": "2022-06-15T12:25:04.751Z"
   },
   {
    "duration": 23,
    "start_time": "2022-06-15T12:25:04.769Z"
   },
   {
    "duration": 43,
    "start_time": "2022-06-15T12:25:04.794Z"
   },
   {
    "duration": 19,
    "start_time": "2022-06-15T12:25:04.839Z"
   },
   {
    "duration": 86,
    "start_time": "2022-06-15T12:25:04.860Z"
   },
   {
    "duration": 27,
    "start_time": "2022-06-15T12:25:04.949Z"
   },
   {
    "duration": 40,
    "start_time": "2022-06-15T12:25:04.977Z"
   },
   {
    "duration": 26,
    "start_time": "2022-06-15T12:25:05.019Z"
   },
   {
    "duration": 62,
    "start_time": "2022-06-15T12:25:05.048Z"
   },
   {
    "duration": 36,
    "start_time": "2022-06-15T12:25:05.113Z"
   },
   {
    "duration": 23,
    "start_time": "2022-06-15T12:25:05.152Z"
   },
   {
    "duration": 46,
    "start_time": "2022-06-15T12:25:05.178Z"
   },
   {
    "duration": 22,
    "start_time": "2022-06-15T12:25:05.226Z"
   },
   {
    "duration": 37,
    "start_time": "2022-06-15T12:25:05.251Z"
   },
   {
    "duration": 14,
    "start_time": "2022-06-15T12:25:05.290Z"
   },
   {
    "duration": 34,
    "start_time": "2022-06-15T12:25:05.309Z"
   },
   {
    "duration": 25,
    "start_time": "2022-06-15T12:25:05.345Z"
   },
   {
    "duration": 26,
    "start_time": "2022-06-15T12:25:05.373Z"
   },
   {
    "duration": 35,
    "start_time": "2022-06-15T12:25:05.402Z"
   },
   {
    "duration": 35,
    "start_time": "2022-06-15T12:25:05.439Z"
   },
   {
    "duration": 48,
    "start_time": "2022-06-15T12:25:05.476Z"
   },
   {
    "duration": 46,
    "start_time": "2022-06-15T12:25:05.526Z"
   },
   {
    "duration": 20,
    "start_time": "2022-06-15T12:25:05.574Z"
   },
   {
    "duration": 30,
    "start_time": "2022-06-15T12:25:05.596Z"
   },
   {
    "duration": 44,
    "start_time": "2022-06-15T12:25:05.628Z"
   },
   {
    "duration": 15,
    "start_time": "2022-06-15T12:25:05.674Z"
   },
   {
    "duration": 24,
    "start_time": "2022-06-15T12:25:05.690Z"
   },
   {
    "duration": 26,
    "start_time": "2022-06-15T12:25:05.716Z"
   },
   {
    "duration": 20,
    "start_time": "2022-06-15T12:25:05.744Z"
   },
   {
    "duration": 20,
    "start_time": "2022-06-15T12:25:05.765Z"
   },
   {
    "duration": 26,
    "start_time": "2022-06-15T12:25:05.786Z"
   },
   {
    "duration": 22,
    "start_time": "2022-06-15T12:25:05.813Z"
   },
   {
    "duration": 31,
    "start_time": "2022-06-15T12:25:05.837Z"
   },
   {
    "duration": 20,
    "start_time": "2022-06-15T12:25:05.870Z"
   },
   {
    "duration": 396,
    "start_time": "2022-06-15T12:25:05.892Z"
   },
   {
    "duration": 7,
    "start_time": "2022-06-15T12:25:06.291Z"
   },
   {
    "duration": 18,
    "start_time": "2022-06-15T12:25:06.299Z"
   },
   {
    "duration": 6,
    "start_time": "2022-06-15T12:25:06.319Z"
   },
   {
    "duration": 157,
    "start_time": "2022-06-15T12:25:06.327Z"
   },
   {
    "duration": 13,
    "start_time": "2022-06-15T12:25:06.486Z"
   },
   {
    "duration": 182,
    "start_time": "2022-06-15T12:25:06.500Z"
   },
   {
    "duration": 15,
    "start_time": "2022-06-15T12:25:06.684Z"
   },
   {
    "duration": 171,
    "start_time": "2022-06-15T12:25:06.702Z"
   },
   {
    "duration": 10,
    "start_time": "2022-06-15T12:25:06.875Z"
   },
   {
    "duration": 3,
    "start_time": "2022-06-15T12:25:06.886Z"
   },
   {
    "duration": 11,
    "start_time": "2022-06-15T12:25:06.891Z"
   },
   {
    "duration": 331,
    "start_time": "2022-06-15T12:28:00.245Z"
   },
   {
    "duration": 24,
    "start_time": "2022-06-15T12:28:06.215Z"
   },
   {
    "duration": 43,
    "start_time": "2022-06-15T12:31:53.372Z"
   },
   {
    "duration": 22,
    "start_time": "2022-06-15T12:32:01.102Z"
   },
   {
    "duration": 19,
    "start_time": "2022-06-15T12:32:52.769Z"
   },
   {
    "duration": 72,
    "start_time": "2022-06-15T12:34:21.724Z"
   },
   {
    "duration": 5,
    "start_time": "2022-06-15T12:34:44.829Z"
   },
   {
    "duration": 15,
    "start_time": "2022-06-15T12:34:52.712Z"
   },
   {
    "duration": 134,
    "start_time": "2022-06-15T12:35:05.576Z"
   },
   {
    "duration": 5,
    "start_time": "2022-06-15T12:36:48.635Z"
   },
   {
    "duration": 135,
    "start_time": "2022-06-15T12:37:00.175Z"
   },
   {
    "duration": 374,
    "start_time": "2022-06-15T12:40:39.107Z"
   },
   {
    "duration": 257,
    "start_time": "2022-06-15T12:40:39.483Z"
   },
   {
    "duration": 343,
    "start_time": "2022-06-15T12:40:39.742Z"
   },
   {
    "duration": 326,
    "start_time": "2022-06-15T12:40:40.088Z"
   },
   {
    "duration": 46,
    "start_time": "2022-06-15T12:40:40.417Z"
   },
   {
    "duration": 48,
    "start_time": "2022-06-15T12:40:40.465Z"
   },
   {
    "duration": 13,
    "start_time": "2022-06-15T12:40:40.515Z"
   },
   {
    "duration": 29,
    "start_time": "2022-06-15T12:40:40.529Z"
   },
   {
    "duration": 12,
    "start_time": "2022-06-15T12:40:40.565Z"
   },
   {
    "duration": 43,
    "start_time": "2022-06-15T12:40:40.579Z"
   },
   {
    "duration": 7,
    "start_time": "2022-06-15T12:40:40.624Z"
   },
   {
    "duration": 41,
    "start_time": "2022-06-15T12:40:40.633Z"
   },
   {
    "duration": 7,
    "start_time": "2022-06-15T12:40:40.676Z"
   },
   {
    "duration": 17,
    "start_time": "2022-06-15T12:40:40.687Z"
   },
   {
    "duration": 15,
    "start_time": "2022-06-15T12:40:40.706Z"
   },
   {
    "duration": 21,
    "start_time": "2022-06-15T12:40:40.722Z"
   },
   {
    "duration": 51,
    "start_time": "2022-06-15T12:40:40.745Z"
   },
   {
    "duration": 21,
    "start_time": "2022-06-15T12:40:40.798Z"
   },
   {
    "duration": 19,
    "start_time": "2022-06-15T12:40:40.821Z"
   },
   {
    "duration": 20,
    "start_time": "2022-06-15T12:40:40.860Z"
   },
   {
    "duration": 30,
    "start_time": "2022-06-15T12:40:40.882Z"
   },
   {
    "duration": 22,
    "start_time": "2022-06-15T12:40:40.915Z"
   },
   {
    "duration": 22,
    "start_time": "2022-06-15T12:40:40.939Z"
   },
   {
    "duration": 6,
    "start_time": "2022-06-15T12:40:40.965Z"
   },
   {
    "duration": 18,
    "start_time": "2022-06-15T12:40:40.973Z"
   },
   {
    "duration": 22,
    "start_time": "2022-06-15T12:40:40.993Z"
   },
   {
    "duration": 11,
    "start_time": "2022-06-15T12:40:41.017Z"
   },
   {
    "duration": 13,
    "start_time": "2022-06-15T12:40:41.030Z"
   },
   {
    "duration": 31,
    "start_time": "2022-06-15T12:40:41.062Z"
   },
   {
    "duration": 9,
    "start_time": "2022-06-15T12:40:41.094Z"
   },
   {
    "duration": 16,
    "start_time": "2022-06-15T12:40:41.105Z"
   },
   {
    "duration": 10,
    "start_time": "2022-06-15T12:40:41.123Z"
   },
   {
    "duration": 6,
    "start_time": "2022-06-15T12:40:41.134Z"
   },
   {
    "duration": 21,
    "start_time": "2022-06-15T12:40:41.141Z"
   },
   {
    "duration": 17,
    "start_time": "2022-06-15T12:40:41.164Z"
   },
   {
    "duration": 12,
    "start_time": "2022-06-15T12:40:41.183Z"
   },
   {
    "duration": 15,
    "start_time": "2022-06-15T12:40:41.197Z"
   },
   {
    "duration": 7,
    "start_time": "2022-06-15T12:40:41.214Z"
   },
   {
    "duration": 19,
    "start_time": "2022-06-15T12:40:41.222Z"
   },
   {
    "duration": 14,
    "start_time": "2022-06-15T12:40:41.243Z"
   },
   {
    "duration": 8,
    "start_time": "2022-06-15T12:40:41.270Z"
   },
   {
    "duration": 9,
    "start_time": "2022-06-15T12:40:41.280Z"
   },
   {
    "duration": 14,
    "start_time": "2022-06-15T12:40:41.291Z"
   },
   {
    "duration": 12,
    "start_time": "2022-06-15T12:40:41.306Z"
   },
   {
    "duration": 12,
    "start_time": "2022-06-15T12:40:41.319Z"
   },
   {
    "duration": 9,
    "start_time": "2022-06-15T12:40:41.332Z"
   },
   {
    "duration": 371,
    "start_time": "2022-06-15T12:40:41.358Z"
   },
   {
    "duration": 7,
    "start_time": "2022-06-15T12:40:41.731Z"
   },
   {
    "duration": 24,
    "start_time": "2022-06-15T12:40:41.740Z"
   },
   {
    "duration": 19,
    "start_time": "2022-06-15T12:40:41.770Z"
   },
   {
    "duration": 182,
    "start_time": "2022-06-15T12:40:41.791Z"
   },
   {
    "duration": 145,
    "start_time": "2022-06-15T12:40:41.974Z"
   },
   {
    "duration": 4,
    "start_time": "2022-06-15T12:40:42.121Z"
   },
   {
    "duration": 18,
    "start_time": "2022-06-15T12:40:42.126Z"
   },
   {
    "duration": 159,
    "start_time": "2022-06-15T12:40:42.145Z"
   },
   {
    "duration": 13,
    "start_time": "2022-06-15T12:40:42.305Z"
   },
   {
    "duration": 222,
    "start_time": "2022-06-15T12:40:42.319Z"
   },
   {
    "duration": 23,
    "start_time": "2022-06-15T12:40:42.543Z"
   },
   {
    "duration": 12,
    "start_time": "2022-06-15T12:40:42.567Z"
   },
   {
    "duration": 11,
    "start_time": "2022-06-15T12:40:42.581Z"
   },
   {
    "duration": 6,
    "start_time": "2022-06-15T12:42:29.588Z"
   },
   {
    "duration": 3,
    "start_time": "2022-06-15T12:42:49.647Z"
   },
   {
    "duration": 3,
    "start_time": "2022-06-15T12:43:13.244Z"
   },
   {
    "duration": 3,
    "start_time": "2022-06-15T12:43:15.041Z"
   },
   {
    "duration": 37,
    "start_time": "2022-06-15T12:44:05.038Z"
   },
   {
    "duration": 3,
    "start_time": "2022-06-15T12:45:17.049Z"
   },
   {
    "duration": 3,
    "start_time": "2022-06-15T12:45:34.783Z"
   },
   {
    "duration": 9,
    "start_time": "2022-06-15T12:46:07.820Z"
   },
   {
    "duration": 5,
    "start_time": "2022-06-15T12:47:48.586Z"
   },
   {
    "duration": 4,
    "start_time": "2022-06-15T12:48:33.099Z"
   },
   {
    "duration": 69,
    "start_time": "2022-06-15T12:49:00.375Z"
   },
   {
    "duration": 4,
    "start_time": "2022-06-15T12:49:02.943Z"
   },
   {
    "duration": 3,
    "start_time": "2022-06-15T12:49:03.698Z"
   },
   {
    "duration": 3,
    "start_time": "2022-06-15T12:49:10.974Z"
   },
   {
    "duration": 3,
    "start_time": "2022-06-15T12:49:12.347Z"
   },
   {
    "duration": 7,
    "start_time": "2022-06-15T12:49:15.072Z"
   },
   {
    "duration": 127,
    "start_time": "2022-06-15T12:49:16.816Z"
   },
   {
    "duration": 3,
    "start_time": "2022-06-15T12:49:26.188Z"
   },
   {
    "duration": 4,
    "start_time": "2022-06-15T12:49:44.444Z"
   },
   {
    "duration": 4,
    "start_time": "2022-06-15T12:50:24.594Z"
   },
   {
    "duration": 3,
    "start_time": "2022-06-15T12:50:34.913Z"
   },
   {
    "duration": 8,
    "start_time": "2022-06-15T12:51:28.180Z"
   },
   {
    "duration": 431,
    "start_time": "2022-06-15T12:54:31.438Z"
   },
   {
    "duration": 180,
    "start_time": "2022-06-15T12:54:31.872Z"
   },
   {
    "duration": 136,
    "start_time": "2022-06-15T12:54:32.054Z"
   },
   {
    "duration": 86,
    "start_time": "2022-06-15T12:54:32.192Z"
   },
   {
    "duration": 15,
    "start_time": "2022-06-15T12:54:32.280Z"
   },
   {
    "duration": 25,
    "start_time": "2022-06-15T12:54:32.296Z"
   },
   {
    "duration": 14,
    "start_time": "2022-06-15T12:54:32.323Z"
   },
   {
    "duration": 29,
    "start_time": "2022-06-15T12:54:32.339Z"
   },
   {
    "duration": 11,
    "start_time": "2022-06-15T12:54:32.370Z"
   },
   {
    "duration": 30,
    "start_time": "2022-06-15T12:54:32.383Z"
   },
   {
    "duration": 6,
    "start_time": "2022-06-15T12:54:32.415Z"
   },
   {
    "duration": 30,
    "start_time": "2022-06-15T12:54:32.423Z"
   },
   {
    "duration": 31,
    "start_time": "2022-06-15T12:54:32.459Z"
   },
   {
    "duration": 14,
    "start_time": "2022-06-15T12:54:32.494Z"
   },
   {
    "duration": 19,
    "start_time": "2022-06-15T12:54:32.510Z"
   },
   {
    "duration": 33,
    "start_time": "2022-06-15T12:54:32.531Z"
   },
   {
    "duration": 57,
    "start_time": "2022-06-15T12:54:32.566Z"
   },
   {
    "duration": 21,
    "start_time": "2022-06-15T12:54:32.625Z"
   },
   {
    "duration": 20,
    "start_time": "2022-06-15T12:54:32.648Z"
   },
   {
    "duration": 15,
    "start_time": "2022-06-15T12:54:32.669Z"
   },
   {
    "duration": 23,
    "start_time": "2022-06-15T12:54:32.686Z"
   },
   {
    "duration": 17,
    "start_time": "2022-06-15T12:54:32.711Z"
   },
   {
    "duration": 31,
    "start_time": "2022-06-15T12:54:32.729Z"
   },
   {
    "duration": 12,
    "start_time": "2022-06-15T12:54:32.761Z"
   },
   {
    "duration": 10,
    "start_time": "2022-06-15T12:54:32.774Z"
   },
   {
    "duration": 24,
    "start_time": "2022-06-15T12:54:32.786Z"
   },
   {
    "duration": 10,
    "start_time": "2022-06-15T12:54:32.812Z"
   },
   {
    "duration": 36,
    "start_time": "2022-06-15T12:54:32.824Z"
   },
   {
    "duration": 18,
    "start_time": "2022-06-15T12:54:32.861Z"
   },
   {
    "duration": 11,
    "start_time": "2022-06-15T12:54:32.881Z"
   },
   {
    "duration": 22,
    "start_time": "2022-06-15T12:54:32.893Z"
   },
   {
    "duration": 13,
    "start_time": "2022-06-15T12:54:32.917Z"
   },
   {
    "duration": 4,
    "start_time": "2022-06-15T12:54:32.959Z"
   },
   {
    "duration": 11,
    "start_time": "2022-06-15T12:54:32.966Z"
   },
   {
    "duration": 6,
    "start_time": "2022-06-15T12:54:32.978Z"
   },
   {
    "duration": 34,
    "start_time": "2022-06-15T12:54:32.986Z"
   },
   {
    "duration": 17,
    "start_time": "2022-06-15T12:54:33.022Z"
   },
   {
    "duration": 5,
    "start_time": "2022-06-15T12:54:33.041Z"
   },
   {
    "duration": 16,
    "start_time": "2022-06-15T12:54:33.048Z"
   },
   {
    "duration": 20,
    "start_time": "2022-06-15T12:54:33.066Z"
   },
   {
    "duration": 8,
    "start_time": "2022-06-15T12:54:33.092Z"
   },
   {
    "duration": 5,
    "start_time": "2022-06-15T12:54:33.102Z"
   },
   {
    "duration": 18,
    "start_time": "2022-06-15T12:54:33.109Z"
   },
   {
    "duration": 15,
    "start_time": "2022-06-15T12:54:33.129Z"
   },
   {
    "duration": 14,
    "start_time": "2022-06-15T12:54:33.159Z"
   },
   {
    "duration": 11,
    "start_time": "2022-06-15T12:54:33.174Z"
   },
   {
    "duration": 374,
    "start_time": "2022-06-15T12:54:33.187Z"
   },
   {
    "duration": 9,
    "start_time": "2022-06-15T12:54:33.562Z"
   },
   {
    "duration": 8,
    "start_time": "2022-06-15T12:54:33.573Z"
   },
   {
    "duration": 14,
    "start_time": "2022-06-15T12:54:33.583Z"
   },
   {
    "duration": 151,
    "start_time": "2022-06-15T12:54:33.599Z"
   },
   {
    "duration": 7,
    "start_time": "2022-06-15T12:54:33.752Z"
   },
   {
    "duration": 8,
    "start_time": "2022-06-15T12:54:33.761Z"
   },
   {
    "duration": 6,
    "start_time": "2022-06-15T12:54:33.770Z"
   },
   {
    "duration": 8,
    "start_time": "2022-06-15T12:54:33.778Z"
   },
   {
    "duration": 77,
    "start_time": "2022-06-15T12:54:33.790Z"
   },
   {
    "duration": 0,
    "start_time": "2022-06-15T12:54:33.868Z"
   },
   {
    "duration": 0,
    "start_time": "2022-06-15T12:54:33.870Z"
   },
   {
    "duration": 0,
    "start_time": "2022-06-15T12:54:33.871Z"
   },
   {
    "duration": 0,
    "start_time": "2022-06-15T12:54:33.872Z"
   },
   {
    "duration": 0,
    "start_time": "2022-06-15T12:54:33.874Z"
   },
   {
    "duration": 0,
    "start_time": "2022-06-15T12:54:33.875Z"
   },
   {
    "duration": 0,
    "start_time": "2022-06-15T12:54:33.876Z"
   },
   {
    "duration": 0,
    "start_time": "2022-06-15T12:54:33.878Z"
   },
   {
    "duration": 0,
    "start_time": "2022-06-15T12:54:33.879Z"
   },
   {
    "duration": 0,
    "start_time": "2022-06-15T12:54:33.881Z"
   },
   {
    "duration": 0,
    "start_time": "2022-06-15T12:54:33.882Z"
   },
   {
    "duration": 0,
    "start_time": "2022-06-15T12:54:33.884Z"
   },
   {
    "duration": 0,
    "start_time": "2022-06-15T12:54:33.885Z"
   },
   {
    "duration": 0,
    "start_time": "2022-06-15T12:54:33.886Z"
   },
   {
    "duration": 0,
    "start_time": "2022-06-15T12:54:33.888Z"
   },
   {
    "duration": 4,
    "start_time": "2022-06-15T12:57:58.991Z"
   },
   {
    "duration": 8,
    "start_time": "2022-06-15T12:58:12.639Z"
   },
   {
    "duration": 128,
    "start_time": "2022-06-15T12:58:13.871Z"
   },
   {
    "duration": 4,
    "start_time": "2022-06-15T12:58:19.649Z"
   },
   {
    "duration": 424,
    "start_time": "2022-06-15T12:58:34.440Z"
   },
   {
    "duration": 157,
    "start_time": "2022-06-15T12:58:34.866Z"
   },
   {
    "duration": 131,
    "start_time": "2022-06-15T12:58:35.024Z"
   },
   {
    "duration": 87,
    "start_time": "2022-06-15T12:58:35.157Z"
   },
   {
    "duration": 15,
    "start_time": "2022-06-15T12:58:35.246Z"
   },
   {
    "duration": 26,
    "start_time": "2022-06-15T12:58:35.263Z"
   },
   {
    "duration": 27,
    "start_time": "2022-06-15T12:58:35.291Z"
   },
   {
    "duration": 27,
    "start_time": "2022-06-15T12:58:35.320Z"
   },
   {
    "duration": 16,
    "start_time": "2022-06-15T12:58:35.349Z"
   },
   {
    "duration": 38,
    "start_time": "2022-06-15T12:58:35.367Z"
   },
   {
    "duration": 8,
    "start_time": "2022-06-15T12:58:35.407Z"
   },
   {
    "duration": 43,
    "start_time": "2022-06-15T12:58:35.417Z"
   },
   {
    "duration": 9,
    "start_time": "2022-06-15T12:58:35.462Z"
   },
   {
    "duration": 18,
    "start_time": "2022-06-15T12:58:35.478Z"
   },
   {
    "duration": 21,
    "start_time": "2022-06-15T12:58:35.499Z"
   },
   {
    "duration": 38,
    "start_time": "2022-06-15T12:58:35.522Z"
   },
   {
    "duration": 43,
    "start_time": "2022-06-15T12:58:35.561Z"
   },
   {
    "duration": 23,
    "start_time": "2022-06-15T12:58:35.606Z"
   },
   {
    "duration": 49,
    "start_time": "2022-06-15T12:58:35.632Z"
   },
   {
    "duration": 18,
    "start_time": "2022-06-15T12:58:35.683Z"
   },
   {
    "duration": 27,
    "start_time": "2022-06-15T12:58:35.704Z"
   },
   {
    "duration": 38,
    "start_time": "2022-06-15T12:58:35.732Z"
   },
   {
    "duration": 6,
    "start_time": "2022-06-15T12:58:35.772Z"
   },
   {
    "duration": 14,
    "start_time": "2022-06-15T12:58:35.780Z"
   },
   {
    "duration": 13,
    "start_time": "2022-06-15T12:58:35.795Z"
   },
   {
    "duration": 27,
    "start_time": "2022-06-15T12:58:35.810Z"
   },
   {
    "duration": 21,
    "start_time": "2022-06-15T12:58:35.839Z"
   },
   {
    "duration": 14,
    "start_time": "2022-06-15T12:58:35.862Z"
   },
   {
    "duration": 21,
    "start_time": "2022-06-15T12:58:35.877Z"
   },
   {
    "duration": 10,
    "start_time": "2022-06-15T12:58:35.900Z"
   },
   {
    "duration": 18,
    "start_time": "2022-06-15T12:58:35.911Z"
   },
   {
    "duration": 34,
    "start_time": "2022-06-15T12:58:35.931Z"
   },
   {
    "duration": 15,
    "start_time": "2022-06-15T12:58:35.966Z"
   },
   {
    "duration": 12,
    "start_time": "2022-06-15T12:58:35.982Z"
   },
   {
    "duration": 18,
    "start_time": "2022-06-15T12:58:35.995Z"
   },
   {
    "duration": 13,
    "start_time": "2022-06-15T12:58:36.015Z"
   },
   {
    "duration": 15,
    "start_time": "2022-06-15T12:58:36.030Z"
   },
   {
    "duration": 3,
    "start_time": "2022-06-15T12:58:36.047Z"
   },
   {
    "duration": 17,
    "start_time": "2022-06-15T12:58:36.052Z"
   },
   {
    "duration": 12,
    "start_time": "2022-06-15T12:58:36.070Z"
   },
   {
    "duration": 11,
    "start_time": "2022-06-15T12:58:36.086Z"
   },
   {
    "duration": 15,
    "start_time": "2022-06-15T12:58:36.098Z"
   },
   {
    "duration": 16,
    "start_time": "2022-06-15T12:58:36.115Z"
   },
   {
    "duration": 27,
    "start_time": "2022-06-15T12:58:36.133Z"
   },
   {
    "duration": 19,
    "start_time": "2022-06-15T12:58:36.162Z"
   },
   {
    "duration": 11,
    "start_time": "2022-06-15T12:58:36.182Z"
   },
   {
    "duration": 374,
    "start_time": "2022-06-15T12:58:36.194Z"
   },
   {
    "duration": 10,
    "start_time": "2022-06-15T12:58:36.570Z"
   },
   {
    "duration": 7,
    "start_time": "2022-06-15T12:58:36.582Z"
   },
   {
    "duration": 9,
    "start_time": "2022-06-15T12:58:36.591Z"
   },
   {
    "duration": 159,
    "start_time": "2022-06-15T12:58:36.603Z"
   },
   {
    "duration": 7,
    "start_time": "2022-06-15T12:58:36.764Z"
   },
   {
    "duration": 21,
    "start_time": "2022-06-15T12:58:36.773Z"
   },
   {
    "duration": 22,
    "start_time": "2022-06-15T12:58:36.796Z"
   },
   {
    "duration": 10,
    "start_time": "2022-06-15T12:58:36.820Z"
   },
   {
    "duration": 12,
    "start_time": "2022-06-15T12:58:36.831Z"
   },
   {
    "duration": 15,
    "start_time": "2022-06-15T12:58:36.845Z"
   },
   {
    "duration": 137,
    "start_time": "2022-06-15T12:58:36.862Z"
   },
   {
    "duration": 5,
    "start_time": "2022-06-15T12:58:37.001Z"
   },
   {
    "duration": 18,
    "start_time": "2022-06-15T12:58:37.008Z"
   },
   {
    "duration": 16,
    "start_time": "2022-06-15T12:58:37.027Z"
   },
   {
    "duration": 14,
    "start_time": "2022-06-15T12:58:37.045Z"
   },
   {
    "duration": 8,
    "start_time": "2022-06-15T12:58:37.061Z"
   },
   {
    "duration": 28,
    "start_time": "2022-06-15T12:58:37.070Z"
   },
   {
    "duration": 11,
    "start_time": "2022-06-15T12:58:37.100Z"
   },
   {
    "duration": 183,
    "start_time": "2022-06-15T12:58:37.113Z"
   },
   {
    "duration": 18,
    "start_time": "2022-06-15T12:58:37.299Z"
   },
   {
    "duration": 277,
    "start_time": "2022-06-15T12:58:37.319Z"
   },
   {
    "duration": 10,
    "start_time": "2022-06-15T12:58:37.598Z"
   },
   {
    "duration": 7,
    "start_time": "2022-06-15T12:58:37.610Z"
   },
   {
    "duration": 15,
    "start_time": "2022-06-15T12:58:37.619Z"
   },
   {
    "duration": 10,
    "start_time": "2022-06-15T12:59:54.520Z"
   },
   {
    "duration": 196,
    "start_time": "2022-06-15T13:00:44.429Z"
   },
   {
    "duration": 11,
    "start_time": "2022-06-15T13:01:18.730Z"
   },
   {
    "duration": 10,
    "start_time": "2022-06-15T13:01:19.440Z"
   },
   {
    "duration": 8,
    "start_time": "2022-06-15T13:01:53.867Z"
   },
   {
    "duration": 414,
    "start_time": "2022-06-15T13:02:51.883Z"
   },
   {
    "duration": 506,
    "start_time": "2022-06-15T13:03:16.085Z"
   },
   {
    "duration": 353,
    "start_time": "2022-06-15T13:03:38.904Z"
   },
   {
    "duration": 20,
    "start_time": "2022-06-15T13:03:55.650Z"
   },
   {
    "duration": 28,
    "start_time": "2022-06-15T13:04:26.581Z"
   },
   {
    "duration": 29,
    "start_time": "2022-06-15T13:04:38.676Z"
   },
   {
    "duration": 14,
    "start_time": "2022-06-15T13:04:41.513Z"
   },
   {
    "duration": 436,
    "start_time": "2022-06-15T13:04:55.906Z"
   },
   {
    "duration": 192,
    "start_time": "2022-06-15T13:04:56.344Z"
   },
   {
    "duration": 150,
    "start_time": "2022-06-15T13:04:56.538Z"
   },
   {
    "duration": 98,
    "start_time": "2022-06-15T13:04:56.691Z"
   },
   {
    "duration": 15,
    "start_time": "2022-06-15T13:04:56.791Z"
   },
   {
    "duration": 26,
    "start_time": "2022-06-15T13:04:56.807Z"
   },
   {
    "duration": 16,
    "start_time": "2022-06-15T13:04:56.835Z"
   },
   {
    "duration": 42,
    "start_time": "2022-06-15T13:04:56.853Z"
   },
   {
    "duration": 8,
    "start_time": "2022-06-15T13:04:56.897Z"
   },
   {
    "duration": 23,
    "start_time": "2022-06-15T13:04:56.907Z"
   },
   {
    "duration": 37,
    "start_time": "2022-06-15T13:04:56.932Z"
   },
   {
    "duration": 29,
    "start_time": "2022-06-15T13:04:56.971Z"
   },
   {
    "duration": 27,
    "start_time": "2022-06-15T13:04:57.001Z"
   },
   {
    "duration": 22,
    "start_time": "2022-06-15T13:04:57.029Z"
   },
   {
    "duration": 41,
    "start_time": "2022-06-15T13:04:57.052Z"
   },
   {
    "duration": 36,
    "start_time": "2022-06-15T13:04:57.095Z"
   },
   {
    "duration": 93,
    "start_time": "2022-06-15T13:04:57.133Z"
   },
   {
    "duration": 33,
    "start_time": "2022-06-15T13:04:57.228Z"
   },
   {
    "duration": 31,
    "start_time": "2022-06-15T13:04:57.263Z"
   },
   {
    "duration": 31,
    "start_time": "2022-06-15T13:04:57.298Z"
   },
   {
    "duration": 55,
    "start_time": "2022-06-15T13:04:57.331Z"
   },
   {
    "duration": 47,
    "start_time": "2022-06-15T13:04:57.389Z"
   },
   {
    "duration": 7,
    "start_time": "2022-06-15T13:04:57.439Z"
   },
   {
    "duration": 45,
    "start_time": "2022-06-15T13:04:57.448Z"
   },
   {
    "duration": 43,
    "start_time": "2022-06-15T13:04:57.496Z"
   },
   {
    "duration": 70,
    "start_time": "2022-06-15T13:04:57.541Z"
   },
   {
    "duration": 12,
    "start_time": "2022-06-15T13:04:57.612Z"
   },
   {
    "duration": 16,
    "start_time": "2022-06-15T13:04:57.628Z"
   },
   {
    "duration": 33,
    "start_time": "2022-06-15T13:04:57.645Z"
   },
   {
    "duration": 14,
    "start_time": "2022-06-15T13:04:57.684Z"
   },
   {
    "duration": 23,
    "start_time": "2022-06-15T13:04:57.700Z"
   },
   {
    "duration": 12,
    "start_time": "2022-06-15T13:04:57.725Z"
   },
   {
    "duration": 15,
    "start_time": "2022-06-15T13:04:57.738Z"
   },
   {
    "duration": 34,
    "start_time": "2022-06-15T13:04:57.755Z"
   },
   {
    "duration": 20,
    "start_time": "2022-06-15T13:04:57.790Z"
   },
   {
    "duration": 36,
    "start_time": "2022-06-15T13:04:57.811Z"
   },
   {
    "duration": 25,
    "start_time": "2022-06-15T13:04:57.849Z"
   },
   {
    "duration": 26,
    "start_time": "2022-06-15T13:04:57.875Z"
   },
   {
    "duration": 26,
    "start_time": "2022-06-15T13:04:57.903Z"
   },
   {
    "duration": 26,
    "start_time": "2022-06-15T13:04:57.931Z"
   },
   {
    "duration": 35,
    "start_time": "2022-06-15T13:04:57.959Z"
   },
   {
    "duration": 9,
    "start_time": "2022-06-15T13:04:57.996Z"
   },
   {
    "duration": 26,
    "start_time": "2022-06-15T13:04:58.008Z"
   },
   {
    "duration": 40,
    "start_time": "2022-06-15T13:04:58.037Z"
   },
   {
    "duration": 38,
    "start_time": "2022-06-15T13:04:58.080Z"
   },
   {
    "duration": 18,
    "start_time": "2022-06-15T13:04:58.120Z"
   },
   {
    "duration": 453,
    "start_time": "2022-06-15T13:04:58.140Z"
   },
   {
    "duration": 7,
    "start_time": "2022-06-15T13:04:58.595Z"
   },
   {
    "duration": 10,
    "start_time": "2022-06-15T13:04:58.604Z"
   },
   {
    "duration": 8,
    "start_time": "2022-06-15T13:04:58.616Z"
   },
   {
    "duration": 177,
    "start_time": "2022-06-15T13:04:58.625Z"
   },
   {
    "duration": 5,
    "start_time": "2022-06-15T13:04:58.804Z"
   },
   {
    "duration": 8,
    "start_time": "2022-06-15T13:04:58.811Z"
   },
   {
    "duration": 7,
    "start_time": "2022-06-15T13:04:58.821Z"
   },
   {
    "duration": 8,
    "start_time": "2022-06-15T13:04:58.829Z"
   },
   {
    "duration": 29,
    "start_time": "2022-06-15T13:04:58.839Z"
   },
   {
    "duration": 24,
    "start_time": "2022-06-15T13:04:58.869Z"
   },
   {
    "duration": 153,
    "start_time": "2022-06-15T13:04:58.895Z"
   },
   {
    "duration": 10,
    "start_time": "2022-06-15T13:04:59.050Z"
   },
   {
    "duration": 25,
    "start_time": "2022-06-15T13:04:59.063Z"
   },
   {
    "duration": 9,
    "start_time": "2022-06-15T13:04:59.091Z"
   },
   {
    "duration": 5,
    "start_time": "2022-06-15T13:04:59.102Z"
   },
   {
    "duration": 5,
    "start_time": "2022-06-15T13:04:59.109Z"
   },
   {
    "duration": 16,
    "start_time": "2022-06-15T13:04:59.116Z"
   },
   {
    "duration": 12,
    "start_time": "2022-06-15T13:04:59.134Z"
   },
   {
    "duration": 188,
    "start_time": "2022-06-15T13:04:59.148Z"
   },
   {
    "duration": 7,
    "start_time": "2022-06-15T13:04:59.338Z"
   },
   {
    "duration": 16,
    "start_time": "2022-06-15T13:04:59.347Z"
   },
   {
    "duration": 30,
    "start_time": "2022-06-15T13:04:59.365Z"
   },
   {
    "duration": 22,
    "start_time": "2022-06-15T13:04:59.398Z"
   },
   {
    "duration": 207,
    "start_time": "2022-06-15T13:04:59.422Z"
   },
   {
    "duration": 15,
    "start_time": "2022-06-15T13:04:59.632Z"
   },
   {
    "duration": 226,
    "start_time": "2022-06-15T13:04:59.659Z"
   },
   {
    "duration": 12,
    "start_time": "2022-06-15T13:04:59.889Z"
   },
   {
    "duration": 13,
    "start_time": "2022-06-15T13:04:59.903Z"
   },
   {
    "duration": 26,
    "start_time": "2022-06-15T13:04:59.918Z"
   },
   {
    "duration": 90,
    "start_time": "2022-06-15T13:05:52.237Z"
   },
   {
    "duration": 5,
    "start_time": "2022-06-15T13:06:01.686Z"
   },
   {
    "duration": 494,
    "start_time": "2022-06-15T13:08:24.289Z"
   },
   {
    "duration": 162,
    "start_time": "2022-06-15T13:08:24.785Z"
   },
   {
    "duration": 151,
    "start_time": "2022-06-15T13:08:24.949Z"
   },
   {
    "duration": 92,
    "start_time": "2022-06-15T13:08:25.101Z"
   },
   {
    "duration": 14,
    "start_time": "2022-06-15T13:08:25.195Z"
   },
   {
    "duration": 25,
    "start_time": "2022-06-15T13:08:25.211Z"
   },
   {
    "duration": 17,
    "start_time": "2022-06-15T13:08:25.238Z"
   },
   {
    "duration": 44,
    "start_time": "2022-06-15T13:08:25.257Z"
   },
   {
    "duration": 9,
    "start_time": "2022-06-15T13:08:25.303Z"
   },
   {
    "duration": 24,
    "start_time": "2022-06-15T13:08:25.314Z"
   },
   {
    "duration": 7,
    "start_time": "2022-06-15T13:08:25.359Z"
   },
   {
    "duration": 32,
    "start_time": "2022-06-15T13:08:25.367Z"
   },
   {
    "duration": 13,
    "start_time": "2022-06-15T13:08:25.401Z"
   },
   {
    "duration": 34,
    "start_time": "2022-06-15T13:08:25.420Z"
   },
   {
    "duration": 31,
    "start_time": "2022-06-15T13:08:25.456Z"
   },
   {
    "duration": 15,
    "start_time": "2022-06-15T13:08:25.489Z"
   },
   {
    "duration": 42,
    "start_time": "2022-06-15T13:08:25.505Z"
   },
   {
    "duration": 30,
    "start_time": "2022-06-15T13:08:25.548Z"
   },
   {
    "duration": 20,
    "start_time": "2022-06-15T13:08:25.580Z"
   },
   {
    "duration": 14,
    "start_time": "2022-06-15T13:08:25.602Z"
   },
   {
    "duration": 42,
    "start_time": "2022-06-15T13:08:25.618Z"
   },
   {
    "duration": 19,
    "start_time": "2022-06-15T13:08:25.663Z"
   },
   {
    "duration": 2,
    "start_time": "2022-06-15T13:08:25.684Z"
   },
   {
    "duration": 8,
    "start_time": "2022-06-15T13:08:25.688Z"
   },
   {
    "duration": 10,
    "start_time": "2022-06-15T13:08:25.698Z"
   },
   {
    "duration": 53,
    "start_time": "2022-06-15T13:08:25.710Z"
   },
   {
    "duration": 15,
    "start_time": "2022-06-15T13:08:25.765Z"
   },
   {
    "duration": 14,
    "start_time": "2022-06-15T13:08:25.781Z"
   },
   {
    "duration": 21,
    "start_time": "2022-06-15T13:08:25.796Z"
   },
   {
    "duration": 13,
    "start_time": "2022-06-15T13:08:25.819Z"
   },
   {
    "duration": 48,
    "start_time": "2022-06-15T13:08:25.834Z"
   },
   {
    "duration": 12,
    "start_time": "2022-06-15T13:08:25.883Z"
   },
   {
    "duration": 7,
    "start_time": "2022-06-15T13:08:25.897Z"
   },
   {
    "duration": 12,
    "start_time": "2022-06-15T13:08:25.905Z"
   },
   {
    "duration": 5,
    "start_time": "2022-06-15T13:08:25.919Z"
   },
   {
    "duration": 13,
    "start_time": "2022-06-15T13:08:25.925Z"
   },
   {
    "duration": 19,
    "start_time": "2022-06-15T13:08:25.940Z"
   },
   {
    "duration": 17,
    "start_time": "2022-06-15T13:08:25.962Z"
   },
   {
    "duration": 14,
    "start_time": "2022-06-15T13:08:25.981Z"
   },
   {
    "duration": 10,
    "start_time": "2022-06-15T13:08:25.996Z"
   },
   {
    "duration": 7,
    "start_time": "2022-06-15T13:08:26.011Z"
   },
   {
    "duration": 7,
    "start_time": "2022-06-15T13:08:26.020Z"
   },
   {
    "duration": 33,
    "start_time": "2022-06-15T13:08:26.028Z"
   },
   {
    "duration": 18,
    "start_time": "2022-06-15T13:08:26.070Z"
   },
   {
    "duration": 33,
    "start_time": "2022-06-15T13:08:26.090Z"
   },
   {
    "duration": 12,
    "start_time": "2022-06-15T13:08:26.130Z"
   },
   {
    "duration": 439,
    "start_time": "2022-06-15T13:08:26.144Z"
   },
   {
    "duration": 8,
    "start_time": "2022-06-15T13:08:26.584Z"
   },
   {
    "duration": 7,
    "start_time": "2022-06-15T13:08:26.593Z"
   },
   {
    "duration": 7,
    "start_time": "2022-06-15T13:08:26.602Z"
   },
   {
    "duration": 170,
    "start_time": "2022-06-15T13:08:26.610Z"
   },
   {
    "duration": 11,
    "start_time": "2022-06-15T13:08:26.782Z"
   },
   {
    "duration": 11,
    "start_time": "2022-06-15T13:08:26.795Z"
   },
   {
    "duration": 8,
    "start_time": "2022-06-15T13:08:26.808Z"
   },
   {
    "duration": 9,
    "start_time": "2022-06-15T13:08:26.818Z"
   },
   {
    "duration": 9,
    "start_time": "2022-06-15T13:08:26.828Z"
   },
   {
    "duration": 18,
    "start_time": "2022-06-15T13:08:26.838Z"
   },
   {
    "duration": 150,
    "start_time": "2022-06-15T13:08:26.859Z"
   },
   {
    "duration": 6,
    "start_time": "2022-06-15T13:08:27.010Z"
   },
   {
    "duration": 7,
    "start_time": "2022-06-15T13:08:27.018Z"
   },
   {
    "duration": 9,
    "start_time": "2022-06-15T13:08:27.026Z"
   },
   {
    "duration": 26,
    "start_time": "2022-06-15T13:08:27.037Z"
   },
   {
    "duration": 36,
    "start_time": "2022-06-15T13:08:27.065Z"
   },
   {
    "duration": 199,
    "start_time": "2022-06-15T13:08:27.102Z"
   },
   {
    "duration": 23,
    "start_time": "2022-06-15T13:08:27.303Z"
   },
   {
    "duration": 208,
    "start_time": "2022-06-15T13:08:27.328Z"
   },
   {
    "duration": 10,
    "start_time": "2022-06-15T13:08:27.538Z"
   },
   {
    "duration": 31,
    "start_time": "2022-06-15T13:08:27.550Z"
   },
   {
    "duration": 11,
    "start_time": "2022-06-15T13:08:27.583Z"
   },
   {
    "duration": 228,
    "start_time": "2022-06-15T13:08:27.597Z"
   },
   {
    "duration": 7,
    "start_time": "2022-06-15T13:08:27.827Z"
   },
   {
    "duration": 9,
    "start_time": "2022-06-15T13:08:27.836Z"
   },
   {
    "duration": 30,
    "start_time": "2022-06-15T13:08:27.847Z"
   },
   {
    "duration": 175,
    "start_time": "2022-06-15T13:08:27.880Z"
   },
   {
    "duration": 19,
    "start_time": "2022-06-15T13:08:28.057Z"
   },
   {
    "duration": 5,
    "start_time": "2022-06-15T13:08:28.080Z"
   },
   {
    "duration": 10,
    "start_time": "2022-06-15T13:08:28.087Z"
   },
   {
    "duration": 3,
    "start_time": "2022-06-15T13:08:46.036Z"
   },
   {
    "duration": 34,
    "start_time": "2022-06-15T13:09:24.240Z"
   },
   {
    "duration": 11,
    "start_time": "2022-06-15T13:12:23.733Z"
   },
   {
    "duration": 62,
    "start_time": "2022-06-15T13:13:15.253Z"
   },
   {
    "duration": 68,
    "start_time": "2022-06-15T13:13:53.251Z"
   },
   {
    "duration": 293,
    "start_time": "2022-06-15T13:14:54.100Z"
   },
   {
    "duration": 235,
    "start_time": "2022-06-15T13:16:38.656Z"
   },
   {
    "duration": 647,
    "start_time": "2022-06-15T13:16:51.444Z"
   },
   {
    "duration": 69,
    "start_time": "2022-06-15T13:17:38.551Z"
   },
   {
    "duration": 214,
    "start_time": "2022-06-15T13:17:43.489Z"
   },
   {
    "duration": 26,
    "start_time": "2022-06-15T13:18:43.144Z"
   },
   {
    "duration": 1060,
    "start_time": "2022-06-15T13:19:40.686Z"
   },
   {
    "duration": 215,
    "start_time": "2022-06-15T13:19:41.748Z"
   },
   {
    "duration": 309,
    "start_time": "2022-06-15T13:19:41.965Z"
   },
   {
    "duration": 296,
    "start_time": "2022-06-15T13:19:42.276Z"
   },
   {
    "duration": 44,
    "start_time": "2022-06-15T13:19:42.574Z"
   },
   {
    "duration": 42,
    "start_time": "2022-06-15T13:19:42.619Z"
   },
   {
    "duration": 17,
    "start_time": "2022-06-15T13:19:42.663Z"
   },
   {
    "duration": 25,
    "start_time": "2022-06-15T13:19:42.681Z"
   },
   {
    "duration": 19,
    "start_time": "2022-06-15T13:19:42.707Z"
   },
   {
    "duration": 40,
    "start_time": "2022-06-15T13:19:42.728Z"
   },
   {
    "duration": 7,
    "start_time": "2022-06-15T13:19:42.769Z"
   },
   {
    "duration": 27,
    "start_time": "2022-06-15T13:19:42.777Z"
   },
   {
    "duration": 8,
    "start_time": "2022-06-15T13:19:42.805Z"
   },
   {
    "duration": 11,
    "start_time": "2022-06-15T13:19:42.817Z"
   },
   {
    "duration": 32,
    "start_time": "2022-06-15T13:19:42.830Z"
   },
   {
    "duration": 15,
    "start_time": "2022-06-15T13:19:42.863Z"
   },
   {
    "duration": 37,
    "start_time": "2022-06-15T13:19:42.880Z"
   },
   {
    "duration": 49,
    "start_time": "2022-06-15T13:19:42.918Z"
   },
   {
    "duration": 21,
    "start_time": "2022-06-15T13:19:42.969Z"
   },
   {
    "duration": 18,
    "start_time": "2022-06-15T13:19:42.992Z"
   },
   {
    "duration": 30,
    "start_time": "2022-06-15T13:19:43.012Z"
   },
   {
    "duration": 29,
    "start_time": "2022-06-15T13:19:43.043Z"
   },
   {
    "duration": 4,
    "start_time": "2022-06-15T13:19:43.073Z"
   },
   {
    "duration": 10,
    "start_time": "2022-06-15T13:19:43.079Z"
   },
   {
    "duration": 15,
    "start_time": "2022-06-15T13:19:43.090Z"
   },
   {
    "duration": 36,
    "start_time": "2022-06-15T13:19:43.107Z"
   },
   {
    "duration": 16,
    "start_time": "2022-06-15T13:19:43.144Z"
   },
   {
    "duration": 13,
    "start_time": "2022-06-15T13:19:43.162Z"
   },
   {
    "duration": 36,
    "start_time": "2022-06-15T13:19:43.177Z"
   },
   {
    "duration": 13,
    "start_time": "2022-06-15T13:19:43.215Z"
   },
   {
    "duration": 28,
    "start_time": "2022-06-15T13:19:43.229Z"
   },
   {
    "duration": 36,
    "start_time": "2022-06-15T13:19:43.259Z"
   },
   {
    "duration": 9,
    "start_time": "2022-06-15T13:19:43.297Z"
   },
   {
    "duration": 26,
    "start_time": "2022-06-15T13:19:43.308Z"
   },
   {
    "duration": 7,
    "start_time": "2022-06-15T13:19:43.336Z"
   },
   {
    "duration": 18,
    "start_time": "2022-06-15T13:19:43.345Z"
   },
   {
    "duration": 17,
    "start_time": "2022-06-15T13:19:43.365Z"
   },
   {
    "duration": 16,
    "start_time": "2022-06-15T13:19:43.383Z"
   },
   {
    "duration": 30,
    "start_time": "2022-06-15T13:19:43.401Z"
   },
   {
    "duration": 16,
    "start_time": "2022-06-15T13:19:43.433Z"
   },
   {
    "duration": 21,
    "start_time": "2022-06-15T13:19:43.456Z"
   },
   {
    "duration": 9,
    "start_time": "2022-06-15T13:19:43.480Z"
   },
   {
    "duration": 29,
    "start_time": "2022-06-15T13:19:43.491Z"
   },
   {
    "duration": 32,
    "start_time": "2022-06-15T13:19:43.522Z"
   },
   {
    "duration": 29,
    "start_time": "2022-06-15T13:19:43.556Z"
   },
   {
    "duration": 15,
    "start_time": "2022-06-15T13:19:43.587Z"
   },
   {
    "duration": 532,
    "start_time": "2022-06-15T13:19:43.604Z"
   },
   {
    "duration": 7,
    "start_time": "2022-06-15T13:19:44.137Z"
   },
   {
    "duration": 15,
    "start_time": "2022-06-15T13:19:44.146Z"
   },
   {
    "duration": 25,
    "start_time": "2022-06-15T13:19:44.162Z"
   },
   {
    "duration": 151,
    "start_time": "2022-06-15T13:19:44.189Z"
   },
   {
    "duration": 5,
    "start_time": "2022-06-15T13:19:44.342Z"
   },
   {
    "duration": 31,
    "start_time": "2022-06-15T13:19:44.359Z"
   },
   {
    "duration": 16,
    "start_time": "2022-06-15T13:19:44.392Z"
   },
   {
    "duration": 11,
    "start_time": "2022-06-15T13:19:44.409Z"
   },
   {
    "duration": 7,
    "start_time": "2022-06-15T13:19:44.422Z"
   },
   {
    "duration": 14,
    "start_time": "2022-06-15T13:19:44.430Z"
   },
   {
    "duration": 142,
    "start_time": "2022-06-15T13:19:44.446Z"
   },
   {
    "duration": 5,
    "start_time": "2022-06-15T13:19:44.590Z"
   },
   {
    "duration": 8,
    "start_time": "2022-06-15T13:19:44.596Z"
   },
   {
    "duration": 9,
    "start_time": "2022-06-15T13:19:44.606Z"
   },
   {
    "duration": 6,
    "start_time": "2022-06-15T13:19:44.617Z"
   },
   {
    "duration": 7,
    "start_time": "2022-06-15T13:19:44.625Z"
   },
   {
    "duration": 26,
    "start_time": "2022-06-15T13:19:44.634Z"
   },
   {
    "duration": 12,
    "start_time": "2022-06-15T13:19:44.662Z"
   },
   {
    "duration": 171,
    "start_time": "2022-06-15T13:19:44.675Z"
   },
   {
    "duration": 12,
    "start_time": "2022-06-15T13:19:44.848Z"
   },
   {
    "duration": 6,
    "start_time": "2022-06-15T13:19:44.862Z"
   },
   {
    "duration": 11,
    "start_time": "2022-06-15T13:19:44.869Z"
   },
   {
    "duration": 206,
    "start_time": "2022-06-15T13:19:44.881Z"
   },
   {
    "duration": 5,
    "start_time": "2022-06-15T13:19:45.089Z"
   },
   {
    "duration": 9,
    "start_time": "2022-06-15T13:19:45.095Z"
   },
   {
    "duration": 9,
    "start_time": "2022-06-15T13:19:45.105Z"
   },
   {
    "duration": 13,
    "start_time": "2022-06-15T13:19:45.115Z"
   },
   {
    "duration": 9,
    "start_time": "2022-06-15T13:19:45.130Z"
   },
   {
    "duration": 21,
    "start_time": "2022-06-15T13:19:45.140Z"
   },
   {
    "duration": 179,
    "start_time": "2022-06-15T13:19:45.162Z"
   },
   {
    "duration": 19,
    "start_time": "2022-06-15T13:19:45.343Z"
   },
   {
    "duration": 13,
    "start_time": "2022-06-15T13:19:45.364Z"
   },
   {
    "duration": 16,
    "start_time": "2022-06-15T13:19:45.378Z"
   },
   {
    "duration": 8,
    "start_time": "2022-06-15T13:20:53.787Z"
   },
   {
    "duration": 7,
    "start_time": "2022-06-15T13:22:36.885Z"
   },
   {
    "duration": 7,
    "start_time": "2022-06-15T13:22:50.377Z"
   },
   {
    "duration": 5,
    "start_time": "2022-06-15T13:23:04.334Z"
   },
   {
    "duration": 431,
    "start_time": "2022-06-15T13:23:10.673Z"
   },
   {
    "duration": 128,
    "start_time": "2022-06-15T13:23:53.874Z"
   },
   {
    "duration": 124,
    "start_time": "2022-06-15T13:24:34.910Z"
   },
   {
    "duration": 5,
    "start_time": "2022-06-15T13:24:59.251Z"
   },
   {
    "duration": 4,
    "start_time": "2022-06-15T13:25:50.220Z"
   },
   {
    "duration": 3,
    "start_time": "2022-06-15T13:26:17.170Z"
   },
   {
    "duration": 55,
    "start_time": "2022-06-15T13:26:51.672Z"
   },
   {
    "duration": 3,
    "start_time": "2022-06-15T13:27:02.256Z"
   },
   {
    "duration": 3,
    "start_time": "2022-06-15T13:27:09.100Z"
   },
   {
    "duration": 3,
    "start_time": "2022-06-15T13:27:21.712Z"
   },
   {
    "duration": 8,
    "start_time": "2022-06-15T13:27:43.619Z"
   },
   {
    "duration": 4,
    "start_time": "2022-06-15T20:51:41.600Z"
   },
   {
    "duration": 4,
    "start_time": "2022-06-15T20:53:30.771Z"
   },
   {
    "duration": 16,
    "start_time": "2022-06-15T20:53:31.404Z"
   },
   {
    "duration": 27,
    "start_time": "2022-06-15T20:58:29.787Z"
   },
   {
    "duration": 5,
    "start_time": "2022-06-15T20:58:40.552Z"
   },
   {
    "duration": 5,
    "start_time": "2022-06-15T20:58:55.591Z"
   },
   {
    "duration": 16,
    "start_time": "2022-06-15T20:59:07.539Z"
   },
   {
    "duration": 4,
    "start_time": "2022-06-15T20:59:10.484Z"
   },
   {
    "duration": 415,
    "start_time": "2022-06-15T20:59:26.623Z"
   },
   {
    "duration": 256,
    "start_time": "2022-06-15T20:59:27.040Z"
   },
   {
    "duration": 286,
    "start_time": "2022-06-15T20:59:27.298Z"
   },
   {
    "duration": 282,
    "start_time": "2022-06-15T20:59:27.585Z"
   },
   {
    "duration": 42,
    "start_time": "2022-06-15T20:59:27.869Z"
   },
   {
    "duration": 38,
    "start_time": "2022-06-15T20:59:27.913Z"
   },
   {
    "duration": 14,
    "start_time": "2022-06-15T20:59:27.953Z"
   },
   {
    "duration": 32,
    "start_time": "2022-06-15T20:59:27.968Z"
   },
   {
    "duration": 8,
    "start_time": "2022-06-15T20:59:28.002Z"
   },
   {
    "duration": 34,
    "start_time": "2022-06-15T20:59:28.012Z"
   },
   {
    "duration": 13,
    "start_time": "2022-06-15T20:59:28.047Z"
   },
   {
    "duration": 22,
    "start_time": "2022-06-15T20:59:28.061Z"
   },
   {
    "duration": 8,
    "start_time": "2022-06-15T20:59:28.084Z"
   },
   {
    "duration": 12,
    "start_time": "2022-06-15T20:59:28.096Z"
   },
   {
    "duration": 9,
    "start_time": "2022-06-15T20:59:28.110Z"
   },
   {
    "duration": 38,
    "start_time": "2022-06-15T20:59:28.121Z"
   },
   {
    "duration": 35,
    "start_time": "2022-06-15T20:59:28.161Z"
   },
   {
    "duration": 21,
    "start_time": "2022-06-15T20:59:28.197Z"
   },
   {
    "duration": 20,
    "start_time": "2022-06-15T20:59:28.220Z"
   },
   {
    "duration": 14,
    "start_time": "2022-06-15T20:59:28.258Z"
   },
   {
    "duration": 23,
    "start_time": "2022-06-15T20:59:28.274Z"
   },
   {
    "duration": 17,
    "start_time": "2022-06-15T20:59:28.299Z"
   },
   {
    "duration": 2,
    "start_time": "2022-06-15T20:59:28.317Z"
   },
   {
    "duration": 11,
    "start_time": "2022-06-15T20:59:28.321Z"
   },
   {
    "duration": 28,
    "start_time": "2022-06-15T20:59:28.333Z"
   },
   {
    "duration": 49,
    "start_time": "2022-06-15T20:59:28.362Z"
   },
   {
    "duration": 30,
    "start_time": "2022-06-15T20:59:28.412Z"
   },
   {
    "duration": 22,
    "start_time": "2022-06-15T20:59:28.444Z"
   },
   {
    "duration": 21,
    "start_time": "2022-06-15T20:59:28.469Z"
   },
   {
    "duration": 9,
    "start_time": "2022-06-15T20:59:28.492Z"
   },
   {
    "duration": 16,
    "start_time": "2022-06-15T20:59:28.503Z"
   },
   {
    "duration": 10,
    "start_time": "2022-06-15T20:59:28.521Z"
   },
   {
    "duration": 26,
    "start_time": "2022-06-15T20:59:28.533Z"
   },
   {
    "duration": 21,
    "start_time": "2022-06-15T20:59:28.560Z"
   },
   {
    "duration": 18,
    "start_time": "2022-06-15T20:59:28.582Z"
   },
   {
    "duration": 20,
    "start_time": "2022-06-15T20:59:28.601Z"
   },
   {
    "duration": 13,
    "start_time": "2022-06-15T20:59:28.623Z"
   },
   {
    "duration": 11,
    "start_time": "2022-06-15T20:59:28.637Z"
   },
   {
    "duration": 16,
    "start_time": "2022-06-15T20:59:28.649Z"
   },
   {
    "duration": 17,
    "start_time": "2022-06-15T20:59:28.667Z"
   },
   {
    "duration": 15,
    "start_time": "2022-06-15T20:59:28.688Z"
   },
   {
    "duration": 20,
    "start_time": "2022-06-15T20:59:28.705Z"
   },
   {
    "duration": 29,
    "start_time": "2022-06-15T20:59:28.727Z"
   },
   {
    "duration": 11,
    "start_time": "2022-06-15T20:59:28.758Z"
   },
   {
    "duration": 21,
    "start_time": "2022-06-15T20:59:28.771Z"
   },
   {
    "duration": 68,
    "start_time": "2022-06-15T20:59:28.795Z"
   },
   {
    "duration": 0,
    "start_time": "2022-06-15T20:59:28.865Z"
   },
   {
    "duration": 0,
    "start_time": "2022-06-15T20:59:28.866Z"
   },
   {
    "duration": 0,
    "start_time": "2022-06-15T20:59:28.868Z"
   },
   {
    "duration": 0,
    "start_time": "2022-06-15T20:59:28.869Z"
   },
   {
    "duration": 0,
    "start_time": "2022-06-15T20:59:28.871Z"
   },
   {
    "duration": 0,
    "start_time": "2022-06-15T20:59:28.872Z"
   },
   {
    "duration": 0,
    "start_time": "2022-06-15T20:59:28.873Z"
   },
   {
    "duration": 0,
    "start_time": "2022-06-15T20:59:28.874Z"
   },
   {
    "duration": 0,
    "start_time": "2022-06-15T20:59:28.876Z"
   },
   {
    "duration": 0,
    "start_time": "2022-06-15T20:59:28.877Z"
   },
   {
    "duration": 0,
    "start_time": "2022-06-15T20:59:28.879Z"
   },
   {
    "duration": 0,
    "start_time": "2022-06-15T20:59:28.880Z"
   },
   {
    "duration": 0,
    "start_time": "2022-06-15T20:59:28.881Z"
   },
   {
    "duration": 0,
    "start_time": "2022-06-15T20:59:28.882Z"
   },
   {
    "duration": 0,
    "start_time": "2022-06-15T20:59:28.884Z"
   },
   {
    "duration": 0,
    "start_time": "2022-06-15T20:59:28.885Z"
   },
   {
    "duration": 0,
    "start_time": "2022-06-15T20:59:28.886Z"
   },
   {
    "duration": 0,
    "start_time": "2022-06-15T20:59:28.887Z"
   },
   {
    "duration": 0,
    "start_time": "2022-06-15T20:59:28.889Z"
   },
   {
    "duration": 0,
    "start_time": "2022-06-15T20:59:28.890Z"
   },
   {
    "duration": 0,
    "start_time": "2022-06-15T20:59:28.891Z"
   },
   {
    "duration": 0,
    "start_time": "2022-06-15T20:59:28.894Z"
   },
   {
    "duration": 0,
    "start_time": "2022-06-15T20:59:28.896Z"
   },
   {
    "duration": 0,
    "start_time": "2022-06-15T20:59:28.897Z"
   },
   {
    "duration": 0,
    "start_time": "2022-06-15T20:59:28.898Z"
   },
   {
    "duration": 0,
    "start_time": "2022-06-15T20:59:28.899Z"
   },
   {
    "duration": 0,
    "start_time": "2022-06-15T20:59:28.900Z"
   },
   {
    "duration": 0,
    "start_time": "2022-06-15T20:59:28.901Z"
   },
   {
    "duration": 0,
    "start_time": "2022-06-15T20:59:28.959Z"
   },
   {
    "duration": 0,
    "start_time": "2022-06-15T20:59:28.960Z"
   },
   {
    "duration": 0,
    "start_time": "2022-06-15T20:59:28.961Z"
   },
   {
    "duration": 0,
    "start_time": "2022-06-15T20:59:28.962Z"
   },
   {
    "duration": 0,
    "start_time": "2022-06-15T20:59:28.963Z"
   },
   {
    "duration": 0,
    "start_time": "2022-06-15T20:59:28.965Z"
   },
   {
    "duration": 0,
    "start_time": "2022-06-15T20:59:28.965Z"
   },
   {
    "duration": 0,
    "start_time": "2022-06-15T20:59:28.966Z"
   },
   {
    "duration": 0,
    "start_time": "2022-06-15T20:59:28.967Z"
   },
   {
    "duration": 0,
    "start_time": "2022-06-15T20:59:28.968Z"
   },
   {
    "duration": 0,
    "start_time": "2022-06-15T20:59:28.969Z"
   },
   {
    "duration": 0,
    "start_time": "2022-06-15T20:59:28.970Z"
   },
   {
    "duration": 0,
    "start_time": "2022-06-15T20:59:28.971Z"
   },
   {
    "duration": 0,
    "start_time": "2022-06-15T20:59:28.971Z"
   },
   {
    "duration": 0,
    "start_time": "2022-06-15T20:59:28.972Z"
   },
   {
    "duration": 0,
    "start_time": "2022-06-15T20:59:28.973Z"
   },
   {
    "duration": 0,
    "start_time": "2022-06-15T20:59:28.974Z"
   },
   {
    "duration": 0,
    "start_time": "2022-06-15T20:59:28.975Z"
   },
   {
    "duration": 397,
    "start_time": "2022-06-15T21:00:11.964Z"
   },
   {
    "duration": 152,
    "start_time": "2022-06-15T21:00:12.363Z"
   },
   {
    "duration": 133,
    "start_time": "2022-06-15T21:00:12.517Z"
   },
   {
    "duration": 84,
    "start_time": "2022-06-15T21:00:12.652Z"
   },
   {
    "duration": 15,
    "start_time": "2022-06-15T21:00:12.738Z"
   },
   {
    "duration": 33,
    "start_time": "2022-06-15T21:00:12.755Z"
   },
   {
    "duration": 13,
    "start_time": "2022-06-15T21:00:12.790Z"
   },
   {
    "duration": 56,
    "start_time": "2022-06-15T21:00:12.804Z"
   },
   {
    "duration": 28,
    "start_time": "2022-06-15T21:00:12.861Z"
   },
   {
    "duration": 45,
    "start_time": "2022-06-15T21:00:12.890Z"
   },
   {
    "duration": 11,
    "start_time": "2022-06-15T21:00:12.937Z"
   },
   {
    "duration": 39,
    "start_time": "2022-06-15T21:00:12.949Z"
   },
   {
    "duration": 34,
    "start_time": "2022-06-15T21:00:12.990Z"
   },
   {
    "duration": 34,
    "start_time": "2022-06-15T21:00:13.029Z"
   },
   {
    "duration": 44,
    "start_time": "2022-06-15T21:00:13.064Z"
   },
   {
    "duration": 25,
    "start_time": "2022-06-15T21:00:13.109Z"
   },
   {
    "duration": 45,
    "start_time": "2022-06-15T21:00:13.136Z"
   },
   {
    "duration": 21,
    "start_time": "2022-06-15T21:00:13.183Z"
   },
   {
    "duration": 20,
    "start_time": "2022-06-15T21:00:13.205Z"
   },
   {
    "duration": 12,
    "start_time": "2022-06-15T21:00:13.227Z"
   },
   {
    "duration": 38,
    "start_time": "2022-06-15T21:00:13.241Z"
   },
   {
    "duration": 16,
    "start_time": "2022-06-15T21:00:13.280Z"
   },
   {
    "duration": 3,
    "start_time": "2022-06-15T21:00:13.298Z"
   },
   {
    "duration": 11,
    "start_time": "2022-06-15T21:00:13.302Z"
   },
   {
    "duration": 10,
    "start_time": "2022-06-15T21:00:13.314Z"
   },
   {
    "duration": 43,
    "start_time": "2022-06-15T21:00:13.325Z"
   },
   {
    "duration": 10,
    "start_time": "2022-06-15T21:00:13.369Z"
   },
   {
    "duration": 22,
    "start_time": "2022-06-15T21:00:13.381Z"
   },
   {
    "duration": 20,
    "start_time": "2022-06-15T21:00:13.404Z"
   },
   {
    "duration": 9,
    "start_time": "2022-06-15T21:00:13.426Z"
   },
   {
    "duration": 23,
    "start_time": "2022-06-15T21:00:13.436Z"
   },
   {
    "duration": 10,
    "start_time": "2022-06-15T21:00:13.461Z"
   },
   {
    "duration": 12,
    "start_time": "2022-06-15T21:00:13.472Z"
   },
   {
    "duration": 12,
    "start_time": "2022-06-15T21:00:13.486Z"
   },
   {
    "duration": 19,
    "start_time": "2022-06-15T21:00:13.500Z"
   },
   {
    "duration": 21,
    "start_time": "2022-06-15T21:00:13.520Z"
   },
   {
    "duration": 15,
    "start_time": "2022-06-15T21:00:13.542Z"
   },
   {
    "duration": 7,
    "start_time": "2022-06-15T21:00:13.559Z"
   },
   {
    "duration": 16,
    "start_time": "2022-06-15T21:00:13.568Z"
   },
   {
    "duration": 11,
    "start_time": "2022-06-15T21:00:13.585Z"
   },
   {
    "duration": 19,
    "start_time": "2022-06-15T21:00:13.601Z"
   },
   {
    "duration": 15,
    "start_time": "2022-06-15T21:00:13.622Z"
   },
   {
    "duration": 14,
    "start_time": "2022-06-15T21:00:13.639Z"
   },
   {
    "duration": 11,
    "start_time": "2022-06-15T21:00:13.654Z"
   },
   {
    "duration": 28,
    "start_time": "2022-06-15T21:00:13.666Z"
   },
   {
    "duration": 18,
    "start_time": "2022-06-15T21:00:13.695Z"
   },
   {
    "duration": 14,
    "start_time": "2022-06-15T21:00:13.714Z"
   },
   {
    "duration": 9,
    "start_time": "2022-06-15T21:00:13.730Z"
   },
   {
    "duration": 355,
    "start_time": "2022-06-15T21:00:13.741Z"
   },
   {
    "duration": 7,
    "start_time": "2022-06-15T21:00:14.098Z"
   },
   {
    "duration": 20,
    "start_time": "2022-06-15T21:00:14.106Z"
   },
   {
    "duration": 11,
    "start_time": "2022-06-15T21:00:14.127Z"
   },
   {
    "duration": 134,
    "start_time": "2022-06-15T21:00:14.139Z"
   },
   {
    "duration": 4,
    "start_time": "2022-06-15T21:00:14.274Z"
   },
   {
    "duration": 8,
    "start_time": "2022-06-15T21:00:14.279Z"
   },
   {
    "duration": 11,
    "start_time": "2022-06-15T21:00:14.289Z"
   },
   {
    "duration": 7,
    "start_time": "2022-06-15T21:00:14.301Z"
   },
   {
    "duration": 15,
    "start_time": "2022-06-15T21:00:14.309Z"
   },
   {
    "duration": 15,
    "start_time": "2022-06-15T21:00:14.325Z"
   },
   {
    "duration": 129,
    "start_time": "2022-06-15T21:00:14.342Z"
   },
   {
    "duration": 4,
    "start_time": "2022-06-15T21:00:14.473Z"
   },
   {
    "duration": 8,
    "start_time": "2022-06-15T21:00:14.478Z"
   },
   {
    "duration": 13,
    "start_time": "2022-06-15T21:00:14.488Z"
   },
   {
    "duration": 6,
    "start_time": "2022-06-15T21:00:14.503Z"
   },
   {
    "duration": 76,
    "start_time": "2022-06-15T21:00:14.511Z"
   },
   {
    "duration": 0,
    "start_time": "2022-06-15T21:00:14.589Z"
   },
   {
    "duration": 0,
    "start_time": "2022-06-15T21:00:14.591Z"
   },
   {
    "duration": 0,
    "start_time": "2022-06-15T21:00:14.592Z"
   },
   {
    "duration": 0,
    "start_time": "2022-06-15T21:00:14.594Z"
   },
   {
    "duration": 0,
    "start_time": "2022-06-15T21:00:14.595Z"
   },
   {
    "duration": 0,
    "start_time": "2022-06-15T21:00:14.596Z"
   },
   {
    "duration": 0,
    "start_time": "2022-06-15T21:00:14.597Z"
   },
   {
    "duration": 0,
    "start_time": "2022-06-15T21:00:14.599Z"
   },
   {
    "duration": 0,
    "start_time": "2022-06-15T21:00:14.600Z"
   },
   {
    "duration": 0,
    "start_time": "2022-06-15T21:00:14.602Z"
   },
   {
    "duration": 0,
    "start_time": "2022-06-15T21:00:14.603Z"
   },
   {
    "duration": 0,
    "start_time": "2022-06-15T21:00:14.604Z"
   },
   {
    "duration": 0,
    "start_time": "2022-06-15T21:00:14.606Z"
   },
   {
    "duration": 0,
    "start_time": "2022-06-15T21:00:14.607Z"
   },
   {
    "duration": 0,
    "start_time": "2022-06-15T21:00:14.608Z"
   },
   {
    "duration": 0,
    "start_time": "2022-06-15T21:00:14.610Z"
   },
   {
    "duration": 0,
    "start_time": "2022-06-15T21:00:14.611Z"
   },
   {
    "duration": 0,
    "start_time": "2022-06-15T21:00:14.613Z"
   },
   {
    "duration": 0,
    "start_time": "2022-06-15T21:00:14.614Z"
   },
   {
    "duration": 0,
    "start_time": "2022-06-15T21:00:14.616Z"
   },
   {
    "duration": 0,
    "start_time": "2022-06-15T21:00:14.659Z"
   },
   {
    "duration": 0,
    "start_time": "2022-06-15T21:00:14.661Z"
   },
   {
    "duration": 0,
    "start_time": "2022-06-15T21:00:14.662Z"
   },
   {
    "duration": 0,
    "start_time": "2022-06-15T21:00:14.664Z"
   },
   {
    "duration": 0,
    "start_time": "2022-06-15T21:00:14.665Z"
   },
   {
    "duration": 0,
    "start_time": "2022-06-15T21:00:14.667Z"
   },
   {
    "duration": 5,
    "start_time": "2022-06-15T21:00:42.889Z"
   },
   {
    "duration": 418,
    "start_time": "2022-06-15T21:01:14.052Z"
   },
   {
    "duration": 151,
    "start_time": "2022-06-15T21:01:14.472Z"
   },
   {
    "duration": 128,
    "start_time": "2022-06-15T21:01:14.625Z"
   },
   {
    "duration": 85,
    "start_time": "2022-06-15T21:01:14.755Z"
   },
   {
    "duration": 14,
    "start_time": "2022-06-15T21:01:14.843Z"
   },
   {
    "duration": 24,
    "start_time": "2022-06-15T21:01:14.858Z"
   },
   {
    "duration": 15,
    "start_time": "2022-06-15T21:01:14.884Z"
   },
   {
    "duration": 26,
    "start_time": "2022-06-15T21:01:14.900Z"
   },
   {
    "duration": 8,
    "start_time": "2022-06-15T21:01:14.928Z"
   },
   {
    "duration": 34,
    "start_time": "2022-06-15T21:01:14.938Z"
   },
   {
    "duration": 7,
    "start_time": "2022-06-15T21:01:14.974Z"
   },
   {
    "duration": 20,
    "start_time": "2022-06-15T21:01:14.983Z"
   },
   {
    "duration": 20,
    "start_time": "2022-06-15T21:01:15.005Z"
   },
   {
    "duration": 28,
    "start_time": "2022-06-15T21:01:15.030Z"
   },
   {
    "duration": 25,
    "start_time": "2022-06-15T21:01:15.060Z"
   },
   {
    "duration": 26,
    "start_time": "2022-06-15T21:01:15.087Z"
   },
   {
    "duration": 46,
    "start_time": "2022-06-15T21:01:15.116Z"
   },
   {
    "duration": 21,
    "start_time": "2022-06-15T21:01:15.164Z"
   },
   {
    "duration": 19,
    "start_time": "2022-06-15T21:01:15.186Z"
   },
   {
    "duration": 16,
    "start_time": "2022-06-15T21:01:15.207Z"
   },
   {
    "duration": 39,
    "start_time": "2022-06-15T21:01:15.225Z"
   },
   {
    "duration": 17,
    "start_time": "2022-06-15T21:01:15.266Z"
   },
   {
    "duration": 3,
    "start_time": "2022-06-15T21:01:15.284Z"
   },
   {
    "duration": 25,
    "start_time": "2022-06-15T21:01:15.288Z"
   },
   {
    "duration": 21,
    "start_time": "2022-06-15T21:01:15.315Z"
   },
   {
    "duration": 36,
    "start_time": "2022-06-15T21:01:15.338Z"
   },
   {
    "duration": 11,
    "start_time": "2022-06-15T21:01:15.376Z"
   },
   {
    "duration": 13,
    "start_time": "2022-06-15T21:01:15.388Z"
   },
   {
    "duration": 20,
    "start_time": "2022-06-15T21:01:15.402Z"
   },
   {
    "duration": 8,
    "start_time": "2022-06-15T21:01:15.423Z"
   },
   {
    "duration": 35,
    "start_time": "2022-06-15T21:01:15.433Z"
   },
   {
    "duration": 9,
    "start_time": "2022-06-15T21:01:15.470Z"
   },
   {
    "duration": 3,
    "start_time": "2022-06-15T21:01:15.481Z"
   },
   {
    "duration": 8,
    "start_time": "2022-06-15T21:01:15.486Z"
   },
   {
    "duration": 7,
    "start_time": "2022-06-15T21:01:15.495Z"
   },
   {
    "duration": 14,
    "start_time": "2022-06-15T21:01:15.503Z"
   },
   {
    "duration": 12,
    "start_time": "2022-06-15T21:01:15.519Z"
   },
   {
    "duration": 3,
    "start_time": "2022-06-15T21:01:15.533Z"
   },
   {
    "duration": 25,
    "start_time": "2022-06-15T21:01:15.537Z"
   },
   {
    "duration": 7,
    "start_time": "2022-06-15T21:01:15.564Z"
   },
   {
    "duration": 6,
    "start_time": "2022-06-15T21:01:15.575Z"
   },
   {
    "duration": 4,
    "start_time": "2022-06-15T21:01:15.582Z"
   },
   {
    "duration": 7,
    "start_time": "2022-06-15T21:01:15.588Z"
   },
   {
    "duration": 6,
    "start_time": "2022-06-15T21:01:15.597Z"
   },
   {
    "duration": 18,
    "start_time": "2022-06-15T21:01:15.605Z"
   },
   {
    "duration": 35,
    "start_time": "2022-06-15T21:01:15.625Z"
   },
   {
    "duration": 11,
    "start_time": "2022-06-15T21:01:15.661Z"
   },
   {
    "duration": 9,
    "start_time": "2022-06-15T21:01:15.674Z"
   },
   {
    "duration": 382,
    "start_time": "2022-06-15T21:01:15.684Z"
   },
   {
    "duration": 7,
    "start_time": "2022-06-15T21:01:16.068Z"
   },
   {
    "duration": 28,
    "start_time": "2022-06-15T21:01:16.077Z"
   },
   {
    "duration": 30,
    "start_time": "2022-06-15T21:01:16.107Z"
   },
   {
    "duration": 132,
    "start_time": "2022-06-15T21:01:16.138Z"
   },
   {
    "duration": 4,
    "start_time": "2022-06-15T21:01:16.272Z"
   },
   {
    "duration": 7,
    "start_time": "2022-06-15T21:01:16.277Z"
   },
   {
    "duration": 11,
    "start_time": "2022-06-15T21:01:16.295Z"
   },
   {
    "duration": 8,
    "start_time": "2022-06-15T21:01:16.307Z"
   },
   {
    "duration": 6,
    "start_time": "2022-06-15T21:01:16.317Z"
   },
   {
    "duration": 14,
    "start_time": "2022-06-15T21:01:16.324Z"
   },
   {
    "duration": 144,
    "start_time": "2022-06-15T21:01:16.340Z"
   },
   {
    "duration": 4,
    "start_time": "2022-06-15T21:01:16.486Z"
   },
   {
    "duration": 6,
    "start_time": "2022-06-15T21:01:16.492Z"
   },
   {
    "duration": 6,
    "start_time": "2022-06-15T21:01:16.499Z"
   },
   {
    "duration": 6,
    "start_time": "2022-06-15T21:01:16.507Z"
   },
   {
    "duration": 80,
    "start_time": "2022-06-15T21:01:16.514Z"
   },
   {
    "duration": 0,
    "start_time": "2022-06-15T21:01:16.596Z"
   },
   {
    "duration": 0,
    "start_time": "2022-06-15T21:01:16.597Z"
   },
   {
    "duration": 0,
    "start_time": "2022-06-15T21:01:16.598Z"
   },
   {
    "duration": 0,
    "start_time": "2022-06-15T21:01:16.599Z"
   },
   {
    "duration": 0,
    "start_time": "2022-06-15T21:01:16.600Z"
   },
   {
    "duration": 0,
    "start_time": "2022-06-15T21:01:16.601Z"
   },
   {
    "duration": 0,
    "start_time": "2022-06-15T21:01:16.602Z"
   },
   {
    "duration": 0,
    "start_time": "2022-06-15T21:01:16.603Z"
   },
   {
    "duration": 0,
    "start_time": "2022-06-15T21:01:16.604Z"
   },
   {
    "duration": 0,
    "start_time": "2022-06-15T21:01:16.605Z"
   },
   {
    "duration": 0,
    "start_time": "2022-06-15T21:01:16.606Z"
   },
   {
    "duration": 0,
    "start_time": "2022-06-15T21:01:16.607Z"
   },
   {
    "duration": 0,
    "start_time": "2022-06-15T21:01:16.608Z"
   },
   {
    "duration": 0,
    "start_time": "2022-06-15T21:01:16.609Z"
   },
   {
    "duration": 0,
    "start_time": "2022-06-15T21:01:16.610Z"
   },
   {
    "duration": 0,
    "start_time": "2022-06-15T21:01:16.611Z"
   },
   {
    "duration": 0,
    "start_time": "2022-06-15T21:01:16.612Z"
   },
   {
    "duration": 0,
    "start_time": "2022-06-15T21:01:16.613Z"
   },
   {
    "duration": 0,
    "start_time": "2022-06-15T21:01:16.614Z"
   },
   {
    "duration": 0,
    "start_time": "2022-06-15T21:01:16.616Z"
   },
   {
    "duration": 0,
    "start_time": "2022-06-15T21:01:16.616Z"
   },
   {
    "duration": 0,
    "start_time": "2022-06-15T21:01:16.618Z"
   },
   {
    "duration": 0,
    "start_time": "2022-06-15T21:01:16.619Z"
   },
   {
    "duration": 0,
    "start_time": "2022-06-15T21:01:16.620Z"
   },
   {
    "duration": 0,
    "start_time": "2022-06-15T21:01:16.621Z"
   },
   {
    "duration": 0,
    "start_time": "2022-06-15T21:01:16.621Z"
   },
   {
    "duration": 6,
    "start_time": "2022-06-15T21:01:55.619Z"
   },
   {
    "duration": 14,
    "start_time": "2022-06-15T21:01:56.512Z"
   },
   {
    "duration": 362,
    "start_time": "2022-06-15T21:05:52.234Z"
   },
   {
    "duration": 5,
    "start_time": "2022-06-15T21:06:07.523Z"
   },
   {
    "duration": 5,
    "start_time": "2022-06-15T21:06:44.504Z"
   },
   {
    "duration": 3,
    "start_time": "2022-06-15T21:11:30.097Z"
   },
   {
    "duration": 290,
    "start_time": "2022-06-15T21:13:01.199Z"
   },
   {
    "duration": 293,
    "start_time": "2022-06-15T21:14:00.355Z"
   },
   {
    "duration": 379,
    "start_time": "2022-06-15T21:14:43.018Z"
   },
   {
    "duration": 155,
    "start_time": "2022-06-15T21:14:43.399Z"
   },
   {
    "duration": 131,
    "start_time": "2022-06-15T21:14:43.556Z"
   },
   {
    "duration": 82,
    "start_time": "2022-06-15T21:14:43.689Z"
   },
   {
    "duration": 14,
    "start_time": "2022-06-15T21:14:43.773Z"
   },
   {
    "duration": 24,
    "start_time": "2022-06-15T21:14:43.789Z"
   },
   {
    "duration": 14,
    "start_time": "2022-06-15T21:14:43.814Z"
   },
   {
    "duration": 25,
    "start_time": "2022-06-15T21:14:43.830Z"
   },
   {
    "duration": 8,
    "start_time": "2022-06-15T21:14:43.857Z"
   },
   {
    "duration": 23,
    "start_time": "2022-06-15T21:14:43.868Z"
   },
   {
    "duration": 7,
    "start_time": "2022-06-15T21:14:43.893Z"
   },
   {
    "duration": 23,
    "start_time": "2022-06-15T21:14:43.902Z"
   },
   {
    "duration": 33,
    "start_time": "2022-06-15T21:14:43.927Z"
   },
   {
    "duration": 11,
    "start_time": "2022-06-15T21:14:43.961Z"
   },
   {
    "duration": 13,
    "start_time": "2022-06-15T21:14:43.973Z"
   },
   {
    "duration": 11,
    "start_time": "2022-06-15T21:14:43.987Z"
   },
   {
    "duration": 34,
    "start_time": "2022-06-15T21:14:44.000Z"
   },
   {
    "duration": 21,
    "start_time": "2022-06-15T21:14:44.058Z"
   },
   {
    "duration": 19,
    "start_time": "2022-06-15T21:14:44.081Z"
   },
   {
    "duration": 13,
    "start_time": "2022-06-15T21:14:44.101Z"
   },
   {
    "duration": 44,
    "start_time": "2022-06-15T21:14:44.116Z"
   },
   {
    "duration": 17,
    "start_time": "2022-06-15T21:14:44.162Z"
   },
   {
    "duration": 3,
    "start_time": "2022-06-15T21:14:44.180Z"
   },
   {
    "duration": 8,
    "start_time": "2022-06-15T21:14:44.184Z"
   },
   {
    "duration": 8,
    "start_time": "2022-06-15T21:14:44.193Z"
   },
   {
    "duration": 20,
    "start_time": "2022-06-15T21:14:44.203Z"
   },
   {
    "duration": 35,
    "start_time": "2022-06-15T21:14:44.225Z"
   },
   {
    "duration": 9,
    "start_time": "2022-06-15T21:14:44.265Z"
   },
   {
    "duration": 18,
    "start_time": "2022-06-15T21:14:44.276Z"
   },
   {
    "duration": 9,
    "start_time": "2022-06-15T21:14:44.296Z"
   },
   {
    "duration": 14,
    "start_time": "2022-06-15T21:14:44.307Z"
   },
   {
    "duration": 44,
    "start_time": "2022-06-15T21:14:44.323Z"
   },
   {
    "duration": 3,
    "start_time": "2022-06-15T21:14:44.369Z"
   },
   {
    "duration": 6,
    "start_time": "2022-06-15T21:14:44.373Z"
   },
   {
    "duration": 5,
    "start_time": "2022-06-15T21:14:44.380Z"
   },
   {
    "duration": 11,
    "start_time": "2022-06-15T21:14:44.386Z"
   },
   {
    "duration": 8,
    "start_time": "2022-06-15T21:14:44.399Z"
   },
   {
    "duration": 3,
    "start_time": "2022-06-15T21:14:44.408Z"
   },
   {
    "duration": 13,
    "start_time": "2022-06-15T21:14:44.413Z"
   },
   {
    "duration": 36,
    "start_time": "2022-06-15T21:14:44.428Z"
   },
   {
    "duration": 6,
    "start_time": "2022-06-15T21:14:44.466Z"
   },
   {
    "duration": 4,
    "start_time": "2022-06-15T21:14:44.474Z"
   },
   {
    "duration": 7,
    "start_time": "2022-06-15T21:14:44.479Z"
   },
   {
    "duration": 15,
    "start_time": "2022-06-15T21:14:44.488Z"
   },
   {
    "duration": 102,
    "start_time": "2022-06-15T21:14:44.505Z"
   },
   {
    "duration": 0,
    "start_time": "2022-06-15T21:14:44.609Z"
   },
   {
    "duration": 0,
    "start_time": "2022-06-15T21:14:44.610Z"
   },
   {
    "duration": 0,
    "start_time": "2022-06-15T21:14:44.611Z"
   },
   {
    "duration": 0,
    "start_time": "2022-06-15T21:14:44.612Z"
   },
   {
    "duration": 0,
    "start_time": "2022-06-15T21:14:44.614Z"
   },
   {
    "duration": 0,
    "start_time": "2022-06-15T21:14:44.615Z"
   },
   {
    "duration": 0,
    "start_time": "2022-06-15T21:14:44.616Z"
   },
   {
    "duration": 0,
    "start_time": "2022-06-15T21:14:44.617Z"
   },
   {
    "duration": 0,
    "start_time": "2022-06-15T21:14:44.618Z"
   },
   {
    "duration": 0,
    "start_time": "2022-06-15T21:14:44.619Z"
   },
   {
    "duration": 0,
    "start_time": "2022-06-15T21:14:44.620Z"
   },
   {
    "duration": 0,
    "start_time": "2022-06-15T21:14:44.621Z"
   },
   {
    "duration": 0,
    "start_time": "2022-06-15T21:14:44.622Z"
   },
   {
    "duration": 0,
    "start_time": "2022-06-15T21:14:44.623Z"
   },
   {
    "duration": 0,
    "start_time": "2022-06-15T21:14:44.624Z"
   },
   {
    "duration": 0,
    "start_time": "2022-06-15T21:14:44.624Z"
   },
   {
    "duration": 0,
    "start_time": "2022-06-15T21:14:44.625Z"
   },
   {
    "duration": 0,
    "start_time": "2022-06-15T21:14:44.626Z"
   },
   {
    "duration": 0,
    "start_time": "2022-06-15T21:14:44.659Z"
   },
   {
    "duration": 0,
    "start_time": "2022-06-15T21:14:44.660Z"
   },
   {
    "duration": 0,
    "start_time": "2022-06-15T21:14:44.661Z"
   },
   {
    "duration": 0,
    "start_time": "2022-06-15T21:14:44.662Z"
   },
   {
    "duration": 0,
    "start_time": "2022-06-15T21:14:44.664Z"
   },
   {
    "duration": 1,
    "start_time": "2022-06-15T21:14:44.664Z"
   },
   {
    "duration": 0,
    "start_time": "2022-06-15T21:14:44.666Z"
   },
   {
    "duration": 0,
    "start_time": "2022-06-15T21:14:44.666Z"
   },
   {
    "duration": 0,
    "start_time": "2022-06-15T21:14:44.667Z"
   },
   {
    "duration": 0,
    "start_time": "2022-06-15T21:14:44.668Z"
   },
   {
    "duration": 0,
    "start_time": "2022-06-15T21:14:44.669Z"
   },
   {
    "duration": 0,
    "start_time": "2022-06-15T21:14:44.670Z"
   },
   {
    "duration": 1,
    "start_time": "2022-06-15T21:14:44.671Z"
   },
   {
    "duration": 0,
    "start_time": "2022-06-15T21:14:44.672Z"
   },
   {
    "duration": 0,
    "start_time": "2022-06-15T21:14:44.673Z"
   },
   {
    "duration": 0,
    "start_time": "2022-06-15T21:14:44.675Z"
   },
   {
    "duration": 0,
    "start_time": "2022-06-15T21:14:44.676Z"
   },
   {
    "duration": 0,
    "start_time": "2022-06-15T21:14:44.677Z"
   },
   {
    "duration": 0,
    "start_time": "2022-06-15T21:14:44.678Z"
   },
   {
    "duration": 0,
    "start_time": "2022-06-15T21:14:44.679Z"
   },
   {
    "duration": 0,
    "start_time": "2022-06-15T21:14:44.680Z"
   },
   {
    "duration": 0,
    "start_time": "2022-06-15T21:14:44.681Z"
   },
   {
    "duration": 0,
    "start_time": "2022-06-15T21:14:44.682Z"
   },
   {
    "duration": 0,
    "start_time": "2022-06-15T21:14:44.683Z"
   },
   {
    "duration": 0,
    "start_time": "2022-06-15T21:14:44.684Z"
   },
   {
    "duration": 0,
    "start_time": "2022-06-15T21:14:44.685Z"
   },
   {
    "duration": 0,
    "start_time": "2022-06-15T21:14:44.686Z"
   },
   {
    "duration": 0,
    "start_time": "2022-06-15T21:14:44.687Z"
   },
   {
    "duration": 0,
    "start_time": "2022-06-15T21:14:44.688Z"
   },
   {
    "duration": 4,
    "start_time": "2022-06-15T21:16:55.121Z"
   },
   {
    "duration": 309,
    "start_time": "2022-06-15T21:17:49.695Z"
   },
   {
    "duration": 295,
    "start_time": "2022-06-15T21:18:41.369Z"
   },
   {
    "duration": 3,
    "start_time": "2022-06-15T21:20:28.832Z"
   },
   {
    "duration": 2,
    "start_time": "2022-06-15T21:20:32.539Z"
   },
   {
    "duration": 255,
    "start_time": "2022-06-15T21:22:14.798Z"
   },
   {
    "duration": 225,
    "start_time": "2022-06-15T21:22:33.387Z"
   },
   {
    "duration": 5,
    "start_time": "2022-06-15T21:24:20.746Z"
   },
   {
    "duration": 8,
    "start_time": "2022-06-15T21:24:41.600Z"
   },
   {
    "duration": 4,
    "start_time": "2022-06-15T21:25:18.823Z"
   },
   {
    "duration": 10,
    "start_time": "2022-06-15T21:25:19.744Z"
   },
   {
    "duration": 261,
    "start_time": "2022-06-15T21:25:50.428Z"
   },
   {
    "duration": 263,
    "start_time": "2022-06-15T21:26:18.717Z"
   },
   {
    "duration": 279,
    "start_time": "2022-06-15T21:26:37.654Z"
   },
   {
    "duration": 276,
    "start_time": "2022-06-15T21:26:48.144Z"
   },
   {
    "duration": 5,
    "start_time": "2022-06-15T21:29:07.765Z"
   },
   {
    "duration": 6,
    "start_time": "2022-06-15T21:31:11.271Z"
   },
   {
    "duration": 248,
    "start_time": "2022-06-15T21:31:23.580Z"
   },
   {
    "duration": 7,
    "start_time": "2022-06-15T21:48:20.386Z"
   },
   {
    "duration": 9,
    "start_time": "2022-06-15T21:48:37.022Z"
   },
   {
    "duration": 10,
    "start_time": "2022-06-15T21:50:29.925Z"
   },
   {
    "duration": 20,
    "start_time": "2022-06-15T21:50:42.593Z"
   },
   {
    "duration": 13,
    "start_time": "2022-06-15T21:51:26.794Z"
   },
   {
    "duration": 15,
    "start_time": "2022-06-15T21:51:56.001Z"
   },
   {
    "duration": 4,
    "start_time": "2022-06-15T21:52:35.847Z"
   },
   {
    "duration": 8,
    "start_time": "2022-06-15T21:52:47.410Z"
   },
   {
    "duration": 26,
    "start_time": "2022-06-15T21:53:20.827Z"
   },
   {
    "duration": 31,
    "start_time": "2022-06-15T21:53:57.393Z"
   },
   {
    "duration": 6,
    "start_time": "2022-06-15T21:54:17.926Z"
   },
   {
    "duration": 17,
    "start_time": "2022-06-15T21:54:21.595Z"
   },
   {
    "duration": 4,
    "start_time": "2022-06-15T21:56:03.890Z"
   },
   {
    "duration": 18,
    "start_time": "2022-06-15T21:56:31.744Z"
   },
   {
    "duration": 3,
    "start_time": "2022-06-15T22:02:35.679Z"
   },
   {
    "duration": 4,
    "start_time": "2022-06-15T22:04:01.797Z"
   },
   {
    "duration": 30,
    "start_time": "2022-06-15T22:04:58.796Z"
   },
   {
    "duration": 8,
    "start_time": "2022-06-15T22:05:14.155Z"
   },
   {
    "duration": 9,
    "start_time": "2022-06-15T22:05:51.579Z"
   },
   {
    "duration": 8,
    "start_time": "2022-06-15T22:06:10.561Z"
   },
   {
    "duration": 321,
    "start_time": "2022-06-15T22:06:11.001Z"
   },
   {
    "duration": 311,
    "start_time": "2022-06-15T22:06:39.668Z"
   },
   {
    "duration": 7,
    "start_time": "2022-06-15T22:07:08.881Z"
   },
   {
    "duration": 4,
    "start_time": "2022-06-15T22:07:13.854Z"
   },
   {
    "duration": 4,
    "start_time": "2022-06-15T22:07:40.306Z"
   },
   {
    "duration": 4,
    "start_time": "2022-06-15T22:08:03.185Z"
   },
   {
    "duration": 26,
    "start_time": "2022-06-15T22:08:04.416Z"
   },
   {
    "duration": 403,
    "start_time": "2022-06-15T22:08:46.256Z"
   },
   {
    "duration": 152,
    "start_time": "2022-06-15T22:08:46.660Z"
   },
   {
    "duration": 125,
    "start_time": "2022-06-15T22:08:46.814Z"
   },
   {
    "duration": 80,
    "start_time": "2022-06-15T22:08:46.941Z"
   },
   {
    "duration": 14,
    "start_time": "2022-06-15T22:08:47.022Z"
   },
   {
    "duration": 23,
    "start_time": "2022-06-15T22:08:47.038Z"
   },
   {
    "duration": 13,
    "start_time": "2022-06-15T22:08:47.063Z"
   },
   {
    "duration": 29,
    "start_time": "2022-06-15T22:08:47.078Z"
   },
   {
    "duration": 9,
    "start_time": "2022-06-15T22:08:47.108Z"
   },
   {
    "duration": 45,
    "start_time": "2022-06-15T22:08:47.121Z"
   },
   {
    "duration": 8,
    "start_time": "2022-06-15T22:08:47.168Z"
   },
   {
    "duration": 30,
    "start_time": "2022-06-15T22:08:47.177Z"
   },
   {
    "duration": 9,
    "start_time": "2022-06-15T22:08:47.209Z"
   },
   {
    "duration": 18,
    "start_time": "2022-06-15T22:08:47.220Z"
   },
   {
    "duration": 13,
    "start_time": "2022-06-15T22:08:47.259Z"
   },
   {
    "duration": 14,
    "start_time": "2022-06-15T22:08:47.274Z"
   },
   {
    "duration": 39,
    "start_time": "2022-06-15T22:08:47.290Z"
   },
   {
    "duration": 38,
    "start_time": "2022-06-15T22:08:47.331Z"
   },
   {
    "duration": 19,
    "start_time": "2022-06-15T22:08:47.371Z"
   },
   {
    "duration": 13,
    "start_time": "2022-06-15T22:08:47.392Z"
   },
   {
    "duration": 23,
    "start_time": "2022-06-15T22:08:47.407Z"
   },
   {
    "duration": 36,
    "start_time": "2022-06-15T22:08:47.432Z"
   },
   {
    "duration": 2,
    "start_time": "2022-06-15T22:08:47.469Z"
   },
   {
    "duration": 9,
    "start_time": "2022-06-15T22:08:47.472Z"
   },
   {
    "duration": 9,
    "start_time": "2022-06-15T22:08:47.482Z"
   },
   {
    "duration": 21,
    "start_time": "2022-06-15T22:08:47.492Z"
   },
   {
    "duration": 10,
    "start_time": "2022-06-15T22:08:47.514Z"
   },
   {
    "duration": 34,
    "start_time": "2022-06-15T22:08:47.528Z"
   },
   {
    "duration": 18,
    "start_time": "2022-06-15T22:08:47.563Z"
   },
   {
    "duration": 9,
    "start_time": "2022-06-15T22:08:47.583Z"
   },
   {
    "duration": 14,
    "start_time": "2022-06-15T22:08:47.593Z"
   },
   {
    "duration": 11,
    "start_time": "2022-06-15T22:08:47.608Z"
   },
   {
    "duration": 4,
    "start_time": "2022-06-15T22:08:47.620Z"
   },
   {
    "duration": 37,
    "start_time": "2022-06-15T22:08:47.625Z"
   },
   {
    "duration": 4,
    "start_time": "2022-06-15T22:08:47.663Z"
   },
   {
    "duration": 19,
    "start_time": "2022-06-15T22:08:47.668Z"
   },
   {
    "duration": 15,
    "start_time": "2022-06-15T22:08:47.688Z"
   },
   {
    "duration": 17,
    "start_time": "2022-06-15T22:08:47.704Z"
   },
   {
    "duration": 15,
    "start_time": "2022-06-15T22:08:47.722Z"
   },
   {
    "duration": 12,
    "start_time": "2022-06-15T22:08:47.738Z"
   },
   {
    "duration": 7,
    "start_time": "2022-06-15T22:08:47.752Z"
   },
   {
    "duration": 5,
    "start_time": "2022-06-15T22:08:47.761Z"
   },
   {
    "duration": 6,
    "start_time": "2022-06-15T22:08:47.767Z"
   },
   {
    "duration": 7,
    "start_time": "2022-06-15T22:08:47.774Z"
   },
   {
    "duration": 9,
    "start_time": "2022-06-15T22:08:47.783Z"
   },
   {
    "duration": 8,
    "start_time": "2022-06-15T22:08:47.794Z"
   },
   {
    "duration": 7,
    "start_time": "2022-06-15T22:08:47.803Z"
   },
   {
    "duration": 7,
    "start_time": "2022-06-15T22:08:47.811Z"
   },
   {
    "duration": 6,
    "start_time": "2022-06-15T22:08:47.819Z"
   },
   {
    "duration": 39,
    "start_time": "2022-06-15T22:08:47.826Z"
   },
   {
    "duration": 8,
    "start_time": "2022-06-15T22:08:47.866Z"
   },
   {
    "duration": 0,
    "start_time": "2022-06-15T22:08:47.876Z"
   },
   {
    "duration": 0,
    "start_time": "2022-06-15T22:08:47.877Z"
   },
   {
    "duration": 0,
    "start_time": "2022-06-15T22:08:47.879Z"
   },
   {
    "duration": 0,
    "start_time": "2022-06-15T22:08:47.880Z"
   },
   {
    "duration": 0,
    "start_time": "2022-06-15T22:08:47.881Z"
   },
   {
    "duration": 0,
    "start_time": "2022-06-15T22:08:47.882Z"
   },
   {
    "duration": 0,
    "start_time": "2022-06-15T22:08:47.883Z"
   },
   {
    "duration": 0,
    "start_time": "2022-06-15T22:08:47.884Z"
   },
   {
    "duration": 0,
    "start_time": "2022-06-15T22:08:47.885Z"
   },
   {
    "duration": 0,
    "start_time": "2022-06-15T22:08:47.886Z"
   },
   {
    "duration": 0,
    "start_time": "2022-06-15T22:08:47.887Z"
   },
   {
    "duration": 0,
    "start_time": "2022-06-15T22:08:47.888Z"
   },
   {
    "duration": 0,
    "start_time": "2022-06-15T22:08:47.889Z"
   },
   {
    "duration": 0,
    "start_time": "2022-06-15T22:08:47.891Z"
   },
   {
    "duration": 0,
    "start_time": "2022-06-15T22:08:47.892Z"
   },
   {
    "duration": 0,
    "start_time": "2022-06-15T22:08:47.893Z"
   },
   {
    "duration": 0,
    "start_time": "2022-06-15T22:08:47.894Z"
   },
   {
    "duration": 0,
    "start_time": "2022-06-15T22:08:47.895Z"
   },
   {
    "duration": 0,
    "start_time": "2022-06-15T22:08:47.896Z"
   },
   {
    "duration": 0,
    "start_time": "2022-06-15T22:08:47.897Z"
   },
   {
    "duration": 0,
    "start_time": "2022-06-15T22:08:47.898Z"
   },
   {
    "duration": 0,
    "start_time": "2022-06-15T22:08:47.899Z"
   },
   {
    "duration": 0,
    "start_time": "2022-06-15T22:08:47.900Z"
   },
   {
    "duration": 0,
    "start_time": "2022-06-15T22:08:47.901Z"
   },
   {
    "duration": 0,
    "start_time": "2022-06-15T22:08:47.902Z"
   },
   {
    "duration": 0,
    "start_time": "2022-06-15T22:08:47.959Z"
   },
   {
    "duration": 0,
    "start_time": "2022-06-15T22:08:47.960Z"
   },
   {
    "duration": 0,
    "start_time": "2022-06-15T22:08:47.961Z"
   },
   {
    "duration": 0,
    "start_time": "2022-06-15T22:08:47.962Z"
   },
   {
    "duration": 0,
    "start_time": "2022-06-15T22:08:47.963Z"
   },
   {
    "duration": 0,
    "start_time": "2022-06-15T22:08:47.964Z"
   },
   {
    "duration": 0,
    "start_time": "2022-06-15T22:08:47.965Z"
   },
   {
    "duration": 0,
    "start_time": "2022-06-15T22:08:47.966Z"
   },
   {
    "duration": 0,
    "start_time": "2022-06-15T22:08:47.967Z"
   },
   {
    "duration": 0,
    "start_time": "2022-06-15T22:08:47.968Z"
   },
   {
    "duration": 0,
    "start_time": "2022-06-15T22:08:47.969Z"
   },
   {
    "duration": 0,
    "start_time": "2022-06-15T22:08:47.970Z"
   },
   {
    "duration": 0,
    "start_time": "2022-06-15T22:08:47.971Z"
   },
   {
    "duration": 0,
    "start_time": "2022-06-15T22:08:47.972Z"
   },
   {
    "duration": 0,
    "start_time": "2022-06-15T22:08:47.973Z"
   },
   {
    "duration": 0,
    "start_time": "2022-06-15T22:08:47.975Z"
   },
   {
    "duration": 0,
    "start_time": "2022-06-15T22:08:47.976Z"
   },
   {
    "duration": 0,
    "start_time": "2022-06-15T22:08:47.976Z"
   },
   {
    "duration": 0,
    "start_time": "2022-06-15T22:08:47.977Z"
   },
   {
    "duration": 0,
    "start_time": "2022-06-15T22:08:47.979Z"
   },
   {
    "duration": 0,
    "start_time": "2022-06-15T22:08:47.980Z"
   },
   {
    "duration": 0,
    "start_time": "2022-06-15T22:08:47.980Z"
   },
   {
    "duration": 0,
    "start_time": "2022-06-15T22:08:47.982Z"
   },
   {
    "duration": 54,
    "start_time": "2022-06-15T22:19:11.263Z"
   },
   {
    "duration": 6,
    "start_time": "2022-06-15T22:19:14.804Z"
   },
   {
    "duration": 74,
    "start_time": "2022-06-15T22:24:27.296Z"
   },
   {
    "duration": 28,
    "start_time": "2022-06-15T22:31:54.644Z"
   },
   {
    "duration": 26,
    "start_time": "2022-06-15T22:32:06.757Z"
   },
   {
    "duration": 19,
    "start_time": "2022-06-15T22:32:19.736Z"
   },
   {
    "duration": 20,
    "start_time": "2022-06-15T22:32:36.967Z"
   },
   {
    "duration": 26,
    "start_time": "2022-06-15T22:34:02.252Z"
   },
   {
    "duration": 37,
    "start_time": "2022-06-15T22:34:15.769Z"
   },
   {
    "duration": 39,
    "start_time": "2022-06-15T22:36:00.080Z"
   },
   {
    "duration": 37,
    "start_time": "2022-06-15T22:36:05.775Z"
   },
   {
    "duration": 36,
    "start_time": "2022-06-15T22:37:59.184Z"
   },
   {
    "duration": 24,
    "start_time": "2022-06-15T22:38:46.948Z"
   },
   {
    "duration": 24,
    "start_time": "2022-06-15T22:38:48.004Z"
   },
   {
    "duration": 39,
    "start_time": "2022-06-15T22:38:55.808Z"
   },
   {
    "duration": 23,
    "start_time": "2022-06-15T22:39:39.748Z"
   },
   {
    "duration": 365,
    "start_time": "2022-06-15T22:41:52.919Z"
   },
   {
    "duration": 397,
    "start_time": "2022-06-15T22:42:01.381Z"
   },
   {
    "duration": 163,
    "start_time": "2022-06-15T22:42:01.780Z"
   },
   {
    "duration": 136,
    "start_time": "2022-06-15T22:42:01.944Z"
   },
   {
    "duration": 86,
    "start_time": "2022-06-15T22:42:02.081Z"
   },
   {
    "duration": 15,
    "start_time": "2022-06-15T22:42:02.169Z"
   },
   {
    "duration": 24,
    "start_time": "2022-06-15T22:42:02.185Z"
   },
   {
    "duration": 14,
    "start_time": "2022-06-15T22:42:02.211Z"
   },
   {
    "duration": 25,
    "start_time": "2022-06-15T22:42:02.227Z"
   },
   {
    "duration": 8,
    "start_time": "2022-06-15T22:42:02.254Z"
   },
   {
    "duration": 32,
    "start_time": "2022-06-15T22:42:02.264Z"
   },
   {
    "duration": 7,
    "start_time": "2022-06-15T22:42:02.298Z"
   },
   {
    "duration": 21,
    "start_time": "2022-06-15T22:42:02.307Z"
   },
   {
    "duration": 8,
    "start_time": "2022-06-15T22:42:02.329Z"
   },
   {
    "duration": 29,
    "start_time": "2022-06-15T22:42:02.341Z"
   },
   {
    "duration": 19,
    "start_time": "2022-06-15T22:42:02.371Z"
   },
   {
    "duration": 22,
    "start_time": "2022-06-15T22:42:02.392Z"
   },
   {
    "duration": 39,
    "start_time": "2022-06-15T22:42:02.415Z"
   },
   {
    "duration": 22,
    "start_time": "2022-06-15T22:42:02.456Z"
   },
   {
    "duration": 21,
    "start_time": "2022-06-15T22:42:02.480Z"
   },
   {
    "duration": 14,
    "start_time": "2022-06-15T22:42:02.502Z"
   },
   {
    "duration": 49,
    "start_time": "2022-06-15T22:42:02.517Z"
   },
   {
    "duration": 16,
    "start_time": "2022-06-15T22:42:02.568Z"
   },
   {
    "duration": 4,
    "start_time": "2022-06-15T22:42:02.586Z"
   },
   {
    "duration": 12,
    "start_time": "2022-06-15T22:42:02.591Z"
   },
   {
    "duration": 9,
    "start_time": "2022-06-15T22:42:02.604Z"
   },
   {
    "duration": 35,
    "start_time": "2022-06-15T22:42:02.614Z"
   },
   {
    "duration": 14,
    "start_time": "2022-06-15T22:42:02.651Z"
   },
   {
    "duration": 14,
    "start_time": "2022-06-15T22:42:02.667Z"
   },
   {
    "duration": 21,
    "start_time": "2022-06-15T22:42:02.683Z"
   },
   {
    "duration": 9,
    "start_time": "2022-06-15T22:42:02.705Z"
   },
   {
    "duration": 30,
    "start_time": "2022-06-15T22:42:02.715Z"
   },
   {
    "duration": 19,
    "start_time": "2022-06-15T22:42:02.746Z"
   },
   {
    "duration": 3,
    "start_time": "2022-06-15T22:42:02.767Z"
   },
   {
    "duration": 9,
    "start_time": "2022-06-15T22:42:02.772Z"
   },
   {
    "duration": 19,
    "start_time": "2022-06-15T22:42:02.782Z"
   },
   {
    "duration": 14,
    "start_time": "2022-06-15T22:42:02.803Z"
   },
   {
    "duration": 12,
    "start_time": "2022-06-15T22:42:02.819Z"
   },
   {
    "duration": 3,
    "start_time": "2022-06-15T22:42:02.832Z"
   },
   {
    "duration": 16,
    "start_time": "2022-06-15T22:42:02.837Z"
   },
   {
    "duration": 10,
    "start_time": "2022-06-15T22:42:02.854Z"
   },
   {
    "duration": 6,
    "start_time": "2022-06-15T22:42:02.869Z"
   },
   {
    "duration": 7,
    "start_time": "2022-06-15T22:42:02.876Z"
   },
   {
    "duration": 5,
    "start_time": "2022-06-15T22:42:02.885Z"
   },
   {
    "duration": 7,
    "start_time": "2022-06-15T22:42:02.892Z"
   },
   {
    "duration": 20,
    "start_time": "2022-06-15T22:42:02.901Z"
   },
   {
    "duration": 15,
    "start_time": "2022-06-15T22:42:02.922Z"
   },
   {
    "duration": 15,
    "start_time": "2022-06-15T22:42:02.938Z"
   },
   {
    "duration": 10,
    "start_time": "2022-06-15T22:42:02.955Z"
   },
   {
    "duration": 22,
    "start_time": "2022-06-15T22:42:02.966Z"
   },
   {
    "duration": 47,
    "start_time": "2022-06-15T22:42:02.989Z"
   },
   {
    "duration": 49,
    "start_time": "2022-06-15T22:42:03.038Z"
   },
   {
    "duration": 24,
    "start_time": "2022-06-15T22:42:03.088Z"
   },
   {
    "duration": 24,
    "start_time": "2022-06-15T22:42:03.114Z"
   },
   {
    "duration": 91,
    "start_time": "2022-06-15T22:42:03.139Z"
   },
   {
    "duration": 0,
    "start_time": "2022-06-15T22:42:03.232Z"
   },
   {
    "duration": 0,
    "start_time": "2022-06-15T22:42:03.233Z"
   },
   {
    "duration": 0,
    "start_time": "2022-06-15T22:42:03.234Z"
   },
   {
    "duration": 0,
    "start_time": "2022-06-15T22:42:03.235Z"
   },
   {
    "duration": 0,
    "start_time": "2022-06-15T22:42:03.236Z"
   },
   {
    "duration": 0,
    "start_time": "2022-06-15T22:42:03.237Z"
   },
   {
    "duration": 0,
    "start_time": "2022-06-15T22:42:03.238Z"
   },
   {
    "duration": 0,
    "start_time": "2022-06-15T22:42:03.240Z"
   },
   {
    "duration": 0,
    "start_time": "2022-06-15T22:42:03.259Z"
   },
   {
    "duration": 0,
    "start_time": "2022-06-15T22:42:03.260Z"
   },
   {
    "duration": 0,
    "start_time": "2022-06-15T22:42:03.261Z"
   },
   {
    "duration": 0,
    "start_time": "2022-06-15T22:42:03.261Z"
   },
   {
    "duration": 0,
    "start_time": "2022-06-15T22:42:03.263Z"
   },
   {
    "duration": 0,
    "start_time": "2022-06-15T22:42:03.264Z"
   },
   {
    "duration": 0,
    "start_time": "2022-06-15T22:42:03.265Z"
   },
   {
    "duration": 0,
    "start_time": "2022-06-15T22:42:03.266Z"
   },
   {
    "duration": 0,
    "start_time": "2022-06-15T22:42:03.266Z"
   },
   {
    "duration": 0,
    "start_time": "2022-06-15T22:42:03.268Z"
   },
   {
    "duration": 0,
    "start_time": "2022-06-15T22:42:03.269Z"
   },
   {
    "duration": 0,
    "start_time": "2022-06-15T22:42:03.270Z"
   },
   {
    "duration": 0,
    "start_time": "2022-06-15T22:42:03.271Z"
   },
   {
    "duration": 0,
    "start_time": "2022-06-15T22:42:03.272Z"
   },
   {
    "duration": 0,
    "start_time": "2022-06-15T22:42:03.273Z"
   },
   {
    "duration": 0,
    "start_time": "2022-06-15T22:42:03.274Z"
   },
   {
    "duration": 0,
    "start_time": "2022-06-15T22:42:03.275Z"
   },
   {
    "duration": 0,
    "start_time": "2022-06-15T22:42:03.276Z"
   },
   {
    "duration": 0,
    "start_time": "2022-06-15T22:42:03.276Z"
   },
   {
    "duration": 0,
    "start_time": "2022-06-15T22:42:03.277Z"
   },
   {
    "duration": 0,
    "start_time": "2022-06-15T22:42:03.278Z"
   },
   {
    "duration": 0,
    "start_time": "2022-06-15T22:42:03.279Z"
   },
   {
    "duration": 0,
    "start_time": "2022-06-15T22:42:03.281Z"
   },
   {
    "duration": 0,
    "start_time": "2022-06-15T22:42:03.281Z"
   },
   {
    "duration": 0,
    "start_time": "2022-06-15T22:42:03.282Z"
   },
   {
    "duration": 0,
    "start_time": "2022-06-15T22:42:03.283Z"
   },
   {
    "duration": 0,
    "start_time": "2022-06-15T22:42:03.284Z"
   },
   {
    "duration": 0,
    "start_time": "2022-06-15T22:42:03.285Z"
   },
   {
    "duration": 0,
    "start_time": "2022-06-15T22:42:03.286Z"
   },
   {
    "duration": 0,
    "start_time": "2022-06-15T22:42:03.287Z"
   },
   {
    "duration": 0,
    "start_time": "2022-06-15T22:42:03.288Z"
   },
   {
    "duration": 0,
    "start_time": "2022-06-15T22:42:03.289Z"
   },
   {
    "duration": 0,
    "start_time": "2022-06-15T22:42:03.290Z"
   },
   {
    "duration": 0,
    "start_time": "2022-06-15T22:42:03.291Z"
   },
   {
    "duration": 0,
    "start_time": "2022-06-15T22:42:03.292Z"
   },
   {
    "duration": 0,
    "start_time": "2022-06-15T22:42:03.293Z"
   },
   {
    "duration": 0,
    "start_time": "2022-06-15T22:42:03.293Z"
   },
   {
    "duration": 0,
    "start_time": "2022-06-15T22:42:03.295Z"
   },
   {
    "duration": 0,
    "start_time": "2022-06-15T22:42:03.295Z"
   },
   {
    "duration": 0,
    "start_time": "2022-06-15T22:42:03.297Z"
   },
   {
    "duration": 24,
    "start_time": "2022-06-15T22:42:47.517Z"
   },
   {
    "duration": 292,
    "start_time": "2022-06-15T22:43:45.134Z"
   },
   {
    "duration": 343,
    "start_time": "2022-06-15T22:44:21.315Z"
   },
   {
    "duration": 148,
    "start_time": "2022-06-15T22:44:21.660Z"
   },
   {
    "duration": 124,
    "start_time": "2022-06-15T22:44:21.810Z"
   },
   {
    "duration": 81,
    "start_time": "2022-06-15T22:44:21.935Z"
   },
   {
    "duration": 15,
    "start_time": "2022-06-15T22:44:22.018Z"
   },
   {
    "duration": 24,
    "start_time": "2022-06-15T22:44:22.034Z"
   },
   {
    "duration": 14,
    "start_time": "2022-06-15T22:44:22.059Z"
   },
   {
    "duration": 26,
    "start_time": "2022-06-15T22:44:22.075Z"
   },
   {
    "duration": 8,
    "start_time": "2022-06-15T22:44:22.102Z"
   },
   {
    "duration": 21,
    "start_time": "2022-06-15T22:44:22.112Z"
   },
   {
    "duration": 6,
    "start_time": "2022-06-15T22:44:22.159Z"
   },
   {
    "duration": 20,
    "start_time": "2022-06-15T22:44:22.167Z"
   },
   {
    "duration": 7,
    "start_time": "2022-06-15T22:44:22.189Z"
   },
   {
    "duration": 10,
    "start_time": "2022-06-15T22:44:22.199Z"
   },
   {
    "duration": 9,
    "start_time": "2022-06-15T22:44:22.210Z"
   },
   {
    "duration": 46,
    "start_time": "2022-06-15T22:44:22.220Z"
   },
   {
    "duration": 35,
    "start_time": "2022-06-15T22:44:22.267Z"
   },
   {
    "duration": 20,
    "start_time": "2022-06-15T22:44:22.304Z"
   },
   {
    "duration": 35,
    "start_time": "2022-06-15T22:44:22.325Z"
   },
   {
    "duration": 13,
    "start_time": "2022-06-15T22:44:22.361Z"
   },
   {
    "duration": 23,
    "start_time": "2022-06-15T22:44:22.375Z"
   },
   {
    "duration": 16,
    "start_time": "2022-06-15T22:44:22.400Z"
   },
   {
    "duration": 2,
    "start_time": "2022-06-15T22:44:22.417Z"
   },
   {
    "duration": 8,
    "start_time": "2022-06-15T22:44:22.420Z"
   },
   {
    "duration": 32,
    "start_time": "2022-06-15T22:44:22.429Z"
   },
   {
    "duration": 28,
    "start_time": "2022-06-15T22:44:22.463Z"
   },
   {
    "duration": 10,
    "start_time": "2022-06-15T22:44:22.493Z"
   },
   {
    "duration": 14,
    "start_time": "2022-06-15T22:44:22.505Z"
   },
   {
    "duration": 29,
    "start_time": "2022-06-15T22:44:22.521Z"
   },
   {
    "duration": 12,
    "start_time": "2022-06-15T22:44:22.551Z"
   },
   {
    "duration": 13,
    "start_time": "2022-06-15T22:44:22.565Z"
   },
   {
    "duration": 9,
    "start_time": "2022-06-15T22:44:22.579Z"
   },
   {
    "duration": 9,
    "start_time": "2022-06-15T22:44:22.590Z"
   },
   {
    "duration": 15,
    "start_time": "2022-06-15T22:44:22.601Z"
   },
   {
    "duration": 6,
    "start_time": "2022-06-15T22:44:22.618Z"
   },
   {
    "duration": 10,
    "start_time": "2022-06-15T22:44:22.625Z"
   },
   {
    "duration": 8,
    "start_time": "2022-06-15T22:44:22.637Z"
   },
   {
    "duration": 13,
    "start_time": "2022-06-15T22:44:22.646Z"
   },
   {
    "duration": 13,
    "start_time": "2022-06-15T22:44:22.660Z"
   },
   {
    "duration": 10,
    "start_time": "2022-06-15T22:44:22.675Z"
   },
   {
    "duration": 6,
    "start_time": "2022-06-15T22:44:22.690Z"
   },
   {
    "duration": 5,
    "start_time": "2022-06-15T22:44:22.697Z"
   },
   {
    "duration": 8,
    "start_time": "2022-06-15T22:44:22.703Z"
   },
   {
    "duration": 6,
    "start_time": "2022-06-15T22:44:22.712Z"
   },
   {
    "duration": 12,
    "start_time": "2022-06-15T22:44:22.719Z"
   },
   {
    "duration": 28,
    "start_time": "2022-06-15T22:44:22.732Z"
   },
   {
    "duration": 3,
    "start_time": "2022-06-15T22:44:22.762Z"
   },
   {
    "duration": 6,
    "start_time": "2022-06-15T22:44:22.767Z"
   },
   {
    "duration": 6,
    "start_time": "2022-06-15T22:44:22.774Z"
   },
   {
    "duration": 29,
    "start_time": "2022-06-15T22:44:22.782Z"
   },
   {
    "duration": 23,
    "start_time": "2022-06-15T22:44:22.813Z"
   },
   {
    "duration": 39,
    "start_time": "2022-06-15T22:44:22.838Z"
   },
   {
    "duration": 24,
    "start_time": "2022-06-15T22:44:22.879Z"
   },
   {
    "duration": 5,
    "start_time": "2022-06-15T22:44:22.905Z"
   },
   {
    "duration": 0,
    "start_time": "2022-06-15T22:44:22.911Z"
   },
   {
    "duration": 0,
    "start_time": "2022-06-15T22:44:22.913Z"
   },
   {
    "duration": 1,
    "start_time": "2022-06-15T22:44:22.914Z"
   },
   {
    "duration": 0,
    "start_time": "2022-06-15T22:44:22.916Z"
   },
   {
    "duration": 0,
    "start_time": "2022-06-15T22:44:22.917Z"
   },
   {
    "duration": 0,
    "start_time": "2022-06-15T22:44:22.918Z"
   },
   {
    "duration": 0,
    "start_time": "2022-06-15T22:44:22.920Z"
   },
   {
    "duration": 0,
    "start_time": "2022-06-15T22:44:22.921Z"
   },
   {
    "duration": 0,
    "start_time": "2022-06-15T22:44:22.922Z"
   },
   {
    "duration": 0,
    "start_time": "2022-06-15T22:44:22.959Z"
   },
   {
    "duration": 0,
    "start_time": "2022-06-15T22:44:22.961Z"
   },
   {
    "duration": 0,
    "start_time": "2022-06-15T22:44:22.963Z"
   },
   {
    "duration": 0,
    "start_time": "2022-06-15T22:44:22.964Z"
   },
   {
    "duration": 0,
    "start_time": "2022-06-15T22:44:22.965Z"
   },
   {
    "duration": 1,
    "start_time": "2022-06-15T22:44:22.966Z"
   },
   {
    "duration": 0,
    "start_time": "2022-06-15T22:44:22.968Z"
   },
   {
    "duration": 0,
    "start_time": "2022-06-15T22:44:22.969Z"
   },
   {
    "duration": 0,
    "start_time": "2022-06-15T22:44:22.970Z"
   },
   {
    "duration": 0,
    "start_time": "2022-06-15T22:44:22.971Z"
   },
   {
    "duration": 0,
    "start_time": "2022-06-15T22:44:22.972Z"
   },
   {
    "duration": 0,
    "start_time": "2022-06-15T22:44:22.973Z"
   },
   {
    "duration": 0,
    "start_time": "2022-06-15T22:44:22.974Z"
   },
   {
    "duration": 0,
    "start_time": "2022-06-15T22:44:22.976Z"
   },
   {
    "duration": 0,
    "start_time": "2022-06-15T22:44:22.978Z"
   },
   {
    "duration": 0,
    "start_time": "2022-06-15T22:44:22.979Z"
   },
   {
    "duration": 0,
    "start_time": "2022-06-15T22:44:22.980Z"
   },
   {
    "duration": 0,
    "start_time": "2022-06-15T22:44:22.982Z"
   },
   {
    "duration": 0,
    "start_time": "2022-06-15T22:44:22.983Z"
   },
   {
    "duration": 0,
    "start_time": "2022-06-15T22:44:22.984Z"
   },
   {
    "duration": 0,
    "start_time": "2022-06-15T22:44:22.985Z"
   },
   {
    "duration": 0,
    "start_time": "2022-06-15T22:44:22.987Z"
   },
   {
    "duration": 0,
    "start_time": "2022-06-15T22:44:22.988Z"
   },
   {
    "duration": 0,
    "start_time": "2022-06-15T22:44:22.989Z"
   },
   {
    "duration": 0,
    "start_time": "2022-06-15T22:44:22.991Z"
   },
   {
    "duration": 0,
    "start_time": "2022-06-15T22:44:22.992Z"
   },
   {
    "duration": 0,
    "start_time": "2022-06-15T22:44:22.993Z"
   },
   {
    "duration": 0,
    "start_time": "2022-06-15T22:44:22.995Z"
   },
   {
    "duration": 0,
    "start_time": "2022-06-15T22:44:22.996Z"
   },
   {
    "duration": 0,
    "start_time": "2022-06-15T22:44:22.998Z"
   },
   {
    "duration": 0,
    "start_time": "2022-06-15T22:44:23.059Z"
   },
   {
    "duration": 0,
    "start_time": "2022-06-15T22:44:23.060Z"
   },
   {
    "duration": 0,
    "start_time": "2022-06-15T22:44:23.062Z"
   },
   {
    "duration": 0,
    "start_time": "2022-06-15T22:44:23.063Z"
   },
   {
    "duration": 0,
    "start_time": "2022-06-15T22:44:23.064Z"
   },
   {
    "duration": 0,
    "start_time": "2022-06-15T22:44:23.065Z"
   },
   {
    "duration": 0,
    "start_time": "2022-06-15T22:44:23.066Z"
   },
   {
    "duration": 0,
    "start_time": "2022-06-15T22:44:23.067Z"
   },
   {
    "duration": 0,
    "start_time": "2022-06-15T22:44:23.068Z"
   },
   {
    "duration": 80,
    "start_time": "2022-06-15T22:44:34.019Z"
   },
   {
    "duration": 29,
    "start_time": "2022-06-15T22:45:04.175Z"
   },
   {
    "duration": 25,
    "start_time": "2022-06-15T22:45:05.275Z"
   },
   {
    "duration": 24,
    "start_time": "2022-06-15T22:45:06.049Z"
   },
   {
    "duration": 76,
    "start_time": "2022-06-15T22:45:07.861Z"
   },
   {
    "duration": 31,
    "start_time": "2022-06-15T22:45:20.758Z"
   },
   {
    "duration": 11,
    "start_time": "2022-06-15T22:49:44.380Z"
   },
   {
    "duration": 397,
    "start_time": "2022-06-15T22:50:00.088Z"
   },
   {
    "duration": 173,
    "start_time": "2022-06-15T22:50:00.487Z"
   },
   {
    "duration": 151,
    "start_time": "2022-06-15T22:50:00.662Z"
   },
   {
    "duration": 88,
    "start_time": "2022-06-15T22:50:00.815Z"
   },
   {
    "duration": 16,
    "start_time": "2022-06-15T22:50:00.905Z"
   },
   {
    "duration": 25,
    "start_time": "2022-06-15T22:50:00.923Z"
   },
   {
    "duration": 15,
    "start_time": "2022-06-15T22:50:00.950Z"
   },
   {
    "duration": 36,
    "start_time": "2022-06-15T22:50:00.968Z"
   },
   {
    "duration": 8,
    "start_time": "2022-06-15T22:50:01.006Z"
   },
   {
    "duration": 26,
    "start_time": "2022-06-15T22:50:01.015Z"
   },
   {
    "duration": 8,
    "start_time": "2022-06-15T22:50:01.058Z"
   },
   {
    "duration": 26,
    "start_time": "2022-06-15T22:50:01.068Z"
   },
   {
    "duration": 12,
    "start_time": "2022-06-15T22:50:01.096Z"
   },
   {
    "duration": 27,
    "start_time": "2022-06-15T22:50:01.113Z"
   },
   {
    "duration": 20,
    "start_time": "2022-06-15T22:50:01.142Z"
   },
   {
    "duration": 17,
    "start_time": "2022-06-15T22:50:01.164Z"
   },
   {
    "duration": 46,
    "start_time": "2022-06-15T22:50:01.183Z"
   },
   {
    "duration": 28,
    "start_time": "2022-06-15T22:50:01.230Z"
   },
   {
    "duration": 20,
    "start_time": "2022-06-15T22:50:01.260Z"
   },
   {
    "duration": 14,
    "start_time": "2022-06-15T22:50:01.281Z"
   },
   {
    "duration": 37,
    "start_time": "2022-06-15T22:50:01.296Z"
   },
   {
    "duration": 29,
    "start_time": "2022-06-15T22:50:01.335Z"
   },
   {
    "duration": 3,
    "start_time": "2022-06-15T22:50:01.365Z"
   },
   {
    "duration": 12,
    "start_time": "2022-06-15T22:50:01.370Z"
   },
   {
    "duration": 14,
    "start_time": "2022-06-15T22:50:01.383Z"
   },
   {
    "duration": 61,
    "start_time": "2022-06-15T22:50:01.398Z"
   },
   {
    "duration": 10,
    "start_time": "2022-06-15T22:50:01.461Z"
   },
   {
    "duration": 16,
    "start_time": "2022-06-15T22:50:01.473Z"
   },
   {
    "duration": 72,
    "start_time": "2022-06-15T22:50:01.490Z"
   },
   {
    "duration": 18,
    "start_time": "2022-06-15T22:50:01.564Z"
   },
   {
    "duration": 89,
    "start_time": "2022-06-15T22:50:01.584Z"
   },
   {
    "duration": 19,
    "start_time": "2022-06-15T22:50:01.675Z"
   },
   {
    "duration": 57,
    "start_time": "2022-06-15T22:50:01.695Z"
   },
   {
    "duration": 35,
    "start_time": "2022-06-15T22:50:01.754Z"
   },
   {
    "duration": 48,
    "start_time": "2022-06-15T22:50:01.791Z"
   },
   {
    "duration": 114,
    "start_time": "2022-06-15T22:50:01.841Z"
   },
   {
    "duration": 32,
    "start_time": "2022-06-15T22:50:01.957Z"
   },
   {
    "duration": 30,
    "start_time": "2022-06-15T22:50:01.990Z"
   },
   {
    "duration": 70,
    "start_time": "2022-06-15T22:50:02.022Z"
   },
   {
    "duration": 34,
    "start_time": "2022-06-15T22:50:02.094Z"
   },
   {
    "duration": 33,
    "start_time": "2022-06-15T22:50:02.133Z"
   },
   {
    "duration": 38,
    "start_time": "2022-06-15T22:50:02.167Z"
   },
   {
    "duration": 23,
    "start_time": "2022-06-15T22:50:02.206Z"
   },
   {
    "duration": 12,
    "start_time": "2022-06-15T22:50:02.230Z"
   },
   {
    "duration": 12,
    "start_time": "2022-06-15T22:50:02.244Z"
   },
   {
    "duration": 13,
    "start_time": "2022-06-15T22:50:02.258Z"
   },
   {
    "duration": 15,
    "start_time": "2022-06-15T22:50:02.273Z"
   },
   {
    "duration": 12,
    "start_time": "2022-06-15T22:50:02.289Z"
   },
   {
    "duration": 16,
    "start_time": "2022-06-15T22:50:02.303Z"
   },
   {
    "duration": 40,
    "start_time": "2022-06-15T22:50:02.321Z"
   },
   {
    "duration": 27,
    "start_time": "2022-06-15T22:50:02.363Z"
   },
   {
    "duration": 30,
    "start_time": "2022-06-15T22:50:02.392Z"
   },
   {
    "duration": 102,
    "start_time": "2022-06-15T22:50:02.423Z"
   },
   {
    "duration": 28,
    "start_time": "2022-06-15T22:50:02.527Z"
   },
   {
    "duration": 16,
    "start_time": "2022-06-15T22:50:02.558Z"
   },
   {
    "duration": 23,
    "start_time": "2022-06-15T22:50:02.575Z"
   },
   {
    "duration": 361,
    "start_time": "2022-06-15T22:50:02.600Z"
   },
   {
    "duration": 7,
    "start_time": "2022-06-15T22:50:02.962Z"
   },
   {
    "duration": 17,
    "start_time": "2022-06-15T22:50:02.970Z"
   },
   {
    "duration": 10,
    "start_time": "2022-06-15T22:50:02.989Z"
   },
   {
    "duration": 149,
    "start_time": "2022-06-15T22:50:03.001Z"
   },
   {
    "duration": 7,
    "start_time": "2022-06-15T22:50:03.152Z"
   },
   {
    "duration": 48,
    "start_time": "2022-06-15T22:50:03.160Z"
   },
   {
    "duration": 13,
    "start_time": "2022-06-15T22:50:03.210Z"
   },
   {
    "duration": 6,
    "start_time": "2022-06-15T22:50:03.225Z"
   },
   {
    "duration": 10,
    "start_time": "2022-06-15T22:50:03.232Z"
   },
   {
    "duration": 50,
    "start_time": "2022-06-15T22:50:03.243Z"
   },
   {
    "duration": 133,
    "start_time": "2022-06-15T22:50:03.294Z"
   },
   {
    "duration": 4,
    "start_time": "2022-06-15T22:50:03.429Z"
   },
   {
    "duration": 12,
    "start_time": "2022-06-15T22:50:03.434Z"
   },
   {
    "duration": 13,
    "start_time": "2022-06-15T22:50:03.447Z"
   },
   {
    "duration": 8,
    "start_time": "2022-06-15T22:50:03.461Z"
   },
   {
    "duration": 70,
    "start_time": "2022-06-15T22:50:03.470Z"
   },
   {
    "duration": 0,
    "start_time": "2022-06-15T22:50:03.542Z"
   },
   {
    "duration": 0,
    "start_time": "2022-06-15T22:50:03.543Z"
   },
   {
    "duration": 0,
    "start_time": "2022-06-15T22:50:03.544Z"
   },
   {
    "duration": 0,
    "start_time": "2022-06-15T22:50:03.545Z"
   },
   {
    "duration": 0,
    "start_time": "2022-06-15T22:50:03.546Z"
   },
   {
    "duration": 0,
    "start_time": "2022-06-15T22:50:03.559Z"
   },
   {
    "duration": 0,
    "start_time": "2022-06-15T22:50:03.560Z"
   },
   {
    "duration": 0,
    "start_time": "2022-06-15T22:50:03.561Z"
   },
   {
    "duration": 0,
    "start_time": "2022-06-15T22:50:03.562Z"
   },
   {
    "duration": 0,
    "start_time": "2022-06-15T22:50:03.563Z"
   },
   {
    "duration": 0,
    "start_time": "2022-06-15T22:50:03.565Z"
   },
   {
    "duration": 0,
    "start_time": "2022-06-15T22:50:03.566Z"
   },
   {
    "duration": 0,
    "start_time": "2022-06-15T22:50:03.568Z"
   },
   {
    "duration": 0,
    "start_time": "2022-06-15T22:50:03.569Z"
   },
   {
    "duration": 0,
    "start_time": "2022-06-15T22:50:03.570Z"
   },
   {
    "duration": 0,
    "start_time": "2022-06-15T22:50:03.571Z"
   },
   {
    "duration": 0,
    "start_time": "2022-06-15T22:50:03.573Z"
   },
   {
    "duration": 0,
    "start_time": "2022-06-15T22:50:03.574Z"
   },
   {
    "duration": 0,
    "start_time": "2022-06-15T22:50:03.576Z"
   },
   {
    "duration": 0,
    "start_time": "2022-06-15T22:50:03.577Z"
   },
   {
    "duration": 0,
    "start_time": "2022-06-15T22:50:03.578Z"
   },
   {
    "duration": 0,
    "start_time": "2022-06-15T22:50:03.579Z"
   },
   {
    "duration": 0,
    "start_time": "2022-06-15T22:50:03.580Z"
   },
   {
    "duration": 0,
    "start_time": "2022-06-15T22:50:03.581Z"
   },
   {
    "duration": 0,
    "start_time": "2022-06-15T22:50:03.583Z"
   },
   {
    "duration": 0,
    "start_time": "2022-06-15T22:50:03.584Z"
   },
   {
    "duration": 3,
    "start_time": "2022-06-15T22:50:58.949Z"
   },
   {
    "duration": 8,
    "start_time": "2022-06-15T22:51:02.837Z"
   },
   {
    "duration": 357,
    "start_time": "2022-06-15T22:51:14.918Z"
   },
   {
    "duration": 148,
    "start_time": "2022-06-15T22:51:15.277Z"
   },
   {
    "duration": 125,
    "start_time": "2022-06-15T22:51:15.427Z"
   },
   {
    "duration": 84,
    "start_time": "2022-06-15T22:51:15.555Z"
   },
   {
    "duration": 14,
    "start_time": "2022-06-15T22:51:15.641Z"
   },
   {
    "duration": 24,
    "start_time": "2022-06-15T22:51:15.656Z"
   },
   {
    "duration": 13,
    "start_time": "2022-06-15T22:51:15.682Z"
   },
   {
    "duration": 27,
    "start_time": "2022-06-15T22:51:15.696Z"
   },
   {
    "duration": 7,
    "start_time": "2022-06-15T22:51:15.725Z"
   },
   {
    "duration": 28,
    "start_time": "2022-06-15T22:51:15.735Z"
   },
   {
    "duration": 7,
    "start_time": "2022-06-15T22:51:15.764Z"
   },
   {
    "duration": 25,
    "start_time": "2022-06-15T22:51:15.772Z"
   },
   {
    "duration": 7,
    "start_time": "2022-06-15T22:51:15.799Z"
   },
   {
    "duration": 13,
    "start_time": "2022-06-15T22:51:15.807Z"
   },
   {
    "duration": 11,
    "start_time": "2022-06-15T22:51:15.821Z"
   },
   {
    "duration": 10,
    "start_time": "2022-06-15T22:51:15.859Z"
   },
   {
    "duration": 37,
    "start_time": "2022-06-15T22:51:15.871Z"
   },
   {
    "duration": 22,
    "start_time": "2022-06-15T22:51:15.910Z"
   },
   {
    "duration": 37,
    "start_time": "2022-06-15T22:51:15.933Z"
   },
   {
    "duration": 13,
    "start_time": "2022-06-15T22:51:15.972Z"
   },
   {
    "duration": 25,
    "start_time": "2022-06-15T22:51:15.987Z"
   },
   {
    "duration": 17,
    "start_time": "2022-06-15T22:51:16.013Z"
   },
   {
    "duration": 26,
    "start_time": "2022-06-15T22:51:16.032Z"
   },
   {
    "duration": 5,
    "start_time": "2022-06-15T22:51:16.060Z"
   },
   {
    "duration": 10,
    "start_time": "2022-06-15T22:51:16.066Z"
   },
   {
    "duration": 20,
    "start_time": "2022-06-15T22:51:16.077Z"
   },
   {
    "duration": 9,
    "start_time": "2022-06-15T22:51:16.099Z"
   },
   {
    "duration": 9,
    "start_time": "2022-06-15T22:51:16.112Z"
   },
   {
    "duration": 49,
    "start_time": "2022-06-15T22:51:16.123Z"
   },
   {
    "duration": 9,
    "start_time": "2022-06-15T22:51:16.173Z"
   },
   {
    "duration": 16,
    "start_time": "2022-06-15T22:51:16.183Z"
   },
   {
    "duration": 10,
    "start_time": "2022-06-15T22:51:16.200Z"
   },
   {
    "duration": 4,
    "start_time": "2022-06-15T22:51:16.211Z"
   },
   {
    "duration": 6,
    "start_time": "2022-06-15T22:51:16.217Z"
   },
   {
    "duration": 5,
    "start_time": "2022-06-15T22:51:16.224Z"
   },
   {
    "duration": 31,
    "start_time": "2022-06-15T22:51:16.230Z"
   },
   {
    "duration": 17,
    "start_time": "2022-06-15T22:51:16.262Z"
   },
   {
    "duration": 4,
    "start_time": "2022-06-15T22:51:16.281Z"
   },
   {
    "duration": 15,
    "start_time": "2022-06-15T22:51:16.286Z"
   },
   {
    "duration": 9,
    "start_time": "2022-06-15T22:51:16.303Z"
   },
   {
    "duration": 6,
    "start_time": "2022-06-15T22:51:16.314Z"
   },
   {
    "duration": 6,
    "start_time": "2022-06-15T22:51:16.321Z"
   },
   {
    "duration": 5,
    "start_time": "2022-06-15T22:51:16.328Z"
   },
   {
    "duration": 25,
    "start_time": "2022-06-15T22:51:16.334Z"
   },
   {
    "duration": 13,
    "start_time": "2022-06-15T22:51:16.360Z"
   },
   {
    "duration": 8,
    "start_time": "2022-06-15T22:51:16.375Z"
   },
   {
    "duration": 4,
    "start_time": "2022-06-15T22:51:16.384Z"
   },
   {
    "duration": 5,
    "start_time": "2022-06-15T22:51:16.389Z"
   },
   {
    "duration": 8,
    "start_time": "2022-06-15T22:51:16.396Z"
   },
   {
    "duration": 28,
    "start_time": "2022-06-15T22:51:16.405Z"
   },
   {
    "duration": 36,
    "start_time": "2022-06-15T22:51:16.434Z"
   },
   {
    "duration": 23,
    "start_time": "2022-06-15T22:51:16.471Z"
   },
   {
    "duration": 80,
    "start_time": "2022-06-15T22:51:16.495Z"
   },
   {
    "duration": 28,
    "start_time": "2022-06-15T22:51:16.577Z"
   },
   {
    "duration": 11,
    "start_time": "2022-06-15T22:51:16.606Z"
   },
   {
    "duration": 9,
    "start_time": "2022-06-15T22:51:16.619Z"
   },
   {
    "duration": 360,
    "start_time": "2022-06-15T22:51:16.629Z"
   },
   {
    "duration": 8,
    "start_time": "2022-06-15T22:51:16.990Z"
   },
   {
    "duration": 8,
    "start_time": "2022-06-15T22:51:16.999Z"
   },
   {
    "duration": 9,
    "start_time": "2022-06-15T22:51:17.009Z"
   },
   {
    "duration": 137,
    "start_time": "2022-06-15T22:51:17.019Z"
   },
   {
    "duration": 4,
    "start_time": "2022-06-15T22:51:17.157Z"
   },
   {
    "duration": 6,
    "start_time": "2022-06-15T22:51:17.162Z"
   },
   {
    "duration": 9,
    "start_time": "2022-06-15T22:51:17.169Z"
   },
   {
    "duration": 5,
    "start_time": "2022-06-15T22:51:17.179Z"
   },
   {
    "duration": 15,
    "start_time": "2022-06-15T22:51:17.185Z"
   },
   {
    "duration": 14,
    "start_time": "2022-06-15T22:51:17.202Z"
   },
   {
    "duration": 163,
    "start_time": "2022-06-15T22:51:17.218Z"
   },
   {
    "duration": 4,
    "start_time": "2022-06-15T22:51:17.382Z"
   },
   {
    "duration": 9,
    "start_time": "2022-06-15T22:51:17.388Z"
   },
   {
    "duration": 14,
    "start_time": "2022-06-15T22:51:17.398Z"
   },
   {
    "duration": 6,
    "start_time": "2022-06-15T22:51:17.414Z"
   },
   {
    "duration": 6,
    "start_time": "2022-06-15T22:51:17.421Z"
   },
   {
    "duration": 9,
    "start_time": "2022-06-15T22:51:17.428Z"
   },
   {
    "duration": 22,
    "start_time": "2022-06-15T22:51:17.438Z"
   },
   {
    "duration": 140,
    "start_time": "2022-06-15T22:51:17.462Z"
   },
   {
    "duration": 7,
    "start_time": "2022-06-15T22:51:17.603Z"
   },
   {
    "duration": 8,
    "start_time": "2022-06-15T22:51:17.611Z"
   },
   {
    "duration": 6,
    "start_time": "2022-06-15T22:51:17.621Z"
   },
   {
    "duration": 190,
    "start_time": "2022-06-15T22:51:17.628Z"
   },
   {
    "duration": 5,
    "start_time": "2022-06-15T22:51:17.820Z"
   },
   {
    "duration": 4,
    "start_time": "2022-06-15T22:51:17.831Z"
   },
   {
    "duration": 7,
    "start_time": "2022-06-15T22:51:17.836Z"
   },
   {
    "duration": 16,
    "start_time": "2022-06-15T22:51:17.844Z"
   },
   {
    "duration": 7,
    "start_time": "2022-06-15T22:51:17.862Z"
   },
   {
    "duration": 16,
    "start_time": "2022-06-15T22:51:17.871Z"
   },
   {
    "duration": 11,
    "start_time": "2022-06-15T22:51:17.889Z"
   },
   {
    "duration": 152,
    "start_time": "2022-06-15T22:51:17.901Z"
   },
   {
    "duration": 7,
    "start_time": "2022-06-15T22:51:18.058Z"
   },
   {
    "duration": 8,
    "start_time": "2022-06-15T22:51:18.066Z"
   },
   {
    "duration": 10,
    "start_time": "2022-06-15T22:51:18.075Z"
   },
   {
    "duration": 127,
    "start_time": "2022-06-15T22:51:18.087Z"
   },
   {
    "duration": 4,
    "start_time": "2022-06-15T22:51:18.215Z"
   },
   {
    "duration": 6,
    "start_time": "2022-06-15T22:51:18.220Z"
   },
   {
    "duration": 5,
    "start_time": "2022-06-15T22:51:18.228Z"
   },
   {
    "duration": 6,
    "start_time": "2022-06-15T22:51:18.234Z"
   },
   {
    "duration": 17,
    "start_time": "2022-06-15T22:51:18.242Z"
   },
   {
    "duration": 132,
    "start_time": "2022-06-15T22:51:18.260Z"
   },
   {
    "duration": 8,
    "start_time": "2022-06-15T22:51:18.393Z"
   },
   {
    "duration": 29,
    "start_time": "2022-06-15T23:07:38.637Z"
   },
   {
    "duration": 376,
    "start_time": "2022-06-15T23:13:34.286Z"
   },
   {
    "duration": 3,
    "start_time": "2022-06-15T23:14:04.804Z"
   },
   {
    "duration": 86,
    "start_time": "2022-06-15T23:17:51.293Z"
   },
   {
    "duration": 6,
    "start_time": "2022-06-15T23:19:53.485Z"
   },
   {
    "duration": 2,
    "start_time": "2022-06-15T23:20:19.379Z"
   },
   {
    "duration": 8,
    "start_time": "2022-06-15T23:21:50.674Z"
   },
   {
    "duration": 437,
    "start_time": "2022-06-15T23:22:05.830Z"
   },
   {
    "duration": 165,
    "start_time": "2022-06-15T23:22:06.269Z"
   },
   {
    "duration": 143,
    "start_time": "2022-06-15T23:22:06.435Z"
   },
   {
    "duration": 92,
    "start_time": "2022-06-15T23:22:06.580Z"
   },
   {
    "duration": 15,
    "start_time": "2022-06-15T23:22:06.674Z"
   },
   {
    "duration": 25,
    "start_time": "2022-06-15T23:22:06.690Z"
   },
   {
    "duration": 13,
    "start_time": "2022-06-15T23:22:06.717Z"
   },
   {
    "duration": 30,
    "start_time": "2022-06-15T23:22:06.732Z"
   },
   {
    "duration": 14,
    "start_time": "2022-06-15T23:22:06.764Z"
   },
   {
    "duration": 27,
    "start_time": "2022-06-15T23:22:06.780Z"
   },
   {
    "duration": 6,
    "start_time": "2022-06-15T23:22:06.809Z"
   },
   {
    "duration": 43,
    "start_time": "2022-06-15T23:22:06.816Z"
   },
   {
    "duration": 10,
    "start_time": "2022-06-15T23:22:06.861Z"
   },
   {
    "duration": 26,
    "start_time": "2022-06-15T23:22:06.876Z"
   },
   {
    "duration": 10,
    "start_time": "2022-06-15T23:22:06.904Z"
   },
   {
    "duration": 13,
    "start_time": "2022-06-15T23:22:06.915Z"
   },
   {
    "duration": 51,
    "start_time": "2022-06-15T23:22:06.929Z"
   },
   {
    "duration": 23,
    "start_time": "2022-06-15T23:22:06.981Z"
   },
   {
    "duration": 21,
    "start_time": "2022-06-15T23:22:07.005Z"
   },
   {
    "duration": 33,
    "start_time": "2022-06-15T23:22:07.027Z"
   },
   {
    "duration": 24,
    "start_time": "2022-06-15T23:22:07.062Z"
   },
   {
    "duration": 16,
    "start_time": "2022-06-15T23:22:07.088Z"
   },
   {
    "duration": 3,
    "start_time": "2022-06-15T23:22:07.106Z"
   },
   {
    "duration": 8,
    "start_time": "2022-06-15T23:22:07.110Z"
   },
   {
    "duration": 15,
    "start_time": "2022-06-15T23:22:07.120Z"
   },
   {
    "duration": 41,
    "start_time": "2022-06-15T23:22:07.159Z"
   },
   {
    "duration": 13,
    "start_time": "2022-06-15T23:22:07.203Z"
   },
   {
    "duration": 19,
    "start_time": "2022-06-15T23:22:07.218Z"
   },
   {
    "duration": 23,
    "start_time": "2022-06-15T23:22:07.238Z"
   },
   {
    "duration": 11,
    "start_time": "2022-06-15T23:22:07.263Z"
   },
   {
    "duration": 28,
    "start_time": "2022-06-15T23:22:07.276Z"
   },
   {
    "duration": 11,
    "start_time": "2022-06-15T23:22:07.306Z"
   },
   {
    "duration": 3,
    "start_time": "2022-06-15T23:22:07.319Z"
   },
   {
    "duration": 7,
    "start_time": "2022-06-15T23:22:07.324Z"
   },
   {
    "duration": 7,
    "start_time": "2022-06-15T23:22:07.333Z"
   },
   {
    "duration": 30,
    "start_time": "2022-06-15T23:22:07.341Z"
   },
   {
    "duration": 12,
    "start_time": "2022-06-15T23:22:07.374Z"
   },
   {
    "duration": 5,
    "start_time": "2022-06-15T23:22:07.388Z"
   },
   {
    "duration": 13,
    "start_time": "2022-06-15T23:22:07.395Z"
   },
   {
    "duration": 8,
    "start_time": "2022-06-15T23:22:07.410Z"
   },
   {
    "duration": 6,
    "start_time": "2022-06-15T23:22:07.423Z"
   },
   {
    "duration": 5,
    "start_time": "2022-06-15T23:22:07.431Z"
   },
   {
    "duration": 22,
    "start_time": "2022-06-15T23:22:07.437Z"
   },
   {
    "duration": 4,
    "start_time": "2022-06-15T23:22:07.461Z"
   },
   {
    "duration": 15,
    "start_time": "2022-06-15T23:22:07.466Z"
   },
   {
    "duration": 8,
    "start_time": "2022-06-15T23:22:07.483Z"
   },
   {
    "duration": 5,
    "start_time": "2022-06-15T23:22:07.492Z"
   },
   {
    "duration": 7,
    "start_time": "2022-06-15T23:22:07.498Z"
   },
   {
    "duration": 6,
    "start_time": "2022-06-15T23:22:07.506Z"
   },
   {
    "duration": 47,
    "start_time": "2022-06-15T23:22:07.514Z"
   },
   {
    "duration": 29,
    "start_time": "2022-06-15T23:22:07.562Z"
   },
   {
    "duration": 25,
    "start_time": "2022-06-15T23:22:07.593Z"
   },
   {
    "duration": 97,
    "start_time": "2022-06-15T23:22:07.620Z"
   },
   {
    "duration": 30,
    "start_time": "2022-06-15T23:22:07.718Z"
   },
   {
    "duration": 12,
    "start_time": "2022-06-15T23:22:07.759Z"
   },
   {
    "duration": 10,
    "start_time": "2022-06-15T23:22:07.773Z"
   },
   {
    "duration": 356,
    "start_time": "2022-06-15T23:22:07.785Z"
   },
   {
    "duration": 15,
    "start_time": "2022-06-15T23:22:08.143Z"
   },
   {
    "duration": 7,
    "start_time": "2022-06-15T23:22:08.160Z"
   },
   {
    "duration": 19,
    "start_time": "2022-06-15T23:22:08.168Z"
   },
   {
    "duration": 131,
    "start_time": "2022-06-15T23:22:08.189Z"
   },
   {
    "duration": 4,
    "start_time": "2022-06-15T23:22:08.321Z"
   },
   {
    "duration": 11,
    "start_time": "2022-06-15T23:22:08.327Z"
   },
   {
    "duration": 20,
    "start_time": "2022-06-15T23:22:08.339Z"
   },
   {
    "duration": 8,
    "start_time": "2022-06-15T23:22:08.360Z"
   },
   {
    "duration": 5,
    "start_time": "2022-06-15T23:22:08.370Z"
   },
   {
    "duration": 25,
    "start_time": "2022-06-15T23:22:08.376Z"
   },
   {
    "duration": 130,
    "start_time": "2022-06-15T23:22:08.403Z"
   },
   {
    "duration": 4,
    "start_time": "2022-06-15T23:22:08.534Z"
   },
   {
    "duration": 7,
    "start_time": "2022-06-15T23:22:08.540Z"
   },
   {
    "duration": 11,
    "start_time": "2022-06-15T23:22:08.548Z"
   },
   {
    "duration": 3,
    "start_time": "2022-06-15T23:22:08.563Z"
   },
   {
    "duration": 7,
    "start_time": "2022-06-15T23:22:08.568Z"
   },
   {
    "duration": 15,
    "start_time": "2022-06-15T23:22:08.576Z"
   },
   {
    "duration": 22,
    "start_time": "2022-06-15T23:22:08.593Z"
   },
   {
    "duration": 149,
    "start_time": "2022-06-15T23:22:08.617Z"
   },
   {
    "duration": 8,
    "start_time": "2022-06-15T23:22:08.768Z"
   },
   {
    "duration": 14,
    "start_time": "2022-06-15T23:22:08.777Z"
   },
   {
    "duration": 9,
    "start_time": "2022-06-15T23:22:08.792Z"
   },
   {
    "duration": 186,
    "start_time": "2022-06-15T23:22:08.802Z"
   },
   {
    "duration": 4,
    "start_time": "2022-06-15T23:22:08.990Z"
   },
   {
    "duration": 7,
    "start_time": "2022-06-15T23:22:08.995Z"
   },
   {
    "duration": 5,
    "start_time": "2022-06-15T23:22:09.003Z"
   },
   {
    "duration": 6,
    "start_time": "2022-06-15T23:22:09.009Z"
   },
   {
    "duration": 5,
    "start_time": "2022-06-15T23:22:09.016Z"
   },
   {
    "duration": 12,
    "start_time": "2022-06-15T23:22:09.022Z"
   },
   {
    "duration": 34,
    "start_time": "2022-06-15T23:22:09.035Z"
   },
   {
    "duration": 146,
    "start_time": "2022-06-15T23:22:09.072Z"
   },
   {
    "duration": 7,
    "start_time": "2022-06-15T23:22:09.220Z"
   },
   {
    "duration": 5,
    "start_time": "2022-06-15T23:22:09.229Z"
   },
   {
    "duration": 6,
    "start_time": "2022-06-15T23:22:09.235Z"
   },
   {
    "duration": 131,
    "start_time": "2022-06-15T23:22:09.259Z"
   },
   {
    "duration": 4,
    "start_time": "2022-06-15T23:22:09.392Z"
   },
   {
    "duration": 7,
    "start_time": "2022-06-15T23:22:09.397Z"
   },
   {
    "duration": 6,
    "start_time": "2022-06-15T23:22:09.406Z"
   },
   {
    "duration": 6,
    "start_time": "2022-06-15T23:22:09.413Z"
   },
   {
    "duration": 7,
    "start_time": "2022-06-15T23:22:09.421Z"
   },
   {
    "duration": 142,
    "start_time": "2022-06-15T23:22:09.430Z"
   },
   {
    "duration": 8,
    "start_time": "2022-06-15T23:22:09.574Z"
   },
   {
    "duration": 395,
    "start_time": "2022-06-15T23:22:09.583Z"
   },
   {
    "duration": 2,
    "start_time": "2022-06-15T23:22:09.980Z"
   },
   {
    "duration": 9,
    "start_time": "2022-06-15T23:22:09.984Z"
   },
   {
    "duration": 11,
    "start_time": "2022-06-15T23:22:09.994Z"
   },
   {
    "duration": 27,
    "start_time": "2022-06-15T23:22:10.007Z"
   },
   {
    "duration": 7,
    "start_time": "2022-06-15T23:22:10.036Z"
   },
   {
    "duration": 8,
    "start_time": "2022-06-15T23:22:10.045Z"
   },
   {
    "duration": 3,
    "start_time": "2022-06-15T23:22:53.731Z"
   },
   {
    "duration": 44,
    "start_time": "2022-06-15T23:23:43.251Z"
   },
   {
    "duration": 3,
    "start_time": "2022-06-15T23:24:01.057Z"
   },
   {
    "duration": 3,
    "start_time": "2022-06-15T23:24:41.702Z"
   },
   {
    "duration": 6,
    "start_time": "2022-06-15T23:28:52.822Z"
   },
   {
    "duration": 4,
    "start_time": "2022-06-15T23:29:37.768Z"
   },
   {
    "duration": 5,
    "start_time": "2022-06-15T23:29:58.037Z"
   },
   {
    "duration": 101,
    "start_time": "2022-06-15T23:30:45.825Z"
   },
   {
    "duration": 8,
    "start_time": "2022-06-15T23:30:51.478Z"
   },
   {
    "duration": 3,
    "start_time": "2022-06-15T23:30:52.109Z"
   },
   {
    "duration": 3,
    "start_time": "2022-06-15T23:31:25.551Z"
   },
   {
    "duration": 4,
    "start_time": "2022-06-15T23:32:12.478Z"
   },
   {
    "duration": 3,
    "start_time": "2022-06-15T23:32:12.997Z"
   },
   {
    "duration": 3,
    "start_time": "2022-06-15T23:32:28.482Z"
   },
   {
    "duration": 416,
    "start_time": "2022-06-15T23:41:44.638Z"
   },
   {
    "duration": 161,
    "start_time": "2022-06-15T23:41:45.056Z"
   },
   {
    "duration": 132,
    "start_time": "2022-06-15T23:41:45.219Z"
   },
   {
    "duration": 86,
    "start_time": "2022-06-15T23:41:45.352Z"
   },
   {
    "duration": 15,
    "start_time": "2022-06-15T23:41:45.440Z"
   },
   {
    "duration": 25,
    "start_time": "2022-06-15T23:41:45.456Z"
   },
   {
    "duration": 14,
    "start_time": "2022-06-15T23:41:45.482Z"
   },
   {
    "duration": 25,
    "start_time": "2022-06-15T23:41:45.497Z"
   },
   {
    "duration": 8,
    "start_time": "2022-06-15T23:41:45.524Z"
   },
   {
    "duration": 31,
    "start_time": "2022-06-15T23:41:45.533Z"
   },
   {
    "duration": 6,
    "start_time": "2022-06-15T23:41:45.566Z"
   },
   {
    "duration": 20,
    "start_time": "2022-06-15T23:41:45.574Z"
   },
   {
    "duration": 15,
    "start_time": "2022-06-15T23:41:45.596Z"
   },
   {
    "duration": 12,
    "start_time": "2022-06-15T23:41:45.615Z"
   },
   {
    "duration": 31,
    "start_time": "2022-06-15T23:41:45.629Z"
   },
   {
    "duration": 16,
    "start_time": "2022-06-15T23:41:45.661Z"
   },
   {
    "duration": 40,
    "start_time": "2022-06-15T23:41:45.678Z"
   },
   {
    "duration": 22,
    "start_time": "2022-06-15T23:41:45.720Z"
   },
   {
    "duration": 21,
    "start_time": "2022-06-15T23:41:45.759Z"
   },
   {
    "duration": 16,
    "start_time": "2022-06-15T23:41:45.782Z"
   },
   {
    "duration": 26,
    "start_time": "2022-06-15T23:41:45.800Z"
   },
   {
    "duration": 34,
    "start_time": "2022-06-15T23:41:45.827Z"
   },
   {
    "duration": 3,
    "start_time": "2022-06-15T23:41:45.862Z"
   },
   {
    "duration": 8,
    "start_time": "2022-06-15T23:41:45.867Z"
   },
   {
    "duration": 9,
    "start_time": "2022-06-15T23:41:45.877Z"
   },
   {
    "duration": 26,
    "start_time": "2022-06-15T23:41:45.888Z"
   },
   {
    "duration": 11,
    "start_time": "2022-06-15T23:41:45.916Z"
   },
   {
    "duration": 36,
    "start_time": "2022-06-15T23:41:45.929Z"
   },
   {
    "duration": 19,
    "start_time": "2022-06-15T23:41:45.966Z"
   },
   {
    "duration": 8,
    "start_time": "2022-06-15T23:41:45.987Z"
   },
   {
    "duration": 17,
    "start_time": "2022-06-15T23:41:45.996Z"
   },
   {
    "duration": 9,
    "start_time": "2022-06-15T23:41:46.014Z"
   },
   {
    "duration": 5,
    "start_time": "2022-06-15T23:41:46.025Z"
   },
   {
    "duration": 29,
    "start_time": "2022-06-15T23:41:46.031Z"
   },
   {
    "duration": 3,
    "start_time": "2022-06-15T23:41:46.061Z"
   },
   {
    "duration": 10,
    "start_time": "2022-06-15T23:41:46.066Z"
   },
   {
    "duration": 9,
    "start_time": "2022-06-15T23:41:46.077Z"
   },
   {
    "duration": 3,
    "start_time": "2022-06-15T23:41:46.087Z"
   },
   {
    "duration": 13,
    "start_time": "2022-06-15T23:41:46.091Z"
   },
   {
    "duration": 10,
    "start_time": "2022-06-15T23:41:46.106Z"
   },
   {
    "duration": 6,
    "start_time": "2022-06-15T23:41:46.121Z"
   },
   {
    "duration": 3,
    "start_time": "2022-06-15T23:41:46.129Z"
   },
   {
    "duration": 5,
    "start_time": "2022-06-15T23:41:46.159Z"
   },
   {
    "duration": 6,
    "start_time": "2022-06-15T23:41:46.166Z"
   },
   {
    "duration": 10,
    "start_time": "2022-06-15T23:41:46.174Z"
   },
   {
    "duration": 10,
    "start_time": "2022-06-15T23:41:46.186Z"
   },
   {
    "duration": 3,
    "start_time": "2022-06-15T23:41:46.198Z"
   },
   {
    "duration": 5,
    "start_time": "2022-06-15T23:41:46.202Z"
   },
   {
    "duration": 5,
    "start_time": "2022-06-15T23:41:46.209Z"
   },
   {
    "duration": 31,
    "start_time": "2022-06-15T23:41:46.215Z"
   },
   {
    "duration": 31,
    "start_time": "2022-06-15T23:41:46.247Z"
   },
   {
    "duration": 23,
    "start_time": "2022-06-15T23:41:46.279Z"
   },
   {
    "duration": 90,
    "start_time": "2022-06-15T23:41:46.304Z"
   },
   {
    "duration": 29,
    "start_time": "2022-06-15T23:41:46.395Z"
   },
   {
    "duration": 10,
    "start_time": "2022-06-15T23:41:46.425Z"
   },
   {
    "duration": 29,
    "start_time": "2022-06-15T23:41:46.437Z"
   },
   {
    "duration": 352,
    "start_time": "2022-06-15T23:41:46.468Z"
   },
   {
    "duration": 7,
    "start_time": "2022-06-15T23:41:46.821Z"
   },
   {
    "duration": 7,
    "start_time": "2022-06-15T23:41:46.829Z"
   },
   {
    "duration": 7,
    "start_time": "2022-06-15T23:41:46.837Z"
   },
   {
    "duration": 139,
    "start_time": "2022-06-15T23:41:46.858Z"
   },
   {
    "duration": 5,
    "start_time": "2022-06-15T23:41:46.998Z"
   },
   {
    "duration": 6,
    "start_time": "2022-06-15T23:41:47.004Z"
   },
   {
    "duration": 5,
    "start_time": "2022-06-15T23:41:47.011Z"
   },
   {
    "duration": 5,
    "start_time": "2022-06-15T23:41:47.018Z"
   },
   {
    "duration": 5,
    "start_time": "2022-06-15T23:41:47.024Z"
   },
   {
    "duration": 28,
    "start_time": "2022-06-15T23:41:47.031Z"
   },
   {
    "duration": 161,
    "start_time": "2022-06-15T23:41:47.061Z"
   },
   {
    "duration": 4,
    "start_time": "2022-06-15T23:41:47.224Z"
   },
   {
    "duration": 5,
    "start_time": "2022-06-15T23:41:47.230Z"
   },
   {
    "duration": 6,
    "start_time": "2022-06-15T23:41:47.237Z"
   },
   {
    "duration": 14,
    "start_time": "2022-06-15T23:41:47.245Z"
   },
   {
    "duration": 7,
    "start_time": "2022-06-15T23:41:47.260Z"
   },
   {
    "duration": 9,
    "start_time": "2022-06-15T23:41:47.269Z"
   },
   {
    "duration": 16,
    "start_time": "2022-06-15T23:41:47.280Z"
   },
   {
    "duration": 149,
    "start_time": "2022-06-15T23:41:47.298Z"
   },
   {
    "duration": 17,
    "start_time": "2022-06-15T23:41:47.448Z"
   },
   {
    "duration": 6,
    "start_time": "2022-06-15T23:41:47.467Z"
   },
   {
    "duration": 13,
    "start_time": "2022-06-15T23:41:47.475Z"
   },
   {
    "duration": 174,
    "start_time": "2022-06-15T23:41:47.490Z"
   },
   {
    "duration": 5,
    "start_time": "2022-06-15T23:41:47.666Z"
   },
   {
    "duration": 5,
    "start_time": "2022-06-15T23:41:47.673Z"
   },
   {
    "duration": 7,
    "start_time": "2022-06-15T23:41:47.679Z"
   },
   {
    "duration": 8,
    "start_time": "2022-06-15T23:41:47.688Z"
   },
   {
    "duration": 5,
    "start_time": "2022-06-15T23:41:47.697Z"
   },
   {
    "duration": 15,
    "start_time": "2022-06-15T23:41:47.703Z"
   },
   {
    "duration": 14,
    "start_time": "2022-06-15T23:41:47.720Z"
   },
   {
    "duration": 160,
    "start_time": "2022-06-15T23:41:47.736Z"
   },
   {
    "duration": 6,
    "start_time": "2022-06-15T23:41:47.898Z"
   },
   {
    "duration": 6,
    "start_time": "2022-06-15T23:41:47.905Z"
   },
   {
    "duration": 9,
    "start_time": "2022-06-15T23:41:47.912Z"
   },
   {
    "duration": 129,
    "start_time": "2022-06-15T23:41:47.923Z"
   },
   {
    "duration": 4,
    "start_time": "2022-06-15T23:41:48.059Z"
   },
   {
    "duration": 7,
    "start_time": "2022-06-15T23:41:48.064Z"
   },
   {
    "duration": 7,
    "start_time": "2022-06-15T23:41:48.072Z"
   },
   {
    "duration": 5,
    "start_time": "2022-06-15T23:41:48.080Z"
   },
   {
    "duration": 9,
    "start_time": "2022-06-15T23:41:48.086Z"
   },
   {
    "duration": 137,
    "start_time": "2022-06-15T23:41:48.097Z"
   },
   {
    "duration": 8,
    "start_time": "2022-06-15T23:41:48.235Z"
   },
   {
    "duration": 407,
    "start_time": "2022-06-15T23:41:48.244Z"
   },
   {
    "duration": 3,
    "start_time": "2022-06-15T23:41:48.652Z"
   },
   {
    "duration": 13,
    "start_time": "2022-06-15T23:41:48.656Z"
   },
   {
    "duration": 7,
    "start_time": "2022-06-15T23:41:48.671Z"
   },
   {
    "duration": 9,
    "start_time": "2022-06-15T23:41:48.679Z"
   },
   {
    "duration": 6,
    "start_time": "2022-06-15T23:41:48.689Z"
   },
   {
    "duration": 11,
    "start_time": "2022-06-15T23:41:48.696Z"
   },
   {
    "duration": 10,
    "start_time": "2022-06-15T23:41:48.708Z"
   },
   {
    "duration": 6,
    "start_time": "2022-06-15T23:41:48.720Z"
   },
   {
    "duration": 5,
    "start_time": "2022-06-15T23:41:48.729Z"
   },
   {
    "duration": 13,
    "start_time": "2022-06-15T23:41:48.736Z"
   },
   {
    "duration": 8,
    "start_time": "2022-06-15T23:41:48.751Z"
   },
   {
    "duration": 7,
    "start_time": "2022-06-15T23:41:48.761Z"
   },
   {
    "duration": 5,
    "start_time": "2022-06-15T23:41:48.770Z"
   },
   {
    "duration": 6,
    "start_time": "2022-06-15T23:41:48.776Z"
   },
   {
    "duration": 7,
    "start_time": "2022-06-15T23:41:48.783Z"
   },
   {
    "duration": 16,
    "start_time": "2022-06-15T23:41:48.791Z"
   },
   {
    "duration": 69,
    "start_time": "2022-06-16T08:05:38.481Z"
   },
   {
    "duration": 10,
    "start_time": "2022-06-16T08:05:52.340Z"
   },
   {
    "duration": 432,
    "start_time": "2022-06-16T08:05:58.206Z"
   },
   {
    "duration": 319,
    "start_time": "2022-06-16T08:05:58.644Z"
   },
   {
    "duration": 384,
    "start_time": "2022-06-16T08:05:58.965Z"
   },
   {
    "duration": 405,
    "start_time": "2022-06-16T08:05:59.354Z"
   },
   {
    "duration": 86,
    "start_time": "2022-06-16T08:05:59.764Z"
   },
   {
    "duration": 59,
    "start_time": "2022-06-16T08:05:59.853Z"
   },
   {
    "duration": 23,
    "start_time": "2022-06-16T08:05:59.914Z"
   },
   {
    "duration": 42,
    "start_time": "2022-06-16T08:05:59.940Z"
   },
   {
    "duration": 8,
    "start_time": "2022-06-16T08:05:59.984Z"
   },
   {
    "duration": 58,
    "start_time": "2022-06-16T08:05:59.996Z"
   },
   {
    "duration": 12,
    "start_time": "2022-06-16T08:06:00.056Z"
   },
   {
    "duration": 21,
    "start_time": "2022-06-16T08:06:00.070Z"
   },
   {
    "duration": 10,
    "start_time": "2022-06-16T08:06:00.093Z"
   },
   {
    "duration": 81,
    "start_time": "2022-06-16T08:06:00.105Z"
   },
   {
    "duration": 10,
    "start_time": "2022-06-16T08:06:00.188Z"
   },
   {
    "duration": 18,
    "start_time": "2022-06-16T08:06:00.200Z"
   },
   {
    "duration": 75,
    "start_time": "2022-06-16T08:06:00.219Z"
   },
   {
    "duration": 27,
    "start_time": "2022-06-16T08:06:00.296Z"
   },
   {
    "duration": 55,
    "start_time": "2022-06-16T08:06:00.325Z"
   },
   {
    "duration": 18,
    "start_time": "2022-06-16T08:06:00.383Z"
   },
   {
    "duration": 27,
    "start_time": "2022-06-16T08:06:00.403Z"
   },
   {
    "duration": 48,
    "start_time": "2022-06-16T08:06:00.432Z"
   },
   {
    "duration": 22,
    "start_time": "2022-06-16T08:06:00.482Z"
   },
   {
    "duration": 58,
    "start_time": "2022-06-16T08:06:00.506Z"
   },
   {
    "duration": 80,
    "start_time": "2022-06-16T08:06:00.566Z"
   },
   {
    "duration": 60,
    "start_time": "2022-06-16T08:06:00.649Z"
   },
   {
    "duration": 30,
    "start_time": "2022-06-16T08:06:00.711Z"
   },
   {
    "duration": 63,
    "start_time": "2022-06-16T08:06:00.745Z"
   },
   {
    "duration": 87,
    "start_time": "2022-06-16T08:06:00.810Z"
   },
   {
    "duration": 12,
    "start_time": "2022-06-16T08:06:00.899Z"
   },
   {
    "duration": 18,
    "start_time": "2022-06-16T08:06:00.914Z"
   },
   {
    "duration": 34,
    "start_time": "2022-06-16T08:06:00.940Z"
   },
   {
    "duration": 17,
    "start_time": "2022-06-16T08:06:00.976Z"
   },
   {
    "duration": 69,
    "start_time": "2022-06-16T08:06:00.996Z"
   },
   {
    "duration": 13,
    "start_time": "2022-06-16T08:06:01.067Z"
   },
   {
    "duration": 14,
    "start_time": "2022-06-16T08:06:01.082Z"
   },
   {
    "duration": 21,
    "start_time": "2022-06-16T08:06:01.098Z"
   },
   {
    "duration": 24,
    "start_time": "2022-06-16T08:06:01.121Z"
   },
   {
    "duration": 43,
    "start_time": "2022-06-16T08:06:01.147Z"
   },
   {
    "duration": 21,
    "start_time": "2022-06-16T08:06:01.192Z"
   },
   {
    "duration": 11,
    "start_time": "2022-06-16T08:06:01.215Z"
   },
   {
    "duration": 37,
    "start_time": "2022-06-16T08:06:01.228Z"
   },
   {
    "duration": 13,
    "start_time": "2022-06-16T08:06:01.267Z"
   },
   {
    "duration": 4,
    "start_time": "2022-06-16T08:06:01.281Z"
   },
   {
    "duration": 59,
    "start_time": "2022-06-16T08:06:01.287Z"
   },
   {
    "duration": 32,
    "start_time": "2022-06-16T08:06:01.352Z"
   },
   {
    "duration": 14,
    "start_time": "2022-06-16T08:06:01.387Z"
   },
   {
    "duration": 12,
    "start_time": "2022-06-16T08:06:01.403Z"
   },
   {
    "duration": 47,
    "start_time": "2022-06-16T08:06:01.418Z"
   },
   {
    "duration": 34,
    "start_time": "2022-06-16T08:06:01.467Z"
   },
   {
    "duration": 26,
    "start_time": "2022-06-16T08:06:01.502Z"
   },
   {
    "duration": 41,
    "start_time": "2022-06-16T08:06:01.530Z"
   },
   {
    "duration": 93,
    "start_time": "2022-06-16T08:06:01.573Z"
   },
   {
    "duration": 32,
    "start_time": "2022-06-16T08:06:01.668Z"
   },
   {
    "duration": 57,
    "start_time": "2022-06-16T08:06:01.702Z"
   },
   {
    "duration": 19,
    "start_time": "2022-06-16T08:06:01.760Z"
   },
   {
    "duration": 638,
    "start_time": "2022-06-16T08:06:01.781Z"
   },
   {
    "duration": 22,
    "start_time": "2022-06-16T08:06:02.421Z"
   },
   {
    "duration": 24,
    "start_time": "2022-06-16T08:06:02.445Z"
   },
   {
    "duration": 14,
    "start_time": "2022-06-16T08:06:02.471Z"
   },
   {
    "duration": 157,
    "start_time": "2022-06-16T08:06:02.487Z"
   },
   {
    "duration": 16,
    "start_time": "2022-06-16T08:06:02.649Z"
   },
   {
    "duration": 17,
    "start_time": "2022-06-16T08:06:02.668Z"
   },
   {
    "duration": 13,
    "start_time": "2022-06-16T08:06:02.687Z"
   },
   {
    "duration": 13,
    "start_time": "2022-06-16T08:06:02.702Z"
   },
   {
    "duration": 45,
    "start_time": "2022-06-16T08:06:02.717Z"
   },
   {
    "duration": 14,
    "start_time": "2022-06-16T08:06:02.763Z"
   },
   {
    "duration": 165,
    "start_time": "2022-06-16T08:06:02.779Z"
   },
   {
    "duration": 9,
    "start_time": "2022-06-16T08:06:02.951Z"
   },
   {
    "duration": 16,
    "start_time": "2022-06-16T08:06:02.961Z"
   },
   {
    "duration": 6,
    "start_time": "2022-06-16T08:06:02.979Z"
   },
   {
    "duration": 9,
    "start_time": "2022-06-16T08:06:02.986Z"
   },
   {
    "duration": 7,
    "start_time": "2022-06-16T08:06:02.996Z"
   },
   {
    "duration": 11,
    "start_time": "2022-06-16T08:06:03.004Z"
   },
   {
    "duration": 20,
    "start_time": "2022-06-16T08:06:03.017Z"
   },
   {
    "duration": 174,
    "start_time": "2022-06-16T08:06:03.039Z"
   },
   {
    "duration": 7,
    "start_time": "2022-06-16T08:06:03.214Z"
   },
   {
    "duration": 50,
    "start_time": "2022-06-16T08:06:03.223Z"
   },
   {
    "duration": 16,
    "start_time": "2022-06-16T08:06:03.276Z"
   },
   {
    "duration": 231,
    "start_time": "2022-06-16T08:06:03.294Z"
   },
   {
    "duration": 10,
    "start_time": "2022-06-16T08:06:03.528Z"
   },
   {
    "duration": 27,
    "start_time": "2022-06-16T08:06:03.545Z"
   },
   {
    "duration": 13,
    "start_time": "2022-06-16T08:06:03.574Z"
   },
   {
    "duration": 10,
    "start_time": "2022-06-16T08:06:03.590Z"
   },
   {
    "duration": 8,
    "start_time": "2022-06-16T08:06:03.602Z"
   },
   {
    "duration": 13,
    "start_time": "2022-06-16T08:06:03.611Z"
   },
   {
    "duration": 52,
    "start_time": "2022-06-16T08:06:03.627Z"
   },
   {
    "duration": 190,
    "start_time": "2022-06-16T08:06:03.680Z"
   },
   {
    "duration": 10,
    "start_time": "2022-06-16T08:06:03.872Z"
   },
   {
    "duration": 16,
    "start_time": "2022-06-16T08:06:03.884Z"
   },
   {
    "duration": 8,
    "start_time": "2022-06-16T08:06:03.903Z"
   },
   {
    "duration": 176,
    "start_time": "2022-06-16T08:06:03.914Z"
   },
   {
    "duration": 6,
    "start_time": "2022-06-16T08:06:04.092Z"
   },
   {
    "duration": 9,
    "start_time": "2022-06-16T08:06:04.100Z"
   },
   {
    "duration": 8,
    "start_time": "2022-06-16T08:06:04.111Z"
   },
   {
    "duration": 14,
    "start_time": "2022-06-16T08:06:04.129Z"
   },
   {
    "duration": 22,
    "start_time": "2022-06-16T08:06:04.148Z"
   },
   {
    "duration": 149,
    "start_time": "2022-06-16T08:06:04.172Z"
   },
   {
    "duration": 10,
    "start_time": "2022-06-16T08:06:04.322Z"
   },
   {
    "duration": 424,
    "start_time": "2022-06-16T08:06:04.338Z"
   },
   {
    "duration": 3,
    "start_time": "2022-06-16T08:06:04.765Z"
   },
   {
    "duration": 14,
    "start_time": "2022-06-16T08:06:04.770Z"
   },
   {
    "duration": 15,
    "start_time": "2022-06-16T08:06:04.786Z"
   },
   {
    "duration": 10,
    "start_time": "2022-06-16T08:06:04.803Z"
   },
   {
    "duration": 26,
    "start_time": "2022-06-16T08:06:04.815Z"
   },
   {
    "duration": 31,
    "start_time": "2022-06-16T08:06:04.846Z"
   },
   {
    "duration": 19,
    "start_time": "2022-06-16T08:06:04.879Z"
   },
   {
    "duration": 10,
    "start_time": "2022-06-16T08:06:04.900Z"
   },
   {
    "duration": 11,
    "start_time": "2022-06-16T08:06:04.912Z"
   },
   {
    "duration": 50,
    "start_time": "2022-06-16T08:06:04.925Z"
   },
   {
    "duration": 7,
    "start_time": "2022-06-16T08:06:04.977Z"
   },
   {
    "duration": 12,
    "start_time": "2022-06-16T08:06:04.986Z"
   },
   {
    "duration": 9,
    "start_time": "2022-06-16T08:06:04.999Z"
   },
   {
    "duration": 10,
    "start_time": "2022-06-16T08:06:05.011Z"
   },
   {
    "duration": 45,
    "start_time": "2022-06-16T08:06:05.023Z"
   },
   {
    "duration": 11,
    "start_time": "2022-06-16T08:06:05.070Z"
   },
   {
    "duration": 5,
    "start_time": "2022-06-16T08:06:43.646Z"
   },
   {
    "duration": 5,
    "start_time": "2022-06-16T08:06:47.555Z"
   },
   {
    "duration": 4,
    "start_time": "2022-06-16T08:07:44.963Z"
   },
   {
    "duration": 107,
    "start_time": "2022-06-16T08:08:01.910Z"
   },
   {
    "duration": 4,
    "start_time": "2022-06-16T08:08:11.876Z"
   },
   {
    "duration": 31,
    "start_time": "2022-06-16T08:08:44.301Z"
   },
   {
    "duration": 32,
    "start_time": "2022-06-16T08:08:56.504Z"
   },
   {
    "duration": 33,
    "start_time": "2022-06-16T08:09:00.850Z"
   },
   {
    "duration": 9,
    "start_time": "2022-06-16T08:09:05.884Z"
   },
   {
    "duration": 4,
    "start_time": "2022-06-16T08:09:11.782Z"
   },
   {
    "duration": 8,
    "start_time": "2022-06-16T08:09:17.447Z"
   },
   {
    "duration": 3,
    "start_time": "2022-06-16T08:12:25.941Z"
   },
   {
    "duration": 4,
    "start_time": "2022-06-16T08:12:37.579Z"
   },
   {
    "duration": 4,
    "start_time": "2022-06-16T08:13:01.298Z"
   },
   {
    "duration": 3,
    "start_time": "2022-06-16T08:13:07.095Z"
   },
   {
    "duration": 4,
    "start_time": "2022-06-16T08:14:08.294Z"
   },
   {
    "duration": 8,
    "start_time": "2022-06-16T08:16:24.264Z"
   },
   {
    "duration": 4,
    "start_time": "2022-06-16T08:16:40.505Z"
   },
   {
    "duration": 3,
    "start_time": "2022-06-16T08:17:05.086Z"
   },
   {
    "duration": 3,
    "start_time": "2022-06-16T08:17:29.594Z"
   },
   {
    "duration": 5,
    "start_time": "2022-06-16T08:17:50.558Z"
   },
   {
    "duration": 3,
    "start_time": "2022-06-16T08:17:57.488Z"
   },
   {
    "duration": 5,
    "start_time": "2022-06-16T08:18:03.307Z"
   },
   {
    "duration": 5,
    "start_time": "2022-06-16T08:18:32.088Z"
   },
   {
    "duration": 6,
    "start_time": "2022-06-16T08:18:33.345Z"
   },
   {
    "duration": 32,
    "start_time": "2022-06-16T08:43:12.040Z"
   },
   {
    "duration": 34,
    "start_time": "2022-06-16T08:48:56.638Z"
   },
   {
    "duration": 24,
    "start_time": "2022-06-16T08:50:48.521Z"
   },
   {
    "duration": 26,
    "start_time": "2022-06-16T08:54:57.689Z"
   },
   {
    "duration": 23,
    "start_time": "2022-06-16T09:05:47.143Z"
   },
   {
    "duration": 136,
    "start_time": "2022-06-16T09:11:47.895Z"
   },
   {
    "duration": 5,
    "start_time": "2022-06-16T09:12:37.496Z"
   },
   {
    "duration": 4,
    "start_time": "2022-06-16T09:12:45.724Z"
   },
   {
    "duration": 3,
    "start_time": "2022-06-16T09:12:51.414Z"
   },
   {
    "duration": 4,
    "start_time": "2022-06-16T09:12:56.418Z"
   },
   {
    "duration": 3,
    "start_time": "2022-06-16T09:13:01.959Z"
   },
   {
    "duration": 16,
    "start_time": "2022-06-16T09:13:09.156Z"
   },
   {
    "duration": 4,
    "start_time": "2022-06-16T09:13:53.494Z"
   },
   {
    "duration": 3,
    "start_time": "2022-06-16T09:13:54.588Z"
   },
   {
    "duration": 9,
    "start_time": "2022-06-16T09:13:55.967Z"
   },
   {
    "duration": 5,
    "start_time": "2022-06-16T09:14:03.372Z"
   },
   {
    "duration": 5,
    "start_time": "2022-06-16T09:14:28.532Z"
   },
   {
    "duration": 4,
    "start_time": "2022-06-16T09:14:33.728Z"
   },
   {
    "duration": 3,
    "start_time": "2022-06-16T09:14:51.836Z"
   },
   {
    "duration": 3,
    "start_time": "2022-06-16T09:14:52.716Z"
   },
   {
    "duration": 4,
    "start_time": "2022-06-16T09:14:56.162Z"
   },
   {
    "duration": 4,
    "start_time": "2022-06-16T09:14:56.885Z"
   },
   {
    "duration": 9,
    "start_time": "2022-06-16T09:14:58.753Z"
   },
   {
    "duration": 229,
    "start_time": "2022-06-16T09:15:02.391Z"
   },
   {
    "duration": 5,
    "start_time": "2022-06-16T09:15:03.263Z"
   },
   {
    "duration": 4,
    "start_time": "2022-06-16T09:15:04.137Z"
   },
   {
    "duration": 3,
    "start_time": "2022-06-16T09:15:06.098Z"
   },
   {
    "duration": 3,
    "start_time": "2022-06-16T09:15:27.120Z"
   },
   {
    "duration": 4,
    "start_time": "2022-06-16T09:15:41.114Z"
   },
   {
    "duration": 12,
    "start_time": "2022-06-16T09:15:53.990Z"
   },
   {
    "duration": 359,
    "start_time": "2022-06-16T09:24:54.924Z"
   },
   {
    "duration": 9,
    "start_time": "2022-06-16T09:25:08.675Z"
   },
   {
    "duration": 10,
    "start_time": "2022-06-16T09:26:06.252Z"
   },
   {
    "duration": 5,
    "start_time": "2022-06-16T09:26:23.699Z"
   },
   {
    "duration": 4,
    "start_time": "2022-06-16T09:26:43.451Z"
   },
   {
    "duration": 4,
    "start_time": "2022-06-16T09:26:57.183Z"
   },
   {
    "duration": 3,
    "start_time": "2022-06-16T09:27:16.135Z"
   },
   {
    "duration": 3,
    "start_time": "2022-06-16T09:27:30.432Z"
   },
   {
    "duration": 11,
    "start_time": "2022-06-16T09:31:59.670Z"
   },
   {
    "duration": 31,
    "start_time": "2022-06-16T09:32:36.741Z"
   },
   {
    "duration": 12,
    "start_time": "2022-06-16T09:32:41.183Z"
   },
   {
    "duration": 10,
    "start_time": "2022-06-16T09:32:45.169Z"
   },
   {
    "duration": 169,
    "start_time": "2022-06-16T09:32:51.613Z"
   },
   {
    "duration": 8,
    "start_time": "2022-06-16T09:33:17.514Z"
   },
   {
    "duration": 12,
    "start_time": "2022-06-16T09:33:24.564Z"
   },
   {
    "duration": 174,
    "start_time": "2022-06-16T09:33:25.483Z"
   },
   {
    "duration": 371,
    "start_time": "2022-06-16T12:05:33.041Z"
   },
   {
    "duration": 436,
    "start_time": "2022-06-16T12:05:33.414Z"
   },
   {
    "duration": 368,
    "start_time": "2022-06-16T12:05:33.851Z"
   },
   {
    "duration": 144,
    "start_time": "2022-06-16T12:05:34.221Z"
   },
   {
    "duration": 41,
    "start_time": "2022-06-16T12:05:34.366Z"
   },
   {
    "duration": 50,
    "start_time": "2022-06-16T12:05:34.409Z"
   },
   {
    "duration": 13,
    "start_time": "2022-06-16T12:05:34.460Z"
   },
   {
    "duration": 20,
    "start_time": "2022-06-16T12:05:34.475Z"
   },
   {
    "duration": 8,
    "start_time": "2022-06-16T12:05:34.496Z"
   },
   {
    "duration": 17,
    "start_time": "2022-06-16T12:05:34.506Z"
   },
   {
    "duration": 5,
    "start_time": "2022-06-16T12:05:34.525Z"
   },
   {
    "duration": 19,
    "start_time": "2022-06-16T12:05:34.531Z"
   },
   {
    "duration": 9,
    "start_time": "2022-06-16T12:05:34.552Z"
   },
   {
    "duration": 38,
    "start_time": "2022-06-16T12:05:34.566Z"
   },
   {
    "duration": 12,
    "start_time": "2022-06-16T12:05:34.605Z"
   },
   {
    "duration": 20,
    "start_time": "2022-06-16T12:05:34.619Z"
   },
   {
    "duration": 61,
    "start_time": "2022-06-16T12:05:34.641Z"
   },
   {
    "duration": 22,
    "start_time": "2022-06-16T12:05:34.704Z"
   },
   {
    "duration": 26,
    "start_time": "2022-06-16T12:05:34.728Z"
   },
   {
    "duration": 13,
    "start_time": "2022-06-16T12:05:34.755Z"
   },
   {
    "duration": 36,
    "start_time": "2022-06-16T12:05:34.770Z"
   },
   {
    "duration": 15,
    "start_time": "2022-06-16T12:05:34.807Z"
   },
   {
    "duration": 3,
    "start_time": "2022-06-16T12:05:34.823Z"
   },
   {
    "duration": 9,
    "start_time": "2022-06-16T12:05:34.827Z"
   },
   {
    "duration": 18,
    "start_time": "2022-06-16T12:05:34.837Z"
   },
   {
    "duration": 12,
    "start_time": "2022-06-16T12:05:34.857Z"
   },
   {
    "duration": 40,
    "start_time": "2022-06-16T12:05:34.871Z"
   },
   {
    "duration": 8,
    "start_time": "2022-06-16T12:05:34.913Z"
   },
   {
    "duration": 13,
    "start_time": "2022-06-16T12:05:34.922Z"
   },
   {
    "duration": 9,
    "start_time": "2022-06-16T12:05:34.936Z"
   },
   {
    "duration": 3,
    "start_time": "2022-06-16T12:05:34.947Z"
   },
   {
    "duration": 7,
    "start_time": "2022-06-16T12:05:34.952Z"
   },
   {
    "duration": 31,
    "start_time": "2022-06-16T12:05:34.960Z"
   },
   {
    "duration": 9,
    "start_time": "2022-06-16T12:05:34.993Z"
   },
   {
    "duration": 6,
    "start_time": "2022-06-16T12:05:35.004Z"
   },
   {
    "duration": 3,
    "start_time": "2022-06-16T12:05:35.012Z"
   },
   {
    "duration": 10,
    "start_time": "2022-06-16T12:05:35.016Z"
   },
   {
    "duration": 8,
    "start_time": "2022-06-16T12:05:35.028Z"
   },
   {
    "duration": 5,
    "start_time": "2022-06-16T12:05:35.037Z"
   },
   {
    "duration": 13,
    "start_time": "2022-06-16T12:05:35.044Z"
   },
   {
    "duration": 10,
    "start_time": "2022-06-16T12:05:35.062Z"
   },
   {
    "duration": 22,
    "start_time": "2022-06-16T12:05:35.074Z"
   },
   {
    "duration": 5,
    "start_time": "2022-06-16T12:05:35.098Z"
   },
   {
    "duration": 14,
    "start_time": "2022-06-16T12:05:35.105Z"
   },
   {
    "duration": 9,
    "start_time": "2022-06-16T12:05:35.120Z"
   },
   {
    "duration": 7,
    "start_time": "2022-06-16T12:05:35.130Z"
   },
   {
    "duration": 26,
    "start_time": "2022-06-16T12:05:35.138Z"
   },
   {
    "duration": 31,
    "start_time": "2022-06-16T12:05:35.165Z"
   },
   {
    "duration": 25,
    "start_time": "2022-06-16T12:05:35.198Z"
   },
   {
    "duration": 80,
    "start_time": "2022-06-16T12:05:35.225Z"
   },
   {
    "duration": 27,
    "start_time": "2022-06-16T12:05:35.307Z"
   },
   {
    "duration": 10,
    "start_time": "2022-06-16T12:05:35.335Z"
   },
   {
    "duration": 324,
    "start_time": "2022-06-16T12:05:35.346Z"
   },
   {
    "duration": 19,
    "start_time": "2022-06-16T12:05:35.672Z"
   },
   {
    "duration": 9,
    "start_time": "2022-06-16T12:05:35.693Z"
   },
   {
    "duration": 142,
    "start_time": "2022-06-16T12:05:35.704Z"
   },
   {
    "duration": 6,
    "start_time": "2022-06-16T12:05:35.848Z"
   },
   {
    "duration": 16,
    "start_time": "2022-06-16T12:05:35.856Z"
   },
   {
    "duration": 26,
    "start_time": "2022-06-16T12:05:35.873Z"
   },
   {
    "duration": 125,
    "start_time": "2022-06-16T12:05:35.900Z"
   },
   {
    "duration": 4,
    "start_time": "2022-06-16T12:05:36.027Z"
   },
   {
    "duration": 9,
    "start_time": "2022-06-16T12:05:36.032Z"
   },
   {
    "duration": 6,
    "start_time": "2022-06-16T12:05:36.042Z"
   },
   {
    "duration": 7,
    "start_time": "2022-06-16T12:05:36.050Z"
   },
   {
    "duration": 9,
    "start_time": "2022-06-16T12:05:36.058Z"
   },
   {
    "duration": 12,
    "start_time": "2022-06-16T12:05:36.068Z"
   },
   {
    "duration": 149,
    "start_time": "2022-06-16T12:05:36.081Z"
   },
   {
    "duration": 4,
    "start_time": "2022-06-16T12:05:36.232Z"
   },
   {
    "duration": 6,
    "start_time": "2022-06-16T12:05:36.237Z"
   },
   {
    "duration": 6,
    "start_time": "2022-06-16T12:05:36.244Z"
   },
   {
    "duration": 6,
    "start_time": "2022-06-16T12:05:36.251Z"
   },
   {
    "duration": 7,
    "start_time": "2022-06-16T12:05:36.258Z"
   },
   {
    "duration": 9,
    "start_time": "2022-06-16T12:05:36.266Z"
   },
   {
    "duration": 22,
    "start_time": "2022-06-16T12:05:36.276Z"
   },
   {
    "duration": 165,
    "start_time": "2022-06-16T12:05:36.299Z"
   },
   {
    "duration": 7,
    "start_time": "2022-06-16T12:05:36.465Z"
   },
   {
    "duration": 5,
    "start_time": "2022-06-16T12:05:36.473Z"
   },
   {
    "duration": 4,
    "start_time": "2022-06-16T12:05:36.491Z"
   },
   {
    "duration": 114,
    "start_time": "2022-06-16T12:05:36.497Z"
   },
   {
    "duration": 3,
    "start_time": "2022-06-16T12:05:36.612Z"
   },
   {
    "duration": 25,
    "start_time": "2022-06-16T12:05:36.617Z"
   },
   {
    "duration": 15,
    "start_time": "2022-06-16T12:05:36.643Z"
   },
   {
    "duration": 35,
    "start_time": "2022-06-16T12:05:36.659Z"
   },
   {
    "duration": 37,
    "start_time": "2022-06-16T12:05:36.696Z"
   },
   {
    "duration": 27,
    "start_time": "2022-06-16T12:05:36.734Z"
   },
   {
    "duration": 158,
    "start_time": "2022-06-16T12:05:36.762Z"
   },
   {
    "duration": 5,
    "start_time": "2022-06-16T12:05:36.921Z"
   },
   {
    "duration": 26,
    "start_time": "2022-06-16T12:05:36.928Z"
   },
   {
    "duration": 21,
    "start_time": "2022-06-16T12:05:36.956Z"
   },
   {
    "duration": 26,
    "start_time": "2022-06-16T12:05:36.979Z"
   },
   {
    "duration": 26,
    "start_time": "2022-06-16T12:05:37.007Z"
   },
   {
    "duration": 34,
    "start_time": "2022-06-16T12:05:37.035Z"
   },
   {
    "duration": 18,
    "start_time": "2022-06-16T12:05:37.070Z"
   },
   {
    "duration": 137,
    "start_time": "2022-06-16T12:05:37.090Z"
   },
   {
    "duration": 6,
    "start_time": "2022-06-16T12:05:37.229Z"
   },
   {
    "duration": 27,
    "start_time": "2022-06-16T12:05:37.236Z"
   },
   {
    "duration": 23,
    "start_time": "2022-06-16T12:05:37.264Z"
   },
   {
    "duration": 133,
    "start_time": "2022-06-16T12:05:37.288Z"
   },
   {
    "duration": 4,
    "start_time": "2022-06-16T12:05:37.422Z"
   },
   {
    "duration": 27,
    "start_time": "2022-06-16T12:05:37.427Z"
   },
   {
    "duration": 23,
    "start_time": "2022-06-16T12:05:37.455Z"
   },
   {
    "duration": 16,
    "start_time": "2022-06-16T12:05:37.479Z"
   },
   {
    "duration": 20,
    "start_time": "2022-06-16T12:05:37.497Z"
   },
   {
    "duration": 24,
    "start_time": "2022-06-16T12:05:37.518Z"
   },
   {
    "duration": 121,
    "start_time": "2022-06-16T12:05:37.544Z"
   },
   {
    "duration": 4,
    "start_time": "2022-06-16T12:05:37.667Z"
   },
   {
    "duration": 17,
    "start_time": "2022-06-16T12:05:37.672Z"
   },
   {
    "duration": 33,
    "start_time": "2022-06-16T12:05:37.690Z"
   },
   {
    "duration": 28,
    "start_time": "2022-06-16T12:05:37.725Z"
   },
   {
    "duration": 13,
    "start_time": "2022-06-16T12:05:37.754Z"
   },
   {
    "duration": 23,
    "start_time": "2022-06-16T12:05:37.769Z"
   },
   {
    "duration": 429,
    "start_time": "2022-06-16T12:05:37.793Z"
   },
   {
    "duration": 2,
    "start_time": "2022-06-16T12:05:38.223Z"
   },
   {
    "duration": 30,
    "start_time": "2022-06-16T12:05:38.227Z"
   },
   {
    "duration": 8,
    "start_time": "2022-06-16T12:05:38.258Z"
   },
   {
    "duration": 32,
    "start_time": "2022-06-16T12:05:38.267Z"
   },
   {
    "duration": 16,
    "start_time": "2022-06-16T12:05:38.300Z"
   },
   {
    "duration": 38,
    "start_time": "2022-06-16T12:05:38.317Z"
   },
   {
    "duration": 23,
    "start_time": "2022-06-16T12:05:38.356Z"
   },
   {
    "duration": 25,
    "start_time": "2022-06-16T12:05:38.381Z"
   },
   {
    "duration": 19,
    "start_time": "2022-06-16T12:05:38.408Z"
   },
   {
    "duration": 21,
    "start_time": "2022-06-16T12:05:38.433Z"
   },
   {
    "duration": 17,
    "start_time": "2022-06-16T12:05:38.455Z"
   },
   {
    "duration": 41,
    "start_time": "2022-06-16T12:05:38.474Z"
   },
   {
    "duration": 23,
    "start_time": "2022-06-16T12:05:38.517Z"
   },
   {
    "duration": 31,
    "start_time": "2022-06-16T12:05:38.541Z"
   },
   {
    "duration": 16,
    "start_time": "2022-06-16T12:05:38.573Z"
   },
   {
    "duration": 20,
    "start_time": "2022-06-16T12:05:38.590Z"
   },
   {
    "duration": 14,
    "start_time": "2022-06-16T12:05:38.612Z"
   },
   {
    "duration": 23,
    "start_time": "2022-06-16T12:05:38.627Z"
   },
   {
    "duration": 47,
    "start_time": "2022-06-16T12:48:44.382Z"
   },
   {
    "duration": 11,
    "start_time": "2022-06-16T12:49:18.549Z"
   },
   {
    "duration": 14,
    "start_time": "2022-06-16T12:52:06.263Z"
   },
   {
    "duration": 6,
    "start_time": "2022-06-16T12:53:04.437Z"
   },
   {
    "duration": 7,
    "start_time": "2022-06-16T12:53:14.425Z"
   },
   {
    "duration": 86,
    "start_time": "2022-06-16T15:07:01.415Z"
   },
   {
    "duration": 8,
    "start_time": "2022-06-16T15:07:59.755Z"
   },
   {
    "duration": 6,
    "start_time": "2022-06-16T15:08:09.711Z"
   },
   {
    "duration": 437,
    "start_time": "2022-06-16T15:08:19.063Z"
   },
   {
    "duration": 289,
    "start_time": "2022-06-16T15:08:19.502Z"
   },
   {
    "duration": 376,
    "start_time": "2022-06-16T15:08:19.793Z"
   },
   {
    "duration": 750,
    "start_time": "2022-06-16T15:08:20.171Z"
   },
   {
    "duration": 89,
    "start_time": "2022-06-16T15:08:20.925Z"
   },
   {
    "duration": 72,
    "start_time": "2022-06-16T15:08:21.016Z"
   },
   {
    "duration": 17,
    "start_time": "2022-06-16T15:08:21.089Z"
   },
   {
    "duration": 60,
    "start_time": "2022-06-16T15:08:21.108Z"
   },
   {
    "duration": 11,
    "start_time": "2022-06-16T15:08:21.170Z"
   },
   {
    "duration": 35,
    "start_time": "2022-06-16T15:08:21.184Z"
   },
   {
    "duration": 47,
    "start_time": "2022-06-16T15:08:21.226Z"
   },
   {
    "duration": 49,
    "start_time": "2022-06-16T15:08:21.275Z"
   },
   {
    "duration": 21,
    "start_time": "2022-06-16T15:08:21.328Z"
   },
   {
    "duration": 22,
    "start_time": "2022-06-16T15:08:21.357Z"
   },
   {
    "duration": 26,
    "start_time": "2022-06-16T15:08:21.381Z"
   },
   {
    "duration": 34,
    "start_time": "2022-06-16T15:08:21.409Z"
   },
   {
    "duration": 75,
    "start_time": "2022-06-16T15:08:21.445Z"
   },
   {
    "duration": 39,
    "start_time": "2022-06-16T15:08:21.522Z"
   },
   {
    "duration": 29,
    "start_time": "2022-06-16T15:08:21.564Z"
   },
   {
    "duration": 18,
    "start_time": "2022-06-16T15:08:21.595Z"
   },
   {
    "duration": 49,
    "start_time": "2022-06-16T15:08:21.617Z"
   },
   {
    "duration": 32,
    "start_time": "2022-06-16T15:08:21.669Z"
   },
   {
    "duration": 3,
    "start_time": "2022-06-16T15:08:21.703Z"
   },
   {
    "duration": 14,
    "start_time": "2022-06-16T15:08:21.707Z"
   },
   {
    "duration": 30,
    "start_time": "2022-06-16T15:08:21.725Z"
   },
   {
    "duration": 24,
    "start_time": "2022-06-16T15:08:21.758Z"
   },
   {
    "duration": 396,
    "start_time": "2022-06-16T15:08:21.784Z"
   },
   {
    "duration": 18,
    "start_time": "2022-06-16T15:08:22.185Z"
   },
   {
    "duration": 39,
    "start_time": "2022-06-16T15:08:22.205Z"
   },
   {
    "duration": 37,
    "start_time": "2022-06-16T15:08:22.249Z"
   },
   {
    "duration": 14,
    "start_time": "2022-06-16T15:08:22.288Z"
   },
   {
    "duration": 22,
    "start_time": "2022-06-16T15:08:22.304Z"
   },
   {
    "duration": 32,
    "start_time": "2022-06-16T15:08:22.330Z"
   },
   {
    "duration": 7,
    "start_time": "2022-06-16T15:08:22.365Z"
   },
   {
    "duration": 20,
    "start_time": "2022-06-16T15:08:22.373Z"
   },
   {
    "duration": 26,
    "start_time": "2022-06-16T15:08:22.394Z"
   },
   {
    "duration": 11,
    "start_time": "2022-06-16T15:08:22.421Z"
   },
   {
    "duration": 30,
    "start_time": "2022-06-16T15:08:22.440Z"
   },
   {
    "duration": 8,
    "start_time": "2022-06-16T15:08:22.472Z"
   },
   {
    "duration": 10,
    "start_time": "2022-06-16T15:08:22.481Z"
   },
   {
    "duration": 17,
    "start_time": "2022-06-16T15:08:22.493Z"
   },
   {
    "duration": 15,
    "start_time": "2022-06-16T15:08:22.512Z"
   },
   {
    "duration": 45,
    "start_time": "2022-06-16T15:08:22.529Z"
   },
   {
    "duration": 10,
    "start_time": "2022-06-16T15:08:22.576Z"
   },
   {
    "duration": 21,
    "start_time": "2022-06-16T15:08:22.587Z"
   },
   {
    "duration": 10,
    "start_time": "2022-06-16T15:08:22.610Z"
   },
   {
    "duration": 39,
    "start_time": "2022-06-16T15:08:22.622Z"
   },
   {
    "duration": 33,
    "start_time": "2022-06-16T15:08:22.663Z"
   },
   {
    "duration": 35,
    "start_time": "2022-06-16T15:08:22.698Z"
   },
   {
    "duration": 42,
    "start_time": "2022-06-16T15:08:22.735Z"
   },
   {
    "duration": 114,
    "start_time": "2022-06-16T15:08:22.779Z"
   },
   {
    "duration": 45,
    "start_time": "2022-06-16T15:08:22.895Z"
   },
   {
    "duration": 21,
    "start_time": "2022-06-16T15:08:22.943Z"
   },
   {
    "duration": 648,
    "start_time": "2022-06-16T15:08:22.966Z"
   },
   {
    "duration": 26,
    "start_time": "2022-06-16T15:08:23.616Z"
   },
   {
    "duration": 29,
    "start_time": "2022-06-16T15:08:23.649Z"
   },
   {
    "duration": 207,
    "start_time": "2022-06-16T15:08:23.679Z"
   },
   {
    "duration": 8,
    "start_time": "2022-06-16T15:08:23.888Z"
   },
   {
    "duration": 7,
    "start_time": "2022-06-16T15:08:23.898Z"
   },
   {
    "duration": 31,
    "start_time": "2022-06-16T15:08:23.906Z"
   },
   {
    "duration": 185,
    "start_time": "2022-06-16T15:08:23.951Z"
   },
   {
    "duration": 7,
    "start_time": "2022-06-16T15:08:24.138Z"
   },
   {
    "duration": 16,
    "start_time": "2022-06-16T15:08:24.147Z"
   },
   {
    "duration": 7,
    "start_time": "2022-06-16T15:08:24.166Z"
   },
   {
    "duration": 9,
    "start_time": "2022-06-16T15:08:24.175Z"
   },
   {
    "duration": 19,
    "start_time": "2022-06-16T15:08:24.186Z"
   },
   {
    "duration": 15,
    "start_time": "2022-06-16T15:08:24.206Z"
   },
   {
    "duration": 188,
    "start_time": "2022-06-16T15:08:24.223Z"
   },
   {
    "duration": 5,
    "start_time": "2022-06-16T15:08:24.412Z"
   },
   {
    "duration": 46,
    "start_time": "2022-06-16T15:08:24.418Z"
   },
   {
    "duration": 34,
    "start_time": "2022-06-16T15:08:24.473Z"
   },
   {
    "duration": 12,
    "start_time": "2022-06-16T15:08:24.509Z"
   },
   {
    "duration": 45,
    "start_time": "2022-06-16T15:08:24.524Z"
   },
   {
    "duration": 35,
    "start_time": "2022-06-16T15:08:24.571Z"
   },
   {
    "duration": 27,
    "start_time": "2022-06-16T15:08:24.608Z"
   },
   {
    "duration": 336,
    "start_time": "2022-06-16T15:08:24.637Z"
   },
   {
    "duration": 10,
    "start_time": "2022-06-16T15:08:24.976Z"
   },
   {
    "duration": 20,
    "start_time": "2022-06-16T15:08:24.990Z"
   },
   {
    "duration": 13,
    "start_time": "2022-06-16T15:08:25.012Z"
   },
   {
    "duration": 196,
    "start_time": "2022-06-16T15:08:25.027Z"
   },
   {
    "duration": 13,
    "start_time": "2022-06-16T15:08:25.225Z"
   },
   {
    "duration": 17,
    "start_time": "2022-06-16T15:08:25.254Z"
   },
   {
    "duration": 11,
    "start_time": "2022-06-16T15:08:25.273Z"
   },
   {
    "duration": 15,
    "start_time": "2022-06-16T15:08:25.286Z"
   },
   {
    "duration": 17,
    "start_time": "2022-06-16T15:08:25.303Z"
   },
   {
    "duration": 44,
    "start_time": "2022-06-16T15:08:25.323Z"
   },
   {
    "duration": 181,
    "start_time": "2022-06-16T15:08:25.369Z"
   },
   {
    "duration": 6,
    "start_time": "2022-06-16T15:08:25.553Z"
   },
   {
    "duration": 11,
    "start_time": "2022-06-16T15:08:25.561Z"
   },
   {
    "duration": 8,
    "start_time": "2022-06-16T15:08:25.574Z"
   },
   {
    "duration": 9,
    "start_time": "2022-06-16T15:08:25.584Z"
   },
   {
    "duration": 6,
    "start_time": "2022-06-16T15:08:25.594Z"
   },
   {
    "duration": 56,
    "start_time": "2022-06-16T15:08:25.601Z"
   },
   {
    "duration": 21,
    "start_time": "2022-06-16T15:08:25.659Z"
   },
   {
    "duration": 177,
    "start_time": "2022-06-16T15:08:25.682Z"
   },
   {
    "duration": 11,
    "start_time": "2022-06-16T15:08:25.862Z"
   },
   {
    "duration": 34,
    "start_time": "2022-06-16T15:08:25.876Z"
   },
   {
    "duration": 13,
    "start_time": "2022-06-16T15:08:25.912Z"
   },
   {
    "duration": 196,
    "start_time": "2022-06-16T15:08:25.945Z"
   },
   {
    "duration": 5,
    "start_time": "2022-06-16T15:08:26.143Z"
   },
   {
    "duration": 22,
    "start_time": "2022-06-16T15:08:26.150Z"
   },
   {
    "duration": 8,
    "start_time": "2022-06-16T15:08:26.174Z"
   },
   {
    "duration": 18,
    "start_time": "2022-06-16T15:08:26.184Z"
   },
   {
    "duration": 8,
    "start_time": "2022-06-16T15:08:26.203Z"
   },
   {
    "duration": 12,
    "start_time": "2022-06-16T15:08:26.213Z"
   },
   {
    "duration": 217,
    "start_time": "2022-06-16T15:08:26.232Z"
   },
   {
    "duration": 7,
    "start_time": "2022-06-16T15:08:26.453Z"
   },
   {
    "duration": 12,
    "start_time": "2022-06-16T15:08:26.462Z"
   },
   {
    "duration": 9,
    "start_time": "2022-06-16T15:08:26.476Z"
   },
   {
    "duration": 11,
    "start_time": "2022-06-16T15:08:26.486Z"
   },
   {
    "duration": 9,
    "start_time": "2022-06-16T15:08:26.499Z"
   },
   {
    "duration": 36,
    "start_time": "2022-06-16T15:08:26.510Z"
   },
   {
    "duration": 617,
    "start_time": "2022-06-16T15:08:26.548Z"
   },
   {
    "duration": 3,
    "start_time": "2022-06-16T15:08:27.167Z"
   },
   {
    "duration": 13,
    "start_time": "2022-06-16T15:08:27.172Z"
   },
   {
    "duration": 7,
    "start_time": "2022-06-16T15:08:27.188Z"
   },
   {
    "duration": 12,
    "start_time": "2022-06-16T15:08:27.197Z"
   },
   {
    "duration": 26,
    "start_time": "2022-06-16T15:08:27.211Z"
   },
   {
    "duration": 29,
    "start_time": "2022-06-16T15:08:27.239Z"
   },
   {
    "duration": 13,
    "start_time": "2022-06-16T15:08:27.270Z"
   },
   {
    "duration": 19,
    "start_time": "2022-06-16T15:08:27.285Z"
   },
   {
    "duration": 5,
    "start_time": "2022-06-16T15:08:27.306Z"
   },
   {
    "duration": 50,
    "start_time": "2022-06-16T15:08:27.313Z"
   },
   {
    "duration": 5,
    "start_time": "2022-06-16T15:08:27.365Z"
   },
   {
    "duration": 16,
    "start_time": "2022-06-16T15:08:27.371Z"
   },
   {
    "duration": 9,
    "start_time": "2022-06-16T15:08:27.389Z"
   },
   {
    "duration": 23,
    "start_time": "2022-06-16T15:08:27.399Z"
   },
   {
    "duration": 55,
    "start_time": "2022-06-16T15:08:27.423Z"
   },
   {
    "duration": 7,
    "start_time": "2022-06-16T15:08:27.480Z"
   },
   {
    "duration": 19,
    "start_time": "2022-06-16T15:08:27.489Z"
   },
   {
    "duration": 13,
    "start_time": "2022-06-16T15:08:27.510Z"
   },
   {
    "duration": 13,
    "start_time": "2022-06-16T15:08:51.696Z"
   },
   {
    "duration": 34,
    "start_time": "2022-06-16T15:09:05.876Z"
   },
   {
    "duration": 10,
    "start_time": "2022-06-16T15:09:06.586Z"
   },
   {
    "duration": 38,
    "start_time": "2022-06-16T15:09:50.850Z"
   },
   {
    "duration": 43,
    "start_time": "2022-06-16T15:09:59.624Z"
   },
   {
    "duration": 3,
    "start_time": "2022-06-16T15:19:36.161Z"
   },
   {
    "duration": 5,
    "start_time": "2022-06-16T15:19:38.218Z"
   },
   {
    "duration": 3,
    "start_time": "2022-06-16T15:19:38.696Z"
   },
   {
    "duration": 6,
    "start_time": "2022-06-16T15:19:39.114Z"
   },
   {
    "duration": 4,
    "start_time": "2022-06-16T15:19:39.746Z"
   },
   {
    "duration": 3,
    "start_time": "2022-06-16T15:19:40.256Z"
   },
   {
    "duration": 5,
    "start_time": "2022-06-16T15:19:41.050Z"
   },
   {
    "duration": 3,
    "start_time": "2022-06-16T15:19:42.178Z"
   },
   {
    "duration": 4,
    "start_time": "2022-06-16T15:20:31.258Z"
   },
   {
    "duration": 7,
    "start_time": "2022-06-16T15:20:52.515Z"
   },
   {
    "duration": 4,
    "start_time": "2022-06-16T15:20:52.888Z"
   },
   {
    "duration": 7,
    "start_time": "2022-06-16T15:20:53.218Z"
   },
   {
    "duration": 4,
    "start_time": "2022-06-16T15:20:53.557Z"
   },
   {
    "duration": 4,
    "start_time": "2022-06-16T15:20:53.914Z"
   },
   {
    "duration": 12,
    "start_time": "2022-06-16T15:20:54.399Z"
   },
   {
    "duration": 4,
    "start_time": "2022-06-16T15:20:55.154Z"
   },
   {
    "duration": 4,
    "start_time": "2022-06-16T15:20:56.777Z"
   },
   {
    "duration": 4,
    "start_time": "2022-06-16T15:20:58.319Z"
   },
   {
    "duration": 5,
    "start_time": "2022-06-16T15:29:17.663Z"
   },
   {
    "duration": 5,
    "start_time": "2022-06-16T15:29:30.051Z"
   },
   {
    "duration": 33,
    "start_time": "2022-06-16T15:29:37.553Z"
   },
   {
    "duration": 247,
    "start_time": "2022-06-16T15:34:44.823Z"
   },
   {
    "duration": 160,
    "start_time": "2022-06-16T15:35:00.077Z"
   },
   {
    "duration": 156,
    "start_time": "2022-06-16T15:35:08.638Z"
   },
   {
    "duration": 155,
    "start_time": "2022-06-16T15:35:18.725Z"
   },
   {
    "duration": 383,
    "start_time": "2022-06-17T07:52:01.216Z"
   },
   {
    "duration": 243,
    "start_time": "2022-06-17T07:52:01.601Z"
   },
   {
    "duration": 328,
    "start_time": "2022-06-17T07:52:01.846Z"
   },
   {
    "duration": 302,
    "start_time": "2022-06-17T07:52:02.176Z"
   },
   {
    "duration": 56,
    "start_time": "2022-06-17T07:52:02.480Z"
   },
   {
    "duration": 60,
    "start_time": "2022-06-17T07:52:02.538Z"
   },
   {
    "duration": 15,
    "start_time": "2022-06-17T07:52:02.600Z"
   },
   {
    "duration": 32,
    "start_time": "2022-06-17T07:52:02.617Z"
   },
   {
    "duration": 19,
    "start_time": "2022-06-17T07:52:02.650Z"
   },
   {
    "duration": 42,
    "start_time": "2022-06-17T07:52:02.671Z"
   },
   {
    "duration": 8,
    "start_time": "2022-06-17T07:52:02.714Z"
   },
   {
    "duration": 42,
    "start_time": "2022-06-17T07:52:02.723Z"
   },
   {
    "duration": 11,
    "start_time": "2022-06-17T07:52:02.766Z"
   },
   {
    "duration": 29,
    "start_time": "2022-06-17T07:52:02.779Z"
   },
   {
    "duration": 11,
    "start_time": "2022-06-17T07:52:02.810Z"
   },
   {
    "duration": 12,
    "start_time": "2022-06-17T07:52:02.823Z"
   },
   {
    "duration": 40,
    "start_time": "2022-06-17T07:52:02.836Z"
   },
   {
    "duration": 23,
    "start_time": "2022-06-17T07:52:02.877Z"
   },
   {
    "duration": 19,
    "start_time": "2022-06-17T07:52:02.901Z"
   },
   {
    "duration": 37,
    "start_time": "2022-06-17T07:52:02.922Z"
   },
   {
    "duration": 25,
    "start_time": "2022-06-17T07:52:02.966Z"
   },
   {
    "duration": 17,
    "start_time": "2022-06-17T07:52:02.993Z"
   },
   {
    "duration": 3,
    "start_time": "2022-06-17T07:52:03.011Z"
   },
   {
    "duration": 8,
    "start_time": "2022-06-17T07:52:03.015Z"
   },
   {
    "duration": 40,
    "start_time": "2022-06-17T07:52:03.025Z"
   },
   {
    "duration": 10,
    "start_time": "2022-06-17T07:52:03.067Z"
   },
   {
    "duration": 30,
    "start_time": "2022-06-17T07:52:03.079Z"
   },
   {
    "duration": 10,
    "start_time": "2022-06-17T07:52:03.114Z"
   },
   {
    "duration": 19,
    "start_time": "2022-06-17T07:52:03.126Z"
   },
   {
    "duration": 19,
    "start_time": "2022-06-17T07:52:03.147Z"
   },
   {
    "duration": 25,
    "start_time": "2022-06-17T07:52:03.168Z"
   },
   {
    "duration": 10,
    "start_time": "2022-06-17T07:52:03.195Z"
   },
   {
    "duration": 14,
    "start_time": "2022-06-17T07:52:03.206Z"
   },
   {
    "duration": 11,
    "start_time": "2022-06-17T07:52:03.221Z"
   },
   {
    "duration": 9,
    "start_time": "2022-06-17T07:52:03.233Z"
   },
   {
    "duration": 34,
    "start_time": "2022-06-17T07:52:03.243Z"
   },
   {
    "duration": 11,
    "start_time": "2022-06-17T07:52:03.278Z"
   },
   {
    "duration": 3,
    "start_time": "2022-06-17T07:52:03.290Z"
   },
   {
    "duration": 11,
    "start_time": "2022-06-17T07:52:03.294Z"
   },
   {
    "duration": 9,
    "start_time": "2022-06-17T07:52:03.307Z"
   },
   {
    "duration": 4,
    "start_time": "2022-06-17T07:52:03.318Z"
   },
   {
    "duration": 6,
    "start_time": "2022-06-17T07:52:03.323Z"
   },
   {
    "duration": 6,
    "start_time": "2022-06-17T07:52:03.330Z"
   },
   {
    "duration": 10,
    "start_time": "2022-06-17T07:52:03.338Z"
   },
   {
    "duration": 24,
    "start_time": "2022-06-17T07:52:03.349Z"
   },
   {
    "duration": 4,
    "start_time": "2022-06-17T07:52:03.375Z"
   },
   {
    "duration": 6,
    "start_time": "2022-06-17T07:52:03.381Z"
   },
   {
    "duration": 5,
    "start_time": "2022-06-17T07:52:03.388Z"
   },
   {
    "duration": 26,
    "start_time": "2022-06-17T07:52:03.395Z"
   },
   {
    "duration": 23,
    "start_time": "2022-06-17T07:52:03.423Z"
   },
   {
    "duration": 30,
    "start_time": "2022-06-17T07:52:03.448Z"
   },
   {
    "duration": 4,
    "start_time": "2022-06-17T07:52:03.480Z"
   },
   {
    "duration": 36,
    "start_time": "2022-06-17T07:52:03.486Z"
   },
   {
    "duration": 11,
    "start_time": "2022-06-17T07:52:03.523Z"
   },
   {
    "duration": 507,
    "start_time": "2022-06-17T07:52:03.535Z"
   },
   {
    "duration": 27,
    "start_time": "2022-06-17T07:52:04.044Z"
   },
   {
    "duration": 11,
    "start_time": "2022-06-17T07:52:04.073Z"
   },
   {
    "duration": 161,
    "start_time": "2022-06-17T07:52:04.086Z"
   },
   {
    "duration": 16,
    "start_time": "2022-06-17T07:52:04.249Z"
   },
   {
    "duration": 10,
    "start_time": "2022-06-17T07:52:04.267Z"
   },
   {
    "duration": 10,
    "start_time": "2022-06-17T07:52:04.279Z"
   },
   {
    "duration": 140,
    "start_time": "2022-06-17T07:52:04.291Z"
   },
   {
    "duration": 5,
    "start_time": "2022-06-17T07:52:04.433Z"
   },
   {
    "duration": 18,
    "start_time": "2022-06-17T07:52:04.440Z"
   },
   {
    "duration": 17,
    "start_time": "2022-06-17T07:52:04.460Z"
   },
   {
    "duration": 9,
    "start_time": "2022-06-17T07:52:04.479Z"
   },
   {
    "duration": 11,
    "start_time": "2022-06-17T07:52:04.490Z"
   },
   {
    "duration": 15,
    "start_time": "2022-06-17T07:52:04.502Z"
   },
   {
    "duration": 155,
    "start_time": "2022-06-17T07:52:04.519Z"
   },
   {
    "duration": 5,
    "start_time": "2022-06-17T07:52:04.676Z"
   },
   {
    "duration": 8,
    "start_time": "2022-06-17T07:52:04.683Z"
   },
   {
    "duration": 8,
    "start_time": "2022-06-17T07:52:04.693Z"
   },
   {
    "duration": 13,
    "start_time": "2022-06-17T07:52:04.702Z"
   },
   {
    "duration": 5,
    "start_time": "2022-06-17T07:52:04.717Z"
   },
   {
    "duration": 11,
    "start_time": "2022-06-17T07:52:04.724Z"
   },
   {
    "duration": 13,
    "start_time": "2022-06-17T07:52:04.737Z"
   },
   {
    "duration": 213,
    "start_time": "2022-06-17T07:52:04.752Z"
   },
   {
    "duration": 7,
    "start_time": "2022-06-17T07:52:04.967Z"
   },
   {
    "duration": 7,
    "start_time": "2022-06-17T07:52:04.975Z"
   },
   {
    "duration": 7,
    "start_time": "2022-06-17T07:52:04.984Z"
   },
   {
    "duration": 133,
    "start_time": "2022-06-17T07:52:04.992Z"
   },
   {
    "duration": 5,
    "start_time": "2022-06-17T07:52:05.130Z"
   },
   {
    "duration": 7,
    "start_time": "2022-06-17T07:52:05.137Z"
   },
   {
    "duration": 8,
    "start_time": "2022-06-17T07:52:05.155Z"
   },
   {
    "duration": 11,
    "start_time": "2022-06-17T07:52:05.164Z"
   },
   {
    "duration": 28,
    "start_time": "2022-06-17T07:52:05.177Z"
   },
   {
    "duration": 24,
    "start_time": "2022-06-17T07:52:05.207Z"
   },
   {
    "duration": 173,
    "start_time": "2022-06-17T07:52:05.234Z"
   },
   {
    "duration": 4,
    "start_time": "2022-06-17T07:52:05.409Z"
   },
   {
    "duration": 9,
    "start_time": "2022-06-17T07:52:05.415Z"
   },
   {
    "duration": 8,
    "start_time": "2022-06-17T07:52:05.426Z"
   },
   {
    "duration": 6,
    "start_time": "2022-06-17T07:52:05.435Z"
   },
   {
    "duration": 22,
    "start_time": "2022-06-17T07:52:05.442Z"
   },
   {
    "duration": 11,
    "start_time": "2022-06-17T07:52:05.466Z"
   },
   {
    "duration": 12,
    "start_time": "2022-06-17T07:52:05.478Z"
   },
   {
    "duration": 172,
    "start_time": "2022-06-17T07:52:05.491Z"
   },
   {
    "duration": 7,
    "start_time": "2022-06-17T07:52:05.665Z"
   },
   {
    "duration": 6,
    "start_time": "2022-06-17T07:52:05.673Z"
   },
   {
    "duration": 8,
    "start_time": "2022-06-17T07:52:05.681Z"
   },
   {
    "duration": 145,
    "start_time": "2022-06-17T07:52:05.691Z"
   },
   {
    "duration": 5,
    "start_time": "2022-06-17T07:52:05.837Z"
   },
   {
    "duration": 6,
    "start_time": "2022-06-17T07:52:05.853Z"
   },
   {
    "duration": 13,
    "start_time": "2022-06-17T07:52:05.860Z"
   },
   {
    "duration": 6,
    "start_time": "2022-06-17T07:52:05.874Z"
   },
   {
    "duration": 8,
    "start_time": "2022-06-17T07:52:05.882Z"
   },
   {
    "duration": 11,
    "start_time": "2022-06-17T07:52:05.892Z"
   },
   {
    "duration": 162,
    "start_time": "2022-06-17T07:52:05.905Z"
   },
   {
    "duration": 5,
    "start_time": "2022-06-17T07:52:06.069Z"
   },
   {
    "duration": 5,
    "start_time": "2022-06-17T07:52:06.076Z"
   },
   {
    "duration": 6,
    "start_time": "2022-06-17T07:52:06.082Z"
   },
   {
    "duration": 7,
    "start_time": "2022-06-17T07:52:06.090Z"
   },
   {
    "duration": 9,
    "start_time": "2022-06-17T07:52:06.098Z"
   },
   {
    "duration": 10,
    "start_time": "2022-06-17T07:52:06.109Z"
   },
   {
    "duration": 501,
    "start_time": "2022-06-17T07:52:06.122Z"
   },
   {
    "duration": 3,
    "start_time": "2022-06-17T07:52:06.624Z"
   },
   {
    "duration": 9,
    "start_time": "2022-06-17T07:52:06.629Z"
   },
   {
    "duration": 8,
    "start_time": "2022-06-17T07:52:06.640Z"
   },
   {
    "duration": 9,
    "start_time": "2022-06-17T07:52:06.665Z"
   },
   {
    "duration": 8,
    "start_time": "2022-06-17T07:52:06.676Z"
   },
   {
    "duration": 6,
    "start_time": "2022-06-17T07:52:06.685Z"
   },
   {
    "duration": 5,
    "start_time": "2022-06-17T07:52:06.693Z"
   },
   {
    "duration": 5,
    "start_time": "2022-06-17T07:52:06.700Z"
   },
   {
    "duration": 4,
    "start_time": "2022-06-17T07:52:06.707Z"
   },
   {
    "duration": 8,
    "start_time": "2022-06-17T07:52:06.713Z"
   },
   {
    "duration": 7,
    "start_time": "2022-06-17T07:52:06.723Z"
   },
   {
    "duration": 10,
    "start_time": "2022-06-17T07:52:06.732Z"
   },
   {
    "duration": 3,
    "start_time": "2022-06-17T07:52:06.743Z"
   },
   {
    "duration": 22,
    "start_time": "2022-06-17T07:52:06.747Z"
   },
   {
    "duration": 6,
    "start_time": "2022-06-17T07:52:06.770Z"
   },
   {
    "duration": 13,
    "start_time": "2022-06-17T07:52:06.777Z"
   },
   {
    "duration": 6,
    "start_time": "2022-06-17T07:52:06.792Z"
   },
   {
    "duration": 16,
    "start_time": "2022-06-17T07:52:06.799Z"
   },
   {
    "duration": 103,
    "start_time": "2022-06-17T07:54:43.052Z"
   },
   {
    "duration": 13,
    "start_time": "2022-06-17T07:54:52.810Z"
   },
   {
    "duration": 30,
    "start_time": "2022-06-17T07:55:07.966Z"
   },
   {
    "duration": 36,
    "start_time": "2022-06-17T07:56:47.438Z"
   },
   {
    "duration": 6,
    "start_time": "2022-06-17T07:56:52.992Z"
   },
   {
    "duration": 7,
    "start_time": "2022-06-17T07:57:18.723Z"
   },
   {
    "duration": 6,
    "start_time": "2022-06-17T07:57:23.973Z"
   },
   {
    "duration": 8,
    "start_time": "2022-06-17T07:57:35.679Z"
   },
   {
    "duration": 118,
    "start_time": "2022-06-17T07:57:39.577Z"
   },
   {
    "duration": 9,
    "start_time": "2022-06-17T07:57:43.677Z"
   },
   {
    "duration": 38,
    "start_time": "2022-06-17T08:00:14.796Z"
   },
   {
    "duration": 30,
    "start_time": "2022-06-17T08:00:37.652Z"
   },
   {
    "duration": 5,
    "start_time": "2022-06-17T08:00:46.804Z"
   },
   {
    "duration": 36,
    "start_time": "2022-06-17T12:55:08.410Z"
   },
   {
    "duration": 38,
    "start_time": "2022-06-17T12:55:14.543Z"
   },
   {
    "duration": 384,
    "start_time": "2022-06-17T12:55:29.613Z"
   },
   {
    "duration": 953,
    "start_time": "2022-06-17T12:55:30.000Z"
   },
   {
    "duration": 440,
    "start_time": "2022-06-17T12:55:30.955Z"
   },
   {
    "duration": 146,
    "start_time": "2022-06-17T12:55:31.396Z"
   },
   {
    "duration": 51,
    "start_time": "2022-06-17T12:55:31.545Z"
   },
   {
    "duration": 61,
    "start_time": "2022-06-17T12:55:31.598Z"
   },
   {
    "duration": 14,
    "start_time": "2022-06-17T12:55:31.660Z"
   },
   {
    "duration": 22,
    "start_time": "2022-06-17T12:55:31.675Z"
   },
   {
    "duration": 8,
    "start_time": "2022-06-17T12:55:31.698Z"
   },
   {
    "duration": 22,
    "start_time": "2022-06-17T12:55:31.707Z"
   },
   {
    "duration": 7,
    "start_time": "2022-06-17T12:55:31.730Z"
   },
   {
    "duration": 41,
    "start_time": "2022-06-17T12:55:31.738Z"
   },
   {
    "duration": 7,
    "start_time": "2022-06-17T12:55:31.780Z"
   },
   {
    "duration": 14,
    "start_time": "2022-06-17T12:55:31.793Z"
   },
   {
    "duration": 17,
    "start_time": "2022-06-17T12:55:31.808Z"
   },
   {
    "duration": 26,
    "start_time": "2022-06-17T12:55:31.827Z"
   },
   {
    "duration": 67,
    "start_time": "2022-06-17T12:55:31.855Z"
   },
   {
    "duration": 25,
    "start_time": "2022-06-17T12:55:31.925Z"
   },
   {
    "duration": 35,
    "start_time": "2022-06-17T12:55:31.952Z"
   },
   {
    "duration": 31,
    "start_time": "2022-06-17T12:55:31.989Z"
   },
   {
    "duration": 25,
    "start_time": "2022-06-17T12:55:32.022Z"
   },
   {
    "duration": 24,
    "start_time": "2022-06-17T12:55:32.049Z"
   },
   {
    "duration": 3,
    "start_time": "2022-06-17T12:55:32.074Z"
   },
   {
    "duration": 38,
    "start_time": "2022-06-17T12:55:32.078Z"
   },
   {
    "duration": 21,
    "start_time": "2022-06-17T12:55:32.117Z"
   },
   {
    "duration": 11,
    "start_time": "2022-06-17T12:55:32.140Z"
   },
   {
    "duration": 32,
    "start_time": "2022-06-17T12:55:32.152Z"
   },
   {
    "duration": 10,
    "start_time": "2022-06-17T12:55:32.186Z"
   },
   {
    "duration": 21,
    "start_time": "2022-06-17T12:55:32.197Z"
   },
   {
    "duration": 9,
    "start_time": "2022-06-17T12:55:32.220Z"
   },
   {
    "duration": 14,
    "start_time": "2022-06-17T12:55:32.230Z"
   },
   {
    "duration": 32,
    "start_time": "2022-06-17T12:55:32.246Z"
   },
   {
    "duration": 4,
    "start_time": "2022-06-17T12:55:32.279Z"
   },
   {
    "duration": 18,
    "start_time": "2022-06-17T12:55:32.284Z"
   },
   {
    "duration": 8,
    "start_time": "2022-06-17T12:55:32.304Z"
   },
   {
    "duration": 13,
    "start_time": "2022-06-17T12:55:32.314Z"
   },
   {
    "duration": 11,
    "start_time": "2022-06-17T12:55:32.328Z"
   },
   {
    "duration": 3,
    "start_time": "2022-06-17T12:55:32.341Z"
   },
   {
    "duration": 16,
    "start_time": "2022-06-17T12:55:32.346Z"
   },
   {
    "duration": 18,
    "start_time": "2022-06-17T12:55:32.364Z"
   },
   {
    "duration": 6,
    "start_time": "2022-06-17T12:55:32.390Z"
   },
   {
    "duration": 12,
    "start_time": "2022-06-17T12:55:32.397Z"
   },
   {
    "duration": 10,
    "start_time": "2022-06-17T12:55:32.411Z"
   },
   {
    "duration": 15,
    "start_time": "2022-06-17T12:55:32.423Z"
   },
   {
    "duration": 10,
    "start_time": "2022-06-17T12:55:32.439Z"
   },
   {
    "duration": 6,
    "start_time": "2022-06-17T12:55:32.451Z"
   },
   {
    "duration": 9,
    "start_time": "2022-06-17T12:55:32.458Z"
   },
   {
    "duration": 10,
    "start_time": "2022-06-17T12:55:32.468Z"
   },
   {
    "duration": 5,
    "start_time": "2022-06-17T12:55:32.479Z"
   },
   {
    "duration": 78,
    "start_time": "2022-06-17T12:55:32.485Z"
   },
   {
    "duration": 0,
    "start_time": "2022-06-17T12:55:32.580Z"
   },
   {
    "duration": 0,
    "start_time": "2022-06-17T12:55:32.582Z"
   },
   {
    "duration": 0,
    "start_time": "2022-06-17T12:55:32.583Z"
   },
   {
    "duration": 0,
    "start_time": "2022-06-17T12:55:32.585Z"
   },
   {
    "duration": 0,
    "start_time": "2022-06-17T12:55:32.586Z"
   },
   {
    "duration": 0,
    "start_time": "2022-06-17T12:55:32.587Z"
   },
   {
    "duration": 0,
    "start_time": "2022-06-17T12:55:32.589Z"
   },
   {
    "duration": 0,
    "start_time": "2022-06-17T12:55:32.590Z"
   },
   {
    "duration": 0,
    "start_time": "2022-06-17T12:55:32.592Z"
   },
   {
    "duration": 0,
    "start_time": "2022-06-17T12:55:32.593Z"
   },
   {
    "duration": 0,
    "start_time": "2022-06-17T12:55:32.595Z"
   },
   {
    "duration": 0,
    "start_time": "2022-06-17T12:55:32.596Z"
   },
   {
    "duration": 0,
    "start_time": "2022-06-17T12:55:32.597Z"
   },
   {
    "duration": 0,
    "start_time": "2022-06-17T12:55:32.599Z"
   },
   {
    "duration": 0,
    "start_time": "2022-06-17T12:55:32.600Z"
   },
   {
    "duration": 0,
    "start_time": "2022-06-17T12:55:32.601Z"
   },
   {
    "duration": 0,
    "start_time": "2022-06-17T12:55:32.602Z"
   },
   {
    "duration": 0,
    "start_time": "2022-06-17T12:55:32.603Z"
   },
   {
    "duration": 1,
    "start_time": "2022-06-17T12:55:32.604Z"
   },
   {
    "duration": 0,
    "start_time": "2022-06-17T12:55:32.606Z"
   },
   {
    "duration": 0,
    "start_time": "2022-06-17T12:55:32.607Z"
   },
   {
    "duration": 0,
    "start_time": "2022-06-17T12:55:32.608Z"
   },
   {
    "duration": 0,
    "start_time": "2022-06-17T12:55:32.609Z"
   },
   {
    "duration": 0,
    "start_time": "2022-06-17T12:55:32.610Z"
   },
   {
    "duration": 0,
    "start_time": "2022-06-17T12:55:32.611Z"
   },
   {
    "duration": 0,
    "start_time": "2022-06-17T12:55:32.612Z"
   },
   {
    "duration": 0,
    "start_time": "2022-06-17T12:55:32.613Z"
   },
   {
    "duration": 0,
    "start_time": "2022-06-17T12:55:32.614Z"
   },
   {
    "duration": 0,
    "start_time": "2022-06-17T12:55:32.616Z"
   },
   {
    "duration": 0,
    "start_time": "2022-06-17T12:55:32.617Z"
   },
   {
    "duration": 0,
    "start_time": "2022-06-17T12:55:32.618Z"
   },
   {
    "duration": 0,
    "start_time": "2022-06-17T12:55:32.619Z"
   },
   {
    "duration": 0,
    "start_time": "2022-06-17T12:55:32.619Z"
   },
   {
    "duration": 0,
    "start_time": "2022-06-17T12:55:32.620Z"
   },
   {
    "duration": 0,
    "start_time": "2022-06-17T12:55:32.621Z"
   },
   {
    "duration": 0,
    "start_time": "2022-06-17T12:55:32.621Z"
   },
   {
    "duration": 0,
    "start_time": "2022-06-17T12:55:32.622Z"
   },
   {
    "duration": 0,
    "start_time": "2022-06-17T12:55:32.678Z"
   },
   {
    "duration": 0,
    "start_time": "2022-06-17T12:55:32.679Z"
   },
   {
    "duration": 0,
    "start_time": "2022-06-17T12:55:32.681Z"
   },
   {
    "duration": 0,
    "start_time": "2022-06-17T12:55:32.682Z"
   },
   {
    "duration": 0,
    "start_time": "2022-06-17T12:55:32.683Z"
   },
   {
    "duration": 0,
    "start_time": "2022-06-17T12:55:32.685Z"
   },
   {
    "duration": 0,
    "start_time": "2022-06-17T12:55:32.686Z"
   },
   {
    "duration": 0,
    "start_time": "2022-06-17T12:55:32.688Z"
   },
   {
    "duration": 0,
    "start_time": "2022-06-17T12:55:32.689Z"
   },
   {
    "duration": 0,
    "start_time": "2022-06-17T12:55:32.690Z"
   },
   {
    "duration": 0,
    "start_time": "2022-06-17T12:55:32.692Z"
   },
   {
    "duration": 0,
    "start_time": "2022-06-17T12:55:32.693Z"
   },
   {
    "duration": 0,
    "start_time": "2022-06-17T12:55:32.694Z"
   },
   {
    "duration": 0,
    "start_time": "2022-06-17T12:55:32.695Z"
   },
   {
    "duration": 0,
    "start_time": "2022-06-17T12:55:32.696Z"
   },
   {
    "duration": 0,
    "start_time": "2022-06-17T12:55:32.697Z"
   },
   {
    "duration": 0,
    "start_time": "2022-06-17T12:55:32.698Z"
   },
   {
    "duration": 0,
    "start_time": "2022-06-17T12:55:32.700Z"
   },
   {
    "duration": 0,
    "start_time": "2022-06-17T12:55:32.701Z"
   },
   {
    "duration": 0,
    "start_time": "2022-06-17T12:55:32.702Z"
   },
   {
    "duration": 0,
    "start_time": "2022-06-17T12:55:32.704Z"
   },
   {
    "duration": 0,
    "start_time": "2022-06-17T12:55:32.705Z"
   },
   {
    "duration": 0,
    "start_time": "2022-06-17T12:55:32.706Z"
   },
   {
    "duration": 0,
    "start_time": "2022-06-17T12:55:32.707Z"
   },
   {
    "duration": 0,
    "start_time": "2022-06-17T12:55:32.708Z"
   },
   {
    "duration": 0,
    "start_time": "2022-06-17T12:55:32.709Z"
   },
   {
    "duration": 0,
    "start_time": "2022-06-17T12:55:32.709Z"
   },
   {
    "duration": 0,
    "start_time": "2022-06-17T12:55:32.710Z"
   },
   {
    "duration": 0,
    "start_time": "2022-06-17T12:55:32.711Z"
   },
   {
    "duration": 0,
    "start_time": "2022-06-17T12:55:32.712Z"
   },
   {
    "duration": 0,
    "start_time": "2022-06-17T12:55:32.713Z"
   },
   {
    "duration": 1,
    "start_time": "2022-06-17T12:55:32.714Z"
   },
   {
    "duration": 0,
    "start_time": "2022-06-17T12:55:32.716Z"
   },
   {
    "duration": 0,
    "start_time": "2022-06-17T12:55:32.778Z"
   },
   {
    "duration": 0,
    "start_time": "2022-06-17T12:55:32.780Z"
   },
   {
    "duration": 0,
    "start_time": "2022-06-17T12:55:32.781Z"
   },
   {
    "duration": 0,
    "start_time": "2022-06-17T12:55:32.782Z"
   },
   {
    "duration": 0,
    "start_time": "2022-06-17T12:55:32.783Z"
   },
   {
    "duration": 0,
    "start_time": "2022-06-17T12:55:32.784Z"
   },
   {
    "duration": 0,
    "start_time": "2022-06-17T12:55:32.785Z"
   },
   {
    "duration": 0,
    "start_time": "2022-06-17T12:55:32.786Z"
   },
   {
    "duration": 0,
    "start_time": "2022-06-17T12:55:32.787Z"
   },
   {
    "duration": 0,
    "start_time": "2022-06-17T12:55:32.788Z"
   },
   {
    "duration": 13,
    "start_time": "2022-06-17T12:56:18.967Z"
   },
   {
    "duration": 22,
    "start_time": "2022-06-17T12:56:30.814Z"
   },
   {
    "duration": 7,
    "start_time": "2022-06-17T12:57:37.993Z"
   },
   {
    "duration": 23,
    "start_time": "2022-06-17T12:57:40.349Z"
   },
   {
    "duration": 420,
    "start_time": "2022-06-17T12:59:53.490Z"
   },
   {
    "duration": 150,
    "start_time": "2022-06-17T12:59:53.912Z"
   },
   {
    "duration": 122,
    "start_time": "2022-06-17T12:59:54.064Z"
   },
   {
    "duration": 80,
    "start_time": "2022-06-17T12:59:54.188Z"
   },
   {
    "duration": 16,
    "start_time": "2022-06-17T12:59:54.270Z"
   },
   {
    "duration": 28,
    "start_time": "2022-06-17T12:59:54.288Z"
   },
   {
    "duration": 14,
    "start_time": "2022-06-17T12:59:54.317Z"
   },
   {
    "duration": 29,
    "start_time": "2022-06-17T12:59:54.332Z"
   },
   {
    "duration": 11,
    "start_time": "2022-06-17T12:59:54.362Z"
   },
   {
    "duration": 26,
    "start_time": "2022-06-17T12:59:54.375Z"
   },
   {
    "duration": 7,
    "start_time": "2022-06-17T12:59:54.403Z"
   },
   {
    "duration": 26,
    "start_time": "2022-06-17T12:59:54.411Z"
   },
   {
    "duration": 14,
    "start_time": "2022-06-17T12:59:54.439Z"
   },
   {
    "duration": 22,
    "start_time": "2022-06-17T12:59:54.455Z"
   },
   {
    "duration": 15,
    "start_time": "2022-06-17T12:59:54.479Z"
   },
   {
    "duration": 16,
    "start_time": "2022-06-17T12:59:54.496Z"
   },
   {
    "duration": 32,
    "start_time": "2022-06-17T12:59:54.513Z"
   },
   {
    "duration": 39,
    "start_time": "2022-06-17T12:59:54.546Z"
   },
   {
    "duration": 18,
    "start_time": "2022-06-17T12:59:54.587Z"
   },
   {
    "duration": 14,
    "start_time": "2022-06-17T12:59:54.607Z"
   },
   {
    "duration": 22,
    "start_time": "2022-06-17T12:59:54.622Z"
   },
   {
    "duration": 38,
    "start_time": "2022-06-17T12:59:54.646Z"
   },
   {
    "duration": 2,
    "start_time": "2022-06-17T12:59:54.686Z"
   },
   {
    "duration": 17,
    "start_time": "2022-06-17T12:59:54.689Z"
   },
   {
    "duration": 20,
    "start_time": "2022-06-17T12:59:54.708Z"
   },
   {
    "duration": 12,
    "start_time": "2022-06-17T12:59:54.729Z"
   },
   {
    "duration": 23,
    "start_time": "2022-06-17T12:59:54.742Z"
   },
   {
    "duration": 8,
    "start_time": "2022-06-17T12:59:54.781Z"
   },
   {
    "duration": 16,
    "start_time": "2022-06-17T12:59:54.791Z"
   },
   {
    "duration": 9,
    "start_time": "2022-06-17T12:59:54.808Z"
   },
   {
    "duration": 19,
    "start_time": "2022-06-17T12:59:54.819Z"
   },
   {
    "duration": 10,
    "start_time": "2022-06-17T12:59:54.839Z"
   },
   {
    "duration": 6,
    "start_time": "2022-06-17T12:59:54.850Z"
   },
   {
    "duration": 24,
    "start_time": "2022-06-17T12:59:54.857Z"
   },
   {
    "duration": 6,
    "start_time": "2022-06-17T12:59:54.882Z"
   },
   {
    "duration": 11,
    "start_time": "2022-06-17T12:59:54.889Z"
   },
   {
    "duration": 12,
    "start_time": "2022-06-17T12:59:54.901Z"
   },
   {
    "duration": 7,
    "start_time": "2022-06-17T12:59:54.915Z"
   },
   {
    "duration": 9,
    "start_time": "2022-06-17T12:59:54.924Z"
   },
   {
    "duration": 8,
    "start_time": "2022-06-17T12:59:54.934Z"
   },
   {
    "duration": 10,
    "start_time": "2022-06-17T12:59:54.943Z"
   },
   {
    "duration": 3,
    "start_time": "2022-06-17T12:59:54.978Z"
   },
   {
    "duration": 6,
    "start_time": "2022-06-17T12:59:54.983Z"
   },
   {
    "duration": 11,
    "start_time": "2022-06-17T12:59:54.990Z"
   },
   {
    "duration": 11,
    "start_time": "2022-06-17T12:59:55.002Z"
   },
   {
    "duration": 6,
    "start_time": "2022-06-17T12:59:55.014Z"
   },
   {
    "duration": 7,
    "start_time": "2022-06-17T12:59:55.021Z"
   },
   {
    "duration": 14,
    "start_time": "2022-06-17T12:59:55.029Z"
   },
   {
    "duration": 7,
    "start_time": "2022-06-17T12:59:55.045Z"
   },
   {
    "duration": 12,
    "start_time": "2022-06-17T12:59:55.054Z"
   },
   {
    "duration": 6,
    "start_time": "2022-06-17T12:59:55.078Z"
   },
   {
    "duration": 42,
    "start_time": "2022-06-17T12:59:55.086Z"
   },
   {
    "duration": 6,
    "start_time": "2022-06-17T12:59:55.130Z"
   },
   {
    "duration": 44,
    "start_time": "2022-06-17T12:59:55.138Z"
   },
   {
    "duration": 17,
    "start_time": "2022-06-17T12:59:55.183Z"
   },
   {
    "duration": 488,
    "start_time": "2022-06-17T12:59:55.202Z"
   },
   {
    "duration": 13,
    "start_time": "2022-06-17T12:59:55.692Z"
   },
   {
    "duration": 11,
    "start_time": "2022-06-17T12:59:55.706Z"
   },
   {
    "duration": 169,
    "start_time": "2022-06-17T12:59:55.718Z"
   },
   {
    "duration": 9,
    "start_time": "2022-06-17T12:59:55.889Z"
   },
   {
    "duration": 12,
    "start_time": "2022-06-17T12:59:55.900Z"
   },
   {
    "duration": 11,
    "start_time": "2022-06-17T12:59:55.915Z"
   },
   {
    "duration": 150,
    "start_time": "2022-06-17T12:59:55.928Z"
   },
   {
    "duration": 5,
    "start_time": "2022-06-17T12:59:56.079Z"
   },
   {
    "duration": 6,
    "start_time": "2022-06-17T12:59:56.085Z"
   },
   {
    "duration": 6,
    "start_time": "2022-06-17T12:59:56.092Z"
   },
   {
    "duration": 6,
    "start_time": "2022-06-17T12:59:56.100Z"
   },
   {
    "duration": 6,
    "start_time": "2022-06-17T12:59:56.108Z"
   },
   {
    "duration": 11,
    "start_time": "2022-06-17T12:59:56.116Z"
   },
   {
    "duration": 150,
    "start_time": "2022-06-17T12:59:56.128Z"
   },
   {
    "duration": 5,
    "start_time": "2022-06-17T12:59:56.279Z"
   },
   {
    "duration": 7,
    "start_time": "2022-06-17T12:59:56.285Z"
   },
   {
    "duration": 9,
    "start_time": "2022-06-17T12:59:56.293Z"
   },
   {
    "duration": 8,
    "start_time": "2022-06-17T12:59:56.303Z"
   },
   {
    "duration": 4,
    "start_time": "2022-06-17T12:59:56.312Z"
   },
   {
    "duration": 9,
    "start_time": "2022-06-17T12:59:56.318Z"
   },
   {
    "duration": 10,
    "start_time": "2022-06-17T12:59:56.329Z"
   },
   {
    "duration": 218,
    "start_time": "2022-06-17T12:59:56.341Z"
   },
   {
    "duration": 7,
    "start_time": "2022-06-17T12:59:56.561Z"
   },
   {
    "duration": 6,
    "start_time": "2022-06-17T12:59:56.577Z"
   },
   {
    "duration": 9,
    "start_time": "2022-06-17T12:59:56.585Z"
   },
   {
    "duration": 124,
    "start_time": "2022-06-17T12:59:56.599Z"
   },
   {
    "duration": 4,
    "start_time": "2022-06-17T12:59:56.725Z"
   },
   {
    "duration": 15,
    "start_time": "2022-06-17T12:59:56.730Z"
   },
   {
    "duration": 11,
    "start_time": "2022-06-17T12:59:56.746Z"
   },
   {
    "duration": 16,
    "start_time": "2022-06-17T12:59:56.759Z"
   },
   {
    "duration": 22,
    "start_time": "2022-06-17T12:59:56.777Z"
   },
   {
    "duration": 21,
    "start_time": "2022-06-17T12:59:56.801Z"
   },
   {
    "duration": 141,
    "start_time": "2022-06-17T12:59:56.823Z"
   },
   {
    "duration": 4,
    "start_time": "2022-06-17T12:59:56.966Z"
   },
   {
    "duration": 11,
    "start_time": "2022-06-17T12:59:56.971Z"
   },
   {
    "duration": 5,
    "start_time": "2022-06-17T12:59:56.983Z"
   },
   {
    "duration": 15,
    "start_time": "2022-06-17T12:59:56.989Z"
   },
   {
    "duration": 25,
    "start_time": "2022-06-17T12:59:57.006Z"
   },
   {
    "duration": 13,
    "start_time": "2022-06-17T12:59:57.032Z"
   },
   {
    "duration": 13,
    "start_time": "2022-06-17T12:59:57.047Z"
   },
   {
    "duration": 135,
    "start_time": "2022-06-17T12:59:57.062Z"
   },
   {
    "duration": 7,
    "start_time": "2022-06-17T12:59:57.199Z"
   },
   {
    "duration": 12,
    "start_time": "2022-06-17T12:59:57.207Z"
   },
   {
    "duration": 16,
    "start_time": "2022-06-17T12:59:57.221Z"
   },
   {
    "duration": 121,
    "start_time": "2022-06-17T12:59:57.238Z"
   },
   {
    "duration": 5,
    "start_time": "2022-06-17T12:59:57.360Z"
   },
   {
    "duration": 15,
    "start_time": "2022-06-17T12:59:57.366Z"
   },
   {
    "duration": 11,
    "start_time": "2022-06-17T12:59:57.383Z"
   },
   {
    "duration": 25,
    "start_time": "2022-06-17T12:59:57.396Z"
   },
   {
    "duration": 5,
    "start_time": "2022-06-17T12:59:57.423Z"
   },
   {
    "duration": 19,
    "start_time": "2022-06-17T12:59:57.429Z"
   },
   {
    "duration": 134,
    "start_time": "2022-06-17T12:59:57.449Z"
   },
   {
    "duration": 4,
    "start_time": "2022-06-17T12:59:57.585Z"
   },
   {
    "duration": 18,
    "start_time": "2022-06-17T12:59:57.590Z"
   },
   {
    "duration": 17,
    "start_time": "2022-06-17T12:59:57.610Z"
   },
   {
    "duration": 10,
    "start_time": "2022-06-17T12:59:57.629Z"
   },
   {
    "duration": 9,
    "start_time": "2022-06-17T12:59:57.641Z"
   },
   {
    "duration": 13,
    "start_time": "2022-06-17T12:59:57.652Z"
   },
   {
    "duration": 522,
    "start_time": "2022-06-17T12:59:57.666Z"
   },
   {
    "duration": 3,
    "start_time": "2022-06-17T12:59:58.190Z"
   },
   {
    "duration": 17,
    "start_time": "2022-06-17T12:59:58.194Z"
   },
   {
    "duration": 6,
    "start_time": "2022-06-17T12:59:58.213Z"
   },
   {
    "duration": 13,
    "start_time": "2022-06-17T12:59:58.220Z"
   },
   {
    "duration": 25,
    "start_time": "2022-06-17T12:59:58.235Z"
   },
   {
    "duration": 12,
    "start_time": "2022-06-17T12:59:58.262Z"
   },
   {
    "duration": 22,
    "start_time": "2022-06-17T12:59:58.276Z"
   },
   {
    "duration": 14,
    "start_time": "2022-06-17T12:59:58.299Z"
   },
   {
    "duration": 7,
    "start_time": "2022-06-17T12:59:58.314Z"
   },
   {
    "duration": 21,
    "start_time": "2022-06-17T12:59:58.322Z"
   },
   {
    "duration": 6,
    "start_time": "2022-06-17T12:59:58.344Z"
   },
   {
    "duration": 8,
    "start_time": "2022-06-17T12:59:58.351Z"
   },
   {
    "duration": 4,
    "start_time": "2022-06-17T12:59:58.360Z"
   },
   {
    "duration": 6,
    "start_time": "2022-06-17T12:59:58.366Z"
   },
   {
    "duration": 10,
    "start_time": "2022-06-17T12:59:58.373Z"
   },
   {
    "duration": 10,
    "start_time": "2022-06-17T12:59:58.385Z"
   },
   {
    "duration": 10,
    "start_time": "2022-06-17T12:59:58.396Z"
   },
   {
    "duration": 10,
    "start_time": "2022-06-17T12:59:58.407Z"
   },
   {
    "duration": 4,
    "start_time": "2022-06-17T13:03:08.066Z"
   },
   {
    "duration": 576,
    "start_time": "2022-06-17T13:07:28.202Z"
   },
   {
    "duration": 421,
    "start_time": "2022-06-17T13:07:34.773Z"
   },
   {
    "duration": 142,
    "start_time": "2022-06-17T13:07:35.196Z"
   },
   {
    "duration": 117,
    "start_time": "2022-06-17T13:07:35.340Z"
   },
   {
    "duration": 73,
    "start_time": "2022-06-17T13:07:35.459Z"
   },
   {
    "duration": 16,
    "start_time": "2022-06-17T13:07:35.534Z"
   },
   {
    "duration": 27,
    "start_time": "2022-06-17T13:07:35.551Z"
   },
   {
    "duration": 12,
    "start_time": "2022-06-17T13:07:35.580Z"
   },
   {
    "duration": 24,
    "start_time": "2022-06-17T13:07:35.594Z"
   },
   {
    "duration": 6,
    "start_time": "2022-06-17T13:07:35.620Z"
   },
   {
    "duration": 19,
    "start_time": "2022-06-17T13:07:35.628Z"
   },
   {
    "duration": 6,
    "start_time": "2022-06-17T13:07:35.648Z"
   },
   {
    "duration": 38,
    "start_time": "2022-06-17T13:07:35.655Z"
   },
   {
    "duration": 6,
    "start_time": "2022-06-17T13:07:35.695Z"
   },
   {
    "duration": 11,
    "start_time": "2022-06-17T13:07:35.702Z"
   },
   {
    "duration": 10,
    "start_time": "2022-06-17T13:07:35.714Z"
   },
   {
    "duration": 13,
    "start_time": "2022-06-17T13:07:35.725Z"
   },
   {
    "duration": 56,
    "start_time": "2022-06-17T13:07:35.740Z"
   },
   {
    "duration": 20,
    "start_time": "2022-06-17T13:07:35.797Z"
   },
   {
    "duration": 18,
    "start_time": "2022-06-17T13:07:35.818Z"
   },
   {
    "duration": 13,
    "start_time": "2022-06-17T13:07:35.837Z"
   },
   {
    "duration": 40,
    "start_time": "2022-06-17T13:07:35.851Z"
   },
   {
    "duration": 16,
    "start_time": "2022-06-17T13:07:35.892Z"
   },
   {
    "duration": 2,
    "start_time": "2022-06-17T13:07:35.909Z"
   },
   {
    "duration": 11,
    "start_time": "2022-06-17T13:07:35.912Z"
   },
   {
    "duration": 17,
    "start_time": "2022-06-17T13:07:35.924Z"
   },
   {
    "duration": 9,
    "start_time": "2022-06-17T13:07:35.942Z"
   },
   {
    "duration": 43,
    "start_time": "2022-06-17T13:07:35.953Z"
   },
   {
    "duration": 8,
    "start_time": "2022-06-17T13:07:36.000Z"
   },
   {
    "duration": 18,
    "start_time": "2022-06-17T13:07:36.009Z"
   },
   {
    "duration": 8,
    "start_time": "2022-06-17T13:07:36.028Z"
   },
   {
    "duration": 18,
    "start_time": "2022-06-17T13:07:36.037Z"
   },
   {
    "duration": 29,
    "start_time": "2022-06-17T13:07:36.056Z"
   },
   {
    "duration": 5,
    "start_time": "2022-06-17T13:07:36.087Z"
   },
   {
    "duration": 9,
    "start_time": "2022-06-17T13:07:36.093Z"
   },
   {
    "duration": 5,
    "start_time": "2022-06-17T13:07:36.103Z"
   },
   {
    "duration": 13,
    "start_time": "2022-06-17T13:07:36.109Z"
   },
   {
    "duration": 9,
    "start_time": "2022-06-17T13:07:36.123Z"
   },
   {
    "duration": 4,
    "start_time": "2022-06-17T13:07:36.133Z"
   },
   {
    "duration": 13,
    "start_time": "2022-06-17T13:07:36.138Z"
   },
   {
    "duration": 9,
    "start_time": "2022-06-17T13:07:36.152Z"
   },
   {
    "duration": 5,
    "start_time": "2022-06-17T13:07:36.163Z"
   },
   {
    "duration": 3,
    "start_time": "2022-06-17T13:07:36.177Z"
   },
   {
    "duration": 26,
    "start_time": "2022-06-17T13:07:36.182Z"
   },
   {
    "duration": 10,
    "start_time": "2022-06-17T13:07:36.209Z"
   },
   {
    "duration": 7,
    "start_time": "2022-06-17T13:07:36.221Z"
   },
   {
    "duration": 4,
    "start_time": "2022-06-17T13:07:36.229Z"
   },
   {
    "duration": 5,
    "start_time": "2022-06-17T13:07:36.235Z"
   },
   {
    "duration": 6,
    "start_time": "2022-06-17T13:07:36.242Z"
   },
   {
    "duration": 6,
    "start_time": "2022-06-17T13:07:36.250Z"
   },
   {
    "duration": 9,
    "start_time": "2022-06-17T13:07:36.257Z"
   },
   {
    "duration": 10,
    "start_time": "2022-06-17T13:07:36.268Z"
   },
   {
    "duration": 12,
    "start_time": "2022-06-17T13:07:36.279Z"
   },
   {
    "duration": 31,
    "start_time": "2022-06-17T13:07:36.292Z"
   },
   {
    "duration": 12,
    "start_time": "2022-06-17T13:07:36.324Z"
   },
   {
    "duration": 321,
    "start_time": "2022-06-17T13:07:36.337Z"
   },
   {
    "duration": 18,
    "start_time": "2022-06-17T13:07:36.660Z"
   },
   {
    "duration": 9,
    "start_time": "2022-06-17T13:07:36.680Z"
   },
   {
    "duration": 146,
    "start_time": "2022-06-17T13:07:36.691Z"
   },
   {
    "duration": 8,
    "start_time": "2022-06-17T13:07:36.838Z"
   },
   {
    "duration": 6,
    "start_time": "2022-06-17T13:07:36.847Z"
   },
   {
    "duration": 8,
    "start_time": "2022-06-17T13:07:36.854Z"
   },
   {
    "duration": 134,
    "start_time": "2022-06-17T13:07:36.863Z"
   },
   {
    "duration": 5,
    "start_time": "2022-06-17T13:07:36.999Z"
   },
   {
    "duration": 9,
    "start_time": "2022-06-17T13:07:37.006Z"
   },
   {
    "duration": 5,
    "start_time": "2022-06-17T13:07:37.017Z"
   },
   {
    "duration": 4,
    "start_time": "2022-06-17T13:07:37.024Z"
   },
   {
    "duration": 5,
    "start_time": "2022-06-17T13:07:37.030Z"
   },
   {
    "duration": 9,
    "start_time": "2022-06-17T13:07:37.036Z"
   },
   {
    "duration": 140,
    "start_time": "2022-06-17T13:07:37.046Z"
   },
   {
    "duration": 4,
    "start_time": "2022-06-17T13:07:37.187Z"
   },
   {
    "duration": 11,
    "start_time": "2022-06-17T13:07:37.192Z"
   },
   {
    "duration": 8,
    "start_time": "2022-06-17T13:07:37.204Z"
   },
   {
    "duration": 18,
    "start_time": "2022-06-17T13:07:37.213Z"
   },
   {
    "duration": 13,
    "start_time": "2022-06-17T13:07:37.232Z"
   },
   {
    "duration": 10,
    "start_time": "2022-06-17T13:07:37.246Z"
   },
   {
    "duration": 13,
    "start_time": "2022-06-17T13:07:37.257Z"
   },
   {
    "duration": 202,
    "start_time": "2022-06-17T13:07:37.271Z"
   },
   {
    "duration": 6,
    "start_time": "2022-06-17T13:07:37.478Z"
   },
   {
    "duration": 8,
    "start_time": "2022-06-17T13:07:37.486Z"
   },
   {
    "duration": 10,
    "start_time": "2022-06-17T13:07:37.495Z"
   },
   {
    "duration": 161,
    "start_time": "2022-06-17T13:07:37.506Z"
   },
   {
    "duration": 5,
    "start_time": "2022-06-17T13:07:37.677Z"
   },
   {
    "duration": 19,
    "start_time": "2022-06-17T13:07:37.684Z"
   },
   {
    "duration": 11,
    "start_time": "2022-06-17T13:07:37.704Z"
   },
   {
    "duration": 7,
    "start_time": "2022-06-17T13:07:37.717Z"
   },
   {
    "duration": 8,
    "start_time": "2022-06-17T13:07:37.726Z"
   },
   {
    "duration": 14,
    "start_time": "2022-06-17T13:07:37.738Z"
   },
   {
    "duration": 156,
    "start_time": "2022-06-17T13:07:37.754Z"
   },
   {
    "duration": 4,
    "start_time": "2022-06-17T13:07:37.912Z"
   },
   {
    "duration": 7,
    "start_time": "2022-06-17T13:07:37.918Z"
   },
   {
    "duration": 8,
    "start_time": "2022-06-17T13:07:37.926Z"
   },
   {
    "duration": 6,
    "start_time": "2022-06-17T13:07:37.935Z"
   },
   {
    "duration": 4,
    "start_time": "2022-06-17T13:07:37.943Z"
   },
   {
    "duration": 8,
    "start_time": "2022-06-17T13:07:37.948Z"
   },
   {
    "duration": 29,
    "start_time": "2022-06-17T13:07:37.958Z"
   },
   {
    "duration": 135,
    "start_time": "2022-06-17T13:07:37.988Z"
   },
   {
    "duration": 7,
    "start_time": "2022-06-17T13:07:38.125Z"
   },
   {
    "duration": 22,
    "start_time": "2022-06-17T13:07:38.133Z"
   },
   {
    "duration": 10,
    "start_time": "2022-06-17T13:07:38.156Z"
   },
   {
    "duration": 134,
    "start_time": "2022-06-17T13:07:38.167Z"
   },
   {
    "duration": 4,
    "start_time": "2022-06-17T13:07:38.302Z"
   },
   {
    "duration": 6,
    "start_time": "2022-06-17T13:07:38.307Z"
   },
   {
    "duration": 7,
    "start_time": "2022-06-17T13:07:38.314Z"
   },
   {
    "duration": 6,
    "start_time": "2022-06-17T13:07:38.322Z"
   },
   {
    "duration": 7,
    "start_time": "2022-06-17T13:07:38.329Z"
   },
   {
    "duration": 14,
    "start_time": "2022-06-17T13:07:38.337Z"
   },
   {
    "duration": 116,
    "start_time": "2022-06-17T13:07:38.353Z"
   },
   {
    "duration": 11,
    "start_time": "2022-06-17T13:07:38.470Z"
   },
   {
    "duration": 8,
    "start_time": "2022-06-17T13:07:38.482Z"
   },
   {
    "duration": 7,
    "start_time": "2022-06-17T13:07:38.491Z"
   },
   {
    "duration": 14,
    "start_time": "2022-06-17T13:07:38.499Z"
   },
   {
    "duration": 8,
    "start_time": "2022-06-17T13:07:38.515Z"
   },
   {
    "duration": 11,
    "start_time": "2022-06-17T13:07:38.524Z"
   },
   {
    "duration": 460,
    "start_time": "2022-06-17T13:07:38.536Z"
   },
   {
    "duration": 2,
    "start_time": "2022-06-17T13:07:38.998Z"
   },
   {
    "duration": 9,
    "start_time": "2022-06-17T13:07:39.001Z"
   },
   {
    "duration": 4,
    "start_time": "2022-06-17T13:07:39.011Z"
   },
   {
    "duration": 10,
    "start_time": "2022-06-17T13:07:39.016Z"
   },
   {
    "duration": 8,
    "start_time": "2022-06-17T13:07:39.028Z"
   },
   {
    "duration": 5,
    "start_time": "2022-06-17T13:07:39.037Z"
   },
   {
    "duration": 6,
    "start_time": "2022-06-17T13:07:39.043Z"
   },
   {
    "duration": 6,
    "start_time": "2022-06-17T13:07:39.050Z"
   },
   {
    "duration": 8,
    "start_time": "2022-06-17T13:07:39.058Z"
   },
   {
    "duration": 10,
    "start_time": "2022-06-17T13:07:39.068Z"
   },
   {
    "duration": 2,
    "start_time": "2022-06-17T13:07:39.079Z"
   },
   {
    "duration": 11,
    "start_time": "2022-06-17T13:07:39.082Z"
   },
   {
    "duration": 11,
    "start_time": "2022-06-17T13:07:39.094Z"
   },
   {
    "duration": 6,
    "start_time": "2022-06-17T13:07:39.106Z"
   },
   {
    "duration": 10,
    "start_time": "2022-06-17T13:07:39.113Z"
   },
   {
    "duration": 14,
    "start_time": "2022-06-17T13:07:39.124Z"
   },
   {
    "duration": 8,
    "start_time": "2022-06-17T13:07:39.139Z"
   },
   {
    "duration": 9,
    "start_time": "2022-06-17T13:07:39.149Z"
   },
   {
    "duration": 16,
    "start_time": "2022-06-17T13:08:28.660Z"
   },
   {
    "duration": 4,
    "start_time": "2022-06-17T13:08:58.484Z"
   },
   {
    "duration": 490,
    "start_time": "2022-06-17T13:08:59.199Z"
   },
   {
    "duration": 16,
    "start_time": "2022-06-17T13:09:00.075Z"
   },
   {
    "duration": 367,
    "start_time": "2022-06-17T13:09:12.218Z"
   },
   {
    "duration": 139,
    "start_time": "2022-06-17T13:09:12.586Z"
   },
   {
    "duration": 114,
    "start_time": "2022-06-17T13:09:12.726Z"
   },
   {
    "duration": 75,
    "start_time": "2022-06-17T13:09:12.842Z"
   },
   {
    "duration": 16,
    "start_time": "2022-06-17T13:09:12.919Z"
   },
   {
    "duration": 29,
    "start_time": "2022-06-17T13:09:12.936Z"
   },
   {
    "duration": 13,
    "start_time": "2022-06-17T13:09:12.966Z"
   },
   {
    "duration": 21,
    "start_time": "2022-06-17T13:09:12.981Z"
   },
   {
    "duration": 8,
    "start_time": "2022-06-17T13:09:13.003Z"
   },
   {
    "duration": 18,
    "start_time": "2022-06-17T13:09:13.013Z"
   },
   {
    "duration": 6,
    "start_time": "2022-06-17T13:09:13.033Z"
   },
   {
    "duration": 46,
    "start_time": "2022-06-17T13:09:13.040Z"
   },
   {
    "duration": 6,
    "start_time": "2022-06-17T13:09:13.088Z"
   },
   {
    "duration": 16,
    "start_time": "2022-06-17T13:09:13.095Z"
   },
   {
    "duration": 10,
    "start_time": "2022-06-17T13:09:13.113Z"
   },
   {
    "duration": 12,
    "start_time": "2022-06-17T13:09:13.124Z"
   },
   {
    "duration": 49,
    "start_time": "2022-06-17T13:09:13.137Z"
   },
   {
    "duration": 21,
    "start_time": "2022-06-17T13:09:13.188Z"
   },
   {
    "duration": 17,
    "start_time": "2022-06-17T13:09:13.210Z"
   },
   {
    "duration": 13,
    "start_time": "2022-06-17T13:09:13.229Z"
   },
   {
    "duration": 42,
    "start_time": "2022-06-17T13:09:13.243Z"
   },
   {
    "duration": 15,
    "start_time": "2022-06-17T13:09:13.287Z"
   },
   {
    "duration": 2,
    "start_time": "2022-06-17T13:09:13.304Z"
   },
   {
    "duration": 9,
    "start_time": "2022-06-17T13:09:13.307Z"
   },
   {
    "duration": 18,
    "start_time": "2022-06-17T13:09:13.318Z"
   },
   {
    "duration": 10,
    "start_time": "2022-06-17T13:09:13.338Z"
   },
   {
    "duration": 42,
    "start_time": "2022-06-17T13:09:13.350Z"
   },
   {
    "duration": 9,
    "start_time": "2022-06-17T13:09:13.397Z"
   },
   {
    "duration": 23,
    "start_time": "2022-06-17T13:09:13.408Z"
   },
   {
    "duration": 8,
    "start_time": "2022-06-17T13:09:13.432Z"
   },
   {
    "duration": 15,
    "start_time": "2022-06-17T13:09:13.441Z"
   },
   {
    "duration": 25,
    "start_time": "2022-06-17T13:09:13.457Z"
   },
   {
    "duration": 7,
    "start_time": "2022-06-17T13:09:13.483Z"
   },
   {
    "duration": 73,
    "start_time": "2022-06-17T13:09:13.491Z"
   },
   {
    "duration": 0,
    "start_time": "2022-06-17T13:09:13.567Z"
   },
   {
    "duration": 0,
    "start_time": "2022-06-17T13:09:13.568Z"
   },
   {
    "duration": 0,
    "start_time": "2022-06-17T13:09:13.568Z"
   },
   {
    "duration": 0,
    "start_time": "2022-06-17T13:09:13.569Z"
   },
   {
    "duration": 0,
    "start_time": "2022-06-17T13:09:13.570Z"
   },
   {
    "duration": 0,
    "start_time": "2022-06-17T13:09:13.570Z"
   },
   {
    "duration": 0,
    "start_time": "2022-06-17T13:09:13.577Z"
   },
   {
    "duration": 0,
    "start_time": "2022-06-17T13:09:13.579Z"
   },
   {
    "duration": 0,
    "start_time": "2022-06-17T13:09:13.579Z"
   },
   {
    "duration": 0,
    "start_time": "2022-06-17T13:09:13.580Z"
   },
   {
    "duration": 0,
    "start_time": "2022-06-17T13:09:13.581Z"
   },
   {
    "duration": 0,
    "start_time": "2022-06-17T13:09:13.582Z"
   },
   {
    "duration": 0,
    "start_time": "2022-06-17T13:09:13.582Z"
   },
   {
    "duration": 0,
    "start_time": "2022-06-17T13:09:13.583Z"
   },
   {
    "duration": 0,
    "start_time": "2022-06-17T13:09:13.584Z"
   },
   {
    "duration": 0,
    "start_time": "2022-06-17T13:09:13.585Z"
   },
   {
    "duration": 0,
    "start_time": "2022-06-17T13:09:13.586Z"
   },
   {
    "duration": 0,
    "start_time": "2022-06-17T13:09:13.586Z"
   },
   {
    "duration": 0,
    "start_time": "2022-06-17T13:09:13.587Z"
   },
   {
    "duration": 0,
    "start_time": "2022-06-17T13:09:13.588Z"
   },
   {
    "duration": 0,
    "start_time": "2022-06-17T13:09:13.589Z"
   },
   {
    "duration": 0,
    "start_time": "2022-06-17T13:09:13.590Z"
   },
   {
    "duration": 0,
    "start_time": "2022-06-17T13:09:13.590Z"
   },
   {
    "duration": 0,
    "start_time": "2022-06-17T13:09:13.591Z"
   },
   {
    "duration": 0,
    "start_time": "2022-06-17T13:09:13.592Z"
   },
   {
    "duration": 0,
    "start_time": "2022-06-17T13:09:13.593Z"
   },
   {
    "duration": 0,
    "start_time": "2022-06-17T13:09:13.594Z"
   },
   {
    "duration": 0,
    "start_time": "2022-06-17T13:09:13.594Z"
   },
   {
    "duration": 0,
    "start_time": "2022-06-17T13:09:13.595Z"
   },
   {
    "duration": 0,
    "start_time": "2022-06-17T13:09:13.596Z"
   },
   {
    "duration": 0,
    "start_time": "2022-06-17T13:09:13.597Z"
   },
   {
    "duration": 0,
    "start_time": "2022-06-17T13:09:13.598Z"
   },
   {
    "duration": 0,
    "start_time": "2022-06-17T13:09:13.598Z"
   },
   {
    "duration": 0,
    "start_time": "2022-06-17T13:09:13.599Z"
   },
   {
    "duration": 0,
    "start_time": "2022-06-17T13:09:13.600Z"
   },
   {
    "duration": 0,
    "start_time": "2022-06-17T13:09:13.601Z"
   },
   {
    "duration": 0,
    "start_time": "2022-06-17T13:09:13.602Z"
   },
   {
    "duration": 0,
    "start_time": "2022-06-17T13:09:13.602Z"
   },
   {
    "duration": 0,
    "start_time": "2022-06-17T13:09:13.603Z"
   },
   {
    "duration": 0,
    "start_time": "2022-06-17T13:09:13.604Z"
   },
   {
    "duration": 0,
    "start_time": "2022-06-17T13:09:13.605Z"
   },
   {
    "duration": 0,
    "start_time": "2022-06-17T13:09:13.606Z"
   },
   {
    "duration": 0,
    "start_time": "2022-06-17T13:09:13.607Z"
   },
   {
    "duration": 0,
    "start_time": "2022-06-17T13:09:13.608Z"
   },
   {
    "duration": 0,
    "start_time": "2022-06-17T13:09:13.608Z"
   },
   {
    "duration": 0,
    "start_time": "2022-06-17T13:09:13.609Z"
   },
   {
    "duration": 0,
    "start_time": "2022-06-17T13:09:13.610Z"
   },
   {
    "duration": 0,
    "start_time": "2022-06-17T13:09:13.611Z"
   },
   {
    "duration": 0,
    "start_time": "2022-06-17T13:09:13.612Z"
   },
   {
    "duration": 0,
    "start_time": "2022-06-17T13:09:13.613Z"
   },
   {
    "duration": 0,
    "start_time": "2022-06-17T13:09:13.614Z"
   },
   {
    "duration": 0,
    "start_time": "2022-06-17T13:09:13.615Z"
   },
   {
    "duration": 0,
    "start_time": "2022-06-17T13:09:13.678Z"
   },
   {
    "duration": 0,
    "start_time": "2022-06-17T13:09:13.679Z"
   },
   {
    "duration": 0,
    "start_time": "2022-06-17T13:09:13.680Z"
   },
   {
    "duration": 0,
    "start_time": "2022-06-17T13:09:13.681Z"
   },
   {
    "duration": 0,
    "start_time": "2022-06-17T13:09:13.682Z"
   },
   {
    "duration": 0,
    "start_time": "2022-06-17T13:09:13.683Z"
   },
   {
    "duration": 0,
    "start_time": "2022-06-17T13:09:13.684Z"
   },
   {
    "duration": 0,
    "start_time": "2022-06-17T13:09:13.685Z"
   },
   {
    "duration": 0,
    "start_time": "2022-06-17T13:09:13.686Z"
   },
   {
    "duration": 0,
    "start_time": "2022-06-17T13:09:13.687Z"
   },
   {
    "duration": 0,
    "start_time": "2022-06-17T13:09:13.688Z"
   },
   {
    "duration": 0,
    "start_time": "2022-06-17T13:09:13.689Z"
   },
   {
    "duration": 0,
    "start_time": "2022-06-17T13:09:13.690Z"
   },
   {
    "duration": 0,
    "start_time": "2022-06-17T13:09:13.691Z"
   },
   {
    "duration": 0,
    "start_time": "2022-06-17T13:09:13.692Z"
   },
   {
    "duration": 0,
    "start_time": "2022-06-17T13:09:13.693Z"
   },
   {
    "duration": 0,
    "start_time": "2022-06-17T13:09:13.694Z"
   },
   {
    "duration": 0,
    "start_time": "2022-06-17T13:09:13.695Z"
   },
   {
    "duration": 0,
    "start_time": "2022-06-17T13:09:13.696Z"
   },
   {
    "duration": 0,
    "start_time": "2022-06-17T13:09:13.697Z"
   },
   {
    "duration": 0,
    "start_time": "2022-06-17T13:09:13.698Z"
   },
   {
    "duration": 0,
    "start_time": "2022-06-17T13:09:13.699Z"
   },
   {
    "duration": 0,
    "start_time": "2022-06-17T13:09:13.700Z"
   },
   {
    "duration": 0,
    "start_time": "2022-06-17T13:09:13.701Z"
   },
   {
    "duration": 0,
    "start_time": "2022-06-17T13:09:13.702Z"
   },
   {
    "duration": 0,
    "start_time": "2022-06-17T13:09:13.703Z"
   },
   {
    "duration": 0,
    "start_time": "2022-06-17T13:09:13.703Z"
   },
   {
    "duration": 0,
    "start_time": "2022-06-17T13:09:13.704Z"
   },
   {
    "duration": 0,
    "start_time": "2022-06-17T13:09:13.705Z"
   },
   {
    "duration": 0,
    "start_time": "2022-06-17T13:09:13.706Z"
   },
   {
    "duration": 0,
    "start_time": "2022-06-17T13:09:13.707Z"
   },
   {
    "duration": 0,
    "start_time": "2022-06-17T13:09:13.708Z"
   },
   {
    "duration": 0,
    "start_time": "2022-06-17T13:09:13.709Z"
   },
   {
    "duration": 0,
    "start_time": "2022-06-17T13:09:13.710Z"
   },
   {
    "duration": 0,
    "start_time": "2022-06-17T13:09:13.711Z"
   },
   {
    "duration": 0,
    "start_time": "2022-06-17T13:09:13.712Z"
   },
   {
    "duration": 0,
    "start_time": "2022-06-17T13:09:13.712Z"
   },
   {
    "duration": 0,
    "start_time": "2022-06-17T13:09:13.713Z"
   },
   {
    "duration": 0,
    "start_time": "2022-06-17T13:09:13.714Z"
   },
   {
    "duration": 0,
    "start_time": "2022-06-17T13:09:13.715Z"
   },
   {
    "duration": 0,
    "start_time": "2022-06-17T13:09:13.716Z"
   },
   {
    "duration": 0,
    "start_time": "2022-06-17T13:09:13.779Z"
   },
   {
    "duration": 0,
    "start_time": "2022-06-17T13:09:13.780Z"
   },
   {
    "duration": 0,
    "start_time": "2022-06-17T13:09:13.781Z"
   },
   {
    "duration": 0,
    "start_time": "2022-06-17T13:09:13.782Z"
   },
   {
    "duration": 0,
    "start_time": "2022-06-17T13:09:13.783Z"
   },
   {
    "duration": 0,
    "start_time": "2022-06-17T13:09:13.784Z"
   },
   {
    "duration": 18,
    "start_time": "2022-06-17T13:09:55.141Z"
   },
   {
    "duration": 385,
    "start_time": "2022-06-17T13:10:01.343Z"
   },
   {
    "duration": 150,
    "start_time": "2022-06-17T13:10:01.729Z"
   },
   {
    "duration": 130,
    "start_time": "2022-06-17T13:10:01.881Z"
   },
   {
    "duration": 88,
    "start_time": "2022-06-17T13:10:02.013Z"
   },
   {
    "duration": 15,
    "start_time": "2022-06-17T13:10:02.103Z"
   },
   {
    "duration": 33,
    "start_time": "2022-06-17T13:10:02.120Z"
   },
   {
    "duration": 16,
    "start_time": "2022-06-17T13:10:02.155Z"
   },
   {
    "duration": 75,
    "start_time": "2022-06-17T13:10:02.172Z"
   },
   {
    "duration": 13,
    "start_time": "2022-06-17T13:10:02.249Z"
   },
   {
    "duration": 51,
    "start_time": "2022-06-17T13:10:02.264Z"
   },
   {
    "duration": 58,
    "start_time": "2022-06-17T13:10:02.316Z"
   },
   {
    "duration": 42,
    "start_time": "2022-06-17T13:10:02.375Z"
   },
   {
    "duration": 10,
    "start_time": "2022-06-17T13:10:02.418Z"
   },
   {
    "duration": 20,
    "start_time": "2022-06-17T13:10:02.429Z"
   },
   {
    "duration": 35,
    "start_time": "2022-06-17T13:10:02.451Z"
   },
   {
    "duration": 22,
    "start_time": "2022-06-17T13:10:02.488Z"
   },
   {
    "duration": 68,
    "start_time": "2022-06-17T13:10:02.512Z"
   },
   {
    "duration": 21,
    "start_time": "2022-06-17T13:10:02.581Z"
   },
   {
    "duration": 23,
    "start_time": "2022-06-17T13:10:02.604Z"
   },
   {
    "duration": 21,
    "start_time": "2022-06-17T13:10:02.629Z"
   },
   {
    "duration": 29,
    "start_time": "2022-06-17T13:10:02.652Z"
   },
   {
    "duration": 65,
    "start_time": "2022-06-17T13:10:02.682Z"
   },
   {
    "duration": 13,
    "start_time": "2022-06-17T13:10:02.749Z"
   },
   {
    "duration": 39,
    "start_time": "2022-06-17T13:10:02.764Z"
   },
   {
    "duration": 27,
    "start_time": "2022-06-17T13:10:02.805Z"
   },
   {
    "duration": 10,
    "start_time": "2022-06-17T13:10:02.834Z"
   },
   {
    "duration": 30,
    "start_time": "2022-06-17T13:10:02.845Z"
   },
   {
    "duration": 8,
    "start_time": "2022-06-17T13:10:02.879Z"
   },
   {
    "duration": 22,
    "start_time": "2022-06-17T13:10:02.888Z"
   },
   {
    "duration": 8,
    "start_time": "2022-06-17T13:10:02.911Z"
   },
   {
    "duration": 18,
    "start_time": "2022-06-17T13:10:02.921Z"
   },
   {
    "duration": 9,
    "start_time": "2022-06-17T13:10:02.941Z"
   },
   {
    "duration": 7,
    "start_time": "2022-06-17T13:10:02.951Z"
   },
   {
    "duration": 20,
    "start_time": "2022-06-17T13:10:02.959Z"
   },
   {
    "duration": 9,
    "start_time": "2022-06-17T13:10:02.980Z"
   },
   {
    "duration": 67,
    "start_time": "2022-06-17T13:10:02.991Z"
   },
   {
    "duration": 0,
    "start_time": "2022-06-17T13:10:03.061Z"
   },
   {
    "duration": 0,
    "start_time": "2022-06-17T13:10:03.062Z"
   },
   {
    "duration": 14,
    "start_time": "2022-06-17T13:10:03.063Z"
   },
   {
    "duration": 0,
    "start_time": "2022-06-17T13:10:03.079Z"
   },
   {
    "duration": 0,
    "start_time": "2022-06-17T13:10:03.079Z"
   },
   {
    "duration": 0,
    "start_time": "2022-06-17T13:10:03.080Z"
   },
   {
    "duration": 0,
    "start_time": "2022-06-17T13:10:03.081Z"
   },
   {
    "duration": 1,
    "start_time": "2022-06-17T13:10:03.082Z"
   },
   {
    "duration": 0,
    "start_time": "2022-06-17T13:10:03.083Z"
   },
   {
    "duration": 0,
    "start_time": "2022-06-17T13:10:03.084Z"
   },
   {
    "duration": 0,
    "start_time": "2022-06-17T13:10:03.085Z"
   },
   {
    "duration": 0,
    "start_time": "2022-06-17T13:10:03.086Z"
   },
   {
    "duration": 0,
    "start_time": "2022-06-17T13:10:03.087Z"
   },
   {
    "duration": 0,
    "start_time": "2022-06-17T13:10:03.088Z"
   },
   {
    "duration": 0,
    "start_time": "2022-06-17T13:10:03.089Z"
   },
   {
    "duration": 0,
    "start_time": "2022-06-17T13:10:03.090Z"
   },
   {
    "duration": 0,
    "start_time": "2022-06-17T13:10:03.091Z"
   },
   {
    "duration": 0,
    "start_time": "2022-06-17T13:10:03.091Z"
   },
   {
    "duration": 0,
    "start_time": "2022-06-17T13:10:03.092Z"
   },
   {
    "duration": 0,
    "start_time": "2022-06-17T13:10:03.093Z"
   },
   {
    "duration": 0,
    "start_time": "2022-06-17T13:10:03.094Z"
   },
   {
    "duration": 0,
    "start_time": "2022-06-17T13:10:03.095Z"
   },
   {
    "duration": 0,
    "start_time": "2022-06-17T13:10:03.096Z"
   },
   {
    "duration": 0,
    "start_time": "2022-06-17T13:10:03.097Z"
   },
   {
    "duration": 0,
    "start_time": "2022-06-17T13:10:03.098Z"
   },
   {
    "duration": 0,
    "start_time": "2022-06-17T13:10:03.099Z"
   },
   {
    "duration": 0,
    "start_time": "2022-06-17T13:10:03.100Z"
   },
   {
    "duration": 0,
    "start_time": "2022-06-17T13:10:03.101Z"
   },
   {
    "duration": 0,
    "start_time": "2022-06-17T13:10:03.102Z"
   },
   {
    "duration": 0,
    "start_time": "2022-06-17T13:10:03.102Z"
   },
   {
    "duration": 0,
    "start_time": "2022-06-17T13:10:03.103Z"
   },
   {
    "duration": 0,
    "start_time": "2022-06-17T13:10:03.104Z"
   },
   {
    "duration": 0,
    "start_time": "2022-06-17T13:10:03.105Z"
   },
   {
    "duration": 0,
    "start_time": "2022-06-17T13:10:03.106Z"
   },
   {
    "duration": 0,
    "start_time": "2022-06-17T13:10:03.107Z"
   },
   {
    "duration": 0,
    "start_time": "2022-06-17T13:10:03.108Z"
   },
   {
    "duration": 0,
    "start_time": "2022-06-17T13:10:03.109Z"
   },
   {
    "duration": 0,
    "start_time": "2022-06-17T13:10:03.110Z"
   },
   {
    "duration": 0,
    "start_time": "2022-06-17T13:10:03.111Z"
   },
   {
    "duration": 0,
    "start_time": "2022-06-17T13:10:03.112Z"
   },
   {
    "duration": 0,
    "start_time": "2022-06-17T13:10:03.112Z"
   },
   {
    "duration": 0,
    "start_time": "2022-06-17T13:10:03.113Z"
   },
   {
    "duration": 0,
    "start_time": "2022-06-17T13:10:03.114Z"
   },
   {
    "duration": 0,
    "start_time": "2022-06-17T13:10:03.115Z"
   },
   {
    "duration": 0,
    "start_time": "2022-06-17T13:10:03.116Z"
   },
   {
    "duration": 0,
    "start_time": "2022-06-17T13:10:03.117Z"
   },
   {
    "duration": 0,
    "start_time": "2022-06-17T13:10:03.178Z"
   },
   {
    "duration": 0,
    "start_time": "2022-06-17T13:10:03.179Z"
   },
   {
    "duration": 0,
    "start_time": "2022-06-17T13:10:03.180Z"
   },
   {
    "duration": 0,
    "start_time": "2022-06-17T13:10:03.181Z"
   },
   {
    "duration": 0,
    "start_time": "2022-06-17T13:10:03.182Z"
   },
   {
    "duration": 0,
    "start_time": "2022-06-17T13:10:03.183Z"
   },
   {
    "duration": 0,
    "start_time": "2022-06-17T13:10:03.184Z"
   },
   {
    "duration": 0,
    "start_time": "2022-06-17T13:10:03.185Z"
   },
   {
    "duration": 0,
    "start_time": "2022-06-17T13:10:03.185Z"
   },
   {
    "duration": 0,
    "start_time": "2022-06-17T13:10:03.186Z"
   },
   {
    "duration": 0,
    "start_time": "2022-06-17T13:10:03.187Z"
   },
   {
    "duration": 0,
    "start_time": "2022-06-17T13:10:03.188Z"
   },
   {
    "duration": 0,
    "start_time": "2022-06-17T13:10:03.189Z"
   },
   {
    "duration": 0,
    "start_time": "2022-06-17T13:10:03.190Z"
   },
   {
    "duration": 0,
    "start_time": "2022-06-17T13:10:03.191Z"
   },
   {
    "duration": 0,
    "start_time": "2022-06-17T13:10:03.192Z"
   },
   {
    "duration": 0,
    "start_time": "2022-06-17T13:10:03.193Z"
   },
   {
    "duration": 0,
    "start_time": "2022-06-17T13:10:03.194Z"
   },
   {
    "duration": 0,
    "start_time": "2022-06-17T13:10:03.195Z"
   },
   {
    "duration": 0,
    "start_time": "2022-06-17T13:10:03.196Z"
   },
   {
    "duration": 0,
    "start_time": "2022-06-17T13:10:03.197Z"
   },
   {
    "duration": 0,
    "start_time": "2022-06-17T13:10:03.198Z"
   },
   {
    "duration": 0,
    "start_time": "2022-06-17T13:10:03.198Z"
   },
   {
    "duration": 0,
    "start_time": "2022-06-17T13:10:03.199Z"
   },
   {
    "duration": 0,
    "start_time": "2022-06-17T13:10:03.200Z"
   },
   {
    "duration": 0,
    "start_time": "2022-06-17T13:10:03.201Z"
   },
   {
    "duration": 0,
    "start_time": "2022-06-17T13:10:03.202Z"
   },
   {
    "duration": 0,
    "start_time": "2022-06-17T13:10:03.203Z"
   },
   {
    "duration": 0,
    "start_time": "2022-06-17T13:10:03.203Z"
   },
   {
    "duration": 0,
    "start_time": "2022-06-17T13:10:03.204Z"
   },
   {
    "duration": 0,
    "start_time": "2022-06-17T13:10:03.205Z"
   },
   {
    "duration": 0,
    "start_time": "2022-06-17T13:10:03.206Z"
   },
   {
    "duration": 0,
    "start_time": "2022-06-17T13:10:03.207Z"
   },
   {
    "duration": 0,
    "start_time": "2022-06-17T13:10:03.208Z"
   },
   {
    "duration": 0,
    "start_time": "2022-06-17T13:10:03.209Z"
   },
   {
    "duration": 0,
    "start_time": "2022-06-17T13:10:03.210Z"
   },
   {
    "duration": 0,
    "start_time": "2022-06-17T13:10:03.211Z"
   },
   {
    "duration": 0,
    "start_time": "2022-06-17T13:10:03.212Z"
   },
   {
    "duration": 0,
    "start_time": "2022-06-17T13:10:03.213Z"
   },
   {
    "duration": 0,
    "start_time": "2022-06-17T13:10:03.214Z"
   },
   {
    "duration": 0,
    "start_time": "2022-06-17T13:10:03.215Z"
   },
   {
    "duration": 0,
    "start_time": "2022-06-17T13:10:03.215Z"
   },
   {
    "duration": 0,
    "start_time": "2022-06-17T13:10:03.278Z"
   },
   {
    "duration": 0,
    "start_time": "2022-06-17T13:10:03.279Z"
   },
   {
    "duration": 0,
    "start_time": "2022-06-17T13:10:03.280Z"
   },
   {
    "duration": 0,
    "start_time": "2022-06-17T13:10:03.281Z"
   },
   {
    "duration": 0,
    "start_time": "2022-06-17T13:10:03.281Z"
   },
   {
    "duration": 0,
    "start_time": "2022-06-17T13:10:03.282Z"
   },
   {
    "duration": 0,
    "start_time": "2022-06-17T13:10:03.283Z"
   },
   {
    "duration": 0,
    "start_time": "2022-06-17T13:10:03.284Z"
   },
   {
    "duration": 0,
    "start_time": "2022-06-17T13:10:03.285Z"
   },
   {
    "duration": 410,
    "start_time": "2022-06-17T13:12:24.053Z"
   },
   {
    "duration": 17,
    "start_time": "2022-06-17T13:12:24.955Z"
   },
   {
    "duration": 3,
    "start_time": "2022-06-17T13:13:51.518Z"
   },
   {
    "duration": 10,
    "start_time": "2022-06-17T13:14:03.792Z"
   },
   {
    "duration": 394,
    "start_time": "2022-06-17T13:15:13.494Z"
   },
   {
    "duration": 142,
    "start_time": "2022-06-17T13:15:13.889Z"
   },
   {
    "duration": 111,
    "start_time": "2022-06-17T13:15:14.033Z"
   },
   {
    "duration": 74,
    "start_time": "2022-06-17T13:15:14.145Z"
   },
   {
    "duration": 15,
    "start_time": "2022-06-17T13:15:14.221Z"
   },
   {
    "duration": 27,
    "start_time": "2022-06-17T13:15:14.237Z"
   },
   {
    "duration": 12,
    "start_time": "2022-06-17T13:15:14.266Z"
   },
   {
    "duration": 22,
    "start_time": "2022-06-17T13:15:14.279Z"
   },
   {
    "duration": 7,
    "start_time": "2022-06-17T13:15:14.303Z"
   },
   {
    "duration": 22,
    "start_time": "2022-06-17T13:15:14.312Z"
   },
   {
    "duration": 5,
    "start_time": "2022-06-17T13:15:14.335Z"
   },
   {
    "duration": 36,
    "start_time": "2022-06-17T13:15:14.342Z"
   },
   {
    "duration": 7,
    "start_time": "2022-06-17T13:15:14.379Z"
   },
   {
    "duration": 12,
    "start_time": "2022-06-17T13:15:14.387Z"
   },
   {
    "duration": 11,
    "start_time": "2022-06-17T13:15:14.400Z"
   },
   {
    "duration": 12,
    "start_time": "2022-06-17T13:15:14.412Z"
   },
   {
    "duration": 32,
    "start_time": "2022-06-17T13:15:14.425Z"
   },
   {
    "duration": 35,
    "start_time": "2022-06-17T13:15:14.458Z"
   },
   {
    "duration": 17,
    "start_time": "2022-06-17T13:15:14.494Z"
   },
   {
    "duration": 13,
    "start_time": "2022-06-17T13:15:14.512Z"
   },
   {
    "duration": 21,
    "start_time": "2022-06-17T13:15:14.526Z"
   },
   {
    "duration": 38,
    "start_time": "2022-06-17T13:15:14.548Z"
   },
   {
    "duration": 2,
    "start_time": "2022-06-17T13:15:14.588Z"
   },
   {
    "duration": 10,
    "start_time": "2022-06-17T13:15:14.592Z"
   },
   {
    "duration": 21,
    "start_time": "2022-06-17T13:15:14.604Z"
   },
   {
    "duration": 10,
    "start_time": "2022-06-17T13:15:14.627Z"
   },
   {
    "duration": 312,
    "start_time": "2022-06-17T13:15:14.638Z"
   },
   {
    "duration": 15,
    "start_time": "2022-06-17T13:15:14.954Z"
   },
   {
    "duration": 11,
    "start_time": "2022-06-17T13:15:14.978Z"
   },
   {
    "duration": 8,
    "start_time": "2022-06-17T13:15:14.991Z"
   },
   {
    "duration": 11,
    "start_time": "2022-06-17T13:15:15.001Z"
   },
   {
    "duration": 17,
    "start_time": "2022-06-17T13:15:15.013Z"
   },
   {
    "duration": 6,
    "start_time": "2022-06-17T13:15:15.031Z"
   },
   {
    "duration": 9,
    "start_time": "2022-06-17T13:15:15.038Z"
   },
   {
    "duration": 42,
    "start_time": "2022-06-17T13:15:15.048Z"
   },
   {
    "duration": 9,
    "start_time": "2022-06-17T13:15:15.092Z"
   },
   {
    "duration": 8,
    "start_time": "2022-06-17T13:15:15.102Z"
   },
   {
    "duration": 5,
    "start_time": "2022-06-17T13:15:15.112Z"
   },
   {
    "duration": 10,
    "start_time": "2022-06-17T13:15:15.118Z"
   },
   {
    "duration": 6,
    "start_time": "2022-06-17T13:15:15.129Z"
   },
   {
    "duration": 5,
    "start_time": "2022-06-17T13:15:15.137Z"
   },
   {
    "duration": 5,
    "start_time": "2022-06-17T13:15:15.143Z"
   },
   {
    "duration": 23,
    "start_time": "2022-06-17T13:15:15.149Z"
   },
   {
    "duration": 11,
    "start_time": "2022-06-17T13:15:15.173Z"
   },
   {
    "duration": 13,
    "start_time": "2022-06-17T13:15:15.185Z"
   },
   {
    "duration": 3,
    "start_time": "2022-06-17T13:15:15.199Z"
   },
   {
    "duration": 7,
    "start_time": "2022-06-17T13:15:15.203Z"
   },
   {
    "duration": 6,
    "start_time": "2022-06-17T13:15:15.211Z"
   },
   {
    "duration": 6,
    "start_time": "2022-06-17T13:15:15.218Z"
   },
   {
    "duration": 7,
    "start_time": "2022-06-17T13:15:15.225Z"
   },
   {
    "duration": 6,
    "start_time": "2022-06-17T13:15:15.233Z"
   },
   {
    "duration": 6,
    "start_time": "2022-06-17T13:15:15.241Z"
   },
   {
    "duration": 35,
    "start_time": "2022-06-17T13:15:15.248Z"
   },
   {
    "duration": 10,
    "start_time": "2022-06-17T13:15:15.285Z"
   },
   {
    "duration": 277,
    "start_time": "2022-06-17T13:15:15.296Z"
   },
   {
    "duration": 11,
    "start_time": "2022-06-17T13:15:15.578Z"
   },
   {
    "duration": 22,
    "start_time": "2022-06-17T13:15:15.590Z"
   },
   {
    "duration": 144,
    "start_time": "2022-06-17T13:15:15.613Z"
   },
   {
    "duration": 6,
    "start_time": "2022-06-17T13:15:15.759Z"
   },
   {
    "duration": 15,
    "start_time": "2022-06-17T13:15:15.766Z"
   },
   {
    "duration": 5,
    "start_time": "2022-06-17T13:15:15.783Z"
   },
   {
    "duration": 121,
    "start_time": "2022-06-17T13:15:15.789Z"
   },
   {
    "duration": 4,
    "start_time": "2022-06-17T13:15:15.911Z"
   },
   {
    "duration": 6,
    "start_time": "2022-06-17T13:15:15.916Z"
   },
   {
    "duration": 7,
    "start_time": "2022-06-17T13:15:15.923Z"
   },
   {
    "duration": 6,
    "start_time": "2022-06-17T13:15:15.931Z"
   },
   {
    "duration": 6,
    "start_time": "2022-06-17T13:15:15.938Z"
   },
   {
    "duration": 9,
    "start_time": "2022-06-17T13:15:15.945Z"
   },
   {
    "duration": 184,
    "start_time": "2022-06-17T13:15:15.955Z"
   },
   {
    "duration": 4,
    "start_time": "2022-06-17T13:15:16.140Z"
   },
   {
    "duration": 6,
    "start_time": "2022-06-17T13:15:16.145Z"
   },
   {
    "duration": 6,
    "start_time": "2022-06-17T13:15:16.153Z"
   },
   {
    "duration": 6,
    "start_time": "2022-06-17T13:15:16.160Z"
   },
   {
    "duration": 11,
    "start_time": "2022-06-17T13:15:16.168Z"
   },
   {
    "duration": 10,
    "start_time": "2022-06-17T13:15:16.180Z"
   },
   {
    "duration": 10,
    "start_time": "2022-06-17T13:15:16.191Z"
   },
   {
    "duration": 141,
    "start_time": "2022-06-17T13:15:16.202Z"
   },
   {
    "duration": 6,
    "start_time": "2022-06-17T13:15:16.345Z"
   },
   {
    "duration": 5,
    "start_time": "2022-06-17T13:15:16.353Z"
   },
   {
    "duration": 7,
    "start_time": "2022-06-17T13:15:16.359Z"
   },
   {
    "duration": 112,
    "start_time": "2022-06-17T13:15:16.378Z"
   },
   {
    "duration": 5,
    "start_time": "2022-06-17T13:15:16.495Z"
   },
   {
    "duration": 4,
    "start_time": "2022-06-17T13:15:16.501Z"
   },
   {
    "duration": 6,
    "start_time": "2022-06-17T13:15:16.507Z"
   },
   {
    "duration": 4,
    "start_time": "2022-06-17T13:15:16.515Z"
   },
   {
    "duration": 6,
    "start_time": "2022-06-17T13:15:16.521Z"
   },
   {
    "duration": 9,
    "start_time": "2022-06-17T13:15:16.528Z"
   },
   {
    "duration": 150,
    "start_time": "2022-06-17T13:15:16.538Z"
   },
   {
    "duration": 5,
    "start_time": "2022-06-17T13:15:16.689Z"
   },
   {
    "duration": 4,
    "start_time": "2022-06-17T13:15:16.696Z"
   },
   {
    "duration": 7,
    "start_time": "2022-06-17T13:15:16.702Z"
   },
   {
    "duration": 6,
    "start_time": "2022-06-17T13:15:16.711Z"
   },
   {
    "duration": 7,
    "start_time": "2022-06-17T13:15:16.719Z"
   },
   {
    "duration": 11,
    "start_time": "2022-06-17T13:15:16.727Z"
   },
   {
    "duration": 10,
    "start_time": "2022-06-17T13:15:16.740Z"
   },
   {
    "duration": 145,
    "start_time": "2022-06-17T13:15:16.751Z"
   },
   {
    "duration": 7,
    "start_time": "2022-06-17T13:15:16.898Z"
   },
   {
    "duration": 5,
    "start_time": "2022-06-17T13:15:16.906Z"
   },
   {
    "duration": 6,
    "start_time": "2022-06-17T13:15:16.912Z"
   },
   {
    "duration": 131,
    "start_time": "2022-06-17T13:15:16.919Z"
   },
   {
    "duration": 4,
    "start_time": "2022-06-17T13:15:17.051Z"
   },
   {
    "duration": 6,
    "start_time": "2022-06-17T13:15:17.056Z"
   },
   {
    "duration": 5,
    "start_time": "2022-06-17T13:15:17.064Z"
   },
   {
    "duration": 3,
    "start_time": "2022-06-17T13:15:17.078Z"
   },
   {
    "duration": 6,
    "start_time": "2022-06-17T13:15:17.082Z"
   },
   {
    "duration": 9,
    "start_time": "2022-06-17T13:15:17.089Z"
   },
   {
    "duration": 124,
    "start_time": "2022-06-17T13:15:17.099Z"
   },
   {
    "duration": 4,
    "start_time": "2022-06-17T13:15:17.224Z"
   },
   {
    "duration": 8,
    "start_time": "2022-06-17T13:15:17.229Z"
   },
   {
    "duration": 5,
    "start_time": "2022-06-17T13:15:17.238Z"
   },
   {
    "duration": 9,
    "start_time": "2022-06-17T13:15:17.244Z"
   },
   {
    "duration": 8,
    "start_time": "2022-06-17T13:15:17.254Z"
   },
   {
    "duration": 17,
    "start_time": "2022-06-17T13:15:17.264Z"
   },
   {
    "duration": 441,
    "start_time": "2022-06-17T13:15:17.282Z"
   },
   {
    "duration": 2,
    "start_time": "2022-06-17T13:15:17.726Z"
   },
   {
    "duration": 12,
    "start_time": "2022-06-17T13:15:17.730Z"
   },
   {
    "duration": 11,
    "start_time": "2022-06-17T13:15:17.744Z"
   },
   {
    "duration": 16,
    "start_time": "2022-06-17T13:15:17.757Z"
   },
   {
    "duration": 8,
    "start_time": "2022-06-17T13:15:17.774Z"
   },
   {
    "duration": 8,
    "start_time": "2022-06-17T13:15:17.784Z"
   },
   {
    "duration": 12,
    "start_time": "2022-06-17T13:15:17.794Z"
   },
   {
    "duration": 13,
    "start_time": "2022-06-17T13:15:17.808Z"
   },
   {
    "duration": 10,
    "start_time": "2022-06-17T13:15:17.823Z"
   },
   {
    "duration": 11,
    "start_time": "2022-06-17T13:15:17.835Z"
   },
   {
    "duration": 8,
    "start_time": "2022-06-17T13:15:17.848Z"
   },
   {
    "duration": 9,
    "start_time": "2022-06-17T13:15:17.857Z"
   },
   {
    "duration": 4,
    "start_time": "2022-06-17T13:15:17.868Z"
   },
   {
    "duration": 6,
    "start_time": "2022-06-17T13:15:17.873Z"
   },
   {
    "duration": 8,
    "start_time": "2022-06-17T13:15:17.881Z"
   },
   {
    "duration": 5,
    "start_time": "2022-06-17T13:15:17.891Z"
   },
   {
    "duration": 5,
    "start_time": "2022-06-17T13:15:17.897Z"
   },
   {
    "duration": 6,
    "start_time": "2022-06-17T13:15:17.903Z"
   },
   {
    "duration": 405,
    "start_time": "2022-06-18T10:39:38.274Z"
   },
   {
    "duration": 224,
    "start_time": "2022-06-18T10:39:38.681Z"
   },
   {
    "duration": 308,
    "start_time": "2022-06-18T10:39:38.907Z"
   },
   {
    "duration": 588,
    "start_time": "2022-06-18T10:39:39.217Z"
   },
   {
    "duration": 62,
    "start_time": "2022-06-18T10:39:39.807Z"
   },
   {
    "duration": 51,
    "start_time": "2022-06-18T10:39:39.871Z"
   },
   {
    "duration": 14,
    "start_time": "2022-06-18T10:39:39.923Z"
   },
   {
    "duration": 25,
    "start_time": "2022-06-18T10:39:39.939Z"
   },
   {
    "duration": 8,
    "start_time": "2022-06-18T10:39:39.965Z"
   },
   {
    "duration": 21,
    "start_time": "2022-06-18T10:39:39.975Z"
   },
   {
    "duration": 7,
    "start_time": "2022-06-18T10:39:39.998Z"
   },
   {
    "duration": 54,
    "start_time": "2022-06-18T10:39:40.006Z"
   },
   {
    "duration": 7,
    "start_time": "2022-06-18T10:39:40.062Z"
   },
   {
    "duration": 27,
    "start_time": "2022-06-18T10:39:40.071Z"
   },
   {
    "duration": 12,
    "start_time": "2022-06-18T10:39:40.099Z"
   },
   {
    "duration": 14,
    "start_time": "2022-06-18T10:39:40.112Z"
   },
   {
    "duration": 44,
    "start_time": "2022-06-18T10:39:40.127Z"
   },
   {
    "duration": 21,
    "start_time": "2022-06-18T10:39:40.172Z"
   },
   {
    "duration": 19,
    "start_time": "2022-06-18T10:39:40.195Z"
   },
   {
    "duration": 14,
    "start_time": "2022-06-18T10:39:40.215Z"
   },
   {
    "duration": 40,
    "start_time": "2022-06-18T10:39:40.231Z"
   },
   {
    "duration": 16,
    "start_time": "2022-06-18T10:39:40.273Z"
   },
   {
    "duration": 2,
    "start_time": "2022-06-18T10:39:40.291Z"
   },
   {
    "duration": 7,
    "start_time": "2022-06-18T10:39:40.295Z"
   },
   {
    "duration": 17,
    "start_time": "2022-06-18T10:39:40.304Z"
   },
   {
    "duration": 10,
    "start_time": "2022-06-18T10:39:40.322Z"
   },
   {
    "duration": 320,
    "start_time": "2022-06-18T10:39:40.359Z"
   },
   {
    "duration": 15,
    "start_time": "2022-06-18T10:39:40.683Z"
   },
   {
    "duration": 14,
    "start_time": "2022-06-18T10:39:40.699Z"
   },
   {
    "duration": 8,
    "start_time": "2022-06-18T10:39:40.714Z"
   },
   {
    "duration": 36,
    "start_time": "2022-06-18T10:39:40.724Z"
   },
   {
    "duration": 5,
    "start_time": "2022-06-18T10:39:40.761Z"
   },
   {
    "duration": 7,
    "start_time": "2022-06-18T10:39:40.767Z"
   },
   {
    "duration": 35,
    "start_time": "2022-06-18T10:39:40.775Z"
   },
   {
    "duration": 13,
    "start_time": "2022-06-18T10:39:40.812Z"
   },
   {
    "duration": 12,
    "start_time": "2022-06-18T10:39:40.826Z"
   },
   {
    "duration": 23,
    "start_time": "2022-06-18T10:39:40.840Z"
   },
   {
    "duration": 3,
    "start_time": "2022-06-18T10:39:40.864Z"
   },
   {
    "duration": 12,
    "start_time": "2022-06-18T10:39:40.869Z"
   },
   {
    "duration": 7,
    "start_time": "2022-06-18T10:39:40.883Z"
   },
   {
    "duration": 4,
    "start_time": "2022-06-18T10:39:40.891Z"
   },
   {
    "duration": 7,
    "start_time": "2022-06-18T10:39:40.897Z"
   },
   {
    "duration": 12,
    "start_time": "2022-06-18T10:39:40.906Z"
   },
   {
    "duration": 14,
    "start_time": "2022-06-18T10:39:40.919Z"
   },
   {
    "duration": 10,
    "start_time": "2022-06-18T10:39:40.935Z"
   },
   {
    "duration": 5,
    "start_time": "2022-06-18T10:39:40.959Z"
   },
   {
    "duration": 9,
    "start_time": "2022-06-18T10:39:40.965Z"
   },
   {
    "duration": 6,
    "start_time": "2022-06-18T10:39:40.975Z"
   },
   {
    "duration": 10,
    "start_time": "2022-06-18T10:39:40.982Z"
   },
   {
    "duration": 7,
    "start_time": "2022-06-18T10:39:40.993Z"
   },
   {
    "duration": 9,
    "start_time": "2022-06-18T10:39:41.001Z"
   },
   {
    "duration": 9,
    "start_time": "2022-06-18T10:39:41.011Z"
   },
   {
    "duration": 39,
    "start_time": "2022-06-18T10:39:41.022Z"
   },
   {
    "duration": 11,
    "start_time": "2022-06-18T10:39:41.063Z"
   },
   {
    "duration": 305,
    "start_time": "2022-06-18T10:39:41.075Z"
   },
   {
    "duration": 12,
    "start_time": "2022-06-18T10:39:41.381Z"
   },
   {
    "duration": 12,
    "start_time": "2022-06-18T10:39:41.394Z"
   },
   {
    "duration": 170,
    "start_time": "2022-06-18T10:39:41.408Z"
   },
   {
    "duration": 6,
    "start_time": "2022-06-18T10:39:41.580Z"
   },
   {
    "duration": 20,
    "start_time": "2022-06-18T10:39:41.588Z"
   },
   {
    "duration": 8,
    "start_time": "2022-06-18T10:39:41.609Z"
   },
   {
    "duration": 128,
    "start_time": "2022-06-18T10:39:41.618Z"
   },
   {
    "duration": 12,
    "start_time": "2022-06-18T10:39:41.748Z"
   },
   {
    "duration": 6,
    "start_time": "2022-06-18T10:39:41.761Z"
   },
   {
    "duration": 6,
    "start_time": "2022-06-18T10:39:41.768Z"
   },
   {
    "duration": 5,
    "start_time": "2022-06-18T10:39:41.776Z"
   },
   {
    "duration": 5,
    "start_time": "2022-06-18T10:39:41.783Z"
   },
   {
    "duration": 9,
    "start_time": "2022-06-18T10:39:41.789Z"
   },
   {
    "duration": 196,
    "start_time": "2022-06-18T10:39:41.799Z"
   },
   {
    "duration": 4,
    "start_time": "2022-06-18T10:39:41.997Z"
   },
   {
    "duration": 8,
    "start_time": "2022-06-18T10:39:42.002Z"
   },
   {
    "duration": 8,
    "start_time": "2022-06-18T10:39:42.012Z"
   },
   {
    "duration": 9,
    "start_time": "2022-06-18T10:39:42.021Z"
   },
   {
    "duration": 7,
    "start_time": "2022-06-18T10:39:42.032Z"
   },
   {
    "duration": 19,
    "start_time": "2022-06-18T10:39:42.041Z"
   },
   {
    "duration": 13,
    "start_time": "2022-06-18T10:39:42.062Z"
   },
   {
    "duration": 156,
    "start_time": "2022-06-18T10:39:42.077Z"
   },
   {
    "duration": 6,
    "start_time": "2022-06-18T10:39:42.235Z"
   },
   {
    "duration": 16,
    "start_time": "2022-06-18T10:39:42.243Z"
   },
   {
    "duration": 5,
    "start_time": "2022-06-18T10:39:42.261Z"
   },
   {
    "duration": 132,
    "start_time": "2022-06-18T10:39:42.268Z"
   },
   {
    "duration": 4,
    "start_time": "2022-06-18T10:39:42.405Z"
   },
   {
    "duration": 9,
    "start_time": "2022-06-18T10:39:42.410Z"
   },
   {
    "duration": 5,
    "start_time": "2022-06-18T10:39:42.421Z"
   },
   {
    "duration": 6,
    "start_time": "2022-06-18T10:39:42.428Z"
   },
   {
    "duration": 6,
    "start_time": "2022-06-18T10:39:42.435Z"
   },
   {
    "duration": 19,
    "start_time": "2022-06-18T10:39:42.443Z"
   },
   {
    "duration": 147,
    "start_time": "2022-06-18T10:39:42.463Z"
   },
   {
    "duration": 3,
    "start_time": "2022-06-18T10:39:42.612Z"
   },
   {
    "duration": 8,
    "start_time": "2022-06-18T10:39:42.617Z"
   },
   {
    "duration": 5,
    "start_time": "2022-06-18T10:39:42.627Z"
   },
   {
    "duration": 6,
    "start_time": "2022-06-18T10:39:42.633Z"
   },
   {
    "duration": 18,
    "start_time": "2022-06-18T10:39:42.641Z"
   },
   {
    "duration": 11,
    "start_time": "2022-06-18T10:39:42.660Z"
   },
   {
    "duration": 11,
    "start_time": "2022-06-18T10:39:42.672Z"
   },
   {
    "duration": 160,
    "start_time": "2022-06-18T10:39:42.685Z"
   },
   {
    "duration": 15,
    "start_time": "2022-06-18T10:39:42.847Z"
   },
   {
    "duration": 10,
    "start_time": "2022-06-18T10:39:42.864Z"
   },
   {
    "duration": 10,
    "start_time": "2022-06-18T10:39:42.875Z"
   },
   {
    "duration": 138,
    "start_time": "2022-06-18T10:39:42.887Z"
   },
   {
    "duration": 4,
    "start_time": "2022-06-18T10:39:43.027Z"
   },
   {
    "duration": 13,
    "start_time": "2022-06-18T10:39:43.033Z"
   },
   {
    "duration": 15,
    "start_time": "2022-06-18T10:39:43.048Z"
   },
   {
    "duration": 11,
    "start_time": "2022-06-18T10:39:43.065Z"
   },
   {
    "duration": 7,
    "start_time": "2022-06-18T10:39:43.078Z"
   },
   {
    "duration": 14,
    "start_time": "2022-06-18T10:39:43.087Z"
   },
   {
    "duration": 127,
    "start_time": "2022-06-18T10:39:43.102Z"
   },
   {
    "duration": 4,
    "start_time": "2022-06-18T10:39:43.231Z"
   },
   {
    "duration": 13,
    "start_time": "2022-06-18T10:39:43.237Z"
   },
   {
    "duration": 26,
    "start_time": "2022-06-18T10:39:43.252Z"
   },
   {
    "duration": 10,
    "start_time": "2022-06-18T10:39:43.279Z"
   },
   {
    "duration": 7,
    "start_time": "2022-06-18T10:39:43.290Z"
   },
   {
    "duration": 13,
    "start_time": "2022-06-18T10:39:43.298Z"
   },
   {
    "duration": 480,
    "start_time": "2022-06-18T10:39:43.313Z"
   },
   {
    "duration": 2,
    "start_time": "2022-06-18T10:39:43.795Z"
   },
   {
    "duration": 9,
    "start_time": "2022-06-18T10:39:43.799Z"
   },
   {
    "duration": 6,
    "start_time": "2022-06-18T10:39:43.809Z"
   },
   {
    "duration": 8,
    "start_time": "2022-06-18T10:39:43.816Z"
   },
   {
    "duration": 5,
    "start_time": "2022-06-18T10:39:43.825Z"
   },
   {
    "duration": 7,
    "start_time": "2022-06-18T10:39:43.832Z"
   },
   {
    "duration": 9,
    "start_time": "2022-06-18T10:39:43.841Z"
   },
   {
    "duration": 8,
    "start_time": "2022-06-18T10:39:43.851Z"
   },
   {
    "duration": 8,
    "start_time": "2022-06-18T10:39:43.861Z"
   },
   {
    "duration": 24,
    "start_time": "2022-06-18T10:39:43.871Z"
   },
   {
    "duration": 11,
    "start_time": "2022-06-18T10:39:43.897Z"
   },
   {
    "duration": 14,
    "start_time": "2022-06-18T10:39:43.909Z"
   },
   {
    "duration": 9,
    "start_time": "2022-06-18T10:39:43.924Z"
   },
   {
    "duration": 6,
    "start_time": "2022-06-18T10:39:43.934Z"
   },
   {
    "duration": 7,
    "start_time": "2022-06-18T10:39:43.942Z"
   },
   {
    "duration": 7,
    "start_time": "2022-06-18T10:39:43.951Z"
   },
   {
    "duration": 13,
    "start_time": "2022-06-18T10:39:43.960Z"
   },
   {
    "duration": 9,
    "start_time": "2022-06-18T10:39:43.974Z"
   },
   {
    "duration": 3,
    "start_time": "2022-06-18T10:41:39.965Z"
   },
   {
    "duration": 8,
    "start_time": "2022-06-18T10:42:04.162Z"
   },
   {
    "duration": 32,
    "start_time": "2022-06-18T10:42:23.360Z"
   },
   {
    "duration": 59,
    "start_time": "2023-08-22T14:12:55.590Z"
   },
   {
    "duration": 707,
    "start_time": "2023-08-22T14:13:20.490Z"
   },
   {
    "duration": 190,
    "start_time": "2023-08-22T14:13:26.995Z"
   },
   {
    "duration": 23,
    "start_time": "2023-08-22T14:14:41.929Z"
   },
   {
    "duration": 7,
    "start_time": "2023-08-22T14:14:47.174Z"
   },
   {
    "duration": 417,
    "start_time": "2023-08-22T14:14:56.618Z"
   },
   {
    "duration": 246,
    "start_time": "2023-08-22T14:14:57.038Z"
   },
   {
    "duration": 257,
    "start_time": "2023-08-22T14:14:57.285Z"
   },
   {
    "duration": 331,
    "start_time": "2023-08-22T14:14:57.544Z"
   },
   {
    "duration": 330,
    "start_time": "2023-08-22T14:14:57.878Z"
   },
   {
    "duration": 58,
    "start_time": "2023-08-22T14:14:58.213Z"
   },
   {
    "duration": 62,
    "start_time": "2023-08-22T14:14:58.273Z"
   },
   {
    "duration": 14,
    "start_time": "2023-08-22T14:14:58.337Z"
   },
   {
    "duration": 28,
    "start_time": "2023-08-22T14:14:58.352Z"
   },
   {
    "duration": 9,
    "start_time": "2023-08-22T14:14:58.381Z"
   },
   {
    "duration": 45,
    "start_time": "2023-08-22T14:14:58.391Z"
   },
   {
    "duration": 7,
    "start_time": "2023-08-22T14:14:58.438Z"
   },
   {
    "duration": 22,
    "start_time": "2023-08-22T14:14:58.447Z"
   },
   {
    "duration": 8,
    "start_time": "2023-08-22T14:14:58.473Z"
   },
   {
    "duration": 48,
    "start_time": "2023-08-22T14:14:58.482Z"
   },
   {
    "duration": 11,
    "start_time": "2023-08-22T14:14:58.532Z"
   },
   {
    "duration": 18,
    "start_time": "2023-08-22T14:14:58.544Z"
   },
   {
    "duration": 53,
    "start_time": "2023-08-22T14:14:58.563Z"
   },
   {
    "duration": 24,
    "start_time": "2023-08-22T14:14:58.623Z"
   },
   {
    "duration": 23,
    "start_time": "2023-08-22T14:14:58.648Z"
   },
   {
    "duration": 15,
    "start_time": "2023-08-22T14:14:58.673Z"
   },
   {
    "duration": 55,
    "start_time": "2023-08-22T14:14:58.690Z"
   },
   {
    "duration": 19,
    "start_time": "2023-08-22T14:14:58.747Z"
   },
   {
    "duration": 2,
    "start_time": "2023-08-22T14:14:58.768Z"
   },
   {
    "duration": 7,
    "start_time": "2023-08-22T14:14:58.772Z"
   },
   {
    "duration": 40,
    "start_time": "2023-08-22T14:14:58.781Z"
   },
   {
    "duration": 12,
    "start_time": "2023-08-22T14:14:58.823Z"
   },
   {
    "duration": 392,
    "start_time": "2023-08-22T14:14:58.836Z"
   },
   {
    "duration": 17,
    "start_time": "2023-08-22T14:14:59.230Z"
   },
   {
    "duration": 15,
    "start_time": "2023-08-22T14:14:59.249Z"
   },
   {
    "duration": 10,
    "start_time": "2023-08-22T14:14:59.265Z"
   },
   {
    "duration": 43,
    "start_time": "2023-08-22T14:14:59.277Z"
   },
   {
    "duration": 4,
    "start_time": "2023-08-22T14:14:59.323Z"
   },
   {
    "duration": 3,
    "start_time": "2023-08-22T14:14:59.329Z"
   },
   {
    "duration": 6,
    "start_time": "2023-08-22T14:14:59.334Z"
   },
   {
    "duration": 11,
    "start_time": "2023-08-22T14:14:59.342Z"
   },
   {
    "duration": 20,
    "start_time": "2023-08-22T14:14:59.355Z"
   },
   {
    "duration": 13,
    "start_time": "2023-08-22T14:14:59.377Z"
   },
   {
    "duration": 28,
    "start_time": "2023-08-22T14:14:59.392Z"
   },
   {
    "duration": 8,
    "start_time": "2023-08-22T14:14:59.423Z"
   },
   {
    "duration": 11,
    "start_time": "2023-08-22T14:14:59.436Z"
   },
   {
    "duration": 14,
    "start_time": "2023-08-22T14:14:59.449Z"
   },
   {
    "duration": 3,
    "start_time": "2023-08-22T14:14:59.465Z"
   },
   {
    "duration": 7,
    "start_time": "2023-08-22T14:14:59.470Z"
   },
   {
    "duration": 11,
    "start_time": "2023-08-22T14:14:59.478Z"
   },
   {
    "duration": 8,
    "start_time": "2023-08-22T14:14:59.490Z"
   },
   {
    "duration": 17,
    "start_time": "2023-08-22T14:14:59.500Z"
   },
   {
    "duration": 5,
    "start_time": "2023-08-22T14:14:59.521Z"
   },
   {
    "duration": 6,
    "start_time": "2023-08-22T14:14:59.527Z"
   },
   {
    "duration": 6,
    "start_time": "2023-08-22T14:14:59.535Z"
   },
   {
    "duration": 7,
    "start_time": "2023-08-22T14:14:59.542Z"
   },
   {
    "duration": 12,
    "start_time": "2023-08-22T14:14:59.551Z"
   },
   {
    "duration": 7,
    "start_time": "2023-08-22T14:14:59.564Z"
   },
   {
    "duration": 51,
    "start_time": "2023-08-22T14:14:59.572Z"
   },
   {
    "duration": 12,
    "start_time": "2023-08-22T14:14:59.625Z"
   },
   {
    "duration": 196,
    "start_time": "2023-08-22T14:14:59.639Z"
   },
   {
    "duration": 13,
    "start_time": "2023-08-22T14:14:59.837Z"
   },
   {
    "duration": 12,
    "start_time": "2023-08-22T14:14:59.851Z"
   },
   {
    "duration": 186,
    "start_time": "2023-08-22T14:14:59.865Z"
   },
   {
    "duration": 8,
    "start_time": "2023-08-22T14:15:00.054Z"
   },
   {
    "duration": 6,
    "start_time": "2023-08-22T14:15:00.063Z"
   },
   {
    "duration": 5,
    "start_time": "2023-08-22T14:15:00.071Z"
   },
   {
    "duration": 199,
    "start_time": "2023-08-22T14:15:00.078Z"
   },
   {
    "duration": 201,
    "start_time": "2023-08-22T14:15:00.280Z"
   },
   {
    "duration": 4,
    "start_time": "2023-08-22T14:15:00.484Z"
   },
   {
    "duration": 33,
    "start_time": "2023-08-22T14:15:00.490Z"
   },
   {
    "duration": 30,
    "start_time": "2023-08-22T14:15:00.524Z"
   },
   {
    "duration": 36,
    "start_time": "2023-08-22T14:15:00.556Z"
   },
   {
    "duration": 27,
    "start_time": "2023-08-22T14:15:00.593Z"
   },
   {
    "duration": 27,
    "start_time": "2023-08-22T14:15:00.622Z"
   },
   {
    "duration": 182,
    "start_time": "2023-08-22T14:15:00.651Z"
   },
   {
    "duration": 4,
    "start_time": "2023-08-22T14:15:00.835Z"
   },
   {
    "duration": 27,
    "start_time": "2023-08-22T14:15:00.841Z"
   },
   {
    "duration": 38,
    "start_time": "2023-08-22T14:15:00.870Z"
   },
   {
    "duration": 41,
    "start_time": "2023-08-22T14:15:00.909Z"
   },
   {
    "duration": 35,
    "start_time": "2023-08-22T14:15:00.952Z"
   },
   {
    "duration": 66,
    "start_time": "2023-08-22T14:15:00.989Z"
   },
   {
    "duration": 38,
    "start_time": "2023-08-22T14:15:01.057Z"
   },
   {
    "duration": 197,
    "start_time": "2023-08-22T14:15:01.096Z"
   },
   {
    "duration": 7,
    "start_time": "2023-08-22T14:15:01.294Z"
   },
   {
    "duration": 26,
    "start_time": "2023-08-22T14:15:01.303Z"
   },
   {
    "duration": 37,
    "start_time": "2023-08-22T14:15:01.331Z"
   },
   {
    "duration": 168,
    "start_time": "2023-08-22T14:15:01.369Z"
   },
   {
    "duration": 5,
    "start_time": "2023-08-22T14:15:01.538Z"
   },
   {
    "duration": 47,
    "start_time": "2023-08-22T14:15:01.545Z"
   },
   {
    "duration": 31,
    "start_time": "2023-08-22T14:15:01.593Z"
   },
   {
    "duration": 30,
    "start_time": "2023-08-22T14:15:01.626Z"
   },
   {
    "duration": 128,
    "start_time": "2023-08-22T14:15:01.657Z"
   },
   {
    "duration": 42,
    "start_time": "2023-08-22T14:15:01.787Z"
   },
   {
    "duration": 234,
    "start_time": "2023-08-22T14:15:01.831Z"
   },
   {
    "duration": 5,
    "start_time": "2023-08-22T14:15:02.067Z"
   },
   {
    "duration": 51,
    "start_time": "2023-08-22T14:15:02.073Z"
   },
   {
    "duration": 50,
    "start_time": "2023-08-22T14:15:02.126Z"
   },
   {
    "duration": 26,
    "start_time": "2023-08-22T14:15:02.178Z"
   },
   {
    "duration": 27,
    "start_time": "2023-08-22T14:15:02.206Z"
   },
   {
    "duration": 63,
    "start_time": "2023-08-22T14:15:02.235Z"
   },
   {
    "duration": 65,
    "start_time": "2023-08-22T14:15:02.300Z"
   },
   {
    "duration": 184,
    "start_time": "2023-08-22T14:15:02.368Z"
   },
   {
    "duration": 9,
    "start_time": "2023-08-22T14:15:02.554Z"
   },
   {
    "duration": 34,
    "start_time": "2023-08-22T14:15:02.565Z"
   },
   {
    "duration": 32,
    "start_time": "2023-08-22T14:15:02.601Z"
   },
   {
    "duration": 190,
    "start_time": "2023-08-22T14:15:02.635Z"
   },
   {
    "duration": 6,
    "start_time": "2023-08-22T14:15:02.827Z"
   },
   {
    "duration": 30,
    "start_time": "2023-08-22T14:15:02.835Z"
   },
   {
    "duration": 23,
    "start_time": "2023-08-22T14:15:02.867Z"
   },
   {
    "duration": 16,
    "start_time": "2023-08-22T14:15:02.892Z"
   },
   {
    "duration": 36,
    "start_time": "2023-08-22T14:15:02.912Z"
   },
   {
    "duration": 176,
    "start_time": "2023-08-22T14:15:02.950Z"
   },
   {
    "duration": 222,
    "start_time": "2023-08-22T14:15:03.128Z"
   },
   {
    "duration": 4,
    "start_time": "2023-08-22T14:15:03.352Z"
   },
   {
    "duration": 14,
    "start_time": "2023-08-22T14:15:03.358Z"
   },
   {
    "duration": 17,
    "start_time": "2023-08-22T14:15:03.374Z"
   },
   {
    "duration": 10,
    "start_time": "2023-08-22T14:15:03.393Z"
   },
   {
    "duration": 20,
    "start_time": "2023-08-22T14:15:03.404Z"
   },
   {
    "duration": 8,
    "start_time": "2023-08-22T14:15:03.426Z"
   },
   {
    "duration": 469,
    "start_time": "2023-08-22T14:15:03.436Z"
   },
   {
    "duration": 3,
    "start_time": "2023-08-22T14:15:03.906Z"
   },
   {
    "duration": 14,
    "start_time": "2023-08-22T14:15:03.913Z"
   },
   {
    "duration": 10,
    "start_time": "2023-08-22T14:15:03.929Z"
   },
   {
    "duration": 15,
    "start_time": "2023-08-22T14:15:03.941Z"
   },
   {
    "duration": 12,
    "start_time": "2023-08-22T14:15:03.958Z"
   },
   {
    "duration": 11,
    "start_time": "2023-08-22T14:15:03.977Z"
   },
   {
    "duration": 7,
    "start_time": "2023-08-22T14:15:03.990Z"
   },
   {
    "duration": 5,
    "start_time": "2023-08-22T14:15:03.998Z"
   },
   {
    "duration": 10,
    "start_time": "2023-08-22T14:15:04.004Z"
   },
   {
    "duration": 11,
    "start_time": "2023-08-22T14:15:04.015Z"
   },
   {
    "duration": 4,
    "start_time": "2023-08-22T14:15:04.028Z"
   },
   {
    "duration": 9,
    "start_time": "2023-08-22T14:15:04.034Z"
   },
   {
    "duration": 4,
    "start_time": "2023-08-22T14:15:04.045Z"
   },
   {
    "duration": 11,
    "start_time": "2023-08-22T14:15:04.050Z"
   },
   {
    "duration": 5,
    "start_time": "2023-08-22T14:15:04.063Z"
   },
   {
    "duration": 5,
    "start_time": "2023-08-22T14:15:04.070Z"
   },
   {
    "duration": 9,
    "start_time": "2023-08-22T14:15:04.077Z"
   },
   {
    "duration": 12,
    "start_time": "2023-08-22T14:15:04.088Z"
   },
   {
    "duration": 101,
    "start_time": "2023-08-22T14:16:22.123Z"
   },
   {
    "duration": 184,
    "start_time": "2023-08-22T14:16:37.770Z"
   },
   {
    "duration": 3,
    "start_time": "2023-08-22T14:30:53.261Z"
   },
   {
    "duration": 3,
    "start_time": "2023-08-22T14:30:56.263Z"
   },
   {
    "duration": 4,
    "start_time": "2023-08-22T14:31:34.739Z"
   }
  ],
  "kernelspec": {
   "display_name": "Python 3 (ipykernel)",
   "language": "python",
   "name": "python3"
  },
  "language_info": {
   "codemirror_mode": {
    "name": "ipython",
    "version": 3
   },
   "file_extension": ".py",
   "mimetype": "text/x-python",
   "name": "python",
   "nbconvert_exporter": "python",
   "pygments_lexer": "ipython3",
   "version": "3.9.12"
  },
  "toc": {
   "base_numbering": 1,
   "nav_menu": {},
   "number_sections": true,
   "sideBar": true,
   "skip_h1_title": true,
   "title_cell": "Table of Contents",
   "title_sidebar": "Contents",
   "toc_cell": false,
   "toc_position": {},
   "toc_section_display": true,
   "toc_window_display": false
  }
 },
 "nbformat": 4,
 "nbformat_minor": 2
}
