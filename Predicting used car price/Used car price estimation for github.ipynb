{
 "cells": [
  {
   "cell_type": "markdown",
   "metadata": {},
   "source": [
    "# Used Car Price Estimation"
   ]
  },
  {
   "cell_type": "markdown",
   "metadata": {},
   "source": [
    "A used car sales service is developing an application to attract new customers. The application will enable users to quickly determine the market value of their used car. You have access to historical data, including technical specifications, configurations, and prices of cars. Your task is to build a model for determining the value.\n",
    "\n",
    "The client emphasizes:\n",
    "\n",
    "Prediction quality.\n",
    "\n",
    "Prediction speed.\n",
    "\n",
    "Training time.\n"
   ]
  },
  {
   "cell_type": "markdown",
   "metadata": {},
   "source": [
    "## Exploratory Data Analysis"
   ]
  },
  {
   "cell_type": "code",
   "execution_count": 1,
   "metadata": {},
   "outputs": [],
   "source": [
    "import pandas as pd\n",
    "import datetime\n",
    "import numpy as np\n",
    "import matplotlib.pyplot as plt\n",
    "from sklearn.preprocessing import OrdinalEncoder, StandardScaler\n",
    "from sklearn.preprocessing import OneHotEncoder\n",
    "import seaborn as sns\n",
    "from sklearn.model_selection import train_test_split\n",
    "from sklearn.linear_model import LinearRegression\n",
    "from catboost import CatBoostClassifier\n",
    "import lightgbm as lgb\n",
    "import warnings\n",
    "from sklearn.model_selection import GridSearchCV\n",
    "from sklearn.metrics import mean_squared_error\n",
    "from sklearn.model_selection import cross_val_score\n",
    "from sklearn import preprocessing\n",
    "from sklearn.preprocessing import LabelEncoder\n",
    "from sklearn.pipeline import Pipeline\n",
    "import lightgbm\n",
    "from lightgbm import LGBMRegressor\n",
    "from sklearn.ensemble import RandomForestRegressor\n",
    "from catboost import CatBoostRegressor\n",
    "from sklearn.compose import make_column_transformer\n",
    "from sklearn.model_selection import cross_validate\n",
    "warnings.filterwarnings(\"ignore\")"
   ]
  },
  {
   "cell_type": "code",
   "execution_count": 2,
   "metadata": {},
   "outputs": [],
   "source": [
    "data=pd.read_csv('/datasets/autos.csv')"
   ]
  },
  {
   "cell_type": "code",
   "execution_count": 3,
   "metadata": {},
   "outputs": [
    {
     "name": "stdout",
     "output_type": "stream",
     "text": [
      "<class 'pandas.core.frame.DataFrame'>\n",
      "RangeIndex: 354369 entries, 0 to 354368\n",
      "Data columns (total 16 columns):\n",
      " #   Column             Non-Null Count   Dtype \n",
      "---  ------             --------------   ----- \n",
      " 0   DateCrawled        354369 non-null  object\n",
      " 1   Price              354369 non-null  int64 \n",
      " 2   VehicleType        316879 non-null  object\n",
      " 3   RegistrationYear   354369 non-null  int64 \n",
      " 4   Gearbox            334536 non-null  object\n",
      " 5   Power              354369 non-null  int64 \n",
      " 6   Model              334664 non-null  object\n",
      " 7   Kilometer          354369 non-null  int64 \n",
      " 8   RegistrationMonth  354369 non-null  int64 \n",
      " 9   FuelType           321474 non-null  object\n",
      " 10  Brand              354369 non-null  object\n",
      " 11  Repaired           283215 non-null  object\n",
      " 12  DateCreated        354369 non-null  object\n",
      " 13  NumberOfPictures   354369 non-null  int64 \n",
      " 14  PostalCode         354369 non-null  int64 \n",
      " 15  LastSeen           354369 non-null  object\n",
      "dtypes: int64(7), object(9)\n",
      "memory usage: 43.3+ MB\n",
      "None\n"
     ]
    }
   ],
   "source": [
    "print(data.info())"
   ]
  },
  {
   "cell_type": "code",
   "execution_count": 4,
   "metadata": {},
   "outputs": [
    {
     "data": {
      "text/html": [
       "<div>\n",
       "<style scoped>\n",
       "    .dataframe tbody tr th:only-of-type {\n",
       "        vertical-align: middle;\n",
       "    }\n",
       "\n",
       "    .dataframe tbody tr th {\n",
       "        vertical-align: top;\n",
       "    }\n",
       "\n",
       "    .dataframe thead th {\n",
       "        text-align: right;\n",
       "    }\n",
       "</style>\n",
       "<table border=\"1\" class=\"dataframe\">\n",
       "  <thead>\n",
       "    <tr style=\"text-align: right;\">\n",
       "      <th></th>\n",
       "      <th>DateCrawled</th>\n",
       "      <th>Price</th>\n",
       "      <th>VehicleType</th>\n",
       "      <th>RegistrationYear</th>\n",
       "      <th>Gearbox</th>\n",
       "      <th>Power</th>\n",
       "      <th>Model</th>\n",
       "      <th>Kilometer</th>\n",
       "      <th>RegistrationMonth</th>\n",
       "      <th>FuelType</th>\n",
       "      <th>Brand</th>\n",
       "      <th>Repaired</th>\n",
       "      <th>DateCreated</th>\n",
       "      <th>NumberOfPictures</th>\n",
       "      <th>PostalCode</th>\n",
       "      <th>LastSeen</th>\n",
       "    </tr>\n",
       "  </thead>\n",
       "  <tbody>\n",
       "    <tr>\n",
       "      <th>0</th>\n",
       "      <td>2016-03-24 11:52:17</td>\n",
       "      <td>480</td>\n",
       "      <td>NaN</td>\n",
       "      <td>1993</td>\n",
       "      <td>manual</td>\n",
       "      <td>0</td>\n",
       "      <td>golf</td>\n",
       "      <td>150000</td>\n",
       "      <td>0</td>\n",
       "      <td>petrol</td>\n",
       "      <td>volkswagen</td>\n",
       "      <td>NaN</td>\n",
       "      <td>2016-03-24 00:00:00</td>\n",
       "      <td>0</td>\n",
       "      <td>70435</td>\n",
       "      <td>2016-04-07 03:16:57</td>\n",
       "    </tr>\n",
       "    <tr>\n",
       "      <th>1</th>\n",
       "      <td>2016-03-24 10:58:45</td>\n",
       "      <td>18300</td>\n",
       "      <td>coupe</td>\n",
       "      <td>2011</td>\n",
       "      <td>manual</td>\n",
       "      <td>190</td>\n",
       "      <td>NaN</td>\n",
       "      <td>125000</td>\n",
       "      <td>5</td>\n",
       "      <td>gasoline</td>\n",
       "      <td>audi</td>\n",
       "      <td>yes</td>\n",
       "      <td>2016-03-24 00:00:00</td>\n",
       "      <td>0</td>\n",
       "      <td>66954</td>\n",
       "      <td>2016-04-07 01:46:50</td>\n",
       "    </tr>\n",
       "    <tr>\n",
       "      <th>2</th>\n",
       "      <td>2016-03-14 12:52:21</td>\n",
       "      <td>9800</td>\n",
       "      <td>suv</td>\n",
       "      <td>2004</td>\n",
       "      <td>auto</td>\n",
       "      <td>163</td>\n",
       "      <td>grand</td>\n",
       "      <td>125000</td>\n",
       "      <td>8</td>\n",
       "      <td>gasoline</td>\n",
       "      <td>jeep</td>\n",
       "      <td>NaN</td>\n",
       "      <td>2016-03-14 00:00:00</td>\n",
       "      <td>0</td>\n",
       "      <td>90480</td>\n",
       "      <td>2016-04-05 12:47:46</td>\n",
       "    </tr>\n",
       "    <tr>\n",
       "      <th>3</th>\n",
       "      <td>2016-03-17 16:54:04</td>\n",
       "      <td>1500</td>\n",
       "      <td>small</td>\n",
       "      <td>2001</td>\n",
       "      <td>manual</td>\n",
       "      <td>75</td>\n",
       "      <td>golf</td>\n",
       "      <td>150000</td>\n",
       "      <td>6</td>\n",
       "      <td>petrol</td>\n",
       "      <td>volkswagen</td>\n",
       "      <td>no</td>\n",
       "      <td>2016-03-17 00:00:00</td>\n",
       "      <td>0</td>\n",
       "      <td>91074</td>\n",
       "      <td>2016-03-17 17:40:17</td>\n",
       "    </tr>\n",
       "    <tr>\n",
       "      <th>4</th>\n",
       "      <td>2016-03-31 17:25:20</td>\n",
       "      <td>3600</td>\n",
       "      <td>small</td>\n",
       "      <td>2008</td>\n",
       "      <td>manual</td>\n",
       "      <td>69</td>\n",
       "      <td>fabia</td>\n",
       "      <td>90000</td>\n",
       "      <td>7</td>\n",
       "      <td>gasoline</td>\n",
       "      <td>skoda</td>\n",
       "      <td>no</td>\n",
       "      <td>2016-03-31 00:00:00</td>\n",
       "      <td>0</td>\n",
       "      <td>60437</td>\n",
       "      <td>2016-04-06 10:17:21</td>\n",
       "    </tr>\n",
       "    <tr>\n",
       "      <th>...</th>\n",
       "      <td>...</td>\n",
       "      <td>...</td>\n",
       "      <td>...</td>\n",
       "      <td>...</td>\n",
       "      <td>...</td>\n",
       "      <td>...</td>\n",
       "      <td>...</td>\n",
       "      <td>...</td>\n",
       "      <td>...</td>\n",
       "      <td>...</td>\n",
       "      <td>...</td>\n",
       "      <td>...</td>\n",
       "      <td>...</td>\n",
       "      <td>...</td>\n",
       "      <td>...</td>\n",
       "      <td>...</td>\n",
       "    </tr>\n",
       "    <tr>\n",
       "      <th>354364</th>\n",
       "      <td>2016-03-21 09:50:58</td>\n",
       "      <td>0</td>\n",
       "      <td>NaN</td>\n",
       "      <td>2005</td>\n",
       "      <td>manual</td>\n",
       "      <td>0</td>\n",
       "      <td>colt</td>\n",
       "      <td>150000</td>\n",
       "      <td>7</td>\n",
       "      <td>petrol</td>\n",
       "      <td>mitsubishi</td>\n",
       "      <td>yes</td>\n",
       "      <td>2016-03-21 00:00:00</td>\n",
       "      <td>0</td>\n",
       "      <td>2694</td>\n",
       "      <td>2016-03-21 10:42:49</td>\n",
       "    </tr>\n",
       "    <tr>\n",
       "      <th>354365</th>\n",
       "      <td>2016-03-14 17:48:27</td>\n",
       "      <td>2200</td>\n",
       "      <td>NaN</td>\n",
       "      <td>2005</td>\n",
       "      <td>NaN</td>\n",
       "      <td>0</td>\n",
       "      <td>NaN</td>\n",
       "      <td>20000</td>\n",
       "      <td>1</td>\n",
       "      <td>NaN</td>\n",
       "      <td>sonstige_autos</td>\n",
       "      <td>NaN</td>\n",
       "      <td>2016-03-14 00:00:00</td>\n",
       "      <td>0</td>\n",
       "      <td>39576</td>\n",
       "      <td>2016-04-06 00:46:52</td>\n",
       "    </tr>\n",
       "    <tr>\n",
       "      <th>354366</th>\n",
       "      <td>2016-03-05 19:56:21</td>\n",
       "      <td>1199</td>\n",
       "      <td>convertible</td>\n",
       "      <td>2000</td>\n",
       "      <td>auto</td>\n",
       "      <td>101</td>\n",
       "      <td>fortwo</td>\n",
       "      <td>125000</td>\n",
       "      <td>3</td>\n",
       "      <td>petrol</td>\n",
       "      <td>smart</td>\n",
       "      <td>no</td>\n",
       "      <td>2016-03-05 00:00:00</td>\n",
       "      <td>0</td>\n",
       "      <td>26135</td>\n",
       "      <td>2016-03-11 18:17:12</td>\n",
       "    </tr>\n",
       "    <tr>\n",
       "      <th>354367</th>\n",
       "      <td>2016-03-19 18:57:12</td>\n",
       "      <td>9200</td>\n",
       "      <td>bus</td>\n",
       "      <td>1996</td>\n",
       "      <td>manual</td>\n",
       "      <td>102</td>\n",
       "      <td>transporter</td>\n",
       "      <td>150000</td>\n",
       "      <td>3</td>\n",
       "      <td>gasoline</td>\n",
       "      <td>volkswagen</td>\n",
       "      <td>no</td>\n",
       "      <td>2016-03-19 00:00:00</td>\n",
       "      <td>0</td>\n",
       "      <td>87439</td>\n",
       "      <td>2016-04-07 07:15:26</td>\n",
       "    </tr>\n",
       "    <tr>\n",
       "      <th>354368</th>\n",
       "      <td>2016-03-20 19:41:08</td>\n",
       "      <td>3400</td>\n",
       "      <td>wagon</td>\n",
       "      <td>2002</td>\n",
       "      <td>manual</td>\n",
       "      <td>100</td>\n",
       "      <td>golf</td>\n",
       "      <td>150000</td>\n",
       "      <td>6</td>\n",
       "      <td>gasoline</td>\n",
       "      <td>volkswagen</td>\n",
       "      <td>NaN</td>\n",
       "      <td>2016-03-20 00:00:00</td>\n",
       "      <td>0</td>\n",
       "      <td>40764</td>\n",
       "      <td>2016-03-24 12:45:21</td>\n",
       "    </tr>\n",
       "  </tbody>\n",
       "</table>\n",
       "<p>354369 rows × 16 columns</p>\n",
       "</div>"
      ],
      "text/plain": [
       "                DateCrawled  Price  VehicleType  RegistrationYear Gearbox  \\\n",
       "0       2016-03-24 11:52:17    480          NaN              1993  manual   \n",
       "1       2016-03-24 10:58:45  18300        coupe              2011  manual   \n",
       "2       2016-03-14 12:52:21   9800          suv              2004    auto   \n",
       "3       2016-03-17 16:54:04   1500        small              2001  manual   \n",
       "4       2016-03-31 17:25:20   3600        small              2008  manual   \n",
       "...                     ...    ...          ...               ...     ...   \n",
       "354364  2016-03-21 09:50:58      0          NaN              2005  manual   \n",
       "354365  2016-03-14 17:48:27   2200          NaN              2005     NaN   \n",
       "354366  2016-03-05 19:56:21   1199  convertible              2000    auto   \n",
       "354367  2016-03-19 18:57:12   9200          bus              1996  manual   \n",
       "354368  2016-03-20 19:41:08   3400        wagon              2002  manual   \n",
       "\n",
       "        Power        Model  Kilometer  RegistrationMonth  FuelType  \\\n",
       "0           0         golf     150000                  0    petrol   \n",
       "1         190          NaN     125000                  5  gasoline   \n",
       "2         163        grand     125000                  8  gasoline   \n",
       "3          75         golf     150000                  6    petrol   \n",
       "4          69        fabia      90000                  7  gasoline   \n",
       "...       ...          ...        ...                ...       ...   \n",
       "354364      0         colt     150000                  7    petrol   \n",
       "354365      0          NaN      20000                  1       NaN   \n",
       "354366    101       fortwo     125000                  3    petrol   \n",
       "354367    102  transporter     150000                  3  gasoline   \n",
       "354368    100         golf     150000                  6  gasoline   \n",
       "\n",
       "                 Brand Repaired          DateCreated  NumberOfPictures  \\\n",
       "0           volkswagen      NaN  2016-03-24 00:00:00                 0   \n",
       "1                 audi      yes  2016-03-24 00:00:00                 0   \n",
       "2                 jeep      NaN  2016-03-14 00:00:00                 0   \n",
       "3           volkswagen       no  2016-03-17 00:00:00                 0   \n",
       "4                skoda       no  2016-03-31 00:00:00                 0   \n",
       "...                ...      ...                  ...               ...   \n",
       "354364      mitsubishi      yes  2016-03-21 00:00:00                 0   \n",
       "354365  sonstige_autos      NaN  2016-03-14 00:00:00                 0   \n",
       "354366           smart       no  2016-03-05 00:00:00                 0   \n",
       "354367      volkswagen       no  2016-03-19 00:00:00                 0   \n",
       "354368      volkswagen      NaN  2016-03-20 00:00:00                 0   \n",
       "\n",
       "        PostalCode             LastSeen  \n",
       "0            70435  2016-04-07 03:16:57  \n",
       "1            66954  2016-04-07 01:46:50  \n",
       "2            90480  2016-04-05 12:47:46  \n",
       "3            91074  2016-03-17 17:40:17  \n",
       "4            60437  2016-04-06 10:17:21  \n",
       "...            ...                  ...  \n",
       "354364        2694  2016-03-21 10:42:49  \n",
       "354365       39576  2016-04-06 00:46:52  \n",
       "354366       26135  2016-03-11 18:17:12  \n",
       "354367       87439  2016-04-07 07:15:26  \n",
       "354368       40764  2016-03-24 12:45:21  \n",
       "\n",
       "[354369 rows x 16 columns]"
      ]
     },
     "metadata": {},
     "output_type": "display_data"
    }
   ],
   "source": [
    "display(data)"
   ]
  },
  {
   "cell_type": "markdown",
   "metadata": {},
   "source": [
    "We have 15 columns with various features such as the date of questionnaire download, body type, transmission type, power, car model, mileage, fuel type, brand, etc. The target variable is the price."
   ]
  },
  {
   "cell_type": "markdown",
   "metadata": {},
   "source": [
    "### Filling Missing Values"
   ]
  },
  {
   "cell_type": "code",
   "execution_count": 5,
   "metadata": {},
   "outputs": [],
   "source": [
    "data.reset_index(drop=True, inplace=True)"
   ]
  },
  {
   "cell_type": "code",
   "execution_count": 6,
   "metadata": {},
   "outputs": [
    {
     "data": {
      "text/plain": [
       "Repaired             0.200791\n",
       "VehicleType          0.105794\n",
       "FuelType             0.092827\n",
       "Gearbox              0.055967\n",
       "Model                0.055606\n",
       "DateCrawled          0.000000\n",
       "Price                0.000000\n",
       "RegistrationYear     0.000000\n",
       "Power                0.000000\n",
       "Kilometer            0.000000\n",
       "RegistrationMonth    0.000000\n",
       "Brand                0.000000\n",
       "DateCreated          0.000000\n",
       "NumberOfPictures     0.000000\n",
       "PostalCode           0.000000\n",
       "LastSeen             0.000000\n",
       "dtype: float64"
      ]
     },
     "execution_count": 6,
     "metadata": {},
     "output_type": "execute_result"
    }
   ],
   "source": [
    "data.isna().mean().sort_values(ascending=False)"
   ]
  },
  {
   "cell_type": "markdown",
   "metadata": {},
   "source": [
    "There are missing values in the following columns:\n",
    "\n",
    "VehicleType: Body type of the vehicle (10% missing)\n",
    "\n",
    "Gearbox: Transmission type (6% missing)\n",
    "\n",
    "Model: Car model (6% missing)\n",
    "\n",
    "FuelType: Fuel type (9% missing)\n",
    "\n",
    "Repaired: Whether the car was repaired or not (20% missing)\n",
    "\n",
    "Since these columns all impact the target variable - the car's price - directly, they cannot be removed. All these features are categorical, so one option is to replace the missing values with a common value, such as \"unknown\"."
   ]
  },
  {
   "cell_type": "code",
   "execution_count": 7,
   "metadata": {},
   "outputs": [],
   "source": [
    "data=data.fillna('unknown')"
   ]
  },
  {
   "cell_type": "code",
   "execution_count": 8,
   "metadata": {},
   "outputs": [
    {
     "data": {
      "text/plain": [
       "DateCrawled          0.0\n",
       "Price                0.0\n",
       "VehicleType          0.0\n",
       "RegistrationYear     0.0\n",
       "Gearbox              0.0\n",
       "Power                0.0\n",
       "Model                0.0\n",
       "Kilometer            0.0\n",
       "RegistrationMonth    0.0\n",
       "FuelType             0.0\n",
       "Brand                0.0\n",
       "Repaired             0.0\n",
       "DateCreated          0.0\n",
       "NumberOfPictures     0.0\n",
       "PostalCode           0.0\n",
       "LastSeen             0.0\n",
       "dtype: float64"
      ]
     },
     "execution_count": 8,
     "metadata": {},
     "output_type": "execute_result"
    }
   ],
   "source": [
    "data.isna().mean()"
   ]
  },
  {
   "cell_type": "markdown",
   "metadata": {},
   "source": [
    "### Outlier Detection"
   ]
  },
  {
   "cell_type": "code",
   "execution_count": 9,
   "metadata": {},
   "outputs": [
    {
     "data": {
      "text/plain": [
       "<AxesSubplot:xlabel='Kilometer'>"
      ]
     },
     "execution_count": 9,
     "metadata": {},
     "output_type": "execute_result"
    },
    {
     "data": {
      "image/png": "[encoded data removed]",
      "text/plain": [
       "<Figure size 432x288 with 1 Axes>"
      ]
     },
     "metadata": {
      "needs_background": "light"
     },
     "output_type": "display_data"
    }
   ],
   "source": [
    "sns.boxplot(data['Kilometer'])"
   ]
  },
  {
   "cell_type": "code",
   "execution_count": 10,
   "metadata": {},
   "outputs": [
    {
     "data": {
      "text/plain": [
       "count    354369.000000\n",
       "mean     128211.172535\n",
       "std       37905.341530\n",
       "min        5000.000000\n",
       "25%      125000.000000\n",
       "50%      150000.000000\n",
       "75%      150000.000000\n",
       "max      150000.000000\n",
       "Name: Kilometer, dtype: float64"
      ]
     },
     "execution_count": 10,
     "metadata": {},
     "output_type": "execute_result"
    }
   ],
   "source": [
    "data['Kilometer'].describe()"
   ]
  },
  {
   "cell_type": "code",
   "execution_count": 11,
   "metadata": {},
   "outputs": [
    {
     "data": {
      "text/plain": [
       "<AxesSubplot:>"
      ]
     },
     "execution_count": 11,
     "metadata": {},
     "output_type": "execute_result"
    },
    {
     "data": {
      "image/png": "[encoded data removed]",
      "text/plain": [
       "<Figure size 432x288 with 1 Axes>"
      ]
     },
     "metadata": {
      "needs_background": "light"
     },
     "output_type": "display_data"
    }
   ],
   "source": [
    "data['Kilometer'].hist()"
   ]
  },
  {
   "cell_type": "markdown",
   "metadata": {},
   "source": [
    "There are no outliers in the mileage. Most cars have mileage ranging from 130,000 to 150,000 km, but there are also cars with lower mileage. The minimum value is 5,000 km."
   ]
  },
  {
   "cell_type": "code",
   "execution_count": 12,
   "metadata": {},
   "outputs": [
    {
     "data": {
      "text/plain": [
       "<AxesSubplot:xlabel='Price'>"
      ]
     },
     "execution_count": 12,
     "metadata": {},
     "output_type": "execute_result"
    },
    {
     "data": {
      "image/png": "[encoded data removed]",
      "text/plain": [
       "<Figure size 432x288 with 1 Axes>"
      ]
     },
     "metadata": {
      "needs_background": "light"
     },
     "output_type": "display_data"
    }
   ],
   "source": [
    "sns.boxplot(data['Price'])"
   ]
  },
  {
   "cell_type": "code",
   "execution_count": 13,
   "metadata": {},
   "outputs": [
    {
     "data": {
      "text/plain": [
       "count    354369.000000\n",
       "mean       4416.656776\n",
       "std        4514.158514\n",
       "min           0.000000\n",
       "25%        1050.000000\n",
       "50%        2700.000000\n",
       "75%        6400.000000\n",
       "max       20000.000000\n",
       "Name: Price, dtype: float64"
      ]
     },
     "execution_count": 13,
     "metadata": {},
     "output_type": "execute_result"
    }
   ],
   "source": [
    "data['Price'].describe()"
   ]
  },
  {
   "cell_type": "code",
   "execution_count": 14,
   "metadata": {},
   "outputs": [
    {
     "data": {
      "text/plain": [
       "<AxesSubplot:>"
      ]
     },
     "execution_count": 14,
     "metadata": {},
     "output_type": "execute_result"
    },
    {
     "data": {
      "image/png": "[encoded data removed]",
      "text/plain": [
       "<Figure size 432x288 with 1 Axes>"
      ]
     },
     "metadata": {
      "needs_background": "light"
     },
     "output_type": "display_data"
    }
   ],
   "source": [
    "data['Price'].hist()"
   ]
  },
  {
   "cell_type": "markdown",
   "metadata": {},
   "source": [
    "We can observe that the minimum price is 0. This is likely due to incorrectly filled data and could adversely impact the model's predictions. Let's exclude all data rowas with a price of 0 from the dataset."
   ]
  },
  {
   "cell_type": "code",
   "execution_count": 15,
   "metadata": {},
   "outputs": [],
   "source": [
    "data=data.loc[data['Price'] != 0]"
   ]
  },
  {
   "cell_type": "code",
   "execution_count": 16,
   "metadata": {},
   "outputs": [
    {
     "data": {
      "text/plain": [
       "count    343597.000000\n",
       "mean       4555.121974\n",
       "std        4515.058553\n",
       "min           1.000000\n",
       "25%        1200.000000\n",
       "50%        2890.000000\n",
       "75%        6500.000000\n",
       "max       20000.000000\n",
       "Name: Price, dtype: float64"
      ]
     },
     "execution_count": 16,
     "metadata": {},
     "output_type": "execute_result"
    }
   ],
   "source": [
    "data['Price'].describe()"
   ]
  },
  {
   "cell_type": "code",
   "execution_count": 17,
   "metadata": {},
   "outputs": [
    {
     "data": {
      "text/plain": [
       "<AxesSubplot:>"
      ]
     },
     "execution_count": 17,
     "metadata": {},
     "output_type": "execute_result"
    },
    {
     "data": {
      "image/png": "[encoded data removed]",
      "text/plain": [
       "<Figure size 432x288 with 1 Axes>"
      ]
     },
     "metadata": {
      "needs_background": "light"
     },
     "output_type": "display_data"
    }
   ],
   "source": [
    "data['Gearbox'].hist()"
   ]
  },
  {
   "cell_type": "code",
   "execution_count": 18,
   "metadata": {},
   "outputs": [
    {
     "data": {
      "text/plain": [
       "<AxesSubplot:>"
      ]
     },
     "execution_count": 18,
     "metadata": {},
     "output_type": "execute_result"
    },
    {
     "data": {
      "image/png": "[encoded data removed]",
      "text/plain": [
       "<Figure size 432x288 with 1 Axes>"
      ]
     },
     "metadata": {
      "needs_background": "light"
     },
     "output_type": "display_data"
    }
   ],
   "source": [
    "data['VehicleType'].hist()"
   ]
  },
  {
   "cell_type": "markdown",
   "metadata": {},
   "source": [
    "The majority of listings have values like \"Sedan,\" \"Small,\" and \"Convertible.\""
   ]
  },
  {
   "cell_type": "code",
   "execution_count": 19,
   "metadata": {},
   "outputs": [
    {
     "data": {
      "text/plain": [
       "count    343597.000000\n",
       "mean       2004.089797\n",
       "std          78.413225\n",
       "min        1000.000000\n",
       "25%        1999.000000\n",
       "50%        2003.000000\n",
       "75%        2008.000000\n",
       "max        9999.000000\n",
       "Name: RegistrationYear, dtype: float64"
      ]
     },
     "execution_count": 19,
     "metadata": {},
     "output_type": "execute_result"
    }
   ],
   "source": [
    "data['RegistrationYear'].describe()"
   ]
  },
  {
   "cell_type": "code",
   "execution_count": 20,
   "metadata": {},
   "outputs": [
    {
     "data": {
      "text/plain": [
       "<AxesSubplot:xlabel='RegistrationYear'>"
      ]
     },
     "execution_count": 20,
     "metadata": {},
     "output_type": "execute_result"
    },
    {
     "data": {
      "image/png": "[encoded data removed]",
      "text/plain": [
       "<Figure size 432x288 with 1 Axes>"
      ]
     },
     "metadata": {
      "needs_background": "light"
     },
     "output_type": "display_data"
    }
   ],
   "source": [
    "sns.boxplot(data['RegistrationYear'])\n"
   ]
  },
  {
   "cell_type": "code",
   "execution_count": 21,
   "metadata": {},
   "outputs": [
    {
     "data": {
      "text/plain": [
       "<AxesSubplot:>"
      ]
     },
     "execution_count": 21,
     "metadata": {},
     "output_type": "execute_result"
    },
    {
     "data": {
      "image/png": "[encoded data removed]",
      "text/plain": [
       "<Figure size 432x288 with 1 Axes>"
      ]
     },
     "metadata": {
      "needs_background": "light"
     },
     "output_type": "display_data"
    }
   ],
   "source": [
    "data['RegistrationYear'].hist()\n"
   ]
  },
  {
   "cell_type": "markdown",
   "metadata": {},
   "source": [
    "We can see that the majority of registration year values fall within the range of 1999 (25%) to 2008 (75%). However, there are some absurd values such as 1000, 4000, 6000, and 9999. Let's filter the upper limit of the registration year based on the last seen date (LastSeen) since the registration year cannot be later than the date of the listing.\n"
   ]
  },
  {
   "cell_type": "code",
   "execution_count": 22,
   "metadata": {},
   "outputs": [
    {
     "data": {
      "text/plain": [
       "count                  343597\n",
       "unique                 174543\n",
       "top       2016-04-06 13:45:54\n",
       "freq                       16\n",
       "Name: LastSeen, dtype: object"
      ]
     },
     "execution_count": 22,
     "metadata": {},
     "output_type": "execute_result"
    }
   ],
   "source": [
    "data['LastSeen'].describe()"
   ]
  },
  {
   "cell_type": "markdown",
   "metadata": {},
   "source": [
    "The latest listing was viewed in April 2016. Let's filter the registration year up to 2017."
   ]
  },
  {
   "cell_type": "code",
   "execution_count": 23,
   "metadata": {},
   "outputs": [],
   "source": [
    "data=data.loc[data['RegistrationYear']<2017]"
   ]
  },
  {
   "cell_type": "code",
   "execution_count": 24,
   "metadata": {},
   "outputs": [],
   "source": [
    "# We will remove all cars with a registration year before 1960, as they appear to be implausible.\n",
    "data=data.loc[data['RegistrationYear']>1960]"
   ]
  },
  {
   "cell_type": "code",
   "execution_count": 25,
   "metadata": {},
   "outputs": [
    {
     "data": {
      "text/plain": [
       "count    329342.000000\n",
       "mean        111.994656\n",
       "std         184.910679\n",
       "min           0.000000\n",
       "25%          71.000000\n",
       "50%         105.000000\n",
       "75%         143.000000\n",
       "max       20000.000000\n",
       "Name: Power, dtype: float64"
      ]
     },
     "execution_count": 25,
     "metadata": {},
     "output_type": "execute_result"
    }
   ],
   "source": [
    "data['Power'].describe()"
   ]
  },
  {
   "cell_type": "code",
   "execution_count": 26,
   "metadata": {},
   "outputs": [],
   "source": [
    "#We will remove all listings with a power value greater than 1000, as these listings are not plausible\n",
    "data=data.loc[data['Power']<1000]"
   ]
  },
  {
   "cell_type": "code",
   "execution_count": 27,
   "metadata": {},
   "outputs": [
    {
     "data": {
      "text/plain": [
       "array(['golf', 'unknown', 'grand', 'fabia', '3er', '2_reihe', 'c_max',\n",
       "       '3_reihe', 'passat', 'navara', 'polo', 'twingo', 'a_klasse',\n",
       "       'scirocco', '5er', 'arosa', 'other', 'civic', 'transporter',\n",
       "       'punto', 'e_klasse', 'clio', 'kadett', 'kangoo', 'one', 'fortwo',\n",
       "       '1er', 'b_klasse', 'signum', 'astra', 'a8', 'jetta', 'fiesta',\n",
       "       'c_klasse', 'micra', 'vito', 'sprinter', '156', 'escort',\n",
       "       'forester', 'xc_reihe', 'scenic', 'a4', 'ka', 'a1', 'insignia',\n",
       "       'combo', 'focus', 'tt', 'corsa', 'a6', 'jazz', 'omega', 'slk',\n",
       "       '7er', '80', '147', '100', 'z_reihe', 'sorento', 'v40', 'ibiza',\n",
       "       'mustang', 'eos', 'touran', 'getz', 'a3', 'almera', 'megane',\n",
       "       'lupo', 'r19', 'caddy', 'mondeo', 'cordoba', 'colt', 'impreza',\n",
       "       'vectra', 'berlingo', 'tiguan', 'sharan', '6_reihe', 'c4', 'panda',\n",
       "       'up', 'i_reihe', 'ceed', '5_reihe', 'yeti', 'octavia', 'zafira',\n",
       "       'mii', 'rx_reihe', '6er', 'modus', 'fox', 'matiz', 'beetle', 'c1',\n",
       "       'rio', 'touareg', 'logan', 'spider', 'cuore', 's_max', 'a2',\n",
       "       'galaxy', 'c3', 'viano', 's_klasse', '1_reihe', 'avensis',\n",
       "       'roomster', 'sl', 'kaefer', 'santa', 'cooper', 'leon', '4_reihe',\n",
       "       'a5', 'sportage', 'laguna', 'ptcruiser', 'clk', 'primera',\n",
       "       'espace', 'x_reihe', 'exeo', '159', 'transit', 'juke', 'qashqai',\n",
       "       'carisma', 'accord', 'corolla', 'lanos', 'phaeton', 'verso',\n",
       "       'swift', 'rav', 'picanto', 'boxster', 'kalos', 'superb', 'stilo',\n",
       "       'alhambra', 'mx_reihe', 'roadster', 'ypsilon', 'cayenne', 'galant',\n",
       "       'justy', '90', 'sirion', 'crossfire', 'agila', 'duster', 'v50',\n",
       "       '500', 'meriva', 'c_reihe', 'v_klasse', 'm_klasse', 'yaris', 'c5',\n",
       "       'aygo', 'seicento', 'cc', 'carnival', 'fusion', '911', 'bora',\n",
       "       'forfour', 'cl', 'tigra', '300c', 'cr_reihe', 'spark', 'v70',\n",
       "       'kuga', 'x_type', 'ducato', 's_type', 'x_trail', 'toledo', 'altea',\n",
       "       'voyager', 'calibra', 'bravo', 'antara', 'tucson', 'citigo',\n",
       "       'jimny', 'wrangler', 'lybra', 'q7', 'lancer', 'captiva',\n",
       "       'discovery', 'freelander', 'sandero', 'note', '900', 'cherokee',\n",
       "       'clubman', 'samara', 'defender', 'cx_reihe', 'legacy', 'pajero',\n",
       "       'auris', 'c2', 'niva', 's60', 'm_reihe', 'nubira', 'vivaro',\n",
       "       'g_klasse', 'lodgy', '850', 'range_rover', '601', 'q3', 'serie_2',\n",
       "       'glk', 'charade', 'croma', 'outlander', 'doblo', 'musa', 'move',\n",
       "       '9000', 'v60', '145', '200', 'b_max', 'range_rover_sport', 'aveo',\n",
       "       'terios', 'rangerover', 'q5', 'range_rover_evoque', 'materia',\n",
       "       'delta', 'gl', 'kalina', 'elefantino', 'i3', 'amarok', 'kappa',\n",
       "       'serie_3', 'serie_1'], dtype=object)"
      ]
     },
     "execution_count": 27,
     "metadata": {},
     "output_type": "execute_result"
    }
   ],
   "source": [
    "data['Model'].unique()"
   ]
  },
  {
   "cell_type": "code",
   "execution_count": 28,
   "metadata": {},
   "outputs": [
    {
     "data": {
      "text/plain": [
       "array([0])"
      ]
     },
     "execution_count": 28,
     "metadata": {},
     "output_type": "execute_result"
    }
   ],
   "source": [
    "data['NumberOfPictures'].unique()"
   ]
  },
  {
   "cell_type": "code",
   "execution_count": 29,
   "metadata": {},
   "outputs": [
    {
     "data": {
      "text/plain": [
       "0"
      ]
     },
     "execution_count": 29,
     "metadata": {},
     "output_type": "execute_result"
    }
   ],
   "source": [
    "data['NumberOfPictures'].sum()"
   ]
  },
  {
   "cell_type": "markdown",
   "metadata": {},
   "source": [
    "Since the column \"NumberOfPictures\" has a single unique value of 0, it can be safely removed as it provides no useful information."
   ]
  },
  {
   "cell_type": "code",
   "execution_count": 30,
   "metadata": {},
   "outputs": [
    {
     "data": {
      "text/plain": [
       "array(['petrol', 'gasoline', 'unknown', 'lpg', 'other', 'hybrid', 'cng',\n",
       "       'electric'], dtype=object)"
      ]
     },
     "execution_count": 30,
     "metadata": {},
     "output_type": "execute_result"
    }
   ],
   "source": [
    "data['FuelType'].unique()"
   ]
  },
  {
   "cell_type": "code",
   "execution_count": 31,
   "metadata": {},
   "outputs": [
    {
     "data": {
      "text/plain": [
       "<AxesSubplot:>"
      ]
     },
     "execution_count": 31,
     "metadata": {},
     "output_type": "execute_result"
    },
    {
     "data": {
      "image/png": "[encoded data removed]",
      "text/plain": [
       "<Figure size 432x288 with 1 Axes>"
      ]
     },
     "metadata": {
      "needs_background": "light"
     },
     "output_type": "display_data"
    }
   ],
   "source": [
    "data['FuelType'].hist()"
   ]
  },
  {
   "cell_type": "code",
   "execution_count": 32,
   "metadata": {},
   "outputs": [
    {
     "name": "stdout",
     "output_type": "stream",
     "text": [
      "<class 'pandas.core.frame.DataFrame'>\n",
      "Int64Index: 329078 entries, 0 to 354368\n",
      "Data columns (total 16 columns):\n",
      " #   Column             Non-Null Count   Dtype \n",
      "---  ------             --------------   ----- \n",
      " 0   DateCrawled        329078 non-null  object\n",
      " 1   Price              329078 non-null  int64 \n",
      " 2   VehicleType        329078 non-null  object\n",
      " 3   RegistrationYear   329078 non-null  int64 \n",
      " 4   Gearbox            329078 non-null  object\n",
      " 5   Power              329078 non-null  int64 \n",
      " 6   Model              329078 non-null  object\n",
      " 7   Kilometer          329078 non-null  int64 \n",
      " 8   RegistrationMonth  329078 non-null  int64 \n",
      " 9   FuelType           329078 non-null  object\n",
      " 10  Brand              329078 non-null  object\n",
      " 11  Repaired           329078 non-null  object\n",
      " 12  DateCreated        329078 non-null  object\n",
      " 13  NumberOfPictures   329078 non-null  int64 \n",
      " 14  PostalCode         329078 non-null  int64 \n",
      " 15  LastSeen           329078 non-null  object\n",
      "dtypes: int64(7), object(9)\n",
      "memory usage: 42.7+ MB\n"
     ]
    }
   ],
   "source": [
    "# Let's check how much data was removed after filtering out the outliers.\n",
    "data.info()"
   ]
  },
  {
   "cell_type": "markdown",
   "metadata": {},
   "source": [
    "There are 329,000 records remaining out of the initial 354,000, which means we removed 7% of the data. This is not critical. We have removed outliers in the \"RegistrationYear\" column and implausible values in the \"Price\" and \"Power\" columns."
   ]
  },
  {
   "cell_type": "markdown",
   "metadata": {},
   "source": [
    "### Removing Uninformative Features"
   ]
  },
  {
   "cell_type": "markdown",
   "metadata": {},
   "source": [
    "Let's remove the uninformative features."
   ]
  },
  {
   "cell_type": "code",
   "execution_count": 33,
   "metadata": {},
   "outputs": [],
   "source": [
    "data=data.drop([ 'PostalCode', 'DateCrawled','NumberOfPictures', 'DateCreated', 'LastSeen'], axis=1)"
   ]
  },
  {
   "cell_type": "markdown",
   "metadata": {},
   "source": [
    "### Preparing Datasets for Model Training"
   ]
  },
  {
   "cell_type": "markdown",
   "metadata": {},
   "source": [
    "Let's split our dataset into subsets. Since we'll be encoding categorical data using different methods, we'll create copies of the dataframe for each encoding type. For tree-based models, Ordinal Encoding is suitable, for LGBM we can use Label Encoding, and for linear models, we'll use One Hot Encoding. We will create two datasets and two sets of samples, each with different ways of encoding categorical features."
   ]
  },
  {
   "cell_type": "markdown",
   "metadata": {},
   "source": [
    "Let's check the number of unique values in each categorical column:"
   ]
  },
  {
   "cell_type": "code",
   "execution_count": 54,
   "metadata": {},
   "outputs": [
    {
     "data": {
      "text/plain": [
       "VehicleType      9\n",
       "Gearbox          3\n",
       "Model          251\n",
       "FuelType         8\n",
       "Brand           40\n",
       "Repaired         3\n",
       "dtype: int64"
      ]
     },
     "execution_count": 54,
     "metadata": {},
     "output_type": "execute_result"
    }
   ],
   "source": [
    "\n",
    "data[['VehicleType', 'Gearbox', 'Model', 'FuelType', 'Brand', 'Repaired']].nunique()"
   ]
  },
  {
   "cell_type": "markdown",
   "metadata": {},
   "source": [
    "The \"Model\" column has the most values - 251 unique values. If we apply One Hot Encoding (OHE) to this column, it will add 251 columns to our dataframe, significantly increasing its size and potentially affecting the model's speed. Let's remove the \"Model\" column and keep only the \"Brand\" column, encoding all features using One Hot Encoding."
   ]
  },
  {
   "cell_type": "code",
   "execution_count": 35,
   "metadata": {},
   "outputs": [],
   "source": [
    "data_ohe = data.copy()"
   ]
  },
  {
   "cell_type": "code",
   "execution_count": 36,
   "metadata": {},
   "outputs": [],
   "source": [
    "data_ohe = data_ohe.drop([ 'Model'], axis=1)"
   ]
  },
  {
   "cell_type": "code",
   "execution_count": 37,
   "metadata": {},
   "outputs": [],
   "source": [
    "data_oe=data.copy()"
   ]
  },
  {
   "cell_type": "code",
   "execution_count": 38,
   "metadata": {},
   "outputs": [],
   "source": [
    "data_oe=data_oe.drop(['Model'], axis=1)"
   ]
  },
  {
   "cell_type": "code",
   "execution_count": 39,
   "metadata": {},
   "outputs": [],
   "source": [
    "features_oe=data_oe.drop(['Price'], axis=1)\n",
    "target_oe=data_oe['Price']"
   ]
  },
  {
   "cell_type": "code",
   "execution_count": 40,
   "metadata": {},
   "outputs": [],
   "source": [
    "features_ohe=data_ohe.drop(['Price'], axis=1)\n",
    "target_ohe=data_ohe['Price']"
   ]
  },
  {
   "cell_type": "code",
   "execution_count": 41,
   "metadata": {},
   "outputs": [],
   "source": [
    "features_oe_train, features_oe_test, target_oe_train, target_oe_test=train_test_split(features_oe, target_oe, test_size=0.25, random_state=12345)"
   ]
  },
  {
   "cell_type": "code",
   "execution_count": 42,
   "metadata": {},
   "outputs": [],
   "source": [
    "features_ohe_train, features_ohe_test, target_ohe_train, target_ohe_test=train_test_split(features_ohe, target_ohe, test_size=0.25, random_state=12345)"
   ]
  },
  {
   "cell_type": "markdown",
   "metadata": {},
   "source": [
    "### Categorical Feature Encoding"
   ]
  },
  {
   "cell_type": "markdown",
   "metadata": {},
   "source": [
    "Since we will be trying a linear regression model, we need to represent all categorical features in numerical form - that is, encode them."
   ]
  },
  {
   "cell_type": "markdown",
   "metadata": {},
   "source": [
    "Let's encode categorical features using One Hot Encoding for the linear regression model."
   ]
  },
  {
   "cell_type": "code",
   "execution_count": 55,
   "metadata": {},
   "outputs": [],
   "source": [
    "categories = ['VehicleType', 'Gearbox', 'FuelType', 'Brand', 'Repaired']"
   ]
  },
  {
   "cell_type": "code",
   "execution_count": 56,
   "metadata": {},
   "outputs": [],
   "source": [
    "numerics = ['RegistrationYear', 'Power', 'Kilometer', 'RegistrationMonth']"
   ]
  },
  {
   "cell_type": "markdown",
   "metadata": {},
   "source": [
    " We create an OHE (One Hot Encoding) transformer that will apply the OHE transformation to the columns specified in the \"categories\" list.\n"
   ]
  },
  {
   "cell_type": "code",
   "execution_count": 57,
   "metadata": {},
   "outputs": [],
   "source": [
    "ohe_transformer = make_column_transformer((StandardScaler(), numerics),\n",
    "        (OneHotEncoder(), categories),\n",
    "        remainder='passthrough')"
   ]
  },
  {
   "cell_type": "markdown",
   "metadata": {},
   "source": [
    "## Model Training"
   ]
  },
  {
   "cell_type": "markdown",
   "metadata": {},
   "source": [
    "### Linear Regression Model"
   ]
  },
  {
   "cell_type": "markdown",
   "metadata": {},
   "source": [
    "Let's create dataframe to analyse models "
   ]
  },
  {
   "cell_type": "code",
   "execution_count": 58,
   "metadata": {},
   "outputs": [
    {
     "data": {
      "text/html": [
       "<div>\n",
       "<style scoped>\n",
       "    .dataframe tbody tr th:only-of-type {\n",
       "        vertical-align: middle;\n",
       "    }\n",
       "\n",
       "    .dataframe tbody tr th {\n",
       "        vertical-align: top;\n",
       "    }\n",
       "\n",
       "    .dataframe thead th {\n",
       "        text-align: right;\n",
       "    }\n",
       "</style>\n",
       "<table border=\"1\" class=\"dataframe\">\n",
       "  <thead>\n",
       "    <tr style=\"text-align: right;\">\n",
       "      <th></th>\n",
       "      <th>model</th>\n",
       "      <th>fit_time</th>\n",
       "      <th>score_time</th>\n",
       "      <th>RMSE</th>\n",
       "    </tr>\n",
       "  </thead>\n",
       "  <tbody>\n",
       "  </tbody>\n",
       "</table>\n",
       "</div>"
      ],
      "text/plain": [
       "Empty DataFrame\n",
       "Columns: [model, fit_time, score_time, RMSE]\n",
       "Index: []"
      ]
     },
     "execution_count": 58,
     "metadata": {},
     "output_type": "execute_result"
    }
   ],
   "source": [
    "# dataframe to analyse models \n",
    "model_data = pd.DataFrame(columns=('model','fit_time','score_time','RMSE'))\n",
    "model_data.head()"
   ]
  },
  {
   "cell_type": "markdown",
   "metadata": {},
   "source": [
    "Create pipeline"
   ]
  },
  {
   "cell_type": "code",
   "execution_count": 59,
   "metadata": {},
   "outputs": [],
   "source": [
    "pipe_lr = Pipeline([('ohe_transformer', ohe_transformer),\n",
    "                 ('lr', LinearRegression())])"
   ]
  },
  {
   "cell_type": "markdown",
   "metadata": {},
   "source": [
    "We input our OHE transformer and linear regression model into a pipeline. In this case, during training, the pipeline will first transform the features and then pass the transformed data to the linear regression model."
   ]
  },
  {
   "cell_type": "code",
   "execution_count": 60,
   "metadata": {},
   "outputs": [],
   "source": [
    "\n",
    "cv_lr= cross_validate(pipe_lr, features_ohe_train, target_ohe_train, cv=5, scoring='neg_root_mean_squared_error')\n",
    "fit_time = cv_lr['fit_time'].mean()\n",
    "score_time = cv_lr['score_time'].mean()\n",
    "test_score = abs(cv_lr['test_score'].mean())\n"
   ]
  },
  {
   "cell_type": "code",
   "execution_count": 61,
   "metadata": {},
   "outputs": [
    {
     "data": {
      "text/html": [
       "<div>\n",
       "<style scoped>\n",
       "    .dataframe tbody tr th:only-of-type {\n",
       "        vertical-align: middle;\n",
       "    }\n",
       "\n",
       "    .dataframe tbody tr th {\n",
       "        vertical-align: top;\n",
       "    }\n",
       "\n",
       "    .dataframe thead th {\n",
       "        text-align: right;\n",
       "    }\n",
       "</style>\n",
       "<table border=\"1\" class=\"dataframe\">\n",
       "  <thead>\n",
       "    <tr style=\"text-align: right;\">\n",
       "      <th></th>\n",
       "      <th>model</th>\n",
       "      <th>fit_time</th>\n",
       "      <th>score_time</th>\n",
       "      <th>RMSE</th>\n",
       "    </tr>\n",
       "  </thead>\n",
       "  <tbody>\n",
       "    <tr>\n",
       "      <th>0</th>\n",
       "      <td>LinearRegression</td>\n",
       "      <td>5.358202</td>\n",
       "      <td>0.210783</td>\n",
       "      <td>2834.568891</td>\n",
       "    </tr>\n",
       "  </tbody>\n",
       "</table>\n",
       "</div>"
      ],
      "text/plain": [
       "              model  fit_time  score_time         RMSE\n",
       "0  LinearRegression  5.358202    0.210783  2834.568891"
      ]
     },
     "execution_count": 61,
     "metadata": {},
     "output_type": "execute_result"
    }
   ],
   "source": [
    "lr_data = ['LinearRegression', fit_time, score_time, test_score]\n",
    "\n",
    "#add to dataframe\n",
    "model_data.loc[len(model_data)] = lr_data\n",
    "model_data.head()"
   ]
  },
  {
   "cell_type": "markdown",
   "metadata": {},
   "source": [
    "### Random Forest"
   ]
  },
  {
   "cell_type": "code",
   "execution_count": 62,
   "metadata": {},
   "outputs": [],
   "source": [
    "oe_transformer = make_column_transformer((OrdinalEncoder(handle_unknown='use_encoded_value', unknown_value=-1), categories),\n",
    "        remainder='passthrough')"
   ]
  },
  {
   "cell_type": "code",
   "execution_count": 63,
   "metadata": {},
   "outputs": [],
   "source": [
    "pipe_rf = Pipeline([('oe_transformer', oe_transformer),\n",
    "                 ('rf', RandomForestRegressor())])\n"
   ]
  },
  {
   "cell_type": "markdown",
   "metadata": {},
   "source": [
    "We initiate the GridSearch."
   ]
  },
  {
   "cell_type": "code",
   "execution_count": 64,
   "metadata": {},
   "outputs": [],
   "source": [
    "param = {'rf__max_depth':[10,20,30],\n",
    "        'rf__n_estimators':[100,200,300]}"
   ]
  },
  {
   "cell_type": "code",
   "execution_count": null,
   "metadata": {},
   "outputs": [],
   "source": [
    "rf_grid=GridSearchCV(estimator=pipe_rf, cv=5, param_grid = param, scoring='neg_root_mean_squared_error', n_jobs=-1)\n",
    "rf_grid=rf_grid.fit(features_oe_train, target_oe_train)"
   ]
  },
  {
   "cell_type": "code",
   "execution_count": null,
   "metadata": {},
   "outputs": [],
   "source": [
    "results = rf_grid.cv_results_\n",
    "best_index = rf_grid.best_index_\n"
   ]
  },
  {
   "cell_type": "code",
   "execution_count": null,
   "metadata": {},
   "outputs": [],
   "source": [
    "\n",
    "fit_time = results['mean_fit_time'][best_index]\n",
    "score_time = results['mean_score_time'][best_index]\n",
    "RMSE = (rf_grid.best_score_*-1)\n"
   ]
  },
  {
   "cell_type": "code",
   "execution_count": null,
   "metadata": {},
   "outputs": [],
   "source": [
    "rf_data = ['RandomForest', fit_time, score_time, RMSE]\n",
    "\n",
    "model_data.loc[len(model_data)] = rf_data\n",
    "model_data.head()"
   ]
  },
  {
   "cell_type": "markdown",
   "metadata": {},
   "source": [
    "### LightGBM"
   ]
  },
  {
   "cell_type": "code",
   "execution_count": null,
   "metadata": {},
   "outputs": [],
   "source": [
    "pipe_lgb= Pipeline([('oe_transformer', oe_transformer),\n",
    "                 ('lgb', LGBMRegressor())])"
   ]
  },
  {
   "cell_type": "code",
   "execution_count": null,
   "metadata": {},
   "outputs": [],
   "source": [
    "param = {'lgb__n_estimators': [100, 200, 300], \n",
    "         'lgb__max_depth':[15, 20, 30, 35],\n",
    "         'lgb__learning_rate':[0.1, 0.3, 0.5, 0.7]\n",
    "        }\n"
   ]
  },
  {
   "cell_type": "code",
   "execution_count": null,
   "metadata": {},
   "outputs": [],
   "source": [
    "gs = GridSearchCV(estimator=pipe_lgb,param_grid=param,scoring='neg_root_mean_squared_error')\n"
   ]
  },
  {
   "cell_type": "code",
   "execution_count": null,
   "metadata": {},
   "outputs": [],
   "source": [
    "lgb_grid= gs.fit(features_oe_train, target_oe_train)"
   ]
  },
  {
   "cell_type": "code",
   "execution_count": null,
   "metadata": {},
   "outputs": [],
   "source": [
    "print(lgb_grid.best_params_, lgb_grid.best_score_)"
   ]
  },
  {
   "cell_type": "code",
   "execution_count": null,
   "metadata": {},
   "outputs": [],
   "source": [
    "\n",
    "results = lgb_grid.cv_results_\n",
    "\n",
    "best_index = lgb_grid.best_index_\n",
    "\n",
    "\n",
    "fit_time = results['mean_fit_time'][best_index]\n",
    "score_time = results['mean_score_time'][best_index]\n",
    "RMSE = (lgb_grid.best_score_*-1)\n",
    "\n"
   ]
  },
  {
   "cell_type": "code",
   "execution_count": null,
   "metadata": {},
   "outputs": [],
   "source": [
    "print(fit_time, score_time)"
   ]
  },
  {
   "cell_type": "code",
   "execution_count": null,
   "metadata": {},
   "outputs": [],
   "source": [
    "lgbm_data = ['LightGBM', fit_time, score_time, RMSE]\n",
    "\n",
    "model_data.loc[len(model_data)] = lgbm_data\n",
    "model_data.head()"
   ]
  },
  {
   "cell_type": "markdown",
   "metadata": {},
   "source": [
    "### Catboost"
   ]
  },
  {
   "cell_type": "code",
   "execution_count": null,
   "metadata": {},
   "outputs": [],
   "source": [
    "data.info()"
   ]
  },
  {
   "cell_type": "code",
   "execution_count": null,
   "metadata": {},
   "outputs": [],
   "source": [
    "data=data.drop(['Model'], axis=1)"
   ]
  },
  {
   "cell_type": "code",
   "execution_count": null,
   "metadata": {},
   "outputs": [],
   "source": [
    "cat_features=['VehicleType', 'Gearbox', 'FuelType', 'Brand', 'NotRepaired']"
   ]
  },
  {
   "cell_type": "code",
   "execution_count": null,
   "metadata": {},
   "outputs": [],
   "source": [
    "numeric=['Price', 'RegistrationYear', 'Power', 'Kilometer', 'RegistrationMonth']"
   ]
  },
  {
   "cell_type": "code",
   "execution_count": null,
   "metadata": {},
   "outputs": [],
   "source": [
    "data[numeric] = data[numeric].astype(float)"
   ]
  },
  {
   "cell_type": "code",
   "execution_count": null,
   "metadata": {},
   "outputs": [],
   "source": [
    "train, test = train_test_split(data,random_state=12345)"
   ]
  },
  {
   "cell_type": "code",
   "execution_count": null,
   "metadata": {},
   "outputs": [],
   "source": [
    "features = ['VehicleType', 'RegistrationYear', 'Gearbox', 'Power', 'Kilometer', 'RegistrationMonth', 'FuelType', 'Brand', 'NotRepaired' ]"
   ]
  },
  {
   "cell_type": "code",
   "execution_count": null,
   "metadata": {},
   "outputs": [],
   "source": [
    "target= ['Price']"
   ]
  },
  {
   "cell_type": "markdown",
   "metadata": {},
   "source": [
    "### Cross-Validation"
   ]
  },
  {
   "cell_type": "code",
   "execution_count": null,
   "metadata": {},
   "outputs": [],
   "source": [
    "from catboost import Pool\n",
    "from catboost import cv"
   ]
  },
  {
   "cell_type": "code",
   "execution_count": null,
   "metadata": {},
   "outputs": [],
   "source": [
    "train_data=Pool(data=train[features],\n",
    "               label=train[target], \n",
    "               cat_features=cat_features\n",
    "               )"
   ]
  },
  {
   "cell_type": "code",
   "execution_count": null,
   "metadata": {},
   "outputs": [],
   "source": [
    "test_data=Pool(data=test[features],\n",
    "               label=test[target], \n",
    "               cat_features=cat_features\n",
    "               )"
   ]
  },
  {
   "cell_type": "code",
   "execution_count": null,
   "metadata": {},
   "outputs": [],
   "source": [
    "model_params={'cat_features':cat_features,\n",
    "              'loss_function':'RMSE',\n",
    "              'learning_rate':0.11558,\n",
    "              'random_seed': 12345,\n",
    "              'verbose':100\n",
    "             }"
   ]
  },
  {
   "cell_type": "code",
   "execution_count": null,
   "metadata": {},
   "outputs": [],
   "source": [
    "cv_params={'params':model_params,\n",
    "          'pool': train_data,\n",
    "          'fold_count': 3,\n",
    "          'shuffle':True, \n",
    "          'verbose': 100,\n",
    "           'partition_random_seed':12345,\n",
    "        'early_stopping_rounds':200\n",
    "          }"
   ]
  },
  {
   "cell_type": "code",
   "execution_count": null,
   "metadata": {},
   "outputs": [],
   "source": [
    "cv_data=cv(**cv_params)"
   ]
  },
  {
   "cell_type": "markdown",
   "metadata": {},
   "source": [
    "At the output, cross-validation provides a DataFrame. Let's take a look at it. It contains results for each iteration - the mean value across three folds."
   ]
  },
  {
   "cell_type": "code",
   "execution_count": null,
   "metadata": {},
   "outputs": [],
   "source": [
    "cv_data"
   ]
  },
  {
   "cell_type": "markdown",
   "metadata": {},
   "source": [
    "The small standard deviation of results indicates low variability (the result doesn't fluctuate significantly). This suggests that we have a relatively high degree of confidence in the cross-validation results."
   ]
  },
  {
   "cell_type": "markdown",
   "metadata": {},
   "source": [
    "Let's find the point where the model parameters are optimal."
   ]
  },
  {
   "cell_type": "code",
   "execution_count": null,
   "metadata": {},
   "outputs": [],
   "source": [
    "min_RMSE=cv_data['test-RMSE-mean'].min()"
   ]
  },
  {
   "cell_type": "code",
   "execution_count": null,
   "metadata": {},
   "outputs": [],
   "source": [
    "min_RMSE"
   ]
  },
  {
   "cell_type": "markdown",
   "metadata": {},
   "source": [
    "Now let's find that specific iteration."
   ]
  },
  {
   "cell_type": "code",
   "execution_count": null,
   "metadata": {},
   "outputs": [],
   "source": [
    "cv_data[cv_data['test-RMSE-mean']==min_RMSE]"
   ]
  },
  {
   "cell_type": "markdown",
   "metadata": {},
   "source": [
    "The best iteration is closer to the end. Therefore, the learning rate specified in the parameters above is suitable for us, and we will use it when passing it to the model."
   ]
  },
  {
   "cell_type": "markdown",
   "metadata": {},
   "source": [
    "### GridsearchCV"
   ]
  },
  {
   "cell_type": "code",
   "execution_count": null,
   "metadata": {},
   "outputs": [],
   "source": [
    "model_cbr = CatBoostRegressor(cat_features=cat_features)\n",
    "grid_parameters = {'depth'         : [6,8,10],\n",
    "                  'learning_rate' : [0.01, 0.05, 0.1],\n",
    "                  'iterations'    : [30, 50, 100]\n",
    "                 }\n",
    "cbr_grid = GridSearchCV(estimator=model_cbr, param_grid = grid_parameters, cv = 5, n_jobs=-1)\n",
    "cbr_grid.fit(train[features],train[target] )"
   ]
  },
  {
   "cell_type": "code",
   "execution_count": null,
   "metadata": {},
   "outputs": [],
   "source": [
    "\n",
    "results = cbr_grid.cv_results_\n",
    "\n",
    "best_index = cbr_grid.best_index_\n",
    "\n",
    "\n",
    "fit_time = results['mean_fit_time'][best_index]\n",
    "score_time = results['mean_score_time'][best_index]\n",
    "RMSE = (cbr_grid.best_score_*-1)\n"
   ]
  },
  {
   "cell_type": "code",
   "execution_count": null,
   "metadata": {},
   "outputs": [],
   "source": [
    "catboost_data = ['CatBoost', fit_time, score_time, RMSE]\n",
    "\n",
    "model_data.loc[len(model_data)] = catboost_data\n",
    "model_data.head()"
   ]
  },
  {
   "cell_type": "markdown",
   "metadata": {},
   "source": [
    "## Analysis of different models"
   ]
  },
  {
   "cell_type": "code",
   "execution_count": null,
   "metadata": {},
   "outputs": [],
   "source": [
    "model_data = model_data.drop_duplicates()\n",
    "display(model_data)\n",
    "model_data.plot.bar(x='model',y='RMSE')\n",
    "model_data.plot.bar(x='model',y='fit_time')"
   ]
  },
  {
   "cell_type": "markdown",
   "metadata": {},
   "source": [
    "We can see that the LightGBM model has the best RMSE (1639), while the CatBoost model has a very similar RMSE (1658). However, the LightGBM model takes much longer to train. Therefore, I would choose the CatBoost model due to its comparable performance and faster training time."
   ]
  },
  {
   "cell_type": "markdown",
   "metadata": {},
   "source": [
    "## Let's make predictions using the best model and evaluate the RMSE."
   ]
  },
  {
   "cell_type": "code",
   "execution_count": null,
   "metadata": {},
   "outputs": [],
   "source": [
    "preds = lgb_grid.predict(test[features])"
   ]
  },
  {
   "cell_type": "code",
   "execution_count": null,
   "metadata": {},
   "outputs": [],
   "source": [
    "RMSE = mean_squared_error(preds, test[target] , squared=False)"
   ]
  },
  {
   "cell_type": "code",
   "execution_count": null,
   "metadata": {},
   "outputs": [],
   "source": [
    "print(RMSE )"
   ]
  },
  {
   "cell_type": "markdown",
   "metadata": {},
   "source": [
    "## Conclusion\n"
   ]
  },
  {
   "cell_type": "markdown",
   "metadata": {},
   "source": [
    "In this project, our goal was to find the best model for predicting the market price of used cars for a used car sales service application. We explored a database containing over 354,000 listings of used cars. The dataset included the following features:\n",
    "\n",
    "Date the listing was downloaded from the database.\n",
    "\n",
    "Body type of the car.\n",
    "\n",
    "Year of car registration.\n",
    "\n",
    "Transmission type.\n",
    "\n",
    "Engine power.\n",
    "\n",
    "Car model.\n",
    "\n",
    "Mileage (in km).\n",
    "\n",
    "Month of car registration.\n",
    "\n",
    "Fuel type.\n",
    "\n",
    "Car brand.\n",
    "\n",
    "Whether the car was previously repaired or not.\n",
    "\n",
    "Date the listing was created.\n",
    "\n",
    "Number of photos of the car.\n",
    "\n",
    "Postal code of the owner.\n",
    "\n",
    "Date of the last user activity.\n",
    "\n",
    "Additionally, the target variable was the car's price.\n",
    "\n",
    "\n",
    "Through exploratory data analysis, data preprocessing, feature engineering, and model training, we evaluated various machine learning models including Linear Regression, LightGBM, and CatBoost. After thorough evaluation and comparison, we found that the CatBoost model had a competitive RMSE score and faster training time compared to LightGBM, making it a suitable choice for the project's requirements.\n",
    "\n",
    "Overall, the project involved data exploration, cleaning, feature engineering, model selection, and hyperparameter tuning to build a predictive model for determining the market price of used cars in order to support the used car sales service application.\n",
    "\n",
    "\n",
    "\n",
    "\n",
    "\n"
   ]
  },
  {
   "cell_type": "markdown",
   "metadata": {},
   "source": [
    "We removed features that had no significant impact on the target variable. These features include postal code, number of photos (as the entire column was empty), date the listing was downloaded from the database, date the listing was created, and date of the last user activity."
   ]
  },
  {
   "cell_type": "markdown",
   "metadata": {},
   "source": [
    "Prior to that, we filtered and removed anomalies in certain columns. For instance, we filtered the upper limit of the \"Registration Year\" based on the last seen date (LastSeen) since the registration year cannot be later than the date of the listing. We also removed all listings with a price of 0 and power values exceeding 1000 horsepower, as they were implausible."
   ]
  },
  {
   "cell_type": "markdown",
   "metadata": {},
   "source": [
    "Additionally, we filled missing values and encoded categorical features. For the Linear Regression model, we used One Hot Encoding (OHE) encoding. For RandomForest and LightGBM models, we used Ordinal Encoding (OE), and for the CatBoost model, we used the built-in encoding method.\n",
    "\n",
    "When using OHE encoding, we had to remove the \"Model\" column since it contained 251 unique model values. Applying OHE to this column would significantly inflate our dataset, adding 251 columns. This would potentially overwhelm our models. Therefore, we removed the \"Model\" column while keeping the \"Brand\" column, which retained the predictive power of our model."
   ]
  },
  {
   "cell_type": "markdown",
   "metadata": {},
   "source": [
    "Next, we trained four types of models - Linear Regression, Random Forest, LightGBM, and CatBoost. We found the optimal parameters using grid search and cross-validation. The training results of the models are presented in the table below:"
   ]
  },
  {
   "cell_type": "code",
   "execution_count": null,
   "metadata": {},
   "outputs": [],
   "source": [
    "model_data = model_data.drop_duplicates()\n",
    "display(model_data)\n",
    "model_data.plot.bar(x='model',y='RMSE')\n",
    "model_data.plot.bar(x='model',y='fit_time')"
   ]
  },
  {
   "cell_type": "markdown",
   "metadata": {},
   "source": [
    "We can observe that the LightGBM model has the best RMSE (1639), while the CatBoost model has a very similar RMSE (1658). However, the LightGBM model takes much longer to train. My choice would lean towards the LightGBM model due to its superior RMSE, even though it has a longer training time."
   ]
  }
 ],
 "metadata": {
  "ExecuteTimeLog": [
   {
    "duration": 407,
    "start_time": "2022-09-28T08:25:13.601Z"
   },
   {
    "duration": 1002,
    "start_time": "2022-09-28T08:25:43.486Z"
   },
   {
    "duration": 101,
    "start_time": "2022-09-28T08:25:58.919Z"
   },
   {
    "duration": 112,
    "start_time": "2022-09-28T08:26:24.781Z"
   },
   {
    "duration": 102,
    "start_time": "2022-09-28T08:26:38.915Z"
   },
   {
    "duration": 88,
    "start_time": "2022-09-28T08:48:07.305Z"
   },
   {
    "duration": 72,
    "start_time": "2022-09-28T08:59:23.642Z"
   },
   {
    "duration": 178,
    "start_time": "2022-09-28T08:59:29.710Z"
   },
   {
    "duration": 88,
    "start_time": "2022-09-28T08:59:35.023Z"
   },
   {
    "duration": 249,
    "start_time": "2022-09-28T09:00:33.769Z"
   },
   {
    "duration": 118,
    "start_time": "2022-09-28T09:00:34.020Z"
   },
   {
    "duration": 152,
    "start_time": "2022-09-28T09:00:55.137Z"
   },
   {
    "duration": 7,
    "start_time": "2022-09-28T09:11:46.736Z"
   },
   {
    "duration": 435,
    "start_time": "2022-09-28T09:12:00.845Z"
   },
   {
    "duration": 614,
    "start_time": "2022-09-28T09:12:29.510Z"
   },
   {
    "duration": 828,
    "start_time": "2022-09-28T09:12:30.126Z"
   },
   {
    "duration": 131,
    "start_time": "2022-09-28T09:12:30.956Z"
   },
   {
    "duration": 117,
    "start_time": "2022-09-28T09:12:31.090Z"
   },
   {
    "duration": 168,
    "start_time": "2022-09-28T09:12:31.209Z"
   },
   {
    "duration": 111,
    "start_time": "2022-09-28T09:12:31.382Z"
   },
   {
    "duration": 96409,
    "start_time": "2022-09-28T09:12:31.495Z"
   },
   {
    "duration": 0,
    "start_time": "2022-09-28T09:14:07.906Z"
   },
   {
    "duration": 563,
    "start_time": "2022-09-28T09:29:30.069Z"
   },
   {
    "duration": 779,
    "start_time": "2022-09-28T09:30:05.135Z"
   },
   {
    "duration": 726,
    "start_time": "2022-09-28T09:32:49.263Z"
   },
   {
    "duration": 748,
    "start_time": "2022-09-28T09:33:25.666Z"
   },
   {
    "duration": 3,
    "start_time": "2022-09-28T09:33:54.998Z"
   },
   {
    "duration": 765,
    "start_time": "2022-09-28T09:34:00.294Z"
   },
   {
    "duration": 168,
    "start_time": "2022-09-28T09:34:39.665Z"
   },
   {
    "duration": 41,
    "start_time": "2022-09-28T09:34:56.630Z"
   },
   {
    "duration": 200,
    "start_time": "2022-09-28T09:35:31.008Z"
   },
   {
    "duration": 158,
    "start_time": "2022-09-28T09:35:56.547Z"
   },
   {
    "duration": 1073,
    "start_time": "2022-09-28T09:36:43.733Z"
   },
   {
    "duration": 245,
    "start_time": "2022-09-28T09:37:06.589Z"
   },
   {
    "duration": 8,
    "start_time": "2022-09-28T09:40:41.828Z"
   },
   {
    "duration": 8,
    "start_time": "2022-09-28T09:40:52.325Z"
   },
   {
    "duration": 24,
    "start_time": "2022-09-28T09:42:04.088Z"
   },
   {
    "duration": 73,
    "start_time": "2022-09-28T09:48:10.096Z"
   },
   {
    "duration": 36,
    "start_time": "2022-09-28T09:49:47.074Z"
   },
   {
    "duration": 18,
    "start_time": "2022-09-28T09:49:59.354Z"
   },
   {
    "duration": 40,
    "start_time": "2022-09-28T09:50:14.025Z"
   },
   {
    "duration": 12,
    "start_time": "2022-09-28T09:52:33.624Z"
   },
   {
    "duration": 245,
    "start_time": "2022-09-28T09:53:13.319Z"
   },
   {
    "duration": 90,
    "start_time": "2022-09-28T09:53:19.916Z"
   },
   {
    "duration": 20,
    "start_time": "2022-09-28T09:57:11.174Z"
   },
   {
    "duration": 3,
    "start_time": "2022-09-28T09:58:03.003Z"
   },
   {
    "duration": 23,
    "start_time": "2022-09-28T09:58:50.129Z"
   },
   {
    "duration": 41,
    "start_time": "2022-10-02T11:25:07.737Z"
   },
   {
    "duration": 1421,
    "start_time": "2022-10-02T11:25:27.498Z"
   },
   {
    "duration": 60,
    "start_time": "2022-10-02T11:25:32.740Z"
   },
   {
    "duration": 1297,
    "start_time": "2022-10-02T11:25:42.182Z"
   },
   {
    "duration": 1022,
    "start_time": "2022-10-02T11:25:43.480Z"
   },
   {
    "duration": 133,
    "start_time": "2022-10-02T11:25:44.504Z"
   },
   {
    "duration": 101,
    "start_time": "2022-10-02T11:25:44.639Z"
   },
   {
    "duration": 152,
    "start_time": "2022-10-02T11:25:44.741Z"
   },
   {
    "duration": 97,
    "start_time": "2022-10-02T11:25:44.895Z"
   },
   {
    "duration": 95228,
    "start_time": "2022-10-02T11:25:45.000Z"
   },
   {
    "duration": 652,
    "start_time": "2022-10-02T11:27:20.264Z"
   },
   {
    "duration": 184,
    "start_time": "2022-10-02T11:27:20.918Z"
   },
   {
    "duration": 144,
    "start_time": "2022-10-02T11:27:21.104Z"
   },
   {
    "duration": 112,
    "start_time": "2022-10-02T11:27:21.250Z"
   },
   {
    "duration": 21,
    "start_time": "2022-10-02T11:27:21.364Z"
   },
   {
    "duration": 78,
    "start_time": "2022-10-02T11:27:21.386Z"
   },
   {
    "duration": 17,
    "start_time": "2022-10-02T11:27:21.466Z"
   },
   {
    "duration": 75,
    "start_time": "2022-10-02T11:27:21.500Z"
   },
   {
    "duration": 106,
    "start_time": "2022-10-02T11:27:21.576Z"
   },
   {
    "duration": 1251,
    "start_time": "2022-10-02T11:33:37.722Z"
   },
   {
    "duration": 757,
    "start_time": "2022-10-02T11:33:38.975Z"
   },
   {
    "duration": 104,
    "start_time": "2022-10-02T11:33:39.734Z"
   },
   {
    "duration": 105,
    "start_time": "2022-10-02T11:33:39.840Z"
   },
   {
    "duration": 166,
    "start_time": "2022-10-02T11:33:39.946Z"
   },
   {
    "duration": 98,
    "start_time": "2022-10-02T11:33:40.113Z"
   },
   {
    "duration": 132,
    "start_time": "2022-10-02T11:33:40.213Z"
   },
   {
    "duration": 562,
    "start_time": "2022-10-02T11:33:40.346Z"
   },
   {
    "duration": 183,
    "start_time": "2022-10-02T11:33:40.909Z"
   },
   {
    "duration": 140,
    "start_time": "2022-10-02T11:33:41.095Z"
   },
   {
    "duration": 109,
    "start_time": "2022-10-02T11:33:41.236Z"
   },
   {
    "duration": 69,
    "start_time": "2022-10-02T11:33:41.347Z"
   },
   {
    "duration": 19,
    "start_time": "2022-10-02T11:33:41.418Z"
   },
   {
    "duration": 115,
    "start_time": "2022-10-02T11:33:41.438Z"
   },
   {
    "duration": 180,
    "start_time": "2022-10-02T11:33:41.554Z"
   },
   {
    "duration": 1118,
    "start_time": "2022-10-02T11:36:26.736Z"
   },
   {
    "duration": 13,
    "start_time": "2022-10-02T11:38:32.167Z"
   },
   {
    "duration": 58,
    "start_time": "2022-10-02T11:40:07.210Z"
   },
   {
    "duration": 221,
    "start_time": "2022-10-02T11:46:27.188Z"
   },
   {
    "duration": 1077,
    "start_time": "2022-10-02T11:47:04.597Z"
   },
   {
    "duration": 942,
    "start_time": "2022-10-02T11:48:11.541Z"
   },
   {
    "duration": 791,
    "start_time": "2022-10-02T11:48:28.829Z"
   },
   {
    "duration": 930,
    "start_time": "2022-10-02T11:48:52.368Z"
   },
   {
    "duration": 20,
    "start_time": "2022-10-02T11:49:09.015Z"
   },
   {
    "duration": 1421,
    "start_time": "2022-10-02T11:50:04.440Z"
   },
   {
    "duration": 1069,
    "start_time": "2022-10-02T11:50:37.553Z"
   },
   {
    "duration": 1249,
    "start_time": "2022-10-02T11:50:47.843Z"
   },
   {
    "duration": 711,
    "start_time": "2022-10-02T11:50:49.094Z"
   },
   {
    "duration": 110,
    "start_time": "2022-10-02T11:50:49.806Z"
   },
   {
    "duration": 22,
    "start_time": "2022-10-02T11:50:49.918Z"
   },
   {
    "duration": 969,
    "start_time": "2022-10-02T11:50:49.942Z"
   },
   {
    "duration": 0,
    "start_time": "2022-10-02T11:50:50.913Z"
   },
   {
    "duration": 0,
    "start_time": "2022-10-02T11:50:50.914Z"
   },
   {
    "duration": 0,
    "start_time": "2022-10-02T11:50:50.915Z"
   },
   {
    "duration": 0,
    "start_time": "2022-10-02T11:50:50.916Z"
   },
   {
    "duration": 0,
    "start_time": "2022-10-02T11:50:50.917Z"
   },
   {
    "duration": 0,
    "start_time": "2022-10-02T11:50:50.918Z"
   },
   {
    "duration": 0,
    "start_time": "2022-10-02T11:50:50.919Z"
   },
   {
    "duration": 0,
    "start_time": "2022-10-02T11:50:50.920Z"
   },
   {
    "duration": 0,
    "start_time": "2022-10-02T11:50:50.921Z"
   },
   {
    "duration": 0,
    "start_time": "2022-10-02T11:50:50.922Z"
   },
   {
    "duration": 0,
    "start_time": "2022-10-02T11:50:50.923Z"
   },
   {
    "duration": 0,
    "start_time": "2022-10-02T11:50:50.924Z"
   },
   {
    "duration": 0,
    "start_time": "2022-10-02T11:50:50.925Z"
   },
   {
    "duration": 261,
    "start_time": "2022-10-02T11:51:15.075Z"
   },
   {
    "duration": 229,
    "start_time": "2022-10-02T11:52:01.319Z"
   },
   {
    "duration": 74,
    "start_time": "2022-10-02T11:53:12.577Z"
   },
   {
    "duration": 249,
    "start_time": "2022-10-02T11:53:38.640Z"
   },
   {
    "duration": 260,
    "start_time": "2022-10-02T11:54:09.095Z"
   },
   {
    "duration": 540,
    "start_time": "2022-10-02T11:55:25.864Z"
   },
   {
    "duration": 686,
    "start_time": "2022-10-02T11:56:14.119Z"
   },
   {
    "duration": 756,
    "start_time": "2022-10-02T11:56:51.691Z"
   },
   {
    "duration": 15,
    "start_time": "2022-10-02T11:56:57.956Z"
   },
   {
    "duration": 186,
    "start_time": "2022-10-02T11:57:28.373Z"
   },
   {
    "duration": 97,
    "start_time": "2022-10-02T11:58:00.387Z"
   },
   {
    "duration": 102,
    "start_time": "2022-10-02T11:58:21.155Z"
   },
   {
    "duration": 5,
    "start_time": "2022-10-02T11:59:15.105Z"
   },
   {
    "duration": 69436,
    "start_time": "2022-10-02T12:00:44.571Z"
   },
   {
    "duration": 150,
    "start_time": "2022-10-02T12:03:30.100Z"
   },
   {
    "duration": 732,
    "start_time": "2022-10-02T12:04:49.985Z"
   },
   {
    "duration": 704,
    "start_time": "2022-10-02T12:16:21.448Z"
   },
   {
    "duration": 150,
    "start_time": "2022-10-02T12:17:00.870Z"
   },
   {
    "duration": 191,
    "start_time": "2022-10-02T12:17:13.886Z"
   },
   {
    "duration": 113,
    "start_time": "2022-10-02T12:17:30.868Z"
   },
   {
    "duration": 43,
    "start_time": "2022-10-02T12:17:59.933Z"
   },
   {
    "duration": 185,
    "start_time": "2022-10-02T12:27:51.662Z"
   },
   {
    "duration": 154,
    "start_time": "2022-10-02T12:28:42.258Z"
   },
   {
    "duration": 1606,
    "start_time": "2022-10-02T12:29:13.717Z"
   },
   {
    "duration": 144,
    "start_time": "2022-10-02T12:29:27.824Z"
   },
   {
    "duration": 146,
    "start_time": "2022-10-02T12:29:37.637Z"
   },
   {
    "duration": 157,
    "start_time": "2022-10-02T12:29:41.616Z"
   },
   {
    "duration": 185,
    "start_time": "2022-10-02T12:29:56.951Z"
   },
   {
    "duration": 153,
    "start_time": "2022-10-02T12:30:01.005Z"
   },
   {
    "duration": 146,
    "start_time": "2022-10-02T12:30:22.494Z"
   },
   {
    "duration": 154,
    "start_time": "2022-10-02T12:30:32.295Z"
   },
   {
    "duration": 142,
    "start_time": "2022-10-02T12:30:54.822Z"
   },
   {
    "duration": 153,
    "start_time": "2022-10-02T12:31:08.294Z"
   },
   {
    "duration": 12,
    "start_time": "2022-10-02T12:31:32.037Z"
   },
   {
    "duration": 13,
    "start_time": "2022-10-02T12:31:56.372Z"
   },
   {
    "duration": 24,
    "start_time": "2022-10-02T12:32:15.181Z"
   },
   {
    "duration": 9,
    "start_time": "2022-10-02T12:34:01.741Z"
   },
   {
    "duration": 1559,
    "start_time": "2022-10-02T14:13:58.104Z"
   },
   {
    "duration": 1045,
    "start_time": "2022-10-02T14:13:59.665Z"
   },
   {
    "duration": 114,
    "start_time": "2022-10-02T14:14:00.712Z"
   },
   {
    "duration": 21,
    "start_time": "2022-10-02T14:14:00.828Z"
   },
   {
    "duration": 120,
    "start_time": "2022-10-02T14:14:00.851Z"
   },
   {
    "duration": 168,
    "start_time": "2022-10-02T14:14:00.973Z"
   },
   {
    "duration": 116,
    "start_time": "2022-10-02T14:14:01.142Z"
   },
   {
    "duration": 121,
    "start_time": "2022-10-02T14:14:01.259Z"
   },
   {
    "duration": 206,
    "start_time": "2022-10-02T14:14:01.382Z"
   },
   {
    "duration": 156,
    "start_time": "2022-10-02T14:14:01.590Z"
   },
   {
    "duration": 203,
    "start_time": "2022-10-02T14:14:01.748Z"
   },
   {
    "duration": 15,
    "start_time": "2022-10-02T14:14:01.953Z"
   },
   {
    "duration": 81,
    "start_time": "2022-10-02T14:14:01.969Z"
   },
   {
    "duration": 77,
    "start_time": "2022-10-02T14:14:02.052Z"
   },
   {
    "duration": 15,
    "start_time": "2022-10-02T14:14:02.131Z"
   },
   {
    "duration": 105,
    "start_time": "2022-10-02T14:14:02.148Z"
   },
   {
    "duration": 106,
    "start_time": "2022-10-02T14:14:02.255Z"
   },
   {
    "duration": 9,
    "start_time": "2022-10-02T14:15:54.899Z"
   },
   {
    "duration": 8,
    "start_time": "2022-10-02T14:16:00.477Z"
   },
   {
    "duration": 8,
    "start_time": "2022-10-02T14:18:14.660Z"
   },
   {
    "duration": 20,
    "start_time": "2022-10-02T14:18:44.855Z"
   },
   {
    "duration": 10,
    "start_time": "2022-10-02T14:19:02.255Z"
   },
   {
    "duration": 114,
    "start_time": "2022-10-02T14:19:14.457Z"
   },
   {
    "duration": 26,
    "start_time": "2022-10-02T14:27:15.582Z"
   },
   {
    "duration": 46,
    "start_time": "2022-10-02T14:28:37.284Z"
   },
   {
    "duration": 21,
    "start_time": "2022-10-02T14:28:53.662Z"
   },
   {
    "duration": 223,
    "start_time": "2022-10-02T14:29:35.846Z"
   },
   {
    "duration": 243,
    "start_time": "2022-10-02T14:30:11.992Z"
   },
   {
    "duration": 8,
    "start_time": "2022-10-02T14:31:01.109Z"
   },
   {
    "duration": 140,
    "start_time": "2022-10-02T14:31:12.796Z"
   },
   {
    "duration": 9,
    "start_time": "2022-10-02T14:32:05.191Z"
   },
   {
    "duration": 5,
    "start_time": "2022-10-02T14:34:05.691Z"
   },
   {
    "duration": 5,
    "start_time": "2022-10-02T14:35:06.418Z"
   },
   {
    "duration": 20,
    "start_time": "2022-10-02T14:35:39.093Z"
   },
   {
    "duration": 1335,
    "start_time": "2022-10-02T14:36:41.082Z"
   },
   {
    "duration": 738,
    "start_time": "2022-10-02T14:36:42.419Z"
   },
   {
    "duration": 117,
    "start_time": "2022-10-02T14:36:43.159Z"
   },
   {
    "duration": 47,
    "start_time": "2022-10-02T14:36:43.278Z"
   },
   {
    "duration": 107,
    "start_time": "2022-10-02T14:36:43.327Z"
   },
   {
    "duration": 180,
    "start_time": "2022-10-02T14:36:43.436Z"
   },
   {
    "duration": 104,
    "start_time": "2022-10-02T14:36:43.618Z"
   },
   {
    "duration": 212,
    "start_time": "2022-10-02T14:36:43.724Z"
   },
   {
    "duration": 159,
    "start_time": "2022-10-02T14:36:43.938Z"
   },
   {
    "duration": 219,
    "start_time": "2022-10-02T14:36:44.100Z"
   },
   {
    "duration": 15,
    "start_time": "2022-10-02T14:36:44.321Z"
   },
   {
    "duration": 456,
    "start_time": "2022-10-02T14:36:44.338Z"
   },
   {
    "duration": 34,
    "start_time": "2022-10-02T14:36:44.796Z"
   },
   {
    "duration": 5,
    "start_time": "2022-10-02T14:36:44.831Z"
   },
   {
    "duration": 5,
    "start_time": "2022-10-02T14:36:44.837Z"
   },
   {
    "duration": 133,
    "start_time": "2022-10-02T14:36:44.843Z"
   },
   {
    "duration": 56,
    "start_time": "2022-10-02T14:36:44.978Z"
   },
   {
    "duration": 39,
    "start_time": "2022-10-02T14:36:45.035Z"
   },
   {
    "duration": 36,
    "start_time": "2022-10-02T14:36:45.075Z"
   },
   {
    "duration": 94,
    "start_time": "2022-10-02T14:36:45.113Z"
   },
   {
    "duration": 188,
    "start_time": "2022-10-02T14:36:45.208Z"
   },
   {
    "duration": 44,
    "start_time": "2022-10-02T14:39:18.100Z"
   },
   {
    "duration": 16,
    "start_time": "2022-10-02T14:39:52.605Z"
   },
   {
    "duration": 14,
    "start_time": "2022-10-02T14:39:59.943Z"
   },
   {
    "duration": 10,
    "start_time": "2022-10-02T14:51:48.186Z"
   },
   {
    "duration": 1257,
    "start_time": "2022-10-02T14:52:02.148Z"
   },
   {
    "duration": 763,
    "start_time": "2022-10-02T14:52:03.408Z"
   },
   {
    "duration": 118,
    "start_time": "2022-10-02T14:52:04.173Z"
   },
   {
    "duration": 25,
    "start_time": "2022-10-02T14:52:04.301Z"
   },
   {
    "duration": 120,
    "start_time": "2022-10-02T14:52:04.328Z"
   },
   {
    "duration": 185,
    "start_time": "2022-10-02T14:52:04.450Z"
   },
   {
    "duration": 130,
    "start_time": "2022-10-02T14:52:04.637Z"
   },
   {
    "duration": 192,
    "start_time": "2022-10-02T14:52:04.768Z"
   },
   {
    "duration": 156,
    "start_time": "2022-10-02T14:52:04.962Z"
   },
   {
    "duration": 218,
    "start_time": "2022-10-02T14:52:05.120Z"
   },
   {
    "duration": 14,
    "start_time": "2022-10-02T14:52:05.340Z"
   },
   {
    "duration": 417,
    "start_time": "2022-10-02T14:52:05.355Z"
   },
   {
    "duration": 27,
    "start_time": "2022-10-02T14:52:05.774Z"
   },
   {
    "duration": 45,
    "start_time": "2022-10-02T14:52:05.804Z"
   },
   {
    "duration": 12,
    "start_time": "2022-10-02T14:52:05.850Z"
   },
   {
    "duration": 67,
    "start_time": "2022-10-02T14:52:05.864Z"
   },
   {
    "duration": 22,
    "start_time": "2022-10-02T14:52:05.932Z"
   },
   {
    "duration": 10,
    "start_time": "2022-10-02T14:52:05.955Z"
   },
   {
    "duration": 121,
    "start_time": "2022-10-02T14:52:05.967Z"
   },
   {
    "duration": 47,
    "start_time": "2022-10-02T14:52:06.089Z"
   },
   {
    "duration": 41,
    "start_time": "2022-10-02T14:52:06.137Z"
   },
   {
    "duration": 35,
    "start_time": "2022-10-02T14:52:06.180Z"
   },
   {
    "duration": 92,
    "start_time": "2022-10-02T14:52:06.217Z"
   },
   {
    "duration": 186,
    "start_time": "2022-10-02T14:52:06.310Z"
   },
   {
    "duration": 3,
    "start_time": "2022-10-02T14:59:40.537Z"
   },
   {
    "duration": 571,
    "start_time": "2022-10-02T15:00:46.567Z"
   },
   {
    "duration": 18,
    "start_time": "2022-10-02T15:33:14.404Z"
   },
   {
    "duration": 1343,
    "start_time": "2022-10-02T15:34:10.483Z"
   },
   {
    "duration": 710,
    "start_time": "2022-10-02T15:34:11.828Z"
   },
   {
    "duration": 117,
    "start_time": "2022-10-02T15:34:12.540Z"
   },
   {
    "duration": 23,
    "start_time": "2022-10-02T15:34:12.660Z"
   },
   {
    "duration": 122,
    "start_time": "2022-10-02T15:34:12.685Z"
   },
   {
    "duration": 166,
    "start_time": "2022-10-02T15:34:12.809Z"
   },
   {
    "duration": 99,
    "start_time": "2022-10-02T15:34:12.977Z"
   },
   {
    "duration": 198,
    "start_time": "2022-10-02T15:34:13.077Z"
   },
   {
    "duration": 163,
    "start_time": "2022-10-02T15:34:13.277Z"
   },
   {
    "duration": 191,
    "start_time": "2022-10-02T15:34:13.444Z"
   },
   {
    "duration": 15,
    "start_time": "2022-10-02T15:34:13.637Z"
   },
   {
    "duration": 389,
    "start_time": "2022-10-02T15:34:13.654Z"
   },
   {
    "duration": 23,
    "start_time": "2022-10-02T15:34:14.044Z"
   },
   {
    "duration": 53,
    "start_time": "2022-10-02T15:34:14.069Z"
   },
   {
    "duration": 14,
    "start_time": "2022-10-02T15:34:14.123Z"
   },
   {
    "duration": 7,
    "start_time": "2022-10-02T15:34:14.138Z"
   },
   {
    "duration": 6,
    "start_time": "2022-10-02T15:34:14.146Z"
   },
   {
    "duration": 140,
    "start_time": "2022-10-02T15:34:14.154Z"
   },
   {
    "duration": 38,
    "start_time": "2022-10-02T15:34:14.296Z"
   },
   {
    "duration": 37,
    "start_time": "2022-10-02T15:34:14.336Z"
   },
   {
    "duration": 38,
    "start_time": "2022-10-02T15:34:14.374Z"
   },
   {
    "duration": 106,
    "start_time": "2022-10-02T15:34:14.414Z"
   },
   {
    "duration": 194,
    "start_time": "2022-10-02T15:34:14.523Z"
   },
   {
    "duration": 0,
    "start_time": "2022-10-02T15:34:14.719Z"
   },
   {
    "duration": 1062,
    "start_time": "2022-10-02T15:38:26.941Z"
   },
   {
    "duration": 170,
    "start_time": "2022-10-02T15:38:36.868Z"
   },
   {
    "duration": 64,
    "start_time": "2022-10-02T15:43:49.608Z"
   },
   {
    "duration": 30,
    "start_time": "2022-10-02T15:51:34.745Z"
   },
   {
    "duration": 4,
    "start_time": "2022-10-02T15:51:58.778Z"
   },
   {
    "duration": 28,
    "start_time": "2022-10-02T15:52:47.599Z"
   },
   {
    "duration": 26,
    "start_time": "2022-10-02T15:53:05.224Z"
   },
   {
    "duration": 25,
    "start_time": "2022-10-02T15:53:22.263Z"
   },
   {
    "duration": 91,
    "start_time": "2022-10-02T15:55:44.160Z"
   },
   {
    "duration": 5,
    "start_time": "2022-10-02T15:55:57.966Z"
   },
   {
    "duration": 39,
    "start_time": "2022-10-02T16:02:36.342Z"
   },
   {
    "duration": 39,
    "start_time": "2022-10-02T16:03:11.724Z"
   },
   {
    "duration": 67,
    "start_time": "2022-10-02T16:08:22.979Z"
   },
   {
    "duration": 5,
    "start_time": "2022-10-02T16:08:38.059Z"
   },
   {
    "duration": 4,
    "start_time": "2022-10-02T16:08:52.998Z"
   },
   {
    "duration": 45,
    "start_time": "2022-10-02T16:11:37.215Z"
   },
   {
    "duration": 42,
    "start_time": "2022-10-02T16:11:47.010Z"
   },
   {
    "duration": 4,
    "start_time": "2022-10-02T16:12:04.640Z"
   },
   {
    "duration": 7,
    "start_time": "2022-10-02T16:12:34.238Z"
   },
   {
    "duration": 7,
    "start_time": "2022-10-02T16:12:42.052Z"
   },
   {
    "duration": 40,
    "start_time": "2022-10-02T16:18:23.889Z"
   },
   {
    "duration": 131,
    "start_time": "2022-10-02T16:21:22.166Z"
   },
   {
    "duration": 4,
    "start_time": "2022-10-02T16:21:24.178Z"
   },
   {
    "duration": 41,
    "start_time": "2022-10-02T16:21:39.440Z"
   },
   {
    "duration": 71,
    "start_time": "2022-10-02T16:23:44.534Z"
   },
   {
    "duration": 10,
    "start_time": "2022-10-02T16:23:55.586Z"
   },
   {
    "duration": 36,
    "start_time": "2022-10-02T16:23:57.604Z"
   },
   {
    "duration": 48,
    "start_time": "2022-10-02T16:24:02.625Z"
   },
   {
    "duration": 47,
    "start_time": "2022-10-02T16:24:48.909Z"
   },
   {
    "duration": 49,
    "start_time": "2022-10-02T16:25:25.737Z"
   },
   {
    "duration": 9,
    "start_time": "2022-10-02T16:27:41.920Z"
   },
   {
    "duration": 1390,
    "start_time": "2022-10-02T16:28:04.869Z"
   },
   {
    "duration": 729,
    "start_time": "2022-10-02T16:28:06.261Z"
   },
   {
    "duration": 101,
    "start_time": "2022-10-02T16:28:06.991Z"
   },
   {
    "duration": 26,
    "start_time": "2022-10-02T16:28:07.093Z"
   },
   {
    "duration": 118,
    "start_time": "2022-10-02T16:28:07.120Z"
   },
   {
    "duration": 162,
    "start_time": "2022-10-02T16:28:07.239Z"
   },
   {
    "duration": 126,
    "start_time": "2022-10-02T16:28:07.403Z"
   },
   {
    "duration": 217,
    "start_time": "2022-10-02T16:28:07.531Z"
   },
   {
    "duration": 143,
    "start_time": "2022-10-02T16:28:07.750Z"
   },
   {
    "duration": 202,
    "start_time": "2022-10-02T16:28:07.900Z"
   },
   {
    "duration": 15,
    "start_time": "2022-10-02T16:28:08.104Z"
   },
   {
    "duration": 22,
    "start_time": "2022-10-02T16:28:08.120Z"
   },
   {
    "duration": 38,
    "start_time": "2022-10-02T16:28:08.144Z"
   },
   {
    "duration": 14,
    "start_time": "2022-10-02T16:28:08.202Z"
   },
   {
    "duration": 8,
    "start_time": "2022-10-02T16:28:08.218Z"
   },
   {
    "duration": 11,
    "start_time": "2022-10-02T16:28:08.228Z"
   },
   {
    "duration": 121,
    "start_time": "2022-10-02T16:28:08.240Z"
   },
   {
    "duration": 180,
    "start_time": "2022-10-02T16:28:08.363Z"
   },
   {
    "duration": 90,
    "start_time": "2022-10-02T16:28:08.544Z"
   },
   {
    "duration": 41,
    "start_time": "2022-10-02T16:28:08.635Z"
   },
   {
    "duration": 50,
    "start_time": "2022-10-02T16:28:08.677Z"
   },
   {
    "duration": 38,
    "start_time": "2022-10-02T16:28:08.729Z"
   },
   {
    "duration": 4,
    "start_time": "2022-10-02T16:28:08.768Z"
   },
   {
    "duration": 10,
    "start_time": "2022-10-02T16:28:08.773Z"
   },
   {
    "duration": 30,
    "start_time": "2022-10-02T16:28:08.800Z"
   },
   {
    "duration": 30,
    "start_time": "2022-10-02T16:28:08.832Z"
   },
   {
    "duration": 44,
    "start_time": "2022-10-02T16:28:08.863Z"
   },
   {
    "duration": 25,
    "start_time": "2022-10-02T16:28:08.908Z"
   },
   {
    "duration": 128,
    "start_time": "2022-10-02T16:28:08.934Z"
   },
   {
    "duration": 131,
    "start_time": "2022-10-02T16:28:09.063Z"
   },
   {
    "duration": 40,
    "start_time": "2022-10-02T16:28:09.196Z"
   },
   {
    "duration": 42,
    "start_time": "2022-10-02T16:28:09.238Z"
   },
   {
    "duration": 138,
    "start_time": "2022-10-02T16:28:09.282Z"
   },
   {
    "duration": 9,
    "start_time": "2022-10-02T16:28:09.422Z"
   },
   {
    "duration": 59,
    "start_time": "2022-10-02T16:28:36.403Z"
   },
   {
    "duration": 9,
    "start_time": "2022-10-02T16:28:57.571Z"
   },
   {
    "duration": 1303,
    "start_time": "2022-10-02T16:29:07.150Z"
   },
   {
    "duration": 717,
    "start_time": "2022-10-02T16:29:08.455Z"
   },
   {
    "duration": 103,
    "start_time": "2022-10-02T16:29:09.174Z"
   },
   {
    "duration": 35,
    "start_time": "2022-10-02T16:29:09.279Z"
   },
   {
    "duration": 103,
    "start_time": "2022-10-02T16:29:09.316Z"
   },
   {
    "duration": 169,
    "start_time": "2022-10-02T16:29:09.420Z"
   },
   {
    "duration": 98,
    "start_time": "2022-10-02T16:29:09.591Z"
   },
   {
    "duration": 193,
    "start_time": "2022-10-02T16:29:09.690Z"
   },
   {
    "duration": 143,
    "start_time": "2022-10-02T16:29:09.885Z"
   },
   {
    "duration": 190,
    "start_time": "2022-10-02T16:29:10.029Z"
   },
   {
    "duration": 15,
    "start_time": "2022-10-02T16:29:10.220Z"
   },
   {
    "duration": 27,
    "start_time": "2022-10-02T16:29:10.237Z"
   },
   {
    "duration": 55,
    "start_time": "2022-10-02T16:29:10.265Z"
   },
   {
    "duration": 25,
    "start_time": "2022-10-02T16:29:10.323Z"
   },
   {
    "duration": 10,
    "start_time": "2022-10-02T16:29:10.349Z"
   },
   {
    "duration": 9,
    "start_time": "2022-10-02T16:29:10.360Z"
   },
   {
    "duration": 118,
    "start_time": "2022-10-02T16:29:10.370Z"
   },
   {
    "duration": 181,
    "start_time": "2022-10-02T16:29:10.489Z"
   },
   {
    "duration": 88,
    "start_time": "2022-10-02T16:29:10.671Z"
   },
   {
    "duration": 44,
    "start_time": "2022-10-02T16:29:10.760Z"
   },
   {
    "duration": 41,
    "start_time": "2022-10-02T16:29:10.805Z"
   },
   {
    "duration": 52,
    "start_time": "2022-10-02T16:29:10.848Z"
   },
   {
    "duration": 4,
    "start_time": "2022-10-02T16:29:10.902Z"
   },
   {
    "duration": 16,
    "start_time": "2022-10-02T16:29:10.907Z"
   },
   {
    "duration": 42,
    "start_time": "2022-10-02T16:29:10.924Z"
   },
   {
    "duration": 27,
    "start_time": "2022-10-02T16:29:10.968Z"
   },
   {
    "duration": 33,
    "start_time": "2022-10-02T16:29:10.999Z"
   },
   {
    "duration": 25,
    "start_time": "2022-10-02T16:29:11.033Z"
   },
   {
    "duration": 128,
    "start_time": "2022-10-02T16:29:11.060Z"
   },
   {
    "duration": 126,
    "start_time": "2022-10-02T16:29:11.189Z"
   },
   {
    "duration": 36,
    "start_time": "2022-10-02T16:29:11.317Z"
   },
   {
    "duration": 33,
    "start_time": "2022-10-02T16:29:11.354Z"
   },
   {
    "duration": 59,
    "start_time": "2022-10-02T16:29:11.400Z"
   },
   {
    "duration": 193,
    "start_time": "2022-10-02T16:29:11.461Z"
   },
   {
    "duration": 9,
    "start_time": "2022-10-02T16:29:44.472Z"
   },
   {
    "duration": 10,
    "start_time": "2022-10-02T16:29:52.085Z"
   },
   {
    "duration": 900,
    "start_time": "2022-10-02T16:31:39.816Z"
   },
   {
    "duration": 1260,
    "start_time": "2022-10-02T16:31:45.357Z"
   },
   {
    "duration": 709,
    "start_time": "2022-10-02T16:31:46.618Z"
   },
   {
    "duration": 113,
    "start_time": "2022-10-02T16:31:47.328Z"
   },
   {
    "duration": 24,
    "start_time": "2022-10-02T16:31:47.443Z"
   },
   {
    "duration": 119,
    "start_time": "2022-10-02T16:31:47.469Z"
   },
   {
    "duration": 171,
    "start_time": "2022-10-02T16:31:47.589Z"
   },
   {
    "duration": 107,
    "start_time": "2022-10-02T16:31:47.762Z"
   },
   {
    "duration": 194,
    "start_time": "2022-10-02T16:31:47.870Z"
   },
   {
    "duration": 140,
    "start_time": "2022-10-02T16:31:48.066Z"
   },
   {
    "duration": 196,
    "start_time": "2022-10-02T16:31:48.208Z"
   },
   {
    "duration": 16,
    "start_time": "2022-10-02T16:31:48.406Z"
   },
   {
    "duration": 24,
    "start_time": "2022-10-02T16:31:48.424Z"
   },
   {
    "duration": 62,
    "start_time": "2022-10-02T16:31:48.450Z"
   },
   {
    "duration": 13,
    "start_time": "2022-10-02T16:31:48.514Z"
   },
   {
    "duration": 7,
    "start_time": "2022-10-02T16:31:48.528Z"
   },
   {
    "duration": 5,
    "start_time": "2022-10-02T16:31:48.536Z"
   },
   {
    "duration": 144,
    "start_time": "2022-10-02T16:31:48.542Z"
   },
   {
    "duration": 183,
    "start_time": "2022-10-02T16:31:48.687Z"
   },
   {
    "duration": 91,
    "start_time": "2022-10-02T16:31:48.872Z"
   },
   {
    "duration": 47,
    "start_time": "2022-10-02T16:31:48.965Z"
   },
   {
    "duration": 44,
    "start_time": "2022-10-02T16:31:49.014Z"
   },
   {
    "duration": 60,
    "start_time": "2022-10-02T16:31:49.060Z"
   },
   {
    "duration": 4,
    "start_time": "2022-10-02T16:31:49.122Z"
   },
   {
    "duration": 14,
    "start_time": "2022-10-02T16:31:49.127Z"
   },
   {
    "duration": 42,
    "start_time": "2022-10-02T16:31:49.143Z"
   },
   {
    "duration": 27,
    "start_time": "2022-10-02T16:31:49.200Z"
   },
   {
    "duration": 28,
    "start_time": "2022-10-02T16:31:49.229Z"
   },
   {
    "duration": 45,
    "start_time": "2022-10-02T16:31:49.260Z"
   },
   {
    "duration": 141,
    "start_time": "2022-10-02T16:31:49.307Z"
   },
   {
    "duration": 142,
    "start_time": "2022-10-02T16:31:49.450Z"
   },
   {
    "duration": 42,
    "start_time": "2022-10-02T16:31:49.599Z"
   },
   {
    "duration": 35,
    "start_time": "2022-10-02T16:31:49.642Z"
   },
   {
    "duration": 71,
    "start_time": "2022-10-02T16:31:49.679Z"
   },
   {
    "duration": 54,
    "start_time": "2022-10-02T16:31:49.752Z"
   },
   {
    "duration": 3,
    "start_time": "2022-10-02T16:56:59.347Z"
   },
   {
    "duration": 1258,
    "start_time": "2022-10-02T16:57:05.138Z"
   },
   {
    "duration": 697,
    "start_time": "2022-10-02T16:57:06.398Z"
   },
   {
    "duration": 109,
    "start_time": "2022-10-02T16:57:07.097Z"
   },
   {
    "duration": 21,
    "start_time": "2022-10-02T16:57:07.208Z"
   },
   {
    "duration": 114,
    "start_time": "2022-10-02T16:57:07.231Z"
   },
   {
    "duration": 170,
    "start_time": "2022-10-02T16:57:07.346Z"
   },
   {
    "duration": 102,
    "start_time": "2022-10-02T16:57:07.517Z"
   },
   {
    "duration": 208,
    "start_time": "2022-10-02T16:57:07.622Z"
   },
   {
    "duration": 138,
    "start_time": "2022-10-02T16:57:07.831Z"
   },
   {
    "duration": 193,
    "start_time": "2022-10-02T16:57:07.971Z"
   },
   {
    "duration": 15,
    "start_time": "2022-10-02T16:57:08.165Z"
   },
   {
    "duration": 42,
    "start_time": "2022-10-02T16:57:08.181Z"
   },
   {
    "duration": 55,
    "start_time": "2022-10-02T16:57:08.224Z"
   },
   {
    "duration": 17,
    "start_time": "2022-10-02T16:57:08.281Z"
   },
   {
    "duration": 28,
    "start_time": "2022-10-02T16:57:08.299Z"
   },
   {
    "duration": 26,
    "start_time": "2022-10-02T16:57:08.329Z"
   },
   {
    "duration": 131,
    "start_time": "2022-10-02T16:57:08.356Z"
   },
   {
    "duration": 187,
    "start_time": "2022-10-02T16:57:08.488Z"
   },
   {
    "duration": 91,
    "start_time": "2022-10-02T16:57:08.677Z"
   },
   {
    "duration": 43,
    "start_time": "2022-10-02T16:57:08.770Z"
   },
   {
    "duration": 60,
    "start_time": "2022-10-02T16:57:08.814Z"
   },
   {
    "duration": 40,
    "start_time": "2022-10-02T16:57:08.875Z"
   },
   {
    "duration": 4,
    "start_time": "2022-10-02T16:57:08.917Z"
   },
   {
    "duration": 28,
    "start_time": "2022-10-02T16:57:08.922Z"
   },
   {
    "duration": 45,
    "start_time": "2022-10-02T16:57:08.951Z"
   },
   {
    "duration": 28,
    "start_time": "2022-10-02T16:57:08.998Z"
   },
   {
    "duration": 30,
    "start_time": "2022-10-02T16:57:09.028Z"
   },
   {
    "duration": 40,
    "start_time": "2022-10-02T16:57:09.059Z"
   },
   {
    "duration": 127,
    "start_time": "2022-10-02T16:57:09.100Z"
   },
   {
    "duration": 124,
    "start_time": "2022-10-02T16:57:09.228Z"
   },
   {
    "duration": 37,
    "start_time": "2022-10-02T16:57:09.354Z"
   },
   {
    "duration": 37,
    "start_time": "2022-10-02T16:57:09.400Z"
   },
   {
    "duration": 75,
    "start_time": "2022-10-02T16:57:09.438Z"
   },
   {
    "duration": 89,
    "start_time": "2022-10-02T16:57:09.515Z"
   },
   {
    "duration": 29,
    "start_time": "2022-10-02T16:58:48.719Z"
   },
   {
    "duration": 1609,
    "start_time": "2022-10-02T17:00:01.330Z"
   },
   {
    "duration": 1018,
    "start_time": "2022-10-02T17:00:02.941Z"
   },
   {
    "duration": 109,
    "start_time": "2022-10-02T17:00:03.961Z"
   },
   {
    "duration": 30,
    "start_time": "2022-10-02T17:00:04.072Z"
   },
   {
    "duration": 119,
    "start_time": "2022-10-02T17:00:04.104Z"
   },
   {
    "duration": 168,
    "start_time": "2022-10-02T17:00:04.225Z"
   },
   {
    "duration": 134,
    "start_time": "2022-10-02T17:00:04.396Z"
   },
   {
    "duration": 215,
    "start_time": "2022-10-02T17:00:04.532Z"
   },
   {
    "duration": 134,
    "start_time": "2022-10-02T17:00:04.749Z"
   },
   {
    "duration": 183,
    "start_time": "2022-10-02T17:00:04.886Z"
   },
   {
    "duration": 15,
    "start_time": "2022-10-02T17:00:05.070Z"
   },
   {
    "duration": 50,
    "start_time": "2022-10-02T17:00:05.086Z"
   },
   {
    "duration": 53,
    "start_time": "2022-10-02T17:00:05.137Z"
   },
   {
    "duration": 47,
    "start_time": "2022-10-02T17:00:05.191Z"
   },
   {
    "duration": 29,
    "start_time": "2022-10-02T17:00:05.240Z"
   },
   {
    "duration": 37,
    "start_time": "2022-10-02T17:00:05.270Z"
   },
   {
    "duration": 152,
    "start_time": "2022-10-02T17:00:05.308Z"
   },
   {
    "duration": 190,
    "start_time": "2022-10-02T17:00:05.462Z"
   },
   {
    "duration": 96,
    "start_time": "2022-10-02T17:00:05.654Z"
   },
   {
    "duration": 41,
    "start_time": "2022-10-02T17:00:05.751Z"
   },
   {
    "duration": 61,
    "start_time": "2022-10-02T17:00:05.799Z"
   },
   {
    "duration": 39,
    "start_time": "2022-10-02T17:00:05.861Z"
   },
   {
    "duration": 20,
    "start_time": "2022-10-02T17:00:05.902Z"
   },
   {
    "duration": 33,
    "start_time": "2022-10-02T17:00:05.924Z"
   },
   {
    "duration": 53,
    "start_time": "2022-10-02T17:00:05.958Z"
   },
   {
    "duration": 33,
    "start_time": "2022-10-02T17:00:06.013Z"
   },
   {
    "duration": 26,
    "start_time": "2022-10-02T17:00:06.048Z"
   },
   {
    "duration": 41,
    "start_time": "2022-10-02T17:00:06.077Z"
   },
   {
    "duration": 124,
    "start_time": "2022-10-02T17:00:06.119Z"
   },
   {
    "duration": 122,
    "start_time": "2022-10-02T17:00:06.245Z"
   },
   {
    "duration": 48,
    "start_time": "2022-10-02T17:00:06.369Z"
   },
   {
    "duration": 36,
    "start_time": "2022-10-02T17:00:06.418Z"
   },
   {
    "duration": 74,
    "start_time": "2022-10-02T17:00:06.455Z"
   },
   {
    "duration": 74,
    "start_time": "2022-10-02T17:00:06.530Z"
   },
   {
    "duration": 41,
    "start_time": "2022-10-02T17:00:58.772Z"
   },
   {
    "duration": 5,
    "start_time": "2022-10-02T17:01:07.077Z"
   },
   {
    "duration": 1377,
    "start_time": "2022-10-02T17:01:39.845Z"
   },
   {
    "duration": 70,
    "start_time": "2022-10-02T17:02:43.511Z"
   },
   {
    "duration": 3,
    "start_time": "2022-10-02T17:02:48.868Z"
   },
   {
    "duration": 3,
    "start_time": "2022-10-02T17:02:59.901Z"
   },
   {
    "duration": 2,
    "start_time": "2022-10-02T17:04:46.489Z"
   },
   {
    "duration": 9,
    "start_time": "2022-10-02T17:05:25.598Z"
   },
   {
    "duration": 1341,
    "start_time": "2022-10-02T17:05:43.123Z"
   },
   {
    "duration": 1051,
    "start_time": "2022-10-02T17:05:44.466Z"
   },
   {
    "duration": 102,
    "start_time": "2022-10-02T17:05:45.518Z"
   },
   {
    "duration": 21,
    "start_time": "2022-10-02T17:05:45.622Z"
   },
   {
    "duration": 104,
    "start_time": "2022-10-02T17:05:45.645Z"
   },
   {
    "duration": 166,
    "start_time": "2022-10-02T17:05:45.751Z"
   },
   {
    "duration": 100,
    "start_time": "2022-10-02T17:05:45.919Z"
   },
   {
    "duration": 199,
    "start_time": "2022-10-02T17:05:46.020Z"
   },
   {
    "duration": 143,
    "start_time": "2022-10-02T17:05:46.220Z"
   },
   {
    "duration": 197,
    "start_time": "2022-10-02T17:05:46.364Z"
   },
   {
    "duration": 17,
    "start_time": "2022-10-02T17:05:46.563Z"
   },
   {
    "duration": 35,
    "start_time": "2022-10-02T17:05:46.582Z"
   },
   {
    "duration": 39,
    "start_time": "2022-10-02T17:05:46.618Z"
   },
   {
    "duration": 12,
    "start_time": "2022-10-02T17:05:46.660Z"
   },
   {
    "duration": 9,
    "start_time": "2022-10-02T17:05:46.673Z"
   },
   {
    "duration": 3,
    "start_time": "2022-10-02T17:05:46.700Z"
   },
   {
    "duration": 137,
    "start_time": "2022-10-02T17:05:46.705Z"
   },
   {
    "duration": 199,
    "start_time": "2022-10-02T17:05:46.843Z"
   },
   {
    "duration": 102,
    "start_time": "2022-10-02T17:05:47.044Z"
   },
   {
    "duration": 44,
    "start_time": "2022-10-02T17:05:47.148Z"
   },
   {
    "duration": 45,
    "start_time": "2022-10-02T17:05:47.201Z"
   },
   {
    "duration": 52,
    "start_time": "2022-10-02T17:05:47.248Z"
   },
   {
    "duration": 4,
    "start_time": "2022-10-02T17:05:47.302Z"
   },
   {
    "duration": 11,
    "start_time": "2022-10-02T17:05:47.308Z"
   },
   {
    "duration": 34,
    "start_time": "2022-10-02T17:05:47.320Z"
   },
   {
    "duration": 48,
    "start_time": "2022-10-02T17:05:47.355Z"
   },
   {
    "duration": 30,
    "start_time": "2022-10-02T17:05:47.404Z"
   },
   {
    "duration": 28,
    "start_time": "2022-10-02T17:05:47.436Z"
   },
   {
    "duration": 143,
    "start_time": "2022-10-02T17:05:47.466Z"
   },
   {
    "duration": 131,
    "start_time": "2022-10-02T17:05:47.611Z"
   },
   {
    "duration": 40,
    "start_time": "2022-10-02T17:05:47.743Z"
   },
   {
    "duration": 50,
    "start_time": "2022-10-02T17:05:47.785Z"
   },
   {
    "duration": 74,
    "start_time": "2022-10-02T17:05:47.837Z"
   },
   {
    "duration": 13,
    "start_time": "2022-10-02T17:05:47.914Z"
   },
   {
    "duration": 5396,
    "start_time": "2022-10-02T17:07:09.209Z"
   },
   {
    "duration": 112,
    "start_time": "2022-10-02T17:12:24.285Z"
   },
   {
    "duration": 9,
    "start_time": "2022-10-02T17:12:45.168Z"
   },
   {
    "duration": 3,
    "start_time": "2022-10-02T17:13:19.907Z"
   },
   {
    "duration": 9,
    "start_time": "2022-10-02T17:13:27.308Z"
   },
   {
    "duration": 3,
    "start_time": "2022-10-02T17:14:05.108Z"
   },
   {
    "duration": 935149,
    "start_time": "2022-10-02T17:14:09.655Z"
   },
   {
    "duration": 3,
    "start_time": "2022-10-02T17:29:44.807Z"
   },
   {
    "duration": 52,
    "start_time": "2022-10-02T17:29:44.811Z"
   },
   {
    "duration": 398,
    "start_time": "2022-10-02T17:36:01.317Z"
   },
   {
    "duration": 368,
    "start_time": "2022-10-02T17:36:16.044Z"
   },
   {
    "duration": 9,
    "start_time": "2022-10-02T17:37:28.113Z"
   },
   {
    "duration": 8,
    "start_time": "2022-10-02T17:37:38.942Z"
   },
   {
    "duration": 3,
    "start_time": "2022-10-02T17:38:15.679Z"
   },
   {
    "duration": 4,
    "start_time": "2022-10-02T17:38:21.005Z"
   },
   {
    "duration": 3,
    "start_time": "2022-10-02T17:38:40.922Z"
   },
   {
    "duration": 4,
    "start_time": "2022-10-02T17:39:16.916Z"
   },
   {
    "duration": 4,
    "start_time": "2022-10-02T17:39:26.665Z"
   },
   {
    "duration": 5,
    "start_time": "2022-10-02T17:39:42.330Z"
   },
   {
    "duration": 5,
    "start_time": "2022-10-02T17:39:47.048Z"
   },
   {
    "duration": 5,
    "start_time": "2022-10-02T17:40:07.105Z"
   },
   {
    "duration": 9,
    "start_time": "2022-10-02T17:41:18.176Z"
   },
   {
    "duration": 6,
    "start_time": "2022-10-02T17:42:24.134Z"
   },
   {
    "duration": 641199,
    "start_time": "2022-10-02T17:48:49.303Z"
   },
   {
    "duration": 52,
    "start_time": "2022-10-04T09:48:40.587Z"
   },
   {
    "duration": 1662,
    "start_time": "2022-10-04T09:48:50.549Z"
   },
   {
    "duration": 3860,
    "start_time": "2022-10-04T09:48:52.213Z"
   },
   {
    "duration": 131,
    "start_time": "2022-10-04T09:48:56.074Z"
   },
   {
    "duration": 38,
    "start_time": "2022-10-04T09:48:56.207Z"
   },
   {
    "duration": 109,
    "start_time": "2022-10-04T09:48:56.247Z"
   },
   {
    "duration": 166,
    "start_time": "2022-10-04T09:48:56.358Z"
   },
   {
    "duration": 107,
    "start_time": "2022-10-04T09:48:56.526Z"
   },
   {
    "duration": 201,
    "start_time": "2022-10-04T09:48:56.637Z"
   },
   {
    "duration": 144,
    "start_time": "2022-10-04T09:48:56.840Z"
   },
   {
    "duration": 199,
    "start_time": "2022-10-04T09:48:56.986Z"
   },
   {
    "duration": 16,
    "start_time": "2022-10-04T09:48:57.186Z"
   },
   {
    "duration": 35,
    "start_time": "2022-10-04T09:48:57.203Z"
   },
   {
    "duration": 7,
    "start_time": "2022-10-04T09:48:57.240Z"
   },
   {
    "duration": 3,
    "start_time": "2022-10-04T09:48:57.250Z"
   },
   {
    "duration": 32,
    "start_time": "2022-10-04T09:48:57.255Z"
   },
   {
    "duration": 124,
    "start_time": "2022-10-04T09:48:57.289Z"
   },
   {
    "duration": 203,
    "start_time": "2022-10-04T09:48:57.414Z"
   },
   {
    "duration": 90,
    "start_time": "2022-10-04T09:48:57.619Z"
   },
   {
    "duration": 54,
    "start_time": "2022-10-04T09:48:57.710Z"
   },
   {
    "duration": 43,
    "start_time": "2022-10-04T09:48:57.765Z"
   },
   {
    "duration": 54,
    "start_time": "2022-10-04T09:48:57.810Z"
   },
   {
    "duration": 4,
    "start_time": "2022-10-04T09:48:57.866Z"
   },
   {
    "duration": 12,
    "start_time": "2022-10-04T09:48:57.871Z"
   },
   {
    "duration": 55,
    "start_time": "2022-10-04T09:48:57.884Z"
   },
   {
    "duration": 29,
    "start_time": "2022-10-04T09:48:57.941Z"
   },
   {
    "duration": 29,
    "start_time": "2022-10-04T09:48:57.972Z"
   },
   {
    "duration": 49,
    "start_time": "2022-10-04T09:48:58.003Z"
   },
   {
    "duration": 132,
    "start_time": "2022-10-04T09:48:58.054Z"
   },
   {
    "duration": 132,
    "start_time": "2022-10-04T09:48:58.188Z"
   },
   {
    "duration": 46,
    "start_time": "2022-10-04T09:48:58.322Z"
   },
   {
    "duration": 56,
    "start_time": "2022-10-04T09:48:58.370Z"
   },
   {
    "duration": 64,
    "start_time": "2022-10-04T09:48:58.433Z"
   },
   {
    "duration": 21,
    "start_time": "2022-10-04T09:48:58.522Z"
   },
   {
    "duration": 196,
    "start_time": "2022-10-04T09:48:58.545Z"
   },
   {
    "duration": 34294,
    "start_time": "2022-10-04T09:48:58.743Z"
   },
   {
    "duration": 4,
    "start_time": "2022-10-04T09:49:33.041Z"
   },
   {
    "duration": 1361,
    "start_time": "2022-10-04T09:50:37.540Z"
   },
   {
    "duration": 827,
    "start_time": "2022-10-04T09:50:38.902Z"
   },
   {
    "duration": 113,
    "start_time": "2022-10-04T09:50:39.734Z"
   },
   {
    "duration": 23,
    "start_time": "2022-10-04T09:50:39.849Z"
   },
   {
    "duration": 112,
    "start_time": "2022-10-04T09:50:39.874Z"
   },
   {
    "duration": 193,
    "start_time": "2022-10-04T09:50:39.988Z"
   },
   {
    "duration": 103,
    "start_time": "2022-10-04T09:50:40.183Z"
   },
   {
    "duration": 193,
    "start_time": "2022-10-04T09:50:40.288Z"
   },
   {
    "duration": 156,
    "start_time": "2022-10-04T09:50:40.482Z"
   },
   {
    "duration": 197,
    "start_time": "2022-10-04T09:50:40.640Z"
   },
   {
    "duration": 16,
    "start_time": "2022-10-04T09:50:40.838Z"
   },
   {
    "duration": 42,
    "start_time": "2022-10-04T09:50:40.856Z"
   },
   {
    "duration": 19,
    "start_time": "2022-10-04T09:50:40.899Z"
   },
   {
    "duration": 14,
    "start_time": "2022-10-04T09:50:40.924Z"
   },
   {
    "duration": 41,
    "start_time": "2022-10-04T09:50:40.940Z"
   },
   {
    "duration": 225,
    "start_time": "2022-10-04T09:50:40.982Z"
   },
   {
    "duration": 136,
    "start_time": "2022-10-04T09:50:41.209Z"
   },
   {
    "duration": 210,
    "start_time": "2022-10-04T09:50:41.347Z"
   },
   {
    "duration": 99,
    "start_time": "2022-10-04T09:50:41.559Z"
   },
   {
    "duration": 48,
    "start_time": "2022-10-04T09:50:41.660Z"
   },
   {
    "duration": 65,
    "start_time": "2022-10-04T09:50:41.710Z"
   },
   {
    "duration": 39,
    "start_time": "2022-10-04T09:50:41.776Z"
   },
   {
    "duration": 10,
    "start_time": "2022-10-04T09:50:41.816Z"
   },
   {
    "duration": 31,
    "start_time": "2022-10-04T09:50:41.828Z"
   },
   {
    "duration": 36,
    "start_time": "2022-10-04T09:50:41.861Z"
   },
   {
    "duration": 41,
    "start_time": "2022-10-04T09:50:41.899Z"
   },
   {
    "duration": 32,
    "start_time": "2022-10-04T09:50:41.941Z"
   },
   {
    "duration": 30,
    "start_time": "2022-10-04T09:50:41.974Z"
   },
   {
    "duration": 150,
    "start_time": "2022-10-04T09:50:42.006Z"
   },
   {
    "duration": 135,
    "start_time": "2022-10-04T09:50:42.157Z"
   },
   {
    "duration": 67,
    "start_time": "2022-10-04T09:50:42.293Z"
   },
   {
    "duration": 83,
    "start_time": "2022-10-04T09:50:42.362Z"
   },
   {
    "duration": 370,
    "start_time": "2022-10-04T09:50:42.446Z"
   },
   {
    "duration": 91,
    "start_time": "2022-10-04T09:50:42.818Z"
   },
   {
    "duration": 87,
    "start_time": "2022-10-04T09:50:42.911Z"
   },
   {
    "duration": 137,
    "start_time": "2022-10-04T09:50:43.000Z"
   },
   {
    "duration": 3,
    "start_time": "2022-10-04T09:50:43.140Z"
   },
   {
    "duration": 1936,
    "start_time": "2022-10-04T09:50:43.145Z"
   },
   {
    "duration": 3,
    "start_time": "2022-10-04T09:50:45.083Z"
   },
   {
    "duration": 104,
    "start_time": "2022-10-04T09:50:45.087Z"
   },
   {
    "duration": 9,
    "start_time": "2022-10-04T09:50:45.194Z"
   },
   {
    "duration": 16,
    "start_time": "2022-10-04T09:52:07.085Z"
   },
   {
    "duration": 10,
    "start_time": "2022-10-04T09:52:44.126Z"
   },
   {
    "duration": 5,
    "start_time": "2022-10-04T09:53:29.798Z"
   },
   {
    "duration": 50,
    "start_time": "2022-10-04T10:11:30.069Z"
   },
   {
    "duration": 107,
    "start_time": "2022-10-04T10:12:06.388Z"
   },
   {
    "duration": 6,
    "start_time": "2022-10-04T10:12:28.017Z"
   },
   {
    "duration": 37,
    "start_time": "2022-10-04T10:13:43.308Z"
   },
   {
    "duration": 39,
    "start_time": "2022-10-04T10:14:00.918Z"
   },
   {
    "duration": 24,
    "start_time": "2022-10-04T10:16:13.734Z"
   },
   {
    "duration": 8,
    "start_time": "2022-10-04T10:16:43.921Z"
   },
   {
    "duration": 6,
    "start_time": "2022-10-04T10:16:51.706Z"
   },
   {
    "duration": 12,
    "start_time": "2022-10-04T10:17:00.449Z"
   },
   {
    "duration": 13,
    "start_time": "2022-10-04T10:18:49.938Z"
   },
   {
    "duration": 22,
    "start_time": "2022-10-04T10:20:32.736Z"
   },
   {
    "duration": 23,
    "start_time": "2022-10-04T10:20:57.560Z"
   },
   {
    "duration": 49,
    "start_time": "2022-10-04T10:21:30.738Z"
   },
   {
    "duration": 12,
    "start_time": "2022-10-04T10:21:57.485Z"
   },
   {
    "duration": 13,
    "start_time": "2022-10-04T10:22:26.719Z"
   },
   {
    "duration": 1303,
    "start_time": "2022-10-04T10:22:32.461Z"
   },
   {
    "duration": 694,
    "start_time": "2022-10-04T10:22:33.766Z"
   },
   {
    "duration": 114,
    "start_time": "2022-10-04T10:22:34.461Z"
   },
   {
    "duration": 22,
    "start_time": "2022-10-04T10:22:34.577Z"
   },
   {
    "duration": 108,
    "start_time": "2022-10-04T10:22:34.601Z"
   },
   {
    "duration": 161,
    "start_time": "2022-10-04T10:22:34.711Z"
   },
   {
    "duration": 104,
    "start_time": "2022-10-04T10:22:34.873Z"
   },
   {
    "duration": 192,
    "start_time": "2022-10-04T10:22:34.979Z"
   },
   {
    "duration": 132,
    "start_time": "2022-10-04T10:22:35.172Z"
   },
   {
    "duration": 203,
    "start_time": "2022-10-04T10:22:35.306Z"
   },
   {
    "duration": 25,
    "start_time": "2022-10-04T10:22:35.510Z"
   },
   {
    "duration": 22,
    "start_time": "2022-10-04T10:22:35.536Z"
   },
   {
    "duration": 5,
    "start_time": "2022-10-04T10:22:35.559Z"
   },
   {
    "duration": 13,
    "start_time": "2022-10-04T10:22:35.567Z"
   },
   {
    "duration": 22,
    "start_time": "2022-10-04T10:22:35.581Z"
   },
   {
    "duration": 84,
    "start_time": "2022-10-04T10:22:35.621Z"
   },
   {
    "duration": 14,
    "start_time": "2022-10-04T10:22:35.708Z"
   },
   {
    "duration": 109,
    "start_time": "2022-10-04T10:22:35.724Z"
   },
   {
    "duration": 0,
    "start_time": "2022-10-04T10:22:35.835Z"
   },
   {
    "duration": 0,
    "start_time": "2022-10-04T10:22:35.836Z"
   },
   {
    "duration": 0,
    "start_time": "2022-10-04T10:22:35.837Z"
   },
   {
    "duration": 0,
    "start_time": "2022-10-04T10:22:35.838Z"
   },
   {
    "duration": 0,
    "start_time": "2022-10-04T10:22:35.839Z"
   },
   {
    "duration": 0,
    "start_time": "2022-10-04T10:22:35.841Z"
   },
   {
    "duration": 0,
    "start_time": "2022-10-04T10:22:35.842Z"
   },
   {
    "duration": 0,
    "start_time": "2022-10-04T10:22:35.843Z"
   },
   {
    "duration": 0,
    "start_time": "2022-10-04T10:22:35.844Z"
   },
   {
    "duration": 0,
    "start_time": "2022-10-04T10:22:35.846Z"
   },
   {
    "duration": 0,
    "start_time": "2022-10-04T10:22:35.847Z"
   },
   {
    "duration": 0,
    "start_time": "2022-10-04T10:22:35.848Z"
   },
   {
    "duration": 0,
    "start_time": "2022-10-04T10:22:35.849Z"
   },
   {
    "duration": 0,
    "start_time": "2022-10-04T10:22:35.851Z"
   },
   {
    "duration": 0,
    "start_time": "2022-10-04T10:22:35.852Z"
   },
   {
    "duration": 0,
    "start_time": "2022-10-04T10:22:35.853Z"
   },
   {
    "duration": 0,
    "start_time": "2022-10-04T10:22:35.855Z"
   },
   {
    "duration": 0,
    "start_time": "2022-10-04T10:22:35.856Z"
   },
   {
    "duration": 0,
    "start_time": "2022-10-04T10:22:35.857Z"
   },
   {
    "duration": 0,
    "start_time": "2022-10-04T10:22:35.858Z"
   },
   {
    "duration": 0,
    "start_time": "2022-10-04T10:22:35.859Z"
   },
   {
    "duration": 0,
    "start_time": "2022-10-04T10:22:35.860Z"
   },
   {
    "duration": 0,
    "start_time": "2022-10-04T10:22:35.861Z"
   },
   {
    "duration": 0,
    "start_time": "2022-10-04T10:22:35.862Z"
   },
   {
    "duration": 0,
    "start_time": "2022-10-04T10:22:35.863Z"
   },
   {
    "duration": 9,
    "start_time": "2022-10-04T10:26:38.235Z"
   },
   {
    "duration": 6,
    "start_time": "2022-10-04T10:26:40.950Z"
   },
   {
    "duration": 6,
    "start_time": "2022-10-04T10:27:05.297Z"
   },
   {
    "duration": 72,
    "start_time": "2022-10-04T10:28:57.158Z"
   },
   {
    "duration": 604,
    "start_time": "2022-10-04T10:29:13.023Z"
   },
   {
    "duration": 85,
    "start_time": "2022-10-04T10:29:51.974Z"
   },
   {
    "duration": 1408,
    "start_time": "2022-10-04T10:30:10.132Z"
   },
   {
    "duration": 726,
    "start_time": "2022-10-04T10:30:11.542Z"
   },
   {
    "duration": 108,
    "start_time": "2022-10-04T10:30:12.270Z"
   },
   {
    "duration": 22,
    "start_time": "2022-10-04T10:30:12.381Z"
   },
   {
    "duration": 108,
    "start_time": "2022-10-04T10:30:12.405Z"
   },
   {
    "duration": 148,
    "start_time": "2022-10-04T10:30:12.521Z"
   },
   {
    "duration": 101,
    "start_time": "2022-10-04T10:30:12.671Z"
   },
   {
    "duration": 195,
    "start_time": "2022-10-04T10:30:12.774Z"
   },
   {
    "duration": 139,
    "start_time": "2022-10-04T10:30:12.970Z"
   },
   {
    "duration": 184,
    "start_time": "2022-10-04T10:30:13.112Z"
   },
   {
    "duration": 26,
    "start_time": "2022-10-04T10:30:13.298Z"
   },
   {
    "duration": 23,
    "start_time": "2022-10-04T10:30:13.325Z"
   },
   {
    "duration": 6,
    "start_time": "2022-10-04T10:30:13.350Z"
   },
   {
    "duration": 11,
    "start_time": "2022-10-04T10:30:13.358Z"
   },
   {
    "duration": 29,
    "start_time": "2022-10-04T10:30:13.371Z"
   },
   {
    "duration": 718,
    "start_time": "2022-10-04T10:30:13.401Z"
   },
   {
    "duration": 0,
    "start_time": "2022-10-04T10:30:14.121Z"
   },
   {
    "duration": 0,
    "start_time": "2022-10-04T10:30:14.122Z"
   },
   {
    "duration": 0,
    "start_time": "2022-10-04T10:30:14.123Z"
   },
   {
    "duration": 0,
    "start_time": "2022-10-04T10:30:14.123Z"
   },
   {
    "duration": 0,
    "start_time": "2022-10-04T10:30:14.124Z"
   },
   {
    "duration": 0,
    "start_time": "2022-10-04T10:30:14.125Z"
   },
   {
    "duration": 0,
    "start_time": "2022-10-04T10:30:14.125Z"
   },
   {
    "duration": 0,
    "start_time": "2022-10-04T10:30:14.126Z"
   },
   {
    "duration": 0,
    "start_time": "2022-10-04T10:30:14.127Z"
   },
   {
    "duration": 0,
    "start_time": "2022-10-04T10:30:14.128Z"
   },
   {
    "duration": 0,
    "start_time": "2022-10-04T10:30:14.129Z"
   },
   {
    "duration": 0,
    "start_time": "2022-10-04T10:30:14.130Z"
   },
   {
    "duration": 0,
    "start_time": "2022-10-04T10:30:14.131Z"
   },
   {
    "duration": 0,
    "start_time": "2022-10-04T10:30:14.132Z"
   },
   {
    "duration": 0,
    "start_time": "2022-10-04T10:30:14.133Z"
   },
   {
    "duration": 0,
    "start_time": "2022-10-04T10:30:14.134Z"
   },
   {
    "duration": 0,
    "start_time": "2022-10-04T10:30:14.135Z"
   },
   {
    "duration": 0,
    "start_time": "2022-10-04T10:30:14.135Z"
   },
   {
    "duration": 0,
    "start_time": "2022-10-04T10:30:14.136Z"
   },
   {
    "duration": 0,
    "start_time": "2022-10-04T10:30:14.137Z"
   },
   {
    "duration": 0,
    "start_time": "2022-10-04T10:30:14.138Z"
   },
   {
    "duration": 0,
    "start_time": "2022-10-04T10:30:14.139Z"
   },
   {
    "duration": 0,
    "start_time": "2022-10-04T10:30:14.139Z"
   },
   {
    "duration": 0,
    "start_time": "2022-10-04T10:30:14.140Z"
   },
   {
    "duration": 0,
    "start_time": "2022-10-04T10:30:14.141Z"
   },
   {
    "duration": 76,
    "start_time": "2022-10-04T10:30:36.060Z"
   },
   {
    "duration": 77,
    "start_time": "2022-10-04T10:31:40.335Z"
   },
   {
    "duration": 10,
    "start_time": "2022-10-04T10:31:57.315Z"
   },
   {
    "duration": 12,
    "start_time": "2022-10-04T10:32:32.904Z"
   },
   {
    "duration": 1334,
    "start_time": "2022-10-04T10:34:18.496Z"
   },
   {
    "duration": 713,
    "start_time": "2022-10-04T10:34:19.832Z"
   },
   {
    "duration": 113,
    "start_time": "2022-10-04T10:34:20.547Z"
   },
   {
    "duration": 22,
    "start_time": "2022-10-04T10:34:20.662Z"
   },
   {
    "duration": 113,
    "start_time": "2022-10-04T10:34:20.685Z"
   },
   {
    "duration": 165,
    "start_time": "2022-10-04T10:34:20.799Z"
   },
   {
    "duration": 121,
    "start_time": "2022-10-04T10:34:20.965Z"
   },
   {
    "duration": 208,
    "start_time": "2022-10-04T10:34:21.088Z"
   },
   {
    "duration": 147,
    "start_time": "2022-10-04T10:34:21.298Z"
   },
   {
    "duration": 182,
    "start_time": "2022-10-04T10:34:21.448Z"
   },
   {
    "duration": 14,
    "start_time": "2022-10-04T10:34:21.632Z"
   },
   {
    "duration": 21,
    "start_time": "2022-10-04T10:34:21.648Z"
   },
   {
    "duration": 5,
    "start_time": "2022-10-04T10:34:21.670Z"
   },
   {
    "duration": 6,
    "start_time": "2022-10-04T10:34:21.677Z"
   },
   {
    "duration": 39,
    "start_time": "2022-10-04T10:34:21.684Z"
   },
   {
    "duration": 56,
    "start_time": "2022-10-04T10:34:21.725Z"
   },
   {
    "duration": 117,
    "start_time": "2022-10-04T10:34:21.783Z"
   },
   {
    "duration": 0,
    "start_time": "2022-10-04T10:34:21.902Z"
   },
   {
    "duration": 0,
    "start_time": "2022-10-04T10:34:21.903Z"
   },
   {
    "duration": 0,
    "start_time": "2022-10-04T10:34:21.904Z"
   },
   {
    "duration": 0,
    "start_time": "2022-10-04T10:34:21.905Z"
   },
   {
    "duration": 0,
    "start_time": "2022-10-04T10:34:21.906Z"
   },
   {
    "duration": 0,
    "start_time": "2022-10-04T10:34:21.907Z"
   },
   {
    "duration": 0,
    "start_time": "2022-10-04T10:34:21.908Z"
   },
   {
    "duration": 0,
    "start_time": "2022-10-04T10:34:21.909Z"
   },
   {
    "duration": 0,
    "start_time": "2022-10-04T10:34:21.922Z"
   },
   {
    "duration": 0,
    "start_time": "2022-10-04T10:34:21.923Z"
   },
   {
    "duration": 0,
    "start_time": "2022-10-04T10:34:21.924Z"
   },
   {
    "duration": 0,
    "start_time": "2022-10-04T10:34:21.925Z"
   },
   {
    "duration": 0,
    "start_time": "2022-10-04T10:34:21.926Z"
   },
   {
    "duration": 0,
    "start_time": "2022-10-04T10:34:21.927Z"
   },
   {
    "duration": 0,
    "start_time": "2022-10-04T10:34:21.928Z"
   },
   {
    "duration": 0,
    "start_time": "2022-10-04T10:34:21.929Z"
   },
   {
    "duration": 0,
    "start_time": "2022-10-04T10:34:21.930Z"
   },
   {
    "duration": 0,
    "start_time": "2022-10-04T10:34:21.931Z"
   },
   {
    "duration": 0,
    "start_time": "2022-10-04T10:34:21.932Z"
   },
   {
    "duration": 1,
    "start_time": "2022-10-04T10:34:21.932Z"
   },
   {
    "duration": 0,
    "start_time": "2022-10-04T10:34:21.933Z"
   },
   {
    "duration": 0,
    "start_time": "2022-10-04T10:34:21.934Z"
   },
   {
    "duration": 0,
    "start_time": "2022-10-04T10:34:21.935Z"
   },
   {
    "duration": 0,
    "start_time": "2022-10-04T10:34:21.936Z"
   },
   {
    "duration": 0,
    "start_time": "2022-10-04T10:34:21.937Z"
   },
   {
    "duration": 66,
    "start_time": "2022-10-04T10:50:14.634Z"
   },
   {
    "duration": 10,
    "start_time": "2022-10-04T10:50:17.209Z"
   },
   {
    "duration": 51,
    "start_time": "2022-10-04T10:50:20.473Z"
   },
   {
    "duration": 13,
    "start_time": "2022-10-04T10:50:21.353Z"
   },
   {
    "duration": 12,
    "start_time": "2022-10-04T10:51:15.121Z"
   },
   {
    "duration": 4,
    "start_time": "2022-10-04T10:52:24.099Z"
   },
   {
    "duration": 22,
    "start_time": "2022-10-04T10:52:32.112Z"
   },
   {
    "duration": 64,
    "start_time": "2022-10-04T10:52:33.460Z"
   },
   {
    "duration": 13,
    "start_time": "2022-10-04T10:52:34.509Z"
   },
   {
    "duration": 73,
    "start_time": "2022-10-04T10:53:56.380Z"
   },
   {
    "duration": 13,
    "start_time": "2022-10-04T10:54:10.273Z"
   },
   {
    "duration": 18,
    "start_time": "2022-10-04T10:54:58.477Z"
   },
   {
    "duration": 51,
    "start_time": "2022-10-04T10:55:04.777Z"
   },
   {
    "duration": 14,
    "start_time": "2022-10-04T10:55:05.889Z"
   },
   {
    "duration": 12,
    "start_time": "2022-10-04T10:57:47.150Z"
   },
   {
    "duration": 149,
    "start_time": "2022-10-04T10:59:41.088Z"
   },
   {
    "duration": 25,
    "start_time": "2022-10-04T11:04:44.139Z"
   },
   {
    "duration": 39,
    "start_time": "2022-10-04T11:06:42.671Z"
   },
   {
    "duration": 24,
    "start_time": "2022-10-04T11:06:58.925Z"
   },
   {
    "duration": 12,
    "start_time": "2022-10-04T11:07:08.442Z"
   },
   {
    "duration": 12,
    "start_time": "2022-10-04T11:08:29.999Z"
   },
   {
    "duration": 13,
    "start_time": "2022-10-04T11:08:43.044Z"
   },
   {
    "duration": 114,
    "start_time": "2022-10-04T11:11:10.379Z"
   },
   {
    "duration": 288,
    "start_time": "2022-10-04T11:12:39.802Z"
   },
   {
    "duration": 254,
    "start_time": "2022-10-04T11:13:09.912Z"
   },
   {
    "duration": 25,
    "start_time": "2022-10-04T11:14:31.413Z"
   },
   {
    "duration": 446,
    "start_time": "2022-10-04T11:15:42.241Z"
   },
   {
    "duration": 404,
    "start_time": "2022-10-04T11:15:57.699Z"
   },
   {
    "duration": 290,
    "start_time": "2022-10-04T11:16:03.109Z"
   },
   {
    "duration": 32,
    "start_time": "2022-10-04T11:17:16.036Z"
   },
   {
    "duration": 31,
    "start_time": "2022-10-04T11:17:31.337Z"
   },
   {
    "duration": 293,
    "start_time": "2022-10-04T11:17:47.971Z"
   },
   {
    "duration": 609,
    "start_time": "2022-10-04T11:18:50.742Z"
   },
   {
    "duration": 1453,
    "start_time": "2022-10-04T11:19:15.514Z"
   },
   {
    "duration": 735,
    "start_time": "2022-10-04T11:19:16.968Z"
   },
   {
    "duration": 115,
    "start_time": "2022-10-04T11:19:17.704Z"
   },
   {
    "duration": 24,
    "start_time": "2022-10-04T11:19:17.822Z"
   },
   {
    "duration": 121,
    "start_time": "2022-10-04T11:19:17.847Z"
   },
   {
    "duration": 165,
    "start_time": "2022-10-04T11:19:17.970Z"
   },
   {
    "duration": 104,
    "start_time": "2022-10-04T11:19:18.137Z"
   },
   {
    "duration": 192,
    "start_time": "2022-10-04T11:19:18.243Z"
   },
   {
    "duration": 141,
    "start_time": "2022-10-04T11:19:18.437Z"
   },
   {
    "duration": 198,
    "start_time": "2022-10-04T11:19:18.581Z"
   },
   {
    "duration": 22,
    "start_time": "2022-10-04T11:19:18.782Z"
   },
   {
    "duration": 28,
    "start_time": "2022-10-04T11:19:18.806Z"
   },
   {
    "duration": 5,
    "start_time": "2022-10-04T11:19:18.836Z"
   },
   {
    "duration": 18,
    "start_time": "2022-10-04T11:19:18.842Z"
   },
   {
    "duration": 139,
    "start_time": "2022-10-04T11:19:18.862Z"
   },
   {
    "duration": 63,
    "start_time": "2022-10-04T11:19:19.002Z"
   },
   {
    "duration": 116,
    "start_time": "2022-10-04T11:19:19.066Z"
   },
   {
    "duration": 0,
    "start_time": "2022-10-04T11:19:19.183Z"
   },
   {
    "duration": 0,
    "start_time": "2022-10-04T11:19:19.184Z"
   },
   {
    "duration": 0,
    "start_time": "2022-10-04T11:19:19.185Z"
   },
   {
    "duration": 0,
    "start_time": "2022-10-04T11:19:19.186Z"
   },
   {
    "duration": 0,
    "start_time": "2022-10-04T11:19:19.187Z"
   },
   {
    "duration": 0,
    "start_time": "2022-10-04T11:19:19.188Z"
   },
   {
    "duration": 0,
    "start_time": "2022-10-04T11:19:19.189Z"
   },
   {
    "duration": 0,
    "start_time": "2022-10-04T11:19:19.189Z"
   },
   {
    "duration": 0,
    "start_time": "2022-10-04T11:19:19.190Z"
   },
   {
    "duration": 0,
    "start_time": "2022-10-04T11:19:19.191Z"
   },
   {
    "duration": 0,
    "start_time": "2022-10-04T11:19:19.192Z"
   },
   {
    "duration": 0,
    "start_time": "2022-10-04T11:19:19.193Z"
   },
   {
    "duration": 0,
    "start_time": "2022-10-04T11:19:19.194Z"
   },
   {
    "duration": 0,
    "start_time": "2022-10-04T11:19:19.195Z"
   },
   {
    "duration": 0,
    "start_time": "2022-10-04T11:19:19.222Z"
   },
   {
    "duration": 0,
    "start_time": "2022-10-04T11:19:19.223Z"
   },
   {
    "duration": 0,
    "start_time": "2022-10-04T11:19:19.224Z"
   },
   {
    "duration": 0,
    "start_time": "2022-10-04T11:19:19.225Z"
   },
   {
    "duration": 0,
    "start_time": "2022-10-04T11:19:19.226Z"
   },
   {
    "duration": 0,
    "start_time": "2022-10-04T11:19:19.226Z"
   },
   {
    "duration": 0,
    "start_time": "2022-10-04T11:19:19.228Z"
   },
   {
    "duration": 0,
    "start_time": "2022-10-04T11:19:19.228Z"
   },
   {
    "duration": 0,
    "start_time": "2022-10-04T11:19:19.229Z"
   },
   {
    "duration": 0,
    "start_time": "2022-10-04T11:19:19.230Z"
   },
   {
    "duration": 0,
    "start_time": "2022-10-04T11:19:19.231Z"
   },
   {
    "duration": 0,
    "start_time": "2022-10-04T11:19:19.232Z"
   },
   {
    "duration": 0,
    "start_time": "2022-10-04T11:19:19.232Z"
   },
   {
    "duration": 0,
    "start_time": "2022-10-04T11:19:19.233Z"
   },
   {
    "duration": 1517,
    "start_time": "2022-10-04T11:20:07.722Z"
   },
   {
    "duration": 704,
    "start_time": "2022-10-04T11:20:09.241Z"
   },
   {
    "duration": 112,
    "start_time": "2022-10-04T11:20:09.947Z"
   },
   {
    "duration": 22,
    "start_time": "2022-10-04T11:20:10.061Z"
   },
   {
    "duration": 113,
    "start_time": "2022-10-04T11:20:10.085Z"
   },
   {
    "duration": 173,
    "start_time": "2022-10-04T11:20:10.200Z"
   },
   {
    "duration": 101,
    "start_time": "2022-10-04T11:20:10.375Z"
   },
   {
    "duration": 190,
    "start_time": "2022-10-04T11:20:10.477Z"
   },
   {
    "duration": 134,
    "start_time": "2022-10-04T11:20:10.668Z"
   },
   {
    "duration": 183,
    "start_time": "2022-10-04T11:20:10.805Z"
   },
   {
    "duration": 19,
    "start_time": "2022-10-04T11:20:10.991Z"
   },
   {
    "duration": 30,
    "start_time": "2022-10-04T11:20:11.011Z"
   },
   {
    "duration": 8,
    "start_time": "2022-10-04T11:20:11.042Z"
   },
   {
    "duration": 19,
    "start_time": "2022-10-04T11:20:11.052Z"
   },
   {
    "duration": 137,
    "start_time": "2022-10-04T11:20:11.073Z"
   },
   {
    "duration": 63,
    "start_time": "2022-10-04T11:20:11.212Z"
   },
   {
    "duration": 30,
    "start_time": "2022-10-04T11:20:11.276Z"
   },
   {
    "duration": 20,
    "start_time": "2022-10-04T11:20:11.307Z"
   },
   {
    "duration": 230,
    "start_time": "2022-10-04T11:20:11.329Z"
   },
   {
    "duration": 45,
    "start_time": "2022-10-04T11:20:11.562Z"
   },
   {
    "duration": 277,
    "start_time": "2022-10-04T11:20:11.608Z"
   },
   {
    "duration": 92,
    "start_time": "2022-10-04T11:20:11.887Z"
   },
   {
    "duration": 44,
    "start_time": "2022-10-04T11:20:11.980Z"
   },
   {
    "duration": 49,
    "start_time": "2022-10-04T11:20:12.026Z"
   },
   {
    "duration": 53,
    "start_time": "2022-10-04T11:20:12.077Z"
   },
   {
    "duration": 4,
    "start_time": "2022-10-04T11:20:12.132Z"
   },
   {
    "duration": 18,
    "start_time": "2022-10-04T11:20:12.137Z"
   },
   {
    "duration": 46,
    "start_time": "2022-10-04T11:20:12.158Z"
   },
   {
    "duration": 46,
    "start_time": "2022-10-04T11:20:12.205Z"
   },
   {
    "duration": 38,
    "start_time": "2022-10-04T11:20:12.253Z"
   },
   {
    "duration": 47,
    "start_time": "2022-10-04T11:20:12.293Z"
   },
   {
    "duration": 109,
    "start_time": "2022-10-04T11:20:12.342Z"
   },
   {
    "duration": 105,
    "start_time": "2022-10-04T11:20:12.452Z"
   },
   {
    "duration": 63,
    "start_time": "2022-10-04T11:20:12.559Z"
   },
   {
    "duration": 111,
    "start_time": "2022-10-04T11:20:12.623Z"
   },
   {
    "duration": 535,
    "start_time": "2022-10-04T11:20:12.736Z"
   },
   {
    "duration": 309,
    "start_time": "2022-10-04T11:20:13.272Z"
   },
   {
    "duration": 200,
    "start_time": "2022-10-04T11:20:13.583Z"
   },
   {
    "duration": 840,
    "start_time": "2022-10-04T11:20:13.785Z"
   },
   {
    "duration": 3,
    "start_time": "2022-10-04T11:20:14.627Z"
   },
   {
    "duration": 2587,
    "start_time": "2022-10-04T11:20:14.631Z"
   },
   {
    "duration": 3,
    "start_time": "2022-10-04T11:20:17.219Z"
   },
   {
    "duration": 205,
    "start_time": "2022-10-04T11:20:17.223Z"
   },
   {
    "duration": 9,
    "start_time": "2022-10-04T11:20:17.429Z"
   },
   {
    "duration": 45,
    "start_time": "2022-10-04T11:21:11.441Z"
   },
   {
    "duration": 54,
    "start_time": "2022-10-04T11:21:33.679Z"
   },
   {
    "duration": 311,
    "start_time": "2022-10-04T11:21:40.487Z"
   },
   {
    "duration": 36,
    "start_time": "2022-10-04T11:21:41.846Z"
   },
   {
    "duration": 12,
    "start_time": "2022-10-04T11:22:16.995Z"
   },
   {
    "duration": 51,
    "start_time": "2022-10-04T11:22:23.463Z"
   },
   {
    "duration": 93,
    "start_time": "2022-10-04T11:24:37.095Z"
   },
   {
    "duration": 81,
    "start_time": "2022-10-04T11:24:59.890Z"
   },
   {
    "duration": 67,
    "start_time": "2022-10-04T11:26:19.077Z"
   },
   {
    "duration": 104,
    "start_time": "2022-10-04T11:27:15.790Z"
   },
   {
    "duration": 69,
    "start_time": "2022-10-04T11:27:28.048Z"
   },
   {
    "duration": 26,
    "start_time": "2022-10-04T11:29:13.417Z"
   },
   {
    "duration": 36,
    "start_time": "2022-10-04T11:29:28.756Z"
   },
   {
    "duration": 3190,
    "start_time": "2022-10-05T10:41:43.050Z"
   },
   {
    "duration": 2956,
    "start_time": "2022-10-05T10:41:46.242Z"
   },
   {
    "duration": 113,
    "start_time": "2022-10-05T10:41:49.787Z"
   },
   {
    "duration": 26,
    "start_time": "2022-10-05T10:41:50.675Z"
   },
   {
    "duration": 124,
    "start_time": "2022-10-05T10:41:52.295Z"
   },
   {
    "duration": 156,
    "start_time": "2022-10-05T10:41:53.232Z"
   },
   {
    "duration": 100,
    "start_time": "2022-10-05T10:41:53.953Z"
   },
   {
    "duration": 199,
    "start_time": "2022-10-05T10:41:54.492Z"
   },
   {
    "duration": 154,
    "start_time": "2022-10-05T10:41:54.696Z"
   },
   {
    "duration": 201,
    "start_time": "2022-10-05T10:41:54.853Z"
   },
   {
    "duration": 15,
    "start_time": "2022-10-05T10:41:55.056Z"
   },
   {
    "duration": 24,
    "start_time": "2022-10-05T10:41:55.134Z"
   },
   {
    "duration": 6,
    "start_time": "2022-10-05T10:41:55.293Z"
   },
   {
    "duration": 5,
    "start_time": "2022-10-05T10:41:55.697Z"
   },
   {
    "duration": 124,
    "start_time": "2022-10-05T10:41:57.276Z"
   },
   {
    "duration": 62,
    "start_time": "2022-10-05T10:41:58.337Z"
   },
   {
    "duration": 117,
    "start_time": "2022-10-05T10:41:58.803Z"
   },
   {
    "duration": 13,
    "start_time": "2022-10-05T10:42:00.313Z"
   },
   {
    "duration": 28,
    "start_time": "2022-10-05T10:42:01.580Z"
   },
   {
    "duration": 19,
    "start_time": "2022-10-05T10:42:01.939Z"
   },
   {
    "duration": 4,
    "start_time": "2022-10-05T10:42:02.268Z"
   },
   {
    "duration": 18,
    "start_time": "2022-10-05T10:42:02.700Z"
   },
   {
    "duration": 236,
    "start_time": "2022-10-05T10:42:04.503Z"
   },
   {
    "duration": 45,
    "start_time": "2022-10-05T10:42:05.867Z"
   },
   {
    "duration": 126,
    "start_time": "2022-10-05T10:42:18.076Z"
   },
   {
    "duration": 5,
    "start_time": "2022-10-05T10:42:34.221Z"
   },
   {
    "duration": 51,
    "start_time": "2022-10-05T10:43:03.820Z"
   },
   {
    "duration": 60,
    "start_time": "2022-10-05T10:43:34.541Z"
   },
   {
    "duration": 7,
    "start_time": "2022-10-05T10:43:48.272Z"
   },
   {
    "duration": 56,
    "start_time": "2022-10-05T17:40:39.789Z"
   },
   {
    "duration": 1664,
    "start_time": "2022-10-05T17:40:46.352Z"
   },
   {
    "duration": 1214,
    "start_time": "2022-10-05T17:40:48.018Z"
   },
   {
    "duration": 120,
    "start_time": "2022-10-05T17:40:49.233Z"
   },
   {
    "duration": 25,
    "start_time": "2022-10-05T17:40:49.356Z"
   },
   {
    "duration": 128,
    "start_time": "2022-10-05T17:40:49.383Z"
   },
   {
    "duration": 182,
    "start_time": "2022-10-05T17:40:49.512Z"
   },
   {
    "duration": 115,
    "start_time": "2022-10-05T17:40:49.696Z"
   },
   {
    "duration": 230,
    "start_time": "2022-10-05T17:40:49.812Z"
   },
   {
    "duration": 163,
    "start_time": "2022-10-05T17:40:50.044Z"
   },
   {
    "duration": 214,
    "start_time": "2022-10-05T17:40:50.210Z"
   },
   {
    "duration": 18,
    "start_time": "2022-10-05T17:40:50.426Z"
   },
   {
    "duration": 25,
    "start_time": "2022-10-05T17:40:50.446Z"
   },
   {
    "duration": 6,
    "start_time": "2022-10-05T17:40:50.473Z"
   },
   {
    "duration": 40,
    "start_time": "2022-10-05T17:40:50.481Z"
   },
   {
    "duration": 136,
    "start_time": "2022-10-05T17:40:50.523Z"
   },
   {
    "duration": 88,
    "start_time": "2022-10-05T17:40:50.661Z"
   },
   {
    "duration": 36,
    "start_time": "2022-10-05T17:40:50.750Z"
   },
   {
    "duration": 36,
    "start_time": "2022-10-05T17:40:50.788Z"
   },
   {
    "duration": 5,
    "start_time": "2022-10-05T17:40:50.826Z"
   },
   {
    "duration": 24,
    "start_time": "2022-10-05T17:40:50.833Z"
   },
   {
    "duration": 4,
    "start_time": "2022-10-05T17:40:50.859Z"
   },
   {
    "duration": 32,
    "start_time": "2022-10-05T17:40:50.865Z"
   },
   {
    "duration": 1392,
    "start_time": "2022-10-05T17:40:50.899Z"
   },
   {
    "duration": 55,
    "start_time": "2022-10-05T17:40:52.292Z"
   },
   {
    "duration": 131,
    "start_time": "2022-10-05T17:40:52.349Z"
   },
   {
    "duration": 0,
    "start_time": "2022-10-05T17:40:52.483Z"
   },
   {
    "duration": 0,
    "start_time": "2022-10-05T17:40:52.484Z"
   },
   {
    "duration": 0,
    "start_time": "2022-10-05T17:40:52.486Z"
   },
   {
    "duration": 0,
    "start_time": "2022-10-05T17:40:52.487Z"
   },
   {
    "duration": 0,
    "start_time": "2022-10-05T17:40:52.488Z"
   },
   {
    "duration": 0,
    "start_time": "2022-10-05T17:40:52.490Z"
   },
   {
    "duration": 0,
    "start_time": "2022-10-05T17:40:52.491Z"
   },
   {
    "duration": 0,
    "start_time": "2022-10-05T17:40:52.492Z"
   },
   {
    "duration": 0,
    "start_time": "2022-10-05T17:40:52.494Z"
   },
   {
    "duration": 0,
    "start_time": "2022-10-05T17:40:52.521Z"
   },
   {
    "duration": 0,
    "start_time": "2022-10-05T17:40:52.523Z"
   },
   {
    "duration": 0,
    "start_time": "2022-10-05T17:40:52.524Z"
   },
   {
    "duration": 0,
    "start_time": "2022-10-05T17:40:52.526Z"
   },
   {
    "duration": 0,
    "start_time": "2022-10-05T17:40:52.527Z"
   },
   {
    "duration": 0,
    "start_time": "2022-10-05T17:40:52.528Z"
   },
   {
    "duration": 0,
    "start_time": "2022-10-05T17:40:52.530Z"
   },
   {
    "duration": 0,
    "start_time": "2022-10-05T17:40:52.531Z"
   },
   {
    "duration": 0,
    "start_time": "2022-10-05T17:40:52.533Z"
   },
   {
    "duration": 0,
    "start_time": "2022-10-05T17:40:52.534Z"
   },
   {
    "duration": 0,
    "start_time": "2022-10-05T17:40:52.535Z"
   },
   {
    "duration": 0,
    "start_time": "2022-10-05T17:40:52.537Z"
   },
   {
    "duration": 0,
    "start_time": "2022-10-05T17:40:52.538Z"
   },
   {
    "duration": 0,
    "start_time": "2022-10-05T17:40:52.540Z"
   },
   {
    "duration": 42,
    "start_time": "2022-10-05T17:43:31.392Z"
   },
   {
    "duration": 262,
    "start_time": "2022-10-05T17:44:17.551Z"
   },
   {
    "duration": 47,
    "start_time": "2022-10-05T17:45:14.265Z"
   },
   {
    "duration": 465,
    "start_time": "2022-10-05T17:45:43.218Z"
   },
   {
    "duration": 8,
    "start_time": "2022-10-05T17:45:46.386Z"
   },
   {
    "duration": 675,
    "start_time": "2022-10-05T17:45:53.496Z"
   },
   {
    "duration": 8,
    "start_time": "2022-10-05T17:45:54.398Z"
   },
   {
    "duration": 20,
    "start_time": "2022-10-05T17:46:40.171Z"
   },
   {
    "duration": 16,
    "start_time": "2022-10-05T18:10:55.992Z"
   },
   {
    "duration": 183,
    "start_time": "2022-10-05T18:11:41.635Z"
   },
   {
    "duration": 19,
    "start_time": "2022-10-05T18:14:21.498Z"
   },
   {
    "duration": 161,
    "start_time": "2022-10-05T18:14:40.344Z"
   },
   {
    "duration": 760,
    "start_time": "2022-10-05T18:17:24.231Z"
   },
   {
    "duration": 948,
    "start_time": "2022-10-05T18:17:55.904Z"
   },
   {
    "duration": 40,
    "start_time": "2022-10-05T18:19:51.067Z"
   },
   {
    "duration": 947,
    "start_time": "2022-10-05T18:20:03.823Z"
   },
   {
    "duration": 25,
    "start_time": "2022-10-05T18:20:52.420Z"
   },
   {
    "duration": 5,
    "start_time": "2022-10-05T18:21:21.761Z"
   },
   {
    "duration": 4,
    "start_time": "2022-10-05T18:21:53.876Z"
   },
   {
    "duration": 5,
    "start_time": "2022-10-05T18:21:56.712Z"
   },
   {
    "duration": 7,
    "start_time": "2022-10-05T18:22:04.129Z"
   },
   {
    "duration": 54,
    "start_time": "2022-10-05T18:22:58.151Z"
   },
   {
    "duration": 6,
    "start_time": "2022-10-05T18:23:06.268Z"
   },
   {
    "duration": 31,
    "start_time": "2022-10-05T18:23:28.452Z"
   },
   {
    "duration": 36,
    "start_time": "2022-10-05T18:23:33.023Z"
   },
   {
    "duration": 25,
    "start_time": "2022-10-05T18:23:40.071Z"
   },
   {
    "duration": 19,
    "start_time": "2022-10-05T18:24:18.677Z"
   },
   {
    "duration": 11,
    "start_time": "2022-10-05T18:25:20.252Z"
   },
   {
    "duration": 251,
    "start_time": "2022-10-05T18:25:26.553Z"
   },
   {
    "duration": 658,
    "start_time": "2022-10-05T18:26:23.676Z"
   },
   {
    "duration": 130,
    "start_time": "2022-10-05T18:26:34.450Z"
   },
   {
    "duration": 10,
    "start_time": "2022-10-05T18:26:46.631Z"
   },
   {
    "duration": 1389,
    "start_time": "2022-10-05T18:27:14.823Z"
   },
   {
    "duration": 816,
    "start_time": "2022-10-05T18:27:16.214Z"
   },
   {
    "duration": 112,
    "start_time": "2022-10-05T18:27:17.032Z"
   },
   {
    "duration": 28,
    "start_time": "2022-10-05T18:27:17.146Z"
   },
   {
    "duration": 127,
    "start_time": "2022-10-05T18:27:17.176Z"
   },
   {
    "duration": 174,
    "start_time": "2022-10-05T18:27:17.304Z"
   },
   {
    "duration": 110,
    "start_time": "2022-10-05T18:27:17.480Z"
   },
   {
    "duration": 217,
    "start_time": "2022-10-05T18:27:17.592Z"
   },
   {
    "duration": 25,
    "start_time": "2022-10-05T18:27:17.811Z"
   },
   {
    "duration": 170,
    "start_time": "2022-10-05T18:27:17.838Z"
   },
   {
    "duration": 158,
    "start_time": "2022-10-05T18:27:18.011Z"
   },
   {
    "duration": 20,
    "start_time": "2022-10-05T18:27:18.171Z"
   },
   {
    "duration": 191,
    "start_time": "2022-10-05T18:27:18.193Z"
   },
   {
    "duration": 155,
    "start_time": "2022-10-05T18:27:18.387Z"
   },
   {
    "duration": 17,
    "start_time": "2022-10-05T18:27:18.545Z"
   },
   {
    "duration": 287,
    "start_time": "2022-10-05T18:27:18.565Z"
   },
   {
    "duration": 314,
    "start_time": "2022-10-05T18:27:18.855Z"
   },
   {
    "duration": 17,
    "start_time": "2022-10-05T18:27:19.171Z"
   },
   {
    "duration": 33,
    "start_time": "2022-10-05T18:27:19.190Z"
   },
   {
    "duration": 27,
    "start_time": "2022-10-05T18:27:19.225Z"
   },
   {
    "duration": 6,
    "start_time": "2022-10-05T18:27:19.253Z"
   },
   {
    "duration": 8,
    "start_time": "2022-10-05T18:27:19.260Z"
   },
   {
    "duration": 65,
    "start_time": "2022-10-05T18:27:19.269Z"
   },
   {
    "duration": 674,
    "start_time": "2022-10-05T18:27:19.335Z"
   },
   {
    "duration": 0,
    "start_time": "2022-10-05T18:27:20.011Z"
   },
   {
    "duration": 0,
    "start_time": "2022-10-05T18:27:20.012Z"
   },
   {
    "duration": 0,
    "start_time": "2022-10-05T18:27:20.014Z"
   },
   {
    "duration": 0,
    "start_time": "2022-10-05T18:27:20.015Z"
   },
   {
    "duration": 0,
    "start_time": "2022-10-05T18:27:20.016Z"
   },
   {
    "duration": 0,
    "start_time": "2022-10-05T18:27:20.017Z"
   },
   {
    "duration": 0,
    "start_time": "2022-10-05T18:27:20.019Z"
   },
   {
    "duration": 0,
    "start_time": "2022-10-05T18:27:20.020Z"
   },
   {
    "duration": 0,
    "start_time": "2022-10-05T18:27:20.021Z"
   },
   {
    "duration": 0,
    "start_time": "2022-10-05T18:27:20.022Z"
   },
   {
    "duration": 0,
    "start_time": "2022-10-05T18:27:20.024Z"
   },
   {
    "duration": 0,
    "start_time": "2022-10-05T18:27:20.025Z"
   },
   {
    "duration": 0,
    "start_time": "2022-10-05T18:27:20.026Z"
   },
   {
    "duration": 0,
    "start_time": "2022-10-05T18:27:20.027Z"
   },
   {
    "duration": 0,
    "start_time": "2022-10-05T18:27:20.028Z"
   },
   {
    "duration": 0,
    "start_time": "2022-10-05T18:27:20.029Z"
   },
   {
    "duration": 0,
    "start_time": "2022-10-05T18:27:20.030Z"
   },
   {
    "duration": 0,
    "start_time": "2022-10-05T18:27:20.031Z"
   },
   {
    "duration": 0,
    "start_time": "2022-10-05T18:27:20.032Z"
   },
   {
    "duration": 0,
    "start_time": "2022-10-05T18:27:20.033Z"
   },
   {
    "duration": 0,
    "start_time": "2022-10-05T18:27:20.034Z"
   },
   {
    "duration": 0,
    "start_time": "2022-10-05T18:27:20.035Z"
   },
   {
    "duration": 0,
    "start_time": "2022-10-05T18:27:20.036Z"
   },
   {
    "duration": 0,
    "start_time": "2022-10-05T18:27:20.037Z"
   },
   {
    "duration": 0,
    "start_time": "2022-10-05T18:27:20.038Z"
   },
   {
    "duration": 0,
    "start_time": "2022-10-05T18:27:20.039Z"
   },
   {
    "duration": 0,
    "start_time": "2022-10-05T18:27:20.040Z"
   },
   {
    "duration": 0,
    "start_time": "2022-10-05T18:27:20.041Z"
   },
   {
    "duration": 0,
    "start_time": "2022-10-05T18:27:20.042Z"
   },
   {
    "duration": 0,
    "start_time": "2022-10-05T18:27:20.043Z"
   },
   {
    "duration": 0,
    "start_time": "2022-10-05T18:27:20.045Z"
   },
   {
    "duration": 0,
    "start_time": "2022-10-05T18:27:20.046Z"
   },
   {
    "duration": 13,
    "start_time": "2022-10-05T18:28:22.681Z"
   },
   {
    "duration": 116,
    "start_time": "2022-10-05T18:28:53.300Z"
   },
   {
    "duration": 146,
    "start_time": "2022-10-05T18:30:57.484Z"
   },
   {
    "duration": 77,
    "start_time": "2022-10-05T18:33:58.812Z"
   },
   {
    "duration": 106,
    "start_time": "2022-10-05T18:34:07.816Z"
   },
   {
    "duration": 31,
    "start_time": "2022-10-05T18:34:36.027Z"
   },
   {
    "duration": 19,
    "start_time": "2022-10-05T18:34:51.035Z"
   },
   {
    "duration": 8,
    "start_time": "2022-10-05T18:35:07.140Z"
   },
   {
    "duration": 10,
    "start_time": "2022-10-05T18:35:20.237Z"
   },
   {
    "duration": 8,
    "start_time": "2022-10-05T18:35:36.406Z"
   },
   {
    "duration": 8,
    "start_time": "2022-10-05T18:35:42.343Z"
   },
   {
    "duration": 16,
    "start_time": "2022-10-05T18:36:40.495Z"
   },
   {
    "duration": 45,
    "start_time": "2022-10-05T18:37:01.784Z"
   },
   {
    "duration": 60,
    "start_time": "2022-10-05T18:37:06.143Z"
   },
   {
    "duration": 27,
    "start_time": "2022-10-05T18:37:10.781Z"
   },
   {
    "duration": 40,
    "start_time": "2022-10-05T18:37:25.330Z"
   },
   {
    "duration": 31,
    "start_time": "2022-10-05T18:37:32.508Z"
   },
   {
    "duration": 8,
    "start_time": "2022-10-05T18:37:49.481Z"
   },
   {
    "duration": 10,
    "start_time": "2022-10-05T18:40:23.927Z"
   },
   {
    "duration": 221,
    "start_time": "2022-10-05T18:40:28.443Z"
   },
   {
    "duration": 52,
    "start_time": "2022-10-05T18:40:59.641Z"
   },
   {
    "duration": 1435,
    "start_time": "2022-10-05T18:43:49.084Z"
   },
   {
    "duration": 881,
    "start_time": "2022-10-05T18:43:50.521Z"
   },
   {
    "duration": 127,
    "start_time": "2022-10-05T18:43:51.404Z"
   },
   {
    "duration": 25,
    "start_time": "2022-10-05T18:43:51.533Z"
   },
   {
    "duration": 123,
    "start_time": "2022-10-05T18:43:51.560Z"
   },
   {
    "duration": 191,
    "start_time": "2022-10-05T18:43:51.685Z"
   },
   {
    "duration": 120,
    "start_time": "2022-10-05T18:43:51.878Z"
   },
   {
    "duration": 224,
    "start_time": "2022-10-05T18:43:51.999Z"
   },
   {
    "duration": 17,
    "start_time": "2022-10-05T18:43:52.224Z"
   },
   {
    "duration": 175,
    "start_time": "2022-10-05T18:43:52.242Z"
   },
   {
    "duration": 158,
    "start_time": "2022-10-05T18:43:52.420Z"
   },
   {
    "duration": 18,
    "start_time": "2022-10-05T18:43:52.580Z"
   },
   {
    "duration": 196,
    "start_time": "2022-10-05T18:43:52.600Z"
   },
   {
    "duration": 160,
    "start_time": "2022-10-05T18:43:52.800Z"
   },
   {
    "duration": 19,
    "start_time": "2022-10-05T18:43:52.962Z"
   },
   {
    "duration": 288,
    "start_time": "2022-10-05T18:43:52.982Z"
   },
   {
    "duration": 250,
    "start_time": "2022-10-05T18:43:53.272Z"
   },
   {
    "duration": 20,
    "start_time": "2022-10-05T18:43:53.524Z"
   },
   {
    "duration": 140,
    "start_time": "2022-10-05T18:43:53.546Z"
   },
   {
    "duration": 172,
    "start_time": "2022-10-05T18:43:53.688Z"
   },
   {
    "duration": 239,
    "start_time": "2022-10-05T18:43:53.862Z"
   },
   {
    "duration": 66,
    "start_time": "2022-10-05T18:43:54.103Z"
   },
   {
    "duration": 69,
    "start_time": "2022-10-05T18:43:54.171Z"
   },
   {
    "duration": 20,
    "start_time": "2022-10-05T18:43:54.242Z"
   },
   {
    "duration": 25,
    "start_time": "2022-10-05T18:43:54.263Z"
   },
   {
    "duration": 5,
    "start_time": "2022-10-05T18:43:54.290Z"
   },
   {
    "duration": 5,
    "start_time": "2022-10-05T18:43:54.321Z"
   },
   {
    "duration": 41,
    "start_time": "2022-10-05T18:43:54.327Z"
   },
   {
    "duration": 809,
    "start_time": "2022-10-05T18:43:54.370Z"
   },
   {
    "duration": 0,
    "start_time": "2022-10-05T18:43:55.182Z"
   },
   {
    "duration": 0,
    "start_time": "2022-10-05T18:43:55.183Z"
   },
   {
    "duration": 0,
    "start_time": "2022-10-05T18:43:55.184Z"
   },
   {
    "duration": 0,
    "start_time": "2022-10-05T18:43:55.185Z"
   },
   {
    "duration": 0,
    "start_time": "2022-10-05T18:43:55.186Z"
   },
   {
    "duration": 0,
    "start_time": "2022-10-05T18:43:55.187Z"
   },
   {
    "duration": 0,
    "start_time": "2022-10-05T18:43:55.189Z"
   },
   {
    "duration": 0,
    "start_time": "2022-10-05T18:43:55.190Z"
   },
   {
    "duration": 0,
    "start_time": "2022-10-05T18:43:55.191Z"
   },
   {
    "duration": 0,
    "start_time": "2022-10-05T18:43:55.192Z"
   },
   {
    "duration": 0,
    "start_time": "2022-10-05T18:43:55.193Z"
   },
   {
    "duration": 0,
    "start_time": "2022-10-05T18:43:55.194Z"
   },
   {
    "duration": 0,
    "start_time": "2022-10-05T18:43:55.195Z"
   },
   {
    "duration": 0,
    "start_time": "2022-10-05T18:43:55.196Z"
   },
   {
    "duration": 0,
    "start_time": "2022-10-05T18:43:55.197Z"
   },
   {
    "duration": 0,
    "start_time": "2022-10-05T18:43:55.198Z"
   },
   {
    "duration": 0,
    "start_time": "2022-10-05T18:43:55.199Z"
   },
   {
    "duration": 0,
    "start_time": "2022-10-05T18:43:55.200Z"
   },
   {
    "duration": 0,
    "start_time": "2022-10-05T18:43:55.202Z"
   },
   {
    "duration": 0,
    "start_time": "2022-10-05T18:43:55.203Z"
   },
   {
    "duration": 0,
    "start_time": "2022-10-05T18:43:55.205Z"
   },
   {
    "duration": 0,
    "start_time": "2022-10-05T18:43:55.206Z"
   },
   {
    "duration": 0,
    "start_time": "2022-10-05T18:43:55.207Z"
   },
   {
    "duration": 0,
    "start_time": "2022-10-05T18:43:55.208Z"
   },
   {
    "duration": 0,
    "start_time": "2022-10-05T18:43:55.210Z"
   },
   {
    "duration": 0,
    "start_time": "2022-10-05T18:43:55.211Z"
   },
   {
    "duration": 0,
    "start_time": "2022-10-05T18:43:55.212Z"
   },
   {
    "duration": 0,
    "start_time": "2022-10-05T18:43:55.213Z"
   },
   {
    "duration": 0,
    "start_time": "2022-10-05T18:43:55.214Z"
   },
   {
    "duration": 0,
    "start_time": "2022-10-05T18:43:55.215Z"
   },
   {
    "duration": 0,
    "start_time": "2022-10-05T18:43:55.216Z"
   },
   {
    "duration": 0,
    "start_time": "2022-10-05T18:43:55.217Z"
   },
   {
    "duration": 35,
    "start_time": "2022-10-05T18:44:19.111Z"
   },
   {
    "duration": 9,
    "start_time": "2022-10-05T18:45:30.974Z"
   },
   {
    "duration": 13,
    "start_time": "2022-10-05T18:45:45.687Z"
   },
   {
    "duration": 10,
    "start_time": "2022-10-05T18:45:55.316Z"
   },
   {
    "duration": 9,
    "start_time": "2022-10-05T18:46:01.009Z"
   },
   {
    "duration": 112,
    "start_time": "2022-10-05T18:47:04.134Z"
   },
   {
    "duration": 16,
    "start_time": "2022-10-05T18:48:18.773Z"
   },
   {
    "duration": 9,
    "start_time": "2022-10-05T18:48:45.274Z"
   },
   {
    "duration": 954,
    "start_time": "2022-10-05T18:49:28.519Z"
   },
   {
    "duration": 1507,
    "start_time": "2022-10-05T18:50:09.506Z"
   },
   {
    "duration": 879,
    "start_time": "2022-10-05T18:50:11.015Z"
   },
   {
    "duration": 126,
    "start_time": "2022-10-05T18:50:11.896Z"
   },
   {
    "duration": 27,
    "start_time": "2022-10-05T18:50:12.025Z"
   },
   {
    "duration": 131,
    "start_time": "2022-10-05T18:50:12.054Z"
   },
   {
    "duration": 192,
    "start_time": "2022-10-05T18:50:12.187Z"
   },
   {
    "duration": 118,
    "start_time": "2022-10-05T18:50:12.381Z"
   },
   {
    "duration": 242,
    "start_time": "2022-10-05T18:50:12.501Z"
   },
   {
    "duration": 15,
    "start_time": "2022-10-05T18:50:12.746Z"
   },
   {
    "duration": 170,
    "start_time": "2022-10-05T18:50:12.764Z"
   },
   {
    "duration": 161,
    "start_time": "2022-10-05T18:50:12.935Z"
   },
   {
    "duration": 23,
    "start_time": "2022-10-05T18:50:13.098Z"
   },
   {
    "duration": 181,
    "start_time": "2022-10-05T18:50:13.123Z"
   },
   {
    "duration": 154,
    "start_time": "2022-10-05T18:50:13.306Z"
   },
   {
    "duration": 18,
    "start_time": "2022-10-05T18:50:13.462Z"
   },
   {
    "duration": 297,
    "start_time": "2022-10-05T18:50:13.482Z"
   },
   {
    "duration": 257,
    "start_time": "2022-10-05T18:50:13.780Z"
   },
   {
    "duration": 19,
    "start_time": "2022-10-05T18:50:14.038Z"
   },
   {
    "duration": 141,
    "start_time": "2022-10-05T18:50:14.058Z"
   },
   {
    "duration": 156,
    "start_time": "2022-10-05T18:50:14.201Z"
   },
   {
    "duration": 232,
    "start_time": "2022-10-05T18:50:14.359Z"
   },
   {
    "duration": 62,
    "start_time": "2022-10-05T18:50:14.592Z"
   },
   {
    "duration": 168,
    "start_time": "2022-10-05T18:50:14.656Z"
   },
   {
    "duration": 114,
    "start_time": "2022-10-05T18:50:14.826Z"
   },
   {
    "duration": 0,
    "start_time": "2022-10-05T18:50:14.942Z"
   },
   {
    "duration": 0,
    "start_time": "2022-10-05T18:50:14.943Z"
   },
   {
    "duration": 0,
    "start_time": "2022-10-05T18:50:14.945Z"
   },
   {
    "duration": 0,
    "start_time": "2022-10-05T18:50:14.945Z"
   },
   {
    "duration": 0,
    "start_time": "2022-10-05T18:50:14.946Z"
   },
   {
    "duration": 0,
    "start_time": "2022-10-05T18:50:14.947Z"
   },
   {
    "duration": 0,
    "start_time": "2022-10-05T18:50:14.948Z"
   },
   {
    "duration": 0,
    "start_time": "2022-10-05T18:50:14.950Z"
   },
   {
    "duration": 0,
    "start_time": "2022-10-05T18:50:14.950Z"
   },
   {
    "duration": 0,
    "start_time": "2022-10-05T18:50:14.951Z"
   },
   {
    "duration": 0,
    "start_time": "2022-10-05T18:50:14.952Z"
   },
   {
    "duration": 0,
    "start_time": "2022-10-05T18:50:14.953Z"
   },
   {
    "duration": 0,
    "start_time": "2022-10-05T18:50:14.954Z"
   },
   {
    "duration": 0,
    "start_time": "2022-10-05T18:50:14.955Z"
   },
   {
    "duration": 0,
    "start_time": "2022-10-05T18:50:14.956Z"
   },
   {
    "duration": 0,
    "start_time": "2022-10-05T18:50:14.957Z"
   },
   {
    "duration": 0,
    "start_time": "2022-10-05T18:50:14.958Z"
   },
   {
    "duration": 0,
    "start_time": "2022-10-05T18:50:14.959Z"
   },
   {
    "duration": 0,
    "start_time": "2022-10-05T18:50:14.960Z"
   },
   {
    "duration": 0,
    "start_time": "2022-10-05T18:50:14.960Z"
   },
   {
    "duration": 0,
    "start_time": "2022-10-05T18:50:14.962Z"
   },
   {
    "duration": 1,
    "start_time": "2022-10-05T18:50:14.962Z"
   },
   {
    "duration": 0,
    "start_time": "2022-10-05T18:50:14.964Z"
   },
   {
    "duration": 0,
    "start_time": "2022-10-05T18:50:14.965Z"
   },
   {
    "duration": 0,
    "start_time": "2022-10-05T18:50:14.966Z"
   },
   {
    "duration": 0,
    "start_time": "2022-10-05T18:50:14.967Z"
   },
   {
    "duration": 0,
    "start_time": "2022-10-05T18:50:14.968Z"
   },
   {
    "duration": 0,
    "start_time": "2022-10-05T18:50:14.969Z"
   },
   {
    "duration": 0,
    "start_time": "2022-10-05T18:50:14.970Z"
   },
   {
    "duration": 0,
    "start_time": "2022-10-05T18:50:15.020Z"
   },
   {
    "duration": 0,
    "start_time": "2022-10-05T18:50:15.021Z"
   },
   {
    "duration": 0,
    "start_time": "2022-10-05T18:50:15.022Z"
   },
   {
    "duration": 0,
    "start_time": "2022-10-05T18:50:15.024Z"
   },
   {
    "duration": 0,
    "start_time": "2022-10-05T18:50:15.025Z"
   },
   {
    "duration": 0,
    "start_time": "2022-10-05T18:50:15.025Z"
   },
   {
    "duration": 0,
    "start_time": "2022-10-05T18:50:15.027Z"
   },
   {
    "duration": 0,
    "start_time": "2022-10-05T18:50:15.028Z"
   },
   {
    "duration": 0,
    "start_time": "2022-10-05T18:50:15.029Z"
   },
   {
    "duration": 1052,
    "start_time": "2022-10-05T18:50:54.050Z"
   },
   {
    "duration": 1067,
    "start_time": "2022-10-05T18:51:06.184Z"
   },
   {
    "duration": 1441,
    "start_time": "2022-10-05T18:51:15.986Z"
   },
   {
    "duration": 843,
    "start_time": "2022-10-05T18:51:17.430Z"
   },
   {
    "duration": 132,
    "start_time": "2022-10-05T18:51:18.274Z"
   },
   {
    "duration": 38,
    "start_time": "2022-10-05T18:51:18.407Z"
   },
   {
    "duration": 130,
    "start_time": "2022-10-05T18:51:18.449Z"
   },
   {
    "duration": 179,
    "start_time": "2022-10-05T18:51:18.581Z"
   },
   {
    "duration": 134,
    "start_time": "2022-10-05T18:51:18.761Z"
   },
   {
    "duration": 272,
    "start_time": "2022-10-05T18:51:18.897Z"
   },
   {
    "duration": 20,
    "start_time": "2022-10-05T18:51:19.171Z"
   },
   {
    "duration": 174,
    "start_time": "2022-10-05T18:51:19.193Z"
   },
   {
    "duration": 167,
    "start_time": "2022-10-05T18:51:19.369Z"
   },
   {
    "duration": 16,
    "start_time": "2022-10-05T18:51:19.538Z"
   },
   {
    "duration": 176,
    "start_time": "2022-10-05T18:51:19.556Z"
   },
   {
    "duration": 155,
    "start_time": "2022-10-05T18:51:19.735Z"
   },
   {
    "duration": 30,
    "start_time": "2022-10-05T18:51:19.891Z"
   },
   {
    "duration": 277,
    "start_time": "2022-10-05T18:51:19.924Z"
   },
   {
    "duration": 243,
    "start_time": "2022-10-05T18:51:20.203Z"
   },
   {
    "duration": 18,
    "start_time": "2022-10-05T18:51:20.447Z"
   },
   {
    "duration": 139,
    "start_time": "2022-10-05T18:51:20.467Z"
   },
   {
    "duration": 161,
    "start_time": "2022-10-05T18:51:20.607Z"
   },
   {
    "duration": 225,
    "start_time": "2022-10-05T18:51:20.770Z"
   },
   {
    "duration": 54,
    "start_time": "2022-10-05T18:51:20.997Z"
   },
   {
    "duration": 41,
    "start_time": "2022-10-05T18:51:21.053Z"
   },
   {
    "duration": 28,
    "start_time": "2022-10-05T18:51:21.096Z"
   },
   {
    "duration": 24,
    "start_time": "2022-10-05T18:51:21.126Z"
   },
   {
    "duration": 22,
    "start_time": "2022-10-05T18:51:21.152Z"
   },
   {
    "duration": 7,
    "start_time": "2022-10-05T18:51:21.176Z"
   },
   {
    "duration": 41,
    "start_time": "2022-10-05T18:51:21.184Z"
   },
   {
    "duration": 54,
    "start_time": "2022-10-05T18:51:21.226Z"
   },
   {
    "duration": 948,
    "start_time": "2022-10-05T18:51:21.282Z"
   },
   {
    "duration": 0,
    "start_time": "2022-10-05T18:51:22.233Z"
   },
   {
    "duration": 0,
    "start_time": "2022-10-05T18:51:22.234Z"
   },
   {
    "duration": 0,
    "start_time": "2022-10-05T18:51:22.235Z"
   },
   {
    "duration": 0,
    "start_time": "2022-10-05T18:51:22.236Z"
   },
   {
    "duration": 0,
    "start_time": "2022-10-05T18:51:22.237Z"
   },
   {
    "duration": 0,
    "start_time": "2022-10-05T18:51:22.238Z"
   },
   {
    "duration": 0,
    "start_time": "2022-10-05T18:51:22.239Z"
   },
   {
    "duration": 0,
    "start_time": "2022-10-05T18:51:22.241Z"
   },
   {
    "duration": 0,
    "start_time": "2022-10-05T18:51:22.242Z"
   },
   {
    "duration": 0,
    "start_time": "2022-10-05T18:51:22.243Z"
   },
   {
    "duration": 0,
    "start_time": "2022-10-05T18:51:22.244Z"
   },
   {
    "duration": 0,
    "start_time": "2022-10-05T18:51:22.245Z"
   },
   {
    "duration": 0,
    "start_time": "2022-10-05T18:51:22.246Z"
   },
   {
    "duration": 1,
    "start_time": "2022-10-05T18:51:22.247Z"
   },
   {
    "duration": 0,
    "start_time": "2022-10-05T18:51:22.249Z"
   },
   {
    "duration": 0,
    "start_time": "2022-10-05T18:51:22.250Z"
   },
   {
    "duration": 0,
    "start_time": "2022-10-05T18:51:22.251Z"
   },
   {
    "duration": 0,
    "start_time": "2022-10-05T18:51:22.252Z"
   },
   {
    "duration": 0,
    "start_time": "2022-10-05T18:51:22.253Z"
   },
   {
    "duration": 0,
    "start_time": "2022-10-05T18:51:22.254Z"
   },
   {
    "duration": 0,
    "start_time": "2022-10-05T18:51:22.256Z"
   },
   {
    "duration": 0,
    "start_time": "2022-10-05T18:51:22.256Z"
   },
   {
    "duration": 0,
    "start_time": "2022-10-05T18:51:22.257Z"
   },
   {
    "duration": 0,
    "start_time": "2022-10-05T18:51:22.258Z"
   },
   {
    "duration": 0,
    "start_time": "2022-10-05T18:51:22.259Z"
   },
   {
    "duration": 0,
    "start_time": "2022-10-05T18:51:22.261Z"
   },
   {
    "duration": 0,
    "start_time": "2022-10-05T18:51:22.261Z"
   },
   {
    "duration": 0,
    "start_time": "2022-10-05T18:51:22.262Z"
   },
   {
    "duration": 0,
    "start_time": "2022-10-05T18:51:22.263Z"
   },
   {
    "duration": 0,
    "start_time": "2022-10-05T18:51:22.264Z"
   },
   {
    "duration": 1,
    "start_time": "2022-10-05T18:51:22.265Z"
   },
   {
    "duration": 0,
    "start_time": "2022-10-05T18:51:22.267Z"
   },
   {
    "duration": 11,
    "start_time": "2022-10-05T18:51:39.936Z"
   },
   {
    "duration": 12,
    "start_time": "2022-10-05T18:51:49.041Z"
   },
   {
    "duration": 29,
    "start_time": "2022-10-05T18:51:59.087Z"
   },
   {
    "duration": 14,
    "start_time": "2022-10-05T18:52:08.761Z"
   },
   {
    "duration": 11,
    "start_time": "2022-10-05T18:52:13.695Z"
   },
   {
    "duration": 9,
    "start_time": "2022-10-05T18:52:18.459Z"
   },
   {
    "duration": 9,
    "start_time": "2022-10-05T18:52:24.466Z"
   },
   {
    "duration": 29,
    "start_time": "2022-10-05T18:53:23.122Z"
   },
   {
    "duration": 20,
    "start_time": "2022-10-05T18:55:24.925Z"
   },
   {
    "duration": 248,
    "start_time": "2022-10-05T18:55:42.001Z"
   },
   {
    "duration": 19,
    "start_time": "2022-10-05T18:56:45.974Z"
   },
   {
    "duration": 193,
    "start_time": "2022-10-05T18:57:16.452Z"
   },
   {
    "duration": 1463,
    "start_time": "2022-10-05T18:57:29.143Z"
   },
   {
    "duration": 881,
    "start_time": "2022-10-05T18:57:30.609Z"
   },
   {
    "duration": 165,
    "start_time": "2022-10-05T18:57:31.491Z"
   },
   {
    "duration": 26,
    "start_time": "2022-10-05T18:57:31.658Z"
   },
   {
    "duration": 136,
    "start_time": "2022-10-05T18:57:31.686Z"
   },
   {
    "duration": 199,
    "start_time": "2022-10-05T18:57:31.824Z"
   },
   {
    "duration": 125,
    "start_time": "2022-10-05T18:57:32.026Z"
   },
   {
    "duration": 229,
    "start_time": "2022-10-05T18:57:32.153Z"
   },
   {
    "duration": 18,
    "start_time": "2022-10-05T18:57:32.384Z"
   },
   {
    "duration": 194,
    "start_time": "2022-10-05T18:57:32.405Z"
   },
   {
    "duration": 184,
    "start_time": "2022-10-05T18:57:32.601Z"
   },
   {
    "duration": 19,
    "start_time": "2022-10-05T18:57:32.787Z"
   },
   {
    "duration": 186,
    "start_time": "2022-10-05T18:57:32.808Z"
   },
   {
    "duration": 152,
    "start_time": "2022-10-05T18:57:32.996Z"
   },
   {
    "duration": 19,
    "start_time": "2022-10-05T18:57:33.151Z"
   },
   {
    "duration": 313,
    "start_time": "2022-10-05T18:57:33.172Z"
   },
   {
    "duration": 262,
    "start_time": "2022-10-05T18:57:33.488Z"
   },
   {
    "duration": 19,
    "start_time": "2022-10-05T18:57:33.752Z"
   },
   {
    "duration": 149,
    "start_time": "2022-10-05T18:57:33.773Z"
   },
   {
    "duration": 181,
    "start_time": "2022-10-05T18:57:33.926Z"
   },
   {
    "duration": 252,
    "start_time": "2022-10-05T18:57:34.109Z"
   },
   {
    "duration": 59,
    "start_time": "2022-10-05T18:57:34.362Z"
   },
   {
    "duration": 41,
    "start_time": "2022-10-05T18:57:34.423Z"
   },
   {
    "duration": 19,
    "start_time": "2022-10-05T18:57:34.466Z"
   },
   {
    "duration": 64,
    "start_time": "2022-10-05T18:57:34.487Z"
   },
   {
    "duration": 39,
    "start_time": "2022-10-05T18:57:34.553Z"
   },
   {
    "duration": 36,
    "start_time": "2022-10-05T18:57:34.594Z"
   },
   {
    "duration": 26,
    "start_time": "2022-10-05T18:57:34.638Z"
   },
   {
    "duration": 53,
    "start_time": "2022-10-05T18:57:34.667Z"
   },
   {
    "duration": 270,
    "start_time": "2022-10-05T18:57:34.722Z"
   },
   {
    "duration": 229,
    "start_time": "2022-10-05T18:57:34.994Z"
   },
   {
    "duration": 32,
    "start_time": "2022-10-05T18:57:35.225Z"
   },
   {
    "duration": 967,
    "start_time": "2022-10-05T18:57:35.259Z"
   },
   {
    "duration": 0,
    "start_time": "2022-10-05T18:57:36.228Z"
   },
   {
    "duration": 0,
    "start_time": "2022-10-05T18:57:36.229Z"
   },
   {
    "duration": 0,
    "start_time": "2022-10-05T18:57:36.230Z"
   },
   {
    "duration": 0,
    "start_time": "2022-10-05T18:57:36.232Z"
   },
   {
    "duration": 0,
    "start_time": "2022-10-05T18:57:36.233Z"
   },
   {
    "duration": 0,
    "start_time": "2022-10-05T18:57:36.234Z"
   },
   {
    "duration": 0,
    "start_time": "2022-10-05T18:57:36.235Z"
   },
   {
    "duration": 0,
    "start_time": "2022-10-05T18:57:36.236Z"
   },
   {
    "duration": 0,
    "start_time": "2022-10-05T18:57:36.237Z"
   },
   {
    "duration": 0,
    "start_time": "2022-10-05T18:57:36.238Z"
   },
   {
    "duration": 0,
    "start_time": "2022-10-05T18:57:36.239Z"
   },
   {
    "duration": 0,
    "start_time": "2022-10-05T18:57:36.240Z"
   },
   {
    "duration": 0,
    "start_time": "2022-10-05T18:57:36.242Z"
   },
   {
    "duration": 0,
    "start_time": "2022-10-05T18:57:36.243Z"
   },
   {
    "duration": 0,
    "start_time": "2022-10-05T18:57:36.244Z"
   },
   {
    "duration": 0,
    "start_time": "2022-10-05T18:57:36.245Z"
   },
   {
    "duration": 0,
    "start_time": "2022-10-05T18:57:36.246Z"
   },
   {
    "duration": 0,
    "start_time": "2022-10-05T18:57:36.247Z"
   },
   {
    "duration": 0,
    "start_time": "2022-10-05T18:57:36.248Z"
   },
   {
    "duration": 0,
    "start_time": "2022-10-05T18:57:36.251Z"
   },
   {
    "duration": 0,
    "start_time": "2022-10-05T18:57:36.252Z"
   },
   {
    "duration": 0,
    "start_time": "2022-10-05T18:57:36.253Z"
   },
   {
    "duration": 0,
    "start_time": "2022-10-05T18:57:36.255Z"
   },
   {
    "duration": 0,
    "start_time": "2022-10-05T18:57:36.256Z"
   },
   {
    "duration": 0,
    "start_time": "2022-10-05T18:57:36.258Z"
   },
   {
    "duration": 0,
    "start_time": "2022-10-05T18:57:36.259Z"
   },
   {
    "duration": 0,
    "start_time": "2022-10-05T18:57:36.261Z"
   },
   {
    "duration": 0,
    "start_time": "2022-10-05T18:57:36.262Z"
   },
   {
    "duration": 0,
    "start_time": "2022-10-05T18:57:36.264Z"
   },
   {
    "duration": 0,
    "start_time": "2022-10-05T18:57:36.265Z"
   },
   {
    "duration": 0,
    "start_time": "2022-10-05T18:57:36.321Z"
   },
   {
    "duration": 0,
    "start_time": "2022-10-05T18:57:36.322Z"
   },
   {
    "duration": 72,
    "start_time": "2022-10-05T18:59:11.651Z"
   },
   {
    "duration": 13,
    "start_time": "2022-10-05T19:37:38.881Z"
   },
   {
    "duration": 17,
    "start_time": "2022-10-05T19:38:07.883Z"
   },
   {
    "duration": 222,
    "start_time": "2022-10-05T19:39:18.994Z"
   },
   {
    "duration": 64,
    "start_time": "2022-10-05T19:39:22.903Z"
   },
   {
    "duration": 101,
    "start_time": "2022-10-05T19:39:32.652Z"
   },
   {
    "duration": 46,
    "start_time": "2022-10-05T19:39:33.606Z"
   },
   {
    "duration": 54,
    "start_time": "2022-10-05T19:39:35.596Z"
   },
   {
    "duration": 51,
    "start_time": "2022-10-05T19:39:42.041Z"
   },
   {
    "duration": 4,
    "start_time": "2022-10-05T19:39:43.562Z"
   },
   {
    "duration": 9,
    "start_time": "2022-10-05T19:39:46.867Z"
   },
   {
    "duration": 10,
    "start_time": "2022-10-05T19:44:55.190Z"
   },
   {
    "duration": 1457,
    "start_time": "2022-10-05T19:45:12.447Z"
   },
   {
    "duration": 845,
    "start_time": "2022-10-05T19:45:13.906Z"
   },
   {
    "duration": 114,
    "start_time": "2022-10-05T19:45:14.753Z"
   },
   {
    "duration": 24,
    "start_time": "2022-10-05T19:45:14.869Z"
   },
   {
    "duration": 128,
    "start_time": "2022-10-05T19:45:14.894Z"
   },
   {
    "duration": 175,
    "start_time": "2022-10-05T19:45:15.024Z"
   },
   {
    "duration": 113,
    "start_time": "2022-10-05T19:45:15.201Z"
   },
   {
    "duration": 220,
    "start_time": "2022-10-05T19:45:15.321Z"
   },
   {
    "duration": 15,
    "start_time": "2022-10-05T19:45:15.543Z"
   },
   {
    "duration": 176,
    "start_time": "2022-10-05T19:45:15.561Z"
   },
   {
    "duration": 164,
    "start_time": "2022-10-05T19:45:15.739Z"
   },
   {
    "duration": 29,
    "start_time": "2022-10-05T19:45:15.905Z"
   },
   {
    "duration": 176,
    "start_time": "2022-10-05T19:45:15.935Z"
   },
   {
    "duration": 170,
    "start_time": "2022-10-05T19:45:16.113Z"
   },
   {
    "duration": 18,
    "start_time": "2022-10-05T19:45:16.284Z"
   },
   {
    "duration": 290,
    "start_time": "2022-10-05T19:45:16.304Z"
   },
   {
    "duration": 262,
    "start_time": "2022-10-05T19:45:16.596Z"
   },
   {
    "duration": 18,
    "start_time": "2022-10-05T19:45:16.860Z"
   },
   {
    "duration": 124,
    "start_time": "2022-10-05T19:45:16.880Z"
   },
   {
    "duration": 161,
    "start_time": "2022-10-05T19:45:17.005Z"
   },
   {
    "duration": 243,
    "start_time": "2022-10-05T19:45:17.167Z"
   },
   {
    "duration": 59,
    "start_time": "2022-10-05T19:45:17.412Z"
   },
   {
    "duration": 58,
    "start_time": "2022-10-05T19:45:17.472Z"
   },
   {
    "duration": 18,
    "start_time": "2022-10-05T19:45:17.532Z"
   },
   {
    "duration": 43,
    "start_time": "2022-10-05T19:45:17.552Z"
   },
   {
    "duration": 40,
    "start_time": "2022-10-05T19:45:17.597Z"
   },
   {
    "duration": 6,
    "start_time": "2022-10-05T19:45:17.638Z"
   },
   {
    "duration": 14,
    "start_time": "2022-10-05T19:45:17.648Z"
   },
   {
    "duration": 25,
    "start_time": "2022-10-05T19:45:17.663Z"
   },
   {
    "duration": 264,
    "start_time": "2022-10-05T19:45:17.690Z"
   },
   {
    "duration": 211,
    "start_time": "2022-10-05T19:45:17.956Z"
   },
   {
    "duration": 106,
    "start_time": "2022-10-05T19:45:18.169Z"
   },
   {
    "duration": 50,
    "start_time": "2022-10-05T19:45:18.276Z"
   },
   {
    "duration": 17,
    "start_time": "2022-10-05T19:45:18.327Z"
   },
   {
    "duration": 83,
    "start_time": "2022-10-05T19:45:18.346Z"
   },
   {
    "duration": 204,
    "start_time": "2022-10-05T19:45:18.431Z"
   },
   {
    "duration": 96,
    "start_time": "2022-10-05T19:45:18.637Z"
   },
   {
    "duration": 47,
    "start_time": "2022-10-05T19:45:18.735Z"
   },
   {
    "duration": 70,
    "start_time": "2022-10-05T19:45:18.784Z"
   },
   {
    "duration": 71,
    "start_time": "2022-10-05T19:45:18.856Z"
   },
   {
    "duration": 4,
    "start_time": "2022-10-05T19:45:18.929Z"
   },
   {
    "duration": 13,
    "start_time": "2022-10-05T19:45:18.935Z"
   },
   {
    "duration": 157,
    "start_time": "2022-10-05T19:45:18.950Z"
   },
   {
    "duration": 0,
    "start_time": "2022-10-05T19:45:19.109Z"
   },
   {
    "duration": 0,
    "start_time": "2022-10-05T19:45:19.111Z"
   },
   {
    "duration": 0,
    "start_time": "2022-10-05T19:45:19.120Z"
   },
   {
    "duration": 0,
    "start_time": "2022-10-05T19:45:19.122Z"
   },
   {
    "duration": 0,
    "start_time": "2022-10-05T19:45:19.124Z"
   },
   {
    "duration": 1,
    "start_time": "2022-10-05T19:45:19.126Z"
   },
   {
    "duration": 0,
    "start_time": "2022-10-05T19:45:19.128Z"
   },
   {
    "duration": 0,
    "start_time": "2022-10-05T19:45:19.129Z"
   },
   {
    "duration": 0,
    "start_time": "2022-10-05T19:45:19.131Z"
   },
   {
    "duration": 0,
    "start_time": "2022-10-05T19:45:19.132Z"
   },
   {
    "duration": 0,
    "start_time": "2022-10-05T19:45:19.134Z"
   },
   {
    "duration": 0,
    "start_time": "2022-10-05T19:45:19.135Z"
   },
   {
    "duration": 1,
    "start_time": "2022-10-05T19:45:19.136Z"
   },
   {
    "duration": 0,
    "start_time": "2022-10-05T19:45:19.138Z"
   },
   {
    "duration": 1557,
    "start_time": "2022-10-05T19:51:01.087Z"
   },
   {
    "duration": 911,
    "start_time": "2022-10-05T19:51:02.646Z"
   },
   {
    "duration": 136,
    "start_time": "2022-10-05T19:51:03.559Z"
   },
   {
    "duration": 40,
    "start_time": "2022-10-05T19:51:03.698Z"
   },
   {
    "duration": 133,
    "start_time": "2022-10-05T19:51:03.740Z"
   },
   {
    "duration": 216,
    "start_time": "2022-10-05T19:51:03.876Z"
   },
   {
    "duration": 127,
    "start_time": "2022-10-05T19:51:04.094Z"
   },
   {
    "duration": 236,
    "start_time": "2022-10-05T19:51:04.223Z"
   },
   {
    "duration": 20,
    "start_time": "2022-10-05T19:51:04.461Z"
   },
   {
    "duration": 207,
    "start_time": "2022-10-05T19:51:04.484Z"
   },
   {
    "duration": 180,
    "start_time": "2022-10-05T19:51:04.692Z"
   },
   {
    "duration": 21,
    "start_time": "2022-10-05T19:51:04.874Z"
   },
   {
    "duration": 197,
    "start_time": "2022-10-05T19:51:04.896Z"
   },
   {
    "duration": 158,
    "start_time": "2022-10-05T19:51:05.095Z"
   },
   {
    "duration": 19,
    "start_time": "2022-10-05T19:51:05.255Z"
   },
   {
    "duration": 316,
    "start_time": "2022-10-05T19:51:05.277Z"
   },
   {
    "duration": 258,
    "start_time": "2022-10-05T19:51:05.595Z"
   },
   {
    "duration": 18,
    "start_time": "2022-10-05T19:51:05.855Z"
   },
   {
    "duration": 140,
    "start_time": "2022-10-05T19:51:05.875Z"
   },
   {
    "duration": 172,
    "start_time": "2022-10-05T19:51:06.021Z"
   },
   {
    "duration": 263,
    "start_time": "2022-10-05T19:51:06.195Z"
   },
   {
    "duration": 50,
    "start_time": "2022-10-05T19:51:06.459Z"
   },
   {
    "duration": 42,
    "start_time": "2022-10-05T19:51:06.521Z"
   },
   {
    "duration": 19,
    "start_time": "2022-10-05T19:51:06.565Z"
   },
   {
    "duration": 63,
    "start_time": "2022-10-05T19:51:06.586Z"
   },
   {
    "duration": 25,
    "start_time": "2022-10-05T19:51:06.651Z"
   },
   {
    "duration": 10,
    "start_time": "2022-10-05T19:51:06.677Z"
   },
   {
    "duration": 14,
    "start_time": "2022-10-05T19:51:06.692Z"
   },
   {
    "duration": 39,
    "start_time": "2022-10-05T19:51:06.708Z"
   },
   {
    "duration": 291,
    "start_time": "2022-10-05T19:51:06.749Z"
   },
   {
    "duration": 217,
    "start_time": "2022-10-05T19:51:07.042Z"
   },
   {
    "duration": 111,
    "start_time": "2022-10-05T19:51:07.261Z"
   },
   {
    "duration": 49,
    "start_time": "2022-10-05T19:51:07.373Z"
   },
   {
    "duration": 18,
    "start_time": "2022-10-05T19:51:07.424Z"
   },
   {
    "duration": 88,
    "start_time": "2022-10-05T19:51:07.444Z"
   },
   {
    "duration": 213,
    "start_time": "2022-10-05T19:51:07.534Z"
   },
   {
    "duration": 102,
    "start_time": "2022-10-05T19:51:07.749Z"
   },
   {
    "duration": 49,
    "start_time": "2022-10-05T19:51:07.854Z"
   },
   {
    "duration": 78,
    "start_time": "2022-10-05T19:51:07.905Z"
   },
   {
    "duration": 49,
    "start_time": "2022-10-05T19:51:07.985Z"
   },
   {
    "duration": 5,
    "start_time": "2022-10-05T19:51:08.036Z"
   },
   {
    "duration": 14,
    "start_time": "2022-10-05T19:51:08.043Z"
   },
   {
    "duration": 137,
    "start_time": "2022-10-05T19:51:08.059Z"
   },
   {
    "duration": 0,
    "start_time": "2022-10-05T19:51:08.198Z"
   },
   {
    "duration": 0,
    "start_time": "2022-10-05T19:51:08.200Z"
   },
   {
    "duration": 0,
    "start_time": "2022-10-05T19:51:08.201Z"
   },
   {
    "duration": 0,
    "start_time": "2022-10-05T19:51:08.202Z"
   },
   {
    "duration": 0,
    "start_time": "2022-10-05T19:51:08.203Z"
   },
   {
    "duration": 0,
    "start_time": "2022-10-05T19:51:08.204Z"
   },
   {
    "duration": 0,
    "start_time": "2022-10-05T19:51:08.205Z"
   },
   {
    "duration": 0,
    "start_time": "2022-10-05T19:51:08.221Z"
   },
   {
    "duration": 0,
    "start_time": "2022-10-05T19:51:08.222Z"
   },
   {
    "duration": 0,
    "start_time": "2022-10-05T19:51:08.224Z"
   },
   {
    "duration": 0,
    "start_time": "2022-10-05T19:51:08.225Z"
   },
   {
    "duration": 0,
    "start_time": "2022-10-05T19:51:08.226Z"
   },
   {
    "duration": 0,
    "start_time": "2022-10-05T19:51:08.227Z"
   },
   {
    "duration": 10,
    "start_time": "2022-10-05T19:53:32.385Z"
   },
   {
    "duration": 11,
    "start_time": "2022-10-05T19:53:56.399Z"
   },
   {
    "duration": 10,
    "start_time": "2022-10-05T19:54:02.542Z"
   },
   {
    "duration": 10,
    "start_time": "2022-10-05T19:54:21.405Z"
   },
   {
    "duration": 1456,
    "start_time": "2022-10-05T19:54:38.362Z"
   },
   {
    "duration": 842,
    "start_time": "2022-10-05T19:54:39.820Z"
   },
   {
    "duration": 129,
    "start_time": "2022-10-05T19:54:40.664Z"
   },
   {
    "duration": 33,
    "start_time": "2022-10-05T19:54:40.795Z"
   },
   {
    "duration": 123,
    "start_time": "2022-10-05T19:54:40.830Z"
   },
   {
    "duration": 193,
    "start_time": "2022-10-05T19:54:40.956Z"
   },
   {
    "duration": 125,
    "start_time": "2022-10-05T19:54:41.151Z"
   },
   {
    "duration": 234,
    "start_time": "2022-10-05T19:54:41.278Z"
   },
   {
    "duration": 25,
    "start_time": "2022-10-05T19:54:41.514Z"
   },
   {
    "duration": 193,
    "start_time": "2022-10-05T19:54:41.542Z"
   },
   {
    "duration": 168,
    "start_time": "2022-10-05T19:54:41.737Z"
   },
   {
    "duration": 25,
    "start_time": "2022-10-05T19:54:41.907Z"
   },
   {
    "duration": 180,
    "start_time": "2022-10-05T19:54:41.934Z"
   },
   {
    "duration": 167,
    "start_time": "2022-10-05T19:54:42.116Z"
   },
   {
    "duration": 18,
    "start_time": "2022-10-05T19:54:42.285Z"
   },
   {
    "duration": 298,
    "start_time": "2022-10-05T19:54:42.305Z"
   },
   {
    "duration": 275,
    "start_time": "2022-10-05T19:54:42.604Z"
   },
   {
    "duration": 19,
    "start_time": "2022-10-05T19:54:42.881Z"
   },
   {
    "duration": 130,
    "start_time": "2022-10-05T19:54:42.902Z"
   },
   {
    "duration": 169,
    "start_time": "2022-10-05T19:54:43.035Z"
   },
   {
    "duration": 246,
    "start_time": "2022-10-05T19:54:43.205Z"
   },
   {
    "duration": 51,
    "start_time": "2022-10-05T19:54:43.452Z"
   },
   {
    "duration": 53,
    "start_time": "2022-10-05T19:54:43.505Z"
   },
   {
    "duration": 17,
    "start_time": "2022-10-05T19:54:43.560Z"
   },
   {
    "duration": 56,
    "start_time": "2022-10-05T19:54:43.579Z"
   },
   {
    "duration": 24,
    "start_time": "2022-10-05T19:54:43.637Z"
   },
   {
    "duration": 6,
    "start_time": "2022-10-05T19:54:43.662Z"
   },
   {
    "duration": 13,
    "start_time": "2022-10-05T19:54:43.671Z"
   },
   {
    "duration": 43,
    "start_time": "2022-10-05T19:54:43.685Z"
   },
   {
    "duration": 259,
    "start_time": "2022-10-05T19:54:43.730Z"
   },
   {
    "duration": 201,
    "start_time": "2022-10-05T19:54:43.990Z"
   },
   {
    "duration": 115,
    "start_time": "2022-10-05T19:54:44.193Z"
   },
   {
    "duration": 42,
    "start_time": "2022-10-05T19:54:44.311Z"
   },
   {
    "duration": 17,
    "start_time": "2022-10-05T19:54:44.355Z"
   },
   {
    "duration": 93,
    "start_time": "2022-10-05T19:54:44.374Z"
   },
   {
    "duration": 214,
    "start_time": "2022-10-05T19:54:44.469Z"
   },
   {
    "duration": 96,
    "start_time": "2022-10-05T19:54:44.685Z"
   },
   {
    "duration": 50,
    "start_time": "2022-10-05T19:54:44.783Z"
   },
   {
    "duration": 56,
    "start_time": "2022-10-05T19:54:44.835Z"
   },
   {
    "duration": 64,
    "start_time": "2022-10-05T19:54:44.893Z"
   },
   {
    "duration": 4,
    "start_time": "2022-10-05T19:54:44.959Z"
   },
   {
    "duration": 11,
    "start_time": "2022-10-05T19:54:44.965Z"
   },
   {
    "duration": 55,
    "start_time": "2022-10-05T19:54:44.979Z"
   },
   {
    "duration": 77,
    "start_time": "2022-10-05T19:54:45.036Z"
   },
   {
    "duration": 0,
    "start_time": "2022-10-05T19:54:45.115Z"
   },
   {
    "duration": 0,
    "start_time": "2022-10-05T19:54:45.116Z"
   },
   {
    "duration": 0,
    "start_time": "2022-10-05T19:54:45.117Z"
   },
   {
    "duration": 0,
    "start_time": "2022-10-05T19:54:45.118Z"
   },
   {
    "duration": 0,
    "start_time": "2022-10-05T19:54:45.119Z"
   },
   {
    "duration": 0,
    "start_time": "2022-10-05T19:54:45.120Z"
   },
   {
    "duration": 0,
    "start_time": "2022-10-05T19:54:45.121Z"
   },
   {
    "duration": 0,
    "start_time": "2022-10-05T19:54:45.122Z"
   },
   {
    "duration": 0,
    "start_time": "2022-10-05T19:54:45.123Z"
   },
   {
    "duration": 0,
    "start_time": "2022-10-05T19:54:45.124Z"
   },
   {
    "duration": 0,
    "start_time": "2022-10-05T19:54:45.125Z"
   },
   {
    "duration": 30,
    "start_time": "2022-10-05T19:55:13.351Z"
   },
   {
    "duration": 29,
    "start_time": "2022-10-05T19:55:15.857Z"
   },
   {
    "duration": 30,
    "start_time": "2022-10-05T19:55:16.396Z"
   },
   {
    "duration": 1501,
    "start_time": "2022-10-05T19:55:26.214Z"
   },
   {
    "duration": 838,
    "start_time": "2022-10-05T19:55:27.717Z"
   },
   {
    "duration": 114,
    "start_time": "2022-10-05T19:55:28.557Z"
   },
   {
    "duration": 23,
    "start_time": "2022-10-05T19:55:28.674Z"
   },
   {
    "duration": 123,
    "start_time": "2022-10-05T19:55:28.698Z"
   },
   {
    "duration": 219,
    "start_time": "2022-10-05T19:55:28.823Z"
   },
   {
    "duration": 151,
    "start_time": "2022-10-05T19:55:29.044Z"
   },
   {
    "duration": 219,
    "start_time": "2022-10-05T19:55:29.197Z"
   },
   {
    "duration": 17,
    "start_time": "2022-10-05T19:55:29.418Z"
   },
   {
    "duration": 170,
    "start_time": "2022-10-05T19:55:29.438Z"
   },
   {
    "duration": 160,
    "start_time": "2022-10-05T19:55:29.610Z"
   },
   {
    "duration": 18,
    "start_time": "2022-10-05T19:55:29.772Z"
   },
   {
    "duration": 189,
    "start_time": "2022-10-05T19:55:29.792Z"
   },
   {
    "duration": 171,
    "start_time": "2022-10-05T19:55:29.983Z"
   },
   {
    "duration": 20,
    "start_time": "2022-10-05T19:55:30.156Z"
   },
   {
    "duration": 307,
    "start_time": "2022-10-05T19:55:30.178Z"
   },
   {
    "duration": 244,
    "start_time": "2022-10-05T19:55:30.487Z"
   },
   {
    "duration": 20,
    "start_time": "2022-10-05T19:55:30.734Z"
   },
   {
    "duration": 138,
    "start_time": "2022-10-05T19:55:30.756Z"
   },
   {
    "duration": 162,
    "start_time": "2022-10-05T19:55:30.896Z"
   },
   {
    "duration": 243,
    "start_time": "2022-10-05T19:55:31.060Z"
   },
   {
    "duration": 63,
    "start_time": "2022-10-05T19:55:31.305Z"
   },
   {
    "duration": 51,
    "start_time": "2022-10-05T19:55:31.370Z"
   },
   {
    "duration": 18,
    "start_time": "2022-10-05T19:55:31.423Z"
   },
   {
    "duration": 46,
    "start_time": "2022-10-05T19:55:31.443Z"
   },
   {
    "duration": 40,
    "start_time": "2022-10-05T19:55:31.491Z"
   },
   {
    "duration": 5,
    "start_time": "2022-10-05T19:55:31.533Z"
   },
   {
    "duration": 5,
    "start_time": "2022-10-05T19:55:31.541Z"
   },
   {
    "duration": 29,
    "start_time": "2022-10-05T19:55:31.547Z"
   },
   {
    "duration": 276,
    "start_time": "2022-10-05T19:55:31.577Z"
   },
   {
    "duration": 210,
    "start_time": "2022-10-05T19:55:31.856Z"
   },
   {
    "duration": 111,
    "start_time": "2022-10-05T19:55:32.067Z"
   },
   {
    "duration": 44,
    "start_time": "2022-10-05T19:55:32.180Z"
   },
   {
    "duration": 16,
    "start_time": "2022-10-05T19:55:32.226Z"
   },
   {
    "duration": 80,
    "start_time": "2022-10-05T19:55:32.244Z"
   },
   {
    "duration": 203,
    "start_time": "2022-10-05T19:55:32.326Z"
   },
   {
    "duration": 90,
    "start_time": "2022-10-05T19:55:32.531Z"
   },
   {
    "duration": 47,
    "start_time": "2022-10-05T19:55:32.623Z"
   },
   {
    "duration": 69,
    "start_time": "2022-10-05T19:55:32.672Z"
   },
   {
    "duration": 51,
    "start_time": "2022-10-05T19:55:32.744Z"
   },
   {
    "duration": 5,
    "start_time": "2022-10-05T19:55:32.797Z"
   },
   {
    "duration": 8,
    "start_time": "2022-10-05T19:55:32.821Z"
   },
   {
    "duration": 36,
    "start_time": "2022-10-05T19:55:32.831Z"
   },
   {
    "duration": 55,
    "start_time": "2022-10-05T19:55:32.869Z"
   },
   {
    "duration": 30,
    "start_time": "2022-10-05T19:55:32.926Z"
   },
   {
    "duration": 34,
    "start_time": "2022-10-05T19:55:32.958Z"
   },
   {
    "duration": 362,
    "start_time": "2022-10-05T19:55:32.994Z"
   },
   {
    "duration": 58,
    "start_time": "2022-10-05T19:55:33.358Z"
   },
   {
    "duration": 57,
    "start_time": "2022-10-05T19:55:33.418Z"
   },
   {
    "duration": 104,
    "start_time": "2022-10-05T19:55:33.477Z"
   },
   {
    "duration": 3,
    "start_time": "2022-10-05T19:55:33.584Z"
   },
   {
    "duration": 1249,
    "start_time": "2022-10-05T19:55:33.589Z"
   },
   {
    "duration": 4,
    "start_time": "2022-10-05T19:55:34.840Z"
   },
   {
    "duration": 190,
    "start_time": "2022-10-05T19:55:34.846Z"
   },
   {
    "duration": 11,
    "start_time": "2022-10-05T19:55:35.038Z"
   },
   {
    "duration": 3,
    "start_time": "2022-10-05T19:59:30.218Z"
   },
   {
    "duration": 120,
    "start_time": "2022-10-05T20:03:22.778Z"
   },
   {
    "duration": 89,
    "start_time": "2022-10-05T20:12:10.754Z"
   },
   {
    "duration": 12,
    "start_time": "2022-10-05T20:13:08.827Z"
   },
   {
    "duration": 24,
    "start_time": "2022-10-05T20:13:15.157Z"
   },
   {
    "duration": 37,
    "start_time": "2022-10-05T20:13:30.720Z"
   },
   {
    "duration": 50,
    "start_time": "2022-10-05T20:13:47.151Z"
   },
   {
    "duration": 1434,
    "start_time": "2022-10-05T20:15:09.039Z"
   },
   {
    "duration": 746,
    "start_time": "2022-10-05T20:15:41.674Z"
   },
   {
    "duration": 1525,
    "start_time": "2022-10-05T20:16:12.201Z"
   },
   {
    "duration": 881,
    "start_time": "2022-10-05T20:16:13.728Z"
   },
   {
    "duration": 141,
    "start_time": "2022-10-05T20:16:14.611Z"
   },
   {
    "duration": 29,
    "start_time": "2022-10-05T20:16:14.754Z"
   },
   {
    "duration": 130,
    "start_time": "2022-10-05T20:16:14.785Z"
   },
   {
    "duration": 179,
    "start_time": "2022-10-05T20:16:14.917Z"
   },
   {
    "duration": 123,
    "start_time": "2022-10-05T20:16:15.098Z"
   },
   {
    "duration": 252,
    "start_time": "2022-10-05T20:16:15.223Z"
   },
   {
    "duration": 18,
    "start_time": "2022-10-05T20:16:15.477Z"
   },
   {
    "duration": 188,
    "start_time": "2022-10-05T20:16:15.498Z"
   },
   {
    "duration": 182,
    "start_time": "2022-10-05T20:16:15.688Z"
   },
   {
    "duration": 21,
    "start_time": "2022-10-05T20:16:15.872Z"
   },
   {
    "duration": 201,
    "start_time": "2022-10-05T20:16:15.895Z"
   },
   {
    "duration": 173,
    "start_time": "2022-10-05T20:16:16.103Z"
   },
   {
    "duration": 20,
    "start_time": "2022-10-05T20:16:16.278Z"
   },
   {
    "duration": 299,
    "start_time": "2022-10-05T20:16:16.300Z"
   },
   {
    "duration": 279,
    "start_time": "2022-10-05T20:16:16.601Z"
   },
   {
    "duration": 18,
    "start_time": "2022-10-05T20:16:16.882Z"
   },
   {
    "duration": 149,
    "start_time": "2022-10-05T20:16:16.902Z"
   },
   {
    "duration": 181,
    "start_time": "2022-10-05T20:16:17.052Z"
   },
   {
    "duration": 258,
    "start_time": "2022-10-05T20:16:17.235Z"
   },
   {
    "duration": 60,
    "start_time": "2022-10-05T20:16:17.495Z"
   },
   {
    "duration": 44,
    "start_time": "2022-10-05T20:16:17.557Z"
   },
   {
    "duration": 33,
    "start_time": "2022-10-05T20:16:17.602Z"
   },
   {
    "duration": 43,
    "start_time": "2022-10-05T20:16:17.636Z"
   },
   {
    "duration": 47,
    "start_time": "2022-10-05T20:16:17.680Z"
   },
   {
    "duration": 5,
    "start_time": "2022-10-05T20:16:17.729Z"
   },
   {
    "duration": 14,
    "start_time": "2022-10-05T20:16:17.736Z"
   },
   {
    "duration": 25,
    "start_time": "2022-10-05T20:16:17.752Z"
   },
   {
    "duration": 291,
    "start_time": "2022-10-05T20:16:17.779Z"
   },
   {
    "duration": 220,
    "start_time": "2022-10-05T20:16:18.073Z"
   },
   {
    "duration": 118,
    "start_time": "2022-10-05T20:16:18.295Z"
   },
   {
    "duration": 34,
    "start_time": "2022-10-05T20:16:18.421Z"
   },
   {
    "duration": 16,
    "start_time": "2022-10-05T20:16:18.457Z"
   },
   {
    "duration": 90,
    "start_time": "2022-10-05T20:16:18.475Z"
   },
   {
    "duration": 944,
    "start_time": "2022-10-05T20:16:18.567Z"
   },
   {
    "duration": 0,
    "start_time": "2022-10-05T20:16:19.513Z"
   },
   {
    "duration": 0,
    "start_time": "2022-10-05T20:16:19.514Z"
   },
   {
    "duration": 0,
    "start_time": "2022-10-05T20:16:19.516Z"
   },
   {
    "duration": 0,
    "start_time": "2022-10-05T20:16:19.517Z"
   },
   {
    "duration": 0,
    "start_time": "2022-10-05T20:16:19.518Z"
   },
   {
    "duration": 0,
    "start_time": "2022-10-05T20:16:19.519Z"
   },
   {
    "duration": 0,
    "start_time": "2022-10-05T20:16:19.520Z"
   },
   {
    "duration": 0,
    "start_time": "2022-10-05T20:16:19.521Z"
   },
   {
    "duration": 0,
    "start_time": "2022-10-05T20:16:19.522Z"
   },
   {
    "duration": 0,
    "start_time": "2022-10-05T20:16:19.523Z"
   },
   {
    "duration": 0,
    "start_time": "2022-10-05T20:16:19.524Z"
   },
   {
    "duration": 0,
    "start_time": "2022-10-05T20:16:19.525Z"
   },
   {
    "duration": 0,
    "start_time": "2022-10-05T20:16:19.526Z"
   },
   {
    "duration": 0,
    "start_time": "2022-10-05T20:16:19.527Z"
   },
   {
    "duration": 0,
    "start_time": "2022-10-05T20:16:19.529Z"
   },
   {
    "duration": 0,
    "start_time": "2022-10-05T20:16:19.530Z"
   },
   {
    "duration": 0,
    "start_time": "2022-10-05T20:16:19.531Z"
   },
   {
    "duration": 0,
    "start_time": "2022-10-05T20:16:19.532Z"
   },
   {
    "duration": 0,
    "start_time": "2022-10-05T20:16:19.534Z"
   },
   {
    "duration": 0,
    "start_time": "2022-10-05T20:16:19.535Z"
   },
   {
    "duration": 0,
    "start_time": "2022-10-05T20:16:19.537Z"
   },
   {
    "duration": 13,
    "start_time": "2022-10-05T20:17:01.262Z"
   },
   {
    "duration": 10,
    "start_time": "2022-10-05T20:19:05.615Z"
   },
   {
    "duration": 88,
    "start_time": "2022-10-05T20:19:16.556Z"
   },
   {
    "duration": 203,
    "start_time": "2022-10-05T20:19:19.978Z"
   },
   {
    "duration": 1392,
    "start_time": "2022-10-05T20:19:27.071Z"
   },
   {
    "duration": 897,
    "start_time": "2022-10-05T20:19:28.465Z"
   },
   {
    "duration": 128,
    "start_time": "2022-10-05T20:19:29.364Z"
   },
   {
    "duration": 35,
    "start_time": "2022-10-05T20:19:29.494Z"
   },
   {
    "duration": 117,
    "start_time": "2022-10-05T20:19:29.531Z"
   },
   {
    "duration": 187,
    "start_time": "2022-10-05T20:19:29.650Z"
   },
   {
    "duration": 115,
    "start_time": "2022-10-05T20:19:29.839Z"
   },
   {
    "duration": 221,
    "start_time": "2022-10-05T20:19:29.956Z"
   },
   {
    "duration": 18,
    "start_time": "2022-10-05T20:19:30.179Z"
   },
   {
    "duration": 175,
    "start_time": "2022-10-05T20:19:30.200Z"
   },
   {
    "duration": 168,
    "start_time": "2022-10-05T20:19:30.377Z"
   },
   {
    "duration": 17,
    "start_time": "2022-10-05T20:19:30.547Z"
   },
   {
    "duration": 189,
    "start_time": "2022-10-05T20:19:30.566Z"
   },
   {
    "duration": 164,
    "start_time": "2022-10-05T20:19:30.756Z"
   },
   {
    "duration": 18,
    "start_time": "2022-10-05T20:19:30.922Z"
   },
   {
    "duration": 346,
    "start_time": "2022-10-05T20:19:30.941Z"
   },
   {
    "duration": 286,
    "start_time": "2022-10-05T20:19:31.289Z"
   },
   {
    "duration": 18,
    "start_time": "2022-10-05T20:19:31.577Z"
   },
   {
    "duration": 134,
    "start_time": "2022-10-05T20:19:31.597Z"
   },
   {
    "duration": 168,
    "start_time": "2022-10-05T20:19:31.733Z"
   },
   {
    "duration": 232,
    "start_time": "2022-10-05T20:19:31.902Z"
   },
   {
    "duration": 53,
    "start_time": "2022-10-05T20:19:32.136Z"
   },
   {
    "duration": 52,
    "start_time": "2022-10-05T20:19:32.191Z"
   },
   {
    "duration": 18,
    "start_time": "2022-10-05T20:19:32.245Z"
   },
   {
    "duration": 57,
    "start_time": "2022-10-05T20:19:32.264Z"
   },
   {
    "duration": 24,
    "start_time": "2022-10-05T20:19:32.322Z"
   },
   {
    "duration": 8,
    "start_time": "2022-10-05T20:19:32.347Z"
   },
   {
    "duration": 4,
    "start_time": "2022-10-05T20:19:32.359Z"
   },
   {
    "duration": 24,
    "start_time": "2022-10-05T20:19:32.364Z"
   },
   {
    "duration": 267,
    "start_time": "2022-10-05T20:19:32.390Z"
   },
   {
    "duration": 209,
    "start_time": "2022-10-05T20:19:32.659Z"
   },
   {
    "duration": 107,
    "start_time": "2022-10-05T20:19:32.870Z"
   },
   {
    "duration": 48,
    "start_time": "2022-10-05T20:19:32.978Z"
   },
   {
    "duration": 16,
    "start_time": "2022-10-05T20:19:33.028Z"
   },
   {
    "duration": 77,
    "start_time": "2022-10-05T20:19:33.046Z"
   },
   {
    "duration": 27,
    "start_time": "2022-10-05T20:19:33.125Z"
   },
   {
    "duration": 17,
    "start_time": "2022-10-05T20:19:33.153Z"
   },
   {
    "duration": 106,
    "start_time": "2022-10-05T20:19:33.172Z"
   },
   {
    "duration": 203,
    "start_time": "2022-10-05T20:19:33.280Z"
   },
   {
    "duration": 94,
    "start_time": "2022-10-05T20:19:33.485Z"
   },
   {
    "duration": 47,
    "start_time": "2022-10-05T20:19:33.581Z"
   },
   {
    "duration": 55,
    "start_time": "2022-10-05T20:19:33.630Z"
   },
   {
    "duration": 64,
    "start_time": "2022-10-05T20:19:33.686Z"
   },
   {
    "duration": 4,
    "start_time": "2022-10-05T20:19:33.752Z"
   },
   {
    "duration": 36,
    "start_time": "2022-10-05T20:19:33.758Z"
   },
   {
    "duration": 46,
    "start_time": "2022-10-05T20:19:33.796Z"
   },
   {
    "duration": 35,
    "start_time": "2022-10-05T20:19:33.845Z"
   },
   {
    "duration": 39,
    "start_time": "2022-10-05T20:19:33.882Z"
   },
   {
    "duration": 27,
    "start_time": "2022-10-05T20:19:33.922Z"
   },
   {
    "duration": 228,
    "start_time": "2022-10-05T20:19:33.951Z"
   },
   {
    "duration": 62,
    "start_time": "2022-10-05T20:19:34.181Z"
   },
   {
    "duration": 66,
    "start_time": "2022-10-05T20:19:34.244Z"
   },
   {
    "duration": 68,
    "start_time": "2022-10-05T20:19:34.312Z"
   },
   {
    "duration": 3,
    "start_time": "2022-10-05T20:19:34.382Z"
   },
   {
    "duration": 1198,
    "start_time": "2022-10-05T20:19:34.387Z"
   },
   {
    "duration": 3,
    "start_time": "2022-10-05T20:19:35.587Z"
   },
   {
    "duration": 57,
    "start_time": "2022-10-05T20:19:35.592Z"
   },
   {
    "duration": 10,
    "start_time": "2022-10-05T20:19:35.651Z"
   },
   {
    "duration": 1054,
    "start_time": "2022-10-05T20:20:22.876Z"
   },
   {
    "duration": 12,
    "start_time": "2022-10-05T20:24:40.055Z"
   },
   {
    "duration": 1506,
    "start_time": "2022-10-05T20:24:52.008Z"
   },
   {
    "duration": 870,
    "start_time": "2022-10-05T20:24:53.516Z"
   },
   {
    "duration": 135,
    "start_time": "2022-10-05T20:24:54.387Z"
   },
   {
    "duration": 25,
    "start_time": "2022-10-05T20:24:54.524Z"
   },
   {
    "duration": 132,
    "start_time": "2022-10-05T20:24:54.550Z"
   },
   {
    "duration": 195,
    "start_time": "2022-10-05T20:24:54.684Z"
   },
   {
    "duration": 119,
    "start_time": "2022-10-05T20:24:54.881Z"
   },
   {
    "duration": 233,
    "start_time": "2022-10-05T20:24:55.002Z"
   },
   {
    "duration": 18,
    "start_time": "2022-10-05T20:24:55.237Z"
   },
   {
    "duration": 181,
    "start_time": "2022-10-05T20:24:55.258Z"
   },
   {
    "duration": 168,
    "start_time": "2022-10-05T20:24:55.440Z"
   },
   {
    "duration": 20,
    "start_time": "2022-10-05T20:24:55.609Z"
   },
   {
    "duration": 177,
    "start_time": "2022-10-05T20:24:55.631Z"
   },
   {
    "duration": 217,
    "start_time": "2022-10-05T20:24:55.810Z"
   },
   {
    "duration": 19,
    "start_time": "2022-10-05T20:24:56.029Z"
   },
   {
    "duration": 339,
    "start_time": "2022-10-05T20:24:56.050Z"
   },
   {
    "duration": 238,
    "start_time": "2022-10-05T20:24:56.391Z"
   },
   {
    "duration": 19,
    "start_time": "2022-10-05T20:24:56.631Z"
   },
   {
    "duration": 141,
    "start_time": "2022-10-05T20:24:56.652Z"
   },
   {
    "duration": 164,
    "start_time": "2022-10-05T20:24:56.795Z"
   },
   {
    "duration": 244,
    "start_time": "2022-10-05T20:24:56.962Z"
   },
   {
    "duration": 57,
    "start_time": "2022-10-05T20:24:57.208Z"
   },
   {
    "duration": 54,
    "start_time": "2022-10-05T20:24:57.267Z"
   },
   {
    "duration": 18,
    "start_time": "2022-10-05T20:24:57.323Z"
   },
   {
    "duration": 41,
    "start_time": "2022-10-05T20:24:57.342Z"
   },
   {
    "duration": 42,
    "start_time": "2022-10-05T20:24:57.385Z"
   },
   {
    "duration": 6,
    "start_time": "2022-10-05T20:24:57.428Z"
   },
   {
    "duration": 4,
    "start_time": "2022-10-05T20:24:57.437Z"
   },
   {
    "duration": 24,
    "start_time": "2022-10-05T20:24:57.443Z"
   },
   {
    "duration": 267,
    "start_time": "2022-10-05T20:24:57.469Z"
   },
   {
    "duration": 209,
    "start_time": "2022-10-05T20:24:57.738Z"
   },
   {
    "duration": 108,
    "start_time": "2022-10-05T20:24:57.948Z"
   },
   {
    "duration": 34,
    "start_time": "2022-10-05T20:24:58.058Z"
   },
   {
    "duration": 39,
    "start_time": "2022-10-05T20:24:58.094Z"
   },
   {
    "duration": 67,
    "start_time": "2022-10-05T20:24:58.135Z"
   },
   {
    "duration": 32,
    "start_time": "2022-10-05T20:24:58.204Z"
   },
   {
    "duration": 16,
    "start_time": "2022-10-05T20:24:58.238Z"
   },
   {
    "duration": 97,
    "start_time": "2022-10-05T20:24:58.256Z"
   },
   {
    "duration": 214,
    "start_time": "2022-10-05T20:24:58.355Z"
   },
   {
    "duration": 88,
    "start_time": "2022-10-05T20:24:58.571Z"
   },
   {
    "duration": 46,
    "start_time": "2022-10-05T20:24:58.661Z"
   },
   {
    "duration": 62,
    "start_time": "2022-10-05T20:24:58.709Z"
   },
   {
    "duration": 61,
    "start_time": "2022-10-05T20:24:58.773Z"
   },
   {
    "duration": 6,
    "start_time": "2022-10-05T20:24:58.836Z"
   },
   {
    "duration": 42,
    "start_time": "2022-10-05T20:24:58.844Z"
   },
   {
    "duration": 177,
    "start_time": "2022-10-05T20:24:58.888Z"
   },
   {
    "duration": 0,
    "start_time": "2022-10-05T20:24:59.067Z"
   },
   {
    "duration": 0,
    "start_time": "2022-10-05T20:24:59.069Z"
   },
   {
    "duration": 0,
    "start_time": "2022-10-05T20:24:59.070Z"
   },
   {
    "duration": 0,
    "start_time": "2022-10-05T20:24:59.072Z"
   },
   {
    "duration": 0,
    "start_time": "2022-10-05T20:24:59.073Z"
   },
   {
    "duration": 0,
    "start_time": "2022-10-05T20:24:59.074Z"
   },
   {
    "duration": 0,
    "start_time": "2022-10-05T20:24:59.076Z"
   },
   {
    "duration": 0,
    "start_time": "2022-10-05T20:24:59.078Z"
   },
   {
    "duration": 0,
    "start_time": "2022-10-05T20:24:59.079Z"
   },
   {
    "duration": 0,
    "start_time": "2022-10-05T20:24:59.080Z"
   },
   {
    "duration": 0,
    "start_time": "2022-10-05T20:24:59.082Z"
   },
   {
    "duration": 0,
    "start_time": "2022-10-05T20:24:59.083Z"
   },
   {
    "duration": 0,
    "start_time": "2022-10-05T20:24:59.085Z"
   },
   {
    "duration": 0,
    "start_time": "2022-10-05T20:24:59.086Z"
   },
   {
    "duration": 93,
    "start_time": "2022-10-05T20:25:43.494Z"
   },
   {
    "duration": 1091,
    "start_time": "2022-10-05T20:25:54.058Z"
   },
   {
    "duration": 10,
    "start_time": "2022-10-05T20:27:21.480Z"
   },
   {
    "duration": 1020,
    "start_time": "2022-10-05T20:27:42.946Z"
   },
   {
    "duration": 11,
    "start_time": "2022-10-05T20:31:43.373Z"
   },
   {
    "duration": 4,
    "start_time": "2022-10-05T20:32:10.484Z"
   },
   {
    "duration": 1088,
    "start_time": "2022-10-05T20:32:21.604Z"
   },
   {
    "duration": 12,
    "start_time": "2022-10-05T20:34:35.301Z"
   },
   {
    "duration": 31,
    "start_time": "2022-10-05T20:35:07.472Z"
   },
   {
    "duration": 92,
    "start_time": "2022-10-05T20:36:40.709Z"
   },
   {
    "duration": 48,
    "start_time": "2022-10-05T20:38:06.338Z"
   },
   {
    "duration": 34,
    "start_time": "2022-10-05T20:38:11.687Z"
   },
   {
    "duration": 65,
    "start_time": "2022-10-05T20:38:15.921Z"
   },
   {
    "duration": 186,
    "start_time": "2022-10-05T20:38:21.504Z"
   },
   {
    "duration": 50,
    "start_time": "2022-10-05T20:38:22.053Z"
   },
   {
    "duration": 46,
    "start_time": "2022-10-05T20:38:24.791Z"
   },
   {
    "duration": 46,
    "start_time": "2022-10-05T20:38:27.844Z"
   },
   {
    "duration": 5,
    "start_time": "2022-10-05T20:38:29.563Z"
   },
   {
    "duration": 8,
    "start_time": "2022-10-05T20:38:32.548Z"
   },
   {
    "duration": 932,
    "start_time": "2022-10-05T20:38:50.191Z"
   },
   {
    "duration": 26,
    "start_time": "2022-10-05T20:40:10.311Z"
   },
   {
    "duration": 16,
    "start_time": "2022-10-05T20:40:40.811Z"
   },
   {
    "duration": 1448,
    "start_time": "2022-10-05T20:41:07.175Z"
   },
   {
    "duration": 982,
    "start_time": "2022-10-05T20:41:08.625Z"
   },
   {
    "duration": 130,
    "start_time": "2022-10-05T20:41:09.609Z"
   },
   {
    "duration": 26,
    "start_time": "2022-10-05T20:41:09.743Z"
   },
   {
    "duration": 135,
    "start_time": "2022-10-05T20:41:09.771Z"
   },
   {
    "duration": 194,
    "start_time": "2022-10-05T20:41:09.908Z"
   },
   {
    "duration": 118,
    "start_time": "2022-10-05T20:41:10.104Z"
   },
   {
    "duration": 229,
    "start_time": "2022-10-05T20:41:10.224Z"
   },
   {
    "duration": 17,
    "start_time": "2022-10-05T20:41:10.455Z"
   },
   {
    "duration": 181,
    "start_time": "2022-10-05T20:41:10.475Z"
   },
   {
    "duration": 165,
    "start_time": "2022-10-05T20:41:10.661Z"
   },
   {
    "duration": 18,
    "start_time": "2022-10-05T20:41:10.828Z"
   },
   {
    "duration": 180,
    "start_time": "2022-10-05T20:41:10.847Z"
   },
   {
    "duration": 169,
    "start_time": "2022-10-05T20:41:11.028Z"
   },
   {
    "duration": 28,
    "start_time": "2022-10-05T20:41:11.199Z"
   },
   {
    "duration": 296,
    "start_time": "2022-10-05T20:41:11.229Z"
   },
   {
    "duration": 269,
    "start_time": "2022-10-05T20:41:11.527Z"
   },
   {
    "duration": 25,
    "start_time": "2022-10-05T20:41:11.799Z"
   },
   {
    "duration": 142,
    "start_time": "2022-10-05T20:41:11.826Z"
   },
   {
    "duration": 163,
    "start_time": "2022-10-05T20:41:11.970Z"
   },
   {
    "duration": 250,
    "start_time": "2022-10-05T20:41:12.135Z"
   },
   {
    "duration": 60,
    "start_time": "2022-10-05T20:41:12.387Z"
   },
   {
    "duration": 42,
    "start_time": "2022-10-05T20:41:12.449Z"
   },
   {
    "duration": 33,
    "start_time": "2022-10-05T20:41:12.493Z"
   },
   {
    "duration": 43,
    "start_time": "2022-10-05T20:41:12.528Z"
   },
   {
    "duration": 55,
    "start_time": "2022-10-05T20:41:12.573Z"
   },
   {
    "duration": 7,
    "start_time": "2022-10-05T20:41:12.630Z"
   },
   {
    "duration": 26,
    "start_time": "2022-10-05T20:41:12.642Z"
   },
   {
    "duration": 42,
    "start_time": "2022-10-05T20:41:12.671Z"
   },
   {
    "duration": 262,
    "start_time": "2022-10-05T20:41:12.716Z"
   },
   {
    "duration": 210,
    "start_time": "2022-10-05T20:41:12.980Z"
   },
   {
    "duration": 112,
    "start_time": "2022-10-05T20:41:13.192Z"
   },
   {
    "duration": 47,
    "start_time": "2022-10-05T20:41:13.306Z"
   },
   {
    "duration": 17,
    "start_time": "2022-10-05T20:41:13.355Z"
   },
   {
    "duration": 93,
    "start_time": "2022-10-05T20:41:13.374Z"
   },
   {
    "duration": 19,
    "start_time": "2022-10-05T20:41:13.468Z"
   },
   {
    "duration": 11,
    "start_time": "2022-10-05T20:41:13.489Z"
   },
   {
    "duration": 263,
    "start_time": "2022-10-05T20:41:13.502Z"
   },
   {
    "duration": 20,
    "start_time": "2022-10-05T20:41:13.767Z"
   },
   {
    "duration": 52,
    "start_time": "2022-10-05T20:41:13.789Z"
   },
   {
    "duration": 229,
    "start_time": "2022-10-05T20:41:13.842Z"
   },
   {
    "duration": 52,
    "start_time": "2022-10-05T20:41:14.072Z"
   },
   {
    "duration": 67,
    "start_time": "2022-10-05T20:41:14.126Z"
   },
   {
    "duration": 76,
    "start_time": "2022-10-05T20:41:14.195Z"
   },
   {
    "duration": 4,
    "start_time": "2022-10-05T20:41:14.273Z"
   },
   {
    "duration": 28,
    "start_time": "2022-10-05T20:41:14.279Z"
   },
   {
    "duration": 737,
    "start_time": "2022-10-05T20:41:14.308Z"
   },
   {
    "duration": 0,
    "start_time": "2022-10-05T20:41:15.047Z"
   },
   {
    "duration": 0,
    "start_time": "2022-10-05T20:41:15.048Z"
   },
   {
    "duration": 0,
    "start_time": "2022-10-05T20:41:15.049Z"
   },
   {
    "duration": 0,
    "start_time": "2022-10-05T20:41:15.051Z"
   },
   {
    "duration": 0,
    "start_time": "2022-10-05T20:41:15.052Z"
   },
   {
    "duration": 0,
    "start_time": "2022-10-05T20:41:15.053Z"
   },
   {
    "duration": 0,
    "start_time": "2022-10-05T20:41:15.054Z"
   },
   {
    "duration": 0,
    "start_time": "2022-10-05T20:41:15.056Z"
   },
   {
    "duration": 0,
    "start_time": "2022-10-05T20:41:15.057Z"
   },
   {
    "duration": 0,
    "start_time": "2022-10-05T20:41:15.058Z"
   },
   {
    "duration": 0,
    "start_time": "2022-10-05T20:41:15.058Z"
   },
   {
    "duration": 0,
    "start_time": "2022-10-05T20:41:15.059Z"
   },
   {
    "duration": 1,
    "start_time": "2022-10-05T20:41:15.060Z"
   },
   {
    "duration": 1500,
    "start_time": "2022-10-05T20:41:29.503Z"
   },
   {
    "duration": 854,
    "start_time": "2022-10-05T20:41:31.005Z"
   },
   {
    "duration": 131,
    "start_time": "2022-10-05T20:41:31.861Z"
   },
   {
    "duration": 38,
    "start_time": "2022-10-05T20:41:31.994Z"
   },
   {
    "duration": 125,
    "start_time": "2022-10-05T20:41:32.034Z"
   },
   {
    "duration": 190,
    "start_time": "2022-10-05T20:41:32.161Z"
   },
   {
    "duration": 118,
    "start_time": "2022-10-05T20:41:32.353Z"
   },
   {
    "duration": 226,
    "start_time": "2022-10-05T20:41:32.473Z"
   },
   {
    "duration": 30,
    "start_time": "2022-10-05T20:41:32.701Z"
   },
   {
    "duration": 162,
    "start_time": "2022-10-05T20:41:32.734Z"
   },
   {
    "duration": 164,
    "start_time": "2022-10-05T20:41:32.897Z"
   },
   {
    "duration": 17,
    "start_time": "2022-10-05T20:41:33.063Z"
   },
   {
    "duration": 185,
    "start_time": "2022-10-05T20:41:33.082Z"
   },
   {
    "duration": 169,
    "start_time": "2022-10-05T20:41:33.269Z"
   },
   {
    "duration": 19,
    "start_time": "2022-10-05T20:41:33.439Z"
   },
   {
    "duration": 289,
    "start_time": "2022-10-05T20:41:33.459Z"
   },
   {
    "duration": 256,
    "start_time": "2022-10-05T20:41:33.749Z"
   },
   {
    "duration": 21,
    "start_time": "2022-10-05T20:41:34.007Z"
   },
   {
    "duration": 125,
    "start_time": "2022-10-05T20:41:34.030Z"
   },
   {
    "duration": 155,
    "start_time": "2022-10-05T20:41:34.157Z"
   },
   {
    "duration": 241,
    "start_time": "2022-10-05T20:41:34.314Z"
   },
   {
    "duration": 49,
    "start_time": "2022-10-05T20:41:34.557Z"
   },
   {
    "duration": 54,
    "start_time": "2022-10-05T20:41:34.608Z"
   },
   {
    "duration": 19,
    "start_time": "2022-10-05T20:41:34.663Z"
   },
   {
    "duration": 61,
    "start_time": "2022-10-05T20:41:34.684Z"
   },
   {
    "duration": 23,
    "start_time": "2022-10-05T20:41:34.746Z"
   },
   {
    "duration": 5,
    "start_time": "2022-10-05T20:41:34.771Z"
   },
   {
    "duration": 4,
    "start_time": "2022-10-05T20:41:34.780Z"
   },
   {
    "duration": 47,
    "start_time": "2022-10-05T20:41:34.786Z"
   },
   {
    "duration": 260,
    "start_time": "2022-10-05T20:41:34.835Z"
   },
   {
    "duration": 201,
    "start_time": "2022-10-05T20:41:35.096Z"
   },
   {
    "duration": 126,
    "start_time": "2022-10-05T20:41:35.299Z"
   },
   {
    "duration": 35,
    "start_time": "2022-10-05T20:41:35.427Z"
   },
   {
    "duration": 16,
    "start_time": "2022-10-05T20:41:35.464Z"
   },
   {
    "duration": 92,
    "start_time": "2022-10-05T20:41:35.482Z"
   },
   {
    "duration": 18,
    "start_time": "2022-10-05T20:41:35.576Z"
   },
   {
    "duration": 11,
    "start_time": "2022-10-05T20:41:35.596Z"
   },
   {
    "duration": 169,
    "start_time": "2022-10-05T20:41:35.609Z"
   },
   {
    "duration": 20,
    "start_time": "2022-10-05T20:41:35.780Z"
   },
   {
    "duration": 53,
    "start_time": "2022-10-05T20:41:35.801Z"
   },
   {
    "duration": 205,
    "start_time": "2022-10-05T20:41:35.856Z"
   },
   {
    "duration": 47,
    "start_time": "2022-10-05T20:41:36.063Z"
   },
   {
    "duration": 50,
    "start_time": "2022-10-05T20:41:36.121Z"
   },
   {
    "duration": 64,
    "start_time": "2022-10-05T20:41:36.173Z"
   },
   {
    "duration": 5,
    "start_time": "2022-10-05T20:41:36.239Z"
   },
   {
    "duration": 20,
    "start_time": "2022-10-05T20:41:36.246Z"
   },
   {
    "duration": 8,
    "start_time": "2022-10-05T20:41:36.268Z"
   },
   {
    "duration": 5,
    "start_time": "2022-10-05T20:41:36.278Z"
   },
   {
    "duration": 7,
    "start_time": "2022-10-05T20:41:36.285Z"
   },
   {
    "duration": 27,
    "start_time": "2022-10-05T20:41:36.294Z"
   },
   {
    "duration": 283,
    "start_time": "2022-10-05T20:41:36.323Z"
   },
   {
    "duration": 53,
    "start_time": "2022-10-05T20:41:36.608Z"
   },
   {
    "duration": 50,
    "start_time": "2022-10-05T20:41:36.663Z"
   },
   {
    "duration": 74,
    "start_time": "2022-10-05T20:41:36.715Z"
   },
   {
    "duration": 4,
    "start_time": "2022-10-05T20:41:36.791Z"
   },
   {
    "duration": 1229,
    "start_time": "2022-10-05T20:41:36.796Z"
   },
   {
    "duration": 3,
    "start_time": "2022-10-05T20:41:38.026Z"
   },
   {
    "duration": 66,
    "start_time": "2022-10-05T20:41:38.031Z"
   },
   {
    "duration": 10,
    "start_time": "2022-10-05T20:41:38.099Z"
   },
   {
    "duration": 209,
    "start_time": "2022-10-05T20:46:04.098Z"
   },
   {
    "duration": 47,
    "start_time": "2022-10-05T20:46:10.080Z"
   },
   {
    "duration": 49,
    "start_time": "2022-10-05T20:46:16.108Z"
   },
   {
    "duration": 50,
    "start_time": "2022-10-05T20:46:29.301Z"
   },
   {
    "duration": 5,
    "start_time": "2022-10-05T20:46:34.354Z"
   },
   {
    "duration": 7,
    "start_time": "2022-10-05T20:46:39.476Z"
   },
   {
    "duration": 8,
    "start_time": "2022-10-05T20:46:48.780Z"
   },
   {
    "duration": 8,
    "start_time": "2022-10-05T20:46:52.989Z"
   },
   {
    "duration": 8,
    "start_time": "2022-10-05T20:46:58.722Z"
   },
   {
    "duration": 8,
    "start_time": "2022-10-05T20:47:03.756Z"
   },
   {
    "duration": 23,
    "start_time": "2022-10-05T20:51:32.028Z"
   },
   {
    "duration": 6,
    "start_time": "2022-10-05T20:53:43.340Z"
   },
   {
    "duration": 24,
    "start_time": "2022-10-05T20:54:09.675Z"
   },
   {
    "duration": 6,
    "start_time": "2022-10-05T20:54:52.286Z"
   },
   {
    "duration": 43,
    "start_time": "2022-10-05T20:56:12.173Z"
   },
   {
    "duration": 79,
    "start_time": "2022-10-05T20:56:52.374Z"
   },
   {
    "duration": 86,
    "start_time": "2022-10-05T20:57:36.469Z"
   },
   {
    "duration": 12,
    "start_time": "2022-10-05T21:01:11.845Z"
   },
   {
    "duration": 15,
    "start_time": "2022-10-05T21:01:53.632Z"
   },
   {
    "duration": 170,
    "start_time": "2022-10-05T21:04:25.392Z"
   },
   {
    "duration": 210,
    "start_time": "2022-10-05T21:05:03.935Z"
   },
   {
    "duration": 14,
    "start_time": "2022-10-05T21:07:01.593Z"
   },
   {
    "duration": 358,
    "start_time": "2022-10-05T21:07:08.270Z"
   },
   {
    "duration": 1479,
    "start_time": "2022-10-05T21:08:57.307Z"
   },
   {
    "duration": 921,
    "start_time": "2022-10-05T21:08:58.788Z"
   },
   {
    "duration": 126,
    "start_time": "2022-10-05T21:08:59.711Z"
   },
   {
    "duration": 30,
    "start_time": "2022-10-05T21:08:59.839Z"
   },
   {
    "duration": 125,
    "start_time": "2022-10-05T21:08:59.871Z"
   },
   {
    "duration": 185,
    "start_time": "2022-10-05T21:08:59.998Z"
   },
   {
    "duration": 120,
    "start_time": "2022-10-05T21:09:00.185Z"
   },
   {
    "duration": 225,
    "start_time": "2022-10-05T21:09:00.307Z"
   },
   {
    "duration": 15,
    "start_time": "2022-10-05T21:09:00.534Z"
   },
   {
    "duration": 173,
    "start_time": "2022-10-05T21:09:00.552Z"
   },
   {
    "duration": 163,
    "start_time": "2022-10-05T21:09:00.727Z"
   },
   {
    "duration": 27,
    "start_time": "2022-10-05T21:09:00.893Z"
   },
   {
    "duration": 171,
    "start_time": "2022-10-05T21:09:00.922Z"
   },
   {
    "duration": 152,
    "start_time": "2022-10-05T21:09:01.095Z"
   },
   {
    "duration": 17,
    "start_time": "2022-10-05T21:09:01.249Z"
   },
   {
    "duration": 289,
    "start_time": "2022-10-05T21:09:01.268Z"
   },
   {
    "duration": 250,
    "start_time": "2022-10-05T21:09:01.559Z"
   },
   {
    "duration": 25,
    "start_time": "2022-10-05T21:09:01.811Z"
   },
   {
    "duration": 132,
    "start_time": "2022-10-05T21:09:01.844Z"
   },
   {
    "duration": 161,
    "start_time": "2022-10-05T21:09:01.977Z"
   },
   {
    "duration": 240,
    "start_time": "2022-10-05T21:09:02.140Z"
   },
   {
    "duration": 59,
    "start_time": "2022-10-05T21:09:02.381Z"
   },
   {
    "duration": 43,
    "start_time": "2022-10-05T21:09:02.442Z"
   },
   {
    "duration": 35,
    "start_time": "2022-10-05T21:09:02.487Z"
   },
   {
    "duration": 43,
    "start_time": "2022-10-05T21:09:02.523Z"
   },
   {
    "duration": 24,
    "start_time": "2022-10-05T21:09:02.568Z"
   },
   {
    "duration": 27,
    "start_time": "2022-10-05T21:09:02.594Z"
   },
   {
    "duration": 4,
    "start_time": "2022-10-05T21:09:02.626Z"
   },
   {
    "duration": 50,
    "start_time": "2022-10-05T21:09:02.631Z"
   },
   {
    "duration": 278,
    "start_time": "2022-10-05T21:09:02.683Z"
   },
   {
    "duration": 209,
    "start_time": "2022-10-05T21:09:02.962Z"
   },
   {
    "duration": 109,
    "start_time": "2022-10-05T21:09:03.172Z"
   },
   {
    "duration": 47,
    "start_time": "2022-10-05T21:09:03.282Z"
   },
   {
    "duration": 23,
    "start_time": "2022-10-05T21:09:03.330Z"
   },
   {
    "duration": 35,
    "start_time": "2022-10-05T21:09:03.355Z"
   },
   {
    "duration": 113,
    "start_time": "2022-10-05T21:09:03.392Z"
   },
   {
    "duration": 199,
    "start_time": "2022-10-05T21:09:03.508Z"
   },
   {
    "duration": 92,
    "start_time": "2022-10-05T21:09:03.709Z"
   },
   {
    "duration": 58,
    "start_time": "2022-10-05T21:09:03.804Z"
   },
   {
    "duration": 92,
    "start_time": "2022-10-05T21:09:03.864Z"
   },
   {
    "duration": 127,
    "start_time": "2022-10-05T21:09:03.958Z"
   },
   {
    "duration": 0,
    "start_time": "2022-10-05T21:09:04.087Z"
   },
   {
    "duration": 0,
    "start_time": "2022-10-05T21:09:04.088Z"
   },
   {
    "duration": 0,
    "start_time": "2022-10-05T21:09:04.090Z"
   },
   {
    "duration": 0,
    "start_time": "2022-10-05T21:09:04.091Z"
   },
   {
    "duration": 0,
    "start_time": "2022-10-05T21:09:04.092Z"
   },
   {
    "duration": 1,
    "start_time": "2022-10-05T21:09:04.093Z"
   },
   {
    "duration": 0,
    "start_time": "2022-10-05T21:09:04.095Z"
   },
   {
    "duration": 0,
    "start_time": "2022-10-05T21:09:04.096Z"
   },
   {
    "duration": 0,
    "start_time": "2022-10-05T21:09:04.098Z"
   },
   {
    "duration": 0,
    "start_time": "2022-10-05T21:09:04.121Z"
   },
   {
    "duration": 0,
    "start_time": "2022-10-05T21:09:04.122Z"
   },
   {
    "duration": 0,
    "start_time": "2022-10-05T21:09:04.124Z"
   },
   {
    "duration": 0,
    "start_time": "2022-10-05T21:09:04.125Z"
   },
   {
    "duration": 0,
    "start_time": "2022-10-05T21:09:04.126Z"
   },
   {
    "duration": 0,
    "start_time": "2022-10-05T21:09:04.128Z"
   },
   {
    "duration": 0,
    "start_time": "2022-10-05T21:09:04.130Z"
   },
   {
    "duration": 0,
    "start_time": "2022-10-05T21:09:04.131Z"
   },
   {
    "duration": 0,
    "start_time": "2022-10-05T21:09:04.132Z"
   },
   {
    "duration": 0,
    "start_time": "2022-10-05T21:09:04.134Z"
   },
   {
    "duration": 0,
    "start_time": "2022-10-05T21:09:04.135Z"
   },
   {
    "duration": 0,
    "start_time": "2022-10-05T21:09:04.137Z"
   },
   {
    "duration": 12,
    "start_time": "2022-10-05T21:09:31.466Z"
   },
   {
    "duration": 1473,
    "start_time": "2022-10-05T21:11:28.468Z"
   },
   {
    "duration": 882,
    "start_time": "2022-10-05T21:11:29.943Z"
   },
   {
    "duration": 134,
    "start_time": "2022-10-05T21:11:30.827Z"
   },
   {
    "duration": 31,
    "start_time": "2022-10-05T21:11:30.964Z"
   },
   {
    "duration": 146,
    "start_time": "2022-10-05T21:11:30.997Z"
   },
   {
    "duration": 178,
    "start_time": "2022-10-05T21:11:31.145Z"
   },
   {
    "duration": 117,
    "start_time": "2022-10-05T21:11:31.325Z"
   },
   {
    "duration": 228,
    "start_time": "2022-10-05T21:11:31.443Z"
   },
   {
    "duration": 19,
    "start_time": "2022-10-05T21:11:31.673Z"
   },
   {
    "duration": 182,
    "start_time": "2022-10-05T21:11:31.694Z"
   },
   {
    "duration": 165,
    "start_time": "2022-10-05T21:11:31.878Z"
   },
   {
    "duration": 19,
    "start_time": "2022-10-05T21:11:32.044Z"
   },
   {
    "duration": 182,
    "start_time": "2022-10-05T21:11:32.065Z"
   },
   {
    "duration": 163,
    "start_time": "2022-10-05T21:11:32.248Z"
   },
   {
    "duration": 20,
    "start_time": "2022-10-05T21:11:32.413Z"
   },
   {
    "duration": 288,
    "start_time": "2022-10-05T21:11:32.434Z"
   },
   {
    "duration": 229,
    "start_time": "2022-10-05T21:11:32.724Z"
   },
   {
    "duration": 18,
    "start_time": "2022-10-05T21:11:32.956Z"
   },
   {
    "duration": 129,
    "start_time": "2022-10-05T21:11:32.976Z"
   },
   {
    "duration": 170,
    "start_time": "2022-10-05T21:11:33.107Z"
   },
   {
    "duration": 220,
    "start_time": "2022-10-05T21:11:33.279Z"
   },
   {
    "duration": 66,
    "start_time": "2022-10-05T21:11:33.501Z"
   },
   {
    "duration": 51,
    "start_time": "2022-10-05T21:11:33.569Z"
   },
   {
    "duration": 18,
    "start_time": "2022-10-05T21:11:33.622Z"
   },
   {
    "duration": 43,
    "start_time": "2022-10-05T21:11:33.642Z"
   },
   {
    "duration": 44,
    "start_time": "2022-10-05T21:11:33.687Z"
   },
   {
    "duration": 7,
    "start_time": "2022-10-05T21:11:33.733Z"
   },
   {
    "duration": 21,
    "start_time": "2022-10-05T21:11:33.745Z"
   },
   {
    "duration": 22,
    "start_time": "2022-10-05T21:11:33.768Z"
   },
   {
    "duration": 277,
    "start_time": "2022-10-05T21:11:33.792Z"
   },
   {
    "duration": 205,
    "start_time": "2022-10-05T21:11:34.071Z"
   },
   {
    "duration": 111,
    "start_time": "2022-10-05T21:11:34.277Z"
   },
   {
    "duration": 41,
    "start_time": "2022-10-05T21:11:34.390Z"
   },
   {
    "duration": 14,
    "start_time": "2022-10-05T21:11:34.433Z"
   },
   {
    "duration": 7,
    "start_time": "2022-10-05T21:11:34.448Z"
   },
   {
    "duration": 95,
    "start_time": "2022-10-05T21:11:34.456Z"
   },
   {
    "duration": 204,
    "start_time": "2022-10-05T21:11:34.552Z"
   },
   {
    "duration": 90,
    "start_time": "2022-10-05T21:11:34.758Z"
   },
   {
    "duration": 47,
    "start_time": "2022-10-05T21:11:34.850Z"
   },
   {
    "duration": 60,
    "start_time": "2022-10-05T21:11:34.898Z"
   },
   {
    "duration": 124,
    "start_time": "2022-10-05T21:11:34.960Z"
   },
   {
    "duration": 0,
    "start_time": "2022-10-05T21:11:35.086Z"
   },
   {
    "duration": 0,
    "start_time": "2022-10-05T21:11:35.087Z"
   },
   {
    "duration": 0,
    "start_time": "2022-10-05T21:11:35.088Z"
   },
   {
    "duration": 0,
    "start_time": "2022-10-05T21:11:35.089Z"
   },
   {
    "duration": 0,
    "start_time": "2022-10-05T21:11:35.090Z"
   },
   {
    "duration": 0,
    "start_time": "2022-10-05T21:11:35.091Z"
   },
   {
    "duration": 0,
    "start_time": "2022-10-05T21:11:35.092Z"
   },
   {
    "duration": 0,
    "start_time": "2022-10-05T21:11:35.093Z"
   },
   {
    "duration": 0,
    "start_time": "2022-10-05T21:11:35.094Z"
   },
   {
    "duration": 0,
    "start_time": "2022-10-05T21:11:35.095Z"
   },
   {
    "duration": 0,
    "start_time": "2022-10-05T21:11:35.096Z"
   },
   {
    "duration": 0,
    "start_time": "2022-10-05T21:11:35.097Z"
   },
   {
    "duration": 0,
    "start_time": "2022-10-05T21:11:35.120Z"
   },
   {
    "duration": 0,
    "start_time": "2022-10-05T21:11:35.121Z"
   },
   {
    "duration": 0,
    "start_time": "2022-10-05T21:11:35.123Z"
   },
   {
    "duration": 0,
    "start_time": "2022-10-05T21:11:35.123Z"
   },
   {
    "duration": 0,
    "start_time": "2022-10-05T21:11:35.125Z"
   },
   {
    "duration": 0,
    "start_time": "2022-10-05T21:11:35.126Z"
   },
   {
    "duration": 0,
    "start_time": "2022-10-05T21:11:35.127Z"
   },
   {
    "duration": 0,
    "start_time": "2022-10-05T21:11:35.128Z"
   },
   {
    "duration": 0,
    "start_time": "2022-10-05T21:11:35.129Z"
   },
   {
    "duration": 54,
    "start_time": "2022-10-05T21:12:17.844Z"
   },
   {
    "duration": 5,
    "start_time": "2022-10-05T21:12:21.375Z"
   },
   {
    "duration": 8,
    "start_time": "2022-10-05T21:12:24.016Z"
   },
   {
    "duration": 1476,
    "start_time": "2022-10-05T21:12:31.259Z"
   },
   {
    "duration": 841,
    "start_time": "2022-10-05T21:12:32.736Z"
   },
   {
    "duration": 126,
    "start_time": "2022-10-05T21:12:33.578Z"
   },
   {
    "duration": 27,
    "start_time": "2022-10-05T21:12:33.706Z"
   },
   {
    "duration": 128,
    "start_time": "2022-10-05T21:12:33.735Z"
   },
   {
    "duration": 198,
    "start_time": "2022-10-05T21:12:33.864Z"
   },
   {
    "duration": 122,
    "start_time": "2022-10-05T21:12:34.064Z"
   },
   {
    "duration": 224,
    "start_time": "2022-10-05T21:12:34.188Z"
   },
   {
    "duration": 21,
    "start_time": "2022-10-05T21:12:34.414Z"
   },
   {
    "duration": 166,
    "start_time": "2022-10-05T21:12:34.438Z"
   },
   {
    "duration": 154,
    "start_time": "2022-10-05T21:12:34.605Z"
   },
   {
    "duration": 17,
    "start_time": "2022-10-05T21:12:34.761Z"
   },
   {
    "duration": 186,
    "start_time": "2022-10-05T21:12:34.779Z"
   },
   {
    "duration": 166,
    "start_time": "2022-10-05T21:12:34.967Z"
   },
   {
    "duration": 19,
    "start_time": "2022-10-05T21:12:35.135Z"
   },
   {
    "duration": 289,
    "start_time": "2022-10-05T21:12:35.156Z"
   },
   {
    "duration": 233,
    "start_time": "2022-10-05T21:12:35.447Z"
   },
   {
    "duration": 18,
    "start_time": "2022-10-05T21:12:35.682Z"
   },
   {
    "duration": 133,
    "start_time": "2022-10-05T21:12:35.702Z"
   },
   {
    "duration": 160,
    "start_time": "2022-10-05T21:12:35.837Z"
   },
   {
    "duration": 230,
    "start_time": "2022-10-05T21:12:35.999Z"
   },
   {
    "duration": 51,
    "start_time": "2022-10-05T21:12:36.231Z"
   },
   {
    "duration": 63,
    "start_time": "2022-10-05T21:12:36.284Z"
   },
   {
    "duration": 19,
    "start_time": "2022-10-05T21:12:36.348Z"
   },
   {
    "duration": 53,
    "start_time": "2022-10-05T21:12:36.369Z"
   },
   {
    "duration": 23,
    "start_time": "2022-10-05T21:12:36.424Z"
   },
   {
    "duration": 6,
    "start_time": "2022-10-05T21:12:36.449Z"
   },
   {
    "duration": 4,
    "start_time": "2022-10-05T21:12:36.459Z"
   },
   {
    "duration": 20,
    "start_time": "2022-10-05T21:12:36.465Z"
   },
   {
    "duration": 277,
    "start_time": "2022-10-05T21:12:36.487Z"
   },
   {
    "duration": 204,
    "start_time": "2022-10-05T21:12:36.766Z"
   },
   {
    "duration": 110,
    "start_time": "2022-10-05T21:12:36.971Z"
   },
   {
    "duration": 52,
    "start_time": "2022-10-05T21:12:37.083Z"
   },
   {
    "duration": 14,
    "start_time": "2022-10-05T21:12:37.136Z"
   },
   {
    "duration": 7,
    "start_time": "2022-10-05T21:12:37.151Z"
   },
   {
    "duration": 91,
    "start_time": "2022-10-05T21:12:37.160Z"
   },
   {
    "duration": 206,
    "start_time": "2022-10-05T21:12:37.253Z"
   },
   {
    "duration": 92,
    "start_time": "2022-10-05T21:12:37.461Z"
   },
   {
    "duration": 48,
    "start_time": "2022-10-05T21:12:37.555Z"
   },
   {
    "duration": 70,
    "start_time": "2022-10-05T21:12:37.604Z"
   },
   {
    "duration": 51,
    "start_time": "2022-10-05T21:12:37.675Z"
   },
   {
    "duration": 6,
    "start_time": "2022-10-05T21:12:37.728Z"
   },
   {
    "duration": 12,
    "start_time": "2022-10-05T21:12:37.736Z"
   },
   {
    "duration": 46,
    "start_time": "2022-10-05T21:12:37.751Z"
   },
   {
    "duration": 59,
    "start_time": "2022-10-05T21:12:37.799Z"
   },
   {
    "duration": 32,
    "start_time": "2022-10-05T21:12:37.861Z"
   },
   {
    "duration": 40,
    "start_time": "2022-10-05T21:12:37.895Z"
   },
   {
    "duration": 18,
    "start_time": "2022-10-05T21:12:37.936Z"
   },
   {
    "duration": 72,
    "start_time": "2022-10-05T21:12:37.956Z"
   },
   {
    "duration": 19,
    "start_time": "2022-10-05T21:12:38.030Z"
   },
   {
    "duration": 87,
    "start_time": "2022-10-05T21:12:38.051Z"
   },
   {
    "duration": 89,
    "start_time": "2022-10-05T21:12:38.140Z"
   },
   {
    "duration": 95,
    "start_time": "2022-10-05T21:12:38.231Z"
   },
   {
    "duration": 368,
    "start_time": "2022-10-05T21:12:38.328Z"
   },
   {
    "duration": 84,
    "start_time": "2022-10-05T21:12:38.698Z"
   },
   {
    "duration": 128,
    "start_time": "2022-10-05T21:12:38.784Z"
   },
   {
    "duration": 67,
    "start_time": "2022-10-05T21:12:38.914Z"
   },
   {
    "duration": 4,
    "start_time": "2022-10-05T21:12:38.983Z"
   },
   {
    "duration": 88,
    "start_time": "2022-10-05T21:12:38.989Z"
   },
   {
    "duration": 14,
    "start_time": "2022-10-05T21:12:39.079Z"
   },
   {
    "duration": 0,
    "start_time": "2022-10-05T21:12:39.096Z"
   },
   {
    "duration": 0,
    "start_time": "2022-10-05T21:12:39.097Z"
   },
   {
    "duration": 11,
    "start_time": "2022-10-05T21:14:29.417Z"
   },
   {
    "duration": 18,
    "start_time": "2022-10-05T21:14:30.298Z"
   },
   {
    "duration": 69,
    "start_time": "2022-10-05T21:14:30.843Z"
   },
   {
    "duration": 43,
    "start_time": "2022-10-05T21:14:31.298Z"
   },
   {
    "duration": 45,
    "start_time": "2022-10-05T21:14:31.709Z"
   },
   {
    "duration": 58,
    "start_time": "2022-10-05T21:14:34.314Z"
   },
   {
    "duration": 113,
    "start_time": "2022-10-05T21:14:41.781Z"
   },
   {
    "duration": 81,
    "start_time": "2022-10-05T21:14:45.401Z"
   },
   {
    "duration": 45,
    "start_time": "2022-10-05T21:16:01.300Z"
   },
   {
    "duration": 113,
    "start_time": "2022-10-05T21:16:13.362Z"
   },
   {
    "duration": 5027,
    "start_time": "2022-10-05T21:17:12.399Z"
   },
   {
    "duration": 11779,
    "start_time": "2022-10-05T21:19:51.743Z"
   },
   {
    "duration": 4,
    "start_time": "2022-10-05T21:20:36.876Z"
   },
   {
    "duration": 4586,
    "start_time": "2022-10-05T21:22:25.146Z"
   },
   {
    "duration": 11,
    "start_time": "2022-10-05T21:27:21.075Z"
   },
   {
    "duration": 4,
    "start_time": "2022-10-05T21:27:44.994Z"
   },
   {
    "duration": 94,
    "start_time": "2022-10-05T21:27:53.190Z"
   },
   {
    "duration": 85,
    "start_time": "2022-10-05T21:28:04.597Z"
   },
   {
    "duration": 649,
    "start_time": "2022-10-05T21:28:34.441Z"
   },
   {
    "duration": 12,
    "start_time": "2022-10-05T21:32:17.727Z"
   },
   {
    "duration": 43,
    "start_time": "2022-10-05T21:35:04.945Z"
   },
   {
    "duration": 707,
    "start_time": "2022-10-05T21:35:22.383Z"
   },
   {
    "duration": 688,
    "start_time": "2022-10-05T21:36:01.628Z"
   },
   {
    "duration": 700,
    "start_time": "2022-10-05T21:36:53.835Z"
   },
   {
    "duration": 58,
    "start_time": "2022-10-05T21:42:14.796Z"
   },
   {
    "duration": 742,
    "start_time": "2022-10-05T21:42:41.084Z"
   },
   {
    "duration": 5,
    "start_time": "2022-10-05T21:42:48.973Z"
   },
   {
    "duration": 757,
    "start_time": "2022-10-05T21:42:49.359Z"
   },
   {
    "duration": 616,
    "start_time": "2022-10-05T21:43:01.467Z"
   },
   {
    "duration": 88,
    "start_time": "2022-10-05T21:52:03.959Z"
   },
   {
    "duration": 11,
    "start_time": "2022-10-05T21:53:27.260Z"
   },
   {
    "duration": 10,
    "start_time": "2022-10-05T21:53:32.472Z"
   },
   {
    "duration": 41,
    "start_time": "2022-10-05T21:53:51.872Z"
   },
   {
    "duration": 4,
    "start_time": "2022-10-05T21:54:19.314Z"
   },
   {
    "duration": 1420,
    "start_time": "2022-10-05T21:54:25.385Z"
   },
   {
    "duration": 828,
    "start_time": "2022-10-05T21:54:26.807Z"
   },
   {
    "duration": 130,
    "start_time": "2022-10-05T21:54:27.636Z"
   },
   {
    "duration": 24,
    "start_time": "2022-10-05T21:54:27.768Z"
   },
   {
    "duration": 134,
    "start_time": "2022-10-05T21:54:27.793Z"
   },
   {
    "duration": 187,
    "start_time": "2022-10-05T21:54:27.929Z"
   },
   {
    "duration": 117,
    "start_time": "2022-10-05T21:54:28.120Z"
   },
   {
    "duration": 226,
    "start_time": "2022-10-05T21:54:28.239Z"
   },
   {
    "duration": 18,
    "start_time": "2022-10-05T21:54:28.467Z"
   },
   {
    "duration": 177,
    "start_time": "2022-10-05T21:54:28.488Z"
   },
   {
    "duration": 165,
    "start_time": "2022-10-05T21:54:28.667Z"
   },
   {
    "duration": 22,
    "start_time": "2022-10-05T21:54:28.834Z"
   },
   {
    "duration": 237,
    "start_time": "2022-10-05T21:54:28.858Z"
   },
   {
    "duration": 167,
    "start_time": "2022-10-05T21:54:29.097Z"
   },
   {
    "duration": 20,
    "start_time": "2022-10-05T21:54:29.266Z"
   },
   {
    "duration": 291,
    "start_time": "2022-10-05T21:54:29.288Z"
   },
   {
    "duration": 240,
    "start_time": "2022-10-05T21:54:29.581Z"
   },
   {
    "duration": 19,
    "start_time": "2022-10-05T21:54:29.823Z"
   },
   {
    "duration": 128,
    "start_time": "2022-10-05T21:54:29.844Z"
   },
   {
    "duration": 163,
    "start_time": "2022-10-05T21:54:29.974Z"
   },
   {
    "duration": 246,
    "start_time": "2022-10-05T21:54:30.139Z"
   },
   {
    "duration": 71,
    "start_time": "2022-10-05T21:54:30.387Z"
   },
   {
    "duration": 43,
    "start_time": "2022-10-05T21:54:30.460Z"
   },
   {
    "duration": 30,
    "start_time": "2022-10-05T21:54:30.505Z"
   },
   {
    "duration": 72,
    "start_time": "2022-10-05T21:54:30.536Z"
   },
   {
    "duration": 41,
    "start_time": "2022-10-05T21:54:30.610Z"
   },
   {
    "duration": 29,
    "start_time": "2022-10-05T21:54:30.653Z"
   },
   {
    "duration": 40,
    "start_time": "2022-10-05T21:54:30.686Z"
   },
   {
    "duration": 47,
    "start_time": "2022-10-05T21:54:30.728Z"
   },
   {
    "duration": 252,
    "start_time": "2022-10-05T21:54:30.777Z"
   },
   {
    "duration": 200,
    "start_time": "2022-10-05T21:54:31.031Z"
   },
   {
    "duration": 109,
    "start_time": "2022-10-05T21:54:31.233Z"
   },
   {
    "duration": 34,
    "start_time": "2022-10-05T21:54:31.344Z"
   },
   {
    "duration": 41,
    "start_time": "2022-10-05T21:54:31.380Z"
   },
   {
    "duration": 7,
    "start_time": "2022-10-05T21:54:31.422Z"
   },
   {
    "duration": 82,
    "start_time": "2022-10-05T21:54:31.430Z"
   },
   {
    "duration": 201,
    "start_time": "2022-10-05T21:54:31.520Z"
   },
   {
    "duration": 86,
    "start_time": "2022-10-05T21:54:31.723Z"
   },
   {
    "duration": 51,
    "start_time": "2022-10-05T21:54:31.824Z"
   },
   {
    "duration": 58,
    "start_time": "2022-10-05T21:54:31.877Z"
   },
   {
    "duration": 49,
    "start_time": "2022-10-05T21:54:31.937Z"
   },
   {
    "duration": 5,
    "start_time": "2022-10-05T21:54:31.987Z"
   },
   {
    "duration": 29,
    "start_time": "2022-10-05T21:54:31.993Z"
   },
   {
    "duration": 35,
    "start_time": "2022-10-05T21:54:32.024Z"
   },
   {
    "duration": 31,
    "start_time": "2022-10-05T21:54:32.061Z"
   },
   {
    "duration": 52,
    "start_time": "2022-10-05T21:54:32.093Z"
   },
   {
    "duration": 26,
    "start_time": "2022-10-05T21:54:32.147Z"
   },
   {
    "duration": 17,
    "start_time": "2022-10-05T21:54:32.175Z"
   },
   {
    "duration": 67,
    "start_time": "2022-10-05T21:54:32.193Z"
   },
   {
    "duration": 18,
    "start_time": "2022-10-05T21:54:32.262Z"
   },
   {
    "duration": 89,
    "start_time": "2022-10-05T21:54:32.282Z"
   },
   {
    "duration": 54,
    "start_time": "2022-10-05T21:54:32.372Z"
   },
   {
    "duration": 78,
    "start_time": "2022-10-05T21:54:32.428Z"
   },
   {
    "duration": 71,
    "start_time": "2022-10-05T21:54:32.508Z"
   },
   {
    "duration": 237,
    "start_time": "2022-10-05T21:54:32.581Z"
   },
   {
    "duration": 11,
    "start_time": "2022-10-05T21:54:32.820Z"
   },
   {
    "duration": 0,
    "start_time": "2022-10-05T21:54:32.833Z"
   },
   {
    "duration": 0,
    "start_time": "2022-10-05T21:54:32.834Z"
   },
   {
    "duration": 0,
    "start_time": "2022-10-05T21:54:32.835Z"
   },
   {
    "duration": 0,
    "start_time": "2022-10-05T21:54:32.836Z"
   },
   {
    "duration": 0,
    "start_time": "2022-10-05T21:54:32.838Z"
   },
   {
    "duration": 65,
    "start_time": "2022-10-05T21:55:34.072Z"
   },
   {
    "duration": 72,
    "start_time": "2022-10-05T21:55:50.752Z"
   },
   {
    "duration": 28,
    "start_time": "2022-10-05T21:56:20.005Z"
   },
   {
    "duration": 4,
    "start_time": "2022-10-05T21:56:23.212Z"
   },
   {
    "duration": 24,
    "start_time": "2022-10-05T21:56:40.847Z"
   },
   {
    "duration": 1518,
    "start_time": "2022-10-05T21:57:07.947Z"
   },
   {
    "duration": 841,
    "start_time": "2022-10-05T21:57:09.468Z"
   },
   {
    "duration": 128,
    "start_time": "2022-10-05T21:57:10.311Z"
   },
   {
    "duration": 25,
    "start_time": "2022-10-05T21:57:10.442Z"
   },
   {
    "duration": 141,
    "start_time": "2022-10-05T21:57:10.469Z"
   },
   {
    "duration": 184,
    "start_time": "2022-10-05T21:57:10.612Z"
   },
   {
    "duration": 134,
    "start_time": "2022-10-05T21:57:10.798Z"
   },
   {
    "duration": 218,
    "start_time": "2022-10-05T21:57:10.933Z"
   },
   {
    "duration": 18,
    "start_time": "2022-10-05T21:57:11.153Z"
   },
   {
    "duration": 172,
    "start_time": "2022-10-05T21:57:11.174Z"
   },
   {
    "duration": 160,
    "start_time": "2022-10-05T21:57:11.348Z"
   },
   {
    "duration": 26,
    "start_time": "2022-10-05T21:57:11.509Z"
   },
   {
    "duration": 185,
    "start_time": "2022-10-05T21:57:11.537Z"
   },
   {
    "duration": 165,
    "start_time": "2022-10-05T21:57:11.724Z"
   },
   {
    "duration": 18,
    "start_time": "2022-10-05T21:57:11.891Z"
   },
   {
    "duration": 281,
    "start_time": "2022-10-05T21:57:11.911Z"
   },
   {
    "duration": 232,
    "start_time": "2022-10-05T21:57:12.193Z"
   },
   {
    "duration": 18,
    "start_time": "2022-10-05T21:57:12.427Z"
   },
   {
    "duration": 129,
    "start_time": "2022-10-05T21:57:12.447Z"
   },
   {
    "duration": 164,
    "start_time": "2022-10-05T21:57:12.578Z"
   },
   {
    "duration": 216,
    "start_time": "2022-10-05T21:57:12.744Z"
   },
   {
    "duration": 60,
    "start_time": "2022-10-05T21:57:12.962Z"
   },
   {
    "duration": 43,
    "start_time": "2022-10-05T21:57:13.024Z"
   },
   {
    "duration": 18,
    "start_time": "2022-10-05T21:57:13.069Z"
   },
   {
    "duration": 61,
    "start_time": "2022-10-05T21:57:13.088Z"
   },
   {
    "duration": 23,
    "start_time": "2022-10-05T21:57:13.151Z"
   },
   {
    "duration": 6,
    "start_time": "2022-10-05T21:57:13.176Z"
   },
   {
    "duration": 4,
    "start_time": "2022-10-05T21:57:13.187Z"
   },
   {
    "duration": 46,
    "start_time": "2022-10-05T21:57:13.193Z"
   },
   {
    "duration": 251,
    "start_time": "2022-10-05T21:57:13.240Z"
   },
   {
    "duration": 201,
    "start_time": "2022-10-05T21:57:13.493Z"
   },
   {
    "duration": 109,
    "start_time": "2022-10-05T21:57:13.696Z"
   },
   {
    "duration": 47,
    "start_time": "2022-10-05T21:57:13.807Z"
   },
   {
    "duration": 13,
    "start_time": "2022-10-05T21:57:13.856Z"
   },
   {
    "duration": 6,
    "start_time": "2022-10-05T21:57:13.871Z"
   },
   {
    "duration": 100,
    "start_time": "2022-10-05T21:57:13.879Z"
   },
   {
    "duration": 211,
    "start_time": "2022-10-05T21:57:13.981Z"
   },
   {
    "duration": 94,
    "start_time": "2022-10-05T21:57:14.194Z"
   },
   {
    "duration": 49,
    "start_time": "2022-10-05T21:57:14.290Z"
   },
   {
    "duration": 56,
    "start_time": "2022-10-05T21:57:14.340Z"
   },
   {
    "duration": 60,
    "start_time": "2022-10-05T21:57:14.397Z"
   },
   {
    "duration": 4,
    "start_time": "2022-10-05T21:57:14.459Z"
   },
   {
    "duration": 9,
    "start_time": "2022-10-05T21:57:14.465Z"
   },
   {
    "duration": 50,
    "start_time": "2022-10-05T21:57:14.476Z"
   },
   {
    "duration": 28,
    "start_time": "2022-10-05T21:57:14.528Z"
   },
   {
    "duration": 28,
    "start_time": "2022-10-05T21:57:14.557Z"
   },
   {
    "duration": 44,
    "start_time": "2022-10-05T21:57:14.587Z"
   },
   {
    "duration": 16,
    "start_time": "2022-10-05T21:57:14.633Z"
   },
   {
    "duration": 50,
    "start_time": "2022-10-05T21:57:14.651Z"
   },
   {
    "duration": 33,
    "start_time": "2022-10-05T21:57:14.702Z"
   },
   {
    "duration": 89,
    "start_time": "2022-10-05T21:57:14.737Z"
   },
   {
    "duration": 49,
    "start_time": "2022-10-05T21:57:14.827Z"
   },
   {
    "duration": 90,
    "start_time": "2022-10-05T21:57:14.878Z"
   },
   {
    "duration": 69,
    "start_time": "2022-10-05T21:57:14.970Z"
   },
   {
    "duration": 4,
    "start_time": "2022-10-05T21:57:15.041Z"
   },
   {
    "duration": 227,
    "start_time": "2022-10-05T21:57:15.047Z"
   },
   {
    "duration": 0,
    "start_time": "2022-10-05T21:57:15.276Z"
   },
   {
    "duration": 0,
    "start_time": "2022-10-05T21:57:15.277Z"
   },
   {
    "duration": 0,
    "start_time": "2022-10-05T21:57:15.278Z"
   },
   {
    "duration": 0,
    "start_time": "2022-10-05T21:57:15.279Z"
   },
   {
    "duration": 0,
    "start_time": "2022-10-05T21:57:15.280Z"
   },
   {
    "duration": 0,
    "start_time": "2022-10-05T21:57:15.281Z"
   },
   {
    "duration": 18,
    "start_time": "2022-10-05T21:58:52.997Z"
   },
   {
    "duration": 20,
    "start_time": "2022-10-05T21:59:18.515Z"
   },
   {
    "duration": 12,
    "start_time": "2022-10-05T22:01:51.854Z"
   },
   {
    "duration": 4,
    "start_time": "2022-10-05T22:02:16.481Z"
   },
   {
    "duration": 106,
    "start_time": "2022-10-05T22:03:42.574Z"
   },
   {
    "duration": 277,
    "start_time": "2022-10-05T22:04:23.651Z"
   },
   {
    "duration": 2197,
    "start_time": "2022-10-05T22:05:43.147Z"
   },
   {
    "duration": 916,
    "start_time": "2022-10-05T22:05:58.792Z"
   },
   {
    "duration": 41,
    "start_time": "2022-10-05T22:06:01.454Z"
   },
   {
    "duration": 966,
    "start_time": "2022-10-06T09:13:43.836Z"
   },
   {
    "duration": 1719,
    "start_time": "2022-10-06T09:13:55.182Z"
   },
   {
    "duration": 2969,
    "start_time": "2022-10-06T09:13:56.904Z"
   },
   {
    "duration": 150,
    "start_time": "2022-10-06T09:13:59.875Z"
   },
   {
    "duration": 28,
    "start_time": "2022-10-06T09:14:00.028Z"
   },
   {
    "duration": 159,
    "start_time": "2022-10-06T09:14:00.058Z"
   },
   {
    "duration": 204,
    "start_time": "2022-10-06T09:14:00.219Z"
   },
   {
    "duration": 146,
    "start_time": "2022-10-06T09:14:00.425Z"
   },
   {
    "duration": 227,
    "start_time": "2022-10-06T09:14:00.573Z"
   },
   {
    "duration": 19,
    "start_time": "2022-10-06T09:14:00.802Z"
   },
   {
    "duration": 178,
    "start_time": "2022-10-06T09:14:00.825Z"
   },
   {
    "duration": 168,
    "start_time": "2022-10-06T09:14:01.005Z"
   },
   {
    "duration": 24,
    "start_time": "2022-10-06T09:14:01.175Z"
   },
   {
    "duration": 182,
    "start_time": "2022-10-06T09:14:01.201Z"
   },
   {
    "duration": 166,
    "start_time": "2022-10-06T09:14:01.388Z"
   },
   {
    "duration": 18,
    "start_time": "2022-10-06T09:14:01.556Z"
   },
   {
    "duration": 293,
    "start_time": "2022-10-06T09:14:01.589Z"
   },
   {
    "duration": 318,
    "start_time": "2022-10-06T09:14:01.884Z"
   },
   {
    "duration": 20,
    "start_time": "2022-10-06T09:14:02.204Z"
   },
   {
    "duration": 129,
    "start_time": "2022-10-06T09:14:02.226Z"
   },
   {
    "duration": 164,
    "start_time": "2022-10-06T09:14:02.357Z"
   },
   {
    "duration": 237,
    "start_time": "2022-10-06T09:14:02.523Z"
   },
   {
    "duration": 57,
    "start_time": "2022-10-06T09:14:02.762Z"
   },
   {
    "duration": 41,
    "start_time": "2022-10-06T09:14:02.821Z"
   },
   {
    "duration": 33,
    "start_time": "2022-10-06T09:14:02.864Z"
   },
   {
    "duration": 42,
    "start_time": "2022-10-06T09:14:02.899Z"
   },
   {
    "duration": 50,
    "start_time": "2022-10-06T09:14:02.943Z"
   },
   {
    "duration": 6,
    "start_time": "2022-10-06T09:14:02.995Z"
   },
   {
    "duration": 4,
    "start_time": "2022-10-06T09:14:03.005Z"
   },
   {
    "duration": 26,
    "start_time": "2022-10-06T09:14:03.011Z"
   },
   {
    "duration": 271,
    "start_time": "2022-10-06T09:14:03.038Z"
   },
   {
    "duration": 222,
    "start_time": "2022-10-06T09:14:03.310Z"
   },
   {
    "duration": 132,
    "start_time": "2022-10-06T09:14:03.534Z"
   },
   {
    "duration": 40,
    "start_time": "2022-10-06T09:14:03.668Z"
   },
   {
    "duration": 13,
    "start_time": "2022-10-06T09:14:03.710Z"
   },
   {
    "duration": 5,
    "start_time": "2022-10-06T09:14:03.726Z"
   },
   {
    "duration": 96,
    "start_time": "2022-10-06T09:14:03.733Z"
   },
   {
    "duration": 230,
    "start_time": "2022-10-06T09:14:03.831Z"
   },
   {
    "duration": 100,
    "start_time": "2022-10-06T09:14:04.063Z"
   },
   {
    "duration": 52,
    "start_time": "2022-10-06T09:14:04.165Z"
   },
   {
    "duration": 56,
    "start_time": "2022-10-06T09:14:04.219Z"
   },
   {
    "duration": 53,
    "start_time": "2022-10-06T09:14:04.290Z"
   },
   {
    "duration": 4,
    "start_time": "2022-10-06T09:14:04.345Z"
   },
   {
    "duration": 11,
    "start_time": "2022-10-06T09:14:04.350Z"
   },
   {
    "duration": 55,
    "start_time": "2022-10-06T09:14:04.362Z"
   },
   {
    "duration": 30,
    "start_time": "2022-10-06T09:14:04.419Z"
   },
   {
    "duration": 49,
    "start_time": "2022-10-06T09:14:04.451Z"
   },
   {
    "duration": 28,
    "start_time": "2022-10-06T09:14:04.502Z"
   },
   {
    "duration": 17,
    "start_time": "2022-10-06T09:14:04.532Z"
   },
   {
    "duration": 66,
    "start_time": "2022-10-06T09:14:04.551Z"
   },
   {
    "duration": 19,
    "start_time": "2022-10-06T09:14:04.619Z"
   },
   {
    "duration": 95,
    "start_time": "2022-10-06T09:14:04.640Z"
   },
   {
    "duration": 52,
    "start_time": "2022-10-06T09:14:04.737Z"
   },
   {
    "duration": 83,
    "start_time": "2022-10-06T09:14:04.791Z"
   },
   {
    "duration": 71,
    "start_time": "2022-10-06T09:14:04.876Z"
   },
   {
    "duration": 40,
    "start_time": "2022-10-06T09:14:04.949Z"
   },
   {
    "duration": 5,
    "start_time": "2022-10-06T09:14:04.991Z"
   },
   {
    "duration": 177,
    "start_time": "2022-10-06T09:14:04.998Z"
   },
   {
    "duration": 0,
    "start_time": "2022-10-06T09:14:05.177Z"
   },
   {
    "duration": 0,
    "start_time": "2022-10-06T09:14:05.178Z"
   },
   {
    "duration": 0,
    "start_time": "2022-10-06T09:14:05.189Z"
   },
   {
    "duration": 0,
    "start_time": "2022-10-06T09:14:05.190Z"
   },
   {
    "duration": 0,
    "start_time": "2022-10-06T09:14:05.192Z"
   },
   {
    "duration": 0,
    "start_time": "2022-10-06T09:14:05.193Z"
   },
   {
    "duration": 0,
    "start_time": "2022-10-06T09:14:05.194Z"
   },
   {
    "duration": 321,
    "start_time": "2022-10-06T09:14:46.998Z"
   },
   {
    "duration": 363,
    "start_time": "2022-10-06T09:15:36.429Z"
   },
   {
    "duration": 51,
    "start_time": "2022-10-06T09:15:39.158Z"
   },
   {
    "duration": 1097,
    "start_time": "2022-10-06T09:17:10.567Z"
   },
   {
    "duration": 40,
    "start_time": "2022-10-06T09:17:13.480Z"
   },
   {
    "duration": 1698,
    "start_time": "2022-10-06T09:17:41.836Z"
   },
   {
    "duration": 853,
    "start_time": "2022-10-06T09:17:43.536Z"
   },
   {
    "duration": 149,
    "start_time": "2022-10-06T09:17:44.391Z"
   },
   {
    "duration": 26,
    "start_time": "2022-10-06T09:17:44.542Z"
   },
   {
    "duration": 149,
    "start_time": "2022-10-06T09:17:44.570Z"
   },
   {
    "duration": 207,
    "start_time": "2022-10-06T09:17:44.721Z"
   },
   {
    "duration": 147,
    "start_time": "2022-10-06T09:17:44.929Z"
   },
   {
    "duration": 234,
    "start_time": "2022-10-06T09:17:45.078Z"
   },
   {
    "duration": 18,
    "start_time": "2022-10-06T09:17:45.314Z"
   },
   {
    "duration": 181,
    "start_time": "2022-10-06T09:17:45.334Z"
   },
   {
    "duration": 168,
    "start_time": "2022-10-06T09:17:45.516Z"
   },
   {
    "duration": 19,
    "start_time": "2022-10-06T09:17:45.686Z"
   },
   {
    "duration": 184,
    "start_time": "2022-10-06T09:17:45.707Z"
   },
   {
    "duration": 166,
    "start_time": "2022-10-06T09:17:45.892Z"
   },
   {
    "duration": 18,
    "start_time": "2022-10-06T09:17:46.060Z"
   },
   {
    "duration": 301,
    "start_time": "2022-10-06T09:17:46.079Z"
   },
   {
    "duration": 239,
    "start_time": "2022-10-06T09:17:46.388Z"
   },
   {
    "duration": 18,
    "start_time": "2022-10-06T09:17:46.629Z"
   },
   {
    "duration": 142,
    "start_time": "2022-10-06T09:17:46.649Z"
   },
   {
    "duration": 163,
    "start_time": "2022-10-06T09:17:46.793Z"
   },
   {
    "duration": 244,
    "start_time": "2022-10-06T09:17:46.958Z"
   },
   {
    "duration": 51,
    "start_time": "2022-10-06T09:17:47.205Z"
   },
   {
    "duration": 58,
    "start_time": "2022-10-06T09:17:47.258Z"
   },
   {
    "duration": 18,
    "start_time": "2022-10-06T09:17:47.318Z"
   },
   {
    "duration": 56,
    "start_time": "2022-10-06T09:17:47.338Z"
   },
   {
    "duration": 26,
    "start_time": "2022-10-06T09:17:47.396Z"
   },
   {
    "duration": 7,
    "start_time": "2022-10-06T09:17:47.424Z"
   },
   {
    "duration": 4,
    "start_time": "2022-10-06T09:17:47.435Z"
   },
   {
    "duration": 25,
    "start_time": "2022-10-06T09:17:47.440Z"
   },
   {
    "duration": 251,
    "start_time": "2022-10-06T09:17:47.489Z"
   },
   {
    "duration": 208,
    "start_time": "2022-10-06T09:17:47.742Z"
   },
   {
    "duration": 145,
    "start_time": "2022-10-06T09:17:47.952Z"
   },
   {
    "duration": 31,
    "start_time": "2022-10-06T09:17:48.099Z"
   },
   {
    "duration": 18,
    "start_time": "2022-10-06T09:17:48.132Z"
   },
   {
    "duration": 8,
    "start_time": "2022-10-06T09:17:48.152Z"
   },
   {
    "duration": 103,
    "start_time": "2022-10-06T09:17:48.162Z"
   },
   {
    "duration": 232,
    "start_time": "2022-10-06T09:17:48.267Z"
   },
   {
    "duration": 103,
    "start_time": "2022-10-06T09:17:48.501Z"
   },
   {
    "duration": 51,
    "start_time": "2022-10-06T09:17:48.606Z"
   },
   {
    "duration": 64,
    "start_time": "2022-10-06T09:17:48.659Z"
   },
   {
    "duration": 64,
    "start_time": "2022-10-06T09:17:48.725Z"
   },
   {
    "duration": 5,
    "start_time": "2022-10-06T09:17:48.791Z"
   },
   {
    "duration": 11,
    "start_time": "2022-10-06T09:17:48.798Z"
   },
   {
    "duration": 35,
    "start_time": "2022-10-06T09:17:48.811Z"
   },
   {
    "duration": 52,
    "start_time": "2022-10-06T09:17:48.847Z"
   },
   {
    "duration": 29,
    "start_time": "2022-10-06T09:17:48.901Z"
   },
   {
    "duration": 27,
    "start_time": "2022-10-06T09:17:48.932Z"
   },
   {
    "duration": 38,
    "start_time": "2022-10-06T09:17:48.961Z"
   },
   {
    "duration": 50,
    "start_time": "2022-10-06T09:17:49.000Z"
   },
   {
    "duration": 38,
    "start_time": "2022-10-06T09:17:49.052Z"
   },
   {
    "duration": 76,
    "start_time": "2022-10-06T09:17:49.091Z"
   },
   {
    "duration": 59,
    "start_time": "2022-10-06T09:17:49.169Z"
   },
   {
    "duration": 90,
    "start_time": "2022-10-06T09:17:49.230Z"
   },
   {
    "duration": 84,
    "start_time": "2022-10-06T09:17:49.322Z"
   },
   {
    "duration": 5,
    "start_time": "2022-10-06T09:17:49.408Z"
   },
   {
    "duration": 73,
    "start_time": "2022-10-06T09:17:49.417Z"
   },
   {
    "duration": 356,
    "start_time": "2022-10-06T09:17:49.493Z"
   },
   {
    "duration": 148,
    "start_time": "2022-10-06T09:17:49.851Z"
   },
   {
    "duration": 0,
    "start_time": "2022-10-06T09:17:50.001Z"
   },
   {
    "duration": 0,
    "start_time": "2022-10-06T09:17:50.002Z"
   },
   {
    "duration": 0,
    "start_time": "2022-10-06T09:17:50.004Z"
   },
   {
    "duration": 0,
    "start_time": "2022-10-06T09:17:50.005Z"
   },
   {
    "duration": 0,
    "start_time": "2022-10-06T09:17:50.006Z"
   },
   {
    "duration": 0,
    "start_time": "2022-10-06T09:17:50.008Z"
   },
   {
    "duration": 111,
    "start_time": "2022-10-06T09:20:51.342Z"
   },
   {
    "duration": 46,
    "start_time": "2022-10-06T09:20:53.959Z"
   },
   {
    "duration": 105,
    "start_time": "2022-10-06T09:22:54.500Z"
   },
   {
    "duration": 36,
    "start_time": "2022-10-06T09:22:58.860Z"
   },
   {
    "duration": 34,
    "start_time": "2022-10-06T09:25:43.747Z"
   },
   {
    "duration": 5,
    "start_time": "2022-10-06T09:27:19.188Z"
   },
   {
    "duration": 13,
    "start_time": "2022-10-06T09:28:48.147Z"
   },
   {
    "duration": 15,
    "start_time": "2022-10-06T09:28:57.983Z"
   },
   {
    "duration": 12,
    "start_time": "2022-10-06T09:29:15.936Z"
   },
   {
    "duration": 5,
    "start_time": "2022-10-06T09:29:27.234Z"
   },
   {
    "duration": 4,
    "start_time": "2022-10-06T09:29:30.565Z"
   },
   {
    "duration": 4,
    "start_time": "2022-10-06T09:29:31.169Z"
   },
   {
    "duration": 42,
    "start_time": "2022-10-06T09:29:37.787Z"
   },
   {
    "duration": 10,
    "start_time": "2022-10-06T09:31:11.860Z"
   },
   {
    "duration": 5,
    "start_time": "2022-10-06T09:31:21.966Z"
   },
   {
    "duration": 897,
    "start_time": "2022-10-06T09:32:14.893Z"
   },
   {
    "duration": 3,
    "start_time": "2022-10-06T09:34:23.813Z"
   },
   {
    "duration": 897,
    "start_time": "2022-10-06T09:34:26.116Z"
   },
   {
    "duration": 3,
    "start_time": "2022-10-06T09:43:17.377Z"
   },
   {
    "duration": 2,
    "start_time": "2022-10-06T09:43:19.103Z"
   },
   {
    "duration": 11,
    "start_time": "2022-10-06T09:43:36.047Z"
   },
   {
    "duration": 122,
    "start_time": "2022-10-06T09:43:44.520Z"
   },
   {
    "duration": 632,
    "start_time": "2022-10-06T09:43:51.253Z"
   },
   {
    "duration": 27,
    "start_time": "2022-10-06T09:44:02.310Z"
   },
   {
    "duration": 10,
    "start_time": "2022-10-06T09:49:00.984Z"
   },
   {
    "duration": 5,
    "start_time": "2022-10-06T09:49:32.584Z"
   },
   {
    "duration": 39,
    "start_time": "2022-10-06T09:49:39.424Z"
   },
   {
    "duration": 11,
    "start_time": "2022-10-06T09:49:42.823Z"
   },
   {
    "duration": 34,
    "start_time": "2022-10-06T09:49:58.501Z"
   },
   {
    "duration": 7,
    "start_time": "2022-10-06T09:50:05.011Z"
   },
   {
    "duration": 10,
    "start_time": "2022-10-06T09:50:15.583Z"
   },
   {
    "duration": 6,
    "start_time": "2022-10-06T09:57:29.546Z"
   },
   {
    "duration": 5,
    "start_time": "2022-10-06T09:57:44.076Z"
   },
   {
    "duration": 5,
    "start_time": "2022-10-06T09:57:57.655Z"
   },
   {
    "duration": 1558,
    "start_time": "2022-10-06T09:58:16.008Z"
   },
   {
    "duration": 910,
    "start_time": "2022-10-06T09:58:17.568Z"
   },
   {
    "duration": 159,
    "start_time": "2022-10-06T09:58:18.479Z"
   },
   {
    "duration": 24,
    "start_time": "2022-10-06T09:58:18.640Z"
   },
   {
    "duration": 159,
    "start_time": "2022-10-06T09:58:18.666Z"
   },
   {
    "duration": 212,
    "start_time": "2022-10-06T09:58:18.826Z"
   },
   {
    "duration": 145,
    "start_time": "2022-10-06T09:58:19.040Z"
   },
   {
    "duration": 232,
    "start_time": "2022-10-06T09:58:19.190Z"
   },
   {
    "duration": 24,
    "start_time": "2022-10-06T09:58:19.423Z"
   },
   {
    "duration": 174,
    "start_time": "2022-10-06T09:58:19.450Z"
   },
   {
    "duration": 157,
    "start_time": "2022-10-06T09:58:19.625Z"
   },
   {
    "duration": 21,
    "start_time": "2022-10-06T09:58:19.784Z"
   },
   {
    "duration": 186,
    "start_time": "2022-10-06T09:58:19.807Z"
   },
   {
    "duration": 173,
    "start_time": "2022-10-06T09:58:19.995Z"
   },
   {
    "duration": 29,
    "start_time": "2022-10-06T09:58:20.170Z"
   },
   {
    "duration": 316,
    "start_time": "2022-10-06T09:58:20.201Z"
   },
   {
    "duration": 258,
    "start_time": "2022-10-06T09:58:20.519Z"
   },
   {
    "duration": 25,
    "start_time": "2022-10-06T09:58:20.779Z"
   },
   {
    "duration": 140,
    "start_time": "2022-10-06T09:58:20.806Z"
   },
   {
    "duration": 175,
    "start_time": "2022-10-06T09:58:20.947Z"
   },
   {
    "duration": 242,
    "start_time": "2022-10-06T09:58:21.124Z"
   },
   {
    "duration": 62,
    "start_time": "2022-10-06T09:58:21.368Z"
   },
   {
    "duration": 42,
    "start_time": "2022-10-06T09:58:21.432Z"
   },
   {
    "duration": 28,
    "start_time": "2022-10-06T09:58:21.476Z"
   },
   {
    "duration": 41,
    "start_time": "2022-10-06T09:58:21.506Z"
   },
   {
    "duration": 47,
    "start_time": "2022-10-06T09:58:21.549Z"
   },
   {
    "duration": 6,
    "start_time": "2022-10-06T09:58:21.598Z"
   },
   {
    "duration": 23,
    "start_time": "2022-10-06T09:58:21.608Z"
   },
   {
    "duration": 37,
    "start_time": "2022-10-06T09:58:21.633Z"
   },
   {
    "duration": 319,
    "start_time": "2022-10-06T09:58:21.672Z"
   },
   {
    "duration": 263,
    "start_time": "2022-10-06T09:58:21.994Z"
   },
   {
    "duration": 137,
    "start_time": "2022-10-06T09:58:22.259Z"
   },
   {
    "duration": 33,
    "start_time": "2022-10-06T09:58:22.398Z"
   },
   {
    "duration": 2,
    "start_time": "2022-10-06T09:58:22.433Z"
   },
   {
    "duration": 9,
    "start_time": "2022-10-06T09:58:22.438Z"
   },
   {
    "duration": 146,
    "start_time": "2022-10-06T09:58:22.449Z"
   },
   {
    "duration": 0,
    "start_time": "2022-10-06T09:58:22.597Z"
   },
   {
    "duration": 0,
    "start_time": "2022-10-06T09:58:22.598Z"
   },
   {
    "duration": 0,
    "start_time": "2022-10-06T09:58:22.599Z"
   },
   {
    "duration": 0,
    "start_time": "2022-10-06T09:58:22.600Z"
   },
   {
    "duration": 0,
    "start_time": "2022-10-06T09:58:22.601Z"
   },
   {
    "duration": 0,
    "start_time": "2022-10-06T09:58:22.602Z"
   },
   {
    "duration": 0,
    "start_time": "2022-10-06T09:58:22.603Z"
   },
   {
    "duration": 0,
    "start_time": "2022-10-06T09:58:22.605Z"
   },
   {
    "duration": 0,
    "start_time": "2022-10-06T09:58:22.606Z"
   },
   {
    "duration": 0,
    "start_time": "2022-10-06T09:58:22.606Z"
   },
   {
    "duration": 0,
    "start_time": "2022-10-06T09:58:22.608Z"
   },
   {
    "duration": 0,
    "start_time": "2022-10-06T09:58:22.609Z"
   },
   {
    "duration": 0,
    "start_time": "2022-10-06T09:58:22.610Z"
   },
   {
    "duration": 0,
    "start_time": "2022-10-06T09:58:22.611Z"
   },
   {
    "duration": 0,
    "start_time": "2022-10-06T09:58:22.612Z"
   },
   {
    "duration": 0,
    "start_time": "2022-10-06T09:58:22.615Z"
   },
   {
    "duration": 0,
    "start_time": "2022-10-06T09:58:22.616Z"
   },
   {
    "duration": 0,
    "start_time": "2022-10-06T09:58:22.617Z"
   },
   {
    "duration": 0,
    "start_time": "2022-10-06T09:58:22.618Z"
   },
   {
    "duration": 0,
    "start_time": "2022-10-06T09:58:22.619Z"
   },
   {
    "duration": 0,
    "start_time": "2022-10-06T09:58:22.620Z"
   },
   {
    "duration": 0,
    "start_time": "2022-10-06T09:58:22.621Z"
   },
   {
    "duration": 0,
    "start_time": "2022-10-06T09:58:22.622Z"
   },
   {
    "duration": 0,
    "start_time": "2022-10-06T09:58:22.624Z"
   },
   {
    "duration": 0,
    "start_time": "2022-10-06T09:58:22.625Z"
   },
   {
    "duration": 0,
    "start_time": "2022-10-06T09:58:22.626Z"
   },
   {
    "duration": 1,
    "start_time": "2022-10-06T09:58:22.627Z"
   },
   {
    "duration": 0,
    "start_time": "2022-10-06T09:58:22.628Z"
   },
   {
    "duration": 0,
    "start_time": "2022-10-06T09:58:22.630Z"
   },
   {
    "duration": 1487,
    "start_time": "2022-10-06T09:58:56.524Z"
   },
   {
    "duration": 909,
    "start_time": "2022-10-06T09:58:58.013Z"
   },
   {
    "duration": 149,
    "start_time": "2022-10-06T09:58:58.924Z"
   },
   {
    "duration": 32,
    "start_time": "2022-10-06T09:58:59.075Z"
   },
   {
    "duration": 147,
    "start_time": "2022-10-06T09:58:59.109Z"
   },
   {
    "duration": 215,
    "start_time": "2022-10-06T09:58:59.258Z"
   },
   {
    "duration": 144,
    "start_time": "2022-10-06T09:58:59.475Z"
   },
   {
    "duration": 221,
    "start_time": "2022-10-06T09:58:59.621Z"
   },
   {
    "duration": 18,
    "start_time": "2022-10-06T09:58:59.844Z"
   },
   {
    "duration": 173,
    "start_time": "2022-10-06T09:58:59.865Z"
   },
   {
    "duration": 160,
    "start_time": "2022-10-06T09:59:00.040Z"
   },
   {
    "duration": 18,
    "start_time": "2022-10-06T09:59:00.202Z"
   },
   {
    "duration": 199,
    "start_time": "2022-10-06T09:59:00.222Z"
   },
   {
    "duration": 159,
    "start_time": "2022-10-06T09:59:00.423Z"
   },
   {
    "duration": 21,
    "start_time": "2022-10-06T09:59:00.584Z"
   },
   {
    "duration": 313,
    "start_time": "2022-10-06T09:59:00.607Z"
   },
   {
    "duration": 254,
    "start_time": "2022-10-06T09:59:00.921Z"
   },
   {
    "duration": 22,
    "start_time": "2022-10-06T09:59:01.177Z"
   },
   {
    "duration": 127,
    "start_time": "2022-10-06T09:59:01.201Z"
   },
   {
    "duration": 165,
    "start_time": "2022-10-06T09:59:01.330Z"
   },
   {
    "duration": 231,
    "start_time": "2022-10-06T09:59:01.496Z"
   },
   {
    "duration": 60,
    "start_time": "2022-10-06T09:59:01.729Z"
   },
   {
    "duration": 46,
    "start_time": "2022-10-06T09:59:01.791Z"
   },
   {
    "duration": 20,
    "start_time": "2022-10-06T09:59:01.840Z"
   },
   {
    "duration": 73,
    "start_time": "2022-10-06T09:59:01.863Z"
   },
   {
    "duration": 33,
    "start_time": "2022-10-06T09:59:01.938Z"
   },
   {
    "duration": 8,
    "start_time": "2022-10-06T09:59:01.989Z"
   },
   {
    "duration": 10,
    "start_time": "2022-10-06T09:59:02.002Z"
   },
   {
    "duration": 57,
    "start_time": "2022-10-06T09:59:02.014Z"
   },
   {
    "duration": 277,
    "start_time": "2022-10-06T09:59:02.073Z"
   },
   {
    "duration": 199,
    "start_time": "2022-10-06T09:59:02.352Z"
   },
   {
    "duration": 138,
    "start_time": "2022-10-06T09:59:02.552Z"
   },
   {
    "duration": 32,
    "start_time": "2022-10-06T09:59:02.692Z"
   },
   {
    "duration": 2,
    "start_time": "2022-10-06T09:59:02.726Z"
   },
   {
    "duration": 6,
    "start_time": "2022-10-06T09:59:02.730Z"
   },
   {
    "duration": 8,
    "start_time": "2022-10-06T09:59:02.738Z"
   },
   {
    "duration": 78,
    "start_time": "2022-10-06T09:59:02.748Z"
   },
   {
    "duration": 219,
    "start_time": "2022-10-06T09:59:02.828Z"
   },
   {
    "duration": 91,
    "start_time": "2022-10-06T09:59:03.049Z"
   },
   {
    "duration": 55,
    "start_time": "2022-10-06T09:59:03.141Z"
   },
   {
    "duration": 53,
    "start_time": "2022-10-06T09:59:03.198Z"
   },
   {
    "duration": 72,
    "start_time": "2022-10-06T09:59:03.253Z"
   },
   {
    "duration": 5,
    "start_time": "2022-10-06T09:59:03.327Z"
   },
   {
    "duration": 12,
    "start_time": "2022-10-06T09:59:03.334Z"
   },
   {
    "duration": 71,
    "start_time": "2022-10-06T09:59:03.348Z"
   },
   {
    "duration": 31,
    "start_time": "2022-10-06T09:59:03.421Z"
   },
   {
    "duration": 42,
    "start_time": "2022-10-06T09:59:03.454Z"
   },
   {
    "duration": 27,
    "start_time": "2022-10-06T09:59:03.498Z"
   },
   {
    "duration": 21,
    "start_time": "2022-10-06T09:59:03.526Z"
   },
   {
    "duration": 60,
    "start_time": "2022-10-06T09:59:03.548Z"
   },
   {
    "duration": 18,
    "start_time": "2022-10-06T09:59:03.610Z"
   },
   {
    "duration": 86,
    "start_time": "2022-10-06T09:59:03.629Z"
   },
   {
    "duration": 45,
    "start_time": "2022-10-06T09:59:03.717Z"
   },
   {
    "duration": 94,
    "start_time": "2022-10-06T09:59:03.764Z"
   },
   {
    "duration": 67,
    "start_time": "2022-10-06T09:59:03.860Z"
   },
   {
    "duration": 3,
    "start_time": "2022-10-06T09:59:03.930Z"
   },
   {
    "duration": 1417,
    "start_time": "2022-10-06T09:59:03.936Z"
   },
   {
    "duration": 6,
    "start_time": "2022-10-06T09:59:05.355Z"
   },
   {
    "duration": 9,
    "start_time": "2022-10-06T09:59:05.363Z"
   },
   {
    "duration": 32,
    "start_time": "2022-10-06T09:59:05.374Z"
   },
   {
    "duration": 0,
    "start_time": "2022-10-06T09:59:05.408Z"
   },
   {
    "duration": 0,
    "start_time": "2022-10-06T09:59:05.410Z"
   },
   {
    "duration": 0,
    "start_time": "2022-10-06T09:59:05.411Z"
   },
   {
    "duration": 0,
    "start_time": "2022-10-06T09:59:05.413Z"
   },
   {
    "duration": 96,
    "start_time": "2022-10-06T10:00:23.305Z"
   },
   {
    "duration": 6,
    "start_time": "2022-10-06T10:01:34.652Z"
   },
   {
    "duration": 1600,
    "start_time": "2022-10-06T10:01:49.467Z"
   },
   {
    "duration": 897,
    "start_time": "2022-10-06T10:01:51.069Z"
   },
   {
    "duration": 187,
    "start_time": "2022-10-06T10:01:51.968Z"
   },
   {
    "duration": 33,
    "start_time": "2022-10-06T10:01:52.158Z"
   },
   {
    "duration": 142,
    "start_time": "2022-10-06T10:01:52.193Z"
   },
   {
    "duration": 206,
    "start_time": "2022-10-06T10:01:52.337Z"
   },
   {
    "duration": 139,
    "start_time": "2022-10-06T10:01:52.545Z"
   },
   {
    "duration": 231,
    "start_time": "2022-10-06T10:01:52.688Z"
   },
   {
    "duration": 18,
    "start_time": "2022-10-06T10:01:52.920Z"
   },
   {
    "duration": 172,
    "start_time": "2022-10-06T10:01:52.941Z"
   },
   {
    "duration": 165,
    "start_time": "2022-10-06T10:01:53.115Z"
   },
   {
    "duration": 23,
    "start_time": "2022-10-06T10:01:53.282Z"
   },
   {
    "duration": 184,
    "start_time": "2022-10-06T10:01:53.307Z"
   },
   {
    "duration": 170,
    "start_time": "2022-10-06T10:01:53.492Z"
   },
   {
    "duration": 18,
    "start_time": "2022-10-06T10:01:53.664Z"
   },
   {
    "duration": 281,
    "start_time": "2022-10-06T10:01:53.690Z"
   },
   {
    "duration": 246,
    "start_time": "2022-10-06T10:01:53.973Z"
   },
   {
    "duration": 19,
    "start_time": "2022-10-06T10:01:54.221Z"
   },
   {
    "duration": 133,
    "start_time": "2022-10-06T10:01:54.242Z"
   },
   {
    "duration": 154,
    "start_time": "2022-10-06T10:01:54.377Z"
   },
   {
    "duration": 257,
    "start_time": "2022-10-06T10:01:54.533Z"
   },
   {
    "duration": 52,
    "start_time": "2022-10-06T10:01:54.792Z"
   },
   {
    "duration": 62,
    "start_time": "2022-10-06T10:01:54.846Z"
   },
   {
    "duration": 19,
    "start_time": "2022-10-06T10:01:54.909Z"
   },
   {
    "duration": 61,
    "start_time": "2022-10-06T10:01:54.930Z"
   },
   {
    "duration": 26,
    "start_time": "2022-10-06T10:01:54.993Z"
   },
   {
    "duration": 6,
    "start_time": "2022-10-06T10:01:55.021Z"
   },
   {
    "duration": 5,
    "start_time": "2022-10-06T10:01:55.032Z"
   },
   {
    "duration": 52,
    "start_time": "2022-10-06T10:01:55.039Z"
   },
   {
    "duration": 279,
    "start_time": "2022-10-06T10:01:55.093Z"
   },
   {
    "duration": 233,
    "start_time": "2022-10-06T10:01:55.374Z"
   },
   {
    "duration": 136,
    "start_time": "2022-10-06T10:01:55.609Z"
   },
   {
    "duration": 53,
    "start_time": "2022-10-06T10:01:55.748Z"
   },
   {
    "duration": 3,
    "start_time": "2022-10-06T10:01:55.803Z"
   },
   {
    "duration": 12,
    "start_time": "2022-10-06T10:01:55.808Z"
   },
   {
    "duration": 13,
    "start_time": "2022-10-06T10:01:55.822Z"
   },
   {
    "duration": 120,
    "start_time": "2022-10-06T10:01:55.837Z"
   },
   {
    "duration": 71,
    "start_time": "2022-10-06T10:01:55.959Z"
   },
   {
    "duration": 237,
    "start_time": "2022-10-06T10:01:56.032Z"
   },
   {
    "duration": 136,
    "start_time": "2022-10-06T10:01:56.270Z"
   },
   {
    "duration": 52,
    "start_time": "2022-10-06T10:01:56.408Z"
   },
   {
    "duration": 87,
    "start_time": "2022-10-06T10:01:56.463Z"
   },
   {
    "duration": 84,
    "start_time": "2022-10-06T10:01:56.552Z"
   },
   {
    "duration": 5,
    "start_time": "2022-10-06T10:01:56.638Z"
   },
   {
    "duration": 31,
    "start_time": "2022-10-06T10:01:56.644Z"
   },
   {
    "duration": 44,
    "start_time": "2022-10-06T10:01:56.677Z"
   },
   {
    "duration": 37,
    "start_time": "2022-10-06T10:01:56.722Z"
   },
   {
    "duration": 50,
    "start_time": "2022-10-06T10:01:56.761Z"
   },
   {
    "duration": 31,
    "start_time": "2022-10-06T10:01:56.812Z"
   },
   {
    "duration": 22,
    "start_time": "2022-10-06T10:01:56.845Z"
   },
   {
    "duration": 58,
    "start_time": "2022-10-06T10:01:56.869Z"
   },
   {
    "duration": 20,
    "start_time": "2022-10-06T10:01:56.929Z"
   },
   {
    "duration": 97,
    "start_time": "2022-10-06T10:01:56.950Z"
   },
   {
    "duration": 75,
    "start_time": "2022-10-06T10:01:57.049Z"
   },
   {
    "duration": 87,
    "start_time": "2022-10-06T10:01:57.126Z"
   },
   {
    "duration": 84,
    "start_time": "2022-10-06T10:01:57.215Z"
   },
   {
    "duration": 4,
    "start_time": "2022-10-06T10:01:57.301Z"
   },
   {
    "duration": 1430,
    "start_time": "2022-10-06T10:01:57.308Z"
   },
   {
    "duration": 5,
    "start_time": "2022-10-06T10:01:58.739Z"
   },
   {
    "duration": 20,
    "start_time": "2022-10-06T10:01:58.745Z"
   },
   {
    "duration": 38,
    "start_time": "2022-10-06T10:01:58.766Z"
   },
   {
    "duration": 0,
    "start_time": "2022-10-06T10:01:58.806Z"
   },
   {
    "duration": 0,
    "start_time": "2022-10-06T10:01:58.808Z"
   },
   {
    "duration": 0,
    "start_time": "2022-10-06T10:01:58.809Z"
   },
   {
    "duration": 0,
    "start_time": "2022-10-06T10:01:58.811Z"
   },
   {
    "duration": 11,
    "start_time": "2022-10-06T10:03:26.383Z"
   },
   {
    "duration": 20,
    "start_time": "2022-10-06T10:03:30.808Z"
   },
   {
    "duration": 13,
    "start_time": "2022-10-06T10:03:31.361Z"
   },
   {
    "duration": 110,
    "start_time": "2022-10-06T10:03:31.810Z"
   },
   {
    "duration": 1469,
    "start_time": "2022-10-06T10:04:11.738Z"
   },
   {
    "duration": 88,
    "start_time": "2022-10-06T10:04:49.997Z"
   },
   {
    "duration": 641,
    "start_time": "2022-10-06T10:10:23.597Z"
   },
   {
    "duration": 18,
    "start_time": "2022-10-06T10:10:35.471Z"
   },
   {
    "duration": 1860,
    "start_time": "2022-10-06T10:11:17.426Z"
   },
   {
    "duration": 978,
    "start_time": "2022-10-06T10:11:19.288Z"
   },
   {
    "duration": 156,
    "start_time": "2022-10-06T10:11:20.268Z"
   },
   {
    "duration": 29,
    "start_time": "2022-10-06T10:11:20.426Z"
   },
   {
    "duration": 155,
    "start_time": "2022-10-06T10:11:20.457Z"
   },
   {
    "duration": 218,
    "start_time": "2022-10-06T10:11:20.614Z"
   },
   {
    "duration": 143,
    "start_time": "2022-10-06T10:11:20.834Z"
   },
   {
    "duration": 219,
    "start_time": "2022-10-06T10:11:20.978Z"
   },
   {
    "duration": 18,
    "start_time": "2022-10-06T10:11:21.199Z"
   },
   {
    "duration": 183,
    "start_time": "2022-10-06T10:11:21.220Z"
   },
   {
    "duration": 169,
    "start_time": "2022-10-06T10:11:21.405Z"
   },
   {
    "duration": 23,
    "start_time": "2022-10-06T10:11:21.576Z"
   },
   {
    "duration": 184,
    "start_time": "2022-10-06T10:11:21.602Z"
   },
   {
    "duration": 193,
    "start_time": "2022-10-06T10:11:21.788Z"
   },
   {
    "duration": 22,
    "start_time": "2022-10-06T10:11:21.984Z"
   },
   {
    "duration": 326,
    "start_time": "2022-10-06T10:11:22.008Z"
   },
   {
    "duration": 266,
    "start_time": "2022-10-06T10:11:22.336Z"
   },
   {
    "duration": 18,
    "start_time": "2022-10-06T10:11:22.604Z"
   },
   {
    "duration": 138,
    "start_time": "2022-10-06T10:11:22.624Z"
   },
   {
    "duration": 182,
    "start_time": "2022-10-06T10:11:22.764Z"
   },
   {
    "duration": 273,
    "start_time": "2022-10-06T10:11:22.948Z"
   },
   {
    "duration": 66,
    "start_time": "2022-10-06T10:11:23.223Z"
   },
   {
    "duration": 44,
    "start_time": "2022-10-06T10:11:23.291Z"
   },
   {
    "duration": 18,
    "start_time": "2022-10-06T10:11:23.337Z"
   },
   {
    "duration": 71,
    "start_time": "2022-10-06T10:11:23.357Z"
   },
   {
    "duration": 27,
    "start_time": "2022-10-06T10:11:23.430Z"
   },
   {
    "duration": 6,
    "start_time": "2022-10-06T10:11:23.459Z"
   },
   {
    "duration": 5,
    "start_time": "2022-10-06T10:11:23.488Z"
   },
   {
    "duration": 25,
    "start_time": "2022-10-06T10:11:23.495Z"
   },
   {
    "duration": 279,
    "start_time": "2022-10-06T10:11:23.521Z"
   },
   {
    "duration": 220,
    "start_time": "2022-10-06T10:11:23.802Z"
   },
   {
    "duration": 139,
    "start_time": "2022-10-06T10:11:24.024Z"
   },
   {
    "duration": 47,
    "start_time": "2022-10-06T10:11:24.164Z"
   },
   {
    "duration": 3,
    "start_time": "2022-10-06T10:11:24.213Z"
   },
   {
    "duration": 28,
    "start_time": "2022-10-06T10:11:24.218Z"
   },
   {
    "duration": 676,
    "start_time": "2022-10-06T10:11:24.248Z"
   },
   {
    "duration": 20,
    "start_time": "2022-10-06T10:11:24.925Z"
   },
   {
    "duration": 53,
    "start_time": "2022-10-06T10:11:24.947Z"
   },
   {
    "duration": 59,
    "start_time": "2022-10-06T10:11:25.002Z"
   },
   {
    "duration": 390,
    "start_time": "2022-10-06T10:11:25.064Z"
   },
   {
    "duration": 47,
    "start_time": "2022-10-06T10:11:25.456Z"
   },
   {
    "duration": 47,
    "start_time": "2022-10-06T10:11:25.505Z"
   },
   {
    "duration": 89,
    "start_time": "2022-10-06T10:11:25.554Z"
   },
   {
    "duration": 6,
    "start_time": "2022-10-06T10:11:25.645Z"
   },
   {
    "duration": 11,
    "start_time": "2022-10-06T10:11:25.653Z"
   },
   {
    "duration": 37,
    "start_time": "2022-10-06T10:11:25.666Z"
   },
   {
    "duration": 17,
    "start_time": "2022-10-06T10:11:25.705Z"
   },
   {
    "duration": 12,
    "start_time": "2022-10-06T10:11:25.724Z"
   },
   {
    "duration": 16,
    "start_time": "2022-10-06T10:11:25.738Z"
   },
   {
    "duration": 47,
    "start_time": "2022-10-06T10:11:25.757Z"
   },
   {
    "duration": 34,
    "start_time": "2022-10-06T10:11:25.807Z"
   },
   {
    "duration": 84,
    "start_time": "2022-10-06T10:11:25.843Z"
   },
   {
    "duration": 70,
    "start_time": "2022-10-06T10:11:25.930Z"
   },
   {
    "duration": 91,
    "start_time": "2022-10-06T10:11:26.002Z"
   },
   {
    "duration": 4,
    "start_time": "2022-10-06T10:11:26.094Z"
   },
   {
    "duration": 1607,
    "start_time": "2022-10-06T10:53:39.497Z"
   },
   {
    "duration": 980,
    "start_time": "2022-10-06T10:53:41.106Z"
   },
   {
    "duration": 259,
    "start_time": "2022-10-06T10:53:42.088Z"
   },
   {
    "duration": 26,
    "start_time": "2022-10-06T10:53:42.349Z"
   },
   {
    "duration": 133,
    "start_time": "2022-10-06T10:53:42.389Z"
   },
   {
    "duration": 203,
    "start_time": "2022-10-06T10:53:42.523Z"
   },
   {
    "duration": 132,
    "start_time": "2022-10-06T10:53:42.728Z"
   },
   {
    "duration": 217,
    "start_time": "2022-10-06T10:53:42.862Z"
   },
   {
    "duration": 18,
    "start_time": "2022-10-06T10:53:43.081Z"
   },
   {
    "duration": 179,
    "start_time": "2022-10-06T10:53:43.102Z"
   },
   {
    "duration": 166,
    "start_time": "2022-10-06T10:53:43.283Z"
   },
   {
    "duration": 18,
    "start_time": "2022-10-06T10:53:43.450Z"
   },
   {
    "duration": 184,
    "start_time": "2022-10-06T10:53:43.470Z"
   },
   {
    "duration": 170,
    "start_time": "2022-10-06T10:53:43.656Z"
   },
   {
    "duration": 18,
    "start_time": "2022-10-06T10:53:43.828Z"
   },
   {
    "duration": 301,
    "start_time": "2022-10-06T10:53:43.847Z"
   },
   {
    "duration": 304,
    "start_time": "2022-10-06T10:53:44.149Z"
   },
   {
    "duration": 34,
    "start_time": "2022-10-06T10:53:44.455Z"
   },
   {
    "duration": 121,
    "start_time": "2022-10-06T10:53:44.491Z"
   },
   {
    "duration": 164,
    "start_time": "2022-10-06T10:53:44.614Z"
   },
   {
    "duration": 240,
    "start_time": "2022-10-06T10:53:44.780Z"
   },
   {
    "duration": 52,
    "start_time": "2022-10-06T10:53:45.021Z"
   },
   {
    "duration": 55,
    "start_time": "2022-10-06T10:53:45.074Z"
   },
   {
    "duration": 18,
    "start_time": "2022-10-06T10:53:45.131Z"
   },
   {
    "duration": 62,
    "start_time": "2022-10-06T10:53:45.151Z"
   },
   {
    "duration": 26,
    "start_time": "2022-10-06T10:53:45.215Z"
   },
   {
    "duration": 34,
    "start_time": "2022-10-06T10:53:45.243Z"
   },
   {
    "duration": 32,
    "start_time": "2022-10-06T10:53:45.281Z"
   },
   {
    "duration": 33,
    "start_time": "2022-10-06T10:53:45.314Z"
   },
   {
    "duration": 283,
    "start_time": "2022-10-06T10:53:45.349Z"
   },
   {
    "duration": 210,
    "start_time": "2022-10-06T10:53:45.634Z"
   },
   {
    "duration": 124,
    "start_time": "2022-10-06T10:53:45.846Z"
   },
   {
    "duration": 47,
    "start_time": "2022-10-06T10:53:45.972Z"
   },
   {
    "duration": 2,
    "start_time": "2022-10-06T10:53:46.021Z"
   },
   {
    "duration": 21,
    "start_time": "2022-10-06T10:53:46.025Z"
   },
   {
    "duration": 635,
    "start_time": "2022-10-06T10:53:46.048Z"
   },
   {
    "duration": 18,
    "start_time": "2022-10-06T10:53:46.688Z"
   },
   {
    "duration": 35,
    "start_time": "2022-10-06T10:53:46.707Z"
   },
   {
    "duration": 74,
    "start_time": "2022-10-06T10:53:46.744Z"
   },
   {
    "duration": 332,
    "start_time": "2022-10-06T10:53:46.820Z"
   },
   {
    "duration": 48,
    "start_time": "2022-10-06T10:53:47.154Z"
   },
   {
    "duration": 73,
    "start_time": "2022-10-06T10:53:47.203Z"
   },
   {
    "duration": 43,
    "start_time": "2022-10-06T10:53:47.277Z"
   },
   {
    "duration": 5,
    "start_time": "2022-10-06T10:53:47.322Z"
   },
   {
    "duration": 20,
    "start_time": "2022-10-06T10:53:47.329Z"
   },
   {
    "duration": 33,
    "start_time": "2022-10-06T10:53:47.351Z"
   },
   {
    "duration": 20,
    "start_time": "2022-10-06T10:53:47.386Z"
   },
   {
    "duration": 12,
    "start_time": "2022-10-06T10:53:47.408Z"
   },
   {
    "duration": 18,
    "start_time": "2022-10-06T10:53:47.421Z"
   },
   {
    "duration": 26,
    "start_time": "2022-10-06T10:53:47.440Z"
   },
   {
    "duration": 34,
    "start_time": "2022-10-06T10:53:47.468Z"
   },
   {
    "duration": 46,
    "start_time": "2022-10-06T10:53:47.504Z"
   },
   {
    "duration": 52,
    "start_time": "2022-10-06T10:53:47.552Z"
   },
   {
    "duration": 298,
    "start_time": "2022-10-06T10:53:47.606Z"
   },
   {
    "duration": 11,
    "start_time": "2022-10-06T10:53:47.906Z"
   },
   {
    "duration": 0,
    "start_time": "2022-10-06T10:53:47.919Z"
   },
   {
    "duration": 0,
    "start_time": "2022-10-06T10:53:47.920Z"
   },
   {
    "duration": 0,
    "start_time": "2022-10-06T10:53:47.921Z"
   },
   {
    "duration": 0,
    "start_time": "2022-10-06T10:53:47.922Z"
   },
   {
    "duration": 0,
    "start_time": "2022-10-06T10:53:47.924Z"
   },
   {
    "duration": 0,
    "start_time": "2022-10-06T10:53:47.925Z"
   },
   {
    "duration": 0,
    "start_time": "2022-10-06T10:53:47.926Z"
   },
   {
    "duration": 0,
    "start_time": "2022-10-06T10:53:47.927Z"
   },
   {
    "duration": 0,
    "start_time": "2022-10-06T10:53:47.928Z"
   },
   {
    "duration": 0,
    "start_time": "2022-10-06T10:53:47.930Z"
   },
   {
    "duration": 0,
    "start_time": "2022-10-06T10:53:47.931Z"
   },
   {
    "duration": 5,
    "start_time": "2022-10-06T10:55:11.444Z"
   },
   {
    "duration": 191,
    "start_time": "2022-10-06T10:55:19.793Z"
   },
   {
    "duration": 955,
    "start_time": "2022-10-06T10:55:33.879Z"
   },
   {
    "duration": 1205,
    "start_time": "2022-10-06T10:57:34.389Z"
   },
   {
    "duration": 990,
    "start_time": "2022-10-06T10:58:06.541Z"
   },
   {
    "duration": 1171,
    "start_time": "2022-10-06T10:59:26.318Z"
   },
   {
    "duration": 1058,
    "start_time": "2022-10-06T10:59:43.459Z"
   },
   {
    "duration": 6,
    "start_time": "2022-10-06T11:00:09.756Z"
   },
   {
    "duration": 926,
    "start_time": "2022-10-06T11:00:46.106Z"
   },
   {
    "duration": 6,
    "start_time": "2022-10-06T11:00:47.090Z"
   },
   {
    "duration": 1169,
    "start_time": "2022-10-06T11:01:56.724Z"
   },
   {
    "duration": 6,
    "start_time": "2022-10-06T11:01:58.716Z"
   },
   {
    "duration": 51,
    "start_time": "2022-10-06T11:01:59.714Z"
   },
   {
    "duration": 87,
    "start_time": "2022-10-06T11:02:49.034Z"
   },
   {
    "duration": 111,
    "start_time": "2022-10-06T11:03:00.748Z"
   },
   {
    "duration": 92,
    "start_time": "2022-10-06T11:03:06.202Z"
   },
   {
    "duration": 13,
    "start_time": "2022-10-06T11:03:20.498Z"
   },
   {
    "duration": 15,
    "start_time": "2022-10-06T11:03:52.027Z"
   },
   {
    "duration": 11,
    "start_time": "2022-10-06T11:03:54.198Z"
   },
   {
    "duration": 6,
    "start_time": "2022-10-06T11:03:54.616Z"
   },
   {
    "duration": 3,
    "start_time": "2022-10-06T11:04:06.922Z"
   },
   {
    "duration": 5,
    "start_time": "2022-10-06T11:04:07.732Z"
   },
   {
    "duration": 3,
    "start_time": "2022-10-06T11:04:11.322Z"
   },
   {
    "duration": 1667,
    "start_time": "2022-10-06T11:08:51.278Z"
   },
   {
    "duration": 924,
    "start_time": "2022-10-06T11:08:52.948Z"
   },
   {
    "duration": 140,
    "start_time": "2022-10-06T11:08:53.874Z"
   },
   {
    "duration": 27,
    "start_time": "2022-10-06T11:08:54.017Z"
   },
   {
    "duration": 155,
    "start_time": "2022-10-06T11:08:54.046Z"
   },
   {
    "duration": 207,
    "start_time": "2022-10-06T11:08:54.203Z"
   },
   {
    "duration": 139,
    "start_time": "2022-10-06T11:08:54.412Z"
   },
   {
    "duration": 238,
    "start_time": "2022-10-06T11:08:54.553Z"
   },
   {
    "duration": 20,
    "start_time": "2022-10-06T11:08:54.794Z"
   },
   {
    "duration": 172,
    "start_time": "2022-10-06T11:08:54.817Z"
   },
   {
    "duration": 161,
    "start_time": "2022-10-06T11:08:54.991Z"
   },
   {
    "duration": 18,
    "start_time": "2022-10-06T11:08:55.155Z"
   },
   {
    "duration": 186,
    "start_time": "2022-10-06T11:08:55.175Z"
   },
   {
    "duration": 174,
    "start_time": "2022-10-06T11:08:55.363Z"
   },
   {
    "duration": 18,
    "start_time": "2022-10-06T11:08:55.539Z"
   },
   {
    "duration": 308,
    "start_time": "2022-10-06T11:08:55.559Z"
   },
   {
    "duration": 255,
    "start_time": "2022-10-06T11:08:55.869Z"
   },
   {
    "duration": 18,
    "start_time": "2022-10-06T11:08:56.127Z"
   },
   {
    "duration": 133,
    "start_time": "2022-10-06T11:08:56.147Z"
   },
   {
    "duration": 152,
    "start_time": "2022-10-06T11:08:56.282Z"
   },
   {
    "duration": 248,
    "start_time": "2022-10-06T11:08:56.436Z"
   },
   {
    "duration": 50,
    "start_time": "2022-10-06T11:08:56.690Z"
   },
   {
    "duration": 54,
    "start_time": "2022-10-06T11:08:56.742Z"
   },
   {
    "duration": 17,
    "start_time": "2022-10-06T11:08:56.798Z"
   },
   {
    "duration": 42,
    "start_time": "2022-10-06T11:08:56.817Z"
   },
   {
    "duration": 46,
    "start_time": "2022-10-06T11:08:56.861Z"
   },
   {
    "duration": 6,
    "start_time": "2022-10-06T11:08:56.909Z"
   },
   {
    "duration": 5,
    "start_time": "2022-10-06T11:08:56.919Z"
   },
   {
    "duration": 26,
    "start_time": "2022-10-06T11:08:56.925Z"
   },
   {
    "duration": 275,
    "start_time": "2022-10-06T11:08:56.953Z"
   },
   {
    "duration": 220,
    "start_time": "2022-10-06T11:08:57.229Z"
   },
   {
    "duration": 138,
    "start_time": "2022-10-06T11:08:57.451Z"
   },
   {
    "duration": 33,
    "start_time": "2022-10-06T11:08:57.590Z"
   },
   {
    "duration": 2,
    "start_time": "2022-10-06T11:08:57.625Z"
   },
   {
    "duration": 5,
    "start_time": "2022-10-06T11:08:57.629Z"
   },
   {
    "duration": 636,
    "start_time": "2022-10-06T11:08:57.636Z"
   },
   {
    "duration": 28,
    "start_time": "2022-10-06T11:08:58.274Z"
   },
   {
    "duration": 49,
    "start_time": "2022-10-06T11:08:58.304Z"
   },
   {
    "duration": 77,
    "start_time": "2022-10-06T11:08:58.355Z"
   },
   {
    "duration": 337,
    "start_time": "2022-10-06T11:08:58.434Z"
   },
   {
    "duration": 47,
    "start_time": "2022-10-06T11:08:58.773Z"
   },
   {
    "duration": 47,
    "start_time": "2022-10-06T11:08:58.822Z"
   },
   {
    "duration": 61,
    "start_time": "2022-10-06T11:08:58.871Z"
   },
   {
    "duration": 5,
    "start_time": "2022-10-06T11:08:58.935Z"
   },
   {
    "duration": 18,
    "start_time": "2022-10-06T11:08:58.942Z"
   },
   {
    "duration": 31,
    "start_time": "2022-10-06T11:08:58.962Z"
   },
   {
    "duration": 12,
    "start_time": "2022-10-06T11:08:58.994Z"
   },
   {
    "duration": 13,
    "start_time": "2022-10-06T11:08:59.008Z"
   },
   {
    "duration": 12,
    "start_time": "2022-10-06T11:08:59.023Z"
   },
   {
    "duration": 17,
    "start_time": "2022-10-06T11:08:59.037Z"
   },
   {
    "duration": 56,
    "start_time": "2022-10-06T11:08:59.056Z"
   },
   {
    "duration": 48,
    "start_time": "2022-10-06T11:08:59.114Z"
   },
   {
    "duration": 75,
    "start_time": "2022-10-06T11:08:59.164Z"
   },
   {
    "duration": 952,
    "start_time": "2022-10-06T11:08:59.241Z"
   },
   {
    "duration": 95,
    "start_time": "2022-10-06T11:09:00.195Z"
   },
   {
    "duration": 101,
    "start_time": "2022-10-06T11:09:00.293Z"
   },
   {
    "duration": 97,
    "start_time": "2022-10-06T11:09:00.396Z"
   },
   {
    "duration": 105,
    "start_time": "2022-10-06T11:09:00.495Z"
   },
   {
    "duration": 156,
    "start_time": "2022-10-06T11:09:00.602Z"
   },
   {
    "duration": 0,
    "start_time": "2022-10-06T11:09:00.760Z"
   },
   {
    "duration": 0,
    "start_time": "2022-10-06T11:09:00.761Z"
   },
   {
    "duration": 0,
    "start_time": "2022-10-06T11:09:00.762Z"
   },
   {
    "duration": 0,
    "start_time": "2022-10-06T11:09:00.764Z"
   },
   {
    "duration": 0,
    "start_time": "2022-10-06T11:09:00.765Z"
   },
   {
    "duration": 0,
    "start_time": "2022-10-06T11:09:00.767Z"
   },
   {
    "duration": 0,
    "start_time": "2022-10-06T11:09:00.768Z"
   },
   {
    "duration": 0,
    "start_time": "2022-10-06T11:09:00.769Z"
   },
   {
    "duration": 0,
    "start_time": "2022-10-06T11:09:00.772Z"
   },
   {
    "duration": 0,
    "start_time": "2022-10-06T11:09:00.790Z"
   },
   {
    "duration": 0,
    "start_time": "2022-10-06T11:09:00.792Z"
   },
   {
    "duration": 3,
    "start_time": "2022-10-06T11:10:01.184Z"
   },
   {
    "duration": 3,
    "start_time": "2022-10-06T11:10:06.239Z"
   },
   {
    "duration": 4,
    "start_time": "2022-10-06T11:10:07.477Z"
   },
   {
    "duration": 325,
    "start_time": "2022-10-06T11:12:01.432Z"
   },
   {
    "duration": 45,
    "start_time": "2022-10-06T11:12:06.456Z"
   },
   {
    "duration": 100,
    "start_time": "2022-10-06T11:12:12.970Z"
   },
   {
    "duration": 64,
    "start_time": "2022-10-06T11:12:19.178Z"
   },
   {
    "duration": 1348,
    "start_time": "2022-10-06T11:12:36.241Z"
   },
   {
    "duration": 51,
    "start_time": "2022-10-06T11:12:39.064Z"
   },
   {
    "duration": 5,
    "start_time": "2022-10-06T11:12:40.208Z"
   },
   {
    "duration": 7,
    "start_time": "2022-10-06T11:12:49.526Z"
   },
   {
    "duration": 15,
    "start_time": "2022-10-06T11:12:55.186Z"
   },
   {
    "duration": 16,
    "start_time": "2022-10-06T11:13:04.437Z"
   },
   {
    "duration": 15,
    "start_time": "2022-10-06T11:14:32.639Z"
   },
   {
    "duration": 9,
    "start_time": "2022-10-06T11:15:38.162Z"
   },
   {
    "duration": 7,
    "start_time": "2022-10-06T11:15:38.938Z"
   },
   {
    "duration": 47,
    "start_time": "2022-10-06T11:15:39.893Z"
   },
   {
    "duration": 49,
    "start_time": "2022-10-06T11:15:40.875Z"
   },
   {
    "duration": 1558,
    "start_time": "2022-10-06T11:15:48.580Z"
   },
   {
    "duration": 900,
    "start_time": "2022-10-06T11:15:50.140Z"
   },
   {
    "duration": 152,
    "start_time": "2022-10-06T11:15:51.042Z"
   },
   {
    "duration": 25,
    "start_time": "2022-10-06T11:15:51.196Z"
   },
   {
    "duration": 155,
    "start_time": "2022-10-06T11:15:51.223Z"
   },
   {
    "duration": 216,
    "start_time": "2022-10-06T11:15:51.380Z"
   },
   {
    "duration": 156,
    "start_time": "2022-10-06T11:15:51.597Z"
   },
   {
    "duration": 264,
    "start_time": "2022-10-06T11:15:51.755Z"
   },
   {
    "duration": 22,
    "start_time": "2022-10-06T11:15:52.021Z"
   },
   {
    "duration": 189,
    "start_time": "2022-10-06T11:15:52.047Z"
   },
   {
    "duration": 167,
    "start_time": "2022-10-06T11:15:52.238Z"
   },
   {
    "duration": 17,
    "start_time": "2022-10-06T11:15:52.407Z"
   },
   {
    "duration": 182,
    "start_time": "2022-10-06T11:15:52.426Z"
   },
   {
    "duration": 164,
    "start_time": "2022-10-06T11:15:52.609Z"
   },
   {
    "duration": 23,
    "start_time": "2022-10-06T11:15:52.775Z"
   },
   {
    "duration": 299,
    "start_time": "2022-10-06T11:15:52.800Z"
   },
   {
    "duration": 249,
    "start_time": "2022-10-06T11:15:53.101Z"
   },
   {
    "duration": 18,
    "start_time": "2022-10-06T11:15:53.352Z"
   },
   {
    "duration": 128,
    "start_time": "2022-10-06T11:15:53.372Z"
   },
   {
    "duration": 167,
    "start_time": "2022-10-06T11:15:53.502Z"
   },
   {
    "duration": 226,
    "start_time": "2022-10-06T11:15:53.672Z"
   },
   {
    "duration": 49,
    "start_time": "2022-10-06T11:15:53.900Z"
   },
   {
    "duration": 59,
    "start_time": "2022-10-06T11:15:53.951Z"
   },
   {
    "duration": 17,
    "start_time": "2022-10-06T11:15:54.012Z"
   },
   {
    "duration": 58,
    "start_time": "2022-10-06T11:15:54.031Z"
   },
   {
    "duration": 25,
    "start_time": "2022-10-06T11:15:54.090Z"
   },
   {
    "duration": 7,
    "start_time": "2022-10-06T11:15:54.116Z"
   },
   {
    "duration": 5,
    "start_time": "2022-10-06T11:15:54.126Z"
   },
   {
    "duration": 24,
    "start_time": "2022-10-06T11:15:54.133Z"
   },
   {
    "duration": 301,
    "start_time": "2022-10-06T11:15:54.159Z"
   },
   {
    "duration": 226,
    "start_time": "2022-10-06T11:15:54.463Z"
   },
   {
    "duration": 129,
    "start_time": "2022-10-06T11:15:54.691Z"
   },
   {
    "duration": 32,
    "start_time": "2022-10-06T11:15:54.822Z"
   },
   {
    "duration": 3,
    "start_time": "2022-10-06T11:15:54.856Z"
   },
   {
    "duration": 18,
    "start_time": "2022-10-06T11:15:54.861Z"
   },
   {
    "duration": 617,
    "start_time": "2022-10-06T11:15:54.889Z"
   },
   {
    "duration": 18,
    "start_time": "2022-10-06T11:15:55.508Z"
   },
   {
    "duration": 44,
    "start_time": "2022-10-06T11:15:55.528Z"
   },
   {
    "duration": 89,
    "start_time": "2022-10-06T11:15:55.574Z"
   },
   {
    "duration": 314,
    "start_time": "2022-10-06T11:15:55.665Z"
   },
   {
    "duration": 45,
    "start_time": "2022-10-06T11:15:55.981Z"
   },
   {
    "duration": 64,
    "start_time": "2022-10-06T11:15:56.028Z"
   },
   {
    "duration": 61,
    "start_time": "2022-10-06T11:15:56.094Z"
   },
   {
    "duration": 6,
    "start_time": "2022-10-06T11:15:56.156Z"
   },
   {
    "duration": 28,
    "start_time": "2022-10-06T11:15:56.164Z"
   },
   {
    "duration": 28,
    "start_time": "2022-10-06T11:15:56.194Z"
   },
   {
    "duration": 30,
    "start_time": "2022-10-06T11:15:56.224Z"
   },
   {
    "duration": 63,
    "start_time": "2022-10-06T11:15:56.256Z"
   },
   {
    "duration": 17,
    "start_time": "2022-10-06T11:15:56.321Z"
   },
   {
    "duration": 23,
    "start_time": "2022-10-06T11:15:56.340Z"
   },
   {
    "duration": 22,
    "start_time": "2022-10-06T11:15:56.365Z"
   },
   {
    "duration": 134,
    "start_time": "2022-10-06T11:15:56.389Z"
   },
   {
    "duration": 0,
    "start_time": "2022-10-06T11:15:56.524Z"
   },
   {
    "duration": 0,
    "start_time": "2022-10-06T11:15:56.526Z"
   },
   {
    "duration": 0,
    "start_time": "2022-10-06T11:15:56.527Z"
   },
   {
    "duration": 0,
    "start_time": "2022-10-06T11:15:56.529Z"
   },
   {
    "duration": 0,
    "start_time": "2022-10-06T11:15:56.530Z"
   },
   {
    "duration": 0,
    "start_time": "2022-10-06T11:15:56.531Z"
   },
   {
    "duration": 0,
    "start_time": "2022-10-06T11:15:56.533Z"
   },
   {
    "duration": 0,
    "start_time": "2022-10-06T11:15:56.534Z"
   },
   {
    "duration": 0,
    "start_time": "2022-10-06T11:15:56.535Z"
   },
   {
    "duration": 0,
    "start_time": "2022-10-06T11:15:56.536Z"
   },
   {
    "duration": 0,
    "start_time": "2022-10-06T11:15:56.538Z"
   },
   {
    "duration": 0,
    "start_time": "2022-10-06T11:15:56.539Z"
   },
   {
    "duration": 0,
    "start_time": "2022-10-06T11:15:56.540Z"
   },
   {
    "duration": 0,
    "start_time": "2022-10-06T11:15:56.541Z"
   },
   {
    "duration": 0,
    "start_time": "2022-10-06T11:15:56.543Z"
   },
   {
    "duration": 0,
    "start_time": "2022-10-06T11:15:56.544Z"
   },
   {
    "duration": 0,
    "start_time": "2022-10-06T11:15:56.545Z"
   },
   {
    "duration": 0,
    "start_time": "2022-10-06T11:15:56.546Z"
   },
   {
    "duration": 0,
    "start_time": "2022-10-06T11:15:56.548Z"
   },
   {
    "duration": 15,
    "start_time": "2022-10-06T11:16:16.352Z"
   },
   {
    "duration": 59,
    "start_time": "2022-10-06T11:16:19.494Z"
   },
   {
    "duration": 51,
    "start_time": "2022-10-06T11:16:20.159Z"
   },
   {
    "duration": 918,
    "start_time": "2022-10-06T11:16:22.972Z"
   },
   {
    "duration": 5,
    "start_time": "2022-10-06T11:16:25.838Z"
   },
   {
    "duration": 47,
    "start_time": "2022-10-06T11:16:26.549Z"
   },
   {
    "duration": 12,
    "start_time": "2022-10-06T11:16:27.180Z"
   },
   {
    "duration": 6,
    "start_time": "2022-10-06T11:16:27.713Z"
   },
   {
    "duration": 3,
    "start_time": "2022-10-06T11:16:32.530Z"
   },
   {
    "duration": 3,
    "start_time": "2022-10-06T11:16:33.269Z"
   },
   {
    "duration": 5,
    "start_time": "2022-10-06T11:16:33.853Z"
   },
   {
    "duration": 4,
    "start_time": "2022-10-06T11:16:36.653Z"
   },
   {
    "duration": 1617,
    "start_time": "2022-10-06T11:33:13.090Z"
   },
   {
    "duration": 1014,
    "start_time": "2022-10-06T11:33:14.709Z"
   },
   {
    "duration": 216,
    "start_time": "2022-10-06T11:33:15.726Z"
   },
   {
    "duration": 46,
    "start_time": "2022-10-06T11:33:15.945Z"
   },
   {
    "duration": 163,
    "start_time": "2022-10-06T11:33:15.993Z"
   },
   {
    "duration": 210,
    "start_time": "2022-10-06T11:33:16.160Z"
   },
   {
    "duration": 148,
    "start_time": "2022-10-06T11:33:16.372Z"
   },
   {
    "duration": 240,
    "start_time": "2022-10-06T11:33:16.523Z"
   },
   {
    "duration": 30,
    "start_time": "2022-10-06T11:33:16.765Z"
   },
   {
    "duration": 221,
    "start_time": "2022-10-06T11:33:16.798Z"
   },
   {
    "duration": 195,
    "start_time": "2022-10-06T11:33:17.021Z"
   },
   {
    "duration": 21,
    "start_time": "2022-10-06T11:33:17.218Z"
   },
   {
    "duration": 234,
    "start_time": "2022-10-06T11:33:17.241Z"
   },
   {
    "duration": 189,
    "start_time": "2022-10-06T11:33:17.477Z"
   },
   {
    "duration": 24,
    "start_time": "2022-10-06T11:33:17.668Z"
   },
   {
    "duration": 304,
    "start_time": "2022-10-06T11:33:17.694Z"
   },
   {
    "duration": 269,
    "start_time": "2022-10-06T11:33:17.999Z"
   },
   {
    "duration": 35,
    "start_time": "2022-10-06T11:33:18.270Z"
   },
   {
    "duration": 129,
    "start_time": "2022-10-06T11:33:18.307Z"
   },
   {
    "duration": 173,
    "start_time": "2022-10-06T11:33:18.438Z"
   },
   {
    "duration": 263,
    "start_time": "2022-10-06T11:33:18.613Z"
   },
   {
    "duration": 60,
    "start_time": "2022-10-06T11:33:18.877Z"
   },
   {
    "duration": 66,
    "start_time": "2022-10-06T11:33:18.940Z"
   },
   {
    "duration": 19,
    "start_time": "2022-10-06T11:33:19.008Z"
   },
   {
    "duration": 61,
    "start_time": "2022-10-06T11:33:19.029Z"
   },
   {
    "duration": 39,
    "start_time": "2022-10-06T11:33:19.092Z"
   },
   {
    "duration": 6,
    "start_time": "2022-10-06T11:33:19.133Z"
   },
   {
    "duration": 7,
    "start_time": "2022-10-06T11:33:19.143Z"
   },
   {
    "duration": 50,
    "start_time": "2022-10-06T11:33:19.152Z"
   },
   {
    "duration": 304,
    "start_time": "2022-10-06T11:33:19.204Z"
   },
   {
    "duration": 225,
    "start_time": "2022-10-06T11:33:19.510Z"
   },
   {
    "duration": 165,
    "start_time": "2022-10-06T11:33:19.736Z"
   },
   {
    "duration": 36,
    "start_time": "2022-10-06T11:33:19.903Z"
   },
   {
    "duration": 3,
    "start_time": "2022-10-06T11:33:19.941Z"
   },
   {
    "duration": 21,
    "start_time": "2022-10-06T11:33:19.946Z"
   },
   {
    "duration": 684,
    "start_time": "2022-10-06T11:33:19.969Z"
   },
   {
    "duration": 22,
    "start_time": "2022-10-06T11:33:20.656Z"
   },
   {
    "duration": 57,
    "start_time": "2022-10-06T11:33:20.690Z"
   },
   {
    "duration": 87,
    "start_time": "2022-10-06T11:33:20.749Z"
   },
   {
    "duration": 339,
    "start_time": "2022-10-06T11:33:20.837Z"
   },
   {
    "duration": 47,
    "start_time": "2022-10-06T11:33:21.178Z"
   },
   {
    "duration": 61,
    "start_time": "2022-10-06T11:33:21.227Z"
   },
   {
    "duration": 43,
    "start_time": "2022-10-06T11:33:21.290Z"
   },
   {
    "duration": 4,
    "start_time": "2022-10-06T11:33:21.336Z"
   },
   {
    "duration": 36,
    "start_time": "2022-10-06T11:33:21.342Z"
   },
   {
    "duration": 39,
    "start_time": "2022-10-06T11:33:21.380Z"
   },
   {
    "duration": 18,
    "start_time": "2022-10-06T11:33:21.421Z"
   },
   {
    "duration": 12,
    "start_time": "2022-10-06T11:33:21.441Z"
   },
   {
    "duration": 34,
    "start_time": "2022-10-06T11:33:21.455Z"
   },
   {
    "duration": 16,
    "start_time": "2022-10-06T11:33:21.491Z"
   },
   {
    "duration": 35,
    "start_time": "2022-10-06T11:33:21.510Z"
   },
   {
    "duration": 33,
    "start_time": "2022-10-06T11:33:21.547Z"
   },
   {
    "duration": 84,
    "start_time": "2022-10-06T11:33:21.582Z"
   },
   {
    "duration": 45,
    "start_time": "2022-10-06T11:33:21.669Z"
   },
   {
    "duration": 1092,
    "start_time": "2022-10-06T11:33:21.716Z"
   },
   {
    "duration": 80,
    "start_time": "2022-10-06T11:33:22.811Z"
   },
   {
    "duration": 129,
    "start_time": "2022-10-06T11:33:22.893Z"
   },
   {
    "duration": 167,
    "start_time": "2022-10-06T11:33:23.024Z"
   },
   {
    "duration": 10,
    "start_time": "2022-10-06T11:33:23.193Z"
   },
   {
    "duration": 85,
    "start_time": "2022-10-06T11:33:23.205Z"
   },
   {
    "duration": 36,
    "start_time": "2022-10-06T11:33:23.292Z"
   },
   {
    "duration": 134,
    "start_time": "2022-10-06T11:33:23.330Z"
   },
   {
    "duration": 0,
    "start_time": "2022-10-06T11:33:23.465Z"
   },
   {
    "duration": 0,
    "start_time": "2022-10-06T11:33:23.467Z"
   },
   {
    "duration": 5,
    "start_time": "2022-10-06T11:34:03.538Z"
   },
   {
    "duration": 4,
    "start_time": "2022-10-06T11:34:12.958Z"
   },
   {
    "duration": 1622,
    "start_time": "2022-10-06T11:46:47.301Z"
   },
   {
    "duration": 924,
    "start_time": "2022-10-06T11:46:48.925Z"
   },
   {
    "duration": 155,
    "start_time": "2022-10-06T11:46:49.851Z"
   },
   {
    "duration": 26,
    "start_time": "2022-10-06T11:46:50.009Z"
   },
   {
    "duration": 157,
    "start_time": "2022-10-06T11:46:50.037Z"
   },
   {
    "duration": 221,
    "start_time": "2022-10-06T11:46:50.196Z"
   },
   {
    "duration": 147,
    "start_time": "2022-10-06T11:46:50.419Z"
   },
   {
    "duration": 234,
    "start_time": "2022-10-06T11:46:50.568Z"
   },
   {
    "duration": 21,
    "start_time": "2022-10-06T11:46:50.804Z"
   },
   {
    "duration": 185,
    "start_time": "2022-10-06T11:46:50.829Z"
   },
   {
    "duration": 169,
    "start_time": "2022-10-06T11:46:51.016Z"
   },
   {
    "duration": 18,
    "start_time": "2022-10-06T11:46:51.189Z"
   },
   {
    "duration": 191,
    "start_time": "2022-10-06T11:46:51.209Z"
   },
   {
    "duration": 172,
    "start_time": "2022-10-06T11:46:51.403Z"
   },
   {
    "duration": 25,
    "start_time": "2022-10-06T11:46:51.577Z"
   },
   {
    "duration": 358,
    "start_time": "2022-10-06T11:46:51.604Z"
   },
   {
    "duration": 283,
    "start_time": "2022-10-06T11:46:51.965Z"
   },
   {
    "duration": 18,
    "start_time": "2022-10-06T11:46:52.250Z"
   },
   {
    "duration": 134,
    "start_time": "2022-10-06T11:46:52.270Z"
   },
   {
    "duration": 160,
    "start_time": "2022-10-06T11:46:52.405Z"
   },
   {
    "duration": 254,
    "start_time": "2022-10-06T11:46:52.567Z"
   },
   {
    "duration": 53,
    "start_time": "2022-10-06T11:46:52.823Z"
   },
   {
    "duration": 44,
    "start_time": "2022-10-06T11:46:52.888Z"
   },
   {
    "duration": 19,
    "start_time": "2022-10-06T11:46:52.933Z"
   },
   {
    "duration": 65,
    "start_time": "2022-10-06T11:46:52.953Z"
   },
   {
    "duration": 26,
    "start_time": "2022-10-06T11:46:53.020Z"
   },
   {
    "duration": 11,
    "start_time": "2022-10-06T11:46:53.048Z"
   },
   {
    "duration": 5,
    "start_time": "2022-10-06T11:46:53.064Z"
   },
   {
    "duration": 22,
    "start_time": "2022-10-06T11:46:53.089Z"
   },
   {
    "duration": 272,
    "start_time": "2022-10-06T11:46:53.113Z"
   },
   {
    "duration": 220,
    "start_time": "2022-10-06T11:46:53.388Z"
   },
   {
    "duration": 129,
    "start_time": "2022-10-06T11:46:53.610Z"
   },
   {
    "duration": 50,
    "start_time": "2022-10-06T11:46:53.740Z"
   },
   {
    "duration": 3,
    "start_time": "2022-10-06T11:46:53.791Z"
   },
   {
    "duration": 6,
    "start_time": "2022-10-06T11:46:53.796Z"
   },
   {
    "duration": 627,
    "start_time": "2022-10-06T11:46:53.804Z"
   },
   {
    "duration": 18,
    "start_time": "2022-10-06T11:46:54.433Z"
   },
   {
    "duration": 49,
    "start_time": "2022-10-06T11:46:54.453Z"
   },
   {
    "duration": 56,
    "start_time": "2022-10-06T11:46:54.504Z"
   },
   {
    "duration": 365,
    "start_time": "2022-10-06T11:46:54.562Z"
   },
   {
    "duration": 43,
    "start_time": "2022-10-06T11:46:54.929Z"
   },
   {
    "duration": 56,
    "start_time": "2022-10-06T11:46:54.974Z"
   },
   {
    "duration": 59,
    "start_time": "2022-10-06T11:46:55.032Z"
   },
   {
    "duration": 5,
    "start_time": "2022-10-06T11:46:55.093Z"
   },
   {
    "duration": 9,
    "start_time": "2022-10-06T11:46:55.100Z"
   },
   {
    "duration": 25,
    "start_time": "2022-10-06T11:46:55.111Z"
   },
   {
    "duration": 51,
    "start_time": "2022-10-06T11:46:55.138Z"
   },
   {
    "duration": 12,
    "start_time": "2022-10-06T11:46:55.191Z"
   },
   {
    "duration": 11,
    "start_time": "2022-10-06T11:46:55.205Z"
   },
   {
    "duration": 12,
    "start_time": "2022-10-06T11:46:55.218Z"
   },
   {
    "duration": 16,
    "start_time": "2022-10-06T11:46:55.232Z"
   },
   {
    "duration": 43,
    "start_time": "2022-10-06T11:46:55.250Z"
   },
   {
    "duration": 53,
    "start_time": "2022-10-06T11:46:55.295Z"
   },
   {
    "duration": 81,
    "start_time": "2022-10-06T11:46:55.350Z"
   },
   {
    "duration": 889,
    "start_time": "2022-10-06T11:46:55.433Z"
   },
   {
    "duration": 68,
    "start_time": "2022-10-06T11:46:56.325Z"
   },
   {
    "duration": 149,
    "start_time": "2022-10-06T11:46:56.398Z"
   },
   {
    "duration": 48,
    "start_time": "2022-10-06T11:46:56.550Z"
   },
   {
    "duration": 92,
    "start_time": "2022-10-06T11:46:56.600Z"
   },
   {
    "duration": 104,
    "start_time": "2022-10-06T11:46:56.696Z"
   },
   {
    "duration": 6,
    "start_time": "2022-10-06T11:46:56.802Z"
   },
   {
    "duration": 7,
    "start_time": "2022-10-06T11:46:56.809Z"
   },
   {
    "duration": 12,
    "start_time": "2022-10-06T11:46:56.817Z"
   },
   {
    "duration": 117,
    "start_time": "2022-10-06T11:46:56.831Z"
   },
   {
    "duration": 4,
    "start_time": "2022-10-06T11:50:46.074Z"
   },
   {
    "duration": 16,
    "start_time": "2022-10-06T11:52:14.148Z"
   },
   {
    "duration": 15,
    "start_time": "2022-10-06T11:52:52.296Z"
   },
   {
    "duration": 120,
    "start_time": "2022-10-06T11:53:04.836Z"
   },
   {
    "duration": 216,
    "start_time": "2022-10-06T11:53:15.720Z"
   },
   {
    "duration": 412,
    "start_time": "2022-10-06T11:53:43.543Z"
   },
   {
    "duration": 1661,
    "start_time": "2022-10-06T11:53:55.229Z"
   },
   {
    "duration": 987,
    "start_time": "2022-10-06T11:53:56.892Z"
   },
   {
    "duration": 195,
    "start_time": "2022-10-06T11:53:57.882Z"
   },
   {
    "duration": 36,
    "start_time": "2022-10-06T11:53:58.080Z"
   },
   {
    "duration": 284,
    "start_time": "2022-10-06T11:53:58.118Z"
   },
   {
    "duration": 236,
    "start_time": "2022-10-06T11:53:58.404Z"
   },
   {
    "duration": 148,
    "start_time": "2022-10-06T11:53:58.642Z"
   },
   {
    "duration": 233,
    "start_time": "2022-10-06T11:53:58.792Z"
   },
   {
    "duration": 20,
    "start_time": "2022-10-06T11:53:59.027Z"
   },
   {
    "duration": 200,
    "start_time": "2022-10-06T11:53:59.051Z"
   },
   {
    "duration": 192,
    "start_time": "2022-10-06T11:53:59.253Z"
   },
   {
    "duration": 19,
    "start_time": "2022-10-06T11:53:59.446Z"
   },
   {
    "duration": 189,
    "start_time": "2022-10-06T11:53:59.466Z"
   },
   {
    "duration": 167,
    "start_time": "2022-10-06T11:53:59.657Z"
   },
   {
    "duration": 23,
    "start_time": "2022-10-06T11:53:59.826Z"
   },
   {
    "duration": 315,
    "start_time": "2022-10-06T11:53:59.851Z"
   },
   {
    "duration": 254,
    "start_time": "2022-10-06T11:54:00.168Z"
   },
   {
    "duration": 19,
    "start_time": "2022-10-06T11:54:00.424Z"
   },
   {
    "duration": 133,
    "start_time": "2022-10-06T11:54:00.446Z"
   },
   {
    "duration": 170,
    "start_time": "2022-10-06T11:54:00.589Z"
   },
   {
    "duration": 278,
    "start_time": "2022-10-06T11:54:00.761Z"
   },
   {
    "duration": 62,
    "start_time": "2022-10-06T11:54:01.041Z"
   },
   {
    "duration": 47,
    "start_time": "2022-10-06T11:54:01.105Z"
   },
   {
    "duration": 35,
    "start_time": "2022-10-06T11:54:01.155Z"
   },
   {
    "duration": 96,
    "start_time": "2022-10-06T11:54:01.193Z"
   },
   {
    "duration": 39,
    "start_time": "2022-10-06T11:54:01.291Z"
   },
   {
    "duration": 34,
    "start_time": "2022-10-06T11:54:01.332Z"
   },
   {
    "duration": 20,
    "start_time": "2022-10-06T11:54:01.371Z"
   },
   {
    "duration": 43,
    "start_time": "2022-10-06T11:54:01.394Z"
   },
   {
    "duration": 275,
    "start_time": "2022-10-06T11:54:01.439Z"
   },
   {
    "duration": 224,
    "start_time": "2022-10-06T11:54:01.716Z"
   },
   {
    "duration": 157,
    "start_time": "2022-10-06T11:54:01.942Z"
   },
   {
    "duration": 63,
    "start_time": "2022-10-06T11:54:02.101Z"
   },
   {
    "duration": 5,
    "start_time": "2022-10-06T11:54:02.167Z"
   },
   {
    "duration": 56,
    "start_time": "2022-10-06T11:54:02.176Z"
   },
   {
    "duration": 704,
    "start_time": "2022-10-06T11:54:02.234Z"
   },
   {
    "duration": 18,
    "start_time": "2022-10-06T11:54:02.939Z"
   },
   {
    "duration": 50,
    "start_time": "2022-10-06T11:54:02.959Z"
   },
   {
    "duration": 56,
    "start_time": "2022-10-06T11:54:03.011Z"
   },
   {
    "duration": 347,
    "start_time": "2022-10-06T11:54:03.069Z"
   },
   {
    "duration": 43,
    "start_time": "2022-10-06T11:54:03.418Z"
   },
   {
    "duration": 71,
    "start_time": "2022-10-06T11:54:03.463Z"
   },
   {
    "duration": 54,
    "start_time": "2022-10-06T11:54:03.536Z"
   },
   {
    "duration": 5,
    "start_time": "2022-10-06T11:54:03.592Z"
   },
   {
    "duration": 46,
    "start_time": "2022-10-06T11:54:03.600Z"
   },
   {
    "duration": 43,
    "start_time": "2022-10-06T11:54:03.648Z"
   },
   {
    "duration": 19,
    "start_time": "2022-10-06T11:54:03.693Z"
   },
   {
    "duration": 33,
    "start_time": "2022-10-06T11:54:03.714Z"
   },
   {
    "duration": 10,
    "start_time": "2022-10-06T11:54:03.749Z"
   },
   {
    "duration": 31,
    "start_time": "2022-10-06T11:54:03.761Z"
   },
   {
    "duration": 17,
    "start_time": "2022-10-06T11:54:03.794Z"
   },
   {
    "duration": 31,
    "start_time": "2022-10-06T11:54:03.813Z"
   },
   {
    "duration": 90,
    "start_time": "2022-10-06T11:54:03.845Z"
   },
   {
    "duration": 67,
    "start_time": "2022-10-06T11:54:03.937Z"
   },
   {
    "duration": 536,
    "start_time": "2022-10-06T11:54:04.006Z"
   },
   {
    "duration": 1045,
    "start_time": "2022-10-06T11:54:04.545Z"
   },
   {
    "duration": 8,
    "start_time": "2022-10-06T11:54:05.592Z"
   },
   {
    "duration": 188,
    "start_time": "2022-10-06T11:54:05.602Z"
   },
   {
    "duration": 96,
    "start_time": "2022-10-06T11:54:05.793Z"
   },
   {
    "duration": 114,
    "start_time": "2022-10-06T11:54:05.893Z"
   },
   {
    "duration": 24,
    "start_time": "2022-10-06T11:54:06.009Z"
   },
   {
    "duration": 19,
    "start_time": "2022-10-06T11:54:06.035Z"
   },
   {
    "duration": 14,
    "start_time": "2022-10-06T11:54:06.056Z"
   },
   {
    "duration": 18,
    "start_time": "2022-10-06T11:54:06.072Z"
   },
   {
    "duration": 19,
    "start_time": "2022-10-06T11:54:06.092Z"
   },
   {
    "duration": 1487,
    "start_time": "2022-10-06T11:55:43.037Z"
   },
   {
    "duration": 973,
    "start_time": "2022-10-06T11:55:44.527Z"
   },
   {
    "duration": 171,
    "start_time": "2022-10-06T11:55:45.502Z"
   },
   {
    "duration": 43,
    "start_time": "2022-10-06T11:55:45.674Z"
   },
   {
    "duration": 170,
    "start_time": "2022-10-06T11:55:45.721Z"
   },
   {
    "duration": 218,
    "start_time": "2022-10-06T11:55:45.893Z"
   },
   {
    "duration": 145,
    "start_time": "2022-10-06T11:55:46.113Z"
   },
   {
    "duration": 270,
    "start_time": "2022-10-06T11:55:46.261Z"
   },
   {
    "duration": 20,
    "start_time": "2022-10-06T11:55:46.533Z"
   },
   {
    "duration": 198,
    "start_time": "2022-10-06T11:55:46.555Z"
   },
   {
    "duration": 236,
    "start_time": "2022-10-06T11:55:46.755Z"
   },
   {
    "duration": 23,
    "start_time": "2022-10-06T11:55:46.993Z"
   },
   {
    "duration": 222,
    "start_time": "2022-10-06T11:55:47.018Z"
   },
   {
    "duration": 207,
    "start_time": "2022-10-06T11:55:47.244Z"
   },
   {
    "duration": 23,
    "start_time": "2022-10-06T11:55:47.453Z"
   },
   {
    "duration": 437,
    "start_time": "2022-10-06T11:55:47.478Z"
   },
   {
    "duration": 274,
    "start_time": "2022-10-06T11:55:47.917Z"
   },
   {
    "duration": 22,
    "start_time": "2022-10-06T11:55:48.194Z"
   },
   {
    "duration": 164,
    "start_time": "2022-10-06T11:55:48.218Z"
   },
   {
    "duration": 176,
    "start_time": "2022-10-06T11:55:48.390Z"
   },
   {
    "duration": 267,
    "start_time": "2022-10-06T11:55:48.568Z"
   },
   {
    "duration": 63,
    "start_time": "2022-10-06T11:55:48.837Z"
   },
   {
    "duration": 52,
    "start_time": "2022-10-06T11:55:48.903Z"
   },
   {
    "duration": 37,
    "start_time": "2022-10-06T11:55:48.957Z"
   },
   {
    "duration": 44,
    "start_time": "2022-10-06T11:55:48.996Z"
   },
   {
    "duration": 47,
    "start_time": "2022-10-06T11:55:49.043Z"
   },
   {
    "duration": 6,
    "start_time": "2022-10-06T11:55:49.092Z"
   },
   {
    "duration": 8,
    "start_time": "2022-10-06T11:55:49.100Z"
   },
   {
    "duration": 25,
    "start_time": "2022-10-06T11:55:49.110Z"
   },
   {
    "duration": 336,
    "start_time": "2022-10-06T11:55:49.138Z"
   },
   {
    "duration": 231,
    "start_time": "2022-10-06T11:55:49.476Z"
   },
   {
    "duration": 140,
    "start_time": "2022-10-06T11:55:49.709Z"
   },
   {
    "duration": 49,
    "start_time": "2022-10-06T11:55:49.851Z"
   },
   {
    "duration": 3,
    "start_time": "2022-10-06T11:55:49.903Z"
   },
   {
    "duration": 7,
    "start_time": "2022-10-06T11:55:49.909Z"
   },
   {
    "duration": 668,
    "start_time": "2022-10-06T11:55:49.918Z"
   },
   {
    "duration": 18,
    "start_time": "2022-10-06T11:55:50.589Z"
   },
   {
    "duration": 40,
    "start_time": "2022-10-06T11:55:50.609Z"
   },
   {
    "duration": 77,
    "start_time": "2022-10-06T11:55:50.651Z"
   },
   {
    "duration": 367,
    "start_time": "2022-10-06T11:55:50.731Z"
   },
   {
    "duration": 48,
    "start_time": "2022-10-06T11:55:51.103Z"
   },
   {
    "duration": 61,
    "start_time": "2022-10-06T11:55:51.152Z"
   },
   {
    "duration": 45,
    "start_time": "2022-10-06T11:55:51.216Z"
   },
   {
    "duration": 25,
    "start_time": "2022-10-06T11:55:51.264Z"
   },
   {
    "duration": 13,
    "start_time": "2022-10-06T11:55:51.292Z"
   },
   {
    "duration": 24,
    "start_time": "2022-10-06T11:55:51.306Z"
   },
   {
    "duration": 19,
    "start_time": "2022-10-06T11:55:51.332Z"
   },
   {
    "duration": 43,
    "start_time": "2022-10-06T11:55:51.353Z"
   },
   {
    "duration": 16,
    "start_time": "2022-10-06T11:55:51.398Z"
   },
   {
    "duration": 17,
    "start_time": "2022-10-06T11:55:51.416Z"
   },
   {
    "duration": 16,
    "start_time": "2022-10-06T11:55:51.434Z"
   },
   {
    "duration": 43,
    "start_time": "2022-10-06T11:55:51.452Z"
   },
   {
    "duration": 74,
    "start_time": "2022-10-06T11:55:51.497Z"
   },
   {
    "duration": 75,
    "start_time": "2022-10-06T11:55:51.573Z"
   },
   {
    "duration": 536,
    "start_time": "2022-10-06T11:55:51.651Z"
   },
   {
    "duration": 1036,
    "start_time": "2022-10-06T11:55:52.189Z"
   },
   {
    "duration": 10,
    "start_time": "2022-10-06T11:55:53.292Z"
   },
   {
    "duration": 61,
    "start_time": "2022-10-06T11:55:53.390Z"
   },
   {
    "duration": 141,
    "start_time": "2022-10-06T11:55:53.453Z"
   },
   {
    "duration": 93,
    "start_time": "2022-10-06T11:55:53.597Z"
   },
   {
    "duration": 156,
    "start_time": "2022-10-06T11:55:53.693Z"
   },
   {
    "duration": 0,
    "start_time": "2022-10-06T11:55:53.851Z"
   },
   {
    "duration": 0,
    "start_time": "2022-10-06T11:55:53.853Z"
   },
   {
    "duration": 0,
    "start_time": "2022-10-06T11:55:53.854Z"
   },
   {
    "duration": 0,
    "start_time": "2022-10-06T11:55:53.856Z"
   },
   {
    "duration": 0,
    "start_time": "2022-10-06T11:55:53.858Z"
   },
   {
    "duration": 30,
    "start_time": "2022-10-06T11:56:27.865Z"
   },
   {
    "duration": 15,
    "start_time": "2022-10-06T11:56:33.186Z"
   },
   {
    "duration": 5,
    "start_time": "2022-10-06T11:57:07.776Z"
   },
   {
    "duration": 15,
    "start_time": "2022-10-06T11:57:17.221Z"
   },
   {
    "duration": 12,
    "start_time": "2022-10-06T11:58:19.917Z"
   },
   {
    "duration": 10336,
    "start_time": "2022-10-06T11:58:42.169Z"
   },
   {
    "duration": 9,
    "start_time": "2022-10-06T12:00:14.957Z"
   },
   {
    "duration": 10,
    "start_time": "2022-10-06T12:00:47.239Z"
   },
   {
    "duration": 1601,
    "start_time": "2022-10-06T12:00:55.336Z"
   },
   {
    "duration": 920,
    "start_time": "2022-10-06T12:00:56.939Z"
   },
   {
    "duration": 155,
    "start_time": "2022-10-06T12:00:57.861Z"
   },
   {
    "duration": 26,
    "start_time": "2022-10-06T12:00:58.018Z"
   },
   {
    "duration": 152,
    "start_time": "2022-10-06T12:00:58.046Z"
   },
   {
    "duration": 240,
    "start_time": "2022-10-06T12:00:58.201Z"
   },
   {
    "duration": 162,
    "start_time": "2022-10-06T12:00:58.442Z"
   },
   {
    "duration": 240,
    "start_time": "2022-10-06T12:00:58.607Z"
   },
   {
    "duration": 19,
    "start_time": "2022-10-06T12:00:58.848Z"
   },
   {
    "duration": 192,
    "start_time": "2022-10-06T12:00:58.871Z"
   },
   {
    "duration": 168,
    "start_time": "2022-10-06T12:00:59.064Z"
   },
   {
    "duration": 18,
    "start_time": "2022-10-06T12:00:59.234Z"
   },
   {
    "duration": 281,
    "start_time": "2022-10-06T12:00:59.253Z"
   },
   {
    "duration": 172,
    "start_time": "2022-10-06T12:00:59.536Z"
   },
   {
    "duration": 19,
    "start_time": "2022-10-06T12:00:59.710Z"
   },
   {
    "duration": 261,
    "start_time": "2022-10-06T12:00:59.731Z"
   },
   {
    "duration": 282,
    "start_time": "2022-10-06T12:00:59.994Z"
   },
   {
    "duration": 25,
    "start_time": "2022-10-06T12:01:00.278Z"
   },
   {
    "duration": 158,
    "start_time": "2022-10-06T12:01:00.307Z"
   },
   {
    "duration": 160,
    "start_time": "2022-10-06T12:01:00.467Z"
   },
   {
    "duration": 297,
    "start_time": "2022-10-06T12:01:00.629Z"
   },
   {
    "duration": 62,
    "start_time": "2022-10-06T12:01:00.928Z"
   },
   {
    "duration": 43,
    "start_time": "2022-10-06T12:01:00.992Z"
   },
   {
    "duration": 18,
    "start_time": "2022-10-06T12:01:01.037Z"
   },
   {
    "duration": 65,
    "start_time": "2022-10-06T12:01:01.057Z"
   },
   {
    "duration": 66,
    "start_time": "2022-10-06T12:01:01.124Z"
   },
   {
    "duration": 29,
    "start_time": "2022-10-06T12:01:01.192Z"
   },
   {
    "duration": 64,
    "start_time": "2022-10-06T12:01:01.225Z"
   },
   {
    "duration": 116,
    "start_time": "2022-10-06T12:01:01.291Z"
   },
   {
    "duration": 298,
    "start_time": "2022-10-06T12:01:01.409Z"
   },
   {
    "duration": 228,
    "start_time": "2022-10-06T12:01:01.709Z"
   },
   {
    "duration": 151,
    "start_time": "2022-10-06T12:01:01.939Z"
   },
   {
    "duration": 41,
    "start_time": "2022-10-06T12:01:02.092Z"
   },
   {
    "duration": 3,
    "start_time": "2022-10-06T12:01:02.136Z"
   },
   {
    "duration": 18,
    "start_time": "2022-10-06T12:01:02.142Z"
   },
   {
    "duration": 697,
    "start_time": "2022-10-06T12:01:02.163Z"
   },
   {
    "duration": 27,
    "start_time": "2022-10-06T12:01:02.862Z"
   },
   {
    "duration": 40,
    "start_time": "2022-10-06T12:01:02.891Z"
   },
   {
    "duration": 72,
    "start_time": "2022-10-06T12:01:02.933Z"
   },
   {
    "duration": 352,
    "start_time": "2022-10-06T12:01:03.007Z"
   },
   {
    "duration": 52,
    "start_time": "2022-10-06T12:01:03.361Z"
   },
   {
    "duration": 59,
    "start_time": "2022-10-06T12:01:03.415Z"
   },
   {
    "duration": 48,
    "start_time": "2022-10-06T12:01:03.476Z"
   },
   {
    "duration": 17,
    "start_time": "2022-10-06T12:01:03.526Z"
   },
   {
    "duration": 50,
    "start_time": "2022-10-06T12:01:03.545Z"
   },
   {
    "duration": 45,
    "start_time": "2022-10-06T12:01:03.597Z"
   },
   {
    "duration": 36,
    "start_time": "2022-10-06T12:01:03.644Z"
   },
   {
    "duration": 20,
    "start_time": "2022-10-06T12:01:03.682Z"
   },
   {
    "duration": 21,
    "start_time": "2022-10-06T12:01:03.704Z"
   },
   {
    "duration": 25,
    "start_time": "2022-10-06T12:01:03.728Z"
   },
   {
    "duration": 19,
    "start_time": "2022-10-06T12:01:03.755Z"
   },
   {
    "duration": 22,
    "start_time": "2022-10-06T12:01:03.776Z"
   },
   {
    "duration": 60,
    "start_time": "2022-10-06T12:01:03.800Z"
   },
   {
    "duration": 59,
    "start_time": "2022-10-06T12:01:03.862Z"
   },
   {
    "duration": 417,
    "start_time": "2022-10-06T12:01:03.923Z"
   },
   {
    "duration": 10,
    "start_time": "2022-10-06T12:01:04.342Z"
   },
   {
    "duration": 870,
    "start_time": "2022-10-06T12:01:04.354Z"
   },
   {
    "duration": 66,
    "start_time": "2022-10-06T12:01:05.226Z"
   },
   {
    "duration": 145,
    "start_time": "2022-10-06T12:01:05.295Z"
   },
   {
    "duration": 51,
    "start_time": "2022-10-06T12:01:05.442Z"
   },
   {
    "duration": 98,
    "start_time": "2022-10-06T12:01:05.495Z"
   },
   {
    "duration": 10153,
    "start_time": "2022-10-06T12:01:05.596Z"
   },
   {
    "duration": 3,
    "start_time": "2022-10-06T12:01:15.751Z"
   },
   {
    "duration": 16,
    "start_time": "2022-10-06T12:01:15.756Z"
   },
   {
    "duration": 28,
    "start_time": "2022-10-06T12:01:15.774Z"
   },
   {
    "duration": 20,
    "start_time": "2022-10-06T12:01:15.803Z"
   },
   {
    "duration": 131,
    "start_time": "2022-10-06T12:01:15.825Z"
   },
   {
    "duration": 932,
    "start_time": "2022-10-06T12:04:11.069Z"
   },
   {
    "duration": 903,
    "start_time": "2022-10-06T12:04:50.095Z"
   },
   {
    "duration": 6,
    "start_time": "2022-10-06T12:05:10.795Z"
   },
   {
    "duration": 17,
    "start_time": "2022-10-06T12:07:11.471Z"
   },
   {
    "duration": 928,
    "start_time": "2022-10-06T12:07:28.388Z"
   },
   {
    "duration": 103,
    "start_time": "2022-10-06T12:07:29.395Z"
   },
   {
    "duration": 11,
    "start_time": "2022-10-06T12:09:35.506Z"
   },
   {
    "duration": 157,
    "start_time": "2022-10-06T12:10:11.534Z"
   },
   {
    "duration": 152,
    "start_time": "2022-10-06T12:10:41.275Z"
   },
   {
    "duration": 1585,
    "start_time": "2022-10-06T12:16:57.670Z"
   },
   {
    "duration": 890,
    "start_time": "2022-10-06T12:16:59.257Z"
   },
   {
    "duration": 172,
    "start_time": "2022-10-06T12:17:00.149Z"
   },
   {
    "duration": 31,
    "start_time": "2022-10-06T12:17:00.323Z"
   },
   {
    "duration": 150,
    "start_time": "2022-10-06T12:17:00.356Z"
   },
   {
    "duration": 215,
    "start_time": "2022-10-06T12:17:00.509Z"
   },
   {
    "duration": 159,
    "start_time": "2022-10-06T12:17:00.726Z"
   },
   {
    "duration": 224,
    "start_time": "2022-10-06T12:17:00.886Z"
   },
   {
    "duration": 17,
    "start_time": "2022-10-06T12:17:01.112Z"
   },
   {
    "duration": 195,
    "start_time": "2022-10-06T12:17:01.132Z"
   },
   {
    "duration": 179,
    "start_time": "2022-10-06T12:17:01.328Z"
   },
   {
    "duration": 17,
    "start_time": "2022-10-06T12:17:01.509Z"
   },
   {
    "duration": 321,
    "start_time": "2022-10-06T12:17:01.528Z"
   },
   {
    "duration": 205,
    "start_time": "2022-10-06T12:17:01.851Z"
   },
   {
    "duration": 21,
    "start_time": "2022-10-06T12:17:02.058Z"
   },
   {
    "duration": 277,
    "start_time": "2022-10-06T12:17:02.097Z"
   },
   {
    "duration": 335,
    "start_time": "2022-10-06T12:17:02.377Z"
   },
   {
    "duration": 18,
    "start_time": "2022-10-06T12:17:02.714Z"
   },
   {
    "duration": 163,
    "start_time": "2022-10-06T12:17:02.734Z"
   },
   {
    "duration": 161,
    "start_time": "2022-10-06T12:17:02.899Z"
   },
   {
    "duration": 274,
    "start_time": "2022-10-06T12:17:03.062Z"
   },
   {
    "duration": 64,
    "start_time": "2022-10-06T12:17:03.338Z"
   },
   {
    "duration": 53,
    "start_time": "2022-10-06T12:17:03.405Z"
   },
   {
    "duration": 31,
    "start_time": "2022-10-06T12:17:03.460Z"
   },
   {
    "duration": 42,
    "start_time": "2022-10-06T12:17:03.494Z"
   },
   {
    "duration": 29,
    "start_time": "2022-10-06T12:17:03.538Z"
   },
   {
    "duration": 23,
    "start_time": "2022-10-06T12:17:03.569Z"
   },
   {
    "duration": 9,
    "start_time": "2022-10-06T12:17:03.597Z"
   },
   {
    "duration": 33,
    "start_time": "2022-10-06T12:17:03.608Z"
   },
   {
    "duration": 305,
    "start_time": "2022-10-06T12:17:03.643Z"
   },
   {
    "duration": 251,
    "start_time": "2022-10-06T12:17:03.950Z"
   },
   {
    "duration": 153,
    "start_time": "2022-10-06T12:17:04.203Z"
   },
   {
    "duration": 46,
    "start_time": "2022-10-06T12:17:04.358Z"
   },
   {
    "duration": 4,
    "start_time": "2022-10-06T12:17:04.406Z"
   },
   {
    "duration": 16,
    "start_time": "2022-10-06T12:17:04.412Z"
   },
   {
    "duration": 678,
    "start_time": "2022-10-06T12:17:04.430Z"
   },
   {
    "duration": 23,
    "start_time": "2022-10-06T12:17:05.110Z"
   },
   {
    "duration": 34,
    "start_time": "2022-10-06T12:17:05.136Z"
   },
   {
    "duration": 61,
    "start_time": "2022-10-06T12:17:05.190Z"
   },
   {
    "duration": 421,
    "start_time": "2022-10-06T12:17:05.253Z"
   },
   {
    "duration": 48,
    "start_time": "2022-10-06T12:17:05.676Z"
   },
   {
    "duration": 89,
    "start_time": "2022-10-06T12:17:05.727Z"
   },
   {
    "duration": 81,
    "start_time": "2022-10-06T12:17:05.818Z"
   },
   {
    "duration": 5,
    "start_time": "2022-10-06T12:17:05.902Z"
   },
   {
    "duration": 14,
    "start_time": "2022-10-06T12:17:05.911Z"
   },
   {
    "duration": 37,
    "start_time": "2022-10-06T12:17:05.927Z"
   },
   {
    "duration": 33,
    "start_time": "2022-10-06T12:17:05.968Z"
   },
   {
    "duration": 17,
    "start_time": "2022-10-06T12:17:06.005Z"
   },
   {
    "duration": 18,
    "start_time": "2022-10-06T12:17:06.024Z"
   },
   {
    "duration": 13,
    "start_time": "2022-10-06T12:17:06.044Z"
   },
   {
    "duration": 38,
    "start_time": "2022-10-06T12:17:06.058Z"
   },
   {
    "duration": 17,
    "start_time": "2022-10-06T12:17:06.098Z"
   },
   {
    "duration": 55,
    "start_time": "2022-10-06T12:17:06.117Z"
   },
   {
    "duration": 59,
    "start_time": "2022-10-06T12:17:06.189Z"
   },
   {
    "duration": 421,
    "start_time": "2022-10-06T12:17:06.250Z"
   },
   {
    "duration": 10,
    "start_time": "2022-10-06T12:17:06.672Z"
   },
   {
    "duration": 831,
    "start_time": "2022-10-06T12:17:06.683Z"
   },
   {
    "duration": 83,
    "start_time": "2022-10-06T12:17:07.516Z"
   },
   {
    "duration": 215,
    "start_time": "2022-10-06T12:17:07.601Z"
   },
   {
    "duration": 0,
    "start_time": "2022-10-06T12:17:07.818Z"
   },
   {
    "duration": 0,
    "start_time": "2022-10-06T12:17:07.820Z"
   },
   {
    "duration": 0,
    "start_time": "2022-10-06T12:17:07.821Z"
   },
   {
    "duration": 0,
    "start_time": "2022-10-06T12:17:07.823Z"
   },
   {
    "duration": 0,
    "start_time": "2022-10-06T12:17:07.824Z"
   },
   {
    "duration": 0,
    "start_time": "2022-10-06T12:17:07.826Z"
   },
   {
    "duration": 0,
    "start_time": "2022-10-06T12:17:07.828Z"
   },
   {
    "duration": 0,
    "start_time": "2022-10-06T12:17:07.829Z"
   },
   {
    "duration": 0,
    "start_time": "2022-10-06T12:17:07.830Z"
   },
   {
    "duration": 0,
    "start_time": "2022-10-06T12:17:07.832Z"
   },
   {
    "duration": 1541,
    "start_time": "2022-10-06T12:17:35.211Z"
   },
   {
    "duration": 938,
    "start_time": "2022-10-06T12:17:36.754Z"
   },
   {
    "duration": 147,
    "start_time": "2022-10-06T12:17:37.693Z"
   },
   {
    "duration": 27,
    "start_time": "2022-10-06T12:17:37.842Z"
   },
   {
    "duration": 159,
    "start_time": "2022-10-06T12:17:37.871Z"
   },
   {
    "duration": 205,
    "start_time": "2022-10-06T12:17:38.031Z"
   },
   {
    "duration": 152,
    "start_time": "2022-10-06T12:17:38.238Z"
   },
   {
    "duration": 225,
    "start_time": "2022-10-06T12:17:38.392Z"
   },
   {
    "duration": 20,
    "start_time": "2022-10-06T12:17:38.619Z"
   },
   {
    "duration": 173,
    "start_time": "2022-10-06T12:17:38.640Z"
   },
   {
    "duration": 158,
    "start_time": "2022-10-06T12:17:38.814Z"
   },
   {
    "duration": 27,
    "start_time": "2022-10-06T12:17:38.974Z"
   },
   {
    "duration": 244,
    "start_time": "2022-10-06T12:17:39.002Z"
   },
   {
    "duration": 163,
    "start_time": "2022-10-06T12:17:39.249Z"
   },
   {
    "duration": 17,
    "start_time": "2022-10-06T12:17:39.414Z"
   },
   {
    "duration": 223,
    "start_time": "2022-10-06T12:17:39.433Z"
   },
   {
    "duration": 250,
    "start_time": "2022-10-06T12:17:39.658Z"
   },
   {
    "duration": 18,
    "start_time": "2022-10-06T12:17:39.909Z"
   },
   {
    "duration": 134,
    "start_time": "2022-10-06T12:17:39.928Z"
   },
   {
    "duration": 175,
    "start_time": "2022-10-06T12:17:40.064Z"
   },
   {
    "duration": 251,
    "start_time": "2022-10-06T12:17:40.240Z"
   },
   {
    "duration": 49,
    "start_time": "2022-10-06T12:17:40.493Z"
   },
   {
    "duration": 53,
    "start_time": "2022-10-06T12:17:40.544Z"
   },
   {
    "duration": 16,
    "start_time": "2022-10-06T12:17:40.599Z"
   },
   {
    "duration": 48,
    "start_time": "2022-10-06T12:17:40.617Z"
   },
   {
    "duration": 41,
    "start_time": "2022-10-06T12:17:40.667Z"
   },
   {
    "duration": 8,
    "start_time": "2022-10-06T12:17:40.710Z"
   },
   {
    "duration": 9,
    "start_time": "2022-10-06T12:17:40.719Z"
   },
   {
    "duration": 36,
    "start_time": "2022-10-06T12:17:40.730Z"
   },
   {
    "duration": 274,
    "start_time": "2022-10-06T12:17:40.768Z"
   },
   {
    "duration": 209,
    "start_time": "2022-10-06T12:17:41.044Z"
   },
   {
    "duration": 145,
    "start_time": "2022-10-06T12:17:41.255Z"
   },
   {
    "duration": 35,
    "start_time": "2022-10-06T12:17:41.402Z"
   },
   {
    "duration": 3,
    "start_time": "2022-10-06T12:17:41.439Z"
   },
   {
    "duration": 5,
    "start_time": "2022-10-06T12:17:41.444Z"
   },
   {
    "duration": 752,
    "start_time": "2022-10-06T12:17:41.451Z"
   },
   {
    "duration": 19,
    "start_time": "2022-10-06T12:17:42.205Z"
   },
   {
    "duration": 50,
    "start_time": "2022-10-06T12:17:42.226Z"
   },
   {
    "duration": 62,
    "start_time": "2022-10-06T12:17:42.278Z"
   },
   {
    "duration": 330,
    "start_time": "2022-10-06T12:17:42.342Z"
   },
   {
    "duration": 49,
    "start_time": "2022-10-06T12:17:42.677Z"
   },
   {
    "duration": 69,
    "start_time": "2022-10-06T12:17:42.728Z"
   },
   {
    "duration": 48,
    "start_time": "2022-10-06T12:17:42.800Z"
   },
   {
    "duration": 20,
    "start_time": "2022-10-06T12:17:42.850Z"
   },
   {
    "duration": 40,
    "start_time": "2022-10-06T12:17:42.872Z"
   },
   {
    "duration": 28,
    "start_time": "2022-10-06T12:17:42.914Z"
   },
   {
    "duration": 24,
    "start_time": "2022-10-06T12:17:42.945Z"
   },
   {
    "duration": 19,
    "start_time": "2022-10-06T12:17:42.971Z"
   },
   {
    "duration": 34,
    "start_time": "2022-10-06T12:17:42.992Z"
   },
   {
    "duration": 42,
    "start_time": "2022-10-06T12:17:43.029Z"
   },
   {
    "duration": 26,
    "start_time": "2022-10-06T12:17:43.073Z"
   },
   {
    "duration": 42,
    "start_time": "2022-10-06T12:17:43.101Z"
   },
   {
    "duration": 59,
    "start_time": "2022-10-06T12:17:43.145Z"
   },
   {
    "duration": 44,
    "start_time": "2022-10-06T12:17:43.206Z"
   },
   {
    "duration": 392,
    "start_time": "2022-10-06T12:17:43.252Z"
   },
   {
    "duration": 8,
    "start_time": "2022-10-06T12:17:43.646Z"
   },
   {
    "duration": 873,
    "start_time": "2022-10-06T12:17:43.656Z"
   },
   {
    "duration": 165,
    "start_time": "2022-10-06T12:17:44.530Z"
   },
   {
    "duration": 85,
    "start_time": "2022-10-06T12:17:44.696Z"
   },
   {
    "duration": 21,
    "start_time": "2022-10-06T12:17:44.782Z"
   },
   {
    "duration": 10554,
    "start_time": "2022-10-06T12:17:44.891Z"
   },
   {
    "duration": 3,
    "start_time": "2022-10-06T12:17:55.447Z"
   },
   {
    "duration": 40,
    "start_time": "2022-10-06T12:17:55.453Z"
   },
   {
    "duration": 34,
    "start_time": "2022-10-06T12:17:55.495Z"
   },
   {
    "duration": 41,
    "start_time": "2022-10-06T12:17:55.530Z"
   },
   {
    "duration": 3287,
    "start_time": "2022-10-07T11:40:54.266Z"
   },
   {
    "duration": 1640,
    "start_time": "2022-10-07T11:40:57.556Z"
   },
   {
    "duration": 176,
    "start_time": "2022-10-07T11:40:59.199Z"
   },
   {
    "duration": 54,
    "start_time": "2022-10-07T11:40:59.378Z"
   },
   {
    "duration": 220,
    "start_time": "2022-10-07T11:40:59.436Z"
   },
   {
    "duration": 193,
    "start_time": "2022-10-07T11:40:59.658Z"
   },
   {
    "duration": 154,
    "start_time": "2022-10-07T11:40:59.853Z"
   },
   {
    "duration": 266,
    "start_time": "2022-10-07T11:41:00.009Z"
   },
   {
    "duration": 22,
    "start_time": "2022-10-07T11:41:00.277Z"
   },
   {
    "duration": 194,
    "start_time": "2022-10-07T11:41:00.301Z"
   },
   {
    "duration": 262,
    "start_time": "2022-10-07T11:41:00.497Z"
   },
   {
    "duration": 23,
    "start_time": "2022-10-07T11:41:00.761Z"
   },
   {
    "duration": 207,
    "start_time": "2022-10-07T11:41:00.786Z"
   },
   {
    "duration": 189,
    "start_time": "2022-10-07T11:41:00.997Z"
   },
   {
    "duration": 33,
    "start_time": "2022-10-07T11:41:01.189Z"
   },
   {
    "duration": 240,
    "start_time": "2022-10-07T11:41:01.224Z"
   },
   {
    "duration": 325,
    "start_time": "2022-10-07T11:41:01.466Z"
   },
   {
    "duration": 30,
    "start_time": "2022-10-07T11:41:01.793Z"
   },
   {
    "duration": 173,
    "start_time": "2022-10-07T11:41:01.825Z"
   },
   {
    "duration": 186,
    "start_time": "2022-10-07T11:41:02.001Z"
   },
   {
    "duration": 311,
    "start_time": "2022-10-07T11:41:02.189Z"
   },
   {
    "duration": 60,
    "start_time": "2022-10-07T11:41:02.502Z"
   },
   {
    "duration": 57,
    "start_time": "2022-10-07T11:41:02.564Z"
   },
   {
    "duration": 22,
    "start_time": "2022-10-07T11:41:02.623Z"
   },
   {
    "duration": 44,
    "start_time": "2022-10-07T11:41:02.647Z"
   },
   {
    "duration": 41,
    "start_time": "2022-10-07T11:41:02.693Z"
   },
   {
    "duration": 15,
    "start_time": "2022-10-07T11:41:02.736Z"
   },
   {
    "duration": 18,
    "start_time": "2022-10-07T11:41:02.753Z"
   },
   {
    "duration": 48,
    "start_time": "2022-10-07T11:41:02.774Z"
   },
   {
    "duration": 256,
    "start_time": "2022-10-07T11:41:02.824Z"
   },
   {
    "duration": 333,
    "start_time": "2022-10-07T11:41:03.082Z"
   },
   {
    "duration": 170,
    "start_time": "2022-10-07T11:41:03.420Z"
   },
   {
    "duration": 56,
    "start_time": "2022-10-07T11:41:03.592Z"
   },
   {
    "duration": 4,
    "start_time": "2022-10-07T11:41:03.650Z"
   },
   {
    "duration": 30,
    "start_time": "2022-10-07T11:41:03.656Z"
   },
   {
    "duration": 886,
    "start_time": "2022-10-07T11:41:03.688Z"
   },
   {
    "duration": 165,
    "start_time": "2022-10-07T11:41:19.721Z"
   },
   {
    "duration": 13,
    "start_time": "2022-10-07T11:41:23.232Z"
   },
   {
    "duration": 22,
    "start_time": "2022-10-07T11:41:38.797Z"
   },
   {
    "duration": 51,
    "start_time": "2022-10-08T07:34:50.936Z"
   },
   {
    "duration": 1695,
    "start_time": "2022-10-08T07:34:58.417Z"
   },
   {
    "duration": 1184,
    "start_time": "2022-10-08T07:35:00.114Z"
   },
   {
    "duration": 121,
    "start_time": "2022-10-08T07:35:01.300Z"
   },
   {
    "duration": 45,
    "start_time": "2022-10-08T07:35:01.424Z"
   },
   {
    "duration": 177,
    "start_time": "2022-10-08T07:35:01.471Z"
   },
   {
    "duration": 191,
    "start_time": "2022-10-08T07:35:01.650Z"
   },
   {
    "duration": 127,
    "start_time": "2022-10-08T07:35:01.843Z"
   },
   {
    "duration": 228,
    "start_time": "2022-10-08T07:35:01.972Z"
   },
   {
    "duration": 17,
    "start_time": "2022-10-08T07:35:02.202Z"
   },
   {
    "duration": 173,
    "start_time": "2022-10-08T07:35:02.222Z"
   },
   {
    "duration": 159,
    "start_time": "2022-10-08T07:35:02.397Z"
   },
   {
    "duration": 18,
    "start_time": "2022-10-08T07:35:02.557Z"
   },
   {
    "duration": 262,
    "start_time": "2022-10-08T07:35:02.577Z"
   },
   {
    "duration": 164,
    "start_time": "2022-10-08T07:35:02.841Z"
   },
   {
    "duration": 19,
    "start_time": "2022-10-08T07:35:03.007Z"
   },
   {
    "duration": 229,
    "start_time": "2022-10-08T07:35:03.028Z"
   },
   {
    "duration": 242,
    "start_time": "2022-10-08T07:35:03.259Z"
   },
   {
    "duration": 20,
    "start_time": "2022-10-08T07:35:03.503Z"
   },
   {
    "duration": 141,
    "start_time": "2022-10-08T07:35:03.525Z"
   },
   {
    "duration": 170,
    "start_time": "2022-10-08T07:35:03.669Z"
   },
   {
    "duration": 278,
    "start_time": "2022-10-08T07:35:03.841Z"
   },
   {
    "duration": 71,
    "start_time": "2022-10-08T07:35:04.122Z"
   },
   {
    "duration": 64,
    "start_time": "2022-10-08T07:35:04.195Z"
   },
   {
    "duration": 18,
    "start_time": "2022-10-08T07:35:04.261Z"
   },
   {
    "duration": 46,
    "start_time": "2022-10-08T07:35:04.281Z"
   },
   {
    "duration": 59,
    "start_time": "2022-10-08T07:35:04.330Z"
   },
   {
    "duration": 8,
    "start_time": "2022-10-08T07:35:04.391Z"
   },
   {
    "duration": 5,
    "start_time": "2022-10-08T07:35:04.404Z"
   },
   {
    "duration": 55,
    "start_time": "2022-10-08T07:35:04.412Z"
   },
   {
    "duration": 272,
    "start_time": "2022-10-08T07:35:04.469Z"
   },
   {
    "duration": 210,
    "start_time": "2022-10-08T07:35:04.744Z"
   },
   {
    "duration": 114,
    "start_time": "2022-10-08T07:35:04.956Z"
   },
   {
    "duration": 32,
    "start_time": "2022-10-08T07:35:05.073Z"
   },
   {
    "duration": 4,
    "start_time": "2022-10-08T07:35:05.107Z"
   },
   {
    "duration": 6,
    "start_time": "2022-10-08T07:35:05.113Z"
   },
   {
    "duration": 253,
    "start_time": "2022-10-08T07:35:05.120Z"
   },
   {
    "duration": 0,
    "start_time": "2022-10-08T07:35:05.375Z"
   },
   {
    "duration": 0,
    "start_time": "2022-10-08T07:35:05.377Z"
   },
   {
    "duration": 0,
    "start_time": "2022-10-08T07:35:05.378Z"
   },
   {
    "duration": 0,
    "start_time": "2022-10-08T07:35:05.379Z"
   },
   {
    "duration": 0,
    "start_time": "2022-10-08T07:35:05.380Z"
   },
   {
    "duration": 0,
    "start_time": "2022-10-08T07:35:05.381Z"
   },
   {
    "duration": 0,
    "start_time": "2022-10-08T07:35:05.383Z"
   },
   {
    "duration": 0,
    "start_time": "2022-10-08T07:35:05.384Z"
   },
   {
    "duration": 0,
    "start_time": "2022-10-08T07:35:05.385Z"
   },
   {
    "duration": 0,
    "start_time": "2022-10-08T07:35:05.386Z"
   },
   {
    "duration": 0,
    "start_time": "2022-10-08T07:35:05.387Z"
   },
   {
    "duration": 0,
    "start_time": "2022-10-08T07:35:05.388Z"
   },
   {
    "duration": 0,
    "start_time": "2022-10-08T07:35:05.389Z"
   },
   {
    "duration": 0,
    "start_time": "2022-10-08T07:35:05.391Z"
   },
   {
    "duration": 0,
    "start_time": "2022-10-08T07:35:05.392Z"
   },
   {
    "duration": 0,
    "start_time": "2022-10-08T07:35:05.393Z"
   },
   {
    "duration": 0,
    "start_time": "2022-10-08T07:35:05.395Z"
   },
   {
    "duration": 0,
    "start_time": "2022-10-08T07:35:05.396Z"
   },
   {
    "duration": 0,
    "start_time": "2022-10-08T07:35:05.397Z"
   },
   {
    "duration": 0,
    "start_time": "2022-10-08T07:35:05.398Z"
   },
   {
    "duration": 0,
    "start_time": "2022-10-08T07:35:05.398Z"
   },
   {
    "duration": 0,
    "start_time": "2022-10-08T07:35:05.400Z"
   },
   {
    "duration": 0,
    "start_time": "2022-10-08T07:35:05.400Z"
   },
   {
    "duration": 0,
    "start_time": "2022-10-08T07:35:05.401Z"
   },
   {
    "duration": 0,
    "start_time": "2022-10-08T07:35:05.403Z"
   },
   {
    "duration": 0,
    "start_time": "2022-10-08T07:35:05.404Z"
   },
   {
    "duration": 0,
    "start_time": "2022-10-08T07:35:05.405Z"
   },
   {
    "duration": 0,
    "start_time": "2022-10-08T07:35:05.406Z"
   },
   {
    "duration": 0,
    "start_time": "2022-10-08T07:35:05.407Z"
   },
   {
    "duration": 0,
    "start_time": "2022-10-08T07:35:05.455Z"
   },
   {
    "duration": 0,
    "start_time": "2022-10-08T07:35:05.457Z"
   },
   {
    "duration": 0,
    "start_time": "2022-10-08T07:35:05.458Z"
   },
   {
    "duration": 0,
    "start_time": "2022-10-08T07:35:05.458Z"
   },
   {
    "duration": 0,
    "start_time": "2022-10-08T07:35:05.460Z"
   },
   {
    "duration": 3,
    "start_time": "2022-10-08T07:39:51.041Z"
   },
   {
    "duration": 447,
    "start_time": "2022-10-08T07:43:18.282Z"
   },
   {
    "duration": 68,
    "start_time": "2022-10-08T07:43:28.395Z"
   },
   {
    "duration": 62,
    "start_time": "2022-10-08T07:43:31.297Z"
   },
   {
    "duration": 192,
    "start_time": "2022-10-08T07:46:25.697Z"
   },
   {
    "duration": 519,
    "start_time": "2022-10-08T07:58:12.340Z"
   },
   {
    "duration": 1057,
    "start_time": "2022-10-08T07:58:28.258Z"
   },
   {
    "duration": 14,
    "start_time": "2022-10-08T07:58:33.911Z"
   },
   {
    "duration": 14,
    "start_time": "2022-10-08T07:58:36.029Z"
   },
   {
    "duration": 13,
    "start_time": "2022-10-08T07:59:26.851Z"
   },
   {
    "duration": 7,
    "start_time": "2022-10-08T08:00:10.351Z"
   },
   {
    "duration": 1524,
    "start_time": "2022-10-08T08:00:19.903Z"
   },
   {
    "duration": 1298,
    "start_time": "2022-10-08T08:00:42.680Z"
   },
   {
    "duration": 10,
    "start_time": "2022-10-08T08:02:15.512Z"
   },
   {
    "duration": 45,
    "start_time": "2022-10-08T08:03:13.329Z"
   },
   {
    "duration": 1601,
    "start_time": "2022-10-08T08:03:22.649Z"
   },
   {
    "duration": 1328,
    "start_time": "2022-10-08T08:03:24.254Z"
   },
   {
    "duration": 128,
    "start_time": "2022-10-08T08:03:25.584Z"
   },
   {
    "duration": 44,
    "start_time": "2022-10-08T08:03:25.714Z"
   },
   {
    "duration": 120,
    "start_time": "2022-10-08T08:03:25.761Z"
   },
   {
    "duration": 199,
    "start_time": "2022-10-08T08:03:25.882Z"
   },
   {
    "duration": 122,
    "start_time": "2022-10-08T08:03:26.082Z"
   },
   {
    "duration": 223,
    "start_time": "2022-10-08T08:03:26.205Z"
   },
   {
    "duration": 30,
    "start_time": "2022-10-08T08:03:26.430Z"
   },
   {
    "duration": 179,
    "start_time": "2022-10-08T08:03:26.462Z"
   },
   {
    "duration": 173,
    "start_time": "2022-10-08T08:03:26.643Z"
   },
   {
    "duration": 19,
    "start_time": "2022-10-08T08:03:26.818Z"
   },
   {
    "duration": 281,
    "start_time": "2022-10-08T08:03:26.853Z"
   },
   {
    "duration": 219,
    "start_time": "2022-10-08T08:03:27.140Z"
   },
   {
    "duration": 21,
    "start_time": "2022-10-08T08:03:27.361Z"
   },
   {
    "duration": 249,
    "start_time": "2022-10-08T08:03:27.384Z"
   },
   {
    "duration": 272,
    "start_time": "2022-10-08T08:03:27.635Z"
   },
   {
    "duration": 22,
    "start_time": "2022-10-08T08:03:27.909Z"
   },
   {
    "duration": 153,
    "start_time": "2022-10-08T08:03:27.933Z"
   },
   {
    "duration": 171,
    "start_time": "2022-10-08T08:03:28.088Z"
   },
   {
    "duration": 275,
    "start_time": "2022-10-08T08:03:28.261Z"
   },
   {
    "duration": 76,
    "start_time": "2022-10-08T08:03:28.538Z"
   },
   {
    "duration": 76,
    "start_time": "2022-10-08T08:03:28.616Z"
   },
   {
    "duration": 20,
    "start_time": "2022-10-08T08:03:28.694Z"
   },
   {
    "duration": 66,
    "start_time": "2022-10-08T08:03:28.717Z"
   },
   {
    "duration": 25,
    "start_time": "2022-10-08T08:03:28.785Z"
   },
   {
    "duration": 7,
    "start_time": "2022-10-08T08:03:28.813Z"
   },
   {
    "duration": 38,
    "start_time": "2022-10-08T08:03:28.822Z"
   },
   {
    "duration": 24,
    "start_time": "2022-10-08T08:03:28.862Z"
   },
   {
    "duration": 257,
    "start_time": "2022-10-08T08:03:28.889Z"
   },
   {
    "duration": 216,
    "start_time": "2022-10-08T08:03:29.147Z"
   },
   {
    "duration": 126,
    "start_time": "2022-10-08T08:03:29.366Z"
   },
   {
    "duration": 60,
    "start_time": "2022-10-08T08:03:29.494Z"
   },
   {
    "duration": 3,
    "start_time": "2022-10-08T08:03:29.556Z"
   },
   {
    "duration": 7,
    "start_time": "2022-10-08T08:03:29.561Z"
   },
   {
    "duration": 1170,
    "start_time": "2022-10-08T08:03:29.570Z"
   },
   {
    "duration": 16,
    "start_time": "2022-10-08T08:03:30.741Z"
   },
   {
    "duration": 40,
    "start_time": "2022-10-08T08:03:30.759Z"
   },
   {
    "duration": 28,
    "start_time": "2022-10-08T08:03:30.802Z"
   },
   {
    "duration": 86,
    "start_time": "2022-10-08T08:03:30.832Z"
   },
   {
    "duration": 74,
    "start_time": "2022-10-08T08:03:30.925Z"
   },
   {
    "duration": 15,
    "start_time": "2022-10-08T08:03:31.001Z"
   },
   {
    "duration": 28,
    "start_time": "2022-10-08T08:03:31.018Z"
   },
   {
    "duration": 1443,
    "start_time": "2022-10-08T08:03:31.048Z"
   },
   {
    "duration": 0,
    "start_time": "2022-10-08T08:03:32.494Z"
   },
   {
    "duration": 0,
    "start_time": "2022-10-08T08:03:32.495Z"
   },
   {
    "duration": 0,
    "start_time": "2022-10-08T08:03:32.497Z"
   },
   {
    "duration": 0,
    "start_time": "2022-10-08T08:03:32.499Z"
   },
   {
    "duration": 0,
    "start_time": "2022-10-08T08:03:32.500Z"
   },
   {
    "duration": 0,
    "start_time": "2022-10-08T08:03:32.501Z"
   },
   {
    "duration": 0,
    "start_time": "2022-10-08T08:03:32.502Z"
   },
   {
    "duration": 0,
    "start_time": "2022-10-08T08:03:32.504Z"
   },
   {
    "duration": 0,
    "start_time": "2022-10-08T08:03:32.505Z"
   },
   {
    "duration": 0,
    "start_time": "2022-10-08T08:03:32.507Z"
   },
   {
    "duration": 0,
    "start_time": "2022-10-08T08:03:32.508Z"
   },
   {
    "duration": 0,
    "start_time": "2022-10-08T08:03:32.509Z"
   },
   {
    "duration": 0,
    "start_time": "2022-10-08T08:03:32.510Z"
   },
   {
    "duration": 0,
    "start_time": "2022-10-08T08:03:32.511Z"
   },
   {
    "duration": 0,
    "start_time": "2022-10-08T08:03:32.512Z"
   },
   {
    "duration": 0,
    "start_time": "2022-10-08T08:03:32.514Z"
   },
   {
    "duration": 0,
    "start_time": "2022-10-08T08:03:32.554Z"
   },
   {
    "duration": 0,
    "start_time": "2022-10-08T08:03:32.555Z"
   },
   {
    "duration": 0,
    "start_time": "2022-10-08T08:03:32.556Z"
   },
   {
    "duration": 0,
    "start_time": "2022-10-08T08:03:32.558Z"
   },
   {
    "duration": 0,
    "start_time": "2022-10-08T08:03:32.559Z"
   },
   {
    "duration": 0,
    "start_time": "2022-10-08T08:03:32.560Z"
   },
   {
    "duration": 56,
    "start_time": "2022-10-08T08:07:28.025Z"
   },
   {
    "duration": 1767,
    "start_time": "2022-10-08T08:07:35.142Z"
   },
   {
    "duration": 1465,
    "start_time": "2022-10-08T08:07:36.911Z"
   },
   {
    "duration": 130,
    "start_time": "2022-10-08T08:07:38.378Z"
   },
   {
    "duration": 28,
    "start_time": "2022-10-08T08:07:38.510Z"
   },
   {
    "duration": 142,
    "start_time": "2022-10-08T08:07:38.555Z"
   },
   {
    "duration": 217,
    "start_time": "2022-10-08T08:07:38.699Z"
   },
   {
    "duration": 165,
    "start_time": "2022-10-08T08:07:38.919Z"
   },
   {
    "duration": 271,
    "start_time": "2022-10-08T08:07:39.087Z"
   },
   {
    "duration": 21,
    "start_time": "2022-10-08T08:07:39.360Z"
   },
   {
    "duration": 184,
    "start_time": "2022-10-08T08:07:39.383Z"
   },
   {
    "duration": 231,
    "start_time": "2022-10-08T08:07:39.569Z"
   },
   {
    "duration": 24,
    "start_time": "2022-10-08T08:07:39.802Z"
   },
   {
    "duration": 311,
    "start_time": "2022-10-08T08:07:39.828Z"
   },
   {
    "duration": 183,
    "start_time": "2022-10-08T08:07:40.155Z"
   },
   {
    "duration": 28,
    "start_time": "2022-10-08T08:07:40.340Z"
   },
   {
    "duration": 225,
    "start_time": "2022-10-08T08:07:40.371Z"
   },
   {
    "duration": 302,
    "start_time": "2022-10-08T08:07:40.598Z"
   },
   {
    "duration": 20,
    "start_time": "2022-10-08T08:07:40.902Z"
   },
   {
    "duration": 139,
    "start_time": "2022-10-08T08:07:40.924Z"
   },
   {
    "duration": 176,
    "start_time": "2022-10-08T08:07:41.066Z"
   },
   {
    "duration": 321,
    "start_time": "2022-10-08T08:07:41.244Z"
   },
   {
    "duration": 70,
    "start_time": "2022-10-08T08:07:41.567Z"
   },
   {
    "duration": 72,
    "start_time": "2022-10-08T08:07:41.640Z"
   },
   {
    "duration": 20,
    "start_time": "2022-10-08T08:07:41.715Z"
   },
   {
    "duration": 115,
    "start_time": "2022-10-08T08:07:41.756Z"
   },
   {
    "duration": 29,
    "start_time": "2022-10-08T08:07:41.874Z"
   },
   {
    "duration": 7,
    "start_time": "2022-10-08T08:07:41.905Z"
   },
   {
    "duration": 35,
    "start_time": "2022-10-08T08:07:41.915Z"
   },
   {
    "duration": 27,
    "start_time": "2022-10-08T08:07:41.952Z"
   },
   {
    "duration": 374,
    "start_time": "2022-10-08T08:07:41.981Z"
   },
   {
    "duration": 400,
    "start_time": "2022-10-08T08:07:42.357Z"
   },
   {
    "duration": 164,
    "start_time": "2022-10-08T08:07:42.759Z"
   },
   {
    "duration": 54,
    "start_time": "2022-10-08T08:07:42.925Z"
   },
   {
    "duration": 3,
    "start_time": "2022-10-08T08:07:42.982Z"
   },
   {
    "duration": 10,
    "start_time": "2022-10-08T08:07:42.988Z"
   },
   {
    "duration": 1164,
    "start_time": "2022-10-08T08:07:42.999Z"
   },
   {
    "duration": 94,
    "start_time": "2022-10-08T08:07:44.165Z"
   },
   {
    "duration": 94,
    "start_time": "2022-10-08T08:07:44.262Z"
   },
   {
    "duration": 76,
    "start_time": "2022-10-08T08:07:44.358Z"
   },
   {
    "duration": 78,
    "start_time": "2022-10-08T08:07:44.455Z"
   },
   {
    "duration": 255,
    "start_time": "2022-10-08T08:07:44.537Z"
   },
   {
    "duration": 25,
    "start_time": "2022-10-08T08:07:44.794Z"
   },
   {
    "duration": 11,
    "start_time": "2022-10-08T08:07:44.821Z"
   },
   {
    "duration": 53,
    "start_time": "2022-10-08T08:08:36.839Z"
   },
   {
    "duration": 1661,
    "start_time": "2022-10-08T08:08:53.315Z"
   },
   {
    "duration": 1259,
    "start_time": "2022-10-08T08:08:54.978Z"
   },
   {
    "duration": 126,
    "start_time": "2022-10-08T08:08:56.238Z"
   },
   {
    "duration": 26,
    "start_time": "2022-10-08T08:08:56.366Z"
   },
   {
    "duration": 135,
    "start_time": "2022-10-08T08:08:56.394Z"
   },
   {
    "duration": 194,
    "start_time": "2022-10-08T08:08:56.531Z"
   },
   {
    "duration": 115,
    "start_time": "2022-10-08T08:08:56.727Z"
   },
   {
    "duration": 218,
    "start_time": "2022-10-08T08:08:56.853Z"
   },
   {
    "duration": 19,
    "start_time": "2022-10-08T08:08:57.073Z"
   },
   {
    "duration": 181,
    "start_time": "2022-10-08T08:08:57.095Z"
   },
   {
    "duration": 164,
    "start_time": "2022-10-08T08:08:57.278Z"
   },
   {
    "duration": 25,
    "start_time": "2022-10-08T08:08:57.443Z"
   },
   {
    "duration": 280,
    "start_time": "2022-10-08T08:08:57.469Z"
   },
   {
    "duration": 192,
    "start_time": "2022-10-08T08:08:57.753Z"
   },
   {
    "duration": 24,
    "start_time": "2022-10-08T08:08:57.947Z"
   },
   {
    "duration": 229,
    "start_time": "2022-10-08T08:08:57.974Z"
   },
   {
    "duration": 236,
    "start_time": "2022-10-08T08:08:58.204Z"
   },
   {
    "duration": 29,
    "start_time": "2022-10-08T08:08:58.442Z"
   },
   {
    "duration": 146,
    "start_time": "2022-10-08T08:08:58.473Z"
   },
   {
    "duration": 184,
    "start_time": "2022-10-08T08:08:58.622Z"
   },
   {
    "duration": 319,
    "start_time": "2022-10-08T08:08:58.809Z"
   },
   {
    "duration": 75,
    "start_time": "2022-10-08T08:08:59.131Z"
   },
   {
    "duration": 73,
    "start_time": "2022-10-08T08:08:59.208Z"
   },
   {
    "duration": 19,
    "start_time": "2022-10-08T08:08:59.283Z"
   },
   {
    "duration": 71,
    "start_time": "2022-10-08T08:08:59.304Z"
   },
   {
    "duration": 24,
    "start_time": "2022-10-08T08:08:59.377Z"
   },
   {
    "duration": 7,
    "start_time": "2022-10-08T08:08:59.404Z"
   },
   {
    "duration": 4,
    "start_time": "2022-10-08T08:08:59.415Z"
   },
   {
    "duration": 55,
    "start_time": "2022-10-08T08:08:59.421Z"
   },
   {
    "duration": 260,
    "start_time": "2022-10-08T08:08:59.478Z"
   },
   {
    "duration": 217,
    "start_time": "2022-10-08T08:08:59.740Z"
   },
   {
    "duration": 116,
    "start_time": "2022-10-08T08:08:59.959Z"
   },
   {
    "duration": 41,
    "start_time": "2022-10-08T08:09:00.077Z"
   },
   {
    "duration": 4,
    "start_time": "2022-10-08T08:09:00.120Z"
   },
   {
    "duration": 34,
    "start_time": "2022-10-08T08:09:00.127Z"
   },
   {
    "duration": 1147,
    "start_time": "2022-10-08T08:09:00.163Z"
   },
   {
    "duration": 69,
    "start_time": "2022-10-08T08:09:01.312Z"
   },
   {
    "duration": 101,
    "start_time": "2022-10-08T08:09:01.382Z"
   },
   {
    "duration": 109,
    "start_time": "2022-10-08T08:09:01.485Z"
   },
   {
    "duration": 92,
    "start_time": "2022-10-08T08:09:01.596Z"
   },
   {
    "duration": 221,
    "start_time": "2022-10-08T08:09:01.690Z"
   },
   {
    "duration": 21,
    "start_time": "2022-10-08T08:09:01.913Z"
   },
   {
    "duration": 18,
    "start_time": "2022-10-08T08:09:01.936Z"
   },
   {
    "duration": 57,
    "start_time": "2022-10-08T08:09:01.956Z"
   },
   {
    "duration": 39,
    "start_time": "2022-10-08T08:09:02.015Z"
   },
   {
    "duration": 29,
    "start_time": "2022-10-08T08:09:02.056Z"
   },
   {
    "duration": 28,
    "start_time": "2022-10-08T08:09:02.087Z"
   },
   {
    "duration": 133,
    "start_time": "2022-10-08T08:09:02.117Z"
   },
   {
    "duration": 0,
    "start_time": "2022-10-08T08:09:02.254Z"
   },
   {
    "duration": 0,
    "start_time": "2022-10-08T08:09:02.255Z"
   },
   {
    "duration": 0,
    "start_time": "2022-10-08T08:09:02.257Z"
   },
   {
    "duration": 0,
    "start_time": "2022-10-08T08:09:02.259Z"
   },
   {
    "duration": 0,
    "start_time": "2022-10-08T08:09:02.261Z"
   },
   {
    "duration": 0,
    "start_time": "2022-10-08T08:09:02.262Z"
   },
   {
    "duration": 0,
    "start_time": "2022-10-08T08:09:02.263Z"
   },
   {
    "duration": 0,
    "start_time": "2022-10-08T08:09:02.265Z"
   },
   {
    "duration": 0,
    "start_time": "2022-10-08T08:09:02.267Z"
   },
   {
    "duration": 0,
    "start_time": "2022-10-08T08:09:02.268Z"
   },
   {
    "duration": 0,
    "start_time": "2022-10-08T08:09:02.270Z"
   },
   {
    "duration": 0,
    "start_time": "2022-10-08T08:09:02.271Z"
   },
   {
    "duration": 0,
    "start_time": "2022-10-08T08:09:02.272Z"
   },
   {
    "duration": 0,
    "start_time": "2022-10-08T08:09:02.273Z"
   },
   {
    "duration": 0,
    "start_time": "2022-10-08T08:09:02.275Z"
   },
   {
    "duration": 0,
    "start_time": "2022-10-08T08:09:02.276Z"
   },
   {
    "duration": 0,
    "start_time": "2022-10-08T08:09:02.277Z"
   },
   {
    "duration": 52,
    "start_time": "2022-10-08T08:09:58.740Z"
   },
   {
    "duration": 1681,
    "start_time": "2022-10-08T08:10:04.721Z"
   },
   {
    "duration": 1197,
    "start_time": "2022-10-08T08:10:06.404Z"
   },
   {
    "duration": 126,
    "start_time": "2022-10-08T08:10:07.603Z"
   },
   {
    "duration": 33,
    "start_time": "2022-10-08T08:10:07.732Z"
   },
   {
    "duration": 119,
    "start_time": "2022-10-08T08:10:07.768Z"
   },
   {
    "duration": 209,
    "start_time": "2022-10-08T08:10:07.889Z"
   },
   {
    "duration": 117,
    "start_time": "2022-10-08T08:10:08.100Z"
   },
   {
    "duration": 218,
    "start_time": "2022-10-08T08:10:08.219Z"
   },
   {
    "duration": 29,
    "start_time": "2022-10-08T08:10:08.439Z"
   },
   {
    "duration": 170,
    "start_time": "2022-10-08T08:10:08.470Z"
   },
   {
    "duration": 180,
    "start_time": "2022-10-08T08:10:08.641Z"
   },
   {
    "duration": 19,
    "start_time": "2022-10-08T08:10:08.823Z"
   },
   {
    "duration": 272,
    "start_time": "2022-10-08T08:10:08.854Z"
   },
   {
    "duration": 194,
    "start_time": "2022-10-08T08:10:09.129Z"
   },
   {
    "duration": 31,
    "start_time": "2022-10-08T08:10:09.325Z"
   },
   {
    "duration": 224,
    "start_time": "2022-10-08T08:10:09.358Z"
   },
   {
    "duration": 257,
    "start_time": "2022-10-08T08:10:09.585Z"
   },
   {
    "duration": 24,
    "start_time": "2022-10-08T08:10:09.844Z"
   },
   {
    "duration": 139,
    "start_time": "2022-10-08T08:10:09.870Z"
   },
   {
    "duration": 174,
    "start_time": "2022-10-08T08:10:10.011Z"
   },
   {
    "duration": 281,
    "start_time": "2022-10-08T08:10:10.187Z"
   },
   {
    "duration": 62,
    "start_time": "2022-10-08T08:10:10.470Z"
   },
   {
    "duration": 72,
    "start_time": "2022-10-08T08:10:10.535Z"
   },
   {
    "duration": 19,
    "start_time": "2022-10-08T08:10:10.609Z"
   },
   {
    "duration": 90,
    "start_time": "2022-10-08T08:10:10.630Z"
   },
   {
    "duration": 45,
    "start_time": "2022-10-08T08:10:10.722Z"
   },
   {
    "duration": 12,
    "start_time": "2022-10-08T08:10:10.770Z"
   },
   {
    "duration": 13,
    "start_time": "2022-10-08T08:10:10.784Z"
   },
   {
    "duration": 43,
    "start_time": "2022-10-08T08:10:10.799Z"
   },
   {
    "duration": 296,
    "start_time": "2022-10-08T08:10:10.844Z"
   },
   {
    "duration": 247,
    "start_time": "2022-10-08T08:10:11.142Z"
   },
   {
    "duration": 225,
    "start_time": "2022-10-08T08:10:11.393Z"
   },
   {
    "duration": 73,
    "start_time": "2022-10-08T08:10:11.620Z"
   },
   {
    "duration": 6,
    "start_time": "2022-10-08T08:10:11.699Z"
   },
   {
    "duration": 55,
    "start_time": "2022-10-08T08:10:11.707Z"
   },
   {
    "duration": 1261,
    "start_time": "2022-10-08T08:10:11.766Z"
   },
   {
    "duration": 69,
    "start_time": "2022-10-08T08:10:13.029Z"
   },
   {
    "duration": 81,
    "start_time": "2022-10-08T08:10:13.100Z"
   },
   {
    "duration": 96,
    "start_time": "2022-10-08T08:10:13.183Z"
   },
   {
    "duration": 217,
    "start_time": "2022-10-08T08:10:13.281Z"
   },
   {
    "duration": 16,
    "start_time": "2022-10-08T08:10:13.503Z"
   },
   {
    "duration": 3,
    "start_time": "2022-10-08T08:10:13.521Z"
   },
   {
    "duration": 51,
    "start_time": "2022-10-08T08:56:20.221Z"
   },
   {
    "duration": 7,
    "start_time": "2022-10-08T08:56:37.053Z"
   },
   {
    "duration": 8,
    "start_time": "2022-10-08T08:56:43.876Z"
   },
   {
    "duration": 10,
    "start_time": "2022-10-08T08:57:14.815Z"
   },
   {
    "duration": 1652,
    "start_time": "2022-10-08T09:02:19.810Z"
   },
   {
    "duration": 1339,
    "start_time": "2022-10-08T09:02:21.466Z"
   },
   {
    "duration": 136,
    "start_time": "2022-10-08T09:02:22.806Z"
   },
   {
    "duration": 29,
    "start_time": "2022-10-08T09:02:22.953Z"
   },
   {
    "duration": 143,
    "start_time": "2022-10-08T09:02:22.985Z"
   },
   {
    "duration": 203,
    "start_time": "2022-10-08T09:02:23.131Z"
   },
   {
    "duration": 131,
    "start_time": "2022-10-08T09:02:23.337Z"
   },
   {
    "duration": 232,
    "start_time": "2022-10-08T09:02:23.470Z"
   },
   {
    "duration": 22,
    "start_time": "2022-10-08T09:02:23.705Z"
   },
   {
    "duration": 186,
    "start_time": "2022-10-08T09:02:23.729Z"
   },
   {
    "duration": 173,
    "start_time": "2022-10-08T09:02:23.917Z"
   },
   {
    "duration": 20,
    "start_time": "2022-10-08T09:02:24.093Z"
   },
   {
    "duration": 286,
    "start_time": "2022-10-08T09:02:24.114Z"
   },
   {
    "duration": 196,
    "start_time": "2022-10-08T09:02:24.402Z"
   },
   {
    "duration": 21,
    "start_time": "2022-10-08T09:02:24.600Z"
   },
   {
    "duration": 231,
    "start_time": "2022-10-08T09:02:24.623Z"
   },
   {
    "duration": 245,
    "start_time": "2022-10-08T09:02:24.855Z"
   },
   {
    "duration": 19,
    "start_time": "2022-10-08T09:02:25.102Z"
   },
   {
    "duration": 131,
    "start_time": "2022-10-08T09:02:25.123Z"
   },
   {
    "duration": 159,
    "start_time": "2022-10-08T09:02:25.256Z"
   },
   {
    "duration": 274,
    "start_time": "2022-10-08T09:02:25.417Z"
   },
   {
    "duration": 71,
    "start_time": "2022-10-08T09:02:25.692Z"
   },
   {
    "duration": 62,
    "start_time": "2022-10-08T09:02:25.766Z"
   },
   {
    "duration": 41,
    "start_time": "2022-10-08T09:02:25.829Z"
   },
   {
    "duration": 59,
    "start_time": "2022-10-08T09:02:25.873Z"
   },
   {
    "duration": 37,
    "start_time": "2022-10-08T09:02:25.934Z"
   },
   {
    "duration": 7,
    "start_time": "2022-10-08T09:02:25.973Z"
   },
   {
    "duration": 5,
    "start_time": "2022-10-08T09:02:25.984Z"
   },
   {
    "duration": 26,
    "start_time": "2022-10-08T09:02:25.990Z"
   },
   {
    "duration": 301,
    "start_time": "2022-10-08T09:02:26.018Z"
   },
   {
    "duration": 214,
    "start_time": "2022-10-08T09:02:26.320Z"
   },
   {
    "duration": 128,
    "start_time": "2022-10-08T09:02:26.536Z"
   },
   {
    "duration": 43,
    "start_time": "2022-10-08T09:02:26.666Z"
   },
   {
    "duration": 2,
    "start_time": "2022-10-08T09:02:26.711Z"
   },
   {
    "duration": 11,
    "start_time": "2022-10-08T09:02:26.715Z"
   },
   {
    "duration": 41,
    "start_time": "2022-10-08T09:02:26.728Z"
   },
   {
    "duration": 225,
    "start_time": "2022-10-08T09:02:26.770Z"
   },
   {
    "duration": 17,
    "start_time": "2022-10-08T09:02:26.997Z"
   },
   {
    "duration": 1189,
    "start_time": "2022-10-08T09:02:27.016Z"
   },
   {
    "duration": 14,
    "start_time": "2022-10-08T09:02:28.207Z"
   },
   {
    "duration": 34,
    "start_time": "2022-10-08T09:02:28.223Z"
   },
   {
    "duration": 73,
    "start_time": "2022-10-08T09:02:28.260Z"
   },
   {
    "duration": 20,
    "start_time": "2022-10-08T09:02:28.335Z"
   },
   {
    "duration": 37,
    "start_time": "2022-10-08T09:02:28.357Z"
   },
   {
    "duration": 120,
    "start_time": "2022-10-08T09:02:28.397Z"
   },
   {
    "duration": 0,
    "start_time": "2022-10-08T09:02:28.518Z"
   },
   {
    "duration": 0,
    "start_time": "2022-10-08T09:02:28.520Z"
   },
   {
    "duration": 0,
    "start_time": "2022-10-08T09:02:28.521Z"
   },
   {
    "duration": 0,
    "start_time": "2022-10-08T09:02:28.522Z"
   },
   {
    "duration": 0,
    "start_time": "2022-10-08T09:02:28.523Z"
   },
   {
    "duration": 0,
    "start_time": "2022-10-08T09:02:28.525Z"
   },
   {
    "duration": 0,
    "start_time": "2022-10-08T09:02:28.526Z"
   },
   {
    "duration": 0,
    "start_time": "2022-10-08T09:02:28.529Z"
   },
   {
    "duration": 0,
    "start_time": "2022-10-08T09:02:28.530Z"
   },
   {
    "duration": 0,
    "start_time": "2022-10-08T09:02:28.553Z"
   },
   {
    "duration": 0,
    "start_time": "2022-10-08T09:02:28.555Z"
   },
   {
    "duration": 0,
    "start_time": "2022-10-08T09:02:28.558Z"
   },
   {
    "duration": 0,
    "start_time": "2022-10-08T09:02:28.560Z"
   },
   {
    "duration": 0,
    "start_time": "2022-10-08T09:02:28.561Z"
   },
   {
    "duration": 0,
    "start_time": "2022-10-08T09:02:28.563Z"
   },
   {
    "duration": 0,
    "start_time": "2022-10-08T09:02:28.565Z"
   },
   {
    "duration": 199,
    "start_time": "2022-10-08T09:10:51.860Z"
   },
   {
    "duration": 24,
    "start_time": "2022-10-08T09:10:55.120Z"
   },
   {
    "duration": 31,
    "start_time": "2022-10-08T09:10:55.839Z"
   },
   {
    "duration": 19,
    "start_time": "2022-10-08T09:11:29.101Z"
   },
   {
    "duration": 15,
    "start_time": "2022-10-08T09:11:31.378Z"
   },
   {
    "duration": 29,
    "start_time": "2022-10-08T09:11:34.897Z"
   },
   {
    "duration": 17,
    "start_time": "2022-10-08T09:11:37.419Z"
   },
   {
    "duration": 23,
    "start_time": "2022-10-08T09:11:43.925Z"
   },
   {
    "duration": 19,
    "start_time": "2022-10-08T09:12:01.059Z"
   },
   {
    "duration": 77,
    "start_time": "2022-10-08T09:12:43.774Z"
   },
   {
    "duration": 25,
    "start_time": "2022-10-08T09:12:53.143Z"
   },
   {
    "duration": 93,
    "start_time": "2022-10-08T09:13:09.155Z"
   },
   {
    "duration": 909,
    "start_time": "2022-10-08T09:13:34.802Z"
   },
   {
    "duration": 23,
    "start_time": "2022-10-08T09:13:40.891Z"
   },
   {
    "duration": 21,
    "start_time": "2022-10-08T09:13:43.449Z"
   },
   {
    "duration": 80,
    "start_time": "2022-10-08T09:13:47.305Z"
   },
   {
    "duration": 30,
    "start_time": "2022-10-08T09:13:54.508Z"
   },
   {
    "duration": 1572,
    "start_time": "2022-10-08T09:14:23.050Z"
   },
   {
    "duration": 1305,
    "start_time": "2022-10-08T09:14:24.624Z"
   },
   {
    "duration": 139,
    "start_time": "2022-10-08T09:14:25.931Z"
   },
   {
    "duration": 30,
    "start_time": "2022-10-08T09:14:26.072Z"
   },
   {
    "duration": 134,
    "start_time": "2022-10-08T09:14:26.105Z"
   },
   {
    "duration": 203,
    "start_time": "2022-10-08T09:14:26.240Z"
   },
   {
    "duration": 150,
    "start_time": "2022-10-08T09:14:26.445Z"
   },
   {
    "duration": 246,
    "start_time": "2022-10-08T09:14:26.597Z"
   },
   {
    "duration": 22,
    "start_time": "2022-10-08T09:14:26.845Z"
   },
   {
    "duration": 185,
    "start_time": "2022-10-08T09:14:26.869Z"
   },
   {
    "duration": 170,
    "start_time": "2022-10-08T09:14:27.056Z"
   },
   {
    "duration": 30,
    "start_time": "2022-10-08T09:14:27.227Z"
   },
   {
    "duration": 280,
    "start_time": "2022-10-08T09:14:27.259Z"
   },
   {
    "duration": 186,
    "start_time": "2022-10-08T09:14:27.544Z"
   },
   {
    "duration": 26,
    "start_time": "2022-10-08T09:14:27.732Z"
   },
   {
    "duration": 227,
    "start_time": "2022-10-08T09:14:27.760Z"
   },
   {
    "duration": 267,
    "start_time": "2022-10-08T09:14:27.989Z"
   },
   {
    "duration": 21,
    "start_time": "2022-10-08T09:14:28.258Z"
   },
   {
    "duration": 143,
    "start_time": "2022-10-08T09:14:28.281Z"
   },
   {
    "duration": 176,
    "start_time": "2022-10-08T09:14:28.426Z"
   },
   {
    "duration": 284,
    "start_time": "2022-10-08T09:14:28.604Z"
   },
   {
    "duration": 74,
    "start_time": "2022-10-08T09:14:28.890Z"
   },
   {
    "duration": 56,
    "start_time": "2022-10-08T09:14:28.966Z"
   },
   {
    "duration": 33,
    "start_time": "2022-10-08T09:14:29.024Z"
   },
   {
    "duration": 53,
    "start_time": "2022-10-08T09:14:29.059Z"
   },
   {
    "duration": 44,
    "start_time": "2022-10-08T09:14:29.114Z"
   },
   {
    "duration": 6,
    "start_time": "2022-10-08T09:14:29.160Z"
   },
   {
    "duration": 15,
    "start_time": "2022-10-08T09:14:29.169Z"
   },
   {
    "duration": 28,
    "start_time": "2022-10-08T09:14:29.186Z"
   },
   {
    "duration": 260,
    "start_time": "2022-10-08T09:14:29.217Z"
   },
   {
    "duration": 218,
    "start_time": "2022-10-08T09:14:29.479Z"
   },
   {
    "duration": 130,
    "start_time": "2022-10-08T09:14:29.699Z"
   },
   {
    "duration": 54,
    "start_time": "2022-10-08T09:14:29.831Z"
   },
   {
    "duration": 249,
    "start_time": "2022-10-08T09:14:29.887Z"
   },
   {
    "duration": 20,
    "start_time": "2022-10-08T09:14:30.138Z"
   },
   {
    "duration": 25,
    "start_time": "2022-10-08T09:14:30.160Z"
   },
   {
    "duration": 16,
    "start_time": "2022-10-08T09:14:30.187Z"
   },
   {
    "duration": 55,
    "start_time": "2022-10-08T09:14:30.205Z"
   },
   {
    "duration": 50,
    "start_time": "2022-10-08T09:14:30.263Z"
   },
   {
    "duration": 146,
    "start_time": "2022-10-08T09:14:30.316Z"
   },
   {
    "duration": 103,
    "start_time": "2022-10-08T09:14:30.467Z"
   },
   {
    "duration": 3,
    "start_time": "2022-10-08T09:14:30.573Z"
   },
   {
    "duration": 28,
    "start_time": "2022-10-08T09:14:30.579Z"
   },
   {
    "duration": 1347,
    "start_time": "2022-10-08T09:14:30.609Z"
   },
   {
    "duration": 17,
    "start_time": "2022-10-08T09:14:31.959Z"
   },
   {
    "duration": 15,
    "start_time": "2022-10-08T09:14:31.978Z"
   },
   {
    "duration": 25,
    "start_time": "2022-10-08T09:14:31.995Z"
   },
   {
    "duration": 32,
    "start_time": "2022-10-08T09:14:32.023Z"
   },
   {
    "duration": 50,
    "start_time": "2022-10-08T09:16:12.444Z"
   },
   {
    "duration": 55,
    "start_time": "2022-10-08T09:16:37.861Z"
   },
   {
    "duration": 2,
    "start_time": "2022-10-08T09:16:42.282Z"
   },
   {
    "duration": 9,
    "start_time": "2022-10-08T09:16:46.204Z"
   },
   {
    "duration": 1550,
    "start_time": "2022-10-08T09:16:52.289Z"
   },
   {
    "duration": 1221,
    "start_time": "2022-10-08T09:16:53.841Z"
   },
   {
    "duration": 129,
    "start_time": "2022-10-08T09:16:55.064Z"
   },
   {
    "duration": 28,
    "start_time": "2022-10-08T09:16:55.195Z"
   },
   {
    "duration": 135,
    "start_time": "2022-10-08T09:16:55.225Z"
   },
   {
    "duration": 216,
    "start_time": "2022-10-08T09:16:55.361Z"
   },
   {
    "duration": 129,
    "start_time": "2022-10-08T09:16:55.580Z"
   },
   {
    "duration": 227,
    "start_time": "2022-10-08T09:16:55.711Z"
   },
   {
    "duration": 26,
    "start_time": "2022-10-08T09:16:55.941Z"
   },
   {
    "duration": 170,
    "start_time": "2022-10-08T09:16:55.970Z"
   },
   {
    "duration": 166,
    "start_time": "2022-10-08T09:16:56.142Z"
   },
   {
    "duration": 19,
    "start_time": "2022-10-08T09:16:56.310Z"
   },
   {
    "duration": 275,
    "start_time": "2022-10-08T09:16:56.331Z"
   },
   {
    "duration": 200,
    "start_time": "2022-10-08T09:16:56.608Z"
   },
   {
    "duration": 21,
    "start_time": "2022-10-08T09:16:56.811Z"
   },
   {
    "duration": 230,
    "start_time": "2022-10-08T09:16:56.834Z"
   },
   {
    "duration": 235,
    "start_time": "2022-10-08T09:16:57.065Z"
   },
   {
    "duration": 24,
    "start_time": "2022-10-08T09:16:57.302Z"
   },
   {
    "duration": 144,
    "start_time": "2022-10-08T09:16:57.328Z"
   },
   {
    "duration": 163,
    "start_time": "2022-10-08T09:16:57.474Z"
   },
   {
    "duration": 295,
    "start_time": "2022-10-08T09:16:57.639Z"
   },
   {
    "duration": 80,
    "start_time": "2022-10-08T09:16:57.937Z"
   },
   {
    "duration": 62,
    "start_time": "2022-10-08T09:16:58.019Z"
   },
   {
    "duration": 19,
    "start_time": "2022-10-08T09:16:58.083Z"
   },
   {
    "duration": 65,
    "start_time": "2022-10-08T09:16:58.104Z"
   },
   {
    "duration": 25,
    "start_time": "2022-10-08T09:16:58.171Z"
   },
   {
    "duration": 7,
    "start_time": "2022-10-08T09:16:58.197Z"
   },
   {
    "duration": 5,
    "start_time": "2022-10-08T09:16:58.209Z"
   },
   {
    "duration": 52,
    "start_time": "2022-10-08T09:16:58.216Z"
   },
   {
    "duration": 260,
    "start_time": "2022-10-08T09:16:58.270Z"
   },
   {
    "duration": 202,
    "start_time": "2022-10-08T09:16:58.532Z"
   },
   {
    "duration": 130,
    "start_time": "2022-10-08T09:16:58.736Z"
   },
   {
    "duration": 41,
    "start_time": "2022-10-08T09:16:58.868Z"
   },
   {
    "duration": 224,
    "start_time": "2022-10-08T09:16:58.912Z"
   },
   {
    "duration": 20,
    "start_time": "2022-10-08T09:16:59.138Z"
   },
   {
    "duration": 23,
    "start_time": "2022-10-08T09:16:59.160Z"
   },
   {
    "duration": 15,
    "start_time": "2022-10-08T09:16:59.185Z"
   },
   {
    "duration": 54,
    "start_time": "2022-10-08T09:16:59.202Z"
   },
   {
    "duration": 27,
    "start_time": "2022-10-08T09:16:59.258Z"
   },
   {
    "duration": 102,
    "start_time": "2022-10-08T09:16:59.287Z"
   },
   {
    "duration": 106,
    "start_time": "2022-10-08T09:16:59.391Z"
   },
   {
    "duration": 3,
    "start_time": "2022-10-08T09:16:59.499Z"
   },
   {
    "duration": 945,
    "start_time": "2022-10-08T09:16:59.506Z"
   },
   {
    "duration": 25,
    "start_time": "2022-10-08T09:17:00.454Z"
   },
   {
    "duration": 43,
    "start_time": "2022-10-08T09:17:00.481Z"
   },
   {
    "duration": 45,
    "start_time": "2022-10-08T09:17:00.526Z"
   },
   {
    "duration": 16,
    "start_time": "2022-10-08T09:17:00.573Z"
   },
   {
    "duration": 436,
    "start_time": "2022-10-08T09:17:00.591Z"
   },
   {
    "duration": 10,
    "start_time": "2022-10-08T09:17:01.030Z"
   },
   {
    "duration": 220,
    "start_time": "2022-10-08T09:17:01.042Z"
   },
   {
    "duration": 12,
    "start_time": "2022-10-08T09:17:01.264Z"
   },
   {
    "duration": 0,
    "start_time": "2022-10-08T09:17:01.277Z"
   },
   {
    "duration": 0,
    "start_time": "2022-10-08T09:17:01.279Z"
   },
   {
    "duration": 0,
    "start_time": "2022-10-08T09:17:01.280Z"
   },
   {
    "duration": 0,
    "start_time": "2022-10-08T09:17:01.281Z"
   },
   {
    "duration": 0,
    "start_time": "2022-10-08T09:17:01.282Z"
   },
   {
    "duration": 0,
    "start_time": "2022-10-08T09:17:01.284Z"
   },
   {
    "duration": 0,
    "start_time": "2022-10-08T09:17:01.285Z"
   },
   {
    "duration": 0,
    "start_time": "2022-10-08T09:17:01.286Z"
   },
   {
    "duration": 0,
    "start_time": "2022-10-08T09:17:01.287Z"
   },
   {
    "duration": 0,
    "start_time": "2022-10-08T09:17:01.288Z"
   },
   {
    "duration": 374,
    "start_time": "2022-10-08T09:17:19.422Z"
   },
   {
    "duration": 15,
    "start_time": "2022-10-08T09:17:28.094Z"
   },
   {
    "duration": 12,
    "start_time": "2022-10-08T09:17:32.596Z"
   },
   {
    "duration": 12,
    "start_time": "2022-10-08T09:17:36.628Z"
   },
   {
    "duration": 79,
    "start_time": "2022-10-08T09:17:39.679Z"
   },
   {
    "duration": 342,
    "start_time": "2022-10-08T09:18:13.028Z"
   },
   {
    "duration": 15,
    "start_time": "2022-10-08T09:18:26.194Z"
   },
   {
    "duration": 77,
    "start_time": "2022-10-08T09:18:33.468Z"
   },
   {
    "duration": 1480,
    "start_time": "2022-10-08T09:44:45.938Z"
   },
   {
    "duration": 8,
    "start_time": "2022-10-08T09:46:46.182Z"
   },
   {
    "duration": 12,
    "start_time": "2022-10-08T09:54:23.773Z"
   },
   {
    "duration": 8,
    "start_time": "2022-10-08T09:54:43.266Z"
   },
   {
    "duration": 12,
    "start_time": "2022-10-08T09:54:55.081Z"
   },
   {
    "duration": 3,
    "start_time": "2022-10-08T09:55:23.899Z"
   },
   {
    "duration": 1752,
    "start_time": "2022-10-08T09:55:36.129Z"
   },
   {
    "duration": 1414,
    "start_time": "2022-10-08T09:58:23.427Z"
   },
   {
    "duration": 81,
    "start_time": "2022-10-08T10:26:45.644Z"
   },
   {
    "duration": 79,
    "start_time": "2022-10-10T11:51:05.828Z"
   },
   {
    "duration": 9,
    "start_time": "2022-10-10T11:51:08.647Z"
   },
   {
    "duration": 6,
    "start_time": "2022-10-10T11:51:09.071Z"
   },
   {
    "duration": 7,
    "start_time": "2022-10-10T11:51:44.426Z"
   },
   {
    "duration": 7,
    "start_time": "2022-10-10T11:52:17.772Z"
   },
   {
    "duration": 1786,
    "start_time": "2022-10-10T11:52:24.046Z"
   },
   {
    "duration": 1259,
    "start_time": "2022-10-10T11:52:25.834Z"
   },
   {
    "duration": 133,
    "start_time": "2022-10-10T11:52:27.094Z"
   },
   {
    "duration": 37,
    "start_time": "2022-10-10T11:52:27.229Z"
   },
   {
    "duration": 137,
    "start_time": "2022-10-10T11:52:27.268Z"
   },
   {
    "duration": 195,
    "start_time": "2022-10-10T11:52:27.406Z"
   },
   {
    "duration": 126,
    "start_time": "2022-10-10T11:52:27.603Z"
   },
   {
    "duration": 232,
    "start_time": "2022-10-10T11:52:27.731Z"
   },
   {
    "duration": 20,
    "start_time": "2022-10-10T11:52:27.969Z"
   },
   {
    "duration": 190,
    "start_time": "2022-10-10T11:52:27.992Z"
   },
   {
    "duration": 184,
    "start_time": "2022-10-10T11:52:28.184Z"
   },
   {
    "duration": 20,
    "start_time": "2022-10-10T11:52:28.371Z"
   },
   {
    "duration": 287,
    "start_time": "2022-10-10T11:52:28.392Z"
   },
   {
    "duration": 173,
    "start_time": "2022-10-10T11:52:28.681Z"
   },
   {
    "duration": 21,
    "start_time": "2022-10-10T11:52:28.857Z"
   },
   {
    "duration": 234,
    "start_time": "2022-10-10T11:52:28.881Z"
   },
   {
    "duration": 253,
    "start_time": "2022-10-10T11:52:29.117Z"
   },
   {
    "duration": 18,
    "start_time": "2022-10-10T11:52:29.373Z"
   },
   {
    "duration": 133,
    "start_time": "2022-10-10T11:52:29.393Z"
   },
   {
    "duration": 168,
    "start_time": "2022-10-10T11:52:29.528Z"
   },
   {
    "duration": 232,
    "start_time": "2022-10-10T11:52:29.698Z"
   },
   {
    "duration": 62,
    "start_time": "2022-10-10T11:52:29.932Z"
   },
   {
    "duration": 59,
    "start_time": "2022-10-10T11:52:29.996Z"
   },
   {
    "duration": 21,
    "start_time": "2022-10-10T11:52:30.057Z"
   },
   {
    "duration": 52,
    "start_time": "2022-10-10T11:52:30.081Z"
   },
   {
    "duration": 46,
    "start_time": "2022-10-10T11:52:30.135Z"
   },
   {
    "duration": 6,
    "start_time": "2022-10-10T11:52:30.184Z"
   },
   {
    "duration": 12,
    "start_time": "2022-10-10T11:52:30.194Z"
   },
   {
    "duration": 34,
    "start_time": "2022-10-10T11:52:30.208Z"
   },
   {
    "duration": 278,
    "start_time": "2022-10-10T11:52:30.244Z"
   },
   {
    "duration": 230,
    "start_time": "2022-10-10T11:52:30.524Z"
   },
   {
    "duration": 124,
    "start_time": "2022-10-10T11:52:30.756Z"
   },
   {
    "duration": 56,
    "start_time": "2022-10-10T11:52:30.882Z"
   },
   {
    "duration": 222,
    "start_time": "2022-10-10T11:52:30.941Z"
   },
   {
    "duration": 13,
    "start_time": "2022-10-10T11:52:31.165Z"
   },
   {
    "duration": 44,
    "start_time": "2022-10-10T11:52:31.180Z"
   },
   {
    "duration": 25,
    "start_time": "2022-10-10T11:52:31.226Z"
   },
   {
    "duration": 48,
    "start_time": "2022-10-10T11:52:31.253Z"
   },
   {
    "duration": 30,
    "start_time": "2022-10-10T11:52:31.303Z"
   },
   {
    "duration": 180,
    "start_time": "2022-10-10T11:52:31.336Z"
   },
   {
    "duration": 113,
    "start_time": "2022-10-10T11:52:31.518Z"
   },
   {
    "duration": 4,
    "start_time": "2022-10-10T11:52:31.633Z"
   },
   {
    "duration": 179,
    "start_time": "2022-10-10T11:52:31.639Z"
   },
   {
    "duration": 0,
    "start_time": "2022-10-10T11:52:31.820Z"
   },
   {
    "duration": 0,
    "start_time": "2022-10-10T11:52:31.821Z"
   },
   {
    "duration": 0,
    "start_time": "2022-10-10T11:52:31.823Z"
   },
   {
    "duration": 0,
    "start_time": "2022-10-10T11:52:31.824Z"
   },
   {
    "duration": 0,
    "start_time": "2022-10-10T11:52:31.825Z"
   },
   {
    "duration": 0,
    "start_time": "2022-10-10T11:52:31.827Z"
   },
   {
    "duration": 0,
    "start_time": "2022-10-10T11:52:31.828Z"
   },
   {
    "duration": 0,
    "start_time": "2022-10-10T11:52:31.829Z"
   },
   {
    "duration": 0,
    "start_time": "2022-10-10T11:52:31.830Z"
   },
   {
    "duration": 0,
    "start_time": "2022-10-10T11:52:31.854Z"
   },
   {
    "duration": 0,
    "start_time": "2022-10-10T11:52:31.856Z"
   },
   {
    "duration": 0,
    "start_time": "2022-10-10T11:52:31.857Z"
   },
   {
    "duration": 0,
    "start_time": "2022-10-10T11:52:31.858Z"
   },
   {
    "duration": 0,
    "start_time": "2022-10-10T11:52:31.859Z"
   },
   {
    "duration": 0,
    "start_time": "2022-10-10T11:52:31.860Z"
   },
   {
    "duration": 0,
    "start_time": "2022-10-10T11:52:31.861Z"
   },
   {
    "duration": 0,
    "start_time": "2022-10-10T11:52:31.863Z"
   },
   {
    "duration": 0,
    "start_time": "2022-10-10T11:52:31.864Z"
   },
   {
    "duration": 0,
    "start_time": "2022-10-10T11:52:31.865Z"
   },
   {
    "duration": 29,
    "start_time": "2022-10-10T11:54:19.623Z"
   },
   {
    "duration": 24,
    "start_time": "2022-10-10T11:54:25.664Z"
   },
   {
    "duration": 18,
    "start_time": "2022-10-10T11:54:28.374Z"
   },
   {
    "duration": 105,
    "start_time": "2022-10-10T11:54:30.986Z"
   },
   {
    "duration": 112,
    "start_time": "2022-10-10T11:54:31.649Z"
   },
   {
    "duration": 3,
    "start_time": "2022-10-10T11:57:01.582Z"
   },
   {
    "duration": 10,
    "start_time": "2022-10-10T11:57:02.045Z"
   },
   {
    "duration": 904,
    "start_time": "2022-10-10T11:57:30.406Z"
   },
   {
    "duration": 745,
    "start_time": "2022-10-10T12:04:52.445Z"
   },
   {
    "duration": 504,
    "start_time": "2022-10-10T12:05:05.190Z"
   },
   {
    "duration": 463,
    "start_time": "2022-10-10T12:05:55.825Z"
   },
   {
    "duration": 1892,
    "start_time": "2022-10-10T13:15:29.834Z"
   },
   {
    "duration": 1006,
    "start_time": "2022-10-10T13:15:31.728Z"
   },
   {
    "duration": 172,
    "start_time": "2022-10-10T13:15:32.736Z"
   },
   {
    "duration": 28,
    "start_time": "2022-10-10T13:15:32.911Z"
   },
   {
    "duration": 122,
    "start_time": "2022-10-10T13:15:32.955Z"
   },
   {
    "duration": 208,
    "start_time": "2022-10-10T13:15:33.080Z"
   },
   {
    "duration": 129,
    "start_time": "2022-10-10T13:15:33.290Z"
   },
   {
    "duration": 236,
    "start_time": "2022-10-10T13:15:33.421Z"
   },
   {
    "duration": 20,
    "start_time": "2022-10-10T13:15:33.659Z"
   },
   {
    "duration": 177,
    "start_time": "2022-10-10T13:15:33.682Z"
   },
   {
    "duration": 186,
    "start_time": "2022-10-10T13:15:33.861Z"
   },
   {
    "duration": 23,
    "start_time": "2022-10-10T13:15:34.048Z"
   },
   {
    "duration": 275,
    "start_time": "2022-10-10T13:15:34.073Z"
   },
   {
    "duration": 169,
    "start_time": "2022-10-10T13:15:34.353Z"
   },
   {
    "duration": 31,
    "start_time": "2022-10-10T13:15:34.524Z"
   },
   {
    "duration": 224,
    "start_time": "2022-10-10T13:15:34.557Z"
   },
   {
    "duration": 249,
    "start_time": "2022-10-10T13:15:34.783Z"
   },
   {
    "duration": 27,
    "start_time": "2022-10-10T13:15:35.034Z"
   },
   {
    "duration": 180,
    "start_time": "2022-10-10T13:15:35.063Z"
   },
   {
    "duration": 219,
    "start_time": "2022-10-10T13:15:35.245Z"
   },
   {
    "duration": 327,
    "start_time": "2022-10-10T13:15:35.466Z"
   },
   {
    "duration": 60,
    "start_time": "2022-10-10T13:15:35.795Z"
   },
   {
    "duration": 47,
    "start_time": "2022-10-10T13:15:35.857Z"
   },
   {
    "duration": 19,
    "start_time": "2022-10-10T13:15:35.906Z"
   },
   {
    "duration": 71,
    "start_time": "2022-10-10T13:15:35.927Z"
   },
   {
    "duration": 25,
    "start_time": "2022-10-10T13:15:36.000Z"
   },
   {
    "duration": 7,
    "start_time": "2022-10-10T13:15:36.027Z"
   },
   {
    "duration": 6,
    "start_time": "2022-10-10T13:15:36.053Z"
   },
   {
    "duration": 33,
    "start_time": "2022-10-10T13:15:36.060Z"
   },
   {
    "duration": 270,
    "start_time": "2022-10-10T13:15:36.095Z"
   },
   {
    "duration": 217,
    "start_time": "2022-10-10T13:15:36.367Z"
   },
   {
    "duration": 122,
    "start_time": "2022-10-10T13:15:36.586Z"
   },
   {
    "duration": 45,
    "start_time": "2022-10-10T13:15:36.710Z"
   },
   {
    "duration": 200,
    "start_time": "2022-10-10T13:15:36.757Z"
   },
   {
    "duration": 13,
    "start_time": "2022-10-10T13:15:36.958Z"
   },
   {
    "duration": 20,
    "start_time": "2022-10-10T13:15:36.973Z"
   },
   {
    "duration": 12,
    "start_time": "2022-10-10T13:15:36.995Z"
   },
   {
    "duration": 49,
    "start_time": "2022-10-10T13:15:37.009Z"
   },
   {
    "duration": 19,
    "start_time": "2022-10-10T13:15:37.060Z"
   },
   {
    "duration": 22,
    "start_time": "2022-10-10T13:15:37.081Z"
   },
   {
    "duration": 94,
    "start_time": "2022-10-10T13:15:37.105Z"
   },
   {
    "duration": 86,
    "start_time": "2022-10-10T13:15:37.201Z"
   },
   {
    "duration": 3,
    "start_time": "2022-10-10T13:15:37.289Z"
   },
   {
    "duration": 657,
    "start_time": "2022-10-10T13:15:37.294Z"
   },
   {
    "duration": 74,
    "start_time": "2022-10-10T13:15:37.953Z"
   },
   {
    "duration": 73,
    "start_time": "2022-10-10T13:15:38.029Z"
   },
   {
    "duration": 69,
    "start_time": "2022-10-10T13:15:38.104Z"
   },
   {
    "duration": 3,
    "start_time": "2022-10-10T13:15:38.175Z"
   },
   {
    "duration": 128,
    "start_time": "2022-10-10T13:15:38.180Z"
   },
   {
    "duration": 0,
    "start_time": "2022-10-10T13:15:38.310Z"
   },
   {
    "duration": 0,
    "start_time": "2022-10-10T13:15:38.311Z"
   },
   {
    "duration": 0,
    "start_time": "2022-10-10T13:15:38.312Z"
   },
   {
    "duration": 0,
    "start_time": "2022-10-10T13:15:38.313Z"
   },
   {
    "duration": 0,
    "start_time": "2022-10-10T13:15:38.315Z"
   },
   {
    "duration": 0,
    "start_time": "2022-10-10T13:15:38.316Z"
   },
   {
    "duration": 0,
    "start_time": "2022-10-10T13:15:38.317Z"
   },
   {
    "duration": 0,
    "start_time": "2022-10-10T13:15:38.318Z"
   },
   {
    "duration": 0,
    "start_time": "2022-10-10T13:15:38.319Z"
   },
   {
    "duration": 0,
    "start_time": "2022-10-10T13:15:38.320Z"
   },
   {
    "duration": 0,
    "start_time": "2022-10-10T13:15:38.321Z"
   },
   {
    "duration": 0,
    "start_time": "2022-10-10T13:15:38.322Z"
   },
   {
    "duration": 0,
    "start_time": "2022-10-10T13:15:38.323Z"
   },
   {
    "duration": 0,
    "start_time": "2022-10-10T13:15:38.325Z"
   },
   {
    "duration": 11,
    "start_time": "2022-10-10T13:21:59.375Z"
   },
   {
    "duration": 9,
    "start_time": "2022-10-10T13:22:10.208Z"
   },
   {
    "duration": 1083,
    "start_time": "2022-10-10T13:24:15.132Z"
   },
   {
    "duration": 3,
    "start_time": "2022-10-10T13:25:28.320Z"
   },
   {
    "duration": 1072,
    "start_time": "2022-10-10T13:25:31.220Z"
   },
   {
    "duration": 3,
    "start_time": "2022-10-10T13:34:26.794Z"
   },
   {
    "duration": 1549,
    "start_time": "2022-10-10T13:34:36.709Z"
   },
   {
    "duration": 922,
    "start_time": "2022-10-10T13:34:38.260Z"
   },
   {
    "duration": 136,
    "start_time": "2022-10-10T13:34:39.184Z"
   },
   {
    "duration": 39,
    "start_time": "2022-10-10T13:34:39.322Z"
   },
   {
    "duration": 4,
    "start_time": "2022-10-10T13:34:39.363Z"
   },
   {
    "duration": 137,
    "start_time": "2022-10-10T13:34:39.369Z"
   },
   {
    "duration": 227,
    "start_time": "2022-10-10T13:34:39.508Z"
   },
   {
    "duration": 134,
    "start_time": "2022-10-10T13:34:39.736Z"
   },
   {
    "duration": 227,
    "start_time": "2022-10-10T13:34:39.872Z"
   },
   {
    "duration": 19,
    "start_time": "2022-10-10T13:34:40.101Z"
   },
   {
    "duration": 184,
    "start_time": "2022-10-10T13:34:40.121Z"
   },
   {
    "duration": 169,
    "start_time": "2022-10-10T13:34:40.307Z"
   },
   {
    "duration": 20,
    "start_time": "2022-10-10T13:34:40.478Z"
   },
   {
    "duration": 299,
    "start_time": "2022-10-10T13:34:40.502Z"
   },
   {
    "duration": 191,
    "start_time": "2022-10-10T13:34:40.803Z"
   },
   {
    "duration": 21,
    "start_time": "2022-10-10T13:34:40.996Z"
   },
   {
    "duration": 252,
    "start_time": "2022-10-10T13:34:41.019Z"
   },
   {
    "duration": 287,
    "start_time": "2022-10-10T13:34:41.273Z"
   },
   {
    "duration": 23,
    "start_time": "2022-10-10T13:34:41.562Z"
   },
   {
    "duration": 175,
    "start_time": "2022-10-10T13:34:41.587Z"
   },
   {
    "duration": 178,
    "start_time": "2022-10-10T13:34:41.765Z"
   },
   {
    "duration": 252,
    "start_time": "2022-10-10T13:34:41.944Z"
   },
   {
    "duration": 66,
    "start_time": "2022-10-10T13:34:42.197Z"
   },
   {
    "duration": 53,
    "start_time": "2022-10-10T13:34:42.265Z"
   },
   {
    "duration": 34,
    "start_time": "2022-10-10T13:34:42.320Z"
   },
   {
    "duration": 52,
    "start_time": "2022-10-10T13:34:42.357Z"
   },
   {
    "duration": 23,
    "start_time": "2022-10-10T13:34:42.411Z"
   },
   {
    "duration": 20,
    "start_time": "2022-10-10T13:34:42.436Z"
   },
   {
    "duration": 19,
    "start_time": "2022-10-10T13:34:42.459Z"
   },
   {
    "duration": 24,
    "start_time": "2022-10-10T13:34:42.480Z"
   },
   {
    "duration": 275,
    "start_time": "2022-10-10T13:34:42.506Z"
   },
   {
    "duration": 222,
    "start_time": "2022-10-10T13:34:42.783Z"
   },
   {
    "duration": 117,
    "start_time": "2022-10-10T13:34:43.006Z"
   },
   {
    "duration": 62,
    "start_time": "2022-10-10T13:34:43.125Z"
   },
   {
    "duration": 214,
    "start_time": "2022-10-10T13:34:43.189Z"
   },
   {
    "duration": 14,
    "start_time": "2022-10-10T13:34:43.405Z"
   },
   {
    "duration": 37,
    "start_time": "2022-10-10T13:34:43.422Z"
   },
   {
    "duration": 14,
    "start_time": "2022-10-10T13:34:43.462Z"
   },
   {
    "duration": 30,
    "start_time": "2022-10-10T13:34:43.477Z"
   },
   {
    "duration": 27,
    "start_time": "2022-10-10T13:34:43.509Z"
   },
   {
    "duration": 27,
    "start_time": "2022-10-10T13:34:43.555Z"
   },
   {
    "duration": 91,
    "start_time": "2022-10-10T13:34:43.584Z"
   },
   {
    "duration": 88,
    "start_time": "2022-10-10T13:34:43.677Z"
   },
   {
    "duration": 3,
    "start_time": "2022-10-10T13:34:43.767Z"
   },
   {
    "duration": 688,
    "start_time": "2022-10-10T13:34:43.772Z"
   },
   {
    "duration": 12,
    "start_time": "2022-10-10T13:34:44.462Z"
   },
   {
    "duration": 9,
    "start_time": "2022-10-10T13:34:44.475Z"
   },
   {
    "duration": 83,
    "start_time": "2022-10-10T13:34:44.485Z"
   },
   {
    "duration": 3,
    "start_time": "2022-10-10T13:34:44.570Z"
   },
   {
    "duration": 1151,
    "start_time": "2022-10-10T13:34:44.576Z"
   },
   {
    "duration": 0,
    "start_time": "2022-10-10T13:34:45.729Z"
   },
   {
    "duration": 0,
    "start_time": "2022-10-10T13:34:45.730Z"
   },
   {
    "duration": 0,
    "start_time": "2022-10-10T13:34:45.731Z"
   },
   {
    "duration": 0,
    "start_time": "2022-10-10T13:34:45.732Z"
   },
   {
    "duration": 0,
    "start_time": "2022-10-10T13:34:45.733Z"
   },
   {
    "duration": 0,
    "start_time": "2022-10-10T13:34:45.735Z"
   },
   {
    "duration": 0,
    "start_time": "2022-10-10T13:34:45.736Z"
   },
   {
    "duration": 0,
    "start_time": "2022-10-10T13:34:45.737Z"
   },
   {
    "duration": 0,
    "start_time": "2022-10-10T13:34:45.738Z"
   },
   {
    "duration": 0,
    "start_time": "2022-10-10T13:34:45.739Z"
   },
   {
    "duration": 0,
    "start_time": "2022-10-10T13:34:45.756Z"
   },
   {
    "duration": 0,
    "start_time": "2022-10-10T13:34:45.758Z"
   },
   {
    "duration": 0,
    "start_time": "2022-10-10T13:34:45.759Z"
   },
   {
    "duration": 0,
    "start_time": "2022-10-10T13:34:45.760Z"
   },
   {
    "duration": 1013,
    "start_time": "2022-10-10T13:35:07.055Z"
   },
   {
    "duration": 119,
    "start_time": "2022-10-10T13:35:21.779Z"
   },
   {
    "duration": 135,
    "start_time": "2022-10-10T13:36:13.367Z"
   },
   {
    "duration": 708,
    "start_time": "2022-10-10T13:36:22.049Z"
   },
   {
    "duration": 75,
    "start_time": "2022-10-10T13:42:16.197Z"
   },
   {
    "duration": 685,
    "start_time": "2022-10-10T13:42:23.067Z"
   },
   {
    "duration": 1502,
    "start_time": "2022-10-10T13:42:44.999Z"
   },
   {
    "duration": 903,
    "start_time": "2022-10-10T13:42:46.504Z"
   },
   {
    "duration": 145,
    "start_time": "2022-10-10T13:42:47.409Z"
   },
   {
    "duration": 37,
    "start_time": "2022-10-10T13:42:47.557Z"
   },
   {
    "duration": 4,
    "start_time": "2022-10-10T13:42:47.595Z"
   },
   {
    "duration": 183,
    "start_time": "2022-10-10T13:42:47.601Z"
   },
   {
    "duration": 205,
    "start_time": "2022-10-10T13:42:47.786Z"
   },
   {
    "duration": 132,
    "start_time": "2022-10-10T13:42:47.993Z"
   },
   {
    "duration": 290,
    "start_time": "2022-10-10T13:42:48.127Z"
   },
   {
    "duration": 18,
    "start_time": "2022-10-10T13:42:48.420Z"
   },
   {
    "duration": 193,
    "start_time": "2022-10-10T13:42:48.440Z"
   },
   {
    "duration": 191,
    "start_time": "2022-10-10T13:42:48.635Z"
   },
   {
    "duration": 27,
    "start_time": "2022-10-10T13:42:48.828Z"
   },
   {
    "duration": 272,
    "start_time": "2022-10-10T13:42:48.857Z"
   },
   {
    "duration": 194,
    "start_time": "2022-10-10T13:42:49.131Z"
   },
   {
    "duration": 28,
    "start_time": "2022-10-10T13:42:49.327Z"
   },
   {
    "duration": 218,
    "start_time": "2022-10-10T13:42:49.357Z"
   },
   {
    "duration": 245,
    "start_time": "2022-10-10T13:42:49.577Z"
   },
   {
    "duration": 31,
    "start_time": "2022-10-10T13:42:49.824Z"
   },
   {
    "duration": 128,
    "start_time": "2022-10-10T13:42:49.857Z"
   },
   {
    "duration": 188,
    "start_time": "2022-10-10T13:42:49.987Z"
   },
   {
    "duration": 278,
    "start_time": "2022-10-10T13:42:50.177Z"
   },
   {
    "duration": 60,
    "start_time": "2022-10-10T13:42:50.456Z"
   },
   {
    "duration": 74,
    "start_time": "2022-10-10T13:42:50.518Z"
   },
   {
    "duration": 74,
    "start_time": "2022-10-10T13:42:50.594Z"
   },
   {
    "duration": 111,
    "start_time": "2022-10-10T13:42:50.670Z"
   },
   {
    "duration": 72,
    "start_time": "2022-10-10T13:42:50.783Z"
   },
   {
    "duration": 8,
    "start_time": "2022-10-10T13:42:50.861Z"
   },
   {
    "duration": 8,
    "start_time": "2022-10-10T13:42:50.871Z"
   },
   {
    "duration": 32,
    "start_time": "2022-10-10T13:42:50.881Z"
   },
   {
    "duration": 277,
    "start_time": "2022-10-10T13:42:50.915Z"
   },
   {
    "duration": 215,
    "start_time": "2022-10-10T13:42:51.194Z"
   },
   {
    "duration": 159,
    "start_time": "2022-10-10T13:42:51.411Z"
   },
   {
    "duration": 65,
    "start_time": "2022-10-10T13:42:51.571Z"
   },
   {
    "duration": 232,
    "start_time": "2022-10-10T13:42:51.639Z"
   },
   {
    "duration": 14,
    "start_time": "2022-10-10T13:42:51.873Z"
   },
   {
    "duration": 21,
    "start_time": "2022-10-10T13:42:51.889Z"
   },
   {
    "duration": 14,
    "start_time": "2022-10-10T13:42:51.912Z"
   },
   {
    "duration": 54,
    "start_time": "2022-10-10T13:42:51.928Z"
   },
   {
    "duration": 42,
    "start_time": "2022-10-10T13:42:51.984Z"
   },
   {
    "duration": 26,
    "start_time": "2022-10-10T13:42:52.028Z"
   },
   {
    "duration": 91,
    "start_time": "2022-10-10T13:42:52.057Z"
   },
   {
    "duration": 86,
    "start_time": "2022-10-10T13:42:52.150Z"
   },
   {
    "duration": 4,
    "start_time": "2022-10-10T13:42:52.237Z"
   },
   {
    "duration": 727,
    "start_time": "2022-10-10T13:42:52.242Z"
   },
   {
    "duration": 11,
    "start_time": "2022-10-10T13:42:52.971Z"
   },
   {
    "duration": 9,
    "start_time": "2022-10-10T13:42:52.984Z"
   },
   {
    "duration": 90,
    "start_time": "2022-10-10T13:42:52.996Z"
   },
   {
    "duration": 4,
    "start_time": "2022-10-10T13:42:53.088Z"
   },
   {
    "duration": 1199,
    "start_time": "2022-10-10T13:42:53.094Z"
   },
   {
    "duration": 0,
    "start_time": "2022-10-10T13:42:54.295Z"
   },
   {
    "duration": 0,
    "start_time": "2022-10-10T13:42:54.297Z"
   },
   {
    "duration": 0,
    "start_time": "2022-10-10T13:42:54.298Z"
   },
   {
    "duration": 0,
    "start_time": "2022-10-10T13:42:54.299Z"
   },
   {
    "duration": 0,
    "start_time": "2022-10-10T13:42:54.300Z"
   },
   {
    "duration": 0,
    "start_time": "2022-10-10T13:42:54.301Z"
   },
   {
    "duration": 0,
    "start_time": "2022-10-10T13:42:54.302Z"
   },
   {
    "duration": 0,
    "start_time": "2022-10-10T13:42:54.303Z"
   },
   {
    "duration": 0,
    "start_time": "2022-10-10T13:42:54.304Z"
   },
   {
    "duration": 1,
    "start_time": "2022-10-10T13:42:54.305Z"
   },
   {
    "duration": 0,
    "start_time": "2022-10-10T13:42:54.306Z"
   },
   {
    "duration": 0,
    "start_time": "2022-10-10T13:42:54.308Z"
   },
   {
    "duration": 0,
    "start_time": "2022-10-10T13:42:54.309Z"
   },
   {
    "duration": 0,
    "start_time": "2022-10-10T13:42:54.310Z"
   },
   {
    "duration": 1621,
    "start_time": "2022-10-10T13:44:57.485Z"
   },
   {
    "duration": 876,
    "start_time": "2022-10-10T13:44:59.108Z"
   },
   {
    "duration": 125,
    "start_time": "2022-10-10T13:44:59.985Z"
   },
   {
    "duration": 43,
    "start_time": "2022-10-10T13:45:00.112Z"
   },
   {
    "duration": 3,
    "start_time": "2022-10-10T13:45:00.157Z"
   },
   {
    "duration": 126,
    "start_time": "2022-10-10T13:45:00.162Z"
   },
   {
    "duration": 196,
    "start_time": "2022-10-10T13:45:00.290Z"
   },
   {
    "duration": 117,
    "start_time": "2022-10-10T13:45:00.487Z"
   },
   {
    "duration": 227,
    "start_time": "2022-10-10T13:45:00.605Z"
   },
   {
    "duration": 32,
    "start_time": "2022-10-10T13:45:00.834Z"
   },
   {
    "duration": 197,
    "start_time": "2022-10-10T13:45:00.868Z"
   },
   {
    "duration": 167,
    "start_time": "2022-10-10T13:45:01.066Z"
   },
   {
    "duration": 33,
    "start_time": "2022-10-10T13:45:01.234Z"
   },
   {
    "duration": 329,
    "start_time": "2022-10-10T13:45:01.271Z"
   },
   {
    "duration": 199,
    "start_time": "2022-10-10T13:45:01.603Z"
   },
   {
    "duration": 19,
    "start_time": "2022-10-10T13:45:01.804Z"
   },
   {
    "duration": 239,
    "start_time": "2022-10-10T13:45:01.825Z"
   },
   {
    "duration": 256,
    "start_time": "2022-10-10T13:45:02.066Z"
   },
   {
    "duration": 31,
    "start_time": "2022-10-10T13:45:02.324Z"
   },
   {
    "duration": 131,
    "start_time": "2022-10-10T13:45:02.357Z"
   },
   {
    "duration": 160,
    "start_time": "2022-10-10T13:45:02.490Z"
   },
   {
    "duration": 245,
    "start_time": "2022-10-10T13:45:02.654Z"
   },
   {
    "duration": 66,
    "start_time": "2022-10-10T13:45:02.902Z"
   },
   {
    "duration": 51,
    "start_time": "2022-10-10T13:45:02.970Z"
   },
   {
    "duration": 32,
    "start_time": "2022-10-10T13:45:03.023Z"
   },
   {
    "duration": 52,
    "start_time": "2022-10-10T13:45:03.058Z"
   },
   {
    "duration": 23,
    "start_time": "2022-10-10T13:45:03.112Z"
   },
   {
    "duration": 6,
    "start_time": "2022-10-10T13:45:03.154Z"
   },
   {
    "duration": 9,
    "start_time": "2022-10-10T13:45:03.161Z"
   },
   {
    "duration": 23,
    "start_time": "2022-10-10T13:45:03.172Z"
   },
   {
    "duration": 259,
    "start_time": "2022-10-10T13:45:03.197Z"
   },
   {
    "duration": 202,
    "start_time": "2022-10-10T13:45:03.458Z"
   },
   {
    "duration": 113,
    "start_time": "2022-10-10T13:45:03.662Z"
   },
   {
    "duration": 39,
    "start_time": "2022-10-10T13:45:03.777Z"
   },
   {
    "duration": 220,
    "start_time": "2022-10-10T13:45:03.818Z"
   },
   {
    "duration": 24,
    "start_time": "2022-10-10T13:45:04.040Z"
   },
   {
    "duration": 20,
    "start_time": "2022-10-10T13:45:04.066Z"
   },
   {
    "duration": 13,
    "start_time": "2022-10-10T13:45:04.088Z"
   },
   {
    "duration": 28,
    "start_time": "2022-10-10T13:45:04.104Z"
   },
   {
    "duration": 21,
    "start_time": "2022-10-10T13:45:04.154Z"
   },
   {
    "duration": 19,
    "start_time": "2022-10-10T13:45:04.180Z"
   },
   {
    "duration": 98,
    "start_time": "2022-10-10T13:45:04.201Z"
   },
   {
    "duration": 86,
    "start_time": "2022-10-10T13:45:04.301Z"
   },
   {
    "duration": 3,
    "start_time": "2022-10-10T13:45:04.389Z"
   },
   {
    "duration": 707,
    "start_time": "2022-10-10T13:45:04.393Z"
   },
   {
    "duration": 10,
    "start_time": "2022-10-10T13:45:05.101Z"
   },
   {
    "duration": 9,
    "start_time": "2022-10-10T13:45:05.113Z"
   },
   {
    "duration": 4,
    "start_time": "2022-10-10T13:45:05.123Z"
   },
   {
    "duration": 1136,
    "start_time": "2022-10-10T13:45:05.128Z"
   },
   {
    "duration": 0,
    "start_time": "2022-10-10T13:45:06.266Z"
   },
   {
    "duration": 0,
    "start_time": "2022-10-10T13:45:06.268Z"
   },
   {
    "duration": 0,
    "start_time": "2022-10-10T13:45:06.269Z"
   },
   {
    "duration": 0,
    "start_time": "2022-10-10T13:45:06.270Z"
   },
   {
    "duration": 0,
    "start_time": "2022-10-10T13:45:06.272Z"
   },
   {
    "duration": 0,
    "start_time": "2022-10-10T13:45:06.273Z"
   },
   {
    "duration": 0,
    "start_time": "2022-10-10T13:45:06.274Z"
   },
   {
    "duration": 0,
    "start_time": "2022-10-10T13:45:06.276Z"
   },
   {
    "duration": 0,
    "start_time": "2022-10-10T13:45:06.277Z"
   },
   {
    "duration": 0,
    "start_time": "2022-10-10T13:45:06.278Z"
   },
   {
    "duration": 0,
    "start_time": "2022-10-10T13:45:06.280Z"
   },
   {
    "duration": 0,
    "start_time": "2022-10-10T13:45:06.282Z"
   },
   {
    "duration": 0,
    "start_time": "2022-10-10T13:45:06.283Z"
   },
   {
    "duration": 0,
    "start_time": "2022-10-10T13:45:06.284Z"
   },
   {
    "duration": 144,
    "start_time": "2022-10-10T13:57:29.146Z"
   },
   {
    "duration": 154,
    "start_time": "2022-10-10T13:57:43.099Z"
   },
   {
    "duration": 3,
    "start_time": "2022-10-10T14:00:57.589Z"
   },
   {
    "duration": 3,
    "start_time": "2022-10-10T14:01:05.026Z"
   },
   {
    "duration": 3,
    "start_time": "2022-10-10T14:01:33.108Z"
   },
   {
    "duration": 1600,
    "start_time": "2022-10-10T14:02:16.977Z"
   },
   {
    "duration": 11,
    "start_time": "2022-10-10T14:04:24.013Z"
   },
   {
    "duration": 3,
    "start_time": "2022-10-10T14:04:28.592Z"
   },
   {
    "duration": 11,
    "start_time": "2022-10-10T14:04:29.394Z"
   },
   {
    "duration": 3,
    "start_time": "2022-10-10T14:09:48.786Z"
   },
   {
    "duration": 4,
    "start_time": "2022-10-10T14:09:49.330Z"
   },
   {
    "duration": 11,
    "start_time": "2022-10-10T14:09:50.151Z"
   },
   {
    "duration": 3,
    "start_time": "2022-10-10T14:11:49.881Z"
   },
   {
    "duration": 4,
    "start_time": "2022-10-10T14:12:47.508Z"
   },
   {
    "duration": 10,
    "start_time": "2022-10-10T14:12:51.753Z"
   },
   {
    "duration": 6415,
    "start_time": "2022-10-10T14:12:52.567Z"
   },
   {
    "duration": 11,
    "start_time": "2022-10-10T14:13:22.180Z"
   },
   {
    "duration": 144,
    "start_time": "2022-10-10T14:13:25.785Z"
   },
   {
    "duration": 315,
    "start_time": "2022-10-10T14:13:55.329Z"
   },
   {
    "duration": 14,
    "start_time": "2022-10-10T14:14:10.572Z"
   },
   {
    "duration": 13,
    "start_time": "2022-10-10T14:14:34.181Z"
   },
   {
    "duration": 69,
    "start_time": "2022-10-10T14:14:48.945Z"
   },
   {
    "duration": 62,
    "start_time": "2022-10-10T14:15:04.382Z"
   },
   {
    "duration": 170,
    "start_time": "2022-10-10T14:20:15.367Z"
   },
   {
    "duration": 316,
    "start_time": "2022-10-10T14:25:25.377Z"
   },
   {
    "duration": 15,
    "start_time": "2022-10-10T14:25:34.630Z"
   },
   {
    "duration": 8939,
    "start_time": "2022-10-10T14:39:13.123Z"
   },
   {
    "duration": 132,
    "start_time": "2022-10-10T14:39:31.185Z"
   },
   {
    "duration": 3,
    "start_time": "2022-10-10T14:43:17.768Z"
   },
   {
    "duration": 9302,
    "start_time": "2022-10-10T14:43:26.957Z"
   },
   {
    "duration": 12,
    "start_time": "2022-10-10T14:46:58.313Z"
   },
   {
    "duration": 4,
    "start_time": "2022-10-10T14:48:10.743Z"
   },
   {
    "duration": 3,
    "start_time": "2022-10-10T14:48:23.490Z"
   },
   {
    "duration": 3,
    "start_time": "2022-10-10T14:48:26.087Z"
   },
   {
    "duration": 11,
    "start_time": "2022-10-10T15:29:19.794Z"
   },
   {
    "duration": 3,
    "start_time": "2022-10-10T15:29:27.919Z"
   },
   {
    "duration": 12,
    "start_time": "2022-10-10T15:29:29.221Z"
   },
   {
    "duration": 13,
    "start_time": "2022-10-10T15:30:23.145Z"
   },
   {
    "duration": 13,
    "start_time": "2022-10-10T15:30:39.898Z"
   },
   {
    "duration": 10,
    "start_time": "2022-10-10T15:31:10.741Z"
   },
   {
    "duration": 3,
    "start_time": "2022-10-10T15:31:17.330Z"
   },
   {
    "duration": 3,
    "start_time": "2022-10-10T15:31:19.434Z"
   },
   {
    "duration": 3,
    "start_time": "2022-10-10T15:31:20.535Z"
   },
   {
    "duration": 15,
    "start_time": "2022-10-10T15:31:21.540Z"
   },
   {
    "duration": 192,
    "start_time": "2022-10-10T15:31:36.035Z"
   },
   {
    "duration": 11,
    "start_time": "2022-10-10T15:31:37.057Z"
   },
   {
    "duration": 14,
    "start_time": "2022-10-10T15:32:35.865Z"
   },
   {
    "duration": 10,
    "start_time": "2022-10-10T15:33:06.048Z"
   },
   {
    "duration": 11,
    "start_time": "2022-10-10T15:33:56.255Z"
   },
   {
    "duration": 13,
    "start_time": "2022-10-10T15:34:10.454Z"
   },
   {
    "duration": 160,
    "start_time": "2022-10-10T15:34:14.417Z"
   },
   {
    "duration": 4,
    "start_time": "2022-10-10T15:34:28.488Z"
   },
   {
    "duration": 4,
    "start_time": "2022-10-10T15:37:02.450Z"
   },
   {
    "duration": 11,
    "start_time": "2022-10-10T15:37:22.489Z"
   },
   {
    "duration": 3,
    "start_time": "2022-10-10T15:37:26.611Z"
   },
   {
    "duration": 3,
    "start_time": "2022-10-10T15:37:27.250Z"
   },
   {
    "duration": 3,
    "start_time": "2022-10-10T15:37:27.770Z"
   },
   {
    "duration": 11,
    "start_time": "2022-10-10T15:37:28.717Z"
   },
   {
    "duration": 1664,
    "start_time": "2022-10-10T15:38:50.443Z"
   },
   {
    "duration": 872,
    "start_time": "2022-10-10T15:38:52.109Z"
   },
   {
    "duration": 130,
    "start_time": "2022-10-10T15:38:52.982Z"
   },
   {
    "duration": 26,
    "start_time": "2022-10-10T15:38:53.114Z"
   },
   {
    "duration": 3,
    "start_time": "2022-10-10T15:38:53.153Z"
   },
   {
    "duration": 122,
    "start_time": "2022-10-10T15:38:53.158Z"
   },
   {
    "duration": 195,
    "start_time": "2022-10-10T15:38:53.282Z"
   },
   {
    "duration": 136,
    "start_time": "2022-10-10T15:38:53.479Z"
   },
   {
    "duration": 231,
    "start_time": "2022-10-10T15:38:53.617Z"
   },
   {
    "duration": 21,
    "start_time": "2022-10-10T15:38:53.849Z"
   },
   {
    "duration": 179,
    "start_time": "2022-10-10T15:38:53.872Z"
   },
   {
    "duration": 168,
    "start_time": "2022-10-10T15:38:54.054Z"
   },
   {
    "duration": 31,
    "start_time": "2022-10-10T15:38:54.224Z"
   },
   {
    "duration": 254,
    "start_time": "2022-10-10T15:38:54.258Z"
   },
   {
    "duration": 191,
    "start_time": "2022-10-10T15:38:54.514Z"
   },
   {
    "duration": 18,
    "start_time": "2022-10-10T15:38:54.707Z"
   },
   {
    "duration": 215,
    "start_time": "2022-10-10T15:38:54.727Z"
   },
   {
    "duration": 239,
    "start_time": "2022-10-10T15:38:54.944Z"
   },
   {
    "duration": 21,
    "start_time": "2022-10-10T15:38:55.185Z"
   },
   {
    "duration": 128,
    "start_time": "2022-10-10T15:38:55.208Z"
   },
   {
    "duration": 159,
    "start_time": "2022-10-10T15:38:55.338Z"
   },
   {
    "duration": 259,
    "start_time": "2022-10-10T15:38:55.500Z"
   },
   {
    "duration": 60,
    "start_time": "2022-10-10T15:38:55.761Z"
   },
   {
    "duration": 71,
    "start_time": "2022-10-10T15:38:55.823Z"
   },
   {
    "duration": 20,
    "start_time": "2022-10-10T15:38:55.896Z"
   },
   {
    "duration": 69,
    "start_time": "2022-10-10T15:38:55.918Z"
   },
   {
    "duration": 26,
    "start_time": "2022-10-10T15:38:55.989Z"
   },
   {
    "duration": 6,
    "start_time": "2022-10-10T15:38:56.017Z"
   },
   {
    "duration": 6,
    "start_time": "2022-10-10T15:38:56.024Z"
   },
   {
    "duration": 45,
    "start_time": "2022-10-10T15:38:56.032Z"
   },
   {
    "duration": 247,
    "start_time": "2022-10-10T15:38:56.079Z"
   },
   {
    "duration": 212,
    "start_time": "2022-10-10T15:38:56.329Z"
   },
   {
    "duration": 128,
    "start_time": "2022-10-10T15:38:56.542Z"
   },
   {
    "duration": 41,
    "start_time": "2022-10-10T15:38:56.672Z"
   },
   {
    "duration": 208,
    "start_time": "2022-10-10T15:38:56.715Z"
   },
   {
    "duration": 14,
    "start_time": "2022-10-10T15:38:56.924Z"
   },
   {
    "duration": 33,
    "start_time": "2022-10-10T15:38:56.939Z"
   },
   {
    "duration": 13,
    "start_time": "2022-10-10T15:38:56.973Z"
   },
   {
    "duration": 28,
    "start_time": "2022-10-10T15:38:56.988Z"
   },
   {
    "duration": 37,
    "start_time": "2022-10-10T15:38:57.018Z"
   },
   {
    "duration": 23,
    "start_time": "2022-10-10T15:38:57.060Z"
   },
   {
    "duration": 92,
    "start_time": "2022-10-10T15:38:57.085Z"
   },
   {
    "duration": 81,
    "start_time": "2022-10-10T15:38:57.179Z"
   },
   {
    "duration": 3,
    "start_time": "2022-10-10T15:38:57.262Z"
   },
   {
    "duration": 684,
    "start_time": "2022-10-10T15:38:57.266Z"
   },
   {
    "duration": 10,
    "start_time": "2022-10-10T15:38:57.953Z"
   },
   {
    "duration": 13,
    "start_time": "2022-10-10T15:38:57.965Z"
   },
   {
    "duration": 5,
    "start_time": "2022-10-10T15:38:57.980Z"
   },
   {
    "duration": 12,
    "start_time": "2022-10-10T15:38:57.987Z"
   },
   {
    "duration": 9,
    "start_time": "2022-10-10T15:38:58.000Z"
   },
   {
    "duration": 20,
    "start_time": "2022-10-10T15:38:58.010Z"
   },
   {
    "duration": 12,
    "start_time": "2022-10-10T15:38:58.032Z"
   },
   {
    "duration": 9215,
    "start_time": "2022-10-10T15:38:58.046Z"
   },
   {
    "duration": 374,
    "start_time": "2022-10-10T15:39:07.262Z"
   },
   {
    "duration": 18,
    "start_time": "2022-10-10T15:39:07.637Z"
   },
   {
    "duration": 5,
    "start_time": "2022-10-10T15:39:07.656Z"
   },
   {
    "duration": 6,
    "start_time": "2022-10-10T15:39:07.663Z"
   },
   {
    "duration": 6,
    "start_time": "2022-10-10T15:39:07.670Z"
   },
   {
    "duration": 163,
    "start_time": "2022-10-10T15:39:07.677Z"
   },
   {
    "duration": 18,
    "start_time": "2022-10-10T15:39:07.842Z"
   },
   {
    "duration": 6,
    "start_time": "2022-10-10T15:39:07.862Z"
   },
   {
    "duration": 6,
    "start_time": "2022-10-10T15:39:07.870Z"
   },
   {
    "duration": 8,
    "start_time": "2022-10-10T15:39:07.877Z"
   },
   {
    "duration": 103,
    "start_time": "2022-10-10T15:42:37.869Z"
   },
   {
    "duration": 158,
    "start_time": "2022-10-10T15:42:37.974Z"
   },
   {
    "duration": 133,
    "start_time": "2022-10-10T15:42:38.134Z"
   },
   {
    "duration": 0,
    "start_time": "2022-10-10T15:42:38.269Z"
   },
   {
    "duration": 0,
    "start_time": "2022-10-10T15:42:38.270Z"
   },
   {
    "duration": 17,
    "start_time": "2022-10-10T15:47:13.154Z"
   },
   {
    "duration": 208599,
    "start_time": "2022-10-10T15:50:48.263Z"
   },
   {
    "duration": 1986,
    "start_time": "2022-10-11T15:49:29.546Z"
   },
   {
    "duration": 3870,
    "start_time": "2022-10-11T15:49:31.534Z"
   },
   {
    "duration": 118,
    "start_time": "2022-10-11T15:49:35.406Z"
   },
   {
    "duration": 25,
    "start_time": "2022-10-11T15:49:35.526Z"
   },
   {
    "duration": 3,
    "start_time": "2022-10-11T15:49:35.552Z"
   },
   {
    "duration": 126,
    "start_time": "2022-10-11T15:49:35.557Z"
   },
   {
    "duration": 179,
    "start_time": "2022-10-11T15:49:35.685Z"
   },
   {
    "duration": 110,
    "start_time": "2022-10-11T15:49:35.865Z"
   },
   {
    "duration": 221,
    "start_time": "2022-10-11T15:49:35.977Z"
   },
   {
    "duration": 17,
    "start_time": "2022-10-11T15:49:36.201Z"
   },
   {
    "duration": 170,
    "start_time": "2022-10-11T15:49:36.219Z"
   },
   {
    "duration": 236,
    "start_time": "2022-10-11T15:49:36.390Z"
   },
   {
    "duration": 19,
    "start_time": "2022-10-11T15:49:36.629Z"
   },
   {
    "duration": 238,
    "start_time": "2022-10-11T15:49:36.651Z"
   },
   {
    "duration": 149,
    "start_time": "2022-10-11T15:49:36.894Z"
   },
   {
    "duration": 17,
    "start_time": "2022-10-11T15:49:37.044Z"
   },
   {
    "duration": 198,
    "start_time": "2022-10-11T15:49:37.063Z"
   },
   {
    "duration": 219,
    "start_time": "2022-10-11T15:49:37.263Z"
   },
   {
    "duration": 27,
    "start_time": "2022-10-11T15:49:37.484Z"
   },
   {
    "duration": 126,
    "start_time": "2022-10-11T15:49:37.512Z"
   },
   {
    "duration": 143,
    "start_time": "2022-10-11T15:49:37.640Z"
   },
   {
    "duration": 223,
    "start_time": "2022-10-11T15:49:37.794Z"
   },
   {
    "duration": 47,
    "start_time": "2022-10-11T15:49:38.018Z"
   },
   {
    "duration": 56,
    "start_time": "2022-10-11T15:49:38.067Z"
   },
   {
    "duration": 22,
    "start_time": "2022-10-11T15:49:38.125Z"
   },
   {
    "duration": 58,
    "start_time": "2022-10-11T15:49:38.149Z"
   },
   {
    "duration": 22,
    "start_time": "2022-10-11T15:49:38.209Z"
   },
   {
    "duration": 5,
    "start_time": "2022-10-11T15:49:38.234Z"
   },
   {
    "duration": 6,
    "start_time": "2022-10-11T15:49:38.240Z"
   },
   {
    "duration": 19,
    "start_time": "2022-10-11T15:49:38.247Z"
   },
   {
    "duration": 265,
    "start_time": "2022-10-11T15:49:38.268Z"
   },
   {
    "duration": 247,
    "start_time": "2022-10-11T15:49:38.534Z"
   },
   {
    "duration": 135,
    "start_time": "2022-10-11T15:49:38.783Z"
   },
   {
    "duration": 36,
    "start_time": "2022-10-11T15:49:38.919Z"
   },
   {
    "duration": 215,
    "start_time": "2022-10-11T15:49:38.956Z"
   },
   {
    "duration": 21,
    "start_time": "2022-10-11T15:49:39.173Z"
   },
   {
    "duration": 19,
    "start_time": "2022-10-11T15:49:39.196Z"
   },
   {
    "duration": 12,
    "start_time": "2022-10-11T15:49:39.216Z"
   },
   {
    "duration": 25,
    "start_time": "2022-10-11T15:49:39.230Z"
   },
   {
    "duration": 44,
    "start_time": "2022-10-11T15:49:39.257Z"
   },
   {
    "duration": 22,
    "start_time": "2022-10-11T15:49:39.302Z"
   },
   {
    "duration": 88,
    "start_time": "2022-10-11T15:49:39.326Z"
   },
   {
    "duration": 79,
    "start_time": "2022-10-11T15:49:39.416Z"
   },
   {
    "duration": 4,
    "start_time": "2022-10-11T15:49:39.496Z"
   },
   {
    "duration": 622,
    "start_time": "2022-10-11T15:49:39.501Z"
   },
   {
    "duration": 11,
    "start_time": "2022-10-11T15:49:40.125Z"
   },
   {
    "duration": 31,
    "start_time": "2022-10-11T15:49:40.137Z"
   },
   {
    "duration": 14,
    "start_time": "2022-10-11T15:49:40.171Z"
   },
   {
    "duration": 34,
    "start_time": "2022-10-11T15:49:40.186Z"
   },
   {
    "duration": 16,
    "start_time": "2022-10-11T15:49:40.222Z"
   },
   {
    "duration": 9,
    "start_time": "2022-10-11T15:49:44.452Z"
   },
   {
    "duration": 4,
    "start_time": "2022-10-11T15:49:48.809Z"
   },
   {
    "duration": 8383,
    "start_time": "2022-10-11T15:50:01.417Z"
   },
   {
    "duration": 250,
    "start_time": "2022-10-11T15:51:31.161Z"
   },
   {
    "duration": 4,
    "start_time": "2022-10-11T15:51:38.171Z"
   },
   {
    "duration": 31441,
    "start_time": "2022-10-11T15:52:07.037Z"
   },
   {
    "duration": 139,
    "start_time": "2022-10-12T09:16:13.982Z"
   },
   {
    "duration": 1935,
    "start_time": "2022-10-12T09:16:21.157Z"
   },
   {
    "duration": 2979,
    "start_time": "2022-10-12T09:16:23.094Z"
   },
   {
    "duration": 154,
    "start_time": "2022-10-12T09:16:26.075Z"
   },
   {
    "duration": 31,
    "start_time": "2022-10-12T09:16:26.232Z"
   },
   {
    "duration": 24,
    "start_time": "2022-10-12T09:16:26.265Z"
   },
   {
    "duration": 160,
    "start_time": "2022-10-12T09:16:26.292Z"
   },
   {
    "duration": 212,
    "start_time": "2022-10-12T09:16:26.454Z"
   },
   {
    "duration": 151,
    "start_time": "2022-10-12T09:16:26.670Z"
   },
   {
    "duration": 234,
    "start_time": "2022-10-12T09:16:26.823Z"
   },
   {
    "duration": 19,
    "start_time": "2022-10-12T09:16:27.060Z"
   },
   {
    "duration": 186,
    "start_time": "2022-10-12T09:16:27.090Z"
   },
   {
    "duration": 171,
    "start_time": "2022-10-12T09:16:27.278Z"
   },
   {
    "duration": 19,
    "start_time": "2022-10-12T09:16:27.450Z"
   },
   {
    "duration": 273,
    "start_time": "2022-10-12T09:16:27.471Z"
   },
   {
    "duration": 158,
    "start_time": "2022-10-12T09:16:27.746Z"
   },
   {
    "duration": 22,
    "start_time": "2022-10-12T09:16:27.906Z"
   },
   {
    "duration": 226,
    "start_time": "2022-10-12T09:16:27.930Z"
   },
   {
    "duration": 273,
    "start_time": "2022-10-12T09:16:28.157Z"
   },
   {
    "duration": 18,
    "start_time": "2022-10-12T09:16:28.432Z"
   },
   {
    "duration": 130,
    "start_time": "2022-10-12T09:16:28.452Z"
   },
   {
    "duration": 177,
    "start_time": "2022-10-12T09:16:28.589Z"
   },
   {
    "duration": 237,
    "start_time": "2022-10-12T09:16:28.768Z"
   },
   {
    "duration": 51,
    "start_time": "2022-10-12T09:16:29.007Z"
   },
   {
    "duration": 59,
    "start_time": "2022-10-12T09:16:29.060Z"
   },
   {
    "duration": 17,
    "start_time": "2022-10-12T09:16:29.121Z"
   },
   {
    "duration": 59,
    "start_time": "2022-10-12T09:16:29.140Z"
   },
   {
    "duration": 26,
    "start_time": "2022-10-12T09:16:29.201Z"
   },
   {
    "duration": 9,
    "start_time": "2022-10-12T09:16:29.232Z"
   },
   {
    "duration": 28,
    "start_time": "2022-10-12T09:16:29.243Z"
   },
   {
    "duration": 47,
    "start_time": "2022-10-12T09:16:29.272Z"
   },
   {
    "duration": 286,
    "start_time": "2022-10-12T09:16:29.321Z"
   },
   {
    "duration": 225,
    "start_time": "2022-10-12T09:16:29.609Z"
   },
   {
    "duration": 132,
    "start_time": "2022-10-12T09:16:29.836Z"
   },
   {
    "duration": 47,
    "start_time": "2022-10-12T09:16:29.970Z"
   },
   {
    "duration": 235,
    "start_time": "2022-10-12T09:16:30.020Z"
   },
   {
    "duration": 12,
    "start_time": "2022-10-12T09:16:30.257Z"
   },
   {
    "duration": 46,
    "start_time": "2022-10-12T09:16:30.270Z"
   },
   {
    "duration": 25,
    "start_time": "2022-10-12T09:16:30.318Z"
   },
   {
    "duration": 41,
    "start_time": "2022-10-12T09:16:30.346Z"
   },
   {
    "duration": 33,
    "start_time": "2022-10-12T09:16:30.389Z"
   },
   {
    "duration": 28,
    "start_time": "2022-10-12T09:16:30.423Z"
   },
   {
    "duration": 101,
    "start_time": "2022-10-12T09:16:30.453Z"
   },
   {
    "duration": 80,
    "start_time": "2022-10-12T09:16:30.556Z"
   },
   {
    "duration": 3,
    "start_time": "2022-10-12T09:16:30.638Z"
   },
   {
    "duration": 713,
    "start_time": "2022-10-12T09:16:30.642Z"
   },
   {
    "duration": 12,
    "start_time": "2022-10-12T09:16:31.358Z"
   },
   {
    "duration": 46,
    "start_time": "2022-10-12T09:16:31.372Z"
   },
   {
    "duration": 18,
    "start_time": "2022-10-12T09:16:31.420Z"
   },
   {
    "duration": 25,
    "start_time": "2022-10-12T09:16:31.441Z"
   },
   {
    "duration": 23,
    "start_time": "2022-10-12T09:16:31.468Z"
   },
   {
    "duration": 33,
    "start_time": "2022-10-12T09:16:31.493Z"
   },
   {
    "duration": 28,
    "start_time": "2022-10-12T09:16:31.529Z"
   },
   {
    "duration": 8330,
    "start_time": "2022-10-12T09:16:31.559Z"
   },
   {
    "duration": 37785,
    "start_time": "2022-10-12T09:16:39.891Z"
   },
   {
    "duration": 24,
    "start_time": "2022-10-12T09:17:17.678Z"
   },
   {
    "duration": 7,
    "start_time": "2022-10-12T09:17:17.704Z"
   },
   {
    "duration": 16,
    "start_time": "2022-10-12T09:17:17.713Z"
   },
   {
    "duration": 8,
    "start_time": "2022-10-12T09:17:17.731Z"
   },
   {
    "duration": 257,
    "start_time": "2022-10-12T09:17:17.741Z"
   },
   {
    "duration": 14,
    "start_time": "2022-10-12T09:17:18.000Z"
   },
   {
    "duration": 8,
    "start_time": "2022-10-12T09:17:18.016Z"
   },
   {
    "duration": 15,
    "start_time": "2022-10-12T09:17:18.026Z"
   },
   {
    "duration": 21,
    "start_time": "2022-10-12T09:17:18.043Z"
   },
   {
    "duration": 1873,
    "start_time": "2022-10-12T09:37:50.850Z"
   },
   {
    "duration": 930,
    "start_time": "2022-10-12T09:37:52.725Z"
   },
   {
    "duration": 155,
    "start_time": "2022-10-12T09:37:53.657Z"
   },
   {
    "duration": 27,
    "start_time": "2022-10-12T09:37:53.814Z"
   },
   {
    "duration": 3,
    "start_time": "2022-10-12T09:37:53.843Z"
   },
   {
    "duration": 186,
    "start_time": "2022-10-12T09:37:53.848Z"
   },
   {
    "duration": 211,
    "start_time": "2022-10-12T09:37:54.036Z"
   },
   {
    "duration": 153,
    "start_time": "2022-10-12T09:37:54.249Z"
   },
   {
    "duration": 219,
    "start_time": "2022-10-12T09:37:54.404Z"
   },
   {
    "duration": 18,
    "start_time": "2022-10-12T09:37:54.627Z"
   },
   {
    "duration": 179,
    "start_time": "2022-10-12T09:37:54.647Z"
   },
   {
    "duration": 169,
    "start_time": "2022-10-12T09:37:54.828Z"
   },
   {
    "duration": 18,
    "start_time": "2022-10-12T09:37:54.999Z"
   },
   {
    "duration": 282,
    "start_time": "2022-10-12T09:37:55.019Z"
   },
   {
    "duration": 171,
    "start_time": "2022-10-12T09:37:55.303Z"
   },
   {
    "duration": 26,
    "start_time": "2022-10-12T09:37:55.476Z"
   },
   {
    "duration": 227,
    "start_time": "2022-10-12T09:37:55.504Z"
   },
   {
    "duration": 262,
    "start_time": "2022-10-12T09:37:55.733Z"
   },
   {
    "duration": 20,
    "start_time": "2022-10-12T09:37:55.997Z"
   },
   {
    "duration": 136,
    "start_time": "2022-10-12T09:37:56.019Z"
   },
   {
    "duration": 170,
    "start_time": "2022-10-12T09:37:56.157Z"
   },
   {
    "duration": 244,
    "start_time": "2022-10-12T09:37:56.329Z"
   },
   {
    "duration": 59,
    "start_time": "2022-10-12T09:37:56.575Z"
   },
   {
    "duration": 54,
    "start_time": "2022-10-12T09:37:56.636Z"
   },
   {
    "duration": 19,
    "start_time": "2022-10-12T09:37:56.692Z"
   },
   {
    "duration": 42,
    "start_time": "2022-10-12T09:37:56.712Z"
   },
   {
    "duration": 42,
    "start_time": "2022-10-12T09:37:56.756Z"
   },
   {
    "duration": 7,
    "start_time": "2022-10-12T09:37:56.804Z"
   },
   {
    "duration": 13,
    "start_time": "2022-10-12T09:37:56.813Z"
   },
   {
    "duration": 37,
    "start_time": "2022-10-12T09:37:56.828Z"
   },
   {
    "duration": 265,
    "start_time": "2022-10-12T09:37:56.867Z"
   },
   {
    "duration": 240,
    "start_time": "2022-10-12T09:37:57.134Z"
   },
   {
    "duration": 137,
    "start_time": "2022-10-12T09:37:57.376Z"
   },
   {
    "duration": 33,
    "start_time": "2022-10-12T09:37:57.515Z"
   },
   {
    "duration": 233,
    "start_time": "2022-10-12T09:37:57.550Z"
   },
   {
    "duration": 13,
    "start_time": "2022-10-12T09:37:57.785Z"
   },
   {
    "duration": 22,
    "start_time": "2022-10-12T09:37:57.800Z"
   },
   {
    "duration": 30,
    "start_time": "2022-10-12T09:37:57.824Z"
   },
   {
    "duration": 43,
    "start_time": "2022-10-12T09:37:57.856Z"
   },
   {
    "duration": 36,
    "start_time": "2022-10-12T09:37:57.900Z"
   },
   {
    "duration": 30,
    "start_time": "2022-10-12T09:37:57.937Z"
   },
   {
    "duration": 70,
    "start_time": "2022-10-12T09:37:57.969Z"
   },
   {
    "duration": 85,
    "start_time": "2022-10-12T09:37:58.041Z"
   },
   {
    "duration": 3,
    "start_time": "2022-10-12T09:37:58.128Z"
   },
   {
    "duration": 688,
    "start_time": "2022-10-12T09:37:58.132Z"
   },
   {
    "duration": 9,
    "start_time": "2022-10-12T09:37:58.822Z"
   },
   {
    "duration": 18,
    "start_time": "2022-10-12T09:37:58.833Z"
   },
   {
    "duration": 49,
    "start_time": "2022-10-12T09:37:58.853Z"
   },
   {
    "duration": 34,
    "start_time": "2022-10-12T09:37:58.904Z"
   },
   {
    "duration": 52,
    "start_time": "2022-10-12T09:37:58.940Z"
   },
   {
    "duration": 37,
    "start_time": "2022-10-12T09:37:58.994Z"
   },
   {
    "duration": 27,
    "start_time": "2022-10-12T09:37:59.033Z"
   },
   {
    "duration": 7839,
    "start_time": "2022-10-12T09:37:59.062Z"
   },
   {
    "duration": 36066,
    "start_time": "2022-10-12T09:38:06.990Z"
   },
   {
    "duration": 13,
    "start_time": "2022-10-12T09:38:43.058Z"
   },
   {
    "duration": 6,
    "start_time": "2022-10-12T09:38:43.073Z"
   },
   {
    "duration": 8,
    "start_time": "2022-10-12T09:38:43.090Z"
   },
   {
    "duration": 5,
    "start_time": "2022-10-12T09:38:43.100Z"
   },
   {
    "duration": 253,
    "start_time": "2022-10-12T09:38:43.107Z"
   },
   {
    "duration": 15,
    "start_time": "2022-10-12T09:38:43.362Z"
   },
   {
    "duration": 7,
    "start_time": "2022-10-12T09:38:43.388Z"
   },
   {
    "duration": 6,
    "start_time": "2022-10-12T09:38:43.397Z"
   },
   {
    "duration": 6,
    "start_time": "2022-10-12T09:38:43.405Z"
   },
   {
    "duration": 1600,
    "start_time": "2022-10-12T09:51:15.287Z"
   },
   {
    "duration": 1030,
    "start_time": "2022-10-12T09:51:16.889Z"
   },
   {
    "duration": 152,
    "start_time": "2022-10-12T09:51:17.921Z"
   },
   {
    "duration": 48,
    "start_time": "2022-10-12T09:51:18.075Z"
   },
   {
    "duration": 3,
    "start_time": "2022-10-12T09:51:18.124Z"
   },
   {
    "duration": 173,
    "start_time": "2022-10-12T09:51:18.129Z"
   },
   {
    "duration": 225,
    "start_time": "2022-10-12T09:51:18.305Z"
   },
   {
    "duration": 161,
    "start_time": "2022-10-12T09:51:18.532Z"
   },
   {
    "duration": 219,
    "start_time": "2022-10-12T09:51:18.705Z"
   },
   {
    "duration": 17,
    "start_time": "2022-10-12T09:51:18.927Z"
   },
   {
    "duration": 180,
    "start_time": "2022-10-12T09:51:18.946Z"
   },
   {
    "duration": 178,
    "start_time": "2022-10-12T09:51:19.128Z"
   },
   {
    "duration": 18,
    "start_time": "2022-10-12T09:51:19.309Z"
   },
   {
    "duration": 273,
    "start_time": "2022-10-12T09:51:19.329Z"
   },
   {
    "duration": 165,
    "start_time": "2022-10-12T09:51:19.604Z"
   },
   {
    "duration": 29,
    "start_time": "2022-10-12T09:51:19.770Z"
   },
   {
    "duration": 246,
    "start_time": "2022-10-12T09:51:19.800Z"
   },
   {
    "duration": 295,
    "start_time": "2022-10-12T09:51:20.048Z"
   },
   {
    "duration": 19,
    "start_time": "2022-10-12T09:51:20.345Z"
   },
   {
    "duration": 142,
    "start_time": "2022-10-12T09:51:20.365Z"
   },
   {
    "duration": 168,
    "start_time": "2022-10-12T09:51:20.509Z"
   },
   {
    "duration": 262,
    "start_time": "2022-10-12T09:51:20.679Z"
   },
   {
    "duration": 66,
    "start_time": "2022-10-12T09:51:20.943Z"
   },
   {
    "duration": 43,
    "start_time": "2022-10-12T09:51:21.010Z"
   },
   {
    "duration": 20,
    "start_time": "2022-10-12T09:51:21.055Z"
   },
   {
    "duration": 54,
    "start_time": "2022-10-12T09:51:21.090Z"
   },
   {
    "duration": 26,
    "start_time": "2022-10-12T09:51:21.146Z"
   },
   {
    "duration": 25,
    "start_time": "2022-10-12T09:51:21.176Z"
   },
   {
    "duration": 7,
    "start_time": "2022-10-12T09:51:21.203Z"
   },
   {
    "duration": 22,
    "start_time": "2022-10-12T09:51:21.211Z"
   },
   {
    "duration": 282,
    "start_time": "2022-10-12T09:51:21.235Z"
   },
   {
    "duration": 231,
    "start_time": "2022-10-12T09:51:21.519Z"
   },
   {
    "duration": 164,
    "start_time": "2022-10-12T09:51:21.752Z"
   },
   {
    "duration": 48,
    "start_time": "2022-10-12T09:51:21.919Z"
   },
   {
    "duration": 293,
    "start_time": "2022-10-12T09:51:21.969Z"
   },
   {
    "duration": 13,
    "start_time": "2022-10-12T09:51:22.265Z"
   },
   {
    "duration": 27,
    "start_time": "2022-10-12T09:51:22.280Z"
   },
   {
    "duration": 12,
    "start_time": "2022-10-12T09:51:22.309Z"
   },
   {
    "duration": 27,
    "start_time": "2022-10-12T09:51:22.323Z"
   },
   {
    "duration": 18,
    "start_time": "2022-10-12T09:51:22.352Z"
   },
   {
    "duration": 45,
    "start_time": "2022-10-12T09:51:22.371Z"
   },
   {
    "duration": 84,
    "start_time": "2022-10-12T09:51:22.418Z"
   },
   {
    "duration": 72,
    "start_time": "2022-10-12T09:51:22.504Z"
   },
   {
    "duration": 3,
    "start_time": "2022-10-12T09:51:22.577Z"
   },
   {
    "duration": 668,
    "start_time": "2022-10-12T09:51:22.582Z"
   },
   {
    "duration": 10,
    "start_time": "2022-10-12T09:51:23.251Z"
   },
   {
    "duration": 8,
    "start_time": "2022-10-12T09:51:23.263Z"
   },
   {
    "duration": 4,
    "start_time": "2022-10-12T09:51:23.299Z"
   },
   {
    "duration": 7,
    "start_time": "2022-10-12T09:51:23.305Z"
   },
   {
    "duration": 10,
    "start_time": "2022-10-12T09:51:23.313Z"
   },
   {
    "duration": 12,
    "start_time": "2022-10-12T09:51:23.325Z"
   },
   {
    "duration": 4,
    "start_time": "2022-10-12T09:51:23.339Z"
   },
   {
    "duration": 8261,
    "start_time": "2022-10-12T09:51:23.344Z"
   },
   {
    "duration": 31663,
    "start_time": "2022-10-12T09:51:31.607Z"
   },
   {
    "duration": 27,
    "start_time": "2022-10-12T09:52:03.272Z"
   },
   {
    "duration": 8,
    "start_time": "2022-10-12T09:52:03.301Z"
   },
   {
    "duration": 5,
    "start_time": "2022-10-12T09:52:03.310Z"
   },
   {
    "duration": 796428,
    "start_time": "2022-10-12T09:57:08.165Z"
   },
   {
    "duration": 14,
    "start_time": "2022-10-12T10:10:24.595Z"
   },
   {
    "duration": 181,
    "start_time": "2022-10-12T10:10:24.610Z"
   },
   {
    "duration": 122,
    "start_time": "2022-10-12T10:10:24.793Z"
   },
   {
    "duration": 286686,
    "start_time": "2022-10-12T10:31:49.081Z"
   },
   {
    "duration": 19,
    "start_time": "2022-10-12T11:05:12.896Z"
   },
   {
    "duration": 4,
    "start_time": "2022-10-12T11:05:50.317Z"
   },
   {
    "duration": 3,
    "start_time": "2022-10-12T11:06:02.452Z"
   },
   {
    "duration": 72753,
    "start_time": "2022-10-12T11:09:09.993Z"
   },
   {
    "duration": 3,
    "start_time": "2022-10-12T11:10:22.748Z"
   },
   {
    "duration": 16,
    "start_time": "2022-10-12T11:10:22.752Z"
   },
   {
    "duration": 1652,
    "start_time": "2022-10-12T11:14:31.651Z"
   },
   {
    "duration": 918,
    "start_time": "2022-10-12T11:14:33.306Z"
   },
   {
    "duration": 144,
    "start_time": "2022-10-12T11:14:34.226Z"
   },
   {
    "duration": 42,
    "start_time": "2022-10-12T11:14:34.372Z"
   },
   {
    "duration": 3,
    "start_time": "2022-10-12T11:14:34.415Z"
   },
   {
    "duration": 149,
    "start_time": "2022-10-12T11:14:34.420Z"
   },
   {
    "duration": 229,
    "start_time": "2022-10-12T11:14:34.571Z"
   },
   {
    "duration": 147,
    "start_time": "2022-10-12T11:14:34.802Z"
   },
   {
    "duration": 236,
    "start_time": "2022-10-12T11:14:34.950Z"
   },
   {
    "duration": 28,
    "start_time": "2022-10-12T11:14:35.189Z"
   },
   {
    "duration": 174,
    "start_time": "2022-10-12T11:14:35.219Z"
   },
   {
    "duration": 167,
    "start_time": "2022-10-12T11:14:35.399Z"
   },
   {
    "duration": 29,
    "start_time": "2022-10-12T11:14:35.568Z"
   },
   {
    "duration": 260,
    "start_time": "2022-10-12T11:14:35.598Z"
   },
   {
    "duration": 174,
    "start_time": "2022-10-12T11:14:35.860Z"
   },
   {
    "duration": 19,
    "start_time": "2022-10-12T11:14:36.036Z"
   },
   {
    "duration": 240,
    "start_time": "2022-10-12T11:14:36.058Z"
   },
   {
    "duration": 268,
    "start_time": "2022-10-12T11:14:36.304Z"
   },
   {
    "duration": 31,
    "start_time": "2022-10-12T11:14:36.574Z"
   },
   {
    "duration": 124,
    "start_time": "2022-10-12T11:14:36.607Z"
   },
   {
    "duration": 172,
    "start_time": "2022-10-12T11:14:36.733Z"
   },
   {
    "duration": 266,
    "start_time": "2022-10-12T11:14:36.906Z"
   },
   {
    "duration": 64,
    "start_time": "2022-10-12T11:14:37.174Z"
   },
   {
    "duration": 64,
    "start_time": "2022-10-12T11:14:37.240Z"
   },
   {
    "duration": 18,
    "start_time": "2022-10-12T11:14:37.306Z"
   },
   {
    "duration": 49,
    "start_time": "2022-10-12T11:14:37.326Z"
   },
   {
    "duration": 42,
    "start_time": "2022-10-12T11:14:37.378Z"
   },
   {
    "duration": 6,
    "start_time": "2022-10-12T11:14:37.424Z"
   },
   {
    "duration": 4,
    "start_time": "2022-10-12T11:14:37.433Z"
   },
   {
    "duration": 25,
    "start_time": "2022-10-12T11:14:37.439Z"
   },
   {
    "duration": 309,
    "start_time": "2022-10-12T11:14:37.466Z"
   },
   {
    "duration": 204,
    "start_time": "2022-10-12T11:14:37.777Z"
   },
   {
    "duration": 144,
    "start_time": "2022-10-12T11:14:37.990Z"
   },
   {
    "duration": 36,
    "start_time": "2022-10-12T11:14:38.136Z"
   },
   {
    "duration": 237,
    "start_time": "2022-10-12T11:14:38.190Z"
   },
   {
    "duration": 12,
    "start_time": "2022-10-12T11:14:38.429Z"
   },
   {
    "duration": 18,
    "start_time": "2022-10-12T11:14:38.443Z"
   },
   {
    "duration": 38,
    "start_time": "2022-10-12T11:14:38.462Z"
   },
   {
    "duration": 25,
    "start_time": "2022-10-12T11:14:38.502Z"
   },
   {
    "duration": 18,
    "start_time": "2022-10-12T11:14:38.529Z"
   },
   {
    "duration": 18,
    "start_time": "2022-10-12T11:14:38.551Z"
   },
   {
    "duration": 96,
    "start_time": "2022-10-12T11:14:38.570Z"
   },
   {
    "duration": 87,
    "start_time": "2022-10-12T11:14:38.668Z"
   },
   {
    "duration": 3,
    "start_time": "2022-10-12T11:14:38.756Z"
   },
   {
    "duration": 703,
    "start_time": "2022-10-12T11:14:38.760Z"
   },
   {
    "duration": 9,
    "start_time": "2022-10-12T11:14:39.465Z"
   },
   {
    "duration": 32,
    "start_time": "2022-10-12T11:14:39.476Z"
   },
   {
    "duration": 3,
    "start_time": "2022-10-12T11:14:39.510Z"
   },
   {
    "duration": 4,
    "start_time": "2022-10-12T11:14:39.515Z"
   },
   {
    "duration": 5,
    "start_time": "2022-10-12T11:14:39.520Z"
   },
   {
    "duration": 12,
    "start_time": "2022-10-12T11:14:39.526Z"
   },
   {
    "duration": 4,
    "start_time": "2022-10-12T11:14:39.540Z"
   },
   {
    "duration": 79186,
    "start_time": "2022-10-12T11:15:18.719Z"
   },
   {
    "duration": 287825,
    "start_time": "2022-10-12T11:16:37.907Z"
   },
   {
    "duration": 15,
    "start_time": "2022-10-12T11:21:25.734Z"
   },
   {
    "duration": 31,
    "start_time": "2022-10-12T11:21:25.751Z"
   },
   {
    "duration": 61327,
    "start_time": "2022-10-12T11:21:25.784Z"
   },
   {
    "duration": 112383,
    "start_time": "2022-10-12T11:22:27.113Z"
   },
   {
    "duration": 3,
    "start_time": "2022-10-12T11:24:19.498Z"
   },
   {
    "duration": 7,
    "start_time": "2022-10-12T11:24:19.503Z"
   },
   {
    "duration": 146,
    "start_time": "2022-10-12T11:24:19.513Z"
   },
   {
    "duration": 0,
    "start_time": "2022-10-12T11:24:19.661Z"
   },
   {
    "duration": 0,
    "start_time": "2022-10-12T11:24:19.662Z"
   },
   {
    "duration": 0,
    "start_time": "2022-10-12T11:24:19.663Z"
   },
   {
    "duration": 0,
    "start_time": "2022-10-12T11:24:19.664Z"
   },
   {
    "duration": 89,
    "start_time": "2022-10-12T11:25:50.148Z"
   },
   {
    "duration": 1583,
    "start_time": "2022-10-12T11:34:42.666Z"
   },
   {
    "duration": 856,
    "start_time": "2022-10-12T11:34:44.251Z"
   },
   {
    "duration": 153,
    "start_time": "2022-10-12T11:34:45.109Z"
   },
   {
    "duration": 37,
    "start_time": "2022-10-12T11:34:45.263Z"
   },
   {
    "duration": 3,
    "start_time": "2022-10-12T11:34:45.302Z"
   },
   {
    "duration": 152,
    "start_time": "2022-10-12T11:34:45.307Z"
   },
   {
    "duration": 224,
    "start_time": "2022-10-12T11:34:45.461Z"
   },
   {
    "duration": 138,
    "start_time": "2022-10-12T11:34:45.690Z"
   },
   {
    "duration": 217,
    "start_time": "2022-10-12T11:34:45.830Z"
   },
   {
    "duration": 18,
    "start_time": "2022-10-12T11:34:46.048Z"
   },
   {
    "duration": 170,
    "start_time": "2022-10-12T11:34:46.068Z"
   },
   {
    "duration": 157,
    "start_time": "2022-10-12T11:34:46.240Z"
   },
   {
    "duration": 17,
    "start_time": "2022-10-12T11:34:46.398Z"
   },
   {
    "duration": 249,
    "start_time": "2022-10-12T11:34:46.418Z"
   },
   {
    "duration": 167,
    "start_time": "2022-10-12T11:34:46.669Z"
   },
   {
    "duration": 18,
    "start_time": "2022-10-12T11:34:46.838Z"
   },
   {
    "duration": 244,
    "start_time": "2022-10-12T11:34:46.858Z"
   },
   {
    "duration": 246,
    "start_time": "2022-10-12T11:34:47.104Z"
   },
   {
    "duration": 19,
    "start_time": "2022-10-12T11:34:47.352Z"
   },
   {
    "duration": 134,
    "start_time": "2022-10-12T11:34:47.373Z"
   },
   {
    "duration": 152,
    "start_time": "2022-10-12T11:34:47.509Z"
   },
   {
    "duration": 247,
    "start_time": "2022-10-12T11:34:47.662Z"
   },
   {
    "duration": 52,
    "start_time": "2022-10-12T11:34:47.911Z"
   },
   {
    "duration": 58,
    "start_time": "2022-10-12T11:34:47.965Z"
   },
   {
    "duration": 18,
    "start_time": "2022-10-12T11:34:48.025Z"
   },
   {
    "duration": 56,
    "start_time": "2022-10-12T11:34:48.045Z"
   },
   {
    "duration": 24,
    "start_time": "2022-10-12T11:34:48.103Z"
   },
   {
    "duration": 5,
    "start_time": "2022-10-12T11:34:48.129Z"
   },
   {
    "duration": 5,
    "start_time": "2022-10-12T11:34:48.136Z"
   },
   {
    "duration": 49,
    "start_time": "2022-10-12T11:34:48.142Z"
   },
   {
    "duration": 269,
    "start_time": "2022-10-12T11:34:48.193Z"
   },
   {
    "duration": 212,
    "start_time": "2022-10-12T11:34:48.463Z"
   },
   {
    "duration": 142,
    "start_time": "2022-10-12T11:34:48.676Z"
   },
   {
    "duration": 35,
    "start_time": "2022-10-12T11:34:48.820Z"
   },
   {
    "duration": 237,
    "start_time": "2022-10-12T11:34:48.857Z"
   },
   {
    "duration": 13,
    "start_time": "2022-10-12T11:34:49.096Z"
   },
   {
    "duration": 20,
    "start_time": "2022-10-12T11:34:49.111Z"
   },
   {
    "duration": 12,
    "start_time": "2022-10-12T11:34:49.133Z"
   },
   {
    "duration": 56,
    "start_time": "2022-10-12T11:34:49.147Z"
   },
   {
    "duration": 16,
    "start_time": "2022-10-12T11:34:49.205Z"
   },
   {
    "duration": 23,
    "start_time": "2022-10-12T11:34:49.227Z"
   },
   {
    "duration": 95,
    "start_time": "2022-10-12T11:34:49.252Z"
   },
   {
    "duration": 82,
    "start_time": "2022-10-12T11:34:49.348Z"
   },
   {
    "duration": 3,
    "start_time": "2022-10-12T11:34:49.431Z"
   },
   {
    "duration": 654,
    "start_time": "2022-10-12T11:34:49.435Z"
   },
   {
    "duration": 10,
    "start_time": "2022-10-12T11:34:50.091Z"
   },
   {
    "duration": 10,
    "start_time": "2022-10-12T11:34:50.103Z"
   },
   {
    "duration": 3,
    "start_time": "2022-10-12T11:34:50.115Z"
   },
   {
    "duration": 7,
    "start_time": "2022-10-12T11:34:50.120Z"
   },
   {
    "duration": 10,
    "start_time": "2022-10-12T11:34:50.129Z"
   },
   {
    "duration": 16,
    "start_time": "2022-10-12T11:34:50.140Z"
   },
   {
    "duration": 9,
    "start_time": "2022-10-12T11:34:50.158Z"
   },
   {
    "duration": 9421,
    "start_time": "2022-10-12T11:34:50.169Z"
   },
   {
    "duration": 43562,
    "start_time": "2022-10-12T11:34:59.592Z"
   },
   {
    "duration": 14,
    "start_time": "2022-10-12T11:35:43.156Z"
   },
   {
    "duration": 6,
    "start_time": "2022-10-12T11:35:43.172Z"
   },
   {
    "duration": 6,
    "start_time": "2022-10-12T11:35:43.190Z"
   },
   {
    "duration": 74577,
    "start_time": "2022-10-12T11:35:43.198Z"
   },
   {
    "duration": 274402,
    "start_time": "2022-10-12T11:36:57.777Z"
   },
   {
    "duration": 15,
    "start_time": "2022-10-12T11:41:32.180Z"
   },
   {
    "duration": 25,
    "start_time": "2022-10-12T11:41:32.197Z"
   },
   {
    "duration": 5187,
    "start_time": "2022-10-12T11:41:32.223Z"
   },
   {
    "duration": 25385,
    "start_time": "2022-10-12T11:41:37.411Z"
   },
   {
    "duration": 3,
    "start_time": "2022-10-12T11:42:02.798Z"
   },
   {
    "duration": 9,
    "start_time": "2022-10-12T11:42:02.802Z"
   },
   {
    "duration": 159,
    "start_time": "2022-10-12T11:42:02.812Z"
   },
   {
    "duration": 0,
    "start_time": "2022-10-12T11:42:02.972Z"
   },
   {
    "duration": 0,
    "start_time": "2022-10-12T11:42:02.974Z"
   },
   {
    "duration": 0,
    "start_time": "2022-10-12T11:42:02.975Z"
   },
   {
    "duration": 0,
    "start_time": "2022-10-12T11:42:02.976Z"
   },
   {
    "duration": 10,
    "start_time": "2022-10-12T11:47:14.778Z"
   },
   {
    "duration": 13,
    "start_time": "2022-10-12T11:47:19.530Z"
   },
   {
    "duration": 3,
    "start_time": "2022-10-12T11:47:28.614Z"
   },
   {
    "duration": 3,
    "start_time": "2022-10-12T11:47:29.453Z"
   },
   {
    "duration": 14,
    "start_time": "2022-10-12T11:47:37.187Z"
   },
   {
    "duration": 14,
    "start_time": "2022-10-12T11:53:06.997Z"
   },
   {
    "duration": 4,
    "start_time": "2022-10-12T12:01:41.513Z"
   },
   {
    "duration": 33,
    "start_time": "2022-10-12T12:01:50.695Z"
   },
   {
    "duration": 3,
    "start_time": "2022-10-12T12:03:34.034Z"
   },
   {
    "duration": 2,
    "start_time": "2022-10-12T12:03:35.588Z"
   },
   {
    "duration": 33,
    "start_time": "2022-10-12T12:03:36.450Z"
   },
   {
    "duration": 4,
    "start_time": "2022-10-12T12:05:30.939Z"
   },
   {
    "duration": 2,
    "start_time": "2022-10-12T12:05:33.285Z"
   },
   {
    "duration": 32,
    "start_time": "2022-10-12T12:05:34.337Z"
   },
   {
    "duration": 33956,
    "start_time": "2022-10-12T12:07:31.766Z"
   },
   {
    "duration": 33453,
    "start_time": "2022-10-12T12:16:54.068Z"
   },
   {
    "duration": 0,
    "start_time": "2022-10-12T12:17:27.523Z"
   },
   {
    "duration": 0,
    "start_time": "2022-10-12T12:17:27.525Z"
   },
   {
    "duration": 33,
    "start_time": "2022-10-12T12:17:40.204Z"
   },
   {
    "duration": 1520,
    "start_time": "2022-10-12T12:18:08.522Z"
   },
   {
    "duration": 941,
    "start_time": "2022-10-12T12:18:10.045Z"
   },
   {
    "duration": 152,
    "start_time": "2022-10-12T12:18:10.988Z"
   },
   {
    "duration": 25,
    "start_time": "2022-10-12T12:18:11.141Z"
   },
   {
    "duration": 3,
    "start_time": "2022-10-12T12:18:11.168Z"
   },
   {
    "duration": 150,
    "start_time": "2022-10-12T12:18:11.172Z"
   },
   {
    "duration": 218,
    "start_time": "2022-10-12T12:18:11.324Z"
   },
   {
    "duration": 167,
    "start_time": "2022-10-12T12:18:11.544Z"
   },
   {
    "duration": 246,
    "start_time": "2022-10-12T12:18:11.712Z"
   },
   {
    "duration": 19,
    "start_time": "2022-10-12T12:18:11.961Z"
   },
   {
    "duration": 203,
    "start_time": "2022-10-12T12:18:11.990Z"
   },
   {
    "duration": 160,
    "start_time": "2022-10-12T12:18:12.195Z"
   },
   {
    "duration": 17,
    "start_time": "2022-10-12T12:18:12.357Z"
   },
   {
    "duration": 254,
    "start_time": "2022-10-12T12:18:12.390Z"
   },
   {
    "duration": 172,
    "start_time": "2022-10-12T12:18:12.646Z"
   },
   {
    "duration": 18,
    "start_time": "2022-10-12T12:18:12.820Z"
   },
   {
    "duration": 225,
    "start_time": "2022-10-12T12:18:12.839Z"
   },
   {
    "duration": 253,
    "start_time": "2022-10-12T12:18:13.066Z"
   },
   {
    "duration": 18,
    "start_time": "2022-10-12T12:18:13.321Z"
   },
   {
    "duration": 125,
    "start_time": "2022-10-12T12:18:13.341Z"
   },
   {
    "duration": 170,
    "start_time": "2022-10-12T12:18:13.468Z"
   },
   {
    "duration": 236,
    "start_time": "2022-10-12T12:18:13.639Z"
   },
   {
    "duration": 60,
    "start_time": "2022-10-12T12:18:13.877Z"
   },
   {
    "duration": 51,
    "start_time": "2022-10-12T12:18:13.939Z"
   },
   {
    "duration": 18,
    "start_time": "2022-10-12T12:18:13.992Z"
   },
   {
    "duration": 43,
    "start_time": "2022-10-12T12:18:14.011Z"
   },
   {
    "duration": 41,
    "start_time": "2022-10-12T12:18:14.056Z"
   },
   {
    "duration": 6,
    "start_time": "2022-10-12T12:18:14.099Z"
   },
   {
    "duration": 9,
    "start_time": "2022-10-12T12:18:14.107Z"
   },
   {
    "duration": 26,
    "start_time": "2022-10-12T12:18:14.118Z"
   },
   {
    "duration": 270,
    "start_time": "2022-10-12T12:18:14.146Z"
   },
   {
    "duration": 215,
    "start_time": "2022-10-12T12:18:14.418Z"
   },
   {
    "duration": 140,
    "start_time": "2022-10-12T12:18:14.635Z"
   },
   {
    "duration": 45,
    "start_time": "2022-10-12T12:18:14.777Z"
   },
   {
    "duration": 235,
    "start_time": "2022-10-12T12:18:14.825Z"
   },
   {
    "duration": 12,
    "start_time": "2022-10-12T12:18:15.062Z"
   },
   {
    "duration": 31,
    "start_time": "2022-10-12T12:18:15.076Z"
   },
   {
    "duration": 13,
    "start_time": "2022-10-12T12:18:15.108Z"
   },
   {
    "duration": 27,
    "start_time": "2022-10-12T12:18:15.123Z"
   },
   {
    "duration": 37,
    "start_time": "2022-10-12T12:18:15.152Z"
   },
   {
    "duration": 24,
    "start_time": "2022-10-12T12:18:15.194Z"
   },
   {
    "duration": 83,
    "start_time": "2022-10-12T12:18:15.220Z"
   },
   {
    "duration": 95,
    "start_time": "2022-10-12T12:18:15.304Z"
   },
   {
    "duration": 3,
    "start_time": "2022-10-12T12:18:15.402Z"
   },
   {
    "duration": 708,
    "start_time": "2022-10-12T12:18:15.407Z"
   },
   {
    "duration": 9,
    "start_time": "2022-10-12T12:18:16.117Z"
   },
   {
    "duration": 21,
    "start_time": "2022-10-12T12:18:16.128Z"
   },
   {
    "duration": 19,
    "start_time": "2022-10-12T12:18:16.151Z"
   },
   {
    "duration": 26,
    "start_time": "2022-10-12T12:18:16.172Z"
   },
   {
    "duration": 21,
    "start_time": "2022-10-12T12:18:16.199Z"
   },
   {
    "duration": 21,
    "start_time": "2022-10-12T12:18:16.222Z"
   },
   {
    "duration": 19,
    "start_time": "2022-10-12T12:18:16.245Z"
   },
   {
    "duration": 8531,
    "start_time": "2022-10-12T12:18:16.265Z"
   },
   {
    "duration": 41376,
    "start_time": "2022-10-12T12:18:24.798Z"
   },
   {
    "duration": 19,
    "start_time": "2022-10-12T12:19:06.176Z"
   },
   {
    "duration": 7,
    "start_time": "2022-10-12T12:19:06.197Z"
   },
   {
    "duration": 8,
    "start_time": "2022-10-12T12:19:06.205Z"
   },
   {
    "duration": 72707,
    "start_time": "2022-10-12T12:19:06.214Z"
   },
   {
    "duration": 287830,
    "start_time": "2022-10-12T12:20:18.923Z"
   },
   {
    "duration": 17,
    "start_time": "2022-10-12T12:25:06.756Z"
   },
   {
    "duration": 44037,
    "start_time": "2022-10-12T12:25:06.775Z"
   },
   {
    "duration": 26509,
    "start_time": "2022-10-12T12:25:50.890Z"
   },
   {
    "duration": 4,
    "start_time": "2022-10-12T12:26:17.400Z"
   },
   {
    "duration": 10,
    "start_time": "2022-10-12T12:26:17.406Z"
   },
   {
    "duration": 201,
    "start_time": "2022-10-12T12:26:17.418Z"
   },
   {
    "duration": 0,
    "start_time": "2022-10-12T12:26:17.622Z"
   },
   {
    "duration": 0,
    "start_time": "2022-10-12T12:26:17.624Z"
   },
   {
    "duration": 0,
    "start_time": "2022-10-12T12:26:17.625Z"
   },
   {
    "duration": 0,
    "start_time": "2022-10-12T12:26:17.626Z"
   },
   {
    "duration": 0,
    "start_time": "2022-10-12T12:26:17.628Z"
   },
   {
    "duration": 0,
    "start_time": "2022-10-12T12:26:17.631Z"
   },
   {
    "duration": 5,
    "start_time": "2022-10-12T12:28:08.167Z"
   },
   {
    "duration": 3,
    "start_time": "2022-10-12T12:29:58.856Z"
   },
   {
    "duration": 3,
    "start_time": "2022-10-12T12:30:03.424Z"
   },
   {
    "duration": 32,
    "start_time": "2022-10-12T12:30:04.055Z"
   },
   {
    "duration": 3,
    "start_time": "2022-10-12T12:37:19.009Z"
   },
   {
    "duration": 3,
    "start_time": "2022-10-12T12:37:19.515Z"
   },
   {
    "duration": 38,
    "start_time": "2022-10-12T12:37:20.025Z"
   },
   {
    "duration": 2,
    "start_time": "2022-10-12T12:37:30.429Z"
   },
   {
    "duration": 3,
    "start_time": "2022-10-12T12:37:30.872Z"
   },
   {
    "duration": 31,
    "start_time": "2022-10-12T12:37:31.262Z"
   },
   {
    "duration": 4,
    "start_time": "2022-10-12T12:38:08.432Z"
   },
   {
    "duration": 3,
    "start_time": "2022-10-12T12:38:09.233Z"
   },
   {
    "duration": 1547,
    "start_time": "2022-10-12T12:50:05.633Z"
   },
   {
    "duration": 905,
    "start_time": "2022-10-12T12:50:07.182Z"
   },
   {
    "duration": 145,
    "start_time": "2022-10-12T12:50:08.089Z"
   },
   {
    "duration": 27,
    "start_time": "2022-10-12T12:50:08.236Z"
   },
   {
    "duration": 3,
    "start_time": "2022-10-12T12:50:08.265Z"
   },
   {
    "duration": 142,
    "start_time": "2022-10-12T12:50:08.290Z"
   },
   {
    "duration": 219,
    "start_time": "2022-10-12T12:50:08.433Z"
   },
   {
    "duration": 143,
    "start_time": "2022-10-12T12:50:08.654Z"
   },
   {
    "duration": 221,
    "start_time": "2022-10-12T12:50:08.799Z"
   },
   {
    "duration": 20,
    "start_time": "2022-10-12T12:50:09.023Z"
   },
   {
    "duration": 176,
    "start_time": "2022-10-12T12:50:09.045Z"
   },
   {
    "duration": 171,
    "start_time": "2022-10-12T12:50:09.223Z"
   },
   {
    "duration": 19,
    "start_time": "2022-10-12T12:50:09.396Z"
   },
   {
    "duration": 266,
    "start_time": "2022-10-12T12:50:09.417Z"
   },
   {
    "duration": 171,
    "start_time": "2022-10-12T12:50:09.690Z"
   },
   {
    "duration": 28,
    "start_time": "2022-10-12T12:50:09.863Z"
   },
   {
    "duration": 235,
    "start_time": "2022-10-12T12:50:09.893Z"
   },
   {
    "duration": 258,
    "start_time": "2022-10-12T12:50:10.131Z"
   },
   {
    "duration": 19,
    "start_time": "2022-10-12T12:50:10.392Z"
   },
   {
    "duration": 143,
    "start_time": "2022-10-12T12:50:10.413Z"
   },
   {
    "duration": 162,
    "start_time": "2022-10-12T12:50:10.558Z"
   },
   {
    "duration": 276,
    "start_time": "2022-10-12T12:50:10.722Z"
   },
   {
    "duration": 54,
    "start_time": "2022-10-12T12:50:11.000Z"
   },
   {
    "duration": 66,
    "start_time": "2022-10-12T12:50:11.057Z"
   },
   {
    "duration": 22,
    "start_time": "2022-10-12T12:50:11.125Z"
   },
   {
    "duration": 63,
    "start_time": "2022-10-12T12:50:11.149Z"
   },
   {
    "duration": 27,
    "start_time": "2022-10-12T12:50:11.214Z"
   },
   {
    "duration": 8,
    "start_time": "2022-10-12T12:50:11.246Z"
   },
   {
    "duration": 34,
    "start_time": "2022-10-12T12:50:11.256Z"
   },
   {
    "duration": 23,
    "start_time": "2022-10-12T12:50:11.292Z"
   },
   {
    "duration": 278,
    "start_time": "2022-10-12T12:50:11.316Z"
   },
   {
    "duration": 277,
    "start_time": "2022-10-12T12:50:11.596Z"
   },
   {
    "duration": 188,
    "start_time": "2022-10-12T12:50:11.876Z"
   },
   {
    "duration": 57,
    "start_time": "2022-10-12T12:50:12.067Z"
   },
   {
    "duration": 233,
    "start_time": "2022-10-12T12:50:12.127Z"
   },
   {
    "duration": 12,
    "start_time": "2022-10-12T12:50:12.362Z"
   },
   {
    "duration": 29,
    "start_time": "2022-10-12T12:50:12.376Z"
   },
   {
    "duration": 12,
    "start_time": "2022-10-12T12:50:12.407Z"
   },
   {
    "duration": 27,
    "start_time": "2022-10-12T12:50:12.421Z"
   },
   {
    "duration": 19,
    "start_time": "2022-10-12T12:50:12.450Z"
   },
   {
    "duration": 42,
    "start_time": "2022-10-12T12:50:12.470Z"
   },
   {
    "duration": 87,
    "start_time": "2022-10-12T12:50:12.513Z"
   },
   {
    "duration": 87,
    "start_time": "2022-10-12T12:50:12.602Z"
   },
   {
    "duration": 3,
    "start_time": "2022-10-12T12:50:12.691Z"
   },
   {
    "duration": 732,
    "start_time": "2022-10-12T12:50:12.696Z"
   },
   {
    "duration": 11,
    "start_time": "2022-10-12T12:50:13.430Z"
   },
   {
    "duration": 11,
    "start_time": "2022-10-12T12:50:13.443Z"
   },
   {
    "duration": 2,
    "start_time": "2022-10-12T12:50:13.456Z"
   },
   {
    "duration": 5,
    "start_time": "2022-10-12T12:50:13.460Z"
   },
   {
    "duration": 5,
    "start_time": "2022-10-12T12:50:13.466Z"
   },
   {
    "duration": 9,
    "start_time": "2022-10-12T12:50:13.490Z"
   },
   {
    "duration": 3,
    "start_time": "2022-10-12T12:50:13.501Z"
   },
   {
    "duration": 9487,
    "start_time": "2022-10-12T12:50:13.506Z"
   },
   {
    "duration": 36885,
    "start_time": "2022-10-12T12:50:22.995Z"
   },
   {
    "duration": 19,
    "start_time": "2022-10-12T12:50:59.882Z"
   },
   {
    "duration": 20,
    "start_time": "2022-10-12T12:50:59.903Z"
   },
   {
    "duration": 10,
    "start_time": "2022-10-12T12:50:59.925Z"
   },
   {
    "duration": 77681,
    "start_time": "2022-10-12T12:50:59.937Z"
   },
   {
    "duration": 292601,
    "start_time": "2022-10-12T12:52:17.619Z"
   },
   {
    "duration": 14,
    "start_time": "2022-10-12T12:57:10.222Z"
   },
   {
    "duration": 212866,
    "start_time": "2022-10-12T12:57:10.238Z"
   },
   {
    "duration": 1720,
    "start_time": "2022-10-12T13:14:03.353Z"
   },
   {
    "duration": 1074,
    "start_time": "2022-10-12T13:14:05.075Z"
   },
   {
    "duration": 219,
    "start_time": "2022-10-12T13:14:06.151Z"
   },
   {
    "duration": 39,
    "start_time": "2022-10-12T13:14:06.373Z"
   },
   {
    "duration": 27,
    "start_time": "2022-10-12T13:14:06.414Z"
   },
   {
    "duration": 196,
    "start_time": "2022-10-12T13:14:06.443Z"
   },
   {
    "duration": 243,
    "start_time": "2022-10-12T13:14:06.641Z"
   },
   {
    "duration": 165,
    "start_time": "2022-10-12T13:14:06.886Z"
   },
   {
    "duration": 230,
    "start_time": "2022-10-12T13:14:07.053Z"
   },
   {
    "duration": 26,
    "start_time": "2022-10-12T13:14:07.291Z"
   },
   {
    "duration": 203,
    "start_time": "2022-10-12T13:14:07.319Z"
   },
   {
    "duration": 203,
    "start_time": "2022-10-12T13:14:07.524Z"
   },
   {
    "duration": 20,
    "start_time": "2022-10-12T13:14:07.730Z"
   },
   {
    "duration": 299,
    "start_time": "2022-10-12T13:14:07.753Z"
   },
   {
    "duration": 183,
    "start_time": "2022-10-12T13:14:08.054Z"
   },
   {
    "duration": 21,
    "start_time": "2022-10-12T13:14:08.239Z"
   },
   {
    "duration": 326,
    "start_time": "2022-10-12T13:14:08.262Z"
   },
   {
    "duration": 281,
    "start_time": "2022-10-12T13:14:08.592Z"
   },
   {
    "duration": 36,
    "start_time": "2022-10-12T13:14:08.876Z"
   },
   {
    "duration": 169,
    "start_time": "2022-10-12T13:14:08.915Z"
   },
   {
    "duration": 179,
    "start_time": "2022-10-12T13:14:09.086Z"
   },
   {
    "duration": 359,
    "start_time": "2022-10-12T13:14:09.267Z"
   },
   {
    "duration": 64,
    "start_time": "2022-10-12T13:14:09.628Z"
   },
   {
    "duration": 50,
    "start_time": "2022-10-12T13:14:09.696Z"
   },
   {
    "duration": 23,
    "start_time": "2022-10-12T13:14:09.749Z"
   },
   {
    "duration": 65,
    "start_time": "2022-10-12T13:14:09.774Z"
   },
   {
    "duration": 26,
    "start_time": "2022-10-12T13:14:09.841Z"
   },
   {
    "duration": 10,
    "start_time": "2022-10-12T13:14:09.894Z"
   },
   {
    "duration": 17,
    "start_time": "2022-10-12T13:14:09.909Z"
   },
   {
    "duration": 33,
    "start_time": "2022-10-12T13:14:09.929Z"
   },
   {
    "duration": 324,
    "start_time": "2022-10-12T13:14:09.965Z"
   },
   {
    "duration": 250,
    "start_time": "2022-10-12T13:14:10.291Z"
   },
   {
    "duration": 159,
    "start_time": "2022-10-12T13:14:10.543Z"
   },
   {
    "duration": 36,
    "start_time": "2022-10-12T13:14:10.705Z"
   },
   {
    "duration": 279,
    "start_time": "2022-10-12T13:14:10.743Z"
   },
   {
    "duration": 12,
    "start_time": "2022-10-12T13:14:11.024Z"
   },
   {
    "duration": 20,
    "start_time": "2022-10-12T13:14:11.038Z"
   },
   {
    "duration": 43,
    "start_time": "2022-10-12T13:14:11.061Z"
   },
   {
    "duration": 28,
    "start_time": "2022-10-12T13:14:11.106Z"
   },
   {
    "duration": 20,
    "start_time": "2022-10-12T13:14:11.136Z"
   },
   {
    "duration": 37,
    "start_time": "2022-10-12T13:14:11.158Z"
   },
   {
    "duration": 77,
    "start_time": "2022-10-12T13:14:11.197Z"
   },
   {
    "duration": 95,
    "start_time": "2022-10-12T13:14:11.276Z"
   },
   {
    "duration": 4,
    "start_time": "2022-10-12T13:14:11.373Z"
   },
   {
    "duration": 916,
    "start_time": "2022-10-12T13:14:11.379Z"
   },
   {
    "duration": 15,
    "start_time": "2022-10-12T13:14:12.297Z"
   },
   {
    "duration": 12,
    "start_time": "2022-10-12T13:14:12.314Z"
   },
   {
    "duration": 2,
    "start_time": "2022-10-12T13:14:12.328Z"
   },
   {
    "duration": 6,
    "start_time": "2022-10-12T13:14:12.332Z"
   },
   {
    "duration": 6,
    "start_time": "2022-10-12T13:14:12.339Z"
   },
   {
    "duration": 14,
    "start_time": "2022-10-12T13:14:12.347Z"
   },
   {
    "duration": 34,
    "start_time": "2022-10-12T13:14:12.363Z"
   },
   {
    "duration": 7899,
    "start_time": "2022-10-12T13:14:12.405Z"
   },
   {
    "duration": 33868,
    "start_time": "2022-10-12T13:14:20.310Z"
   },
   {
    "duration": 21,
    "start_time": "2022-10-12T13:14:54.180Z"
   },
   {
    "duration": 23,
    "start_time": "2022-10-12T13:14:54.202Z"
   },
   {
    "duration": 24,
    "start_time": "2022-10-12T13:14:54.227Z"
   },
   {
    "duration": 84542,
    "start_time": "2022-10-12T13:14:54.253Z"
   },
   {
    "duration": 2378,
    "start_time": "2022-10-12T13:20:06.906Z"
   },
   {
    "duration": 1046,
    "start_time": "2022-10-12T13:20:09.286Z"
   },
   {
    "duration": 172,
    "start_time": "2022-10-12T13:20:10.334Z"
   },
   {
    "duration": 28,
    "start_time": "2022-10-12T13:20:10.508Z"
   },
   {
    "duration": 6,
    "start_time": "2022-10-12T13:20:10.538Z"
   },
   {
    "duration": 177,
    "start_time": "2022-10-12T13:20:10.546Z"
   },
   {
    "duration": 256,
    "start_time": "2022-10-12T13:20:10.725Z"
   },
   {
    "duration": 167,
    "start_time": "2022-10-12T13:20:10.983Z"
   },
   {
    "duration": 258,
    "start_time": "2022-10-12T13:20:11.152Z"
   },
   {
    "duration": 19,
    "start_time": "2022-10-12T13:20:11.414Z"
   },
   {
    "duration": 191,
    "start_time": "2022-10-12T13:20:11.435Z"
   },
   {
    "duration": 203,
    "start_time": "2022-10-12T13:20:11.628Z"
   },
   {
    "duration": 22,
    "start_time": "2022-10-12T13:20:11.833Z"
   },
   {
    "duration": 352,
    "start_time": "2022-10-12T13:20:11.858Z"
   },
   {
    "duration": 185,
    "start_time": "2022-10-12T13:20:12.212Z"
   },
   {
    "duration": 23,
    "start_time": "2022-10-12T13:20:12.400Z"
   },
   {
    "duration": 238,
    "start_time": "2022-10-12T13:20:12.425Z"
   },
   {
    "duration": 266,
    "start_time": "2022-10-12T13:20:12.665Z"
   },
   {
    "duration": 19,
    "start_time": "2022-10-12T13:20:12.934Z"
   },
   {
    "duration": 149,
    "start_time": "2022-10-12T13:20:12.955Z"
   },
   {
    "duration": 170,
    "start_time": "2022-10-12T13:20:13.106Z"
   },
   {
    "duration": 288,
    "start_time": "2022-10-12T13:20:13.278Z"
   },
   {
    "duration": 67,
    "start_time": "2022-10-12T13:20:13.567Z"
   },
   {
    "duration": 45,
    "start_time": "2022-10-12T13:20:13.636Z"
   },
   {
    "duration": 35,
    "start_time": "2022-10-12T13:20:13.683Z"
   },
   {
    "duration": 43,
    "start_time": "2022-10-12T13:20:13.719Z"
   },
   {
    "duration": 45,
    "start_time": "2022-10-12T13:20:13.764Z"
   },
   {
    "duration": 6,
    "start_time": "2022-10-12T13:20:13.814Z"
   },
   {
    "duration": 5,
    "start_time": "2022-10-12T13:20:13.822Z"
   },
   {
    "duration": 27,
    "start_time": "2022-10-12T13:20:13.828Z"
   },
   {
    "duration": 304,
    "start_time": "2022-10-12T13:20:13.858Z"
   },
   {
    "duration": 265,
    "start_time": "2022-10-12T13:20:14.164Z"
   },
   {
    "duration": 145,
    "start_time": "2022-10-12T13:20:14.431Z"
   },
   {
    "duration": 49,
    "start_time": "2022-10-12T13:20:14.577Z"
   },
   {
    "duration": 243,
    "start_time": "2022-10-12T13:20:14.628Z"
   },
   {
    "duration": 17,
    "start_time": "2022-10-12T13:20:14.873Z"
   },
   {
    "duration": 25,
    "start_time": "2022-10-12T13:20:14.892Z"
   },
   {
    "duration": 12,
    "start_time": "2022-10-12T13:20:14.919Z"
   },
   {
    "duration": 27,
    "start_time": "2022-10-12T13:20:14.933Z"
   },
   {
    "duration": 39,
    "start_time": "2022-10-12T13:20:14.962Z"
   },
   {
    "duration": 30,
    "start_time": "2022-10-12T13:20:15.002Z"
   },
   {
    "duration": 88,
    "start_time": "2022-10-12T13:20:15.034Z"
   },
   {
    "duration": 85,
    "start_time": "2022-10-12T13:20:15.124Z"
   },
   {
    "duration": 4,
    "start_time": "2022-10-12T13:20:15.210Z"
   },
   {
    "duration": 737,
    "start_time": "2022-10-12T13:20:15.215Z"
   },
   {
    "duration": 10,
    "start_time": "2022-10-12T13:20:15.954Z"
   },
   {
    "duration": 32,
    "start_time": "2022-10-12T13:20:15.966Z"
   },
   {
    "duration": 13,
    "start_time": "2022-10-12T13:20:16.000Z"
   },
   {
    "duration": 37,
    "start_time": "2022-10-12T13:20:16.015Z"
   },
   {
    "duration": 30,
    "start_time": "2022-10-12T13:20:16.054Z"
   },
   {
    "duration": 42,
    "start_time": "2022-10-12T13:20:16.086Z"
   },
   {
    "duration": 18,
    "start_time": "2022-10-12T13:20:16.130Z"
   },
   {
    "duration": 7946,
    "start_time": "2022-10-12T13:20:16.150Z"
   },
   {
    "duration": 32876,
    "start_time": "2022-10-12T13:20:24.098Z"
   },
   {
    "duration": 33,
    "start_time": "2022-10-12T13:20:56.976Z"
   },
   {
    "duration": 8,
    "start_time": "2022-10-12T13:20:57.012Z"
   },
   {
    "duration": 23,
    "start_time": "2022-10-12T13:20:57.022Z"
   },
   {
    "duration": 81237,
    "start_time": "2022-10-12T13:20:57.048Z"
   },
   {
    "duration": 301575,
    "start_time": "2022-10-12T13:22:18.287Z"
   },
   {
    "duration": 278642,
    "start_time": "2022-10-12T13:27:19.879Z"
   },
   {
    "duration": 1506,
    "start_time": "2022-10-12T13:42:06.641Z"
   },
   {
    "duration": 168,
    "start_time": "2022-10-12T13:42:08.150Z"
   },
   {
    "duration": 0,
    "start_time": "2022-10-12T13:42:08.323Z"
   },
   {
    "duration": 0,
    "start_time": "2022-10-12T13:42:08.324Z"
   },
   {
    "duration": 0,
    "start_time": "2022-10-12T13:42:08.326Z"
   },
   {
    "duration": 0,
    "start_time": "2022-10-12T13:42:08.327Z"
   },
   {
    "duration": 0,
    "start_time": "2022-10-12T13:42:08.328Z"
   },
   {
    "duration": 0,
    "start_time": "2022-10-12T13:42:08.329Z"
   },
   {
    "duration": 0,
    "start_time": "2022-10-12T13:42:08.331Z"
   },
   {
    "duration": 0,
    "start_time": "2022-10-12T13:42:08.332Z"
   },
   {
    "duration": 0,
    "start_time": "2022-10-12T13:42:08.333Z"
   },
   {
    "duration": 0,
    "start_time": "2022-10-12T13:42:08.334Z"
   },
   {
    "duration": 0,
    "start_time": "2022-10-12T13:42:08.335Z"
   },
   {
    "duration": 0,
    "start_time": "2022-10-12T13:42:08.337Z"
   },
   {
    "duration": 0,
    "start_time": "2022-10-12T13:42:08.339Z"
   },
   {
    "duration": 0,
    "start_time": "2022-10-12T13:42:08.342Z"
   },
   {
    "duration": 0,
    "start_time": "2022-10-12T13:42:08.344Z"
   },
   {
    "duration": 0,
    "start_time": "2022-10-12T13:42:08.345Z"
   },
   {
    "duration": 0,
    "start_time": "2022-10-12T13:42:08.346Z"
   },
   {
    "duration": 0,
    "start_time": "2022-10-12T13:42:08.348Z"
   },
   {
    "duration": 0,
    "start_time": "2022-10-12T13:42:08.349Z"
   },
   {
    "duration": 0,
    "start_time": "2022-10-12T13:42:08.351Z"
   },
   {
    "duration": 1,
    "start_time": "2022-10-12T13:42:08.389Z"
   },
   {
    "duration": 0,
    "start_time": "2022-10-12T13:42:08.391Z"
   },
   {
    "duration": 0,
    "start_time": "2022-10-12T13:42:08.392Z"
   },
   {
    "duration": 0,
    "start_time": "2022-10-12T13:42:08.394Z"
   },
   {
    "duration": 0,
    "start_time": "2022-10-12T13:42:08.395Z"
   },
   {
    "duration": 0,
    "start_time": "2022-10-12T13:42:08.397Z"
   },
   {
    "duration": 0,
    "start_time": "2022-10-12T13:42:08.398Z"
   },
   {
    "duration": 0,
    "start_time": "2022-10-12T13:42:08.400Z"
   },
   {
    "duration": 0,
    "start_time": "2022-10-12T13:42:08.401Z"
   },
   {
    "duration": 0,
    "start_time": "2022-10-12T13:42:08.403Z"
   },
   {
    "duration": 0,
    "start_time": "2022-10-12T13:42:08.404Z"
   },
   {
    "duration": 0,
    "start_time": "2022-10-12T13:42:08.406Z"
   },
   {
    "duration": 0,
    "start_time": "2022-10-12T13:42:08.407Z"
   },
   {
    "duration": 1,
    "start_time": "2022-10-12T13:42:08.408Z"
   },
   {
    "duration": 0,
    "start_time": "2022-10-12T13:42:08.410Z"
   },
   {
    "duration": 0,
    "start_time": "2022-10-12T13:42:08.411Z"
   },
   {
    "duration": 0,
    "start_time": "2022-10-12T13:42:08.412Z"
   },
   {
    "duration": 0,
    "start_time": "2022-10-12T13:42:08.413Z"
   },
   {
    "duration": 0,
    "start_time": "2022-10-12T13:42:08.414Z"
   },
   {
    "duration": 0,
    "start_time": "2022-10-12T13:42:08.416Z"
   },
   {
    "duration": 0,
    "start_time": "2022-10-12T13:42:08.417Z"
   },
   {
    "duration": 0,
    "start_time": "2022-10-12T13:42:08.418Z"
   },
   {
    "duration": 0,
    "start_time": "2022-10-12T13:42:08.419Z"
   },
   {
    "duration": 0,
    "start_time": "2022-10-12T13:42:08.421Z"
   },
   {
    "duration": 0,
    "start_time": "2022-10-12T13:42:08.422Z"
   },
   {
    "duration": 0,
    "start_time": "2022-10-12T13:42:08.424Z"
   },
   {
    "duration": 0,
    "start_time": "2022-10-12T13:42:08.425Z"
   },
   {
    "duration": 0,
    "start_time": "2022-10-12T13:42:08.426Z"
   },
   {
    "duration": 0,
    "start_time": "2022-10-12T13:42:08.490Z"
   },
   {
    "duration": 0,
    "start_time": "2022-10-12T13:42:08.491Z"
   },
   {
    "duration": 0,
    "start_time": "2022-10-12T13:42:08.492Z"
   },
   {
    "duration": 0,
    "start_time": "2022-10-12T13:42:08.493Z"
   },
   {
    "duration": 0,
    "start_time": "2022-10-12T13:42:08.495Z"
   },
   {
    "duration": 0,
    "start_time": "2022-10-12T13:42:08.496Z"
   },
   {
    "duration": 0,
    "start_time": "2022-10-12T13:42:08.497Z"
   },
   {
    "duration": 0,
    "start_time": "2022-10-12T13:42:08.498Z"
   },
   {
    "duration": 0,
    "start_time": "2022-10-12T13:42:08.499Z"
   },
   {
    "duration": 0,
    "start_time": "2022-10-12T13:42:08.500Z"
   },
   {
    "duration": 0,
    "start_time": "2022-10-12T13:42:08.501Z"
   },
   {
    "duration": 0,
    "start_time": "2022-10-12T13:42:08.502Z"
   },
   {
    "duration": 0,
    "start_time": "2022-10-12T13:42:08.503Z"
   },
   {
    "duration": 0,
    "start_time": "2022-10-12T13:42:08.504Z"
   },
   {
    "duration": 0,
    "start_time": "2022-10-12T13:42:08.505Z"
   },
   {
    "duration": 0,
    "start_time": "2022-10-12T13:42:08.506Z"
   },
   {
    "duration": 0,
    "start_time": "2022-10-12T13:42:08.508Z"
   },
   {
    "duration": 0,
    "start_time": "2022-10-12T13:42:08.510Z"
   },
   {
    "duration": 0,
    "start_time": "2022-10-12T13:42:08.511Z"
   },
   {
    "duration": 0,
    "start_time": "2022-10-12T13:42:08.513Z"
   },
   {
    "duration": 0,
    "start_time": "2022-10-12T13:42:08.514Z"
   },
   {
    "duration": 0,
    "start_time": "2022-10-12T13:42:08.516Z"
   },
   {
    "duration": 0,
    "start_time": "2022-10-12T13:42:08.517Z"
   },
   {
    "duration": 0,
    "start_time": "2022-10-12T13:42:08.519Z"
   },
   {
    "duration": 0,
    "start_time": "2022-10-12T13:42:08.520Z"
   },
   {
    "duration": 0,
    "start_time": "2022-10-12T13:42:08.521Z"
   },
   {
    "duration": 0,
    "start_time": "2022-10-12T13:42:08.522Z"
   },
   {
    "duration": 0,
    "start_time": "2022-10-12T13:42:08.524Z"
   },
   {
    "duration": 25,
    "start_time": "2022-10-12T13:50:25.457Z"
   },
   {
    "duration": 25,
    "start_time": "2022-10-12T13:51:59.150Z"
   },
   {
    "duration": 28,
    "start_time": "2022-10-12T13:56:57.887Z"
   },
   {
    "duration": 78,
    "start_time": "2022-10-12T13:57:59.999Z"
   },
   {
    "duration": 58,
    "start_time": "2022-10-12T13:58:43.014Z"
   },
   {
    "duration": 69,
    "start_time": "2022-10-12T13:58:53.893Z"
   },
   {
    "duration": 28,
    "start_time": "2022-10-12T13:59:08.209Z"
   },
   {
    "duration": 23,
    "start_time": "2022-10-12T13:59:26.717Z"
   },
   {
    "duration": 1613,
    "start_time": "2022-10-13T09:17:02.795Z"
   },
   {
    "duration": 1059,
    "start_time": "2022-10-13T09:17:04.410Z"
   },
   {
    "duration": 141,
    "start_time": "2022-10-13T09:17:05.470Z"
   },
   {
    "duration": 30,
    "start_time": "2022-10-13T09:17:05.613Z"
   },
   {
    "duration": 2,
    "start_time": "2022-10-13T09:17:05.645Z"
   },
   {
    "duration": 138,
    "start_time": "2022-10-13T09:17:05.649Z"
   },
   {
    "duration": 201,
    "start_time": "2022-10-13T09:17:05.789Z"
   },
   {
    "duration": 132,
    "start_time": "2022-10-13T09:17:05.991Z"
   },
   {
    "duration": 234,
    "start_time": "2022-10-13T09:17:06.124Z"
   },
   {
    "duration": 19,
    "start_time": "2022-10-13T09:17:06.361Z"
   },
   {
    "duration": 200,
    "start_time": "2022-10-13T09:17:06.382Z"
   },
   {
    "duration": 214,
    "start_time": "2022-10-13T09:17:06.584Z"
   },
   {
    "duration": 17,
    "start_time": "2022-10-13T09:17:06.799Z"
   },
   {
    "duration": 158,
    "start_time": "2022-10-13T09:17:06.818Z"
   },
   {
    "duration": 145,
    "start_time": "2022-10-13T09:17:06.977Z"
   },
   {
    "duration": 24,
    "start_time": "2022-10-13T09:17:07.123Z"
   },
   {
    "duration": 211,
    "start_time": "2022-10-13T09:17:07.148Z"
   },
   {
    "duration": 245,
    "start_time": "2022-10-13T09:17:07.361Z"
   },
   {
    "duration": 26,
    "start_time": "2022-10-13T09:17:07.608Z"
   },
   {
    "duration": 115,
    "start_time": "2022-10-13T09:17:07.635Z"
   },
   {
    "duration": 141,
    "start_time": "2022-10-13T09:17:07.751Z"
   },
   {
    "duration": 192,
    "start_time": "2022-10-13T09:17:07.893Z"
   },
   {
    "duration": 50,
    "start_time": "2022-10-13T09:17:08.086Z"
   },
   {
    "duration": 41,
    "start_time": "2022-10-13T09:17:08.137Z"
   },
   {
    "duration": 18,
    "start_time": "2022-10-13T09:17:08.180Z"
   },
   {
    "duration": 66,
    "start_time": "2022-10-13T09:17:08.200Z"
   },
   {
    "duration": 22,
    "start_time": "2022-10-13T09:17:08.268Z"
   },
   {
    "duration": 5,
    "start_time": "2022-10-13T09:17:08.294Z"
   },
   {
    "duration": 5,
    "start_time": "2022-10-13T09:17:08.300Z"
   },
   {
    "duration": 37,
    "start_time": "2022-10-13T09:17:08.306Z"
   },
   {
    "duration": 241,
    "start_time": "2022-10-13T09:17:08.344Z"
   },
   {
    "duration": 200,
    "start_time": "2022-10-13T09:17:08.586Z"
   },
   {
    "duration": 121,
    "start_time": "2022-10-13T09:17:08.788Z"
   },
   {
    "duration": 40,
    "start_time": "2022-10-13T09:17:08.911Z"
   },
   {
    "duration": 207,
    "start_time": "2022-10-13T09:17:08.953Z"
   },
   {
    "duration": 10,
    "start_time": "2022-10-13T09:17:09.162Z"
   },
   {
    "duration": 17,
    "start_time": "2022-10-13T09:17:09.174Z"
   },
   {
    "duration": 11,
    "start_time": "2022-10-13T09:17:09.193Z"
   },
   {
    "duration": 44,
    "start_time": "2022-10-13T09:17:09.206Z"
   },
   {
    "duration": 22,
    "start_time": "2022-10-13T09:17:09.252Z"
   },
   {
    "duration": 21,
    "start_time": "2022-10-13T09:17:09.275Z"
   },
   {
    "duration": 72,
    "start_time": "2022-10-13T09:17:09.298Z"
   },
   {
    "duration": 79,
    "start_time": "2022-10-13T09:17:09.372Z"
   },
   {
    "duration": 3,
    "start_time": "2022-10-13T09:17:09.453Z"
   },
   {
    "duration": 589,
    "start_time": "2022-10-13T09:17:09.458Z"
   },
   {
    "duration": 10,
    "start_time": "2022-10-13T09:17:10.049Z"
   },
   {
    "duration": 13,
    "start_time": "2022-10-13T09:17:10.060Z"
   },
   {
    "duration": 14,
    "start_time": "2022-10-13T09:17:10.074Z"
   },
   {
    "duration": 19,
    "start_time": "2022-10-13T09:17:10.089Z"
   },
   {
    "duration": 21,
    "start_time": "2022-10-13T09:17:10.110Z"
   },
   {
    "duration": 31,
    "start_time": "2022-10-13T09:17:10.132Z"
   },
   {
    "duration": 30,
    "start_time": "2022-10-13T09:17:10.164Z"
   },
   {
    "duration": 9438,
    "start_time": "2022-10-13T09:17:10.196Z"
   },
   {
    "duration": 40963,
    "start_time": "2022-10-13T09:17:19.636Z"
   },
   {
    "duration": 12,
    "start_time": "2022-10-13T09:18:00.601Z"
   },
   {
    "duration": 43,
    "start_time": "2022-10-13T09:18:00.615Z"
   },
   {
    "duration": 37,
    "start_time": "2022-10-13T09:18:00.659Z"
   },
   {
    "duration": 66210,
    "start_time": "2022-10-13T09:18:00.697Z"
   },
   {
    "duration": 262521,
    "start_time": "2022-10-13T09:19:06.908Z"
   },
   {
    "duration": 11,
    "start_time": "2022-10-13T09:23:29.431Z"
   },
   {
    "duration": 5,
    "start_time": "2022-10-13T09:23:29.443Z"
   },
   {
    "duration": 7,
    "start_time": "2022-10-13T09:23:29.450Z"
   },
   {
    "duration": 114,
    "start_time": "2022-10-13T09:23:29.458Z"
   },
   {
    "duration": 0,
    "start_time": "2022-10-13T09:23:29.573Z"
   },
   {
    "duration": 0,
    "start_time": "2022-10-13T09:23:29.574Z"
   },
   {
    "duration": 0,
    "start_time": "2022-10-13T09:23:29.575Z"
   },
   {
    "duration": 0,
    "start_time": "2022-10-13T09:23:29.577Z"
   },
   {
    "duration": 0,
    "start_time": "2022-10-13T09:23:29.577Z"
   },
   {
    "duration": 0,
    "start_time": "2022-10-13T09:23:29.578Z"
   },
   {
    "duration": 0,
    "start_time": "2022-10-13T09:23:29.579Z"
   },
   {
    "duration": 0,
    "start_time": "2022-10-13T09:23:29.581Z"
   },
   {
    "duration": 1,
    "start_time": "2022-10-13T09:23:29.581Z"
   },
   {
    "duration": 0,
    "start_time": "2022-10-13T09:23:29.583Z"
   },
   {
    "duration": 0,
    "start_time": "2022-10-13T09:23:29.583Z"
   },
   {
    "duration": 0,
    "start_time": "2022-10-13T09:23:29.584Z"
   },
   {
    "duration": 0,
    "start_time": "2022-10-13T09:23:29.586Z"
   },
   {
    "duration": 0,
    "start_time": "2022-10-13T09:23:29.586Z"
   },
   {
    "duration": 0,
    "start_time": "2022-10-13T09:23:29.587Z"
   },
   {
    "duration": 0,
    "start_time": "2022-10-13T09:23:29.588Z"
   },
   {
    "duration": 3,
    "start_time": "2022-10-13T09:25:39.926Z"
   },
   {
    "duration": 9,
    "start_time": "2022-10-13T09:32:38.033Z"
   },
   {
    "duration": 5,
    "start_time": "2022-10-13T09:33:39.684Z"
   },
   {
    "duration": 9,
    "start_time": "2022-10-13T09:33:56.773Z"
   },
   {
    "duration": 3,
    "start_time": "2022-10-13T09:34:20.258Z"
   },
   {
    "duration": 3,
    "start_time": "2022-10-13T09:37:14.374Z"
   },
   {
    "duration": 2,
    "start_time": "2022-10-13T09:37:33.766Z"
   },
   {
    "duration": 2,
    "start_time": "2022-10-13T09:38:25.354Z"
   },
   {
    "duration": 3,
    "start_time": "2022-10-13T09:39:39.050Z"
   },
   {
    "duration": 38,
    "start_time": "2022-10-13T09:47:56.478Z"
   },
   {
    "duration": 10,
    "start_time": "2022-10-13T09:50:30.694Z"
   },
   {
    "duration": 18,
    "start_time": "2022-10-13T09:51:39.963Z"
   },
   {
    "duration": 18,
    "start_time": "2022-10-13T09:52:16.125Z"
   },
   {
    "duration": 3,
    "start_time": "2022-10-13T09:52:33.171Z"
   },
   {
    "duration": 67,
    "start_time": "2022-10-13T09:52:34.059Z"
   },
   {
    "duration": 75,
    "start_time": "2022-10-13T10:25:38.176Z"
   },
   {
    "duration": 54,
    "start_time": "2022-10-13T10:27:54.835Z"
   },
   {
    "duration": 67,
    "start_time": "2022-10-13T10:28:25.834Z"
   },
   {
    "duration": 4,
    "start_time": "2022-10-13T10:28:26.313Z"
   },
   {
    "duration": 2,
    "start_time": "2022-10-13T10:28:26.972Z"
   },
   {
    "duration": 2,
    "start_time": "2022-10-13T10:28:28.655Z"
   },
   {
    "duration": 3,
    "start_time": "2022-10-13T10:28:29.157Z"
   },
   {
    "duration": 17,
    "start_time": "2022-10-13T10:33:22.149Z"
   },
   {
    "duration": 58,
    "start_time": "2022-10-13T10:33:36.683Z"
   },
   {
    "duration": 3,
    "start_time": "2022-10-13T10:33:37.430Z"
   },
   {
    "duration": 3,
    "start_time": "2022-10-13T10:33:37.927Z"
   },
   {
    "duration": 2,
    "start_time": "2022-10-13T10:33:38.406Z"
   },
   {
    "duration": 72,
    "start_time": "2022-10-13T10:33:59.844Z"
   },
   {
    "duration": 83,
    "start_time": "2022-10-13T10:37:37.158Z"
   },
   {
    "duration": 231,
    "start_time": "2022-10-13T10:37:38.824Z"
   },
   {
    "duration": 213,
    "start_time": "2022-10-13T10:38:36.390Z"
   },
   {
    "duration": 73,
    "start_time": "2022-10-13T10:38:36.852Z"
   },
   {
    "duration": 257,
    "start_time": "2022-10-13T10:41:55.835Z"
   },
   {
    "duration": 103,
    "start_time": "2022-10-13T10:42:32.176Z"
   },
   {
    "duration": 247,
    "start_time": "2022-10-13T10:42:43.030Z"
   },
   {
    "duration": 68,
    "start_time": "2022-10-13T10:42:52.283Z"
   },
   {
    "duration": 318,
    "start_time": "2022-10-13T10:43:05.517Z"
   },
   {
    "duration": 76,
    "start_time": "2022-10-13T10:43:26.330Z"
   },
   {
    "duration": 50,
    "start_time": "2022-10-13T10:43:34.690Z"
   },
   {
    "duration": 3,
    "start_time": "2022-10-13T10:43:48.256Z"
   },
   {
    "duration": 4,
    "start_time": "2022-10-13T10:49:48.895Z"
   },
   {
    "duration": 3337,
    "start_time": "2022-10-13T10:50:44.238Z"
   },
   {
    "duration": 3,
    "start_time": "2022-10-13T10:51:52.330Z"
   },
   {
    "duration": 731,
    "start_time": "2022-10-13T10:51:53.565Z"
   },
   {
    "duration": 3,
    "start_time": "2022-10-13T10:52:10.424Z"
   },
   {
    "duration": 1110,
    "start_time": "2022-10-13T10:52:44.477Z"
   },
   {
    "duration": 70,
    "start_time": "2022-10-13T10:53:09.957Z"
   },
   {
    "duration": 56,
    "start_time": "2022-10-13T10:53:10.632Z"
   },
   {
    "duration": 3,
    "start_time": "2022-10-13T10:53:11.148Z"
   },
   {
    "duration": 3,
    "start_time": "2022-10-13T10:53:11.515Z"
   },
   {
    "duration": 2,
    "start_time": "2022-10-13T10:53:11.830Z"
   },
   {
    "duration": 3,
    "start_time": "2022-10-13T10:53:12.107Z"
   },
   {
    "duration": 2,
    "start_time": "2022-10-13T10:53:12.388Z"
   },
   {
    "duration": 189,
    "start_time": "2022-10-13T10:53:12.687Z"
   },
   {
    "duration": 67,
    "start_time": "2022-10-13T10:53:13.195Z"
   },
   {
    "duration": 2,
    "start_time": "2022-10-13T10:53:13.658Z"
   },
   {
    "duration": 3,
    "start_time": "2022-10-13T10:53:14.090Z"
   },
   {
    "duration": 1294,
    "start_time": "2022-10-13T10:53:14.876Z"
   },
   {
    "duration": 5,
    "start_time": "2022-10-13T10:57:24.765Z"
   },
   {
    "duration": 3,
    "start_time": "2022-10-13T10:58:11.761Z"
   },
   {
    "duration": 3,
    "start_time": "2022-10-13T10:58:12.597Z"
   },
   {
    "duration": 996,
    "start_time": "2022-10-13T10:58:13.574Z"
   },
   {
    "duration": 4,
    "start_time": "2022-10-13T10:59:21.650Z"
   },
   {
    "duration": 2,
    "start_time": "2022-10-13T10:59:36.851Z"
   },
   {
    "duration": 3,
    "start_time": "2022-10-13T10:59:44.257Z"
   },
   {
    "duration": 13,
    "start_time": "2022-10-13T10:59:44.888Z"
   },
   {
    "duration": 3,
    "start_time": "2022-10-13T10:59:58.408Z"
   },
   {
    "duration": 752,
    "start_time": "2022-10-13T10:59:58.962Z"
   },
   {
    "duration": 3,
    "start_time": "2022-10-13T11:00:56.709Z"
   },
   {
    "duration": 1113,
    "start_time": "2022-10-13T11:00:58.862Z"
   },
   {
    "duration": 10,
    "start_time": "2022-10-13T11:32:08.469Z"
   },
   {
    "duration": 2,
    "start_time": "2022-10-13T12:18:30.059Z"
   },
   {
    "duration": 3,
    "start_time": "2022-10-13T12:18:31.043Z"
   },
   {
    "duration": 1514,
    "start_time": "2022-10-13T12:45:19.699Z"
   },
   {
    "duration": 822,
    "start_time": "2022-10-13T12:45:21.214Z"
   },
   {
    "duration": 146,
    "start_time": "2022-10-13T12:45:22.037Z"
   },
   {
    "duration": 25,
    "start_time": "2022-10-13T12:45:22.186Z"
   },
   {
    "duration": 21,
    "start_time": "2022-10-13T12:45:22.213Z"
   },
   {
    "duration": 141,
    "start_time": "2022-10-13T12:45:22.235Z"
   },
   {
    "duration": 211,
    "start_time": "2022-10-13T12:45:22.378Z"
   },
   {
    "duration": 131,
    "start_time": "2022-10-13T12:45:22.591Z"
   },
   {
    "duration": 217,
    "start_time": "2022-10-13T12:45:22.724Z"
   },
   {
    "duration": 18,
    "start_time": "2022-10-13T12:45:22.945Z"
   },
   {
    "duration": 176,
    "start_time": "2022-10-13T12:45:22.965Z"
   },
   {
    "duration": 151,
    "start_time": "2022-10-13T12:45:23.143Z"
   },
   {
    "duration": 15,
    "start_time": "2022-10-13T12:45:23.296Z"
   },
   {
    "duration": 251,
    "start_time": "2022-10-13T12:45:23.313Z"
   },
   {
    "duration": 175,
    "start_time": "2022-10-13T12:45:23.566Z"
   },
   {
    "duration": 18,
    "start_time": "2022-10-13T12:45:23.742Z"
   },
   {
    "duration": 216,
    "start_time": "2022-10-13T12:45:23.762Z"
   },
   {
    "duration": 238,
    "start_time": "2022-10-13T12:45:23.979Z"
   },
   {
    "duration": 28,
    "start_time": "2022-10-13T12:45:24.219Z"
   },
   {
    "duration": 125,
    "start_time": "2022-10-13T12:45:24.249Z"
   },
   {
    "duration": 151,
    "start_time": "2022-10-13T12:45:24.376Z"
   },
   {
    "duration": 207,
    "start_time": "2022-10-13T12:45:24.533Z"
   },
   {
    "duration": 53,
    "start_time": "2022-10-13T12:45:24.741Z"
   },
   {
    "duration": 60,
    "start_time": "2022-10-13T12:45:24.796Z"
   },
   {
    "duration": 17,
    "start_time": "2022-10-13T12:45:24.858Z"
   },
   {
    "duration": 40,
    "start_time": "2022-10-13T12:45:24.876Z"
   },
   {
    "duration": 27,
    "start_time": "2022-10-13T12:45:24.941Z"
   },
   {
    "duration": 6,
    "start_time": "2022-10-13T12:45:24.971Z"
   },
   {
    "duration": 15,
    "start_time": "2022-10-13T12:45:24.978Z"
   },
   {
    "duration": 29,
    "start_time": "2022-10-13T12:45:24.994Z"
   },
   {
    "duration": 241,
    "start_time": "2022-10-13T12:45:25.025Z"
   },
   {
    "duration": 204,
    "start_time": "2022-10-13T12:45:25.268Z"
   },
   {
    "duration": 127,
    "start_time": "2022-10-13T12:45:25.473Z"
   },
   {
    "duration": 47,
    "start_time": "2022-10-13T12:45:25.602Z"
   },
   {
    "duration": 203,
    "start_time": "2022-10-13T12:45:25.651Z"
   },
   {
    "duration": 12,
    "start_time": "2022-10-13T12:45:25.856Z"
   },
   {
    "duration": 19,
    "start_time": "2022-10-13T12:45:25.870Z"
   },
   {
    "duration": 11,
    "start_time": "2022-10-13T12:45:25.891Z"
   },
   {
    "duration": 48,
    "start_time": "2022-10-13T12:45:25.904Z"
   },
   {
    "duration": 17,
    "start_time": "2022-10-13T12:45:25.954Z"
   },
   {
    "duration": 24,
    "start_time": "2022-10-13T12:45:25.973Z"
   },
   {
    "duration": 86,
    "start_time": "2022-10-13T12:45:25.998Z"
   },
   {
    "duration": 80,
    "start_time": "2022-10-13T12:45:26.086Z"
   },
   {
    "duration": 3,
    "start_time": "2022-10-13T12:45:26.168Z"
   },
   {
    "duration": 706,
    "start_time": "2022-10-13T12:45:26.173Z"
   },
   {
    "duration": 10,
    "start_time": "2022-10-13T12:45:26.881Z"
   },
   {
    "duration": 9,
    "start_time": "2022-10-13T12:45:26.892Z"
   },
   {
    "duration": 3,
    "start_time": "2022-10-13T12:45:26.902Z"
   },
   {
    "duration": 30,
    "start_time": "2022-10-13T12:45:26.907Z"
   },
   {
    "duration": 6,
    "start_time": "2022-10-13T12:45:26.939Z"
   },
   {
    "duration": 11,
    "start_time": "2022-10-13T12:45:26.946Z"
   },
   {
    "duration": 13,
    "start_time": "2022-10-13T12:45:26.958Z"
   },
   {
    "duration": 9263,
    "start_time": "2022-10-13T12:45:26.973Z"
   },
   {
    "duration": 37262,
    "start_time": "2022-10-13T12:45:36.238Z"
   },
   {
    "duration": 13,
    "start_time": "2022-10-13T12:46:13.501Z"
   },
   {
    "duration": 4,
    "start_time": "2022-10-13T12:46:13.516Z"
   },
   {
    "duration": 60,
    "start_time": "2022-10-13T12:46:13.533Z"
   },
   {
    "duration": 373,
    "start_time": "2022-10-13T12:46:13.595Z"
   },
   {
    "duration": 146,
    "start_time": "2022-10-13T12:46:13.970Z"
   },
   {
    "duration": 0,
    "start_time": "2022-10-13T12:46:14.118Z"
   },
   {
    "duration": 0,
    "start_time": "2022-10-13T12:46:14.119Z"
   },
   {
    "duration": 0,
    "start_time": "2022-10-13T12:46:14.120Z"
   },
   {
    "duration": 0,
    "start_time": "2022-10-13T12:46:14.133Z"
   },
   {
    "duration": 0,
    "start_time": "2022-10-13T12:46:14.134Z"
   },
   {
    "duration": 0,
    "start_time": "2022-10-13T12:46:14.134Z"
   },
   {
    "duration": 0,
    "start_time": "2022-10-13T12:46:14.135Z"
   },
   {
    "duration": 0,
    "start_time": "2022-10-13T12:46:14.136Z"
   },
   {
    "duration": 0,
    "start_time": "2022-10-13T12:46:14.137Z"
   },
   {
    "duration": 0,
    "start_time": "2022-10-13T12:46:14.138Z"
   },
   {
    "duration": 0,
    "start_time": "2022-10-13T12:46:14.139Z"
   },
   {
    "duration": 0,
    "start_time": "2022-10-13T12:46:14.140Z"
   },
   {
    "duration": 0,
    "start_time": "2022-10-13T12:46:14.141Z"
   },
   {
    "duration": 0,
    "start_time": "2022-10-13T12:46:14.142Z"
   },
   {
    "duration": 0,
    "start_time": "2022-10-13T12:46:14.144Z"
   },
   {
    "duration": 0,
    "start_time": "2022-10-13T12:46:14.145Z"
   },
   {
    "duration": 0,
    "start_time": "2022-10-13T12:46:14.146Z"
   },
   {
    "duration": 0,
    "start_time": "2022-10-13T12:46:14.147Z"
   },
   {
    "duration": 0,
    "start_time": "2022-10-13T12:46:14.148Z"
   },
   {
    "duration": 0,
    "start_time": "2022-10-13T12:46:14.149Z"
   },
   {
    "duration": 0,
    "start_time": "2022-10-13T12:46:14.150Z"
   },
   {
    "duration": 0,
    "start_time": "2022-10-13T12:46:14.151Z"
   },
   {
    "duration": 0,
    "start_time": "2022-10-13T12:46:14.152Z"
   },
   {
    "duration": 0,
    "start_time": "2022-10-13T12:46:14.153Z"
   },
   {
    "duration": 0,
    "start_time": "2022-10-13T12:46:14.154Z"
   },
   {
    "duration": 0,
    "start_time": "2022-10-13T12:46:14.155Z"
   },
   {
    "duration": 0,
    "start_time": "2022-10-13T12:46:14.156Z"
   },
   {
    "duration": 0,
    "start_time": "2022-10-13T12:46:14.157Z"
   },
   {
    "duration": 0,
    "start_time": "2022-10-13T12:46:14.158Z"
   },
   {
    "duration": 0,
    "start_time": "2022-10-13T12:46:14.159Z"
   },
   {
    "duration": 0,
    "start_time": "2022-10-13T12:46:14.160Z"
   },
   {
    "duration": 0,
    "start_time": "2022-10-13T12:46:14.162Z"
   },
   {
    "duration": 0,
    "start_time": "2022-10-13T12:46:14.163Z"
   },
   {
    "duration": 0,
    "start_time": "2022-10-13T12:46:14.164Z"
   },
   {
    "duration": 11,
    "start_time": "2022-10-13T12:49:00.186Z"
   },
   {
    "duration": 3,
    "start_time": "2022-10-13T12:49:04.265Z"
   },
   {
    "duration": 64,
    "start_time": "2022-10-13T12:49:07.137Z"
   },
   {
    "duration": 27554,
    "start_time": "2022-10-13T12:49:15.738Z"
   },
   {
    "duration": 3,
    "start_time": "2022-10-13T12:50:23.324Z"
   },
   {
    "duration": 12,
    "start_time": "2022-10-13T12:50:26.005Z"
   },
   {
    "duration": 4,
    "start_time": "2022-10-13T12:50:30.172Z"
   },
   {
    "duration": 3,
    "start_time": "2022-10-13T12:50:31.619Z"
   },
   {
    "duration": 3,
    "start_time": "2022-10-13T12:50:32.667Z"
   },
   {
    "duration": 1480,
    "start_time": "2022-10-13T12:56:34.036Z"
   },
   {
    "duration": 855,
    "start_time": "2022-10-13T12:56:35.518Z"
   },
   {
    "duration": 172,
    "start_time": "2022-10-13T12:56:36.376Z"
   },
   {
    "duration": 36,
    "start_time": "2022-10-13T12:56:36.553Z"
   },
   {
    "duration": 3,
    "start_time": "2022-10-13T12:56:36.591Z"
   },
   {
    "duration": 193,
    "start_time": "2022-10-13T12:56:36.596Z"
   },
   {
    "duration": 248,
    "start_time": "2022-10-13T12:56:36.791Z"
   },
   {
    "duration": 138,
    "start_time": "2022-10-13T12:56:37.041Z"
   },
   {
    "duration": 212,
    "start_time": "2022-10-13T12:56:37.181Z"
   },
   {
    "duration": 17,
    "start_time": "2022-10-13T12:56:37.397Z"
   },
   {
    "duration": 168,
    "start_time": "2022-10-13T12:56:37.416Z"
   },
   {
    "duration": 149,
    "start_time": "2022-10-13T12:56:37.586Z"
   },
   {
    "duration": 16,
    "start_time": "2022-10-13T12:56:37.737Z"
   },
   {
    "duration": 239,
    "start_time": "2022-10-13T12:56:37.755Z"
   },
   {
    "duration": 169,
    "start_time": "2022-10-13T12:56:37.996Z"
   },
   {
    "duration": 17,
    "start_time": "2022-10-13T12:56:38.167Z"
   },
   {
    "duration": 210,
    "start_time": "2022-10-13T12:56:38.186Z"
   },
   {
    "duration": 259,
    "start_time": "2022-10-13T12:56:38.397Z"
   },
   {
    "duration": 17,
    "start_time": "2022-10-13T12:56:38.658Z"
   },
   {
    "duration": 127,
    "start_time": "2022-10-13T12:56:38.676Z"
   },
   {
    "duration": 153,
    "start_time": "2022-10-13T12:56:38.805Z"
   },
   {
    "duration": 210,
    "start_time": "2022-10-13T12:56:38.960Z"
   },
   {
    "duration": 50,
    "start_time": "2022-10-13T12:56:39.172Z"
   },
   {
    "duration": 42,
    "start_time": "2022-10-13T12:56:39.233Z"
   },
   {
    "duration": 16,
    "start_time": "2022-10-13T12:56:39.277Z"
   },
   {
    "duration": 59,
    "start_time": "2022-10-13T12:56:39.294Z"
   },
   {
    "duration": 23,
    "start_time": "2022-10-13T12:56:39.355Z"
   },
   {
    "duration": 6,
    "start_time": "2022-10-13T12:56:39.382Z"
   },
   {
    "duration": 6,
    "start_time": "2022-10-13T12:56:39.389Z"
   },
   {
    "duration": 45,
    "start_time": "2022-10-13T12:56:39.396Z"
   },
   {
    "duration": 247,
    "start_time": "2022-10-13T12:56:39.443Z"
   },
   {
    "duration": 207,
    "start_time": "2022-10-13T12:56:39.692Z"
   },
   {
    "duration": 124,
    "start_time": "2022-10-13T12:56:39.901Z"
   },
   {
    "duration": 33,
    "start_time": "2022-10-13T12:56:40.033Z"
   },
   {
    "duration": 231,
    "start_time": "2022-10-13T12:56:40.068Z"
   },
   {
    "duration": 12,
    "start_time": "2022-10-13T12:56:40.302Z"
   },
   {
    "duration": 34,
    "start_time": "2022-10-13T12:56:40.316Z"
   },
   {
    "duration": 12,
    "start_time": "2022-10-13T12:56:40.351Z"
   },
   {
    "duration": 25,
    "start_time": "2022-10-13T12:56:40.364Z"
   },
   {
    "duration": 17,
    "start_time": "2022-10-13T12:56:40.391Z"
   },
   {
    "duration": 41,
    "start_time": "2022-10-13T12:56:40.409Z"
   },
   {
    "duration": 73,
    "start_time": "2022-10-13T12:56:40.452Z"
   },
   {
    "duration": 72,
    "start_time": "2022-10-13T12:56:40.527Z"
   },
   {
    "duration": 3,
    "start_time": "2022-10-13T12:56:40.601Z"
   },
   {
    "duration": 617,
    "start_time": "2022-10-13T12:56:40.605Z"
   },
   {
    "duration": 16,
    "start_time": "2022-10-13T12:56:41.223Z"
   },
   {
    "duration": 8,
    "start_time": "2022-10-13T12:56:41.240Z"
   },
   {
    "duration": 12,
    "start_time": "2022-10-13T12:56:41.250Z"
   },
   {
    "duration": 6,
    "start_time": "2022-10-13T12:56:41.264Z"
   },
   {
    "duration": 8,
    "start_time": "2022-10-13T12:56:41.271Z"
   },
   {
    "duration": 11,
    "start_time": "2022-10-13T12:56:41.281Z"
   },
   {
    "duration": 5,
    "start_time": "2022-10-13T12:56:41.293Z"
   },
   {
    "duration": 8235,
    "start_time": "2022-10-13T12:56:41.300Z"
   },
   {
    "duration": 34071,
    "start_time": "2022-10-13T12:56:49.536Z"
   },
   {
    "duration": 12,
    "start_time": "2022-10-13T12:57:23.609Z"
   },
   {
    "duration": 11,
    "start_time": "2022-10-13T12:57:23.623Z"
   },
   {
    "duration": 53,
    "start_time": "2022-10-13T12:57:23.636Z"
   },
   {
    "duration": 360,
    "start_time": "2022-10-13T12:57:23.691Z"
   },
   {
    "duration": 9,
    "start_time": "2022-10-13T12:57:24.053Z"
   },
   {
    "duration": 2,
    "start_time": "2022-10-13T12:57:24.064Z"
   },
   {
    "duration": 27299,
    "start_time": "2022-10-13T12:57:24.068Z"
   },
   {
    "duration": 3,
    "start_time": "2022-10-13T12:57:51.369Z"
   },
   {
    "duration": 18,
    "start_time": "2022-10-13T12:57:51.374Z"
   },
   {
    "duration": 12,
    "start_time": "2022-10-13T12:57:51.394Z"
   },
   {
    "duration": 17,
    "start_time": "2022-10-13T12:57:51.408Z"
   },
   {
    "duration": 9,
    "start_time": "2022-10-13T12:57:51.429Z"
   },
   {
    "duration": 123,
    "start_time": "2022-10-13T12:57:51.439Z"
   },
   {
    "duration": 0,
    "start_time": "2022-10-13T12:57:51.564Z"
   },
   {
    "duration": 0,
    "start_time": "2022-10-13T12:57:51.566Z"
   },
   {
    "duration": 0,
    "start_time": "2022-10-13T12:57:51.566Z"
   },
   {
    "duration": 0,
    "start_time": "2022-10-13T12:57:51.567Z"
   },
   {
    "duration": 0,
    "start_time": "2022-10-13T12:57:51.569Z"
   },
   {
    "duration": 0,
    "start_time": "2022-10-13T12:57:51.570Z"
   },
   {
    "duration": 0,
    "start_time": "2022-10-13T12:57:51.571Z"
   },
   {
    "duration": 0,
    "start_time": "2022-10-13T12:57:51.572Z"
   },
   {
    "duration": 0,
    "start_time": "2022-10-13T12:57:51.573Z"
   },
   {
    "duration": 0,
    "start_time": "2022-10-13T12:57:51.574Z"
   },
   {
    "duration": 0,
    "start_time": "2022-10-13T12:57:51.575Z"
   },
   {
    "duration": 0,
    "start_time": "2022-10-13T12:57:51.576Z"
   },
   {
    "duration": 0,
    "start_time": "2022-10-13T12:57:51.577Z"
   },
   {
    "duration": 0,
    "start_time": "2022-10-13T12:57:51.578Z"
   },
   {
    "duration": 0,
    "start_time": "2022-10-13T12:57:51.579Z"
   },
   {
    "duration": 0,
    "start_time": "2022-10-13T12:57:51.581Z"
   },
   {
    "duration": 0,
    "start_time": "2022-10-13T12:57:51.582Z"
   },
   {
    "duration": 0,
    "start_time": "2022-10-13T12:57:51.583Z"
   },
   {
    "duration": 0,
    "start_time": "2022-10-13T12:57:51.584Z"
   },
   {
    "duration": 0,
    "start_time": "2022-10-13T12:57:51.585Z"
   },
   {
    "duration": 0,
    "start_time": "2022-10-13T12:57:51.586Z"
   },
   {
    "duration": 0,
    "start_time": "2022-10-13T12:57:51.587Z"
   },
   {
    "duration": 0,
    "start_time": "2022-10-13T12:57:51.588Z"
   },
   {
    "duration": 10,
    "start_time": "2022-10-13T12:59:17.384Z"
   },
   {
    "duration": 3,
    "start_time": "2022-10-13T12:59:35.179Z"
   },
   {
    "duration": 3,
    "start_time": "2022-10-13T12:59:35.826Z"
   },
   {
    "duration": 10,
    "start_time": "2022-10-13T12:59:36.514Z"
   },
   {
    "duration": 9,
    "start_time": "2022-10-13T13:00:37.860Z"
   },
   {
    "duration": 15,
    "start_time": "2022-10-13T13:01:26.238Z"
   },
   {
    "duration": 20,
    "start_time": "2022-10-13T13:02:01.590Z"
   },
   {
    "duration": 63,
    "start_time": "2022-10-13T13:02:26.991Z"
   },
   {
    "duration": 2,
    "start_time": "2022-10-13T13:02:32.824Z"
   },
   {
    "duration": 66,
    "start_time": "2022-10-13T13:02:34.302Z"
   },
   {
    "duration": 3,
    "start_time": "2022-10-13T13:02:35.966Z"
   },
   {
    "duration": 3,
    "start_time": "2022-10-13T13:02:36.610Z"
   },
   {
    "duration": 3,
    "start_time": "2022-10-13T13:02:37.255Z"
   },
   {
    "duration": 3,
    "start_time": "2022-10-13T13:02:37.740Z"
   },
   {
    "duration": 5,
    "start_time": "2022-10-13T13:02:38.150Z"
   },
   {
    "duration": 3,
    "start_time": "2022-10-13T13:02:38.554Z"
   },
   {
    "duration": 4,
    "start_time": "2022-10-13T13:02:39.299Z"
   },
   {
    "duration": 31,
    "start_time": "2022-10-13T13:02:43.544Z"
   },
   {
    "duration": 35,
    "start_time": "2022-10-13T13:03:18.816Z"
   },
   {
    "duration": 4,
    "start_time": "2022-10-13T13:07:19.795Z"
   },
   {
    "duration": 10,
    "start_time": "2022-10-13T13:07:24.051Z"
   },
   {
    "duration": 40,
    "start_time": "2022-10-13T13:08:21.872Z"
   },
   {
    "duration": 36,
    "start_time": "2022-10-13T13:12:16.072Z"
   },
   {
    "duration": 3,
    "start_time": "2022-10-13T13:20:26.971Z"
   },
   {
    "duration": 359102,
    "start_time": "2022-10-13T13:26:15.846Z"
   },
   {
    "duration": 99,
    "start_time": "2022-10-13T13:32:14.949Z"
   },
   {
    "duration": 0,
    "start_time": "2022-10-13T13:32:15.049Z"
   },
   {
    "duration": 0,
    "start_time": "2022-10-13T13:32:15.051Z"
   },
   {
    "duration": 0,
    "start_time": "2022-10-13T13:32:15.054Z"
   },
   {
    "duration": 0,
    "start_time": "2022-10-13T13:32:15.055Z"
   },
   {
    "duration": 10,
    "start_time": "2022-10-13T13:43:39.908Z"
   },
   {
    "duration": 26,
    "start_time": "2022-10-13T13:44:08.330Z"
   },
   {
    "duration": 1837,
    "start_time": "2022-10-16T09:59:46.848Z"
   },
   {
    "duration": 3104,
    "start_time": "2022-10-16T09:59:48.688Z"
   },
   {
    "duration": 198,
    "start_time": "2022-10-16T09:59:51.794Z"
   },
   {
    "duration": 38,
    "start_time": "2022-10-16T09:59:51.995Z"
   },
   {
    "duration": 4,
    "start_time": "2022-10-16T09:59:52.036Z"
   },
   {
    "duration": 178,
    "start_time": "2022-10-16T09:59:52.042Z"
   },
   {
    "duration": 220,
    "start_time": "2022-10-16T09:59:52.222Z"
   },
   {
    "duration": 146,
    "start_time": "2022-10-16T09:59:52.444Z"
   },
   {
    "duration": 230,
    "start_time": "2022-10-16T09:59:52.592Z"
   },
   {
    "duration": 19,
    "start_time": "2022-10-16T09:59:52.824Z"
   },
   {
    "duration": 194,
    "start_time": "2022-10-16T09:59:52.845Z"
   },
   {
    "duration": 166,
    "start_time": "2022-10-16T09:59:53.041Z"
   },
   {
    "duration": 19,
    "start_time": "2022-10-16T09:59:53.208Z"
   },
   {
    "duration": 284,
    "start_time": "2022-10-16T09:59:53.228Z"
   },
   {
    "duration": 167,
    "start_time": "2022-10-16T09:59:53.514Z"
   },
   {
    "duration": 22,
    "start_time": "2022-10-16T09:59:53.683Z"
   },
   {
    "duration": 234,
    "start_time": "2022-10-16T09:59:53.708Z"
   },
   {
    "duration": 262,
    "start_time": "2022-10-16T09:59:53.944Z"
   },
   {
    "duration": 25,
    "start_time": "2022-10-16T09:59:54.209Z"
   },
   {
    "duration": 141,
    "start_time": "2022-10-16T09:59:54.236Z"
   },
   {
    "duration": 167,
    "start_time": "2022-10-16T09:59:54.378Z"
   },
   {
    "duration": 254,
    "start_time": "2022-10-16T09:59:54.547Z"
   },
   {
    "duration": 47,
    "start_time": "2022-10-16T09:59:54.803Z"
   },
   {
    "duration": 54,
    "start_time": "2022-10-16T09:59:54.852Z"
   },
   {
    "duration": 18,
    "start_time": "2022-10-16T09:59:54.908Z"
   },
   {
    "duration": 40,
    "start_time": "2022-10-16T09:59:54.927Z"
   },
   {
    "duration": 42,
    "start_time": "2022-10-16T09:59:54.969Z"
   },
   {
    "duration": 6,
    "start_time": "2022-10-16T09:59:55.016Z"
   },
   {
    "duration": 6,
    "start_time": "2022-10-16T09:59:55.023Z"
   },
   {
    "duration": 23,
    "start_time": "2022-10-16T09:59:55.030Z"
   },
   {
    "duration": 295,
    "start_time": "2022-10-16T09:59:55.055Z"
   },
   {
    "duration": 218,
    "start_time": "2022-10-16T09:59:55.352Z"
   },
   {
    "duration": 135,
    "start_time": "2022-10-16T09:59:55.572Z"
   },
   {
    "duration": 32,
    "start_time": "2022-10-16T09:59:55.709Z"
   },
   {
    "duration": 235,
    "start_time": "2022-10-16T09:59:55.743Z"
   },
   {
    "duration": 16,
    "start_time": "2022-10-16T09:59:55.980Z"
   },
   {
    "duration": 18,
    "start_time": "2022-10-16T09:59:55.998Z"
   },
   {
    "duration": 12,
    "start_time": "2022-10-16T09:59:56.018Z"
   },
   {
    "duration": 27,
    "start_time": "2022-10-16T09:59:56.032Z"
   },
   {
    "duration": 39,
    "start_time": "2022-10-16T09:59:56.060Z"
   },
   {
    "duration": 22,
    "start_time": "2022-10-16T09:59:56.101Z"
   },
   {
    "duration": 84,
    "start_time": "2022-10-16T09:59:56.125Z"
   },
   {
    "duration": 84,
    "start_time": "2022-10-16T09:59:56.211Z"
   },
   {
    "duration": 3,
    "start_time": "2022-10-16T09:59:56.297Z"
   },
   {
    "duration": 630,
    "start_time": "2022-10-16T09:59:56.301Z"
   },
   {
    "duration": 10,
    "start_time": "2022-10-16T09:59:56.933Z"
   },
   {
    "duration": 8,
    "start_time": "2022-10-16T09:59:56.945Z"
   },
   {
    "duration": 5,
    "start_time": "2022-10-16T09:59:56.954Z"
   },
   {
    "duration": 28,
    "start_time": "2022-10-16T09:59:56.961Z"
   },
   {
    "duration": 8,
    "start_time": "2022-10-16T09:59:56.991Z"
   },
   {
    "duration": 45,
    "start_time": "2022-10-16T09:59:57.001Z"
   },
   {
    "duration": 16,
    "start_time": "2022-10-16T09:59:57.048Z"
   },
   {
    "duration": 8826,
    "start_time": "2022-10-16T09:59:57.065Z"
   },
   {
    "duration": 33312,
    "start_time": "2022-10-16T10:00:05.893Z"
   },
   {
    "duration": 13,
    "start_time": "2022-10-16T10:00:39.207Z"
   },
   {
    "duration": 5,
    "start_time": "2022-10-16T10:00:39.222Z"
   },
   {
    "duration": 68,
    "start_time": "2022-10-16T10:00:39.229Z"
   },
   {
    "duration": 361,
    "start_time": "2022-10-16T10:00:39.299Z"
   },
   {
    "duration": 9,
    "start_time": "2022-10-16T10:00:39.662Z"
   },
   {
    "duration": 3,
    "start_time": "2022-10-16T10:00:39.672Z"
   },
   {
    "duration": 30243,
    "start_time": "2022-10-16T10:00:39.690Z"
   },
   {
    "duration": 3,
    "start_time": "2022-10-16T10:01:09.935Z"
   },
   {
    "duration": 23,
    "start_time": "2022-10-16T10:01:09.940Z"
   },
   {
    "duration": 8,
    "start_time": "2022-10-16T10:01:09.965Z"
   },
   {
    "duration": 5,
    "start_time": "2022-10-16T10:01:09.975Z"
   },
   {
    "duration": 4,
    "start_time": "2022-10-16T10:01:09.989Z"
   },
   {
    "duration": 11,
    "start_time": "2022-10-16T10:01:09.994Z"
   },
   {
    "duration": 389486,
    "start_time": "2022-10-16T10:01:10.007Z"
   },
   {
    "duration": 46,
    "start_time": "2022-10-17T08:23:52.201Z"
   },
   {
    "duration": 1866,
    "start_time": "2022-10-17T08:23:57.419Z"
   },
   {
    "duration": 2951,
    "start_time": "2022-10-17T08:23:59.287Z"
   },
   {
    "duration": 109,
    "start_time": "2022-10-17T08:24:02.240Z"
   },
   {
    "duration": 49,
    "start_time": "2022-10-17T08:24:02.352Z"
   },
   {
    "duration": 3,
    "start_time": "2022-10-17T08:24:02.402Z"
   },
   {
    "duration": 150,
    "start_time": "2022-10-17T08:24:02.407Z"
   },
   {
    "duration": 225,
    "start_time": "2022-10-17T08:24:02.559Z"
   },
   {
    "duration": 138,
    "start_time": "2022-10-17T08:24:02.785Z"
   },
   {
    "duration": 248,
    "start_time": "2022-10-17T08:24:02.925Z"
   },
   {
    "duration": 22,
    "start_time": "2022-10-17T08:24:03.176Z"
   },
   {
    "duration": 161,
    "start_time": "2022-10-17T08:24:03.200Z"
   },
   {
    "duration": 167,
    "start_time": "2022-10-17T08:24:03.363Z"
   },
   {
    "duration": 17,
    "start_time": "2022-10-17T08:24:03.532Z"
   },
   {
    "duration": 245,
    "start_time": "2022-10-17T08:24:03.550Z"
   },
   {
    "duration": 150,
    "start_time": "2022-10-17T08:24:03.796Z"
   },
   {
    "duration": 19,
    "start_time": "2022-10-17T08:24:03.948Z"
   },
   {
    "duration": 252,
    "start_time": "2022-10-17T08:24:03.968Z"
   },
   {
    "duration": 261,
    "start_time": "2022-10-17T08:24:04.222Z"
   },
   {
    "duration": 20,
    "start_time": "2022-10-17T08:24:04.484Z"
   },
   {
    "duration": 123,
    "start_time": "2022-10-17T08:24:04.506Z"
   },
   {
    "duration": 174,
    "start_time": "2022-10-17T08:24:04.631Z"
   },
   {
    "duration": 243,
    "start_time": "2022-10-17T08:24:04.807Z"
   },
   {
    "duration": 56,
    "start_time": "2022-10-17T08:24:05.054Z"
   },
   {
    "duration": 47,
    "start_time": "2022-10-17T08:24:05.112Z"
   },
   {
    "duration": 35,
    "start_time": "2022-10-17T08:24:05.161Z"
   },
   {
    "duration": 40,
    "start_time": "2022-10-17T08:24:05.199Z"
   },
   {
    "duration": 21,
    "start_time": "2022-10-17T08:24:05.241Z"
   },
   {
    "duration": 10,
    "start_time": "2022-10-17T08:24:05.267Z"
   },
   {
    "duration": 6,
    "start_time": "2022-10-17T08:24:05.295Z"
   },
   {
    "duration": 42,
    "start_time": "2022-10-17T08:24:05.303Z"
   },
   {
    "duration": 236,
    "start_time": "2022-10-17T08:24:05.347Z"
   },
   {
    "duration": 185,
    "start_time": "2022-10-17T08:24:05.585Z"
   },
   {
    "duration": 111,
    "start_time": "2022-10-17T08:24:05.772Z"
   },
   {
    "duration": 46,
    "start_time": "2022-10-17T08:24:05.885Z"
   },
   {
    "duration": 205,
    "start_time": "2022-10-17T08:24:05.933Z"
   },
   {
    "duration": 11,
    "start_time": "2022-10-17T08:24:06.140Z"
   },
   {
    "duration": 35,
    "start_time": "2022-10-17T08:24:06.152Z"
   },
   {
    "duration": 35,
    "start_time": "2022-10-17T08:24:06.189Z"
   },
   {
    "duration": 46,
    "start_time": "2022-10-17T08:24:06.226Z"
   },
   {
    "duration": 40,
    "start_time": "2022-10-17T08:24:06.273Z"
   },
   {
    "duration": 41,
    "start_time": "2022-10-17T08:24:06.316Z"
   },
   {
    "duration": 103,
    "start_time": "2022-10-17T08:24:06.360Z"
   },
   {
    "duration": 86,
    "start_time": "2022-10-17T08:24:06.465Z"
   },
   {
    "duration": 5,
    "start_time": "2022-10-17T08:24:06.553Z"
   },
   {
    "duration": 704,
    "start_time": "2022-10-17T08:24:06.560Z"
   },
   {
    "duration": 10,
    "start_time": "2022-10-17T08:24:07.266Z"
   },
   {
    "duration": 30,
    "start_time": "2022-10-17T08:24:07.277Z"
   },
   {
    "duration": 16,
    "start_time": "2022-10-17T08:24:07.309Z"
   },
   {
    "duration": 28,
    "start_time": "2022-10-17T08:24:07.326Z"
   },
   {
    "duration": 21,
    "start_time": "2022-10-17T08:24:07.355Z"
   },
   {
    "duration": 48,
    "start_time": "2022-10-17T08:24:07.378Z"
   },
   {
    "duration": 30,
    "start_time": "2022-10-17T08:24:07.428Z"
   },
   {
    "duration": 7351,
    "start_time": "2022-10-17T08:24:07.459Z"
   },
   {
    "duration": 29959,
    "start_time": "2022-10-17T08:24:14.815Z"
   },
   {
    "duration": 23,
    "start_time": "2022-10-17T08:24:44.777Z"
   },
   {
    "duration": 3,
    "start_time": "2022-10-17T08:24:44.802Z"
   },
   {
    "duration": 81,
    "start_time": "2022-10-17T08:24:44.807Z"
   },
   {
    "duration": 428,
    "start_time": "2022-10-17T08:24:44.890Z"
   },
   {
    "duration": 10,
    "start_time": "2022-10-17T08:24:45.320Z"
   },
   {
    "duration": 4,
    "start_time": "2022-10-17T08:24:45.332Z"
   },
   {
    "duration": 29268,
    "start_time": "2022-10-17T08:24:45.338Z"
   },
   {
    "duration": 3,
    "start_time": "2022-10-17T08:25:14.608Z"
   },
   {
    "duration": 27,
    "start_time": "2022-10-17T08:25:14.612Z"
   },
   {
    "duration": 9,
    "start_time": "2022-10-17T08:25:14.640Z"
   },
   {
    "duration": 5,
    "start_time": "2022-10-17T08:25:14.651Z"
   },
   {
    "duration": 5,
    "start_time": "2022-10-17T08:25:14.658Z"
   },
   {
    "duration": 121250,
    "start_time": "2022-10-17T08:25:14.664Z"
   },
   {
    "duration": 147012,
    "start_time": "2022-10-17T08:27:15.996Z"
   },
   {
    "duration": 365005,
    "start_time": "2022-10-17T08:29:43.010Z"
   },
   {
    "duration": 5,
    "start_time": "2022-10-17T08:35:48.016Z"
   },
   {
    "duration": 15,
    "start_time": "2022-10-17T08:35:48.022Z"
   },
   {
    "duration": 7,
    "start_time": "2022-10-17T08:35:48.047Z"
   },
   {
    "duration": 41,
    "start_time": "2022-10-17T08:35:48.055Z"
   },
   {
    "duration": 3502898,
    "start_time": "2022-10-17T08:35:48.098Z"
   },
   {
    "duration": 4,
    "start_time": "2022-10-17T09:34:10.998Z"
   },
   {
    "duration": 8,
    "start_time": "2022-10-17T09:34:11.003Z"
   },
   {
    "duration": 16,
    "start_time": "2022-10-17T09:34:11.013Z"
   },
   {
    "duration": 96,
    "start_time": "2022-10-17T09:34:11.031Z"
   },
   {
    "duration": 14,
    "start_time": "2022-10-17T09:34:11.129Z"
   },
   {
    "duration": 3,
    "start_time": "2022-10-17T09:34:11.145Z"
   },
   {
    "duration": 86,
    "start_time": "2022-10-17T09:34:11.150Z"
   },
   {
    "duration": 2,
    "start_time": "2022-10-17T09:34:11.244Z"
   },
   {
    "duration": 16,
    "start_time": "2022-10-17T09:34:11.248Z"
   },
   {
    "duration": 6,
    "start_time": "2022-10-17T09:34:11.265Z"
   },
   {
    "duration": 5,
    "start_time": "2022-10-17T09:34:11.273Z"
   },
   {
    "duration": 6,
    "start_time": "2022-10-17T09:34:11.279Z"
   },
   {
    "duration": 132,
    "start_time": "2022-10-17T09:34:11.286Z"
   },
   {
    "duration": 0,
    "start_time": "2022-10-17T09:34:11.420Z"
   },
   {
    "duration": 0,
    "start_time": "2022-10-17T09:34:11.421Z"
   },
   {
    "duration": 0,
    "start_time": "2022-10-17T09:34:11.422Z"
   },
   {
    "duration": 0,
    "start_time": "2022-10-17T09:34:11.423Z"
   },
   {
    "duration": 0,
    "start_time": "2022-10-17T09:34:11.424Z"
   },
   {
    "duration": 0,
    "start_time": "2022-10-17T09:34:11.425Z"
   },
   {
    "duration": 0,
    "start_time": "2022-10-17T09:34:11.426Z"
   },
   {
    "duration": 0,
    "start_time": "2022-10-17T09:34:11.427Z"
   },
   {
    "duration": 24,
    "start_time": "2022-10-17T12:03:55.220Z"
   },
   {
    "duration": 3,
    "start_time": "2022-10-17T12:04:27.154Z"
   },
   {
    "duration": 2,
    "start_time": "2022-10-17T12:04:43.678Z"
   },
   {
    "duration": 3,
    "start_time": "2022-10-17T12:04:57.891Z"
   },
   {
    "duration": 25,
    "start_time": "2022-10-17T12:05:06.341Z"
   },
   {
    "duration": 66,
    "start_time": "2022-10-17T12:05:18.297Z"
   },
   {
    "duration": 5,
    "start_time": "2022-10-17T12:05:32.281Z"
   },
   {
    "duration": 3,
    "start_time": "2022-10-17T12:05:42.182Z"
   },
   {
    "duration": 43,
    "start_time": "2022-10-17T12:06:19.840Z"
   },
   {
    "duration": 3,
    "start_time": "2022-10-17T12:06:27.683Z"
   },
   {
    "duration": 3,
    "start_time": "2022-10-17T12:06:34.812Z"
   },
   {
    "duration": 180824,
    "start_time": "2022-10-17T12:07:03.725Z"
   },
   {
    "duration": 6,
    "start_time": "2022-10-17T12:10:04.554Z"
   },
   {
    "duration": 215,
    "start_time": "2022-10-17T12:10:04.562Z"
   },
   {
    "duration": 94,
    "start_time": "2022-10-17T12:10:04.779Z"
   },
   {
    "duration": 3,
    "start_time": "2022-10-17T12:10:04.875Z"
   },
   {
    "duration": 37,
    "start_time": "2022-10-17T12:10:04.880Z"
   },
   {
    "duration": 505776,
    "start_time": "2022-10-17T12:10:04.919Z"
   },
   {
    "duration": 14,
    "start_time": "2022-10-17T12:18:30.696Z"
   },
   {
    "duration": 22,
    "start_time": "2022-10-17T12:18:30.712Z"
   },
   {
    "duration": 16,
    "start_time": "2022-10-17T12:18:30.736Z"
   },
   {
    "duration": 6,
    "start_time": "2022-10-17T12:18:30.754Z"
   },
   {
    "duration": 222757,
    "start_time": "2022-10-17T12:18:30.762Z"
   },
   {
    "duration": 203954,
    "start_time": "2022-10-17T12:46:56.890Z"
   },
   {
    "duration": 3,
    "start_time": "2022-10-17T12:50:20.846Z"
   },
   {
    "duration": 10,
    "start_time": "2022-10-17T12:52:05.799Z"
   },
   {
    "duration": 13,
    "start_time": "2022-10-17T12:52:20.259Z"
   },
   {
    "duration": 10,
    "start_time": "2022-10-17T12:52:35.668Z"
   },
   {
    "duration": 9,
    "start_time": "2022-10-17T12:52:39.993Z"
   },
   {
    "duration": 77,
    "start_time": "2022-10-17T12:52:44.035Z"
   },
   {
    "duration": 13,
    "start_time": "2022-10-17T12:52:47.940Z"
   },
   {
    "duration": 439,
    "start_time": "2022-10-17T12:53:17.669Z"
   },
   {
    "duration": 13,
    "start_time": "2022-10-17T12:53:42.198Z"
   },
   {
    "duration": 4,
    "start_time": "2022-10-17T12:54:34.706Z"
   },
   {
    "duration": 15,
    "start_time": "2022-10-17T13:00:25.646Z"
   },
   {
    "duration": 172,
    "start_time": "2022-10-17T13:00:31.885Z"
   },
   {
    "duration": 183,
    "start_time": "2022-10-17T13:01:29.442Z"
   },
   {
    "duration": 302,
    "start_time": "2022-10-17T13:03:35.511Z"
   },
   {
    "duration": 433,
    "start_time": "2022-10-17T13:05:13.041Z"
   },
   {
    "duration": 21,
    "start_time": "2022-10-17T13:08:58.618Z"
   },
   {
    "duration": 425,
    "start_time": "2022-10-17T13:09:28.917Z"
   },
   {
    "duration": 3,
    "start_time": "2022-10-17T13:14:22.295Z"
   },
   {
    "duration": 3,
    "start_time": "2022-10-17T13:15:09.274Z"
   },
   {
    "duration": 595,
    "start_time": "2022-10-17T13:17:37.397Z"
   },
   {
    "duration": 3,
    "start_time": "2022-10-17T13:17:40.348Z"
   },
   {
    "duration": 7,
    "start_time": "2022-10-17T13:17:50.127Z"
   },
   {
    "duration": 2,
    "start_time": "2022-10-17T13:17:51.316Z"
   },
   {
    "duration": 4,
    "start_time": "2022-10-17T13:18:03.264Z"
   },
   {
    "duration": 314,
    "start_time": "2022-10-17T13:39:05.095Z"
   },
   {
    "duration": 93,
    "start_time": "2022-10-17T13:39:22.920Z"
   },
   {
    "duration": 50,
    "start_time": "2022-10-18T08:01:53.016Z"
   },
   {
    "duration": 7,
    "start_time": "2022-10-18T08:05:03.065Z"
   },
   {
    "duration": 1718,
    "start_time": "2022-10-18T08:21:09.074Z"
   },
   {
    "duration": 1257,
    "start_time": "2022-10-18T08:21:10.795Z"
   },
   {
    "duration": 135,
    "start_time": "2022-10-18T08:21:12.053Z"
   },
   {
    "duration": 32,
    "start_time": "2022-10-18T08:21:12.190Z"
   },
   {
    "duration": 3,
    "start_time": "2022-10-18T08:21:12.225Z"
   },
   {
    "duration": 147,
    "start_time": "2022-10-18T08:21:12.230Z"
   },
   {
    "duration": 179,
    "start_time": "2022-10-18T08:21:12.379Z"
   },
   {
    "duration": 120,
    "start_time": "2022-10-18T08:21:12.560Z"
   },
   {
    "duration": 234,
    "start_time": "2022-10-18T08:21:12.682Z"
   },
   {
    "duration": 22,
    "start_time": "2022-10-18T08:21:12.918Z"
   },
   {
    "duration": 180,
    "start_time": "2022-10-18T08:21:12.953Z"
   },
   {
    "duration": 246,
    "start_time": "2022-10-18T08:21:13.135Z"
   },
   {
    "duration": 18,
    "start_time": "2022-10-18T08:21:13.384Z"
   },
   {
    "duration": 187,
    "start_time": "2022-10-18T08:21:13.405Z"
   },
   {
    "duration": 161,
    "start_time": "2022-10-18T08:21:13.593Z"
   },
   {
    "duration": 20,
    "start_time": "2022-10-18T08:21:13.756Z"
   },
   {
    "duration": 217,
    "start_time": "2022-10-18T08:21:13.778Z"
   },
   {
    "duration": 234,
    "start_time": "2022-10-18T08:21:13.996Z"
   },
   {
    "duration": 30,
    "start_time": "2022-10-18T08:21:14.232Z"
   },
   {
    "duration": 126,
    "start_time": "2022-10-18T08:21:14.264Z"
   },
   {
    "duration": 163,
    "start_time": "2022-10-18T08:21:14.392Z"
   },
   {
    "duration": 255,
    "start_time": "2022-10-18T08:21:14.557Z"
   },
   {
    "duration": 72,
    "start_time": "2022-10-18T08:21:14.814Z"
   },
   {
    "duration": 48,
    "start_time": "2022-10-18T08:21:14.889Z"
   },
   {
    "duration": 29,
    "start_time": "2022-10-18T08:21:14.938Z"
   },
   {
    "duration": 44,
    "start_time": "2022-10-18T08:21:14.969Z"
   },
   {
    "duration": 53,
    "start_time": "2022-10-18T08:21:15.015Z"
   },
   {
    "duration": 8,
    "start_time": "2022-10-18T08:21:15.071Z"
   },
   {
    "duration": 12,
    "start_time": "2022-10-18T08:21:15.081Z"
   },
   {
    "duration": 23,
    "start_time": "2022-10-18T08:21:15.095Z"
   },
   {
    "duration": 261,
    "start_time": "2022-10-18T08:21:15.120Z"
   },
   {
    "duration": 231,
    "start_time": "2022-10-18T08:21:15.383Z"
   },
   {
    "duration": 112,
    "start_time": "2022-10-18T08:21:15.616Z"
   },
   {
    "duration": 43,
    "start_time": "2022-10-18T08:21:15.730Z"
   },
   {
    "duration": 193,
    "start_time": "2022-10-18T08:21:15.775Z"
   },
   {
    "duration": 12,
    "start_time": "2022-10-18T08:21:15.969Z"
   },
   {
    "duration": 120,
    "start_time": "2022-10-18T08:21:15.983Z"
   },
   {
    "duration": 12,
    "start_time": "2022-10-18T08:21:16.105Z"
   },
   {
    "duration": 26,
    "start_time": "2022-10-18T08:21:16.118Z"
   },
   {
    "duration": 16,
    "start_time": "2022-10-18T08:21:16.146Z"
   },
   {
    "duration": 22,
    "start_time": "2022-10-18T08:21:16.167Z"
   },
   {
    "duration": 82,
    "start_time": "2022-10-18T08:21:16.190Z"
   },
   {
    "duration": 80,
    "start_time": "2022-10-18T08:21:16.274Z"
   },
   {
    "duration": 3,
    "start_time": "2022-10-18T08:21:16.356Z"
   },
   {
    "duration": 12,
    "start_time": "2022-10-18T08:21:16.361Z"
   },
   {
    "duration": 7,
    "start_time": "2022-10-18T08:21:16.374Z"
   },
   {
    "duration": 12,
    "start_time": "2022-10-18T08:21:16.382Z"
   },
   {
    "duration": 7,
    "start_time": "2022-10-18T08:21:16.395Z"
   },
   {
    "duration": 31119,
    "start_time": "2022-10-18T08:21:16.403Z"
   },
   {
    "duration": 13,
    "start_time": "2022-10-18T08:21:47.524Z"
   },
   {
    "duration": 3,
    "start_time": "2022-10-18T08:21:47.553Z"
   },
   {
    "duration": 26,
    "start_time": "2022-10-18T08:21:47.558Z"
   },
   {
    "duration": 277416,
    "start_time": "2022-10-18T08:21:47.585Z"
   },
   {
    "duration": 128,
    "start_time": "2022-10-18T08:26:25.003Z"
   },
   {
    "duration": 0,
    "start_time": "2022-10-18T08:26:25.132Z"
   },
   {
    "duration": 0,
    "start_time": "2022-10-18T08:26:25.133Z"
   },
   {
    "duration": 1,
    "start_time": "2022-10-18T08:26:25.134Z"
   },
   {
    "duration": 0,
    "start_time": "2022-10-18T08:26:25.136Z"
   },
   {
    "duration": 0,
    "start_time": "2022-10-18T08:26:25.137Z"
   },
   {
    "duration": 0,
    "start_time": "2022-10-18T08:26:25.138Z"
   },
   {
    "duration": 0,
    "start_time": "2022-10-18T08:26:25.139Z"
   },
   {
    "duration": 0,
    "start_time": "2022-10-18T08:26:25.154Z"
   },
   {
    "duration": 0,
    "start_time": "2022-10-18T08:26:25.155Z"
   },
   {
    "duration": 0,
    "start_time": "2022-10-18T08:26:25.156Z"
   },
   {
    "duration": 0,
    "start_time": "2022-10-18T08:26:25.158Z"
   },
   {
    "duration": 0,
    "start_time": "2022-10-18T08:26:25.159Z"
   },
   {
    "duration": 0,
    "start_time": "2022-10-18T08:26:25.160Z"
   },
   {
    "duration": 0,
    "start_time": "2022-10-18T08:26:25.161Z"
   },
   {
    "duration": 0,
    "start_time": "2022-10-18T08:26:25.162Z"
   },
   {
    "duration": 0,
    "start_time": "2022-10-18T08:26:25.163Z"
   },
   {
    "duration": 0,
    "start_time": "2022-10-18T08:26:25.164Z"
   },
   {
    "duration": 0,
    "start_time": "2022-10-18T08:26:25.165Z"
   },
   {
    "duration": 0,
    "start_time": "2022-10-18T08:26:25.166Z"
   },
   {
    "duration": 0,
    "start_time": "2022-10-18T08:26:25.167Z"
   },
   {
    "duration": 0,
    "start_time": "2022-10-18T08:26:25.168Z"
   },
   {
    "duration": 0,
    "start_time": "2022-10-18T08:26:25.170Z"
   },
   {
    "duration": 0,
    "start_time": "2022-10-18T08:26:25.171Z"
   },
   {
    "duration": 0,
    "start_time": "2022-10-18T08:26:25.172Z"
   },
   {
    "duration": 0,
    "start_time": "2022-10-18T08:26:25.173Z"
   },
   {
    "duration": 0,
    "start_time": "2022-10-18T08:26:25.173Z"
   },
   {
    "duration": 0,
    "start_time": "2022-10-18T08:26:25.174Z"
   },
   {
    "duration": 0,
    "start_time": "2022-10-18T08:26:25.175Z"
   },
   {
    "duration": 0,
    "start_time": "2022-10-18T08:26:25.177Z"
   },
   {
    "duration": 0,
    "start_time": "2022-10-18T08:26:25.178Z"
   },
   {
    "duration": 0,
    "start_time": "2022-10-18T08:26:25.179Z"
   },
   {
    "duration": 0,
    "start_time": "2022-10-18T08:26:25.180Z"
   },
   {
    "duration": 0,
    "start_time": "2022-10-18T08:26:25.181Z"
   },
   {
    "duration": 0,
    "start_time": "2022-10-18T08:26:25.183Z"
   },
   {
    "duration": 0,
    "start_time": "2022-10-18T08:26:25.184Z"
   },
   {
    "duration": 0,
    "start_time": "2022-10-18T08:26:25.185Z"
   },
   {
    "duration": 0,
    "start_time": "2022-10-18T08:26:25.186Z"
   },
   {
    "duration": 0,
    "start_time": "2022-10-18T08:26:25.187Z"
   },
   {
    "duration": 0,
    "start_time": "2022-10-18T08:26:25.188Z"
   },
   {
    "duration": 0,
    "start_time": "2022-10-18T08:26:25.190Z"
   },
   {
    "duration": 0,
    "start_time": "2022-10-18T08:26:25.254Z"
   },
   {
    "duration": 0,
    "start_time": "2022-10-18T08:26:25.255Z"
   },
   {
    "duration": 0,
    "start_time": "2022-10-18T08:26:25.256Z"
   },
   {
    "duration": 0,
    "start_time": "2022-10-18T08:26:25.257Z"
   },
   {
    "duration": 0,
    "start_time": "2022-10-18T08:26:25.258Z"
   },
   {
    "duration": 11,
    "start_time": "2022-10-18T08:32:19.454Z"
   },
   {
    "duration": 13,
    "start_time": "2022-10-18T08:32:42.857Z"
   },
   {
    "duration": 3,
    "start_time": "2022-10-18T08:32:49.000Z"
   },
   {
    "duration": 4,
    "start_time": "2022-10-18T08:32:49.993Z"
   },
   {
    "duration": 15,
    "start_time": "2022-10-18T08:32:50.655Z"
   },
   {
    "duration": 1541,
    "start_time": "2022-10-18T08:34:22.889Z"
   },
   {
    "duration": 963,
    "start_time": "2022-10-18T08:34:24.432Z"
   },
   {
    "duration": 136,
    "start_time": "2022-10-18T08:34:25.397Z"
   },
   {
    "duration": 50,
    "start_time": "2022-10-18T08:34:25.536Z"
   },
   {
    "duration": 4,
    "start_time": "2022-10-18T08:34:25.588Z"
   },
   {
    "duration": 141,
    "start_time": "2022-10-18T08:34:25.593Z"
   },
   {
    "duration": 200,
    "start_time": "2022-10-18T08:34:25.736Z"
   },
   {
    "duration": 121,
    "start_time": "2022-10-18T08:34:25.938Z"
   },
   {
    "duration": 229,
    "start_time": "2022-10-18T08:34:26.061Z"
   },
   {
    "duration": 20,
    "start_time": "2022-10-18T08:34:26.293Z"
   },
   {
    "duration": 182,
    "start_time": "2022-10-18T08:34:26.315Z"
   },
   {
    "duration": 169,
    "start_time": "2022-10-18T08:34:26.499Z"
   },
   {
    "duration": 20,
    "start_time": "2022-10-18T08:34:26.670Z"
   },
   {
    "duration": 294,
    "start_time": "2022-10-18T08:34:26.692Z"
   },
   {
    "duration": 189,
    "start_time": "2022-10-18T08:34:26.987Z"
   },
   {
    "duration": 21,
    "start_time": "2022-10-18T08:34:27.178Z"
   },
   {
    "duration": 220,
    "start_time": "2022-10-18T08:34:27.201Z"
   },
   {
    "duration": 244,
    "start_time": "2022-10-18T08:34:27.424Z"
   },
   {
    "duration": 20,
    "start_time": "2022-10-18T08:34:27.670Z"
   },
   {
    "duration": 148,
    "start_time": "2022-10-18T08:34:27.692Z"
   },
   {
    "duration": 178,
    "start_time": "2022-10-18T08:34:27.842Z"
   },
   {
    "duration": 270,
    "start_time": "2022-10-18T08:34:28.022Z"
   },
   {
    "duration": 68,
    "start_time": "2022-10-18T08:34:28.294Z"
   },
   {
    "duration": 52,
    "start_time": "2022-10-18T08:34:28.365Z"
   },
   {
    "duration": 19,
    "start_time": "2022-10-18T08:34:28.419Z"
   },
   {
    "duration": 51,
    "start_time": "2022-10-18T08:34:28.454Z"
   },
   {
    "duration": 25,
    "start_time": "2022-10-18T08:34:28.507Z"
   },
   {
    "duration": 7,
    "start_time": "2022-10-18T08:34:28.555Z"
   },
   {
    "duration": 20,
    "start_time": "2022-10-18T08:34:28.563Z"
   },
   {
    "duration": 23,
    "start_time": "2022-10-18T08:34:28.585Z"
   },
   {
    "duration": 248,
    "start_time": "2022-10-18T08:34:28.610Z"
   },
   {
    "duration": 219,
    "start_time": "2022-10-18T08:34:28.860Z"
   },
   {
    "duration": 122,
    "start_time": "2022-10-18T08:34:29.082Z"
   },
   {
    "duration": 54,
    "start_time": "2022-10-18T08:34:29.206Z"
   },
   {
    "duration": 204,
    "start_time": "2022-10-18T08:34:29.262Z"
   },
   {
    "duration": 14,
    "start_time": "2022-10-18T08:34:29.467Z"
   },
   {
    "duration": 23,
    "start_time": "2022-10-18T08:34:29.483Z"
   },
   {
    "duration": 13,
    "start_time": "2022-10-18T08:34:29.508Z"
   },
   {
    "duration": 48,
    "start_time": "2022-10-18T08:34:29.523Z"
   },
   {
    "duration": 25,
    "start_time": "2022-10-18T08:34:29.573Z"
   },
   {
    "duration": 24,
    "start_time": "2022-10-18T08:34:29.600Z"
   },
   {
    "duration": 89,
    "start_time": "2022-10-18T08:34:29.627Z"
   },
   {
    "duration": 90,
    "start_time": "2022-10-18T08:34:29.718Z"
   },
   {
    "duration": 3,
    "start_time": "2022-10-18T08:34:29.810Z"
   },
   {
    "duration": 23,
    "start_time": "2022-10-18T08:34:29.814Z"
   },
   {
    "duration": 9,
    "start_time": "2022-10-18T08:34:29.838Z"
   },
   {
    "duration": 13,
    "start_time": "2022-10-18T08:34:29.849Z"
   },
   {
    "duration": 12,
    "start_time": "2022-10-18T08:34:29.863Z"
   },
   {
    "duration": 33346,
    "start_time": "2022-10-18T08:34:29.877Z"
   },
   {
    "duration": 16,
    "start_time": "2022-10-18T08:35:03.225Z"
   },
   {
    "duration": 20,
    "start_time": "2022-10-18T08:35:03.243Z"
   },
   {
    "duration": 24,
    "start_time": "2022-10-18T08:35:03.265Z"
   },
   {
    "duration": 283227,
    "start_time": "2022-10-18T08:35:03.291Z"
   },
   {
    "duration": 14,
    "start_time": "2022-10-18T08:39:46.521Z"
   },
   {
    "duration": 3,
    "start_time": "2022-10-18T08:39:46.555Z"
   },
   {
    "duration": 126,
    "start_time": "2022-10-18T08:39:46.560Z"
   },
   {
    "duration": 0,
    "start_time": "2022-10-18T08:39:46.688Z"
   },
   {
    "duration": 0,
    "start_time": "2022-10-18T08:39:46.690Z"
   },
   {
    "duration": 0,
    "start_time": "2022-10-18T08:39:46.691Z"
   },
   {
    "duration": 0,
    "start_time": "2022-10-18T08:39:46.693Z"
   },
   {
    "duration": 0,
    "start_time": "2022-10-18T08:39:46.694Z"
   },
   {
    "duration": 0,
    "start_time": "2022-10-18T08:39:46.696Z"
   },
   {
    "duration": 0,
    "start_time": "2022-10-18T08:39:46.697Z"
   },
   {
    "duration": 0,
    "start_time": "2022-10-18T08:39:46.698Z"
   },
   {
    "duration": 0,
    "start_time": "2022-10-18T08:39:46.700Z"
   },
   {
    "duration": 0,
    "start_time": "2022-10-18T08:39:46.701Z"
   },
   {
    "duration": 0,
    "start_time": "2022-10-18T08:39:46.703Z"
   },
   {
    "duration": 0,
    "start_time": "2022-10-18T08:39:46.704Z"
   },
   {
    "duration": 0,
    "start_time": "2022-10-18T08:39:46.706Z"
   },
   {
    "duration": 0,
    "start_time": "2022-10-18T08:39:46.707Z"
   },
   {
    "duration": 0,
    "start_time": "2022-10-18T08:39:46.708Z"
   },
   {
    "duration": 0,
    "start_time": "2022-10-18T08:39:46.709Z"
   },
   {
    "duration": 0,
    "start_time": "2022-10-18T08:39:46.711Z"
   },
   {
    "duration": 0,
    "start_time": "2022-10-18T08:39:46.754Z"
   },
   {
    "duration": 0,
    "start_time": "2022-10-18T08:39:46.755Z"
   },
   {
    "duration": 0,
    "start_time": "2022-10-18T08:39:46.757Z"
   },
   {
    "duration": 0,
    "start_time": "2022-10-18T08:39:46.758Z"
   },
   {
    "duration": 0,
    "start_time": "2022-10-18T08:39:46.759Z"
   },
   {
    "duration": 0,
    "start_time": "2022-10-18T08:39:46.760Z"
   },
   {
    "duration": 0,
    "start_time": "2022-10-18T08:39:46.761Z"
   },
   {
    "duration": 0,
    "start_time": "2022-10-18T08:39:46.762Z"
   },
   {
    "duration": 0,
    "start_time": "2022-10-18T08:39:46.763Z"
   },
   {
    "duration": 0,
    "start_time": "2022-10-18T08:39:46.765Z"
   },
   {
    "duration": 0,
    "start_time": "2022-10-18T08:39:46.770Z"
   },
   {
    "duration": 0,
    "start_time": "2022-10-18T08:39:46.771Z"
   },
   {
    "duration": 0,
    "start_time": "2022-10-18T08:39:46.772Z"
   },
   {
    "duration": 0,
    "start_time": "2022-10-18T08:39:46.774Z"
   },
   {
    "duration": 0,
    "start_time": "2022-10-18T08:39:46.775Z"
   },
   {
    "duration": 0,
    "start_time": "2022-10-18T08:39:46.777Z"
   },
   {
    "duration": 0,
    "start_time": "2022-10-18T08:39:46.778Z"
   },
   {
    "duration": 0,
    "start_time": "2022-10-18T08:39:46.780Z"
   },
   {
    "duration": 0,
    "start_time": "2022-10-18T08:39:46.781Z"
   },
   {
    "duration": 0,
    "start_time": "2022-10-18T08:39:46.783Z"
   },
   {
    "duration": 0,
    "start_time": "2022-10-18T08:39:46.784Z"
   },
   {
    "duration": 0,
    "start_time": "2022-10-18T08:39:46.786Z"
   },
   {
    "duration": 0,
    "start_time": "2022-10-18T08:39:46.787Z"
   },
   {
    "duration": 0,
    "start_time": "2022-10-18T08:39:46.789Z"
   },
   {
    "duration": 0,
    "start_time": "2022-10-18T08:39:46.791Z"
   },
   {
    "duration": 0,
    "start_time": "2022-10-18T08:39:46.792Z"
   },
   {
    "duration": 10,
    "start_time": "2022-10-18T08:40:50.246Z"
   },
   {
    "duration": 41,
    "start_time": "2022-10-18T08:43:32.506Z"
   },
   {
    "duration": 67621,
    "start_time": "2022-10-18T08:44:31.145Z"
   },
   {
    "duration": 12,
    "start_time": "2022-10-18T08:50:07.207Z"
   },
   {
    "duration": 3,
    "start_time": "2022-10-18T08:50:13.042Z"
   },
   {
    "duration": 11,
    "start_time": "2022-10-18T08:50:13.656Z"
   },
   {
    "duration": 68,
    "start_time": "2022-10-18T08:50:39.690Z"
   },
   {
    "duration": 4,
    "start_time": "2022-10-18T08:53:58.498Z"
   },
   {
    "duration": 15,
    "start_time": "2022-10-18T08:54:04.201Z"
   },
   {
    "duration": 3,
    "start_time": "2022-10-18T08:58:08.820Z"
   },
   {
    "duration": 72109,
    "start_time": "2022-10-18T08:58:09.624Z"
   },
   {
    "duration": 11,
    "start_time": "2022-10-18T08:59:21.734Z"
   },
   {
    "duration": 55,
    "start_time": "2022-10-18T09:07:20.932Z"
   },
   {
    "duration": 11,
    "start_time": "2022-10-18T09:07:29.367Z"
   },
   {
    "duration": 11,
    "start_time": "2022-10-18T09:09:03.222Z"
   },
   {
    "duration": 3,
    "start_time": "2022-10-18T11:46:16.267Z"
   },
   {
    "duration": 4,
    "start_time": "2022-10-18T11:47:57.703Z"
   },
   {
    "duration": 1562,
    "start_time": "2022-10-18T11:52:02.095Z"
   },
   {
    "duration": 907,
    "start_time": "2022-10-18T11:52:03.660Z"
   },
   {
    "duration": 148,
    "start_time": "2022-10-18T11:52:04.569Z"
   },
   {
    "duration": 50,
    "start_time": "2022-10-18T11:52:04.720Z"
   },
   {
    "duration": 3,
    "start_time": "2022-10-18T11:52:04.773Z"
   },
   {
    "duration": 151,
    "start_time": "2022-10-18T11:52:04.778Z"
   },
   {
    "duration": 206,
    "start_time": "2022-10-18T11:52:04.930Z"
   },
   {
    "duration": 142,
    "start_time": "2022-10-18T11:52:05.138Z"
   },
   {
    "duration": 257,
    "start_time": "2022-10-18T11:52:05.283Z"
   },
   {
    "duration": 24,
    "start_time": "2022-10-18T11:52:05.544Z"
   },
   {
    "duration": 207,
    "start_time": "2022-10-18T11:52:05.570Z"
   },
   {
    "duration": 176,
    "start_time": "2022-10-18T11:52:05.778Z"
   },
   {
    "duration": 19,
    "start_time": "2022-10-18T11:52:05.956Z"
   },
   {
    "duration": 295,
    "start_time": "2022-10-18T11:52:05.977Z"
   },
   {
    "duration": 202,
    "start_time": "2022-10-18T11:52:06.274Z"
   },
   {
    "duration": 23,
    "start_time": "2022-10-18T11:52:06.479Z"
   },
   {
    "duration": 228,
    "start_time": "2022-10-18T11:52:06.504Z"
   },
   {
    "duration": 236,
    "start_time": "2022-10-18T11:52:06.733Z"
   },
   {
    "duration": 19,
    "start_time": "2022-10-18T11:52:06.970Z"
   },
   {
    "duration": 132,
    "start_time": "2022-10-18T11:52:06.991Z"
   },
   {
    "duration": 170,
    "start_time": "2022-10-18T11:52:07.124Z"
   },
   {
    "duration": 262,
    "start_time": "2022-10-18T11:52:07.296Z"
   },
   {
    "duration": 67,
    "start_time": "2022-10-18T11:52:07.560Z"
   },
   {
    "duration": 82,
    "start_time": "2022-10-18T11:52:07.629Z"
   },
   {
    "duration": 22,
    "start_time": "2022-10-18T11:52:07.714Z"
   },
   {
    "duration": 78,
    "start_time": "2022-10-18T11:52:07.739Z"
   },
   {
    "duration": 44,
    "start_time": "2022-10-18T11:52:07.820Z"
   },
   {
    "duration": 10,
    "start_time": "2022-10-18T11:52:07.870Z"
   },
   {
    "duration": 6,
    "start_time": "2022-10-18T11:52:07.882Z"
   },
   {
    "duration": 44,
    "start_time": "2022-10-18T11:52:07.890Z"
   },
   {
    "duration": 276,
    "start_time": "2022-10-18T11:52:07.936Z"
   },
   {
    "duration": 209,
    "start_time": "2022-10-18T11:52:08.214Z"
   },
   {
    "duration": 152,
    "start_time": "2022-10-18T11:52:08.424Z"
   },
   {
    "duration": 125,
    "start_time": "2022-10-18T11:52:08.578Z"
   },
   {
    "duration": 212,
    "start_time": "2022-10-18T11:52:08.706Z"
   },
   {
    "duration": 14,
    "start_time": "2022-10-18T11:52:08.920Z"
   },
   {
    "duration": 32,
    "start_time": "2022-10-18T11:52:08.936Z"
   },
   {
    "duration": 15,
    "start_time": "2022-10-18T11:52:08.970Z"
   },
   {
    "duration": 34,
    "start_time": "2022-10-18T11:52:08.987Z"
   },
   {
    "duration": 50,
    "start_time": "2022-10-18T11:52:09.024Z"
   },
   {
    "duration": 29,
    "start_time": "2022-10-18T11:52:09.076Z"
   },
   {
    "duration": 86,
    "start_time": "2022-10-18T11:52:09.106Z"
   },
   {
    "duration": 99,
    "start_time": "2022-10-18T11:52:09.195Z"
   },
   {
    "duration": 3,
    "start_time": "2022-10-18T11:52:09.296Z"
   },
   {
    "duration": 7,
    "start_time": "2022-10-18T11:52:09.300Z"
   },
   {
    "duration": 6,
    "start_time": "2022-10-18T11:52:09.309Z"
   },
   {
    "duration": 15,
    "start_time": "2022-10-18T11:52:09.316Z"
   },
   {
    "duration": 3,
    "start_time": "2022-10-18T11:52:09.335Z"
   },
   {
    "duration": 31076,
    "start_time": "2022-10-18T11:52:09.353Z"
   },
   {
    "duration": 14,
    "start_time": "2022-10-18T11:52:40.430Z"
   },
   {
    "duration": 12,
    "start_time": "2022-10-18T11:52:40.446Z"
   },
   {
    "duration": 18,
    "start_time": "2022-10-18T11:52:40.461Z"
   },
   {
    "duration": 5,
    "start_time": "2022-10-18T11:52:40.481Z"
   },
   {
    "duration": 4083537,
    "start_time": "2022-10-18T11:52:40.488Z"
   },
   {
    "duration": 3,
    "start_time": "2022-10-18T13:00:44.027Z"
   },
   {
    "duration": 12,
    "start_time": "2022-10-18T13:00:44.031Z"
   },
   {
    "duration": 30,
    "start_time": "2022-10-18T13:00:44.045Z"
   },
   {
    "duration": 135,
    "start_time": "2022-10-18T13:00:44.077Z"
   },
   {
    "duration": 0,
    "start_time": "2022-10-18T13:00:44.215Z"
   },
   {
    "duration": 0,
    "start_time": "2022-10-18T13:00:44.216Z"
   },
   {
    "duration": 0,
    "start_time": "2022-10-18T13:00:44.217Z"
   },
   {
    "duration": 0,
    "start_time": "2022-10-18T13:00:44.218Z"
   },
   {
    "duration": 0,
    "start_time": "2022-10-18T13:00:44.219Z"
   },
   {
    "duration": 0,
    "start_time": "2022-10-18T13:00:44.220Z"
   },
   {
    "duration": 0,
    "start_time": "2022-10-18T13:00:44.222Z"
   },
   {
    "duration": 0,
    "start_time": "2022-10-18T13:00:44.224Z"
   },
   {
    "duration": 0,
    "start_time": "2022-10-18T13:00:44.225Z"
   },
   {
    "duration": 0,
    "start_time": "2022-10-18T13:00:44.226Z"
   },
   {
    "duration": 0,
    "start_time": "2022-10-18T13:00:44.254Z"
   },
   {
    "duration": 0,
    "start_time": "2022-10-18T13:00:44.256Z"
   },
   {
    "duration": 0,
    "start_time": "2022-10-18T13:00:44.257Z"
   },
   {
    "duration": 0,
    "start_time": "2022-10-18T13:00:44.259Z"
   },
   {
    "duration": 0,
    "start_time": "2022-10-18T13:00:44.261Z"
   },
   {
    "duration": 0,
    "start_time": "2022-10-18T13:00:44.262Z"
   },
   {
    "duration": 0,
    "start_time": "2022-10-18T13:00:44.263Z"
   },
   {
    "duration": 0,
    "start_time": "2022-10-18T13:00:44.264Z"
   },
   {
    "duration": 0,
    "start_time": "2022-10-18T13:00:44.265Z"
   },
   {
    "duration": 0,
    "start_time": "2022-10-18T13:00:44.265Z"
   },
   {
    "duration": 0,
    "start_time": "2022-10-18T13:00:44.266Z"
   },
   {
    "duration": 0,
    "start_time": "2022-10-18T13:00:44.267Z"
   },
   {
    "duration": 0,
    "start_time": "2022-10-18T13:00:44.268Z"
   },
   {
    "duration": 1,
    "start_time": "2022-10-18T13:00:44.269Z"
   },
   {
    "duration": 0,
    "start_time": "2022-10-18T13:00:44.270Z"
   },
   {
    "duration": 0,
    "start_time": "2022-10-18T13:00:44.271Z"
   },
   {
    "duration": 0,
    "start_time": "2022-10-18T13:00:44.272Z"
   },
   {
    "duration": 0,
    "start_time": "2022-10-18T13:00:44.273Z"
   },
   {
    "duration": 0,
    "start_time": "2022-10-18T13:00:44.275Z"
   },
   {
    "duration": 0,
    "start_time": "2022-10-18T13:00:44.276Z"
   },
   {
    "duration": 0,
    "start_time": "2022-10-18T13:00:44.276Z"
   },
   {
    "duration": 0,
    "start_time": "2022-10-18T13:00:44.277Z"
   },
   {
    "duration": 0,
    "start_time": "2022-10-18T13:00:44.278Z"
   },
   {
    "duration": 0,
    "start_time": "2022-10-18T13:00:44.279Z"
   },
   {
    "duration": 0,
    "start_time": "2022-10-18T13:00:44.281Z"
   },
   {
    "duration": 0,
    "start_time": "2022-10-18T13:00:44.282Z"
   },
   {
    "duration": 0,
    "start_time": "2022-10-18T13:00:44.283Z"
   },
   {
    "duration": 0,
    "start_time": "2022-10-18T13:00:44.284Z"
   },
   {
    "duration": 0,
    "start_time": "2022-10-18T13:00:44.285Z"
   },
   {
    "duration": 0,
    "start_time": "2022-10-18T13:00:44.286Z"
   },
   {
    "duration": 0,
    "start_time": "2022-10-18T13:00:44.287Z"
   },
   {
    "duration": 3,
    "start_time": "2022-10-18T17:24:28.260Z"
   },
   {
    "duration": 4,
    "start_time": "2022-10-18T17:24:31.738Z"
   },
   {
    "duration": 2301549,
    "start_time": "2022-10-18T17:24:34.210Z"
   },
   {
    "duration": 3,
    "start_time": "2022-10-18T18:02:55.762Z"
   },
   {
    "duration": 7,
    "start_time": "2022-10-18T18:02:55.767Z"
   },
   {
    "duration": 3,
    "start_time": "2022-10-18T18:02:55.778Z"
   },
   {
    "duration": 6,
    "start_time": "2022-10-18T18:02:55.794Z"
   },
   {
    "duration": 4,
    "start_time": "2022-10-18T18:06:38.218Z"
   },
   {
    "duration": 15,
    "start_time": "2022-10-18T18:06:38.991Z"
   },
   {
    "duration": 88,
    "start_time": "2022-10-18T18:11:17.485Z"
   },
   {
    "duration": 20,
    "start_time": "2022-10-18T18:11:21.108Z"
   },
   {
    "duration": 3,
    "start_time": "2022-10-18T18:11:23.464Z"
   },
   {
    "duration": 3,
    "start_time": "2022-10-18T18:11:24.839Z"
   },
   {
    "duration": 21,
    "start_time": "2022-10-18T18:11:25.465Z"
   },
   {
    "duration": 78,
    "start_time": "2022-10-18T18:11:26.382Z"
   },
   {
    "duration": 3,
    "start_time": "2022-10-18T18:11:26.978Z"
   },
   {
    "duration": 3,
    "start_time": "2022-10-18T18:11:29.642Z"
   },
   {
    "duration": 3,
    "start_time": "2022-10-18T18:12:22.732Z"
   },
   {
    "duration": 226,
    "start_time": "2022-10-18T18:12:24.008Z"
   },
   {
    "duration": 78,
    "start_time": "2022-10-18T18:12:25.209Z"
   },
   {
    "duration": 4,
    "start_time": "2022-10-18T18:12:26.227Z"
   },
   {
    "duration": 3,
    "start_time": "2022-10-18T18:12:27.382Z"
   },
   {
    "duration": 529053,
    "start_time": "2022-10-18T18:12:30.564Z"
   },
   {
    "duration": 14,
    "start_time": "2022-10-18T18:23:21.025Z"
   },
   {
    "duration": 4,
    "start_time": "2022-10-18T18:23:25.626Z"
   },
   {
    "duration": 4,
    "start_time": "2022-10-18T18:23:27.137Z"
   },
   {
    "duration": 10,
    "start_time": "2022-10-18T18:23:29.804Z"
   },
   {
    "duration": 3,
    "start_time": "2022-10-18T18:23:33.208Z"
   },
   {
    "duration": 4,
    "start_time": "2022-10-18T18:24:02.084Z"
   },
   {
    "duration": 47,
    "start_time": "2022-10-18T18:25:38.909Z"
   },
   {
    "duration": 1706,
    "start_time": "2022-10-18T18:26:02.090Z"
   },
   {
    "duration": 80,
    "start_time": "2022-10-18T18:26:16.814Z"
   },
   {
    "duration": 11,
    "start_time": "2022-10-18T18:26:35.848Z"
   },
   {
    "duration": 12,
    "start_time": "2022-10-18T18:26:43.489Z"
   },
   {
    "duration": 3,
    "start_time": "2022-10-18T18:26:46.298Z"
   },
   {
    "duration": 12,
    "start_time": "2022-10-18T18:26:47.106Z"
   },
   {
    "duration": 11,
    "start_time": "2022-10-18T18:26:55.370Z"
   },
   {
    "duration": 5,
    "start_time": "2022-10-18T18:27:02.649Z"
   },
   {
    "duration": 1136,
    "start_time": "2022-10-18T18:27:04.298Z"
   },
   {
    "duration": 12,
    "start_time": "2022-10-18T18:27:27.079Z"
   },
   {
    "duration": 2,
    "start_time": "2022-10-18T18:27:30.006Z"
   },
   {
    "duration": 125,
    "start_time": "2022-10-18T18:27:33.491Z"
   },
   {
    "duration": 58,
    "start_time": "2022-10-18T18:27:37.647Z"
   },
   {
    "duration": 2,
    "start_time": "2022-10-18T18:27:38.308Z"
   },
   {
    "duration": 4,
    "start_time": "2022-10-18T18:27:38.760Z"
   },
   {
    "duration": 44,
    "start_time": "2022-10-18T18:27:39.170Z"
   },
   {
    "duration": 181,
    "start_time": "2022-10-18T18:27:39.530Z"
   },
   {
    "duration": 3,
    "start_time": "2022-10-18T18:27:39.897Z"
   },
   {
    "duration": 3,
    "start_time": "2022-10-18T18:27:40.307Z"
   },
   {
    "duration": 1646,
    "start_time": "2022-10-18T18:27:44.463Z"
   },
   {
    "duration": 0,
    "start_time": "2022-10-18T18:27:46.111Z"
   },
   {
    "duration": 1838,
    "start_time": "2022-10-18T18:27:49.088Z"
   },
   {
    "duration": 4,
    "start_time": "2022-10-18T18:35:41.577Z"
   },
   {
    "duration": 3621,
    "start_time": "2022-10-18T18:35:44.154Z"
   },
   {
    "duration": 120,
    "start_time": "2022-10-18T18:35:52.503Z"
   },
   {
    "duration": 18,
    "start_time": "2022-10-18T18:35:55.216Z"
   },
   {
    "duration": 102,
    "start_time": "2022-10-18T18:36:06.422Z"
   },
   {
    "duration": 3,
    "start_time": "2022-10-18T18:36:27.370Z"
   },
   {
    "duration": 3,
    "start_time": "2022-10-18T18:36:28.201Z"
   },
   {
    "duration": 17,
    "start_time": "2022-10-18T18:36:28.790Z"
   },
   {
    "duration": 186,
    "start_time": "2022-10-18T18:36:29.292Z"
   },
   {
    "duration": 3,
    "start_time": "2022-10-18T18:36:29.939Z"
   },
   {
    "duration": 4,
    "start_time": "2022-10-18T18:36:30.505Z"
   },
   {
    "duration": 2,
    "start_time": "2022-10-18T18:36:54.922Z"
   },
   {
    "duration": 3044,
    "start_time": "2022-10-18T18:36:55.758Z"
   },
   {
    "duration": 101,
    "start_time": "2022-10-18T18:37:44.217Z"
   },
   {
    "duration": 3,
    "start_time": "2022-10-18T18:37:47.245Z"
   },
   {
    "duration": 3,
    "start_time": "2022-10-18T18:37:47.872Z"
   },
   {
    "duration": 20,
    "start_time": "2022-10-18T18:37:48.574Z"
   },
   {
    "duration": 192,
    "start_time": "2022-10-18T18:37:49.148Z"
   },
   {
    "duration": 3,
    "start_time": "2022-10-18T18:37:49.664Z"
   },
   {
    "duration": 2,
    "start_time": "2022-10-18T18:37:50.154Z"
   },
   {
    "duration": 2,
    "start_time": "2022-10-18T18:37:53.076Z"
   },
   {
    "duration": 2834,
    "start_time": "2022-10-18T18:37:53.604Z"
   },
   {
    "duration": 2327,
    "start_time": "2022-10-18T18:38:01.075Z"
   },
   {
    "duration": 27,
    "start_time": "2022-10-18T18:39:21.974Z"
   },
   {
    "duration": 3,
    "start_time": "2022-10-18T18:39:30.320Z"
   },
   {
    "duration": 3808,
    "start_time": "2022-10-18T18:39:30.917Z"
   },
   {
    "duration": 69,
    "start_time": "2022-10-18T18:39:34.853Z"
   },
   {
    "duration": 3,
    "start_time": "2022-10-18T18:39:38.014Z"
   },
   {
    "duration": 3,
    "start_time": "2022-10-18T18:39:38.487Z"
   },
   {
    "duration": 27,
    "start_time": "2022-10-18T18:39:38.865Z"
   },
   {
    "duration": 93,
    "start_time": "2022-10-18T18:39:39.214Z"
   },
   {
    "duration": 3,
    "start_time": "2022-10-18T18:39:43.059Z"
   },
   {
    "duration": 3,
    "start_time": "2022-10-18T18:39:43.543Z"
   },
   {
    "duration": 3,
    "start_time": "2022-10-18T18:39:46.208Z"
   },
   {
    "duration": 1655,
    "start_time": "2022-10-18T18:39:46.932Z"
   },
   {
    "duration": 1956,
    "start_time": "2022-10-18T18:39:55.791Z"
   },
   {
    "duration": 3,
    "start_time": "2022-10-18T18:40:12.570Z"
   },
   {
    "duration": 10,
    "start_time": "2022-10-18T18:40:22.890Z"
   },
   {
    "duration": 10,
    "start_time": "2022-10-18T18:40:26.036Z"
   },
   {
    "duration": 10,
    "start_time": "2022-10-18T18:40:34.848Z"
   },
   {
    "duration": 754,
    "start_time": "2022-10-18T18:45:35.304Z"
   },
   {
    "duration": 113,
    "start_time": "2022-10-18T18:45:36.815Z"
   },
   {
    "duration": 35,
    "start_time": "2022-10-18T18:45:41.471Z"
   },
   {
    "duration": 3,
    "start_time": "2022-10-18T18:45:44.949Z"
   },
   {
    "duration": 117,
    "start_time": "2022-10-18T18:45:49.074Z"
   },
   {
    "duration": 153,
    "start_time": "2022-10-18T18:45:51.852Z"
   },
   {
    "duration": 115,
    "start_time": "2022-10-18T18:45:55.315Z"
   },
   {
    "duration": 204,
    "start_time": "2022-10-18T18:46:02.587Z"
   },
   {
    "duration": 16,
    "start_time": "2022-10-18T18:46:05.260Z"
   },
   {
    "duration": 150,
    "start_time": "2022-10-18T18:46:07.546Z"
   },
   {
    "duration": 162,
    "start_time": "2022-10-18T18:46:09.899Z"
   },
   {
    "duration": 18,
    "start_time": "2022-10-18T18:46:12.193Z"
   },
   {
    "duration": 241,
    "start_time": "2022-10-18T18:46:12.956Z"
   },
   {
    "duration": 119,
    "start_time": "2022-10-18T18:46:15.467Z"
   },
   {
    "duration": 19,
    "start_time": "2022-10-18T18:46:16.670Z"
   },
   {
    "duration": 231,
    "start_time": "2022-10-18T18:46:18.532Z"
   },
   {
    "duration": 227,
    "start_time": "2022-10-18T18:46:20.660Z"
   },
   {
    "duration": 18,
    "start_time": "2022-10-18T18:46:23.147Z"
   },
   {
    "duration": 115,
    "start_time": "2022-10-18T18:46:25.426Z"
   },
   {
    "duration": 132,
    "start_time": "2022-10-18T18:46:27.963Z"
   },
   {
    "duration": 236,
    "start_time": "2022-10-18T18:46:30.831Z"
   },
   {
    "duration": 52,
    "start_time": "2022-10-18T18:46:33.696Z"
   },
   {
    "duration": 53,
    "start_time": "2022-10-18T18:46:35.050Z"
   },
   {
    "duration": 19,
    "start_time": "2022-10-18T18:46:36.046Z"
   },
   {
    "duration": 54,
    "start_time": "2022-10-18T18:46:38.338Z"
   },
   {
    "duration": 192,
    "start_time": "2022-10-18T18:46:55.654Z"
   },
   {
    "duration": 25,
    "start_time": "2022-10-18T18:47:05.830Z"
   },
   {
    "duration": 41,
    "start_time": "2022-10-18T18:47:06.351Z"
   },
   {
    "duration": 24,
    "start_time": "2022-10-18T18:47:07.557Z"
   },
   {
    "duration": 40,
    "start_time": "2022-10-18T18:47:08.056Z"
   },
   {
    "duration": 29,
    "start_time": "2022-10-18T18:47:10.225Z"
   },
   {
    "duration": 34,
    "start_time": "2022-10-18T18:47:10.787Z"
   },
   {
    "duration": 194,
    "start_time": "2022-10-18T18:47:11.265Z"
   },
   {
    "duration": 195,
    "start_time": "2022-10-18T18:47:11.667Z"
   },
   {
    "duration": 107,
    "start_time": "2022-10-18T18:47:29.296Z"
   },
   {
    "duration": 53,
    "start_time": "2022-10-18T18:47:50.395Z"
   },
   {
    "duration": 3,
    "start_time": "2022-10-18T18:47:51.301Z"
   },
   {
    "duration": 3,
    "start_time": "2022-10-18T18:47:51.891Z"
   },
   {
    "duration": 29,
    "start_time": "2022-10-18T18:47:52.352Z"
   },
   {
    "duration": 166,
    "start_time": "2022-10-18T18:47:54.032Z"
   },
   {
    "duration": 3,
    "start_time": "2022-10-18T18:47:54.482Z"
   },
   {
    "duration": 2,
    "start_time": "2022-10-18T18:47:54.924Z"
   },
   {
    "duration": 3,
    "start_time": "2022-10-18T18:47:57.280Z"
   },
   {
    "duration": 233,
    "start_time": "2022-10-18T18:47:57.929Z"
   },
   {
    "duration": 74,
    "start_time": "2022-10-18T18:48:00.519Z"
   },
   {
    "duration": 3,
    "start_time": "2022-10-18T18:48:01.834Z"
   },
   {
    "duration": 3,
    "start_time": "2022-10-18T18:48:06.335Z"
   },
   {
    "duration": 531143,
    "start_time": "2022-10-18T18:48:09.636Z"
   },
   {
    "duration": 14,
    "start_time": "2022-10-18T19:01:53.067Z"
   },
   {
    "duration": 4,
    "start_time": "2022-10-18T19:01:56.940Z"
   },
   {
    "duration": 3,
    "start_time": "2022-10-18T19:01:57.612Z"
   },
   {
    "duration": 10,
    "start_time": "2022-10-18T19:02:00.392Z"
   },
   {
    "duration": 2,
    "start_time": "2022-10-18T19:02:02.924Z"
   },
   {
    "duration": 3,
    "start_time": "2022-10-18T19:02:09.179Z"
   },
   {
    "duration": 56,
    "start_time": "2022-10-18T19:03:18.655Z"
   },
   {
    "duration": 1620,
    "start_time": "2022-10-18T19:08:37.271Z"
   },
   {
    "duration": 1152,
    "start_time": "2022-10-18T19:08:38.893Z"
   },
   {
    "duration": 116,
    "start_time": "2022-10-18T19:08:40.047Z"
   },
   {
    "duration": 28,
    "start_time": "2022-10-18T19:08:43.868Z"
   },
   {
    "duration": 3,
    "start_time": "2022-10-18T19:08:47.069Z"
   },
   {
    "duration": 120,
    "start_time": "2022-10-18T19:08:47.496Z"
   },
   {
    "duration": 188,
    "start_time": "2022-10-18T19:08:50.567Z"
   },
   {
    "duration": 108,
    "start_time": "2022-10-18T19:08:52.466Z"
   },
   {
    "duration": 179,
    "start_time": "2022-10-18T19:08:59.944Z"
   },
   {
    "duration": 60,
    "start_time": "2022-10-18T19:09:09.533Z"
   },
   {
    "duration": 51,
    "start_time": "2022-10-18T19:09:10.341Z"
   },
   {
    "duration": 51,
    "start_time": "2022-10-18T19:09:13.283Z"
   },
   {
    "duration": 45,
    "start_time": "2022-10-18T19:09:21.322Z"
   },
   {
    "duration": 14,
    "start_time": "2022-10-18T19:09:27.395Z"
   },
   {
    "duration": 21,
    "start_time": "2022-10-18T19:09:27.749Z"
   },
   {
    "duration": 15,
    "start_time": "2022-10-18T19:09:28.058Z"
   },
   {
    "duration": 27,
    "start_time": "2022-10-18T19:09:28.386Z"
   },
   {
    "duration": 16,
    "start_time": "2022-10-18T19:09:28.701Z"
   },
   {
    "duration": 24,
    "start_time": "2022-10-18T19:09:29.001Z"
   },
   {
    "duration": 79,
    "start_time": "2022-10-18T19:09:29.365Z"
   },
   {
    "duration": 84,
    "start_time": "2022-10-18T19:09:29.696Z"
   },
   {
    "duration": 82,
    "start_time": "2022-10-18T19:09:45.486Z"
   },
   {
    "duration": 28,
    "start_time": "2022-10-18T19:09:46.438Z"
   },
   {
    "duration": 3,
    "start_time": "2022-10-18T19:09:47.024Z"
   },
   {
    "duration": 3,
    "start_time": "2022-10-18T19:09:47.453Z"
   },
   {
    "duration": 23,
    "start_time": "2022-10-18T19:09:47.816Z"
   },
   {
    "duration": 76,
    "start_time": "2022-10-18T19:09:48.232Z"
   },
   {
    "duration": 3,
    "start_time": "2022-10-18T19:09:51.186Z"
   },
   {
    "duration": 3,
    "start_time": "2022-10-18T19:09:51.578Z"
   },
   {
    "duration": 3,
    "start_time": "2022-10-18T19:09:54.123Z"
   },
   {
    "duration": 228,
    "start_time": "2022-10-18T19:09:56.770Z"
   },
   {
    "duration": 79,
    "start_time": "2022-10-18T19:09:57.234Z"
   },
   {
    "duration": 3,
    "start_time": "2022-10-18T19:09:58.707Z"
   },
   {
    "duration": 3,
    "start_time": "2022-10-18T19:09:59.289Z"
   },
   {
    "duration": 3,
    "start_time": "2022-10-18T19:10:07.630Z"
   },
   {
    "duration": 3888,
    "start_time": "2022-10-18T19:10:09.605Z"
   },
   {
    "duration": 3,
    "start_time": "2022-10-18T19:10:37.282Z"
   },
   {
    "duration": 17,
    "start_time": "2022-10-18T19:10:38.005Z"
   },
   {
    "duration": 63,
    "start_time": "2022-10-18T19:10:38.409Z"
   },
   {
    "duration": 3,
    "start_time": "2022-10-18T19:10:38.783Z"
   },
   {
    "duration": 3,
    "start_time": "2022-10-18T19:10:39.120Z"
   },
   {
    "duration": 61,
    "start_time": "2022-10-18T19:10:42.048Z"
   },
   {
    "duration": 2,
    "start_time": "2022-10-18T19:10:48.830Z"
   },
   {
    "duration": 3407,
    "start_time": "2022-10-18T19:10:49.584Z"
   },
   {
    "duration": 3,
    "start_time": "2022-10-18T19:13:20.163Z"
   },
   {
    "duration": 219,
    "start_time": "2022-10-18T19:13:20.553Z"
   },
   {
    "duration": 71,
    "start_time": "2022-10-18T19:13:20.941Z"
   },
   {
    "duration": 4,
    "start_time": "2022-10-18T19:13:21.490Z"
   },
   {
    "duration": 3,
    "start_time": "2022-10-18T19:13:21.950Z"
   },
   {
    "duration": 527288,
    "start_time": "2022-10-18T19:13:22.320Z"
   },
   {
    "duration": 9,
    "start_time": "2022-10-18T19:22:09.616Z"
   },
   {
    "duration": 7,
    "start_time": "2022-10-18T19:22:09.627Z"
   },
   {
    "duration": 3,
    "start_time": "2022-10-18T19:23:23.401Z"
   },
   {
    "duration": 2651,
    "start_time": "2022-10-18T19:23:26.005Z"
   },
   {
    "duration": 2552,
    "start_time": "2022-10-18T19:23:48.190Z"
   },
   {
    "duration": 3,
    "start_time": "2022-10-18T19:24:53.426Z"
   },
   {
    "duration": 48,
    "start_time": "2022-10-19T09:15:17.549Z"
   },
   {
    "duration": 2019,
    "start_time": "2022-10-19T09:15:28.987Z"
   },
   {
    "duration": 80,
    "start_time": "2022-10-19T09:15:41.537Z"
   },
   {
    "duration": 2,
    "start_time": "2022-10-19T09:15:49.508Z"
   },
   {
    "duration": 8,
    "start_time": "2022-10-19T09:15:53.563Z"
   },
   {
    "duration": 2,
    "start_time": "2022-10-19T09:16:13.183Z"
   },
   {
    "duration": 9,
    "start_time": "2022-10-19T09:16:23.295Z"
   },
   {
    "duration": 10,
    "start_time": "2022-10-19T09:16:50.658Z"
   },
   {
    "duration": 3,
    "start_time": "2022-10-19T09:16:59.400Z"
   },
   {
    "duration": 3,
    "start_time": "2022-10-19T09:17:03.087Z"
   },
   {
    "duration": 2,
    "start_time": "2022-10-19T09:17:17.155Z"
   },
   {
    "duration": 9,
    "start_time": "2022-10-19T09:17:20.650Z"
   },
   {
    "duration": 9,
    "start_time": "2022-10-19T09:17:27.144Z"
   },
   {
    "duration": 3,
    "start_time": "2022-10-19T09:17:36.101Z"
   },
   {
    "duration": 9,
    "start_time": "2022-10-19T09:17:36.840Z"
   },
   {
    "duration": 9,
    "start_time": "2022-10-19T09:17:47.040Z"
   },
   {
    "duration": 8,
    "start_time": "2022-10-19T09:17:47.644Z"
   },
   {
    "duration": 4,
    "start_time": "2022-10-19T09:17:55.284Z"
   },
   {
    "duration": 2842,
    "start_time": "2022-10-19T09:17:55.904Z"
   },
   {
    "duration": 108,
    "start_time": "2022-10-19T09:17:58.747Z"
   },
   {
    "duration": 21,
    "start_time": "2022-10-19T09:18:02.723Z"
   },
   {
    "duration": 3,
    "start_time": "2022-10-19T09:18:05.854Z"
   },
   {
    "duration": 98,
    "start_time": "2022-10-19T09:18:06.424Z"
   },
   {
    "duration": 156,
    "start_time": "2022-10-19T09:18:13.858Z"
   },
   {
    "duration": 92,
    "start_time": "2022-10-19T09:18:14.016Z"
   },
   {
    "duration": 210,
    "start_time": "2022-10-19T09:18:17.387Z"
   },
   {
    "duration": 17,
    "start_time": "2022-10-19T09:18:20.025Z"
   },
   {
    "duration": 130,
    "start_time": "2022-10-19T09:18:22.663Z"
   },
   {
    "duration": 131,
    "start_time": "2022-10-19T09:18:25.124Z"
   },
   {
    "duration": 18,
    "start_time": "2022-10-19T09:18:27.846Z"
   },
   {
    "duration": 246,
    "start_time": "2022-10-19T09:18:30.831Z"
   },
   {
    "duration": 138,
    "start_time": "2022-10-19T09:19:14.398Z"
   },
   {
    "duration": 15,
    "start_time": "2022-10-19T09:19:15.286Z"
   },
   {
    "duration": 177,
    "start_time": "2022-10-19T09:19:15.331Z"
   },
   {
    "duration": 203,
    "start_time": "2022-10-19T09:19:18.289Z"
   },
   {
    "duration": 18,
    "start_time": "2022-10-19T09:19:21.731Z"
   },
   {
    "duration": 99,
    "start_time": "2022-10-19T09:19:24.084Z"
   },
   {
    "duration": 129,
    "start_time": "2022-10-19T09:19:26.272Z"
   },
   {
    "duration": 190,
    "start_time": "2022-10-19T09:19:29.224Z"
   },
   {
    "duration": 48,
    "start_time": "2022-10-19T09:19:31.800Z"
   },
   {
    "duration": 42,
    "start_time": "2022-10-19T09:19:32.404Z"
   },
   {
    "duration": 22,
    "start_time": "2022-10-19T09:19:38.737Z"
   },
   {
    "duration": 39,
    "start_time": "2022-10-19T09:19:55.907Z"
   },
   {
    "duration": 22,
    "start_time": "2022-10-19T09:20:21.209Z"
   },
   {
    "duration": 5,
    "start_time": "2022-10-19T09:20:23.855Z"
   },
   {
    "duration": 4,
    "start_time": "2022-10-19T09:20:24.650Z"
   },
   {
    "duration": 18,
    "start_time": "2022-10-19T09:20:28.120Z"
   },
   {
    "duration": 200,
    "start_time": "2022-10-19T09:20:29.399Z"
   },
   {
    "duration": 182,
    "start_time": "2022-10-19T09:20:31.420Z"
   },
   {
    "duration": 90,
    "start_time": "2022-10-19T09:20:34.192Z"
   },
   {
    "duration": 30,
    "start_time": "2022-10-19T09:20:39.187Z"
   },
   {
    "duration": 3,
    "start_time": "2022-10-19T09:20:54.979Z"
   },
   {
    "duration": 4,
    "start_time": "2022-10-19T09:20:59.802Z"
   },
   {
    "duration": 12,
    "start_time": "2022-10-19T09:21:01.085Z"
   },
   {
    "duration": 9,
    "start_time": "2022-10-19T09:21:20.649Z"
   },
   {
    "duration": 58,
    "start_time": "2022-10-19T09:21:29.587Z"
   },
   {
    "duration": 3,
    "start_time": "2022-10-19T09:21:31.722Z"
   },
   {
    "duration": 3,
    "start_time": "2022-10-19T09:21:31.979Z"
   },
   {
    "duration": 213,
    "start_time": "2022-10-19T09:21:36.073Z"
   },
   {
    "duration": 64,
    "start_time": "2022-10-19T09:21:39.265Z"
   },
   {
    "duration": 3,
    "start_time": "2022-10-19T09:21:39.920Z"
   },
   {
    "duration": 3,
    "start_time": "2022-10-19T09:21:40.988Z"
   },
   {
    "duration": 449831,
    "start_time": "2022-10-19T09:21:43.395Z"
   },
   {
    "duration": 11,
    "start_time": "2022-10-19T09:40:57.191Z"
   },
   {
    "duration": 3,
    "start_time": "2022-10-19T09:41:00.767Z"
   },
   {
    "duration": 4,
    "start_time": "2022-10-19T09:41:01.150Z"
   },
   {
    "duration": 8,
    "start_time": "2022-10-19T09:41:05.078Z"
   },
   {
    "duration": 3,
    "start_time": "2022-10-19T09:41:10.375Z"
   },
   {
    "duration": 3,
    "start_time": "2022-10-19T09:41:13.120Z"
   },
   {
    "duration": 46,
    "start_time": "2022-10-19T09:43:13.440Z"
   },
   {
    "duration": 1714,
    "start_time": "2022-10-19T09:43:23.541Z"
   },
   {
    "duration": 70,
    "start_time": "2022-10-19T09:43:58.841Z"
   },
   {
    "duration": 2827,
    "start_time": "2022-10-19T09:44:06.380Z"
   },
   {
    "duration": 108,
    "start_time": "2022-10-19T09:44:24.125Z"
   },
   {
    "duration": 49,
    "start_time": "2022-10-19T09:44:26.976Z"
   },
   {
    "duration": 1983,
    "start_time": "2022-10-19T12:17:00.602Z"
   },
   {
    "duration": 3074,
    "start_time": "2022-10-19T12:17:02.587Z"
   },
   {
    "duration": 100,
    "start_time": "2022-10-19T12:17:05.662Z"
   },
   {
    "duration": 43,
    "start_time": "2022-10-19T12:17:05.764Z"
   },
   {
    "duration": 3,
    "start_time": "2022-10-19T12:17:05.810Z"
   },
   {
    "duration": 113,
    "start_time": "2022-10-19T12:17:05.815Z"
   },
   {
    "duration": 162,
    "start_time": "2022-10-19T12:17:05.930Z"
   },
   {
    "duration": 99,
    "start_time": "2022-10-19T12:17:06.094Z"
   },
   {
    "duration": 200,
    "start_time": "2022-10-19T12:17:06.205Z"
   },
   {
    "duration": 15,
    "start_time": "2022-10-19T12:17:06.407Z"
   },
   {
    "duration": 151,
    "start_time": "2022-10-19T12:17:06.424Z"
   },
   {
    "duration": 206,
    "start_time": "2022-10-19T12:17:06.576Z"
   },
   {
    "duration": 27,
    "start_time": "2022-10-19T12:17:06.784Z"
   },
   {
    "duration": 149,
    "start_time": "2022-10-19T12:17:06.815Z"
   },
   {
    "duration": 141,
    "start_time": "2022-10-19T12:17:06.966Z"
   },
   {
    "duration": 16,
    "start_time": "2022-10-19T12:17:07.109Z"
   },
   {
    "duration": 202,
    "start_time": "2022-10-19T12:17:07.126Z"
   },
   {
    "duration": 277,
    "start_time": "2022-10-19T12:17:07.330Z"
   },
   {
    "duration": 16,
    "start_time": "2022-10-19T12:17:07.609Z"
   },
   {
    "duration": 117,
    "start_time": "2022-10-19T12:17:07.627Z"
   },
   {
    "duration": 146,
    "start_time": "2022-10-19T12:17:07.746Z"
   },
   {
    "duration": 253,
    "start_time": "2022-10-19T12:17:07.894Z"
   },
   {
    "duration": 42,
    "start_time": "2022-10-19T12:17:08.148Z"
   },
   {
    "duration": 60,
    "start_time": "2022-10-19T12:17:08.192Z"
   },
   {
    "duration": 16,
    "start_time": "2022-10-19T12:17:08.255Z"
   },
   {
    "duration": 53,
    "start_time": "2022-10-19T12:17:08.272Z"
   },
   {
    "duration": 20,
    "start_time": "2022-10-19T12:17:08.327Z"
   },
   {
    "duration": 5,
    "start_time": "2022-10-19T12:17:08.349Z"
   },
   {
    "duration": 6,
    "start_time": "2022-10-19T12:17:08.355Z"
   },
   {
    "duration": 46,
    "start_time": "2022-10-19T12:17:08.363Z"
   },
   {
    "duration": 212,
    "start_time": "2022-10-19T12:17:08.411Z"
   },
   {
    "duration": 203,
    "start_time": "2022-10-19T12:17:08.625Z"
   },
   {
    "duration": 151,
    "start_time": "2022-10-19T12:17:08.831Z"
   },
   {
    "duration": 38,
    "start_time": "2022-10-19T12:17:08.983Z"
   },
   {
    "duration": 180,
    "start_time": "2022-10-19T12:17:09.023Z"
   },
   {
    "duration": 10,
    "start_time": "2022-10-19T12:17:09.206Z"
   },
   {
    "duration": 21,
    "start_time": "2022-10-19T12:17:09.218Z"
   },
   {
    "duration": 11,
    "start_time": "2022-10-19T12:17:09.241Z"
   },
   {
    "duration": 23,
    "start_time": "2022-10-19T12:17:09.253Z"
   },
   {
    "duration": 46,
    "start_time": "2022-10-19T12:17:09.278Z"
   },
   {
    "duration": 16,
    "start_time": "2022-10-19T12:17:09.330Z"
   },
   {
    "duration": 76,
    "start_time": "2022-10-19T12:17:09.347Z"
   },
   {
    "duration": 68,
    "start_time": "2022-10-19T12:17:09.425Z"
   },
   {
    "duration": 3,
    "start_time": "2022-10-19T12:17:09.504Z"
   },
   {
    "duration": 10,
    "start_time": "2022-10-19T12:17:09.509Z"
   },
   {
    "duration": 18,
    "start_time": "2022-10-19T12:17:09.521Z"
   },
   {
    "duration": 22,
    "start_time": "2022-10-19T12:17:09.541Z"
   },
   {
    "duration": 7,
    "start_time": "2022-10-19T12:17:09.565Z"
   },
   {
    "duration": 19585,
    "start_time": "2022-10-19T12:17:09.573Z"
   },
   {
    "duration": 11,
    "start_time": "2022-10-19T12:17:29.159Z"
   },
   {
    "duration": 8,
    "start_time": "2022-10-19T12:17:29.171Z"
   },
   {
    "duration": 5,
    "start_time": "2022-10-19T12:17:29.180Z"
   },
   {
    "duration": 18,
    "start_time": "2022-10-19T12:17:29.187Z"
   },
   {
    "duration": 158186,
    "start_time": "2022-10-19T12:17:29.207Z"
   },
   {
    "duration": 0,
    "start_time": "2022-10-19T12:20:07.395Z"
   },
   {
    "duration": 0,
    "start_time": "2022-10-19T12:20:07.396Z"
   },
   {
    "duration": 0,
    "start_time": "2022-10-19T12:20:07.397Z"
   },
   {
    "duration": 0,
    "start_time": "2022-10-19T12:20:07.405Z"
   },
   {
    "duration": 0,
    "start_time": "2022-10-19T12:20:07.407Z"
   },
   {
    "duration": 0,
    "start_time": "2022-10-19T12:20:07.408Z"
   },
   {
    "duration": 0,
    "start_time": "2022-10-19T12:20:07.409Z"
   },
   {
    "duration": 0,
    "start_time": "2022-10-19T12:20:07.410Z"
   },
   {
    "duration": 0,
    "start_time": "2022-10-19T12:20:07.412Z"
   },
   {
    "duration": 0,
    "start_time": "2022-10-19T12:20:07.413Z"
   },
   {
    "duration": 0,
    "start_time": "2022-10-19T12:20:07.416Z"
   },
   {
    "duration": 0,
    "start_time": "2022-10-19T12:20:07.417Z"
   },
   {
    "duration": 0,
    "start_time": "2022-10-19T12:20:07.418Z"
   },
   {
    "duration": 0,
    "start_time": "2022-10-19T12:20:07.419Z"
   },
   {
    "duration": 0,
    "start_time": "2022-10-19T12:20:07.421Z"
   },
   {
    "duration": 0,
    "start_time": "2022-10-19T12:20:07.423Z"
   },
   {
    "duration": 0,
    "start_time": "2022-10-19T12:20:07.424Z"
   },
   {
    "duration": 0,
    "start_time": "2022-10-19T12:20:07.426Z"
   },
   {
    "duration": 0,
    "start_time": "2022-10-19T12:20:07.427Z"
   },
   {
    "duration": 0,
    "start_time": "2022-10-19T12:20:07.429Z"
   },
   {
    "duration": 0,
    "start_time": "2022-10-19T12:20:07.430Z"
   },
   {
    "duration": 1,
    "start_time": "2022-10-19T12:20:07.432Z"
   },
   {
    "duration": 0,
    "start_time": "2022-10-19T12:20:07.434Z"
   },
   {
    "duration": 0,
    "start_time": "2022-10-19T12:20:07.434Z"
   },
   {
    "duration": 0,
    "start_time": "2022-10-19T12:20:07.443Z"
   },
   {
    "duration": 0,
    "start_time": "2022-10-19T12:20:07.445Z"
   },
   {
    "duration": 0,
    "start_time": "2022-10-19T12:20:07.446Z"
   },
   {
    "duration": 0,
    "start_time": "2022-10-19T12:20:07.448Z"
   },
   {
    "duration": 0,
    "start_time": "2022-10-19T12:20:07.449Z"
   },
   {
    "duration": 0,
    "start_time": "2022-10-19T12:20:07.506Z"
   },
   {
    "duration": 2161,
    "start_time": "2022-10-19T12:20:21.975Z"
   },
   {
    "duration": 725,
    "start_time": "2022-10-19T12:20:24.138Z"
   },
   {
    "duration": 108,
    "start_time": "2022-10-19T12:20:24.865Z"
   },
   {
    "duration": 54,
    "start_time": "2022-10-19T12:20:24.975Z"
   },
   {
    "duration": 4,
    "start_time": "2022-10-19T12:20:25.031Z"
   },
   {
    "duration": 141,
    "start_time": "2022-10-19T12:20:25.037Z"
   },
   {
    "duration": 159,
    "start_time": "2022-10-19T12:20:25.181Z"
   },
   {
    "duration": 114,
    "start_time": "2022-10-19T12:20:25.342Z"
   },
   {
    "duration": 242,
    "start_time": "2022-10-19T12:20:25.458Z"
   },
   {
    "duration": 19,
    "start_time": "2022-10-19T12:20:25.708Z"
   },
   {
    "duration": 190,
    "start_time": "2022-10-19T12:20:25.729Z"
   },
   {
    "duration": 189,
    "start_time": "2022-10-19T12:20:25.921Z"
   },
   {
    "duration": 20,
    "start_time": "2022-10-19T12:20:26.112Z"
   },
   {
    "duration": 267,
    "start_time": "2022-10-19T12:20:26.133Z"
   },
   {
    "duration": 145,
    "start_time": "2022-10-19T12:20:26.402Z"
   },
   {
    "duration": 21,
    "start_time": "2022-10-19T12:20:26.548Z"
   },
   {
    "duration": 195,
    "start_time": "2022-10-19T12:20:26.571Z"
   },
   {
    "duration": 247,
    "start_time": "2022-10-19T12:20:26.768Z"
   },
   {
    "duration": 20,
    "start_time": "2022-10-19T12:20:27.016Z"
   },
   {
    "duration": 121,
    "start_time": "2022-10-19T12:20:27.037Z"
   },
   {
    "duration": 138,
    "start_time": "2022-10-19T12:20:27.159Z"
   },
   {
    "duration": 230,
    "start_time": "2022-10-19T12:20:27.298Z"
   },
   {
    "duration": 52,
    "start_time": "2022-10-19T12:20:27.531Z"
   },
   {
    "duration": 54,
    "start_time": "2022-10-19T12:20:27.586Z"
   },
   {
    "duration": 20,
    "start_time": "2022-10-19T12:20:27.642Z"
   },
   {
    "duration": 64,
    "start_time": "2022-10-19T12:20:27.664Z"
   },
   {
    "duration": 29,
    "start_time": "2022-10-19T12:20:27.730Z"
   },
   {
    "duration": 8,
    "start_time": "2022-10-19T12:20:27.764Z"
   },
   {
    "duration": 10,
    "start_time": "2022-10-19T12:20:27.774Z"
   },
   {
    "duration": 29,
    "start_time": "2022-10-19T12:20:27.806Z"
   },
   {
    "duration": 262,
    "start_time": "2022-10-19T12:20:27.837Z"
   },
   {
    "duration": 185,
    "start_time": "2022-10-19T12:20:28.101Z"
   },
   {
    "duration": 103,
    "start_time": "2022-10-19T12:20:28.288Z"
   },
   {
    "duration": 39,
    "start_time": "2022-10-19T12:20:28.393Z"
   },
   {
    "duration": 189,
    "start_time": "2022-10-19T12:20:28.433Z"
   },
   {
    "duration": 11,
    "start_time": "2022-10-19T12:20:28.624Z"
   },
   {
    "duration": 24,
    "start_time": "2022-10-19T12:20:28.637Z"
   },
   {
    "duration": 21,
    "start_time": "2022-10-19T12:20:28.663Z"
   },
   {
    "duration": 31,
    "start_time": "2022-10-19T12:20:28.685Z"
   },
   {
    "duration": 15,
    "start_time": "2022-10-19T12:20:28.718Z"
   },
   {
    "duration": 25,
    "start_time": "2022-10-19T12:20:28.735Z"
   },
   {
    "duration": 108,
    "start_time": "2022-10-19T12:20:28.762Z"
   },
   {
    "duration": 65,
    "start_time": "2022-10-19T12:20:28.871Z"
   },
   {
    "duration": 3,
    "start_time": "2022-10-19T12:20:28.938Z"
   },
   {
    "duration": 11,
    "start_time": "2022-10-19T12:20:28.943Z"
   },
   {
    "duration": 29,
    "start_time": "2022-10-19T12:20:28.955Z"
   },
   {
    "duration": 24,
    "start_time": "2022-10-19T12:20:28.986Z"
   },
   {
    "duration": 14,
    "start_time": "2022-10-19T12:20:29.012Z"
   },
   {
    "duration": 21233,
    "start_time": "2022-10-19T12:20:29.028Z"
   },
   {
    "duration": 24,
    "start_time": "2022-10-19T12:20:50.264Z"
   },
   {
    "duration": 22,
    "start_time": "2022-10-19T12:20:50.290Z"
   },
   {
    "duration": 26,
    "start_time": "2022-10-19T12:20:50.313Z"
   },
   {
    "duration": 14,
    "start_time": "2022-10-19T12:20:50.341Z"
   },
   {
    "duration": 3469106,
    "start_time": "2022-10-19T12:20:50.356Z"
   },
   {
    "duration": 3,
    "start_time": "2022-10-19T13:18:39.464Z"
   },
   {
    "duration": 13,
    "start_time": "2022-10-19T13:18:39.469Z"
   },
   {
    "duration": 22,
    "start_time": "2022-10-19T13:18:39.484Z"
   },
   {
    "duration": 7,
    "start_time": "2022-10-19T13:18:39.508Z"
   },
   {
    "duration": 4,
    "start_time": "2022-10-19T13:18:39.518Z"
   },
   {
    "duration": 5,
    "start_time": "2022-10-19T13:18:39.524Z"
   },
   {
    "duration": 2,
    "start_time": "2022-10-19T18:20:44.656Z"
   },
   {
    "duration": 2,
    "start_time": "2022-10-19T18:20:44.889Z"
   },
   {
    "duration": 1697,
    "start_time": "2022-10-20T20:28:41.136Z"
   },
   {
    "duration": 2979,
    "start_time": "2022-10-20T20:28:42.836Z"
   },
   {
    "duration": 127,
    "start_time": "2022-10-20T20:28:45.817Z"
   },
   {
    "duration": 23,
    "start_time": "2022-10-20T20:28:45.946Z"
   },
   {
    "duration": 3,
    "start_time": "2022-10-20T20:28:45.971Z"
   },
   {
    "duration": 140,
    "start_time": "2022-10-20T20:28:45.976Z"
   },
   {
    "duration": 190,
    "start_time": "2022-10-20T20:28:46.118Z"
   },
   {
    "duration": 143,
    "start_time": "2022-10-20T20:28:46.310Z"
   },
   {
    "duration": 223,
    "start_time": "2022-10-20T20:28:46.455Z"
   },
   {
    "duration": 16,
    "start_time": "2022-10-20T20:28:46.681Z"
   },
   {
    "duration": 164,
    "start_time": "2022-10-20T20:28:46.699Z"
   },
   {
    "duration": 160,
    "start_time": "2022-10-20T20:28:46.865Z"
   },
   {
    "duration": 16,
    "start_time": "2022-10-20T20:28:47.027Z"
   },
   {
    "duration": 243,
    "start_time": "2022-10-20T20:28:47.045Z"
   },
   {
    "duration": 154,
    "start_time": "2022-10-20T20:28:47.290Z"
   },
   {
    "duration": 18,
    "start_time": "2022-10-20T20:28:47.446Z"
   },
   {
    "duration": 214,
    "start_time": "2022-10-20T20:28:47.466Z"
   },
   {
    "duration": 232,
    "start_time": "2022-10-20T20:28:47.682Z"
   },
   {
    "duration": 23,
    "start_time": "2022-10-20T20:28:47.916Z"
   },
   {
    "duration": 115,
    "start_time": "2022-10-20T20:28:47.941Z"
   },
   {
    "duration": 133,
    "start_time": "2022-10-20T20:28:48.058Z"
   },
   {
    "duration": 221,
    "start_time": "2022-10-20T20:28:48.193Z"
   },
   {
    "duration": 54,
    "start_time": "2022-10-20T20:28:48.415Z"
   },
   {
    "duration": 39,
    "start_time": "2022-10-20T20:28:48.470Z"
   },
   {
    "duration": 31,
    "start_time": "2022-10-20T20:28:48.511Z"
   },
   {
    "duration": 40,
    "start_time": "2022-10-20T20:28:48.544Z"
   },
   {
    "duration": 39,
    "start_time": "2022-10-20T20:28:48.585Z"
   },
   {
    "duration": 6,
    "start_time": "2022-10-20T20:28:48.628Z"
   },
   {
    "duration": 13,
    "start_time": "2022-10-20T20:28:48.635Z"
   },
   {
    "duration": 35,
    "start_time": "2022-10-20T20:28:48.649Z"
   },
   {
    "duration": 221,
    "start_time": "2022-10-20T20:28:48.686Z"
   },
   {
    "duration": 189,
    "start_time": "2022-10-20T20:28:48.909Z"
   },
   {
    "duration": 123,
    "start_time": "2022-10-20T20:28:49.100Z"
   },
   {
    "duration": 29,
    "start_time": "2022-10-20T20:28:49.225Z"
   },
   {
    "duration": 221,
    "start_time": "2022-10-20T20:28:49.256Z"
   },
   {
    "duration": 12,
    "start_time": "2022-10-20T20:28:49.479Z"
   },
   {
    "duration": 35,
    "start_time": "2022-10-20T20:28:49.492Z"
   },
   {
    "duration": 11,
    "start_time": "2022-10-20T20:28:49.529Z"
   },
   {
    "duration": 31,
    "start_time": "2022-10-20T20:28:49.542Z"
   },
   {
    "duration": 19,
    "start_time": "2022-10-20T20:28:49.574Z"
   },
   {
    "duration": 31,
    "start_time": "2022-10-20T20:28:49.594Z"
   },
   {
    "duration": 66,
    "start_time": "2022-10-20T20:28:49.627Z"
   },
   {
    "duration": 81,
    "start_time": "2022-10-20T20:28:49.694Z"
   },
   {
    "duration": 3,
    "start_time": "2022-10-20T20:28:49.776Z"
   },
   {
    "duration": 4,
    "start_time": "2022-10-20T20:28:49.781Z"
   },
   {
    "duration": 10,
    "start_time": "2022-10-20T20:28:49.786Z"
   },
   {
    "duration": 10,
    "start_time": "2022-10-20T20:28:49.797Z"
   },
   {
    "duration": 17,
    "start_time": "2022-10-20T20:28:49.808Z"
   },
   {
    "duration": 30964,
    "start_time": "2022-10-20T20:28:49.827Z"
   },
   {
    "duration": 11,
    "start_time": "2022-10-20T20:29:20.793Z"
   },
   {
    "duration": 2,
    "start_time": "2022-10-20T20:29:20.806Z"
   },
   {
    "duration": 3,
    "start_time": "2022-10-20T20:29:20.823Z"
   },
   {
    "duration": 5,
    "start_time": "2022-10-20T20:29:20.828Z"
   },
   {
    "duration": 3910405,
    "start_time": "2022-10-20T20:29:20.834Z"
   },
   {
    "duration": 3,
    "start_time": "2022-10-20T21:34:31.242Z"
   },
   {
    "duration": 8,
    "start_time": "2022-10-20T21:34:31.246Z"
   },
   {
    "duration": 16,
    "start_time": "2022-10-20T21:34:31.255Z"
   },
   {
    "duration": 14,
    "start_time": "2022-10-20T21:34:31.273Z"
   },
   {
    "duration": 11,
    "start_time": "2022-10-20T21:34:31.289Z"
   },
   {
    "duration": 13,
    "start_time": "2022-10-20T21:34:31.301Z"
   },
   {
    "duration": 19228423,
    "start_time": "2022-10-20T21:34:31.315Z"
   },
   {
    "duration": 86,
    "start_time": "2022-10-21T02:54:59.740Z"
   },
   {
    "duration": 6,
    "start_time": "2022-10-21T02:54:59.827Z"
   },
   {
    "duration": 5,
    "start_time": "2022-10-21T02:54:59.835Z"
   },
   {
    "duration": 12,
    "start_time": "2022-10-21T02:54:59.841Z"
   },
   {
    "duration": 115,
    "start_time": "2022-10-21T02:54:59.855Z"
   },
   {
    "duration": 17,
    "start_time": "2022-10-21T02:54:59.971Z"
   },
   {
    "duration": 3,
    "start_time": "2022-10-21T02:54:59.990Z"
   },
   {
    "duration": 3,
    "start_time": "2022-10-21T02:54:59.995Z"
   },
   {
    "duration": 42,
    "start_time": "2022-10-21T02:54:59.999Z"
   },
   {
    "duration": 59,
    "start_time": "2022-10-21T02:55:00.043Z"
   },
   {
    "duration": 20,
    "start_time": "2022-10-21T02:55:00.104Z"
   },
   {
    "duration": 3,
    "start_time": "2022-10-21T02:55:00.125Z"
   },
   {
    "duration": 13,
    "start_time": "2022-10-21T02:55:00.129Z"
   },
   {
    "duration": 215,
    "start_time": "2022-10-21T02:55:00.144Z"
   },
   {
    "duration": 72,
    "start_time": "2022-10-21T02:55:00.361Z"
   },
   {
    "duration": 3,
    "start_time": "2022-10-21T02:55:00.435Z"
   },
   {
    "duration": 6,
    "start_time": "2022-10-21T02:55:00.439Z"
   },
   {
    "duration": 482700,
    "start_time": "2022-10-21T02:55:00.447Z"
   },
   {
    "duration": 13,
    "start_time": "2022-10-21T03:03:03.149Z"
   },
   {
    "duration": 15,
    "start_time": "2022-10-21T03:03:03.163Z"
   },
   {
    "duration": 5,
    "start_time": "2022-10-21T03:03:03.184Z"
   },
   {
    "duration": 17,
    "start_time": "2022-10-21T03:03:03.191Z"
   },
   {
    "duration": 51,
    "start_time": "2022-10-21T06:36:06.964Z"
   },
   {
    "duration": 75,
    "start_time": "2023-08-20T11:33:38.464Z"
   },
   {
    "duration": 1646,
    "start_time": "2023-08-20T11:33:57.871Z"
   },
   {
    "duration": 3047,
    "start_time": "2023-08-20T11:33:59.519Z"
   },
   {
    "duration": 138,
    "start_time": "2023-08-20T11:34:03.339Z"
   },
   {
    "duration": 36,
    "start_time": "2023-08-20T11:34:04.418Z"
   },
   {
    "duration": 3,
    "start_time": "2023-08-20T11:34:07.838Z"
   },
   {
    "duration": 109,
    "start_time": "2023-08-20T11:34:08.350Z"
   },
   {
    "duration": 164,
    "start_time": "2023-08-20T11:34:09.578Z"
   },
   {
    "duration": 126,
    "start_time": "2023-08-20T11:34:10.043Z"
   },
   {
    "duration": 201,
    "start_time": "2023-08-20T11:34:11.021Z"
   },
   {
    "duration": 17,
    "start_time": "2023-08-20T11:34:11.509Z"
   },
   {
    "duration": 157,
    "start_time": "2023-08-20T11:34:12.040Z"
   },
   {
    "duration": 163,
    "start_time": "2023-08-20T11:34:12.925Z"
   },
   {
    "duration": 21,
    "start_time": "2023-08-20T11:34:13.374Z"
   },
   {
    "duration": 272,
    "start_time": "2023-08-20T11:34:13.801Z"
   },
   {
    "duration": 152,
    "start_time": "2023-08-20T11:34:14.649Z"
   },
   {
    "duration": 19,
    "start_time": "2023-08-20T11:34:15.067Z"
   },
   {
    "duration": 204,
    "start_time": "2023-08-20T11:34:15.496Z"
   },
   {
    "duration": 254,
    "start_time": "2023-08-20T11:34:15.917Z"
   },
   {
    "duration": 18,
    "start_time": "2023-08-20T11:34:16.777Z"
   },
   {
    "duration": 123,
    "start_time": "2023-08-20T11:34:17.195Z"
   },
   {
    "duration": 137,
    "start_time": "2023-08-20T11:34:17.592Z"
   },
   {
    "duration": 232,
    "start_time": "2023-08-20T11:34:19.336Z"
   },
   {
    "duration": 52,
    "start_time": "2023-08-20T11:34:20.646Z"
   },
   {
    "duration": 45,
    "start_time": "2023-08-20T11:34:21.085Z"
   },
   {
    "duration": 46,
    "start_time": "2023-08-20T11:34:52.335Z"
   },
   {
    "duration": 51,
    "start_time": "2023-08-20T11:34:58.422Z"
   },
   {
    "duration": 102,
    "start_time": "2023-08-20T11:35:54.332Z"
   },
   {
    "duration": 86,
    "start_time": "2023-08-20T11:44:51.003Z"
   },
   {
    "duration": 100,
    "start_time": "2023-08-20T11:50:02.445Z"
   },
   {
    "duration": 11,
    "start_time": "2023-08-20T11:50:06.961Z"
   },
   {
    "duration": 1578,
    "start_time": "2023-08-20T11:54:47.869Z"
   },
   {
    "duration": 868,
    "start_time": "2023-08-20T11:54:49.449Z"
   },
   {
    "duration": 141,
    "start_time": "2023-08-20T11:54:50.319Z"
   },
   {
    "duration": 29,
    "start_time": "2023-08-20T11:54:50.462Z"
   },
   {
    "duration": 3,
    "start_time": "2023-08-20T11:54:50.493Z"
   },
   {
    "duration": 140,
    "start_time": "2023-08-20T11:54:50.498Z"
   },
   {
    "duration": 189,
    "start_time": "2023-08-20T11:54:50.640Z"
   },
   {
    "duration": 112,
    "start_time": "2023-08-20T11:54:50.831Z"
   },
   {
    "duration": 225,
    "start_time": "2023-08-20T11:54:50.945Z"
   },
   {
    "duration": 18,
    "start_time": "2023-08-20T11:54:51.172Z"
   },
   {
    "duration": 189,
    "start_time": "2023-08-20T11:54:51.192Z"
   },
   {
    "duration": 182,
    "start_time": "2023-08-20T11:54:51.384Z"
   },
   {
    "duration": 19,
    "start_time": "2023-08-20T11:54:51.568Z"
   },
   {
    "duration": 304,
    "start_time": "2023-08-20T11:54:51.591Z"
   },
   {
    "duration": 179,
    "start_time": "2023-08-20T11:54:51.897Z"
   },
   {
    "duration": 21,
    "start_time": "2023-08-20T11:54:52.079Z"
   },
   {
    "duration": 218,
    "start_time": "2023-08-20T11:54:52.101Z"
   },
   {
    "duration": 233,
    "start_time": "2023-08-20T11:54:52.321Z"
   },
   {
    "duration": 22,
    "start_time": "2023-08-20T11:54:52.560Z"
   },
   {
    "duration": 130,
    "start_time": "2023-08-20T11:54:52.584Z"
   },
   {
    "duration": 160,
    "start_time": "2023-08-20T11:54:52.716Z"
   },
   {
    "duration": 289,
    "start_time": "2023-08-20T11:54:52.878Z"
   },
   {
    "duration": 69,
    "start_time": "2023-08-20T11:54:53.170Z"
   },
   {
    "duration": 63,
    "start_time": "2023-08-20T11:54:53.242Z"
   },
   {
    "duration": 18,
    "start_time": "2023-08-20T11:54:53.306Z"
   },
   {
    "duration": 73,
    "start_time": "2023-08-20T11:54:53.326Z"
   },
   {
    "duration": 23,
    "start_time": "2023-08-20T11:54:53.401Z"
   },
   {
    "duration": 8,
    "start_time": "2023-08-20T11:54:53.426Z"
   },
   {
    "duration": 26,
    "start_time": "2023-08-20T11:54:53.436Z"
   },
   {
    "duration": 41,
    "start_time": "2023-08-20T11:54:53.465Z"
   },
   {
    "duration": 275,
    "start_time": "2023-08-20T11:54:53.509Z"
   },
   {
    "duration": 1521,
    "start_time": "2023-08-20T11:54:53.786Z"
   },
   {
    "duration": 0,
    "start_time": "2023-08-20T11:54:55.311Z"
   },
   {
    "duration": 0,
    "start_time": "2023-08-20T11:54:55.313Z"
   },
   {
    "duration": 0,
    "start_time": "2023-08-20T11:54:55.314Z"
   },
   {
    "duration": 0,
    "start_time": "2023-08-20T11:54:55.316Z"
   },
   {
    "duration": 0,
    "start_time": "2023-08-20T11:54:55.317Z"
   },
   {
    "duration": 0,
    "start_time": "2023-08-20T11:54:55.319Z"
   },
   {
    "duration": 0,
    "start_time": "2023-08-20T11:54:55.320Z"
   },
   {
    "duration": 0,
    "start_time": "2023-08-20T11:54:55.322Z"
   },
   {
    "duration": 0,
    "start_time": "2023-08-20T11:54:55.323Z"
   },
   {
    "duration": 0,
    "start_time": "2023-08-20T11:54:55.324Z"
   },
   {
    "duration": 0,
    "start_time": "2023-08-20T11:54:55.326Z"
   },
   {
    "duration": 0,
    "start_time": "2023-08-20T11:54:55.328Z"
   },
   {
    "duration": 0,
    "start_time": "2023-08-20T11:54:55.329Z"
   },
   {
    "duration": 0,
    "start_time": "2023-08-20T11:54:55.330Z"
   },
   {
    "duration": 0,
    "start_time": "2023-08-20T11:54:55.333Z"
   },
   {
    "duration": 0,
    "start_time": "2023-08-20T11:54:55.334Z"
   },
   {
    "duration": 0,
    "start_time": "2023-08-20T11:54:55.336Z"
   },
   {
    "duration": 0,
    "start_time": "2023-08-20T11:54:55.337Z"
   },
   {
    "duration": 0,
    "start_time": "2023-08-20T11:54:55.338Z"
   },
   {
    "duration": 0,
    "start_time": "2023-08-20T11:54:55.340Z"
   },
   {
    "duration": 0,
    "start_time": "2023-08-20T11:54:55.341Z"
   },
   {
    "duration": 0,
    "start_time": "2023-08-20T11:54:55.342Z"
   },
   {
    "duration": 0,
    "start_time": "2023-08-20T11:54:55.344Z"
   },
   {
    "duration": 0,
    "start_time": "2023-08-20T11:54:55.345Z"
   },
   {
    "duration": 0,
    "start_time": "2023-08-20T11:54:55.346Z"
   },
   {
    "duration": 0,
    "start_time": "2023-08-20T11:54:55.347Z"
   },
   {
    "duration": 0,
    "start_time": "2023-08-20T11:54:55.361Z"
   },
   {
    "duration": 0,
    "start_time": "2023-08-20T11:54:55.362Z"
   },
   {
    "duration": 0,
    "start_time": "2023-08-20T11:54:55.363Z"
   },
   {
    "duration": 0,
    "start_time": "2023-08-20T11:54:55.364Z"
   },
   {
    "duration": 0,
    "start_time": "2023-08-20T11:54:55.365Z"
   },
   {
    "duration": 0,
    "start_time": "2023-08-20T11:54:55.366Z"
   },
   {
    "duration": 0,
    "start_time": "2023-08-20T11:54:55.366Z"
   },
   {
    "duration": 0,
    "start_time": "2023-08-20T11:54:55.368Z"
   },
   {
    "duration": 0,
    "start_time": "2023-08-20T11:54:55.369Z"
   },
   {
    "duration": 0,
    "start_time": "2023-08-20T11:54:55.372Z"
   },
   {
    "duration": 0,
    "start_time": "2023-08-20T11:54:55.374Z"
   },
   {
    "duration": 0,
    "start_time": "2023-08-20T11:54:55.375Z"
   },
   {
    "duration": 0,
    "start_time": "2023-08-20T11:54:55.377Z"
   },
   {
    "duration": 0,
    "start_time": "2023-08-20T11:54:55.378Z"
   },
   {
    "duration": 0,
    "start_time": "2023-08-20T11:54:55.379Z"
   },
   {
    "duration": 0,
    "start_time": "2023-08-20T11:54:55.380Z"
   },
   {
    "duration": 0,
    "start_time": "2023-08-20T11:54:55.381Z"
   },
   {
    "duration": 1,
    "start_time": "2023-08-20T11:54:55.382Z"
   },
   {
    "duration": 0,
    "start_time": "2023-08-20T11:54:55.384Z"
   },
   {
    "duration": 0,
    "start_time": "2023-08-20T11:54:55.385Z"
   },
   {
    "duration": 0,
    "start_time": "2023-08-20T11:54:55.387Z"
   },
   {
    "duration": 0,
    "start_time": "2023-08-20T11:54:55.388Z"
   },
   {
    "duration": 0,
    "start_time": "2023-08-20T11:54:55.390Z"
   },
   {
    "duration": 0,
    "start_time": "2023-08-20T11:54:55.392Z"
   },
   {
    "duration": 0,
    "start_time": "2023-08-20T11:54:55.394Z"
   },
   {
    "duration": 0,
    "start_time": "2023-08-20T11:54:55.395Z"
   },
   {
    "duration": 0,
    "start_time": "2023-08-20T11:54:55.397Z"
   },
   {
    "duration": 0,
    "start_time": "2023-08-20T11:54:55.398Z"
   },
   {
    "duration": 0,
    "start_time": "2023-08-20T11:54:55.399Z"
   },
   {
    "duration": 0,
    "start_time": "2023-08-20T11:54:55.459Z"
   },
   {
    "duration": 0,
    "start_time": "2023-08-20T11:54:55.461Z"
   },
   {
    "duration": 0,
    "start_time": "2023-08-20T11:54:55.463Z"
   },
   {
    "duration": 0,
    "start_time": "2023-08-20T11:54:55.464Z"
   },
   {
    "duration": 1689,
    "start_time": "2023-08-20T11:57:36.238Z"
   },
   {
    "duration": 923,
    "start_time": "2023-08-20T11:57:37.930Z"
   },
   {
    "duration": 127,
    "start_time": "2023-08-20T11:57:38.855Z"
   },
   {
    "duration": 32,
    "start_time": "2023-08-20T11:57:38.985Z"
   },
   {
    "duration": 4,
    "start_time": "2023-08-20T11:57:39.020Z"
   },
   {
    "duration": 200,
    "start_time": "2023-08-20T11:57:39.026Z"
   },
   {
    "duration": 182,
    "start_time": "2023-08-20T11:57:39.228Z"
   },
   {
    "duration": 117,
    "start_time": "2023-08-20T11:57:39.411Z"
   },
   {
    "duration": 217,
    "start_time": "2023-08-20T11:57:39.530Z"
   },
   {
    "duration": 21,
    "start_time": "2023-08-20T11:57:39.750Z"
   },
   {
    "duration": 172,
    "start_time": "2023-08-20T11:57:39.772Z"
   },
   {
    "duration": 173,
    "start_time": "2023-08-20T11:57:39.946Z"
   },
   {
    "duration": 18,
    "start_time": "2023-08-20T11:57:40.121Z"
   },
   {
    "duration": 273,
    "start_time": "2023-08-20T11:57:40.158Z"
   },
   {
    "duration": 178,
    "start_time": "2023-08-20T11:57:40.433Z"
   },
   {
    "duration": 19,
    "start_time": "2023-08-20T11:57:40.613Z"
   },
   {
    "duration": 244,
    "start_time": "2023-08-20T11:57:40.634Z"
   },
   {
    "duration": 237,
    "start_time": "2023-08-20T11:57:40.880Z"
   },
   {
    "duration": 19,
    "start_time": "2023-08-20T11:57:41.119Z"
   },
   {
    "duration": 136,
    "start_time": "2023-08-20T11:57:41.140Z"
   },
   {
    "duration": 200,
    "start_time": "2023-08-20T11:57:41.278Z"
   },
   {
    "duration": 257,
    "start_time": "2023-08-20T11:57:41.480Z"
   },
   {
    "duration": 64,
    "start_time": "2023-08-20T11:57:41.739Z"
   },
   {
    "duration": 60,
    "start_time": "2023-08-20T11:57:41.805Z"
   },
   {
    "duration": 21,
    "start_time": "2023-08-20T11:57:41.867Z"
   },
   {
    "duration": 47,
    "start_time": "2023-08-20T11:57:41.890Z"
   },
   {
    "duration": 40,
    "start_time": "2023-08-20T11:57:41.938Z"
   },
   {
    "duration": 7,
    "start_time": "2023-08-20T11:57:41.980Z"
   },
   {
    "duration": 5,
    "start_time": "2023-08-20T11:57:41.988Z"
   },
   {
    "duration": 24,
    "start_time": "2023-08-20T11:57:41.995Z"
   },
   {
    "duration": 256,
    "start_time": "2023-08-20T11:57:42.060Z"
   },
   {
    "duration": 110,
    "start_time": "2023-08-20T11:57:42.318Z"
   },
   {
    "duration": 52,
    "start_time": "2023-08-20T11:57:42.429Z"
   },
   {
    "duration": 130,
    "start_time": "2023-08-20T11:57:42.482Z"
   },
   {
    "duration": 0,
    "start_time": "2023-08-20T11:57:42.618Z"
   },
   {
    "duration": 0,
    "start_time": "2023-08-20T11:57:42.620Z"
   },
   {
    "duration": 0,
    "start_time": "2023-08-20T11:57:42.621Z"
   },
   {
    "duration": 0,
    "start_time": "2023-08-20T11:57:42.622Z"
   },
   {
    "duration": 0,
    "start_time": "2023-08-20T11:57:42.623Z"
   },
   {
    "duration": 0,
    "start_time": "2023-08-20T11:57:42.624Z"
   },
   {
    "duration": 0,
    "start_time": "2023-08-20T11:57:42.626Z"
   },
   {
    "duration": 0,
    "start_time": "2023-08-20T11:57:42.627Z"
   },
   {
    "duration": 0,
    "start_time": "2023-08-20T11:57:42.628Z"
   },
   {
    "duration": 0,
    "start_time": "2023-08-20T11:57:42.629Z"
   },
   {
    "duration": 0,
    "start_time": "2023-08-20T11:57:42.630Z"
   },
   {
    "duration": 0,
    "start_time": "2023-08-20T11:57:42.632Z"
   },
   {
    "duration": 0,
    "start_time": "2023-08-20T11:57:42.659Z"
   },
   {
    "duration": 0,
    "start_time": "2023-08-20T11:57:42.661Z"
   },
   {
    "duration": 0,
    "start_time": "2023-08-20T11:57:42.662Z"
   },
   {
    "duration": 0,
    "start_time": "2023-08-20T11:57:42.663Z"
   },
   {
    "duration": 0,
    "start_time": "2023-08-20T11:57:42.664Z"
   },
   {
    "duration": 0,
    "start_time": "2023-08-20T11:57:42.665Z"
   },
   {
    "duration": 0,
    "start_time": "2023-08-20T11:57:42.666Z"
   },
   {
    "duration": 0,
    "start_time": "2023-08-20T11:57:42.667Z"
   },
   {
    "duration": 0,
    "start_time": "2023-08-20T11:57:42.668Z"
   },
   {
    "duration": 0,
    "start_time": "2023-08-20T11:57:42.669Z"
   },
   {
    "duration": 0,
    "start_time": "2023-08-20T11:57:42.670Z"
   },
   {
    "duration": 0,
    "start_time": "2023-08-20T11:57:42.671Z"
   },
   {
    "duration": 0,
    "start_time": "2023-08-20T11:57:42.673Z"
   },
   {
    "duration": 0,
    "start_time": "2023-08-20T11:57:42.674Z"
   },
   {
    "duration": 0,
    "start_time": "2023-08-20T11:57:42.675Z"
   },
   {
    "duration": 0,
    "start_time": "2023-08-20T11:57:42.676Z"
   },
   {
    "duration": 0,
    "start_time": "2023-08-20T11:57:42.677Z"
   },
   {
    "duration": 0,
    "start_time": "2023-08-20T11:57:42.678Z"
   },
   {
    "duration": 0,
    "start_time": "2023-08-20T11:57:42.679Z"
   },
   {
    "duration": 0,
    "start_time": "2023-08-20T11:57:42.680Z"
   },
   {
    "duration": 0,
    "start_time": "2023-08-20T11:57:42.681Z"
   },
   {
    "duration": 0,
    "start_time": "2023-08-20T11:57:42.683Z"
   },
   {
    "duration": 0,
    "start_time": "2023-08-20T11:57:42.683Z"
   },
   {
    "duration": 0,
    "start_time": "2023-08-20T11:57:42.684Z"
   },
   {
    "duration": 0,
    "start_time": "2023-08-20T11:57:42.686Z"
   },
   {
    "duration": 0,
    "start_time": "2023-08-20T11:57:42.686Z"
   },
   {
    "duration": 0,
    "start_time": "2023-08-20T11:57:42.687Z"
   },
   {
    "duration": 0,
    "start_time": "2023-08-20T11:57:42.689Z"
   },
   {
    "duration": 0,
    "start_time": "2023-08-20T11:57:42.690Z"
   },
   {
    "duration": 0,
    "start_time": "2023-08-20T11:57:42.691Z"
   },
   {
    "duration": 0,
    "start_time": "2023-08-20T11:57:42.692Z"
   },
   {
    "duration": 0,
    "start_time": "2023-08-20T11:57:42.694Z"
   },
   {
    "duration": 0,
    "start_time": "2023-08-20T11:57:42.695Z"
   },
   {
    "duration": 0,
    "start_time": "2023-08-20T11:57:42.696Z"
   },
   {
    "duration": 0,
    "start_time": "2023-08-20T11:57:42.698Z"
   },
   {
    "duration": 0,
    "start_time": "2023-08-20T11:57:42.758Z"
   },
   {
    "duration": 0,
    "start_time": "2023-08-20T11:57:42.760Z"
   },
   {
    "duration": 0,
    "start_time": "2023-08-20T11:57:42.762Z"
   },
   {
    "duration": 0,
    "start_time": "2023-08-20T11:57:42.764Z"
   },
   {
    "duration": 0,
    "start_time": "2023-08-20T11:57:42.765Z"
   },
   {
    "duration": 0,
    "start_time": "2023-08-20T11:57:42.767Z"
   },
   {
    "duration": 0,
    "start_time": "2023-08-20T11:57:42.769Z"
   },
   {
    "duration": 0,
    "start_time": "2023-08-20T11:57:42.770Z"
   },
   {
    "duration": 0,
    "start_time": "2023-08-20T11:57:42.771Z"
   },
   {
    "duration": 182,
    "start_time": "2023-08-20T11:59:56.100Z"
   },
   {
    "duration": 12,
    "start_time": "2023-08-20T12:00:00.650Z"
   },
   {
    "duration": 21,
    "start_time": "2023-08-20T12:00:01.517Z"
   },
   {
    "duration": 14,
    "start_time": "2023-08-20T12:00:02.002Z"
   },
   {
    "duration": 34,
    "start_time": "2023-08-20T12:00:02.408Z"
   },
   {
    "duration": 16,
    "start_time": "2023-08-20T12:00:02.782Z"
   },
   {
    "duration": 24,
    "start_time": "2023-08-20T12:00:03.160Z"
   },
   {
    "duration": 85,
    "start_time": "2023-08-20T12:00:03.505Z"
   },
   {
    "duration": 105,
    "start_time": "2023-08-20T12:00:03.890Z"
   },
   {
    "duration": 4,
    "start_time": "2023-08-20T12:00:05.255Z"
   },
   {
    "duration": 4,
    "start_time": "2023-08-20T12:00:05.531Z"
   },
   {
    "duration": 16,
    "start_time": "2023-08-20T12:00:06.081Z"
   },
   {
    "duration": 16,
    "start_time": "2023-08-20T12:00:07.167Z"
   },
   {
    "duration": 4,
    "start_time": "2023-08-20T12:00:07.670Z"
   },
   {
    "duration": 1036,
    "start_time": "2023-08-20T12:00:08.255Z"
   },
   {
    "duration": 19,
    "start_time": "2023-08-20T12:00:09.294Z"
   },
   {
    "duration": 7,
    "start_time": "2023-08-20T12:00:09.316Z"
   },
   {
    "duration": 5,
    "start_time": "2023-08-20T12:00:10.735Z"
   },
   {
    "duration": 4,
    "start_time": "2023-08-20T12:00:11.308Z"
   },
   {
    "duration": 11080,
    "start_time": "2023-08-20T12:00:11.555Z"
   },
   {
    "duration": 0,
    "start_time": "2023-08-20T12:00:22.638Z"
   },
   {
    "duration": 0,
    "start_time": "2023-08-20T12:00:22.640Z"
   },
   {
    "duration": 0,
    "start_time": "2023-08-20T12:00:22.642Z"
   },
   {
    "duration": 0,
    "start_time": "2023-08-20T12:00:22.643Z"
   },
   {
    "duration": 0,
    "start_time": "2023-08-20T12:00:22.645Z"
   },
   {
    "duration": 0,
    "start_time": "2023-08-20T12:00:22.646Z"
   },
   {
    "duration": 4,
    "start_time": "2023-08-20T12:02:33.408Z"
   },
   {
    "duration": 4,
    "start_time": "2023-08-20T12:02:34.041Z"
   },
   {
    "duration": 3,
    "start_time": "2023-08-20T12:02:35.898Z"
   },
   {
    "duration": 12,
    "start_time": "2023-08-20T12:02:38.315Z"
   },
   {
    "duration": 3,
    "start_time": "2023-08-20T12:02:39.770Z"
   },
   {
    "duration": 1230,
    "start_time": "2023-08-20T12:02:40.697Z"
   },
   {
    "duration": 28,
    "start_time": "2023-08-20T12:02:41.930Z"
   },
   {
    "duration": 4,
    "start_time": "2023-08-20T12:02:43.927Z"
   },
   {
    "duration": 3,
    "start_time": "2023-08-20T12:02:44.532Z"
   },
   {
    "duration": 4,
    "start_time": "2023-08-20T12:02:45.357Z"
   },
   {
    "duration": 14314,
    "start_time": "2023-08-20T12:02:45.976Z"
   },
   {
    "duration": 1889,
    "start_time": "2023-08-20T17:24:30.660Z"
   },
   {
    "duration": 1319,
    "start_time": "2023-08-20T17:24:32.551Z"
   },
   {
    "duration": 171,
    "start_time": "2023-08-20T17:24:33.872Z"
   },
   {
    "duration": 25,
    "start_time": "2023-08-20T17:24:34.045Z"
   },
   {
    "duration": 18,
    "start_time": "2023-08-20T17:24:34.071Z"
   },
   {
    "duration": 157,
    "start_time": "2023-08-20T17:24:34.091Z"
   },
   {
    "duration": 219,
    "start_time": "2023-08-20T17:24:34.250Z"
   },
   {
    "duration": 168,
    "start_time": "2023-08-20T17:24:34.470Z"
   },
   {
    "duration": 240,
    "start_time": "2023-08-20T17:24:34.640Z"
   },
   {
    "duration": 21,
    "start_time": "2023-08-20T17:24:34.891Z"
   },
   {
    "duration": 172,
    "start_time": "2023-08-20T17:24:34.913Z"
   },
   {
    "duration": 182,
    "start_time": "2023-08-20T17:24:35.086Z"
   },
   {
    "duration": 33,
    "start_time": "2023-08-20T17:24:35.270Z"
   },
   {
    "duration": 246,
    "start_time": "2023-08-20T17:24:35.310Z"
   },
   {
    "duration": 177,
    "start_time": "2023-08-20T17:24:35.558Z"
   },
   {
    "duration": 17,
    "start_time": "2023-08-20T17:24:35.737Z"
   },
   {
    "duration": 237,
    "start_time": "2023-08-20T17:24:35.755Z"
   },
   {
    "duration": 251,
    "start_time": "2023-08-20T17:24:35.995Z"
   },
   {
    "duration": 17,
    "start_time": "2023-08-20T17:24:36.248Z"
   },
   {
    "duration": 153,
    "start_time": "2023-08-20T17:24:36.267Z"
   },
   {
    "duration": 166,
    "start_time": "2023-08-20T17:24:36.422Z"
   },
   {
    "duration": 275,
    "start_time": "2023-08-20T17:24:36.590Z"
   },
   {
    "duration": 74,
    "start_time": "2023-08-20T17:24:36.866Z"
   },
   {
    "duration": 53,
    "start_time": "2023-08-20T17:24:36.942Z"
   },
   {
    "duration": 21,
    "start_time": "2023-08-20T17:24:36.997Z"
   },
   {
    "duration": 43,
    "start_time": "2023-08-20T17:24:37.020Z"
   },
   {
    "duration": 40,
    "start_time": "2023-08-20T17:24:37.081Z"
   },
   {
    "duration": 5,
    "start_time": "2023-08-20T17:24:37.126Z"
   },
   {
    "duration": 7,
    "start_time": "2023-08-20T17:24:37.133Z"
   },
   {
    "duration": 20,
    "start_time": "2023-08-20T17:24:37.141Z"
   },
   {
    "duration": 284,
    "start_time": "2023-08-20T17:24:37.181Z"
   },
   {
    "duration": 153,
    "start_time": "2023-08-20T17:24:37.467Z"
   },
   {
    "duration": 34,
    "start_time": "2023-08-20T17:24:37.622Z"
   },
   {
    "duration": 214,
    "start_time": "2023-08-20T17:24:37.658Z"
   },
   {
    "duration": 13,
    "start_time": "2023-08-20T17:24:37.874Z"
   },
   {
    "duration": 25,
    "start_time": "2023-08-20T17:24:37.889Z"
   },
   {
    "duration": 12,
    "start_time": "2023-08-20T17:24:37.915Z"
   },
   {
    "duration": 32,
    "start_time": "2023-08-20T17:24:37.928Z"
   },
   {
    "duration": 44,
    "start_time": "2023-08-20T17:24:37.961Z"
   },
   {
    "duration": 22,
    "start_time": "2023-08-20T17:24:38.009Z"
   },
   {
    "duration": 85,
    "start_time": "2023-08-20T17:24:38.033Z"
   },
   {
    "duration": 74,
    "start_time": "2023-08-20T17:24:38.120Z"
   },
   {
    "duration": 4,
    "start_time": "2023-08-20T17:24:38.196Z"
   },
   {
    "duration": 4,
    "start_time": "2023-08-20T17:24:38.201Z"
   },
   {
    "duration": 7,
    "start_time": "2023-08-20T17:24:38.207Z"
   },
   {
    "duration": 13,
    "start_time": "2023-08-20T17:24:38.215Z"
   },
   {
    "duration": 5,
    "start_time": "2023-08-20T17:24:38.230Z"
   },
   {
    "duration": 1439,
    "start_time": "2023-08-20T17:24:38.236Z"
   },
   {
    "duration": 28,
    "start_time": "2023-08-20T17:24:39.676Z"
   },
   {
    "duration": 18,
    "start_time": "2023-08-20T17:24:39.706Z"
   },
   {
    "duration": 7,
    "start_time": "2023-08-20T17:24:39.725Z"
   },
   {
    "duration": 5,
    "start_time": "2023-08-20T17:24:39.734Z"
   },
   {
    "duration": 16453,
    "start_time": "2023-08-20T17:24:39.740Z"
   },
   {
    "duration": 0,
    "start_time": "2023-08-20T17:24:56.196Z"
   },
   {
    "duration": 0,
    "start_time": "2023-08-20T17:24:56.197Z"
   },
   {
    "duration": 0,
    "start_time": "2023-08-20T17:24:56.198Z"
   },
   {
    "duration": 0,
    "start_time": "2023-08-20T17:24:56.198Z"
   },
   {
    "duration": 0,
    "start_time": "2023-08-20T17:24:56.199Z"
   },
   {
    "duration": 0,
    "start_time": "2023-08-20T17:24:56.200Z"
   },
   {
    "duration": 0,
    "start_time": "2023-08-20T17:24:56.202Z"
   },
   {
    "duration": 0,
    "start_time": "2023-08-20T17:24:56.203Z"
   },
   {
    "duration": 0,
    "start_time": "2023-08-20T17:24:56.204Z"
   },
   {
    "duration": 0,
    "start_time": "2023-08-20T17:24:56.205Z"
   },
   {
    "duration": 0,
    "start_time": "2023-08-20T17:24:56.207Z"
   },
   {
    "duration": 0,
    "start_time": "2023-08-20T17:24:56.208Z"
   },
   {
    "duration": 0,
    "start_time": "2023-08-20T17:24:56.209Z"
   },
   {
    "duration": 0,
    "start_time": "2023-08-20T17:24:56.209Z"
   },
   {
    "duration": 0,
    "start_time": "2023-08-20T17:24:56.213Z"
   },
   {
    "duration": 0,
    "start_time": "2023-08-20T17:24:56.213Z"
   },
   {
    "duration": 0,
    "start_time": "2023-08-20T17:24:56.215Z"
   },
   {
    "duration": 0,
    "start_time": "2023-08-20T17:24:56.216Z"
   },
   {
    "duration": 0,
    "start_time": "2023-08-20T17:24:56.216Z"
   },
   {
    "duration": 0,
    "start_time": "2023-08-20T17:24:56.218Z"
   },
   {
    "duration": 0,
    "start_time": "2023-08-20T17:24:56.219Z"
   },
   {
    "duration": 0,
    "start_time": "2023-08-20T17:24:56.220Z"
   },
   {
    "duration": 0,
    "start_time": "2023-08-20T17:24:56.221Z"
   },
   {
    "duration": 0,
    "start_time": "2023-08-20T17:24:56.221Z"
   },
   {
    "duration": 0,
    "start_time": "2023-08-20T17:24:56.222Z"
   },
   {
    "duration": 0,
    "start_time": "2023-08-20T17:24:56.223Z"
   },
   {
    "duration": 0,
    "start_time": "2023-08-20T17:24:56.224Z"
   },
   {
    "duration": 0,
    "start_time": "2023-08-20T17:24:56.225Z"
   },
   {
    "duration": 0,
    "start_time": "2023-08-20T17:24:56.226Z"
   },
   {
    "duration": 0,
    "start_time": "2023-08-20T17:24:56.227Z"
   },
   {
    "duration": 0,
    "start_time": "2023-08-20T17:24:56.228Z"
   },
   {
    "duration": 0,
    "start_time": "2023-08-20T17:24:56.229Z"
   },
   {
    "duration": 0,
    "start_time": "2023-08-20T17:24:56.230Z"
   },
   {
    "duration": 0,
    "start_time": "2023-08-20T17:24:56.230Z"
   },
   {
    "duration": 0,
    "start_time": "2023-08-20T17:24:56.231Z"
   },
   {
    "duration": 0,
    "start_time": "2023-08-20T17:24:56.232Z"
   },
   {
    "duration": 0,
    "start_time": "2023-08-20T17:24:56.287Z"
   },
   {
    "duration": 305,
    "start_time": "2023-08-20T17:44:53.918Z"
   },
   {
    "duration": 3,
    "start_time": "2023-08-20T17:45:18.405Z"
   },
   {
    "duration": 2,
    "start_time": "2023-08-20T17:45:19.341Z"
   },
   {
    "duration": 3,
    "start_time": "2023-08-20T17:45:23.976Z"
   },
   {
    "duration": 8,
    "start_time": "2023-08-20T17:45:27.909Z"
   },
   {
    "duration": 2,
    "start_time": "2023-08-20T17:45:30.465Z"
   },
   {
    "duration": 27871,
    "start_time": "2023-08-20T17:45:34.604Z"
   },
   {
    "duration": 13,
    "start_time": "2023-08-20T17:47:42.608Z"
   },
   {
    "duration": 3,
    "start_time": "2023-08-20T17:47:46.807Z"
   },
   {
    "duration": 4,
    "start_time": "2023-08-20T17:47:47.404Z"
   },
   {
    "duration": 3,
    "start_time": "2023-08-20T17:47:51.015Z"
   }
  ],
  "kernelspec": {
   "display_name": "Python 3 (ipykernel)",
   "language": "python",
   "name": "python3"
  },
  "language_info": {
   "codemirror_mode": {
    "name": "ipython",
    "version": 3
   },
   "file_extension": ".py",
   "mimetype": "text/x-python",
   "name": "python",
   "nbconvert_exporter": "python",
   "pygments_lexer": "ipython3",
   "version": "3.9.5"
  },
  "toc": {
   "base_numbering": 1,
   "nav_menu": {},
   "number_sections": true,
   "sideBar": true,
   "skip_h1_title": true,
   "title_cell": "Table of Contents",
   "title_sidebar": "Contents",
   "toc_cell": false,
   "toc_position": {},
   "toc_section_display": true,
   "toc_window_display": false
  }
 },
 "nbformat": 4,
 "nbformat_minor": 2
}
