{
 "cells": [
  {
   "cell_type": "markdown",
   "metadata": {
    "toc": true
   },
   "source": [
    "<h1>Содержание<span class=\"tocSkip\"></span></h1>\n",
    "<div class=\"toc\"><ul class=\"toc-item\"><li><span><a href=\"#Exploratory-Data-Analysis\" data-toc-modified-id=\"Exploratory-Data-Analysis-1\"><span class=\"toc-item-num\">1&nbsp;&nbsp;</span>Exploratory Data Analysis</a></span></li><li><span><a href=\"#Calculations-and-adding-results-to-the-table.\" data-toc-modified-id=\"Calculations-and-adding-results-to-the-table.-2\"><span class=\"toc-item-num\">2&nbsp;&nbsp;</span>Calculations and adding results to the table.</a></span><ul class=\"toc-item\"><li><span><a href=\"#Price-per-square-meter.\" data-toc-modified-id=\"Price-per-square-meter.-2.1\"><span class=\"toc-item-num\">2.1&nbsp;&nbsp;</span>Price per square meter.</a></span></li><li><span><a href=\"#Day-of-the-week,-month,-and-year-of-the-listing-publication.\" data-toc-modified-id=\"Day-of-the-week,-month,-and-year-of-the-listing-publication.-2.2\"><span class=\"toc-item-num\">2.2&nbsp;&nbsp;</span>Day of the week, month, and year of the listing publication.</a></span></li><li><span><a href=\"#Apartment-floor-level:-options---ground,-top,-other.\" data-toc-modified-id=\"Apartment-floor-level:-options---ground,-top,-other.-2.3\"><span class=\"toc-item-num\">2.3&nbsp;&nbsp;</span>Apartment floor level: options - ground, top, other.</a></span></li><li><span><a href=\"#Ratio-of-living-area-to-total-area,-as-well-as-the-ratio-of-kitchen-area-to-total-area.\" data-toc-modified-id=\"Ratio-of-living-area-to-total-area,-as-well-as-the-ratio-of-kitchen-area-to-total-area.-2.4\"><span class=\"toc-item-num\">2.4&nbsp;&nbsp;</span>Ratio of living area to total area, as well as the ratio of kitchen area to total area.</a></span></li><li><span><a href=\"#Let's-examine-the-following-parameters:-area,-price,-number-of-rooms,-and-ceiling-height.-We-will-create-histograms-for-each-parameter.\" data-toc-modified-id=\"Let's-examine-the-following-parameters:-area,-price,-number-of-rooms,-and-ceiling-height.-We-will-create-histograms-for-each-parameter.-2.5\"><span class=\"toc-item-num\">2.5&nbsp;&nbsp;</span>Let's examine the following parameters: area, price, number of rooms, and ceiling height. We will create histograms for each parameter.</a></span></li><li><span><a href=\"#Time-taken-to-sell-an-apartment.\" data-toc-modified-id=\"Time-taken-to-sell-an-apartment.-2.6\"><span class=\"toc-item-num\">2.6&nbsp;&nbsp;</span>Time taken to sell an apartment.</a></span></li><li><span><a href=\"#Removing-rare-and-outlier-values.\" data-toc-modified-id=\"Removing-rare-and-outlier-values.-2.7\"><span class=\"toc-item-num\">2.7&nbsp;&nbsp;</span>Removing rare and outlier values.</a></span></li><li><span><a href=\"#Correlation-of-apartment-price-with-various-factors.\" data-toc-modified-id=\"Correlation-of-apartment-price-with-various-factors.-2.8\"><span class=\"toc-item-num\">2.8&nbsp;&nbsp;</span>Correlation of apartment price with various factors.</a></span></li><li><span><a href=\"#The-most-significant-locations\" data-toc-modified-id=\"The-most-significant-locations-2.9\"><span class=\"toc-item-num\">2.9&nbsp;&nbsp;</span>The most significant locations</a></span></li><li><span><a href=\"#Distance-from-the-city-center.\" data-toc-modified-id=\"Distance-from-the-city-center.-2.10\"><span class=\"toc-item-num\">2.10&nbsp;&nbsp;</span>Distance from the city center.</a></span></li><li><span><a href=\"#Analysis-of-apartments-in-the-city-center.\" data-toc-modified-id=\"Analysis-of-apartments-in-the-city-center.-2.11\"><span class=\"toc-item-num\">2.11&nbsp;&nbsp;</span>Analysis of apartments in the city center.</a></span></li></ul></li><li><span><a href=\"#Overall-conclusion\" data-toc-modified-id=\"Overall-conclusion-3\"><span class=\"toc-item-num\">3&nbsp;&nbsp;</span>Overall conclusion</a></span></li><li><span><a href=\"#Чек-лист-готовности-проекта\" data-toc-modified-id=\"Чек-лист-готовности-проекта-4\"><span class=\"toc-item-num\">4&nbsp;&nbsp;</span>Чек-лист готовности проекта</a></span></li></ul></div>"
   ]
  },
  {
   "cell_type": "markdown",
   "metadata": {},
   "source": [
    "# Analyzing Real Estate Market\n",
    "We have access to data from the Yandex Real Estate service - an archive of apartment sale listings in St. Petersburg and neighboring areas. over several years. The goal is to learn how to determine the market value of real estate properties. Our task is to establish parameters. This will enable us to build an automated system that will detect anomalies and fraudulent activities.\n",
    "\n",
    "To solve the given task, we will take the following steps:\n",
    "\n",
    "Analyze gaps and anomalies in the data.\n",
    "Construct a correlation matrix between price and various factors.\n",
    "Examine differences in price and correlation matrix across different segments - apartments in the city center and all apartments in general.\n"
   ]
  },
  {
   "cell_type": "markdown",
   "metadata": {},
   "source": [
    "In the end, we should understand which factors the price depends on and which factors it doesn't depend on, as well as gather general information about apartment prices in St. Petersburg and neighboring areas."
   ]
  },
  {
   "cell_type": "markdown",
   "metadata": {},
   "source": [
    "## Exploratory Data Analysis"
   ]
  },
  {
   "cell_type": "code",
   "execution_count": 1,
   "metadata": {},
   "outputs": [],
   "source": [
    "import pandas as pd"
   ]
  },
  {
   "cell_type": "code",
   "execution_count": 2,
   "metadata": {},
   "outputs": [
    {
     "name": "stdout",
     "output_type": "stream",
     "text": [
      "  total_images\\tlast_price\\ttotal_area\\tfirst_day_exposition\\trooms\\tceiling_height\\tfloors_total\\tliving_area\\tfloor\\tis_apartment\\tstudio\\topen_plan\\tkitchen_area\\tbalcony\\tlocality_name\\tairports_nearest\\tcityCenters_nearest\\tparks_around3000\\tparks_nearest\\tponds_around3000\\tponds_nearest\\tdays_exposition\n",
      "0  20\\t13000000.0\\t108.0\\t2019-03-07T00:00:00\\t3\\...                                                                                                                                                                                                                                                                  \n",
      "1  7\\t3350000.0\\t40.4\\t2018-12-04T00:00:00\\t1\\t\\t...                                                                                                                                                                                                                                                                  \n",
      "2  10\\t5196000.0\\t56.0\\t2015-08-20T00:00:00\\t2\\t\\...                                                                                                                                                                                                                                                                  \n",
      "3  0\\t64900000.0\\t159.0\\t2015-07-24T00:00:00\\t3\\t...                                                                                                                                                                                                                                                                  \n",
      "4  2\\t10000000.0\\t100.0\\t2018-06-19T00:00:00\\t2\\t...                                                                                                                                                                                                                                                                  \n"
     ]
    }
   ],
   "source": [
    "data=pd.read_csv('/datasets/real_estate_data.csv')\n",
    "print(data.head())"
   ]
  },
  {
   "cell_type": "markdown",
   "metadata": {},
   "source": [
    "And here's the first issue. The data merged into a single row instead of being split into columns. Let's read the file, specifying the tab character \\t as the delimiter. The parameter \"sep\" is responsible for column separation.\n"
   ]
  },
  {
   "cell_type": "code",
   "execution_count": 3,
   "metadata": {},
   "outputs": [],
   "source": [
    "data=pd.read_csv('/datasets/real_estate_data.csv', sep='\\t')"
   ]
  },
  {
   "cell_type": "code",
   "execution_count": 4,
   "metadata": {},
   "outputs": [
    {
     "data": {
      "text/html": [
       "<div>\n",
       "<style scoped>\n",
       "    .dataframe tbody tr th:only-of-type {\n",
       "        vertical-align: middle;\n",
       "    }\n",
       "\n",
       "    .dataframe tbody tr th {\n",
       "        vertical-align: top;\n",
       "    }\n",
       "\n",
       "    .dataframe thead th {\n",
       "        text-align: right;\n",
       "    }\n",
       "</style>\n",
       "<table border=\"1\" class=\"dataframe\">\n",
       "  <thead>\n",
       "    <tr style=\"text-align: right;\">\n",
       "      <th></th>\n",
       "      <th>total_images</th>\n",
       "      <th>last_price</th>\n",
       "      <th>total_area</th>\n",
       "      <th>first_day_exposition</th>\n",
       "      <th>rooms</th>\n",
       "      <th>ceiling_height</th>\n",
       "      <th>floors_total</th>\n",
       "      <th>living_area</th>\n",
       "      <th>floor</th>\n",
       "      <th>is_apartment</th>\n",
       "      <th>...</th>\n",
       "      <th>kitchen_area</th>\n",
       "      <th>balcony</th>\n",
       "      <th>locality_name</th>\n",
       "      <th>airports_nearest</th>\n",
       "      <th>cityCenters_nearest</th>\n",
       "      <th>parks_around3000</th>\n",
       "      <th>parks_nearest</th>\n",
       "      <th>ponds_around3000</th>\n",
       "      <th>ponds_nearest</th>\n",
       "      <th>days_exposition</th>\n",
       "    </tr>\n",
       "  </thead>\n",
       "  <tbody>\n",
       "    <tr>\n",
       "      <th>0</th>\n",
       "      <td>20</td>\n",
       "      <td>13000000.0</td>\n",
       "      <td>108.0</td>\n",
       "      <td>2019-03-07T00:00:00</td>\n",
       "      <td>3</td>\n",
       "      <td>2.70</td>\n",
       "      <td>16.0</td>\n",
       "      <td>51.0</td>\n",
       "      <td>8</td>\n",
       "      <td>NaN</td>\n",
       "      <td>...</td>\n",
       "      <td>25.0</td>\n",
       "      <td>NaN</td>\n",
       "      <td>Санкт-Петербург</td>\n",
       "      <td>18863.0</td>\n",
       "      <td>16028.0</td>\n",
       "      <td>1.0</td>\n",
       "      <td>482.0</td>\n",
       "      <td>2.0</td>\n",
       "      <td>755.0</td>\n",
       "      <td>NaN</td>\n",
       "    </tr>\n",
       "    <tr>\n",
       "      <th>1</th>\n",
       "      <td>7</td>\n",
       "      <td>3350000.0</td>\n",
       "      <td>40.4</td>\n",
       "      <td>2018-12-04T00:00:00</td>\n",
       "      <td>1</td>\n",
       "      <td>NaN</td>\n",
       "      <td>11.0</td>\n",
       "      <td>18.6</td>\n",
       "      <td>1</td>\n",
       "      <td>NaN</td>\n",
       "      <td>...</td>\n",
       "      <td>11.0</td>\n",
       "      <td>2.0</td>\n",
       "      <td>посёлок Шушары</td>\n",
       "      <td>12817.0</td>\n",
       "      <td>18603.0</td>\n",
       "      <td>0.0</td>\n",
       "      <td>NaN</td>\n",
       "      <td>0.0</td>\n",
       "      <td>NaN</td>\n",
       "      <td>81.0</td>\n",
       "    </tr>\n",
       "    <tr>\n",
       "      <th>2</th>\n",
       "      <td>10</td>\n",
       "      <td>5196000.0</td>\n",
       "      <td>56.0</td>\n",
       "      <td>2015-08-20T00:00:00</td>\n",
       "      <td>2</td>\n",
       "      <td>NaN</td>\n",
       "      <td>5.0</td>\n",
       "      <td>34.3</td>\n",
       "      <td>4</td>\n",
       "      <td>NaN</td>\n",
       "      <td>...</td>\n",
       "      <td>8.3</td>\n",
       "      <td>0.0</td>\n",
       "      <td>Санкт-Петербург</td>\n",
       "      <td>21741.0</td>\n",
       "      <td>13933.0</td>\n",
       "      <td>1.0</td>\n",
       "      <td>90.0</td>\n",
       "      <td>2.0</td>\n",
       "      <td>574.0</td>\n",
       "      <td>558.0</td>\n",
       "    </tr>\n",
       "    <tr>\n",
       "      <th>3</th>\n",
       "      <td>0</td>\n",
       "      <td>64900000.0</td>\n",
       "      <td>159.0</td>\n",
       "      <td>2015-07-24T00:00:00</td>\n",
       "      <td>3</td>\n",
       "      <td>NaN</td>\n",
       "      <td>14.0</td>\n",
       "      <td>NaN</td>\n",
       "      <td>9</td>\n",
       "      <td>NaN</td>\n",
       "      <td>...</td>\n",
       "      <td>NaN</td>\n",
       "      <td>0.0</td>\n",
       "      <td>Санкт-Петербург</td>\n",
       "      <td>28098.0</td>\n",
       "      <td>6800.0</td>\n",
       "      <td>2.0</td>\n",
       "      <td>84.0</td>\n",
       "      <td>3.0</td>\n",
       "      <td>234.0</td>\n",
       "      <td>424.0</td>\n",
       "    </tr>\n",
       "    <tr>\n",
       "      <th>4</th>\n",
       "      <td>2</td>\n",
       "      <td>10000000.0</td>\n",
       "      <td>100.0</td>\n",
       "      <td>2018-06-19T00:00:00</td>\n",
       "      <td>2</td>\n",
       "      <td>3.03</td>\n",
       "      <td>14.0</td>\n",
       "      <td>32.0</td>\n",
       "      <td>13</td>\n",
       "      <td>NaN</td>\n",
       "      <td>...</td>\n",
       "      <td>41.0</td>\n",
       "      <td>NaN</td>\n",
       "      <td>Санкт-Петербург</td>\n",
       "      <td>31856.0</td>\n",
       "      <td>8098.0</td>\n",
       "      <td>2.0</td>\n",
       "      <td>112.0</td>\n",
       "      <td>1.0</td>\n",
       "      <td>48.0</td>\n",
       "      <td>121.0</td>\n",
       "    </tr>\n",
       "  </tbody>\n",
       "</table>\n",
       "<p>5 rows × 22 columns</p>\n",
       "</div>"
      ],
      "text/plain": [
       "   total_images  last_price  total_area first_day_exposition  rooms  \\\n",
       "0            20  13000000.0       108.0  2019-03-07T00:00:00      3   \n",
       "1             7   3350000.0        40.4  2018-12-04T00:00:00      1   \n",
       "2            10   5196000.0        56.0  2015-08-20T00:00:00      2   \n",
       "3             0  64900000.0       159.0  2015-07-24T00:00:00      3   \n",
       "4             2  10000000.0       100.0  2018-06-19T00:00:00      2   \n",
       "\n",
       "   ceiling_height  floors_total  living_area  floor is_apartment  ...  \\\n",
       "0            2.70          16.0         51.0      8          NaN  ...   \n",
       "1             NaN          11.0         18.6      1          NaN  ...   \n",
       "2             NaN           5.0         34.3      4          NaN  ...   \n",
       "3             NaN          14.0          NaN      9          NaN  ...   \n",
       "4            3.03          14.0         32.0     13          NaN  ...   \n",
       "\n",
       "   kitchen_area  balcony    locality_name  airports_nearest  \\\n",
       "0          25.0      NaN  Санкт-Петербург           18863.0   \n",
       "1          11.0      2.0   посёлок Шушары           12817.0   \n",
       "2           8.3      0.0  Санкт-Петербург           21741.0   \n",
       "3           NaN      0.0  Санкт-Петербург           28098.0   \n",
       "4          41.0      NaN  Санкт-Петербург           31856.0   \n",
       "\n",
       "  cityCenters_nearest  parks_around3000  parks_nearest  ponds_around3000  \\\n",
       "0             16028.0               1.0          482.0               2.0   \n",
       "1             18603.0               0.0            NaN               0.0   \n",
       "2             13933.0               1.0           90.0               2.0   \n",
       "3              6800.0               2.0           84.0               3.0   \n",
       "4              8098.0               2.0          112.0               1.0   \n",
       "\n",
       "   ponds_nearest  days_exposition  \n",
       "0          755.0              NaN  \n",
       "1            NaN             81.0  \n",
       "2          574.0            558.0  \n",
       "3          234.0            424.0  \n",
       "4           48.0            121.0  \n",
       "\n",
       "[5 rows x 22 columns]"
      ]
     },
     "metadata": {},
     "output_type": "display_data"
    }
   ],
   "source": [
    "display(data.head())"
   ]
  },
  {
   "cell_type": "code",
   "execution_count": 5,
   "metadata": {},
   "outputs": [
    {
     "name": "stdout",
     "output_type": "stream",
     "text": [
      "<class 'pandas.core.frame.DataFrame'>\n",
      "RangeIndex: 23699 entries, 0 to 23698\n",
      "Data columns (total 22 columns):\n",
      " #   Column                Non-Null Count  Dtype  \n",
      "---  ------                --------------  -----  \n",
      " 0   total_images          23699 non-null  int64  \n",
      " 1   last_price            23699 non-null  float64\n",
      " 2   total_area            23699 non-null  float64\n",
      " 3   first_day_exposition  23699 non-null  object \n",
      " 4   rooms                 23699 non-null  int64  \n",
      " 5   ceiling_height        14504 non-null  float64\n",
      " 6   floors_total          23613 non-null  float64\n",
      " 7   living_area           21796 non-null  float64\n",
      " 8   floor                 23699 non-null  int64  \n",
      " 9   is_apartment          2775 non-null   object \n",
      " 10  studio                23699 non-null  bool   \n",
      " 11  open_plan             23699 non-null  bool   \n",
      " 12  kitchen_area          21421 non-null  float64\n",
      " 13  balcony               12180 non-null  float64\n",
      " 14  locality_name         23650 non-null  object \n",
      " 15  airports_nearest      18157 non-null  float64\n",
      " 16  cityCenters_nearest   18180 non-null  float64\n",
      " 17  parks_around3000      18181 non-null  float64\n",
      " 18  parks_nearest         8079 non-null   float64\n",
      " 19  ponds_around3000      18181 non-null  float64\n",
      " 20  ponds_nearest         9110 non-null   float64\n",
      " 21  days_exposition       20518 non-null  float64\n",
      "dtypes: bool(2), float64(14), int64(3), object(3)\n",
      "memory usage: 3.7+ MB\n"
     ]
    }
   ],
   "source": [
    "data.info()"
   ]
  },
  {
   "cell_type": "markdown",
   "metadata": {},
   "source": [
    "The table consists of 21 columns, with a total of 23699 rows. Each row represents an apartment sale listing. The columns contain various characteristics of the apartment, such as distance to the nearest airport, nearby parks, apartment area, ceiling height, number of balconies, etc. There are a total of 21 characteristics. Out of the 21 columns, 8 columns are completely filled for all listings. The remaining columns contain missing data."
   ]
  },
  {
   "cell_type": "markdown",
   "metadata": {},
   "source": [
    "Let's calculate the proportion of missing values in each column."
   ]
  },
  {
   "cell_type": "code",
   "execution_count": 6,
   "metadata": {},
   "outputs": [
    {
     "data": {
      "text/plain": [
       "total_images            0.000000\n",
       "last_price              0.000000\n",
       "total_area              0.000000\n",
       "first_day_exposition    0.000000\n",
       "rooms                   0.000000\n",
       "ceiling_height          0.387991\n",
       "floors_total            0.003629\n",
       "living_area             0.080299\n",
       "floor                   0.000000\n",
       "is_apartment            0.882906\n",
       "studio                  0.000000\n",
       "open_plan               0.000000\n",
       "kitchen_area            0.096122\n",
       "balcony                 0.486054\n",
       "locality_name           0.002068\n",
       "airports_nearest        0.233850\n",
       "cityCenters_nearest     0.232879\n",
       "parks_around3000        0.232837\n",
       "parks_nearest           0.659100\n",
       "ponds_around3000        0.232837\n",
       "ponds_nearest           0.615596\n",
       "days_exposition         0.134225\n",
       "dtype: float64"
      ]
     },
     "execution_count": 6,
     "metadata": {},
     "output_type": "execute_result"
    }
   ],
   "source": [
    "data.isnull().mean()"
   ]
  },
  {
   "cell_type": "markdown",
   "metadata": {},
   "source": [
    "There is a significant proportion of missing values in the 'is apartment' column, which is 85%. However, this information will not impact our analysis going forward, so there is no need to fill in these missing values."
   ]
  },
  {
   "cell_type": "markdown",
   "metadata": {},
   "source": [
    "Other columns with missing values are listed below."
   ]
  },
  {
   "cell_type": "markdown",
   "metadata": {},
   "source": [
    "balcony                   0.477404  \n",
    "locality_name             0.001232  \n",
    "airports_nearest          0.182852  \n",
    "cityCenters_nearest       0.181336  \n",
    "parks_around3000          0.181241  \n",
    "parks_nearest             0.624254  \n",
    "ponds_around3000          0.181241  \n",
    "ponds_nearest             0.578873  \n",
    "days_exposition           0.162577  \n",
    "living_area_ratio         0.051824  \n",
    "kitchen_area_ratio        0.064519  \n",
    "cityCenters_nearest_km    0.181336  "
   ]
  },
  {
   "cell_type": "markdown",
   "metadata": {},
   "source": [
    "I believe that the missing values in these columns are not critical for further analysis. If we fill them in, we might distort the information even more. Therefore, let's leave them as they are."
   ]
  },
  {
   "cell_type": "markdown",
   "metadata": {},
   "source": [
    "## Calculations and adding results to the table."
   ]
  },
  {
   "cell_type": "markdown",
   "metadata": {},
   "source": [
    "Our task is to learn how to determine the market value of real estate properties. To do this, we need to analyze the dependency of apartment prices on various factors (whether the price depends on the area, number of rooms, distance from the center, floor level - first, last, other).\n",
    "\n",
    "Let's calculate and add to the table: price per square meter, day of the week, month, and year of the listing publication, apartment floor level (first, last, other), ratio of living area to total area, as well as the ratio of kitchen area to total area."
   ]
  },
  {
   "cell_type": "markdown",
   "metadata": {},
   "source": [
    "### Price per square meter."
   ]
  },
  {
   "cell_type": "markdown",
   "metadata": {},
   "source": [
    "Let's find the price per square meter by dividing the price by the total area, and then add the corresponding column named \"price_per_meter.\""
   ]
  },
  {
   "cell_type": "code",
   "execution_count": 7,
   "metadata": {},
   "outputs": [],
   "source": [
    "data['price_per_meter']=data['last_price']/data['total_area']"
   ]
  },
  {
   "cell_type": "code",
   "execution_count": 8,
   "metadata": {},
   "outputs": [
    {
     "data": {
      "text/plain": [
       "111.8348623853211"
      ]
     },
     "execution_count": 8,
     "metadata": {},
     "output_type": "execute_result"
    }
   ],
   "source": [
    "data['price_per_meter'].min()"
   ]
  },
  {
   "cell_type": "code",
   "execution_count": 9,
   "metadata": {},
   "outputs": [
    {
     "data": {
      "text/plain": [
       "1907500.0"
      ]
     },
     "execution_count": 9,
     "metadata": {},
     "output_type": "execute_result"
    }
   ],
   "source": [
    "data['price_per_meter'].max()"
   ]
  },
  {
   "cell_type": "markdown",
   "metadata": {},
   "source": [
    "### Day of the week, month, and year of the listing publication."
   ]
  },
  {
   "cell_type": "code",
   "execution_count": 10,
   "metadata": {},
   "outputs": [
    {
     "name": "stdout",
     "output_type": "stream",
     "text": [
      "0        2019-03-07T00:00:00\n",
      "1        2018-12-04T00:00:00\n",
      "2        2015-08-20T00:00:00\n",
      "3        2015-07-24T00:00:00\n",
      "4        2018-06-19T00:00:00\n",
      "                ...         \n",
      "23694    2017-03-21T00:00:00\n",
      "23695    2018-01-15T00:00:00\n",
      "23696    2018-02-11T00:00:00\n",
      "23697    2017-03-28T00:00:00\n",
      "23698    2017-07-21T00:00:00\n",
      "Name: first_day_exposition, Length: 23699, dtype: object\n"
     ]
    }
   ],
   "source": [
    "print(data['first_day_exposition'])"
   ]
  },
  {
   "cell_type": "code",
   "execution_count": 11,
   "metadata": {},
   "outputs": [],
   "source": [
    "data['first_day_exposition'] = pd.to_datetime(data['first_day_exposition'], format='%Y.%m.%dT%H:%M:%S')"
   ]
  },
  {
   "cell_type": "code",
   "execution_count": 12,
   "metadata": {},
   "outputs": [],
   "source": [
    "data['week_day'] = data['first_day_exposition'].dt.day_name()"
   ]
  },
  {
   "cell_type": "code",
   "execution_count": 13,
   "metadata": {},
   "outputs": [],
   "source": [
    "data['month'] = data['first_day_exposition'].dt.month"
   ]
  },
  {
   "cell_type": "code",
   "execution_count": 14,
   "metadata": {},
   "outputs": [],
   "source": [
    "data['year'] = data['first_day_exposition'].dt.year"
   ]
  },
  {
   "cell_type": "markdown",
   "metadata": {},
   "source": [
    "### Apartment floor level: options - ground, top, other."
   ]
  },
  {
   "cell_type": "code",
   "execution_count": 15,
   "metadata": {},
   "outputs": [],
   "source": [
    "def floor_group(row):\n",
    "    a=row['floor']\n",
    "    b=row['floors_total']\n",
    "    if a==1:\n",
    "        return 'ground'\n",
    "    elif a == b:\n",
    "        return 'top'\n",
    "    return 'other'\n",
    "\n",
    "\n",
    "\n"
   ]
  },
  {
   "cell_type": "markdown",
   "metadata": {},
   "source": [
    "Let's check if the function works. To do this, we will create two lists: one with row values and another with column names. We will create a row and pass it as an argument to the function:"
   ]
  },
  {
   "cell_type": "code",
   "execution_count": 16,
   "metadata": {},
   "outputs": [
    {
     "data": {
      "text/plain": [
       "'other'"
      ]
     },
     "execution_count": 16,
     "metadata": {},
     "output_type": "execute_result"
    }
   ],
   "source": [
    "row_values=[3,5]\n",
    "row_columns=['floor', 'floors_total']\n",
    "row=pd.Series(data=row_values, index=row_columns)\n",
    "floor_group(row)"
   ]
  },
  {
   "cell_type": "code",
   "execution_count": 17,
   "metadata": {},
   "outputs": [
    {
     "data": {
      "text/plain": [
       "'ground'"
      ]
     },
     "execution_count": 17,
     "metadata": {},
     "output_type": "execute_result"
    }
   ],
   "source": [
    "row_values=[1,5]\n",
    "row_columns=['floor', 'floors_total']\n",
    "row=pd.Series(data=row_values, index=row_columns)\n",
    "floor_group(row)"
   ]
  },
  {
   "cell_type": "code",
   "execution_count": 18,
   "metadata": {},
   "outputs": [
    {
     "data": {
      "text/plain": [
       "'top'"
      ]
     },
     "execution_count": 18,
     "metadata": {},
     "output_type": "execute_result"
    }
   ],
   "source": [
    "row_values=[5,5]\n",
    "row_columns=['floor', 'floors_total']\n",
    "row=pd.Series(data=row_values, index=row_columns)\n",
    "floor_group(row)"
   ]
  },
  {
   "cell_type": "markdown",
   "metadata": {},
   "source": [
    "The function works correctly. Let's create a column named 'floor_group' with values from the function floor_group."
   ]
  },
  {
   "cell_type": "code",
   "execution_count": 19,
   "metadata": {},
   "outputs": [],
   "source": [
    "data['floor_group']=data.apply(floor_group, axis=1)"
   ]
  },
  {
   "cell_type": "markdown",
   "metadata": {},
   "source": [
    "Let's verify the result of the function's work."
   ]
  },
  {
   "cell_type": "code",
   "execution_count": 20,
   "metadata": {},
   "outputs": [
    {
     "name": "stdout",
     "output_type": "stream",
     "text": [
      "   total_images  last_price  total_area first_day_exposition  rooms  \\\n",
      "0            20  13000000.0       108.0           2019-03-07      3   \n",
      "1             7   3350000.0        40.4           2018-12-04      1   \n",
      "2            10   5196000.0        56.0           2015-08-20      2   \n",
      "3             0  64900000.0       159.0           2015-07-24      3   \n",
      "4             2  10000000.0       100.0           2018-06-19      2   \n",
      "\n",
      "   ceiling_height  floors_total  living_area  floor is_apartment  ...  \\\n",
      "0            2.70          16.0         51.0      8          NaN  ...   \n",
      "1             NaN          11.0         18.6      1          NaN  ...   \n",
      "2             NaN           5.0         34.3      4          NaN  ...   \n",
      "3             NaN          14.0          NaN      9          NaN  ...   \n",
      "4            3.03          14.0         32.0     13          NaN  ...   \n",
      "\n",
      "   parks_around3000  parks_nearest  ponds_around3000  ponds_nearest  \\\n",
      "0               1.0          482.0               2.0          755.0   \n",
      "1               0.0            NaN               0.0            NaN   \n",
      "2               1.0           90.0               2.0          574.0   \n",
      "3               2.0           84.0               3.0          234.0   \n",
      "4               2.0          112.0               1.0           48.0   \n",
      "\n",
      "  days_exposition  price_per_meter  week_day  month  year  floor_group  \n",
      "0             NaN    120370.370370  Thursday      3  2019        other  \n",
      "1            81.0     82920.792079   Tuesday     12  2018       ground  \n",
      "2           558.0     92785.714286  Thursday      8  2015        other  \n",
      "3           424.0    408176.100629    Friday      7  2015        other  \n",
      "4           121.0    100000.000000   Tuesday      6  2018        other  \n",
      "\n",
      "[5 rows x 27 columns]\n"
     ]
    }
   ],
   "source": [
    "print(data.head())"
   ]
  },
  {
   "cell_type": "markdown",
   "metadata": {},
   "source": [
    "The 'floor_group' column has been successfully added."
   ]
  },
  {
   "cell_type": "markdown",
   "metadata": {},
   "source": [
    "### Ratio of living area to total area, as well as the ratio of kitchen area to total area."
   ]
  },
  {
   "cell_type": "markdown",
   "metadata": {},
   "source": [
    "Let's add a column for the ratio of living area to total area data['living_area_ratio']"
   ]
  },
  {
   "cell_type": "code",
   "execution_count": 21,
   "metadata": {},
   "outputs": [],
   "source": [
    "data['living_area_ratio']=data['living_area']/data['total_area']"
   ]
  },
  {
   "cell_type": "code",
   "execution_count": 22,
   "metadata": {},
   "outputs": [
    {
     "data": {
      "text/plain": [
       "count    21796.000000\n",
       "mean         0.564766\n",
       "std          0.105368\n",
       "min          0.021583\n",
       "25%          0.495177\n",
       "50%          0.567860\n",
       "75%          0.637880\n",
       "max          1.000000\n",
       "Name: living_area_ratio, dtype: float64"
      ]
     },
     "execution_count": 22,
     "metadata": {},
     "output_type": "execute_result"
    }
   ],
   "source": [
    "data['living_area_ratio'].describe()"
   ]
  },
  {
   "cell_type": "markdown",
   "metadata": {},
   "source": [
    "Let's add a column for the ratio of kitchen area to total area: data['kitchen_area_ratio']."
   ]
  },
  {
   "cell_type": "code",
   "execution_count": 23,
   "metadata": {},
   "outputs": [],
   "source": [
    "data['kitchen_area_ratio']=data['kitchen_area']/data['total_area']"
   ]
  },
  {
   "cell_type": "code",
   "execution_count": 24,
   "metadata": {},
   "outputs": [
    {
     "name": "stdout",
     "output_type": "stream",
     "text": [
      "0        0.231481\n",
      "1        0.272277\n",
      "2        0.148214\n",
      "3             NaN\n",
      "4        0.410000\n",
      "           ...   \n",
      "23694    0.103356\n",
      "23695    0.144068\n",
      "23696         NaN\n",
      "23697    0.303583\n",
      "23698    0.278638\n",
      "Name: kitchen_area_ratio, Length: 23699, dtype: float64\n"
     ]
    }
   ],
   "source": [
    "print (data['kitchen_area_ratio'])"
   ]
  },
  {
   "cell_type": "markdown",
   "metadata": {},
   "source": [
    "### Let's examine the following parameters: area, price, number of rooms, and ceiling height. We will create histograms for each parameter."
   ]
  },
  {
   "cell_type": "code",
   "execution_count": 25,
   "metadata": {},
   "outputs": [
    {
     "name": "stdout",
     "output_type": "stream",
     "text": [
      "0        108.00\n",
      "1         40.40\n",
      "2         56.00\n",
      "3        159.00\n",
      "4        100.00\n",
      "          ...  \n",
      "23694    133.81\n",
      "23695     59.00\n",
      "23696     56.70\n",
      "23697     76.75\n",
      "23698     32.30\n",
      "Name: total_area, Length: 23699, dtype: float64\n"
     ]
    }
   ],
   "source": [
    "print(data['total_area'])"
   ]
  },
  {
   "cell_type": "code",
   "execution_count": 78,
   "metadata": {},
   "outputs": [
    {
     "data": {
      "image/png": "[encoded data removed]",
      "text/plain": [
       "<Figure size 432x288 with 1 Axes>"
      ]
     },
     "metadata": {
      "needs_background": "light"
     },
     "output_type": "display_data"
    }
   ],
   "source": [
    "import matplotlib.pyplot as plt\n",
    "\n",
    "data['total_area'].hist(range=(0, 200))\n",
    "plt.xlabel('Total Area (square meters)')\n",
    "plt.ylabel('Number of Apartments')\n",
    "plt.legend(['Total Area'])\n",
    "plt.show()"
   ]
  },
  {
   "cell_type": "markdown",
   "metadata": {},
   "source": [
    "We can observe that the majority of apartments have an area of around 50 square meters. There are also a significant number of apartments with areas ranging from 25 to 75 square meters. The remaining values appear to be exceptions."
   ]
  },
  {
   "cell_type": "markdown",
   "metadata": {},
   "source": [
    "Let's validate our observation using the describe method."
   ]
  },
  {
   "cell_type": "code",
   "execution_count": 27,
   "metadata": {},
   "outputs": [
    {
     "data": {
      "text/plain": [
       "count    23699.000000\n",
       "mean        60.348651\n",
       "std         35.654083\n",
       "min         12.000000\n",
       "25%         40.000000\n",
       "50%         52.000000\n",
       "75%         69.900000\n",
       "max        900.000000\n",
       "Name: total_area, dtype: float64"
      ]
     },
     "execution_count": 27,
     "metadata": {},
     "output_type": "execute_result"
    }
   ],
   "source": [
    "data['total_area'].describe()"
   ]
  },
  {
   "cell_type": "markdown",
   "metadata": {},
   "source": [
    "Indeed, up to 75% of all apartments have a total area of 69 square meters or less. The median is 52 square meters, and the average area of the sold apartments is 60 square meters. The standard deviation is approximately ±35 square meters.\n"
   ]
  },
  {
   "cell_type": "code",
   "execution_count": 28,
   "metadata": {},
   "outputs": [
    {
     "data": {
      "text/plain": [
       "count    2.369900e+04\n",
       "mean     6.541549e+06\n",
       "std      1.088701e+07\n",
       "min      1.219000e+04\n",
       "25%      3.400000e+06\n",
       "50%      4.650000e+06\n",
       "75%      6.800000e+06\n",
       "max      7.630000e+08\n",
       "Name: last_price, dtype: float64"
      ]
     },
     "execution_count": 28,
     "metadata": {},
     "output_type": "execute_result"
    }
   ],
   "source": [
    "data['last_price'].describe()"
   ]
  },
  {
   "cell_type": "code",
   "execution_count": 84,
   "metadata": {},
   "outputs": [],
   "source": [
    "data['last_price']=data['last_price']/1000000"
   ]
  },
  {
   "cell_type": "code",
   "execution_count": 86,
   "metadata": {},
   "outputs": [
    {
     "data": {
      "text/plain": [
       "count    1.067600e+04\n",
       "mean     7.043075e-12\n",
       "std      7.544978e-12\n",
       "min      1.219000e-14\n",
       "25%      3.850000e-12\n",
       "50%      5.300000e-12\n",
       "75%      7.900000e-12\n",
       "max      3.300000e-10\n",
       "Name: last_price, dtype: float64"
      ]
     },
     "execution_count": 86,
     "metadata": {},
     "output_type": "execute_result"
    }
   ],
   "source": [
    "data['last_price'].describe()"
   ]
  },
  {
   "cell_type": "markdown",
   "metadata": {},
   "source": [
    "The price column does not have missing data, which indicates that the values are quite reliable. We can see that the median price is 4.65 million rubles. The majority of apartments are priced between 3 and 5 million rubles, with a peak around 4 million rubles."
   ]
  },
  {
   "cell_type": "code",
   "execution_count": 32,
   "metadata": {},
   "outputs": [
    {
     "data": {
      "text/plain": [
       "count    23699.000000\n",
       "mean         2.070636\n",
       "std          1.078405\n",
       "min          0.000000\n",
       "25%          1.000000\n",
       "50%          2.000000\n",
       "75%          3.000000\n",
       "max         19.000000\n",
       "Name: rooms, dtype: float64"
      ]
     },
     "execution_count": 32,
     "metadata": {},
     "output_type": "execute_result"
    }
   ],
   "source": [
    "data['rooms'].describe()"
   ]
  },
  {
   "cell_type": "code",
   "execution_count": 33,
   "metadata": {},
   "outputs": [
    {
     "data": {
      "text/plain": [
       "<AxesSubplot:>"
      ]
     },
     "execution_count": 33,
     "metadata": {},
     "output_type": "execute_result"
    },
    {
     "data": {
      "image/png": "[encoded data removed]",
      "text/plain": [
       "<Figure size 432x288 with 1 Axes>"
      ]
     },
     "metadata": {
      "needs_background": "light"
     },
     "output_type": "display_data"
    }
   ],
   "source": [
    "data['rooms'].hist()"
   ]
  },
  {
   "cell_type": "markdown",
   "metadata": {},
   "source": [
    "The average number of rooms is 2 rooms. 50% of the apartments being sold have 2 rooms."
   ]
  },
  {
   "cell_type": "code",
   "execution_count": 34,
   "metadata": {},
   "outputs": [
    {
     "data": {
      "text/plain": [
       "count    14504.000000\n",
       "mean         2.771499\n",
       "std          1.261056\n",
       "min          1.000000\n",
       "25%          2.520000\n",
       "50%          2.650000\n",
       "75%          2.800000\n",
       "max        100.000000\n",
       "Name: ceiling_height, dtype: float64"
      ]
     },
     "execution_count": 34,
     "metadata": {},
     "output_type": "execute_result"
    }
   ],
   "source": [
    "data['ceiling_height'].describe()"
   ]
  },
  {
   "cell_type": "code",
   "execution_count": 35,
   "metadata": {},
   "outputs": [
    {
     "data": {
      "text/plain": [
       "<AxesSubplot:>"
      ]
     },
     "execution_count": 35,
     "metadata": {},
     "output_type": "execute_result"
    },
    {
     "data": {
      "image/png": "[encoded data removed]",
      "text/plain": [
       "<Figure size 432x288 with 1 Axes>"
      ]
     },
     "metadata": {
      "needs_background": "light"
     },
     "output_type": "display_data"
    }
   ],
   "source": [
    "data['ceiling_height'].hist(range=(2,5))"
   ]
  },
  {
   "cell_type": "markdown",
   "metadata": {},
   "source": [
    "Ceiling height is specified in only a portion of the listings - 14500 out of 23400. From the provided data, it can be observed that the majority of apartments have a ceiling height of 2.6 meters. The average ceiling height is 2.7 meters, but this average is heavily skewed by the maximum values. The median ceiling height is 2.65 meters."
   ]
  },
  {
   "cell_type": "markdown",
   "metadata": {},
   "source": [
    "### Time taken to sell an apartment."
   ]
  },
  {
   "cell_type": "markdown",
   "metadata": {},
   "source": [
    "Let's examine the time it takes to sell an apartment in the 'days_exposition' column."
   ]
  },
  {
   "cell_type": "code",
   "execution_count": 36,
   "metadata": {},
   "outputs": [
    {
     "data": {
      "text/plain": [
       "count    20518.000000\n",
       "mean       180.888634\n",
       "std        219.727988\n",
       "min          1.000000\n",
       "25%         45.000000\n",
       "50%         95.000000\n",
       "75%        232.000000\n",
       "max       1580.000000\n",
       "Name: days_exposition, dtype: float64"
      ]
     },
     "execution_count": 36,
     "metadata": {},
     "output_type": "execute_result"
    }
   ],
   "source": [
    "data['days_exposition'].describe()"
   ]
  },
  {
   "cell_type": "markdown",
   "metadata": {},
   "source": [
    "The average time for a sale is 180 days. The median value is 95 days. Such a difference is due to a large number of values significantly exceeding the average. 25% of values lie within the range up to 45 days, while another 25% lie in the range greater than 232 days. This means that if a sale took more than 232 days, it can be considered a very long sale. If a sale took place within 45 days, it can be considered a very quick sale. Let's create a graph to visualize this."
   ]
  },
  {
   "cell_type": "code",
   "execution_count": 90,
   "metadata": {},
   "outputs": [
    {
     "data": {
      "image/png": "[encoded data removed]",
      "text/plain": [
       "<Figure size 432x288 with 1 Axes>"
      ]
     },
     "metadata": {
      "needs_background": "light"
     },
     "output_type": "display_data"
    }
   ],
   "source": [
    "data['days_exposition'].hist(range=(0, 600), bins=50)\n",
    "plt.xlabel('Days on Market')\n",
    "plt.ylabel('Number of Apartments')\n",
    "plt.legend(['Days on Market'])\n",
    "plt.show()"
   ]
  },
  {
   "cell_type": "markdown",
   "metadata": {},
   "source": [
    "As seen from the graph, the majority of apartments are sold within the period of 0 to 200 days. By adding the parameter range=(0,300) to the histogram, you can focus in detail on the sales period from 0 to 300 days."
   ]
  },
  {
   "cell_type": "code",
   "execution_count": 38,
   "metadata": {},
   "outputs": [
    {
     "data": {
      "text/plain": [
       "<AxesSubplot:>"
      ]
     },
     "execution_count": 38,
     "metadata": {},
     "output_type": "execute_result"
    },
    {
     "data": {
      "image/png": "[encoded data removed]",
      "text/plain": [
       "<Figure size 432x288 with 1 Axes>"
      ]
     },
     "metadata": {
      "needs_background": "light"
     },
     "output_type": "display_data"
    }
   ],
   "source": [
    "data['days_exposition'].hist(range=(0,300))"
   ]
  },
  {
   "cell_type": "markdown",
   "metadata": {},
   "source": [
    "After a more detailed examination of the graph, it's evident that the majority of apartments are sold within a period of up to 60 days."
   ]
  },
  {
   "cell_type": "markdown",
   "metadata": {},
   "source": [
    "### Removing rare and outlier values."
   ]
  },
  {
   "cell_type": "markdown",
   "metadata": {},
   "source": [
    "Let's remove rare values for the 'total_area' column. From the histogram, it's apparent that when values are above 200 square meters, the histogram merges with zero."
   ]
  },
  {
   "cell_type": "code",
   "execution_count": 39,
   "metadata": {},
   "outputs": [],
   "source": [
    "data=data.query('total_area<200')"
   ]
  },
  {
   "cell_type": "code",
   "execution_count": 40,
   "metadata": {},
   "outputs": [
    {
     "data": {
      "text/plain": [
       "count    23468.000000\n",
       "mean        58.155629\n",
       "std         26.469479\n",
       "min         12.000000\n",
       "25%         40.000000\n",
       "50%         51.900000\n",
       "75%         68.900000\n",
       "max        199.200000\n",
       "Name: total_area, dtype: float64"
      ]
     },
     "execution_count": 40,
     "metadata": {},
     "output_type": "execute_result"
    }
   ],
   "source": [
    "data['total_area'].describe()"
   ]
  },
  {
   "cell_type": "markdown",
   "metadata": {},
   "source": [
    "Отбросим редкие значения для столбца last_price. Из гистограммы видно, что при значениях более 30 млн. руб.гистрограмма сливается с нулем.  "
   ]
  },
  {
   "cell_type": "code",
   "execution_count": 41,
   "metadata": {},
   "outputs": [
    {
     "data": {
      "text/plain": [
       "count    23468.000000\n",
       "mean         6.022580\n",
       "std          6.226899\n",
       "min          0.012190\n",
       "25%          3.400000\n",
       "50%          4.600000\n",
       "75%          6.700000\n",
       "max        330.000000\n",
       "Name: last_price, dtype: float64"
      ]
     },
     "execution_count": 41,
     "metadata": {},
     "output_type": "execute_result"
    }
   ],
   "source": [
    "data['last_price'].describe()"
   ]
  },
  {
   "cell_type": "markdown",
   "metadata": {},
   "source": [
    "Let's get rid of the scientific notation and convert the values in the 'last_price' column from rubles to million rubles."
   ]
  },
  {
   "cell_type": "code",
   "execution_count": 42,
   "metadata": {},
   "outputs": [],
   "source": [
    "data['last_price']=data['last_price']/1000000"
   ]
  },
  {
   "cell_type": "code",
   "execution_count": 43,
   "metadata": {},
   "outputs": [],
   "source": [
    "data=data.query('last_price<30')"
   ]
  },
  {
   "cell_type": "code",
   "execution_count": 44,
   "metadata": {},
   "outputs": [
    {
     "data": {
      "text/html": [
       "<div>\n",
       "<style scoped>\n",
       "    .dataframe tbody tr th:only-of-type {\n",
       "        vertical-align: middle;\n",
       "    }\n",
       "\n",
       "    .dataframe tbody tr th {\n",
       "        vertical-align: top;\n",
       "    }\n",
       "\n",
       "    .dataframe thead th {\n",
       "        text-align: right;\n",
       "    }\n",
       "</style>\n",
       "<table border=\"1\" class=\"dataframe\">\n",
       "  <thead>\n",
       "    <tr style=\"text-align: right;\">\n",
       "      <th></th>\n",
       "      <th>total_images</th>\n",
       "      <th>last_price</th>\n",
       "      <th>total_area</th>\n",
       "      <th>first_day_exposition</th>\n",
       "      <th>rooms</th>\n",
       "      <th>ceiling_height</th>\n",
       "      <th>floors_total</th>\n",
       "      <th>living_area</th>\n",
       "      <th>floor</th>\n",
       "      <th>is_apartment</th>\n",
       "      <th>...</th>\n",
       "      <th>ponds_around3000</th>\n",
       "      <th>ponds_nearest</th>\n",
       "      <th>days_exposition</th>\n",
       "      <th>price_per_meter</th>\n",
       "      <th>week_day</th>\n",
       "      <th>month</th>\n",
       "      <th>year</th>\n",
       "      <th>floor_group</th>\n",
       "      <th>living_area_ratio</th>\n",
       "      <th>kitchen_area_ratio</th>\n",
       "    </tr>\n",
       "  </thead>\n",
       "  <tbody>\n",
       "    <tr>\n",
       "      <th>0</th>\n",
       "      <td>20</td>\n",
       "      <td>0.000013</td>\n",
       "      <td>108.0</td>\n",
       "      <td>2019-03-07</td>\n",
       "      <td>3</td>\n",
       "      <td>2.70</td>\n",
       "      <td>16.0</td>\n",
       "      <td>51.0</td>\n",
       "      <td>8</td>\n",
       "      <td>NaN</td>\n",
       "      <td>...</td>\n",
       "      <td>2.0</td>\n",
       "      <td>755.0</td>\n",
       "      <td>NaN</td>\n",
       "      <td>120370.370370</td>\n",
       "      <td>Thursday</td>\n",
       "      <td>3</td>\n",
       "      <td>2019</td>\n",
       "      <td>other</td>\n",
       "      <td>0.472222</td>\n",
       "      <td>0.231481</td>\n",
       "    </tr>\n",
       "    <tr>\n",
       "      <th>1</th>\n",
       "      <td>7</td>\n",
       "      <td>0.000003</td>\n",
       "      <td>40.4</td>\n",
       "      <td>2018-12-04</td>\n",
       "      <td>1</td>\n",
       "      <td>NaN</td>\n",
       "      <td>11.0</td>\n",
       "      <td>18.6</td>\n",
       "      <td>1</td>\n",
       "      <td>NaN</td>\n",
       "      <td>...</td>\n",
       "      <td>0.0</td>\n",
       "      <td>NaN</td>\n",
       "      <td>81.0</td>\n",
       "      <td>82920.792079</td>\n",
       "      <td>Tuesday</td>\n",
       "      <td>12</td>\n",
       "      <td>2018</td>\n",
       "      <td>ground</td>\n",
       "      <td>0.460396</td>\n",
       "      <td>0.272277</td>\n",
       "    </tr>\n",
       "    <tr>\n",
       "      <th>2</th>\n",
       "      <td>10</td>\n",
       "      <td>0.000005</td>\n",
       "      <td>56.0</td>\n",
       "      <td>2015-08-20</td>\n",
       "      <td>2</td>\n",
       "      <td>NaN</td>\n",
       "      <td>5.0</td>\n",
       "      <td>34.3</td>\n",
       "      <td>4</td>\n",
       "      <td>NaN</td>\n",
       "      <td>...</td>\n",
       "      <td>2.0</td>\n",
       "      <td>574.0</td>\n",
       "      <td>558.0</td>\n",
       "      <td>92785.714286</td>\n",
       "      <td>Thursday</td>\n",
       "      <td>8</td>\n",
       "      <td>2015</td>\n",
       "      <td>other</td>\n",
       "      <td>0.612500</td>\n",
       "      <td>0.148214</td>\n",
       "    </tr>\n",
       "    <tr>\n",
       "      <th>3</th>\n",
       "      <td>0</td>\n",
       "      <td>0.000065</td>\n",
       "      <td>159.0</td>\n",
       "      <td>2015-07-24</td>\n",
       "      <td>3</td>\n",
       "      <td>NaN</td>\n",
       "      <td>14.0</td>\n",
       "      <td>NaN</td>\n",
       "      <td>9</td>\n",
       "      <td>NaN</td>\n",
       "      <td>...</td>\n",
       "      <td>3.0</td>\n",
       "      <td>234.0</td>\n",
       "      <td>424.0</td>\n",
       "      <td>408176.100629</td>\n",
       "      <td>Friday</td>\n",
       "      <td>7</td>\n",
       "      <td>2015</td>\n",
       "      <td>other</td>\n",
       "      <td>NaN</td>\n",
       "      <td>NaN</td>\n",
       "    </tr>\n",
       "    <tr>\n",
       "      <th>4</th>\n",
       "      <td>2</td>\n",
       "      <td>0.000010</td>\n",
       "      <td>100.0</td>\n",
       "      <td>2018-06-19</td>\n",
       "      <td>2</td>\n",
       "      <td>3.03</td>\n",
       "      <td>14.0</td>\n",
       "      <td>32.0</td>\n",
       "      <td>13</td>\n",
       "      <td>NaN</td>\n",
       "      <td>...</td>\n",
       "      <td>1.0</td>\n",
       "      <td>48.0</td>\n",
       "      <td>121.0</td>\n",
       "      <td>100000.000000</td>\n",
       "      <td>Tuesday</td>\n",
       "      <td>6</td>\n",
       "      <td>2018</td>\n",
       "      <td>other</td>\n",
       "      <td>0.320000</td>\n",
       "      <td>0.410000</td>\n",
       "    </tr>\n",
       "  </tbody>\n",
       "</table>\n",
       "<p>5 rows × 29 columns</p>\n",
       "</div>"
      ],
      "text/plain": [
       "   total_images  last_price  total_area first_day_exposition  rooms  \\\n",
       "0            20    0.000013       108.0           2019-03-07      3   \n",
       "1             7    0.000003        40.4           2018-12-04      1   \n",
       "2            10    0.000005        56.0           2015-08-20      2   \n",
       "3             0    0.000065       159.0           2015-07-24      3   \n",
       "4             2    0.000010       100.0           2018-06-19      2   \n",
       "\n",
       "   ceiling_height  floors_total  living_area  floor is_apartment  ...  \\\n",
       "0            2.70          16.0         51.0      8          NaN  ...   \n",
       "1             NaN          11.0         18.6      1          NaN  ...   \n",
       "2             NaN           5.0         34.3      4          NaN  ...   \n",
       "3             NaN          14.0          NaN      9          NaN  ...   \n",
       "4            3.03          14.0         32.0     13          NaN  ...   \n",
       "\n",
       "   ponds_around3000  ponds_nearest  days_exposition  price_per_meter  \\\n",
       "0               2.0          755.0              NaN    120370.370370   \n",
       "1               0.0            NaN             81.0     82920.792079   \n",
       "2               2.0          574.0            558.0     92785.714286   \n",
       "3               3.0          234.0            424.0    408176.100629   \n",
       "4               1.0           48.0            121.0    100000.000000   \n",
       "\n",
       "   week_day  month  year  floor_group  living_area_ratio  kitchen_area_ratio  \n",
       "0  Thursday      3  2019        other           0.472222            0.231481  \n",
       "1   Tuesday     12  2018       ground           0.460396            0.272277  \n",
       "2  Thursday      8  2015        other           0.612500            0.148214  \n",
       "3    Friday      7  2015        other                NaN                 NaN  \n",
       "4   Tuesday      6  2018        other           0.320000            0.410000  \n",
       "\n",
       "[5 rows x 29 columns]"
      ]
     },
     "metadata": {},
     "output_type": "display_data"
    }
   ],
   "source": [
    "display(data.head())"
   ]
  },
  {
   "cell_type": "markdown",
   "metadata": {},
   "source": [
    "Let's remove rare values for the 'ceiling_height' column. From the histogram, it's apparent that when values are above 4 meters and below 2.3 meters, the histogram merges with zero."
   ]
  },
  {
   "cell_type": "code",
   "execution_count": 45,
   "metadata": {},
   "outputs": [],
   "source": [
    "data=data.query('2.5<ceiling_height<4')"
   ]
  },
  {
   "cell_type": "code",
   "execution_count": 46,
   "metadata": {},
   "outputs": [
    {
     "data": {
      "text/plain": [
       "count    10676.000000\n",
       "mean         2.784797\n",
       "std          0.240477\n",
       "min          2.510000\n",
       "25%          2.600000\n",
       "50%          2.700000\n",
       "75%          2.872500\n",
       "max          3.980000\n",
       "Name: ceiling_height, dtype: float64"
      ]
     },
     "execution_count": 46,
     "metadata": {},
     "output_type": "execute_result"
    }
   ],
   "source": [
    "data['ceiling_height'].describe()"
   ]
  },
  {
   "cell_type": "markdown",
   "metadata": {},
   "source": [
    "### Correlation of apartment price with various factors."
   ]
  },
  {
   "cell_type": "markdown",
   "metadata": {},
   "source": [
    "Let's calculate the Pearson correlation coefficient. The closer the value of the Pearson coefficient is to 1, the stronger the dependency.\n",
    "\n",
    "We will build a correlation matrix for the parameters 'last_price', 'total_area', 'rooms', 'cityCenters_nearest'."
   ]
  },
  {
   "cell_type": "code",
   "execution_count": 47,
   "metadata": {},
   "outputs": [],
   "source": [
    "price_factors=data[['last_price', 'total_area', 'rooms', 'cityCenters_nearest']].corr()"
   ]
  },
  {
   "cell_type": "code",
   "execution_count": 48,
   "metadata": {},
   "outputs": [
    {
     "name": "stdout",
     "output_type": "stream",
     "text": [
      "                     last_price  total_area     rooms  cityCenters_nearest\n",
      "last_price             1.000000    0.626295  0.380504            -0.258155\n",
      "total_area             0.626295    1.000000  0.809007            -0.246887\n",
      "rooms                  0.380504    0.809007  1.000000            -0.200957\n",
      "cityCenters_nearest   -0.258155   -0.246887 -0.200957             1.000000\n"
     ]
    }
   ],
   "source": [
    "print(price_factors)"
   ]
  },
  {
   "cell_type": "markdown",
   "metadata": {},
   "source": [
    "We can observe that the price is highly correlated with the total area (Pearson coefficient is 0.62). The price is slightly dependent on the number of rooms (Pearson coefficient is 0.38), and there is a negative correlation with the distance from the city center (Pearson coefficient is -0.25)."
   ]
  },
  {
   "cell_type": "markdown",
   "metadata": {},
   "source": [
    "Lets visualize this using sns.pairplot().  "
   ]
  },
  {
   "cell_type": "code",
   "execution_count": 49,
   "metadata": {},
   "outputs": [],
   "source": [
    "import seaborn as sns"
   ]
  },
  {
   "cell_type": "code",
   "execution_count": 50,
   "metadata": {},
   "outputs": [
    {
     "data": {
      "text/plain": [
       "<seaborn.axisgrid.PairGrid at 0x7f1b7a9e1ee0>"
      ]
     },
     "execution_count": 50,
     "metadata": {},
     "output_type": "execute_result"
    },
    {
     "data": {
      "image/png": "[encoded data removed]",
      "text/plain": [
       "<Figure size 720x720 with 20 Axes>"
      ]
     },
     "metadata": {
      "needs_background": "light"
     },
     "output_type": "display_data"
    }
   ],
   "source": [
    "sns.pairplot(price_factors)"
   ]
  },
  {
   "cell_type": "markdown",
   "metadata": {},
   "source": [
    "The graph illustrates how the price increases with the growth of area and the number of rooms. Additionally, as the distance from the city center decreases, the price tends to rise."
   ]
  },
  {
   "cell_type": "markdown",
   "metadata": {},
   "source": [
    "Let's analyze the relationship between price and other factors such as floor level (first, last, other) and the listing date."
   ]
  },
  {
   "cell_type": "code",
   "execution_count": 51,
   "metadata": {},
   "outputs": [],
   "source": [
    "data_weekdays=data.pivot_table(index='week_day', values='last_price', aggfunc=['mean'])"
   ]
  },
  {
   "cell_type": "code",
   "execution_count": 52,
   "metadata": {},
   "outputs": [
    {
     "data": {
      "text/plain": [
       "<AxesSubplot:xlabel='week_day'>"
      ]
     },
     "execution_count": 52,
     "metadata": {},
     "output_type": "execute_result"
    },
    {
     "data": {
      "image/png": "[encoded data removed]",
      "text/plain": [
       "<Figure size 432x288 with 1 Axes>"
      ]
     },
     "metadata": {
      "needs_background": "light"
     },
     "output_type": "display_data"
    }
   ],
   "source": [
    "data_weekdays.plot(y='mean', kind='bar')"
   ]
  },
  {
   "cell_type": "code",
   "execution_count": 53,
   "metadata": {},
   "outputs": [],
   "source": [
    "data_month=data.pivot_table(index='month', values='last_price', aggfunc=['mean'])"
   ]
  },
  {
   "cell_type": "code",
   "execution_count": 54,
   "metadata": {},
   "outputs": [
    {
     "data": {
      "text/plain": [
       "<AxesSubplot:xlabel='month'>"
      ]
     },
     "execution_count": 54,
     "metadata": {},
     "output_type": "execute_result"
    },
    {
     "data": {
      "image/png": "[encoded data removed]",
      "text/plain": [
       "<Figure size 432x288 with 1 Axes>"
      ]
     },
     "metadata": {
      "needs_background": "light"
     },
     "output_type": "display_data"
    }
   ],
   "source": [
    "data_month.plot(y='mean', kind='bar')"
   ]
  },
  {
   "cell_type": "code",
   "execution_count": 55,
   "metadata": {},
   "outputs": [],
   "source": [
    "data_floor_group=data.pivot_table(index='floor_group', values='last_price', aggfunc=['mean'])"
   ]
  },
  {
   "cell_type": "markdown",
   "metadata": {},
   "source": [
    "From the above graphs, it's evident that neither the day of the week nor the month significantly influence the average price. The price appears to be roughly consistent across months and days."
   ]
  },
  {
   "cell_type": "code",
   "execution_count": 56,
   "metadata": {},
   "outputs": [
    {
     "data": {
      "text/plain": [
       "<AxesSubplot:xlabel='floor_group'>"
      ]
     },
     "execution_count": 56,
     "metadata": {},
     "output_type": "execute_result"
    },
    {
     "data": {
      "image/png": "[encoded data removed]",
      "text/plain": [
       "<Figure size 432x288 with 1 Axes>"
      ]
     },
     "metadata": {
      "needs_background": "light"
     },
     "output_type": "display_data"
    }
   ],
   "source": [
    "data_floor_group.plot(y='mean', kind='bar')"
   ]
  },
  {
   "cell_type": "markdown",
   "metadata": {},
   "source": [
    "From the graph, it's apparent that the average price is slightly lower (around 15%) on the first floor, and it's roughly similar on other and last floors."
   ]
  },
  {
   "cell_type": "code",
   "execution_count": 57,
   "metadata": {},
   "outputs": [],
   "source": [
    "data_year=data.pivot_table(index='year', values='last_price', aggfunc=['mean'])"
   ]
  },
  {
   "cell_type": "code",
   "execution_count": 58,
   "metadata": {},
   "outputs": [
    {
     "data": {
      "text/plain": [
       "<AxesSubplot:xlabel='year'>"
      ]
     },
     "execution_count": 58,
     "metadata": {},
     "output_type": "execute_result"
    },
    {
     "data": {
      "image/png": "[encoded data removed]",
      "text/plain": [
       "<Figure size 432x288 with 1 Axes>"
      ]
     },
     "metadata": {
      "needs_background": "light"
     },
     "output_type": "display_data"
    }
   ],
   "source": [
    "data_year.plot(y='mean', kind='bar')"
   ]
  },
  {
   "cell_type": "markdown",
   "metadata": {},
   "source": [
    "The graph shows that the average price was the highest in 2014. Afterward, there was a sharp drop (around 30%), and since 2014, the price has remained relatively stable without significant changes."
   ]
  },
  {
   "cell_type": "markdown",
   "metadata": {},
   "source": [
    "### The most significant locations"
   ]
  },
  {
   "cell_type": "markdown",
   "metadata": {},
   "source": [
    "Lets choose locations with the greatest amount of apartments"
   ]
  },
  {
   "cell_type": "code",
   "execution_count": 59,
   "metadata": {},
   "outputs": [
    {
     "data": {
      "text/plain": [
       "array(['Санкт-Петербург', 'Петергоф', 'посёлок Парголово',\n",
       "       'деревня Кудрово', 'Пушкин', 'посёлок Мурино', 'Сертолово',\n",
       "       'поселок Мурино', 'деревня Фёдоровское', 'Выборг', 'Кронштадт',\n",
       "       'Кировск', 'деревня Новое Девяткино',\n",
       "       'садовое товарищество Новая Ропша', 'Павловск', 'Всеволожск',\n",
       "       'Ломоносов', 'Кингисепп', 'Сестрорецк', 'деревня Куттузи',\n",
       "       'поселок Торковичи', 'поселок Первомайское', 'посёлок Понтонный',\n",
       "       'деревня Старая', 'деревня Лесколово', 'Колпино', 'Красное Село',\n",
       "       'село Путилово', 'Волхов', 'посёлок Шушары', 'Никольское',\n",
       "       'Зеленогорск', 'деревня Кальтино', 'Кудрово', 'Луга', 'Ивангород',\n",
       "       'посёлок городского типа Красный Бор', 'поселок Бугры',\n",
       "       'посёлок Металлострой', 'посёлок Победа',\n",
       "       'поселок городского типа Синявино', 'Тосно', 'Волосово',\n",
       "       'поселок Романовка', 'посёлок Александровская',\n",
       "       'деревня Лопухинка', 'поселок городского типа Советский',\n",
       "       'Гатчина', 'посёлок Петровское', 'посёлок городского типа Токсово',\n",
       "       'поселок Новый Свет', 'поселок городского типа Рощино',\n",
       "       'посёлок городского типа Кузьмоловский', 'посёлок Тельмана',\n",
       "       'посёлок городского типа Сиверский', nan,\n",
       "       'городской посёлок Янино-1', 'деревня Агалатово',\n",
       "       'поселок городского типа Рахья', 'городской поселок Большая Ижора',\n",
       "       'деревня Белогорка', 'деревня Горбунки', 'Мурино',\n",
       "       'деревня Заневка', 'поселок Сельцо',\n",
       "       'городской посёлок Фёдоровское', 'деревня Мистолово',\n",
       "       'поселок Зимитицы', 'поселок Барышево',\n",
       "       'поселок городского типа имени Свердлова', 'поселок Рябово',\n",
       "       'деревня Бегуницы', 'посёлок Аннино', 'деревня Вартемяги',\n",
       "       'поселок Елизаветино', 'поселок Запорожское', 'Коммунар',\n",
       "       'посёлок городского типа имени Морозова', 'посёлок Песочный',\n",
       "       'поселок Ильичёво', 'деревня Колтуши',\n",
       "       'посёлок городского типа Тайцы', 'Подпорожье',\n",
       "       'поселок станции Вещево', 'поселок городского типа Дубровка',\n",
       "       'посёлок городского типа имени Свердлова', 'деревня Коркино',\n",
       "       'посёлок Ропша', 'поселок городского типа Приладожский',\n",
       "       'Пикалёво', 'деревня Кузьмолово', 'деревня Малые Колпаны',\n",
       "       'посёлок Репино', 'село Павлово', 'посёлок Стрельна',\n",
       "       'поселок Углово', 'садовое товарищество Рахья',\n",
       "       'посёлок городского типа Ульяновка', 'Приозерск', 'поселок Победа',\n",
       "       'городской посёлок Новоселье', 'посёлок Сапёрный', 'посёлок Бугры',\n",
       "       'Отрадное', 'Сосновый Бор', 'Сланцы', 'Сясьстрой', 'деревня Юкки',\n",
       "       'поселок Поляны', 'деревня Келози', 'посёлок Новый Свет',\n",
       "       'посёлок Плодовое', 'посёлок Пудость', 'деревня Большие Колпаны',\n",
       "       'поселок городского типа Вырица', 'городской посёлок Мга',\n",
       "       'деревня Кривко', 'поселок Жилпосёлок', 'деревня Оржицы', 'Тихвин',\n",
       "       'Шлиссельбург', 'село Русско-Высоцкое', 'посёлок Новогорелово',\n",
       "       'городской поселок Янино-1', 'посёлок Ильичёво',\n",
       "       'деревня Шпаньково', 'деревня Кипень', 'посёлок Терволово',\n",
       "       'посёлок Сумино', 'посёлок Щеглово', 'посёлок Сосново',\n",
       "       'деревня Калитино', 'посёлок Кикерино', 'деревня Низино', 'Кириши',\n",
       "       'посёлок Торфяное', 'поселок Суходолье', 'поселок Красная Долина',\n",
       "       'городской посёлок Павлово', 'посёлок Мичуринское', 'Светогорск',\n",
       "       'деревня Хапо-Ое', 'поселок городского типа Дружная Горка',\n",
       "       'деревня Гарболово', 'поселок Лисий Нос', 'деревня Яльгелево',\n",
       "       'деревня Пеники', 'поселок Стеклянный', 'деревня Камышовка',\n",
       "       'деревня Разметелево', 'деревня Батово', 'поселок Гончарово',\n",
       "       'поселок Почап', 'посёлок Платформа 69-й километр',\n",
       "       'посёлок городского типа Лебяжье', 'городской посёлок Назия',\n",
       "       'посёлок городского типа Важины', 'поселок Лукаши',\n",
       "       'городской посёлок Виллози', 'поселок Петровское',\n",
       "       'посёлок городского типа Кузнечное', 'Каменногорск',\n",
       "       'Лодейное Поле', 'городской посёлок Рощино',\n",
       "       'поселок городского типа Никольский', 'поселок Аннино',\n",
       "       'деревня Извара', 'посёлок Молодёжное', 'деревня Старосиверская',\n",
       "       'деревня Новолисино', 'поселок городского типа Ефимовский',\n",
       "       'деревня Глинка', 'поселок Войсковицы', 'деревня Старая Пустошь',\n",
       "       'поселок Коммунары', 'поселок Починок', 'деревня Разбегаево',\n",
       "       'посёлок городского типа Рябово', 'поселок Гладкое',\n",
       "       'посёлок при железнодорожной станции Приветнинское',\n",
       "       'посёлок Жилгородок', 'деревня Бор', 'посёлок Коробицыно',\n",
       "       'деревня Большая Вруда', 'городской посёлок Лесогорский',\n",
       "       'посёлок Лисий Нос', 'поселок Серебрянский',\n",
       "       'городской посёлок Советский', 'деревня Малое Карлино',\n",
       "       'поселок Кобралово', 'коттеджный поселок Счастье',\n",
       "       'поселок Мельниково', 'поселок городского типа Кузьмоловский',\n",
       "       'Новая Ладога', 'посёлок городского типа Рощино', 'Приморск',\n",
       "       'поселок городского типа Лебяжье', 'деревня Зимитицы',\n",
       "       'поселок Совхозный', 'посёлок Сапёрное', 'посёлок Суйда',\n",
       "       'городской посёлок Будогощь', 'посёлок городского типа Вырица',\n",
       "       'деревня Малое Верево', 'деревня Гостилицы', 'село Копорье',\n",
       "       'поселок Молодцово', 'посёлок городского типа Мга',\n",
       "       'посёлок Стеклянный', 'деревня Пудомяги', 'посёлок Пригородный',\n",
       "       'посёлок Поляны', 'деревня Вахнова Кара', 'поселок Котельский',\n",
       "       'коттеджный поселок Кивеннапа Север', 'поселок Коробицыно',\n",
       "       'деревня Каськово', 'поселок Сумино', 'поселок Мичуринское',\n",
       "       'деревня Ваганово', 'поселок Пушное',\n",
       "       'поселок станции Приветнинское', 'деревня Лампово',\n",
       "       'деревня Парицы', 'Бокситогорск', 'деревня Нурма',\n",
       "       'деревня Кисельня', 'деревня Торосово',\n",
       "       'поселок Пансионат Зелёный Бор', 'деревня Лаголово',\n",
       "       'поселок Громово', 'поселок Лесное', 'деревня Рапполово', 'Любань',\n",
       "       'деревня Суоранда', 'поселок Новый Учхоз', 'поселок Дружноселье',\n",
       "       'деревня Борисова Грива', 'деревня Рабитицы', 'деревня Ненимяки'],\n",
       "      dtype=object)"
      ]
     },
     "execution_count": 59,
     "metadata": {},
     "output_type": "execute_result"
    }
   ],
   "source": [
    "data['locality_name'].unique()"
   ]
  },
  {
   "cell_type": "code",
   "execution_count": 60,
   "metadata": {},
   "outputs": [],
   "source": [
    "top_10_locations=data.pivot_table(index='locality_name', values='price_per_meter', aggfunc=['count', 'mean'])"
   ]
  },
  {
   "cell_type": "code",
   "execution_count": 61,
   "metadata": {},
   "outputs": [],
   "source": [
    "top_10_locations.columns=['count', 'mean']"
   ]
  },
  {
   "cell_type": "code",
   "execution_count": 62,
   "metadata": {},
   "outputs": [
    {
     "data": {
      "text/html": [
       "<div>\n",
       "<style scoped>\n",
       "    .dataframe tbody tr th:only-of-type {\n",
       "        vertical-align: middle;\n",
       "    }\n",
       "\n",
       "    .dataframe tbody tr th {\n",
       "        vertical-align: top;\n",
       "    }\n",
       "\n",
       "    .dataframe thead th {\n",
       "        text-align: right;\n",
       "    }\n",
       "</style>\n",
       "<table border=\"1\" class=\"dataframe\">\n",
       "  <thead>\n",
       "    <tr style=\"text-align: right;\">\n",
       "      <th></th>\n",
       "      <th>count</th>\n",
       "      <th>mean</th>\n",
       "    </tr>\n",
       "    <tr>\n",
       "      <th>locality_name</th>\n",
       "      <th></th>\n",
       "      <th></th>\n",
       "    </tr>\n",
       "  </thead>\n",
       "  <tbody>\n",
       "    <tr>\n",
       "      <th>Санкт-Петербург</th>\n",
       "      <td>7758</td>\n",
       "      <td>118092.684655</td>\n",
       "    </tr>\n",
       "    <tr>\n",
       "      <th>Всеволожск</th>\n",
       "      <td>238</td>\n",
       "      <td>67741.531686</td>\n",
       "    </tr>\n",
       "    <tr>\n",
       "      <th>посёлок Мурино</th>\n",
       "      <td>190</td>\n",
       "      <td>87214.191278</td>\n",
       "    </tr>\n",
       "    <tr>\n",
       "      <th>посёлок Шушары</th>\n",
       "      <td>188</td>\n",
       "      <td>79621.179831</td>\n",
       "    </tr>\n",
       "    <tr>\n",
       "      <th>Пушкин</th>\n",
       "      <td>152</td>\n",
       "      <td>106921.364987</td>\n",
       "    </tr>\n",
       "    <tr>\n",
       "      <th>посёлок Парголово</th>\n",
       "      <td>122</td>\n",
       "      <td>90820.155316</td>\n",
       "    </tr>\n",
       "    <tr>\n",
       "      <th>деревня Кудрово</th>\n",
       "      <td>121</td>\n",
       "      <td>90719.183664</td>\n",
       "    </tr>\n",
       "    <tr>\n",
       "      <th>Сестрорецк</th>\n",
       "      <td>102</td>\n",
       "      <td>103284.104811</td>\n",
       "    </tr>\n",
       "    <tr>\n",
       "      <th>Петергоф</th>\n",
       "      <td>101</td>\n",
       "      <td>87587.391417</td>\n",
       "    </tr>\n",
       "    <tr>\n",
       "      <th>Колпино</th>\n",
       "      <td>99</td>\n",
       "      <td>76313.522866</td>\n",
       "    </tr>\n",
       "  </tbody>\n",
       "</table>\n",
       "</div>"
      ],
      "text/plain": [
       "                   count           mean\n",
       "locality_name                          \n",
       "Санкт-Петербург     7758  118092.684655\n",
       "Всеволожск           238   67741.531686\n",
       "посёлок Мурино       190   87214.191278\n",
       "посёлок Шушары       188   79621.179831\n",
       "Пушкин               152  106921.364987\n",
       "посёлок Парголово    122   90820.155316\n",
       "деревня Кудрово      121   90719.183664\n",
       "Сестрорецк           102  103284.104811\n",
       "Петергоф             101   87587.391417\n",
       "Колпино               99   76313.522866"
      ]
     },
     "execution_count": 62,
     "metadata": {},
     "output_type": "execute_result"
    }
   ],
   "source": [
    "top_10_locations.sort_values(by='count', ascending=False).head(10)"
   ]
  },
  {
   "cell_type": "code",
   "execution_count": 63,
   "metadata": {},
   "outputs": [
    {
     "data": {
      "text/html": [
       "<div>\n",
       "<style scoped>\n",
       "    .dataframe tbody tr th:only-of-type {\n",
       "        vertical-align: middle;\n",
       "    }\n",
       "\n",
       "    .dataframe tbody tr th {\n",
       "        vertical-align: top;\n",
       "    }\n",
       "\n",
       "    .dataframe thead th {\n",
       "        text-align: right;\n",
       "    }\n",
       "</style>\n",
       "<table border=\"1\" class=\"dataframe\">\n",
       "  <thead>\n",
       "    <tr style=\"text-align: right;\">\n",
       "      <th></th>\n",
       "      <th>count</th>\n",
       "      <th>mean</th>\n",
       "    </tr>\n",
       "    <tr>\n",
       "      <th>locality_name</th>\n",
       "      <th></th>\n",
       "      <th></th>\n",
       "    </tr>\n",
       "  </thead>\n",
       "  <tbody>\n",
       "    <tr>\n",
       "      <th>деревня Вахнова Кара</th>\n",
       "      <td>1</td>\n",
       "      <td>11688.311688</td>\n",
       "    </tr>\n",
       "    <tr>\n",
       "      <th>поселок Совхозный</th>\n",
       "      <td>1</td>\n",
       "      <td>12555.555556</td>\n",
       "    </tr>\n",
       "    <tr>\n",
       "      <th>поселок городского типа Ефимовский</th>\n",
       "      <td>1</td>\n",
       "      <td>12686.567164</td>\n",
       "    </tr>\n",
       "    <tr>\n",
       "      <th>поселок Почап</th>\n",
       "      <td>1</td>\n",
       "      <td>16037.735849</td>\n",
       "    </tr>\n",
       "    <tr>\n",
       "      <th>посёлок городского типа Важины</th>\n",
       "      <td>1</td>\n",
       "      <td>16666.666667</td>\n",
       "    </tr>\n",
       "  </tbody>\n",
       "</table>\n",
       "</div>"
      ],
      "text/plain": [
       "                                    count          mean\n",
       "locality_name                                          \n",
       "деревня Вахнова Кара                    1  11688.311688\n",
       "поселок Совхозный                       1  12555.555556\n",
       "поселок городского типа Ефимовский      1  12686.567164\n",
       "поселок Почап                           1  16037.735849\n",
       "посёлок городского типа Важины          1  16666.666667"
      ]
     },
     "execution_count": 63,
     "metadata": {},
     "output_type": "execute_result"
    }
   ],
   "source": [
    "top_10_locations.sort_values(by='mean').head()"
   ]
  },
  {
   "cell_type": "markdown",
   "metadata": {},
   "source": [
    "The lowest average housing cost per square meter is in Vakhnova Kara at 19,230 rubles per square meter."
   ]
  },
  {
   "cell_type": "code",
   "execution_count": 64,
   "metadata": {},
   "outputs": [
    {
     "data": {
      "text/html": [
       "<div>\n",
       "<style scoped>\n",
       "    .dataframe tbody tr th:only-of-type {\n",
       "        vertical-align: middle;\n",
       "    }\n",
       "\n",
       "    .dataframe tbody tr th {\n",
       "        vertical-align: top;\n",
       "    }\n",
       "\n",
       "    .dataframe thead th {\n",
       "        text-align: right;\n",
       "    }\n",
       "</style>\n",
       "<table border=\"1\" class=\"dataframe\">\n",
       "  <thead>\n",
       "    <tr style=\"text-align: right;\">\n",
       "      <th></th>\n",
       "      <th>count</th>\n",
       "      <th>mean</th>\n",
       "    </tr>\n",
       "    <tr>\n",
       "      <th>locality_name</th>\n",
       "      <th></th>\n",
       "      <th></th>\n",
       "    </tr>\n",
       "  </thead>\n",
       "  <tbody>\n",
       "    <tr>\n",
       "      <th>Зеленогорск</th>\n",
       "      <td>14</td>\n",
       "      <td>120430.543524</td>\n",
       "    </tr>\n",
       "    <tr>\n",
       "      <th>Санкт-Петербург</th>\n",
       "      <td>7758</td>\n",
       "      <td>118092.684655</td>\n",
       "    </tr>\n",
       "    <tr>\n",
       "      <th>посёлок Репино</th>\n",
       "      <td>3</td>\n",
       "      <td>108075.728806</td>\n",
       "    </tr>\n",
       "    <tr>\n",
       "      <th>деревня Мистолово</th>\n",
       "      <td>3</td>\n",
       "      <td>107121.680644</td>\n",
       "    </tr>\n",
       "    <tr>\n",
       "      <th>Пушкин</th>\n",
       "      <td>152</td>\n",
       "      <td>106921.364987</td>\n",
       "    </tr>\n",
       "  </tbody>\n",
       "</table>\n",
       "</div>"
      ],
      "text/plain": [
       "                   count           mean\n",
       "locality_name                          \n",
       "Зеленогорск           14  120430.543524\n",
       "Санкт-Петербург     7758  118092.684655\n",
       "посёлок Репино         3  108075.728806\n",
       "деревня Мистолово      3  107121.680644\n",
       "Пушкин               152  106921.364987"
      ]
     },
     "execution_count": 64,
     "metadata": {},
     "output_type": "execute_result"
    }
   ],
   "source": [
    "top_10_locations.sort_values(by='mean', ascending=False).head()"
   ]
  },
  {
   "cell_type": "markdown",
   "metadata": {},
   "source": [
    "The highest average housing cost per square meter is in Zelenogorsk at 120,430 rubles per square meter. Next is Saint Petersburg with 118,092 rubles per square meter."
   ]
  },
  {
   "cell_type": "markdown",
   "metadata": {},
   "source": [
    "### Distance from the city center."
   ]
  },
  {
   "cell_type": "code",
   "execution_count": 65,
   "metadata": {},
   "outputs": [],
   "source": [
    "data['cityCenters_nearest_km']=data['cityCenters_nearest']/1000"
   ]
  },
  {
   "cell_type": "code",
   "execution_count": 66,
   "metadata": {},
   "outputs": [],
   "source": [
    "data['cityCenters_nearest_km']=data['cityCenters_nearest_km'].round()"
   ]
  },
  {
   "cell_type": "code",
   "execution_count": 67,
   "metadata": {},
   "outputs": [
    {
     "data": {
      "text/plain": [
       "<AxesSubplot:xlabel='cityCenters_nearest_km', ylabel='price_per_meter'>"
      ]
     },
     "execution_count": 67,
     "metadata": {},
     "output_type": "execute_result"
    },
    {
     "data": {
      "image/png": "[encoded data removed]",
      "text/plain": [
       "<Figure size 432x288 with 1 Axes>"
      ]
     },
     "metadata": {
      "needs_background": "light"
     },
     "output_type": "display_data"
    }
   ],
   "source": [
    "data.plot(x='cityCenters_nearest_km', y='price_per_meter', kind='scatter')"
   ]
  },
  {
   "cell_type": "markdown",
   "metadata": {},
   "source": [
    "From the graph, it's evident that the greater the distance from the city center, the lower the price per square meter."
   ]
  },
  {
   "cell_type": "code",
   "execution_count": 68,
   "metadata": {},
   "outputs": [
    {
     "data": {
      "text/plain": [
       "count    8758.00000\n",
       "mean       13.41208\n",
       "std         8.47735\n",
       "min         0.00000\n",
       "25%         8.00000\n",
       "50%        13.00000\n",
       "75%        16.00000\n",
       "max        66.00000\n",
       "Name: cityCenters_nearest_km, dtype: float64"
      ]
     },
     "execution_count": 68,
     "metadata": {},
     "output_type": "execute_result"
    }
   ],
   "source": [
    "data['cityCenters_nearest_km'].describe()"
   ]
  },
  {
   "cell_type": "markdown",
   "metadata": {},
   "source": [
    "The distance to the city center - half of the values lie within the range up to 13 km, and 25% are within 8 km. Let's consider apartments in the center to be those located no more than 8 km from the center."
   ]
  },
  {
   "cell_type": "markdown",
   "metadata": {},
   "source": [
    "### Analysis of apartments in the city center."
   ]
  },
  {
   "cell_type": "code",
   "execution_count": 69,
   "metadata": {},
   "outputs": [],
   "source": [
    "flats_in_center=data.query('cityCenters_nearest_km<8')"
   ]
  },
  {
   "cell_type": "code",
   "execution_count": 70,
   "metadata": {},
   "outputs": [],
   "source": [
    "flats_in_center_ratios=flats_in_center[['last_price', 'total_area', 'rooms', 'ceiling_height']].corr()"
   ]
  },
  {
   "cell_type": "code",
   "execution_count": 71,
   "metadata": {},
   "outputs": [
    {
     "name": "stdout",
     "output_type": "stream",
     "text": [
      "                last_price  total_area     rooms  ceiling_height\n",
      "last_price        1.000000    0.511490  0.219910        0.129513\n",
      "total_area        0.511490    1.000000  0.759198        0.269620\n",
      "rooms             0.219910    0.759198  1.000000        0.236744\n",
      "ceiling_height    0.129513    0.269620  0.236744        1.000000\n"
     ]
    }
   ],
   "source": [
    "print(flats_in_center_ratios)"
   ]
  },
  {
   "cell_type": "markdown",
   "metadata": {},
   "source": [
    "We can observe that the price of apartments in the center is slightly less dependent on the area compared to the price of all apartments (center + outskirts), with a Pearson coefficient of 0.51 vs. 0.62. Additionally, the price of apartments in the center is slightly less dependent on the number of rooms compared to the price of all apartments, with a Pearson coefficient of 0.21 vs. 0.38. Moreover, the price of apartments in the center is almost independent of the ceiling height, with a Pearson coefficient of 0.12.\n",
    "\n",
    "\n",
    "\n",
    "\n"
   ]
  },
  {
   "cell_type": "markdown",
   "metadata": {},
   "source": [
    "Let's examine the relationship between the price of apartments in the center and various factors using graphs:"
   ]
  },
  {
   "cell_type": "code",
   "execution_count": 72,
   "metadata": {},
   "outputs": [
    {
     "data": {
      "text/plain": [
       "<seaborn.axisgrid.PairGrid at 0x7f1b7a3b49a0>"
      ]
     },
     "execution_count": 72,
     "metadata": {},
     "output_type": "execute_result"
    },
    {
     "data": {
      "image/png": "[encoded data removed]",
      "text/plain": [
       "<Figure size 720x720 with 20 Axes>"
      ]
     },
     "metadata": {
      "needs_background": "light"
     },
     "output_type": "display_data"
    }
   ],
   "source": [
    "sns.pairplot(flats_in_center_ratios)"
   ]
  },
  {
   "cell_type": "markdown",
   "metadata": {},
   "source": [
    "We can see that the points are scattered in a random order, indicating a lack of clear pattern. In other words, there is no observable relationship between the price and factors such as area, number of rooms, and ceiling height for apartments in the center."
   ]
  },
  {
   "cell_type": "code",
   "execution_count": 73,
   "metadata": {},
   "outputs": [],
   "source": [
    "flats_in_center_floor=flats_in_center.pivot_table(index='floor_group', values='last_price', aggfunc=['mean'])"
   ]
  },
  {
   "cell_type": "code",
   "execution_count": 74,
   "metadata": {},
   "outputs": [
    {
     "data": {
      "text/plain": [
       "<AxesSubplot:xlabel='floor_group'>"
      ]
     },
     "execution_count": 74,
     "metadata": {},
     "output_type": "execute_result"
    },
    {
     "data": {
      "image/png": "[encoded data removed]",
      "text/plain": [
       "<Figure size 432x288 with 1 Axes>"
      ]
     },
     "metadata": {
      "needs_background": "light"
     },
     "output_type": "display_data"
    }
   ],
   "source": [
    "flats_in_center_floor.plot(y='mean', kind='bar')"
   ]
  },
  {
   "cell_type": "code",
   "execution_count": 75,
   "metadata": {},
   "outputs": [
    {
     "data": {
      "text/plain": [
       "<AxesSubplot:xlabel='cityCenters_nearest_km', ylabel='price_per_meter'>"
      ]
     },
     "execution_count": 75,
     "metadata": {},
     "output_type": "execute_result"
    },
    {
     "data": {
      "image/png": "[encoded data removed]",
      "text/plain": [
       "<Figure size 432x288 with 1 Axes>"
      ]
     },
     "metadata": {
      "needs_background": "light"
     },
     "output_type": "display_data"
    }
   ],
   "source": [
    "flats_in_center.plot(x='cityCenters_nearest_km', y='price_per_meter', kind='scatter')"
   ]
  },
  {
   "cell_type": "code",
   "execution_count": 76,
   "metadata": {},
   "outputs": [],
   "source": [
    "flats_in_center_year=flats_in_center.pivot_table(index='year', values='last_price', aggfunc=['mean'])"
   ]
  },
  {
   "cell_type": "code",
   "execution_count": 77,
   "metadata": {},
   "outputs": [
    {
     "data": {
      "text/plain": [
       "<AxesSubplot:xlabel='year'>"
      ]
     },
     "execution_count": 77,
     "metadata": {},
     "output_type": "execute_result"
    },
    {
     "data": {
      "image/png": "[encoded data removed]",
      "text/plain": [
       "<Figure size 432x288 with 1 Axes>"
      ]
     },
     "metadata": {
      "needs_background": "light"
     },
     "output_type": "display_data"
    }
   ],
   "source": [
    "flats_in_center_year.plot(y='mean', kind='bar')"
   ]
  },
  {
   "cell_type": "markdown",
   "metadata": {},
   "source": [
    "## Overall conclusion"
   ]
  },
  {
   "cell_type": "markdown",
   "metadata": {},
   "source": [
    "We analyzed the data from the Yandex Real Estate service - an archive of apartment sale listings in Saint Petersburg and neighboring areas over several years to understand the relationship between apartment prices and various factors: distance from the center, floor level, ceiling height, apartment area, number of rooms, and other factors.\n",
    "\n",
    "We began with initial data processing - analyzing the proportion of missing values in each column and considering the feasibility of filling them.\n",
    "\n",
    "We also formatted the date column appropriately and extracted separate columns for the day of the week, month, and year of the listing date to later check whether the day, month, and year of the sale affect apartment prices.\n",
    "\n",
    "Furthermore, we removed overly expensive apartments above 30 million rubles to prevent them from distorting the data.\n",
    "\n",
    "To assess the dependency of price on different factors, we constructed a correlation matrix, calculated the Pearson coefficient, and visualized the dependencies using graphs.\n",
    "\n",
    "We also separately constructed a similar correlation matrix for apartments in the city center. We determined apartments in the center using a graph where we plotted distance to the center on the X-axis and price per square meter on the Y-axis. Where the price significantly dropped per square meter, we established the center's boundary.\n",
    "\n",
    "We separately analyzed the dependency of price on different factors in Saint Petersburg, as well as the 10 localities with the highest number of listings.\n",
    "\n",
    "Here are the main conclusions from our analysis:\n",
    "\n",
    "75% of apartments have a total area up to 69 square meters. The median is 52 square meters, and the average area of sold apartments is 60 square meters, with a standard deviation of approximately ±35 square meters.\n",
    "\n",
    "Most apartments cost between 3 and 5 million rubles, with the majority priced around 4 million rubles.\n",
    "\n",
    "The ratio of living area to total area averages at 55%.\n",
    "\n",
    "The average period for selling an apartment is 3 months according to the median.\n",
    "\n",
    "Pearson correlation coefficient reflecting the dependency of price on various factors is as follows: 0.62 - dependency on area, 0.38 - dependency on the number of rooms, -0.25 - dependency on distance from the center.\n",
    "\n",
    "The average price is slightly lower (around 15%) on the first floor and roughly similar on other and last floors.\n",
    "\n",
    "Price does not depend on the day or month of sale. However, a noticeable decline in price is observed after 2014 (around 30%), and after that, the price remained relatively stable.\n",
    "\n",
    "Saint Petersburg has the highest number of listings - 7,758. All other cities have significantly fewer listings. For instance, the city following Saint Petersburg is Vsevolozhsk with 238 listings.\n",
    "\n",
    "The highest average housing cost per square meter is in Zelenogorsk at 120,430 rubles per square meter, followed by Saint Petersburg at 118,092 rubles per square meter.\n",
    "\n",
    "The lowest average housing cost per square meter is in Vakhnova Kara at 19,230 rubles per square meter.\n",
    "\n",
    "Price per square meter is dependent on distance from the center. This suggests a radius around the center with apartments at the highest prices. This radius is around 8 km. Beyond that, the price per square meter significantly decreases.\n",
    "\n",
    "We separately analyzed apartment prices in the center and concluded that in this segment, prices are less dependent on apartment area and the number of rooms. The Pearson coefficients are 0.51 and 0.21, respectively.\n",
    "\n",
    "\n",
    "\n",
    "\n"
   ]
  }
 ],
 "metadata": {
  "ExecuteTimeLog": [
   {
    "duration": 393,
    "start_time": "2022-05-25T10:06:47.615Z"
   },
   {
    "duration": 309,
    "start_time": "2022-05-25T10:07:23.472Z"
   },
   {
    "duration": 84,
    "start_time": "2022-05-25T10:12:59.858Z"
   },
   {
    "duration": 90,
    "start_time": "2022-05-25T10:13:14.938Z"
   },
   {
    "duration": 26,
    "start_time": "2022-05-25T10:39:08.598Z"
   },
   {
    "duration": 80,
    "start_time": "2022-05-25T10:39:26.812Z"
   },
   {
    "duration": 26,
    "start_time": "2022-05-25T10:39:33.839Z"
   },
   {
    "duration": 84,
    "start_time": "2022-05-25T10:39:43.076Z"
   },
   {
    "duration": 96,
    "start_time": "2022-05-25T10:47:35.040Z"
   },
   {
    "duration": 22,
    "start_time": "2022-05-25T10:47:56.049Z"
   },
   {
    "duration": 13,
    "start_time": "2022-05-25T10:49:27.423Z"
   },
   {
    "duration": 2004,
    "start_time": "2022-05-25T11:07:22.630Z"
   },
   {
    "duration": 219,
    "start_time": "2022-05-25T11:08:09.772Z"
   },
   {
    "duration": 657,
    "start_time": "2022-05-25T11:08:37.551Z"
   },
   {
    "duration": 11,
    "start_time": "2022-05-25T11:08:59.505Z"
   },
   {
    "duration": 201,
    "start_time": "2022-05-25T11:09:07.249Z"
   },
   {
    "duration": 139,
    "start_time": "2022-05-25T11:09:48.281Z"
   },
   {
    "duration": 147,
    "start_time": "2022-05-25T11:10:33.146Z"
   },
   {
    "duration": 138,
    "start_time": "2022-05-25T11:12:00.895Z"
   },
   {
    "duration": 5,
    "start_time": "2022-05-25T11:13:15.547Z"
   },
   {
    "duration": 36,
    "start_time": "2022-05-25T11:19:47.160Z"
   },
   {
    "duration": 11,
    "start_time": "2022-05-25T11:45:10.611Z"
   },
   {
    "duration": 177,
    "start_time": "2022-05-25T11:51:00.203Z"
   },
   {
    "duration": 20,
    "start_time": "2022-05-25T11:53:29.438Z"
   },
   {
    "duration": 8,
    "start_time": "2022-05-25T12:01:39.342Z"
   },
   {
    "duration": 5,
    "start_time": "2022-05-25T12:01:45.804Z"
   },
   {
    "duration": 4,
    "start_time": "2022-05-25T12:01:56.758Z"
   },
   {
    "duration": 4,
    "start_time": "2022-05-25T12:02:18.730Z"
   },
   {
    "duration": 9,
    "start_time": "2022-05-25T12:06:06.029Z"
   },
   {
    "duration": 10,
    "start_time": "2022-05-25T12:06:23.305Z"
   },
   {
    "duration": 6,
    "start_time": "2022-05-25T12:06:37.986Z"
   },
   {
    "duration": 6,
    "start_time": "2022-05-25T12:08:27.917Z"
   },
   {
    "duration": 5,
    "start_time": "2022-05-25T12:08:35.776Z"
   },
   {
    "duration": 10,
    "start_time": "2022-05-25T12:11:52.307Z"
   },
   {
    "duration": 9,
    "start_time": "2022-05-25T12:12:53.646Z"
   },
   {
    "duration": 5,
    "start_time": "2022-05-25T12:13:16.175Z"
   },
   {
    "duration": 123,
    "start_time": "2022-05-25T12:15:57.660Z"
   },
   {
    "duration": 86,
    "start_time": "2022-05-25T12:17:04.816Z"
   },
   {
    "duration": 114,
    "start_time": "2022-05-25T12:17:15.354Z"
   },
   {
    "duration": 120,
    "start_time": "2022-05-25T12:17:22.243Z"
   },
   {
    "duration": 115,
    "start_time": "2022-05-25T12:17:33.427Z"
   },
   {
    "duration": 471,
    "start_time": "2022-05-25T12:21:27.162Z"
   },
   {
    "duration": 86,
    "start_time": "2022-05-25T12:21:27.639Z"
   },
   {
    "duration": 70,
    "start_time": "2022-05-25T12:21:27.726Z"
   },
   {
    "duration": 32,
    "start_time": "2022-05-25T12:21:27.798Z"
   },
   {
    "duration": 36,
    "start_time": "2022-05-25T12:21:27.832Z"
   },
   {
    "duration": 5,
    "start_time": "2022-05-25T12:21:27.871Z"
   },
   {
    "duration": 24,
    "start_time": "2022-05-25T12:21:27.878Z"
   },
   {
    "duration": 4,
    "start_time": "2022-05-25T12:21:27.904Z"
   },
   {
    "duration": 431,
    "start_time": "2022-05-25T12:21:27.910Z"
   },
   {
    "duration": 24,
    "start_time": "2022-05-25T12:21:28.343Z"
   },
   {
    "duration": 5,
    "start_time": "2022-05-25T12:21:28.369Z"
   },
   {
    "duration": 18,
    "start_time": "2022-05-25T12:21:28.376Z"
   },
   {
    "duration": 140,
    "start_time": "2022-05-25T12:21:28.396Z"
   },
   {
    "duration": 9,
    "start_time": "2022-05-25T12:21:28.538Z"
   },
   {
    "duration": 154,
    "start_time": "2022-05-25T12:21:28.559Z"
   },
   {
    "duration": 144,
    "start_time": "2022-05-25T12:21:28.715Z"
   },
   {
    "duration": 9,
    "start_time": "2022-05-25T12:23:41.076Z"
   },
   {
    "duration": 116,
    "start_time": "2022-05-25T12:24:12.418Z"
   },
   {
    "duration": 51,
    "start_time": "2022-05-25T12:30:05.453Z"
   },
   {
    "duration": 111,
    "start_time": "2022-05-25T12:36:38.020Z"
   },
   {
    "duration": 10,
    "start_time": "2022-05-25T12:36:53.048Z"
   },
   {
    "duration": 157,
    "start_time": "2022-05-25T12:38:07.930Z"
   },
   {
    "duration": 5,
    "start_time": "2022-05-25T12:44:16.149Z"
   },
   {
    "duration": 4,
    "start_time": "2022-05-25T12:46:06.252Z"
   },
   {
    "duration": 42,
    "start_time": "2022-05-25T12:46:25.100Z"
   },
   {
    "duration": 6,
    "start_time": "2022-05-25T12:48:31.943Z"
   },
   {
    "duration": 98,
    "start_time": "2022-05-25T12:53:31.794Z"
   },
   {
    "duration": 8,
    "start_time": "2022-05-25T12:53:53.082Z"
   },
   {
    "duration": 19,
    "start_time": "2022-05-25T12:54:16.747Z"
   },
   {
    "duration": 7,
    "start_time": "2022-05-25T12:54:22.740Z"
   },
   {
    "duration": 4,
    "start_time": "2022-05-25T12:54:49.004Z"
   },
   {
    "duration": 84,
    "start_time": "2022-05-25T12:55:30.448Z"
   },
   {
    "duration": 60,
    "start_time": "2022-05-26T08:11:08.798Z"
   },
   {
    "duration": 7,
    "start_time": "2022-05-26T08:11:31.128Z"
   },
   {
    "duration": 421,
    "start_time": "2022-05-26T08:11:44.842Z"
   },
   {
    "duration": 141,
    "start_time": "2022-05-26T08:11:45.265Z"
   },
   {
    "duration": 80,
    "start_time": "2022-05-26T08:11:45.408Z"
   },
   {
    "duration": 39,
    "start_time": "2022-05-26T08:11:45.490Z"
   },
   {
    "duration": 15,
    "start_time": "2022-05-26T08:11:45.530Z"
   },
   {
    "duration": 5,
    "start_time": "2022-05-26T08:11:45.546Z"
   },
   {
    "duration": 12,
    "start_time": "2022-05-26T08:11:45.552Z"
   },
   {
    "duration": 4,
    "start_time": "2022-05-26T08:11:45.565Z"
   },
   {
    "duration": 5,
    "start_time": "2022-05-26T08:11:45.602Z"
   },
   {
    "duration": 9,
    "start_time": "2022-05-26T08:11:45.610Z"
   },
   {
    "duration": 19,
    "start_time": "2022-05-26T08:11:45.620Z"
   },
   {
    "duration": 6,
    "start_time": "2022-05-26T08:11:45.640Z"
   },
   {
    "duration": 8,
    "start_time": "2022-05-26T08:11:45.648Z"
   },
   {
    "duration": 619,
    "start_time": "2022-05-26T08:11:45.657Z"
   },
   {
    "duration": 11,
    "start_time": "2022-05-26T08:11:46.277Z"
   },
   {
    "duration": 16,
    "start_time": "2022-05-26T08:11:46.290Z"
   },
   {
    "duration": 19,
    "start_time": "2022-05-26T08:11:46.308Z"
   },
   {
    "duration": 160,
    "start_time": "2022-05-26T08:11:46.329Z"
   },
   {
    "duration": 18,
    "start_time": "2022-05-26T08:11:46.491Z"
   },
   {
    "duration": 172,
    "start_time": "2022-05-26T08:11:46.512Z"
   },
   {
    "duration": 18,
    "start_time": "2022-05-26T08:11:46.686Z"
   },
   {
    "duration": 151,
    "start_time": "2022-05-26T08:11:46.706Z"
   },
   {
    "duration": 6,
    "start_time": "2022-05-26T08:14:03.782Z"
   },
   {
    "duration": 5,
    "start_time": "2022-05-26T08:14:17.383Z"
   },
   {
    "duration": 11,
    "start_time": "2022-05-26T08:15:59.293Z"
   },
   {
    "duration": 5,
    "start_time": "2022-05-26T08:16:00.705Z"
   },
   {
    "duration": 15,
    "start_time": "2022-05-26T08:17:03.520Z"
   },
   {
    "duration": 12,
    "start_time": "2022-05-26T08:17:06.220Z"
   },
   {
    "duration": 5,
    "start_time": "2022-05-26T08:17:15.104Z"
   },
   {
    "duration": 32,
    "start_time": "2022-05-26T08:18:15.562Z"
   },
   {
    "duration": 5,
    "start_time": "2022-05-26T08:18:18.799Z"
   },
   {
    "duration": 3,
    "start_time": "2022-05-26T08:18:21.287Z"
   },
   {
    "duration": 11,
    "start_time": "2022-05-26T08:18:32.602Z"
   },
   {
    "duration": 4,
    "start_time": "2022-05-26T08:18:33.442Z"
   },
   {
    "duration": 6,
    "start_time": "2022-05-26T08:18:55.070Z"
   },
   {
    "duration": 4,
    "start_time": "2022-05-26T08:19:03.527Z"
   },
   {
    "duration": 39,
    "start_time": "2022-05-26T08:22:57.875Z"
   },
   {
    "duration": 4,
    "start_time": "2022-05-26T08:23:04.995Z"
   },
   {
    "duration": 86,
    "start_time": "2022-05-26T08:23:22.129Z"
   },
   {
    "duration": 9,
    "start_time": "2022-05-26T08:23:28.705Z"
   },
   {
    "duration": 8,
    "start_time": "2022-05-26T08:24:08.620Z"
   },
   {
    "duration": 9,
    "start_time": "2022-05-26T08:24:11.237Z"
   },
   {
    "duration": 6,
    "start_time": "2022-05-26T08:26:14.271Z"
   },
   {
    "duration": 26,
    "start_time": "2022-05-26T11:07:45.233Z"
   },
   {
    "duration": 26,
    "start_time": "2022-05-26T11:08:08.211Z"
   },
   {
    "duration": 4,
    "start_time": "2022-05-26T11:08:19.315Z"
   },
   {
    "duration": 11,
    "start_time": "2022-05-26T11:09:04.772Z"
   },
   {
    "duration": 11,
    "start_time": "2022-05-26T11:09:28.068Z"
   },
   {
    "duration": 3,
    "start_time": "2022-05-26T11:21:14.381Z"
   },
   {
    "duration": 3,
    "start_time": "2022-05-26T11:21:42.622Z"
   },
   {
    "duration": 96,
    "start_time": "2022-05-26T11:26:30.731Z"
   },
   {
    "duration": 271,
    "start_time": "2022-05-26T11:26:46.913Z"
   },
   {
    "duration": 11,
    "start_time": "2022-05-26T11:27:01.600Z"
   },
   {
    "duration": 323,
    "start_time": "2022-05-26T11:28:10.458Z"
   },
   {
    "duration": 4,
    "start_time": "2022-05-26T11:32:44.413Z"
   },
   {
    "duration": 3,
    "start_time": "2022-05-26T11:32:48.767Z"
   },
   {
    "duration": 261,
    "start_time": "2022-05-26T11:35:26.668Z"
   },
   {
    "duration": 3,
    "start_time": "2022-05-26T11:35:29.669Z"
   },
   {
    "duration": 10,
    "start_time": "2022-05-26T11:35:42.467Z"
   },
   {
    "duration": 5,
    "start_time": "2022-05-26T11:39:30.855Z"
   },
   {
    "duration": 6,
    "start_time": "2022-05-26T11:39:50.067Z"
   },
   {
    "duration": 5,
    "start_time": "2022-05-26T11:39:53.856Z"
   },
   {
    "duration": 5,
    "start_time": "2022-05-26T11:42:03.498Z"
   },
   {
    "duration": 4,
    "start_time": "2022-05-26T11:42:15.935Z"
   },
   {
    "duration": 265,
    "start_time": "2022-05-26T11:44:36.397Z"
   },
   {
    "duration": 13,
    "start_time": "2022-05-26T11:45:26.976Z"
   },
   {
    "duration": 8,
    "start_time": "2022-05-26T11:47:30.411Z"
   },
   {
    "duration": 4,
    "start_time": "2022-05-26T11:49:27.964Z"
   },
   {
    "duration": 35,
    "start_time": "2022-05-26T11:49:58.237Z"
   },
   {
    "duration": 4,
    "start_time": "2022-05-26T11:50:09.017Z"
   },
   {
    "duration": 4,
    "start_time": "2022-05-26T11:51:37.550Z"
   },
   {
    "duration": 5,
    "start_time": "2022-05-26T11:51:50.114Z"
   },
   {
    "duration": 5,
    "start_time": "2022-05-26T13:35:16.085Z"
   },
   {
    "duration": 6,
    "start_time": "2022-05-26T13:35:22.294Z"
   },
   {
    "duration": 9,
    "start_time": "2022-05-26T13:35:29.199Z"
   },
   {
    "duration": 811,
    "start_time": "2022-05-26T13:40:14.825Z"
   },
   {
    "duration": 132,
    "start_time": "2022-05-26T13:40:36.171Z"
   },
   {
    "duration": 421,
    "start_time": "2022-05-26T13:42:03.845Z"
   },
   {
    "duration": 86,
    "start_time": "2022-05-26T13:42:04.268Z"
   },
   {
    "duration": 71,
    "start_time": "2022-05-26T13:42:04.356Z"
   },
   {
    "duration": 31,
    "start_time": "2022-05-26T13:42:04.429Z"
   },
   {
    "duration": 14,
    "start_time": "2022-05-26T13:42:04.462Z"
   },
   {
    "duration": 25,
    "start_time": "2022-05-26T13:42:04.478Z"
   },
   {
    "duration": 10,
    "start_time": "2022-05-26T13:42:04.504Z"
   },
   {
    "duration": 8,
    "start_time": "2022-05-26T13:42:04.515Z"
   },
   {
    "duration": 8,
    "start_time": "2022-05-26T13:42:04.525Z"
   },
   {
    "duration": 23,
    "start_time": "2022-05-26T13:42:04.534Z"
   },
   {
    "duration": 38,
    "start_time": "2022-05-26T13:42:04.559Z"
   },
   {
    "duration": 7,
    "start_time": "2022-05-26T13:42:04.599Z"
   },
   {
    "duration": 15,
    "start_time": "2022-05-26T13:42:04.608Z"
   },
   {
    "duration": 13,
    "start_time": "2022-05-26T13:42:04.626Z"
   },
   {
    "duration": 7,
    "start_time": "2022-05-26T13:42:04.640Z"
   },
   {
    "duration": 17,
    "start_time": "2022-05-26T13:42:04.648Z"
   },
   {
    "duration": 14,
    "start_time": "2022-05-26T13:42:04.667Z"
   },
   {
    "duration": 293,
    "start_time": "2022-05-26T13:42:04.683Z"
   },
   {
    "duration": 14,
    "start_time": "2022-05-26T13:42:04.977Z"
   },
   {
    "duration": 6,
    "start_time": "2022-05-26T13:42:05.002Z"
   },
   {
    "duration": 8,
    "start_time": "2022-05-26T13:42:05.010Z"
   },
   {
    "duration": 7,
    "start_time": "2022-05-26T13:42:05.019Z"
   },
   {
    "duration": 6,
    "start_time": "2022-05-26T13:42:05.028Z"
   },
   {
    "duration": 7,
    "start_time": "2022-05-26T13:42:05.035Z"
   },
   {
    "duration": 396,
    "start_time": "2022-05-26T13:42:05.043Z"
   },
   {
    "duration": 11,
    "start_time": "2022-05-26T13:42:05.440Z"
   },
   {
    "duration": 4,
    "start_time": "2022-05-26T13:42:05.453Z"
   },
   {
    "duration": 10,
    "start_time": "2022-05-26T13:42:05.458Z"
   },
   {
    "duration": 152,
    "start_time": "2022-05-26T13:42:05.469Z"
   },
   {
    "duration": 8,
    "start_time": "2022-05-26T13:42:05.623Z"
   },
   {
    "duration": 157,
    "start_time": "2022-05-26T13:42:05.633Z"
   },
   {
    "duration": 19,
    "start_time": "2022-05-26T13:42:05.792Z"
   },
   {
    "duration": 137,
    "start_time": "2022-05-26T13:42:05.813Z"
   },
   {
    "duration": 9,
    "start_time": "2022-05-26T13:42:05.952Z"
   },
   {
    "duration": 147,
    "start_time": "2022-05-26T13:42:05.963Z"
   },
   {
    "duration": 137,
    "start_time": "2022-05-26T13:42:28.857Z"
   },
   {
    "duration": 187,
    "start_time": "2022-05-26T13:42:40.392Z"
   },
   {
    "duration": 139,
    "start_time": "2022-05-26T13:44:04.213Z"
   },
   {
    "duration": 133,
    "start_time": "2022-05-26T13:44:43.036Z"
   },
   {
    "duration": 139,
    "start_time": "2022-05-26T13:45:10.381Z"
   },
   {
    "duration": 137,
    "start_time": "2022-05-26T13:46:04.842Z"
   },
   {
    "duration": 59,
    "start_time": "2022-05-26T14:11:34.264Z"
   },
   {
    "duration": 95,
    "start_time": "2022-05-26T14:12:10.421Z"
   },
   {
    "duration": 10,
    "start_time": "2022-05-26T14:12:37.793Z"
   },
   {
    "duration": 9,
    "start_time": "2022-05-26T14:13:19.039Z"
   },
   {
    "duration": 127,
    "start_time": "2022-05-26T14:13:28.712Z"
   },
   {
    "duration": 9,
    "start_time": "2022-05-26T14:17:30.835Z"
   },
   {
    "duration": 37,
    "start_time": "2022-05-26T14:22:01.941Z"
   },
   {
    "duration": 123,
    "start_time": "2022-05-26T14:22:54.753Z"
   },
   {
    "duration": 125,
    "start_time": "2022-05-26T14:23:29.553Z"
   },
   {
    "duration": 185,
    "start_time": "2022-05-26T14:23:39.254Z"
   },
   {
    "duration": 130,
    "start_time": "2022-05-26T14:23:46.190Z"
   },
   {
    "duration": 122,
    "start_time": "2022-05-26T14:24:13.586Z"
   },
   {
    "duration": 143,
    "start_time": "2022-05-26T14:24:25.608Z"
   },
   {
    "duration": 67,
    "start_time": "2022-05-26T14:25:38.537Z"
   },
   {
    "duration": 9,
    "start_time": "2022-05-26T14:25:51.929Z"
   },
   {
    "duration": 94,
    "start_time": "2022-05-26T14:26:23.591Z"
   },
   {
    "duration": 8,
    "start_time": "2022-05-26T14:26:36.436Z"
   },
   {
    "duration": 129,
    "start_time": "2022-05-26T14:27:13.588Z"
   },
   {
    "duration": 81,
    "start_time": "2022-05-26T14:28:23.450Z"
   },
   {
    "duration": 9,
    "start_time": "2022-05-26T14:28:34.352Z"
   },
   {
    "duration": 10,
    "start_time": "2022-05-26T14:28:50.067Z"
   },
   {
    "duration": 9,
    "start_time": "2022-05-26T14:28:54.715Z"
   },
   {
    "duration": 100,
    "start_time": "2022-05-26T14:29:25.446Z"
   },
   {
    "duration": 99,
    "start_time": "2022-05-26T14:29:31.940Z"
   },
   {
    "duration": 69,
    "start_time": "2022-05-26T14:29:37.291Z"
   },
   {
    "duration": 9,
    "start_time": "2022-05-26T14:29:48.002Z"
   },
   {
    "duration": 57,
    "start_time": "2022-05-26T14:34:30.303Z"
   },
   {
    "duration": 40,
    "start_time": "2022-05-26T14:36:38.302Z"
   },
   {
    "duration": 19257,
    "start_time": "2022-05-26T14:37:58.462Z"
   },
   {
    "duration": 14,
    "start_time": "2022-05-26T15:02:04.213Z"
   },
   {
    "duration": 10,
    "start_time": "2022-05-26T15:02:09.004Z"
   },
   {
    "duration": 396,
    "start_time": "2022-05-26T15:04:15.921Z"
   },
   {
    "duration": 100,
    "start_time": "2022-05-26T15:04:26.872Z"
   },
   {
    "duration": 396,
    "start_time": "2022-05-26T15:04:43.639Z"
   },
   {
    "duration": 90,
    "start_time": "2022-05-26T15:04:44.037Z"
   },
   {
    "duration": 74,
    "start_time": "2022-05-26T15:04:44.129Z"
   },
   {
    "duration": 29,
    "start_time": "2022-05-26T15:04:44.205Z"
   },
   {
    "duration": 13,
    "start_time": "2022-05-26T15:04:44.237Z"
   },
   {
    "duration": 5,
    "start_time": "2022-05-26T15:04:44.251Z"
   },
   {
    "duration": 15,
    "start_time": "2022-05-26T15:04:44.257Z"
   },
   {
    "duration": 29,
    "start_time": "2022-05-26T15:04:44.273Z"
   },
   {
    "duration": 5,
    "start_time": "2022-05-26T15:04:44.304Z"
   },
   {
    "duration": 18,
    "start_time": "2022-05-26T15:04:44.311Z"
   },
   {
    "duration": 12,
    "start_time": "2022-05-26T15:04:44.331Z"
   },
   {
    "duration": 9,
    "start_time": "2022-05-26T15:04:44.345Z"
   },
   {
    "duration": 7,
    "start_time": "2022-05-26T15:04:44.355Z"
   },
   {
    "duration": 7,
    "start_time": "2022-05-26T15:04:44.365Z"
   },
   {
    "duration": 9,
    "start_time": "2022-05-26T15:04:44.373Z"
   },
   {
    "duration": 10,
    "start_time": "2022-05-26T15:04:44.383Z"
   },
   {
    "duration": 5,
    "start_time": "2022-05-26T15:04:44.402Z"
   },
   {
    "duration": 294,
    "start_time": "2022-05-26T15:04:44.408Z"
   },
   {
    "duration": 12,
    "start_time": "2022-05-26T15:04:44.704Z"
   },
   {
    "duration": 19,
    "start_time": "2022-05-26T15:04:44.718Z"
   },
   {
    "duration": 8,
    "start_time": "2022-05-26T15:04:44.738Z"
   },
   {
    "duration": 11,
    "start_time": "2022-05-26T15:04:44.747Z"
   },
   {
    "duration": 6,
    "start_time": "2022-05-26T15:04:44.759Z"
   },
   {
    "duration": 10,
    "start_time": "2022-05-26T15:04:44.767Z"
   },
   {
    "duration": 378,
    "start_time": "2022-05-26T15:04:44.779Z"
   },
   {
    "duration": 9,
    "start_time": "2022-05-26T15:04:45.159Z"
   },
   {
    "duration": 8,
    "start_time": "2022-05-26T15:04:45.169Z"
   },
   {
    "duration": 160,
    "start_time": "2022-05-26T15:04:45.178Z"
   },
   {
    "duration": 8,
    "start_time": "2022-05-26T15:04:45.339Z"
   },
   {
    "duration": 165,
    "start_time": "2022-05-26T15:04:45.349Z"
   },
   {
    "duration": 10,
    "start_time": "2022-05-26T15:04:45.516Z"
   },
   {
    "duration": 150,
    "start_time": "2022-05-26T15:04:45.528Z"
   },
   {
    "duration": 22,
    "start_time": "2022-05-26T15:04:45.680Z"
   },
   {
    "duration": 156,
    "start_time": "2022-05-26T15:04:45.704Z"
   },
   {
    "duration": 155,
    "start_time": "2022-05-26T15:04:45.862Z"
   },
   {
    "duration": 181,
    "start_time": "2022-05-26T15:04:46.021Z"
   },
   {
    "duration": 9,
    "start_time": "2022-05-26T15:04:46.204Z"
   },
   {
    "duration": 78,
    "start_time": "2022-05-26T15:04:46.215Z"
   },
   {
    "duration": 15,
    "start_time": "2022-05-26T15:04:46.294Z"
   },
   {
    "duration": 114,
    "start_time": "2022-05-26T15:04:46.310Z"
   },
   {
    "duration": 10,
    "start_time": "2022-05-26T15:04:46.425Z"
   },
   {
    "duration": 68,
    "start_time": "2022-05-26T15:04:46.437Z"
   },
   {
    "duration": 2,
    "start_time": "2022-05-26T15:08:17.259Z"
   },
   {
    "duration": 10,
    "start_time": "2022-05-26T15:08:19.357Z"
   },
   {
    "duration": 428,
    "start_time": "2022-05-26T15:08:32.876Z"
   },
   {
    "duration": 87,
    "start_time": "2022-05-26T15:08:33.306Z"
   },
   {
    "duration": 79,
    "start_time": "2022-05-26T15:08:33.395Z"
   },
   {
    "duration": 35,
    "start_time": "2022-05-26T15:08:33.475Z"
   },
   {
    "duration": 14,
    "start_time": "2022-05-26T15:08:33.513Z"
   },
   {
    "duration": 5,
    "start_time": "2022-05-26T15:08:33.529Z"
   },
   {
    "duration": 19,
    "start_time": "2022-05-26T15:08:33.535Z"
   },
   {
    "duration": 4,
    "start_time": "2022-05-26T15:08:33.555Z"
   },
   {
    "duration": 19,
    "start_time": "2022-05-26T15:08:33.560Z"
   },
   {
    "duration": 22,
    "start_time": "2022-05-26T15:08:33.581Z"
   },
   {
    "duration": 18,
    "start_time": "2022-05-26T15:08:33.605Z"
   },
   {
    "duration": 16,
    "start_time": "2022-05-26T15:08:33.624Z"
   },
   {
    "duration": 13,
    "start_time": "2022-05-26T15:08:33.642Z"
   },
   {
    "duration": 4,
    "start_time": "2022-05-26T15:08:33.657Z"
   },
   {
    "duration": 7,
    "start_time": "2022-05-26T15:08:33.663Z"
   },
   {
    "duration": 10,
    "start_time": "2022-05-26T15:08:33.671Z"
   },
   {
    "duration": 6,
    "start_time": "2022-05-26T15:08:33.683Z"
   },
   {
    "duration": 277,
    "start_time": "2022-05-26T15:08:33.691Z"
   },
   {
    "duration": 14,
    "start_time": "2022-05-26T15:08:33.970Z"
   },
   {
    "duration": 17,
    "start_time": "2022-05-26T15:08:33.985Z"
   },
   {
    "duration": 4,
    "start_time": "2022-05-26T15:08:34.003Z"
   },
   {
    "duration": 6,
    "start_time": "2022-05-26T15:08:34.008Z"
   },
   {
    "duration": 10,
    "start_time": "2022-05-26T15:08:34.015Z"
   },
   {
    "duration": 6,
    "start_time": "2022-05-26T15:08:34.026Z"
   },
   {
    "duration": 377,
    "start_time": "2022-05-26T15:08:34.033Z"
   },
   {
    "duration": 8,
    "start_time": "2022-05-26T15:08:34.412Z"
   },
   {
    "duration": 8,
    "start_time": "2022-05-26T15:08:34.421Z"
   },
   {
    "duration": 148,
    "start_time": "2022-05-26T15:08:34.430Z"
   },
   {
    "duration": 7,
    "start_time": "2022-05-26T15:08:34.580Z"
   },
   {
    "duration": 163,
    "start_time": "2022-05-26T15:08:34.588Z"
   },
   {
    "duration": 10,
    "start_time": "2022-05-26T15:08:34.753Z"
   },
   {
    "duration": 146,
    "start_time": "2022-05-26T15:08:34.764Z"
   },
   {
    "duration": 10,
    "start_time": "2022-05-26T15:08:34.912Z"
   },
   {
    "duration": 159,
    "start_time": "2022-05-26T15:08:34.924Z"
   },
   {
    "duration": 146,
    "start_time": "2022-05-26T15:08:35.085Z"
   },
   {
    "duration": 190,
    "start_time": "2022-05-26T15:08:35.233Z"
   },
   {
    "duration": 10,
    "start_time": "2022-05-26T15:08:35.425Z"
   },
   {
    "duration": 90,
    "start_time": "2022-05-26T15:08:35.437Z"
   },
   {
    "duration": 10,
    "start_time": "2022-05-26T15:08:35.529Z"
   },
   {
    "duration": 16,
    "start_time": "2022-05-26T15:08:35.540Z"
   },
   {
    "duration": 15,
    "start_time": "2022-05-26T15:08:35.559Z"
   },
   {
    "duration": 77,
    "start_time": "2022-05-26T15:08:35.576Z"
   },
   {
    "duration": 20,
    "start_time": "2022-05-26T15:09:57.025Z"
   },
   {
    "duration": 8,
    "start_time": "2022-05-26T15:09:58.896Z"
   },
   {
    "duration": 12,
    "start_time": "2022-05-26T15:10:51.235Z"
   },
   {
    "duration": 10,
    "start_time": "2022-05-26T15:10:52.751Z"
   },
   {
    "duration": 449,
    "start_time": "2022-05-26T15:11:01.767Z"
   },
   {
    "duration": 87,
    "start_time": "2022-05-26T15:11:02.218Z"
   },
   {
    "duration": 72,
    "start_time": "2022-05-26T15:11:02.306Z"
   },
   {
    "duration": 40,
    "start_time": "2022-05-26T15:11:02.379Z"
   },
   {
    "duration": 13,
    "start_time": "2022-05-26T15:11:02.421Z"
   },
   {
    "duration": 4,
    "start_time": "2022-05-26T15:11:02.435Z"
   },
   {
    "duration": 16,
    "start_time": "2022-05-26T15:11:02.440Z"
   },
   {
    "duration": 4,
    "start_time": "2022-05-26T15:11:02.458Z"
   },
   {
    "duration": 6,
    "start_time": "2022-05-26T15:11:02.463Z"
   },
   {
    "duration": 34,
    "start_time": "2022-05-26T15:11:02.470Z"
   },
   {
    "duration": 12,
    "start_time": "2022-05-26T15:11:02.506Z"
   },
   {
    "duration": 8,
    "start_time": "2022-05-26T15:11:02.519Z"
   },
   {
    "duration": 6,
    "start_time": "2022-05-26T15:11:02.528Z"
   },
   {
    "duration": 3,
    "start_time": "2022-05-26T15:11:02.536Z"
   },
   {
    "duration": 6,
    "start_time": "2022-05-26T15:11:02.541Z"
   },
   {
    "duration": 8,
    "start_time": "2022-05-26T15:11:02.548Z"
   },
   {
    "duration": 6,
    "start_time": "2022-05-26T15:11:02.557Z"
   },
   {
    "duration": 316,
    "start_time": "2022-05-26T15:11:02.565Z"
   },
   {
    "duration": 20,
    "start_time": "2022-05-26T15:11:02.883Z"
   },
   {
    "duration": 5,
    "start_time": "2022-05-26T15:11:02.905Z"
   },
   {
    "duration": 9,
    "start_time": "2022-05-26T15:11:02.911Z"
   },
   {
    "duration": 7,
    "start_time": "2022-05-26T15:11:02.922Z"
   },
   {
    "duration": 6,
    "start_time": "2022-05-26T15:11:02.931Z"
   },
   {
    "duration": 7,
    "start_time": "2022-05-26T15:11:02.939Z"
   },
   {
    "duration": 393,
    "start_time": "2022-05-26T15:11:02.948Z"
   },
   {
    "duration": 10,
    "start_time": "2022-05-26T15:11:03.342Z"
   },
   {
    "duration": 9,
    "start_time": "2022-05-26T15:11:03.353Z"
   },
   {
    "duration": 176,
    "start_time": "2022-05-26T15:11:03.363Z"
   },
   {
    "duration": 9,
    "start_time": "2022-05-26T15:11:03.541Z"
   },
   {
    "duration": 171,
    "start_time": "2022-05-26T15:11:03.551Z"
   },
   {
    "duration": 10,
    "start_time": "2022-05-26T15:11:03.724Z"
   },
   {
    "duration": 160,
    "start_time": "2022-05-26T15:11:03.736Z"
   },
   {
    "duration": 11,
    "start_time": "2022-05-26T15:11:03.898Z"
   },
   {
    "duration": 154,
    "start_time": "2022-05-26T15:11:03.910Z"
   },
   {
    "duration": 152,
    "start_time": "2022-05-26T15:11:04.065Z"
   },
   {
    "duration": 17,
    "start_time": "2022-05-26T15:11:04.218Z"
   },
   {
    "duration": 9,
    "start_time": "2022-05-26T15:11:04.236Z"
   },
   {
    "duration": 172,
    "start_time": "2022-05-26T15:11:04.247Z"
   },
   {
    "duration": 10,
    "start_time": "2022-05-26T15:11:04.421Z"
   },
   {
    "duration": 22,
    "start_time": "2022-05-26T15:11:04.433Z"
   },
   {
    "duration": 9,
    "start_time": "2022-05-26T15:11:04.459Z"
   },
   {
    "duration": 77,
    "start_time": "2022-05-26T15:11:04.470Z"
   },
   {
    "duration": 8,
    "start_time": "2022-05-26T15:11:17.760Z"
   },
   {
    "duration": 10,
    "start_time": "2022-05-26T15:11:18.817Z"
   },
   {
    "duration": 472,
    "start_time": "2022-05-26T15:11:26.561Z"
   },
   {
    "duration": 89,
    "start_time": "2022-05-26T15:11:27.036Z"
   },
   {
    "duration": 78,
    "start_time": "2022-05-26T15:11:27.126Z"
   },
   {
    "duration": 32,
    "start_time": "2022-05-26T15:11:27.206Z"
   },
   {
    "duration": 23,
    "start_time": "2022-05-26T15:11:27.242Z"
   },
   {
    "duration": 5,
    "start_time": "2022-05-26T15:11:27.268Z"
   },
   {
    "duration": 16,
    "start_time": "2022-05-26T15:11:27.302Z"
   },
   {
    "duration": 9,
    "start_time": "2022-05-26T15:11:27.320Z"
   },
   {
    "duration": 5,
    "start_time": "2022-05-26T15:11:27.331Z"
   },
   {
    "duration": 10,
    "start_time": "2022-05-26T15:11:27.337Z"
   },
   {
    "duration": 12,
    "start_time": "2022-05-26T15:11:27.349Z"
   },
   {
    "duration": 7,
    "start_time": "2022-05-26T15:11:27.362Z"
   },
   {
    "duration": 7,
    "start_time": "2022-05-26T15:11:27.401Z"
   },
   {
    "duration": 3,
    "start_time": "2022-05-26T15:11:27.410Z"
   },
   {
    "duration": 7,
    "start_time": "2022-05-26T15:11:27.415Z"
   },
   {
    "duration": 9,
    "start_time": "2022-05-26T15:11:27.424Z"
   },
   {
    "duration": 9,
    "start_time": "2022-05-26T15:11:27.435Z"
   },
   {
    "duration": 350,
    "start_time": "2022-05-26T15:11:27.446Z"
   },
   {
    "duration": 19,
    "start_time": "2022-05-26T15:11:27.799Z"
   },
   {
    "duration": 5,
    "start_time": "2022-05-26T15:11:27.820Z"
   },
   {
    "duration": 15,
    "start_time": "2022-05-26T15:11:27.826Z"
   },
   {
    "duration": 15,
    "start_time": "2022-05-26T15:11:27.843Z"
   },
   {
    "duration": 10,
    "start_time": "2022-05-26T15:11:27.859Z"
   },
   {
    "duration": 8,
    "start_time": "2022-05-26T15:11:27.871Z"
   },
   {
    "duration": 436,
    "start_time": "2022-05-26T15:11:27.881Z"
   },
   {
    "duration": 12,
    "start_time": "2022-05-26T15:11:28.319Z"
   },
   {
    "duration": 10,
    "start_time": "2022-05-26T15:11:28.333Z"
   },
   {
    "duration": 216,
    "start_time": "2022-05-26T15:11:28.345Z"
   },
   {
    "duration": 11,
    "start_time": "2022-05-26T15:11:28.563Z"
   },
   {
    "duration": 193,
    "start_time": "2022-05-26T15:11:28.576Z"
   },
   {
    "duration": 9,
    "start_time": "2022-05-26T15:11:28.771Z"
   },
   {
    "duration": 161,
    "start_time": "2022-05-26T15:11:28.781Z"
   },
   {
    "duration": 10,
    "start_time": "2022-05-26T15:11:28.944Z"
   },
   {
    "duration": 186,
    "start_time": "2022-05-26T15:11:28.956Z"
   },
   {
    "duration": 182,
    "start_time": "2022-05-26T15:11:29.144Z"
   },
   {
    "duration": 20,
    "start_time": "2022-05-26T15:11:29.328Z"
   },
   {
    "duration": 11,
    "start_time": "2022-05-26T15:11:29.350Z"
   },
   {
    "duration": 99,
    "start_time": "2022-05-26T15:11:29.364Z"
   },
   {
    "duration": 19,
    "start_time": "2022-05-26T15:11:29.465Z"
   },
   {
    "duration": 10,
    "start_time": "2022-05-26T15:11:29.486Z"
   },
   {
    "duration": 10,
    "start_time": "2022-05-26T15:11:29.504Z"
   },
   {
    "duration": 35,
    "start_time": "2022-05-26T15:11:29.516Z"
   },
   {
    "duration": 134,
    "start_time": "2022-05-26T15:16:53.556Z"
   },
   {
    "duration": 135,
    "start_time": "2022-05-26T15:17:56.664Z"
   },
   {
    "duration": 159,
    "start_time": "2022-05-26T15:19:25.923Z"
   },
   {
    "duration": 491,
    "start_time": "2022-05-26T15:23:48.271Z"
   },
   {
    "duration": 86,
    "start_time": "2022-05-26T15:23:48.763Z"
   },
   {
    "duration": 89,
    "start_time": "2022-05-26T15:23:48.851Z"
   },
   {
    "duration": 34,
    "start_time": "2022-05-26T15:23:48.942Z"
   },
   {
    "duration": 32,
    "start_time": "2022-05-26T15:23:48.978Z"
   },
   {
    "duration": 6,
    "start_time": "2022-05-26T15:23:49.013Z"
   },
   {
    "duration": 26,
    "start_time": "2022-05-26T15:23:49.021Z"
   },
   {
    "duration": 5,
    "start_time": "2022-05-26T15:23:49.049Z"
   },
   {
    "duration": 7,
    "start_time": "2022-05-26T15:23:49.056Z"
   },
   {
    "duration": 10,
    "start_time": "2022-05-26T15:23:49.065Z"
   },
   {
    "duration": 34,
    "start_time": "2022-05-26T15:23:49.078Z"
   },
   {
    "duration": 7,
    "start_time": "2022-05-26T15:23:49.114Z"
   },
   {
    "duration": 7,
    "start_time": "2022-05-26T15:23:49.123Z"
   },
   {
    "duration": 3,
    "start_time": "2022-05-26T15:23:49.132Z"
   },
   {
    "duration": 8,
    "start_time": "2022-05-26T15:23:49.137Z"
   },
   {
    "duration": 8,
    "start_time": "2022-05-26T15:23:49.146Z"
   },
   {
    "duration": 47,
    "start_time": "2022-05-26T15:23:49.156Z"
   },
   {
    "duration": 316,
    "start_time": "2022-05-26T15:23:49.205Z"
   },
   {
    "duration": 22,
    "start_time": "2022-05-26T15:23:49.523Z"
   },
   {
    "duration": 5,
    "start_time": "2022-05-26T15:23:49.547Z"
   },
   {
    "duration": 13,
    "start_time": "2022-05-26T15:23:49.553Z"
   },
   {
    "duration": 7,
    "start_time": "2022-05-26T15:23:49.568Z"
   },
   {
    "duration": 27,
    "start_time": "2022-05-26T15:23:49.578Z"
   },
   {
    "duration": 8,
    "start_time": "2022-05-26T15:23:49.606Z"
   },
   {
    "duration": 425,
    "start_time": "2022-05-26T15:23:49.616Z"
   },
   {
    "duration": 11,
    "start_time": "2022-05-26T15:23:50.042Z"
   },
   {
    "duration": 10,
    "start_time": "2022-05-26T15:23:50.054Z"
   },
   {
    "duration": 190,
    "start_time": "2022-05-26T15:23:50.068Z"
   },
   {
    "duration": 10,
    "start_time": "2022-05-26T15:23:50.260Z"
   },
   {
    "duration": 181,
    "start_time": "2022-05-26T15:23:50.271Z"
   },
   {
    "duration": 10,
    "start_time": "2022-05-26T15:23:50.453Z"
   },
   {
    "duration": 167,
    "start_time": "2022-05-26T15:23:50.465Z"
   },
   {
    "duration": 12,
    "start_time": "2022-05-26T15:23:50.634Z"
   },
   {
    "duration": 186,
    "start_time": "2022-05-26T15:23:50.648Z"
   },
   {
    "duration": 167,
    "start_time": "2022-05-26T15:23:50.835Z"
   },
   {
    "duration": 18,
    "start_time": "2022-05-26T15:23:51.004Z"
   },
   {
    "duration": 12,
    "start_time": "2022-05-26T15:23:51.024Z"
   },
   {
    "duration": 112,
    "start_time": "2022-05-26T15:23:51.038Z"
   },
   {
    "duration": 22,
    "start_time": "2022-05-26T15:23:51.153Z"
   },
   {
    "duration": 16,
    "start_time": "2022-05-26T15:23:51.178Z"
   },
   {
    "duration": 37,
    "start_time": "2022-05-26T15:23:51.197Z"
   },
   {
    "duration": 238,
    "start_time": "2022-05-26T15:23:51.236Z"
   },
   {
    "duration": 9,
    "start_time": "2022-05-26T15:23:51.476Z"
   },
   {
    "duration": 0,
    "start_time": "2022-05-26T15:23:51.486Z"
   },
   {
    "duration": 0,
    "start_time": "2022-05-26T15:23:51.488Z"
   },
   {
    "duration": 0,
    "start_time": "2022-05-26T15:23:51.490Z"
   },
   {
    "duration": 4,
    "start_time": "2022-05-26T15:24:26.442Z"
   },
   {
    "duration": 446,
    "start_time": "2022-05-26T15:26:27.032Z"
   },
   {
    "duration": 90,
    "start_time": "2022-05-26T15:26:27.480Z"
   },
   {
    "duration": 75,
    "start_time": "2022-05-26T15:26:27.572Z"
   },
   {
    "duration": 32,
    "start_time": "2022-05-26T15:26:27.648Z"
   },
   {
    "duration": 28,
    "start_time": "2022-05-26T15:26:27.682Z"
   },
   {
    "duration": 4,
    "start_time": "2022-05-26T15:26:27.713Z"
   },
   {
    "duration": 12,
    "start_time": "2022-05-26T15:26:27.719Z"
   },
   {
    "duration": 4,
    "start_time": "2022-05-26T15:26:27.732Z"
   },
   {
    "duration": 4,
    "start_time": "2022-05-26T15:26:27.738Z"
   },
   {
    "duration": 9,
    "start_time": "2022-05-26T15:26:27.743Z"
   },
   {
    "duration": 12,
    "start_time": "2022-05-26T15:26:27.753Z"
   },
   {
    "duration": 36,
    "start_time": "2022-05-26T15:26:27.766Z"
   },
   {
    "duration": 5,
    "start_time": "2022-05-26T15:26:27.804Z"
   },
   {
    "duration": 8,
    "start_time": "2022-05-26T15:26:27.812Z"
   },
   {
    "duration": 8,
    "start_time": "2022-05-26T15:26:27.822Z"
   },
   {
    "duration": 5,
    "start_time": "2022-05-26T15:26:27.832Z"
   },
   {
    "duration": 6,
    "start_time": "2022-05-26T15:26:27.839Z"
   },
   {
    "duration": 316,
    "start_time": "2022-05-26T15:26:27.846Z"
   },
   {
    "duration": 13,
    "start_time": "2022-05-26T15:26:28.163Z"
   },
   {
    "duration": 6,
    "start_time": "2022-05-26T15:26:28.178Z"
   },
   {
    "duration": 18,
    "start_time": "2022-05-26T15:26:28.185Z"
   },
   {
    "duration": 4,
    "start_time": "2022-05-26T15:26:28.204Z"
   },
   {
    "duration": 7,
    "start_time": "2022-05-26T15:26:28.210Z"
   },
   {
    "duration": 7,
    "start_time": "2022-05-26T15:26:28.218Z"
   },
   {
    "duration": 449,
    "start_time": "2022-05-26T15:26:28.226Z"
   },
   {
    "duration": 9,
    "start_time": "2022-05-26T15:26:28.676Z"
   },
   {
    "duration": 10,
    "start_time": "2022-05-26T15:26:28.687Z"
   },
   {
    "duration": 158,
    "start_time": "2022-05-26T15:26:28.702Z"
   },
   {
    "duration": 9,
    "start_time": "2022-05-26T15:26:28.862Z"
   },
   {
    "duration": 165,
    "start_time": "2022-05-26T15:26:28.873Z"
   },
   {
    "duration": 11,
    "start_time": "2022-05-26T15:26:29.040Z"
   },
   {
    "duration": 151,
    "start_time": "2022-05-26T15:26:29.053Z"
   },
   {
    "duration": 10,
    "start_time": "2022-05-26T15:26:29.205Z"
   },
   {
    "duration": 159,
    "start_time": "2022-05-26T15:26:29.216Z"
   },
   {
    "duration": 161,
    "start_time": "2022-05-26T15:26:29.377Z"
   },
   {
    "duration": 16,
    "start_time": "2022-05-26T15:26:29.540Z"
   },
   {
    "duration": 9,
    "start_time": "2022-05-26T15:26:29.558Z"
   },
   {
    "duration": 81,
    "start_time": "2022-05-26T15:26:29.568Z"
   },
   {
    "duration": 14,
    "start_time": "2022-05-26T15:26:29.650Z"
   },
   {
    "duration": 11,
    "start_time": "2022-05-26T15:26:29.666Z"
   },
   {
    "duration": 14,
    "start_time": "2022-05-26T15:26:29.681Z"
   },
   {
    "duration": 165,
    "start_time": "2022-05-26T15:26:29.701Z"
   },
   {
    "duration": 5,
    "start_time": "2022-05-26T15:26:29.867Z"
   },
   {
    "duration": 136,
    "start_time": "2022-05-26T15:26:29.873Z"
   },
   {
    "duration": 157,
    "start_time": "2022-05-26T15:26:30.011Z"
   },
   {
    "duration": 46,
    "start_time": "2022-05-26T15:26:30.169Z"
   },
   {
    "duration": 4,
    "start_time": "2022-05-26T15:27:39.601Z"
   },
   {
    "duration": 5,
    "start_time": "2022-05-26T15:28:51.212Z"
   },
   {
    "duration": 124,
    "start_time": "2022-05-26T15:31:34.997Z"
   },
   {
    "duration": 136,
    "start_time": "2022-05-26T15:32:41.750Z"
   },
   {
    "duration": 132,
    "start_time": "2022-05-26T15:33:04.114Z"
   },
   {
    "duration": 148,
    "start_time": "2022-05-26T15:33:13.082Z"
   },
   {
    "duration": 183,
    "start_time": "2022-05-26T15:33:39.276Z"
   },
   {
    "duration": 52,
    "start_time": "2022-05-26T15:36:24.920Z"
   },
   {
    "duration": 57,
    "start_time": "2022-05-27T12:32:45.741Z"
   },
   {
    "duration": 450,
    "start_time": "2022-05-27T12:33:05.602Z"
   },
   {
    "duration": 304,
    "start_time": "2022-05-27T12:33:06.054Z"
   },
   {
    "duration": 77,
    "start_time": "2022-05-27T12:33:06.360Z"
   },
   {
    "duration": 34,
    "start_time": "2022-05-27T12:33:06.439Z"
   },
   {
    "duration": 31,
    "start_time": "2022-05-27T12:33:06.474Z"
   },
   {
    "duration": 5,
    "start_time": "2022-05-27T12:33:06.507Z"
   },
   {
    "duration": 31,
    "start_time": "2022-05-27T12:33:06.514Z"
   },
   {
    "duration": 18,
    "start_time": "2022-05-27T12:33:06.547Z"
   },
   {
    "duration": 21,
    "start_time": "2022-05-27T12:33:06.566Z"
   },
   {
    "duration": 20,
    "start_time": "2022-05-27T12:33:06.591Z"
   },
   {
    "duration": 19,
    "start_time": "2022-05-27T12:33:06.613Z"
   },
   {
    "duration": 29,
    "start_time": "2022-05-27T12:33:06.633Z"
   },
   {
    "duration": 17,
    "start_time": "2022-05-27T12:33:06.664Z"
   },
   {
    "duration": 28,
    "start_time": "2022-05-27T12:33:06.682Z"
   },
   {
    "duration": 28,
    "start_time": "2022-05-27T12:33:06.712Z"
   },
   {
    "duration": 19,
    "start_time": "2022-05-27T12:33:06.742Z"
   },
   {
    "duration": 21,
    "start_time": "2022-05-27T12:33:06.763Z"
   },
   {
    "duration": 319,
    "start_time": "2022-05-27T12:33:06.786Z"
   },
   {
    "duration": 16,
    "start_time": "2022-05-27T12:33:07.106Z"
   },
   {
    "duration": 26,
    "start_time": "2022-05-27T12:33:07.124Z"
   },
   {
    "duration": 21,
    "start_time": "2022-05-27T12:33:07.152Z"
   },
   {
    "duration": 29,
    "start_time": "2022-05-27T12:33:07.174Z"
   },
   {
    "duration": 21,
    "start_time": "2022-05-27T12:33:07.205Z"
   },
   {
    "duration": 21,
    "start_time": "2022-05-27T12:33:07.227Z"
   },
   {
    "duration": 605,
    "start_time": "2022-05-27T12:33:07.249Z"
   },
   {
    "duration": 12,
    "start_time": "2022-05-27T12:33:07.856Z"
   },
   {
    "duration": 34,
    "start_time": "2022-05-27T12:33:07.870Z"
   },
   {
    "duration": 169,
    "start_time": "2022-05-27T12:33:07.910Z"
   },
   {
    "duration": 22,
    "start_time": "2022-05-27T12:33:08.081Z"
   },
   {
    "duration": 173,
    "start_time": "2022-05-27T12:33:08.105Z"
   },
   {
    "duration": 15,
    "start_time": "2022-05-27T12:33:08.280Z"
   },
   {
    "duration": 163,
    "start_time": "2022-05-27T12:33:08.296Z"
   },
   {
    "duration": 12,
    "start_time": "2022-05-27T12:33:08.461Z"
   },
   {
    "duration": 179,
    "start_time": "2022-05-27T12:33:08.474Z"
   },
   {
    "duration": 233,
    "start_time": "2022-05-27T12:33:08.654Z"
   },
   {
    "duration": 26,
    "start_time": "2022-05-27T12:33:08.888Z"
   },
   {
    "duration": 19,
    "start_time": "2022-05-27T12:33:08.916Z"
   },
   {
    "duration": 23,
    "start_time": "2022-05-27T12:33:08.937Z"
   },
   {
    "duration": 32,
    "start_time": "2022-05-27T12:33:08.963Z"
   },
   {
    "duration": 31,
    "start_time": "2022-05-27T12:33:08.997Z"
   },
   {
    "duration": 31,
    "start_time": "2022-05-27T12:33:09.031Z"
   },
   {
    "duration": 197,
    "start_time": "2022-05-27T12:33:09.065Z"
   },
   {
    "duration": 5,
    "start_time": "2022-05-27T12:33:09.264Z"
   },
   {
    "duration": 154,
    "start_time": "2022-05-27T12:33:09.271Z"
   },
   {
    "duration": 4,
    "start_time": "2022-05-27T12:33:09.427Z"
   },
   {
    "duration": 165,
    "start_time": "2022-05-27T12:33:09.433Z"
   },
   {
    "duration": 5,
    "start_time": "2022-05-27T12:33:09.600Z"
   },
   {
    "duration": 153,
    "start_time": "2022-05-27T12:33:09.607Z"
   },
   {
    "duration": 156,
    "start_time": "2022-05-27T12:33:09.762Z"
   },
   {
    "duration": 152,
    "start_time": "2022-05-27T12:33:09.919Z"
   },
   {
    "duration": 156,
    "start_time": "2022-05-27T12:33:10.073Z"
   },
   {
    "duration": 31,
    "start_time": "2022-05-27T12:33:10.232Z"
   },
   {
    "duration": 98,
    "start_time": "2022-05-27T12:33:10.265Z"
   },
   {
    "duration": 8,
    "start_time": "2022-05-27T12:34:54.936Z"
   },
   {
    "duration": 9,
    "start_time": "2022-05-27T12:35:09.349Z"
   },
   {
    "duration": 8,
    "start_time": "2022-05-27T12:35:16.936Z"
   },
   {
    "duration": 9,
    "start_time": "2022-05-27T12:35:24.301Z"
   },
   {
    "duration": 21,
    "start_time": "2022-05-27T12:36:00.510Z"
   },
   {
    "duration": 10,
    "start_time": "2022-05-27T12:36:16.789Z"
   },
   {
    "duration": 4,
    "start_time": "2022-05-27T12:36:46.476Z"
   },
   {
    "duration": 5,
    "start_time": "2022-05-27T12:37:19.232Z"
   },
   {
    "duration": 2,
    "start_time": "2022-05-27T12:38:56.400Z"
   },
   {
    "duration": 5,
    "start_time": "2022-05-27T12:38:57.189Z"
   },
   {
    "duration": 5,
    "start_time": "2022-05-27T12:39:07.351Z"
   },
   {
    "duration": 5,
    "start_time": "2022-05-27T12:39:15.580Z"
   },
   {
    "duration": 6,
    "start_time": "2022-05-27T12:40:03.445Z"
   },
   {
    "duration": 10,
    "start_time": "2022-05-27T12:40:13.812Z"
   },
   {
    "duration": 3,
    "start_time": "2022-05-27T12:40:18.653Z"
   },
   {
    "duration": 6,
    "start_time": "2022-05-27T12:41:13.960Z"
   },
   {
    "duration": 5,
    "start_time": "2022-05-27T12:41:29.961Z"
   },
   {
    "duration": 6,
    "start_time": "2022-05-27T12:42:14.192Z"
   },
   {
    "duration": 25,
    "start_time": "2022-05-27T12:46:35.325Z"
   },
   {
    "duration": 17,
    "start_time": "2022-05-27T12:47:38.250Z"
   },
   {
    "duration": 13,
    "start_time": "2022-05-27T12:48:23.877Z"
   },
   {
    "duration": 83,
    "start_time": "2022-05-27T12:48:37.766Z"
   },
   {
    "duration": 460,
    "start_time": "2022-05-27T12:48:47.799Z"
   },
   {
    "duration": 94,
    "start_time": "2022-05-27T12:48:48.261Z"
   },
   {
    "duration": 83,
    "start_time": "2022-05-27T12:48:48.357Z"
   },
   {
    "duration": 57,
    "start_time": "2022-05-27T12:48:48.441Z"
   },
   {
    "duration": 18,
    "start_time": "2022-05-27T12:48:48.502Z"
   },
   {
    "duration": 5,
    "start_time": "2022-05-27T12:48:48.521Z"
   },
   {
    "duration": 12,
    "start_time": "2022-05-27T12:48:48.527Z"
   },
   {
    "duration": 7,
    "start_time": "2022-05-27T12:48:48.540Z"
   },
   {
    "duration": 5,
    "start_time": "2022-05-27T12:48:48.549Z"
   },
   {
    "duration": 41,
    "start_time": "2022-05-27T12:48:48.555Z"
   },
   {
    "duration": 12,
    "start_time": "2022-05-27T12:48:48.597Z"
   },
   {
    "duration": 8,
    "start_time": "2022-05-27T12:48:48.611Z"
   },
   {
    "duration": 7,
    "start_time": "2022-05-27T12:48:48.621Z"
   },
   {
    "duration": 3,
    "start_time": "2022-05-27T12:48:48.631Z"
   },
   {
    "duration": 7,
    "start_time": "2022-05-27T12:48:48.636Z"
   },
   {
    "duration": 7,
    "start_time": "2022-05-27T12:48:48.644Z"
   },
   {
    "duration": 11,
    "start_time": "2022-05-27T12:48:48.652Z"
   },
   {
    "duration": 342,
    "start_time": "2022-05-27T12:48:48.694Z"
   },
   {
    "duration": 21,
    "start_time": "2022-05-27T12:48:49.038Z"
   },
   {
    "duration": 27,
    "start_time": "2022-05-27T12:48:49.060Z"
   },
   {
    "duration": 16,
    "start_time": "2022-05-27T12:48:49.090Z"
   },
   {
    "duration": 28,
    "start_time": "2022-05-27T12:48:49.109Z"
   },
   {
    "duration": 31,
    "start_time": "2022-05-27T12:48:49.140Z"
   },
   {
    "duration": 33,
    "start_time": "2022-05-27T12:48:49.173Z"
   },
   {
    "duration": 419,
    "start_time": "2022-05-27T12:48:49.208Z"
   },
   {
    "duration": 10,
    "start_time": "2022-05-27T12:48:49.629Z"
   },
   {
    "duration": 8,
    "start_time": "2022-05-27T12:48:49.641Z"
   },
   {
    "duration": 177,
    "start_time": "2022-05-27T12:48:49.651Z"
   },
   {
    "duration": 9,
    "start_time": "2022-05-27T12:48:49.830Z"
   },
   {
    "duration": 177,
    "start_time": "2022-05-27T12:48:49.840Z"
   },
   {
    "duration": 17,
    "start_time": "2022-05-27T12:48:50.024Z"
   },
   {
    "duration": 162,
    "start_time": "2022-05-27T12:48:50.043Z"
   },
   {
    "duration": 13,
    "start_time": "2022-05-27T12:48:50.207Z"
   },
   {
    "duration": 190,
    "start_time": "2022-05-27T12:48:50.222Z"
   },
   {
    "duration": 173,
    "start_time": "2022-05-27T12:48:50.415Z"
   },
   {
    "duration": 20,
    "start_time": "2022-05-27T12:48:50.590Z"
   },
   {
    "duration": 14,
    "start_time": "2022-05-27T12:48:50.612Z"
   },
   {
    "duration": 109,
    "start_time": "2022-05-27T12:48:50.628Z"
   },
   {
    "duration": 10,
    "start_time": "2022-05-27T12:48:50.739Z"
   },
   {
    "duration": 9,
    "start_time": "2022-05-27T12:48:50.750Z"
   },
   {
    "duration": 32,
    "start_time": "2022-05-27T12:48:50.763Z"
   },
   {
    "duration": 171,
    "start_time": "2022-05-27T12:48:50.797Z"
   },
   {
    "duration": 5,
    "start_time": "2022-05-27T12:48:50.970Z"
   },
   {
    "duration": 168,
    "start_time": "2022-05-27T12:48:50.976Z"
   },
   {
    "duration": 4,
    "start_time": "2022-05-27T12:48:51.146Z"
   },
   {
    "duration": 161,
    "start_time": "2022-05-27T12:48:51.152Z"
   },
   {
    "duration": 4,
    "start_time": "2022-05-27T12:48:51.315Z"
   },
   {
    "duration": 131,
    "start_time": "2022-05-27T12:48:51.321Z"
   },
   {
    "duration": 134,
    "start_time": "2022-05-27T12:48:51.453Z"
   },
   {
    "duration": 151,
    "start_time": "2022-05-27T12:48:51.589Z"
   },
   {
    "duration": 138,
    "start_time": "2022-05-27T12:48:51.742Z"
   },
   {
    "duration": 39,
    "start_time": "2022-05-27T12:48:51.882Z"
   },
   {
    "duration": 4,
    "start_time": "2022-05-27T12:48:51.923Z"
   },
   {
    "duration": 22,
    "start_time": "2022-05-27T12:48:51.929Z"
   },
   {
    "duration": 5,
    "start_time": "2022-05-27T12:49:20.411Z"
   },
   {
    "duration": 13,
    "start_time": "2022-05-27T12:49:26.713Z"
   },
   {
    "duration": 11,
    "start_time": "2022-05-27T12:52:53.666Z"
   },
   {
    "duration": 453,
    "start_time": "2022-05-27T12:53:10.608Z"
   },
   {
    "duration": 94,
    "start_time": "2022-05-27T12:53:11.062Z"
   },
   {
    "duration": 87,
    "start_time": "2022-05-27T12:53:11.158Z"
   },
   {
    "duration": 30,
    "start_time": "2022-05-27T12:53:11.247Z"
   },
   {
    "duration": 31,
    "start_time": "2022-05-27T12:53:11.279Z"
   },
   {
    "duration": 6,
    "start_time": "2022-05-27T12:53:11.312Z"
   },
   {
    "duration": 11,
    "start_time": "2022-05-27T12:53:11.319Z"
   },
   {
    "duration": 5,
    "start_time": "2022-05-27T12:53:11.331Z"
   },
   {
    "duration": 4,
    "start_time": "2022-05-27T12:53:11.338Z"
   },
   {
    "duration": 9,
    "start_time": "2022-05-27T12:53:11.344Z"
   },
   {
    "duration": 50,
    "start_time": "2022-05-27T12:53:11.355Z"
   },
   {
    "duration": 13,
    "start_time": "2022-05-27T12:53:11.408Z"
   },
   {
    "duration": 12,
    "start_time": "2022-05-27T12:53:11.422Z"
   },
   {
    "duration": 12,
    "start_time": "2022-05-27T12:53:11.436Z"
   },
   {
    "duration": 9,
    "start_time": "2022-05-27T12:53:11.450Z"
   },
   {
    "duration": 7,
    "start_time": "2022-05-27T12:53:11.460Z"
   },
   {
    "duration": 7,
    "start_time": "2022-05-27T12:53:11.468Z"
   },
   {
    "duration": 312,
    "start_time": "2022-05-27T12:53:11.476Z"
   },
   {
    "duration": 23,
    "start_time": "2022-05-27T12:53:11.789Z"
   },
   {
    "duration": 17,
    "start_time": "2022-05-27T12:53:11.813Z"
   },
   {
    "duration": 8,
    "start_time": "2022-05-27T12:53:11.831Z"
   },
   {
    "duration": 7,
    "start_time": "2022-05-27T12:53:11.840Z"
   },
   {
    "duration": 6,
    "start_time": "2022-05-27T12:53:11.849Z"
   },
   {
    "duration": 7,
    "start_time": "2022-05-27T12:53:11.856Z"
   },
   {
    "duration": 448,
    "start_time": "2022-05-27T12:53:11.865Z"
   },
   {
    "duration": 8,
    "start_time": "2022-05-27T12:53:12.315Z"
   },
   {
    "duration": 8,
    "start_time": "2022-05-27T12:53:12.324Z"
   },
   {
    "duration": 188,
    "start_time": "2022-05-27T12:53:12.333Z"
   },
   {
    "duration": 10,
    "start_time": "2022-05-27T12:53:12.523Z"
   },
   {
    "duration": 177,
    "start_time": "2022-05-27T12:53:12.535Z"
   },
   {
    "duration": 9,
    "start_time": "2022-05-27T12:53:12.714Z"
   },
   {
    "duration": 152,
    "start_time": "2022-05-27T12:53:12.724Z"
   },
   {
    "duration": 9,
    "start_time": "2022-05-27T12:53:12.877Z"
   },
   {
    "duration": 166,
    "start_time": "2022-05-27T12:53:12.894Z"
   },
   {
    "duration": 173,
    "start_time": "2022-05-27T12:53:13.062Z"
   },
   {
    "duration": 18,
    "start_time": "2022-05-27T12:53:13.237Z"
   },
   {
    "duration": 10,
    "start_time": "2022-05-27T12:53:13.257Z"
   },
   {
    "duration": 97,
    "start_time": "2022-05-27T12:53:13.269Z"
   },
   {
    "duration": 8,
    "start_time": "2022-05-27T12:53:13.367Z"
   },
   {
    "duration": 19,
    "start_time": "2022-05-27T12:53:13.377Z"
   },
   {
    "duration": 18,
    "start_time": "2022-05-27T12:53:13.402Z"
   },
   {
    "duration": 150,
    "start_time": "2022-05-27T12:53:13.422Z"
   },
   {
    "duration": 5,
    "start_time": "2022-05-27T12:53:13.580Z"
   },
   {
    "duration": 175,
    "start_time": "2022-05-27T12:53:13.587Z"
   },
   {
    "duration": 6,
    "start_time": "2022-05-27T12:53:13.764Z"
   },
   {
    "duration": 181,
    "start_time": "2022-05-27T12:53:13.772Z"
   },
   {
    "duration": 4,
    "start_time": "2022-05-27T12:53:13.955Z"
   },
   {
    "duration": 150,
    "start_time": "2022-05-27T12:53:13.960Z"
   },
   {
    "duration": 158,
    "start_time": "2022-05-27T12:53:14.112Z"
   },
   {
    "duration": 153,
    "start_time": "2022-05-27T12:53:14.272Z"
   },
   {
    "duration": 147,
    "start_time": "2022-05-27T12:53:14.426Z"
   },
   {
    "duration": 46,
    "start_time": "2022-05-27T12:53:14.574Z"
   },
   {
    "duration": 5,
    "start_time": "2022-05-27T12:53:14.621Z"
   },
   {
    "duration": 17,
    "start_time": "2022-05-27T12:53:14.627Z"
   },
   {
    "duration": 12,
    "start_time": "2022-05-27T12:53:24.852Z"
   },
   {
    "duration": 90,
    "start_time": "2022-05-27T13:00:00.182Z"
   },
   {
    "duration": 9,
    "start_time": "2022-05-27T13:00:13.825Z"
   },
   {
    "duration": 11,
    "start_time": "2022-05-27T13:00:57.751Z"
   },
   {
    "duration": 6,
    "start_time": "2022-05-27T13:01:15.860Z"
   },
   {
    "duration": 10,
    "start_time": "2022-05-27T13:02:55.031Z"
   },
   {
    "duration": 9,
    "start_time": "2022-05-27T13:03:24.924Z"
   },
   {
    "duration": 6,
    "start_time": "2022-05-27T13:04:17.787Z"
   },
   {
    "duration": 8,
    "start_time": "2022-05-27T13:04:29.651Z"
   },
   {
    "duration": 11,
    "start_time": "2022-05-27T13:04:42.965Z"
   },
   {
    "duration": 8,
    "start_time": "2022-05-27T13:04:47.469Z"
   },
   {
    "duration": 383,
    "start_time": "2022-05-29T07:02:03.119Z"
   },
   {
    "duration": 158,
    "start_time": "2022-05-29T07:02:03.504Z"
   },
   {
    "duration": 77,
    "start_time": "2022-05-29T07:02:03.665Z"
   },
   {
    "duration": 45,
    "start_time": "2022-05-29T07:02:03.744Z"
   },
   {
    "duration": 14,
    "start_time": "2022-05-29T07:02:03.791Z"
   },
   {
    "duration": 7,
    "start_time": "2022-05-29T07:02:03.807Z"
   },
   {
    "duration": 9,
    "start_time": "2022-05-29T07:02:03.815Z"
   },
   {
    "duration": 4,
    "start_time": "2022-05-29T07:02:03.826Z"
   },
   {
    "duration": 5,
    "start_time": "2022-05-29T07:02:03.832Z"
   },
   {
    "duration": 7,
    "start_time": "2022-05-29T07:02:03.840Z"
   },
   {
    "duration": 45,
    "start_time": "2022-05-29T07:02:03.848Z"
   },
   {
    "duration": 17,
    "start_time": "2022-05-29T07:02:03.894Z"
   },
   {
    "duration": 8,
    "start_time": "2022-05-29T07:02:03.913Z"
   },
   {
    "duration": 7,
    "start_time": "2022-05-29T07:02:03.922Z"
   },
   {
    "duration": 8,
    "start_time": "2022-05-29T07:02:03.930Z"
   },
   {
    "duration": 7,
    "start_time": "2022-05-29T07:02:03.939Z"
   },
   {
    "duration": 16,
    "start_time": "2022-05-29T07:02:03.947Z"
   },
   {
    "duration": 300,
    "start_time": "2022-05-29T07:02:03.964Z"
   },
   {
    "duration": 23,
    "start_time": "2022-05-29T07:02:04.266Z"
   },
   {
    "duration": 16,
    "start_time": "2022-05-29T07:02:04.290Z"
   },
   {
    "duration": 23,
    "start_time": "2022-05-29T07:02:04.307Z"
   },
   {
    "duration": 31,
    "start_time": "2022-05-29T07:02:04.331Z"
   },
   {
    "duration": 32,
    "start_time": "2022-05-29T07:02:04.364Z"
   },
   {
    "duration": 14,
    "start_time": "2022-05-29T07:02:04.397Z"
   },
   {
    "duration": 541,
    "start_time": "2022-05-29T07:02:04.413Z"
   },
   {
    "duration": 9,
    "start_time": "2022-05-29T07:02:04.956Z"
   },
   {
    "duration": 18,
    "start_time": "2022-05-29T07:02:04.974Z"
   },
   {
    "duration": 137,
    "start_time": "2022-05-29T07:02:04.995Z"
   },
   {
    "duration": 8,
    "start_time": "2022-05-29T07:02:05.133Z"
   },
   {
    "duration": 157,
    "start_time": "2022-05-29T07:02:05.142Z"
   },
   {
    "duration": 9,
    "start_time": "2022-05-29T07:02:05.300Z"
   },
   {
    "duration": 156,
    "start_time": "2022-05-29T07:02:05.311Z"
   },
   {
    "duration": 18,
    "start_time": "2022-05-29T07:02:05.469Z"
   },
   {
    "duration": 132,
    "start_time": "2022-05-29T07:02:05.488Z"
   },
   {
    "duration": 201,
    "start_time": "2022-05-29T07:02:05.622Z"
   },
   {
    "duration": 15,
    "start_time": "2022-05-29T07:02:05.825Z"
   },
   {
    "duration": 8,
    "start_time": "2022-05-29T07:02:05.842Z"
   },
   {
    "duration": 35,
    "start_time": "2022-05-29T07:02:05.851Z"
   },
   {
    "duration": 28,
    "start_time": "2022-05-29T07:02:05.887Z"
   },
   {
    "duration": 19,
    "start_time": "2022-05-29T07:02:05.916Z"
   },
   {
    "duration": 20,
    "start_time": "2022-05-29T07:02:05.937Z"
   },
   {
    "duration": 159,
    "start_time": "2022-05-29T07:02:05.959Z"
   },
   {
    "duration": 3,
    "start_time": "2022-05-29T07:02:06.119Z"
   },
   {
    "duration": 166,
    "start_time": "2022-05-29T07:02:06.124Z"
   },
   {
    "duration": 4,
    "start_time": "2022-05-29T07:02:06.292Z"
   },
   {
    "duration": 142,
    "start_time": "2022-05-29T07:02:06.297Z"
   },
   {
    "duration": 4,
    "start_time": "2022-05-29T07:02:06.441Z"
   },
   {
    "duration": 120,
    "start_time": "2022-05-29T07:02:06.447Z"
   },
   {
    "duration": 140,
    "start_time": "2022-05-29T07:02:06.574Z"
   },
   {
    "duration": 135,
    "start_time": "2022-05-29T07:02:06.716Z"
   },
   {
    "duration": 134,
    "start_time": "2022-05-29T07:02:06.852Z"
   },
   {
    "duration": 29,
    "start_time": "2022-05-29T07:02:06.987Z"
   },
   {
    "duration": 3,
    "start_time": "2022-05-29T07:02:07.017Z"
   },
   {
    "duration": 13,
    "start_time": "2022-05-29T07:02:07.022Z"
   },
   {
    "duration": 8,
    "start_time": "2022-05-29T07:02:07.037Z"
   },
   {
    "duration": 7,
    "start_time": "2022-05-29T07:02:07.046Z"
   },
   {
    "duration": 34,
    "start_time": "2022-05-29T07:02:07.055Z"
   },
   {
    "duration": 7,
    "start_time": "2022-05-29T07:02:07.091Z"
   },
   {
    "duration": 6,
    "start_time": "2022-05-29T07:02:07.099Z"
   },
   {
    "duration": 12,
    "start_time": "2022-05-29T07:04:48.277Z"
   },
   {
    "duration": 4,
    "start_time": "2022-05-29T07:07:35.400Z"
   },
   {
    "duration": 6,
    "start_time": "2022-05-29T07:08:37.598Z"
   },
   {
    "duration": 38,
    "start_time": "2022-05-29T07:11:04.799Z"
   },
   {
    "duration": 219,
    "start_time": "2022-05-29T07:11:15.688Z"
   },
   {
    "duration": 159,
    "start_time": "2022-05-29T07:11:48.249Z"
   },
   {
    "duration": 70,
    "start_time": "2022-05-29T07:14:41.066Z"
   },
   {
    "duration": 35,
    "start_time": "2022-05-29T07:14:44.094Z"
   },
   {
    "duration": 25,
    "start_time": "2022-05-29T07:14:48.639Z"
   },
   {
    "duration": 49,
    "start_time": "2022-05-29T07:14:57.954Z"
   },
   {
    "duration": 6,
    "start_time": "2022-05-29T07:15:10.610Z"
   },
   {
    "duration": 20,
    "start_time": "2022-05-29T07:15:20.376Z"
   },
   {
    "duration": 8,
    "start_time": "2022-05-29T07:18:19.457Z"
   },
   {
    "duration": 6,
    "start_time": "2022-05-29T07:19:18.957Z"
   },
   {
    "duration": 8,
    "start_time": "2022-05-29T07:20:57.028Z"
   },
   {
    "duration": 48,
    "start_time": "2022-05-29T07:21:22.156Z"
   },
   {
    "duration": 7,
    "start_time": "2022-05-29T07:21:43.453Z"
   },
   {
    "duration": 5,
    "start_time": "2022-05-29T07:21:47.920Z"
   },
   {
    "duration": 12,
    "start_time": "2022-05-29T07:22:22.399Z"
   },
   {
    "duration": 7,
    "start_time": "2022-05-29T07:23:40.257Z"
   },
   {
    "duration": 8,
    "start_time": "2022-05-29T07:24:12.462Z"
   },
   {
    "duration": 8,
    "start_time": "2022-05-29T07:24:26.373Z"
   },
   {
    "duration": 7,
    "start_time": "2022-05-29T07:25:04.020Z"
   },
   {
    "duration": 7,
    "start_time": "2022-05-29T07:25:38.603Z"
   },
   {
    "duration": 12,
    "start_time": "2022-05-29T07:26:03.001Z"
   },
   {
    "duration": 166,
    "start_time": "2022-05-29T07:26:25.260Z"
   },
   {
    "duration": 137,
    "start_time": "2022-05-29T07:26:53.603Z"
   },
   {
    "duration": 263,
    "start_time": "2022-05-29T07:27:08.715Z"
   },
   {
    "duration": 145,
    "start_time": "2022-05-29T07:27:21.065Z"
   },
   {
    "duration": 36,
    "start_time": "2022-05-29T07:27:43.356Z"
   },
   {
    "duration": 59,
    "start_time": "2022-05-29T07:47:36.263Z"
   },
   {
    "duration": 45,
    "start_time": "2022-05-29T07:53:42.314Z"
   },
   {
    "duration": 402,
    "start_time": "2022-05-29T07:53:48.677Z"
   },
   {
    "duration": 331,
    "start_time": "2022-05-29T07:53:49.082Z"
   },
   {
    "duration": 103,
    "start_time": "2022-05-29T07:53:59.723Z"
   },
   {
    "duration": 31,
    "start_time": "2022-05-29T07:54:00.204Z"
   },
   {
    "duration": 15,
    "start_time": "2022-05-29T07:54:04.219Z"
   },
   {
    "duration": 5,
    "start_time": "2022-05-29T07:54:07.899Z"
   },
   {
    "duration": 10,
    "start_time": "2022-05-29T07:54:23.542Z"
   },
   {
    "duration": 43,
    "start_time": "2022-05-29T07:55:31.569Z"
   },
   {
    "duration": 541,
    "start_time": "2022-05-29T07:59:28.666Z"
   },
   {
    "duration": 5,
    "start_time": "2022-05-29T07:59:30.467Z"
   },
   {
    "duration": 8,
    "start_time": "2022-05-29T07:59:30.670Z"
   },
   {
    "duration": 11,
    "start_time": "2022-05-29T07:59:30.871Z"
   },
   {
    "duration": 6,
    "start_time": "2022-05-29T07:59:31.071Z"
   },
   {
    "duration": 5,
    "start_time": "2022-05-29T07:59:31.496Z"
   },
   {
    "duration": 4,
    "start_time": "2022-05-29T07:59:31.943Z"
   },
   {
    "duration": 7,
    "start_time": "2022-05-29T07:59:32.640Z"
   },
   {
    "duration": 5,
    "start_time": "2022-05-29T07:59:32.840Z"
   },
   {
    "duration": 5,
    "start_time": "2022-05-29T07:59:33.069Z"
   },
   {
    "duration": 373,
    "start_time": "2022-05-29T07:59:35.152Z"
   },
   {
    "duration": 14,
    "start_time": "2022-05-29T07:59:35.711Z"
   },
   {
    "duration": 4,
    "start_time": "2022-05-29T07:59:41.723Z"
   },
   {
    "duration": 8,
    "start_time": "2022-05-29T07:59:42.147Z"
   },
   {
    "duration": 4,
    "start_time": "2022-05-29T07:59:44.096Z"
   },
   {
    "duration": 6,
    "start_time": "2022-05-29T07:59:45.540Z"
   },
   {
    "duration": 4,
    "start_time": "2022-05-29T07:59:50.028Z"
   },
   {
    "duration": 583,
    "start_time": "2022-05-29T07:59:53.163Z"
   },
   {
    "duration": 11,
    "start_time": "2022-05-29T08:00:12.100Z"
   },
   {
    "duration": 9,
    "start_time": "2022-05-29T08:00:13.092Z"
   },
   {
    "duration": 153,
    "start_time": "2022-05-29T08:00:26.207Z"
   },
   {
    "duration": 8,
    "start_time": "2022-05-29T08:00:27.388Z"
   },
   {
    "duration": 151,
    "start_time": "2022-05-29T08:00:27.639Z"
   },
   {
    "duration": 11,
    "start_time": "2022-05-29T08:00:28.472Z"
   },
   {
    "duration": 133,
    "start_time": "2022-05-29T08:00:28.765Z"
   },
   {
    "duration": 12,
    "start_time": "2022-05-29T08:06:12.368Z"
   },
   {
    "duration": 147,
    "start_time": "2022-05-29T08:06:13.504Z"
   },
   {
    "duration": 209,
    "start_time": "2022-05-29T08:06:16.560Z"
   },
   {
    "duration": 20,
    "start_time": "2022-05-29T08:06:24.797Z"
   },
   {
    "duration": 9,
    "start_time": "2022-05-29T08:06:25.427Z"
   },
   {
    "duration": 8,
    "start_time": "2022-05-29T08:06:27.044Z"
   },
   {
    "duration": 11,
    "start_time": "2022-05-29T08:06:27.288Z"
   },
   {
    "duration": 6,
    "start_time": "2022-05-29T08:06:43.214Z"
   },
   {
    "duration": 8,
    "start_time": "2022-05-29T08:06:43.423Z"
   },
   {
    "duration": 26,
    "start_time": "2022-05-29T08:06:52.023Z"
   },
   {
    "duration": 147,
    "start_time": "2022-05-29T08:07:03.023Z"
   },
   {
    "duration": 5,
    "start_time": "2022-05-29T08:07:05.036Z"
   },
   {
    "duration": 124,
    "start_time": "2022-05-29T08:07:06.580Z"
   },
   {
    "duration": 4,
    "start_time": "2022-05-29T08:07:07.000Z"
   },
   {
    "duration": 141,
    "start_time": "2022-05-29T08:07:07.584Z"
   },
   {
    "duration": 4,
    "start_time": "2022-05-29T08:07:07.792Z"
   },
   {
    "duration": 116,
    "start_time": "2022-05-29T08:07:23.573Z"
   },
   {
    "duration": 173,
    "start_time": "2022-05-29T08:07:25.365Z"
   },
   {
    "duration": 124,
    "start_time": "2022-05-29T08:07:25.868Z"
   },
   {
    "duration": 132,
    "start_time": "2022-05-29T08:07:31.280Z"
   },
   {
    "duration": 31,
    "start_time": "2022-05-29T08:07:32.864Z"
   },
   {
    "duration": 4,
    "start_time": "2022-05-29T08:08:27.924Z"
   },
   {
    "duration": 13,
    "start_time": "2022-05-29T08:08:28.581Z"
   },
   {
    "duration": 9,
    "start_time": "2022-05-29T08:09:12.605Z"
   },
   {
    "duration": 5,
    "start_time": "2022-05-29T08:09:13.076Z"
   },
   {
    "duration": 8,
    "start_time": "2022-05-29T08:09:13.700Z"
   },
   {
    "duration": 6,
    "start_time": "2022-05-29T08:09:15.704Z"
   },
   {
    "duration": 6,
    "start_time": "2022-05-29T08:09:15.972Z"
   },
   {
    "duration": 5,
    "start_time": "2022-05-29T08:11:12.765Z"
   },
   {
    "duration": 12,
    "start_time": "2022-05-29T08:11:13.773Z"
   },
   {
    "duration": 8,
    "start_time": "2022-05-29T08:11:24.676Z"
   },
   {
    "duration": 120,
    "start_time": "2022-05-29T08:11:25.504Z"
   },
   {
    "duration": 122,
    "start_time": "2022-05-29T08:11:27.777Z"
   },
   {
    "duration": 5,
    "start_time": "2022-05-29T08:11:29.469Z"
   },
   {
    "duration": 8,
    "start_time": "2022-05-29T08:11:31.653Z"
   },
   {
    "duration": 6,
    "start_time": "2022-05-29T08:11:48.332Z"
   },
   {
    "duration": 6,
    "start_time": "2022-05-29T08:11:55.793Z"
   },
   {
    "duration": 8,
    "start_time": "2022-05-29T08:11:56.253Z"
   },
   {
    "duration": 7,
    "start_time": "2022-05-29T08:12:00.193Z"
   },
   {
    "duration": 8,
    "start_time": "2022-05-29T08:12:00.822Z"
   },
   {
    "duration": 34,
    "start_time": "2022-05-29T08:12:09.076Z"
   },
   {
    "duration": 3,
    "start_time": "2022-05-29T08:13:05.305Z"
   },
   {
    "duration": 76,
    "start_time": "2022-05-29T08:13:05.488Z"
   },
   {
    "duration": 65,
    "start_time": "2022-05-29T08:13:06.320Z"
   },
   {
    "duration": 28,
    "start_time": "2022-05-29T08:13:06.429Z"
   },
   {
    "duration": 14,
    "start_time": "2022-05-29T08:13:06.592Z"
   },
   {
    "duration": 4,
    "start_time": "2022-05-29T08:13:07.465Z"
   },
   {
    "duration": 12,
    "start_time": "2022-05-29T08:13:08.133Z"
   },
   {
    "duration": 4,
    "start_time": "2022-05-29T08:13:08.722Z"
   },
   {
    "duration": 5,
    "start_time": "2022-05-29T08:13:09.036Z"
   },
   {
    "duration": 7,
    "start_time": "2022-05-29T08:13:09.125Z"
   },
   {
    "duration": 12,
    "start_time": "2022-05-29T08:13:09.208Z"
   },
   {
    "duration": 6,
    "start_time": "2022-05-29T08:13:09.288Z"
   },
   {
    "duration": 6,
    "start_time": "2022-05-29T08:13:09.461Z"
   },
   {
    "duration": 3,
    "start_time": "2022-05-29T08:13:09.624Z"
   },
   {
    "duration": 6,
    "start_time": "2022-05-29T08:13:09.792Z"
   },
   {
    "duration": 5,
    "start_time": "2022-05-29T08:13:09.880Z"
   },
   {
    "duration": 4,
    "start_time": "2022-05-29T08:13:09.965Z"
   },
   {
    "duration": 334,
    "start_time": "2022-05-29T08:13:10.208Z"
   },
   {
    "duration": 17,
    "start_time": "2022-05-29T08:13:10.544Z"
   },
   {
    "duration": 5,
    "start_time": "2022-05-29T08:13:10.717Z"
   },
   {
    "duration": 5,
    "start_time": "2022-05-29T08:13:10.796Z"
   },
   {
    "duration": 5,
    "start_time": "2022-05-29T08:13:10.964Z"
   },
   {
    "duration": 4,
    "start_time": "2022-05-29T08:13:11.048Z"
   },
   {
    "duration": 5,
    "start_time": "2022-05-29T08:13:11.301Z"
   },
   {
    "duration": 124,
    "start_time": "2022-05-29T08:13:12.144Z"
   },
   {
    "duration": 8,
    "start_time": "2022-05-29T08:13:13.792Z"
   },
   {
    "duration": 9,
    "start_time": "2022-05-29T08:13:14.156Z"
   },
   {
    "duration": 134,
    "start_time": "2022-05-29T08:13:14.557Z"
   },
   {
    "duration": 9,
    "start_time": "2022-05-29T08:13:14.948Z"
   },
   {
    "duration": 136,
    "start_time": "2022-05-29T08:13:17.260Z"
   },
   {
    "duration": 10,
    "start_time": "2022-05-29T08:13:18.624Z"
   },
   {
    "duration": 122,
    "start_time": "2022-05-29T08:13:18.844Z"
   },
   {
    "duration": 11,
    "start_time": "2022-05-29T08:13:21.329Z"
   },
   {
    "duration": 134,
    "start_time": "2022-05-29T08:13:23.360Z"
   },
   {
    "duration": 136,
    "start_time": "2022-05-29T08:13:24.448Z"
   },
   {
    "duration": 52,
    "start_time": "2022-05-29T08:13:32.561Z"
   },
   {
    "duration": 82,
    "start_time": "2022-05-30T11:23:11.930Z"
   },
   {
    "duration": 462,
    "start_time": "2022-05-30T11:23:22.573Z"
   },
   {
    "duration": 133,
    "start_time": "2022-05-30T11:23:23.037Z"
   },
   {
    "duration": 66,
    "start_time": "2022-05-30T11:23:23.171Z"
   },
   {
    "duration": 31,
    "start_time": "2022-05-30T11:23:23.239Z"
   },
   {
    "duration": 13,
    "start_time": "2022-05-30T11:23:23.272Z"
   },
   {
    "duration": 5,
    "start_time": "2022-05-30T11:23:23.302Z"
   },
   {
    "duration": 13,
    "start_time": "2022-05-30T11:23:23.309Z"
   },
   {
    "duration": 5,
    "start_time": "2022-05-30T11:23:23.324Z"
   },
   {
    "duration": 6,
    "start_time": "2022-05-30T11:23:23.330Z"
   },
   {
    "duration": 8,
    "start_time": "2022-05-30T11:23:23.339Z"
   },
   {
    "duration": 15,
    "start_time": "2022-05-30T11:23:23.349Z"
   },
   {
    "duration": 6,
    "start_time": "2022-05-30T11:23:23.365Z"
   },
   {
    "duration": 6,
    "start_time": "2022-05-30T11:23:23.401Z"
   },
   {
    "duration": 6,
    "start_time": "2022-05-30T11:23:23.409Z"
   },
   {
    "duration": 7,
    "start_time": "2022-05-30T11:23:23.416Z"
   },
   {
    "duration": 6,
    "start_time": "2022-05-30T11:23:23.425Z"
   },
   {
    "duration": 7,
    "start_time": "2022-05-30T11:23:23.433Z"
   },
   {
    "duration": 318,
    "start_time": "2022-05-30T11:23:23.442Z"
   },
   {
    "duration": 19,
    "start_time": "2022-05-30T11:23:23.761Z"
   },
   {
    "duration": 20,
    "start_time": "2022-05-30T11:23:23.782Z"
   },
   {
    "duration": 11,
    "start_time": "2022-05-30T11:23:23.804Z"
   },
   {
    "duration": 6,
    "start_time": "2022-05-30T11:23:23.816Z"
   },
   {
    "duration": 12,
    "start_time": "2022-05-30T11:23:23.824Z"
   },
   {
    "duration": 7,
    "start_time": "2022-05-30T11:23:23.837Z"
   },
   {
    "duration": 535,
    "start_time": "2022-05-30T11:23:23.846Z"
   },
   {
    "duration": 19,
    "start_time": "2022-05-30T11:23:24.383Z"
   },
   {
    "duration": 10,
    "start_time": "2022-05-30T11:23:24.403Z"
   },
   {
    "duration": 164,
    "start_time": "2022-05-30T11:23:24.418Z"
   },
   {
    "duration": 18,
    "start_time": "2022-05-30T11:23:24.584Z"
   },
   {
    "duration": 153,
    "start_time": "2022-05-30T11:23:24.604Z"
   },
   {
    "duration": 9,
    "start_time": "2022-05-30T11:23:24.759Z"
   },
   {
    "duration": 146,
    "start_time": "2022-05-30T11:23:24.769Z"
   },
   {
    "duration": 10,
    "start_time": "2022-05-30T11:23:24.917Z"
   },
   {
    "duration": 160,
    "start_time": "2022-05-30T11:23:24.928Z"
   },
   {
    "duration": 216,
    "start_time": "2022-05-30T11:23:25.090Z"
   },
   {
    "duration": 16,
    "start_time": "2022-05-30T11:23:25.307Z"
   },
   {
    "duration": 14,
    "start_time": "2022-05-30T11:23:25.324Z"
   },
   {
    "duration": 20,
    "start_time": "2022-05-30T11:23:25.340Z"
   },
   {
    "duration": 18,
    "start_time": "2022-05-30T11:23:25.362Z"
   },
   {
    "duration": 16,
    "start_time": "2022-05-30T11:23:25.381Z"
   },
   {
    "duration": 13,
    "start_time": "2022-05-30T11:23:25.398Z"
   },
   {
    "duration": 52,
    "start_time": "2022-05-30T11:23:25.413Z"
   },
   {
    "duration": 183,
    "start_time": "2022-05-30T11:23:25.467Z"
   },
   {
    "duration": 5,
    "start_time": "2022-05-30T11:23:25.652Z"
   },
   {
    "duration": 171,
    "start_time": "2022-05-30T11:23:25.659Z"
   },
   {
    "duration": 5,
    "start_time": "2022-05-30T11:23:25.831Z"
   },
   {
    "duration": 181,
    "start_time": "2022-05-30T11:23:25.837Z"
   },
   {
    "duration": 5,
    "start_time": "2022-05-30T11:23:26.021Z"
   },
   {
    "duration": 181,
    "start_time": "2022-05-30T11:23:26.028Z"
   },
   {
    "duration": 179,
    "start_time": "2022-05-30T11:23:26.210Z"
   },
   {
    "duration": 170,
    "start_time": "2022-05-30T11:23:26.390Z"
   },
   {
    "duration": 164,
    "start_time": "2022-05-30T11:23:26.562Z"
   },
   {
    "duration": 46,
    "start_time": "2022-05-30T11:23:26.728Z"
   },
   {
    "duration": 6,
    "start_time": "2022-05-30T11:23:26.776Z"
   },
   {
    "duration": 16,
    "start_time": "2022-05-30T11:23:26.802Z"
   },
   {
    "duration": 9,
    "start_time": "2022-05-30T11:23:26.820Z"
   },
   {
    "duration": 5,
    "start_time": "2022-05-30T11:23:26.831Z"
   },
   {
    "duration": 9,
    "start_time": "2022-05-30T11:23:26.838Z"
   },
   {
    "duration": 6,
    "start_time": "2022-05-30T11:23:26.849Z"
   },
   {
    "duration": 6,
    "start_time": "2022-05-30T11:23:26.857Z"
   },
   {
    "duration": 4,
    "start_time": "2022-05-30T11:23:26.903Z"
   },
   {
    "duration": 8,
    "start_time": "2022-05-30T11:23:26.909Z"
   },
   {
    "duration": 162,
    "start_time": "2022-05-30T11:23:26.919Z"
   },
   {
    "duration": 24,
    "start_time": "2022-05-30T11:23:27.083Z"
   },
   {
    "duration": 8,
    "start_time": "2022-05-30T11:23:27.109Z"
   },
   {
    "duration": 12,
    "start_time": "2022-05-30T11:23:27.119Z"
   },
   {
    "duration": 8,
    "start_time": "2022-05-30T11:23:27.132Z"
   },
   {
    "duration": 169,
    "start_time": "2022-05-30T11:23:27.141Z"
   },
   {
    "duration": 9,
    "start_time": "2022-05-30T11:23:27.312Z"
   },
   {
    "duration": 147,
    "start_time": "2022-05-30T11:23:27.323Z"
   },
   {
    "duration": 8,
    "start_time": "2022-05-30T11:23:27.472Z"
   },
   {
    "duration": 139,
    "start_time": "2022-05-30T11:23:27.481Z"
   },
   {
    "duration": 8,
    "start_time": "2022-05-30T11:23:27.622Z"
   },
   {
    "duration": 232,
    "start_time": "2022-05-30T11:23:27.632Z"
   },
   {
    "duration": 57,
    "start_time": "2022-05-30T11:23:27.866Z"
   },
   {
    "duration": 10,
    "start_time": "2022-05-30T11:25:09.561Z"
   },
   {
    "duration": 14,
    "start_time": "2022-05-30T11:26:24.309Z"
   },
   {
    "duration": 8,
    "start_time": "2022-05-30T11:41:09.381Z"
   },
   {
    "duration": 9,
    "start_time": "2022-05-30T11:41:24.463Z"
   },
   {
    "duration": 6,
    "start_time": "2022-05-30T11:41:58.413Z"
   },
   {
    "duration": 7,
    "start_time": "2022-05-30T11:42:13.679Z"
   },
   {
    "duration": 5,
    "start_time": "2022-05-30T11:42:22.465Z"
   },
   {
    "duration": 4,
    "start_time": "2022-05-30T11:42:27.689Z"
   },
   {
    "duration": 9,
    "start_time": "2022-05-30T11:45:26.023Z"
   },
   {
    "duration": 5,
    "start_time": "2022-05-30T11:45:32.183Z"
   },
   {
    "duration": 42,
    "start_time": "2022-05-30T11:46:08.081Z"
   },
   {
    "duration": 21,
    "start_time": "2022-05-30T11:46:31.170Z"
   },
   {
    "duration": 5,
    "start_time": "2022-05-30T11:46:34.455Z"
   },
   {
    "duration": 8,
    "start_time": "2022-05-30T11:46:47.982Z"
   },
   {
    "duration": 95,
    "start_time": "2022-05-30T11:51:03.282Z"
   },
   {
    "duration": 8,
    "start_time": "2022-05-30T11:51:11.818Z"
   },
   {
    "duration": 14,
    "start_time": "2022-05-30T11:51:30.980Z"
   },
   {
    "duration": 7,
    "start_time": "2022-05-30T11:51:31.686Z"
   },
   {
    "duration": 18,
    "start_time": "2022-05-30T11:51:40.732Z"
   },
   {
    "duration": 3,
    "start_time": "2022-05-30T11:51:41.485Z"
   },
   {
    "duration": 7,
    "start_time": "2022-05-30T11:52:08.564Z"
   },
   {
    "duration": 10,
    "start_time": "2022-05-30T11:52:28.381Z"
   },
   {
    "duration": 11,
    "start_time": "2022-05-30T11:52:38.669Z"
   },
   {
    "duration": 8,
    "start_time": "2022-05-30T11:52:53.039Z"
   },
   {
    "duration": 3,
    "start_time": "2022-05-30T11:54:39.592Z"
   },
   {
    "duration": 8,
    "start_time": "2022-05-30T11:54:40.260Z"
   },
   {
    "duration": 9,
    "start_time": "2022-05-30T11:54:51.238Z"
   },
   {
    "duration": 7,
    "start_time": "2022-05-30T11:55:03.620Z"
   },
   {
    "duration": 4,
    "start_time": "2022-05-30T11:56:01.567Z"
   },
   {
    "duration": 5,
    "start_time": "2022-05-30T11:56:14.566Z"
   },
   {
    "duration": 7,
    "start_time": "2022-05-30T11:58:17.596Z"
   },
   {
    "duration": 4,
    "start_time": "2022-05-30T12:03:17.657Z"
   },
   {
    "duration": 3,
    "start_time": "2022-05-30T12:04:15.536Z"
   },
   {
    "duration": 11,
    "start_time": "2022-05-30T12:04:24.506Z"
   },
   {
    "duration": 4,
    "start_time": "2022-05-30T12:04:52.235Z"
   },
   {
    "duration": 496,
    "start_time": "2022-05-30T12:05:08.857Z"
   },
   {
    "duration": 358,
    "start_time": "2022-05-30T12:05:58.197Z"
   },
   {
    "duration": 343,
    "start_time": "2022-05-30T12:06:43.954Z"
   },
   {
    "duration": 425,
    "start_time": "2022-05-30T12:07:08.916Z"
   },
   {
    "duration": 86,
    "start_time": "2022-05-30T12:07:09.343Z"
   },
   {
    "duration": 76,
    "start_time": "2022-05-30T12:07:09.431Z"
   },
   {
    "duration": 29,
    "start_time": "2022-05-30T12:07:09.509Z"
   },
   {
    "duration": 15,
    "start_time": "2022-05-30T12:07:09.539Z"
   },
   {
    "duration": 3,
    "start_time": "2022-05-30T12:07:09.556Z"
   },
   {
    "duration": 14,
    "start_time": "2022-05-30T12:07:09.560Z"
   },
   {
    "duration": 26,
    "start_time": "2022-05-30T12:07:09.576Z"
   },
   {
    "duration": 4,
    "start_time": "2022-05-30T12:07:09.603Z"
   },
   {
    "duration": 10,
    "start_time": "2022-05-30T12:07:09.609Z"
   },
   {
    "duration": 12,
    "start_time": "2022-05-30T12:07:09.620Z"
   },
   {
    "duration": 8,
    "start_time": "2022-05-30T12:07:09.634Z"
   },
   {
    "duration": 5,
    "start_time": "2022-05-30T12:07:09.643Z"
   },
   {
    "duration": 5,
    "start_time": "2022-05-30T12:07:09.650Z"
   },
   {
    "duration": 8,
    "start_time": "2022-05-30T12:07:09.656Z"
   },
   {
    "duration": 37,
    "start_time": "2022-05-30T12:07:09.666Z"
   },
   {
    "duration": 5,
    "start_time": "2022-05-30T12:07:09.705Z"
   },
   {
    "duration": 299,
    "start_time": "2022-05-30T12:07:09.712Z"
   },
   {
    "duration": 14,
    "start_time": "2022-05-30T12:07:10.013Z"
   },
   {
    "duration": 11,
    "start_time": "2022-05-30T12:07:10.029Z"
   },
   {
    "duration": 7,
    "start_time": "2022-05-30T12:07:10.041Z"
   },
   {
    "duration": 6,
    "start_time": "2022-05-30T12:07:10.050Z"
   },
   {
    "duration": 9,
    "start_time": "2022-05-30T12:07:10.058Z"
   },
   {
    "duration": 6,
    "start_time": "2022-05-30T12:07:10.069Z"
   },
   {
    "duration": 407,
    "start_time": "2022-05-30T12:07:10.076Z"
   },
   {
    "duration": 21,
    "start_time": "2022-05-30T12:07:10.485Z"
   },
   {
    "duration": 9,
    "start_time": "2022-05-30T12:07:10.508Z"
   },
   {
    "duration": 186,
    "start_time": "2022-05-30T12:07:10.521Z"
   },
   {
    "duration": 10,
    "start_time": "2022-05-30T12:07:10.709Z"
   },
   {
    "duration": 182,
    "start_time": "2022-05-30T12:07:10.720Z"
   },
   {
    "duration": 8,
    "start_time": "2022-05-30T12:07:10.904Z"
   },
   {
    "duration": 148,
    "start_time": "2022-05-30T12:07:10.913Z"
   },
   {
    "duration": 9,
    "start_time": "2022-05-30T12:07:11.062Z"
   },
   {
    "duration": 215,
    "start_time": "2022-05-30T12:07:11.073Z"
   },
   {
    "duration": 215,
    "start_time": "2022-05-30T12:07:11.291Z"
   },
   {
    "duration": 16,
    "start_time": "2022-05-30T12:07:11.507Z"
   },
   {
    "duration": 9,
    "start_time": "2022-05-30T12:07:11.524Z"
   },
   {
    "duration": 11,
    "start_time": "2022-05-30T12:07:11.534Z"
   },
   {
    "duration": 4,
    "start_time": "2022-05-30T12:07:11.546Z"
   },
   {
    "duration": 18,
    "start_time": "2022-05-30T12:07:11.552Z"
   },
   {
    "duration": 98,
    "start_time": "2022-05-30T12:07:11.572Z"
   },
   {
    "duration": 7,
    "start_time": "2022-05-30T12:07:11.671Z"
   },
   {
    "duration": 10,
    "start_time": "2022-05-30T12:07:11.680Z"
   },
   {
    "duration": 14,
    "start_time": "2022-05-30T12:07:11.702Z"
   },
   {
    "duration": 145,
    "start_time": "2022-05-30T12:07:11.718Z"
   },
   {
    "duration": 4,
    "start_time": "2022-05-30T12:07:11.865Z"
   },
   {
    "duration": 133,
    "start_time": "2022-05-30T12:07:11.870Z"
   },
   {
    "duration": 4,
    "start_time": "2022-05-30T12:07:12.005Z"
   },
   {
    "duration": 134,
    "start_time": "2022-05-30T12:07:12.010Z"
   },
   {
    "duration": 4,
    "start_time": "2022-05-30T12:07:12.146Z"
   },
   {
    "duration": 134,
    "start_time": "2022-05-30T12:07:12.152Z"
   },
   {
    "duration": 138,
    "start_time": "2022-05-30T12:07:12.288Z"
   },
   {
    "duration": 133,
    "start_time": "2022-05-30T12:07:12.428Z"
   },
   {
    "duration": 142,
    "start_time": "2022-05-30T12:07:12.563Z"
   },
   {
    "duration": 27,
    "start_time": "2022-05-30T12:07:12.707Z"
   },
   {
    "duration": 5,
    "start_time": "2022-05-30T12:07:12.736Z"
   },
   {
    "duration": 13,
    "start_time": "2022-05-30T12:07:12.742Z"
   },
   {
    "duration": 102,
    "start_time": "2022-05-30T12:07:12.757Z"
   },
   {
    "duration": 0,
    "start_time": "2022-05-30T12:07:12.861Z"
   },
   {
    "duration": 0,
    "start_time": "2022-05-30T12:07:12.862Z"
   },
   {
    "duration": 0,
    "start_time": "2022-05-30T12:07:12.863Z"
   },
   {
    "duration": 0,
    "start_time": "2022-05-30T12:07:12.864Z"
   },
   {
    "duration": 0,
    "start_time": "2022-05-30T12:07:12.865Z"
   },
   {
    "duration": 0,
    "start_time": "2022-05-30T12:07:12.866Z"
   },
   {
    "duration": 0,
    "start_time": "2022-05-30T12:07:12.867Z"
   },
   {
    "duration": 0,
    "start_time": "2022-05-30T12:07:12.868Z"
   },
   {
    "duration": 0,
    "start_time": "2022-05-30T12:07:12.869Z"
   },
   {
    "duration": 0,
    "start_time": "2022-05-30T12:07:12.870Z"
   },
   {
    "duration": 0,
    "start_time": "2022-05-30T12:07:12.871Z"
   },
   {
    "duration": 0,
    "start_time": "2022-05-30T12:07:12.872Z"
   },
   {
    "duration": 0,
    "start_time": "2022-05-30T12:07:12.873Z"
   },
   {
    "duration": 0,
    "start_time": "2022-05-30T12:07:12.874Z"
   },
   {
    "duration": 0,
    "start_time": "2022-05-30T12:07:12.875Z"
   },
   {
    "duration": 0,
    "start_time": "2022-05-30T12:07:12.902Z"
   },
   {
    "duration": 0,
    "start_time": "2022-05-30T12:07:12.904Z"
   },
   {
    "duration": 0,
    "start_time": "2022-05-30T12:07:12.905Z"
   },
   {
    "duration": 0,
    "start_time": "2022-05-30T12:07:12.906Z"
   },
   {
    "duration": 0,
    "start_time": "2022-05-30T12:07:12.908Z"
   },
   {
    "duration": 3,
    "start_time": "2022-05-30T12:08:20.197Z"
   },
   {
    "duration": 6,
    "start_time": "2022-05-30T12:08:24.317Z"
   },
   {
    "duration": 7,
    "start_time": "2022-05-30T12:08:40.357Z"
   },
   {
    "duration": 448,
    "start_time": "2022-05-30T12:08:46.772Z"
   },
   {
    "duration": 87,
    "start_time": "2022-05-30T12:08:47.221Z"
   },
   {
    "duration": 71,
    "start_time": "2022-05-30T12:08:47.309Z"
   },
   {
    "duration": 42,
    "start_time": "2022-05-30T12:08:47.382Z"
   },
   {
    "duration": 15,
    "start_time": "2022-05-30T12:08:47.425Z"
   },
   {
    "duration": 5,
    "start_time": "2022-05-30T12:08:47.441Z"
   },
   {
    "duration": 11,
    "start_time": "2022-05-30T12:08:47.448Z"
   },
   {
    "duration": 5,
    "start_time": "2022-05-30T12:08:47.460Z"
   },
   {
    "duration": 35,
    "start_time": "2022-05-30T12:08:47.467Z"
   },
   {
    "duration": 11,
    "start_time": "2022-05-30T12:08:47.507Z"
   },
   {
    "duration": 15,
    "start_time": "2022-05-30T12:08:47.520Z"
   },
   {
    "duration": 6,
    "start_time": "2022-05-30T12:08:47.537Z"
   },
   {
    "duration": 6,
    "start_time": "2022-05-30T12:08:47.545Z"
   },
   {
    "duration": 4,
    "start_time": "2022-05-30T12:08:47.553Z"
   },
   {
    "duration": 10,
    "start_time": "2022-05-30T12:08:47.558Z"
   },
   {
    "duration": 32,
    "start_time": "2022-05-30T12:08:47.570Z"
   },
   {
    "duration": 6,
    "start_time": "2022-05-30T12:08:47.604Z"
   },
   {
    "duration": 296,
    "start_time": "2022-05-30T12:08:47.612Z"
   },
   {
    "duration": 20,
    "start_time": "2022-05-30T12:08:47.910Z"
   },
   {
    "duration": 4,
    "start_time": "2022-05-30T12:08:47.932Z"
   },
   {
    "duration": 8,
    "start_time": "2022-05-30T12:08:47.938Z"
   },
   {
    "duration": 6,
    "start_time": "2022-05-30T12:08:47.947Z"
   },
   {
    "duration": 7,
    "start_time": "2022-05-30T12:08:47.955Z"
   },
   {
    "duration": 8,
    "start_time": "2022-05-30T12:08:47.964Z"
   },
   {
    "duration": 423,
    "start_time": "2022-05-30T12:08:47.973Z"
   },
   {
    "duration": 11,
    "start_time": "2022-05-30T12:08:48.397Z"
   },
   {
    "duration": 8,
    "start_time": "2022-05-30T12:08:48.410Z"
   },
   {
    "duration": 192,
    "start_time": "2022-05-30T12:08:48.422Z"
   },
   {
    "duration": 8,
    "start_time": "2022-05-30T12:08:48.617Z"
   },
   {
    "duration": 150,
    "start_time": "2022-05-30T12:08:48.626Z"
   },
   {
    "duration": 9,
    "start_time": "2022-05-30T12:08:48.777Z"
   },
   {
    "duration": 140,
    "start_time": "2022-05-30T12:08:48.788Z"
   },
   {
    "duration": 9,
    "start_time": "2022-05-30T12:08:48.929Z"
   },
   {
    "duration": 144,
    "start_time": "2022-05-30T12:08:48.940Z"
   },
   {
    "duration": 143,
    "start_time": "2022-05-30T12:08:49.086Z"
   },
   {
    "duration": 15,
    "start_time": "2022-05-30T12:08:49.230Z"
   },
   {
    "duration": 9,
    "start_time": "2022-05-30T12:08:49.247Z"
   },
   {
    "duration": 10,
    "start_time": "2022-05-30T12:08:49.257Z"
   },
   {
    "duration": 8,
    "start_time": "2022-05-30T12:08:49.268Z"
   },
   {
    "duration": 36,
    "start_time": "2022-05-30T12:08:49.277Z"
   },
   {
    "duration": 67,
    "start_time": "2022-05-30T12:08:49.314Z"
   },
   {
    "duration": 21,
    "start_time": "2022-05-30T12:08:49.383Z"
   },
   {
    "duration": 9,
    "start_time": "2022-05-30T12:08:49.405Z"
   },
   {
    "duration": 37,
    "start_time": "2022-05-30T12:08:49.415Z"
   },
   {
    "duration": 189,
    "start_time": "2022-05-30T12:08:49.453Z"
   },
   {
    "duration": 5,
    "start_time": "2022-05-30T12:08:49.644Z"
   },
   {
    "duration": 173,
    "start_time": "2022-05-30T12:08:49.651Z"
   },
   {
    "duration": 5,
    "start_time": "2022-05-30T12:08:49.826Z"
   },
   {
    "duration": 171,
    "start_time": "2022-05-30T12:08:49.833Z"
   },
   {
    "duration": 5,
    "start_time": "2022-05-30T12:08:50.005Z"
   },
   {
    "duration": 148,
    "start_time": "2022-05-30T12:08:50.011Z"
   },
   {
    "duration": 160,
    "start_time": "2022-05-30T12:08:50.160Z"
   },
   {
    "duration": 161,
    "start_time": "2022-05-30T12:08:50.321Z"
   },
   {
    "duration": 164,
    "start_time": "2022-05-30T12:08:50.485Z"
   },
   {
    "duration": 54,
    "start_time": "2022-05-30T12:08:50.651Z"
   },
   {
    "duration": 7,
    "start_time": "2022-05-30T12:08:50.707Z"
   },
   {
    "duration": 17,
    "start_time": "2022-05-30T12:08:50.716Z"
   },
   {
    "duration": 2,
    "start_time": "2022-05-30T12:08:50.735Z"
   },
   {
    "duration": 10,
    "start_time": "2022-05-30T12:08:50.739Z"
   },
   {
    "duration": 9,
    "start_time": "2022-05-30T12:08:50.750Z"
   },
   {
    "duration": 19,
    "start_time": "2022-05-30T12:08:50.760Z"
   },
   {
    "duration": 5,
    "start_time": "2022-05-30T12:08:50.802Z"
   },
   {
    "duration": 12,
    "start_time": "2022-05-30T12:08:50.808Z"
   },
   {
    "duration": 6,
    "start_time": "2022-05-30T12:08:50.821Z"
   },
   {
    "duration": 9,
    "start_time": "2022-05-30T12:08:50.828Z"
   },
   {
    "duration": 168,
    "start_time": "2022-05-30T12:08:50.838Z"
   },
   {
    "duration": 9,
    "start_time": "2022-05-30T12:08:51.008Z"
   },
   {
    "duration": 7,
    "start_time": "2022-05-30T12:08:51.018Z"
   },
   {
    "duration": 21,
    "start_time": "2022-05-30T12:08:51.027Z"
   },
   {
    "duration": 7,
    "start_time": "2022-05-30T12:08:51.049Z"
   },
   {
    "duration": 215,
    "start_time": "2022-05-30T12:08:51.058Z"
   },
   {
    "duration": 10,
    "start_time": "2022-05-30T12:08:51.275Z"
   },
   {
    "duration": 169,
    "start_time": "2022-05-30T12:08:51.287Z"
   },
   {
    "duration": 7,
    "start_time": "2022-05-30T12:08:51.458Z"
   },
   {
    "duration": 124,
    "start_time": "2022-05-30T12:08:51.467Z"
   },
   {
    "duration": 8,
    "start_time": "2022-05-30T12:08:51.602Z"
   },
   {
    "duration": 160,
    "start_time": "2022-05-30T12:08:51.611Z"
   },
   {
    "duration": 46,
    "start_time": "2022-05-30T12:08:51.773Z"
   },
   {
    "duration": 10,
    "start_time": "2022-05-30T12:10:01.326Z"
   },
   {
    "duration": 34,
    "start_time": "2022-05-30T12:10:20.930Z"
   },
   {
    "duration": 83,
    "start_time": "2022-05-30T12:12:33.793Z"
   },
   {
    "duration": 11,
    "start_time": "2022-05-30T12:12:43.784Z"
   },
   {
    "duration": 12,
    "start_time": "2022-05-30T12:14:13.617Z"
   },
   {
    "duration": 99,
    "start_time": "2022-05-30T12:14:41.134Z"
   },
   {
    "duration": 5,
    "start_time": "2022-05-30T12:14:43.752Z"
   },
   {
    "duration": 10,
    "start_time": "2022-05-30T12:15:06.557Z"
   },
   {
    "duration": 8,
    "start_time": "2022-05-30T12:15:08.752Z"
   },
   {
    "duration": 5,
    "start_time": "2022-05-30T12:15:29.105Z"
   },
   {
    "duration": 8,
    "start_time": "2022-05-30T12:16:39.559Z"
   },
   {
    "duration": 9,
    "start_time": "2022-05-30T12:17:05.873Z"
   },
   {
    "duration": 2,
    "start_time": "2022-05-30T12:17:21.603Z"
   },
   {
    "duration": 773,
    "start_time": "2022-05-30T12:17:22.378Z"
   },
   {
    "duration": 2201,
    "start_time": "2022-05-30T12:17:24.578Z"
   },
   {
    "duration": 3,
    "start_time": "2022-05-30T12:17:36.982Z"
   },
   {
    "duration": 2,
    "start_time": "2022-05-30T12:17:38.116Z"
   },
   {
    "duration": 2132,
    "start_time": "2022-05-30T12:17:38.698Z"
   },
   {
    "duration": 400,
    "start_time": "2022-05-30T12:18:03.034Z"
   },
   {
    "duration": 84,
    "start_time": "2022-05-30T12:18:03.436Z"
   },
   {
    "duration": 70,
    "start_time": "2022-05-30T12:18:03.522Z"
   },
   {
    "duration": 33,
    "start_time": "2022-05-30T12:18:03.594Z"
   },
   {
    "duration": 13,
    "start_time": "2022-05-30T12:18:03.629Z"
   },
   {
    "duration": 5,
    "start_time": "2022-05-30T12:18:03.644Z"
   },
   {
    "duration": 11,
    "start_time": "2022-05-30T12:18:03.650Z"
   },
   {
    "duration": 7,
    "start_time": "2022-05-30T12:18:03.663Z"
   },
   {
    "duration": 5,
    "start_time": "2022-05-30T12:18:03.702Z"
   },
   {
    "duration": 8,
    "start_time": "2022-05-30T12:18:03.709Z"
   },
   {
    "duration": 11,
    "start_time": "2022-05-30T12:18:03.719Z"
   },
   {
    "duration": 12,
    "start_time": "2022-05-30T12:18:03.731Z"
   },
   {
    "duration": 6,
    "start_time": "2022-05-30T12:18:03.745Z"
   },
   {
    "duration": 3,
    "start_time": "2022-05-30T12:18:03.753Z"
   },
   {
    "duration": 12,
    "start_time": "2022-05-30T12:18:03.757Z"
   },
   {
    "duration": 8,
    "start_time": "2022-05-30T12:18:03.771Z"
   },
   {
    "duration": 6,
    "start_time": "2022-05-30T12:18:03.802Z"
   },
   {
    "duration": 282,
    "start_time": "2022-05-30T12:18:03.809Z"
   },
   {
    "duration": 17,
    "start_time": "2022-05-30T12:18:04.093Z"
   },
   {
    "duration": 4,
    "start_time": "2022-05-30T12:18:04.111Z"
   },
   {
    "duration": 7,
    "start_time": "2022-05-30T12:18:04.116Z"
   },
   {
    "duration": 5,
    "start_time": "2022-05-30T12:18:04.125Z"
   },
   {
    "duration": 9,
    "start_time": "2022-05-30T12:18:04.132Z"
   },
   {
    "duration": 7,
    "start_time": "2022-05-30T12:18:04.142Z"
   },
   {
    "duration": 400,
    "start_time": "2022-05-30T12:18:04.150Z"
   },
   {
    "duration": 9,
    "start_time": "2022-05-30T12:18:04.551Z"
   },
   {
    "duration": 9,
    "start_time": "2022-05-30T12:18:04.561Z"
   },
   {
    "duration": 169,
    "start_time": "2022-05-30T12:18:04.574Z"
   },
   {
    "duration": 8,
    "start_time": "2022-05-30T12:18:04.745Z"
   },
   {
    "duration": 165,
    "start_time": "2022-05-30T12:18:04.754Z"
   },
   {
    "duration": 10,
    "start_time": "2022-05-30T12:18:04.920Z"
   },
   {
    "duration": 148,
    "start_time": "2022-05-30T12:18:04.932Z"
   },
   {
    "duration": 9,
    "start_time": "2022-05-30T12:18:05.081Z"
   },
   {
    "duration": 158,
    "start_time": "2022-05-30T12:18:05.091Z"
   },
   {
    "duration": 144,
    "start_time": "2022-05-30T12:18:05.251Z"
   },
   {
    "duration": 16,
    "start_time": "2022-05-30T12:18:05.401Z"
   },
   {
    "duration": 8,
    "start_time": "2022-05-30T12:18:05.420Z"
   },
   {
    "duration": 12,
    "start_time": "2022-05-30T12:18:05.430Z"
   },
   {
    "duration": 4,
    "start_time": "2022-05-30T12:18:05.443Z"
   },
   {
    "duration": 91,
    "start_time": "2022-05-30T12:18:05.448Z"
   },
   {
    "duration": 23,
    "start_time": "2022-05-30T12:18:05.540Z"
   },
   {
    "duration": 10,
    "start_time": "2022-05-30T12:18:05.564Z"
   },
   {
    "duration": 7,
    "start_time": "2022-05-30T12:18:05.576Z"
   },
   {
    "duration": 37,
    "start_time": "2022-05-30T12:18:05.602Z"
   },
   {
    "duration": 179,
    "start_time": "2022-05-30T12:18:05.641Z"
   },
   {
    "duration": 4,
    "start_time": "2022-05-30T12:18:05.822Z"
   },
   {
    "duration": 158,
    "start_time": "2022-05-30T12:18:05.828Z"
   },
   {
    "duration": 15,
    "start_time": "2022-05-30T12:18:05.987Z"
   },
   {
    "duration": 166,
    "start_time": "2022-05-30T12:18:06.004Z"
   },
   {
    "duration": 5,
    "start_time": "2022-05-30T12:18:06.171Z"
   },
   {
    "duration": 149,
    "start_time": "2022-05-30T12:18:06.178Z"
   },
   {
    "duration": 162,
    "start_time": "2022-05-30T12:18:06.328Z"
   },
   {
    "duration": 159,
    "start_time": "2022-05-30T12:18:06.492Z"
   },
   {
    "duration": 156,
    "start_time": "2022-05-30T12:18:06.652Z"
   },
   {
    "duration": 5,
    "start_time": "2022-05-30T12:18:06.810Z"
   },
   {
    "duration": 7,
    "start_time": "2022-05-30T12:18:06.817Z"
   },
   {
    "duration": 490,
    "start_time": "2022-05-30T12:18:06.826Z"
   },
   {
    "duration": 2132,
    "start_time": "2022-05-30T12:18:07.318Z"
   },
   {
    "duration": 6,
    "start_time": "2022-05-30T12:18:09.452Z"
   },
   {
    "duration": 22,
    "start_time": "2022-05-30T12:18:09.460Z"
   },
   {
    "duration": 17,
    "start_time": "2022-05-30T12:18:09.484Z"
   },
   {
    "duration": 11,
    "start_time": "2022-05-30T12:18:09.503Z"
   },
   {
    "duration": 11,
    "start_time": "2022-05-30T12:18:09.516Z"
   },
   {
    "duration": 10,
    "start_time": "2022-05-30T12:18:09.529Z"
   },
   {
    "duration": 8,
    "start_time": "2022-05-30T12:18:09.540Z"
   },
   {
    "duration": 18,
    "start_time": "2022-05-30T12:18:09.549Z"
   },
   {
    "duration": 9,
    "start_time": "2022-05-30T12:18:09.569Z"
   },
   {
    "duration": 29,
    "start_time": "2022-05-30T12:18:09.579Z"
   },
   {
    "duration": 158,
    "start_time": "2022-05-30T12:18:09.610Z"
   },
   {
    "duration": 9,
    "start_time": "2022-05-30T12:18:09.770Z"
   },
   {
    "duration": 23,
    "start_time": "2022-05-30T12:18:09.780Z"
   },
   {
    "duration": 14,
    "start_time": "2022-05-30T12:18:09.804Z"
   },
   {
    "duration": 9,
    "start_time": "2022-05-30T12:18:09.820Z"
   },
   {
    "duration": 263,
    "start_time": "2022-05-30T12:18:09.831Z"
   },
   {
    "duration": 13,
    "start_time": "2022-05-30T12:18:10.095Z"
   },
   {
    "duration": 150,
    "start_time": "2022-05-30T12:18:10.109Z"
   },
   {
    "duration": 9,
    "start_time": "2022-05-30T12:18:10.260Z"
   },
   {
    "duration": 138,
    "start_time": "2022-05-30T12:18:10.271Z"
   },
   {
    "duration": 9,
    "start_time": "2022-05-30T12:18:10.411Z"
   },
   {
    "duration": 162,
    "start_time": "2022-05-30T12:18:10.422Z"
   },
   {
    "duration": 43,
    "start_time": "2022-05-30T12:18:10.586Z"
   },
   {
    "duration": 479,
    "start_time": "2022-05-30T12:32:20.435Z"
   },
   {
    "duration": 91,
    "start_time": "2022-05-30T12:32:20.916Z"
   },
   {
    "duration": 83,
    "start_time": "2022-05-30T12:32:21.009Z"
   },
   {
    "duration": 41,
    "start_time": "2022-05-30T12:32:21.102Z"
   },
   {
    "duration": 27,
    "start_time": "2022-05-30T12:32:21.145Z"
   },
   {
    "duration": 16,
    "start_time": "2022-05-30T12:32:21.175Z"
   },
   {
    "duration": 33,
    "start_time": "2022-05-30T12:32:21.192Z"
   },
   {
    "duration": 14,
    "start_time": "2022-05-30T12:32:21.228Z"
   },
   {
    "duration": 19,
    "start_time": "2022-05-30T12:32:21.244Z"
   },
   {
    "duration": 22,
    "start_time": "2022-05-30T12:32:21.266Z"
   },
   {
    "duration": 23,
    "start_time": "2022-05-30T12:32:21.290Z"
   },
   {
    "duration": 24,
    "start_time": "2022-05-30T12:32:21.314Z"
   },
   {
    "duration": 16,
    "start_time": "2022-05-30T12:32:21.341Z"
   },
   {
    "duration": 12,
    "start_time": "2022-05-30T12:32:21.359Z"
   },
   {
    "duration": 13,
    "start_time": "2022-05-30T12:32:21.373Z"
   },
   {
    "duration": 9,
    "start_time": "2022-05-30T12:32:21.390Z"
   },
   {
    "duration": 10,
    "start_time": "2022-05-30T12:32:21.401Z"
   },
   {
    "duration": 300,
    "start_time": "2022-05-30T12:32:21.413Z"
   },
   {
    "duration": 15,
    "start_time": "2022-05-30T12:32:21.715Z"
   },
   {
    "duration": 21,
    "start_time": "2022-05-30T12:32:21.732Z"
   },
   {
    "duration": 12,
    "start_time": "2022-05-30T12:32:21.755Z"
   },
   {
    "duration": 17,
    "start_time": "2022-05-30T12:32:21.768Z"
   },
   {
    "duration": 13,
    "start_time": "2022-05-30T12:32:21.788Z"
   },
   {
    "duration": 28,
    "start_time": "2022-05-30T12:32:21.803Z"
   },
   {
    "duration": 410,
    "start_time": "2022-05-30T12:32:21.833Z"
   },
   {
    "duration": 9,
    "start_time": "2022-05-30T12:32:22.245Z"
   },
   {
    "duration": 23,
    "start_time": "2022-05-30T12:32:22.255Z"
   },
   {
    "duration": 155,
    "start_time": "2022-05-30T12:32:22.282Z"
   },
   {
    "duration": 8,
    "start_time": "2022-05-30T12:32:22.439Z"
   },
   {
    "duration": 156,
    "start_time": "2022-05-30T12:32:22.449Z"
   },
   {
    "duration": 9,
    "start_time": "2022-05-30T12:32:22.606Z"
   },
   {
    "duration": 144,
    "start_time": "2022-05-30T12:32:22.617Z"
   },
   {
    "duration": 17,
    "start_time": "2022-05-30T12:32:22.763Z"
   },
   {
    "duration": 151,
    "start_time": "2022-05-30T12:32:22.782Z"
   },
   {
    "duration": 148,
    "start_time": "2022-05-30T12:32:22.935Z"
   },
   {
    "duration": 25,
    "start_time": "2022-05-30T12:32:23.085Z"
   },
   {
    "duration": 10,
    "start_time": "2022-05-30T12:32:23.112Z"
   },
   {
    "duration": 16,
    "start_time": "2022-05-30T12:32:23.123Z"
   },
   {
    "duration": 15,
    "start_time": "2022-05-30T12:32:23.140Z"
   },
   {
    "duration": 79,
    "start_time": "2022-05-30T12:32:23.156Z"
   },
   {
    "duration": 43,
    "start_time": "2022-05-30T12:32:23.237Z"
   },
   {
    "duration": 9,
    "start_time": "2022-05-30T12:32:23.282Z"
   },
   {
    "duration": 15,
    "start_time": "2022-05-30T12:32:23.293Z"
   },
   {
    "duration": 47,
    "start_time": "2022-05-30T12:32:23.309Z"
   },
   {
    "duration": 5,
    "start_time": "2022-05-30T12:32:23.357Z"
   },
   {
    "duration": 23,
    "start_time": "2022-05-30T12:32:23.364Z"
   },
   {
    "duration": 467,
    "start_time": "2022-05-30T12:32:23.389Z"
   },
   {
    "duration": 2269,
    "start_time": "2022-05-30T12:32:23.857Z"
   },
   {
    "duration": 166,
    "start_time": "2022-05-30T12:32:26.128Z"
   },
   {
    "duration": 158,
    "start_time": "2022-05-30T12:32:26.296Z"
   },
   {
    "duration": 6,
    "start_time": "2022-05-30T12:34:38.941Z"
   },
   {
    "duration": 18,
    "start_time": "2022-05-30T12:34:38.948Z"
   },
   {
    "duration": 2,
    "start_time": "2022-05-30T12:34:38.968Z"
   },
   {
    "duration": 10,
    "start_time": "2022-05-30T12:34:38.972Z"
   },
   {
    "duration": 16,
    "start_time": "2022-05-30T12:34:39.003Z"
   },
   {
    "duration": 10,
    "start_time": "2022-05-30T12:34:39.021Z"
   },
   {
    "duration": 5,
    "start_time": "2022-05-30T12:34:39.033Z"
   },
   {
    "duration": 10,
    "start_time": "2022-05-30T12:34:39.040Z"
   },
   {
    "duration": 5,
    "start_time": "2022-05-30T12:34:39.051Z"
   },
   {
    "duration": 6,
    "start_time": "2022-05-30T12:34:39.058Z"
   },
   {
    "duration": 180,
    "start_time": "2022-05-30T12:34:39.065Z"
   },
   {
    "duration": 8,
    "start_time": "2022-05-30T12:34:39.247Z"
   },
   {
    "duration": 8,
    "start_time": "2022-05-30T12:34:39.256Z"
   },
   {
    "duration": 11,
    "start_time": "2022-05-30T12:34:39.266Z"
   },
   {
    "duration": 30,
    "start_time": "2022-05-30T12:34:39.279Z"
   },
   {
    "duration": 152,
    "start_time": "2022-05-30T12:34:39.310Z"
   },
   {
    "duration": 8,
    "start_time": "2022-05-30T12:34:39.464Z"
   },
   {
    "duration": 145,
    "start_time": "2022-05-30T12:34:39.473Z"
   },
   {
    "duration": 8,
    "start_time": "2022-05-30T12:34:39.619Z"
   },
   {
    "duration": 133,
    "start_time": "2022-05-30T12:34:39.628Z"
   },
   {
    "duration": 10,
    "start_time": "2022-05-30T12:34:39.762Z"
   },
   {
    "duration": 195,
    "start_time": "2022-05-30T12:34:39.774Z"
   },
   {
    "duration": 42,
    "start_time": "2022-05-30T12:34:39.971Z"
   },
   {
    "duration": 395,
    "start_time": "2022-05-30T12:34:47.057Z"
   },
   {
    "duration": 85,
    "start_time": "2022-05-30T12:34:47.454Z"
   },
   {
    "duration": 77,
    "start_time": "2022-05-30T12:34:47.541Z"
   },
   {
    "duration": 39,
    "start_time": "2022-05-30T12:34:47.619Z"
   },
   {
    "duration": 23,
    "start_time": "2022-05-30T12:34:47.664Z"
   },
   {
    "duration": 6,
    "start_time": "2022-05-30T12:34:47.703Z"
   },
   {
    "duration": 13,
    "start_time": "2022-05-30T12:34:47.711Z"
   },
   {
    "duration": 6,
    "start_time": "2022-05-30T12:34:47.726Z"
   },
   {
    "duration": 7,
    "start_time": "2022-05-30T12:34:47.735Z"
   },
   {
    "duration": 12,
    "start_time": "2022-05-30T12:34:47.745Z"
   },
   {
    "duration": 45,
    "start_time": "2022-05-30T12:34:47.760Z"
   },
   {
    "duration": 15,
    "start_time": "2022-05-30T12:34:47.807Z"
   },
   {
    "duration": 5,
    "start_time": "2022-05-30T12:34:47.824Z"
   },
   {
    "duration": 3,
    "start_time": "2022-05-30T12:34:47.833Z"
   },
   {
    "duration": 7,
    "start_time": "2022-05-30T12:34:47.838Z"
   },
   {
    "duration": 6,
    "start_time": "2022-05-30T12:34:47.846Z"
   },
   {
    "duration": 8,
    "start_time": "2022-05-30T12:34:47.854Z"
   },
   {
    "duration": 305,
    "start_time": "2022-05-30T12:34:47.863Z"
   },
   {
    "duration": 14,
    "start_time": "2022-05-30T12:34:48.170Z"
   },
   {
    "duration": 5,
    "start_time": "2022-05-30T12:34:48.186Z"
   },
   {
    "duration": 11,
    "start_time": "2022-05-30T12:34:48.192Z"
   },
   {
    "duration": 7,
    "start_time": "2022-05-30T12:34:48.205Z"
   },
   {
    "duration": 5,
    "start_time": "2022-05-30T12:34:48.214Z"
   },
   {
    "duration": 6,
    "start_time": "2022-05-30T12:34:48.220Z"
   },
   {
    "duration": 407,
    "start_time": "2022-05-30T12:34:48.227Z"
   },
   {
    "duration": 8,
    "start_time": "2022-05-30T12:34:48.636Z"
   },
   {
    "duration": 8,
    "start_time": "2022-05-30T12:34:48.645Z"
   },
   {
    "duration": 157,
    "start_time": "2022-05-30T12:34:48.655Z"
   },
   {
    "duration": 8,
    "start_time": "2022-05-30T12:34:48.814Z"
   },
   {
    "duration": 149,
    "start_time": "2022-05-30T12:34:48.823Z"
   },
   {
    "duration": 9,
    "start_time": "2022-05-30T12:34:48.973Z"
   },
   {
    "duration": 136,
    "start_time": "2022-05-30T12:34:48.984Z"
   },
   {
    "duration": 9,
    "start_time": "2022-05-30T12:34:49.122Z"
   },
   {
    "duration": 155,
    "start_time": "2022-05-30T12:34:49.132Z"
   },
   {
    "duration": 138,
    "start_time": "2022-05-30T12:34:49.288Z"
   },
   {
    "duration": 17,
    "start_time": "2022-05-30T12:34:49.428Z"
   },
   {
    "duration": 10,
    "start_time": "2022-05-30T12:34:49.447Z"
   },
   {
    "duration": 11,
    "start_time": "2022-05-30T12:34:49.459Z"
   },
   {
    "duration": 32,
    "start_time": "2022-05-30T12:34:49.471Z"
   },
   {
    "duration": 69,
    "start_time": "2022-05-30T12:34:49.505Z"
   },
   {
    "duration": 29,
    "start_time": "2022-05-30T12:34:49.578Z"
   },
   {
    "duration": 9,
    "start_time": "2022-05-30T12:34:49.609Z"
   },
   {
    "duration": 8,
    "start_time": "2022-05-30T12:34:49.619Z"
   },
   {
    "duration": 35,
    "start_time": "2022-05-30T12:34:49.629Z"
   },
   {
    "duration": 36,
    "start_time": "2022-05-30T12:34:49.666Z"
   },
   {
    "duration": 6,
    "start_time": "2022-05-30T12:34:49.703Z"
   },
   {
    "duration": 435,
    "start_time": "2022-05-30T12:34:49.710Z"
   },
   {
    "duration": 2287,
    "start_time": "2022-05-30T12:34:50.146Z"
   },
   {
    "duration": 112,
    "start_time": "2022-05-30T12:34:52.434Z"
   },
   {
    "duration": 0,
    "start_time": "2022-05-30T12:34:52.547Z"
   },
   {
    "duration": 0,
    "start_time": "2022-05-30T12:34:52.548Z"
   },
   {
    "duration": 0,
    "start_time": "2022-05-30T12:34:52.550Z"
   },
   {
    "duration": 0,
    "start_time": "2022-05-30T12:34:52.551Z"
   },
   {
    "duration": 0,
    "start_time": "2022-05-30T12:34:52.552Z"
   },
   {
    "duration": 0,
    "start_time": "2022-05-30T12:34:52.553Z"
   },
   {
    "duration": 0,
    "start_time": "2022-05-30T12:34:52.554Z"
   },
   {
    "duration": 0,
    "start_time": "2022-05-30T12:34:52.555Z"
   },
   {
    "duration": 0,
    "start_time": "2022-05-30T12:34:52.556Z"
   },
   {
    "duration": 0,
    "start_time": "2022-05-30T12:34:52.557Z"
   },
   {
    "duration": 0,
    "start_time": "2022-05-30T12:34:52.558Z"
   },
   {
    "duration": 0,
    "start_time": "2022-05-30T12:34:52.559Z"
   },
   {
    "duration": 0,
    "start_time": "2022-05-30T12:34:52.560Z"
   },
   {
    "duration": 0,
    "start_time": "2022-05-30T12:34:52.561Z"
   },
   {
    "duration": 0,
    "start_time": "2022-05-30T12:34:52.563Z"
   },
   {
    "duration": 0,
    "start_time": "2022-05-30T12:34:52.564Z"
   },
   {
    "duration": 0,
    "start_time": "2022-05-30T12:34:52.565Z"
   },
   {
    "duration": 0,
    "start_time": "2022-05-30T12:34:52.567Z"
   },
   {
    "duration": 0,
    "start_time": "2022-05-30T12:34:52.602Z"
   },
   {
    "duration": 0,
    "start_time": "2022-05-30T12:34:52.603Z"
   },
   {
    "duration": 0,
    "start_time": "2022-05-30T12:34:52.604Z"
   },
   {
    "duration": 0,
    "start_time": "2022-05-30T12:34:52.605Z"
   },
   {
    "duration": 0,
    "start_time": "2022-05-30T12:34:52.607Z"
   },
   {
    "duration": 0,
    "start_time": "2022-05-30T12:34:52.608Z"
   },
   {
    "duration": 0,
    "start_time": "2022-05-30T12:34:52.610Z"
   },
   {
    "duration": 0,
    "start_time": "2022-05-30T12:34:52.611Z"
   },
   {
    "duration": 0,
    "start_time": "2022-05-30T12:37:53.025Z"
   },
   {
    "duration": 130644,
    "start_time": "2022-05-30T12:54:17.015Z"
   },
   {
    "duration": 10,
    "start_time": "2022-05-30T12:56:40.253Z"
   },
   {
    "duration": 545,
    "start_time": "2022-05-30T12:57:20.017Z"
   },
   {
    "duration": 153,
    "start_time": "2022-05-30T12:57:43.937Z"
   },
   {
    "duration": 167,
    "start_time": "2022-05-30T12:58:15.290Z"
   },
   {
    "duration": 211,
    "start_time": "2022-05-30T12:58:27.227Z"
   },
   {
    "duration": 9,
    "start_time": "2022-05-30T12:59:10.337Z"
   },
   {
    "duration": 296,
    "start_time": "2022-05-30T12:59:20.824Z"
   },
   {
    "duration": 9,
    "start_time": "2022-05-30T13:00:04.585Z"
   },
   {
    "duration": 10,
    "start_time": "2022-05-30T13:01:13.015Z"
   },
   {
    "duration": 147,
    "start_time": "2022-05-30T13:01:13.027Z"
   },
   {
    "duration": 10,
    "start_time": "2022-05-30T13:01:49.977Z"
   },
   {
    "duration": 150,
    "start_time": "2022-05-30T13:02:01.944Z"
   },
   {
    "duration": 154,
    "start_time": "2022-05-30T13:02:25.889Z"
   },
   {
    "duration": 198,
    "start_time": "2022-05-30T13:02:34.514Z"
   },
   {
    "duration": 4,
    "start_time": "2022-05-30T13:06:22.850Z"
   },
   {
    "duration": 7,
    "start_time": "2022-05-30T13:06:25.107Z"
   },
   {
    "duration": 168,
    "start_time": "2022-05-30T13:06:30.631Z"
   },
   {
    "duration": 9,
    "start_time": "2022-05-30T13:07:00.938Z"
   },
   {
    "duration": 59,
    "start_time": "2022-05-31T09:08:38.211Z"
   },
   {
    "duration": 6,
    "start_time": "2022-05-31T09:08:51.031Z"
   },
   {
    "duration": 362,
    "start_time": "2022-05-31T09:09:08.517Z"
   },
   {
    "duration": 696,
    "start_time": "2022-05-31T09:09:08.880Z"
   },
   {
    "duration": 67,
    "start_time": "2022-05-31T09:09:09.578Z"
   },
   {
    "duration": 37,
    "start_time": "2022-05-31T09:09:09.647Z"
   },
   {
    "duration": 13,
    "start_time": "2022-05-31T09:09:09.685Z"
   },
   {
    "duration": 4,
    "start_time": "2022-05-31T09:09:09.699Z"
   },
   {
    "duration": 27,
    "start_time": "2022-05-31T09:09:09.704Z"
   },
   {
    "duration": 5,
    "start_time": "2022-05-31T09:09:09.733Z"
   },
   {
    "duration": 5,
    "start_time": "2022-05-31T09:09:09.739Z"
   },
   {
    "duration": 10,
    "start_time": "2022-05-31T09:09:09.758Z"
   },
   {
    "duration": 16,
    "start_time": "2022-05-31T09:09:09.770Z"
   },
   {
    "duration": 5,
    "start_time": "2022-05-31T09:09:09.788Z"
   },
   {
    "duration": 4,
    "start_time": "2022-05-31T09:09:09.795Z"
   },
   {
    "duration": 3,
    "start_time": "2022-05-31T09:09:09.802Z"
   },
   {
    "duration": 6,
    "start_time": "2022-05-31T09:09:09.806Z"
   },
   {
    "duration": 5,
    "start_time": "2022-05-31T09:09:09.814Z"
   },
   {
    "duration": 5,
    "start_time": "2022-05-31T09:09:09.821Z"
   },
   {
    "duration": 301,
    "start_time": "2022-05-31T09:09:09.828Z"
   },
   {
    "duration": 13,
    "start_time": "2022-05-31T09:09:10.131Z"
   },
   {
    "duration": 16,
    "start_time": "2022-05-31T09:09:10.145Z"
   },
   {
    "duration": 9,
    "start_time": "2022-05-31T09:09:10.166Z"
   },
   {
    "duration": 6,
    "start_time": "2022-05-31T09:09:10.176Z"
   },
   {
    "duration": 8,
    "start_time": "2022-05-31T09:09:10.184Z"
   },
   {
    "duration": 5,
    "start_time": "2022-05-31T09:09:10.194Z"
   },
   {
    "duration": 527,
    "start_time": "2022-05-31T09:09:10.200Z"
   },
   {
    "duration": 9,
    "start_time": "2022-05-31T09:09:10.729Z"
   },
   {
    "duration": 19,
    "start_time": "2022-05-31T09:09:10.740Z"
   },
   {
    "duration": 148,
    "start_time": "2022-05-31T09:09:10.760Z"
   },
   {
    "duration": 8,
    "start_time": "2022-05-31T09:09:10.909Z"
   },
   {
    "duration": 156,
    "start_time": "2022-05-31T09:09:10.918Z"
   },
   {
    "duration": 9,
    "start_time": "2022-05-31T09:09:11.075Z"
   },
   {
    "duration": 132,
    "start_time": "2022-05-31T09:09:11.085Z"
   },
   {
    "duration": 9,
    "start_time": "2022-05-31T09:09:11.219Z"
   },
   {
    "duration": 156,
    "start_time": "2022-05-31T09:09:11.229Z"
   },
   {
    "duration": 232,
    "start_time": "2022-05-31T09:09:11.387Z"
   },
   {
    "duration": 17,
    "start_time": "2022-05-31T09:09:11.621Z"
   },
   {
    "duration": 31,
    "start_time": "2022-05-31T09:09:11.640Z"
   },
   {
    "duration": 15,
    "start_time": "2022-05-31T09:09:11.673Z"
   },
   {
    "duration": 5,
    "start_time": "2022-05-31T09:09:11.689Z"
   },
   {
    "duration": 13,
    "start_time": "2022-05-31T09:09:11.696Z"
   },
   {
    "duration": 23,
    "start_time": "2022-05-31T09:09:11.713Z"
   },
   {
    "duration": 28,
    "start_time": "2022-05-31T09:09:11.738Z"
   },
   {
    "duration": 8,
    "start_time": "2022-05-31T09:09:11.768Z"
   },
   {
    "duration": 34,
    "start_time": "2022-05-31T09:09:11.777Z"
   },
   {
    "duration": 6,
    "start_time": "2022-05-31T09:09:11.812Z"
   },
   {
    "duration": 6,
    "start_time": "2022-05-31T09:09:11.819Z"
   },
   {
    "duration": 461,
    "start_time": "2022-05-31T09:09:11.826Z"
   },
   {
    "duration": 2183,
    "start_time": "2022-05-31T09:09:12.289Z"
   },
   {
    "duration": 9,
    "start_time": "2022-05-31T09:09:14.474Z"
   },
   {
    "duration": 145,
    "start_time": "2022-05-31T09:09:14.484Z"
   },
   {
    "duration": 8,
    "start_time": "2022-05-31T09:09:14.630Z"
   },
   {
    "duration": 166,
    "start_time": "2022-05-31T09:09:14.640Z"
   },
   {
    "duration": 8,
    "start_time": "2022-05-31T09:09:14.807Z"
   },
   {
    "duration": 133,
    "start_time": "2022-05-31T09:09:14.817Z"
   },
   {
    "duration": 19,
    "start_time": "2022-05-31T09:09:14.952Z"
   },
   {
    "duration": 124,
    "start_time": "2022-05-31T09:09:14.973Z"
   },
   {
    "duration": 5,
    "start_time": "2022-05-31T09:09:15.098Z"
   },
   {
    "duration": 17,
    "start_time": "2022-05-31T09:09:15.104Z"
   },
   {
    "duration": 2,
    "start_time": "2022-05-31T09:09:15.122Z"
   },
   {
    "duration": 11,
    "start_time": "2022-05-31T09:09:15.125Z"
   },
   {
    "duration": 29,
    "start_time": "2022-05-31T09:09:15.137Z"
   },
   {
    "duration": 9,
    "start_time": "2022-05-31T09:09:15.167Z"
   },
   {
    "duration": 4,
    "start_time": "2022-05-31T09:09:15.177Z"
   },
   {
    "duration": 11,
    "start_time": "2022-05-31T09:09:15.183Z"
   },
   {
    "duration": 13,
    "start_time": "2022-05-31T09:09:15.196Z"
   },
   {
    "duration": 6,
    "start_time": "2022-05-31T09:09:15.212Z"
   },
   {
    "duration": 156,
    "start_time": "2022-05-31T09:09:15.219Z"
   },
   {
    "duration": 8,
    "start_time": "2022-05-31T09:09:15.376Z"
   },
   {
    "duration": 7,
    "start_time": "2022-05-31T09:09:15.385Z"
   },
   {
    "duration": 12,
    "start_time": "2022-05-31T09:09:15.393Z"
   },
   {
    "duration": 7,
    "start_time": "2022-05-31T09:09:15.407Z"
   },
   {
    "duration": 166,
    "start_time": "2022-05-31T09:09:15.416Z"
   },
   {
    "duration": 8,
    "start_time": "2022-05-31T09:09:15.584Z"
   },
   {
    "duration": 257,
    "start_time": "2022-05-31T09:09:15.594Z"
   },
   {
    "duration": 8,
    "start_time": "2022-05-31T09:09:15.865Z"
   },
   {
    "duration": 121,
    "start_time": "2022-05-31T09:09:15.875Z"
   },
   {
    "duration": 8,
    "start_time": "2022-05-31T09:09:15.997Z"
   },
   {
    "duration": 150,
    "start_time": "2022-05-31T09:09:16.007Z"
   },
   {
    "duration": 33,
    "start_time": "2022-05-31T09:09:16.159Z"
   },
   {
    "duration": 7,
    "start_time": "2022-05-31T09:10:41.882Z"
   },
   {
    "duration": 10,
    "start_time": "2022-05-31T09:13:05.968Z"
   },
   {
    "duration": 5,
    "start_time": "2022-05-31T09:14:31.975Z"
   },
   {
    "duration": 2197,
    "start_time": "2022-05-31T09:14:36.993Z"
   },
   {
    "duration": 11,
    "start_time": "2022-05-31T09:17:18.137Z"
   },
   {
    "duration": 225,
    "start_time": "2022-05-31T09:17:50.575Z"
   },
   {
    "duration": 116,
    "start_time": "2022-05-31T09:18:17.194Z"
   },
   {
    "duration": 11,
    "start_time": "2022-05-31T09:20:27.368Z"
   },
   {
    "duration": 18541,
    "start_time": "2022-05-31T09:20:53.410Z"
   },
   {
    "duration": 176,
    "start_time": "2022-05-31T09:35:21.697Z"
   },
   {
    "duration": 162,
    "start_time": "2022-05-31T09:36:41.632Z"
   },
   {
    "duration": 226,
    "start_time": "2022-05-31T09:37:21.675Z"
   },
   {
    "duration": 180,
    "start_time": "2022-05-31T09:37:45.290Z"
   },
   {
    "duration": 175,
    "start_time": "2022-05-31T09:38:16.068Z"
   },
   {
    "duration": 193,
    "start_time": "2022-05-31T09:38:33.810Z"
   },
   {
    "duration": 434,
    "start_time": "2022-05-31T09:40:45.796Z"
   },
   {
    "duration": 99,
    "start_time": "2022-05-31T09:40:46.232Z"
   },
   {
    "duration": 79,
    "start_time": "2022-05-31T09:40:46.333Z"
   },
   {
    "duration": 28,
    "start_time": "2022-05-31T09:40:46.414Z"
   },
   {
    "duration": 25,
    "start_time": "2022-05-31T09:40:46.444Z"
   },
   {
    "duration": 7,
    "start_time": "2022-05-31T09:40:46.470Z"
   },
   {
    "duration": 16,
    "start_time": "2022-05-31T09:40:46.479Z"
   },
   {
    "duration": 5,
    "start_time": "2022-05-31T09:40:46.497Z"
   },
   {
    "duration": 6,
    "start_time": "2022-05-31T09:40:46.503Z"
   },
   {
    "duration": 12,
    "start_time": "2022-05-31T09:40:46.510Z"
   },
   {
    "duration": 13,
    "start_time": "2022-05-31T09:40:46.523Z"
   },
   {
    "duration": 31,
    "start_time": "2022-05-31T09:40:46.538Z"
   },
   {
    "duration": 21,
    "start_time": "2022-05-31T09:40:46.571Z"
   },
   {
    "duration": 6,
    "start_time": "2022-05-31T09:40:46.596Z"
   },
   {
    "duration": 11,
    "start_time": "2022-05-31T09:40:46.603Z"
   },
   {
    "duration": 5,
    "start_time": "2022-05-31T09:40:46.616Z"
   },
   {
    "duration": 6,
    "start_time": "2022-05-31T09:40:46.623Z"
   },
   {
    "duration": 292,
    "start_time": "2022-05-31T09:40:46.630Z"
   },
   {
    "duration": 12,
    "start_time": "2022-05-31T09:40:46.924Z"
   },
   {
    "duration": 8,
    "start_time": "2022-05-31T09:40:46.937Z"
   },
   {
    "duration": 20,
    "start_time": "2022-05-31T09:40:46.946Z"
   },
   {
    "duration": 10,
    "start_time": "2022-05-31T09:40:46.967Z"
   },
   {
    "duration": 6,
    "start_time": "2022-05-31T09:40:46.978Z"
   },
   {
    "duration": 9,
    "start_time": "2022-05-31T09:40:46.985Z"
   },
   {
    "duration": 400,
    "start_time": "2022-05-31T09:40:46.995Z"
   },
   {
    "duration": 9,
    "start_time": "2022-05-31T09:40:47.396Z"
   },
   {
    "duration": 8,
    "start_time": "2022-05-31T09:40:47.407Z"
   },
   {
    "duration": 155,
    "start_time": "2022-05-31T09:40:47.416Z"
   },
   {
    "duration": 8,
    "start_time": "2022-05-31T09:40:47.572Z"
   },
   {
    "duration": 145,
    "start_time": "2022-05-31T09:40:47.582Z"
   },
   {
    "duration": 9,
    "start_time": "2022-05-31T09:40:47.728Z"
   },
   {
    "duration": 145,
    "start_time": "2022-05-31T09:40:47.738Z"
   },
   {
    "duration": 8,
    "start_time": "2022-05-31T09:40:47.885Z"
   },
   {
    "duration": 147,
    "start_time": "2022-05-31T09:40:47.895Z"
   },
   {
    "duration": 145,
    "start_time": "2022-05-31T09:40:48.043Z"
   },
   {
    "duration": 16,
    "start_time": "2022-05-31T09:40:48.190Z"
   },
   {
    "duration": 8,
    "start_time": "2022-05-31T09:40:48.207Z"
   },
   {
    "duration": 10,
    "start_time": "2022-05-31T09:40:48.217Z"
   },
   {
    "duration": 3,
    "start_time": "2022-05-31T09:40:48.228Z"
   },
   {
    "duration": 92,
    "start_time": "2022-05-31T09:40:48.232Z"
   },
   {
    "duration": 38,
    "start_time": "2022-05-31T09:40:48.327Z"
   },
   {
    "duration": 9,
    "start_time": "2022-05-31T09:40:48.370Z"
   },
   {
    "duration": 10,
    "start_time": "2022-05-31T09:40:48.381Z"
   },
   {
    "duration": 4,
    "start_time": "2022-05-31T09:40:48.393Z"
   },
   {
    "duration": 6,
    "start_time": "2022-05-31T09:40:48.399Z"
   },
   {
    "duration": 465,
    "start_time": "2022-05-31T09:40:48.406Z"
   },
   {
    "duration": 2211,
    "start_time": "2022-05-31T09:40:48.873Z"
   },
   {
    "duration": 10,
    "start_time": "2022-05-31T09:40:51.086Z"
   },
   {
    "duration": 146,
    "start_time": "2022-05-31T09:40:51.098Z"
   },
   {
    "duration": 18,
    "start_time": "2022-05-31T09:40:51.245Z"
   },
   {
    "duration": 201,
    "start_time": "2022-05-31T09:40:51.265Z"
   },
   {
    "duration": 10,
    "start_time": "2022-05-31T09:40:51.469Z"
   },
   {
    "duration": 154,
    "start_time": "2022-05-31T09:40:51.481Z"
   },
   {
    "duration": 29,
    "start_time": "2022-05-31T09:40:51.637Z"
   },
   {
    "duration": 135,
    "start_time": "2022-05-31T09:40:51.667Z"
   },
   {
    "duration": 5,
    "start_time": "2022-05-31T09:40:51.804Z"
   },
   {
    "duration": 19,
    "start_time": "2022-05-31T09:40:51.810Z"
   },
   {
    "duration": 2,
    "start_time": "2022-05-31T09:40:51.830Z"
   },
   {
    "duration": 9,
    "start_time": "2022-05-31T09:40:51.833Z"
   },
   {
    "duration": 16,
    "start_time": "2022-05-31T09:40:51.843Z"
   },
   {
    "duration": 18,
    "start_time": "2022-05-31T09:40:51.860Z"
   },
   {
    "duration": 7,
    "start_time": "2022-05-31T09:40:51.879Z"
   },
   {
    "duration": 10,
    "start_time": "2022-05-31T09:40:51.888Z"
   },
   {
    "duration": 5,
    "start_time": "2022-05-31T09:40:51.900Z"
   },
   {
    "duration": 9,
    "start_time": "2022-05-31T09:40:51.906Z"
   },
   {
    "duration": 154,
    "start_time": "2022-05-31T09:40:51.916Z"
   },
   {
    "duration": 9,
    "start_time": "2022-05-31T09:40:52.072Z"
   },
   {
    "duration": 7,
    "start_time": "2022-05-31T09:40:52.083Z"
   },
   {
    "duration": 5,
    "start_time": "2022-05-31T09:40:52.091Z"
   },
   {
    "duration": 2307,
    "start_time": "2022-05-31T09:40:52.097Z"
   },
   {
    "duration": 11,
    "start_time": "2022-05-31T09:40:54.406Z"
   },
   {
    "duration": 154,
    "start_time": "2022-05-31T09:40:54.418Z"
   },
   {
    "duration": 141,
    "start_time": "2022-05-31T09:40:54.574Z"
   },
   {
    "duration": 15,
    "start_time": "2022-05-31T09:44:10.254Z"
   },
   {
    "duration": 143,
    "start_time": "2022-05-31T09:44:43.747Z"
   },
   {
    "duration": 10,
    "start_time": "2022-05-31T09:46:28.801Z"
   },
   {
    "duration": 5,
    "start_time": "2022-05-31T09:47:45.706Z"
   },
   {
    "duration": 30,
    "start_time": "2022-05-31T09:49:35.466Z"
   },
   {
    "duration": 41,
    "start_time": "2022-05-31T09:52:34.131Z"
   },
   {
    "duration": 665,
    "start_time": "2022-05-31T09:53:56.345Z"
   },
   {
    "duration": 537,
    "start_time": "2022-05-31T09:54:02.584Z"
   },
   {
    "duration": 584,
    "start_time": "2022-05-31T09:54:06.410Z"
   },
   {
    "duration": 476,
    "start_time": "2022-05-31T09:54:12.525Z"
   },
   {
    "duration": 12,
    "start_time": "2022-05-31T09:54:19.068Z"
   },
   {
    "duration": 142,
    "start_time": "2022-05-31T09:55:02.986Z"
   },
   {
    "duration": 12,
    "start_time": "2022-05-31T09:56:01.499Z"
   },
   {
    "duration": 42,
    "start_time": "2022-05-31T09:56:07.559Z"
   },
   {
    "duration": 34,
    "start_time": "2022-05-31T09:56:15.050Z"
   },
   {
    "duration": 33,
    "start_time": "2022-05-31T09:56:19.001Z"
   },
   {
    "duration": 10,
    "start_time": "2022-05-31T10:04:23.610Z"
   },
   {
    "duration": 138,
    "start_time": "2022-05-31T10:04:30.283Z"
   },
   {
    "duration": 8,
    "start_time": "2022-05-31T10:06:18.550Z"
   },
   {
    "duration": 169,
    "start_time": "2022-05-31T10:07:29.136Z"
   },
   {
    "duration": 8,
    "start_time": "2022-05-31T10:07:47.418Z"
   },
   {
    "duration": 494,
    "start_time": "2022-05-31T10:08:02.249Z"
   },
   {
    "duration": 118,
    "start_time": "2022-05-31T10:08:02.745Z"
   },
   {
    "duration": 83,
    "start_time": "2022-05-31T10:08:02.865Z"
   },
   {
    "duration": 53,
    "start_time": "2022-05-31T10:08:02.950Z"
   },
   {
    "duration": 16,
    "start_time": "2022-05-31T10:08:03.004Z"
   },
   {
    "duration": 8,
    "start_time": "2022-05-31T10:08:03.022Z"
   },
   {
    "duration": 28,
    "start_time": "2022-05-31T10:08:03.032Z"
   },
   {
    "duration": 32,
    "start_time": "2022-05-31T10:08:03.062Z"
   },
   {
    "duration": 114,
    "start_time": "2022-05-31T10:08:03.096Z"
   },
   {
    "duration": 0,
    "start_time": "2022-05-31T10:08:03.215Z"
   },
   {
    "duration": 0,
    "start_time": "2022-05-31T10:08:03.216Z"
   },
   {
    "duration": 0,
    "start_time": "2022-05-31T10:08:03.217Z"
   },
   {
    "duration": 0,
    "start_time": "2022-05-31T10:08:03.218Z"
   },
   {
    "duration": 0,
    "start_time": "2022-05-31T10:08:03.219Z"
   },
   {
    "duration": 0,
    "start_time": "2022-05-31T10:08:03.221Z"
   },
   {
    "duration": 0,
    "start_time": "2022-05-31T10:08:03.222Z"
   },
   {
    "duration": 0,
    "start_time": "2022-05-31T10:08:03.223Z"
   },
   {
    "duration": 0,
    "start_time": "2022-05-31T10:08:03.224Z"
   },
   {
    "duration": 0,
    "start_time": "2022-05-31T10:08:03.225Z"
   },
   {
    "duration": 0,
    "start_time": "2022-05-31T10:08:03.227Z"
   },
   {
    "duration": 0,
    "start_time": "2022-05-31T10:08:03.228Z"
   },
   {
    "duration": 0,
    "start_time": "2022-05-31T10:08:03.229Z"
   },
   {
    "duration": 0,
    "start_time": "2022-05-31T10:08:03.230Z"
   },
   {
    "duration": 0,
    "start_time": "2022-05-31T10:08:03.231Z"
   },
   {
    "duration": 0,
    "start_time": "2022-05-31T10:08:03.232Z"
   },
   {
    "duration": 0,
    "start_time": "2022-05-31T10:08:03.233Z"
   },
   {
    "duration": 0,
    "start_time": "2022-05-31T10:08:03.234Z"
   },
   {
    "duration": 0,
    "start_time": "2022-05-31T10:08:03.235Z"
   },
   {
    "duration": 0,
    "start_time": "2022-05-31T10:08:03.236Z"
   },
   {
    "duration": 0,
    "start_time": "2022-05-31T10:08:03.237Z"
   },
   {
    "duration": 0,
    "start_time": "2022-05-31T10:08:03.238Z"
   },
   {
    "duration": 0,
    "start_time": "2022-05-31T10:08:03.240Z"
   },
   {
    "duration": 0,
    "start_time": "2022-05-31T10:08:03.260Z"
   },
   {
    "duration": 0,
    "start_time": "2022-05-31T10:08:03.261Z"
   },
   {
    "duration": 0,
    "start_time": "2022-05-31T10:08:03.263Z"
   },
   {
    "duration": 0,
    "start_time": "2022-05-31T10:08:03.264Z"
   },
   {
    "duration": 0,
    "start_time": "2022-05-31T10:08:03.265Z"
   },
   {
    "duration": 0,
    "start_time": "2022-05-31T10:08:03.266Z"
   },
   {
    "duration": 0,
    "start_time": "2022-05-31T10:08:03.268Z"
   },
   {
    "duration": 0,
    "start_time": "2022-05-31T10:08:03.269Z"
   },
   {
    "duration": 0,
    "start_time": "2022-05-31T10:08:03.270Z"
   },
   {
    "duration": 0,
    "start_time": "2022-05-31T10:08:03.271Z"
   },
   {
    "duration": 0,
    "start_time": "2022-05-31T10:08:03.273Z"
   },
   {
    "duration": 0,
    "start_time": "2022-05-31T10:08:03.274Z"
   },
   {
    "duration": 0,
    "start_time": "2022-05-31T10:08:03.276Z"
   },
   {
    "duration": 0,
    "start_time": "2022-05-31T10:08:03.277Z"
   },
   {
    "duration": 0,
    "start_time": "2022-05-31T10:08:03.278Z"
   },
   {
    "duration": 0,
    "start_time": "2022-05-31T10:08:03.280Z"
   },
   {
    "duration": 0,
    "start_time": "2022-05-31T10:08:03.281Z"
   },
   {
    "duration": 0,
    "start_time": "2022-05-31T10:08:03.283Z"
   },
   {
    "duration": 0,
    "start_time": "2022-05-31T10:08:03.284Z"
   },
   {
    "duration": 0,
    "start_time": "2022-05-31T10:08:03.285Z"
   },
   {
    "duration": 0,
    "start_time": "2022-05-31T10:08:03.287Z"
   },
   {
    "duration": 0,
    "start_time": "2022-05-31T10:08:03.288Z"
   },
   {
    "duration": 0,
    "start_time": "2022-05-31T10:08:03.289Z"
   },
   {
    "duration": 0,
    "start_time": "2022-05-31T10:08:03.291Z"
   },
   {
    "duration": 0,
    "start_time": "2022-05-31T10:08:03.293Z"
   },
   {
    "duration": 0,
    "start_time": "2022-05-31T10:08:03.294Z"
   },
   {
    "duration": 0,
    "start_time": "2022-05-31T10:08:03.295Z"
   },
   {
    "duration": 0,
    "start_time": "2022-05-31T10:08:03.297Z"
   },
   {
    "duration": 0,
    "start_time": "2022-05-31T10:08:03.298Z"
   },
   {
    "duration": 0,
    "start_time": "2022-05-31T10:08:03.300Z"
   },
   {
    "duration": 0,
    "start_time": "2022-05-31T10:08:03.301Z"
   },
   {
    "duration": 0,
    "start_time": "2022-05-31T10:08:03.354Z"
   },
   {
    "duration": 0,
    "start_time": "2022-05-31T10:08:03.356Z"
   },
   {
    "duration": 0,
    "start_time": "2022-05-31T10:08:03.359Z"
   },
   {
    "duration": 0,
    "start_time": "2022-05-31T10:08:03.364Z"
   },
   {
    "duration": 0,
    "start_time": "2022-05-31T10:08:03.370Z"
   },
   {
    "duration": 0,
    "start_time": "2022-05-31T10:08:03.380Z"
   },
   {
    "duration": 0,
    "start_time": "2022-05-31T10:08:03.383Z"
   },
   {
    "duration": 0,
    "start_time": "2022-05-31T10:08:03.384Z"
   },
   {
    "duration": 0,
    "start_time": "2022-05-31T10:08:03.385Z"
   },
   {
    "duration": 0,
    "start_time": "2022-05-31T10:08:03.386Z"
   },
   {
    "duration": 0,
    "start_time": "2022-05-31T10:08:03.387Z"
   },
   {
    "duration": 0,
    "start_time": "2022-05-31T10:08:03.388Z"
   },
   {
    "duration": 0,
    "start_time": "2022-05-31T10:08:03.390Z"
   },
   {
    "duration": 0,
    "start_time": "2022-05-31T10:08:03.391Z"
   },
   {
    "duration": 0,
    "start_time": "2022-05-31T10:08:03.392Z"
   },
   {
    "duration": 0,
    "start_time": "2022-05-31T10:08:03.394Z"
   },
   {
    "duration": 0,
    "start_time": "2022-05-31T10:08:03.395Z"
   },
   {
    "duration": 0,
    "start_time": "2022-05-31T10:08:03.397Z"
   },
   {
    "duration": 36,
    "start_time": "2022-05-31T10:08:21.941Z"
   },
   {
    "duration": 124,
    "start_time": "2022-05-31T10:09:40.490Z"
   },
   {
    "duration": 407,
    "start_time": "2022-05-31T10:09:48.324Z"
   },
   {
    "duration": 92,
    "start_time": "2022-05-31T10:09:48.734Z"
   },
   {
    "duration": 75,
    "start_time": "2022-05-31T10:09:48.828Z"
   },
   {
    "duration": 28,
    "start_time": "2022-05-31T10:09:48.906Z"
   },
   {
    "duration": 34,
    "start_time": "2022-05-31T10:09:48.935Z"
   },
   {
    "duration": 9,
    "start_time": "2022-05-31T10:09:48.970Z"
   },
   {
    "duration": 16,
    "start_time": "2022-05-31T10:09:48.981Z"
   },
   {
    "duration": 18,
    "start_time": "2022-05-31T10:09:48.999Z"
   },
   {
    "duration": 4,
    "start_time": "2022-05-31T10:09:49.019Z"
   },
   {
    "duration": 17,
    "start_time": "2022-05-31T10:09:49.026Z"
   },
   {
    "duration": 427,
    "start_time": "2022-05-31T10:09:49.045Z"
   },
   {
    "duration": 16,
    "start_time": "2022-05-31T10:09:49.474Z"
   },
   {
    "duration": 146,
    "start_time": "2022-05-31T10:09:49.492Z"
   },
   {
    "duration": 28,
    "start_time": "2022-05-31T10:09:49.640Z"
   },
   {
    "duration": 7,
    "start_time": "2022-05-31T10:09:49.671Z"
   },
   {
    "duration": 7,
    "start_time": "2022-05-31T10:09:49.681Z"
   },
   {
    "duration": 10,
    "start_time": "2022-05-31T10:09:49.689Z"
   },
   {
    "duration": 12,
    "start_time": "2022-05-31T10:09:49.700Z"
   },
   {
    "duration": 6,
    "start_time": "2022-05-31T10:09:49.714Z"
   },
   {
    "duration": 5,
    "start_time": "2022-05-31T10:09:49.722Z"
   },
   {
    "duration": 4,
    "start_time": "2022-05-31T10:09:49.728Z"
   },
   {
    "duration": 32,
    "start_time": "2022-05-31T10:09:49.733Z"
   },
   {
    "duration": 8,
    "start_time": "2022-05-31T10:09:49.772Z"
   },
   {
    "duration": 6,
    "start_time": "2022-05-31T10:09:49.783Z"
   },
   {
    "duration": 314,
    "start_time": "2022-05-31T10:09:49.791Z"
   },
   {
    "duration": 14,
    "start_time": "2022-05-31T10:09:50.107Z"
   },
   {
    "duration": 5,
    "start_time": "2022-05-31T10:09:50.123Z"
   },
   {
    "duration": 24,
    "start_time": "2022-05-31T10:09:50.133Z"
   },
   {
    "duration": 11,
    "start_time": "2022-05-31T10:09:50.158Z"
   },
   {
    "duration": 12,
    "start_time": "2022-05-31T10:09:50.171Z"
   },
   {
    "duration": 13,
    "start_time": "2022-05-31T10:09:50.185Z"
   },
   {
    "duration": 125,
    "start_time": "2022-05-31T10:09:50.200Z"
   },
   {
    "duration": 8,
    "start_time": "2022-05-31T10:09:50.326Z"
   },
   {
    "duration": 7,
    "start_time": "2022-05-31T10:09:50.336Z"
   },
   {
    "duration": 158,
    "start_time": "2022-05-31T10:09:50.345Z"
   },
   {
    "duration": 8,
    "start_time": "2022-05-31T10:09:50.505Z"
   },
   {
    "duration": 160,
    "start_time": "2022-05-31T10:09:50.515Z"
   },
   {
    "duration": 12,
    "start_time": "2022-05-31T10:09:50.677Z"
   },
   {
    "duration": 173,
    "start_time": "2022-05-31T10:09:50.691Z"
   },
   {
    "duration": 12,
    "start_time": "2022-05-31T10:09:50.872Z"
   },
   {
    "duration": 215,
    "start_time": "2022-05-31T10:09:50.885Z"
   },
   {
    "duration": 173,
    "start_time": "2022-05-31T10:09:51.102Z"
   },
   {
    "duration": 19,
    "start_time": "2022-05-31T10:09:51.277Z"
   },
   {
    "duration": 9,
    "start_time": "2022-05-31T10:09:51.298Z"
   },
   {
    "duration": 8,
    "start_time": "2022-05-31T10:09:51.308Z"
   },
   {
    "duration": 8,
    "start_time": "2022-05-31T10:09:51.317Z"
   },
   {
    "duration": 22,
    "start_time": "2022-05-31T10:09:51.326Z"
   },
   {
    "duration": 65,
    "start_time": "2022-05-31T10:09:51.351Z"
   },
   {
    "duration": 14,
    "start_time": "2022-05-31T10:09:51.418Z"
   },
   {
    "duration": 11,
    "start_time": "2022-05-31T10:09:51.435Z"
   },
   {
    "duration": 26,
    "start_time": "2022-05-31T10:09:51.448Z"
   },
   {
    "duration": 21,
    "start_time": "2022-05-31T10:09:51.477Z"
   },
   {
    "duration": 525,
    "start_time": "2022-05-31T10:09:51.500Z"
   },
   {
    "duration": 2273,
    "start_time": "2022-05-31T10:09:52.027Z"
   },
   {
    "duration": 10,
    "start_time": "2022-05-31T10:09:54.301Z"
   },
   {
    "duration": 157,
    "start_time": "2022-05-31T10:09:54.312Z"
   },
   {
    "duration": 9,
    "start_time": "2022-05-31T10:09:54.473Z"
   },
   {
    "duration": 166,
    "start_time": "2022-05-31T10:09:54.484Z"
   },
   {
    "duration": 18,
    "start_time": "2022-05-31T10:09:54.655Z"
   },
   {
    "duration": 169,
    "start_time": "2022-05-31T10:09:54.675Z"
   },
   {
    "duration": 21,
    "start_time": "2022-05-31T10:09:54.846Z"
   },
   {
    "duration": 132,
    "start_time": "2022-05-31T10:09:54.875Z"
   },
   {
    "duration": 6,
    "start_time": "2022-05-31T10:09:55.008Z"
   },
   {
    "duration": 22,
    "start_time": "2022-05-31T10:09:55.015Z"
   },
   {
    "duration": 3,
    "start_time": "2022-05-31T10:09:55.038Z"
   },
   {
    "duration": 23,
    "start_time": "2022-05-31T10:09:55.056Z"
   },
   {
    "duration": 9,
    "start_time": "2022-05-31T10:09:55.080Z"
   },
   {
    "duration": 10,
    "start_time": "2022-05-31T10:09:55.091Z"
   },
   {
    "duration": 12,
    "start_time": "2022-05-31T10:09:55.103Z"
   },
   {
    "duration": 12,
    "start_time": "2022-05-31T10:09:55.117Z"
   },
   {
    "duration": 4,
    "start_time": "2022-05-31T10:09:55.130Z"
   },
   {
    "duration": 42,
    "start_time": "2022-05-31T10:09:55.136Z"
   },
   {
    "duration": 169,
    "start_time": "2022-05-31T10:09:55.180Z"
   },
   {
    "duration": 17,
    "start_time": "2022-05-31T10:09:55.351Z"
   },
   {
    "duration": 13,
    "start_time": "2022-05-31T10:09:55.377Z"
   },
   {
    "duration": 9,
    "start_time": "2022-05-31T10:09:55.393Z"
   },
   {
    "duration": 2390,
    "start_time": "2022-05-31T10:09:55.404Z"
   },
   {
    "duration": 11,
    "start_time": "2022-05-31T10:09:57.796Z"
   },
   {
    "duration": 185,
    "start_time": "2022-05-31T10:09:57.809Z"
   },
   {
    "duration": 172,
    "start_time": "2022-05-31T10:09:57.998Z"
   },
   {
    "duration": 12,
    "start_time": "2022-05-31T10:09:58.171Z"
   },
   {
    "duration": 158,
    "start_time": "2022-05-31T10:09:58.190Z"
   },
   {
    "duration": 108,
    "start_time": "2022-05-31T10:11:50.980Z"
   },
   {
    "duration": 11,
    "start_time": "2022-05-31T10:12:03.086Z"
   },
   {
    "duration": 11,
    "start_time": "2022-05-31T10:12:17.420Z"
   },
   {
    "duration": 4,
    "start_time": "2022-05-31T10:13:53.311Z"
   },
   {
    "duration": 337,
    "start_time": "2022-05-31T10:14:09.579Z"
   },
   {
    "duration": 488,
    "start_time": "2022-05-31T10:14:21.738Z"
   },
   {
    "duration": 491,
    "start_time": "2022-05-31T10:14:26.316Z"
   },
   {
    "duration": 27,
    "start_time": "2022-05-31T10:26:55.818Z"
   },
   {
    "duration": 413,
    "start_time": "2022-05-31T10:29:51.154Z"
   },
   {
    "duration": 655,
    "start_time": "2022-05-31T10:30:07.791Z"
   },
   {
    "duration": 555,
    "start_time": "2022-05-31T10:30:24.186Z"
   },
   {
    "duration": 479,
    "start_time": "2022-05-31T10:30:38.953Z"
   },
   {
    "duration": 106,
    "start_time": "2022-05-31T10:30:39.434Z"
   },
   {
    "duration": 86,
    "start_time": "2022-05-31T10:30:39.543Z"
   },
   {
    "duration": 51,
    "start_time": "2022-05-31T10:30:39.631Z"
   },
   {
    "duration": 17,
    "start_time": "2022-05-31T10:30:39.686Z"
   },
   {
    "duration": 9,
    "start_time": "2022-05-31T10:30:39.704Z"
   },
   {
    "duration": 4,
    "start_time": "2022-05-31T10:30:39.715Z"
   },
   {
    "duration": 6,
    "start_time": "2022-05-31T10:30:39.720Z"
   },
   {
    "duration": 10,
    "start_time": "2022-05-31T10:30:39.727Z"
   },
   {
    "duration": 26,
    "start_time": "2022-05-31T10:30:39.738Z"
   },
   {
    "duration": 36,
    "start_time": "2022-05-31T10:30:39.765Z"
   },
   {
    "duration": 13,
    "start_time": "2022-05-31T10:30:39.802Z"
   },
   {
    "duration": 3,
    "start_time": "2022-05-31T10:30:39.817Z"
   },
   {
    "duration": 9,
    "start_time": "2022-05-31T10:30:39.822Z"
   },
   {
    "duration": 11,
    "start_time": "2022-05-31T10:30:39.832Z"
   },
   {
    "duration": 6,
    "start_time": "2022-05-31T10:30:39.845Z"
   },
   {
    "duration": 300,
    "start_time": "2022-05-31T10:30:39.852Z"
   },
   {
    "duration": 23,
    "start_time": "2022-05-31T10:30:40.154Z"
   },
   {
    "duration": 26,
    "start_time": "2022-05-31T10:30:40.178Z"
   },
   {
    "duration": 11,
    "start_time": "2022-05-31T10:30:40.205Z"
   },
   {
    "duration": 7,
    "start_time": "2022-05-31T10:30:40.218Z"
   },
   {
    "duration": 6,
    "start_time": "2022-05-31T10:30:40.227Z"
   },
   {
    "duration": 8,
    "start_time": "2022-05-31T10:30:40.235Z"
   },
   {
    "duration": 471,
    "start_time": "2022-05-31T10:30:40.244Z"
   },
   {
    "duration": 10,
    "start_time": "2022-05-31T10:30:40.717Z"
   },
   {
    "duration": 9,
    "start_time": "2022-05-31T10:30:40.729Z"
   },
   {
    "duration": 7,
    "start_time": "2022-05-31T10:30:40.758Z"
   },
   {
    "duration": 141,
    "start_time": "2022-05-31T10:30:40.766Z"
   },
   {
    "duration": 9,
    "start_time": "2022-05-31T10:30:40.909Z"
   },
   {
    "duration": 160,
    "start_time": "2022-05-31T10:30:40.919Z"
   },
   {
    "duration": 11,
    "start_time": "2022-05-31T10:30:41.080Z"
   },
   {
    "duration": 148,
    "start_time": "2022-05-31T10:30:41.092Z"
   },
   {
    "duration": 15,
    "start_time": "2022-05-31T10:30:41.242Z"
   },
   {
    "duration": 171,
    "start_time": "2022-05-31T10:30:41.258Z"
   },
   {
    "duration": 174,
    "start_time": "2022-05-31T10:30:41.431Z"
   },
   {
    "duration": 96,
    "start_time": "2022-05-31T10:30:41.611Z"
   },
   {
    "duration": 10,
    "start_time": "2022-05-31T10:30:41.709Z"
   },
   {
    "duration": 9,
    "start_time": "2022-05-31T10:30:41.721Z"
   },
   {
    "duration": 29,
    "start_time": "2022-05-31T10:30:41.732Z"
   },
   {
    "duration": 45,
    "start_time": "2022-05-31T10:30:41.766Z"
   },
   {
    "duration": 25,
    "start_time": "2022-05-31T10:30:41.815Z"
   },
   {
    "duration": 9,
    "start_time": "2022-05-31T10:30:41.841Z"
   },
   {
    "duration": 23,
    "start_time": "2022-05-31T10:30:41.851Z"
   },
   {
    "duration": 24,
    "start_time": "2022-05-31T10:30:41.876Z"
   },
   {
    "duration": 9,
    "start_time": "2022-05-31T10:30:41.902Z"
   },
   {
    "duration": 480,
    "start_time": "2022-05-31T10:30:41.913Z"
   },
   {
    "duration": 2358,
    "start_time": "2022-05-31T10:30:42.395Z"
   },
   {
    "duration": 25,
    "start_time": "2022-05-31T10:30:44.757Z"
   },
   {
    "duration": 154,
    "start_time": "2022-05-31T10:30:44.789Z"
   },
   {
    "duration": 17,
    "start_time": "2022-05-31T10:30:44.945Z"
   },
   {
    "duration": 182,
    "start_time": "2022-05-31T10:30:44.969Z"
   },
   {
    "duration": 16,
    "start_time": "2022-05-31T10:30:45.153Z"
   },
   {
    "duration": 143,
    "start_time": "2022-05-31T10:30:45.170Z"
   },
   {
    "duration": 10,
    "start_time": "2022-05-31T10:30:45.315Z"
   },
   {
    "duration": 142,
    "start_time": "2022-05-31T10:30:45.327Z"
   },
   {
    "duration": 11,
    "start_time": "2022-05-31T10:30:45.470Z"
   },
   {
    "duration": 20,
    "start_time": "2022-05-31T10:30:45.482Z"
   },
   {
    "duration": 2,
    "start_time": "2022-05-31T10:30:45.504Z"
   },
   {
    "duration": 9,
    "start_time": "2022-05-31T10:30:45.508Z"
   },
   {
    "duration": 8,
    "start_time": "2022-05-31T10:30:45.518Z"
   },
   {
    "duration": 10,
    "start_time": "2022-05-31T10:30:45.528Z"
   },
   {
    "duration": 17,
    "start_time": "2022-05-31T10:30:45.539Z"
   },
   {
    "duration": 19,
    "start_time": "2022-05-31T10:30:45.558Z"
   },
   {
    "duration": 23,
    "start_time": "2022-05-31T10:30:45.578Z"
   },
   {
    "duration": 20,
    "start_time": "2022-05-31T10:30:45.603Z"
   },
   {
    "duration": 175,
    "start_time": "2022-05-31T10:30:45.624Z"
   },
   {
    "duration": 8,
    "start_time": "2022-05-31T10:30:45.801Z"
   },
   {
    "duration": 27,
    "start_time": "2022-05-31T10:30:45.810Z"
   },
   {
    "duration": 7,
    "start_time": "2022-05-31T10:30:45.838Z"
   },
   {
    "duration": 2327,
    "start_time": "2022-05-31T10:30:45.847Z"
   },
   {
    "duration": 13,
    "start_time": "2022-05-31T10:30:48.176Z"
   },
   {
    "duration": 129,
    "start_time": "2022-05-31T10:30:48.191Z"
   },
   {
    "duration": 179,
    "start_time": "2022-05-31T10:30:48.322Z"
   },
   {
    "duration": 10,
    "start_time": "2022-05-31T10:30:48.503Z"
   },
   {
    "duration": 165,
    "start_time": "2022-05-31T10:30:48.515Z"
   },
   {
    "duration": 153,
    "start_time": "2022-05-31T10:31:14.345Z"
   },
   {
    "duration": 138,
    "start_time": "2022-05-31T10:31:40.015Z"
   },
   {
    "duration": 138,
    "start_time": "2022-05-31T10:33:02.437Z"
   },
   {
    "duration": 13,
    "start_time": "2022-05-31T10:33:42.643Z"
   },
   {
    "duration": 433,
    "start_time": "2022-05-31T10:34:14.092Z"
   },
   {
    "duration": 101,
    "start_time": "2022-05-31T10:34:14.527Z"
   },
   {
    "duration": 83,
    "start_time": "2022-05-31T10:34:14.630Z"
   },
   {
    "duration": 40,
    "start_time": "2022-05-31T10:34:14.714Z"
   },
   {
    "duration": 43,
    "start_time": "2022-05-31T10:34:14.757Z"
   },
   {
    "duration": 34,
    "start_time": "2022-05-31T10:34:14.801Z"
   },
   {
    "duration": 7,
    "start_time": "2022-05-31T10:34:14.837Z"
   },
   {
    "duration": 67,
    "start_time": "2022-05-31T10:34:14.846Z"
   },
   {
    "duration": 80,
    "start_time": "2022-05-31T10:34:14.915Z"
   },
   {
    "duration": 18,
    "start_time": "2022-05-31T10:34:14.997Z"
   },
   {
    "duration": 18,
    "start_time": "2022-05-31T10:34:15.018Z"
   },
   {
    "duration": 29,
    "start_time": "2022-05-31T10:34:15.039Z"
   },
   {
    "duration": 33,
    "start_time": "2022-05-31T10:34:15.070Z"
   },
   {
    "duration": 26,
    "start_time": "2022-05-31T10:34:15.105Z"
   },
   {
    "duration": 24,
    "start_time": "2022-05-31T10:34:15.133Z"
   },
   {
    "duration": 39,
    "start_time": "2022-05-31T10:34:15.158Z"
   },
   {
    "duration": 365,
    "start_time": "2022-05-31T10:34:15.200Z"
   },
   {
    "duration": 17,
    "start_time": "2022-05-31T10:34:15.574Z"
   },
   {
    "duration": 55,
    "start_time": "2022-05-31T10:34:15.594Z"
   },
   {
    "duration": 73,
    "start_time": "2022-05-31T10:34:15.651Z"
   },
   {
    "duration": 31,
    "start_time": "2022-05-31T10:34:15.726Z"
   },
   {
    "duration": 55,
    "start_time": "2022-05-31T10:34:15.759Z"
   },
   {
    "duration": 18,
    "start_time": "2022-05-31T10:34:15.816Z"
   },
   {
    "duration": 572,
    "start_time": "2022-05-31T10:34:15.836Z"
   },
   {
    "duration": 10,
    "start_time": "2022-05-31T10:34:16.410Z"
   },
   {
    "duration": 36,
    "start_time": "2022-05-31T10:34:16.422Z"
   },
   {
    "duration": 47,
    "start_time": "2022-05-31T10:34:16.460Z"
   },
   {
    "duration": 18,
    "start_time": "2022-05-31T10:34:16.510Z"
   },
   {
    "duration": 262,
    "start_time": "2022-05-31T10:34:16.531Z"
   },
   {
    "duration": 12,
    "start_time": "2022-05-31T10:34:16.798Z"
   },
   {
    "duration": 210,
    "start_time": "2022-05-31T10:34:16.812Z"
   },
   {
    "duration": 12,
    "start_time": "2022-05-31T10:34:17.028Z"
   },
   {
    "duration": 199,
    "start_time": "2022-05-31T10:34:17.042Z"
   },
   {
    "duration": 16,
    "start_time": "2022-05-31T10:34:17.243Z"
   },
   {
    "duration": 189,
    "start_time": "2022-05-31T10:34:17.261Z"
   },
   {
    "duration": 200,
    "start_time": "2022-05-31T10:34:17.452Z"
   },
   {
    "duration": 100,
    "start_time": "2022-05-31T10:34:17.653Z"
   },
   {
    "duration": 18,
    "start_time": "2022-05-31T10:34:17.754Z"
   },
   {
    "duration": 32,
    "start_time": "2022-05-31T10:34:17.773Z"
   },
   {
    "duration": 3,
    "start_time": "2022-05-31T10:34:17.807Z"
   },
   {
    "duration": 10,
    "start_time": "2022-05-31T10:34:17.812Z"
   },
   {
    "duration": 25,
    "start_time": "2022-05-31T10:34:17.823Z"
   },
   {
    "duration": 53,
    "start_time": "2022-05-31T10:34:17.850Z"
   },
   {
    "duration": 15,
    "start_time": "2022-05-31T10:34:17.905Z"
   },
   {
    "duration": 14,
    "start_time": "2022-05-31T10:34:17.922Z"
   },
   {
    "duration": 25,
    "start_time": "2022-05-31T10:34:17.937Z"
   },
   {
    "duration": 491,
    "start_time": "2022-05-31T10:34:17.963Z"
   },
   {
    "duration": 2770,
    "start_time": "2022-05-31T10:34:18.456Z"
   },
   {
    "duration": 13,
    "start_time": "2022-05-31T10:34:21.229Z"
   },
   {
    "duration": 224,
    "start_time": "2022-05-31T10:34:21.244Z"
   },
   {
    "duration": 18,
    "start_time": "2022-05-31T10:34:21.470Z"
   },
   {
    "duration": 270,
    "start_time": "2022-05-31T10:34:21.498Z"
   },
   {
    "duration": 21,
    "start_time": "2022-05-31T10:34:21.772Z"
   },
   {
    "duration": 218,
    "start_time": "2022-05-31T10:34:21.798Z"
   },
   {
    "duration": 12,
    "start_time": "2022-05-31T10:34:22.019Z"
   },
   {
    "duration": 247,
    "start_time": "2022-05-31T10:34:22.033Z"
   },
   {
    "duration": 16,
    "start_time": "2022-05-31T10:34:22.290Z"
   },
   {
    "duration": 55,
    "start_time": "2022-05-31T10:34:22.308Z"
   },
   {
    "duration": 42,
    "start_time": "2022-05-31T10:34:22.376Z"
   },
   {
    "duration": 21,
    "start_time": "2022-05-31T10:34:22.420Z"
   },
   {
    "duration": 50,
    "start_time": "2022-05-31T10:34:22.442Z"
   },
   {
    "duration": 36,
    "start_time": "2022-05-31T10:34:22.495Z"
   },
   {
    "duration": 22,
    "start_time": "2022-05-31T10:34:22.532Z"
   },
   {
    "duration": 55,
    "start_time": "2022-05-31T10:34:22.555Z"
   },
   {
    "duration": 15,
    "start_time": "2022-05-31T10:34:22.611Z"
   },
   {
    "duration": 15,
    "start_time": "2022-05-31T10:34:22.628Z"
   },
   {
    "duration": 220,
    "start_time": "2022-05-31T10:34:22.644Z"
   },
   {
    "duration": 9,
    "start_time": "2022-05-31T10:34:22.865Z"
   },
   {
    "duration": 55,
    "start_time": "2022-05-31T10:34:22.876Z"
   },
   {
    "duration": 17,
    "start_time": "2022-05-31T10:34:22.933Z"
   },
   {
    "duration": 2531,
    "start_time": "2022-05-31T10:34:22.952Z"
   },
   {
    "duration": 13,
    "start_time": "2022-05-31T10:34:25.485Z"
   },
   {
    "duration": 168,
    "start_time": "2022-05-31T10:34:25.499Z"
   },
   {
    "duration": 169,
    "start_time": "2022-05-31T10:34:25.669Z"
   },
   {
    "duration": 21,
    "start_time": "2022-05-31T10:34:25.840Z"
   },
   {
    "duration": 198,
    "start_time": "2022-05-31T10:34:25.864Z"
   },
   {
    "duration": 370,
    "start_time": "2022-05-31T10:35:14.889Z"
   },
   {
    "duration": 121,
    "start_time": "2022-05-31T10:35:18.582Z"
   },
   {
    "duration": 141,
    "start_time": "2022-05-31T10:35:27.289Z"
   },
   {
    "duration": 129,
    "start_time": "2022-05-31T10:35:43.589Z"
   },
   {
    "duration": 132,
    "start_time": "2022-05-31T10:36:03.704Z"
   },
   {
    "duration": 143,
    "start_time": "2022-05-31T10:36:17.461Z"
   },
   {
    "duration": 30,
    "start_time": "2022-05-31T10:43:20.994Z"
   },
   {
    "duration": 24,
    "start_time": "2022-05-31T10:43:43.482Z"
   },
   {
    "duration": 8,
    "start_time": "2022-05-31T11:00:13.006Z"
   },
   {
    "duration": 9,
    "start_time": "2022-05-31T11:02:00.438Z"
   },
   {
    "duration": 12,
    "start_time": "2022-05-31T11:02:51.168Z"
   },
   {
    "duration": 5,
    "start_time": "2022-05-31T11:03:04.956Z"
   },
   {
    "duration": 4,
    "start_time": "2022-05-31T11:03:33.386Z"
   },
   {
    "duration": 173,
    "start_time": "2022-05-31T11:07:30.733Z"
   },
   {
    "duration": 10,
    "start_time": "2022-05-31T11:07:59.478Z"
   },
   {
    "duration": 168,
    "start_time": "2022-05-31T11:08:05.384Z"
   },
   {
    "duration": 416,
    "start_time": "2022-05-31T11:10:02.649Z"
   },
   {
    "duration": 312,
    "start_time": "2022-05-31T11:10:27.887Z"
   },
   {
    "duration": 260,
    "start_time": "2022-05-31T11:10:42.777Z"
   },
   {
    "duration": 183,
    "start_time": "2022-05-31T11:11:04.535Z"
   },
   {
    "duration": 185,
    "start_time": "2022-05-31T11:11:51.248Z"
   },
   {
    "duration": 476,
    "start_time": "2022-05-31T11:13:40.831Z"
   },
   {
    "duration": 112,
    "start_time": "2022-05-31T11:13:41.309Z"
   },
   {
    "duration": 102,
    "start_time": "2022-05-31T11:13:41.423Z"
   },
   {
    "duration": 52,
    "start_time": "2022-05-31T11:13:41.527Z"
   },
   {
    "duration": 23,
    "start_time": "2022-05-31T11:13:41.581Z"
   },
   {
    "duration": 19,
    "start_time": "2022-05-31T11:13:41.607Z"
   },
   {
    "duration": 21,
    "start_time": "2022-05-31T11:13:41.628Z"
   },
   {
    "duration": 36,
    "start_time": "2022-05-31T11:13:41.650Z"
   },
   {
    "duration": 20,
    "start_time": "2022-05-31T11:13:41.688Z"
   },
   {
    "duration": 26,
    "start_time": "2022-05-31T11:13:41.711Z"
   },
   {
    "duration": 14,
    "start_time": "2022-05-31T11:13:41.739Z"
   },
   {
    "duration": 24,
    "start_time": "2022-05-31T11:13:41.757Z"
   },
   {
    "duration": 9,
    "start_time": "2022-05-31T11:13:41.783Z"
   },
   {
    "duration": 7,
    "start_time": "2022-05-31T11:13:41.794Z"
   },
   {
    "duration": 10,
    "start_time": "2022-05-31T11:13:41.803Z"
   },
   {
    "duration": 8,
    "start_time": "2022-05-31T11:13:41.815Z"
   },
   {
    "duration": 302,
    "start_time": "2022-05-31T11:13:41.824Z"
   },
   {
    "duration": 15,
    "start_time": "2022-05-31T11:13:42.127Z"
   },
   {
    "duration": 19,
    "start_time": "2022-05-31T11:13:42.143Z"
   },
   {
    "duration": 15,
    "start_time": "2022-05-31T11:13:42.164Z"
   },
   {
    "duration": 7,
    "start_time": "2022-05-31T11:13:42.181Z"
   },
   {
    "duration": 8,
    "start_time": "2022-05-31T11:13:42.190Z"
   },
   {
    "duration": 5,
    "start_time": "2022-05-31T11:13:42.200Z"
   },
   {
    "duration": 419,
    "start_time": "2022-05-31T11:13:42.207Z"
   },
   {
    "duration": 10,
    "start_time": "2022-05-31T11:13:42.627Z"
   },
   {
    "duration": 25,
    "start_time": "2022-05-31T11:13:42.638Z"
   },
   {
    "duration": 10,
    "start_time": "2022-05-31T11:13:42.666Z"
   },
   {
    "duration": 10,
    "start_time": "2022-05-31T11:13:42.680Z"
   },
   {
    "duration": 137,
    "start_time": "2022-05-31T11:13:42.691Z"
   },
   {
    "duration": 7,
    "start_time": "2022-05-31T11:13:42.830Z"
   },
   {
    "duration": 147,
    "start_time": "2022-05-31T11:13:42.839Z"
   },
   {
    "duration": 9,
    "start_time": "2022-05-31T11:13:42.988Z"
   },
   {
    "duration": 135,
    "start_time": "2022-05-31T11:13:42.998Z"
   },
   {
    "duration": 25,
    "start_time": "2022-05-31T11:13:43.134Z"
   },
   {
    "duration": 128,
    "start_time": "2022-05-31T11:13:43.170Z"
   },
   {
    "duration": 138,
    "start_time": "2022-05-31T11:13:43.300Z"
   },
   {
    "duration": 22,
    "start_time": "2022-05-31T11:13:43.440Z"
   },
   {
    "duration": 12,
    "start_time": "2022-05-31T11:13:43.463Z"
   },
   {
    "duration": 8,
    "start_time": "2022-05-31T11:13:43.477Z"
   },
   {
    "duration": 8,
    "start_time": "2022-05-31T11:13:43.486Z"
   },
   {
    "duration": 91,
    "start_time": "2022-05-31T11:13:43.496Z"
   },
   {
    "duration": 32,
    "start_time": "2022-05-31T11:13:43.589Z"
   },
   {
    "duration": 25,
    "start_time": "2022-05-31T11:13:43.623Z"
   },
   {
    "duration": 13,
    "start_time": "2022-05-31T11:13:43.650Z"
   },
   {
    "duration": 14,
    "start_time": "2022-05-31T11:13:43.664Z"
   },
   {
    "duration": 9,
    "start_time": "2022-05-31T11:13:43.679Z"
   },
   {
    "duration": 396,
    "start_time": "2022-05-31T11:13:43.690Z"
   },
   {
    "duration": 2217,
    "start_time": "2022-05-31T11:13:44.088Z"
   },
   {
    "duration": 13,
    "start_time": "2022-05-31T11:13:46.307Z"
   },
   {
    "duration": 156,
    "start_time": "2022-05-31T11:13:46.322Z"
   },
   {
    "duration": 9,
    "start_time": "2022-05-31T11:13:46.480Z"
   },
   {
    "duration": 170,
    "start_time": "2022-05-31T11:13:46.491Z"
   },
   {
    "duration": 12,
    "start_time": "2022-05-31T11:13:46.662Z"
   },
   {
    "duration": 127,
    "start_time": "2022-05-31T11:13:46.675Z"
   },
   {
    "duration": 9,
    "start_time": "2022-05-31T11:13:46.803Z"
   },
   {
    "duration": 152,
    "start_time": "2022-05-31T11:13:46.813Z"
   },
   {
    "duration": 6,
    "start_time": "2022-05-31T11:13:46.970Z"
   },
   {
    "duration": 19,
    "start_time": "2022-05-31T11:13:46.978Z"
   },
   {
    "duration": 3,
    "start_time": "2022-05-31T11:13:46.999Z"
   },
   {
    "duration": 13,
    "start_time": "2022-05-31T11:13:47.004Z"
   },
   {
    "duration": 9,
    "start_time": "2022-05-31T11:13:47.018Z"
   },
   {
    "duration": 145,
    "start_time": "2022-05-31T11:13:47.028Z"
   },
   {
    "duration": 0,
    "start_time": "2022-05-31T11:13:47.174Z"
   },
   {
    "duration": 0,
    "start_time": "2022-05-31T11:13:47.175Z"
   },
   {
    "duration": 0,
    "start_time": "2022-05-31T11:13:47.176Z"
   },
   {
    "duration": 0,
    "start_time": "2022-05-31T11:13:47.178Z"
   },
   {
    "duration": 0,
    "start_time": "2022-05-31T11:13:47.178Z"
   },
   {
    "duration": 0,
    "start_time": "2022-05-31T11:13:47.179Z"
   },
   {
    "duration": 0,
    "start_time": "2022-05-31T11:13:47.180Z"
   },
   {
    "duration": 0,
    "start_time": "2022-05-31T11:13:47.181Z"
   },
   {
    "duration": 0,
    "start_time": "2022-05-31T11:13:47.182Z"
   },
   {
    "duration": 0,
    "start_time": "2022-05-31T11:13:47.184Z"
   },
   {
    "duration": 0,
    "start_time": "2022-05-31T11:13:47.185Z"
   },
   {
    "duration": 0,
    "start_time": "2022-05-31T11:13:47.186Z"
   },
   {
    "duration": 0,
    "start_time": "2022-05-31T11:13:47.187Z"
   },
   {
    "duration": 0,
    "start_time": "2022-05-31T11:13:47.188Z"
   },
   {
    "duration": 0,
    "start_time": "2022-05-31T11:13:47.188Z"
   },
   {
    "duration": 0,
    "start_time": "2022-05-31T11:13:47.190Z"
   },
   {
    "duration": 568,
    "start_time": "2022-05-31T11:14:38.012Z"
   },
   {
    "duration": 400,
    "start_time": "2022-05-31T11:16:14.685Z"
   },
   {
    "duration": 94,
    "start_time": "2022-05-31T11:16:15.087Z"
   },
   {
    "duration": 79,
    "start_time": "2022-05-31T11:16:15.183Z"
   },
   {
    "duration": 33,
    "start_time": "2022-05-31T11:16:15.270Z"
   },
   {
    "duration": 13,
    "start_time": "2022-05-31T11:16:15.305Z"
   },
   {
    "duration": 8,
    "start_time": "2022-05-31T11:16:15.320Z"
   },
   {
    "duration": 4,
    "start_time": "2022-05-31T11:16:15.329Z"
   },
   {
    "duration": 6,
    "start_time": "2022-05-31T11:16:15.334Z"
   },
   {
    "duration": 27,
    "start_time": "2022-05-31T11:16:15.342Z"
   },
   {
    "duration": 26,
    "start_time": "2022-05-31T11:16:15.370Z"
   },
   {
    "duration": 7,
    "start_time": "2022-05-31T11:16:15.397Z"
   },
   {
    "duration": 7,
    "start_time": "2022-05-31T11:16:15.405Z"
   },
   {
    "duration": 3,
    "start_time": "2022-05-31T11:16:15.413Z"
   },
   {
    "duration": 5,
    "start_time": "2022-05-31T11:16:15.419Z"
   },
   {
    "duration": 7,
    "start_time": "2022-05-31T11:16:15.425Z"
   },
   {
    "duration": 5,
    "start_time": "2022-05-31T11:16:15.433Z"
   },
   {
    "duration": 308,
    "start_time": "2022-05-31T11:16:15.439Z"
   },
   {
    "duration": 26,
    "start_time": "2022-05-31T11:16:15.749Z"
   },
   {
    "duration": 15,
    "start_time": "2022-05-31T11:16:15.783Z"
   },
   {
    "duration": 10,
    "start_time": "2022-05-31T11:16:15.799Z"
   },
   {
    "duration": 9,
    "start_time": "2022-05-31T11:16:15.810Z"
   },
   {
    "duration": 8,
    "start_time": "2022-05-31T11:16:15.821Z"
   },
   {
    "duration": 6,
    "start_time": "2022-05-31T11:16:15.830Z"
   },
   {
    "duration": 397,
    "start_time": "2022-05-31T11:16:15.837Z"
   },
   {
    "duration": 9,
    "start_time": "2022-05-31T11:16:16.236Z"
   },
   {
    "duration": 24,
    "start_time": "2022-05-31T11:16:16.247Z"
   },
   {
    "duration": 16,
    "start_time": "2022-05-31T11:16:16.272Z"
   },
   {
    "duration": 10,
    "start_time": "2022-05-31T11:16:16.289Z"
   },
   {
    "duration": 126,
    "start_time": "2022-05-31T11:16:16.300Z"
   },
   {
    "duration": 7,
    "start_time": "2022-05-31T11:16:16.428Z"
   },
   {
    "duration": 151,
    "start_time": "2022-05-31T11:16:16.437Z"
   },
   {
    "duration": 8,
    "start_time": "2022-05-31T11:16:16.590Z"
   },
   {
    "duration": 142,
    "start_time": "2022-05-31T11:16:16.600Z"
   },
   {
    "duration": 29,
    "start_time": "2022-05-31T11:16:16.743Z"
   },
   {
    "duration": 133,
    "start_time": "2022-05-31T11:16:16.776Z"
   },
   {
    "duration": 131,
    "start_time": "2022-05-31T11:16:16.910Z"
   },
   {
    "duration": 85,
    "start_time": "2022-05-31T11:16:17.042Z"
   },
   {
    "duration": 7,
    "start_time": "2022-05-31T11:16:17.129Z"
   },
   {
    "duration": 26,
    "start_time": "2022-05-31T11:16:17.138Z"
   },
   {
    "duration": 18,
    "start_time": "2022-05-31T11:16:17.166Z"
   },
   {
    "duration": 9,
    "start_time": "2022-05-31T11:16:17.188Z"
   },
   {
    "duration": 22,
    "start_time": "2022-05-31T11:16:17.198Z"
   },
   {
    "duration": 9,
    "start_time": "2022-05-31T11:16:17.222Z"
   },
   {
    "duration": 12,
    "start_time": "2022-05-31T11:16:17.232Z"
   },
   {
    "duration": 8,
    "start_time": "2022-05-31T11:16:17.245Z"
   },
   {
    "duration": 35,
    "start_time": "2022-05-31T11:16:17.254Z"
   },
   {
    "duration": 416,
    "start_time": "2022-05-31T11:16:17.290Z"
   },
   {
    "duration": 2383,
    "start_time": "2022-05-31T11:16:17.707Z"
   },
   {
    "duration": 11,
    "start_time": "2022-05-31T11:16:20.092Z"
   },
   {
    "duration": 155,
    "start_time": "2022-05-31T11:16:20.104Z"
   },
   {
    "duration": 13,
    "start_time": "2022-05-31T11:16:20.264Z"
   },
   {
    "duration": 194,
    "start_time": "2022-05-31T11:16:20.279Z"
   },
   {
    "duration": 11,
    "start_time": "2022-05-31T11:16:20.475Z"
   },
   {
    "duration": 124,
    "start_time": "2022-05-31T11:16:20.488Z"
   },
   {
    "duration": 10,
    "start_time": "2022-05-31T11:16:20.614Z"
   },
   {
    "duration": 186,
    "start_time": "2022-05-31T11:16:20.626Z"
   },
   {
    "duration": 6,
    "start_time": "2022-05-31T11:16:20.813Z"
   },
   {
    "duration": 18,
    "start_time": "2022-05-31T11:16:20.820Z"
   },
   {
    "duration": 4,
    "start_time": "2022-05-31T11:16:20.840Z"
   },
   {
    "duration": 21,
    "start_time": "2022-05-31T11:16:20.845Z"
   },
   {
    "duration": 32,
    "start_time": "2022-05-31T11:16:20.874Z"
   },
   {
    "duration": 7,
    "start_time": "2022-05-31T11:16:20.908Z"
   },
   {
    "duration": 4,
    "start_time": "2022-05-31T11:16:20.917Z"
   },
   {
    "duration": 182,
    "start_time": "2022-05-31T11:16:20.922Z"
   },
   {
    "duration": 11,
    "start_time": "2022-05-31T11:16:21.105Z"
   },
   {
    "duration": 172,
    "start_time": "2022-05-31T11:16:21.117Z"
   },
   {
    "duration": 7,
    "start_time": "2022-05-31T11:16:21.291Z"
   },
   {
    "duration": 7,
    "start_time": "2022-05-31T11:16:21.300Z"
   },
   {
    "duration": 9,
    "start_time": "2022-05-31T11:16:21.309Z"
   },
   {
    "duration": 2328,
    "start_time": "2022-05-31T11:16:21.319Z"
   },
   {
    "duration": 15,
    "start_time": "2022-05-31T11:16:23.649Z"
   },
   {
    "duration": 151,
    "start_time": "2022-05-31T11:16:23.667Z"
   },
   {
    "duration": 162,
    "start_time": "2022-05-31T11:16:23.820Z"
   },
   {
    "duration": 10,
    "start_time": "2022-05-31T11:16:23.983Z"
   },
   {
    "duration": 149,
    "start_time": "2022-05-31T11:16:23.995Z"
   },
   {
    "duration": 194,
    "start_time": "2022-05-31T11:20:56.051Z"
   },
   {
    "duration": 6,
    "start_time": "2022-05-31T11:22:44.641Z"
   },
   {
    "duration": 70,
    "start_time": "2022-05-31T11:23:52.454Z"
   },
   {
    "duration": 89,
    "start_time": "2022-05-31T11:28:28.364Z"
   },
   {
    "duration": 39,
    "start_time": "2022-05-31T11:34:33.319Z"
   },
   {
    "duration": 10,
    "start_time": "2022-05-31T11:42:03.105Z"
   },
   {
    "duration": 4,
    "start_time": "2022-05-31T11:42:57.486Z"
   },
   {
    "duration": 5,
    "start_time": "2022-05-31T11:43:03.720Z"
   },
   {
    "duration": 8,
    "start_time": "2022-05-31T11:43:06.513Z"
   },
   {
    "duration": 3,
    "start_time": "2022-05-31T11:44:06.430Z"
   },
   {
    "duration": 132,
    "start_time": "2022-05-31T11:44:33.769Z"
   },
   {
    "duration": 136,
    "start_time": "2022-05-31T11:45:25.989Z"
   },
   {
    "duration": 168,
    "start_time": "2022-05-31T11:45:34.783Z"
   },
   {
    "duration": 5,
    "start_time": "2022-05-31T11:46:00.986Z"
   },
   {
    "duration": 154,
    "start_time": "2022-05-31T11:46:39.371Z"
   },
   {
    "duration": 282,
    "start_time": "2022-05-31T11:47:05.258Z"
   },
   {
    "duration": 130,
    "start_time": "2022-05-31T11:47:13.875Z"
   },
   {
    "duration": 145,
    "start_time": "2022-05-31T11:47:31.962Z"
   },
   {
    "duration": 130,
    "start_time": "2022-05-31T11:48:12.441Z"
   },
   {
    "duration": 5,
    "start_time": "2022-05-31T11:49:11.795Z"
   },
   {
    "duration": 4,
    "start_time": "2022-05-31T11:49:23.571Z"
   },
   {
    "duration": 10,
    "start_time": "2022-05-31T12:27:48.196Z"
   },
   {
    "duration": 20,
    "start_time": "2022-05-31T12:30:31.033Z"
   },
   {
    "duration": 42,
    "start_time": "2022-05-31T12:33:46.512Z"
   },
   {
    "duration": 46,
    "start_time": "2022-05-31T12:37:38.789Z"
   },
   {
    "duration": 8,
    "start_time": "2022-05-31T12:41:12.280Z"
   },
   {
    "duration": 8,
    "start_time": "2022-05-31T12:41:39.799Z"
   },
   {
    "duration": 30,
    "start_time": "2022-05-31T12:45:16.639Z"
   },
   {
    "duration": 8,
    "start_time": "2022-05-31T12:46:51.171Z"
   },
   {
    "duration": 23,
    "start_time": "2022-05-31T12:47:35.621Z"
   },
   {
    "duration": 28,
    "start_time": "2022-05-31T12:50:11.064Z"
   },
   {
    "duration": 29,
    "start_time": "2022-05-31T12:54:45.563Z"
   },
   {
    "duration": 11,
    "start_time": "2023-08-22T15:02:06.941Z"
   },
   {
    "duration": 62,
    "start_time": "2023-08-22T15:02:07.706Z"
   },
   {
    "duration": 449,
    "start_time": "2023-08-22T15:02:18.082Z"
   },
   {
    "duration": 300,
    "start_time": "2023-08-22T15:02:18.533Z"
   },
   {
    "duration": 78,
    "start_time": "2023-08-22T15:02:18.834Z"
   },
   {
    "duration": 31,
    "start_time": "2023-08-22T15:02:18.914Z"
   },
   {
    "duration": 16,
    "start_time": "2023-08-22T15:02:18.948Z"
   },
   {
    "duration": 10,
    "start_time": "2023-08-22T15:02:18.966Z"
   },
   {
    "duration": 34,
    "start_time": "2023-08-22T15:02:18.978Z"
   },
   {
    "duration": 20,
    "start_time": "2023-08-22T15:02:19.014Z"
   },
   {
    "duration": 16,
    "start_time": "2023-08-22T15:02:19.036Z"
   },
   {
    "duration": 13,
    "start_time": "2023-08-22T15:02:19.054Z"
   },
   {
    "duration": 17,
    "start_time": "2023-08-22T15:02:19.069Z"
   },
   {
    "duration": 20,
    "start_time": "2023-08-22T15:02:19.088Z"
   },
   {
    "duration": 20,
    "start_time": "2023-08-22T15:02:19.110Z"
   },
   {
    "duration": 5,
    "start_time": "2023-08-22T15:02:19.135Z"
   },
   {
    "duration": 9,
    "start_time": "2023-08-22T15:02:19.142Z"
   },
   {
    "duration": 13,
    "start_time": "2023-08-22T15:02:19.152Z"
   },
   {
    "duration": 14,
    "start_time": "2023-08-22T15:02:19.166Z"
   },
   {
    "duration": 16,
    "start_time": "2023-08-22T15:02:19.182Z"
   },
   {
    "duration": 347,
    "start_time": "2023-08-22T15:02:19.199Z"
   },
   {
    "duration": 19,
    "start_time": "2023-08-22T15:02:19.548Z"
   },
   {
    "duration": 10,
    "start_time": "2023-08-22T15:02:19.570Z"
   },
   {
    "duration": 27,
    "start_time": "2023-08-22T15:02:19.582Z"
   },
   {
    "duration": 7,
    "start_time": "2023-08-22T15:02:19.611Z"
   },
   {
    "duration": 14,
    "start_time": "2023-08-22T15:02:19.620Z"
   },
   {
    "duration": 12,
    "start_time": "2023-08-22T15:02:19.636Z"
   },
   {
    "duration": 422,
    "start_time": "2023-08-22T15:02:19.650Z"
   },
   {
    "duration": 10,
    "start_time": "2023-08-22T15:02:20.073Z"
   },
   {
    "duration": 31,
    "start_time": "2023-08-22T15:02:20.085Z"
   },
   {
    "duration": 7,
    "start_time": "2023-08-22T15:02:20.118Z"
   },
   {
    "duration": 39,
    "start_time": "2023-08-22T15:02:20.127Z"
   },
   {
    "duration": 151,
    "start_time": "2023-08-22T15:02:20.168Z"
   },
   {
    "duration": 8,
    "start_time": "2023-08-22T15:02:20.321Z"
   },
   {
    "duration": 202,
    "start_time": "2023-08-22T15:02:20.330Z"
   },
   {
    "duration": 9,
    "start_time": "2023-08-22T15:02:20.534Z"
   },
   {
    "duration": 177,
    "start_time": "2023-08-22T15:02:20.545Z"
   },
   {
    "duration": 10,
    "start_time": "2023-08-22T15:02:20.724Z"
   },
   {
    "duration": 176,
    "start_time": "2023-08-22T15:02:20.735Z"
   },
   {
    "duration": 151,
    "start_time": "2023-08-22T15:02:20.913Z"
   },
   {
    "duration": 17,
    "start_time": "2023-08-22T15:02:21.066Z"
   },
   {
    "duration": 25,
    "start_time": "2023-08-22T15:02:21.085Z"
   },
   {
    "duration": 10,
    "start_time": "2023-08-22T15:02:21.115Z"
   },
   {
    "duration": 4,
    "start_time": "2023-08-22T15:02:21.127Z"
   },
   {
    "duration": 25,
    "start_time": "2023-08-22T15:02:21.132Z"
   },
   {
    "duration": 37,
    "start_time": "2023-08-22T15:02:21.159Z"
   },
   {
    "duration": 12,
    "start_time": "2023-08-22T15:02:21.198Z"
   },
   {
    "duration": 14,
    "start_time": "2023-08-22T15:02:21.212Z"
   },
   {
    "duration": 5,
    "start_time": "2023-08-22T15:02:21.228Z"
   },
   {
    "duration": 7,
    "start_time": "2023-08-22T15:02:21.235Z"
   },
   {
    "duration": 566,
    "start_time": "2023-08-22T15:02:21.243Z"
   },
   {
    "duration": 2294,
    "start_time": "2023-08-22T15:02:21.811Z"
   },
   {
    "duration": 11,
    "start_time": "2023-08-22T15:02:24.110Z"
   },
   {
    "duration": 172,
    "start_time": "2023-08-22T15:02:24.123Z"
   },
   {
    "duration": 12,
    "start_time": "2023-08-22T15:02:24.297Z"
   },
   {
    "duration": 182,
    "start_time": "2023-08-22T15:02:24.311Z"
   },
   {
    "duration": 16,
    "start_time": "2023-08-22T15:02:24.495Z"
   },
   {
    "duration": 147,
    "start_time": "2023-08-22T15:02:24.513Z"
   },
   {
    "duration": 11,
    "start_time": "2023-08-22T15:02:24.662Z"
   },
   {
    "duration": 281,
    "start_time": "2023-08-22T15:02:24.675Z"
   },
   {
    "duration": 6,
    "start_time": "2023-08-22T15:02:24.957Z"
   },
   {
    "duration": 22,
    "start_time": "2023-08-22T15:02:24.965Z"
   },
   {
    "duration": 3,
    "start_time": "2023-08-22T15:02:24.989Z"
   },
   {
    "duration": 8,
    "start_time": "2023-08-22T15:02:25.009Z"
   },
   {
    "duration": 9,
    "start_time": "2023-08-22T15:02:25.019Z"
   },
   {
    "duration": 21,
    "start_time": "2023-08-22T15:02:25.030Z"
   },
   {
    "duration": 14,
    "start_time": "2023-08-22T15:02:25.053Z"
   },
   {
    "duration": 20,
    "start_time": "2023-08-22T15:02:25.069Z"
   },
   {
    "duration": 194,
    "start_time": "2023-08-22T15:02:25.091Z"
   },
   {
    "duration": 12,
    "start_time": "2023-08-22T15:02:25.287Z"
   },
   {
    "duration": 13,
    "start_time": "2023-08-22T15:02:25.310Z"
   },
   {
    "duration": 7,
    "start_time": "2023-08-22T15:02:25.325Z"
   },
   {
    "duration": 9,
    "start_time": "2023-08-22T15:02:25.334Z"
   },
   {
    "duration": 2322,
    "start_time": "2023-08-22T15:02:25.345Z"
   },
   {
    "duration": 11,
    "start_time": "2023-08-22T15:02:27.668Z"
   },
   {
    "duration": 148,
    "start_time": "2023-08-22T15:02:27.681Z"
   },
   {
    "duration": 170,
    "start_time": "2023-08-22T15:02:27.831Z"
   },
   {
    "duration": 13,
    "start_time": "2023-08-22T15:02:28.002Z"
   },
   {
    "duration": 260,
    "start_time": "2023-08-22T15:02:28.016Z"
   },
   {
    "duration": 178,
    "start_time": "2023-08-22T15:08:15.617Z"
   },
   {
    "duration": 136,
    "start_time": "2023-08-22T15:11:20.670Z"
   },
   {
    "duration": 161,
    "start_time": "2023-08-22T15:11:44.598Z"
   },
   {
    "duration": 3,
    "start_time": "2023-08-22T15:12:04.068Z"
   },
   {
    "duration": 9,
    "start_time": "2023-08-22T15:12:04.765Z"
   },
   {
    "duration": 158,
    "start_time": "2023-08-22T15:12:08.966Z"
   },
   {
    "duration": 4,
    "start_time": "2023-08-22T15:12:14.915Z"
   },
   {
    "duration": 10,
    "start_time": "2023-08-22T15:12:15.203Z"
   },
   {
    "duration": 10,
    "start_time": "2023-08-22T15:12:21.715Z"
   },
   {
    "duration": 178,
    "start_time": "2023-08-22T15:12:24.420Z"
   },
   {
    "duration": 136,
    "start_time": "2023-08-22T15:12:31.339Z"
   },
   {
    "duration": 127,
    "start_time": "2023-08-22T15:12:38.522Z"
   },
   {
    "duration": 222,
    "start_time": "2023-08-22T15:17:00.548Z"
   },
   {
    "duration": 70,
    "start_time": "2023-08-22T15:32:52.424Z"
   }
  ],
  "kernelspec": {
   "display_name": "Python 3 (ipykernel)",
   "language": "python",
   "name": "python3"
  },
  "language_info": {
   "codemirror_mode": {
    "name": "ipython",
    "version": 3
   },
   "file_extension": ".py",
   "mimetype": "text/x-python",
   "name": "python",
   "nbconvert_exporter": "python",
   "pygments_lexer": "ipython3",
   "version": "3.9.5"
  },
  "toc": {
   "base_numbering": 1,
   "nav_menu": {},
   "number_sections": true,
   "sideBar": true,
   "skip_h1_title": true,
   "title_cell": "Содержание",
   "title_sidebar": "Contents",
   "toc_cell": true,
   "toc_position": {
    "height": "calc(100% - 180px)",
    "left": "10px",
    "top": "150px",
    "width": "238.396px"
   },
   "toc_section_display": true,
   "toc_window_display": true
  }
 },
 "nbformat": 4,
 "nbformat_minor": 4
}
